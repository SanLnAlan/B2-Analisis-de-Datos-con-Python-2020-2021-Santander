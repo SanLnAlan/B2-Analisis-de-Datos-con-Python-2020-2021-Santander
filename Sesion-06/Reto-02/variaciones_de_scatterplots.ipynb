{
 "cells": [
  {
   "cell_type": "markdown",
   "source": "## Reto 2: Variaciones de scatterplots\n\n### 1. Objetivos:\n    - Aprender a generar e interpretar un par de variantes de las gráficas de dispersión\n \n---\n    \n### 2. Desarrollo:",
   "metadata": {
    "cell_id": "00000-f0da5850-cdc9-4b8b-a84c-0c31780f0bb6",
    "deepnote_cell_type": "markdown"
   }
  },
  {
   "cell_type": "code",
   "metadata": {
    "cell_id": "00001-1d59df27-5c7a-4722-91f5-60e0407de813",
    "deepnote_to_be_reexecuted": false,
    "source_hash": "bfc0ddb6",
    "execution_start": 1632161527990,
    "execution_millis": 1373,
    "deepnote_cell_type": "code"
   },
   "source": "import pandas as pd\nimport seaborn as sns\nimport matplotlib.pyplot as plt",
   "outputs": [],
   "execution_count": null
  },
  {
   "cell_type": "markdown",
   "source": "### a) Explorando determinantes de calidad en vinos rojos\n\nVamos a utilizar el dataset 'wine_quality_red-clean.csv' para ver si podemos descubrir algunas de las características que hacen que un vino tenga más o menos calidad.\n\nCada fila en el dataset contiene información acerca de un tipo de vino y una clasificación de calidad ('quality'). Queremos explorar un poco las relaciones entre las variables independientes para ver si hay alguna relación que explique un poco la diferencia de calidad.\n\nTu Reto consiste en lo siguiente:\n\n1. Elige un par de variables independientes que creas que podrían explicar la calidad de un vino.\n2. Genera un scatterplot por categorías utilizando las dos variables que elegiste y la variable 'quality' para determinar el color de tus puntos. Asegúrate de que tu gráfica tenga el título y nombres de ejes adecuados. Elige también una paleta de colores que te sean agradables.\n3. Utilizando esta gráfica, evalúa si crees que la relación entre estas dos variables explica aunque sea moderamente la diferencia de calidad en los vinos. Si no crees que las variables expliquen la calidad en lo más mínimo, repite los pasos 1 y 2 usando un par distinto de variables.\n4. Una vez que encuentres un par de variables que expliquen moderadamente la calidad del vino (remarco la palabra 'moderadamente'), genera una serie de scatterplots con variable condicionante para explorar más a detalle la relación. Realiza una gráfica por cada puntaje de calidad. Asegúrate de que cada gráfica tenga el nombre adecuado y de que todo el conjunto sea agradable a la vista y fácil de interpretar.\n5. Comenta con tus compañeros y la experta tus hallazgos.",
   "metadata": {
    "cell_id": "00002-5eebd5f7-5f8e-4508-b3f5-42027e471dde",
    "deepnote_cell_type": "markdown"
   }
  },
  {
   "cell_type": "code",
   "metadata": {
    "tags": [],
    "cell_id": "00003-40a8cc29-b825-49dd-b5ba-9b812950b8fc",
    "deepnote_to_be_reexecuted": false,
    "source_hash": "202d0cf4",
    "execution_start": 1632161533672,
    "execution_millis": 66,
    "deepnote_cell_type": "code"
   },
   "source": "df = pd.read_csv('/work/B2-Analisis-de-Datos-con-Python-2020-2021-Santander/Datasets/wine_quality_red-clean.csv', index_col=0)\ndf.head()",
   "outputs": [
    {
     "output_type": "execute_result",
     "execution_count": 3,
     "data": {
      "application/vnd.deepnote.dataframe.v2+json": {
       "row_count": 5,
       "column_count": 12,
       "columns": [
        {
         "name": "fixed_acidity",
         "dtype": "float64",
         "stats": {
          "unique_count": 3,
          "nan_count": 0,
          "min": "7.4",
          "max": "11.2",
          "histogram": [
           {
            "bin_start": 7.4,
            "bin_end": 7.78,
            "count": 2
           },
           {
            "bin_start": 7.78,
            "bin_end": 8.16,
            "count": 2
           },
           {
            "bin_start": 8.16,
            "bin_end": 8.54,
            "count": 0
           },
           {
            "bin_start": 8.54,
            "bin_end": 8.92,
            "count": 0
           },
           {
            "bin_start": 8.92,
            "bin_end": 9.3,
            "count": 0
           },
           {
            "bin_start": 9.3,
            "bin_end": 9.68,
            "count": 0
           },
           {
            "bin_start": 9.68,
            "bin_end": 10.059999999999999,
            "count": 0
           },
           {
            "bin_start": 10.059999999999999,
            "bin_end": 10.44,
            "count": 0
           },
           {
            "bin_start": 10.44,
            "bin_end": 10.82,
            "count": 0
           },
           {
            "bin_start": 10.82,
            "bin_end": 11.2,
            "count": 1
           }
          ]
         }
        },
        {
         "name": "volatile_acidity",
         "dtype": "float64",
         "stats": {
          "unique_count": 4,
          "nan_count": 0,
          "min": "0.28",
          "max": "0.88",
          "histogram": [
           {
            "bin_start": 0.28,
            "bin_end": 0.34,
            "count": 1
           },
           {
            "bin_start": 0.34,
            "bin_end": 0.4,
            "count": 0
           },
           {
            "bin_start": 0.4,
            "bin_end": 0.46,
            "count": 0
           },
           {
            "bin_start": 0.46,
            "bin_end": 0.52,
            "count": 0
           },
           {
            "bin_start": 0.52,
            "bin_end": 0.5800000000000001,
            "count": 0
           },
           {
            "bin_start": 0.5800000000000001,
            "bin_end": 0.64,
            "count": 0
           },
           {
            "bin_start": 0.64,
            "bin_end": 0.7,
            "count": 0
           },
           {
            "bin_start": 0.7,
            "bin_end": 0.76,
            "count": 2
           },
           {
            "bin_start": 0.76,
            "bin_end": 0.8200000000000001,
            "count": 1
           },
           {
            "bin_start": 0.8200000000000001,
            "bin_end": 0.88,
            "count": 1
           }
          ]
         }
        },
        {
         "name": "citric_acid",
         "dtype": "float64",
         "stats": {
          "unique_count": 3,
          "nan_count": 0,
          "min": "0.0",
          "max": "0.56",
          "histogram": [
           {
            "bin_start": 0,
            "bin_end": 0.05600000000000001,
            "count": 4
           },
           {
            "bin_start": 0.05600000000000001,
            "bin_end": 0.11200000000000002,
            "count": 0
           },
           {
            "bin_start": 0.11200000000000002,
            "bin_end": 0.16800000000000004,
            "count": 0
           },
           {
            "bin_start": 0.16800000000000004,
            "bin_end": 0.22400000000000003,
            "count": 0
           },
           {
            "bin_start": 0.22400000000000003,
            "bin_end": 0.28,
            "count": 0
           },
           {
            "bin_start": 0.28,
            "bin_end": 0.3360000000000001,
            "count": 0
           },
           {
            "bin_start": 0.3360000000000001,
            "bin_end": 0.39200000000000007,
            "count": 0
           },
           {
            "bin_start": 0.39200000000000007,
            "bin_end": 0.44800000000000006,
            "count": 0
           },
           {
            "bin_start": 0.44800000000000006,
            "bin_end": 0.5040000000000001,
            "count": 0
           },
           {
            "bin_start": 0.5040000000000001,
            "bin_end": 0.56,
            "count": 1
           }
          ]
         }
        },
        {
         "name": "residual_sugar",
         "dtype": "float64",
         "stats": {
          "unique_count": 3,
          "nan_count": 0,
          "min": "1.9",
          "max": "2.6",
          "histogram": [
           {
            "bin_start": 1.9,
            "bin_end": 1.97,
            "count": 3
           },
           {
            "bin_start": 1.97,
            "bin_end": 2.04,
            "count": 0
           },
           {
            "bin_start": 2.04,
            "bin_end": 2.11,
            "count": 0
           },
           {
            "bin_start": 2.11,
            "bin_end": 2.18,
            "count": 0
           },
           {
            "bin_start": 2.18,
            "bin_end": 2.25,
            "count": 0
           },
           {
            "bin_start": 2.25,
            "bin_end": 2.3200000000000003,
            "count": 1
           },
           {
            "bin_start": 2.3200000000000003,
            "bin_end": 2.39,
            "count": 0
           },
           {
            "bin_start": 2.39,
            "bin_end": 2.46,
            "count": 0
           },
           {
            "bin_start": 2.46,
            "bin_end": 2.5300000000000002,
            "count": 0
           },
           {
            "bin_start": 2.5300000000000002,
            "bin_end": 2.6,
            "count": 1
           }
          ]
         }
        },
        {
         "name": "chlorides",
         "dtype": "float64",
         "stats": {
          "unique_count": 4,
          "nan_count": 0,
          "min": "0.075",
          "max": "0.098",
          "histogram": [
           {
            "bin_start": 0.075,
            "bin_end": 0.0773,
            "count": 3
           },
           {
            "bin_start": 0.0773,
            "bin_end": 0.0796,
            "count": 0
           },
           {
            "bin_start": 0.0796,
            "bin_end": 0.0819,
            "count": 0
           },
           {
            "bin_start": 0.0819,
            "bin_end": 0.0842,
            "count": 0
           },
           {
            "bin_start": 0.0842,
            "bin_end": 0.0865,
            "count": 0
           },
           {
            "bin_start": 0.0865,
            "bin_end": 0.0888,
            "count": 0
           },
           {
            "bin_start": 0.0888,
            "bin_end": 0.0911,
            "count": 0
           },
           {
            "bin_start": 0.0911,
            "bin_end": 0.09340000000000001,
            "count": 1
           },
           {
            "bin_start": 0.09340000000000001,
            "bin_end": 0.09570000000000001,
            "count": 0
           },
           {
            "bin_start": 0.09570000000000001,
            "bin_end": 0.098,
            "count": 1
           }
          ]
         }
        },
        {
         "name": "free_sulfur_dioxide",
         "dtype": "float64",
         "stats": {
          "unique_count": 4,
          "nan_count": 0,
          "min": "11.0",
          "max": "25.0",
          "histogram": [
           {
            "bin_start": 11,
            "bin_end": 12.4,
            "count": 2
           },
           {
            "bin_start": 12.4,
            "bin_end": 13.8,
            "count": 0
           },
           {
            "bin_start": 13.8,
            "bin_end": 15.2,
            "count": 1
           },
           {
            "bin_start": 15.2,
            "bin_end": 16.6,
            "count": 0
           },
           {
            "bin_start": 16.6,
            "bin_end": 18,
            "count": 1
           },
           {
            "bin_start": 18,
            "bin_end": 19.4,
            "count": 0
           },
           {
            "bin_start": 19.4,
            "bin_end": 20.799999999999997,
            "count": 0
           },
           {
            "bin_start": 20.799999999999997,
            "bin_end": 22.2,
            "count": 0
           },
           {
            "bin_start": 22.2,
            "bin_end": 23.6,
            "count": 0
           },
           {
            "bin_start": 23.6,
            "bin_end": 25,
            "count": 1
           }
          ]
         }
        },
        {
         "name": "total_sulfur_dioxide",
         "dtype": "float64",
         "stats": {
          "unique_count": 4,
          "nan_count": 0,
          "min": "34.0",
          "max": "67.0",
          "histogram": [
           {
            "bin_start": 34,
            "bin_end": 37.3,
            "count": 2
           },
           {
            "bin_start": 37.3,
            "bin_end": 40.6,
            "count": 0
           },
           {
            "bin_start": 40.6,
            "bin_end": 43.9,
            "count": 0
           },
           {
            "bin_start": 43.9,
            "bin_end": 47.2,
            "count": 0
           },
           {
            "bin_start": 47.2,
            "bin_end": 50.5,
            "count": 0
           },
           {
            "bin_start": 50.5,
            "bin_end": 53.8,
            "count": 0
           },
           {
            "bin_start": 53.8,
            "bin_end": 57.099999999999994,
            "count": 1
           },
           {
            "bin_start": 57.099999999999994,
            "bin_end": 60.4,
            "count": 1
           },
           {
            "bin_start": 60.4,
            "bin_end": 63.7,
            "count": 0
           },
           {
            "bin_start": 63.7,
            "bin_end": 67,
            "count": 1
           }
          ]
         }
        },
        {
         "name": "density",
         "dtype": "float64",
         "stats": {
          "unique_count": 4,
          "nan_count": 0,
          "min": "0.9968",
          "max": "0.998",
          "histogram": [
           {
            "bin_start": 0.9968,
            "bin_end": 0.99692,
            "count": 1
           },
           {
            "bin_start": 0.99692,
            "bin_end": 0.99704,
            "count": 1
           },
           {
            "bin_start": 0.99704,
            "bin_end": 0.99716,
            "count": 0
           },
           {
            "bin_start": 0.99716,
            "bin_end": 0.99728,
            "count": 0
           },
           {
            "bin_start": 0.99728,
            "bin_end": 0.9974000000000001,
            "count": 0
           },
           {
            "bin_start": 0.9974000000000001,
            "bin_end": 0.99752,
            "count": 0
           },
           {
            "bin_start": 0.99752,
            "bin_end": 0.99764,
            "count": 0
           },
           {
            "bin_start": 0.99764,
            "bin_end": 0.99776,
            "count": 0
           },
           {
            "bin_start": 0.99776,
            "bin_end": 0.99788,
            "count": 2
           },
           {
            "bin_start": 0.99788,
            "bin_end": 0.998,
            "count": 1
           }
          ]
         }
        },
        {
         "name": "pH",
         "dtype": "float64",
         "stats": {
          "unique_count": 4,
          "nan_count": 0,
          "min": "3.16",
          "max": "3.51",
          "histogram": [
           {
            "bin_start": 3.16,
            "bin_end": 3.1950000000000003,
            "count": 1
           },
           {
            "bin_start": 3.1950000000000003,
            "bin_end": 3.23,
            "count": 1
           },
           {
            "bin_start": 3.23,
            "bin_end": 3.265,
            "count": 1
           },
           {
            "bin_start": 3.265,
            "bin_end": 3.3,
            "count": 0
           },
           {
            "bin_start": 3.3,
            "bin_end": 3.335,
            "count": 0
           },
           {
            "bin_start": 3.335,
            "bin_end": 3.37,
            "count": 0
           },
           {
            "bin_start": 3.37,
            "bin_end": 3.405,
            "count": 0
           },
           {
            "bin_start": 3.405,
            "bin_end": 3.44,
            "count": 0
           },
           {
            "bin_start": 3.44,
            "bin_end": 3.4749999999999996,
            "count": 0
           },
           {
            "bin_start": 3.4749999999999996,
            "bin_end": 3.51,
            "count": 2
           }
          ]
         }
        },
        {
         "name": "sulphates",
         "dtype": "float64",
         "stats": {
          "unique_count": 4,
          "nan_count": 0,
          "min": "0.56",
          "max": "0.68",
          "histogram": [
           {
            "bin_start": 0.56,
            "bin_end": 0.5720000000000001,
            "count": 2
           },
           {
            "bin_start": 0.5720000000000001,
            "bin_end": 0.5840000000000001,
            "count": 1
           },
           {
            "bin_start": 0.5840000000000001,
            "bin_end": 0.5960000000000001,
            "count": 0
           },
           {
            "bin_start": 0.5960000000000001,
            "bin_end": 0.6080000000000001,
            "count": 0
           },
           {
            "bin_start": 0.6080000000000001,
            "bin_end": 0.6200000000000001,
            "count": 0
           },
           {
            "bin_start": 0.6200000000000001,
            "bin_end": 0.6320000000000001,
            "count": 0
           },
           {
            "bin_start": 0.6320000000000001,
            "bin_end": 0.644,
            "count": 0
           },
           {
            "bin_start": 0.644,
            "bin_end": 0.656,
            "count": 1
           },
           {
            "bin_start": 0.656,
            "bin_end": 0.668,
            "count": 0
           },
           {
            "bin_start": 0.668,
            "bin_end": 0.68,
            "count": 1
           }
          ]
         }
        },
        {
         "name": "alcohol",
         "dtype": "float64",
         "stats": {
          "unique_count": 2,
          "nan_count": 0,
          "min": "9.4",
          "max": "9.8",
          "histogram": [
           {
            "bin_start": 9.4,
            "bin_end": 9.440000000000001,
            "count": 2
           },
           {
            "bin_start": 9.440000000000001,
            "bin_end": 9.48,
            "count": 0
           },
           {
            "bin_start": 9.48,
            "bin_end": 9.52,
            "count": 0
           },
           {
            "bin_start": 9.52,
            "bin_end": 9.56,
            "count": 0
           },
           {
            "bin_start": 9.56,
            "bin_end": 9.600000000000001,
            "count": 0
           },
           {
            "bin_start": 9.600000000000001,
            "bin_end": 9.64,
            "count": 0
           },
           {
            "bin_start": 9.64,
            "bin_end": 9.68,
            "count": 0
           },
           {
            "bin_start": 9.68,
            "bin_end": 9.72,
            "count": 0
           },
           {
            "bin_start": 9.72,
            "bin_end": 9.760000000000002,
            "count": 0
           },
           {
            "bin_start": 9.760000000000002,
            "bin_end": 9.8,
            "count": 3
           }
          ]
         }
        },
        {
         "name": "quality",
         "dtype": "int64",
         "stats": {
          "unique_count": 2,
          "nan_count": 0,
          "min": "5",
          "max": "6",
          "histogram": [
           {
            "bin_start": 5,
            "bin_end": 5.1,
            "count": 4
           },
           {
            "bin_start": 5.1,
            "bin_end": 5.2,
            "count": 0
           },
           {
            "bin_start": 5.2,
            "bin_end": 5.3,
            "count": 0
           },
           {
            "bin_start": 5.3,
            "bin_end": 5.4,
            "count": 0
           },
           {
            "bin_start": 5.4,
            "bin_end": 5.5,
            "count": 0
           },
           {
            "bin_start": 5.5,
            "bin_end": 5.6,
            "count": 0
           },
           {
            "bin_start": 5.6,
            "bin_end": 5.7,
            "count": 0
           },
           {
            "bin_start": 5.7,
            "bin_end": 5.8,
            "count": 0
           },
           {
            "bin_start": 5.8,
            "bin_end": 5.9,
            "count": 0
           },
           {
            "bin_start": 5.9,
            "bin_end": 6,
            "count": 1
           }
          ]
         }
        },
        {
         "name": "_deepnote_index_column",
         "dtype": "int64"
        }
       ],
       "rows_top": [
        {
         "fixed_acidity": 7.4,
         "volatile_acidity": 0.7,
         "citric_acid": 0,
         "residual_sugar": 1.9,
         "chlorides": 0.076,
         "free_sulfur_dioxide": 11,
         "total_sulfur_dioxide": 34,
         "density": 0.9978,
         "pH": 3.51,
         "sulphates": 0.56,
         "alcohol": 9.4,
         "quality": 5,
         "_deepnote_index_column": 0
        },
        {
         "fixed_acidity": 7.8,
         "volatile_acidity": 0.88,
         "citric_acid": 0,
         "residual_sugar": 2.6,
         "chlorides": 0.098,
         "free_sulfur_dioxide": 25,
         "total_sulfur_dioxide": 67,
         "density": 0.9968,
         "pH": 3.2,
         "sulphates": 0.68,
         "alcohol": 9.8,
         "quality": 5,
         "_deepnote_index_column": 1
        },
        {
         "fixed_acidity": 7.8,
         "volatile_acidity": 0.76,
         "citric_acid": 0.04,
         "residual_sugar": 2.3,
         "chlorides": 0.092,
         "free_sulfur_dioxide": 15,
         "total_sulfur_dioxide": 54,
         "density": 0.997,
         "pH": 3.26,
         "sulphates": 0.65,
         "alcohol": 9.8,
         "quality": 5,
         "_deepnote_index_column": 2
        },
        {
         "fixed_acidity": 11.2,
         "volatile_acidity": 0.28,
         "citric_acid": 0.56,
         "residual_sugar": 1.9,
         "chlorides": 0.075,
         "free_sulfur_dioxide": 17,
         "total_sulfur_dioxide": 60,
         "density": 0.998,
         "pH": 3.16,
         "sulphates": 0.58,
         "alcohol": 9.8,
         "quality": 6,
         "_deepnote_index_column": 3
        },
        {
         "fixed_acidity": 7.4,
         "volatile_acidity": 0.7,
         "citric_acid": 0,
         "residual_sugar": 1.9,
         "chlorides": 0.076,
         "free_sulfur_dioxide": 11,
         "total_sulfur_dioxide": 34,
         "density": 0.9978,
         "pH": 3.51,
         "sulphates": 0.56,
         "alcohol": 9.4,
         "quality": 5,
         "_deepnote_index_column": 4
        }
       ],
       "rows_bottom": null
      },
      "text/plain": "   fixed_acidity  volatile_acidity  citric_acid  residual_sugar  chlorides  \\\n0            7.4              0.70         0.00             1.9      0.076   \n1            7.8              0.88         0.00             2.6      0.098   \n2            7.8              0.76         0.04             2.3      0.092   \n3           11.2              0.28         0.56             1.9      0.075   \n4            7.4              0.70         0.00             1.9      0.076   \n\n   free_sulfur_dioxide  total_sulfur_dioxide  density    pH  sulphates  \\\n0                 11.0                  34.0   0.9978  3.51       0.56   \n1                 25.0                  67.0   0.9968  3.20       0.68   \n2                 15.0                  54.0   0.9970  3.26       0.65   \n3                 17.0                  60.0   0.9980  3.16       0.58   \n4                 11.0                  34.0   0.9978  3.51       0.56   \n\n   alcohol  quality  \n0      9.4        5  \n1      9.8        5  \n2      9.8        5  \n3      9.8        6  \n4      9.4        5  ",
      "text/html": "<div>\n<style scoped>\n    .dataframe tbody tr th:only-of-type {\n        vertical-align: middle;\n    }\n\n    .dataframe tbody tr th {\n        vertical-align: top;\n    }\n\n    .dataframe thead th {\n        text-align: right;\n    }\n</style>\n<table border=\"1\" class=\"dataframe\">\n  <thead>\n    <tr style=\"text-align: right;\">\n      <th></th>\n      <th>fixed_acidity</th>\n      <th>volatile_acidity</th>\n      <th>citric_acid</th>\n      <th>residual_sugar</th>\n      <th>chlorides</th>\n      <th>free_sulfur_dioxide</th>\n      <th>total_sulfur_dioxide</th>\n      <th>density</th>\n      <th>pH</th>\n      <th>sulphates</th>\n      <th>alcohol</th>\n      <th>quality</th>\n    </tr>\n  </thead>\n  <tbody>\n    <tr>\n      <th>0</th>\n      <td>7.4</td>\n      <td>0.70</td>\n      <td>0.00</td>\n      <td>1.9</td>\n      <td>0.076</td>\n      <td>11.0</td>\n      <td>34.0</td>\n      <td>0.9978</td>\n      <td>3.51</td>\n      <td>0.56</td>\n      <td>9.4</td>\n      <td>5</td>\n    </tr>\n    <tr>\n      <th>1</th>\n      <td>7.8</td>\n      <td>0.88</td>\n      <td>0.00</td>\n      <td>2.6</td>\n      <td>0.098</td>\n      <td>25.0</td>\n      <td>67.0</td>\n      <td>0.9968</td>\n      <td>3.20</td>\n      <td>0.68</td>\n      <td>9.8</td>\n      <td>5</td>\n    </tr>\n    <tr>\n      <th>2</th>\n      <td>7.8</td>\n      <td>0.76</td>\n      <td>0.04</td>\n      <td>2.3</td>\n      <td>0.092</td>\n      <td>15.0</td>\n      <td>54.0</td>\n      <td>0.9970</td>\n      <td>3.26</td>\n      <td>0.65</td>\n      <td>9.8</td>\n      <td>5</td>\n    </tr>\n    <tr>\n      <th>3</th>\n      <td>11.2</td>\n      <td>0.28</td>\n      <td>0.56</td>\n      <td>1.9</td>\n      <td>0.075</td>\n      <td>17.0</td>\n      <td>60.0</td>\n      <td>0.9980</td>\n      <td>3.16</td>\n      <td>0.58</td>\n      <td>9.8</td>\n      <td>6</td>\n    </tr>\n    <tr>\n      <th>4</th>\n      <td>7.4</td>\n      <td>0.70</td>\n      <td>0.00</td>\n      <td>1.9</td>\n      <td>0.076</td>\n      <td>11.0</td>\n      <td>34.0</td>\n      <td>0.9978</td>\n      <td>3.51</td>\n      <td>0.56</td>\n      <td>9.4</td>\n      <td>5</td>\n    </tr>\n  </tbody>\n</table>\n</div>"
     },
     "metadata": {}
    }
   ],
   "execution_count": null
  },
  {
   "cell_type": "code",
   "metadata": {
    "tags": [],
    "cell_id": "00004-f43772ab-233a-4ce6-b5e1-d3c790de509c",
    "deepnote_to_be_reexecuted": false,
    "source_hash": "f8453a83",
    "execution_start": 1631918268101,
    "execution_millis": 114,
    "deepnote_cell_type": "code"
   },
   "source": "df.corr()",
   "execution_count": null,
   "outputs": [
    {
     "output_type": "execute_result",
     "execution_count": 3,
     "data": {
      "application/vnd.deepnote.dataframe.v2+json": {
       "row_count": 13,
       "column_count": 13,
       "columns": [
        {
         "name": "Unnamed: 0",
         "dtype": "float64",
         "stats": {
          "unique_count": 13,
          "nan_count": 0,
          "min": "-0.3683720871786744",
          "max": "1.0",
          "histogram": [
           {
            "bin_start": -0.3683720871786744,
            "bin_end": -0.23153487846080698,
            "count": 2
           },
           {
            "bin_start": -0.23153487846080698,
            "bin_end": -0.09469766974293953,
            "count": 4
           },
           {
            "bin_start": -0.09469766974293953,
            "bin_end": 0.04213953897492795,
            "count": 2
           },
           {
            "bin_start": 0.04213953897492795,
            "bin_end": 0.17897674769279537,
            "count": 3
           },
           {
            "bin_start": 0.17897674769279537,
            "bin_end": 0.3158139564106628,
            "count": 1
           },
           {
            "bin_start": 0.3158139564106628,
            "bin_end": 0.4526511651285303,
            "count": 0
           },
           {
            "bin_start": 0.4526511651285303,
            "bin_end": 0.5894883738463977,
            "count": 0
           },
           {
            "bin_start": 0.5894883738463977,
            "bin_end": 0.7263255825642652,
            "count": 0
           },
           {
            "bin_start": 0.7263255825642652,
            "bin_end": 0.8631627912821327,
            "count": 0
           },
           {
            "bin_start": 0.8631627912821327,
            "bin_end": 1,
            "count": 1
           }
          ]
         }
        },
        {
         "name": "fixed_acidity",
         "dtype": "float64",
         "stats": {
          "unique_count": 13,
          "nan_count": 0,
          "min": "-0.6829781945685302",
          "max": "1.0",
          "histogram": [
           {
            "bin_start": -0.6829781945685302,
            "bin_end": -0.5146803751116771,
            "count": 1
           },
           {
            "bin_start": -0.5146803751116771,
            "bin_end": -0.3463825556548241,
            "count": 0
           },
           {
            "bin_start": -0.3463825556548241,
            "bin_end": -0.17808473619797105,
            "count": 2
           },
           {
            "bin_start": -0.17808473619797105,
            "bin_end": -0.00978691674111809,
            "count": 3
           },
           {
            "bin_start": -0.00978691674111809,
            "bin_end": 0.15851090271573487,
            "count": 3
           },
           {
            "bin_start": 0.15851090271573487,
            "bin_end": 0.32680872217258805,
            "count": 1
           },
           {
            "bin_start": 0.32680872217258805,
            "bin_end": 0.495106541629441,
            "count": 0
           },
           {
            "bin_start": 0.495106541629441,
            "bin_end": 0.663404361086294,
            "count": 0
           },
           {
            "bin_start": 0.663404361086294,
            "bin_end": 0.8317021805431469,
            "count": 2
           },
           {
            "bin_start": 0.8317021805431469,
            "bin_end": 1,
            "count": 1
           }
          ]
         }
        },
        {
         "name": "volatile_acidity",
         "dtype": "float64",
         "stats": {
          "unique_count": 13,
          "nan_count": 0,
          "min": "-0.5524956845595799",
          "max": "1.0",
          "histogram": [
           {
            "bin_start": -0.5524956845595799,
            "bin_end": -0.39724611610362187,
            "count": 1
           },
           {
            "bin_start": -0.39724611610362187,
            "bin_end": -0.24199654764766387,
            "count": 3
           },
           {
            "bin_start": -0.24199654764766387,
            "bin_end": -0.08674697919170588,
            "count": 1
           },
           {
            "bin_start": -0.08674697919170588,
            "bin_end": 0.06850258926425212,
            "count": 5
           },
           {
            "bin_start": 0.06850258926425212,
            "bin_end": 0.22375215772021018,
            "count": 1
           },
           {
            "bin_start": 0.22375215772021018,
            "bin_end": 0.3790017261761681,
            "count": 1
           },
           {
            "bin_start": 0.3790017261761681,
            "bin_end": 0.5342512946321261,
            "count": 0
           },
           {
            "bin_start": 0.5342512946321261,
            "bin_end": 0.6895008630880841,
            "count": 0
           },
           {
            "bin_start": 0.6895008630880841,
            "bin_end": 0.8447504315440422,
            "count": 0
           },
           {
            "bin_start": 0.8447504315440422,
            "bin_end": 1,
            "count": 1
           }
          ]
         }
        },
        {
         "name": "citric_acid",
         "dtype": "float64",
         "stats": {
          "unique_count": 13,
          "nan_count": 0,
          "min": "-0.5524956845595799",
          "max": "1.0",
          "histogram": [
           {
            "bin_start": -0.5524956845595799,
            "bin_end": -0.39724611610362187,
            "count": 2
           },
           {
            "bin_start": -0.39724611610362187,
            "bin_end": -0.24199654764766387,
            "count": 0
           },
           {
            "bin_start": -0.24199654764766387,
            "bin_end": -0.08674697919170588,
            "count": 1
           },
           {
            "bin_start": -0.08674697919170588,
            "bin_end": 0.06850258926425212,
            "count": 2
           },
           {
            "bin_start": 0.06850258926425212,
            "bin_end": 0.22375215772021018,
            "count": 3
           },
           {
            "bin_start": 0.22375215772021018,
            "bin_end": 0.3790017261761681,
            "count": 3
           },
           {
            "bin_start": 0.3790017261761681,
            "bin_end": 0.5342512946321261,
            "count": 0
           },
           {
            "bin_start": 0.5342512946321261,
            "bin_end": 0.6895008630880841,
            "count": 1
           },
           {
            "bin_start": 0.6895008630880841,
            "bin_end": 0.8447504315440422,
            "count": 0
           },
           {
            "bin_start": 0.8447504315440422,
            "bin_end": 1,
            "count": 1
           }
          ]
         }
        },
        {
         "name": "residual_sugar",
         "dtype": "float64",
         "stats": {
          "unique_count": 13,
          "nan_count": 0,
          "min": "-0.08565242221887187",
          "max": "1.0",
          "histogram": [
           {
            "bin_start": -0.08565242221887187,
            "bin_end": 0.022912820003015325,
            "count": 5
           },
           {
            "bin_start": 0.022912820003015325,
            "bin_end": 0.13147806222490252,
            "count": 3
           },
           {
            "bin_start": 0.13147806222490252,
            "bin_end": 0.24004330444678973,
            "count": 3
           },
           {
            "bin_start": 0.24004330444678973,
            "bin_end": 0.3486085466686769,
            "count": 0
           },
           {
            "bin_start": 0.3486085466686769,
            "bin_end": 0.4571737888905641,
            "count": 1
           },
           {
            "bin_start": 0.4571737888905641,
            "bin_end": 0.5657390311124513,
            "count": 0
           },
           {
            "bin_start": 0.5657390311124513,
            "bin_end": 0.6743042733343385,
            "count": 0
           },
           {
            "bin_start": 0.6743042733343385,
            "bin_end": 0.7828695155562257,
            "count": 0
           },
           {
            "bin_start": 0.7828695155562257,
            "bin_end": 0.891434757778113,
            "count": 0
           },
           {
            "bin_start": 0.891434757778113,
            "bin_end": 1,
            "count": 1
           }
          ]
         }
        },
        {
         "name": "chlorides",
         "dtype": "float64",
         "stats": {
          "unique_count": 13,
          "nan_count": 0,
          "min": "-0.2650261311732267",
          "max": "1.0",
          "histogram": [
           {
            "bin_start": -0.2650261311732267,
            "bin_end": -0.13852351805590404,
            "count": 2
           },
           {
            "bin_start": -0.13852351805590404,
            "bin_end": -0.012020904938581378,
            "count": 2
           },
           {
            "bin_start": -0.012020904938581378,
            "bin_end": 0.11448170817874126,
            "count": 5
           },
           {
            "bin_start": 0.11448170817874126,
            "bin_end": 0.24098432129606395,
            "count": 2
           },
           {
            "bin_start": 0.24098432129606395,
            "bin_end": 0.36748693441338665,
            "count": 0
           },
           {
            "bin_start": 0.36748693441338665,
            "bin_end": 0.4939895475307092,
            "count": 1
           },
           {
            "bin_start": 0.4939895475307092,
            "bin_end": 0.6204921606480319,
            "count": 0
           },
           {
            "bin_start": 0.6204921606480319,
            "bin_end": 0.7469947737653546,
            "count": 0
           },
           {
            "bin_start": 0.7469947737653546,
            "bin_end": 0.8734973868826772,
            "count": 0
           },
           {
            "bin_start": 0.8734973868826772,
            "bin_end": 1,
            "count": 1
           }
          ]
         }
        },
        {
         "name": "free_sulfur_dioxide",
         "dtype": "float64",
         "stats": {
          "unique_count": 13,
          "nan_count": 0,
          "min": "-0.15379419286482468",
          "max": "1.0",
          "histogram": [
           {
            "bin_start": -0.15379419286482468,
            "bin_end": -0.03841477357834221,
            "count": 4
           },
           {
            "bin_start": -0.03841477357834221,
            "bin_end": 0.07696464570814027,
            "count": 5
           },
           {
            "bin_start": 0.07696464570814027,
            "bin_end": 0.19234406499462273,
            "count": 2
           },
           {
            "bin_start": 0.19234406499462273,
            "bin_end": 0.3077234842811052,
            "count": 0
           },
           {
            "bin_start": 0.3077234842811052,
            "bin_end": 0.42310290356758773,
            "count": 0
           },
           {
            "bin_start": 0.42310290356758773,
            "bin_end": 0.5384823228540702,
            "count": 0
           },
           {
            "bin_start": 0.5384823228540702,
            "bin_end": 0.6538617421405527,
            "count": 0
           },
           {
            "bin_start": 0.6538617421405527,
            "bin_end": 0.7692411614270351,
            "count": 1
           },
           {
            "bin_start": 0.7692411614270351,
            "bin_end": 0.8846205807135176,
            "count": 0
           },
           {
            "bin_start": 0.8846205807135176,
            "bin_end": 1,
            "count": 1
           }
          ]
         }
        },
        {
         "name": "total_sulfur_dioxide",
         "dtype": "float64",
         "stats": {
          "unique_count": 13,
          "nan_count": 0,
          "min": "-0.20565394374367102",
          "max": "1.0",
          "histogram": [
           {
            "bin_start": -0.20565394374367102,
            "bin_end": -0.0850885493693039,
            "count": 4
           },
           {
            "bin_start": -0.0850885493693039,
            "bin_end": 0.03547684500506321,
            "count": 1
           },
           {
            "bin_start": 0.03547684500506321,
            "bin_end": 0.15604223937943035,
            "count": 5
           },
           {
            "bin_start": 0.15604223937943035,
            "bin_end": 0.27660763375379743,
            "count": 1
           },
           {
            "bin_start": 0.27660763375379743,
            "bin_end": 0.3971730281281645,
            "count": 0
           },
           {
            "bin_start": 0.3971730281281645,
            "bin_end": 0.5177384225025317,
            "count": 0
           },
           {
            "bin_start": 0.5177384225025317,
            "bin_end": 0.6383038168768989,
            "count": 0
           },
           {
            "bin_start": 0.6383038168768989,
            "bin_end": 0.7588692112512658,
            "count": 1
           },
           {
            "bin_start": 0.7588692112512658,
            "bin_end": 0.879434605625633,
            "count": 0
           },
           {
            "bin_start": 0.879434605625633,
            "bin_end": 1,
            "count": 1
           }
          ]
         }
        },
        {
         "name": "density",
         "dtype": "float64",
         "stats": {
          "unique_count": 13,
          "nan_count": 0,
          "min": "-0.4961797702417342",
          "max": "1.0",
          "histogram": [
           {
            "bin_start": -0.4961797702417342,
            "bin_end": -0.3465617932175608,
            "count": 2
           },
           {
            "bin_start": -0.3465617932175608,
            "bin_end": -0.1969438161933874,
            "count": 1
           },
           {
            "bin_start": -0.1969438161933874,
            "bin_end": -0.04732583916921401,
            "count": 1
           },
           {
            "bin_start": -0.04732583916921401,
            "bin_end": 0.10229213785495939,
            "count": 3
           },
           {
            "bin_start": 0.10229213785495939,
            "bin_end": 0.25191011487913284,
            "count": 2
           },
           {
            "bin_start": 0.25191011487913284,
            "bin_end": 0.4015280919033062,
            "count": 2
           },
           {
            "bin_start": 0.4015280919033062,
            "bin_end": 0.5511460689274795,
            "count": 0
           },
           {
            "bin_start": 0.5511460689274795,
            "bin_end": 0.700764045951653,
            "count": 1
           },
           {
            "bin_start": 0.700764045951653,
            "bin_end": 0.8503820229758264,
            "count": 0
           },
           {
            "bin_start": 0.8503820229758264,
            "bin_end": 1,
            "count": 1
           }
          ]
         }
        },
        {
         "name": "pH",
         "dtype": "float64",
         "stats": {
          "unique_count": 13,
          "nan_count": 0,
          "min": "-0.6829781945685302",
          "max": "1.0",
          "histogram": [
           {
            "bin_start": -0.6829781945685302,
            "bin_end": -0.5146803751116771,
            "count": 2
           },
           {
            "bin_start": -0.5146803751116771,
            "bin_end": -0.3463825556548241,
            "count": 0
           },
           {
            "bin_start": -0.3463825556548241,
            "bin_end": -0.17808473619797105,
            "count": 3
           },
           {
            "bin_start": -0.17808473619797105,
            "bin_end": -0.00978691674111809,
            "count": 3
           },
           {
            "bin_start": -0.00978691674111809,
            "bin_end": 0.15851090271573487,
            "count": 2
           },
           {
            "bin_start": 0.15851090271573487,
            "bin_end": 0.32680872217258805,
            "count": 2
           },
           {
            "bin_start": 0.32680872217258805,
            "bin_end": 0.495106541629441,
            "count": 0
           },
           {
            "bin_start": 0.495106541629441,
            "bin_end": 0.663404361086294,
            "count": 0
           },
           {
            "bin_start": 0.663404361086294,
            "bin_end": 0.8317021805431469,
            "count": 0
           },
           {
            "bin_start": 0.8317021805431469,
            "bin_end": 1,
            "count": 1
           }
          ]
         }
        },
        {
         "name": "sulphates",
         "dtype": "float64",
         "stats": {
          "unique_count": 13,
          "nan_count": 0,
          "min": "-0.26098668528328917",
          "max": "1.0",
          "histogram": [
           {
            "bin_start": -0.26098668528328917,
            "bin_end": -0.13488801675496026,
            "count": 2
           },
           {
            "bin_start": -0.13488801675496026,
            "bin_end": -0.008789348226631355,
            "count": 1
           },
           {
            "bin_start": -0.008789348226631355,
            "bin_end": 0.11730932030169755,
            "count": 4
           },
           {
            "bin_start": 0.11730932030169755,
            "bin_end": 0.24340798883002646,
            "count": 2
           },
           {
            "bin_start": 0.24340798883002646,
            "bin_end": 0.3695066573583554,
            "count": 2
           },
           {
            "bin_start": 0.3695066573583554,
            "bin_end": 0.49560532588668427,
            "count": 1
           },
           {
            "bin_start": 0.49560532588668427,
            "bin_end": 0.6217039944150131,
            "count": 0
           },
           {
            "bin_start": 0.6217039944150131,
            "bin_end": 0.7478026629433421,
            "count": 0
           },
           {
            "bin_start": 0.7478026629433421,
            "bin_end": 0.873901331471671,
            "count": 0
           },
           {
            "bin_start": 0.873901331471671,
            "bin_end": 1,
            "count": 1
           }
          ]
         }
        },
        {
         "name": "alcohol",
         "dtype": "float64",
         "stats": {
          "unique_count": 13,
          "nan_count": 0,
          "min": "-0.4961797702417342",
          "max": "1.0",
          "histogram": [
           {
            "bin_start": -0.4961797702417342,
            "bin_end": -0.3465617932175608,
            "count": 1
           },
           {
            "bin_start": -0.3465617932175608,
            "bin_end": -0.1969438161933874,
            "count": 3
           },
           {
            "bin_start": -0.1969438161933874,
            "bin_end": -0.04732583916921401,
            "count": 2
           },
           {
            "bin_start": -0.04732583916921401,
            "bin_end": 0.10229213785495939,
            "count": 2
           },
           {
            "bin_start": 0.10229213785495939,
            "bin_end": 0.25191011487913284,
            "count": 3
           },
           {
            "bin_start": 0.25191011487913284,
            "bin_end": 0.4015280919033062,
            "count": 0
           },
           {
            "bin_start": 0.4015280919033062,
            "bin_end": 0.5511460689274795,
            "count": 1
           },
           {
            "bin_start": 0.5511460689274795,
            "bin_end": 0.700764045951653,
            "count": 0
           },
           {
            "bin_start": 0.700764045951653,
            "bin_end": 0.8503820229758264,
            "count": 0
           },
           {
            "bin_start": 0.8503820229758264,
            "bin_end": 1,
            "count": 1
           }
          ]
         }
        },
        {
         "name": "quality",
         "dtype": "float64",
         "stats": {
          "unique_count": 13,
          "nan_count": 0,
          "min": "-0.390557780264006",
          "max": "1.0",
          "histogram": [
           {
            "bin_start": -0.390557780264006,
            "bin_end": -0.2515020022376054,
            "count": 1
           },
           {
            "bin_start": -0.2515020022376054,
            "bin_end": -0.11244622421120476,
            "count": 3
           },
           {
            "bin_start": -0.11244622421120476,
            "bin_end": 0.026609553815195863,
            "count": 3
           },
           {
            "bin_start": 0.026609553815195863,
            "bin_end": 0.16566533184159649,
            "count": 2
           },
           {
            "bin_start": 0.16566533184159649,
            "bin_end": 0.30472110986799705,
            "count": 2
           },
           {
            "bin_start": 0.30472110986799705,
            "bin_end": 0.44377688789439773,
            "count": 0
           },
           {
            "bin_start": 0.44377688789439773,
            "bin_end": 0.5828326659207984,
            "count": 1
           },
           {
            "bin_start": 0.5828326659207984,
            "bin_end": 0.721888443947199,
            "count": 0
           },
           {
            "bin_start": 0.721888443947199,
            "bin_end": 0.8609442219735995,
            "count": 0
           },
           {
            "bin_start": 0.8609442219735995,
            "bin_end": 1,
            "count": 1
           }
          ]
         }
        },
        {
         "name": "_deepnote_index_column",
         "dtype": "object"
        }
       ],
       "rows_top": [
        {
         "Unnamed: 0": 1,
         "fixed_acidity": -0.26848391990272913,
         "volatile_acidity": -0.008815098982814571,
         "citric_acid": -0.1535513552119531,
         "residual_sugar": -0.03126083461643635,
         "chlorides": -0.1198685191176713,
         "free_sulfur_dioxide": 0.09047964309533958,
         "total_sulfur_dioxide": -0.11784966943135691,
         "density": -0.3683720871786744,
         "pH": 0.136005328183857,
         "sulphates": -0.12530699927812067,
         "alcohol": 0.24512284062342762,
         "quality": 0.06645260839708708,
         "_deepnote_index_column": "Unnamed: 0"
        },
        {
         "Unnamed: 0": -0.26848391990272913,
         "fixed_acidity": 1,
         "volatile_acidity": -0.2561308947703812,
         "citric_acid": 0.6717034347641064,
         "residual_sugar": 0.11477672449492153,
         "chlorides": 0.09370518632130553,
         "free_sulfur_dioxide": -0.15379419286482468,
         "total_sulfur_dioxide": -0.11318144304548165,
         "density": 0.6680472921189573,
         "pH": -0.6829781945685302,
         "sulphates": 0.18300566393215362,
         "alcohol": -0.061668270628151035,
         "quality": 0.12405164911322257,
         "_deepnote_index_column": "fixed_acidity"
        },
        {
         "Unnamed: 0": -0.008815098982814571,
         "fixed_acidity": -0.2561308947703812,
         "volatile_acidity": 1,
         "citric_acid": -0.5524956845595799,
         "residual_sugar": 0.0019178819627909175,
         "chlorides": 0.061297772476461614,
         "free_sulfur_dioxide": -0.01050382700659221,
         "total_sulfur_dioxide": 0.07647000482092811,
         "density": 0.02202623219523293,
         "pH": 0.23493729440739305,
         "sulphates": -0.26098668528328917,
         "alcohol": -0.20228802715325636,
         "quality": -0.390557780264006,
         "_deepnote_index_column": "volatile_acidity"
        },
        {
         "Unnamed: 0": -0.1535513552119531,
         "fixed_acidity": 0.6717034347641064,
         "volatile_acidity": -0.5524956845595799,
         "citric_acid": 1,
         "residual_sugar": 0.14357716157031455,
         "chlorides": 0.2038229138290422,
         "free_sulfur_dioxide": -0.06097812919230487,
         "total_sulfur_dioxide": 0.03553302393116163,
         "density": 0.36494717521123443,
         "pH": -0.5419041447395107,
         "sulphates": 0.3127700438544169,
         "alcohol": 0.109903246641567,
         "quality": 0.22637251431804045,
         "_deepnote_index_column": "citric_acid"
        },
        {
         "Unnamed: 0": -0.03126083461643635,
         "fixed_acidity": 0.11477672449492153,
         "volatile_acidity": 0.0019178819627909175,
         "citric_acid": 0.14357716157031455,
         "residual_sugar": 1,
         "chlorides": 0.05560953520353226,
         "free_sulfur_dioxide": 0.18704899510428707,
         "total_sulfur_dioxide": 0.20302788169710137,
         "density": 0.35528337098334967,
         "pH": -0.08565242221887187,
         "sulphates": 0.005527121339138446,
         "alcohol": 0.04207543720973079,
         "quality": 0.013731637340065779,
         "_deepnote_index_column": "residual_sugar"
        },
        {
         "Unnamed: 0": -0.1198685191176713,
         "fixed_acidity": 0.09370518632130553,
         "volatile_acidity": 0.061297772476461614,
         "citric_acid": 0.2038229138290422,
         "residual_sugar": 0.05560953520353226,
         "chlorides": 1,
         "free_sulfur_dioxide": 0.005562147004781126,
         "total_sulfur_dioxide": 0.047400468259075436,
         "density": 0.20063232664151953,
         "pH": -0.2650261311732267,
         "sulphates": 0.3712604812854267,
         "alcohol": -0.22114054478828282,
         "quality": -0.12890655993005293,
         "_deepnote_index_column": "chlorides"
        },
        {
         "Unnamed: 0": 0.09047964309533958,
         "fixed_acidity": -0.15379419286482468,
         "volatile_acidity": -0.01050382700659221,
         "citric_acid": -0.06097812919230487,
         "residual_sugar": 0.18704899510428707,
         "chlorides": 0.005562147004781126,
         "free_sulfur_dioxide": 1,
         "total_sulfur_dioxide": 0.667666450481023,
         "density": -0.021945831163508164,
         "pH": 0.0703774985049412,
         "sulphates": 0.05165757184282859,
         "alcohol": -0.06940835356500007,
         "quality": -0.05065605724427594,
         "_deepnote_index_column": "free_sulfur_dioxide"
        },
        {
         "Unnamed: 0": -0.11784966943135691,
         "fixed_acidity": -0.11318144304548165,
         "volatile_acidity": 0.07647000482092811,
         "citric_acid": 0.03553302393116163,
         "residual_sugar": 0.20302788169710137,
         "chlorides": 0.047400468259075436,
         "free_sulfur_dioxide": 0.667666450481023,
         "total_sulfur_dioxide": 1,
         "density": 0.07126947620312808,
         "pH": -0.06649455901285463,
         "sulphates": 0.04294683623953878,
         "alcohol": -0.20565394374367102,
         "quality": -0.1851002889265377,
         "_deepnote_index_column": "total_sulfur_dioxide"
        },
        {
         "Unnamed: 0": -0.3683720871786744,
         "fixed_acidity": 0.6680472921189573,
         "volatile_acidity": 0.02202623219523293,
         "citric_acid": 0.36494717521123443,
         "residual_sugar": 0.35528337098334967,
         "chlorides": 0.20063232664151953,
         "free_sulfur_dioxide": -0.021945831163508164,
         "total_sulfur_dioxide": 0.07126947620312808,
         "density": 1,
         "pH": -0.34169933478501163,
         "sulphates": 0.1485064117207901,
         "alcohol": -0.4961797702417342,
         "quality": -0.17491922778336458,
         "_deepnote_index_column": "density"
        },
        {
         "Unnamed: 0": 0.136005328183857,
         "fixed_acidity": -0.6829781945685302,
         "volatile_acidity": 0.23493729440739305,
         "citric_acid": -0.5419041447395107,
         "residual_sugar": -0.08565242221887187,
         "chlorides": -0.2650261311732267,
         "free_sulfur_dioxide": 0.0703774985049412,
         "total_sulfur_dioxide": -0.06649455901285463,
         "density": -0.34169933478501163,
         "pH": 1,
         "sulphates": -0.19664760230436984,
         "alcohol": 0.2056325085054961,
         "quality": -0.05773139120538257,
         "_deepnote_index_column": "pH"
        },
        {
         "Unnamed: 0": -0.12530699927812067,
         "fixed_acidity": 0.18300566393215362,
         "volatile_acidity": -0.26098668528328917,
         "citric_acid": 0.3127700438544169,
         "residual_sugar": 0.005527121339138446,
         "chlorides": 0.3712604812854267,
         "free_sulfur_dioxide": 0.05165757184282859,
         "total_sulfur_dioxide": 0.04294683623953878,
         "density": 0.1485064117207901,
         "pH": -0.19664760230436984,
         "sulphates": 1,
         "alcohol": 0.0935947504104671,
         "quality": 0.25139707906925995,
         "_deepnote_index_column": "sulphates"
        },
        {
         "Unnamed: 0": 0.24512284062342762,
         "fixed_acidity": -0.061668270628151035,
         "volatile_acidity": -0.20228802715325636,
         "citric_acid": 0.109903246641567,
         "residual_sugar": 0.04207543720973079,
         "chlorides": -0.22114054478828282,
         "free_sulfur_dioxide": -0.06940835356500007,
         "total_sulfur_dioxide": -0.20565394374367102,
         "density": -0.4961797702417342,
         "pH": 0.2056325085054961,
         "sulphates": 0.0935947504104671,
         "alcohol": 1,
         "quality": 0.47616632400113656,
         "_deepnote_index_column": "alcohol"
        },
        {
         "Unnamed: 0": 0.06645260839708708,
         "fixed_acidity": 0.12405164911322257,
         "volatile_acidity": -0.390557780264006,
         "citric_acid": 0.22637251431804045,
         "residual_sugar": 0.013731637340065779,
         "chlorides": -0.12890655993005293,
         "free_sulfur_dioxide": -0.05065605724427594,
         "total_sulfur_dioxide": -0.1851002889265377,
         "density": -0.17491922778336458,
         "pH": -0.05773139120538257,
         "sulphates": 0.25139707906925995,
         "alcohol": 0.47616632400113656,
         "quality": 1,
         "_deepnote_index_column": "quality"
        }
       ],
       "rows_bottom": null
      },
      "text/plain": "                      Unnamed: 0  fixed_acidity  volatile_acidity  \\\nUnnamed: 0              1.000000      -0.268484         -0.008815   \nfixed_acidity          -0.268484       1.000000         -0.256131   \nvolatile_acidity       -0.008815      -0.256131          1.000000   \ncitric_acid            -0.153551       0.671703         -0.552496   \nresidual_sugar         -0.031261       0.114777          0.001918   \nchlorides              -0.119869       0.093705          0.061298   \nfree_sulfur_dioxide     0.090480      -0.153794         -0.010504   \ntotal_sulfur_dioxide   -0.117850      -0.113181          0.076470   \ndensity                -0.368372       0.668047          0.022026   \npH                      0.136005      -0.682978          0.234937   \nsulphates              -0.125307       0.183006         -0.260987   \nalcohol                 0.245123      -0.061668         -0.202288   \nquality                 0.066453       0.124052         -0.390558   \n\n                      citric_acid  residual_sugar  chlorides  \\\nUnnamed: 0              -0.153551       -0.031261  -0.119869   \nfixed_acidity            0.671703        0.114777   0.093705   \nvolatile_acidity        -0.552496        0.001918   0.061298   \ncitric_acid              1.000000        0.143577   0.203823   \nresidual_sugar           0.143577        1.000000   0.055610   \nchlorides                0.203823        0.055610   1.000000   \nfree_sulfur_dioxide     -0.060978        0.187049   0.005562   \ntotal_sulfur_dioxide     0.035533        0.203028   0.047400   \ndensity                  0.364947        0.355283   0.200632   \npH                      -0.541904       -0.085652  -0.265026   \nsulphates                0.312770        0.005527   0.371260   \nalcohol                  0.109903        0.042075  -0.221141   \nquality                  0.226373        0.013732  -0.128907   \n\n                      free_sulfur_dioxide  total_sulfur_dioxide   density  \\\nUnnamed: 0                       0.090480             -0.117850 -0.368372   \nfixed_acidity                   -0.153794             -0.113181  0.668047   \nvolatile_acidity                -0.010504              0.076470  0.022026   \ncitric_acid                     -0.060978              0.035533  0.364947   \nresidual_sugar                   0.187049              0.203028  0.355283   \nchlorides                        0.005562              0.047400  0.200632   \nfree_sulfur_dioxide              1.000000              0.667666 -0.021946   \ntotal_sulfur_dioxide             0.667666              1.000000  0.071269   \ndensity                         -0.021946              0.071269  1.000000   \npH                               0.070377             -0.066495 -0.341699   \nsulphates                        0.051658              0.042947  0.148506   \nalcohol                         -0.069408             -0.205654 -0.496180   \nquality                         -0.050656             -0.185100 -0.174919   \n\n                            pH  sulphates   alcohol   quality  \nUnnamed: 0            0.136005  -0.125307  0.245123  0.066453  \nfixed_acidity        -0.682978   0.183006 -0.061668  0.124052  \nvolatile_acidity      0.234937  -0.260987 -0.202288 -0.390558  \ncitric_acid          -0.541904   0.312770  0.109903  0.226373  \nresidual_sugar       -0.085652   0.005527  0.042075  0.013732  \nchlorides            -0.265026   0.371260 -0.221141 -0.128907  \nfree_sulfur_dioxide   0.070377   0.051658 -0.069408 -0.050656  \ntotal_sulfur_dioxide -0.066495   0.042947 -0.205654 -0.185100  \ndensity              -0.341699   0.148506 -0.496180 -0.174919  \npH                    1.000000  -0.196648  0.205633 -0.057731  \nsulphates            -0.196648   1.000000  0.093595  0.251397  \nalcohol               0.205633   0.093595  1.000000  0.476166  \nquality              -0.057731   0.251397  0.476166  1.000000  ",
      "text/html": "<div>\n<style scoped>\n    .dataframe tbody tr th:only-of-type {\n        vertical-align: middle;\n    }\n\n    .dataframe tbody tr th {\n        vertical-align: top;\n    }\n\n    .dataframe thead th {\n        text-align: right;\n    }\n</style>\n<table border=\"1\" class=\"dataframe\">\n  <thead>\n    <tr style=\"text-align: right;\">\n      <th></th>\n      <th>Unnamed: 0</th>\n      <th>fixed_acidity</th>\n      <th>volatile_acidity</th>\n      <th>citric_acid</th>\n      <th>residual_sugar</th>\n      <th>chlorides</th>\n      <th>free_sulfur_dioxide</th>\n      <th>total_sulfur_dioxide</th>\n      <th>density</th>\n      <th>pH</th>\n      <th>sulphates</th>\n      <th>alcohol</th>\n      <th>quality</th>\n    </tr>\n  </thead>\n  <tbody>\n    <tr>\n      <th>Unnamed: 0</th>\n      <td>1.000000</td>\n      <td>-0.268484</td>\n      <td>-0.008815</td>\n      <td>-0.153551</td>\n      <td>-0.031261</td>\n      <td>-0.119869</td>\n      <td>0.090480</td>\n      <td>-0.117850</td>\n      <td>-0.368372</td>\n      <td>0.136005</td>\n      <td>-0.125307</td>\n      <td>0.245123</td>\n      <td>0.066453</td>\n    </tr>\n    <tr>\n      <th>fixed_acidity</th>\n      <td>-0.268484</td>\n      <td>1.000000</td>\n      <td>-0.256131</td>\n      <td>0.671703</td>\n      <td>0.114777</td>\n      <td>0.093705</td>\n      <td>-0.153794</td>\n      <td>-0.113181</td>\n      <td>0.668047</td>\n      <td>-0.682978</td>\n      <td>0.183006</td>\n      <td>-0.061668</td>\n      <td>0.124052</td>\n    </tr>\n    <tr>\n      <th>volatile_acidity</th>\n      <td>-0.008815</td>\n      <td>-0.256131</td>\n      <td>1.000000</td>\n      <td>-0.552496</td>\n      <td>0.001918</td>\n      <td>0.061298</td>\n      <td>-0.010504</td>\n      <td>0.076470</td>\n      <td>0.022026</td>\n      <td>0.234937</td>\n      <td>-0.260987</td>\n      <td>-0.202288</td>\n      <td>-0.390558</td>\n    </tr>\n    <tr>\n      <th>citric_acid</th>\n      <td>-0.153551</td>\n      <td>0.671703</td>\n      <td>-0.552496</td>\n      <td>1.000000</td>\n      <td>0.143577</td>\n      <td>0.203823</td>\n      <td>-0.060978</td>\n      <td>0.035533</td>\n      <td>0.364947</td>\n      <td>-0.541904</td>\n      <td>0.312770</td>\n      <td>0.109903</td>\n      <td>0.226373</td>\n    </tr>\n    <tr>\n      <th>residual_sugar</th>\n      <td>-0.031261</td>\n      <td>0.114777</td>\n      <td>0.001918</td>\n      <td>0.143577</td>\n      <td>1.000000</td>\n      <td>0.055610</td>\n      <td>0.187049</td>\n      <td>0.203028</td>\n      <td>0.355283</td>\n      <td>-0.085652</td>\n      <td>0.005527</td>\n      <td>0.042075</td>\n      <td>0.013732</td>\n    </tr>\n    <tr>\n      <th>chlorides</th>\n      <td>-0.119869</td>\n      <td>0.093705</td>\n      <td>0.061298</td>\n      <td>0.203823</td>\n      <td>0.055610</td>\n      <td>1.000000</td>\n      <td>0.005562</td>\n      <td>0.047400</td>\n      <td>0.200632</td>\n      <td>-0.265026</td>\n      <td>0.371260</td>\n      <td>-0.221141</td>\n      <td>-0.128907</td>\n    </tr>\n    <tr>\n      <th>free_sulfur_dioxide</th>\n      <td>0.090480</td>\n      <td>-0.153794</td>\n      <td>-0.010504</td>\n      <td>-0.060978</td>\n      <td>0.187049</td>\n      <td>0.005562</td>\n      <td>1.000000</td>\n      <td>0.667666</td>\n      <td>-0.021946</td>\n      <td>0.070377</td>\n      <td>0.051658</td>\n      <td>-0.069408</td>\n      <td>-0.050656</td>\n    </tr>\n    <tr>\n      <th>total_sulfur_dioxide</th>\n      <td>-0.117850</td>\n      <td>-0.113181</td>\n      <td>0.076470</td>\n      <td>0.035533</td>\n      <td>0.203028</td>\n      <td>0.047400</td>\n      <td>0.667666</td>\n      <td>1.000000</td>\n      <td>0.071269</td>\n      <td>-0.066495</td>\n      <td>0.042947</td>\n      <td>-0.205654</td>\n      <td>-0.185100</td>\n    </tr>\n    <tr>\n      <th>density</th>\n      <td>-0.368372</td>\n      <td>0.668047</td>\n      <td>0.022026</td>\n      <td>0.364947</td>\n      <td>0.355283</td>\n      <td>0.200632</td>\n      <td>-0.021946</td>\n      <td>0.071269</td>\n      <td>1.000000</td>\n      <td>-0.341699</td>\n      <td>0.148506</td>\n      <td>-0.496180</td>\n      <td>-0.174919</td>\n    </tr>\n    <tr>\n      <th>pH</th>\n      <td>0.136005</td>\n      <td>-0.682978</td>\n      <td>0.234937</td>\n      <td>-0.541904</td>\n      <td>-0.085652</td>\n      <td>-0.265026</td>\n      <td>0.070377</td>\n      <td>-0.066495</td>\n      <td>-0.341699</td>\n      <td>1.000000</td>\n      <td>-0.196648</td>\n      <td>0.205633</td>\n      <td>-0.057731</td>\n    </tr>\n    <tr>\n      <th>sulphates</th>\n      <td>-0.125307</td>\n      <td>0.183006</td>\n      <td>-0.260987</td>\n      <td>0.312770</td>\n      <td>0.005527</td>\n      <td>0.371260</td>\n      <td>0.051658</td>\n      <td>0.042947</td>\n      <td>0.148506</td>\n      <td>-0.196648</td>\n      <td>1.000000</td>\n      <td>0.093595</td>\n      <td>0.251397</td>\n    </tr>\n    <tr>\n      <th>alcohol</th>\n      <td>0.245123</td>\n      <td>-0.061668</td>\n      <td>-0.202288</td>\n      <td>0.109903</td>\n      <td>0.042075</td>\n      <td>-0.221141</td>\n      <td>-0.069408</td>\n      <td>-0.205654</td>\n      <td>-0.496180</td>\n      <td>0.205633</td>\n      <td>0.093595</td>\n      <td>1.000000</td>\n      <td>0.476166</td>\n    </tr>\n    <tr>\n      <th>quality</th>\n      <td>0.066453</td>\n      <td>0.124052</td>\n      <td>-0.390558</td>\n      <td>0.226373</td>\n      <td>0.013732</td>\n      <td>-0.128907</td>\n      <td>-0.050656</td>\n      <td>-0.185100</td>\n      <td>-0.174919</td>\n      <td>-0.057731</td>\n      <td>0.251397</td>\n      <td>0.476166</td>\n      <td>1.000000</td>\n    </tr>\n  </tbody>\n</table>\n</div>"
     },
     "metadata": {}
    }
   ]
  },
  {
   "cell_type": "code",
   "metadata": {
    "tags": [],
    "cell_id": "00004-6ac2c31a-f7cf-41fb-aa8a-c18e39baa2b0",
    "deepnote_to_be_reexecuted": false,
    "source_hash": "1cdcb1d4",
    "execution_start": 1631918626443,
    "execution_millis": 1869,
    "deepnote_cell_type": "code"
   },
   "source": "fig = plt.figure(figsize=(10,8))\nax = fig.add_subplot()\nsns.heatmap(df.corr(), cmap='Spectral',vmin=-1,vmax=1,annot=True,ax=ax)",
   "execution_count": null,
   "outputs": [
    {
     "output_type": "execute_result",
     "execution_count": 9,
     "data": {
      "text/plain": "<AxesSubplot:>"
     },
     "metadata": {}
    },
    {
     "data": {
      "text/plain": "<Figure size 720x576 with 2 Axes>",
      "image/png": "[encoded data removed]"
     },
     "metadata": {
      "needs_background": "light",
      "image/png": {
       "width": 652,
       "height": 557
      }
     },
     "output_type": "display_data"
    }
   ]
  },
  {
   "cell_type": "code",
   "metadata": {
    "tags": [],
    "cell_id": "00006-c77d2eed-2315-409d-aa73-d5f3f8c1ed66",
    "deepnote_to_be_reexecuted": false,
    "source_hash": "d64723ac",
    "execution_start": 1631918744429,
    "execution_millis": 5,
    "deepnote_cell_type": "code"
   },
   "source": "#columnas = ['alcohol','sulphates','volatile_acidity']\n#\n#\n#basket = df_sport[df_sport['sport']=='Basketball']\n#futbol = df_sport[df_sport['sport']=='Football']\n#\n#fig = plt.figure(figsize=(8,8))\n#axes = fig.subplots(2,1,sharex=False,sharey=False)\n#\n#sns.scatterplot(basket['height'],basket['weight'],ax=axes[0])\n#sns.scatterplot(futbol['height'],futbol['weight'],ax=axes[1])",
   "execution_count": null,
   "outputs": [
    {
     "output_type": "execute_result",
     "execution_count": 10,
     "data": {
      "text/plain": "['alcohol', 'sulphates', 'volatile_acidity']"
     },
     "metadata": {}
    }
   ]
  },
  {
   "cell_type": "code",
   "metadata": {
    "tags": [],
    "cell_id": "00007-8f8fe334-f7ac-40fc-8895-18abbf7181a0",
    "deepnote_cell_type": "code"
   },
   "source": "#df_grouped = df.groupby('alcohol')['sulphates']",
   "execution_count": null,
   "outputs": []
  },
  {
   "cell_type": "code",
   "metadata": {
    "tags": [],
    "cell_id": "00008-fa3e18e0-ca5a-4224-8bbd-865a4ee0650e",
    "deepnote_to_be_reexecuted": false,
    "source_hash": "7a3ce4a5",
    "execution_start": 1632156680824,
    "execution_millis": 379,
    "deepnote_cell_type": "code"
   },
   "source": "sns.scatterplot(data=df,x='alcohol',y='sulphates',hue='quality')",
   "execution_count": null,
   "outputs": [
    {
     "output_type": "execute_result",
     "execution_count": 6,
     "data": {
      "text/plain": "<AxesSubplot:xlabel='alcohol', ylabel='sulphates'>"
     },
     "metadata": {}
    },
    {
     "data": {
      "text/plain": "<Figure size 432x288 with 1 Axes>",
      "image/png": "[encoded data removed]"
     },
     "metadata": {
      "needs_background": "light",
      "image/png": {
       "width": 392,
       "height": 262
      }
     },
     "output_type": "display_data"
    }
   ]
  },
  {
   "cell_type": "code",
   "metadata": {
    "tags": [],
    "cell_id": "00009-e50a8cb8-ce61-478d-ba52-5151caed0aa8",
    "deepnote_to_be_reexecuted": false,
    "source_hash": "c4bcfe06",
    "execution_start": 1632161565147,
    "execution_millis": 1238,
    "deepnote_cell_type": "code"
   },
   "source": "sns.relplot(data=df, x='alcohol',y='sulphates',col='quality',col_wrap=2)",
   "outputs": [
    {
     "output_type": "execute_result",
     "execution_count": 5,
     "data": {
      "text/plain": "<seaborn.axisgrid.FacetGrid at 0x7f97263a3210>"
     },
     "metadata": {}
    },
    {
     "data": {
      "text/plain": "<Figure size 720x1080 with 6 Axes>",
      "image/png": "[encoded data removed]"
     },
     "metadata": {
      "needs_background": "light",
      "image/png": {
       "width": 712,
       "height": 1072
      }
     },
     "output_type": "display_data"
    }
   ],
   "execution_count": null
  },
  {
   "cell_type": "code",
   "source": "",
   "metadata": {
    "tags": [],
    "cell_id": "00010-1fe47d9b-b41d-42c3-b835-c338e88c915c",
    "deepnote_to_be_reexecuted": false,
    "source_hash": "7ad9c6de",
    "execution_start": 1632163325886,
    "execution_millis": 347,
    "deepnote_cell_type": "code"
   },
   "outputs": [
    {
     "output_type": "error",
     "ename": "NameError",
     "evalue": "name 'folium' is not defined",
     "traceback": [
      "\u001b[0;31m---------------------------------------------------------------------------\u001b[0m",
      "\u001b[0;31mNameError\u001b[0m                                 Traceback (most recent call last)",
      "\u001b[0;32m/tmp/ipykernel_83/1945081927.py\u001b[0m in \u001b[0;36m<module>\u001b[0;34m\u001b[0m\n\u001b[0;32m----> 1\u001b[0;31m \u001b[0mm\u001b[0m\u001b[0;34m=\u001b[0m \u001b[0mfolium\u001b[0m\u001b[0;34m.\u001b[0m\u001b[0mMap\u001b[0m\u001b[0;34m(\u001b[0m\u001b[0mlocation\u001b[0m\u001b[0;34m=\u001b[0m\u001b[0;34m[\u001b[0m\u001b[0;36m37.7706286\u001b[0m\u001b[0;34m,\u001b[0m\u001b[0;34m-\u001b[0m\u001b[0;36m98.1562691\u001b[0m\u001b[0;34m]\u001b[0m\u001b[0;34m,\u001b[0m\u001b[0mzoom_start\u001b[0m\u001b[0;34m=\u001b[0m\u001b[0;36m3\u001b[0m\u001b[0;34m)\u001b[0m\u001b[0;34m\u001b[0m\u001b[0;34m\u001b[0m\u001b[0m\n\u001b[0m\u001b[1;32m      2\u001b[0m \u001b[0mm\u001b[0m\u001b[0;34m\u001b[0m\u001b[0;34m\u001b[0m\u001b[0m\n",
      "\u001b[0;31mNameError\u001b[0m: name 'folium' is not defined"
     ]
    }
   ],
   "execution_count": null
  },
  {
   "cell_type": "code",
   "source": "",
   "metadata": {
    "tags": [],
    "cell_id": "00011-bc9a2580-3690-4849-9e0a-f088d53575f8",
    "deepnote_cell_type": "code"
   },
   "outputs": [],
   "execution_count": null
  },
  {
   "cell_type": "markdown",
   "source": "<a style='text-decoration:none;line-height:16px;display:flex;color:#5B5B62;padding:10px;justify-content:end;' href='https://deepnote.com?utm_source=created-in-deepnote-cell&projectId=f8149d1c-e6b1-497a-9109-f01641a8231a' target=\"_blank\">\n<img alt='Created in deepnote.com' style='display:inline;max-height:16px;margin:0px;margin-right:7.5px;' src='data:image/svg+xml;base64,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' > </img>\nCreated in <span style='font-weight:600;margin-left:4px;'>Deepnote</span></a>",
   "metadata": {
    "tags": [],
    "created_in_deepnote_cell": true,
    "deepnote_cell_type": "markdown"
   }
  }
 ],
 "nbformat": 4,
 "nbformat_minor": 4,
 "metadata": {
  "kernelspec": {
   "display_name": "Python (data_science)",
   "language": "python",
   "name": "data_science"
  },
  "language_info": {
   "codemirror_mode": {
    "name": "ipython",
    "version": 3
   },
   "file_extension": ".py",
   "mimetype": "text/x-python",
   "name": "python",
   "nbconvert_exporter": "python",
   "pygments_lexer": "ipython3",
   "version": "3.8.5"
  },
  "deepnote_notebook_id": "fc01ce36-afa2-41b3-b2b4-0da5c01790ee",
  "deepnote": {},
  "deepnote_execution_queue": []
 }
}