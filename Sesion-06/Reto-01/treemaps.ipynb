{
 "cells": [
  {
   "cell_type": "markdown",
   "source": "## Reto 1: Treemaps\n\n### 1. Objetivos:\n    - Aprender a generar e interpretar treemaps\n \n---\n    \n### 2. Desarrollo:",
   "metadata": {
    "cell_id": "00000-3eca646d-b6a6-4f31-b7c6-98d66336ff7a",
    "deepnote_cell_type": "markdown"
   }
  },
  {
   "cell_type": "markdown",
   "source": "### a) Uso de tierra de distintos tipos de propiedades en Melbourne, Australia\n\nPara este Reto vamos a usar nuestro dataset 'melbourne_housing-clean.csv'. Queremos usar un Treemap para visualizar el uso de tierra de los distintos tipos de propiedades agrupados por región. El treemap tiene que tener las siguientes características:\n\n1. Debe de tener un primer nivel superior que tenga como valor el nombre de la ciudad: 'Melbourne'. Obviamente, todos los demás niveles estarán contenidos dentro de este primer nivel.\n2. Para los niveles inferiores, los datos deberán de ser agrupados utilizando el nombre de la región y después el tipo de propiedad ('region_name' y 'type').\n3. El valor que vamos a utilizar para determinar el tamaño de los rectángulos en el treemap va a ser el de tamaño de tierra o 'land_size'.\n\nComenta con tus compañeros y la experta tus hallazgos.",
   "metadata": {
    "cell_id": "00001-475e365c-6f2a-495b-bb09-b4e7937ca93b",
    "deepnote_cell_type": "markdown"
   }
  },
  {
   "cell_type": "code",
   "metadata": {
    "cell_id": "00002-92a1b023-51b5-4ed4-9509-26cd2232efc7",
    "deepnote_to_be_reexecuted": false,
    "source_hash": "e66c8e4",
    "execution_start": 1631910942238,
    "execution_millis": 424,
    "deepnote_cell_type": "code"
   },
   "source": "import pandas as pd\nimport plotly.express as px",
   "execution_count": null,
   "outputs": []
  },
  {
   "cell_type": "code",
   "metadata": {
    "tags": [],
    "cell_id": "00003-00fb4fdc-2586-44b3-80b7-49249f8cd5c2",
    "deepnote_to_be_reexecuted": false,
    "source_hash": "7bb66dc4",
    "execution_start": 1631910945448,
    "execution_millis": 285,
    "deepnote_cell_type": "code"
   },
   "source": "df = pd.read_csv('/work/B2-Analisis-de-Datos-con-Python-2020-2021-Santander/Datasets/melbourne_housing-clean.csv')\ndf.tail()",
   "execution_count": null,
   "outputs": [
    {
     "output_type": "execute_result",
     "execution_count": 4,
     "data": {
      "application/vnd.deepnote.dataframe.v2+json": {
       "row_count": 5,
       "column_count": 20,
       "columns": [
        {
         "name": "Unnamed: 0",
         "dtype": "int64",
         "stats": {
          "unique_count": 5,
          "nan_count": 0,
          "min": "11641",
          "max": "11645",
          "histogram": [
           {
            "bin_start": 11641,
            "bin_end": 11641.4,
            "count": 1
           },
           {
            "bin_start": 11641.4,
            "bin_end": 11641.8,
            "count": 0
           },
           {
            "bin_start": 11641.8,
            "bin_end": 11642.2,
            "count": 1
           },
           {
            "bin_start": 11642.2,
            "bin_end": 11642.6,
            "count": 0
           },
           {
            "bin_start": 11642.6,
            "bin_end": 11643,
            "count": 0
           },
           {
            "bin_start": 11643,
            "bin_end": 11643.4,
            "count": 1
           },
           {
            "bin_start": 11643.4,
            "bin_end": 11643.8,
            "count": 0
           },
           {
            "bin_start": 11643.8,
            "bin_end": 11644.2,
            "count": 1
           },
           {
            "bin_start": 11644.2,
            "bin_end": 11644.6,
            "count": 0
           },
           {
            "bin_start": 11644.6,
            "bin_end": 11645,
            "count": 1
           }
          ]
         }
        },
        {
         "name": "suburb",
         "dtype": "object",
         "stats": {
          "unique_count": 3,
          "nan_count": 0,
          "categories": [
           {
            "name": "Yarraville",
            "count": 3
           },
           {
            "name": "Whittlesea",
            "count": 1
           },
           {
            "name": "Williamstown",
            "count": 1
           }
          ]
         }
        },
        {
         "name": "address",
         "dtype": "object",
         "stats": {
          "unique_count": 5,
          "nan_count": 0,
          "categories": [
           {
            "name": "30 Sherwin St",
            "count": 1
           },
           {
            "name": "87 Pasco St",
            "count": 1
           },
           {
            "name": "3 others",
            "count": 3
           }
          ]
         }
        },
        {
         "name": "rooms",
         "dtype": "int64",
         "stats": {
          "unique_count": 3,
          "nan_count": 0,
          "min": "2",
          "max": "6",
          "histogram": [
           {
            "bin_start": 2,
            "bin_end": 2.4,
            "count": 1
           },
           {
            "bin_start": 2.4,
            "bin_end": 2.8,
            "count": 0
           },
           {
            "bin_start": 2.8,
            "bin_end": 3.2,
            "count": 3
           },
           {
            "bin_start": 3.2,
            "bin_end": 3.6,
            "count": 0
           },
           {
            "bin_start": 3.6,
            "bin_end": 4,
            "count": 0
           },
           {
            "bin_start": 4,
            "bin_end": 4.4,
            "count": 0
           },
           {
            "bin_start": 4.4,
            "bin_end": 4.800000000000001,
            "count": 0
           },
           {
            "bin_start": 4.800000000000001,
            "bin_end": 5.2,
            "count": 0
           },
           {
            "bin_start": 5.2,
            "bin_end": 5.6,
            "count": 0
           },
           {
            "bin_start": 5.6,
            "bin_end": 6,
            "count": 1
           }
          ]
         }
        },
        {
         "name": "type",
         "dtype": "object",
         "stats": {
          "unique_count": 2,
          "nan_count": 0,
          "categories": [
           {
            "name": "h",
            "count": 4
           },
           {
            "name": "t",
            "count": 1
           }
          ]
         }
        },
        {
         "name": "price",
         "dtype": "float64",
         "stats": {
          "unique_count": 5,
          "nan_count": 0,
          "min": "601000.0",
          "max": "2450000.0",
          "histogram": [
           {
            "bin_start": 601000,
            "bin_end": 785900,
            "count": 3
           },
           {
            "bin_start": 785900,
            "bin_end": 970800,
            "count": 0
           },
           {
            "bin_start": 970800,
            "bin_end": 1155700,
            "count": 0
           },
           {
            "bin_start": 1155700,
            "bin_end": 1340600,
            "count": 1
           },
           {
            "bin_start": 1340600,
            "bin_end": 1525500,
            "count": 0
           },
           {
            "bin_start": 1525500,
            "bin_end": 1710400,
            "count": 0
           },
           {
            "bin_start": 1710400,
            "bin_end": 1895300,
            "count": 0
           },
           {
            "bin_start": 1895300,
            "bin_end": 2080200,
            "count": 0
           },
           {
            "bin_start": 2080200,
            "bin_end": 2265100,
            "count": 0
           },
           {
            "bin_start": 2265100,
            "bin_end": 2450000,
            "count": 1
           }
          ]
         }
        },
        {
         "name": "method",
         "dtype": "object",
         "stats": {
          "unique_count": 3,
          "nan_count": 0,
          "categories": [
           {
            "name": "S",
            "count": 2
           },
           {
            "name": "SP",
            "count": 2
           },
           {
            "name": "VB",
            "count": 1
           }
          ]
         }
        },
        {
         "name": "seller_g",
         "dtype": "object",
         "stats": {
          "unique_count": 4,
          "nan_count": 0,
          "categories": [
           {
            "name": "Jas",
            "count": 2
           },
           {
            "name": "Ray",
            "count": 1
           },
           {
            "name": "2 others",
            "count": 2
           }
          ]
         }
        },
        {
         "name": "date",
         "dtype": "object",
         "stats": {
          "unique_count": 1,
          "nan_count": 0,
          "categories": [
           {
            "name": "29/07/2017",
            "count": 5
           }
          ]
         }
        },
        {
         "name": "distance",
         "dtype": "float64",
         "stats": {
          "unique_count": 3,
          "nan_count": 0,
          "min": "6.3",
          "max": "35.5",
          "histogram": [
           {
            "bin_start": 6.3,
            "bin_end": 9.219999999999999,
            "count": 4
           },
           {
            "bin_start": 9.219999999999999,
            "bin_end": 12.14,
            "count": 0
           },
           {
            "bin_start": 12.14,
            "bin_end": 15.059999999999999,
            "count": 0
           },
           {
            "bin_start": 15.059999999999999,
            "bin_end": 17.98,
            "count": 0
           },
           {
            "bin_start": 17.98,
            "bin_end": 20.9,
            "count": 0
           },
           {
            "bin_start": 20.9,
            "bin_end": 23.82,
            "count": 0
           },
           {
            "bin_start": 23.82,
            "bin_end": 26.74,
            "count": 0
           },
           {
            "bin_start": 26.74,
            "bin_end": 29.66,
            "count": 0
           },
           {
            "bin_start": 29.66,
            "bin_end": 32.58,
            "count": 0
           },
           {
            "bin_start": 32.58,
            "bin_end": 35.5,
            "count": 1
           }
          ]
         }
        },
        {
         "name": "postcode",
         "dtype": "float64",
         "stats": {
          "unique_count": 3,
          "nan_count": 0,
          "min": "3013.0",
          "max": "3757.0",
          "histogram": [
           {
            "bin_start": 3013,
            "bin_end": 3087.4,
            "count": 4
           },
           {
            "bin_start": 3087.4,
            "bin_end": 3161.8,
            "count": 0
           },
           {
            "bin_start": 3161.8,
            "bin_end": 3236.2,
            "count": 0
           },
           {
            "bin_start": 3236.2,
            "bin_end": 3310.6,
            "count": 0
           },
           {
            "bin_start": 3310.6,
            "bin_end": 3385,
            "count": 0
           },
           {
            "bin_start": 3385,
            "bin_end": 3459.4,
            "count": 0
           },
           {
            "bin_start": 3459.4,
            "bin_end": 3533.8,
            "count": 0
           },
           {
            "bin_start": 3533.8,
            "bin_end": 3608.2,
            "count": 0
           },
           {
            "bin_start": 3608.2,
            "bin_end": 3682.6,
            "count": 0
           },
           {
            "bin_start": 3682.6,
            "bin_end": 3757,
            "count": 1
           }
          ]
         }
        },
        {
         "name": "bedroom_2",
         "dtype": "float64",
         "stats": {
          "unique_count": 2,
          "nan_count": 0,
          "min": "2.0",
          "max": "3.0",
          "histogram": [
           {
            "bin_start": 2,
            "bin_end": 2.1,
            "count": 2
           },
           {
            "bin_start": 2.1,
            "bin_end": 2.2,
            "count": 0
           },
           {
            "bin_start": 2.2,
            "bin_end": 2.3,
            "count": 0
           },
           {
            "bin_start": 2.3,
            "bin_end": 2.4,
            "count": 0
           },
           {
            "bin_start": 2.4,
            "bin_end": 2.5,
            "count": 0
           },
           {
            "bin_start": 2.5,
            "bin_end": 2.6,
            "count": 0
           },
           {
            "bin_start": 2.6,
            "bin_end": 2.7,
            "count": 0
           },
           {
            "bin_start": 2.7,
            "bin_end": 2.8,
            "count": 0
           },
           {
            "bin_start": 2.8,
            "bin_end": 2.9,
            "count": 0
           },
           {
            "bin_start": 2.9,
            "bin_end": 3,
            "count": 3
           }
          ]
         }
        },
        {
         "name": "bathroom",
         "dtype": "float64",
         "stats": {
          "unique_count": 2,
          "nan_count": 0,
          "min": "1.0",
          "max": "2.0",
          "histogram": [
           {
            "bin_start": 1,
            "bin_end": 1.1,
            "count": 2
           },
           {
            "bin_start": 1.1,
            "bin_end": 1.2,
            "count": 0
           },
           {
            "bin_start": 1.2,
            "bin_end": 1.3,
            "count": 0
           },
           {
            "bin_start": 1.3,
            "bin_end": 1.4,
            "count": 0
           },
           {
            "bin_start": 1.4,
            "bin_end": 1.5,
            "count": 0
           },
           {
            "bin_start": 1.5,
            "bin_end": 1.6,
            "count": 0
           },
           {
            "bin_start": 1.6,
            "bin_end": 1.7000000000000002,
            "count": 0
           },
           {
            "bin_start": 1.7000000000000002,
            "bin_end": 1.8,
            "count": 0
           },
           {
            "bin_start": 1.8,
            "bin_end": 1.9,
            "count": 0
           },
           {
            "bin_start": 1.9,
            "bin_end": 2,
            "count": 3
           }
          ]
         }
        },
        {
         "name": "car",
         "dtype": "float64",
         "stats": {
          "unique_count": 2,
          "nan_count": 0,
          "min": "1.0",
          "max": "2.0",
          "histogram": [
           {
            "bin_start": 1,
            "bin_end": 1.1,
            "count": 3
           },
           {
            "bin_start": 1.1,
            "bin_end": 1.2,
            "count": 0
           },
           {
            "bin_start": 1.2,
            "bin_end": 1.3,
            "count": 0
           },
           {
            "bin_start": 1.3,
            "bin_end": 1.4,
            "count": 0
           },
           {
            "bin_start": 1.4,
            "bin_end": 1.5,
            "count": 0
           },
           {
            "bin_start": 1.5,
            "bin_end": 1.6,
            "count": 0
           },
           {
            "bin_start": 1.6,
            "bin_end": 1.7000000000000002,
            "count": 0
           },
           {
            "bin_start": 1.7000000000000002,
            "bin_end": 1.8,
            "count": 0
           },
           {
            "bin_start": 1.8,
            "bin_end": 1.9,
            "count": 0
           },
           {
            "bin_start": 1.9,
            "bin_end": 2,
            "count": 2
           }
          ]
         }
        },
        {
         "name": "land_size",
         "dtype": "float64",
         "stats": {
          "unique_count": 5,
          "nan_count": 0,
          "min": "1970.0",
          "max": "2011.0",
          "histogram": [
           {
            "bin_start": 1970,
            "bin_end": 1974.1,
            "count": 1
           },
           {
            "bin_start": 1974.1,
            "bin_end": 1978.2,
            "count": 0
           },
           {
            "bin_start": 1978.2,
            "bin_end": 1982.3,
            "count": 1
           },
           {
            "bin_start": 1982.3,
            "bin_end": 1986.4,
            "count": 0
           },
           {
            "bin_start": 1986.4,
            "bin_end": 1990.5,
            "count": 0
           },
           {
            "bin_start": 1990.5,
            "bin_end": 1994.6,
            "count": 0
           },
           {
            "bin_start": 1994.6,
            "bin_end": 1998.7,
            "count": 0
           },
           {
            "bin_start": 1998.7,
            "bin_end": 2002.8,
            "count": 1
           },
           {
            "bin_start": 2002.8,
            "bin_end": 2006.9,
            "count": 0
           },
           {
            "bin_start": 2006.9,
            "bin_end": 2011,
            "count": 2
           }
          ]
         }
        },
        {
         "name": "council_area",
         "dtype": "object",
         "stats": {
          "unique_count": 4,
          "nan_count": 0,
          "categories": [
           {
            "name": "Hume",
            "count": 2
           },
           {
            "name": "Manningham",
            "count": 1
           },
           {
            "name": "2 others",
            "count": 2
           }
          ]
         }
        },
        {
         "name": "latitude",
         "dtype": "float64",
         "stats": {
          "unique_count": 5,
          "nan_count": 0,
          "min": "-37.76311",
          "max": "-37.68199",
          "histogram": [
           {
            "bin_start": -37.76311,
            "bin_end": -37.754998,
            "count": 2
           },
           {
            "bin_start": -37.754998,
            "bin_end": -37.746885999999996,
            "count": 0
           },
           {
            "bin_start": -37.746885999999996,
            "bin_end": -37.738774,
            "count": 0
           },
           {
            "bin_start": -37.738774,
            "bin_end": -37.730661999999995,
            "count": 0
           },
           {
            "bin_start": -37.730661999999995,
            "bin_end": -37.72255,
            "count": 0
           },
           {
            "bin_start": -37.72255,
            "bin_end": -37.714438,
            "count": 0
           },
           {
            "bin_start": -37.714438,
            "bin_end": -37.706326,
            "count": 0
           },
           {
            "bin_start": -37.706326,
            "bin_end": -37.698214,
            "count": 1
           },
           {
            "bin_start": -37.698214,
            "bin_end": -37.690101999999996,
            "count": 1
           },
           {
            "bin_start": -37.690101999999996,
            "bin_end": -37.68199,
            "count": 1
           }
          ]
         }
        },
        {
         "name": "longitude",
         "dtype": "float64",
         "stats": {
          "unique_count": 5,
          "nan_count": 0,
          "min": "144.88019",
          "max": "145.10494",
          "histogram": [
           {
            "bin_start": 144.88019,
            "bin_end": 144.902665,
            "count": 2
           },
           {
            "bin_start": 144.902665,
            "bin_end": 144.92514,
            "count": 0
           },
           {
            "bin_start": 144.92514,
            "bin_end": 144.94761499999998,
            "count": 0
           },
           {
            "bin_start": 144.94761499999998,
            "bin_end": 144.97009,
            "count": 0
           },
           {
            "bin_start": 144.97009,
            "bin_end": 144.992565,
            "count": 0
           },
           {
            "bin_start": 144.992565,
            "bin_end": 145.01504,
            "count": 1
           },
           {
            "bin_start": 145.01504,
            "bin_end": 145.03751499999998,
            "count": 1
           },
           {
            "bin_start": 145.03751499999998,
            "bin_end": 145.05999,
            "count": 0
           },
           {
            "bin_start": 145.05999,
            "bin_end": 145.082465,
            "count": 0
           },
           {
            "bin_start": 145.082465,
            "bin_end": 145.10494,
            "count": 1
           }
          ]
         }
        },
        {
         "name": "region_name",
         "dtype": "object",
         "stats": {
          "unique_count": 2,
          "nan_count": 0,
          "categories": [
           {
            "name": "Western Metropolitan",
            "count": 4
           },
           {
            "name": "Northern Victoria",
            "count": 1
           }
          ]
         }
        },
        {
         "name": "property_count",
         "dtype": "float64",
         "stats": {
          "unique_count": 3,
          "nan_count": 0,
          "min": "2170.0",
          "max": "6543.0",
          "histogram": [
           {
            "bin_start": 2170,
            "bin_end": 2607.3,
            "count": 1
           },
           {
            "bin_start": 2607.3,
            "bin_end": 3044.6,
            "count": 0
           },
           {
            "bin_start": 3044.6,
            "bin_end": 3481.9,
            "count": 0
           },
           {
            "bin_start": 3481.9,
            "bin_end": 3919.2,
            "count": 0
           },
           {
            "bin_start": 3919.2,
            "bin_end": 4356.5,
            "count": 0
           },
           {
            "bin_start": 4356.5,
            "bin_end": 4793.8,
            "count": 0
           },
           {
            "bin_start": 4793.8,
            "bin_end": 5231.1,
            "count": 0
           },
           {
            "bin_start": 5231.1,
            "bin_end": 5668.4,
            "count": 0
           },
           {
            "bin_start": 5668.4,
            "bin_end": 6105.700000000001,
            "count": 0
           },
           {
            "bin_start": 6105.700000000001,
            "bin_end": 6543,
            "count": 4
           }
          ]
         }
        },
        {
         "name": "_deepnote_index_column",
         "dtype": "int64"
        }
       ],
       "rows_top": [
        {
         "Unnamed: 0": 11641,
         "suburb": "Whittlesea",
         "address": "30 Sherwin St",
         "rooms": 3,
         "type": "h",
         "price": 601000,
         "method": "S",
         "seller_g": "Ray",
         "date": "29/07/2017",
         "distance": 35.5,
         "postcode": 3757,
         "bedroom_2": 3,
         "bathroom": 2,
         "car": 2,
         "land_size": 1970,
         "council_area": "Manningham",
         "latitude": -37.76311,
         "longitude": 145.10494,
         "region_name": "Northern Victoria",
         "property_count": 2170,
         "_deepnote_index_column": 11641
        },
        {
         "Unnamed: 0": 11642,
         "suburb": "Williamstown",
         "address": "87 Pasco St",
         "rooms": 3,
         "type": "h",
         "price": 1285000,
         "method": "S",
         "seller_g": "Jas",
         "date": "29/07/2017",
         "distance": 6.8,
         "postcode": 3016,
         "bedroom_2": 2,
         "bathroom": 1,
         "car": 1,
         "land_size": 2010,
         "council_area": "Whittlesea",
         "latitude": -37.68199,
         "longitude": 145.01744,
         "region_name": "Western Metropolitan",
         "property_count": 6380,
         "_deepnote_index_column": 11642
        },
        {
         "Unnamed: 0": 11643,
         "suburb": "Yarraville",
         "address": "2 Adeney St",
         "rooms": 2,
         "type": "h",
         "price": 750000,
         "method": "SP",
         "seller_g": "hockingstuart",
         "date": "29/07/2017",
         "distance": 6.3,
         "postcode": 3013,
         "bedroom_2": 3,
         "bathroom": 2,
         "car": 2,
         "land_size": 1999,
         "council_area": "Darebin",
         "latitude": -37.75948,
         "longitude": 144.99615,
         "region_name": "Western Metropolitan",
         "property_count": 6543,
         "_deepnote_index_column": 11643
        },
        {
         "Unnamed: 0": 11644,
         "suburb": "Yarraville",
         "address": "54 Pentland Pde",
         "rooms": 6,
         "type": "h",
         "price": 2450000,
         "method": "VB",
         "seller_g": "Village",
         "date": "29/07/2017",
         "distance": 6.3,
         "postcode": 3013,
         "bedroom_2": 3,
         "bathroom": 2,
         "car": 1,
         "land_size": 2011,
         "council_area": "Hume",
         "latitude": -37.70322,
         "longitude": 144.88236,
         "region_name": "Western Metropolitan",
         "property_count": 6543,
         "_deepnote_index_column": 11644
        },
        {
         "Unnamed: 0": 11645,
         "suburb": "Yarraville",
         "address": "10/127 Somerville Rd",
         "rooms": 3,
         "type": "t",
         "price": 645000,
         "method": "SP",
         "seller_g": "Jas",
         "date": "29/07/2017",
         "distance": 6.3,
         "postcode": 3013,
         "bedroom_2": 2,
         "bathroom": 1,
         "car": 1,
         "land_size": 1980,
         "council_area": "Hume",
         "latitude": -37.69815,
         "longitude": 144.88019,
         "region_name": "Western Metropolitan",
         "property_count": 6543,
         "_deepnote_index_column": 11645
        }
       ],
       "rows_bottom": null
      },
      "text/plain": "       Unnamed: 0        suburb               address  rooms type      price  \\\n11641       11641    Whittlesea         30 Sherwin St      3    h   601000.0   \n11642       11642  Williamstown           87 Pasco St      3    h  1285000.0   \n11643       11643    Yarraville           2 Adeney St      2    h   750000.0   \n11644       11644    Yarraville       54 Pentland Pde      6    h  2450000.0   \n11645       11645    Yarraville  10/127 Somerville Rd      3    t   645000.0   \n\n      method       seller_g        date  distance  postcode  bedroom_2  \\\n11641      S            Ray  29/07/2017      35.5    3757.0        3.0   \n11642      S            Jas  29/07/2017       6.8    3016.0        2.0   \n11643     SP  hockingstuart  29/07/2017       6.3    3013.0        3.0   \n11644     VB        Village  29/07/2017       6.3    3013.0        3.0   \n11645     SP            Jas  29/07/2017       6.3    3013.0        2.0   \n\n       bathroom  car  land_size council_area  latitude  longitude  \\\n11641       2.0  2.0     1970.0   Manningham -37.76311  145.10494   \n11642       1.0  1.0     2010.0   Whittlesea -37.68199  145.01744   \n11643       2.0  2.0     1999.0      Darebin -37.75948  144.99615   \n11644       2.0  1.0     2011.0         Hume -37.70322  144.88236   \n11645       1.0  1.0     1980.0         Hume -37.69815  144.88019   \n\n                region_name  property_count  \n11641     Northern Victoria          2170.0  \n11642  Western Metropolitan          6380.0  \n11643  Western Metropolitan          6543.0  \n11644  Western Metropolitan          6543.0  \n11645  Western Metropolitan          6543.0  ",
      "text/html": "<div>\n<style scoped>\n    .dataframe tbody tr th:only-of-type {\n        vertical-align: middle;\n    }\n\n    .dataframe tbody tr th {\n        vertical-align: top;\n    }\n\n    .dataframe thead th {\n        text-align: right;\n    }\n</style>\n<table border=\"1\" class=\"dataframe\">\n  <thead>\n    <tr style=\"text-align: right;\">\n      <th></th>\n      <th>Unnamed: 0</th>\n      <th>suburb</th>\n      <th>address</th>\n      <th>rooms</th>\n      <th>type</th>\n      <th>price</th>\n      <th>method</th>\n      <th>seller_g</th>\n      <th>date</th>\n      <th>distance</th>\n      <th>postcode</th>\n      <th>bedroom_2</th>\n      <th>bathroom</th>\n      <th>car</th>\n      <th>land_size</th>\n      <th>council_area</th>\n      <th>latitude</th>\n      <th>longitude</th>\n      <th>region_name</th>\n      <th>property_count</th>\n    </tr>\n  </thead>\n  <tbody>\n    <tr>\n      <th>11641</th>\n      <td>11641</td>\n      <td>Whittlesea</td>\n      <td>30 Sherwin St</td>\n      <td>3</td>\n      <td>h</td>\n      <td>601000.0</td>\n      <td>S</td>\n      <td>Ray</td>\n      <td>29/07/2017</td>\n      <td>35.5</td>\n      <td>3757.0</td>\n      <td>3.0</td>\n      <td>2.0</td>\n      <td>2.0</td>\n      <td>1970.0</td>\n      <td>Manningham</td>\n      <td>-37.76311</td>\n      <td>145.10494</td>\n      <td>Northern Victoria</td>\n      <td>2170.0</td>\n    </tr>\n    <tr>\n      <th>11642</th>\n      <td>11642</td>\n      <td>Williamstown</td>\n      <td>87 Pasco St</td>\n      <td>3</td>\n      <td>h</td>\n      <td>1285000.0</td>\n      <td>S</td>\n      <td>Jas</td>\n      <td>29/07/2017</td>\n      <td>6.8</td>\n      <td>3016.0</td>\n      <td>2.0</td>\n      <td>1.0</td>\n      <td>1.0</td>\n      <td>2010.0</td>\n      <td>Whittlesea</td>\n      <td>-37.68199</td>\n      <td>145.01744</td>\n      <td>Western Metropolitan</td>\n      <td>6380.0</td>\n    </tr>\n    <tr>\n      <th>11643</th>\n      <td>11643</td>\n      <td>Yarraville</td>\n      <td>2 Adeney St</td>\n      <td>2</td>\n      <td>h</td>\n      <td>750000.0</td>\n      <td>SP</td>\n      <td>hockingstuart</td>\n      <td>29/07/2017</td>\n      <td>6.3</td>\n      <td>3013.0</td>\n      <td>3.0</td>\n      <td>2.0</td>\n      <td>2.0</td>\n      <td>1999.0</td>\n      <td>Darebin</td>\n      <td>-37.75948</td>\n      <td>144.99615</td>\n      <td>Western Metropolitan</td>\n      <td>6543.0</td>\n    </tr>\n    <tr>\n      <th>11644</th>\n      <td>11644</td>\n      <td>Yarraville</td>\n      <td>54 Pentland Pde</td>\n      <td>6</td>\n      <td>h</td>\n      <td>2450000.0</td>\n      <td>VB</td>\n      <td>Village</td>\n      <td>29/07/2017</td>\n      <td>6.3</td>\n      <td>3013.0</td>\n      <td>3.0</td>\n      <td>2.0</td>\n      <td>1.0</td>\n      <td>2011.0</td>\n      <td>Hume</td>\n      <td>-37.70322</td>\n      <td>144.88236</td>\n      <td>Western Metropolitan</td>\n      <td>6543.0</td>\n    </tr>\n    <tr>\n      <th>11645</th>\n      <td>11645</td>\n      <td>Yarraville</td>\n      <td>10/127 Somerville Rd</td>\n      <td>3</td>\n      <td>t</td>\n      <td>645000.0</td>\n      <td>SP</td>\n      <td>Jas</td>\n      <td>29/07/2017</td>\n      <td>6.3</td>\n      <td>3013.0</td>\n      <td>2.0</td>\n      <td>1.0</td>\n      <td>1.0</td>\n      <td>1980.0</td>\n      <td>Hume</td>\n      <td>-37.69815</td>\n      <td>144.88019</td>\n      <td>Western Metropolitan</td>\n      <td>6543.0</td>\n    </tr>\n  </tbody>\n</table>\n</div>"
     },
     "metadata": {}
    }
   ]
  },
  {
   "cell_type": "code",
   "metadata": {
    "tags": [],
    "cell_id": "00004-f88f83ce-75c9-4e4e-85bc-3c81f8dbacef",
    "deepnote_to_be_reexecuted": false,
    "source_hash": "cccf1df5",
    "execution_start": 1631910595657,
    "execution_millis": 8,
    "deepnote_cell_type": "code"
   },
   "source": "# df_grouped = df.groupby('region_name')[['type','land_size']].max()\n# df_grouped.head(20)",
   "execution_count": null,
   "outputs": []
  },
  {
   "cell_type": "code",
   "metadata": {
    "tags": [],
    "cell_id": "00004-a1ef1132-2734-43ed-a660-5a650abe5922",
    "deepnote_to_be_reexecuted": false,
    "source_hash": "fad985d1",
    "execution_start": 1631911013890,
    "execution_millis": 372,
    "deepnote_cell_type": "code"
   },
   "source": "# Manera 1\ndf['city'] = 'Melbourne'\nfig = px.treemap(df, path = ['city','region_name','type'], values= 'land_size')\n\nfig.show()",
   "execution_count": null,
   "outputs": [
    {
     "data": {
      "text/html": "<html>\n<head><meta charset=\"utf-8\" /></head>\n<body>\n    <div>            <script src=\"https://cdnjs.cloudflare.com/ajax/libs/mathjax/2.7.5/MathJax.js?config=TeX-AMS-MML_SVG\"></script><script type=\"text/javascript\">if (window.MathJax) {MathJax.Hub.Config({SVG: {font: \"STIX-Web\"}});}</script>                <script type=\"text/javascript\">window.PlotlyConfig = {MathJaxConfig: 'local'};</script>\n        <script src=\"https://cdn.plot.ly/plotly-2.4.2.min.js\"></script>                <div id=\"4809665d-70da-4f13-954e-6c8fd79c238a\" class=\"plotly-graph-div\" style=\"height:525px; width:100%;\"></div>            <script type=\"text/javascript\">                                    window.PLOTLYENV=window.PLOTLYENV || {};                                    if (document.getElementById(\"4809665d-70da-4f13-954e-6c8fd79c238a\")) {                    Plotly.newPlot(                        \"4809665d-70da-4f13-954e-6c8fd79c238a\",                        [{\"branchvalues\":\"total\",\"domain\":{\"x\":[0.0,1.0],\"y\":[0.0,1.0]},\"hovertemplate\":\"labels=%{label}<br>land_size=%{value}<br>parent=%{parent}<br>id=%{id}<extra></extra>\",\"ids\":[\"Melbourne/Eastern Metropolitan/h\",\"Melbourne/Eastern Victoria/h\",\"Melbourne/Northern Metropolitan/h\",\"Melbourne/Northern Victoria/h\",\"Melbourne/South-Eastern Metropolitan/h\",\"Melbourne/Southern Metropolitan/h\",\"Melbourne/Western Metropolitan/h\",\"Melbourne/Western Victoria/h\",\"Melbourne/Eastern Metropolitan/t\",\"Melbourne/Northern Metropolitan/t\",\"Melbourne/Northern Victoria/t\",\"Melbourne/South-Eastern Metropolitan/t\",\"Melbourne/Southern Metropolitan/t\",\"Melbourne/Western Metropolitan/t\",\"Melbourne/Eastern Metropolitan/u\",\"Melbourne/Eastern Victoria/u\",\"Melbourne/Northern Metropolitan/u\",\"Melbourne/South-Eastern Metropolitan/u\",\"Melbourne/Southern Metropolitan/u\",\"Melbourne/Western Metropolitan/u\",\"Melbourne/Western Victoria/u\",\"Melbourne/Eastern Metropolitan\",\"Melbourne/Eastern Victoria\",\"Melbourne/Northern Metropolitan\",\"Melbourne/Northern Victoria\",\"Melbourne/South-Eastern Metropolitan\",\"Melbourne/Southern Metropolitan\",\"Melbourne/Western Metropolitan\",\"Melbourne/Western Victoria\",\"Melbourne\"],\"labels\":[\"h\",\"h\",\"h\",\"h\",\"h\",\"h\",\"h\",\"h\",\"t\",\"t\",\"t\",\"t\",\"t\",\"t\",\"u\",\"u\",\"u\",\"u\",\"u\",\"u\",\"u\",\"Eastern Metropolitan\",\"Eastern Victoria\",\"Northern Metropolitan\",\"Northern Victoria\",\"South-Eastern Metropolitan\",\"Southern Metropolitan\",\"Western Metropolitan\",\"Western Victoria\",\"Melbourne\"],\"name\":\"\",\"parents\":[\"Melbourne/Eastern Metropolitan\",\"Melbourne/Eastern Victoria\",\"Melbourne/Northern Metropolitan\",\"Melbourne/Northern Victoria\",\"Melbourne/South-Eastern Metropolitan\",\"Melbourne/Southern Metropolitan\",\"Melbourne/Western Metropolitan\",\"Melbourne/Western Victoria\",\"Melbourne/Eastern Metropolitan\",\"Melbourne/Northern Metropolitan\",\"Melbourne/Northern Victoria\",\"Melbourne/South-Eastern Metropolitan\",\"Melbourne/Southern Metropolitan\",\"Melbourne/Western Metropolitan\",\"Melbourne/Eastern Metropolitan\",\"Melbourne/Eastern Victoria\",\"Melbourne/Northern Metropolitan\",\"Melbourne/South-Eastern Metropolitan\",\"Melbourne/Southern Metropolitan\",\"Melbourne/Western Metropolitan\",\"Melbourne/Western Victoria\",\"Melbourne\",\"Melbourne\",\"Melbourne\",\"Melbourne\",\"Melbourne\",\"Melbourne\",\"Melbourne\",\"Melbourne\",\"\"],\"type\":\"treemap\",\"values\":[640076.0,147122.0,1192028.0,24847.0,194576.0,1360882.0,1062555.0,24579.0,36518.0,108990.0,126.0,14054.0,129027.0,82582.0,56731.0,2511.0,392902.0,26460.0,725294.0,233224.0,2135.0,733325.0,149633.0,1693920.0,24973.0,235090.0,2215203.0,1378361.0,26714.0,6457219.0]}],                        {\"legend\":{\"tracegroupgap\":0},\"margin\":{\"t\":60},\"template\":{\"data\":{\"bar\":[{\"error_x\":{\"color\":\"#2a3f5f\"},\"error_y\":{\"color\":\"#2a3f5f\"},\"marker\":{\"line\":{\"color\":\"#E5ECF6\",\"width\":0.5},\"pattern\":{\"fillmode\":\"overlay\",\"size\":10,\"solidity\":0.2}},\"type\":\"bar\"}],\"barpolar\":[{\"marker\":{\"line\":{\"color\":\"#E5ECF6\",\"width\":0.5},\"pattern\":{\"fillmode\":\"overlay\",\"size\":10,\"solidity\":0.2}},\"type\":\"barpolar\"}],\"carpet\":[{\"aaxis\":{\"endlinecolor\":\"#2a3f5f\",\"gridcolor\":\"white\",\"linecolor\":\"white\",\"minorgridcolor\":\"white\",\"startlinecolor\":\"#2a3f5f\"},\"baxis\":{\"endlinecolor\":\"#2a3f5f\",\"gridcolor\":\"white\",\"linecolor\":\"white\",\"minorgridcolor\":\"white\",\"startlinecolor\":\"#2a3f5f\"},\"type\":\"carpet\"}],\"choropleth\":[{\"colorbar\":{\"outlinewidth\":0,\"ticks\":\"\"},\"type\":\"choropleth\"}],\"contour\":[{\"colorbar\":{\"outlinewidth\":0,\"ticks\":\"\"},\"colorscale\":[[0.0,\"#0d0887\"],[0.1111111111111111,\"#46039f\"],[0.2222222222222222,\"#7201a8\"],[0.3333333333333333,\"#9c179e\"],[0.4444444444444444,\"#bd3786\"],[0.5555555555555556,\"#d8576b\"],[0.6666666666666666,\"#ed7953\"],[0.7777777777777778,\"#fb9f3a\"],[0.8888888888888888,\"#fdca26\"],[1.0,\"#f0f921\"]],\"type\":\"contour\"}],\"contourcarpet\":[{\"colorbar\":{\"outlinewidth\":0,\"ticks\":\"\"},\"type\":\"contourcarpet\"}],\"heatmap\":[{\"colorbar\":{\"outlinewidth\":0,\"ticks\":\"\"},\"colorscale\":[[0.0,\"#0d0887\"],[0.1111111111111111,\"#46039f\"],[0.2222222222222222,\"#7201a8\"],[0.3333333333333333,\"#9c179e\"],[0.4444444444444444,\"#bd3786\"],[0.5555555555555556,\"#d8576b\"],[0.6666666666666666,\"#ed7953\"],[0.7777777777777778,\"#fb9f3a\"],[0.8888888888888888,\"#fdca26\"],[1.0,\"#f0f921\"]],\"type\":\"heatmap\"}],\"heatmapgl\":[{\"colorbar\":{\"outlinewidth\":0,\"ticks\":\"\"},\"colorscale\":[[0.0,\"#0d0887\"],[0.1111111111111111,\"#46039f\"],[0.2222222222222222,\"#7201a8\"],[0.3333333333333333,\"#9c179e\"],[0.4444444444444444,\"#bd3786\"],[0.5555555555555556,\"#d8576b\"],[0.6666666666666666,\"#ed7953\"],[0.7777777777777778,\"#fb9f3a\"],[0.8888888888888888,\"#fdca26\"],[1.0,\"#f0f921\"]],\"type\":\"heatmapgl\"}],\"histogram\":[{\"marker\":{\"pattern\":{\"fillmode\":\"overlay\",\"size\":10,\"solidity\":0.2}},\"type\":\"histogram\"}],\"histogram2d\":[{\"colorbar\":{\"outlinewidth\":0,\"ticks\":\"\"},\"colorscale\":[[0.0,\"#0d0887\"],[0.1111111111111111,\"#46039f\"],[0.2222222222222222,\"#7201a8\"],[0.3333333333333333,\"#9c179e\"],[0.4444444444444444,\"#bd3786\"],[0.5555555555555556,\"#d8576b\"],[0.6666666666666666,\"#ed7953\"],[0.7777777777777778,\"#fb9f3a\"],[0.8888888888888888,\"#fdca26\"],[1.0,\"#f0f921\"]],\"type\":\"histogram2d\"}],\"histogram2dcontour\":[{\"colorbar\":{\"outlinewidth\":0,\"ticks\":\"\"},\"colorscale\":[[0.0,\"#0d0887\"],[0.1111111111111111,\"#46039f\"],[0.2222222222222222,\"#7201a8\"],[0.3333333333333333,\"#9c179e\"],[0.4444444444444444,\"#bd3786\"],[0.5555555555555556,\"#d8576b\"],[0.6666666666666666,\"#ed7953\"],[0.7777777777777778,\"#fb9f3a\"],[0.8888888888888888,\"#fdca26\"],[1.0,\"#f0f921\"]],\"type\":\"histogram2dcontour\"}],\"mesh3d\":[{\"colorbar\":{\"outlinewidth\":0,\"ticks\":\"\"},\"type\":\"mesh3d\"}],\"parcoords\":[{\"line\":{\"colorbar\":{\"outlinewidth\":0,\"ticks\":\"\"}},\"type\":\"parcoords\"}],\"pie\":[{\"automargin\":true,\"type\":\"pie\"}],\"scatter\":[{\"marker\":{\"colorbar\":{\"outlinewidth\":0,\"ticks\":\"\"}},\"type\":\"scatter\"}],\"scatter3d\":[{\"line\":{\"colorbar\":{\"outlinewidth\":0,\"ticks\":\"\"}},\"marker\":{\"colorbar\":{\"outlinewidth\":0,\"ticks\":\"\"}},\"type\":\"scatter3d\"}],\"scattercarpet\":[{\"marker\":{\"colorbar\":{\"outlinewidth\":0,\"ticks\":\"\"}},\"type\":\"scattercarpet\"}],\"scattergeo\":[{\"marker\":{\"colorbar\":{\"outlinewidth\":0,\"ticks\":\"\"}},\"type\":\"scattergeo\"}],\"scattergl\":[{\"marker\":{\"colorbar\":{\"outlinewidth\":0,\"ticks\":\"\"}},\"type\":\"scattergl\"}],\"scattermapbox\":[{\"marker\":{\"colorbar\":{\"outlinewidth\":0,\"ticks\":\"\"}},\"type\":\"scattermapbox\"}],\"scatterpolar\":[{\"marker\":{\"colorbar\":{\"outlinewidth\":0,\"ticks\":\"\"}},\"type\":\"scatterpolar\"}],\"scatterpolargl\":[{\"marker\":{\"colorbar\":{\"outlinewidth\":0,\"ticks\":\"\"}},\"type\":\"scatterpolargl\"}],\"scatterternary\":[{\"marker\":{\"colorbar\":{\"outlinewidth\":0,\"ticks\":\"\"}},\"type\":\"scatterternary\"}],\"surface\":[{\"colorbar\":{\"outlinewidth\":0,\"ticks\":\"\"},\"colorscale\":[[0.0,\"#0d0887\"],[0.1111111111111111,\"#46039f\"],[0.2222222222222222,\"#7201a8\"],[0.3333333333333333,\"#9c179e\"],[0.4444444444444444,\"#bd3786\"],[0.5555555555555556,\"#d8576b\"],[0.6666666666666666,\"#ed7953\"],[0.7777777777777778,\"#fb9f3a\"],[0.8888888888888888,\"#fdca26\"],[1.0,\"#f0f921\"]],\"type\":\"surface\"}],\"table\":[{\"cells\":{\"fill\":{\"color\":\"#EBF0F8\"},\"line\":{\"color\":\"white\"}},\"header\":{\"fill\":{\"color\":\"#C8D4E3\"},\"line\":{\"color\":\"white\"}},\"type\":\"table\"}]},\"layout\":{\"annotationdefaults\":{\"arrowcolor\":\"#2a3f5f\",\"arrowhead\":0,\"arrowwidth\":1},\"autotypenumbers\":\"strict\",\"coloraxis\":{\"colorbar\":{\"outlinewidth\":0,\"ticks\":\"\"}},\"colorscale\":{\"diverging\":[[0,\"#8e0152\"],[0.1,\"#c51b7d\"],[0.2,\"#de77ae\"],[0.3,\"#f1b6da\"],[0.4,\"#fde0ef\"],[0.5,\"#f7f7f7\"],[0.6,\"#e6f5d0\"],[0.7,\"#b8e186\"],[0.8,\"#7fbc41\"],[0.9,\"#4d9221\"],[1,\"#276419\"]],\"sequential\":[[0.0,\"#0d0887\"],[0.1111111111111111,\"#46039f\"],[0.2222222222222222,\"#7201a8\"],[0.3333333333333333,\"#9c179e\"],[0.4444444444444444,\"#bd3786\"],[0.5555555555555556,\"#d8576b\"],[0.6666666666666666,\"#ed7953\"],[0.7777777777777778,\"#fb9f3a\"],[0.8888888888888888,\"#fdca26\"],[1.0,\"#f0f921\"]],\"sequentialminus\":[[0.0,\"#0d0887\"],[0.1111111111111111,\"#46039f\"],[0.2222222222222222,\"#7201a8\"],[0.3333333333333333,\"#9c179e\"],[0.4444444444444444,\"#bd3786\"],[0.5555555555555556,\"#d8576b\"],[0.6666666666666666,\"#ed7953\"],[0.7777777777777778,\"#fb9f3a\"],[0.8888888888888888,\"#fdca26\"],[1.0,\"#f0f921\"]]},\"colorway\":[\"#636efa\",\"#EF553B\",\"#00cc96\",\"#ab63fa\",\"#FFA15A\",\"#19d3f3\",\"#FF6692\",\"#B6E880\",\"#FF97FF\",\"#FECB52\"],\"font\":{\"color\":\"#2a3f5f\"},\"geo\":{\"bgcolor\":\"white\",\"lakecolor\":\"white\",\"landcolor\":\"#E5ECF6\",\"showlakes\":true,\"showland\":true,\"subunitcolor\":\"white\"},\"hoverlabel\":{\"align\":\"left\"},\"hovermode\":\"closest\",\"mapbox\":{\"style\":\"light\"},\"paper_bgcolor\":\"white\",\"plot_bgcolor\":\"#E5ECF6\",\"polar\":{\"angularaxis\":{\"gridcolor\":\"white\",\"linecolor\":\"white\",\"ticks\":\"\"},\"bgcolor\":\"#E5ECF6\",\"radialaxis\":{\"gridcolor\":\"white\",\"linecolor\":\"white\",\"ticks\":\"\"}},\"scene\":{\"xaxis\":{\"backgroundcolor\":\"#E5ECF6\",\"gridcolor\":\"white\",\"gridwidth\":2,\"linecolor\":\"white\",\"showbackground\":true,\"ticks\":\"\",\"zerolinecolor\":\"white\"},\"yaxis\":{\"backgroundcolor\":\"#E5ECF6\",\"gridcolor\":\"white\",\"gridwidth\":2,\"linecolor\":\"white\",\"showbackground\":true,\"ticks\":\"\",\"zerolinecolor\":\"white\"},\"zaxis\":{\"backgroundcolor\":\"#E5ECF6\",\"gridcolor\":\"white\",\"gridwidth\":2,\"linecolor\":\"white\",\"showbackground\":true,\"ticks\":\"\",\"zerolinecolor\":\"white\"}},\"shapedefaults\":{\"line\":{\"color\":\"#2a3f5f\"}},\"ternary\":{\"aaxis\":{\"gridcolor\":\"white\",\"linecolor\":\"white\",\"ticks\":\"\"},\"baxis\":{\"gridcolor\":\"white\",\"linecolor\":\"white\",\"ticks\":\"\"},\"bgcolor\":\"#E5ECF6\",\"caxis\":{\"gridcolor\":\"white\",\"linecolor\":\"white\",\"ticks\":\"\"}},\"title\":{\"x\":0.05},\"xaxis\":{\"automargin\":true,\"gridcolor\":\"white\",\"linecolor\":\"white\",\"ticks\":\"\",\"title\":{\"standoff\":15},\"zerolinecolor\":\"white\",\"zerolinewidth\":2},\"yaxis\":{\"automargin\":true,\"gridcolor\":\"white\",\"linecolor\":\"white\",\"ticks\":\"\",\"title\":{\"standoff\":15},\"zerolinecolor\":\"white\",\"zerolinewidth\":2}}}},                        {\"responsive\": true}                    ).then(function(){\n                            \nvar gd = document.getElementById('4809665d-70da-4f13-954e-6c8fd79c238a');\nvar x = new MutationObserver(function (mutations, observer) {{\n        var display = window.getComputedStyle(gd).display;\n        if (!display || display === 'none') {{\n            console.log([gd, 'removed!']);\n            Plotly.purge(gd);\n            observer.disconnect();\n        }}\n}});\n\n// Listen for the removal of the full notebook cells\nvar notebookContainer = gd.closest('#notebook-container');\nif (notebookContainer) {{\n    x.observe(notebookContainer, {childList: true});\n}}\n\n// Listen for the clearing of the current output cell\nvar outputEl = gd.closest('.output');\nif (outputEl) {{\n    x.observe(outputEl, {childList: true});\n}}\n\n                        })                };                            </script>        </div>\n</body>\n</html>"
     },
     "metadata": {},
     "output_type": "display_data"
    }
   ]
  },
  {
   "cell_type": "code",
   "metadata": {
    "tags": [],
    "cell_id": "00006-fa946f25-dcf0-4b7e-9865-909638f4c46d",
    "deepnote_to_be_reexecuted": false,
    "source_hash": "f039eb76",
    "execution_start": 1631911375125,
    "execution_millis": 385,
    "deepnote_cell_type": "code"
   },
   "source": "# Manera 2\nfig = px.treemap(df,path=[px.Constant('Melbourne'),'region_name','type'], values='land_size')\nfig.show()",
   "execution_count": null,
   "outputs": [
    {
     "data": {
      "text/html": "<html>\n<head><meta charset=\"utf-8\" /></head>\n<body>\n    <div>            <script src=\"https://cdnjs.cloudflare.com/ajax/libs/mathjax/2.7.5/MathJax.js?config=TeX-AMS-MML_SVG\"></script><script type=\"text/javascript\">if (window.MathJax) {MathJax.Hub.Config({SVG: {font: \"STIX-Web\"}});}</script>                <script type=\"text/javascript\">window.PlotlyConfig = {MathJaxConfig: 'local'};</script>\n        <script src=\"https://cdn.plot.ly/plotly-2.4.2.min.js\"></script>                <div id=\"f0e8cdf1-37a3-4542-a9e0-4404ea33c870\" class=\"plotly-graph-div\" style=\"height:525px; width:100%;\"></div>            <script type=\"text/javascript\">                                    window.PLOTLYENV=window.PLOTLYENV || {};                                    if (document.getElementById(\"f0e8cdf1-37a3-4542-a9e0-4404ea33c870\")) {                    Plotly.newPlot(                        \"f0e8cdf1-37a3-4542-a9e0-4404ea33c870\",                        [{\"branchvalues\":\"total\",\"domain\":{\"x\":[0.0,1.0],\"y\":[0.0,1.0]},\"hovertemplate\":\"labels=%{label}<br>land_size=%{value}<br>parent=%{parent}<br>id=%{id}<extra></extra>\",\"ids\":[\"Melbourne/Eastern Metropolitan/h\",\"Melbourne/Eastern Victoria/h\",\"Melbourne/Northern Metropolitan/h\",\"Melbourne/Northern Victoria/h\",\"Melbourne/South-Eastern Metropolitan/h\",\"Melbourne/Southern Metropolitan/h\",\"Melbourne/Western Metropolitan/h\",\"Melbourne/Western Victoria/h\",\"Melbourne/Eastern Metropolitan/t\",\"Melbourne/Northern Metropolitan/t\",\"Melbourne/Northern Victoria/t\",\"Melbourne/South-Eastern Metropolitan/t\",\"Melbourne/Southern Metropolitan/t\",\"Melbourne/Western Metropolitan/t\",\"Melbourne/Eastern Metropolitan/u\",\"Melbourne/Eastern Victoria/u\",\"Melbourne/Northern Metropolitan/u\",\"Melbourne/South-Eastern Metropolitan/u\",\"Melbourne/Southern Metropolitan/u\",\"Melbourne/Western Metropolitan/u\",\"Melbourne/Western Victoria/u\",\"Melbourne/Eastern Metropolitan\",\"Melbourne/Eastern Victoria\",\"Melbourne/Northern Metropolitan\",\"Melbourne/Northern Victoria\",\"Melbourne/South-Eastern Metropolitan\",\"Melbourne/Southern Metropolitan\",\"Melbourne/Western Metropolitan\",\"Melbourne/Western Victoria\",\"Melbourne\"],\"labels\":[\"h\",\"h\",\"h\",\"h\",\"h\",\"h\",\"h\",\"h\",\"t\",\"t\",\"t\",\"t\",\"t\",\"t\",\"u\",\"u\",\"u\",\"u\",\"u\",\"u\",\"u\",\"Eastern Metropolitan\",\"Eastern Victoria\",\"Northern Metropolitan\",\"Northern Victoria\",\"South-Eastern Metropolitan\",\"Southern Metropolitan\",\"Western Metropolitan\",\"Western Victoria\",\"Melbourne\"],\"name\":\"\",\"parents\":[\"Melbourne/Eastern Metropolitan\",\"Melbourne/Eastern Victoria\",\"Melbourne/Northern Metropolitan\",\"Melbourne/Northern Victoria\",\"Melbourne/South-Eastern Metropolitan\",\"Melbourne/Southern Metropolitan\",\"Melbourne/Western Metropolitan\",\"Melbourne/Western Victoria\",\"Melbourne/Eastern Metropolitan\",\"Melbourne/Northern Metropolitan\",\"Melbourne/Northern Victoria\",\"Melbourne/South-Eastern Metropolitan\",\"Melbourne/Southern Metropolitan\",\"Melbourne/Western Metropolitan\",\"Melbourne/Eastern Metropolitan\",\"Melbourne/Eastern Victoria\",\"Melbourne/Northern Metropolitan\",\"Melbourne/South-Eastern Metropolitan\",\"Melbourne/Southern Metropolitan\",\"Melbourne/Western Metropolitan\",\"Melbourne/Western Victoria\",\"Melbourne\",\"Melbourne\",\"Melbourne\",\"Melbourne\",\"Melbourne\",\"Melbourne\",\"Melbourne\",\"Melbourne\",\"\"],\"type\":\"treemap\",\"values\":[640076.0,147122.0,1192028.0,24847.0,194576.0,1360882.0,1062555.0,24579.0,36518.0,108990.0,126.0,14054.0,129027.0,82582.0,56731.0,2511.0,392902.0,26460.0,725294.0,233224.0,2135.0,733325.0,149633.0,1693920.0,24973.0,235090.0,2215203.0,1378361.0,26714.0,6457219.0]}],                        {\"legend\":{\"tracegroupgap\":0},\"margin\":{\"t\":60},\"template\":{\"data\":{\"bar\":[{\"error_x\":{\"color\":\"#2a3f5f\"},\"error_y\":{\"color\":\"#2a3f5f\"},\"marker\":{\"line\":{\"color\":\"#E5ECF6\",\"width\":0.5},\"pattern\":{\"fillmode\":\"overlay\",\"size\":10,\"solidity\":0.2}},\"type\":\"bar\"}],\"barpolar\":[{\"marker\":{\"line\":{\"color\":\"#E5ECF6\",\"width\":0.5},\"pattern\":{\"fillmode\":\"overlay\",\"size\":10,\"solidity\":0.2}},\"type\":\"barpolar\"}],\"carpet\":[{\"aaxis\":{\"endlinecolor\":\"#2a3f5f\",\"gridcolor\":\"white\",\"linecolor\":\"white\",\"minorgridcolor\":\"white\",\"startlinecolor\":\"#2a3f5f\"},\"baxis\":{\"endlinecolor\":\"#2a3f5f\",\"gridcolor\":\"white\",\"linecolor\":\"white\",\"minorgridcolor\":\"white\",\"startlinecolor\":\"#2a3f5f\"},\"type\":\"carpet\"}],\"choropleth\":[{\"colorbar\":{\"outlinewidth\":0,\"ticks\":\"\"},\"type\":\"choropleth\"}],\"contour\":[{\"colorbar\":{\"outlinewidth\":0,\"ticks\":\"\"},\"colorscale\":[[0.0,\"#0d0887\"],[0.1111111111111111,\"#46039f\"],[0.2222222222222222,\"#7201a8\"],[0.3333333333333333,\"#9c179e\"],[0.4444444444444444,\"#bd3786\"],[0.5555555555555556,\"#d8576b\"],[0.6666666666666666,\"#ed7953\"],[0.7777777777777778,\"#fb9f3a\"],[0.8888888888888888,\"#fdca26\"],[1.0,\"#f0f921\"]],\"type\":\"contour\"}],\"contourcarpet\":[{\"colorbar\":{\"outlinewidth\":0,\"ticks\":\"\"},\"type\":\"contourcarpet\"}],\"heatmap\":[{\"colorbar\":{\"outlinewidth\":0,\"ticks\":\"\"},\"colorscale\":[[0.0,\"#0d0887\"],[0.1111111111111111,\"#46039f\"],[0.2222222222222222,\"#7201a8\"],[0.3333333333333333,\"#9c179e\"],[0.4444444444444444,\"#bd3786\"],[0.5555555555555556,\"#d8576b\"],[0.6666666666666666,\"#ed7953\"],[0.7777777777777778,\"#fb9f3a\"],[0.8888888888888888,\"#fdca26\"],[1.0,\"#f0f921\"]],\"type\":\"heatmap\"}],\"heatmapgl\":[{\"colorbar\":{\"outlinewidth\":0,\"ticks\":\"\"},\"colorscale\":[[0.0,\"#0d0887\"],[0.1111111111111111,\"#46039f\"],[0.2222222222222222,\"#7201a8\"],[0.3333333333333333,\"#9c179e\"],[0.4444444444444444,\"#bd3786\"],[0.5555555555555556,\"#d8576b\"],[0.6666666666666666,\"#ed7953\"],[0.7777777777777778,\"#fb9f3a\"],[0.8888888888888888,\"#fdca26\"],[1.0,\"#f0f921\"]],\"type\":\"heatmapgl\"}],\"histogram\":[{\"marker\":{\"pattern\":{\"fillmode\":\"overlay\",\"size\":10,\"solidity\":0.2}},\"type\":\"histogram\"}],\"histogram2d\":[{\"colorbar\":{\"outlinewidth\":0,\"ticks\":\"\"},\"colorscale\":[[0.0,\"#0d0887\"],[0.1111111111111111,\"#46039f\"],[0.2222222222222222,\"#7201a8\"],[0.3333333333333333,\"#9c179e\"],[0.4444444444444444,\"#bd3786\"],[0.5555555555555556,\"#d8576b\"],[0.6666666666666666,\"#ed7953\"],[0.7777777777777778,\"#fb9f3a\"],[0.8888888888888888,\"#fdca26\"],[1.0,\"#f0f921\"]],\"type\":\"histogram2d\"}],\"histogram2dcontour\":[{\"colorbar\":{\"outlinewidth\":0,\"ticks\":\"\"},\"colorscale\":[[0.0,\"#0d0887\"],[0.1111111111111111,\"#46039f\"],[0.2222222222222222,\"#7201a8\"],[0.3333333333333333,\"#9c179e\"],[0.4444444444444444,\"#bd3786\"],[0.5555555555555556,\"#d8576b\"],[0.6666666666666666,\"#ed7953\"],[0.7777777777777778,\"#fb9f3a\"],[0.8888888888888888,\"#fdca26\"],[1.0,\"#f0f921\"]],\"type\":\"histogram2dcontour\"}],\"mesh3d\":[{\"colorbar\":{\"outlinewidth\":0,\"ticks\":\"\"},\"type\":\"mesh3d\"}],\"parcoords\":[{\"line\":{\"colorbar\":{\"outlinewidth\":0,\"ticks\":\"\"}},\"type\":\"parcoords\"}],\"pie\":[{\"automargin\":true,\"type\":\"pie\"}],\"scatter\":[{\"marker\":{\"colorbar\":{\"outlinewidth\":0,\"ticks\":\"\"}},\"type\":\"scatter\"}],\"scatter3d\":[{\"line\":{\"colorbar\":{\"outlinewidth\":0,\"ticks\":\"\"}},\"marker\":{\"colorbar\":{\"outlinewidth\":0,\"ticks\":\"\"}},\"type\":\"scatter3d\"}],\"scattercarpet\":[{\"marker\":{\"colorbar\":{\"outlinewidth\":0,\"ticks\":\"\"}},\"type\":\"scattercarpet\"}],\"scattergeo\":[{\"marker\":{\"colorbar\":{\"outlinewidth\":0,\"ticks\":\"\"}},\"type\":\"scattergeo\"}],\"scattergl\":[{\"marker\":{\"colorbar\":{\"outlinewidth\":0,\"ticks\":\"\"}},\"type\":\"scattergl\"}],\"scattermapbox\":[{\"marker\":{\"colorbar\":{\"outlinewidth\":0,\"ticks\":\"\"}},\"type\":\"scattermapbox\"}],\"scatterpolar\":[{\"marker\":{\"colorbar\":{\"outlinewidth\":0,\"ticks\":\"\"}},\"type\":\"scatterpolar\"}],\"scatterpolargl\":[{\"marker\":{\"colorbar\":{\"outlinewidth\":0,\"ticks\":\"\"}},\"type\":\"scatterpolargl\"}],\"scatterternary\":[{\"marker\":{\"colorbar\":{\"outlinewidth\":0,\"ticks\":\"\"}},\"type\":\"scatterternary\"}],\"surface\":[{\"colorbar\":{\"outlinewidth\":0,\"ticks\":\"\"},\"colorscale\":[[0.0,\"#0d0887\"],[0.1111111111111111,\"#46039f\"],[0.2222222222222222,\"#7201a8\"],[0.3333333333333333,\"#9c179e\"],[0.4444444444444444,\"#bd3786\"],[0.5555555555555556,\"#d8576b\"],[0.6666666666666666,\"#ed7953\"],[0.7777777777777778,\"#fb9f3a\"],[0.8888888888888888,\"#fdca26\"],[1.0,\"#f0f921\"]],\"type\":\"surface\"}],\"table\":[{\"cells\":{\"fill\":{\"color\":\"#EBF0F8\"},\"line\":{\"color\":\"white\"}},\"header\":{\"fill\":{\"color\":\"#C8D4E3\"},\"line\":{\"color\":\"white\"}},\"type\":\"table\"}]},\"layout\":{\"annotationdefaults\":{\"arrowcolor\":\"#2a3f5f\",\"arrowhead\":0,\"arrowwidth\":1},\"autotypenumbers\":\"strict\",\"coloraxis\":{\"colorbar\":{\"outlinewidth\":0,\"ticks\":\"\"}},\"colorscale\":{\"diverging\":[[0,\"#8e0152\"],[0.1,\"#c51b7d\"],[0.2,\"#de77ae\"],[0.3,\"#f1b6da\"],[0.4,\"#fde0ef\"],[0.5,\"#f7f7f7\"],[0.6,\"#e6f5d0\"],[0.7,\"#b8e186\"],[0.8,\"#7fbc41\"],[0.9,\"#4d9221\"],[1,\"#276419\"]],\"sequential\":[[0.0,\"#0d0887\"],[0.1111111111111111,\"#46039f\"],[0.2222222222222222,\"#7201a8\"],[0.3333333333333333,\"#9c179e\"],[0.4444444444444444,\"#bd3786\"],[0.5555555555555556,\"#d8576b\"],[0.6666666666666666,\"#ed7953\"],[0.7777777777777778,\"#fb9f3a\"],[0.8888888888888888,\"#fdca26\"],[1.0,\"#f0f921\"]],\"sequentialminus\":[[0.0,\"#0d0887\"],[0.1111111111111111,\"#46039f\"],[0.2222222222222222,\"#7201a8\"],[0.3333333333333333,\"#9c179e\"],[0.4444444444444444,\"#bd3786\"],[0.5555555555555556,\"#d8576b\"],[0.6666666666666666,\"#ed7953\"],[0.7777777777777778,\"#fb9f3a\"],[0.8888888888888888,\"#fdca26\"],[1.0,\"#f0f921\"]]},\"colorway\":[\"#636efa\",\"#EF553B\",\"#00cc96\",\"#ab63fa\",\"#FFA15A\",\"#19d3f3\",\"#FF6692\",\"#B6E880\",\"#FF97FF\",\"#FECB52\"],\"font\":{\"color\":\"#2a3f5f\"},\"geo\":{\"bgcolor\":\"white\",\"lakecolor\":\"white\",\"landcolor\":\"#E5ECF6\",\"showlakes\":true,\"showland\":true,\"subunitcolor\":\"white\"},\"hoverlabel\":{\"align\":\"left\"},\"hovermode\":\"closest\",\"mapbox\":{\"style\":\"light\"},\"paper_bgcolor\":\"white\",\"plot_bgcolor\":\"#E5ECF6\",\"polar\":{\"angularaxis\":{\"gridcolor\":\"white\",\"linecolor\":\"white\",\"ticks\":\"\"},\"bgcolor\":\"#E5ECF6\",\"radialaxis\":{\"gridcolor\":\"white\",\"linecolor\":\"white\",\"ticks\":\"\"}},\"scene\":{\"xaxis\":{\"backgroundcolor\":\"#E5ECF6\",\"gridcolor\":\"white\",\"gridwidth\":2,\"linecolor\":\"white\",\"showbackground\":true,\"ticks\":\"\",\"zerolinecolor\":\"white\"},\"yaxis\":{\"backgroundcolor\":\"#E5ECF6\",\"gridcolor\":\"white\",\"gridwidth\":2,\"linecolor\":\"white\",\"showbackground\":true,\"ticks\":\"\",\"zerolinecolor\":\"white\"},\"zaxis\":{\"backgroundcolor\":\"#E5ECF6\",\"gridcolor\":\"white\",\"gridwidth\":2,\"linecolor\":\"white\",\"showbackground\":true,\"ticks\":\"\",\"zerolinecolor\":\"white\"}},\"shapedefaults\":{\"line\":{\"color\":\"#2a3f5f\"}},\"ternary\":{\"aaxis\":{\"gridcolor\":\"white\",\"linecolor\":\"white\",\"ticks\":\"\"},\"baxis\":{\"gridcolor\":\"white\",\"linecolor\":\"white\",\"ticks\":\"\"},\"bgcolor\":\"#E5ECF6\",\"caxis\":{\"gridcolor\":\"white\",\"linecolor\":\"white\",\"ticks\":\"\"}},\"title\":{\"x\":0.05},\"xaxis\":{\"automargin\":true,\"gridcolor\":\"white\",\"linecolor\":\"white\",\"ticks\":\"\",\"title\":{\"standoff\":15},\"zerolinecolor\":\"white\",\"zerolinewidth\":2},\"yaxis\":{\"automargin\":true,\"gridcolor\":\"white\",\"linecolor\":\"white\",\"ticks\":\"\",\"title\":{\"standoff\":15},\"zerolinecolor\":\"white\",\"zerolinewidth\":2}}}},                        {\"responsive\": true}                    ).then(function(){\n                            \nvar gd = document.getElementById('f0e8cdf1-37a3-4542-a9e0-4404ea33c870');\nvar x = new MutationObserver(function (mutations, observer) {{\n        var display = window.getComputedStyle(gd).display;\n        if (!display || display === 'none') {{\n            console.log([gd, 'removed!']);\n            Plotly.purge(gd);\n            observer.disconnect();\n        }}\n}});\n\n// Listen for the removal of the full notebook cells\nvar notebookContainer = gd.closest('#notebook-container');\nif (notebookContainer) {{\n    x.observe(notebookContainer, {childList: true});\n}}\n\n// Listen for the clearing of the current output cell\nvar outputEl = gd.closest('.output');\nif (outputEl) {{\n    x.observe(outputEl, {childList: true});\n}}\n\n                        })                };                            </script>        </div>\n</body>\n</html>"
     },
     "metadata": {},
     "output_type": "display_data"
    }
   ]
  },
  {
   "cell_type": "code",
   "metadata": {
    "tags": [],
    "cell_id": "00006-4f92eee5-a4db-440a-b9f0-3ee28af5a4c0",
    "deepnote_cell_type": "code"
   },
   "source": "",
   "execution_count": null,
   "outputs": []
  },
  {
   "cell_type": "markdown",
   "source": "<a style='text-decoration:none;line-height:16px;display:flex;color:#5B5B62;padding:10px;justify-content:end;' href='https://deepnote.com?utm_source=created-in-deepnote-cell&projectId=f8149d1c-e6b1-497a-9109-f01641a8231a' target=\"_blank\">\n<img alt='Created in deepnote.com' style='display:inline;max-height:16px;margin:0px;margin-right:7.5px;' src='data:image/svg+xml;base64,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' > </img>\nCreated in <span style='font-weight:600;margin-left:4px;'>Deepnote</span></a>",
   "metadata": {
    "tags": [],
    "created_in_deepnote_cell": true,
    "deepnote_cell_type": "markdown"
   }
  }
 ],
 "nbformat": 4,
 "nbformat_minor": 4,
 "metadata": {
  "kernelspec": {
   "display_name": "Python (data_science)",
   "language": "python",
   "name": "data_science"
  },
  "language_info": {
   "codemirror_mode": {
    "name": "ipython",
    "version": 3
   },
   "file_extension": ".py",
   "mimetype": "text/x-python",
   "name": "python",
   "nbconvert_exporter": "python",
   "pygments_lexer": "ipython3",
   "version": "3.8.5"
  },
  "deepnote_notebook_id": "928689a2-b5cd-40b8-868a-f144f6b32178",
  "deepnote": {},
  "deepnote_execution_queue": []
 }
}