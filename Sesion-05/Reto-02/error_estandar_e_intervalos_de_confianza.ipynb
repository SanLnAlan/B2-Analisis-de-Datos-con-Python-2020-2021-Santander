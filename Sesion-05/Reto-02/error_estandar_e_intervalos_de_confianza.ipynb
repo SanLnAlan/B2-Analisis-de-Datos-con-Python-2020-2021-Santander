{
 "cells": [
  {
   "cell_type": "markdown",
   "source": "## Reto 2: Error estándar e intervalos de confianza\n\n### 1. Objetivos:\n    - Aprender a calcular e interpretar errores estándar e intervalos de confianza\n \n---\n    \n### 2. Desarrollo:",
   "metadata": {
    "cell_id": "00000-673b563c-9870-46d9-a832-752c1d51260a",
    "deepnote_cell_type": "markdown"
   }
  },
  {
   "cell_type": "markdown",
   "source": "Para este Reto de nuevo podrás elegir el dataset de tu agrado. Elige un dataset o una variable distinta que la del Reto anterior. Recuerda ordenar y explicar bien tu análisis para que sea comprensible para los demás. Una vez que hayas elegido un dataset y una variable que te parezcan interesantes, realiza los siguientes pasos:\n\n1. Primero explora tu variable con los métodos tradicionales: estimados de locación y dispersión, histograma, etc.\n2. Ahora usa la técnica de bootstrap para obtener la distribución muestral de la media y de la mediana de tu variable. Elige los parámetros más adecuados para el bootstrap basándote en los resultados obtenidos en el Reto anterior.\n3. Grafica la distribución muestral de la media y la mediana.\n4. Ahora, obtén el error estándar de ambas medidas estadísticas. Utiliza el mínimo, el máximo y el rango para contextualizar tu error estándar y saber qué tan grande o pequeño es.\n5. Ahora, para cada medida estadística obtén los intervalos de confianza de 90%, 95% y 99%. Compara los resultados.\n6. Comparte tus hallazgos con tus compañeros.",
   "metadata": {
    "cell_id": "00001-9aeeae12-b129-4072-b0f7-36a90c9ec0b3",
    "deepnote_cell_type": "markdown"
   }
  },
  {
   "cell_type": "code",
   "metadata": {
    "cell_id": "00002-5f70667e-25bc-41ed-8f7e-a13af1f15957",
    "deepnote_to_be_reexecuted": false,
    "source_hash": "3bc44cd8",
    "execution_start": 1631232323256,
    "execution_millis": 1172,
    "deepnote_cell_type": "code"
   },
   "source": "import pandas as pd\nimport matplotlib.pyplot as plt\nimport seaborn as sns",
   "execution_count": 2,
   "outputs": []
  },
  {
   "cell_type": "code",
   "source": "df = pd.read_csv('/work/B2-Analisis-de-Datos-con-Python-2020-2021-Santander/Datasets/athlete_olympic_events-clean.csv')\ndf.shape",
   "metadata": {
    "tags": [],
    "cell_id": "00003-11213c3b-a74d-4c21-9bb7-dc6426cb135a",
    "deepnote_to_be_reexecuted": false,
    "source_hash": "c90c2f7b",
    "execution_start": 1631233429216,
    "execution_millis": 425,
    "deepnote_cell_type": "code"
   },
   "outputs": [
    {
     "output_type": "execute_result",
     "execution_count": 15,
     "data": {
      "text/plain": "(206165, 15)"
     },
     "metadata": {}
    }
   ],
   "execution_count": 15
  },
  {
   "cell_type": "code",
   "source": "print(df['weight'].describe())\nsns.boxplot(df['weight']);",
   "metadata": {
    "tags": [],
    "cell_id": "00004-bda87d23-7067-4d00-877c-3cbf3f960259",
    "deepnote_to_be_reexecuted": false,
    "source_hash": "d9278d1a",
    "execution_start": 1631232937263,
    "execution_millis": 180,
    "deepnote_cell_type": "code"
   },
   "outputs": [
    {
     "name": "stdout",
     "text": "count    206165.000000\nmean         70.688337\nstd          14.340338\nmin          25.000000\n25%          60.000000\n50%          70.000000\n75%          79.000000\nmax         214.000000\nName: weight, dtype: float64\n/shared-libs/python3.7/py/lib/python3.7/site-packages/seaborn/_decorators.py:43: FutureWarning: Pass the following variable as a keyword arg: x. From version 0.12, the only valid positional argument will be `data`, and passing other arguments without an explicit keyword will result in an error or misinterpretation.\n  FutureWarning\n",
     "output_type": "stream"
    },
    {
     "data": {
      "text/plain": "<Figure size 432x288 with 1 Axes>",
      "image/png": "[encoded data removed]"
     },
     "metadata": {
      "needs_background": "light",
      "image/png": {
       "width": 352,
       "height": 262
      }
     },
     "output_type": "display_data"
    }
   ],
   "execution_count": 7
  },
  {
   "cell_type": "code",
   "source": "#def func(dato,m=0):\n#    conjunto = []\n#    if m= 0:\n#        for i in range(10_000):\n#            muestra = df['weight'].sample(n=10,replace=True)\n#            resultado.append(muestra.mean())\n#            mediana.append(muestra.median())\n",
   "metadata": {
    "tags": [],
    "cell_id": "00005-cc59b8f8-b3ab-43f6-b378-9d1a8a9886ce",
    "deepnote_cell_type": "code"
   },
   "outputs": [],
   "execution_count": null
  },
  {
   "cell_type": "code",
   "source": "# Ahora usa la técnica de bootstrap para obtener la distribución muestral \n#de la media y de la mediana de tu variable. Elige los parámetros más adecuados \n#para el bootstrap basándote en los resultados obtenidos en el Reto anterior.\n\nmedia = []\nmediana = []\n\nfor i in range(10_000):\n    muestra = df['weight'].sample(n=10,replace=True)\n    media.append(muestra.mean())\n    mediana.append(muestra.median())\n\n",
   "metadata": {
    "tags": [],
    "cell_id": "00005-0da6f6c9-c11c-4cd9-adb8-f508b7de0506",
    "deepnote_to_be_reexecuted": false,
    "source_hash": "133f65e6",
    "execution_start": 1631233467873,
    "execution_millis": 3482,
    "deepnote_cell_type": "code"
   },
   "outputs": [],
   "execution_count": 19
  },
  {
   "cell_type": "code",
   "source": "media_serie = pd.Series(media)\nsns.histplot(media_serie)",
   "metadata": {
    "tags": [],
    "cell_id": "00006-31fd1d5c-b744-4790-a0a4-165b34057896",
    "deepnote_to_be_reexecuted": false,
    "source_hash": "fc7dd5d5",
    "execution_start": 1631233956440,
    "execution_millis": 323,
    "deepnote_cell_type": "code"
   },
   "outputs": [
    {
     "output_type": "execute_result",
     "execution_count": 29,
     "data": {
      "text/plain": "<AxesSubplot:ylabel='Count'>"
     },
     "metadata": {}
    },
    {
     "data": {
      "text/plain": "<Figure size 432x288 with 1 Axes>",
      "image/png": "[encoded data removed]"
     },
     "metadata": {
      "needs_background": "light",
      "image/png": {
       "width": 389,
       "height": 248
      }
     },
     "output_type": "display_data"
    }
   ],
   "execution_count": 29
  },
  {
   "cell_type": "code",
   "source": "mediana_serie = pd.Series(mediana)\nsns.histplot(mediana_serie, binwidth=1)",
   "metadata": {
    "tags": [],
    "cell_id": "00007-6e625a39-7e85-42b4-bc8c-19fbfe8a4317",
    "deepnote_to_be_reexecuted": false,
    "source_hash": "3e4e303",
    "execution_start": 1631234127672,
    "execution_millis": 256,
    "deepnote_cell_type": "code"
   },
   "outputs": [
    {
     "output_type": "execute_result",
     "execution_count": 30,
     "data": {
      "text/plain": "<AxesSubplot:ylabel='Count'>"
     },
     "metadata": {}
    },
    {
     "data": {
      "text/plain": "<Figure size 432x288 with 1 Axes>",
      "image/png": "[encoded data removed]"
     },
     "metadata": {
      "needs_background": "light",
      "image/png": {
       "width": 389,
       "height": 248
      }
     },
     "output_type": "display_data"
    }
   ],
   "execution_count": 30
  },
  {
   "cell_type": "markdown",
   "source": "Ahora, obtén el error estándar de ambas medidas estadísticas. Utiliza el mínimo, el máximo y el rango para contextualizar tu error estándar y saber qué tan grande o pequeño es.",
   "metadata": {
    "tags": [],
    "cell_id": "00008-3d86b6ed-6be8-4504-b80b-a0044d37cf27",
    "deepnote_to_be_reexecuted": false,
    "source_hash": "7d77bf72",
    "execution_start": 1631233571658,
    "execution_millis": 12,
    "deepnote_cell_type": "markdown"
   },
   "outputs": [],
   "execution_count": 25
  },
  {
   "cell_type": "code",
   "source": "print(f'Error estándar de la media:{media_serie.std()} \\nError estándar de la mediana:{mediana_serie.std()}')",
   "metadata": {
    "tags": [],
    "cell_id": "00009-b722744f-cbbd-4934-9810-6995de09eecd",
    "deepnote_to_be_reexecuted": false,
    "source_hash": "e7c187cc",
    "execution_start": 1631233682058,
    "execution_millis": 10,
    "deepnote_cell_type": "code"
   },
   "outputs": [
    {
     "name": "stdout",
     "text": "Error estándar de la media:4.507889732608722 \nError estándar de la mediana:5.086013237049206\n",
     "output_type": "stream"
    }
   ],
   "execution_count": 28
  },
  {
   "cell_type": "code",
   "source": "print(media_serie.min(),media_serie.max(),media_serie.max()-media_serie.min())\nprint(mediana_serie.min(),mediana_serie.max(),mediana_serie.max()-mediana_serie.min())",
   "metadata": {
    "tags": [],
    "cell_id": "00010-d7365fbd-2163-4446-9682-defe674e465c",
    "deepnote_to_be_reexecuted": false,
    "source_hash": "ab469bb2",
    "execution_start": 1631234342308,
    "execution_millis": 7,
    "deepnote_cell_type": "code"
   },
   "outputs": [
    {
     "name": "stdout",
     "text": "54.0 91.35 37.349999999999994\n52.0 91.0 39.0\n",
     "output_type": "stream"
    }
   ],
   "execution_count": 31
  },
  {
   "cell_type": "code",
   "source": "#intervalos de confianza\n#Ahora, para cada medida estadística obtén los intervalos de confianza \n#de 90%, 95% y 99%. Compara los resultados.",
   "metadata": {
    "tags": [],
    "cell_id": "00012-6c88ee8f-5346-4e23-afe2-e9ef5aa65908",
    "deepnote_to_be_reexecuted": false,
    "source_hash": "af867376",
    "execution_start": 1631234392556,
    "execution_millis": 1,
    "deepnote_cell_type": "code"
   },
   "outputs": [],
   "execution_count": 32
  },
  {
   "cell_type": "code",
   "source": "inferior = []\nsuperior = []\n\nfor ",
   "metadata": {
    "tags": [],
    "cell_id": "00013-938870dc-814d-4763-8b96-26eff6172987",
    "deepnote_cell_type": "code"
   },
   "outputs": [],
   "execution_count": null
  },
  {
   "cell_type": "markdown",
   "source": "<a style='text-decoration:none;line-height:16px;display:flex;color:#5B5B62;padding:10px;justify-content:end;' href='https://deepnote.com?utm_source=created-in-deepnote-cell&projectId=f8149d1c-e6b1-497a-9109-f01641a8231a' target=\"_blank\">\n<img alt='Created in deepnote.com' style='display:inline;max-height:16px;margin:0px;margin-right:7.5px;' src='data:image/svg+xml;base64,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' > </img>\nCreated in <span style='font-weight:600;margin-left:4px;'>Deepnote</span></a>",
   "metadata": {
    "tags": [],
    "created_in_deepnote_cell": true,
    "deepnote_cell_type": "markdown"
   }
  }
 ],
 "nbformat": 4,
 "nbformat_minor": 4,
 "metadata": {
  "kernelspec": {
   "display_name": "Python (data_science)",
   "language": "python",
   "name": "data_science"
  },
  "language_info": {
   "codemirror_mode": {
    "name": "ipython",
    "version": 3
   },
   "file_extension": ".py",
   "mimetype": "text/x-python",
   "name": "python",
   "nbconvert_exporter": "python",
   "pygments_lexer": "ipython3",
   "version": "3.8.5"
  },
  "deepnote_notebook_id": "4641cc34-39fa-4100-9657-0769911f47df",
  "deepnote": {},
  "deepnote_execution_queue": []
 }
}