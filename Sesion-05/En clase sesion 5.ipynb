{
 "cells": [
  {
   "cell_type": "markdown",
   "source": "# En clase - Sesión 5",
   "metadata": {
    "tags": [],
    "cell_id": "00000-016dfd44-fb39-4da5-9510-32a4571455a1",
    "deepnote_cell_type": "markdown"
   }
  },
  {
   "cell_type": "code",
   "metadata": {
    "tags": [],
    "cell_id": "00000-3b16e3c5-1f22-45eb-9347-15fa9f31b8b0",
    "deepnote_to_be_reexecuted": false,
    "source_hash": "3bc44cd8",
    "execution_start": 1631234550796,
    "execution_millis": 1330,
    "deepnote_cell_type": "code"
   },
   "source": "import pandas as pd\nimport matplotlib.pyplot as plt\nimport seaborn as sns\nfrom sklearn.model_selection import train_test_split",
   "execution_count": null,
   "outputs": []
  },
  {
   "cell_type": "code",
   "metadata": {
    "tags": [],
    "cell_id": "00002-887afcf3-9474-409a-a490-07558a346d62",
    "deepnote_to_be_reexecuted": false,
    "source_hash": "9209f9fe",
    "execution_start": 1631234552136,
    "execution_millis": 3,
    "deepnote_cell_type": "code"
   },
   "source": "df = pd.read_csv('/work/B2-Analisis-de-Datos-con-Python-2020-2021-Santander/Datasets/diabetes-clean.csv', index_col=0)",
   "execution_count": null,
   "outputs": []
  },
  {
   "cell_type": "markdown",
   "source": "Muestreo Aleatorio",
   "metadata": {
    "tags": [],
    "cell_id": "00003-23d4d898-8146-4636-8ba0-20c6f6f43b6c",
    "deepnote_cell_type": "markdown"
   }
  },
  {
   "cell_type": "code",
   "metadata": {
    "tags": [],
    "cell_id": "00004-852110ee-38d2-46a0-9222-f9f38fecdb1c",
    "deepnote_to_be_reexecuted": false,
    "source_hash": "94e7f591",
    "execution_start": 1631234555754,
    "execution_millis": 6,
    "deepnote_cell_type": "code"
   },
   "source": "df['glucose'].sample(n=20, replace= False)\n# n = no de elementos de la muestra\n#replace= False significa que una vez tomado un elemento, no puede volver a ser tomado en la muestra\n",
   "execution_count": null,
   "outputs": [
    {
     "output_type": "execute_result",
     "execution_count": 3,
     "data": {
      "text/plain": "710    158\n705     80\n3       89\n151    114\n555    124\n162    114\n65      99\n94     142\n683    125\n726    116\n737     65\n154    188\n247    165\n745    100\n510     84\n461     71\n526     97\n76      62\n256    111\n132    170\nName: glucose, dtype: int64"
     },
     "metadata": {}
    }
   ]
  },
  {
   "cell_type": "code",
   "metadata": {
    "tags": [],
    "cell_id": "00005-f82739eb-3657-4407-b5ac-00b948617e0a",
    "deepnote_to_be_reexecuted": false,
    "source_hash": "decff86e",
    "execution_start": 1631234559141,
    "execution_millis": 7,
    "deepnote_cell_type": "code"
   },
   "source": "df['glucose'].sample(frac=0.1, replace=False)",
   "execution_count": null,
   "outputs": [
    {
     "output_type": "execute_result",
     "execution_count": 4,
     "data": {
      "text/plain": "2      183\n542     90\n581    109\n164    131\n504     96\n      ... \n630    114\n481    123\n33      92\n577    118\n463     88\nName: glucose, Length: 77, dtype: int64"
     },
     "metadata": {}
    }
   ]
  },
  {
   "cell_type": "markdown",
   "source": "## Bootstrap\nSimulación de nuevas muestras a partir de las ya existentes",
   "metadata": {
    "tags": [],
    "cell_id": "00006-03ab7299-ca2d-4cc4-86a4-7819f3e3a8f4",
    "deepnote_cell_type": "markdown"
   }
  },
  {
   "cell_type": "code",
   "metadata": {
    "tags": [],
    "cell_id": "00006-bb5039f5-002f-4d56-ba12-6786ced5c5bf",
    "deepnote_to_be_reexecuted": false,
    "source_hash": "8a189855",
    "execution_start": 1631234563667,
    "execution_millis": 16912,
    "deepnote_cell_type": "code"
   },
   "source": "medias = []\n\nfor i in range(100_000):\n    muestra = df['glucose'].sample(n=50,replace=True)\n    medias.append(muestra.mean())\n\nmedias_serie = pd.Series(medias)\nsns.histplot(medias_serie)",
   "execution_count": null,
   "outputs": [
    {
     "output_type": "execute_result",
     "execution_count": 5,
     "data": {
      "text/plain": "<AxesSubplot:ylabel='Count'>"
     },
     "metadata": {}
    },
    {
     "data": {
      "text/plain": "<Figure size 432x288 with 1 Axes>",
      "image/png": "[encoded data removed]"
     },
     "metadata": {
      "needs_background": "light",
      "image/png": {
       "width": 395,
       "height": 248
      }
     },
     "output_type": "display_data"
    }
   ]
  },
  {
   "cell_type": "code",
   "metadata": {
    "tags": [],
    "cell_id": "00008-3b931635-2da0-4abe-abf3-e9a07a1a271a",
    "deepnote_to_be_reexecuted": false,
    "source_hash": "b073b2a9",
    "execution_start": 1631234580581,
    "execution_millis": 9,
    "deepnote_cell_type": "code"
   },
   "source": "#skew = 0 = simetria\nmedias_serie.skew()",
   "execution_count": null,
   "outputs": [
    {
     "output_type": "execute_result",
     "execution_count": 6,
     "data": {
      "text/plain": "0.03809601462384806"
     },
     "metadata": {}
    }
   ]
  },
  {
   "cell_type": "code",
   "metadata": {
    "tags": [],
    "cell_id": "00009-a5b10931-c3dd-4a03-879b-0146deb62d44",
    "deepnote_to_be_reexecuted": false,
    "source_hash": "911863a8",
    "execution_start": 1631234580596,
    "execution_millis": 4,
    "deepnote_cell_type": "code"
   },
   "source": "#kurtosis = 0 = ni muy picuda ni muy plana\nmedias_serie.kurtosis()",
   "execution_count": null,
   "outputs": [
    {
     "output_type": "execute_result",
     "execution_count": 7,
     "data": {
      "text/plain": "-0.00913889360053144"
     },
     "metadata": {}
    }
   ]
  },
  {
   "cell_type": "markdown",
   "source": "## Error Estándar",
   "metadata": {
    "tags": [],
    "cell_id": "00010-40ff2405-d974-41f6-baee-914bf3ce2aed",
    "deepnote_cell_type": "markdown"
   }
  },
  {
   "cell_type": "code",
   "metadata": {
    "tags": [],
    "cell_id": "00011-e64b638f-d243-4b15-bb86-4c94a55bf567",
    "deepnote_to_be_reexecuted": false,
    "source_hash": "8b16ded5",
    "execution_start": 1631064268243,
    "execution_millis": 6,
    "deepnote_cell_type": "code"
   },
   "source": "print(f'error estandar:{medias_serie.std()}')",
   "execution_count": null,
   "outputs": [
    {
     "name": "stdout",
     "text": "error estandar:4.527298115515066\n",
     "output_type": "stream"
    }
   ]
  },
  {
   "cell_type": "code",
   "metadata": {
    "tags": [],
    "cell_id": "00012-223f82f5-5fa9-4565-987f-7c02567579f0",
    "deepnote_to_be_reexecuted": false,
    "source_hash": "7d3a9369",
    "execution_start": 1631064821837,
    "execution_millis": 5,
    "deepnote_cell_type": "code"
   },
   "source": "print(f'valor min:{medias_serie.min()}')\nprint(f'valor max:{medias_serie.max()}')\nprint(f'Rango:{medias_serie.max() - medias_serie.min()}')",
   "execution_count": null,
   "outputs": [
    {
     "name": "stdout",
     "text": "valor min:102.64\nvalor max:141.44\nRango:38.8\n",
     "output_type": "stream"
    }
   ]
  },
  {
   "cell_type": "markdown",
   "source": "## Intervalo de confianza",
   "metadata": {
    "tags": [],
    "cell_id": "00013-fcba617c-a6a4-4eac-95b2-c4255d557517",
    "deepnote_cell_type": "markdown"
   }
  },
  {
   "cell_type": "code",
   "metadata": {
    "tags": [],
    "cell_id": "00013-3d9ee616-b485-4ac5-b64b-985c6124ca92",
    "deepnote_to_be_reexecuted": false,
    "source_hash": "d0aa126a",
    "execution_start": 1631064747737,
    "execution_millis": 12,
    "deepnote_cell_type": "code"
   },
   "source": "lim_inferior = medias_serie.quantile(0.025)\nlim_superior = medias_serie.quantile(0.975)\n\nprint(f'Intervalo de confianza al 95%: {lim_inferior} < {medias_serie.mean()} < {lim_superior}')",
   "execution_count": null,
   "outputs": [
    {
     "name": "stdout",
     "text": "Intervalo de confianza al 95%: 112.06 < 120.90925599999997 < 129.86\n",
     "output_type": "stream"
    }
   ]
  },
  {
   "cell_type": "code",
   "metadata": {
    "tags": [],
    "cell_id": "00015-31cc4bf3-898f-46b1-9c71-dd22c0520360",
    "deepnote_to_be_reexecuted": false,
    "source_hash": "cb6e0460",
    "execution_start": 1631065539791,
    "execution_millis": 6,
    "deepnote_cell_type": "code"
   },
   "source": "#media_de_intervalos = (medias_serie.mean() - lim_inferior) + lim_superior - medias_serie.mean())/2\nmedia_de_intervalos = (- lim_inferior + lim_superior) /2\nprint(f'Intervalo de confianza al 95%: {medias_serie.mean():.4f} +/- {media_de_intervalos:.4f}')\n",
   "execution_count": null,
   "outputs": [
    {
     "name": "stdout",
     "text": "Intervalo de confianza al 95%: 120.9093 +/- 8.9000\n",
     "output_type": "stream"
    }
   ]
  },
  {
   "cell_type": "code",
   "metadata": {
    "tags": [],
    "cell_id": "00016-01e2cb7c-f793-456a-95fe-08dfe524b5e1",
    "deepnote_to_be_reexecuted": false,
    "source_hash": "ff3f283a",
    "execution_start": 1631065056298,
    "execution_millis": 373,
    "deepnote_cell_type": "code"
   },
   "source": "sns.histplot(medias_serie,bins=50)\nplt.axvline(lim_superior,c='g')\nplt.axvline(lim_inferior,c='g')",
   "execution_count": null,
   "outputs": [
    {
     "output_type": "execute_result",
     "execution_count": 18,
     "data": {
      "text/plain": "<matplotlib.lines.Line2D at 0x7f86b8b8a190>"
     },
     "metadata": {}
    },
    {
     "data": {
      "text/plain": "<Figure size 432x288 with 1 Axes>",
      "image/png": "[encoded data removed]"
     },
     "metadata": {
      "needs_background": "light",
      "image/png": {
       "width": 395,
       "height": 248
      }
     },
     "output_type": "display_data"
    }
   ]
  },
  {
   "cell_type": "markdown",
   "source": "## Entrenamiento y prueba",
   "metadata": {
    "tags": [],
    "cell_id": "00017-4e5be7b9-a4ef-4847-9522-3781c0391d0b",
    "deepnote_to_be_reexecuted": true,
    "source_hash": "b623e53d",
    "deepnote_cell_type": "markdown"
   }
  },
  {
   "cell_type": "code",
   "metadata": {
    "tags": [],
    "cell_id": "00018-abda81bb-5e8b-432c-97f6-f340bd132594",
    "deepnote_to_be_reexecuted": false,
    "source_hash": "455b6b12",
    "execution_start": 1631234755066,
    "execution_millis": 894,
    "deepnote_cell_type": "code"
   },
   "source": "sns.heatmap(df.corr(), annot=True)",
   "execution_count": null,
   "outputs": [
    {
     "output_type": "execute_result",
     "execution_count": 8,
     "data": {
      "text/plain": "<AxesSubplot:>"
     },
     "metadata": {}
    },
    {
     "data": {
      "text/plain": "<Figure size 432x288 with 2 Axes>",
      "image/png": "[encoded data removed]"
     },
     "metadata": {
      "needs_background": "light",
      "image/png": {
       "width": 477,
       "height": 380
      }
     },
     "output_type": "display_data"
    }
   ]
  },
  {
   "cell_type": "code",
   "metadata": {
    "tags": [],
    "cell_id": "00019-7bec223b-3684-4f91-bfdd-7a39702aad9f",
    "deepnote_to_be_reexecuted": false,
    "source_hash": "855eca41",
    "execution_start": 1631234943512,
    "execution_millis": 2,
    "deepnote_cell_type": "code"
   },
   "source": "from sklearn.model_selection import train_test_split, cross_validate\nfrom sklearn.linear_model import LinearRegression",
   "execution_count": null,
   "outputs": []
  },
  {
   "cell_type": "code",
   "metadata": {
    "tags": [],
    "cell_id": "00020-1b114208-f164-40c1-aa18-d26d0232a7b1",
    "deepnote_to_be_reexecuted": false,
    "source_hash": "c085b6ba",
    "execution_start": 1631234974873,
    "execution_millis": 48,
    "deepnote_cell_type": "code"
   },
   "source": "df.head()",
   "execution_count": null,
   "outputs": [
    {
     "output_type": "execute_result",
     "execution_count": 11,
     "data": {
      "application/vnd.deepnote.dataframe.v2+json": {
       "row_count": 5,
       "column_count": 9,
       "columns": [
        {
         "name": "pregnancies",
         "dtype": "int64",
         "stats": {
          "unique_count": 4,
          "nan_count": 0,
          "min": "0",
          "max": "8",
          "histogram": [
           {
            "bin_start": 0,
            "bin_end": 0.8,
            "count": 1
           },
           {
            "bin_start": 0.8,
            "bin_end": 1.6,
            "count": 2
           },
           {
            "bin_start": 1.6,
            "bin_end": 2.4000000000000004,
            "count": 0
           },
           {
            "bin_start": 2.4000000000000004,
            "bin_end": 3.2,
            "count": 0
           },
           {
            "bin_start": 3.2,
            "bin_end": 4,
            "count": 0
           },
           {
            "bin_start": 4,
            "bin_end": 4.800000000000001,
            "count": 0
           },
           {
            "bin_start": 4.800000000000001,
            "bin_end": 5.6000000000000005,
            "count": 0
           },
           {
            "bin_start": 5.6000000000000005,
            "bin_end": 6.4,
            "count": 1
           },
           {
            "bin_start": 6.4,
            "bin_end": 7.2,
            "count": 0
           },
           {
            "bin_start": 7.2,
            "bin_end": 8,
            "count": 1
           }
          ]
         }
        },
        {
         "name": "glucose",
         "dtype": "int64",
         "stats": {
          "unique_count": 5,
          "nan_count": 0,
          "min": "85",
          "max": "183",
          "histogram": [
           {
            "bin_start": 85,
            "bin_end": 94.8,
            "count": 2
           },
           {
            "bin_start": 94.8,
            "bin_end": 104.6,
            "count": 0
           },
           {
            "bin_start": 104.6,
            "bin_end": 114.4,
            "count": 0
           },
           {
            "bin_start": 114.4,
            "bin_end": 124.2,
            "count": 0
           },
           {
            "bin_start": 124.2,
            "bin_end": 134,
            "count": 0
           },
           {
            "bin_start": 134,
            "bin_end": 143.8,
            "count": 1
           },
           {
            "bin_start": 143.8,
            "bin_end": 153.60000000000002,
            "count": 1
           },
           {
            "bin_start": 153.60000000000002,
            "bin_end": 163.4,
            "count": 0
           },
           {
            "bin_start": 163.4,
            "bin_end": 173.2,
            "count": 0
           },
           {
            "bin_start": 173.2,
            "bin_end": 183,
            "count": 1
           }
          ]
         }
        },
        {
         "name": "blood_pressure",
         "dtype": "int64",
         "stats": {
          "unique_count": 4,
          "nan_count": 0,
          "min": "40",
          "max": "72",
          "histogram": [
           {
            "bin_start": 40,
            "bin_end": 43.2,
            "count": 1
           },
           {
            "bin_start": 43.2,
            "bin_end": 46.4,
            "count": 0
           },
           {
            "bin_start": 46.4,
            "bin_end": 49.6,
            "count": 0
           },
           {
            "bin_start": 49.6,
            "bin_end": 52.8,
            "count": 0
           },
           {
            "bin_start": 52.8,
            "bin_end": 56,
            "count": 0
           },
           {
            "bin_start": 56,
            "bin_end": 59.2,
            "count": 0
           },
           {
            "bin_start": 59.2,
            "bin_end": 62.400000000000006,
            "count": 0
           },
           {
            "bin_start": 62.400000000000006,
            "bin_end": 65.6,
            "count": 1
           },
           {
            "bin_start": 65.6,
            "bin_end": 68.8,
            "count": 2
           },
           {
            "bin_start": 68.8,
            "bin_end": 72,
            "count": 1
           }
          ]
         }
        },
        {
         "name": "skin_thickness",
         "dtype": "int64",
         "stats": {
          "unique_count": 4,
          "nan_count": 0,
          "min": "0",
          "max": "35",
          "histogram": [
           {
            "bin_start": 0,
            "bin_end": 3.5,
            "count": 1
           },
           {
            "bin_start": 3.5,
            "bin_end": 7,
            "count": 0
           },
           {
            "bin_start": 7,
            "bin_end": 10.5,
            "count": 0
           },
           {
            "bin_start": 10.5,
            "bin_end": 14,
            "count": 0
           },
           {
            "bin_start": 14,
            "bin_end": 17.5,
            "count": 0
           },
           {
            "bin_start": 17.5,
            "bin_end": 21,
            "count": 0
           },
           {
            "bin_start": 21,
            "bin_end": 24.5,
            "count": 1
           },
           {
            "bin_start": 24.5,
            "bin_end": 28,
            "count": 0
           },
           {
            "bin_start": 28,
            "bin_end": 31.5,
            "count": 1
           },
           {
            "bin_start": 31.5,
            "bin_end": 35,
            "count": 2
           }
          ]
         }
        },
        {
         "name": "insulin",
         "dtype": "int64",
         "stats": {
          "unique_count": 3,
          "nan_count": 0,
          "min": "0",
          "max": "168",
          "histogram": [
           {
            "bin_start": 0,
            "bin_end": 16.8,
            "count": 3
           },
           {
            "bin_start": 16.8,
            "bin_end": 33.6,
            "count": 0
           },
           {
            "bin_start": 33.6,
            "bin_end": 50.400000000000006,
            "count": 0
           },
           {
            "bin_start": 50.400000000000006,
            "bin_end": 67.2,
            "count": 0
           },
           {
            "bin_start": 67.2,
            "bin_end": 84,
            "count": 0
           },
           {
            "bin_start": 84,
            "bin_end": 100.80000000000001,
            "count": 1
           },
           {
            "bin_start": 100.80000000000001,
            "bin_end": 117.60000000000001,
            "count": 0
           },
           {
            "bin_start": 117.60000000000001,
            "bin_end": 134.4,
            "count": 0
           },
           {
            "bin_start": 134.4,
            "bin_end": 151.20000000000002,
            "count": 0
           },
           {
            "bin_start": 151.20000000000002,
            "bin_end": 168,
            "count": 1
           }
          ]
         }
        },
        {
         "name": "bmi",
         "dtype": "float64",
         "stats": {
          "unique_count": 5,
          "nan_count": 0,
          "min": "23.3",
          "max": "43.1",
          "histogram": [
           {
            "bin_start": 23.3,
            "bin_end": 25.28,
            "count": 1
           },
           {
            "bin_start": 25.28,
            "bin_end": 27.26,
            "count": 1
           },
           {
            "bin_start": 27.26,
            "bin_end": 29.240000000000002,
            "count": 1
           },
           {
            "bin_start": 29.240000000000002,
            "bin_end": 31.22,
            "count": 0
           },
           {
            "bin_start": 31.22,
            "bin_end": 33.2,
            "count": 0
           },
           {
            "bin_start": 33.2,
            "bin_end": 35.18,
            "count": 1
           },
           {
            "bin_start": 35.18,
            "bin_end": 37.16,
            "count": 0
           },
           {
            "bin_start": 37.16,
            "bin_end": 39.14,
            "count": 0
           },
           {
            "bin_start": 39.14,
            "bin_end": 41.120000000000005,
            "count": 0
           },
           {
            "bin_start": 41.120000000000005,
            "bin_end": 43.1,
            "count": 1
           }
          ]
         }
        },
        {
         "name": "diabetes_pedigree_function",
         "dtype": "float64",
         "stats": {
          "unique_count": 5,
          "nan_count": 0,
          "min": "0.1669999999999999",
          "max": "2.2880000000000003",
          "histogram": [
           {
            "bin_start": 0.1669999999999999,
            "bin_end": 0.37909999999999994,
            "count": 2
           },
           {
            "bin_start": 0.37909999999999994,
            "bin_end": 0.5912,
            "count": 0
           },
           {
            "bin_start": 0.5912,
            "bin_end": 0.8033,
            "count": 2
           },
           {
            "bin_start": 0.8033,
            "bin_end": 1.0154,
            "count": 0
           },
           {
            "bin_start": 1.0154,
            "bin_end": 1.2275,
            "count": 0
           },
           {
            "bin_start": 1.2275,
            "bin_end": 1.4396,
            "count": 0
           },
           {
            "bin_start": 1.4396,
            "bin_end": 1.6517000000000002,
            "count": 0
           },
           {
            "bin_start": 1.6517000000000002,
            "bin_end": 1.8638000000000001,
            "count": 0
           },
           {
            "bin_start": 1.8638000000000001,
            "bin_end": 2.0759000000000003,
            "count": 0
           },
           {
            "bin_start": 2.0759000000000003,
            "bin_end": 2.2880000000000003,
            "count": 1
           }
          ]
         }
        },
        {
         "name": "age",
         "dtype": "int64",
         "stats": {
          "unique_count": 5,
          "nan_count": 0,
          "min": "21",
          "max": "50",
          "histogram": [
           {
            "bin_start": 21,
            "bin_end": 23.9,
            "count": 1
           },
           {
            "bin_start": 23.9,
            "bin_end": 26.8,
            "count": 0
           },
           {
            "bin_start": 26.8,
            "bin_end": 29.7,
            "count": 0
           },
           {
            "bin_start": 29.7,
            "bin_end": 32.6,
            "count": 2
           },
           {
            "bin_start": 32.6,
            "bin_end": 35.5,
            "count": 1
           },
           {
            "bin_start": 35.5,
            "bin_end": 38.4,
            "count": 0
           },
           {
            "bin_start": 38.4,
            "bin_end": 41.3,
            "count": 0
           },
           {
            "bin_start": 41.3,
            "bin_end": 44.2,
            "count": 0
           },
           {
            "bin_start": 44.2,
            "bin_end": 47.099999999999994,
            "count": 0
           },
           {
            "bin_start": 47.099999999999994,
            "bin_end": 50,
            "count": 1
           }
          ]
         }
        },
        {
         "name": "outcome",
         "dtype": "int64",
         "stats": {
          "unique_count": 2,
          "nan_count": 0,
          "min": "0",
          "max": "1",
          "histogram": [
           {
            "bin_start": 0,
            "bin_end": 0.1,
            "count": 2
           },
           {
            "bin_start": 0.1,
            "bin_end": 0.2,
            "count": 0
           },
           {
            "bin_start": 0.2,
            "bin_end": 0.30000000000000004,
            "count": 0
           },
           {
            "bin_start": 0.30000000000000004,
            "bin_end": 0.4,
            "count": 0
           },
           {
            "bin_start": 0.4,
            "bin_end": 0.5,
            "count": 0
           },
           {
            "bin_start": 0.5,
            "bin_end": 0.6000000000000001,
            "count": 0
           },
           {
            "bin_start": 0.6000000000000001,
            "bin_end": 0.7000000000000001,
            "count": 0
           },
           {
            "bin_start": 0.7000000000000001,
            "bin_end": 0.8,
            "count": 0
           },
           {
            "bin_start": 0.8,
            "bin_end": 0.9,
            "count": 0
           },
           {
            "bin_start": 0.9,
            "bin_end": 1,
            "count": 3
           }
          ]
         }
        },
        {
         "name": "_deepnote_index_column",
         "dtype": "int64"
        }
       ],
       "rows_top": [
        {
         "pregnancies": 6,
         "glucose": 148,
         "blood_pressure": 72,
         "skin_thickness": 35,
         "insulin": 0,
         "bmi": 33.6,
         "diabetes_pedigree_function": 0.627,
         "age": 50,
         "outcome": 1,
         "_deepnote_index_column": 0
        },
        {
         "pregnancies": 1,
         "glucose": 85,
         "blood_pressure": 66,
         "skin_thickness": 29,
         "insulin": 0,
         "bmi": 26.6,
         "diabetes_pedigree_function": 0.351,
         "age": 31,
         "outcome": 0,
         "_deepnote_index_column": 1
        },
        {
         "pregnancies": 8,
         "glucose": 183,
         "blood_pressure": 64,
         "skin_thickness": 0,
         "insulin": 0,
         "bmi": 23.3,
         "diabetes_pedigree_function": 0.672,
         "age": 32,
         "outcome": 1,
         "_deepnote_index_column": 2
        },
        {
         "pregnancies": 1,
         "glucose": 89,
         "blood_pressure": 66,
         "skin_thickness": 23,
         "insulin": 94,
         "bmi": 28.1,
         "diabetes_pedigree_function": 0.1669999999999999,
         "age": 21,
         "outcome": 0,
         "_deepnote_index_column": 3
        },
        {
         "pregnancies": 0,
         "glucose": 137,
         "blood_pressure": 40,
         "skin_thickness": 35,
         "insulin": 168,
         "bmi": 43.1,
         "diabetes_pedigree_function": 2.2880000000000003,
         "age": 33,
         "outcome": 1,
         "_deepnote_index_column": 4
        }
       ],
       "rows_bottom": null
      },
      "text/plain": "   pregnancies  glucose  blood_pressure  skin_thickness  insulin   bmi  \\\n0            6      148              72              35        0  33.6   \n1            1       85              66              29        0  26.6   \n2            8      183              64               0        0  23.3   \n3            1       89              66              23       94  28.1   \n4            0      137              40              35      168  43.1   \n\n   diabetes_pedigree_function  age  outcome  \n0                       0.627   50        1  \n1                       0.351   31        0  \n2                       0.672   32        1  \n3                       0.167   21        0  \n4                       2.288   33        1  ",
      "text/html": "<div>\n<style scoped>\n    .dataframe tbody tr th:only-of-type {\n        vertical-align: middle;\n    }\n\n    .dataframe tbody tr th {\n        vertical-align: top;\n    }\n\n    .dataframe thead th {\n        text-align: right;\n    }\n</style>\n<table border=\"1\" class=\"dataframe\">\n  <thead>\n    <tr style=\"text-align: right;\">\n      <th></th>\n      <th>pregnancies</th>\n      <th>glucose</th>\n      <th>blood_pressure</th>\n      <th>skin_thickness</th>\n      <th>insulin</th>\n      <th>bmi</th>\n      <th>diabetes_pedigree_function</th>\n      <th>age</th>\n      <th>outcome</th>\n    </tr>\n  </thead>\n  <tbody>\n    <tr>\n      <th>0</th>\n      <td>6</td>\n      <td>148</td>\n      <td>72</td>\n      <td>35</td>\n      <td>0</td>\n      <td>33.6</td>\n      <td>0.627</td>\n      <td>50</td>\n      <td>1</td>\n    </tr>\n    <tr>\n      <th>1</th>\n      <td>1</td>\n      <td>85</td>\n      <td>66</td>\n      <td>29</td>\n      <td>0</td>\n      <td>26.6</td>\n      <td>0.351</td>\n      <td>31</td>\n      <td>0</td>\n    </tr>\n    <tr>\n      <th>2</th>\n      <td>8</td>\n      <td>183</td>\n      <td>64</td>\n      <td>0</td>\n      <td>0</td>\n      <td>23.3</td>\n      <td>0.672</td>\n      <td>32</td>\n      <td>1</td>\n    </tr>\n    <tr>\n      <th>3</th>\n      <td>1</td>\n      <td>89</td>\n      <td>66</td>\n      <td>23</td>\n      <td>94</td>\n      <td>28.1</td>\n      <td>0.167</td>\n      <td>21</td>\n      <td>0</td>\n    </tr>\n    <tr>\n      <th>4</th>\n      <td>0</td>\n      <td>137</td>\n      <td>40</td>\n      <td>35</td>\n      <td>168</td>\n      <td>43.1</td>\n      <td>2.288</td>\n      <td>33</td>\n      <td>1</td>\n    </tr>\n  </tbody>\n</table>\n</div>"
     },
     "metadata": {}
    }
   ]
  },
  {
   "cell_type": "code",
   "metadata": {
    "tags": [],
    "cell_id": "00020-d3e5e52b-eb19-4d08-b801-8cdcbca6e942",
    "deepnote_to_be_reexecuted": false,
    "source_hash": "355895ec",
    "execution_start": 1631235006167,
    "execution_millis": 5,
    "deepnote_cell_type": "code"
   },
   "source": "X = df[['glucose','skin_thickness']]\ny = df['insulin']",
   "execution_count": null,
   "outputs": []
  },
  {
   "cell_type": "code",
   "metadata": {
    "tags": [],
    "cell_id": "00022-5f0ec54b-e676-4636-8e39-7274629769c3",
    "deepnote_to_be_reexecuted": false,
    "source_hash": "86f1554d",
    "execution_start": 1631235126334,
    "execution_millis": 7,
    "deepnote_cell_type": "code"
   },
   "source": "X_training, X_test, y_training, y_test = train_test_split(X,y,test_size=0.3, shuffle=True)",
   "execution_count": null,
   "outputs": []
  },
  {
   "cell_type": "code",
   "metadata": {
    "tags": [],
    "cell_id": "00023-5153427f-25ca-4116-86df-25b8b9f89632",
    "deepnote_to_be_reexecuted": false,
    "source_hash": "af589b2",
    "execution_start": 1631235169212,
    "execution_millis": 20,
    "deepnote_cell_type": "code"
   },
   "source": "lr = LinearRegression()\nlr.fit(X_training, y_training)\n",
   "execution_count": null,
   "outputs": [
    {
     "output_type": "execute_result",
     "execution_count": 14,
     "data": {
      "text/plain": "LinearRegression()"
     },
     "metadata": {}
    }
   ]
  },
  {
   "cell_type": "code",
   "metadata": {
    "tags": [],
    "cell_id": "00024-7f1842d1-a0d8-4b7b-9959-7408f6e631e5",
    "deepnote_to_be_reexecuted": false,
    "source_hash": "68a0399b",
    "execution_start": 1631235233699,
    "execution_millis": 7,
    "deepnote_cell_type": "code"
   },
   "source": "lr.score(X_test,y_test)",
   "execution_count": null,
   "outputs": [
    {
     "output_type": "execute_result",
     "execution_count": 15,
     "data": {
      "text/plain": "0.27596012995826347"
     },
     "metadata": {}
    }
   ]
  },
  {
   "cell_type": "code",
   "metadata": {
    "tags": [],
    "cell_id": "00025-1e702ae6-4c06-4e00-b72f-fee4a4e49bb9",
    "deepnote_to_be_reexecuted": false,
    "source_hash": "d9477ab0",
    "execution_start": 1631235338714,
    "execution_millis": 7,
    "deepnote_cell_type": "code"
   },
   "source": "lr_2 = LinearRegression()\nlr_2.fit(X,y)\nlr_2.score(X,y)\n",
   "execution_count": null,
   "outputs": [
    {
     "output_type": "execute_result",
     "execution_count": 16,
     "data": {
      "text/plain": "0.28491868235030937"
     },
     "metadata": {}
    }
   ]
  },
  {
   "cell_type": "markdown",
   "source": "## Correlacion cruzada",
   "metadata": {
    "tags": [],
    "cell_id": "00026-49283510-a79e-422c-bd25-a726a6c373c8",
    "deepnote_cell_type": "markdown"
   }
  },
  {
   "cell_type": "code",
   "metadata": {
    "tags": [],
    "cell_id": "00026-dc00afad-0400-4ea9-99f5-86cb09f546d8",
    "deepnote_to_be_reexecuted": false,
    "source_hash": "b8c5c291",
    "execution_start": 1631239454205,
    "execution_millis": 3,
    "deepnote_cell_type": "code"
   },
   "source": "from sklearn.model_selection import cross_validate",
   "execution_count": null,
   "outputs": []
  },
  {
   "cell_type": "code",
   "metadata": {
    "tags": [],
    "cell_id": "00028-632f1016-eb05-4a53-9dc4-49859a7ef356",
    "deepnote_to_be_reexecuted": false,
    "source_hash": "88577fcf",
    "execution_start": 1631239950368,
    "execution_millis": 18,
    "deepnote_cell_type": "code"
   },
   "source": "lr = LinearRegression()\n\nscores = cross_validate(lr,X,y, scoring='r2', cv=4) #Se pasan todos los valores, no se tiene que hacer fit",
   "execution_count": null,
   "outputs": []
  },
  {
   "cell_type": "code",
   "metadata": {
    "tags": [],
    "cell_id": "00029-b6cfa265-3ab6-45aa-ac5a-2505e4a5f7a8",
    "deepnote_to_be_reexecuted": false,
    "source_hash": "5ad5d988",
    "execution_start": 1631239954877,
    "execution_millis": 7,
    "deepnote_cell_type": "code"
   },
   "source": "scores",
   "execution_count": null,
   "outputs": [
    {
     "output_type": "execute_result",
     "execution_count": 27,
     "data": {
      "text/plain": "{'fit_time': array([0.00444555, 0.00202775, 0.00198817, 0.00204229]),\n 'score_time': array([0.00201964, 0.00158   , 0.00153923, 0.00154328]),\n 'test_score': array([0.33915214, 0.31083397, 0.24582468, 0.18782375])}"
     },
     "metadata": {}
    }
   ]
  },
  {
   "cell_type": "markdown",
   "source": "Los datos de la test_score tienen una varianza amplia",
   "metadata": {
    "tags": [],
    "cell_id": "00030-344142a5-9569-4e86-b0b9-6940048e096b",
    "deepnote_cell_type": "markdown"
   }
  },
  {
   "cell_type": "code",
   "metadata": {
    "tags": [],
    "cell_id": "00030-d58e3790-f48c-47fa-9b81-29f995999f16",
    "deepnote_to_be_reexecuted": false,
    "source_hash": "ce5985a9",
    "execution_start": 1631239965465,
    "execution_millis": 6,
    "deepnote_cell_type": "code"
   },
   "source": "print(f\"{scores['test_score'].mean():.3f} +/- {scores['test_score'].std():.3f}\")",
   "execution_count": null,
   "outputs": [
    {
     "name": "stdout",
     "text": "0.271 +/- 0.059\n",
     "output_type": "stream"
    }
   ]
  },
  {
   "cell_type": "code",
   "metadata": {
    "tags": [],
    "cell_id": "00031-324269ed-bdec-4696-a6f4-03d95b2eed72",
    "deepnote_cell_type": "code"
   },
   "source": "    ",
   "execution_count": null,
   "outputs": []
  },
  {
   "cell_type": "markdown",
   "source": "<a style='text-decoration:none;line-height:16px;display:flex;color:#5B5B62;padding:10px;justify-content:end;' href='https://deepnote.com?utm_source=created-in-deepnote-cell&projectId=f8149d1c-e6b1-497a-9109-f01641a8231a' target=\"_blank\">\n<img alt='Created in deepnote.com' style='display:inline;max-height:16px;margin:0px;margin-right:7.5px;' src='data:image/svg+xml;base64,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' > </img>\nCreated in <span style='font-weight:600;margin-left:4px;'>Deepnote</span></a>",
   "metadata": {
    "tags": [],
    "created_in_deepnote_cell": true,
    "deepnote_cell_type": "markdown"
   }
  }
 ],
 "nbformat": 4,
 "nbformat_minor": 2,
 "metadata": {
  "orig_nbformat": 2,
  "deepnote": {
   "is_reactive": false
  },
  "deepnote_notebook_id": "0c30ef17-631b-4cdf-9a20-add30ff65196",
  "deepnote_execution_queue": []
 }
}