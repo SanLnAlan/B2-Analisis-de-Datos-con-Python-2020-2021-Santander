{
 "cells": [
  {
   "cell_type": "markdown",
   "source": "## Reto 1: Bootstrap\n\n### 1. Objetivos:\n    - Practicar la aplicación del algoritmo de boostrap\n    - Practicar graficar los resultados del boostrap\n \n---\n    \n### 2. Desarrollo:",
   "metadata": {
    "cell_id": "00000-076e2b44-0a17-4308-8453-9faf241d326d",
    "deepnote_cell_type": "markdown"
   }
  },
  {
   "cell_type": "markdown",
   "source": "En este Reto vamos a aplicar la técnica de bootstrap para explorar distribuciones muestrales de estadísticas. Para este Reto puedes elegir cualquiera de los datasets que vienen incluidos en este módulo. Ha llegado el momento de que te dejes guiar por tu curiosidad. Puedes ver una lista de todo lo que hay disponible [acá](../../Datasets/Readme.md).\n\nElige un dataset que tenga alguna variable numérica que te parezca interesante. Ahora, vamos a realizar algunos análisis sobre esa variable. Recuerda escribir tu análisis de manera ordenada, ya que si lo deseas habrá oportunidad de presentar tus hallazgos al grupo. Lleva a cabo los siguientes pasos:\n\n1. Primero saca tus estimados de locación y dispersión.\n2. Después, grafica tu variable usando un histograma y un boxplot, para que tengas una idea más detallada de su distribución.\n3. Si consideras que hay valores atípicos, lidia con ellos de la manera que te parezca más adecuada.\n4. Ahora vamos a ver qué tanta incertidumbre y sesgo hay en tus hallazgos. Vamos a aplicar la técnica de bootstrap 3 veces:\n\n  a) Realiza 100 000 remuestreos, cada uno de 5 elementos. Obtén la medida estadística que te interese de cada muestra y guarda los resultados en una lista.\n  \n  b) Repite el mismo proceso, pero esta vez con remuestreos con longitud de 20% del total de los datos.\n  \n  c) Repite una vez más, pero esta vez cada nueva muestra tendrá una longitud de 90% de la original.\n  \n5. Grafica cada una de las listas resultantes en un histograma.\n6. Obtén la asimetría y curtosis de cada una y compáralas entre ellas. ¿Cuál es más similar a una distribución normal? ¿Qué diferencias tienen entre ellas?",
   "metadata": {
    "cell_id": "00001-2f5d6413-2d77-4ad0-b4e1-2d7732bfbb37",
    "deepnote_cell_type": "markdown"
   }
  },
  {
   "cell_type": "code",
   "metadata": {
    "cell_id": "00002-b54fb83f-7c56-4c1a-acd2-9c70c26dba6d",
    "deepnote_to_be_reexecuted": false,
    "source_hash": "3bc44cd8",
    "execution_start": 1631061621986,
    "execution_millis": 1208,
    "deepnote_cell_type": "code"
   },
   "source": "import pandas as pd\nimport matplotlib.pyplot as plt\nimport seaborn as sns",
   "outputs": [],
   "execution_count": null
  },
  {
   "cell_type": "code",
   "source": "df = pd.read_csv('/work/B2-Analisis-de-Datos-con-Python-2020-2021-Santander/Datasets/athlete_olympic_events-clean.csv', index_col=0)\ndf.head()",
   "metadata": {
    "tags": [],
    "cell_id": "00003-51c54114-281e-4165-ba67-ed0803596cab",
    "deepnote_to_be_reexecuted": false,
    "source_hash": "6d6bb0df",
    "execution_start": 1631061753573,
    "execution_millis": 462,
    "deepnote_cell_type": "code"
   },
   "outputs": [
    {
     "output_type": "execute_result",
     "execution_count": 5,
     "data": {
      "application/vnd.deepnote.dataframe.v2+json": {
       "row_count": 5,
       "column_count": 14,
       "columns": [
        {
         "name": "name",
         "dtype": "object",
         "stats": {
          "unique_count": 3,
          "nan_count": 0,
          "categories": [
           {
            "name": "Christine Jacoba Aaftink",
            "count": 3
           },
           {
            "name": "A Dijiang",
            "count": 1
           },
           {
            "name": "A Lamusi",
            "count": 1
           }
          ]
         }
        },
        {
         "name": "sex",
         "dtype": "object",
         "stats": {
          "unique_count": 2,
          "nan_count": 0,
          "categories": [
           {
            "name": "F",
            "count": 3
           },
           {
            "name": "M",
            "count": 2
           }
          ]
         }
        },
        {
         "name": "age",
         "dtype": "float64",
         "stats": {
          "unique_count": 4,
          "nan_count": 0,
          "min": "21.0",
          "max": "25.0",
          "histogram": [
           {
            "bin_start": 21,
            "bin_end": 21.4,
            "count": 2
           },
           {
            "bin_start": 21.4,
            "bin_end": 21.8,
            "count": 0
           },
           {
            "bin_start": 21.8,
            "bin_end": 22.2,
            "count": 0
           },
           {
            "bin_start": 22.2,
            "bin_end": 22.6,
            "count": 0
           },
           {
            "bin_start": 22.6,
            "bin_end": 23,
            "count": 0
           },
           {
            "bin_start": 23,
            "bin_end": 23.4,
            "count": 1
           },
           {
            "bin_start": 23.4,
            "bin_end": 23.8,
            "count": 0
           },
           {
            "bin_start": 23.8,
            "bin_end": 24.2,
            "count": 1
           },
           {
            "bin_start": 24.2,
            "bin_end": 24.6,
            "count": 0
           },
           {
            "bin_start": 24.6,
            "bin_end": 25,
            "count": 1
           }
          ]
         }
        },
        {
         "name": "height",
         "dtype": "float64",
         "stats": {
          "unique_count": 3,
          "nan_count": 0,
          "min": "170.0",
          "max": "185.0",
          "histogram": [
           {
            "bin_start": 170,
            "bin_end": 171.5,
            "count": 1
           },
           {
            "bin_start": 171.5,
            "bin_end": 173,
            "count": 0
           },
           {
            "bin_start": 173,
            "bin_end": 174.5,
            "count": 0
           },
           {
            "bin_start": 174.5,
            "bin_end": 176,
            "count": 0
           },
           {
            "bin_start": 176,
            "bin_end": 177.5,
            "count": 0
           },
           {
            "bin_start": 177.5,
            "bin_end": 179,
            "count": 0
           },
           {
            "bin_start": 179,
            "bin_end": 180.5,
            "count": 1
           },
           {
            "bin_start": 180.5,
            "bin_end": 182,
            "count": 0
           },
           {
            "bin_start": 182,
            "bin_end": 183.5,
            "count": 0
           },
           {
            "bin_start": 183.5,
            "bin_end": 185,
            "count": 3
           }
          ]
         }
        },
        {
         "name": "weight",
         "dtype": "float64",
         "stats": {
          "unique_count": 3,
          "nan_count": 0,
          "min": "60.0",
          "max": "82.0",
          "histogram": [
           {
            "bin_start": 60,
            "bin_end": 62.2,
            "count": 1
           },
           {
            "bin_start": 62.2,
            "bin_end": 64.4,
            "count": 0
           },
           {
            "bin_start": 64.4,
            "bin_end": 66.6,
            "count": 0
           },
           {
            "bin_start": 66.6,
            "bin_end": 68.8,
            "count": 0
           },
           {
            "bin_start": 68.8,
            "bin_end": 71,
            "count": 0
           },
           {
            "bin_start": 71,
            "bin_end": 73.2,
            "count": 0
           },
           {
            "bin_start": 73.2,
            "bin_end": 75.4,
            "count": 0
           },
           {
            "bin_start": 75.4,
            "bin_end": 77.6,
            "count": 0
           },
           {
            "bin_start": 77.6,
            "bin_end": 79.8,
            "count": 0
           },
           {
            "bin_start": 79.8,
            "bin_end": 82,
            "count": 4
           }
          ]
         }
        },
        {
         "name": "team",
         "dtype": "object",
         "stats": {
          "unique_count": 2,
          "nan_count": 0,
          "categories": [
           {
            "name": "Netherlands",
            "count": 3
           },
           {
            "name": "China",
            "count": 2
           }
          ]
         }
        },
        {
         "name": "noc",
         "dtype": "object",
         "stats": {
          "unique_count": 2,
          "nan_count": 0,
          "categories": [
           {
            "name": "NED",
            "count": 3
           },
           {
            "name": "CHN",
            "count": 2
           }
          ]
         }
        },
        {
         "name": "games",
         "dtype": "object",
         "stats": {
          "unique_count": 4,
          "nan_count": 0,
          "categories": [
           {
            "name": "1988 Winter",
            "count": 2
           },
           {
            "name": "1992 Summer",
            "count": 1
           },
           {
            "name": "2 others",
            "count": 2
           }
          ]
         }
        },
        {
         "name": "year",
         "dtype": "int64",
         "stats": {
          "unique_count": 3,
          "nan_count": 0,
          "min": "1988",
          "max": "2012",
          "histogram": [
           {
            "bin_start": 1988,
            "bin_end": 1990.4,
            "count": 2
           },
           {
            "bin_start": 1990.4,
            "bin_end": 1992.8,
            "count": 2
           },
           {
            "bin_start": 1992.8,
            "bin_end": 1995.2,
            "count": 0
           },
           {
            "bin_start": 1995.2,
            "bin_end": 1997.6,
            "count": 0
           },
           {
            "bin_start": 1997.6,
            "bin_end": 2000,
            "count": 0
           },
           {
            "bin_start": 2000,
            "bin_end": 2002.4,
            "count": 0
           },
           {
            "bin_start": 2002.4,
            "bin_end": 2004.8,
            "count": 0
           },
           {
            "bin_start": 2004.8,
            "bin_end": 2007.2,
            "count": 0
           },
           {
            "bin_start": 2007.2,
            "bin_end": 2009.6,
            "count": 0
           },
           {
            "bin_start": 2009.6,
            "bin_end": 2012,
            "count": 1
           }
          ]
         }
        },
        {
         "name": "season",
         "dtype": "object",
         "stats": {
          "unique_count": 2,
          "nan_count": 0,
          "categories": [
           {
            "name": "Winter",
            "count": 3
           },
           {
            "name": "Summer",
            "count": 2
           }
          ]
         }
        },
        {
         "name": "city",
         "dtype": "object",
         "stats": {
          "unique_count": 4,
          "nan_count": 0,
          "categories": [
           {
            "name": "Calgary",
            "count": 2
           },
           {
            "name": "Barcelona",
            "count": 1
           },
           {
            "name": "2 others",
            "count": 2
           }
          ]
         }
        },
        {
         "name": "sport",
         "dtype": "object",
         "stats": {
          "unique_count": 3,
          "nan_count": 0,
          "categories": [
           {
            "name": "Speed Skating",
            "count": 3
           },
           {
            "name": "Basketball",
            "count": 1
           },
           {
            "name": "Judo",
            "count": 1
           }
          ]
         }
        },
        {
         "name": "event",
         "dtype": "object",
         "stats": {
          "unique_count": 4,
          "nan_count": 0,
          "categories": [
           {
            "name": "Speed Skating Women's 500 metres",
            "count": 2
           },
           {
            "name": "Basketball Men's Basketball",
            "count": 1
           },
           {
            "name": "2 others",
            "count": 2
           }
          ]
         }
        },
        {
         "name": "medal",
         "dtype": "object",
         "stats": {
          "unique_count": 1,
          "nan_count": 0,
          "categories": [
           {
            "name": "None",
            "count": 5
           }
          ]
         }
        },
        {
         "name": "_deepnote_index_column",
         "dtype": "int64"
        }
       ],
       "rows_top": [
        {
         "name": "A Dijiang",
         "sex": "M",
         "age": 24,
         "height": 180,
         "weight": 80,
         "team": "China",
         "noc": "CHN",
         "games": "1992 Summer",
         "year": 1992,
         "season": "Summer",
         "city": "Barcelona",
         "sport": "Basketball",
         "event": "Basketball Men's Basketball",
         "medal": "None",
         "_deepnote_index_column": 1
        },
        {
         "name": "A Lamusi",
         "sex": "M",
         "age": 23,
         "height": 170,
         "weight": 60,
         "team": "China",
         "noc": "CHN",
         "games": "2012 Summer",
         "year": 2012,
         "season": "Summer",
         "city": "London",
         "sport": "Judo",
         "event": "Judo Men's Extra-Lightweight",
         "medal": "None",
         "_deepnote_index_column": 2
        },
        {
         "name": "Christine Jacoba Aaftink",
         "sex": "F",
         "age": 21,
         "height": 185,
         "weight": 82,
         "team": "Netherlands",
         "noc": "NED",
         "games": "1988 Winter",
         "year": 1988,
         "season": "Winter",
         "city": "Calgary",
         "sport": "Speed Skating",
         "event": "Speed Skating Women's 500 metres",
         "medal": "None",
         "_deepnote_index_column": 5
        },
        {
         "name": "Christine Jacoba Aaftink",
         "sex": "F",
         "age": 21,
         "height": 185,
         "weight": 82,
         "team": "Netherlands",
         "noc": "NED",
         "games": "1988 Winter",
         "year": 1988,
         "season": "Winter",
         "city": "Calgary",
         "sport": "Speed Skating",
         "event": "Speed Skating Women's 1,000 metres",
         "medal": "None",
         "_deepnote_index_column": 5
        },
        {
         "name": "Christine Jacoba Aaftink",
         "sex": "F",
         "age": 25,
         "height": 185,
         "weight": 82,
         "team": "Netherlands",
         "noc": "NED",
         "games": "1992 Winter",
         "year": 1992,
         "season": "Winter",
         "city": "Albertville",
         "sport": "Speed Skating",
         "event": "Speed Skating Women's 500 metres",
         "medal": "None",
         "_deepnote_index_column": 5
        }
       ],
       "rows_bottom": null
      },
      "text/plain": "                                name sex   age  height  weight         team  \\\nathlete_id                                                                    \n1                          A Dijiang   M  24.0   180.0    80.0        China   \n2                           A Lamusi   M  23.0   170.0    60.0        China   \n5           Christine Jacoba Aaftink   F  21.0   185.0    82.0  Netherlands   \n5           Christine Jacoba Aaftink   F  21.0   185.0    82.0  Netherlands   \n5           Christine Jacoba Aaftink   F  25.0   185.0    82.0  Netherlands   \n\n            noc        games  year  season         city          sport  \\\nathlete_id                                                               \n1           CHN  1992 Summer  1992  Summer    Barcelona     Basketball   \n2           CHN  2012 Summer  2012  Summer       London           Judo   \n5           NED  1988 Winter  1988  Winter      Calgary  Speed Skating   \n5           NED  1988 Winter  1988  Winter      Calgary  Speed Skating   \n5           NED  1992 Winter  1992  Winter  Albertville  Speed Skating   \n\n                                         event medal  \nathlete_id                                            \n1                  Basketball Men's Basketball  None  \n2                 Judo Men's Extra-Lightweight  None  \n5             Speed Skating Women's 500 metres  None  \n5           Speed Skating Women's 1,000 metres  None  \n5             Speed Skating Women's 500 metres  None  ",
      "text/html": "<div>\n<style scoped>\n    .dataframe tbody tr th:only-of-type {\n        vertical-align: middle;\n    }\n\n    .dataframe tbody tr th {\n        vertical-align: top;\n    }\n\n    .dataframe thead th {\n        text-align: right;\n    }\n</style>\n<table border=\"1\" class=\"dataframe\">\n  <thead>\n    <tr style=\"text-align: right;\">\n      <th></th>\n      <th>name</th>\n      <th>sex</th>\n      <th>age</th>\n      <th>height</th>\n      <th>weight</th>\n      <th>team</th>\n      <th>noc</th>\n      <th>games</th>\n      <th>year</th>\n      <th>season</th>\n      <th>city</th>\n      <th>sport</th>\n      <th>event</th>\n      <th>medal</th>\n    </tr>\n    <tr>\n      <th>athlete_id</th>\n      <th></th>\n      <th></th>\n      <th></th>\n      <th></th>\n      <th></th>\n      <th></th>\n      <th></th>\n      <th></th>\n      <th></th>\n      <th></th>\n      <th></th>\n      <th></th>\n      <th></th>\n      <th></th>\n    </tr>\n  </thead>\n  <tbody>\n    <tr>\n      <th>1</th>\n      <td>A Dijiang</td>\n      <td>M</td>\n      <td>24.0</td>\n      <td>180.0</td>\n      <td>80.0</td>\n      <td>China</td>\n      <td>CHN</td>\n      <td>1992 Summer</td>\n      <td>1992</td>\n      <td>Summer</td>\n      <td>Barcelona</td>\n      <td>Basketball</td>\n      <td>Basketball Men's Basketball</td>\n      <td>None</td>\n    </tr>\n    <tr>\n      <th>2</th>\n      <td>A Lamusi</td>\n      <td>M</td>\n      <td>23.0</td>\n      <td>170.0</td>\n      <td>60.0</td>\n      <td>China</td>\n      <td>CHN</td>\n      <td>2012 Summer</td>\n      <td>2012</td>\n      <td>Summer</td>\n      <td>London</td>\n      <td>Judo</td>\n      <td>Judo Men's Extra-Lightweight</td>\n      <td>None</td>\n    </tr>\n    <tr>\n      <th>5</th>\n      <td>Christine Jacoba Aaftink</td>\n      <td>F</td>\n      <td>21.0</td>\n      <td>185.0</td>\n      <td>82.0</td>\n      <td>Netherlands</td>\n      <td>NED</td>\n      <td>1988 Winter</td>\n      <td>1988</td>\n      <td>Winter</td>\n      <td>Calgary</td>\n      <td>Speed Skating</td>\n      <td>Speed Skating Women's 500 metres</td>\n      <td>None</td>\n    </tr>\n    <tr>\n      <th>5</th>\n      <td>Christine Jacoba Aaftink</td>\n      <td>F</td>\n      <td>21.0</td>\n      <td>185.0</td>\n      <td>82.0</td>\n      <td>Netherlands</td>\n      <td>NED</td>\n      <td>1988 Winter</td>\n      <td>1988</td>\n      <td>Winter</td>\n      <td>Calgary</td>\n      <td>Speed Skating</td>\n      <td>Speed Skating Women's 1,000 metres</td>\n      <td>None</td>\n    </tr>\n    <tr>\n      <th>5</th>\n      <td>Christine Jacoba Aaftink</td>\n      <td>F</td>\n      <td>25.0</td>\n      <td>185.0</td>\n      <td>82.0</td>\n      <td>Netherlands</td>\n      <td>NED</td>\n      <td>1992 Winter</td>\n      <td>1992</td>\n      <td>Winter</td>\n      <td>Albertville</td>\n      <td>Speed Skating</td>\n      <td>Speed Skating Women's 500 metres</td>\n      <td>None</td>\n    </tr>\n  </tbody>\n</table>\n</div>"
     },
     "metadata": {}
    }
   ],
   "execution_count": null
  },
  {
   "cell_type": "code",
   "source": "df['age'].describe()",
   "metadata": {
    "tags": [],
    "cell_id": "00004-c4a90e88-403d-4242-9cf8-bf44cb30a061",
    "deepnote_to_be_reexecuted": false,
    "source_hash": "1fdff880",
    "execution_start": 1631061781604,
    "execution_millis": 22,
    "deepnote_cell_type": "code"
   },
   "outputs": [
    {
     "output_type": "execute_result",
     "execution_count": 6,
     "data": {
      "text/plain": "count    206165.000000\nmean         25.055509\nstd           5.483096\nmin          11.000000\n25%          21.000000\n50%          24.000000\n75%          28.000000\nmax          71.000000\nName: age, dtype: float64"
     },
     "metadata": {}
    }
   ],
   "execution_count": null
  },
  {
   "cell_type": "code",
   "source": "sns.histplot(data=df,x='age')",
   "metadata": {
    "tags": [],
    "cell_id": "00005-2907412d-e255-4a23-beec-0d12128d1d58",
    "deepnote_to_be_reexecuted": false,
    "source_hash": "6ed90751",
    "execution_start": 1631061815125,
    "execution_millis": 655,
    "deepnote_cell_type": "code"
   },
   "outputs": [
    {
     "output_type": "execute_result",
     "execution_count": 7,
     "data": {
      "text/plain": "<AxesSubplot:xlabel='age', ylabel='Count'>"
     },
     "metadata": {}
    },
    {
     "data": {
      "text/plain": "<Figure size 432x288 with 1 Axes>",
      "image/png": "[encoded data removed]"
     },
     "metadata": {
      "needs_background": "light",
      "image/png": {
       "width": 401,
       "height": 262
      }
     },
     "output_type": "display_data"
    }
   ],
   "execution_count": null
  },
  {
   "cell_type": "code",
   "source": "sns.boxplot(data=df,x='age')",
   "metadata": {
    "tags": [],
    "cell_id": "00006-09c2060e-9206-4ab9-97b9-43b8bd49df11",
    "deepnote_to_be_reexecuted": false,
    "source_hash": "81cb8f86",
    "execution_start": 1631061829389,
    "execution_millis": 130,
    "deepnote_cell_type": "code"
   },
   "outputs": [
    {
     "output_type": "execute_result",
     "execution_count": 8,
     "data": {
      "text/plain": "<AxesSubplot:xlabel='age'>"
     },
     "metadata": {}
    },
    {
     "data": {
      "text/plain": "<Figure size 432x288 with 1 Axes>",
      "image/png": "[encoded data removed]"
     },
     "metadata": {
      "needs_background": "light",
      "image/png": {
       "width": 352,
       "height": 262
      }
     },
     "output_type": "display_data"
    }
   ],
   "execution_count": null
  },
  {
   "cell_type": "code",
   "source": "df_simp = df[df['age'] < 40]",
   "metadata": {
    "tags": [],
    "cell_id": "00007-f3ec620a-de94-4e90-9257-06a460c7f167",
    "deepnote_to_be_reexecuted": false,
    "source_hash": "ea8820c",
    "execution_start": 1631061900199,
    "execution_millis": 0,
    "deepnote_cell_type": "code"
   },
   "outputs": [],
   "execution_count": null
  },
  {
   "cell_type": "markdown",
   "source": "Realiza 100 000 remuestreos, cada uno de 5 elementos. Obtén la medida estadística que te interese de cada muestra y guarda los resultados en una lista.\n\nb) Repite el mismo proceso, pero esta vez con remuestreos con longitud de 20% del total de los datos.\n\nc) Repite una vez más, pero esta vez cada nueva muestra tendrá una longitud de 90% de la original.\n\nGrafica cada una de las listas resultantes en un histograma.\nObtén la asimetría y curtosis de cada una y compáralas entre ellas. ¿Cuál es más similar a una distribución normal? ¿Qué diferencias tienen entre ellas?",
   "metadata": {
    "tags": [],
    "cell_id": "00008-cac00578-34c3-4600-ad86-5e3bf409b5ab",
    "deepnote_cell_type": "markdown"
   },
   "outputs": [],
   "execution_count": null
  },
  {
   "cell_type": "code",
   "source": "medias = []\n\nfor i in range(10_000):\n    muestra = df['age'].sample(n=4,replace=True)\n    medias.append(muestra.mean())\n\nmedia_serie1 = pd.Series(medias)\nsns.histplot(media_serie1)",
   "metadata": {
    "tags": [],
    "cell_id": "00009-e2eaa6ec-9ed9-4e2e-93d3-25b0b59130c3",
    "deepnote_to_be_reexecuted": false,
    "source_hash": "ea7cf6f7",
    "execution_start": 1631063518938,
    "execution_millis": 2091,
    "deepnote_cell_type": "code"
   },
   "outputs": [
    {
     "output_type": "execute_result",
     "execution_count": 30,
     "data": {
      "text/plain": "<AxesSubplot:ylabel='Count'>"
     },
     "metadata": {}
    },
    {
     "data": {
      "text/plain": "<Figure size 432x288 with 1 Axes>",
      "image/png": "[encoded data removed]"
     },
     "metadata": {
      "needs_background": "light",
      "image/png": {
       "width": 389,
       "height": 249
      }
     },
     "output_type": "display_data"
    }
   ],
   "execution_count": null
  },
  {
   "cell_type": "code",
   "source": "def describir(df):\n    print(f'descripción:{df.describe()} \\n asimetría:{df.skew()} \\n kurtosis:{df.kurtosis()}')",
   "metadata": {
    "tags": [],
    "cell_id": "00010-4efee8c7-9e93-43ca-9b06-fca530b073a1",
    "deepnote_to_be_reexecuted": false,
    "source_hash": "de4f8fc9",
    "execution_start": 1631062671107,
    "execution_millis": 2,
    "deepnote_cell_type": "code"
   },
   "outputs": [],
   "execution_count": null
  },
  {
   "cell_type": "code",
   "source": "medias = []\n\nfor i in range(10_000):\n    muestra = df['age'].sample(frac=0.2,replace=True)\n    medias.append(muestra.mean())\n\nmedia_serie2 = pd.Series(medias)\nsns.histplot(media_serie2)",
   "metadata": {
    "tags": [],
    "cell_id": "00010-b65ec821-604e-4bf5-9890-a5edcb654d5c",
    "deepnote_to_be_reexecuted": false,
    "source_hash": "2469fc0b",
    "execution_start": 1631063531990,
    "execution_millis": 17642,
    "deepnote_cell_type": "code"
   },
   "outputs": [
    {
     "output_type": "execute_result",
     "execution_count": 31,
     "data": {
      "text/plain": "<AxesSubplot:ylabel='Count'>"
     },
     "metadata": {}
    },
    {
     "data": {
      "text/plain": "<Figure size 432x288 with 1 Axes>",
      "image/png": "[encoded data removed]"
     },
     "metadata": {
      "needs_background": "light",
      "image/png": {
       "width": 389,
       "height": 248
      }
     },
     "output_type": "display_data"
    }
   ],
   "execution_count": null
  },
  {
   "cell_type": "code",
   "source": "medias = []\n\nfor i in range(10_000):\n    muestra = df['age'].sample(frac=0.9,replace=True)\n    medias.append(muestra.mean())\n\nmedia_serie3 = pd.Series(medias)\nsns.histplot(media_serie3)",
   "metadata": {
    "tags": [],
    "cell_id": "00011-3fcbe463-31d1-4bf0-91b9-5f0d26b03827",
    "deepnote_to_be_reexecuted": false,
    "source_hash": "1e629db9",
    "execution_start": 1631063549634,
    "execution_millis": 77015,
    "deepnote_cell_type": "code"
   },
   "outputs": [
    {
     "output_type": "execute_result",
     "execution_count": 32,
     "data": {
      "text/plain": "<AxesSubplot:ylabel='Count'>"
     },
     "metadata": {}
    },
    {
     "data": {
      "text/plain": "<Figure size 432x288 with 1 Axes>",
      "image/png": "[encoded data removed]"
     },
     "metadata": {
      "needs_background": "light",
      "image/png": {
       "width": 389,
       "height": 248
      }
     },
     "output_type": "display_data"
    }
   ],
   "execution_count": null
  },
  {
   "cell_type": "code",
   "source": "describir(media_serie1)",
   "metadata": {
    "tags": [],
    "cell_id": "00012-32206719-d8a8-4f9c-9e9b-bab08e07ef39",
    "deepnote_to_be_reexecuted": false,
    "source_hash": "6a62c22c",
    "execution_start": 1631062689431,
    "execution_millis": 4,
    "deepnote_cell_type": "code"
   },
   "outputs": [
    {
     "name": "stdout",
     "text": "descripción:count    10000.000000\nmean        24.676100\nstd          2.418959\nmin         17.250000\n25%         23.000000\n50%         24.500000\n75%         26.250000\nmax         34.750000\ndtype: float64 \n asimetría:0.22346726390339353 \n kurtosis:0.02414397995253692\n",
     "output_type": "stream"
    }
   ],
   "execution_count": null
  },
  {
   "cell_type": "code",
   "source": "describir(media_serie2)",
   "metadata": {
    "tags": [],
    "cell_id": "00015-15376fa5-2302-43d5-afd7-49baf8bf19e8",
    "deepnote_to_be_reexecuted": false,
    "source_hash": "4f750ea8",
    "execution_start": 1631062706648,
    "execution_millis": 10,
    "deepnote_cell_type": "code"
   },
   "outputs": [
    {
     "name": "stdout",
     "text": "descripción:count    10000.000000\nmean        24.684782\nstd          0.023851\nmin         24.592186\n25%         24.668817\n50%         24.685213\n75%         24.700744\nmax         24.784516\ndtype: float64 \n asimetría:-0.04121664097592363 \n kurtosis:0.021882173049170728\n",
     "output_type": "stream"
    }
   ],
   "execution_count": null
  },
  {
   "cell_type": "code",
   "source": "describir(media_serie3)\n",
   "metadata": {
    "tags": [],
    "cell_id": "00015-ddcc4923-a613-42ec-9659-c722faa0377c",
    "deepnote_to_be_reexecuted": false,
    "source_hash": "44ec762f",
    "execution_start": 1631062712910,
    "execution_millis": 16,
    "deepnote_cell_type": "code"
   },
   "outputs": [
    {
     "name": "stdout",
     "text": "descripción:count    10000.000000\nmean        24.684497\nstd          0.011258\nmin         24.620546\n25%         24.676870\n50%         24.684480\n75%         24.691991\nmax         24.726816\ndtype: float64 \n asimetría:-0.01709009340331485 \n kurtosis:0.009302804380940888\n",
     "output_type": "stream"
    }
   ],
   "execution_count": null
  },
  {
   "cell_type": "code",
   "source": "",
   "metadata": {
    "tags": [],
    "cell_id": "00016-2062a158-13bd-4556-a7d9-c553761d9453",
    "deepnote_cell_type": "code"
   },
   "outputs": [],
   "execution_count": null
  },
  {
   "cell_type": "markdown",
   "source": "<a style='text-decoration:none;line-height:16px;display:flex;color:#5B5B62;padding:10px;justify-content:end;' href='https://deepnote.com?utm_source=created-in-deepnote-cell&projectId=f8149d1c-e6b1-497a-9109-f01641a8231a' target=\"_blank\">\n<img alt='Created in deepnote.com' style='display:inline;max-height:16px;margin:0px;margin-right:7.5px;' src='data:image/svg+xml;base64,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' > </img>\nCreated in <span style='font-weight:600;margin-left:4px;'>Deepnote</span></a>",
   "metadata": {
    "tags": [],
    "created_in_deepnote_cell": true,
    "deepnote_cell_type": "markdown"
   }
  }
 ],
 "nbformat": 4,
 "nbformat_minor": 4,
 "metadata": {
  "kernelspec": {
   "display_name": "Python (data_science)",
   "language": "python",
   "name": "data_science"
  },
  "language_info": {
   "codemirror_mode": {
    "name": "ipython",
    "version": 3
   },
   "file_extension": ".py",
   "mimetype": "text/x-python",
   "name": "python",
   "nbconvert_exporter": "python",
   "pygments_lexer": "ipython3",
   "version": "3.8.5"
  },
  "deepnote_notebook_id": "882f34d7-4272-4e54-afc7-aa4d52db7b00",
  "deepnote": {},
  "deepnote_execution_queue": []
 }
}