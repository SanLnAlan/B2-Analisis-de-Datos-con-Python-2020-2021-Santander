{
 "cells": [
  {
   "cell_type": "markdown",
   "source": "# En clase sesión 8",
   "metadata": {
    "tags": [],
    "cell_id": "00000-65d44627-d4c9-4007-b72f-e655ca572d0f",
    "deepnote_cell_type": "markdown"
   }
  },
  {
   "cell_type": "code",
   "metadata": {
    "tags": [],
    "cell_id": "00000-dbf8bf62-5887-483d-aae6-ded36e04732c",
    "deepnote_to_be_reexecuted": false,
    "source_hash": "e0df300b",
    "execution_start": 1632447576883,
    "execution_millis": 2,
    "deepnote_cell_type": "code"
   },
   "source": "import pandas as pd\nimport seaborn as sns",
   "execution_count": 6,
   "outputs": []
  },
  {
   "cell_type": "code",
   "source": "df = pd.read_csv('/work/B2-Analisis-de-Datos-con-Python-2020-2021-Santander/Datasets/crimenes_locacion.csv')\ndf.head()",
   "metadata": {
    "tags": [],
    "cell_id": "00002-0a31a30b-c09a-43a6-881c-f581f14a5914",
    "deepnote_to_be_reexecuted": false,
    "source_hash": "121a1882",
    "execution_start": 1632449480031,
    "execution_millis": 29,
    "deepnote_cell_type": "code"
   },
   "outputs": [
    {
     "output_type": "execute_result",
     "execution_count": 17,
     "data": {
      "application/vnd.deepnote.dataframe.v2+json": {
       "row_count": 5,
       "column_count": 3,
       "columns": [
        {
         "name": "codigo_crimen",
         "dtype": "int64",
         "stats": {
          "unique_count": 4,
          "nan_count": 0,
          "min": "0",
          "max": "8",
          "histogram": [
           {
            "bin_start": 0,
            "bin_end": 0.8,
            "count": 1
           },
           {
            "bin_start": 0.8,
            "bin_end": 1.6,
            "count": 1
           },
           {
            "bin_start": 1.6,
            "bin_end": 2.4000000000000004,
            "count": 0
           },
           {
            "bin_start": 2.4000000000000004,
            "bin_end": 3.2,
            "count": 1
           },
           {
            "bin_start": 3.2,
            "bin_end": 4,
            "count": 0
           },
           {
            "bin_start": 4,
            "bin_end": 4.800000000000001,
            "count": 0
           },
           {
            "bin_start": 4.800000000000001,
            "bin_end": 5.6000000000000005,
            "count": 0
           },
           {
            "bin_start": 5.6000000000000005,
            "bin_end": 6.4,
            "count": 0
           },
           {
            "bin_start": 6.4,
            "bin_end": 7.2,
            "count": 0
           },
           {
            "bin_start": 7.2,
            "bin_end": 8,
            "count": 2
           }
          ]
         }
        },
        {
         "name": "latitud",
         "dtype": "float64",
         "stats": {
          "unique_count": 5,
          "nan_count": 0,
          "min": "-15.068712254283728",
          "max": "8.80699754808258",
          "histogram": [
           {
            "bin_start": -15.068712254283728,
            "bin_end": -12.681141274047096,
            "count": 1
           },
           {
            "bin_start": -12.681141274047096,
            "bin_end": -10.293570293810467,
            "count": 0
           },
           {
            "bin_start": -10.293570293810467,
            "bin_end": -7.905999313573836,
            "count": 0
           },
           {
            "bin_start": -7.905999313573836,
            "bin_end": -5.518428333337205,
            "count": 1
           },
           {
            "bin_start": -5.518428333337205,
            "bin_end": -3.1308573531005734,
            "count": 1
           },
           {
            "bin_start": -3.1308573531005734,
            "bin_end": -0.7432863728639436,
            "count": 0
           },
           {
            "bin_start": -0.7432863728639436,
            "bin_end": 1.6442846073726862,
            "count": 0
           },
           {
            "bin_start": 1.6442846073726862,
            "bin_end": 4.031855587609318,
            "count": 1
           },
           {
            "bin_start": 4.031855587609318,
            "bin_end": 6.4194265678459494,
            "count": 0
           },
           {
            "bin_start": 6.4194265678459494,
            "bin_end": 8.80699754808258,
            "count": 1
           }
          ]
         }
        },
        {
         "name": "longitud",
         "dtype": "float64",
         "stats": {
          "unique_count": 5,
          "nan_count": 0,
          "min": "-12.090601121877912",
          "max": "15.487285716233451",
          "histogram": [
           {
            "bin_start": -12.090601121877912,
            "bin_end": -9.332812438066775,
            "count": 1
           },
           {
            "bin_start": -9.332812438066775,
            "bin_end": -6.575023754255639,
            "count": 0
           },
           {
            "bin_start": -6.575023754255639,
            "bin_end": -3.817235070444502,
            "count": 0
           },
           {
            "bin_start": -3.817235070444502,
            "bin_end": -1.0594463866333665,
            "count": 0
           },
           {
            "bin_start": -1.0594463866333665,
            "bin_end": 1.6983422971777689,
            "count": 1
           },
           {
            "bin_start": 1.6983422971777689,
            "bin_end": 4.456130980988908,
            "count": 0
           },
           {
            "bin_start": 4.456130980988908,
            "bin_end": 7.213919664800043,
            "count": 0
           },
           {
            "bin_start": 7.213919664800043,
            "bin_end": 9.971708348611179,
            "count": 0
           },
           {
            "bin_start": 9.971708348611179,
            "bin_end": 12.729497032422314,
            "count": 1
           },
           {
            "bin_start": 12.729497032422314,
            "bin_end": 15.487285716233451,
            "count": 2
           }
          ]
         }
        },
        {
         "name": "_deepnote_index_column",
         "dtype": "int64"
        }
       ],
       "rows_top": [
        {
         "codigo_crimen": 8,
         "latitud": -15.068712254283728,
         "longitud": 0.1579913740429432,
         "_deepnote_index_column": 0
        },
        {
         "codigo_crimen": 0,
         "latitud": -4.06591278910107,
         "longitud": 12.491768470492303,
         "_deepnote_index_column": 1
        },
        {
         "codigo_crimen": 1,
         "latitud": 3.1411793066364315,
         "longitud": -12.090601121877912,
         "_deepnote_index_column": 2
        },
        {
         "codigo_crimen": 8,
         "latitud": 8.80699754808258,
         "longitud": 14.316891844960102,
         "_deepnote_index_column": 3
        },
        {
         "codigo_crimen": 3,
         "latitud": -5.7736407940424455,
         "longitud": 15.487285716233451,
         "_deepnote_index_column": 4
        }
       ],
       "rows_bottom": null
      },
      "text/plain": "   codigo_crimen    latitud   longitud\n0              8 -15.068712   0.157991\n1              0  -4.065913  12.491768\n2              1   3.141179 -12.090601\n3              8   8.806998  14.316892\n4              3  -5.773641  15.487286",
      "text/html": "<div>\n<style scoped>\n    .dataframe tbody tr th:only-of-type {\n        vertical-align: middle;\n    }\n\n    .dataframe tbody tr th {\n        vertical-align: top;\n    }\n\n    .dataframe thead th {\n        text-align: right;\n    }\n</style>\n<table border=\"1\" class=\"dataframe\">\n  <thead>\n    <tr style=\"text-align: right;\">\n      <th></th>\n      <th>codigo_crimen</th>\n      <th>latitud</th>\n      <th>longitud</th>\n    </tr>\n  </thead>\n  <tbody>\n    <tr>\n      <th>0</th>\n      <td>8</td>\n      <td>-15.068712</td>\n      <td>0.157991</td>\n    </tr>\n    <tr>\n      <th>1</th>\n      <td>0</td>\n      <td>-4.065913</td>\n      <td>12.491768</td>\n    </tr>\n    <tr>\n      <th>2</th>\n      <td>1</td>\n      <td>3.141179</td>\n      <td>-12.090601</td>\n    </tr>\n    <tr>\n      <th>3</th>\n      <td>8</td>\n      <td>8.806998</td>\n      <td>14.316892</td>\n    </tr>\n    <tr>\n      <th>4</th>\n      <td>3</td>\n      <td>-5.773641</td>\n      <td>15.487286</td>\n    </tr>\n  </tbody>\n</table>\n</div>"
     },
     "metadata": {}
    }
   ],
   "execution_count": 17
  },
  {
   "cell_type": "code",
   "source": "sns.scatterplot(data=df,x='latitud',y='longitud')",
   "metadata": {
    "tags": [],
    "cell_id": "00003-a7ed6c20-fe32-4244-a53b-6a752f165e11",
    "deepnote_to_be_reexecuted": false,
    "source_hash": "bd3966c3",
    "execution_start": 1632447560084,
    "execution_millis": 321,
    "deepnote_cell_type": "code"
   },
   "outputs": [
    {
     "output_type": "execute_result",
     "execution_count": 5,
     "data": {
      "text/plain": "<AxesSubplot:xlabel='latitud', ylabel='longitud'>"
     },
     "metadata": {}
    },
    {
     "data": {
      "text/plain": "<Figure size 432x288 with 1 Axes>",
      "image/png": "[encoded data removed]"
     },
     "metadata": {
      "needs_background": "light",
      "image/png": {
       "width": 397,
       "height": 262
      }
     },
     "output_type": "display_data"
    }
   ],
   "execution_count": 5
  },
  {
   "cell_type": "code",
   "source": "from sklearn.cluster import KMeans\n\n#k=6\nk_means=KMeans(n_clusters=6,max_iter=10_000)\nk_means.fit(df[['latitud','longitud']])",
   "metadata": {
    "tags": [],
    "cell_id": "00004-cfc5f054-2cc1-4205-b278-72712e6a13c7",
    "deepnote_to_be_reexecuted": false,
    "source_hash": "3f803890",
    "execution_start": 1632447690068,
    "execution_millis": 348,
    "deepnote_cell_type": "code"
   },
   "outputs": [
    {
     "output_type": "execute_result",
     "execution_count": 7,
     "data": {
      "text/plain": "KMeans(max_iter=10000, n_clusters=6)"
     },
     "metadata": {}
    }
   ],
   "execution_count": 7
  },
  {
   "cell_type": "code",
   "source": "centers = k_means.cluster_centers_\ncenters",
   "metadata": {
    "tags": [],
    "cell_id": "00005-c20bcca7-8fc4-42ce-97ec-264bd5542c09",
    "deepnote_to_be_reexecuted": false,
    "source_hash": "6779f454",
    "execution_start": 1632447734003,
    "execution_millis": 38,
    "deepnote_cell_type": "code"
   },
   "outputs": [
    {
     "output_type": "execute_result",
     "execution_count": 8,
     "data": {
      "text/plain": "array([[12.75761722,  4.46923008],\n       [-9.81481558,  0.8804643 ],\n       [ 1.28449279,  2.28543337],\n       [-5.39392643,  9.87928464],\n       [ 8.1614813 , 12.78745855],\n       [ 4.6243732 , -8.92529877]])"
     },
     "metadata": {}
    }
   ],
   "execution_count": 8
  },
  {
   "cell_type": "code",
   "source": "sns.scatterplot(df['latitud'],df['longitud'])\nsns.scatterplot(centers[:,0],centers[:,1],color='black',s=100)",
   "metadata": {
    "tags": [],
    "cell_id": "00006-e39371c9-22ee-4e64-804a-5bdfa362fe8b",
    "deepnote_to_be_reexecuted": false,
    "source_hash": "8993eee9",
    "execution_start": 1632447857156,
    "execution_millis": 334,
    "deepnote_cell_type": "code"
   },
   "outputs": [
    {
     "name": "stderr",
     "text": "/shared-libs/python3.7/py/lib/python3.7/site-packages/seaborn/_decorators.py:43: FutureWarning: Pass the following variables as keyword args: x, y. From version 0.12, the only valid positional argument will be `data`, and passing other arguments without an explicit keyword will result in an error or misinterpretation.\n  FutureWarning\n/shared-libs/python3.7/py/lib/python3.7/site-packages/seaborn/_decorators.py:43: FutureWarning: Pass the following variables as keyword args: x, y. From version 0.12, the only valid positional argument will be `data`, and passing other arguments without an explicit keyword will result in an error or misinterpretation.\n  FutureWarning\n",
     "output_type": "stream"
    },
    {
     "output_type": "execute_result",
     "execution_count": 9,
     "data": {
      "text/plain": "<AxesSubplot:xlabel='latitud', ylabel='longitud'>"
     },
     "metadata": {}
    },
    {
     "data": {
      "text/plain": "<Figure size 432x288 with 1 Axes>",
      "image/png": "[encoded data removed]"
     },
     "metadata": {
      "needs_background": "light",
      "image/png": {
       "width": 397,
       "height": 262
      }
     },
     "output_type": "display_data"
    }
   ],
   "execution_count": 9
  },
  {
   "cell_type": "code",
   "source": "import matplotlib.pyplot as plt\nfig = plt.figure()\nax=fig.add_subplot()\nclasificacion = k_means.predict(df[['latitud','longitud']])\nsns.scatterplot(df['latitud'],df['longitud'],hue=clasificacion,palette='rainbow',ax=ax)\nsns.scatterplot(centers[:,0],centers[:,1],color='black',s=100,ax=ax)\nax.get_legend().remove()",
   "metadata": {
    "tags": [],
    "cell_id": "00007-e2c0c0f4-7392-4a12-9721-bc730eaa1aa5",
    "deepnote_to_be_reexecuted": false,
    "source_hash": "5a0adb46",
    "execution_start": 1632448228029,
    "execution_millis": 446,
    "deepnote_cell_type": "code"
   },
   "outputs": [
    {
     "name": "stderr",
     "text": "/shared-libs/python3.7/py/lib/python3.7/site-packages/seaborn/_decorators.py:43: FutureWarning: Pass the following variables as keyword args: x, y. From version 0.12, the only valid positional argument will be `data`, and passing other arguments without an explicit keyword will result in an error or misinterpretation.\n  FutureWarning\n/shared-libs/python3.7/py/lib/python3.7/site-packages/seaborn/_decorators.py:43: FutureWarning: Pass the following variables as keyword args: x, y. From version 0.12, the only valid positional argument will be `data`, and passing other arguments without an explicit keyword will result in an error or misinterpretation.\n  FutureWarning\n",
     "output_type": "stream"
    },
    {
     "data": {
      "text/plain": "<Figure size 432x288 with 1 Axes>",
      "image/png": "[encoded data removed]"
     },
     "metadata": {
      "needs_background": "light",
      "image/png": {
       "width": 397,
       "height": 262
      }
     },
     "output_type": "display_data"
    }
   ],
   "execution_count": 12
  },
  {
   "cell_type": "code",
   "source": "df['clasificacion'] = clasificacion",
   "metadata": {
    "tags": [],
    "cell_id": "00008-ed72423e-a484-44d4-ae3b-ea14e53fb400",
    "deepnote_to_be_reexecuted": false,
    "source_hash": "6220a2cc",
    "execution_start": 1632449226197,
    "execution_millis": 2,
    "deepnote_cell_type": "code"
   },
   "outputs": [],
   "execution_count": 14
  },
  {
   "cell_type": "code",
   "source": "#8 a)\ndf['contador'] = 1\ngrouped_by_class = df.groupby('clasificacion')['contador'].sum()\ngrouped_by_class",
   "metadata": {
    "tags": [],
    "cell_id": "00009-8c1b8cf4-f275-40bf-b5d2-cded2d5e3281",
    "deepnote_to_be_reexecuted": false,
    "source_hash": "ff4f918d",
    "execution_start": 1632449383468,
    "execution_millis": 5,
    "deepnote_cell_type": "code"
   },
   "outputs": [
    {
     "output_type": "execute_result",
     "execution_count": 16,
     "data": {
      "text/plain": "clasificacion\n0    125\n1    181\n2    144\n3    162\n4    122\n5    115\nName: contador, dtype: int64"
     },
     "metadata": {}
    }
   ],
   "execution_count": 16
  },
  {
   "cell_type": "code",
   "source": "#8 b)\ngrouped_by_product = df.groupby('clasficacion')['']",
   "metadata": {
    "tags": [],
    "cell_id": "00010-76208eb1-2c37-47b7-a7c2-fcdc89ef9041",
    "deepnote_cell_type": "code"
   },
   "outputs": [],
   "execution_count": null
  },
  {
   "cell_type": "markdown",
   "source": "## Regresión logística",
   "metadata": {
    "tags": [],
    "cell_id": "00011-66e2b24c-683c-4e41-8a69-2a2da0109658",
    "deepnote_cell_type": "markdown"
   }
  },
  {
   "cell_type": "code",
   "source": "df = pd.read_csv('/work/B2-Analisis-de-Datos-con-Python-2020-2021-Santander/Datasets/breast_cancer_wisconsin.csv',index_col=0)\ndf = df.drop(columns='Unnamed: 32')\ndf.head()",
   "metadata": {
    "tags": [],
    "cell_id": "00011-7ca74364-ef2e-4bb2-a403-676ca6edb38f",
    "deepnote_to_be_reexecuted": false,
    "source_hash": "19db9f00",
    "execution_start": 1632450421251,
    "execution_millis": 106,
    "deepnote_cell_type": "code"
   },
   "outputs": [
    {
     "output_type": "execute_result",
     "execution_count": 21,
     "data": {
      "application/vnd.deepnote.dataframe.v2+json": {
       "row_count": 5,
       "column_count": 31,
       "columns": [
        {
         "name": "diagnosis",
         "dtype": "object",
         "stats": {
          "unique_count": 1,
          "nan_count": 0,
          "categories": [
           {
            "name": "M",
            "count": 5
           }
          ]
         }
        },
        {
         "name": "radius_mean",
         "dtype": "float64",
         "stats": {
          "unique_count": 5,
          "nan_count": 0,
          "min": "11.42",
          "max": "20.57",
          "histogram": [
           {
            "bin_start": 11.42,
            "bin_end": 12.335,
            "count": 1
           },
           {
            "bin_start": 12.335,
            "bin_end": 13.25,
            "count": 0
           },
           {
            "bin_start": 13.25,
            "bin_end": 14.165,
            "count": 0
           },
           {
            "bin_start": 14.165,
            "bin_end": 15.08,
            "count": 0
           },
           {
            "bin_start": 15.08,
            "bin_end": 15.995000000000001,
            "count": 0
           },
           {
            "bin_start": 15.995000000000001,
            "bin_end": 16.91,
            "count": 0
           },
           {
            "bin_start": 16.91,
            "bin_end": 17.825,
            "count": 0
           },
           {
            "bin_start": 17.825,
            "bin_end": 18.740000000000002,
            "count": 1
           },
           {
            "bin_start": 18.740000000000002,
            "bin_end": 19.655,
            "count": 0
           },
           {
            "bin_start": 19.655,
            "bin_end": 20.57,
            "count": 3
           }
          ]
         }
        },
        {
         "name": "texture_mean",
         "dtype": "float64",
         "stats": {
          "unique_count": 5,
          "nan_count": 0,
          "min": "10.38",
          "max": "21.25",
          "histogram": [
           {
            "bin_start": 10.38,
            "bin_end": 11.467,
            "count": 1
           },
           {
            "bin_start": 11.467,
            "bin_end": 12.554,
            "count": 0
           },
           {
            "bin_start": 12.554,
            "bin_end": 13.641000000000002,
            "count": 0
           },
           {
            "bin_start": 13.641000000000002,
            "bin_end": 14.728000000000002,
            "count": 1
           },
           {
            "bin_start": 14.728000000000002,
            "bin_end": 15.815000000000001,
            "count": 0
           },
           {
            "bin_start": 15.815000000000001,
            "bin_end": 16.902,
            "count": 0
           },
           {
            "bin_start": 16.902,
            "bin_end": 17.989,
            "count": 1
           },
           {
            "bin_start": 17.989,
            "bin_end": 19.076,
            "count": 0
           },
           {
            "bin_start": 19.076,
            "bin_end": 20.163,
            "count": 0
           },
           {
            "bin_start": 20.163,
            "bin_end": 21.25,
            "count": 2
           }
          ]
         }
        },
        {
         "name": "perimeter_mean",
         "dtype": "float64",
         "stats": {
          "unique_count": 5,
          "nan_count": 0,
          "min": "77.58",
          "max": "135.1",
          "histogram": [
           {
            "bin_start": 77.58,
            "bin_end": 83.332,
            "count": 1
           },
           {
            "bin_start": 83.332,
            "bin_end": 89.084,
            "count": 0
           },
           {
            "bin_start": 89.084,
            "bin_end": 94.836,
            "count": 0
           },
           {
            "bin_start": 94.836,
            "bin_end": 100.588,
            "count": 0
           },
           {
            "bin_start": 100.588,
            "bin_end": 106.34,
            "count": 0
           },
           {
            "bin_start": 106.34,
            "bin_end": 112.092,
            "count": 0
           },
           {
            "bin_start": 112.092,
            "bin_end": 117.844,
            "count": 0
           },
           {
            "bin_start": 117.844,
            "bin_end": 123.596,
            "count": 1
           },
           {
            "bin_start": 123.596,
            "bin_end": 129.348,
            "count": 0
           },
           {
            "bin_start": 129.348,
            "bin_end": 135.1,
            "count": 3
           }
          ]
         }
        },
        {
         "name": "area_mean",
         "dtype": "float64",
         "stats": {
          "unique_count": 5,
          "nan_count": 0,
          "min": "386.1",
          "max": "1326.0",
          "histogram": [
           {
            "bin_start": 386.1,
            "bin_end": 480.09000000000003,
            "count": 1
           },
           {
            "bin_start": 480.09000000000003,
            "bin_end": 574.08,
            "count": 0
           },
           {
            "bin_start": 574.08,
            "bin_end": 668.0699999999999,
            "count": 0
           },
           {
            "bin_start": 668.0699999999999,
            "bin_end": 762.06,
            "count": 0
           },
           {
            "bin_start": 762.06,
            "bin_end": 856.05,
            "count": 0
           },
           {
            "bin_start": 856.05,
            "bin_end": 950.04,
            "count": 0
           },
           {
            "bin_start": 950.04,
            "bin_end": 1044.03,
            "count": 1
           },
           {
            "bin_start": 1044.03,
            "bin_end": 1138.02,
            "count": 0
           },
           {
            "bin_start": 1138.02,
            "bin_end": 1232.01,
            "count": 1
           },
           {
            "bin_start": 1232.01,
            "bin_end": 1326,
            "count": 2
           }
          ]
         }
        },
        {
         "name": "smoothness_mean",
         "dtype": "float64",
         "stats": {
          "unique_count": 5,
          "nan_count": 0,
          "min": "0.08474",
          "max": "0.1425",
          "histogram": [
           {
            "bin_start": 0.08474,
            "bin_end": 0.090516,
            "count": 1
           },
           {
            "bin_start": 0.090516,
            "bin_end": 0.09629199999999999,
            "count": 0
           },
           {
            "bin_start": 0.09629199999999999,
            "bin_end": 0.10206799999999999,
            "count": 1
           },
           {
            "bin_start": 0.10206799999999999,
            "bin_end": 0.107844,
            "count": 0
           },
           {
            "bin_start": 0.107844,
            "bin_end": 0.11362,
            "count": 1
           },
           {
            "bin_start": 0.11362,
            "bin_end": 0.11939599999999999,
            "count": 1
           },
           {
            "bin_start": 0.11939599999999999,
            "bin_end": 0.125172,
            "count": 0
           },
           {
            "bin_start": 0.125172,
            "bin_end": 0.13094799999999998,
            "count": 0
           },
           {
            "bin_start": 0.13094799999999998,
            "bin_end": 0.13672399999999998,
            "count": 0
           },
           {
            "bin_start": 0.13672399999999998,
            "bin_end": 0.1425,
            "count": 1
           }
          ]
         }
        },
        {
         "name": "compactness_mean",
         "dtype": "float64",
         "stats": {
          "unique_count": 5,
          "nan_count": 0,
          "min": "0.07864",
          "max": "0.2839",
          "histogram": [
           {
            "bin_start": 0.07864,
            "bin_end": 0.099166,
            "count": 1
           },
           {
            "bin_start": 0.099166,
            "bin_end": 0.11969199999999999,
            "count": 0
           },
           {
            "bin_start": 0.11969199999999999,
            "bin_end": 0.140218,
            "count": 1
           },
           {
            "bin_start": 0.140218,
            "bin_end": 0.160744,
            "count": 1
           },
           {
            "bin_start": 0.160744,
            "bin_end": 0.18127,
            "count": 0
           },
           {
            "bin_start": 0.18127,
            "bin_end": 0.20179599999999998,
            "count": 0
           },
           {
            "bin_start": 0.20179599999999998,
            "bin_end": 0.22232200000000002,
            "count": 0
           },
           {
            "bin_start": 0.22232200000000002,
            "bin_end": 0.242848,
            "count": 0
           },
           {
            "bin_start": 0.242848,
            "bin_end": 0.263374,
            "count": 0
           },
           {
            "bin_start": 0.263374,
            "bin_end": 0.2839,
            "count": 2
           }
          ]
         }
        },
        {
         "name": "concavity_mean",
         "dtype": "float64",
         "stats": {
          "unique_count": 5,
          "nan_count": 0,
          "min": "0.0869",
          "max": "0.3001",
          "histogram": [
           {
            "bin_start": 0.0869,
            "bin_end": 0.10822000000000001,
            "count": 1
           },
           {
            "bin_start": 0.10822000000000001,
            "bin_end": 0.12954,
            "count": 0
           },
           {
            "bin_start": 0.12954,
            "bin_end": 0.15086,
            "count": 0
           },
           {
            "bin_start": 0.15086,
            "bin_end": 0.17218,
            "count": 0
           },
           {
            "bin_start": 0.17218,
            "bin_end": 0.1935,
            "count": 0
           },
           {
            "bin_start": 0.1935,
            "bin_end": 0.21481999999999998,
            "count": 2
           },
           {
            "bin_start": 0.21481999999999998,
            "bin_end": 0.23614,
            "count": 0
           },
           {
            "bin_start": 0.23614,
            "bin_end": 0.25746,
            "count": 1
           },
           {
            "bin_start": 0.25746,
            "bin_end": 0.27878000000000003,
            "count": 0
           },
           {
            "bin_start": 0.27878000000000003,
            "bin_end": 0.3001,
            "count": 1
           }
          ]
         }
        },
        {
         "name": "concave points_mean",
         "dtype": "float64",
         "stats": {
          "unique_count": 5,
          "nan_count": 0,
          "min": "0.07017",
          "max": "0.1471",
          "histogram": [
           {
            "bin_start": 0.07017,
            "bin_end": 0.077863,
            "count": 1
           },
           {
            "bin_start": 0.077863,
            "bin_end": 0.085556,
            "count": 0
           },
           {
            "bin_start": 0.085556,
            "bin_end": 0.093249,
            "count": 0
           },
           {
            "bin_start": 0.093249,
            "bin_end": 0.100942,
            "count": 0
           },
           {
            "bin_start": 0.100942,
            "bin_end": 0.10863500000000001,
            "count": 2
           },
           {
            "bin_start": 0.10863500000000001,
            "bin_end": 0.116328,
            "count": 0
           },
           {
            "bin_start": 0.116328,
            "bin_end": 0.124021,
            "count": 0
           },
           {
            "bin_start": 0.124021,
            "bin_end": 0.131714,
            "count": 1
           },
           {
            "bin_start": 0.131714,
            "bin_end": 0.139407,
            "count": 0
           },
           {
            "bin_start": 0.139407,
            "bin_end": 0.1471,
            "count": 1
           }
          ]
         }
        },
        {
         "name": "symmetry_mean",
         "dtype": "float64",
         "stats": {
          "unique_count": 5,
          "nan_count": 0,
          "min": "0.1809",
          "max": "0.2597",
          "histogram": [
           {
            "bin_start": 0.1809,
            "bin_end": 0.18878,
            "count": 2
           },
           {
            "bin_start": 0.18878,
            "bin_end": 0.19666,
            "count": 0
           },
           {
            "bin_start": 0.19666,
            "bin_end": 0.20454,
            "count": 0
           },
           {
            "bin_start": 0.20454,
            "bin_end": 0.21242,
            "count": 1
           },
           {
            "bin_start": 0.21242,
            "bin_end": 0.2203,
            "count": 0
           },
           {
            "bin_start": 0.2203,
            "bin_end": 0.22818,
            "count": 0
           },
           {
            "bin_start": 0.22818,
            "bin_end": 0.23606,
            "count": 0
           },
           {
            "bin_start": 0.23606,
            "bin_end": 0.24394,
            "count": 1
           },
           {
            "bin_start": 0.24394,
            "bin_end": 0.25182,
            "count": 0
           },
           {
            "bin_start": 0.25182,
            "bin_end": 0.2597,
            "count": 1
           }
          ]
         }
        },
        {
         "name": "fractal_dimension_mean",
         "dtype": "float64",
         "stats": {
          "unique_count": 5,
          "nan_count": 0,
          "min": "0.05667",
          "max": "0.09744",
          "histogram": [
           {
            "bin_start": 0.05667,
            "bin_end": 0.060746999999999995,
            "count": 3
           },
           {
            "bin_start": 0.060746999999999995,
            "bin_end": 0.06482399999999999,
            "count": 0
           },
           {
            "bin_start": 0.06482399999999999,
            "bin_end": 0.06890099999999999,
            "count": 0
           },
           {
            "bin_start": 0.06890099999999999,
            "bin_end": 0.072978,
            "count": 0
           },
           {
            "bin_start": 0.072978,
            "bin_end": 0.077055,
            "count": 0
           },
           {
            "bin_start": 0.077055,
            "bin_end": 0.081132,
            "count": 1
           },
           {
            "bin_start": 0.081132,
            "bin_end": 0.085209,
            "count": 0
           },
           {
            "bin_start": 0.085209,
            "bin_end": 0.089286,
            "count": 0
           },
           {
            "bin_start": 0.089286,
            "bin_end": 0.093363,
            "count": 0
           },
           {
            "bin_start": 0.093363,
            "bin_end": 0.09744,
            "count": 1
           }
          ]
         }
        },
        {
         "name": "radius_se",
         "dtype": "float64",
         "stats": {
          "unique_count": 5,
          "nan_count": 0,
          "min": "0.4956",
          "max": "1.095",
          "histogram": [
           {
            "bin_start": 0.4956,
            "bin_end": 0.5555399999999999,
            "count": 2
           },
           {
            "bin_start": 0.5555399999999999,
            "bin_end": 0.61548,
            "count": 0
           },
           {
            "bin_start": 0.61548,
            "bin_end": 0.6754199999999999,
            "count": 0
           },
           {
            "bin_start": 0.6754199999999999,
            "bin_end": 0.73536,
            "count": 0
           },
           {
            "bin_start": 0.73536,
            "bin_end": 0.7952999999999999,
            "count": 2
           },
           {
            "bin_start": 0.7952999999999999,
            "bin_end": 0.85524,
            "count": 0
           },
           {
            "bin_start": 0.85524,
            "bin_end": 0.9151799999999999,
            "count": 0
           },
           {
            "bin_start": 0.9151799999999999,
            "bin_end": 0.97512,
            "count": 0
           },
           {
            "bin_start": 0.97512,
            "bin_end": 1.0350599999999999,
            "count": 0
           },
           {
            "bin_start": 1.0350599999999999,
            "bin_end": 1.095,
            "count": 1
           }
          ]
         }
        },
        {
         "name": "texture_se",
         "dtype": "float64",
         "stats": {
          "unique_count": 5,
          "nan_count": 0,
          "min": "0.7339",
          "max": "1.156",
          "histogram": [
           {
            "bin_start": 0.7339,
            "bin_end": 0.77611,
            "count": 1
           },
           {
            "bin_start": 0.77611,
            "bin_end": 0.8183199999999999,
            "count": 2
           },
           {
            "bin_start": 0.8183199999999999,
            "bin_end": 0.86053,
            "count": 0
           },
           {
            "bin_start": 0.86053,
            "bin_end": 0.90274,
            "count": 0
           },
           {
            "bin_start": 0.90274,
            "bin_end": 0.94495,
            "count": 1
           },
           {
            "bin_start": 0.94495,
            "bin_end": 0.9871599999999999,
            "count": 0
           },
           {
            "bin_start": 0.9871599999999999,
            "bin_end": 1.02937,
            "count": 0
           },
           {
            "bin_start": 1.02937,
            "bin_end": 1.07158,
            "count": 0
           },
           {
            "bin_start": 1.07158,
            "bin_end": 1.1137899999999998,
            "count": 0
           },
           {
            "bin_start": 1.1137899999999998,
            "bin_end": 1.156,
            "count": 1
           }
          ]
         }
        },
        {
         "name": "perimeter_se",
         "dtype": "float64",
         "stats": {
          "unique_count": 5,
          "nan_count": 0,
          "min": "3.398",
          "max": "8.589",
          "histogram": [
           {
            "bin_start": 3.398,
            "bin_end": 3.9171000000000005,
            "count": 2
           },
           {
            "bin_start": 3.9171000000000005,
            "bin_end": 4.4362,
            "count": 0
           },
           {
            "bin_start": 4.4362,
            "bin_end": 4.9553,
            "count": 1
           },
           {
            "bin_start": 4.9553,
            "bin_end": 5.474400000000001,
            "count": 1
           },
           {
            "bin_start": 5.474400000000001,
            "bin_end": 5.993500000000001,
            "count": 0
           },
           {
            "bin_start": 5.993500000000001,
            "bin_end": 6.512600000000001,
            "count": 0
           },
           {
            "bin_start": 6.512600000000001,
            "bin_end": 7.031700000000001,
            "count": 0
           },
           {
            "bin_start": 7.031700000000001,
            "bin_end": 7.550800000000001,
            "count": 0
           },
           {
            "bin_start": 7.550800000000001,
            "bin_end": 8.0699,
            "count": 0
           },
           {
            "bin_start": 8.0699,
            "bin_end": 8.589,
            "count": 1
           }
          ]
         }
        },
        {
         "name": "area_se",
         "dtype": "float64",
         "stats": {
          "unique_count": 5,
          "nan_count": 0,
          "min": "27.23",
          "max": "153.4",
          "histogram": [
           {
            "bin_start": 27.23,
            "bin_end": 39.847,
            "count": 1
           },
           {
            "bin_start": 39.847,
            "bin_end": 52.464,
            "count": 0
           },
           {
            "bin_start": 52.464,
            "bin_end": 65.081,
            "count": 0
           },
           {
            "bin_start": 65.081,
            "bin_end": 77.69800000000001,
            "count": 1
           },
           {
            "bin_start": 77.69800000000001,
            "bin_end": 90.31500000000001,
            "count": 0
           },
           {
            "bin_start": 90.31500000000001,
            "bin_end": 102.932,
            "count": 2
           },
           {
            "bin_start": 102.932,
            "bin_end": 115.549,
            "count": 0
           },
           {
            "bin_start": 115.549,
            "bin_end": 128.166,
            "count": 0
           },
           {
            "bin_start": 128.166,
            "bin_end": 140.78300000000002,
            "count": 0
           },
           {
            "bin_start": 140.78300000000002,
            "bin_end": 153.4,
            "count": 1
           }
          ]
         }
        },
        {
         "name": "smoothness_se",
         "dtype": "float64",
         "stats": {
          "unique_count": 5,
          "nan_count": 0,
          "min": "0.005225",
          "max": "0.01149",
          "histogram": [
           {
            "bin_start": 0.005225,
            "bin_end": 0.0058515,
            "count": 1
           },
           {
            "bin_start": 0.0058515,
            "bin_end": 0.006477999999999999,
            "count": 2
           },
           {
            "bin_start": 0.006477999999999999,
            "bin_end": 0.0071045,
            "count": 0
           },
           {
            "bin_start": 0.0071045,
            "bin_end": 0.007731,
            "count": 0
           },
           {
            "bin_start": 0.007731,
            "bin_end": 0.0083575,
            "count": 0
           },
           {
            "bin_start": 0.0083575,
            "bin_end": 0.008984,
            "count": 0
           },
           {
            "bin_start": 0.008984,
            "bin_end": 0.009610500000000001,
            "count": 1
           },
           {
            "bin_start": 0.009610500000000001,
            "bin_end": 0.010237,
            "count": 0
           },
           {
            "bin_start": 0.010237,
            "bin_end": 0.010863500000000002,
            "count": 0
           },
           {
            "bin_start": 0.010863500000000002,
            "bin_end": 0.01149,
            "count": 1
           }
          ]
         }
        },
        {
         "name": "compactness_se",
         "dtype": "float64",
         "stats": {
          "unique_count": 5,
          "nan_count": 0,
          "min": "0.01308",
          "max": "0.07458",
          "histogram": [
           {
            "bin_start": 0.01308,
            "bin_end": 0.019229999999999997,
            "count": 1
           },
           {
            "bin_start": 0.019229999999999997,
            "bin_end": 0.02538,
            "count": 1
           },
           {
            "bin_start": 0.02538,
            "bin_end": 0.031529999999999996,
            "count": 0
           },
           {
            "bin_start": 0.031529999999999996,
            "bin_end": 0.03768,
            "count": 0
           },
           {
            "bin_start": 0.03768,
            "bin_end": 0.043829999999999994,
            "count": 1
           },
           {
            "bin_start": 0.043829999999999994,
            "bin_end": 0.04998,
            "count": 1
           },
           {
            "bin_start": 0.04998,
            "bin_end": 0.05612999999999999,
            "count": 0
           },
           {
            "bin_start": 0.05612999999999999,
            "bin_end": 0.062279999999999995,
            "count": 0
           },
           {
            "bin_start": 0.062279999999999995,
            "bin_end": 0.06842999999999999,
            "count": 0
           },
           {
            "bin_start": 0.06842999999999999,
            "bin_end": 0.07458,
            "count": 1
           }
          ]
         }
        },
        {
         "name": "concavity_se",
         "dtype": "float64",
         "stats": {
          "unique_count": 5,
          "nan_count": 0,
          "min": "0.0186",
          "max": "0.05688",
          "histogram": [
           {
            "bin_start": 0.0186,
            "bin_end": 0.022428,
            "count": 1
           },
           {
            "bin_start": 0.022428,
            "bin_end": 0.026255999999999998,
            "count": 0
           },
           {
            "bin_start": 0.026255999999999998,
            "bin_end": 0.030084,
            "count": 0
           },
           {
            "bin_start": 0.030084,
            "bin_end": 0.033912,
            "count": 0
           },
           {
            "bin_start": 0.033912,
            "bin_end": 0.037739999999999996,
            "count": 0
           },
           {
            "bin_start": 0.037739999999999996,
            "bin_end": 0.041568,
            "count": 1
           },
           {
            "bin_start": 0.041568,
            "bin_end": 0.045396,
            "count": 0
           },
           {
            "bin_start": 0.045396,
            "bin_end": 0.049224000000000004,
            "count": 0
           },
           {
            "bin_start": 0.049224000000000004,
            "bin_end": 0.053052,
            "count": 0
           },
           {
            "bin_start": 0.053052,
            "bin_end": 0.05688,
            "count": 3
           }
          ]
         }
        },
        {
         "name": "concave points_se",
         "dtype": "float64",
         "stats": {
          "unique_count": 5,
          "nan_count": 0,
          "min": "0.0134",
          "max": "0.02058",
          "histogram": [
           {
            "bin_start": 0.0134,
            "bin_end": 0.014118,
            "count": 1
           },
           {
            "bin_start": 0.014118,
            "bin_end": 0.014836,
            "count": 0
           },
           {
            "bin_start": 0.014836,
            "bin_end": 0.015554000000000002,
            "count": 0
           },
           {
            "bin_start": 0.015554000000000002,
            "bin_end": 0.016272000000000002,
            "count": 1
           },
           {
            "bin_start": 0.016272000000000002,
            "bin_end": 0.01699,
            "count": 0
           },
           {
            "bin_start": 0.01699,
            "bin_end": 0.017708,
            "count": 0
           },
           {
            "bin_start": 0.017708,
            "bin_end": 0.018426,
            "count": 0
           },
           {
            "bin_start": 0.018426,
            "bin_end": 0.019144,
            "count": 2
           },
           {
            "bin_start": 0.019144,
            "bin_end": 0.019862,
            "count": 0
           },
           {
            "bin_start": 0.019862,
            "bin_end": 0.02058,
            "count": 1
           }
          ]
         }
        },
        {
         "name": "symmetry_se",
         "dtype": "float64",
         "stats": {
          "unique_count": 5,
          "nan_count": 0,
          "min": "0.01389",
          "max": "0.05963",
          "histogram": [
           {
            "bin_start": 0.01389,
            "bin_end": 0.018464,
            "count": 2
           },
           {
            "bin_start": 0.018464,
            "bin_end": 0.023038,
            "count": 1
           },
           {
            "bin_start": 0.023038,
            "bin_end": 0.027611999999999998,
            "count": 0
           },
           {
            "bin_start": 0.027611999999999998,
            "bin_end": 0.032186,
            "count": 1
           },
           {
            "bin_start": 0.032186,
            "bin_end": 0.03676,
            "count": 0
           },
           {
            "bin_start": 0.03676,
            "bin_end": 0.041333999999999996,
            "count": 0
           },
           {
            "bin_start": 0.041333999999999996,
            "bin_end": 0.045908,
            "count": 0
           },
           {
            "bin_start": 0.045908,
            "bin_end": 0.050482,
            "count": 0
           },
           {
            "bin_start": 0.050482,
            "bin_end": 0.055056,
            "count": 0
           },
           {
            "bin_start": 0.055056,
            "bin_end": 0.05963,
            "count": 1
           }
          ]
         }
        },
        {
         "name": "fractal_dimension_se",
         "dtype": "float64",
         "stats": {
          "unique_count": 5,
          "nan_count": 0,
          "min": "0.003532",
          "max": "0.009208",
          "histogram": [
           {
            "bin_start": 0.003532,
            "bin_end": 0.0040996,
            "count": 1
           },
           {
            "bin_start": 0.0040996,
            "bin_end": 0.0046672,
            "count": 1
           },
           {
            "bin_start": 0.0046672,
            "bin_end": 0.0052347999999999995,
            "count": 1
           },
           {
            "bin_start": 0.0052347999999999995,
            "bin_end": 0.005802399999999999,
            "count": 0
           },
           {
            "bin_start": 0.005802399999999999,
            "bin_end": 0.006369999999999999,
            "count": 1
           },
           {
            "bin_start": 0.006369999999999999,
            "bin_end": 0.0069375999999999995,
            "count": 0
           },
           {
            "bin_start": 0.0069375999999999995,
            "bin_end": 0.0075052,
            "count": 0
           },
           {
            "bin_start": 0.0075052,
            "bin_end": 0.0080728,
            "count": 0
           },
           {
            "bin_start": 0.0080728,
            "bin_end": 0.0086404,
            "count": 0
           },
           {
            "bin_start": 0.0086404,
            "bin_end": 0.009208,
            "count": 1
           }
          ]
         }
        },
        {
         "name": "radius_worst",
         "dtype": "float64",
         "stats": {
          "unique_count": 5,
          "nan_count": 0,
          "min": "14.91",
          "max": "25.38",
          "histogram": [
           {
            "bin_start": 14.91,
            "bin_end": 15.957,
            "count": 1
           },
           {
            "bin_start": 15.957,
            "bin_end": 17.004,
            "count": 0
           },
           {
            "bin_start": 17.004,
            "bin_end": 18.051000000000002,
            "count": 0
           },
           {
            "bin_start": 18.051000000000002,
            "bin_end": 19.098,
            "count": 0
           },
           {
            "bin_start": 19.098,
            "bin_end": 20.145,
            "count": 0
           },
           {
            "bin_start": 20.145,
            "bin_end": 21.192,
            "count": 0
           },
           {
            "bin_start": 21.192,
            "bin_end": 22.239,
            "count": 0
           },
           {
            "bin_start": 22.239,
            "bin_end": 23.286,
            "count": 1
           },
           {
            "bin_start": 23.286,
            "bin_end": 24.333,
            "count": 1
           },
           {
            "bin_start": 24.333,
            "bin_end": 25.38,
            "count": 2
           }
          ]
         }
        },
        {
         "name": "texture_worst",
         "dtype": "float64",
         "stats": {
          "unique_count": 5,
          "nan_count": 0,
          "min": "16.67",
          "max": "26.5",
          "histogram": [
           {
            "bin_start": 16.67,
            "bin_end": 17.653000000000002,
            "count": 2
           },
           {
            "bin_start": 17.653000000000002,
            "bin_end": 18.636000000000003,
            "count": 0
           },
           {
            "bin_start": 18.636000000000003,
            "bin_end": 19.619,
            "count": 0
           },
           {
            "bin_start": 19.619,
            "bin_end": 20.602,
            "count": 0
           },
           {
            "bin_start": 20.602,
            "bin_end": 21.585,
            "count": 0
           },
           {
            "bin_start": 21.585,
            "bin_end": 22.568,
            "count": 0
           },
           {
            "bin_start": 22.568,
            "bin_end": 23.551000000000002,
            "count": 1
           },
           {
            "bin_start": 23.551000000000002,
            "bin_end": 24.534,
            "count": 0
           },
           {
            "bin_start": 24.534,
            "bin_end": 25.517000000000003,
            "count": 0
           },
           {
            "bin_start": 25.517000000000003,
            "bin_end": 26.5,
            "count": 2
           }
          ]
         }
        },
        {
         "name": "perimeter_worst",
         "dtype": "float64",
         "stats": {
          "unique_count": 5,
          "nan_count": 0,
          "min": "98.87",
          "max": "184.6",
          "histogram": [
           {
            "bin_start": 98.87,
            "bin_end": 107.443,
            "count": 1
           },
           {
            "bin_start": 107.443,
            "bin_end": 116.016,
            "count": 0
           },
           {
            "bin_start": 116.016,
            "bin_end": 124.589,
            "count": 0
           },
           {
            "bin_start": 124.589,
            "bin_end": 133.162,
            "count": 0
           },
           {
            "bin_start": 133.162,
            "bin_end": 141.735,
            "count": 0
           },
           {
            "bin_start": 141.735,
            "bin_end": 150.308,
            "count": 0
           },
           {
            "bin_start": 150.308,
            "bin_end": 158.881,
            "count": 3
           },
           {
            "bin_start": 158.881,
            "bin_end": 167.454,
            "count": 0
           },
           {
            "bin_start": 167.454,
            "bin_end": 176.027,
            "count": 0
           },
           {
            "bin_start": 176.027,
            "bin_end": 184.6,
            "count": 1
           }
          ]
         }
        },
        {
         "name": "area_worst",
         "dtype": "float64",
         "stats": {
          "unique_count": 5,
          "nan_count": 0,
          "min": "567.7",
          "max": "2019.0",
          "histogram": [
           {
            "bin_start": 567.7,
            "bin_end": 712.83,
            "count": 1
           },
           {
            "bin_start": 712.83,
            "bin_end": 857.96,
            "count": 0
           },
           {
            "bin_start": 857.96,
            "bin_end": 1003.09,
            "count": 0
           },
           {
            "bin_start": 1003.09,
            "bin_end": 1148.22,
            "count": 0
           },
           {
            "bin_start": 1148.22,
            "bin_end": 1293.35,
            "count": 0
           },
           {
            "bin_start": 1293.35,
            "bin_end": 1438.48,
            "count": 0
           },
           {
            "bin_start": 1438.48,
            "bin_end": 1583.6100000000001,
            "count": 1
           },
           {
            "bin_start": 1583.6100000000001,
            "bin_end": 1728.74,
            "count": 1
           },
           {
            "bin_start": 1728.74,
            "bin_end": 1873.8700000000001,
            "count": 0
           },
           {
            "bin_start": 1873.8700000000001,
            "bin_end": 2019,
            "count": 2
           }
          ]
         }
        },
        {
         "name": "smoothness_worst",
         "dtype": "float64",
         "stats": {
          "unique_count": 5,
          "nan_count": 0,
          "min": "0.1238",
          "max": "0.2098",
          "histogram": [
           {
            "bin_start": 0.1238,
            "bin_end": 0.1324,
            "count": 1
           },
           {
            "bin_start": 0.1324,
            "bin_end": 0.141,
            "count": 1
           },
           {
            "bin_start": 0.141,
            "bin_end": 0.14959999999999998,
            "count": 1
           },
           {
            "bin_start": 0.14959999999999998,
            "bin_end": 0.1582,
            "count": 0
           },
           {
            "bin_start": 0.1582,
            "bin_end": 0.1668,
            "count": 1
           },
           {
            "bin_start": 0.1668,
            "bin_end": 0.1754,
            "count": 0
           },
           {
            "bin_start": 0.1754,
            "bin_end": 0.184,
            "count": 0
           },
           {
            "bin_start": 0.184,
            "bin_end": 0.1926,
            "count": 0
           },
           {
            "bin_start": 0.1926,
            "bin_end": 0.2012,
            "count": 0
           },
           {
            "bin_start": 0.2012,
            "bin_end": 0.2098,
            "count": 1
           }
          ]
         }
        },
        {
         "name": "compactness_worst",
         "dtype": "float64",
         "stats": {
          "unique_count": 5,
          "nan_count": 0,
          "min": "0.1866",
          "max": "0.8663",
          "histogram": [
           {
            "bin_start": 0.1866,
            "bin_end": 0.25456999999999996,
            "count": 2
           },
           {
            "bin_start": 0.25456999999999996,
            "bin_end": 0.32254,
            "count": 0
           },
           {
            "bin_start": 0.32254,
            "bin_end": 0.39051,
            "count": 0
           },
           {
            "bin_start": 0.39051,
            "bin_end": 0.45848,
            "count": 1
           },
           {
            "bin_start": 0.45848,
            "bin_end": 0.52645,
            "count": 0
           },
           {
            "bin_start": 0.52645,
            "bin_end": 0.59442,
            "count": 0
           },
           {
            "bin_start": 0.59442,
            "bin_end": 0.66239,
            "count": 0
           },
           {
            "bin_start": 0.66239,
            "bin_end": 0.73036,
            "count": 1
           },
           {
            "bin_start": 0.73036,
            "bin_end": 0.79833,
            "count": 0
           },
           {
            "bin_start": 0.79833,
            "bin_end": 0.8663,
            "count": 1
           }
          ]
         }
        },
        {
         "name": "concavity_worst",
         "dtype": "float64",
         "stats": {
          "unique_count": 5,
          "nan_count": 0,
          "min": "0.2416",
          "max": "0.7119",
          "histogram": [
           {
            "bin_start": 0.2416,
            "bin_end": 0.28863,
            "count": 1
           },
           {
            "bin_start": 0.28863,
            "bin_end": 0.33566,
            "count": 0
           },
           {
            "bin_start": 0.33566,
            "bin_end": 0.38269,
            "count": 0
           },
           {
            "bin_start": 0.38269,
            "bin_end": 0.42972,
            "count": 1
           },
           {
            "bin_start": 0.42972,
            "bin_end": 0.47675,
            "count": 1
           },
           {
            "bin_start": 0.47675,
            "bin_end": 0.52378,
            "count": 0
           },
           {
            "bin_start": 0.52378,
            "bin_end": 0.5708099999999999,
            "count": 0
           },
           {
            "bin_start": 0.5708099999999999,
            "bin_end": 0.61784,
            "count": 0
           },
           {
            "bin_start": 0.61784,
            "bin_end": 0.66487,
            "count": 0
           },
           {
            "bin_start": 0.66487,
            "bin_end": 0.7119,
            "count": 2
           }
          ]
         }
        },
        {
         "name": "concave points_worst",
         "dtype": "float64",
         "stats": {
          "unique_count": 5,
          "nan_count": 0,
          "min": "0.1625",
          "max": "0.2654",
          "histogram": [
           {
            "bin_start": 0.1625,
            "bin_end": 0.17279,
            "count": 1
           },
           {
            "bin_start": 0.17279,
            "bin_end": 0.18308000000000002,
            "count": 0
           },
           {
            "bin_start": 0.18308000000000002,
            "bin_end": 0.19337000000000001,
            "count": 1
           },
           {
            "bin_start": 0.19337000000000001,
            "bin_end": 0.20366,
            "count": 0
           },
           {
            "bin_start": 0.20366,
            "bin_end": 0.21395000000000003,
            "count": 0
           },
           {
            "bin_start": 0.21395000000000003,
            "bin_end": 0.22424000000000002,
            "count": 0
           },
           {
            "bin_start": 0.22424000000000002,
            "bin_end": 0.23453000000000002,
            "count": 0
           },
           {
            "bin_start": 0.23453000000000002,
            "bin_end": 0.24482000000000004,
            "count": 1
           },
           {
            "bin_start": 0.24482000000000004,
            "bin_end": 0.25511000000000006,
            "count": 0
           },
           {
            "bin_start": 0.25511000000000006,
            "bin_end": 0.2654,
            "count": 2
           }
          ]
         }
        },
        {
         "name": "symmetry_worst",
         "dtype": "float64",
         "stats": {
          "unique_count": 5,
          "nan_count": 0,
          "min": "0.2364",
          "max": "0.6638",
          "histogram": [
           {
            "bin_start": 0.2364,
            "bin_end": 0.27914,
            "count": 2
           },
           {
            "bin_start": 0.27914,
            "bin_end": 0.32188,
            "count": 0
           },
           {
            "bin_start": 0.32188,
            "bin_end": 0.36461999999999994,
            "count": 1
           },
           {
            "bin_start": 0.36461999999999994,
            "bin_end": 0.40735999999999994,
            "count": 0
           },
           {
            "bin_start": 0.40735999999999994,
            "bin_end": 0.45009999999999994,
            "count": 0
           },
           {
            "bin_start": 0.45009999999999994,
            "bin_end": 0.49283999999999994,
            "count": 1
           },
           {
            "bin_start": 0.49283999999999994,
            "bin_end": 0.53558,
            "count": 0
           },
           {
            "bin_start": 0.53558,
            "bin_end": 0.57832,
            "count": 0
           },
           {
            "bin_start": 0.57832,
            "bin_end": 0.62106,
            "count": 0
           },
           {
            "bin_start": 0.62106,
            "bin_end": 0.6638,
            "count": 1
           }
          ]
         }
        },
        {
         "name": "fractal_dimension_worst",
         "dtype": "float64",
         "stats": {
          "unique_count": 5,
          "nan_count": 0,
          "min": "0.07678",
          "max": "0.173",
          "histogram": [
           {
            "bin_start": 0.07678,
            "bin_end": 0.086402,
            "count": 1
           },
           {
            "bin_start": 0.086402,
            "bin_end": 0.096024,
            "count": 2
           },
           {
            "bin_start": 0.096024,
            "bin_end": 0.10564599999999999,
            "count": 0
           },
           {
            "bin_start": 0.10564599999999999,
            "bin_end": 0.115268,
            "count": 0
           },
           {
            "bin_start": 0.115268,
            "bin_end": 0.12489,
            "count": 1
           },
           {
            "bin_start": 0.12489,
            "bin_end": 0.134512,
            "count": 0
           },
           {
            "bin_start": 0.134512,
            "bin_end": 0.14413399999999998,
            "count": 0
           },
           {
            "bin_start": 0.14413399999999998,
            "bin_end": 0.153756,
            "count": 0
           },
           {
            "bin_start": 0.153756,
            "bin_end": 0.16337799999999997,
            "count": 0
           },
           {
            "bin_start": 0.16337799999999997,
            "bin_end": 0.173,
            "count": 1
           }
          ]
         }
        },
        {
         "name": "_deepnote_index_column",
         "dtype": "int64"
        }
       ],
       "rows_top": [
        {
         "diagnosis": "M",
         "radius_mean": 17.99,
         "texture_mean": 10.38,
         "perimeter_mean": 122.8,
         "area_mean": 1001,
         "smoothness_mean": 0.1184,
         "compactness_mean": 0.2776,
         "concavity_mean": 0.3001,
         "concave points_mean": 0.1471,
         "symmetry_mean": 0.2419,
         "fractal_dimension_mean": 0.07871,
         "radius_se": 1.095,
         "texture_se": 0.9053,
         "perimeter_se": 8.589,
         "area_se": 153.4,
         "smoothness_se": 0.006399,
         "compactness_se": 0.04904,
         "concavity_se": 0.05373,
         "concave points_se": 0.01587,
         "symmetry_se": 0.03003,
         "fractal_dimension_se": 0.006193,
         "radius_worst": 25.38,
         "texture_worst": 17.33,
         "perimeter_worst": 184.6,
         "area_worst": 2019,
         "smoothness_worst": 0.1622,
         "compactness_worst": 0.6656,
         "concavity_worst": 0.7119,
         "concave points_worst": 0.2654,
         "symmetry_worst": 0.4601,
         "fractal_dimension_worst": 0.1189,
         "_deepnote_index_column": 842302
        },
        {
         "diagnosis": "M",
         "radius_mean": 20.57,
         "texture_mean": 17.77,
         "perimeter_mean": 132.9,
         "area_mean": 1326,
         "smoothness_mean": 0.08474,
         "compactness_mean": 0.07864,
         "concavity_mean": 0.0869,
         "concave points_mean": 0.07017,
         "symmetry_mean": 0.1812,
         "fractal_dimension_mean": 0.05667,
         "radius_se": 0.5435,
         "texture_se": 0.7339,
         "perimeter_se": 3.398,
         "area_se": 74.08,
         "smoothness_se": 0.005225,
         "compactness_se": 0.01308,
         "concavity_se": 0.0186,
         "concave points_se": 0.0134,
         "symmetry_se": 0.01389,
         "fractal_dimension_se": 0.003532,
         "radius_worst": 24.99,
         "texture_worst": 23.41,
         "perimeter_worst": 158.8,
         "area_worst": 1956,
         "smoothness_worst": 0.1238,
         "compactness_worst": 0.1866,
         "concavity_worst": 0.2416,
         "concave points_worst": 0.186,
         "symmetry_worst": 0.275,
         "fractal_dimension_worst": 0.08902,
         "_deepnote_index_column": 842517
        },
        {
         "diagnosis": "M",
         "radius_mean": 19.69,
         "texture_mean": 21.25,
         "perimeter_mean": 130,
         "area_mean": 1203,
         "smoothness_mean": 0.1096,
         "compactness_mean": 0.1599,
         "concavity_mean": 0.1974,
         "concave points_mean": 0.1279,
         "symmetry_mean": 0.2069,
         "fractal_dimension_mean": 0.05999,
         "radius_se": 0.7456,
         "texture_se": 0.7869,
         "perimeter_se": 4.585,
         "area_se": 94.03,
         "smoothness_se": 0.00615,
         "compactness_se": 0.04006,
         "concavity_se": 0.03832,
         "concave points_se": 0.02058,
         "symmetry_se": 0.0225,
         "fractal_dimension_se": 0.004571,
         "radius_worst": 23.57,
         "texture_worst": 25.53,
         "perimeter_worst": 152.5,
         "area_worst": 1709,
         "smoothness_worst": 0.1444,
         "compactness_worst": 0.4245,
         "concavity_worst": 0.4504,
         "concave points_worst": 0.243,
         "symmetry_worst": 0.3613,
         "fractal_dimension_worst": 0.08758,
         "_deepnote_index_column": 84300903
        },
        {
         "diagnosis": "M",
         "radius_mean": 11.42,
         "texture_mean": 20.38,
         "perimeter_mean": 77.58,
         "area_mean": 386.1,
         "smoothness_mean": 0.1425,
         "compactness_mean": 0.2839,
         "concavity_mean": 0.2414,
         "concave points_mean": 0.1052,
         "symmetry_mean": 0.2597,
         "fractal_dimension_mean": 0.09744,
         "radius_se": 0.4956,
         "texture_se": 1.156,
         "perimeter_se": 3.445,
         "area_se": 27.23,
         "smoothness_se": 0.00911,
         "compactness_se": 0.07458,
         "concavity_se": 0.05661,
         "concave points_se": 0.01867,
         "symmetry_se": 0.05963,
         "fractal_dimension_se": 0.009208,
         "radius_worst": 14.91,
         "texture_worst": 26.5,
         "perimeter_worst": 98.87,
         "area_worst": 567.7,
         "smoothness_worst": 0.2098,
         "compactness_worst": 0.8663,
         "concavity_worst": 0.6869,
         "concave points_worst": 0.2575,
         "symmetry_worst": 0.6638,
         "fractal_dimension_worst": 0.173,
         "_deepnote_index_column": 84348301
        },
        {
         "diagnosis": "M",
         "radius_mean": 20.29,
         "texture_mean": 14.34,
         "perimeter_mean": 135.1,
         "area_mean": 1297,
         "smoothness_mean": 0.1003,
         "compactness_mean": 0.1328,
         "concavity_mean": 0.198,
         "concave points_mean": 0.1043,
         "symmetry_mean": 0.1809,
         "fractal_dimension_mean": 0.05883,
         "radius_se": 0.7572,
         "texture_se": 0.7813,
         "perimeter_se": 5.438,
         "area_se": 94.44,
         "smoothness_se": 0.01149,
         "compactness_se": 0.02461,
         "concavity_se": 0.05688,
         "concave points_se": 0.01885,
         "symmetry_se": 0.01756,
         "fractal_dimension_se": 0.005115,
         "radius_worst": 22.54,
         "texture_worst": 16.67,
         "perimeter_worst": 152.2,
         "area_worst": 1575,
         "smoothness_worst": 0.1374,
         "compactness_worst": 0.205,
         "concavity_worst": 0.4,
         "concave points_worst": 0.1625,
         "symmetry_worst": 0.2364,
         "fractal_dimension_worst": 0.07678,
         "_deepnote_index_column": 84358402
        }
       ],
       "rows_bottom": null
      },
      "text/plain": "         diagnosis  radius_mean  texture_mean  perimeter_mean  area_mean  \\\nid                                                                         \n842302           M        17.99         10.38          122.80     1001.0   \n842517           M        20.57         17.77          132.90     1326.0   \n84300903         M        19.69         21.25          130.00     1203.0   \n84348301         M        11.42         20.38           77.58      386.1   \n84358402         M        20.29         14.34          135.10     1297.0   \n\n          smoothness_mean  compactness_mean  concavity_mean  \\\nid                                                            \n842302            0.11840           0.27760          0.3001   \n842517            0.08474           0.07864          0.0869   \n84300903          0.10960           0.15990          0.1974   \n84348301          0.14250           0.28390          0.2414   \n84358402          0.10030           0.13280          0.1980   \n\n          concave points_mean  symmetry_mean  ...  radius_worst  \\\nid                                            ...                 \n842302                0.14710         0.2419  ...         25.38   \n842517                0.07017         0.1812  ...         24.99   \n84300903              0.12790         0.2069  ...         23.57   \n84348301              0.10520         0.2597  ...         14.91   \n84358402              0.10430         0.1809  ...         22.54   \n\n          texture_worst  perimeter_worst  area_worst  smoothness_worst  \\\nid                                                                       \n842302            17.33           184.60      2019.0            0.1622   \n842517            23.41           158.80      1956.0            0.1238   \n84300903          25.53           152.50      1709.0            0.1444   \n84348301          26.50            98.87       567.7            0.2098   \n84358402          16.67           152.20      1575.0            0.1374   \n\n          compactness_worst  concavity_worst  concave points_worst  \\\nid                                                                   \n842302               0.6656           0.7119                0.2654   \n842517               0.1866           0.2416                0.1860   \n84300903             0.4245           0.4504                0.2430   \n84348301             0.8663           0.6869                0.2575   \n84358402             0.2050           0.4000                0.1625   \n\n          symmetry_worst  fractal_dimension_worst  \nid                                                 \n842302            0.4601                  0.11890  \n842517            0.2750                  0.08902  \n84300903          0.3613                  0.08758  \n84348301          0.6638                  0.17300  \n84358402          0.2364                  0.07678  \n\n[5 rows x 31 columns]",
      "text/html": "<div>\n<style scoped>\n    .dataframe tbody tr th:only-of-type {\n        vertical-align: middle;\n    }\n\n    .dataframe tbody tr th {\n        vertical-align: top;\n    }\n\n    .dataframe thead th {\n        text-align: right;\n    }\n</style>\n<table border=\"1\" class=\"dataframe\">\n  <thead>\n    <tr style=\"text-align: right;\">\n      <th></th>\n      <th>diagnosis</th>\n      <th>radius_mean</th>\n      <th>texture_mean</th>\n      <th>perimeter_mean</th>\n      <th>area_mean</th>\n      <th>smoothness_mean</th>\n      <th>compactness_mean</th>\n      <th>concavity_mean</th>\n      <th>concave points_mean</th>\n      <th>symmetry_mean</th>\n      <th>...</th>\n      <th>radius_worst</th>\n      <th>texture_worst</th>\n      <th>perimeter_worst</th>\n      <th>area_worst</th>\n      <th>smoothness_worst</th>\n      <th>compactness_worst</th>\n      <th>concavity_worst</th>\n      <th>concave points_worst</th>\n      <th>symmetry_worst</th>\n      <th>fractal_dimension_worst</th>\n    </tr>\n    <tr>\n      <th>id</th>\n      <th></th>\n      <th></th>\n      <th></th>\n      <th></th>\n      <th></th>\n      <th></th>\n      <th></th>\n      <th></th>\n      <th></th>\n      <th></th>\n      <th></th>\n      <th></th>\n      <th></th>\n      <th></th>\n      <th></th>\n      <th></th>\n      <th></th>\n      <th></th>\n      <th></th>\n      <th></th>\n      <th></th>\n    </tr>\n  </thead>\n  <tbody>\n    <tr>\n      <th>842302</th>\n      <td>M</td>\n      <td>17.99</td>\n      <td>10.38</td>\n      <td>122.80</td>\n      <td>1001.0</td>\n      <td>0.11840</td>\n      <td>0.27760</td>\n      <td>0.3001</td>\n      <td>0.14710</td>\n      <td>0.2419</td>\n      <td>...</td>\n      <td>25.38</td>\n      <td>17.33</td>\n      <td>184.60</td>\n      <td>2019.0</td>\n      <td>0.1622</td>\n      <td>0.6656</td>\n      <td>0.7119</td>\n      <td>0.2654</td>\n      <td>0.4601</td>\n      <td>0.11890</td>\n    </tr>\n    <tr>\n      <th>842517</th>\n      <td>M</td>\n      <td>20.57</td>\n      <td>17.77</td>\n      <td>132.90</td>\n      <td>1326.0</td>\n      <td>0.08474</td>\n      <td>0.07864</td>\n      <td>0.0869</td>\n      <td>0.07017</td>\n      <td>0.1812</td>\n      <td>...</td>\n      <td>24.99</td>\n      <td>23.41</td>\n      <td>158.80</td>\n      <td>1956.0</td>\n      <td>0.1238</td>\n      <td>0.1866</td>\n      <td>0.2416</td>\n      <td>0.1860</td>\n      <td>0.2750</td>\n      <td>0.08902</td>\n    </tr>\n    <tr>\n      <th>84300903</th>\n      <td>M</td>\n      <td>19.69</td>\n      <td>21.25</td>\n      <td>130.00</td>\n      <td>1203.0</td>\n      <td>0.10960</td>\n      <td>0.15990</td>\n      <td>0.1974</td>\n      <td>0.12790</td>\n      <td>0.2069</td>\n      <td>...</td>\n      <td>23.57</td>\n      <td>25.53</td>\n      <td>152.50</td>\n      <td>1709.0</td>\n      <td>0.1444</td>\n      <td>0.4245</td>\n      <td>0.4504</td>\n      <td>0.2430</td>\n      <td>0.3613</td>\n      <td>0.08758</td>\n    </tr>\n    <tr>\n      <th>84348301</th>\n      <td>M</td>\n      <td>11.42</td>\n      <td>20.38</td>\n      <td>77.58</td>\n      <td>386.1</td>\n      <td>0.14250</td>\n      <td>0.28390</td>\n      <td>0.2414</td>\n      <td>0.10520</td>\n      <td>0.2597</td>\n      <td>...</td>\n      <td>14.91</td>\n      <td>26.50</td>\n      <td>98.87</td>\n      <td>567.7</td>\n      <td>0.2098</td>\n      <td>0.8663</td>\n      <td>0.6869</td>\n      <td>0.2575</td>\n      <td>0.6638</td>\n      <td>0.17300</td>\n    </tr>\n    <tr>\n      <th>84358402</th>\n      <td>M</td>\n      <td>20.29</td>\n      <td>14.34</td>\n      <td>135.10</td>\n      <td>1297.0</td>\n      <td>0.10030</td>\n      <td>0.13280</td>\n      <td>0.1980</td>\n      <td>0.10430</td>\n      <td>0.1809</td>\n      <td>...</td>\n      <td>22.54</td>\n      <td>16.67</td>\n      <td>152.20</td>\n      <td>1575.0</td>\n      <td>0.1374</td>\n      <td>0.2050</td>\n      <td>0.4000</td>\n      <td>0.1625</td>\n      <td>0.2364</td>\n      <td>0.07678</td>\n    </tr>\n  </tbody>\n</table>\n<p>5 rows × 31 columns</p>\n</div>"
     },
     "metadata": {}
    }
   ],
   "execution_count": 21
  },
  {
   "cell_type": "code",
   "source": "    df['diagnosis'] = df['diagnosis'].apply(lambda x: 1 if x=='M' else 0)\n    df.head()",
   "metadata": {
    "tags": [],
    "cell_id": "00013-f037be93-2851-4086-b5f3-3c1a0a28aa95",
    "deepnote_to_be_reexecuted": false,
    "source_hash": "85ac5024",
    "execution_start": 1632450536938,
    "execution_millis": 150,
    "deepnote_cell_type": "code"
   },
   "outputs": [
    {
     "output_type": "execute_result",
     "execution_count": 23,
     "data": {
      "application/vnd.deepnote.dataframe.v2+json": {
       "row_count": 5,
       "column_count": 32,
       "columns": [
        {
         "name": "diagnosis",
         "dtype": "int64",
         "stats": {
          "unique_count": 1,
          "nan_count": 0,
          "min": "1",
          "max": "1",
          "histogram": [
           {
            "bin_start": 0.5,
            "bin_end": 0.6,
            "count": 0
           },
           {
            "bin_start": 0.6,
            "bin_end": 0.7,
            "count": 0
           },
           {
            "bin_start": 0.7,
            "bin_end": 0.8,
            "count": 0
           },
           {
            "bin_start": 0.8,
            "bin_end": 0.9,
            "count": 0
           },
           {
            "bin_start": 0.9,
            "bin_end": 1,
            "count": 0
           },
           {
            "bin_start": 1,
            "bin_end": 1.1,
            "count": 5
           },
           {
            "bin_start": 1.1,
            "bin_end": 1.2000000000000002,
            "count": 0
           },
           {
            "bin_start": 1.2000000000000002,
            "bin_end": 1.3,
            "count": 0
           },
           {
            "bin_start": 1.3,
            "bin_end": 1.4,
            "count": 0
           },
           {
            "bin_start": 1.4,
            "bin_end": 1.5,
            "count": 0
           }
          ]
         }
        },
        {
         "name": "radius_mean",
         "dtype": "float64",
         "stats": {
          "unique_count": 5,
          "nan_count": 0,
          "min": "11.42",
          "max": "20.57",
          "histogram": [
           {
            "bin_start": 11.42,
            "bin_end": 12.335,
            "count": 1
           },
           {
            "bin_start": 12.335,
            "bin_end": 13.25,
            "count": 0
           },
           {
            "bin_start": 13.25,
            "bin_end": 14.165,
            "count": 0
           },
           {
            "bin_start": 14.165,
            "bin_end": 15.08,
            "count": 0
           },
           {
            "bin_start": 15.08,
            "bin_end": 15.995000000000001,
            "count": 0
           },
           {
            "bin_start": 15.995000000000001,
            "bin_end": 16.91,
            "count": 0
           },
           {
            "bin_start": 16.91,
            "bin_end": 17.825,
            "count": 0
           },
           {
            "bin_start": 17.825,
            "bin_end": 18.740000000000002,
            "count": 1
           },
           {
            "bin_start": 18.740000000000002,
            "bin_end": 19.655,
            "count": 0
           },
           {
            "bin_start": 19.655,
            "bin_end": 20.57,
            "count": 3
           }
          ]
         }
        },
        {
         "name": "texture_mean",
         "dtype": "float64",
         "stats": {
          "unique_count": 5,
          "nan_count": 0,
          "min": "10.38",
          "max": "21.25",
          "histogram": [
           {
            "bin_start": 10.38,
            "bin_end": 11.467,
            "count": 1
           },
           {
            "bin_start": 11.467,
            "bin_end": 12.554,
            "count": 0
           },
           {
            "bin_start": 12.554,
            "bin_end": 13.641000000000002,
            "count": 0
           },
           {
            "bin_start": 13.641000000000002,
            "bin_end": 14.728000000000002,
            "count": 1
           },
           {
            "bin_start": 14.728000000000002,
            "bin_end": 15.815000000000001,
            "count": 0
           },
           {
            "bin_start": 15.815000000000001,
            "bin_end": 16.902,
            "count": 0
           },
           {
            "bin_start": 16.902,
            "bin_end": 17.989,
            "count": 1
           },
           {
            "bin_start": 17.989,
            "bin_end": 19.076,
            "count": 0
           },
           {
            "bin_start": 19.076,
            "bin_end": 20.163,
            "count": 0
           },
           {
            "bin_start": 20.163,
            "bin_end": 21.25,
            "count": 2
           }
          ]
         }
        },
        {
         "name": "perimeter_mean",
         "dtype": "float64",
         "stats": {
          "unique_count": 5,
          "nan_count": 0,
          "min": "77.58",
          "max": "135.1",
          "histogram": [
           {
            "bin_start": 77.58,
            "bin_end": 83.332,
            "count": 1
           },
           {
            "bin_start": 83.332,
            "bin_end": 89.084,
            "count": 0
           },
           {
            "bin_start": 89.084,
            "bin_end": 94.836,
            "count": 0
           },
           {
            "bin_start": 94.836,
            "bin_end": 100.588,
            "count": 0
           },
           {
            "bin_start": 100.588,
            "bin_end": 106.34,
            "count": 0
           },
           {
            "bin_start": 106.34,
            "bin_end": 112.092,
            "count": 0
           },
           {
            "bin_start": 112.092,
            "bin_end": 117.844,
            "count": 0
           },
           {
            "bin_start": 117.844,
            "bin_end": 123.596,
            "count": 1
           },
           {
            "bin_start": 123.596,
            "bin_end": 129.348,
            "count": 0
           },
           {
            "bin_start": 129.348,
            "bin_end": 135.1,
            "count": 3
           }
          ]
         }
        },
        {
         "name": "area_mean",
         "dtype": "float64",
         "stats": {
          "unique_count": 5,
          "nan_count": 0,
          "min": "386.1",
          "max": "1326.0",
          "histogram": [
           {
            "bin_start": 386.1,
            "bin_end": 480.09000000000003,
            "count": 1
           },
           {
            "bin_start": 480.09000000000003,
            "bin_end": 574.08,
            "count": 0
           },
           {
            "bin_start": 574.08,
            "bin_end": 668.0699999999999,
            "count": 0
           },
           {
            "bin_start": 668.0699999999999,
            "bin_end": 762.06,
            "count": 0
           },
           {
            "bin_start": 762.06,
            "bin_end": 856.05,
            "count": 0
           },
           {
            "bin_start": 856.05,
            "bin_end": 950.04,
            "count": 0
           },
           {
            "bin_start": 950.04,
            "bin_end": 1044.03,
            "count": 1
           },
           {
            "bin_start": 1044.03,
            "bin_end": 1138.02,
            "count": 0
           },
           {
            "bin_start": 1138.02,
            "bin_end": 1232.01,
            "count": 1
           },
           {
            "bin_start": 1232.01,
            "bin_end": 1326,
            "count": 2
           }
          ]
         }
        },
        {
         "name": "smoothness_mean",
         "dtype": "float64",
         "stats": {
          "unique_count": 5,
          "nan_count": 0,
          "min": "0.08474",
          "max": "0.1425",
          "histogram": [
           {
            "bin_start": 0.08474,
            "bin_end": 0.090516,
            "count": 1
           },
           {
            "bin_start": 0.090516,
            "bin_end": 0.09629199999999999,
            "count": 0
           },
           {
            "bin_start": 0.09629199999999999,
            "bin_end": 0.10206799999999999,
            "count": 1
           },
           {
            "bin_start": 0.10206799999999999,
            "bin_end": 0.107844,
            "count": 0
           },
           {
            "bin_start": 0.107844,
            "bin_end": 0.11362,
            "count": 1
           },
           {
            "bin_start": 0.11362,
            "bin_end": 0.11939599999999999,
            "count": 1
           },
           {
            "bin_start": 0.11939599999999999,
            "bin_end": 0.125172,
            "count": 0
           },
           {
            "bin_start": 0.125172,
            "bin_end": 0.13094799999999998,
            "count": 0
           },
           {
            "bin_start": 0.13094799999999998,
            "bin_end": 0.13672399999999998,
            "count": 0
           },
           {
            "bin_start": 0.13672399999999998,
            "bin_end": 0.1425,
            "count": 1
           }
          ]
         }
        },
        {
         "name": "compactness_mean",
         "dtype": "float64",
         "stats": {
          "unique_count": 5,
          "nan_count": 0,
          "min": "0.07864",
          "max": "0.2839",
          "histogram": [
           {
            "bin_start": 0.07864,
            "bin_end": 0.099166,
            "count": 1
           },
           {
            "bin_start": 0.099166,
            "bin_end": 0.11969199999999999,
            "count": 0
           },
           {
            "bin_start": 0.11969199999999999,
            "bin_end": 0.140218,
            "count": 1
           },
           {
            "bin_start": 0.140218,
            "bin_end": 0.160744,
            "count": 1
           },
           {
            "bin_start": 0.160744,
            "bin_end": 0.18127,
            "count": 0
           },
           {
            "bin_start": 0.18127,
            "bin_end": 0.20179599999999998,
            "count": 0
           },
           {
            "bin_start": 0.20179599999999998,
            "bin_end": 0.22232200000000002,
            "count": 0
           },
           {
            "bin_start": 0.22232200000000002,
            "bin_end": 0.242848,
            "count": 0
           },
           {
            "bin_start": 0.242848,
            "bin_end": 0.263374,
            "count": 0
           },
           {
            "bin_start": 0.263374,
            "bin_end": 0.2839,
            "count": 2
           }
          ]
         }
        },
        {
         "name": "concavity_mean",
         "dtype": "float64",
         "stats": {
          "unique_count": 5,
          "nan_count": 0,
          "min": "0.0869",
          "max": "0.3001",
          "histogram": [
           {
            "bin_start": 0.0869,
            "bin_end": 0.10822000000000001,
            "count": 1
           },
           {
            "bin_start": 0.10822000000000001,
            "bin_end": 0.12954,
            "count": 0
           },
           {
            "bin_start": 0.12954,
            "bin_end": 0.15086,
            "count": 0
           },
           {
            "bin_start": 0.15086,
            "bin_end": 0.17218,
            "count": 0
           },
           {
            "bin_start": 0.17218,
            "bin_end": 0.1935,
            "count": 0
           },
           {
            "bin_start": 0.1935,
            "bin_end": 0.21481999999999998,
            "count": 2
           },
           {
            "bin_start": 0.21481999999999998,
            "bin_end": 0.23614,
            "count": 0
           },
           {
            "bin_start": 0.23614,
            "bin_end": 0.25746,
            "count": 1
           },
           {
            "bin_start": 0.25746,
            "bin_end": 0.27878000000000003,
            "count": 0
           },
           {
            "bin_start": 0.27878000000000003,
            "bin_end": 0.3001,
            "count": 1
           }
          ]
         }
        },
        {
         "name": "concave points_mean",
         "dtype": "float64",
         "stats": {
          "unique_count": 5,
          "nan_count": 0,
          "min": "0.07017",
          "max": "0.1471",
          "histogram": [
           {
            "bin_start": 0.07017,
            "bin_end": 0.077863,
            "count": 1
           },
           {
            "bin_start": 0.077863,
            "bin_end": 0.085556,
            "count": 0
           },
           {
            "bin_start": 0.085556,
            "bin_end": 0.093249,
            "count": 0
           },
           {
            "bin_start": 0.093249,
            "bin_end": 0.100942,
            "count": 0
           },
           {
            "bin_start": 0.100942,
            "bin_end": 0.10863500000000001,
            "count": 2
           },
           {
            "bin_start": 0.10863500000000001,
            "bin_end": 0.116328,
            "count": 0
           },
           {
            "bin_start": 0.116328,
            "bin_end": 0.124021,
            "count": 0
           },
           {
            "bin_start": 0.124021,
            "bin_end": 0.131714,
            "count": 1
           },
           {
            "bin_start": 0.131714,
            "bin_end": 0.139407,
            "count": 0
           },
           {
            "bin_start": 0.139407,
            "bin_end": 0.1471,
            "count": 1
           }
          ]
         }
        },
        {
         "name": "symmetry_mean",
         "dtype": "float64",
         "stats": {
          "unique_count": 5,
          "nan_count": 0,
          "min": "0.1809",
          "max": "0.2597",
          "histogram": [
           {
            "bin_start": 0.1809,
            "bin_end": 0.18878,
            "count": 2
           },
           {
            "bin_start": 0.18878,
            "bin_end": 0.19666,
            "count": 0
           },
           {
            "bin_start": 0.19666,
            "bin_end": 0.20454,
            "count": 0
           },
           {
            "bin_start": 0.20454,
            "bin_end": 0.21242,
            "count": 1
           },
           {
            "bin_start": 0.21242,
            "bin_end": 0.2203,
            "count": 0
           },
           {
            "bin_start": 0.2203,
            "bin_end": 0.22818,
            "count": 0
           },
           {
            "bin_start": 0.22818,
            "bin_end": 0.23606,
            "count": 0
           },
           {
            "bin_start": 0.23606,
            "bin_end": 0.24394,
            "count": 1
           },
           {
            "bin_start": 0.24394,
            "bin_end": 0.25182,
            "count": 0
           },
           {
            "bin_start": 0.25182,
            "bin_end": 0.2597,
            "count": 1
           }
          ]
         }
        },
        {
         "name": "fractal_dimension_mean",
         "dtype": "float64",
         "stats": {
          "unique_count": 5,
          "nan_count": 0,
          "min": "0.05667",
          "max": "0.09744",
          "histogram": [
           {
            "bin_start": 0.05667,
            "bin_end": 0.060746999999999995,
            "count": 3
           },
           {
            "bin_start": 0.060746999999999995,
            "bin_end": 0.06482399999999999,
            "count": 0
           },
           {
            "bin_start": 0.06482399999999999,
            "bin_end": 0.06890099999999999,
            "count": 0
           },
           {
            "bin_start": 0.06890099999999999,
            "bin_end": 0.072978,
            "count": 0
           },
           {
            "bin_start": 0.072978,
            "bin_end": 0.077055,
            "count": 0
           },
           {
            "bin_start": 0.077055,
            "bin_end": 0.081132,
            "count": 1
           },
           {
            "bin_start": 0.081132,
            "bin_end": 0.085209,
            "count": 0
           },
           {
            "bin_start": 0.085209,
            "bin_end": 0.089286,
            "count": 0
           },
           {
            "bin_start": 0.089286,
            "bin_end": 0.093363,
            "count": 0
           },
           {
            "bin_start": 0.093363,
            "bin_end": 0.09744,
            "count": 1
           }
          ]
         }
        },
        {
         "name": "radius_se",
         "dtype": "float64",
         "stats": {
          "unique_count": 5,
          "nan_count": 0,
          "min": "0.4956",
          "max": "1.095",
          "histogram": [
           {
            "bin_start": 0.4956,
            "bin_end": 0.5555399999999999,
            "count": 2
           },
           {
            "bin_start": 0.5555399999999999,
            "bin_end": 0.61548,
            "count": 0
           },
           {
            "bin_start": 0.61548,
            "bin_end": 0.6754199999999999,
            "count": 0
           },
           {
            "bin_start": 0.6754199999999999,
            "bin_end": 0.73536,
            "count": 0
           },
           {
            "bin_start": 0.73536,
            "bin_end": 0.7952999999999999,
            "count": 2
           },
           {
            "bin_start": 0.7952999999999999,
            "bin_end": 0.85524,
            "count": 0
           },
           {
            "bin_start": 0.85524,
            "bin_end": 0.9151799999999999,
            "count": 0
           },
           {
            "bin_start": 0.9151799999999999,
            "bin_end": 0.97512,
            "count": 0
           },
           {
            "bin_start": 0.97512,
            "bin_end": 1.0350599999999999,
            "count": 0
           },
           {
            "bin_start": 1.0350599999999999,
            "bin_end": 1.095,
            "count": 1
           }
          ]
         }
        },
        {
         "name": "texture_se",
         "dtype": "float64",
         "stats": {
          "unique_count": 5,
          "nan_count": 0,
          "min": "0.7339",
          "max": "1.156",
          "histogram": [
           {
            "bin_start": 0.7339,
            "bin_end": 0.77611,
            "count": 1
           },
           {
            "bin_start": 0.77611,
            "bin_end": 0.8183199999999999,
            "count": 2
           },
           {
            "bin_start": 0.8183199999999999,
            "bin_end": 0.86053,
            "count": 0
           },
           {
            "bin_start": 0.86053,
            "bin_end": 0.90274,
            "count": 0
           },
           {
            "bin_start": 0.90274,
            "bin_end": 0.94495,
            "count": 1
           },
           {
            "bin_start": 0.94495,
            "bin_end": 0.9871599999999999,
            "count": 0
           },
           {
            "bin_start": 0.9871599999999999,
            "bin_end": 1.02937,
            "count": 0
           },
           {
            "bin_start": 1.02937,
            "bin_end": 1.07158,
            "count": 0
           },
           {
            "bin_start": 1.07158,
            "bin_end": 1.1137899999999998,
            "count": 0
           },
           {
            "bin_start": 1.1137899999999998,
            "bin_end": 1.156,
            "count": 1
           }
          ]
         }
        },
        {
         "name": "perimeter_se",
         "dtype": "float64",
         "stats": {
          "unique_count": 5,
          "nan_count": 0,
          "min": "3.398",
          "max": "8.589",
          "histogram": [
           {
            "bin_start": 3.398,
            "bin_end": 3.9171000000000005,
            "count": 2
           },
           {
            "bin_start": 3.9171000000000005,
            "bin_end": 4.4362,
            "count": 0
           },
           {
            "bin_start": 4.4362,
            "bin_end": 4.9553,
            "count": 1
           },
           {
            "bin_start": 4.9553,
            "bin_end": 5.474400000000001,
            "count": 1
           },
           {
            "bin_start": 5.474400000000001,
            "bin_end": 5.993500000000001,
            "count": 0
           },
           {
            "bin_start": 5.993500000000001,
            "bin_end": 6.512600000000001,
            "count": 0
           },
           {
            "bin_start": 6.512600000000001,
            "bin_end": 7.031700000000001,
            "count": 0
           },
           {
            "bin_start": 7.031700000000001,
            "bin_end": 7.550800000000001,
            "count": 0
           },
           {
            "bin_start": 7.550800000000001,
            "bin_end": 8.0699,
            "count": 0
           },
           {
            "bin_start": 8.0699,
            "bin_end": 8.589,
            "count": 1
           }
          ]
         }
        },
        {
         "name": "area_se",
         "dtype": "float64",
         "stats": {
          "unique_count": 5,
          "nan_count": 0,
          "min": "27.23",
          "max": "153.4",
          "histogram": [
           {
            "bin_start": 27.23,
            "bin_end": 39.847,
            "count": 1
           },
           {
            "bin_start": 39.847,
            "bin_end": 52.464,
            "count": 0
           },
           {
            "bin_start": 52.464,
            "bin_end": 65.081,
            "count": 0
           },
           {
            "bin_start": 65.081,
            "bin_end": 77.69800000000001,
            "count": 1
           },
           {
            "bin_start": 77.69800000000001,
            "bin_end": 90.31500000000001,
            "count": 0
           },
           {
            "bin_start": 90.31500000000001,
            "bin_end": 102.932,
            "count": 2
           },
           {
            "bin_start": 102.932,
            "bin_end": 115.549,
            "count": 0
           },
           {
            "bin_start": 115.549,
            "bin_end": 128.166,
            "count": 0
           },
           {
            "bin_start": 128.166,
            "bin_end": 140.78300000000002,
            "count": 0
           },
           {
            "bin_start": 140.78300000000002,
            "bin_end": 153.4,
            "count": 1
           }
          ]
         }
        },
        {
         "name": "smoothness_se",
         "dtype": "float64",
         "stats": {
          "unique_count": 5,
          "nan_count": 0,
          "min": "0.005225",
          "max": "0.01149",
          "histogram": [
           {
            "bin_start": 0.005225,
            "bin_end": 0.0058515,
            "count": 1
           },
           {
            "bin_start": 0.0058515,
            "bin_end": 0.006477999999999999,
            "count": 2
           },
           {
            "bin_start": 0.006477999999999999,
            "bin_end": 0.0071045,
            "count": 0
           },
           {
            "bin_start": 0.0071045,
            "bin_end": 0.007731,
            "count": 0
           },
           {
            "bin_start": 0.007731,
            "bin_end": 0.0083575,
            "count": 0
           },
           {
            "bin_start": 0.0083575,
            "bin_end": 0.008984,
            "count": 0
           },
           {
            "bin_start": 0.008984,
            "bin_end": 0.009610500000000001,
            "count": 1
           },
           {
            "bin_start": 0.009610500000000001,
            "bin_end": 0.010237,
            "count": 0
           },
           {
            "bin_start": 0.010237,
            "bin_end": 0.010863500000000002,
            "count": 0
           },
           {
            "bin_start": 0.010863500000000002,
            "bin_end": 0.01149,
            "count": 1
           }
          ]
         }
        },
        {
         "name": "compactness_se",
         "dtype": "float64",
         "stats": {
          "unique_count": 5,
          "nan_count": 0,
          "min": "0.01308",
          "max": "0.07458",
          "histogram": [
           {
            "bin_start": 0.01308,
            "bin_end": 0.019229999999999997,
            "count": 1
           },
           {
            "bin_start": 0.019229999999999997,
            "bin_end": 0.02538,
            "count": 1
           },
           {
            "bin_start": 0.02538,
            "bin_end": 0.031529999999999996,
            "count": 0
           },
           {
            "bin_start": 0.031529999999999996,
            "bin_end": 0.03768,
            "count": 0
           },
           {
            "bin_start": 0.03768,
            "bin_end": 0.043829999999999994,
            "count": 1
           },
           {
            "bin_start": 0.043829999999999994,
            "bin_end": 0.04998,
            "count": 1
           },
           {
            "bin_start": 0.04998,
            "bin_end": 0.05612999999999999,
            "count": 0
           },
           {
            "bin_start": 0.05612999999999999,
            "bin_end": 0.062279999999999995,
            "count": 0
           },
           {
            "bin_start": 0.062279999999999995,
            "bin_end": 0.06842999999999999,
            "count": 0
           },
           {
            "bin_start": 0.06842999999999999,
            "bin_end": 0.07458,
            "count": 1
           }
          ]
         }
        },
        {
         "name": "concavity_se",
         "dtype": "float64",
         "stats": {
          "unique_count": 5,
          "nan_count": 0,
          "min": "0.0186",
          "max": "0.05688",
          "histogram": [
           {
            "bin_start": 0.0186,
            "bin_end": 0.022428,
            "count": 1
           },
           {
            "bin_start": 0.022428,
            "bin_end": 0.026255999999999998,
            "count": 0
           },
           {
            "bin_start": 0.026255999999999998,
            "bin_end": 0.030084,
            "count": 0
           },
           {
            "bin_start": 0.030084,
            "bin_end": 0.033912,
            "count": 0
           },
           {
            "bin_start": 0.033912,
            "bin_end": 0.037739999999999996,
            "count": 0
           },
           {
            "bin_start": 0.037739999999999996,
            "bin_end": 0.041568,
            "count": 1
           },
           {
            "bin_start": 0.041568,
            "bin_end": 0.045396,
            "count": 0
           },
           {
            "bin_start": 0.045396,
            "bin_end": 0.049224000000000004,
            "count": 0
           },
           {
            "bin_start": 0.049224000000000004,
            "bin_end": 0.053052,
            "count": 0
           },
           {
            "bin_start": 0.053052,
            "bin_end": 0.05688,
            "count": 3
           }
          ]
         }
        },
        {
         "name": "concave points_se",
         "dtype": "float64",
         "stats": {
          "unique_count": 5,
          "nan_count": 0,
          "min": "0.0134",
          "max": "0.02058",
          "histogram": [
           {
            "bin_start": 0.0134,
            "bin_end": 0.014118,
            "count": 1
           },
           {
            "bin_start": 0.014118,
            "bin_end": 0.014836,
            "count": 0
           },
           {
            "bin_start": 0.014836,
            "bin_end": 0.015554000000000002,
            "count": 0
           },
           {
            "bin_start": 0.015554000000000002,
            "bin_end": 0.016272000000000002,
            "count": 1
           },
           {
            "bin_start": 0.016272000000000002,
            "bin_end": 0.01699,
            "count": 0
           },
           {
            "bin_start": 0.01699,
            "bin_end": 0.017708,
            "count": 0
           },
           {
            "bin_start": 0.017708,
            "bin_end": 0.018426,
            "count": 0
           },
           {
            "bin_start": 0.018426,
            "bin_end": 0.019144,
            "count": 2
           },
           {
            "bin_start": 0.019144,
            "bin_end": 0.019862,
            "count": 0
           },
           {
            "bin_start": 0.019862,
            "bin_end": 0.02058,
            "count": 1
           }
          ]
         }
        },
        {
         "name": "symmetry_se",
         "dtype": "float64",
         "stats": {
          "unique_count": 5,
          "nan_count": 0,
          "min": "0.01389",
          "max": "0.05963",
          "histogram": [
           {
            "bin_start": 0.01389,
            "bin_end": 0.018464,
            "count": 2
           },
           {
            "bin_start": 0.018464,
            "bin_end": 0.023038,
            "count": 1
           },
           {
            "bin_start": 0.023038,
            "bin_end": 0.027611999999999998,
            "count": 0
           },
           {
            "bin_start": 0.027611999999999998,
            "bin_end": 0.032186,
            "count": 1
           },
           {
            "bin_start": 0.032186,
            "bin_end": 0.03676,
            "count": 0
           },
           {
            "bin_start": 0.03676,
            "bin_end": 0.041333999999999996,
            "count": 0
           },
           {
            "bin_start": 0.041333999999999996,
            "bin_end": 0.045908,
            "count": 0
           },
           {
            "bin_start": 0.045908,
            "bin_end": 0.050482,
            "count": 0
           },
           {
            "bin_start": 0.050482,
            "bin_end": 0.055056,
            "count": 0
           },
           {
            "bin_start": 0.055056,
            "bin_end": 0.05963,
            "count": 1
           }
          ]
         }
        },
        {
         "name": "fractal_dimension_se",
         "dtype": "float64",
         "stats": {
          "unique_count": 5,
          "nan_count": 0,
          "min": "0.003532",
          "max": "0.009208",
          "histogram": [
           {
            "bin_start": 0.003532,
            "bin_end": 0.0040996,
            "count": 1
           },
           {
            "bin_start": 0.0040996,
            "bin_end": 0.0046672,
            "count": 1
           },
           {
            "bin_start": 0.0046672,
            "bin_end": 0.0052347999999999995,
            "count": 1
           },
           {
            "bin_start": 0.0052347999999999995,
            "bin_end": 0.005802399999999999,
            "count": 0
           },
           {
            "bin_start": 0.005802399999999999,
            "bin_end": 0.006369999999999999,
            "count": 1
           },
           {
            "bin_start": 0.006369999999999999,
            "bin_end": 0.0069375999999999995,
            "count": 0
           },
           {
            "bin_start": 0.0069375999999999995,
            "bin_end": 0.0075052,
            "count": 0
           },
           {
            "bin_start": 0.0075052,
            "bin_end": 0.0080728,
            "count": 0
           },
           {
            "bin_start": 0.0080728,
            "bin_end": 0.0086404,
            "count": 0
           },
           {
            "bin_start": 0.0086404,
            "bin_end": 0.009208,
            "count": 1
           }
          ]
         }
        },
        {
         "name": "radius_worst",
         "dtype": "float64",
         "stats": {
          "unique_count": 5,
          "nan_count": 0,
          "min": "14.91",
          "max": "25.38",
          "histogram": [
           {
            "bin_start": 14.91,
            "bin_end": 15.957,
            "count": 1
           },
           {
            "bin_start": 15.957,
            "bin_end": 17.004,
            "count": 0
           },
           {
            "bin_start": 17.004,
            "bin_end": 18.051000000000002,
            "count": 0
           },
           {
            "bin_start": 18.051000000000002,
            "bin_end": 19.098,
            "count": 0
           },
           {
            "bin_start": 19.098,
            "bin_end": 20.145,
            "count": 0
           },
           {
            "bin_start": 20.145,
            "bin_end": 21.192,
            "count": 0
           },
           {
            "bin_start": 21.192,
            "bin_end": 22.239,
            "count": 0
           },
           {
            "bin_start": 22.239,
            "bin_end": 23.286,
            "count": 1
           },
           {
            "bin_start": 23.286,
            "bin_end": 24.333,
            "count": 1
           },
           {
            "bin_start": 24.333,
            "bin_end": 25.38,
            "count": 2
           }
          ]
         }
        },
        {
         "name": "texture_worst",
         "dtype": "float64",
         "stats": {
          "unique_count": 5,
          "nan_count": 0,
          "min": "16.67",
          "max": "26.5",
          "histogram": [
           {
            "bin_start": 16.67,
            "bin_end": 17.653000000000002,
            "count": 2
           },
           {
            "bin_start": 17.653000000000002,
            "bin_end": 18.636000000000003,
            "count": 0
           },
           {
            "bin_start": 18.636000000000003,
            "bin_end": 19.619,
            "count": 0
           },
           {
            "bin_start": 19.619,
            "bin_end": 20.602,
            "count": 0
           },
           {
            "bin_start": 20.602,
            "bin_end": 21.585,
            "count": 0
           },
           {
            "bin_start": 21.585,
            "bin_end": 22.568,
            "count": 0
           },
           {
            "bin_start": 22.568,
            "bin_end": 23.551000000000002,
            "count": 1
           },
           {
            "bin_start": 23.551000000000002,
            "bin_end": 24.534,
            "count": 0
           },
           {
            "bin_start": 24.534,
            "bin_end": 25.517000000000003,
            "count": 0
           },
           {
            "bin_start": 25.517000000000003,
            "bin_end": 26.5,
            "count": 2
           }
          ]
         }
        },
        {
         "name": "perimeter_worst",
         "dtype": "float64",
         "stats": {
          "unique_count": 5,
          "nan_count": 0,
          "min": "98.87",
          "max": "184.6",
          "histogram": [
           {
            "bin_start": 98.87,
            "bin_end": 107.443,
            "count": 1
           },
           {
            "bin_start": 107.443,
            "bin_end": 116.016,
            "count": 0
           },
           {
            "bin_start": 116.016,
            "bin_end": 124.589,
            "count": 0
           },
           {
            "bin_start": 124.589,
            "bin_end": 133.162,
            "count": 0
           },
           {
            "bin_start": 133.162,
            "bin_end": 141.735,
            "count": 0
           },
           {
            "bin_start": 141.735,
            "bin_end": 150.308,
            "count": 0
           },
           {
            "bin_start": 150.308,
            "bin_end": 158.881,
            "count": 3
           },
           {
            "bin_start": 158.881,
            "bin_end": 167.454,
            "count": 0
           },
           {
            "bin_start": 167.454,
            "bin_end": 176.027,
            "count": 0
           },
           {
            "bin_start": 176.027,
            "bin_end": 184.6,
            "count": 1
           }
          ]
         }
        },
        {
         "name": "area_worst",
         "dtype": "float64",
         "stats": {
          "unique_count": 5,
          "nan_count": 0,
          "min": "567.7",
          "max": "2019.0",
          "histogram": [
           {
            "bin_start": 567.7,
            "bin_end": 712.83,
            "count": 1
           },
           {
            "bin_start": 712.83,
            "bin_end": 857.96,
            "count": 0
           },
           {
            "bin_start": 857.96,
            "bin_end": 1003.09,
            "count": 0
           },
           {
            "bin_start": 1003.09,
            "bin_end": 1148.22,
            "count": 0
           },
           {
            "bin_start": 1148.22,
            "bin_end": 1293.35,
            "count": 0
           },
           {
            "bin_start": 1293.35,
            "bin_end": 1438.48,
            "count": 0
           },
           {
            "bin_start": 1438.48,
            "bin_end": 1583.6100000000001,
            "count": 1
           },
           {
            "bin_start": 1583.6100000000001,
            "bin_end": 1728.74,
            "count": 1
           },
           {
            "bin_start": 1728.74,
            "bin_end": 1873.8700000000001,
            "count": 0
           },
           {
            "bin_start": 1873.8700000000001,
            "bin_end": 2019,
            "count": 2
           }
          ]
         }
        },
        {
         "name": "smoothness_worst",
         "dtype": "float64",
         "stats": {
          "unique_count": 5,
          "nan_count": 0,
          "min": "0.1238",
          "max": "0.2098",
          "histogram": [
           {
            "bin_start": 0.1238,
            "bin_end": 0.1324,
            "count": 1
           },
           {
            "bin_start": 0.1324,
            "bin_end": 0.141,
            "count": 1
           },
           {
            "bin_start": 0.141,
            "bin_end": 0.14959999999999998,
            "count": 1
           },
           {
            "bin_start": 0.14959999999999998,
            "bin_end": 0.1582,
            "count": 0
           },
           {
            "bin_start": 0.1582,
            "bin_end": 0.1668,
            "count": 1
           },
           {
            "bin_start": 0.1668,
            "bin_end": 0.1754,
            "count": 0
           },
           {
            "bin_start": 0.1754,
            "bin_end": 0.184,
            "count": 0
           },
           {
            "bin_start": 0.184,
            "bin_end": 0.1926,
            "count": 0
           },
           {
            "bin_start": 0.1926,
            "bin_end": 0.2012,
            "count": 0
           },
           {
            "bin_start": 0.2012,
            "bin_end": 0.2098,
            "count": 1
           }
          ]
         }
        },
        {
         "name": "compactness_worst",
         "dtype": "float64",
         "stats": {
          "unique_count": 5,
          "nan_count": 0,
          "min": "0.1866",
          "max": "0.8663",
          "histogram": [
           {
            "bin_start": 0.1866,
            "bin_end": 0.25456999999999996,
            "count": 2
           },
           {
            "bin_start": 0.25456999999999996,
            "bin_end": 0.32254,
            "count": 0
           },
           {
            "bin_start": 0.32254,
            "bin_end": 0.39051,
            "count": 0
           },
           {
            "bin_start": 0.39051,
            "bin_end": 0.45848,
            "count": 1
           },
           {
            "bin_start": 0.45848,
            "bin_end": 0.52645,
            "count": 0
           },
           {
            "bin_start": 0.52645,
            "bin_end": 0.59442,
            "count": 0
           },
           {
            "bin_start": 0.59442,
            "bin_end": 0.66239,
            "count": 0
           },
           {
            "bin_start": 0.66239,
            "bin_end": 0.73036,
            "count": 1
           },
           {
            "bin_start": 0.73036,
            "bin_end": 0.79833,
            "count": 0
           },
           {
            "bin_start": 0.79833,
            "bin_end": 0.8663,
            "count": 1
           }
          ]
         }
        },
        {
         "name": "concavity_worst",
         "dtype": "float64",
         "stats": {
          "unique_count": 5,
          "nan_count": 0,
          "min": "0.2416",
          "max": "0.7119",
          "histogram": [
           {
            "bin_start": 0.2416,
            "bin_end": 0.28863,
            "count": 1
           },
           {
            "bin_start": 0.28863,
            "bin_end": 0.33566,
            "count": 0
           },
           {
            "bin_start": 0.33566,
            "bin_end": 0.38269,
            "count": 0
           },
           {
            "bin_start": 0.38269,
            "bin_end": 0.42972,
            "count": 1
           },
           {
            "bin_start": 0.42972,
            "bin_end": 0.47675,
            "count": 1
           },
           {
            "bin_start": 0.47675,
            "bin_end": 0.52378,
            "count": 0
           },
           {
            "bin_start": 0.52378,
            "bin_end": 0.5708099999999999,
            "count": 0
           },
           {
            "bin_start": 0.5708099999999999,
            "bin_end": 0.61784,
            "count": 0
           },
           {
            "bin_start": 0.61784,
            "bin_end": 0.66487,
            "count": 0
           },
           {
            "bin_start": 0.66487,
            "bin_end": 0.7119,
            "count": 2
           }
          ]
         }
        },
        {
         "name": "concave points_worst",
         "dtype": "float64",
         "stats": {
          "unique_count": 5,
          "nan_count": 0,
          "min": "0.1625",
          "max": "0.2654",
          "histogram": [
           {
            "bin_start": 0.1625,
            "bin_end": 0.17279,
            "count": 1
           },
           {
            "bin_start": 0.17279,
            "bin_end": 0.18308000000000002,
            "count": 0
           },
           {
            "bin_start": 0.18308000000000002,
            "bin_end": 0.19337000000000001,
            "count": 1
           },
           {
            "bin_start": 0.19337000000000001,
            "bin_end": 0.20366,
            "count": 0
           },
           {
            "bin_start": 0.20366,
            "bin_end": 0.21395000000000003,
            "count": 0
           },
           {
            "bin_start": 0.21395000000000003,
            "bin_end": 0.22424000000000002,
            "count": 0
           },
           {
            "bin_start": 0.22424000000000002,
            "bin_end": 0.23453000000000002,
            "count": 0
           },
           {
            "bin_start": 0.23453000000000002,
            "bin_end": 0.24482000000000004,
            "count": 1
           },
           {
            "bin_start": 0.24482000000000004,
            "bin_end": 0.25511000000000006,
            "count": 0
           },
           {
            "bin_start": 0.25511000000000006,
            "bin_end": 0.2654,
            "count": 2
           }
          ]
         }
        },
        {
         "name": "symmetry_worst",
         "dtype": "float64",
         "stats": {
          "unique_count": 5,
          "nan_count": 0,
          "min": "0.2364",
          "max": "0.6638",
          "histogram": [
           {
            "bin_start": 0.2364,
            "bin_end": 0.27914,
            "count": 2
           },
           {
            "bin_start": 0.27914,
            "bin_end": 0.32188,
            "count": 0
           },
           {
            "bin_start": 0.32188,
            "bin_end": 0.36461999999999994,
            "count": 1
           },
           {
            "bin_start": 0.36461999999999994,
            "bin_end": 0.40735999999999994,
            "count": 0
           },
           {
            "bin_start": 0.40735999999999994,
            "bin_end": 0.45009999999999994,
            "count": 0
           },
           {
            "bin_start": 0.45009999999999994,
            "bin_end": 0.49283999999999994,
            "count": 1
           },
           {
            "bin_start": 0.49283999999999994,
            "bin_end": 0.53558,
            "count": 0
           },
           {
            "bin_start": 0.53558,
            "bin_end": 0.57832,
            "count": 0
           },
           {
            "bin_start": 0.57832,
            "bin_end": 0.62106,
            "count": 0
           },
           {
            "bin_start": 0.62106,
            "bin_end": 0.6638,
            "count": 1
           }
          ]
         }
        },
        {
         "name": "fractal_dimension_worst",
         "dtype": "float64",
         "stats": {
          "unique_count": 5,
          "nan_count": 0,
          "min": "0.07678",
          "max": "0.173",
          "histogram": [
           {
            "bin_start": 0.07678,
            "bin_end": 0.086402,
            "count": 1
           },
           {
            "bin_start": 0.086402,
            "bin_end": 0.096024,
            "count": 2
           },
           {
            "bin_start": 0.096024,
            "bin_end": 0.10564599999999999,
            "count": 0
           },
           {
            "bin_start": 0.10564599999999999,
            "bin_end": 0.115268,
            "count": 0
           },
           {
            "bin_start": 0.115268,
            "bin_end": 0.12489,
            "count": 1
           },
           {
            "bin_start": 0.12489,
            "bin_end": 0.134512,
            "count": 0
           },
           {
            "bin_start": 0.134512,
            "bin_end": 0.14413399999999998,
            "count": 0
           },
           {
            "bin_start": 0.14413399999999998,
            "bin_end": 0.153756,
            "count": 0
           },
           {
            "bin_start": 0.153756,
            "bin_end": 0.16337799999999997,
            "count": 0
           },
           {
            "bin_start": 0.16337799999999997,
            "bin_end": 0.173,
            "count": 1
           }
          ]
         }
        },
        {
         "name": "daignosis",
         "dtype": "int64",
         "stats": {
          "unique_count": 1,
          "nan_count": 0,
          "min": "1",
          "max": "1",
          "histogram": [
           {
            "bin_start": 0.5,
            "bin_end": 0.6,
            "count": 0
           },
           {
            "bin_start": 0.6,
            "bin_end": 0.7,
            "count": 0
           },
           {
            "bin_start": 0.7,
            "bin_end": 0.8,
            "count": 0
           },
           {
            "bin_start": 0.8,
            "bin_end": 0.9,
            "count": 0
           },
           {
            "bin_start": 0.9,
            "bin_end": 1,
            "count": 0
           },
           {
            "bin_start": 1,
            "bin_end": 1.1,
            "count": 5
           },
           {
            "bin_start": 1.1,
            "bin_end": 1.2000000000000002,
            "count": 0
           },
           {
            "bin_start": 1.2000000000000002,
            "bin_end": 1.3,
            "count": 0
           },
           {
            "bin_start": 1.3,
            "bin_end": 1.4,
            "count": 0
           },
           {
            "bin_start": 1.4,
            "bin_end": 1.5,
            "count": 0
           }
          ]
         }
        },
        {
         "name": "_deepnote_index_column",
         "dtype": "int64"
        }
       ],
       "rows_top": [
        {
         "diagnosis": 1,
         "radius_mean": 17.99,
         "texture_mean": 10.38,
         "perimeter_mean": 122.8,
         "area_mean": 1001,
         "smoothness_mean": 0.1184,
         "compactness_mean": 0.2776,
         "concavity_mean": 0.3001,
         "concave points_mean": 0.1471,
         "symmetry_mean": 0.2419,
         "fractal_dimension_mean": 0.07871,
         "radius_se": 1.095,
         "texture_se": 0.9053,
         "perimeter_se": 8.589,
         "area_se": 153.4,
         "smoothness_se": 0.006399,
         "compactness_se": 0.04904,
         "concavity_se": 0.05373,
         "concave points_se": 0.01587,
         "symmetry_se": 0.03003,
         "fractal_dimension_se": 0.006193,
         "radius_worst": 25.38,
         "texture_worst": 17.33,
         "perimeter_worst": 184.6,
         "area_worst": 2019,
         "smoothness_worst": 0.1622,
         "compactness_worst": 0.6656,
         "concavity_worst": 0.7119,
         "concave points_worst": 0.2654,
         "symmetry_worst": 0.4601,
         "fractal_dimension_worst": 0.1189,
         "daignosis": 1,
         "_deepnote_index_column": 842302
        },
        {
         "diagnosis": 1,
         "radius_mean": 20.57,
         "texture_mean": 17.77,
         "perimeter_mean": 132.9,
         "area_mean": 1326,
         "smoothness_mean": 0.08474,
         "compactness_mean": 0.07864,
         "concavity_mean": 0.0869,
         "concave points_mean": 0.07017,
         "symmetry_mean": 0.1812,
         "fractal_dimension_mean": 0.05667,
         "radius_se": 0.5435,
         "texture_se": 0.7339,
         "perimeter_se": 3.398,
         "area_se": 74.08,
         "smoothness_se": 0.005225,
         "compactness_se": 0.01308,
         "concavity_se": 0.0186,
         "concave points_se": 0.0134,
         "symmetry_se": 0.01389,
         "fractal_dimension_se": 0.003532,
         "radius_worst": 24.99,
         "texture_worst": 23.41,
         "perimeter_worst": 158.8,
         "area_worst": 1956,
         "smoothness_worst": 0.1238,
         "compactness_worst": 0.1866,
         "concavity_worst": 0.2416,
         "concave points_worst": 0.186,
         "symmetry_worst": 0.275,
         "fractal_dimension_worst": 0.08902,
         "daignosis": 1,
         "_deepnote_index_column": 842517
        },
        {
         "diagnosis": 1,
         "radius_mean": 19.69,
         "texture_mean": 21.25,
         "perimeter_mean": 130,
         "area_mean": 1203,
         "smoothness_mean": 0.1096,
         "compactness_mean": 0.1599,
         "concavity_mean": 0.1974,
         "concave points_mean": 0.1279,
         "symmetry_mean": 0.2069,
         "fractal_dimension_mean": 0.05999,
         "radius_se": 0.7456,
         "texture_se": 0.7869,
         "perimeter_se": 4.585,
         "area_se": 94.03,
         "smoothness_se": 0.00615,
         "compactness_se": 0.04006,
         "concavity_se": 0.03832,
         "concave points_se": 0.02058,
         "symmetry_se": 0.0225,
         "fractal_dimension_se": 0.004571,
         "radius_worst": 23.57,
         "texture_worst": 25.53,
         "perimeter_worst": 152.5,
         "area_worst": 1709,
         "smoothness_worst": 0.1444,
         "compactness_worst": 0.4245,
         "concavity_worst": 0.4504,
         "concave points_worst": 0.243,
         "symmetry_worst": 0.3613,
         "fractal_dimension_worst": 0.08758,
         "daignosis": 1,
         "_deepnote_index_column": 84300903
        },
        {
         "diagnosis": 1,
         "radius_mean": 11.42,
         "texture_mean": 20.38,
         "perimeter_mean": 77.58,
         "area_mean": 386.1,
         "smoothness_mean": 0.1425,
         "compactness_mean": 0.2839,
         "concavity_mean": 0.2414,
         "concave points_mean": 0.1052,
         "symmetry_mean": 0.2597,
         "fractal_dimension_mean": 0.09744,
         "radius_se": 0.4956,
         "texture_se": 1.156,
         "perimeter_se": 3.445,
         "area_se": 27.23,
         "smoothness_se": 0.00911,
         "compactness_se": 0.07458,
         "concavity_se": 0.05661,
         "concave points_se": 0.01867,
         "symmetry_se": 0.05963,
         "fractal_dimension_se": 0.009208,
         "radius_worst": 14.91,
         "texture_worst": 26.5,
         "perimeter_worst": 98.87,
         "area_worst": 567.7,
         "smoothness_worst": 0.2098,
         "compactness_worst": 0.8663,
         "concavity_worst": 0.6869,
         "concave points_worst": 0.2575,
         "symmetry_worst": 0.6638,
         "fractal_dimension_worst": 0.173,
         "daignosis": 1,
         "_deepnote_index_column": 84348301
        },
        {
         "diagnosis": 1,
         "radius_mean": 20.29,
         "texture_mean": 14.34,
         "perimeter_mean": 135.1,
         "area_mean": 1297,
         "smoothness_mean": 0.1003,
         "compactness_mean": 0.1328,
         "concavity_mean": 0.198,
         "concave points_mean": 0.1043,
         "symmetry_mean": 0.1809,
         "fractal_dimension_mean": 0.05883,
         "radius_se": 0.7572,
         "texture_se": 0.7813,
         "perimeter_se": 5.438,
         "area_se": 94.44,
         "smoothness_se": 0.01149,
         "compactness_se": 0.02461,
         "concavity_se": 0.05688,
         "concave points_se": 0.01885,
         "symmetry_se": 0.01756,
         "fractal_dimension_se": 0.005115,
         "radius_worst": 22.54,
         "texture_worst": 16.67,
         "perimeter_worst": 152.2,
         "area_worst": 1575,
         "smoothness_worst": 0.1374,
         "compactness_worst": 0.205,
         "concavity_worst": 0.4,
         "concave points_worst": 0.1625,
         "symmetry_worst": 0.2364,
         "fractal_dimension_worst": 0.07678,
         "daignosis": 1,
         "_deepnote_index_column": 84358402
        }
       ],
       "rows_bottom": null
      },
      "text/plain": "          diagnosis  radius_mean  texture_mean  perimeter_mean  area_mean  \\\nid                                                                          \n842302            1        17.99         10.38          122.80     1001.0   \n842517            1        20.57         17.77          132.90     1326.0   \n84300903          1        19.69         21.25          130.00     1203.0   \n84348301          1        11.42         20.38           77.58      386.1   \n84358402          1        20.29         14.34          135.10     1297.0   \n\n          smoothness_mean  compactness_mean  concavity_mean  \\\nid                                                            \n842302            0.11840           0.27760          0.3001   \n842517            0.08474           0.07864          0.0869   \n84300903          0.10960           0.15990          0.1974   \n84348301          0.14250           0.28390          0.2414   \n84358402          0.10030           0.13280          0.1980   \n\n          concave points_mean  symmetry_mean  ...  texture_worst  \\\nid                                            ...                  \n842302                0.14710         0.2419  ...          17.33   \n842517                0.07017         0.1812  ...          23.41   \n84300903              0.12790         0.2069  ...          25.53   \n84348301              0.10520         0.2597  ...          26.50   \n84358402              0.10430         0.1809  ...          16.67   \n\n          perimeter_worst  area_worst  smoothness_worst  compactness_worst  \\\nid                                                                           \n842302             184.60      2019.0            0.1622             0.6656   \n842517             158.80      1956.0            0.1238             0.1866   \n84300903           152.50      1709.0            0.1444             0.4245   \n84348301            98.87       567.7            0.2098             0.8663   \n84358402           152.20      1575.0            0.1374             0.2050   \n\n          concavity_worst  concave points_worst  symmetry_worst  \\\nid                                                                \n842302             0.7119                0.2654          0.4601   \n842517             0.2416                0.1860          0.2750   \n84300903           0.4504                0.2430          0.3613   \n84348301           0.6869                0.2575          0.6638   \n84358402           0.4000                0.1625          0.2364   \n\n          fractal_dimension_worst  daignosis  \nid                                            \n842302                    0.11890          1  \n842517                    0.08902          1  \n84300903                  0.08758          1  \n84348301                  0.17300          1  \n84358402                  0.07678          1  \n\n[5 rows x 32 columns]",
      "text/html": "<div>\n<style scoped>\n    .dataframe tbody tr th:only-of-type {\n        vertical-align: middle;\n    }\n\n    .dataframe tbody tr th {\n        vertical-align: top;\n    }\n\n    .dataframe thead th {\n        text-align: right;\n    }\n</style>\n<table border=\"1\" class=\"dataframe\">\n  <thead>\n    <tr style=\"text-align: right;\">\n      <th></th>\n      <th>diagnosis</th>\n      <th>radius_mean</th>\n      <th>texture_mean</th>\n      <th>perimeter_mean</th>\n      <th>area_mean</th>\n      <th>smoothness_mean</th>\n      <th>compactness_mean</th>\n      <th>concavity_mean</th>\n      <th>concave points_mean</th>\n      <th>symmetry_mean</th>\n      <th>...</th>\n      <th>texture_worst</th>\n      <th>perimeter_worst</th>\n      <th>area_worst</th>\n      <th>smoothness_worst</th>\n      <th>compactness_worst</th>\n      <th>concavity_worst</th>\n      <th>concave points_worst</th>\n      <th>symmetry_worst</th>\n      <th>fractal_dimension_worst</th>\n      <th>daignosis</th>\n    </tr>\n    <tr>\n      <th>id</th>\n      <th></th>\n      <th></th>\n      <th></th>\n      <th></th>\n      <th></th>\n      <th></th>\n      <th></th>\n      <th></th>\n      <th></th>\n      <th></th>\n      <th></th>\n      <th></th>\n      <th></th>\n      <th></th>\n      <th></th>\n      <th></th>\n      <th></th>\n      <th></th>\n      <th></th>\n      <th></th>\n      <th></th>\n    </tr>\n  </thead>\n  <tbody>\n    <tr>\n      <th>842302</th>\n      <td>1</td>\n      <td>17.99</td>\n      <td>10.38</td>\n      <td>122.80</td>\n      <td>1001.0</td>\n      <td>0.11840</td>\n      <td>0.27760</td>\n      <td>0.3001</td>\n      <td>0.14710</td>\n      <td>0.2419</td>\n      <td>...</td>\n      <td>17.33</td>\n      <td>184.60</td>\n      <td>2019.0</td>\n      <td>0.1622</td>\n      <td>0.6656</td>\n      <td>0.7119</td>\n      <td>0.2654</td>\n      <td>0.4601</td>\n      <td>0.11890</td>\n      <td>1</td>\n    </tr>\n    <tr>\n      <th>842517</th>\n      <td>1</td>\n      <td>20.57</td>\n      <td>17.77</td>\n      <td>132.90</td>\n      <td>1326.0</td>\n      <td>0.08474</td>\n      <td>0.07864</td>\n      <td>0.0869</td>\n      <td>0.07017</td>\n      <td>0.1812</td>\n      <td>...</td>\n      <td>23.41</td>\n      <td>158.80</td>\n      <td>1956.0</td>\n      <td>0.1238</td>\n      <td>0.1866</td>\n      <td>0.2416</td>\n      <td>0.1860</td>\n      <td>0.2750</td>\n      <td>0.08902</td>\n      <td>1</td>\n    </tr>\n    <tr>\n      <th>84300903</th>\n      <td>1</td>\n      <td>19.69</td>\n      <td>21.25</td>\n      <td>130.00</td>\n      <td>1203.0</td>\n      <td>0.10960</td>\n      <td>0.15990</td>\n      <td>0.1974</td>\n      <td>0.12790</td>\n      <td>0.2069</td>\n      <td>...</td>\n      <td>25.53</td>\n      <td>152.50</td>\n      <td>1709.0</td>\n      <td>0.1444</td>\n      <td>0.4245</td>\n      <td>0.4504</td>\n      <td>0.2430</td>\n      <td>0.3613</td>\n      <td>0.08758</td>\n      <td>1</td>\n    </tr>\n    <tr>\n      <th>84348301</th>\n      <td>1</td>\n      <td>11.42</td>\n      <td>20.38</td>\n      <td>77.58</td>\n      <td>386.1</td>\n      <td>0.14250</td>\n      <td>0.28390</td>\n      <td>0.2414</td>\n      <td>0.10520</td>\n      <td>0.2597</td>\n      <td>...</td>\n      <td>26.50</td>\n      <td>98.87</td>\n      <td>567.7</td>\n      <td>0.2098</td>\n      <td>0.8663</td>\n      <td>0.6869</td>\n      <td>0.2575</td>\n      <td>0.6638</td>\n      <td>0.17300</td>\n      <td>1</td>\n    </tr>\n    <tr>\n      <th>84358402</th>\n      <td>1</td>\n      <td>20.29</td>\n      <td>14.34</td>\n      <td>135.10</td>\n      <td>1297.0</td>\n      <td>0.10030</td>\n      <td>0.13280</td>\n      <td>0.1980</td>\n      <td>0.10430</td>\n      <td>0.1809</td>\n      <td>...</td>\n      <td>16.67</td>\n      <td>152.20</td>\n      <td>1575.0</td>\n      <td>0.1374</td>\n      <td>0.2050</td>\n      <td>0.4000</td>\n      <td>0.1625</td>\n      <td>0.2364</td>\n      <td>0.07678</td>\n      <td>1</td>\n    </tr>\n  </tbody>\n</table>\n<p>5 rows × 32 columns</p>\n</div>"
     },
     "metadata": {}
    }
   ],
   "execution_count": 23
  },
  {
   "cell_type": "code",
   "source": "X = df.drop(columns=['diagnosis'])\ny = df['diagnosis']",
   "metadata": {
    "tags": [],
    "cell_id": "00014-76de7612-7c56-41b8-bfab-784a94ee15dd",
    "deepnote_to_be_reexecuted": false,
    "source_hash": "e599352f",
    "execution_start": 1632450589688,
    "execution_millis": 1,
    "deepnote_cell_type": "code"
   },
   "outputs": [],
   "execution_count": 25
  },
  {
   "cell_type": "code",
   "source": "from sklearn.linear_model import LogisticRegression\nfrom sklearn.model_selection import train_test_split",
   "metadata": {
    "tags": [],
    "cell_id": "00015-347fd4bc-d7b8-4740-b996-e783a7f8045f",
    "deepnote_to_be_reexecuted": false,
    "source_hash": "36f183ec",
    "execution_start": 1632450635144,
    "execution_millis": 3,
    "deepnote_cell_type": "code"
   },
   "outputs": [],
   "execution_count": 26
  },
  {
   "cell_type": "code",
   "source": "X_train, X_test,y_train,y_test = train_test_split(X,y,test_size=0.3,random_state=10)",
   "metadata": {
    "tags": [],
    "cell_id": "00016-1faf50ed-1334-479d-bcfb-6f66510a43b9",
    "deepnote_to_be_reexecuted": false,
    "source_hash": "57b3e0db",
    "execution_start": 1632450892849,
    "execution_millis": 4,
    "deepnote_cell_type": "code"
   },
   "outputs": [],
   "execution_count": 36
  },
  {
   "cell_type": "code",
   "source": "logreg = LogisticRegression(max_iter=10_000)\nlogreg.fit(X_train,y_train)\n",
   "metadata": {
    "tags": [],
    "cell_id": "00017-b6224272-078c-4440-b541-ef409f6106e3",
    "deepnote_to_be_reexecuted": false,
    "source_hash": "2c219016",
    "execution_start": 1632450893579,
    "execution_millis": 2148,
    "deepnote_cell_type": "code"
   },
   "outputs": [
    {
     "output_type": "execute_result",
     "execution_count": 37,
     "data": {
      "text/plain": "LogisticRegression(max_iter=10000)"
     },
     "metadata": {}
    }
   ],
   "execution_count": 37
  },
  {
   "cell_type": "code",
   "source": "y_pred = logreg.predict(X_test)\ny_pred",
   "metadata": {
    "tags": [],
    "cell_id": "00018-5f409bbd-0db3-4842-9bb2-17595546a73c",
    "deepnote_to_be_reexecuted": false,
    "source_hash": "49221752",
    "execution_start": 1632450895724,
    "execution_millis": 13,
    "deepnote_cell_type": "code"
   },
   "outputs": [
    {
     "output_type": "execute_result",
     "execution_count": 38,
     "data": {
      "text/plain": "array([1, 0, 0, 1, 0, 0, 0, 0, 1, 1, 0, 0, 1, 0, 1, 1, 0, 0, 0, 0, 1, 1,\n       0, 0, 1, 1, 0, 1, 0, 0, 0, 0, 1, 0, 0, 0, 0, 0, 0, 0, 0, 0, 0, 1,\n       0, 1, 1, 1, 1, 0, 0, 0, 1, 0, 0, 1, 1, 0, 0, 0, 1, 0, 1, 1, 0, 1,\n       0, 0, 1, 1, 0, 0, 0, 0, 0, 1, 0, 0, 1, 1, 0, 0, 1, 0, 0, 0, 0, 1,\n       0, 1, 0, 0, 1, 0, 0, 0, 1, 0, 1, 0, 1, 1, 0, 0, 0, 0, 1, 1, 0, 0,\n       0, 0, 1, 1, 1, 0, 0, 1, 1, 0, 0, 1, 0, 1, 0, 0, 1, 1, 0, 0, 0, 0,\n       1, 0, 0, 1, 0, 1, 0, 1, 0, 0, 1, 0, 0, 1, 0, 0, 0, 0, 1, 0, 1, 0,\n       0, 0, 1, 0, 0, 1, 0, 0, 0, 0, 0, 1, 1, 0, 0, 0, 0])"
     },
     "metadata": {}
    }
   ],
   "execution_count": 38
  },
  {
   "cell_type": "code",
   "source": "logreg.score(X_test,y_test)",
   "metadata": {
    "tags": [],
    "cell_id": "00019-fdd82529-9cd1-40c3-af6a-c7bcd2aba544",
    "deepnote_to_be_reexecuted": false,
    "source_hash": "6385b984",
    "execution_start": 1632450896452,
    "execution_millis": 16,
    "deepnote_cell_type": "code"
   },
   "outputs": [
    {
     "output_type": "execute_result",
     "execution_count": 39,
     "data": {
      "text/plain": "0.9766081871345029"
     },
     "metadata": {}
    }
   ],
   "execution_count": 39
  },
  {
   "cell_type": "markdown",
   "source": "## Matriz de confusión",
   "metadata": {
    "tags": [],
    "cell_id": "00020-d3c78cae-e680-42c3-87b1-efb1ba7ddc9c",
    "deepnote_cell_type": "markdown"
   }
  },
  {
   "cell_type": "code",
   "source": "from sklearn import metrics",
   "metadata": {
    "tags": [],
    "cell_id": "00020-fa4b7018-d481-40e6-96d5-d2d2c354b95b",
    "deepnote_to_be_reexecuted": false,
    "source_hash": "540eb31f",
    "execution_start": 1632451427262,
    "execution_millis": 0,
    "deepnote_cell_type": "code"
   },
   "outputs": [],
   "execution_count": 40
  },
  {
   "cell_type": "code",
   "source": "cnf_matrix = metrics.confusion_matrix(y_test,y_pred)\ncnf_matrix",
   "metadata": {
    "tags": [],
    "cell_id": "00020-a12324c2-75ce-420b-9637-980e133ec245",
    "deepnote_to_be_reexecuted": false,
    "source_hash": "bb6191f",
    "execution_start": 1632451461817,
    "execution_millis": 9,
    "deepnote_cell_type": "code"
   },
   "outputs": [
    {
     "output_type": "execute_result",
     "execution_count": 42,
     "data": {
      "text/plain": "array([[109,   3],\n       [  1,  58]])"
     },
     "metadata": {}
    }
   ],
   "execution_count": 42
  },
  {
   "cell_type": "code",
   "source": "fig, ax = plt.subplots(figsize=(6,6))\nsns.heatmap(pd.DataFrame(cnf_matrix), annot=True, fmt='g',cmap='Blues',cbar=False,annot_kws={'size':20})\n\nax.xaxis.set_label_position('top')\nplt.ylabel('Realidad',fontsize=15)\nplt.xlabel('Estimado',fontsize=15)",
   "metadata": {
    "tags": [],
    "cell_id": "00023-9c4c636f-0064-49c4-9e15-6335f6846883",
    "deepnote_to_be_reexecuted": false,
    "source_hash": "476a65a2",
    "execution_start": 1632451775107,
    "execution_millis": 362,
    "deepnote_cell_type": "code"
   },
   "outputs": [
    {
     "output_type": "execute_result",
     "execution_count": 47,
     "data": {
      "text/plain": "Text(0.5, 33.0, 'Estimado')"
     },
     "metadata": {}
    },
    {
     "data": {
      "text/plain": "<Figure size 432x432 with 1 Axes>",
      "image/png": "[encoded data removed]"
     },
     "metadata": {
      "needs_background": "light",
      "image/png": {
       "width": 385,
       "height": 373
      }
     },
     "output_type": "display_data"
    }
   ],
   "execution_count": 47
  },
  {
   "cell_type": "code",
   "source": "#presicion = \n#exactitud:\n#sensibilidad:\n#especifidad:",
   "metadata": {
    "tags": [],
    "cell_id": "00024-9da2e307-1cdc-4d90-b74d-c82e8e0ecdfe",
    "deepnote_cell_type": "code"
   },
   "outputs": [],
   "execution_count": null
  },
  {
   "cell_type": "code",
   "source": "print(metrics.precision_score(y_test,y_pred))\nprint(metrics.accuracy_score(y_test,y_pred))\nprint(metrics.recall_score(y_test,y_pred))",
   "metadata": {
    "tags": [],
    "cell_id": "00025-fbfc2700-1c54-4c99-a010-cc6b21f6530b",
    "deepnote_to_be_reexecuted": false,
    "source_hash": "9d462bd3",
    "execution_start": 1632451948528,
    "execution_millis": 11,
    "deepnote_cell_type": "code"
   },
   "outputs": [
    {
     "name": "stdout",
     "text": "0.9508196721311475\n0.9766081871345029\n0.9830508474576272\n",
     "output_type": "stream"
    }
   ],
   "execution_count": 49
  },
  {
   "cell_type": "code",
   "source": "tn, fp, fn , tp = cnf_matrix.ravel()\nprint(f'especifidad: {tn / (tn + fp)}')",
   "metadata": {
    "tags": [],
    "cell_id": "00026-73022daf-3e2e-49ad-a854-760882848852",
    "deepnote_to_be_reexecuted": false,
    "source_hash": "c03497ae",
    "execution_start": 1632452055356,
    "execution_millis": 6,
    "deepnote_cell_type": "code"
   },
   "outputs": [
    {
     "name": "stdout",
     "text": "especifidad: 0.9732142857142857\n",
     "output_type": "stream"
    }
   ],
   "execution_count": 51
  },
  {
   "cell_type": "code",
   "source": "from sklearn.metrics import roc_curve, auc",
   "metadata": {
    "tags": [],
    "cell_id": "00027-12a467ff-b293-4203-8b5c-87d18e8ba9a1",
    "deepnote_to_be_reexecuted": false,
    "source_hash": "845e0e8e",
    "execution_start": 1632452402593,
    "execution_millis": 2,
    "deepnote_cell_type": "code"
   },
   "outputs": [],
   "execution_count": 52
  },
  {
   "cell_type": "code",
   "source": "y_pred_prob = logreg.predict_log_proba(X_test)\nfpr,tpr, _ = roc_curve(y_test, y_pred_prob[:,1])\nroc_auc = auc(fpr,tpr)",
   "metadata": {
    "tags": [],
    "cell_id": "00027-b5161083-d74e-4af1-bd40-daec627d8482",
    "deepnote_to_be_reexecuted": false,
    "source_hash": "f3c91cc4",
    "execution_start": 1632452504649,
    "execution_millis": 6,
    "deepnote_cell_type": "code"
   },
   "outputs": [
    {
     "name": "stderr",
     "text": "/shared-libs/python3.7/py/lib/python3.7/site-packages/sklearn/linear_model/_logistic.py:1499: RuntimeWarning: divide by zero encountered in log\n  return np.log(self.predict_proba(X))\n",
     "output_type": "stream"
    }
   ],
   "execution_count": 53
  },
  {
   "cell_type": "code",
   "source": "roc_auc",
   "metadata": {
    "tags": [],
    "cell_id": "00029-ff5c1d19-ad60-418d-b8dc-9e9562ee91d9",
    "deepnote_to_be_reexecuted": false,
    "source_hash": "420f3e58",
    "execution_start": 1632452517224,
    "execution_millis": 18,
    "deepnote_cell_type": "code"
   },
   "outputs": [
    {
     "output_type": "execute_result",
     "execution_count": 54,
     "data": {
      "text/plain": "0.9993946731234866"
     },
     "metadata": {}
    }
   ],
   "execution_count": 54
  },
  {
   "cell_type": "code",
   "source": "",
   "metadata": {
    "tags": [],
    "cell_id": "00030-7d1ca030-ddc0-4fba-a313-51f5a6f1e472",
    "deepnote_cell_type": "code"
   },
   "outputs": [],
   "execution_count": null
  },
  {
   "cell_type": "markdown",
   "source": "<a style='text-decoration:none;line-height:16px;display:flex;color:#5B5B62;padding:10px;justify-content:end;' href='https://deepnote.com?utm_source=created-in-deepnote-cell&projectId=f8149d1c-e6b1-497a-9109-f01641a8231a' target=\"_blank\">\n<img alt='Created in deepnote.com' style='display:inline;max-height:16px;margin:0px;margin-right:7.5px;' src='data:image/svg+xml;base64,PD94bWwgdmVyc2lvbj0iMS4wIiBlbmNvZGluZz0iVVRGLTgiPz4KPHN2ZyB3aWR0aD0iODBweCIgaGVpZ2h0PSI4MHB4IiB2aWV3Qm94PSIwIDAgODAgODAiIHZlcnNpb249IjEuMSIgeG1sbnM9Imh0dHA6Ly93d3cudzMub3JnLzIwMDAvc3ZnIiB4bWxuczp4bGluaz0iaHR0cDovL3d3dy53My5vcmcvMTk5OS94bGluayI+CiAgICA8IS0tIEdlbmVyYXRvcjogU2tldGNoIDU0LjEgKDc2NDkwKSAtIGh0dHBzOi8vc2tldGNoYXBwLmNvbSAtLT4KICAgIDx0aXRsZT5Hcm91cCAzPC90aXRsZT4KICAgIDxkZXNjPkNyZWF0ZWQgd2l0aCBTa2V0Y2guPC9kZXNjPgogICAgPGcgaWQ9IkxhbmRpbmciIHN0cm9rZT0ibm9uZSIgc3Ryb2tlLXdpZHRoPSIxIiBmaWxsPSJub25lIiBmaWxsLXJ1bGU9ImV2ZW5vZGQiPgogICAgICAgIDxnIGlkPSJBcnRib2FyZCIgdHJhbnNmb3JtPSJ0cmFuc2xhdGUoLTEyMzUuMDAwMDAwLCAtNzkuMDAwMDAwKSI+CiAgICAgICAgICAgIDxnIGlkPSJHcm91cC0zIiB0cmFuc2Zvcm09InRyYW5zbGF0ZSgxMjM1LjAwMDAwMCwgNzkuMDAwMDAwKSI+CiAgICAgICAgICAgICAgICA8cG9seWdvbiBpZD0iUGF0aC0yMCIgZmlsbD0iIzAyNjVCNCIgcG9pbnRzPSIyLjM3NjIzNzYyIDgwIDM4LjA0NzY2NjcgODAgNTcuODIxNzgyMiA3My44MDU3NTkyIDU3LjgyMTc4MjIgMzIuNzU5MjczOSAzOS4xNDAyMjc4IDMxLjY4MzE2ODMiPjwvcG9seWdvbj4KICAgICAgICAgICAgICAgIDxwYXRoIGQ9Ik0zNS4wMDc3MTgsODAgQzQyLjkwNjIwMDcsNzYuNDU0OTM1OCA0Ny41NjQ5MTY3LDcxLjU0MjI2NzEgNDguOTgzODY2LDY1LjI2MTk5MzkgQzUxLjExMjI4OTksNTUuODQxNTg0MiA0MS42NzcxNzk1LDQ5LjIxMjIyODQgMjUuNjIzOTg0Niw0OS4yMTIyMjg0IEMyNS40ODQ5Mjg5LDQ5LjEyNjg0NDggMjkuODI2MTI5Niw0My4yODM4MjQ4IDM4LjY0NzU4NjksMzEuNjgzMTY4MyBMNzIuODcxMjg3MSwzMi41NTQ0MjUgTDY1LjI4MDk3Myw2Ny42NzYzNDIxIEw1MS4xMTIyODk5LDc3LjM3NjE0NCBMMzUuMDA3NzE4LDgwIFoiIGlkPSJQYXRoLTIyIiBmaWxsPSIjMDAyODY4Ij48L3BhdGg+CiAgICAgICAgICAgICAgICA8cGF0aCBkPSJNMCwzNy43MzA0NDA1IEwyNy4xMTQ1MzcsMC4yNTcxMTE0MzYgQzYyLjM3MTUxMjMsLTEuOTkwNzE3MDEgODAsMTAuNTAwMzkyNyA4MCwzNy43MzA0NDA1IEM4MCw2NC45NjA0ODgyIDY0Ljc3NjUwMzgsNzkuMDUwMzQxNCAzNC4zMjk1MTEzLDgwIEM0Ny4wNTUzNDg5LDc3LjU2NzA4MDggNTMuNDE4MjY3Nyw3MC4zMTM2MTAzIDUzLjQxODI2NzcsNTguMjM5NTg4NSBDNTMuNDE4MjY3Nyw0MC4xMjg1NTU3IDM2LjMwMzk1NDQsMzcuNzMwNDQwNSAyNS4yMjc0MTcsMzcuNzMwNDQwNSBDMTcuODQzMDU4NiwzNy43MzA0NDA1IDkuNDMzOTE5NjYsMzcuNzMwNDQwNSAwLDM3LjczMDQ0MDUgWiIgaWQ9IlBhdGgtMTkiIGZpbGw9IiMzNzkzRUYiPjwvcGF0aD4KICAgICAgICAgICAgPC9nPgogICAgICAgIDwvZz4KICAgIDwvZz4KPC9zdmc+' > </img>\nCreated in <span style='font-weight:600;margin-left:4px;'>Deepnote</span></a>",
   "metadata": {
    "tags": [],
    "created_in_deepnote_cell": true,
    "deepnote_cell_type": "markdown"
   }
  }
 ],
 "nbformat": 4,
 "nbformat_minor": 2,
 "metadata": {
  "orig_nbformat": 2,
  "deepnote": {
   "is_reactive": false
  },
  "deepnote_notebook_id": "de41dfa5-1df4-45fd-962a-31176e7563f7",
  "deepnote_execution_queue": []
 }
}