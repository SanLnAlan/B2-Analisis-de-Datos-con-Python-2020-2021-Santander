{
 "cells": [
  {
   "cell_type": "markdown",
   "source": "## Reto 1: K-Medias\n\n### 1. Objetivos:\n    - Aprender a aplicar un algoritmo de K-Medias\n    \n---\n    \n### 2. Desarrollo:",
   "metadata": {
    "cell_id": "00000-c3f6b133-969c-495d-b54f-e928ec2eaa66",
    "deepnote_cell_type": "markdown"
   }
  },
  {
   "cell_type": "markdown",
   "source": "### Segmentación por subregiones de los usuarios de un producto\n\nTenemos un conjunto de datos llamado 'distribucion_usuarios.csv'. En este dataset tenemos las latitudes y longitudes de todos los usuarios de un producto que viven en una misma región. Como compañía, queremos establecer centros de servicio al cliente para atender todas las demandas de servicios en esta región. Vamos a utilizar el algoritmo K-Medias para segmentar nuestra región en subregiones. Cada subregión tendrá un centro de servicio en su centroide.\n\nEl dataset también contiene el código único de cada usuario y 4 columnas llamadas: 'producto_1', 'producto_2', 'producto_3', 'producto_4'. Estas columnas contienen un 1 en caso de que el usuario haya adquirido ese producto, y un 0 en caso de que el producto no haya sido adquirido.\n\nTu Reto consiste en lo siguiente:\n\n1. Lee el dataset 'distribucion_usuarios.csv'.\n2. Utiliza un scatterplot para visualizar las latitudes y longitudes de tu conjunto de datos.\n3. Después utiliza la clase KMeans de `scikit-learn` para encontrar 7 centroides.\n4. Ya que hayas encontrado tus centroides, crea una nueva visualización donde además de tus puntos, grafiques los 7 centros.\n5. Ahora, utiliza tu modelo para clasificar tus puntos.\n6. Después agrega segmentación por color a tu gráfica para que los puntos se coloreen de acuerdo al grupo al que pertenecen.\n7. Ya que tienes tus puntos clasificados, agrega la clasificación al DataFrame original.\n8. Ahora, segmenta tu DataFrame por grupo y obtén los siguientes datos:\n    1. Cantidad total de usuarios por grupo\n    2. Cantidades totales de producto 1, 2, 3 y 4 por grupo\n9. Realiza una gráfica de barras para visualizar la cantidad de usuarios que hay en cada uno de los grupos\n10. Finalmente, genera una gráfica de barras apiladas con los totales de productos adquiridos por grupo. Cada segmento de la barra será la cantidad de producto adquirido en un grupo en específico.\n11. Comenta tus hallazgos con tus compañeros y la experta.",
   "metadata": {
    "cell_id": "00001-11e8cb15-5f52-4921-b9f4-f125d850498b",
    "deepnote_cell_type": "markdown"
   }
  },
  {
   "cell_type": "code",
   "metadata": {
    "cell_id": "00002-6c13e71e-5f16-42d6-8ddd-507ba80e0c57",
    "deepnote_to_be_reexecuted": false,
    "source_hash": "13ec5dd7",
    "execution_start": 1632456035916,
    "execution_millis": 1,
    "deepnote_cell_type": "code"
   },
   "source": "import pandas as pd\nimport seaborn as sns\nfrom sklearn.cluster import KMeans\nimport matplotlib.pyplot as plt",
   "outputs": [],
   "execution_count": null
  },
  {
   "cell_type": "code",
   "source": "df = pd.read_csv('/work/B2-Analisis-de-Datos-con-Python-2020-2021-Santander/Datasets/distribucion_usuarios.csv')\ndf.head()",
   "metadata": {
    "tags": [],
    "cell_id": "00003-1e1d2a93-7577-458c-bcb8-37735a1d96a4",
    "deepnote_to_be_reexecuted": false,
    "source_hash": "80aa08e",
    "execution_start": 1632456036426,
    "execution_millis": 29,
    "deepnote_cell_type": "code"
   },
   "outputs": [
    {
     "output_type": "execute_result",
     "execution_count": 40,
     "data": {
      "application/vnd.deepnote.dataframe.v2+json": {
       "row_count": 5,
       "column_count": 7,
       "columns": [
        {
         "name": "codigo_de_usuario",
         "dtype": "int64",
         "stats": {
          "unique_count": 5,
          "nan_count": 0,
          "min": "1",
          "max": "5",
          "histogram": [
           {
            "bin_start": 1,
            "bin_end": 1.4,
            "count": 1
           },
           {
            "bin_start": 1.4,
            "bin_end": 1.8,
            "count": 0
           },
           {
            "bin_start": 1.8,
            "bin_end": 2.2,
            "count": 1
           },
           {
            "bin_start": 2.2,
            "bin_end": 2.6,
            "count": 0
           },
           {
            "bin_start": 2.6,
            "bin_end": 3,
            "count": 0
           },
           {
            "bin_start": 3,
            "bin_end": 3.4000000000000004,
            "count": 1
           },
           {
            "bin_start": 3.4000000000000004,
            "bin_end": 3.8000000000000003,
            "count": 0
           },
           {
            "bin_start": 3.8000000000000003,
            "bin_end": 4.2,
            "count": 1
           },
           {
            "bin_start": 4.2,
            "bin_end": 4.6,
            "count": 0
           },
           {
            "bin_start": 4.6,
            "bin_end": 5,
            "count": 1
           }
          ]
         }
        },
        {
         "name": "producto_1",
         "dtype": "int64",
         "stats": {
          "unique_count": 2,
          "nan_count": 0,
          "min": "0",
          "max": "1",
          "histogram": [
           {
            "bin_start": 0,
            "bin_end": 0.1,
            "count": 3
           },
           {
            "bin_start": 0.1,
            "bin_end": 0.2,
            "count": 0
           },
           {
            "bin_start": 0.2,
            "bin_end": 0.30000000000000004,
            "count": 0
           },
           {
            "bin_start": 0.30000000000000004,
            "bin_end": 0.4,
            "count": 0
           },
           {
            "bin_start": 0.4,
            "bin_end": 0.5,
            "count": 0
           },
           {
            "bin_start": 0.5,
            "bin_end": 0.6000000000000001,
            "count": 0
           },
           {
            "bin_start": 0.6000000000000001,
            "bin_end": 0.7000000000000001,
            "count": 0
           },
           {
            "bin_start": 0.7000000000000001,
            "bin_end": 0.8,
            "count": 0
           },
           {
            "bin_start": 0.8,
            "bin_end": 0.9,
            "count": 0
           },
           {
            "bin_start": 0.9,
            "bin_end": 1,
            "count": 2
           }
          ]
         }
        },
        {
         "name": "producto_2",
         "dtype": "int64",
         "stats": {
          "unique_count": 2,
          "nan_count": 0,
          "min": "0",
          "max": "1",
          "histogram": [
           {
            "bin_start": 0,
            "bin_end": 0.1,
            "count": 4
           },
           {
            "bin_start": 0.1,
            "bin_end": 0.2,
            "count": 0
           },
           {
            "bin_start": 0.2,
            "bin_end": 0.30000000000000004,
            "count": 0
           },
           {
            "bin_start": 0.30000000000000004,
            "bin_end": 0.4,
            "count": 0
           },
           {
            "bin_start": 0.4,
            "bin_end": 0.5,
            "count": 0
           },
           {
            "bin_start": 0.5,
            "bin_end": 0.6000000000000001,
            "count": 0
           },
           {
            "bin_start": 0.6000000000000001,
            "bin_end": 0.7000000000000001,
            "count": 0
           },
           {
            "bin_start": 0.7000000000000001,
            "bin_end": 0.8,
            "count": 0
           },
           {
            "bin_start": 0.8,
            "bin_end": 0.9,
            "count": 0
           },
           {
            "bin_start": 0.9,
            "bin_end": 1,
            "count": 1
           }
          ]
         }
        },
        {
         "name": "producto_3",
         "dtype": "int64",
         "stats": {
          "unique_count": 2,
          "nan_count": 0,
          "min": "0",
          "max": "1",
          "histogram": [
           {
            "bin_start": 0,
            "bin_end": 0.1,
            "count": 2
           },
           {
            "bin_start": 0.1,
            "bin_end": 0.2,
            "count": 0
           },
           {
            "bin_start": 0.2,
            "bin_end": 0.30000000000000004,
            "count": 0
           },
           {
            "bin_start": 0.30000000000000004,
            "bin_end": 0.4,
            "count": 0
           },
           {
            "bin_start": 0.4,
            "bin_end": 0.5,
            "count": 0
           },
           {
            "bin_start": 0.5,
            "bin_end": 0.6000000000000001,
            "count": 0
           },
           {
            "bin_start": 0.6000000000000001,
            "bin_end": 0.7000000000000001,
            "count": 0
           },
           {
            "bin_start": 0.7000000000000001,
            "bin_end": 0.8,
            "count": 0
           },
           {
            "bin_start": 0.8,
            "bin_end": 0.9,
            "count": 0
           },
           {
            "bin_start": 0.9,
            "bin_end": 1,
            "count": 3
           }
          ]
         }
        },
        {
         "name": "producto_4",
         "dtype": "int64",
         "stats": {
          "unique_count": 2,
          "nan_count": 0,
          "min": "0",
          "max": "1",
          "histogram": [
           {
            "bin_start": 0,
            "bin_end": 0.1,
            "count": 4
           },
           {
            "bin_start": 0.1,
            "bin_end": 0.2,
            "count": 0
           },
           {
            "bin_start": 0.2,
            "bin_end": 0.30000000000000004,
            "count": 0
           },
           {
            "bin_start": 0.30000000000000004,
            "bin_end": 0.4,
            "count": 0
           },
           {
            "bin_start": 0.4,
            "bin_end": 0.5,
            "count": 0
           },
           {
            "bin_start": 0.5,
            "bin_end": 0.6000000000000001,
            "count": 0
           },
           {
            "bin_start": 0.6000000000000001,
            "bin_end": 0.7000000000000001,
            "count": 0
           },
           {
            "bin_start": 0.7000000000000001,
            "bin_end": 0.8,
            "count": 0
           },
           {
            "bin_start": 0.8,
            "bin_end": 0.9,
            "count": 0
           },
           {
            "bin_start": 0.9,
            "bin_end": 1,
            "count": 1
           }
          ]
         }
        },
        {
         "name": "latitud",
         "dtype": "float64",
         "stats": {
          "unique_count": 5,
          "nan_count": 0,
          "min": "-9.958963271957163",
          "max": "14.27730463871065",
          "histogram": [
           {
            "bin_start": -9.958963271957163,
            "bin_end": -7.535336480890382,
            "count": 2
           },
           {
            "bin_start": -7.535336480890382,
            "bin_end": -5.1117096898236,
            "count": 1
           },
           {
            "bin_start": -5.1117096898236,
            "bin_end": -2.688082898756819,
            "count": 0
           },
           {
            "bin_start": -2.688082898756819,
            "bin_end": -0.26445610769003736,
            "count": 0
           },
           {
            "bin_start": -0.26445610769003736,
            "bin_end": 2.1591706833767432,
            "count": 0
           },
           {
            "bin_start": 2.1591706833767432,
            "bin_end": 4.582797474443526,
            "count": 0
           },
           {
            "bin_start": 4.582797474443526,
            "bin_end": 7.006424265510308,
            "count": 0
           },
           {
            "bin_start": 7.006424265510308,
            "bin_end": 9.430051056577089,
            "count": 1
           },
           {
            "bin_start": 9.430051056577089,
            "bin_end": 11.85367784764387,
            "count": 0
           },
           {
            "bin_start": 11.85367784764387,
            "bin_end": 14.27730463871065,
            "count": 1
           }
          ]
         }
        },
        {
         "name": "longitud",
         "dtype": "float64",
         "stats": {
          "unique_count": 5,
          "nan_count": 0,
          "min": "-5.958916636057363",
          "max": "6.969268386332312",
          "histogram": [
           {
            "bin_start": -5.958916636057363,
            "bin_end": -4.666098133818395,
            "count": 1
           },
           {
            "bin_start": -4.666098133818395,
            "bin_end": -3.3732796315794276,
            "count": 0
           },
           {
            "bin_start": -3.3732796315794276,
            "bin_end": -2.08046112934046,
            "count": 0
           },
           {
            "bin_start": -2.08046112934046,
            "bin_end": -0.7876426271014925,
            "count": 0
           },
           {
            "bin_start": -0.7876426271014925,
            "bin_end": 0.5051758751374749,
            "count": 1
           },
           {
            "bin_start": 0.5051758751374749,
            "bin_end": 1.797994377376443,
            "count": 1
           },
           {
            "bin_start": 1.797994377376443,
            "bin_end": 3.0908128796154104,
            "count": 1
           },
           {
            "bin_start": 3.0908128796154104,
            "bin_end": 4.383631381854378,
            "count": 0
           },
           {
            "bin_start": 4.383631381854378,
            "bin_end": 5.676449884093345,
            "count": 0
           },
           {
            "bin_start": 5.676449884093345,
            "bin_end": 6.969268386332312,
            "count": 1
           }
          ]
         }
        },
        {
         "name": "_deepnote_index_column",
         "dtype": "int64"
        }
       ],
       "rows_top": [
        {
         "codigo_de_usuario": 1,
         "producto_1": 0,
         "producto_2": 0,
         "producto_3": 0,
         "producto_4": 0,
         "latitud": 14.27730463871065,
         "longitud": -5.958916636057363,
         "_deepnote_index_column": 0
        },
        {
         "codigo_de_usuario": 2,
         "producto_1": 0,
         "producto_2": 0,
         "producto_3": 1,
         "producto_4": 0,
         "latitud": -9.958963271957163,
         "longitud": 1.0368392499231995,
         "_deepnote_index_column": 1
        },
        {
         "codigo_de_usuario": 3,
         "producto_1": 0,
         "producto_2": 0,
         "producto_3": 1,
         "producto_4": 0,
         "latitud": 7.859550506033528,
         "longitud": 1.932572138995532,
         "_deepnote_index_column": 2
        },
        {
         "codigo_de_usuario": 4,
         "producto_1": 1,
         "producto_2": 1,
         "producto_3": 1,
         "producto_4": 1,
         "latitud": -8.989975902841431,
         "longitud": 6.969268386332312,
         "_deepnote_index_column": 3
        },
        {
         "codigo_de_usuario": 5,
         "producto_1": 1,
         "producto_2": 0,
         "producto_3": 0,
         "producto_4": 0,
         "latitud": -6.641690046876498,
         "longitud": -0.7777590586162857,
         "_deepnote_index_column": 4
        }
       ],
       "rows_bottom": null
      },
      "text/plain": "   codigo_de_usuario  producto_1  producto_2  producto_3  producto_4  \\\n0                  1           0           0           0           0   \n1                  2           0           0           1           0   \n2                  3           0           0           1           0   \n3                  4           1           1           1           1   \n4                  5           1           0           0           0   \n\n     latitud  longitud  \n0  14.277305 -5.958917  \n1  -9.958963  1.036839  \n2   7.859551  1.932572  \n3  -8.989976  6.969268  \n4  -6.641690 -0.777759  ",
      "text/html": "<div>\n<style scoped>\n    .dataframe tbody tr th:only-of-type {\n        vertical-align: middle;\n    }\n\n    .dataframe tbody tr th {\n        vertical-align: top;\n    }\n\n    .dataframe thead th {\n        text-align: right;\n    }\n</style>\n<table border=\"1\" class=\"dataframe\">\n  <thead>\n    <tr style=\"text-align: right;\">\n      <th></th>\n      <th>codigo_de_usuario</th>\n      <th>producto_1</th>\n      <th>producto_2</th>\n      <th>producto_3</th>\n      <th>producto_4</th>\n      <th>latitud</th>\n      <th>longitud</th>\n    </tr>\n  </thead>\n  <tbody>\n    <tr>\n      <th>0</th>\n      <td>1</td>\n      <td>0</td>\n      <td>0</td>\n      <td>0</td>\n      <td>0</td>\n      <td>14.277305</td>\n      <td>-5.958917</td>\n    </tr>\n    <tr>\n      <th>1</th>\n      <td>2</td>\n      <td>0</td>\n      <td>0</td>\n      <td>1</td>\n      <td>0</td>\n      <td>-9.958963</td>\n      <td>1.036839</td>\n    </tr>\n    <tr>\n      <th>2</th>\n      <td>3</td>\n      <td>0</td>\n      <td>0</td>\n      <td>1</td>\n      <td>0</td>\n      <td>7.859551</td>\n      <td>1.932572</td>\n    </tr>\n    <tr>\n      <th>3</th>\n      <td>4</td>\n      <td>1</td>\n      <td>1</td>\n      <td>1</td>\n      <td>1</td>\n      <td>-8.989976</td>\n      <td>6.969268</td>\n    </tr>\n    <tr>\n      <th>4</th>\n      <td>5</td>\n      <td>1</td>\n      <td>0</td>\n      <td>0</td>\n      <td>0</td>\n      <td>-6.641690</td>\n      <td>-0.777759</td>\n    </tr>\n  </tbody>\n</table>\n</div>"
     },
     "metadata": {}
    }
   ],
   "execution_count": null
  },
  {
   "cell_type": "code",
   "source": "sns.scatterplot(data=df,x='latitud',y='longitud')",
   "metadata": {
    "tags": [],
    "cell_id": "00004-5cd946b3-3c4a-45d7-b16b-b63f36397bd7",
    "deepnote_to_be_reexecuted": false,
    "source_hash": "bd3966c3",
    "execution_start": 1632456037619,
    "execution_millis": 352,
    "deepnote_cell_type": "code"
   },
   "outputs": [
    {
     "output_type": "execute_result",
     "execution_count": 41,
     "data": {
      "text/plain": "<AxesSubplot:xlabel='latitud', ylabel='longitud'>"
     },
     "metadata": {}
    },
    {
     "data": {
      "text/plain": "<Figure size 432x288 with 1 Axes>",
      "image/png": "[encoded data removed]"
     },
     "metadata": {
      "needs_background": "light",
      "image/png": {
       "width": 391,
       "height": 262
      }
     },
     "output_type": "display_data"
    }
   ],
   "execution_count": null
  },
  {
   "cell_type": "code",
   "source": "k_means=KMeans(n_clusters=7,max_iter=10_000)\nk_means.fit(df[['latitud','longitud']])",
   "metadata": {
    "tags": [],
    "cell_id": "00005-e76e1661-4619-4ab7-9b73-9180f6a08c7b",
    "deepnote_to_be_reexecuted": false,
    "source_hash": "94231ad5",
    "execution_start": 1632456046645,
    "execution_millis": 111,
    "deepnote_cell_type": "code"
   },
   "outputs": [
    {
     "output_type": "execute_result",
     "execution_count": 42,
     "data": {
      "text/plain": "KMeans(max_iter=10000, n_clusters=7)"
     },
     "metadata": {}
    }
   ],
   "execution_count": null
  },
  {
   "cell_type": "code",
   "source": "centers = k_means.cluster_centers_\n",
   "metadata": {
    "tags": [],
    "cell_id": "00006-16df1d49-a0da-42fa-8627-b28fc35db9ff",
    "deepnote_to_be_reexecuted": false,
    "source_hash": "31fce5a7",
    "execution_start": 1632456048984,
    "execution_millis": 3,
    "deepnote_cell_type": "code"
   },
   "outputs": [],
   "execution_count": null
  },
  {
   "cell_type": "code",
   "source": "sns.scatterplot(df['latitud'],df['longitud'])\nsns.scatterplot(centers[:,0],centers[:,1],color='black',s=100)",
   "metadata": {
    "tags": [],
    "cell_id": "00006-edd210ec-64a2-4bb1-8fca-5441acc5438b",
    "deepnote_to_be_reexecuted": false,
    "source_hash": "8993eee9",
    "execution_start": 1632456051402,
    "execution_millis": 411,
    "deepnote_cell_type": "code"
   },
   "outputs": [
    {
     "name": "stderr",
     "text": "/shared-libs/python3.7/py/lib/python3.7/site-packages/seaborn/_decorators.py:43: FutureWarning: Pass the following variables as keyword args: x, y. From version 0.12, the only valid positional argument will be `data`, and passing other arguments without an explicit keyword will result in an error or misinterpretation.\n  FutureWarning\n/shared-libs/python3.7/py/lib/python3.7/site-packages/seaborn/_decorators.py:43: FutureWarning: Pass the following variables as keyword args: x, y. From version 0.12, the only valid positional argument will be `data`, and passing other arguments without an explicit keyword will result in an error or misinterpretation.\n  FutureWarning\n",
     "output_type": "stream"
    },
    {
     "output_type": "execute_result",
     "execution_count": 44,
     "data": {
      "text/plain": "<AxesSubplot:xlabel='latitud', ylabel='longitud'>"
     },
     "metadata": {}
    },
    {
     "data": {
      "text/plain": "<Figure size 432x288 with 1 Axes>",
      "image/png": "[encoded data removed]"
     },
     "metadata": {
      "needs_background": "light",
      "image/png": {
       "width": 391,
       "height": 262
      }
     },
     "output_type": "display_data"
    }
   ],
   "execution_count": null
  },
  {
   "cell_type": "code",
   "source": "fig = plt.figure()\nax = fig.add_subplot()\n\nclasificacion = k_means.predict(df[['latitud','longitud']])\n\nsns.scatterplot(df['latitud'],df['longitud'],hue=clasificacion,palette='rainbow',ax=ax)\nsns.scatterplot(centers[:,0],centers[:,1],color='black',s=100,ax=ax)\n#ax.get_legend().remove()",
   "metadata": {
    "tags": [],
    "cell_id": "00007-10027bab-6277-44ec-9df7-4f7374cccf20",
    "deepnote_to_be_reexecuted": false,
    "source_hash": "72f27d3e",
    "execution_start": 1632458200492,
    "execution_millis": 573,
    "deepnote_cell_type": "code"
   },
   "outputs": [
    {
     "name": "stderr",
     "text": "/shared-libs/python3.7/py/lib/python3.7/site-packages/seaborn/_decorators.py:43: FutureWarning: Pass the following variables as keyword args: x, y. From version 0.12, the only valid positional argument will be `data`, and passing other arguments without an explicit keyword will result in an error or misinterpretation.\n  FutureWarning\n/shared-libs/python3.7/py/lib/python3.7/site-packages/seaborn/_decorators.py:43: FutureWarning: Pass the following variables as keyword args: x, y. From version 0.12, the only valid positional argument will be `data`, and passing other arguments without an explicit keyword will result in an error or misinterpretation.\n  FutureWarning\n",
     "output_type": "stream"
    },
    {
     "output_type": "execute_result",
     "execution_count": 63,
     "data": {
      "text/plain": "<AxesSubplot:xlabel='latitud', ylabel='longitud'>"
     },
     "metadata": {}
    },
    {
     "data": {
      "text/plain": "<Figure size 432x288 with 1 Axes>",
      "image/png": "[encoded data removed]"
     },
     "metadata": {
      "needs_background": "light",
      "image/png": {
       "width": 391,
       "height": 262
      }
     },
     "output_type": "display_data"
    }
   ],
   "execution_count": null
  },
  {
   "cell_type": "code",
   "source": "df['clasificacion'] = clasificacion",
   "metadata": {
    "tags": [],
    "cell_id": "00009-efb5b7b0-294a-4925-9b44-781f53824192",
    "deepnote_to_be_reexecuted": false,
    "source_hash": "6220a2cc",
    "execution_start": 1632456067715,
    "execution_millis": 6,
    "deepnote_cell_type": "code"
   },
   "outputs": [],
   "execution_count": null
  },
  {
   "cell_type": "code",
   "source": "#8 a)\n#df['contador'] = 1\n#grouped_by_class = df.groupby('clasificacion')['contador'].sum()\nprint(grouped_by_class)\n\ndf['clasificacion'].value_counts()",
   "metadata": {
    "tags": [],
    "cell_id": "00010-1bd84345-5e04-43c8-a205-829385d499e3",
    "deepnote_to_be_reexecuted": false,
    "source_hash": "b587a88e",
    "execution_start": 1632456070699,
    "execution_millis": 8,
    "deepnote_cell_type": "code"
   },
   "outputs": [
    {
     "name": "stdout",
     "text": "clasificacion\n0    130\n1    110\n2     80\n3    113\n4    175\n5    141\nName: contador, dtype: int64\n",
     "output_type": "stream"
    },
    {
     "output_type": "execute_result",
     "execution_count": 47,
     "data": {
      "text/plain": "2    143\n6    131\n1    108\n4    104\n5    101\n0     84\n3     78\nName: clasificacion, dtype: int64"
     },
     "metadata": {}
    }
   ],
   "execution_count": null
  },
  {
   "cell_type": "code",
   "source": "tt = df['producto_'].sum()\ntt",
   "metadata": {
    "tags": [],
    "cell_id": "00011-cf6669f2-5f33-4616-a2c0-c324d06a8758",
    "deepnote_to_be_reexecuted": false,
    "source_hash": "1e72b75f",
    "execution_start": 1632457808302,
    "execution_millis": 125,
    "deepnote_cell_type": "code"
   },
   "outputs": [
    {
     "output_type": "error",
     "ename": "KeyError",
     "evalue": "'producto_5'",
     "traceback": [
      "\u001b[0;31m---------------------------------------------------------------------------\u001b[0m",
      "\u001b[0;31mKeyError\u001b[0m                                  Traceback (most recent call last)",
      "\u001b[0;32m/shared-libs/python3.7/py/lib/python3.7/site-packages/pandas/core/indexes/base.py\u001b[0m in \u001b[0;36mget_loc\u001b[0;34m(self, key, method, tolerance)\u001b[0m\n\u001b[1;32m   3080\u001b[0m             \u001b[0;32mtry\u001b[0m\u001b[0;34m:\u001b[0m\u001b[0;34m\u001b[0m\u001b[0;34m\u001b[0m\u001b[0m\n\u001b[0;32m-> 3081\u001b[0;31m                 \u001b[0;32mreturn\u001b[0m \u001b[0mself\u001b[0m\u001b[0;34m.\u001b[0m\u001b[0m_engine\u001b[0m\u001b[0;34m.\u001b[0m\u001b[0mget_loc\u001b[0m\u001b[0;34m(\u001b[0m\u001b[0mcasted_key\u001b[0m\u001b[0;34m)\u001b[0m\u001b[0;34m\u001b[0m\u001b[0;34m\u001b[0m\u001b[0m\n\u001b[0m\u001b[1;32m   3082\u001b[0m             \u001b[0;32mexcept\u001b[0m \u001b[0mKeyError\u001b[0m \u001b[0;32mas\u001b[0m \u001b[0merr\u001b[0m\u001b[0;34m:\u001b[0m\u001b[0;34m\u001b[0m\u001b[0;34m\u001b[0m\u001b[0m\n",
      "\u001b[0;32mpandas/_libs/index.pyx\u001b[0m in \u001b[0;36mpandas._libs.index.IndexEngine.get_loc\u001b[0;34m()\u001b[0m\n",
      "\u001b[0;32mpandas/_libs/index.pyx\u001b[0m in \u001b[0;36mpandas._libs.index.IndexEngine.get_loc\u001b[0;34m()\u001b[0m\n",
      "\u001b[0;32mpandas/_libs/hashtable_class_helper.pxi\u001b[0m in \u001b[0;36mpandas._libs.hashtable.PyObjectHashTable.get_item\u001b[0;34m()\u001b[0m\n",
      "\u001b[0;32mpandas/_libs/hashtable_class_helper.pxi\u001b[0m in \u001b[0;36mpandas._libs.hashtable.PyObjectHashTable.get_item\u001b[0;34m()\u001b[0m\n",
      "\u001b[0;31mKeyError\u001b[0m: 'producto_5'",
      "\nThe above exception was the direct cause of the following exception:\n",
      "\u001b[0;31mKeyError\u001b[0m                                  Traceback (most recent call last)",
      "\u001b[0;32m/tmp/ipykernel_967/2910028041.py\u001b[0m in \u001b[0;36m<module>\u001b[0;34m\u001b[0m\n\u001b[0;32m----> 1\u001b[0;31m \u001b[0mtt\u001b[0m \u001b[0;34m=\u001b[0m \u001b[0mdf\u001b[0m\u001b[0;34m[\u001b[0m\u001b[0;34m'producto_5'\u001b[0m\u001b[0;34m]\u001b[0m\u001b[0;34m.\u001b[0m\u001b[0msum\u001b[0m\u001b[0;34m(\u001b[0m\u001b[0;34m)\u001b[0m\u001b[0;34m\u001b[0m\u001b[0;34m\u001b[0m\u001b[0m\n\u001b[0m\u001b[1;32m      2\u001b[0m \u001b[0mtt\u001b[0m\u001b[0;34m\u001b[0m\u001b[0;34m\u001b[0m\u001b[0m\n",
      "\u001b[0;32m/shared-libs/python3.7/py/lib/python3.7/site-packages/pandas/core/frame.py\u001b[0m in \u001b[0;36m__getitem__\u001b[0;34m(self, key)\u001b[0m\n\u001b[1;32m   3022\u001b[0m             \u001b[0;32mif\u001b[0m \u001b[0mself\u001b[0m\u001b[0;34m.\u001b[0m\u001b[0mcolumns\u001b[0m\u001b[0;34m.\u001b[0m\u001b[0mnlevels\u001b[0m \u001b[0;34m>\u001b[0m \u001b[0;36m1\u001b[0m\u001b[0;34m:\u001b[0m\u001b[0;34m\u001b[0m\u001b[0;34m\u001b[0m\u001b[0m\n\u001b[1;32m   3023\u001b[0m                 \u001b[0;32mreturn\u001b[0m \u001b[0mself\u001b[0m\u001b[0;34m.\u001b[0m\u001b[0m_getitem_multilevel\u001b[0m\u001b[0;34m(\u001b[0m\u001b[0mkey\u001b[0m\u001b[0;34m)\u001b[0m\u001b[0;34m\u001b[0m\u001b[0;34m\u001b[0m\u001b[0m\n\u001b[0;32m-> 3024\u001b[0;31m             \u001b[0mindexer\u001b[0m \u001b[0;34m=\u001b[0m \u001b[0mself\u001b[0m\u001b[0;34m.\u001b[0m\u001b[0mcolumns\u001b[0m\u001b[0;34m.\u001b[0m\u001b[0mget_loc\u001b[0m\u001b[0;34m(\u001b[0m\u001b[0mkey\u001b[0m\u001b[0;34m)\u001b[0m\u001b[0;34m\u001b[0m\u001b[0;34m\u001b[0m\u001b[0m\n\u001b[0m\u001b[1;32m   3025\u001b[0m             \u001b[0;32mif\u001b[0m \u001b[0mis_integer\u001b[0m\u001b[0;34m(\u001b[0m\u001b[0mindexer\u001b[0m\u001b[0;34m)\u001b[0m\u001b[0;34m:\u001b[0m\u001b[0;34m\u001b[0m\u001b[0;34m\u001b[0m\u001b[0m\n\u001b[1;32m   3026\u001b[0m                 \u001b[0mindexer\u001b[0m \u001b[0;34m=\u001b[0m \u001b[0;34m[\u001b[0m\u001b[0mindexer\u001b[0m\u001b[0;34m]\u001b[0m\u001b[0;34m\u001b[0m\u001b[0;34m\u001b[0m\u001b[0m\n",
      "\u001b[0;32m/shared-libs/python3.7/py/lib/python3.7/site-packages/pandas/core/indexes/base.py\u001b[0m in \u001b[0;36mget_loc\u001b[0;34m(self, key, method, tolerance)\u001b[0m\n\u001b[1;32m   3081\u001b[0m                 \u001b[0;32mreturn\u001b[0m \u001b[0mself\u001b[0m\u001b[0;34m.\u001b[0m\u001b[0m_engine\u001b[0m\u001b[0;34m.\u001b[0m\u001b[0mget_loc\u001b[0m\u001b[0;34m(\u001b[0m\u001b[0mcasted_key\u001b[0m\u001b[0;34m)\u001b[0m\u001b[0;34m\u001b[0m\u001b[0;34m\u001b[0m\u001b[0m\n\u001b[1;32m   3082\u001b[0m             \u001b[0;32mexcept\u001b[0m \u001b[0mKeyError\u001b[0m \u001b[0;32mas\u001b[0m \u001b[0merr\u001b[0m\u001b[0;34m:\u001b[0m\u001b[0;34m\u001b[0m\u001b[0;34m\u001b[0m\u001b[0m\n\u001b[0;32m-> 3083\u001b[0;31m                 \u001b[0;32mraise\u001b[0m \u001b[0mKeyError\u001b[0m\u001b[0;34m(\u001b[0m\u001b[0mkey\u001b[0m\u001b[0;34m)\u001b[0m \u001b[0;32mfrom\u001b[0m \u001b[0merr\u001b[0m\u001b[0;34m\u001b[0m\u001b[0;34m\u001b[0m\u001b[0m\n\u001b[0m\u001b[1;32m   3084\u001b[0m \u001b[0;34m\u001b[0m\u001b[0m\n\u001b[1;32m   3085\u001b[0m         \u001b[0;32mif\u001b[0m \u001b[0mtolerance\u001b[0m \u001b[0;32mis\u001b[0m \u001b[0;32mnot\u001b[0m \u001b[0;32mNone\u001b[0m\u001b[0;34m:\u001b[0m\u001b[0;34m\u001b[0m\u001b[0;34m\u001b[0m\u001b[0m\n",
      "\u001b[0;31mKeyError\u001b[0m: 'producto_5'"
     ]
    }
   ],
   "execution_count": null
  },
  {
   "cell_type": "code",
   "source": "#8 b)\ngrouped_by_product = df.groupby('clasificacion')[['producto_1','producto_2','producto_3','producto_4']].sum()\ngrouped_by_product",
   "metadata": {
    "tags": [],
    "cell_id": "00011-6e07a320-3e31-413e-998e-eba8adf730cd",
    "deepnote_to_be_reexecuted": false,
    "source_hash": "a7088406",
    "execution_start": 1632449740259,
    "execution_millis": 22,
    "deepnote_cell_type": "code"
   },
   "outputs": [
    {
     "output_type": "execute_result",
     "execution_count": 19,
     "data": {
      "application/vnd.deepnote.dataframe.v2+json": {
       "row_count": 6,
       "column_count": 4,
       "columns": [
        {
         "name": "producto_1",
         "dtype": "int64",
         "stats": {
          "unique_count": 6,
          "nan_count": 0,
          "min": "55",
          "max": "125",
          "histogram": [
           {
            "bin_start": 55,
            "bin_end": 62,
            "count": 2
           },
           {
            "bin_start": 62,
            "bin_end": 69,
            "count": 0
           },
           {
            "bin_start": 69,
            "bin_end": 76,
            "count": 0
           },
           {
            "bin_start": 76,
            "bin_end": 83,
            "count": 0
           },
           {
            "bin_start": 83,
            "bin_end": 90,
            "count": 1
           },
           {
            "bin_start": 90,
            "bin_end": 97,
            "count": 2
           },
           {
            "bin_start": 97,
            "bin_end": 104,
            "count": 0
           },
           {
            "bin_start": 104,
            "bin_end": 111,
            "count": 0
           },
           {
            "bin_start": 111,
            "bin_end": 118,
            "count": 0
           },
           {
            "bin_start": 118,
            "bin_end": 125,
            "count": 1
           }
          ]
         }
        },
        {
         "name": "producto_2",
         "dtype": "int64",
         "stats": {
          "unique_count": 4,
          "nan_count": 0,
          "min": "5",
          "max": "17",
          "histogram": [
           {
            "bin_start": 5,
            "bin_end": 6.2,
            "count": 1
           },
           {
            "bin_start": 6.2,
            "bin_end": 7.4,
            "count": 0
           },
           {
            "bin_start": 7.4,
            "bin_end": 8.6,
            "count": 0
           },
           {
            "bin_start": 8.6,
            "bin_end": 9.8,
            "count": 0
           },
           {
            "bin_start": 9.8,
            "bin_end": 11,
            "count": 1
           },
           {
            "bin_start": 11,
            "bin_end": 12.2,
            "count": 0
           },
           {
            "bin_start": 12.2,
            "bin_end": 13.4,
            "count": 0
           },
           {
            "bin_start": 13.4,
            "bin_end": 14.6,
            "count": 2
           },
           {
            "bin_start": 14.6,
            "bin_end": 15.799999999999999,
            "count": 0
           },
           {
            "bin_start": 15.799999999999999,
            "bin_end": 17,
            "count": 2
           }
          ]
         }
        },
        {
         "name": "producto_3",
         "dtype": "int64",
         "stats": {
          "unique_count": 4,
          "nan_count": 0,
          "min": "41",
          "max": "88",
          "histogram": [
           {
            "bin_start": 41,
            "bin_end": 45.7,
            "count": 1
           },
           {
            "bin_start": 45.7,
            "bin_end": 50.4,
            "count": 0
           },
           {
            "bin_start": 50.4,
            "bin_end": 55.1,
            "count": 0
           },
           {
            "bin_start": 55.1,
            "bin_end": 59.8,
            "count": 0
           },
           {
            "bin_start": 59.8,
            "bin_end": 64.5,
            "count": 3
           },
           {
            "bin_start": 64.5,
            "bin_end": 69.2,
            "count": 1
           },
           {
            "bin_start": 69.2,
            "bin_end": 73.9,
            "count": 0
           },
           {
            "bin_start": 73.9,
            "bin_end": 78.6,
            "count": 0
           },
           {
            "bin_start": 78.6,
            "bin_end": 83.30000000000001,
            "count": 0
           },
           {
            "bin_start": 83.30000000000001,
            "bin_end": 88,
            "count": 1
           }
          ]
         }
        },
        {
         "name": "producto_4",
         "dtype": "int64",
         "stats": {
          "unique_count": 6,
          "nan_count": 0,
          "min": "16",
          "max": "40",
          "histogram": [
           {
            "bin_start": 16,
            "bin_end": 18.4,
            "count": 1
           },
           {
            "bin_start": 18.4,
            "bin_end": 20.8,
            "count": 1
           },
           {
            "bin_start": 20.8,
            "bin_end": 23.2,
            "count": 2
           },
           {
            "bin_start": 23.2,
            "bin_end": 25.6,
            "count": 0
           },
           {
            "bin_start": 25.6,
            "bin_end": 28,
            "count": 1
           },
           {
            "bin_start": 28,
            "bin_end": 30.4,
            "count": 0
           },
           {
            "bin_start": 30.4,
            "bin_end": 32.8,
            "count": 0
           },
           {
            "bin_start": 32.8,
            "bin_end": 35.2,
            "count": 0
           },
           {
            "bin_start": 35.2,
            "bin_end": 37.599999999999994,
            "count": 0
           },
           {
            "bin_start": 37.599999999999994,
            "bin_end": 40,
            "count": 1
           }
          ]
         }
        },
        {
         "name": "_deepnote_index_column",
         "dtype": "int64"
        }
       ],
       "rows_top": [
        {
         "producto_1": 90,
         "producto_2": 17,
         "producto_3": 63,
         "producto_4": 21,
         "_deepnote_index_column": 0
        },
        {
         "producto_1": 86,
         "producto_2": 5,
         "producto_3": 63,
         "producto_4": 16,
         "_deepnote_index_column": 1
        },
        {
         "producto_1": 55,
         "producto_2": 10,
         "producto_3": 41,
         "producto_4": 19,
         "_deepnote_index_column": 2
        },
        {
         "producto_1": 61,
         "producto_2": 14,
         "producto_3": 66,
         "producto_4": 22,
         "_deepnote_index_column": 3
        },
        {
         "producto_1": 125,
         "producto_2": 17,
         "producto_3": 88,
         "producto_4": 40,
         "_deepnote_index_column": 4
        },
        {
         "producto_1": 93,
         "producto_2": 14,
         "producto_3": 63,
         "producto_4": 27,
         "_deepnote_index_column": 5
        }
       ],
       "rows_bottom": null
      },
      "text/plain": "               producto_1  producto_2  producto_3  producto_4\nclasificacion                                                \n0                      90          17          63          21\n1                      86           5          63          16\n2                      55          10          41          19\n3                      61          14          66          22\n4                     125          17          88          40\n5                      93          14          63          27",
      "text/html": "<div>\n<style scoped>\n    .dataframe tbody tr th:only-of-type {\n        vertical-align: middle;\n    }\n\n    .dataframe tbody tr th {\n        vertical-align: top;\n    }\n\n    .dataframe thead th {\n        text-align: right;\n    }\n</style>\n<table border=\"1\" class=\"dataframe\">\n  <thead>\n    <tr style=\"text-align: right;\">\n      <th></th>\n      <th>producto_1</th>\n      <th>producto_2</th>\n      <th>producto_3</th>\n      <th>producto_4</th>\n    </tr>\n    <tr>\n      <th>clasificacion</th>\n      <th></th>\n      <th></th>\n      <th></th>\n      <th></th>\n    </tr>\n  </thead>\n  <tbody>\n    <tr>\n      <th>0</th>\n      <td>90</td>\n      <td>17</td>\n      <td>63</td>\n      <td>21</td>\n    </tr>\n    <tr>\n      <th>1</th>\n      <td>86</td>\n      <td>5</td>\n      <td>63</td>\n      <td>16</td>\n    </tr>\n    <tr>\n      <th>2</th>\n      <td>55</td>\n      <td>10</td>\n      <td>41</td>\n      <td>19</td>\n    </tr>\n    <tr>\n      <th>3</th>\n      <td>61</td>\n      <td>14</td>\n      <td>66</td>\n      <td>22</td>\n    </tr>\n    <tr>\n      <th>4</th>\n      <td>125</td>\n      <td>17</td>\n      <td>88</td>\n      <td>40</td>\n    </tr>\n    <tr>\n      <th>5</th>\n      <td>93</td>\n      <td>14</td>\n      <td>63</td>\n      <td>27</td>\n    </tr>\n  </tbody>\n</table>\n</div>"
     },
     "metadata": {}
    }
   ],
   "execution_count": null
  },
  {
   "cell_type": "code",
   "source": "grouped_by_product",
   "metadata": {
    "tags": [],
    "cell_id": "00012-dca37114-d79d-4c55-89a5-b1923c7eb7af",
    "deepnote_to_be_reexecuted": false,
    "source_hash": "acea6eae",
    "execution_start": 1632458092526,
    "execution_millis": 15,
    "deepnote_cell_type": "code"
   },
   "outputs": [
    {
     "output_type": "execute_result",
     "execution_count": 62,
     "data": {
      "application/vnd.deepnote.dataframe.v2+json": {
       "row_count": 6,
       "column_count": 5,
       "columns": [
        {
         "name": "producto_1",
         "dtype": "int64",
         "stats": {
          "unique_count": 6,
          "nan_count": 0,
          "min": "55",
          "max": "125",
          "histogram": [
           {
            "bin_start": 55,
            "bin_end": 62,
            "count": 2
           },
           {
            "bin_start": 62,
            "bin_end": 69,
            "count": 0
           },
           {
            "bin_start": 69,
            "bin_end": 76,
            "count": 0
           },
           {
            "bin_start": 76,
            "bin_end": 83,
            "count": 0
           },
           {
            "bin_start": 83,
            "bin_end": 90,
            "count": 1
           },
           {
            "bin_start": 90,
            "bin_end": 97,
            "count": 2
           },
           {
            "bin_start": 97,
            "bin_end": 104,
            "count": 0
           },
           {
            "bin_start": 104,
            "bin_end": 111,
            "count": 0
           },
           {
            "bin_start": 111,
            "bin_end": 118,
            "count": 0
           },
           {
            "bin_start": 118,
            "bin_end": 125,
            "count": 1
           }
          ]
         }
        },
        {
         "name": "producto_2",
         "dtype": "int64",
         "stats": {
          "unique_count": 4,
          "nan_count": 0,
          "min": "5",
          "max": "17",
          "histogram": [
           {
            "bin_start": 5,
            "bin_end": 6.2,
            "count": 1
           },
           {
            "bin_start": 6.2,
            "bin_end": 7.4,
            "count": 0
           },
           {
            "bin_start": 7.4,
            "bin_end": 8.6,
            "count": 0
           },
           {
            "bin_start": 8.6,
            "bin_end": 9.8,
            "count": 0
           },
           {
            "bin_start": 9.8,
            "bin_end": 11,
            "count": 1
           },
           {
            "bin_start": 11,
            "bin_end": 12.2,
            "count": 0
           },
           {
            "bin_start": 12.2,
            "bin_end": 13.4,
            "count": 0
           },
           {
            "bin_start": 13.4,
            "bin_end": 14.6,
            "count": 2
           },
           {
            "bin_start": 14.6,
            "bin_end": 15.799999999999999,
            "count": 0
           },
           {
            "bin_start": 15.799999999999999,
            "bin_end": 17,
            "count": 2
           }
          ]
         }
        },
        {
         "name": "producto_3",
         "dtype": "int64",
         "stats": {
          "unique_count": 4,
          "nan_count": 0,
          "min": "41",
          "max": "88",
          "histogram": [
           {
            "bin_start": 41,
            "bin_end": 45.7,
            "count": 1
           },
           {
            "bin_start": 45.7,
            "bin_end": 50.4,
            "count": 0
           },
           {
            "bin_start": 50.4,
            "bin_end": 55.1,
            "count": 0
           },
           {
            "bin_start": 55.1,
            "bin_end": 59.8,
            "count": 0
           },
           {
            "bin_start": 59.8,
            "bin_end": 64.5,
            "count": 3
           },
           {
            "bin_start": 64.5,
            "bin_end": 69.2,
            "count": 1
           },
           {
            "bin_start": 69.2,
            "bin_end": 73.9,
            "count": 0
           },
           {
            "bin_start": 73.9,
            "bin_end": 78.6,
            "count": 0
           },
           {
            "bin_start": 78.6,
            "bin_end": 83.30000000000001,
            "count": 0
           },
           {
            "bin_start": 83.30000000000001,
            "bin_end": 88,
            "count": 1
           }
          ]
         }
        },
        {
         "name": "producto_4",
         "dtype": "int64",
         "stats": {
          "unique_count": 6,
          "nan_count": 0,
          "min": "16",
          "max": "40",
          "histogram": [
           {
            "bin_start": 16,
            "bin_end": 18.4,
            "count": 1
           },
           {
            "bin_start": 18.4,
            "bin_end": 20.8,
            "count": 1
           },
           {
            "bin_start": 20.8,
            "bin_end": 23.2,
            "count": 2
           },
           {
            "bin_start": 23.2,
            "bin_end": 25.6,
            "count": 0
           },
           {
            "bin_start": 25.6,
            "bin_end": 28,
            "count": 1
           },
           {
            "bin_start": 28,
            "bin_end": 30.4,
            "count": 0
           },
           {
            "bin_start": 30.4,
            "bin_end": 32.8,
            "count": 0
           },
           {
            "bin_start": 32.8,
            "bin_end": 35.2,
            "count": 0
           },
           {
            "bin_start": 35.2,
            "bin_end": 37.599999999999994,
            "count": 0
           },
           {
            "bin_start": 37.599999999999994,
            "bin_end": 40,
            "count": 1
           }
          ]
         }
        },
        {
         "name": "total",
         "dtype": "int64",
         "stats": {
          "unique_count": 6,
          "nan_count": 0,
          "min": "125",
          "max": "270",
          "histogram": [
           {
            "bin_start": 125,
            "bin_end": 139.5,
            "count": 1
           },
           {
            "bin_start": 139.5,
            "bin_end": 154,
            "count": 0
           },
           {
            "bin_start": 154,
            "bin_end": 168.5,
            "count": 1
           },
           {
            "bin_start": 168.5,
            "bin_end": 183,
            "count": 1
           },
           {
            "bin_start": 183,
            "bin_end": 197.5,
            "count": 2
           },
           {
            "bin_start": 197.5,
            "bin_end": 212,
            "count": 0
           },
           {
            "bin_start": 212,
            "bin_end": 226.5,
            "count": 0
           },
           {
            "bin_start": 226.5,
            "bin_end": 241,
            "count": 0
           },
           {
            "bin_start": 241,
            "bin_end": 255.5,
            "count": 0
           },
           {
            "bin_start": 255.5,
            "bin_end": 270,
            "count": 1
           }
          ]
         }
        },
        {
         "name": "_deepnote_index_column",
         "dtype": "int64"
        }
       ],
       "rows_top": [
        {
         "producto_1": 90,
         "producto_2": 17,
         "producto_3": 63,
         "producto_4": 21,
         "total": 191,
         "_deepnote_index_column": 0
        },
        {
         "producto_1": 86,
         "producto_2": 5,
         "producto_3": 63,
         "producto_4": 16,
         "total": 170,
         "_deepnote_index_column": 1
        },
        {
         "producto_1": 55,
         "producto_2": 10,
         "producto_3": 41,
         "producto_4": 19,
         "total": 125,
         "_deepnote_index_column": 2
        },
        {
         "producto_1": 61,
         "producto_2": 14,
         "producto_3": 66,
         "producto_4": 22,
         "total": 163,
         "_deepnote_index_column": 3
        },
        {
         "producto_1": 125,
         "producto_2": 17,
         "producto_3": 88,
         "producto_4": 40,
         "total": 270,
         "_deepnote_index_column": 4
        },
        {
         "producto_1": 93,
         "producto_2": 14,
         "producto_3": 63,
         "producto_4": 27,
         "total": 197,
         "_deepnote_index_column": 5
        }
       ],
       "rows_bottom": null
      },
      "text/plain": "               producto_1  producto_2  producto_3  producto_4  total\nclasificacion                                                       \n0                      90          17          63          21    191\n1                      86           5          63          16    170\n2                      55          10          41          19    125\n3                      61          14          66          22    163\n4                     125          17          88          40    270\n5                      93          14          63          27    197",
      "text/html": "<div>\n<style scoped>\n    .dataframe tbody tr th:only-of-type {\n        vertical-align: middle;\n    }\n\n    .dataframe tbody tr th {\n        vertical-align: top;\n    }\n\n    .dataframe thead th {\n        text-align: right;\n    }\n</style>\n<table border=\"1\" class=\"dataframe\">\n  <thead>\n    <tr style=\"text-align: right;\">\n      <th></th>\n      <th>producto_1</th>\n      <th>producto_2</th>\n      <th>producto_3</th>\n      <th>producto_4</th>\n      <th>total</th>\n    </tr>\n    <tr>\n      <th>clasificacion</th>\n      <th></th>\n      <th></th>\n      <th></th>\n      <th></th>\n      <th></th>\n    </tr>\n  </thead>\n  <tbody>\n    <tr>\n      <th>0</th>\n      <td>90</td>\n      <td>17</td>\n      <td>63</td>\n      <td>21</td>\n      <td>191</td>\n    </tr>\n    <tr>\n      <th>1</th>\n      <td>86</td>\n      <td>5</td>\n      <td>63</td>\n      <td>16</td>\n      <td>170</td>\n    </tr>\n    <tr>\n      <th>2</th>\n      <td>55</td>\n      <td>10</td>\n      <td>41</td>\n      <td>19</td>\n      <td>125</td>\n    </tr>\n    <tr>\n      <th>3</th>\n      <td>61</td>\n      <td>14</td>\n      <td>66</td>\n      <td>22</td>\n      <td>163</td>\n    </tr>\n    <tr>\n      <th>4</th>\n      <td>125</td>\n      <td>17</td>\n      <td>88</td>\n      <td>40</td>\n      <td>270</td>\n    </tr>\n    <tr>\n      <th>5</th>\n      <td>93</td>\n      <td>14</td>\n      <td>63</td>\n      <td>27</td>\n      <td>197</td>\n    </tr>\n  </tbody>\n</table>\n</div>"
     },
     "metadata": {}
    }
   ],
   "execution_count": null
  },
  {
   "cell_type": "code",
   "source": "#grouped_by_product['total'] = grouped_by_product['producto_1'] + grouped_by_product['producto_2'] + grouped_by_product['producto_3'] + grouped_by_product['producto_4']\ngrouped_by_product = grouped_by_product.drop(columns='total')",
   "metadata": {
    "tags": [],
    "cell_id": "00012-ded4269c-e634-46d0-a1ea-c966ea12567c",
    "deepnote_to_be_reexecuted": false,
    "source_hash": "b418e565",
    "execution_start": 1632458872996,
    "execution_millis": 1,
    "deepnote_cell_type": "code"
   },
   "outputs": [],
   "execution_count": null
  },
  {
   "cell_type": "code",
   "source": "sns.displot(data=df,x='clasificacion',binwidth=1)",
   "metadata": {
    "tags": [],
    "cell_id": "00012-fda3250d-965d-4357-a518-6d0606935804",
    "deepnote_to_be_reexecuted": false,
    "source_hash": "25a65521",
    "execution_start": 1632457949401,
    "execution_millis": 434,
    "deepnote_cell_type": "code"
   },
   "outputs": [
    {
     "output_type": "execute_result",
     "execution_count": 59,
     "data": {
      "text/plain": "<seaborn.axisgrid.FacetGrid at 0x7fb63706cbd0>"
     },
     "metadata": {}
    },
    {
     "data": {
      "text/plain": "<Figure size 360x360 with 1 Axes>",
      "image/png": "[encoded data removed]"
     },
     "metadata": {
      "needs_background": "light",
      "image/png": {
       "width": 352,
       "height": 352
      }
     },
     "output_type": "display_data"
    }
   ],
   "execution_count": null
  },
  {
   "cell_type": "code",
   "source": "sns.displot(data=df,x='clasificacion',hue='total',palette='rainbow',multiple='stack',bins=1)",
   "metadata": {
    "tags": [],
    "cell_id": "00013-d087775a-9f29-481f-8e74-b2d70d276969",
    "deepnote_to_be_reexecuted": false,
    "source_hash": "b6d916d5",
    "execution_start": 1632455824212,
    "execution_millis": 85,
    "deepnote_cell_type": "code"
   },
   "outputs": [
    {
     "output_type": "error",
     "ename": "ValueError",
     "evalue": "Could not interpret value `total` for parameter `hue`",
     "traceback": [
      "\u001b[0;31m---------------------------------------------------------------------------\u001b[0m",
      "\u001b[0;31mValueError\u001b[0m                                Traceback (most recent call last)",
      "\u001b[0;32m/tmp/ipykernel_967/1775629919.py\u001b[0m in \u001b[0;36m<module>\u001b[0;34m\u001b[0m\n\u001b[0;32m----> 1\u001b[0;31m \u001b[0msns\u001b[0m\u001b[0;34m.\u001b[0m\u001b[0mdisplot\u001b[0m\u001b[0;34m(\u001b[0m\u001b[0mdata\u001b[0m\u001b[0;34m=\u001b[0m\u001b[0mdf\u001b[0m\u001b[0;34m,\u001b[0m\u001b[0mx\u001b[0m\u001b[0;34m=\u001b[0m\u001b[0;34m'clasificacion'\u001b[0m\u001b[0;34m,\u001b[0m\u001b[0mhue\u001b[0m\u001b[0;34m=\u001b[0m\u001b[0;34m'total'\u001b[0m\u001b[0;34m,\u001b[0m\u001b[0mpalette\u001b[0m\u001b[0;34m=\u001b[0m\u001b[0;34m'rainbow'\u001b[0m\u001b[0;34m,\u001b[0m\u001b[0mmultiple\u001b[0m\u001b[0;34m=\u001b[0m\u001b[0;34m'stack'\u001b[0m\u001b[0;34m,\u001b[0m\u001b[0mbins\u001b[0m\u001b[0;34m=\u001b[0m\u001b[0;36m1\u001b[0m\u001b[0;34m)\u001b[0m\u001b[0;34m\u001b[0m\u001b[0;34m\u001b[0m\u001b[0m\n\u001b[0m",
      "\u001b[0;32m/shared-libs/python3.7/py/lib/python3.7/site-packages/seaborn/distributions.py\u001b[0m in \u001b[0;36mdisplot\u001b[0;34m(data, x, y, hue, row, col, weights, kind, rug, rug_kws, log_scale, legend, palette, hue_order, hue_norm, color, col_wrap, row_order, col_order, height, aspect, facet_kws, **kwargs)\u001b[0m\n\u001b[1;32m   2194\u001b[0m     p = _DistributionFacetPlotter(\n\u001b[1;32m   2195\u001b[0m         \u001b[0mdata\u001b[0m\u001b[0;34m=\u001b[0m\u001b[0mdata\u001b[0m\u001b[0;34m,\u001b[0m\u001b[0;34m\u001b[0m\u001b[0;34m\u001b[0m\u001b[0m\n\u001b[0;32m-> 2196\u001b[0;31m         \u001b[0mvariables\u001b[0m\u001b[0;34m=\u001b[0m\u001b[0m_DistributionFacetPlotter\u001b[0m\u001b[0;34m.\u001b[0m\u001b[0mget_semantics\u001b[0m\u001b[0;34m(\u001b[0m\u001b[0mlocals\u001b[0m\u001b[0;34m(\u001b[0m\u001b[0;34m)\u001b[0m\u001b[0;34m)\u001b[0m\u001b[0;34m\u001b[0m\u001b[0;34m\u001b[0m\u001b[0m\n\u001b[0m\u001b[1;32m   2197\u001b[0m     )\n\u001b[1;32m   2198\u001b[0m \u001b[0;34m\u001b[0m\u001b[0m\n",
      "\u001b[0;32m/shared-libs/python3.7/py/lib/python3.7/site-packages/seaborn/distributions.py\u001b[0m in \u001b[0;36m__init__\u001b[0;34m(self, data, variables)\u001b[0m\n\u001b[1;32m    109\u001b[0m     ):\n\u001b[1;32m    110\u001b[0m \u001b[0;34m\u001b[0m\u001b[0m\n\u001b[0;32m--> 111\u001b[0;31m         \u001b[0msuper\u001b[0m\u001b[0;34m(\u001b[0m\u001b[0;34m)\u001b[0m\u001b[0;34m.\u001b[0m\u001b[0m__init__\u001b[0m\u001b[0;34m(\u001b[0m\u001b[0mdata\u001b[0m\u001b[0;34m=\u001b[0m\u001b[0mdata\u001b[0m\u001b[0;34m,\u001b[0m \u001b[0mvariables\u001b[0m\u001b[0;34m=\u001b[0m\u001b[0mvariables\u001b[0m\u001b[0;34m)\u001b[0m\u001b[0;34m\u001b[0m\u001b[0;34m\u001b[0m\u001b[0m\n\u001b[0m\u001b[1;32m    112\u001b[0m \u001b[0;34m\u001b[0m\u001b[0m\n\u001b[1;32m    113\u001b[0m     \u001b[0;34m@\u001b[0m\u001b[0mproperty\u001b[0m\u001b[0;34m\u001b[0m\u001b[0;34m\u001b[0m\u001b[0m\n",
      "\u001b[0;32m/shared-libs/python3.7/py/lib/python3.7/site-packages/seaborn/_core.py\u001b[0m in \u001b[0;36m__init__\u001b[0;34m(self, data, variables)\u001b[0m\n\u001b[1;32m    603\u001b[0m     \u001b[0;32mdef\u001b[0m \u001b[0m__init__\u001b[0m\u001b[0;34m(\u001b[0m\u001b[0mself\u001b[0m\u001b[0;34m,\u001b[0m \u001b[0mdata\u001b[0m\u001b[0;34m=\u001b[0m\u001b[0;32mNone\u001b[0m\u001b[0;34m,\u001b[0m \u001b[0mvariables\u001b[0m\u001b[0;34m=\u001b[0m\u001b[0;34m{\u001b[0m\u001b[0;34m}\u001b[0m\u001b[0;34m)\u001b[0m\u001b[0;34m:\u001b[0m\u001b[0;34m\u001b[0m\u001b[0;34m\u001b[0m\u001b[0m\n\u001b[1;32m    604\u001b[0m \u001b[0;34m\u001b[0m\u001b[0m\n\u001b[0;32m--> 605\u001b[0;31m         \u001b[0mself\u001b[0m\u001b[0;34m.\u001b[0m\u001b[0massign_variables\u001b[0m\u001b[0;34m(\u001b[0m\u001b[0mdata\u001b[0m\u001b[0;34m,\u001b[0m \u001b[0mvariables\u001b[0m\u001b[0;34m)\u001b[0m\u001b[0;34m\u001b[0m\u001b[0;34m\u001b[0m\u001b[0m\n\u001b[0m\u001b[1;32m    606\u001b[0m \u001b[0;34m\u001b[0m\u001b[0m\n\u001b[1;32m    607\u001b[0m         \u001b[0;32mfor\u001b[0m \u001b[0mvar\u001b[0m\u001b[0;34m,\u001b[0m \u001b[0mcls\u001b[0m \u001b[0;32min\u001b[0m \u001b[0mself\u001b[0m\u001b[0;34m.\u001b[0m\u001b[0m_semantic_mappings\u001b[0m\u001b[0;34m.\u001b[0m\u001b[0mitems\u001b[0m\u001b[0;34m(\u001b[0m\u001b[0;34m)\u001b[0m\u001b[0;34m:\u001b[0m\u001b[0;34m\u001b[0m\u001b[0;34m\u001b[0m\u001b[0m\n",
      "\u001b[0;32m/shared-libs/python3.7/py/lib/python3.7/site-packages/seaborn/_core.py\u001b[0m in \u001b[0;36massign_variables\u001b[0;34m(self, data, variables)\u001b[0m\n\u001b[1;32m    667\u001b[0m             \u001b[0mself\u001b[0m\u001b[0;34m.\u001b[0m\u001b[0minput_format\u001b[0m \u001b[0;34m=\u001b[0m \u001b[0;34m\"long\"\u001b[0m\u001b[0;34m\u001b[0m\u001b[0;34m\u001b[0m\u001b[0m\n\u001b[1;32m    668\u001b[0m             plot_data, variables = self._assign_variables_longform(\n\u001b[0;32m--> 669\u001b[0;31m                 \u001b[0mdata\u001b[0m\u001b[0;34m,\u001b[0m \u001b[0;34m**\u001b[0m\u001b[0mvariables\u001b[0m\u001b[0;34m,\u001b[0m\u001b[0;34m\u001b[0m\u001b[0;34m\u001b[0m\u001b[0m\n\u001b[0m\u001b[1;32m    670\u001b[0m             )\n\u001b[1;32m    671\u001b[0m \u001b[0;34m\u001b[0m\u001b[0m\n",
      "\u001b[0;32m/shared-libs/python3.7/py/lib/python3.7/site-packages/seaborn/_core.py\u001b[0m in \u001b[0;36m_assign_variables_longform\u001b[0;34m(self, data, **kwargs)\u001b[0m\n\u001b[1;32m    901\u001b[0m \u001b[0;34m\u001b[0m\u001b[0m\n\u001b[1;32m    902\u001b[0m                 \u001b[0merr\u001b[0m \u001b[0;34m=\u001b[0m \u001b[0;34mf\"Could not interpret value `{val}` for parameter `{key}`\"\u001b[0m\u001b[0;34m\u001b[0m\u001b[0;34m\u001b[0m\u001b[0m\n\u001b[0;32m--> 903\u001b[0;31m                 \u001b[0;32mraise\u001b[0m \u001b[0mValueError\u001b[0m\u001b[0;34m(\u001b[0m\u001b[0merr\u001b[0m\u001b[0;34m)\u001b[0m\u001b[0;34m\u001b[0m\u001b[0;34m\u001b[0m\u001b[0m\n\u001b[0m\u001b[1;32m    904\u001b[0m \u001b[0;34m\u001b[0m\u001b[0m\n\u001b[1;32m    905\u001b[0m             \u001b[0;32melse\u001b[0m\u001b[0;34m:\u001b[0m\u001b[0;34m\u001b[0m\u001b[0;34m\u001b[0m\u001b[0m\n",
      "\u001b[0;31mValueError\u001b[0m: Could not interpret value `total` for parameter `hue`"
     ]
    }
   ],
   "execution_count": null
  },
  {
   "cell_type": "markdown",
   "source": "",
   "metadata": {
    "tags": [],
    "cell_id": "00017-c80b28a6-8252-4927-a99c-8d366ac7ded7",
    "deepnote_cell_type": "markdown"
   }
  },
  {
   "cell_type": "markdown",
   "source": "![Picture title](image-20210923-235319.png)",
   "metadata": {
    "tags": [],
    "cell_id": "00018-1a2fb7e5-c780-4dc0-b67c-26f180944f9e",
    "deepnote_cell_type": "markdown"
   }
  },
  {
   "cell_type": "code",
   "source": "",
   "metadata": {
    "tags": [],
    "cell_id": "00014-1f503d3a-f824-419b-95da-f478a6bae5fa",
    "deepnote_cell_type": "code"
   },
   "outputs": [],
   "execution_count": null
  },
  {
   "cell_type": "markdown",
   "source": "<a style='text-decoration:none;line-height:16px;display:flex;color:#5B5B62;padding:10px;justify-content:end;' href='https://deepnote.com?utm_source=created-in-deepnote-cell&projectId=f8149d1c-e6b1-497a-9109-f01641a8231a' target=\"_blank\">\n<img alt='Created in deepnote.com' style='display:inline;max-height:16px;margin:0px;margin-right:7.5px;' src='data:image/svg+xml;base64,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' > </img>\nCreated in <span style='font-weight:600;margin-left:4px;'>Deepnote</span></a>",
   "metadata": {
    "tags": [],
    "created_in_deepnote_cell": true,
    "deepnote_cell_type": "markdown"
   }
  }
 ],
 "nbformat": 4,
 "nbformat_minor": 4,
 "metadata": {
  "kernelspec": {
   "display_name": "Python (data_science)",
   "language": "python",
   "name": "data_science"
  },
  "language_info": {
   "codemirror_mode": {
    "name": "ipython",
    "version": 3
   },
   "file_extension": ".py",
   "mimetype": "text/x-python",
   "name": "python",
   "nbconvert_exporter": "python",
   "pygments_lexer": "ipython3",
   "version": "3.7.6"
  },
  "deepnote_notebook_id": "d874dd6e-8187-4d69-9699-3ac9aeca3148",
  "deepnote": {},
  "deepnote_execution_queue": []
 }
}