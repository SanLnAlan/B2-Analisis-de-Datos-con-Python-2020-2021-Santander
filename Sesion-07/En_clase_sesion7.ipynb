{
 "cells": [
  {
   "cell_type": "markdown",
   "source": "# En clase sesión 7",
   "metadata": {
    "tags": [],
    "cell_id": "00000-4a388161-fa4b-43ac-a98e-92aa49a6e673",
    "deepnote_cell_type": "markdown"
   }
  },
  {
   "cell_type": "code",
   "metadata": {
    "tags": [],
    "cell_id": "00000-55f19229-9310-4669-8099-3159e4c19217",
    "deepnote_to_be_reexecuted": false,
    "source_hash": "45496f01",
    "execution_start": 1632522263376,
    "execution_millis": 2137,
    "deepnote_cell_type": "code"
   },
   "source": "import pandas as pd\nimport seaborn as sns\nimport numpy as np\nimport matplotlib.pyplot as plt\n",
   "execution_count": null,
   "outputs": []
  },
  {
   "cell_type": "code",
   "metadata": {
    "tags": [],
    "cell_id": "00001-efaf5710-f514-4d5f-afe0-8dec15cf7ce7",
    "deepnote_to_be_reexecuted": false,
    "source_hash": "71b577e4",
    "execution_start": 1632271978222,
    "execution_millis": 38,
    "deepnote_cell_type": "code"
   },
   "source": "df = pd.read_csv('/work/B2-Analisis-de-Datos-con-Python-2020-2021-Santander/Datasets/ab_test-sales_pipeline.csv')\ndf.head()",
   "execution_count": null,
   "outputs": [
    {
     "output_type": "execute_result",
     "execution_count": 3,
     "data": {
      "application/vnd.deepnote.dataframe.v2+json": {
       "row_count": 5,
       "column_count": 3,
       "columns": [
        {
         "name": "test",
         "dtype": "object",
         "stats": {
          "unique_count": 2,
          "nan_count": 0,
          "categories": [
           {
            "name": "A",
            "count": 4
           },
           {
            "name": "B",
            "count": 1
           }
          ]
         }
        },
        {
         "name": "conversion",
         "dtype": "int64",
         "stats": {
          "unique_count": 1,
          "nan_count": 0,
          "min": "0",
          "max": "0",
          "histogram": [
           {
            "bin_start": -0.5,
            "bin_end": -0.4,
            "count": 0
           },
           {
            "bin_start": -0.4,
            "bin_end": -0.3,
            "count": 0
           },
           {
            "bin_start": -0.3,
            "bin_end": -0.19999999999999996,
            "count": 0
           },
           {
            "bin_start": -0.19999999999999996,
            "bin_end": -0.09999999999999998,
            "count": 0
           },
           {
            "bin_start": -0.09999999999999998,
            "bin_end": 0,
            "count": 0
           },
           {
            "bin_start": 0,
            "bin_end": 0.10000000000000009,
            "count": 5
           },
           {
            "bin_start": 0.10000000000000009,
            "bin_end": 0.20000000000000007,
            "count": 0
           },
           {
            "bin_start": 0.20000000000000007,
            "bin_end": 0.30000000000000004,
            "count": 0
           },
           {
            "bin_start": 0.30000000000000004,
            "bin_end": 0.4,
            "count": 0
           },
           {
            "bin_start": 0.4,
            "bin_end": 0.5,
            "count": 0
           }
          ]
         }
        },
        {
         "name": "no conversion",
         "dtype": "int64",
         "stats": {
          "unique_count": 1,
          "nan_count": 0,
          "min": "1",
          "max": "1",
          "histogram": [
           {
            "bin_start": 0.5,
            "bin_end": 0.6,
            "count": 0
           },
           {
            "bin_start": 0.6,
            "bin_end": 0.7,
            "count": 0
           },
           {
            "bin_start": 0.7,
            "bin_end": 0.8,
            "count": 0
           },
           {
            "bin_start": 0.8,
            "bin_end": 0.9,
            "count": 0
           },
           {
            "bin_start": 0.9,
            "bin_end": 1,
            "count": 0
           },
           {
            "bin_start": 1,
            "bin_end": 1.1,
            "count": 5
           },
           {
            "bin_start": 1.1,
            "bin_end": 1.2000000000000002,
            "count": 0
           },
           {
            "bin_start": 1.2000000000000002,
            "bin_end": 1.3,
            "count": 0
           },
           {
            "bin_start": 1.3,
            "bin_end": 1.4,
            "count": 0
           },
           {
            "bin_start": 1.4,
            "bin_end": 1.5,
            "count": 0
           }
          ]
         }
        },
        {
         "name": "_deepnote_index_column",
         "dtype": "int64"
        }
       ],
       "rows_top": [
        {
         "test": "B",
         "conversion": 0,
         "no conversion": 1,
         "_deepnote_index_column": 0
        },
        {
         "test": "A",
         "conversion": 0,
         "no conversion": 1,
         "_deepnote_index_column": 1
        },
        {
         "test": "A",
         "conversion": 0,
         "no conversion": 1,
         "_deepnote_index_column": 2
        },
        {
         "test": "A",
         "conversion": 0,
         "no conversion": 1,
         "_deepnote_index_column": 3
        },
        {
         "test": "A",
         "conversion": 0,
         "no conversion": 1,
         "_deepnote_index_column": 4
        }
       ],
       "rows_bottom": null
      },
      "text/plain": "  test  conversion  no conversion\n0    B           0              1\n1    A           0              1\n2    A           0              1\n3    A           0              1\n4    A           0              1",
      "text/html": "<div>\n<style scoped>\n    .dataframe tbody tr th:only-of-type {\n        vertical-align: middle;\n    }\n\n    .dataframe tbody tr th {\n        vertical-align: top;\n    }\n\n    .dataframe thead th {\n        text-align: right;\n    }\n</style>\n<table border=\"1\" class=\"dataframe\">\n  <thead>\n    <tr style=\"text-align: right;\">\n      <th></th>\n      <th>test</th>\n      <th>conversion</th>\n      <th>no conversion</th>\n    </tr>\n  </thead>\n  <tbody>\n    <tr>\n      <th>0</th>\n      <td>B</td>\n      <td>0</td>\n      <td>1</td>\n    </tr>\n    <tr>\n      <th>1</th>\n      <td>A</td>\n      <td>0</td>\n      <td>1</td>\n    </tr>\n    <tr>\n      <th>2</th>\n      <td>A</td>\n      <td>0</td>\n      <td>1</td>\n    </tr>\n    <tr>\n      <th>3</th>\n      <td>A</td>\n      <td>0</td>\n      <td>1</td>\n    </tr>\n    <tr>\n      <th>4</th>\n      <td>A</td>\n      <td>0</td>\n      <td>1</td>\n    </tr>\n  </tbody>\n</table>\n</div>"
     },
     "metadata": {}
    }
   ]
  },
  {
   "cell_type": "code",
   "metadata": {
    "tags": [],
    "cell_id": "00003-981eb241-1fa1-40a6-9aef-ad05e5e83c27",
    "deepnote_to_be_reexecuted": false,
    "source_hash": "a47e196d",
    "execution_start": 1632272033706,
    "execution_millis": 21,
    "deepnote_cell_type": "code"
   },
   "source": "total_count = df.groupby('test')[['conversion','no conversion']].sum()\ntotal_count",
   "execution_count": null,
   "outputs": [
    {
     "output_type": "execute_result",
     "execution_count": 5,
     "data": {
      "application/vnd.deepnote.dataframe.v2+json": {
       "row_count": 2,
       "column_count": 2,
       "columns": [
        {
         "name": "conversion",
         "dtype": "int64",
         "stats": {
          "unique_count": 2,
          "nan_count": 0,
          "min": "184",
          "max": "198",
          "histogram": [
           {
            "bin_start": 184,
            "bin_end": 185.4,
            "count": 1
           },
           {
            "bin_start": 185.4,
            "bin_end": 186.8,
            "count": 0
           },
           {
            "bin_start": 186.8,
            "bin_end": 188.2,
            "count": 0
           },
           {
            "bin_start": 188.2,
            "bin_end": 189.6,
            "count": 0
           },
           {
            "bin_start": 189.6,
            "bin_end": 191,
            "count": 0
           },
           {
            "bin_start": 191,
            "bin_end": 192.4,
            "count": 0
           },
           {
            "bin_start": 192.4,
            "bin_end": 193.8,
            "count": 0
           },
           {
            "bin_start": 193.8,
            "bin_end": 195.2,
            "count": 0
           },
           {
            "bin_start": 195.2,
            "bin_end": 196.6,
            "count": 0
           },
           {
            "bin_start": 196.6,
            "bin_end": 198,
            "count": 1
           }
          ]
         }
        },
        {
         "name": "no conversion",
         "dtype": "int64",
         "stats": {
          "unique_count": 2,
          "nan_count": 0,
          "min": "22404",
          "max": "23541",
          "histogram": [
           {
            "bin_start": 22404,
            "bin_end": 22517.7,
            "count": 1
           },
           {
            "bin_start": 22517.7,
            "bin_end": 22631.4,
            "count": 0
           },
           {
            "bin_start": 22631.4,
            "bin_end": 22745.1,
            "count": 0
           },
           {
            "bin_start": 22745.1,
            "bin_end": 22858.8,
            "count": 0
           },
           {
            "bin_start": 22858.8,
            "bin_end": 22972.5,
            "count": 0
           },
           {
            "bin_start": 22972.5,
            "bin_end": 23086.2,
            "count": 0
           },
           {
            "bin_start": 23086.2,
            "bin_end": 23199.9,
            "count": 0
           },
           {
            "bin_start": 23199.9,
            "bin_end": 23313.6,
            "count": 0
           },
           {
            "bin_start": 23313.6,
            "bin_end": 23427.3,
            "count": 0
           },
           {
            "bin_start": 23427.3,
            "bin_end": 23541,
            "count": 1
           }
          ]
         }
        },
        {
         "name": "_deepnote_index_column",
         "dtype": "object"
        }
       ],
       "rows_top": [
        {
         "conversion": 198,
         "no conversion": 23541,
         "_deepnote_index_column": "A"
        },
        {
         "conversion": 184,
         "no conversion": 22404,
         "_deepnote_index_column": "B"
        }
       ],
       "rows_bottom": null
      },
      "text/plain": "      conversion  no conversion\ntest                           \nA            198          23541\nB            184          22404",
      "text/html": "<div>\n<style scoped>\n    .dataframe tbody tr th:only-of-type {\n        vertical-align: middle;\n    }\n\n    .dataframe tbody tr th {\n        vertical-align: top;\n    }\n\n    .dataframe thead th {\n        text-align: right;\n    }\n</style>\n<table border=\"1\" class=\"dataframe\">\n  <thead>\n    <tr style=\"text-align: right;\">\n      <th></th>\n      <th>conversion</th>\n      <th>no conversion</th>\n    </tr>\n    <tr>\n      <th>test</th>\n      <th></th>\n      <th></th>\n    </tr>\n  </thead>\n  <tbody>\n    <tr>\n      <th>A</th>\n      <td>198</td>\n      <td>23541</td>\n    </tr>\n    <tr>\n      <th>B</th>\n      <td>184</td>\n      <td>22404</td>\n    </tr>\n  </tbody>\n</table>\n</div>"
     },
     "metadata": {}
    }
   ]
  },
  {
   "cell_type": "code",
   "metadata": {
    "tags": [],
    "cell_id": "00004-bdeb0a49-e2ca-4769-be5b-e33ec40b561d",
    "deepnote_to_be_reexecuted": false,
    "source_hash": "e3ddfcd5",
    "execution_start": 1632272178614,
    "execution_millis": 16,
    "deepnote_cell_type": "code"
   },
   "source": "total_count['success_rate'] = total_count['conversion']/ (total_count['conversion'] + total_count['no conversion'])\ntotal_count",
   "execution_count": null,
   "outputs": [
    {
     "output_type": "execute_result",
     "execution_count": 7,
     "data": {
      "application/vnd.deepnote.dataframe.v2+json": {
       "row_count": 2,
       "column_count": 3,
       "columns": [
        {
         "name": "conversion",
         "dtype": "int64",
         "stats": {
          "unique_count": 2,
          "nan_count": 0,
          "min": "184",
          "max": "198",
          "histogram": [
           {
            "bin_start": 184,
            "bin_end": 185.4,
            "count": 1
           },
           {
            "bin_start": 185.4,
            "bin_end": 186.8,
            "count": 0
           },
           {
            "bin_start": 186.8,
            "bin_end": 188.2,
            "count": 0
           },
           {
            "bin_start": 188.2,
            "bin_end": 189.6,
            "count": 0
           },
           {
            "bin_start": 189.6,
            "bin_end": 191,
            "count": 0
           },
           {
            "bin_start": 191,
            "bin_end": 192.4,
            "count": 0
           },
           {
            "bin_start": 192.4,
            "bin_end": 193.8,
            "count": 0
           },
           {
            "bin_start": 193.8,
            "bin_end": 195.2,
            "count": 0
           },
           {
            "bin_start": 195.2,
            "bin_end": 196.6,
            "count": 0
           },
           {
            "bin_start": 196.6,
            "bin_end": 198,
            "count": 1
           }
          ]
         }
        },
        {
         "name": "no conversion",
         "dtype": "int64",
         "stats": {
          "unique_count": 2,
          "nan_count": 0,
          "min": "22404",
          "max": "23541",
          "histogram": [
           {
            "bin_start": 22404,
            "bin_end": 22517.7,
            "count": 1
           },
           {
            "bin_start": 22517.7,
            "bin_end": 22631.4,
            "count": 0
           },
           {
            "bin_start": 22631.4,
            "bin_end": 22745.1,
            "count": 0
           },
           {
            "bin_start": 22745.1,
            "bin_end": 22858.8,
            "count": 0
           },
           {
            "bin_start": 22858.8,
            "bin_end": 22972.5,
            "count": 0
           },
           {
            "bin_start": 22972.5,
            "bin_end": 23086.2,
            "count": 0
           },
           {
            "bin_start": 23086.2,
            "bin_end": 23199.9,
            "count": 0
           },
           {
            "bin_start": 23199.9,
            "bin_end": 23313.6,
            "count": 0
           },
           {
            "bin_start": 23313.6,
            "bin_end": 23427.3,
            "count": 0
           },
           {
            "bin_start": 23427.3,
            "bin_end": 23541,
            "count": 1
           }
          ]
         }
        },
        {
         "name": "success_rate",
         "dtype": "float64",
         "stats": {
          "unique_count": 2,
          "nan_count": 0,
          "min": "0.008145918186647777",
          "max": "0.008340705168709718",
          "histogram": [
           {
            "bin_start": 0.008145918186647777,
            "bin_end": 0.008165396884853971,
            "count": 1
           },
           {
            "bin_start": 0.008165396884853971,
            "bin_end": 0.008184875583060166,
            "count": 0
           },
           {
            "bin_start": 0.008184875583060166,
            "bin_end": 0.00820435428126636,
            "count": 0
           },
           {
            "bin_start": 0.00820435428126636,
            "bin_end": 0.008223832979472554,
            "count": 0
           },
           {
            "bin_start": 0.008223832979472554,
            "bin_end": 0.008243311677678748,
            "count": 0
           },
           {
            "bin_start": 0.008243311677678748,
            "bin_end": 0.008262790375884942,
            "count": 0
           },
           {
            "bin_start": 0.008262790375884942,
            "bin_end": 0.008282269074091136,
            "count": 0
           },
           {
            "bin_start": 0.008282269074091136,
            "bin_end": 0.00830174777229733,
            "count": 0
           },
           {
            "bin_start": 0.00830174777229733,
            "bin_end": 0.008321226470503524,
            "count": 0
           },
           {
            "bin_start": 0.008321226470503524,
            "bin_end": 0.008340705168709718,
            "count": 1
           }
          ]
         }
        },
        {
         "name": "_deepnote_index_column",
         "dtype": "object"
        }
       ],
       "rows_top": [
        {
         "conversion": 198,
         "no conversion": 23541,
         "success_rate": 0.008340705168709718,
         "_deepnote_index_column": "A"
        },
        {
         "conversion": 184,
         "no conversion": 22404,
         "success_rate": 0.008145918186647777,
         "_deepnote_index_column": "B"
        }
       ],
       "rows_bottom": null
      },
      "text/plain": "      conversion  no conversion  success_rate\ntest                                         \nA            198          23541      0.008341\nB            184          22404      0.008146",
      "text/html": "<div>\n<style scoped>\n    .dataframe tbody tr th:only-of-type {\n        vertical-align: middle;\n    }\n\n    .dataframe tbody tr th {\n        vertical-align: top;\n    }\n\n    .dataframe thead th {\n        text-align: right;\n    }\n</style>\n<table border=\"1\" class=\"dataframe\">\n  <thead>\n    <tr style=\"text-align: right;\">\n      <th></th>\n      <th>conversion</th>\n      <th>no conversion</th>\n      <th>success_rate</th>\n    </tr>\n    <tr>\n      <th>test</th>\n      <th></th>\n      <th></th>\n      <th></th>\n    </tr>\n  </thead>\n  <tbody>\n    <tr>\n      <th>A</th>\n      <td>198</td>\n      <td>23541</td>\n      <td>0.008341</td>\n    </tr>\n    <tr>\n      <th>B</th>\n      <td>184</td>\n      <td>22404</td>\n      <td>0.008146</td>\n    </tr>\n  </tbody>\n</table>\n</div>"
     },
     "metadata": {}
    }
   ]
  },
  {
   "cell_type": "code",
   "metadata": {
    "tags": [],
    "cell_id": "00005-cfa592ad-828e-40c0-84f5-835682301784",
    "deepnote_to_be_reexecuted": false,
    "source_hash": "c267f3d0",
    "execution_start": 1632272321025,
    "execution_millis": 6,
    "deepnote_cell_type": "code"
   },
   "source": "diferencia_en_proporcion = 1 - (total_count.loc['B']['success_rate']/total_count.loc['A']['success_rate'])\nf'El test A fue {diferencia_en_proporcion*100:.4f}% mejor que B'",
   "execution_count": null,
   "outputs": [
    {
     "output_type": "execute_result",
     "execution_count": 9,
     "data": {
      "text/plain": "'El test A fue 2.3354% mejor que B'"
     },
     "metadata": {}
    }
   ]
  },
  {
   "cell_type": "code",
   "metadata": {
    "tags": [],
    "cell_id": "00006-dc9f6a18-6e6c-4f93-9652-478cb69c9c82",
    "deepnote_to_be_reexecuted": false,
    "source_hash": "c6ca8e92",
    "execution_start": 1632272863501,
    "execution_millis": 4730,
    "deepnote_cell_type": "code"
   },
   "source": "## Prueba de permutacion\n\nconv_a = []\nno_conv_a = []\nconv_b = []\nno_conv_b = []\n\nvalue_counts = df['test'].value_counts()\n\nfor i in range(1000):\n    a = df.sample(value_counts.loc['A'],replace=False)\n    conv_a.append(a['conversion'].sum())\n    no_conv_a.append(a['no conversion'].sum())\n\n    b = df.loc[~df.index.isin(a.index)]\n    conv_b.append(b['conversion'].sum())\n    no_conv_b.append(b['no conversion'].sum())",
   "execution_count": null,
   "outputs": []
  },
  {
   "cell_type": "code",
   "metadata": {
    "tags": [],
    "cell_id": "00007-1ce9f8bb-68ee-47b0-95bd-c13b2358c220",
    "deepnote_to_be_reexecuted": false,
    "source_hash": "6e5d8a04",
    "execution_start": 1632272972063,
    "execution_millis": 95,
    "deepnote_cell_type": "code"
   },
   "source": "results = pd.DataFrame({\n    'conv_a':conv_a,\n    'no_conv_a':no_conv_a,\n    'conv_b':conv_b,\n    'no_conv_b':no_conv_b,\n})\n\nresults",
   "execution_count": null,
   "outputs": [
    {
     "output_type": "execute_result",
     "execution_count": 11,
     "data": {
      "application/vnd.deepnote.dataframe.v2+json": {
       "row_count": 1000,
       "column_count": 4,
       "columns": [
        {
         "name": "conv_a",
         "dtype": "int64",
         "stats": {
          "unique_count": 55,
          "nan_count": 0,
          "min": "167",
          "max": "224",
          "histogram": [
           {
            "bin_start": 167,
            "bin_end": 172.7,
            "count": 9
           },
           {
            "bin_start": 172.7,
            "bin_end": 178.4,
            "count": 33
           },
           {
            "bin_start": 178.4,
            "bin_end": 184.1,
            "count": 84
           },
           {
            "bin_start": 184.1,
            "bin_end": 189.8,
            "count": 148
           },
           {
            "bin_start": 189.8,
            "bin_end": 195.5,
            "count": 219
           },
           {
            "bin_start": 195.5,
            "bin_end": 201.2,
            "count": 254
           },
           {
            "bin_start": 201.2,
            "bin_end": 206.9,
            "count": 134
           },
           {
            "bin_start": 206.9,
            "bin_end": 212.6,
            "count": 79
           },
           {
            "bin_start": 212.6,
            "bin_end": 218.3,
            "count": 32
           },
           {
            "bin_start": 218.3,
            "bin_end": 224,
            "count": 8
           }
          ]
         }
        },
        {
         "name": "no_conv_a",
         "dtype": "int64",
         "stats": {
          "unique_count": 55,
          "nan_count": 0,
          "min": "23515",
          "max": "23572",
          "histogram": [
           {
            "bin_start": 23515,
            "bin_end": 23520.7,
            "count": 8
           },
           {
            "bin_start": 23520.7,
            "bin_end": 23526.4,
            "count": 32
           },
           {
            "bin_start": 23526.4,
            "bin_end": 23532.1,
            "count": 79
           },
           {
            "bin_start": 23532.1,
            "bin_end": 23537.8,
            "count": 134
           },
           {
            "bin_start": 23537.8,
            "bin_end": 23543.5,
            "count": 254
           },
           {
            "bin_start": 23543.5,
            "bin_end": 23549.2,
            "count": 219
           },
           {
            "bin_start": 23549.2,
            "bin_end": 23554.9,
            "count": 148
           },
           {
            "bin_start": 23554.9,
            "bin_end": 23560.6,
            "count": 84
           },
           {
            "bin_start": 23560.6,
            "bin_end": 23566.3,
            "count": 33
           },
           {
            "bin_start": 23566.3,
            "bin_end": 23572,
            "count": 9
           }
          ]
         }
        },
        {
         "name": "conv_b",
         "dtype": "int64",
         "stats": {
          "unique_count": 55,
          "nan_count": 0,
          "min": "158",
          "max": "215",
          "histogram": [
           {
            "bin_start": 158,
            "bin_end": 163.7,
            "count": 8
           },
           {
            "bin_start": 163.7,
            "bin_end": 169.4,
            "count": 32
           },
           {
            "bin_start": 169.4,
            "bin_end": 175.1,
            "count": 79
           },
           {
            "bin_start": 175.1,
            "bin_end": 180.8,
            "count": 134
           },
           {
            "bin_start": 180.8,
            "bin_end": 186.5,
            "count": 254
           },
           {
            "bin_start": 186.5,
            "bin_end": 192.2,
            "count": 219
           },
           {
            "bin_start": 192.2,
            "bin_end": 197.9,
            "count": 148
           },
           {
            "bin_start": 197.9,
            "bin_end": 203.6,
            "count": 84
           },
           {
            "bin_start": 203.6,
            "bin_end": 209.3,
            "count": 33
           },
           {
            "bin_start": 209.3,
            "bin_end": 215,
            "count": 9
           }
          ]
         }
        },
        {
         "name": "no_conv_b",
         "dtype": "int64",
         "stats": {
          "unique_count": 55,
          "nan_count": 0,
          "min": "22373",
          "max": "22430",
          "histogram": [
           {
            "bin_start": 22373,
            "bin_end": 22378.7,
            "count": 9
           },
           {
            "bin_start": 22378.7,
            "bin_end": 22384.4,
            "count": 33
           },
           {
            "bin_start": 22384.4,
            "bin_end": 22390.1,
            "count": 84
           },
           {
            "bin_start": 22390.1,
            "bin_end": 22395.8,
            "count": 148
           },
           {
            "bin_start": 22395.8,
            "bin_end": 22401.5,
            "count": 219
           },
           {
            "bin_start": 22401.5,
            "bin_end": 22407.2,
            "count": 254
           },
           {
            "bin_start": 22407.2,
            "bin_end": 22412.9,
            "count": 134
           },
           {
            "bin_start": 22412.9,
            "bin_end": 22418.6,
            "count": 79
           },
           {
            "bin_start": 22418.6,
            "bin_end": 22424.3,
            "count": 32
           },
           {
            "bin_start": 22424.3,
            "bin_end": 22430,
            "count": 8
           }
          ]
         }
        },
        {
         "name": "_deepnote_index_column",
         "dtype": "int64"
        }
       ],
       "rows_top": [
        {
         "conv_a": 209,
         "no_conv_a": 23530,
         "conv_b": 173,
         "no_conv_b": 22415,
         "_deepnote_index_column": 0
        },
        {
         "conv_a": 194,
         "no_conv_a": 23545,
         "conv_b": 188,
         "no_conv_b": 22400,
         "_deepnote_index_column": 1
        },
        {
         "conv_a": 195,
         "no_conv_a": 23544,
         "conv_b": 187,
         "no_conv_b": 22401,
         "_deepnote_index_column": 2
        },
        {
         "conv_a": 168,
         "no_conv_a": 23571,
         "conv_b": 214,
         "no_conv_b": 22374,
         "_deepnote_index_column": 3
        },
        {
         "conv_a": 199,
         "no_conv_a": 23540,
         "conv_b": 183,
         "no_conv_b": 22405,
         "_deepnote_index_column": 4
        },
        {
         "conv_a": 190,
         "no_conv_a": 23549,
         "conv_b": 192,
         "no_conv_b": 22396,
         "_deepnote_index_column": 5
        },
        {
         "conv_a": 210,
         "no_conv_a": 23529,
         "conv_b": 172,
         "no_conv_b": 22416,
         "_deepnote_index_column": 6
        },
        {
         "conv_a": 183,
         "no_conv_a": 23556,
         "conv_b": 199,
         "no_conv_b": 22389,
         "_deepnote_index_column": 7
        },
        {
         "conv_a": 193,
         "no_conv_a": 23546,
         "conv_b": 189,
         "no_conv_b": 22399,
         "_deepnote_index_column": 8
        },
        {
         "conv_a": 186,
         "no_conv_a": 23553,
         "conv_b": 196,
         "no_conv_b": 22392,
         "_deepnote_index_column": 9
        },
        {
         "conv_a": 200,
         "no_conv_a": 23539,
         "conv_b": 182,
         "no_conv_b": 22406,
         "_deepnote_index_column": 10
        },
        {
         "conv_a": 199,
         "no_conv_a": 23540,
         "conv_b": 183,
         "no_conv_b": 22405,
         "_deepnote_index_column": 11
        },
        {
         "conv_a": 207,
         "no_conv_a": 23532,
         "conv_b": 175,
         "no_conv_b": 22413,
         "_deepnote_index_column": 12
        },
        {
         "conv_a": 199,
         "no_conv_a": 23540,
         "conv_b": 183,
         "no_conv_b": 22405,
         "_deepnote_index_column": 13
        },
        {
         "conv_a": 186,
         "no_conv_a": 23553,
         "conv_b": 196,
         "no_conv_b": 22392,
         "_deepnote_index_column": 14
        },
        {
         "conv_a": 176,
         "no_conv_a": 23563,
         "conv_b": 206,
         "no_conv_b": 22382,
         "_deepnote_index_column": 15
        },
        {
         "conv_a": 198,
         "no_conv_a": 23541,
         "conv_b": 184,
         "no_conv_b": 22404,
         "_deepnote_index_column": 16
        },
        {
         "conv_a": 189,
         "no_conv_a": 23550,
         "conv_b": 193,
         "no_conv_b": 22395,
         "_deepnote_index_column": 17
        },
        {
         "conv_a": 198,
         "no_conv_a": 23541,
         "conv_b": 184,
         "no_conv_b": 22404,
         "_deepnote_index_column": 18
        },
        {
         "conv_a": 197,
         "no_conv_a": 23542,
         "conv_b": 185,
         "no_conv_b": 22403,
         "_deepnote_index_column": 19
        },
        {
         "conv_a": 192,
         "no_conv_a": 23547,
         "conv_b": 190,
         "no_conv_b": 22398,
         "_deepnote_index_column": 20
        },
        {
         "conv_a": 198,
         "no_conv_a": 23541,
         "conv_b": 184,
         "no_conv_b": 22404,
         "_deepnote_index_column": 21
        },
        {
         "conv_a": 190,
         "no_conv_a": 23549,
         "conv_b": 192,
         "no_conv_b": 22396,
         "_deepnote_index_column": 22
        },
        {
         "conv_a": 184,
         "no_conv_a": 23555,
         "conv_b": 198,
         "no_conv_b": 22390,
         "_deepnote_index_column": 23
        },
        {
         "conv_a": 192,
         "no_conv_a": 23547,
         "conv_b": 190,
         "no_conv_b": 22398,
         "_deepnote_index_column": 24
        },
        {
         "conv_a": 201,
         "no_conv_a": 23538,
         "conv_b": 181,
         "no_conv_b": 22407,
         "_deepnote_index_column": 25
        },
        {
         "conv_a": 199,
         "no_conv_a": 23540,
         "conv_b": 183,
         "no_conv_b": 22405,
         "_deepnote_index_column": 26
        },
        {
         "conv_a": 184,
         "no_conv_a": 23555,
         "conv_b": 198,
         "no_conv_b": 22390,
         "_deepnote_index_column": 27
        },
        {
         "conv_a": 203,
         "no_conv_a": 23536,
         "conv_b": 179,
         "no_conv_b": 22409,
         "_deepnote_index_column": 28
        },
        {
         "conv_a": 203,
         "no_conv_a": 23536,
         "conv_b": 179,
         "no_conv_b": 22409,
         "_deepnote_index_column": 29
        },
        {
         "conv_a": 191,
         "no_conv_a": 23548,
         "conv_b": 191,
         "no_conv_b": 22397,
         "_deepnote_index_column": 30
        },
        {
         "conv_a": 213,
         "no_conv_a": 23526,
         "conv_b": 169,
         "no_conv_b": 22419,
         "_deepnote_index_column": 31
        },
        {
         "conv_a": 215,
         "no_conv_a": 23524,
         "conv_b": 167,
         "no_conv_b": 22421,
         "_deepnote_index_column": 32
        },
        {
         "conv_a": 203,
         "no_conv_a": 23536,
         "conv_b": 179,
         "no_conv_b": 22409,
         "_deepnote_index_column": 33
        },
        {
         "conv_a": 199,
         "no_conv_a": 23540,
         "conv_b": 183,
         "no_conv_b": 22405,
         "_deepnote_index_column": 34
        },
        {
         "conv_a": 191,
         "no_conv_a": 23548,
         "conv_b": 191,
         "no_conv_b": 22397,
         "_deepnote_index_column": 35
        },
        {
         "conv_a": 193,
         "no_conv_a": 23546,
         "conv_b": 189,
         "no_conv_b": 22399,
         "_deepnote_index_column": 36
        },
        {
         "conv_a": 213,
         "no_conv_a": 23526,
         "conv_b": 169,
         "no_conv_b": 22419,
         "_deepnote_index_column": 37
        },
        {
         "conv_a": 209,
         "no_conv_a": 23530,
         "conv_b": 173,
         "no_conv_b": 22415,
         "_deepnote_index_column": 38
        },
        {
         "conv_a": 200,
         "no_conv_a": 23539,
         "conv_b": 182,
         "no_conv_b": 22406,
         "_deepnote_index_column": 39
        },
        {
         "conv_a": 178,
         "no_conv_a": 23561,
         "conv_b": 204,
         "no_conv_b": 22384,
         "_deepnote_index_column": 40
        },
        {
         "conv_a": 206,
         "no_conv_a": 23533,
         "conv_b": 176,
         "no_conv_b": 22412,
         "_deepnote_index_column": 41
        },
        {
         "conv_a": 197,
         "no_conv_a": 23542,
         "conv_b": 185,
         "no_conv_b": 22403,
         "_deepnote_index_column": 42
        },
        {
         "conv_a": 208,
         "no_conv_a": 23531,
         "conv_b": 174,
         "no_conv_b": 22414,
         "_deepnote_index_column": 43
        },
        {
         "conv_a": 191,
         "no_conv_a": 23548,
         "conv_b": 191,
         "no_conv_b": 22397,
         "_deepnote_index_column": 44
        },
        {
         "conv_a": 189,
         "no_conv_a": 23550,
         "conv_b": 193,
         "no_conv_b": 22395,
         "_deepnote_index_column": 45
        },
        {
         "conv_a": 209,
         "no_conv_a": 23530,
         "conv_b": 173,
         "no_conv_b": 22415,
         "_deepnote_index_column": 46
        },
        {
         "conv_a": 190,
         "no_conv_a": 23549,
         "conv_b": 192,
         "no_conv_b": 22396,
         "_deepnote_index_column": 47
        },
        {
         "conv_a": 187,
         "no_conv_a": 23552,
         "conv_b": 195,
         "no_conv_b": 22393,
         "_deepnote_index_column": 48
        },
        {
         "conv_a": 187,
         "no_conv_a": 23552,
         "conv_b": 195,
         "no_conv_b": 22393,
         "_deepnote_index_column": 49
        },
        {
         "conv_a": 196,
         "no_conv_a": 23543,
         "conv_b": 186,
         "no_conv_b": 22402,
         "_deepnote_index_column": 50
        },
        {
         "conv_a": 204,
         "no_conv_a": 23535,
         "conv_b": 178,
         "no_conv_b": 22410,
         "_deepnote_index_column": 51
        },
        {
         "conv_a": 190,
         "no_conv_a": 23549,
         "conv_b": 192,
         "no_conv_b": 22396,
         "_deepnote_index_column": 52
        },
        {
         "conv_a": 186,
         "no_conv_a": 23553,
         "conv_b": 196,
         "no_conv_b": 22392,
         "_deepnote_index_column": 53
        },
        {
         "conv_a": 182,
         "no_conv_a": 23557,
         "conv_b": 200,
         "no_conv_b": 22388,
         "_deepnote_index_column": 54
        },
        {
         "conv_a": 197,
         "no_conv_a": 23542,
         "conv_b": 185,
         "no_conv_b": 22403,
         "_deepnote_index_column": 55
        },
        {
         "conv_a": 197,
         "no_conv_a": 23542,
         "conv_b": 185,
         "no_conv_b": 22403,
         "_deepnote_index_column": 56
        },
        {
         "conv_a": 204,
         "no_conv_a": 23535,
         "conv_b": 178,
         "no_conv_b": 22410,
         "_deepnote_index_column": 57
        },
        {
         "conv_a": 176,
         "no_conv_a": 23563,
         "conv_b": 206,
         "no_conv_b": 22382,
         "_deepnote_index_column": 58
        },
        {
         "conv_a": 197,
         "no_conv_a": 23542,
         "conv_b": 185,
         "no_conv_b": 22403,
         "_deepnote_index_column": 59
        },
        {
         "conv_a": 192,
         "no_conv_a": 23547,
         "conv_b": 190,
         "no_conv_b": 22398,
         "_deepnote_index_column": 60
        },
        {
         "conv_a": 201,
         "no_conv_a": 23538,
         "conv_b": 181,
         "no_conv_b": 22407,
         "_deepnote_index_column": 61
        },
        {
         "conv_a": 189,
         "no_conv_a": 23550,
         "conv_b": 193,
         "no_conv_b": 22395,
         "_deepnote_index_column": 62
        },
        {
         "conv_a": 210,
         "no_conv_a": 23529,
         "conv_b": 172,
         "no_conv_b": 22416,
         "_deepnote_index_column": 63
        },
        {
         "conv_a": 207,
         "no_conv_a": 23532,
         "conv_b": 175,
         "no_conv_b": 22413,
         "_deepnote_index_column": 64
        },
        {
         "conv_a": 186,
         "no_conv_a": 23553,
         "conv_b": 196,
         "no_conv_b": 22392,
         "_deepnote_index_column": 65
        },
        {
         "conv_a": 192,
         "no_conv_a": 23547,
         "conv_b": 190,
         "no_conv_b": 22398,
         "_deepnote_index_column": 66
        },
        {
         "conv_a": 197,
         "no_conv_a": 23542,
         "conv_b": 185,
         "no_conv_b": 22403,
         "_deepnote_index_column": 67
        },
        {
         "conv_a": 204,
         "no_conv_a": 23535,
         "conv_b": 178,
         "no_conv_b": 22410,
         "_deepnote_index_column": 68
        },
        {
         "conv_a": 187,
         "no_conv_a": 23552,
         "conv_b": 195,
         "no_conv_b": 22393,
         "_deepnote_index_column": 69
        },
        {
         "conv_a": 202,
         "no_conv_a": 23537,
         "conv_b": 180,
         "no_conv_b": 22408,
         "_deepnote_index_column": 70
        },
        {
         "conv_a": 204,
         "no_conv_a": 23535,
         "conv_b": 178,
         "no_conv_b": 22410,
         "_deepnote_index_column": 71
        },
        {
         "conv_a": 186,
         "no_conv_a": 23553,
         "conv_b": 196,
         "no_conv_b": 22392,
         "_deepnote_index_column": 72
        },
        {
         "conv_a": 193,
         "no_conv_a": 23546,
         "conv_b": 189,
         "no_conv_b": 22399,
         "_deepnote_index_column": 73
        },
        {
         "conv_a": 190,
         "no_conv_a": 23549,
         "conv_b": 192,
         "no_conv_b": 22396,
         "_deepnote_index_column": 74
        },
        {
         "conv_a": 196,
         "no_conv_a": 23543,
         "conv_b": 186,
         "no_conv_b": 22402,
         "_deepnote_index_column": 75
        },
        {
         "conv_a": 192,
         "no_conv_a": 23547,
         "conv_b": 190,
         "no_conv_b": 22398,
         "_deepnote_index_column": 76
        },
        {
         "conv_a": 200,
         "no_conv_a": 23539,
         "conv_b": 182,
         "no_conv_b": 22406,
         "_deepnote_index_column": 77
        },
        {
         "conv_a": 192,
         "no_conv_a": 23547,
         "conv_b": 190,
         "no_conv_b": 22398,
         "_deepnote_index_column": 78
        },
        {
         "conv_a": 211,
         "no_conv_a": 23528,
         "conv_b": 171,
         "no_conv_b": 22417,
         "_deepnote_index_column": 79
        },
        {
         "conv_a": 203,
         "no_conv_a": 23536,
         "conv_b": 179,
         "no_conv_b": 22409,
         "_deepnote_index_column": 80
        },
        {
         "conv_a": 206,
         "no_conv_a": 23533,
         "conv_b": 176,
         "no_conv_b": 22412,
         "_deepnote_index_column": 81
        },
        {
         "conv_a": 194,
         "no_conv_a": 23545,
         "conv_b": 188,
         "no_conv_b": 22400,
         "_deepnote_index_column": 82
        },
        {
         "conv_a": 202,
         "no_conv_a": 23537,
         "conv_b": 180,
         "no_conv_b": 22408,
         "_deepnote_index_column": 83
        },
        {
         "conv_a": 205,
         "no_conv_a": 23534,
         "conv_b": 177,
         "no_conv_b": 22411,
         "_deepnote_index_column": 84
        },
        {
         "conv_a": 189,
         "no_conv_a": 23550,
         "conv_b": 193,
         "no_conv_b": 22395,
         "_deepnote_index_column": 85
        },
        {
         "conv_a": 202,
         "no_conv_a": 23537,
         "conv_b": 180,
         "no_conv_b": 22408,
         "_deepnote_index_column": 86
        },
        {
         "conv_a": 175,
         "no_conv_a": 23564,
         "conv_b": 207,
         "no_conv_b": 22381,
         "_deepnote_index_column": 87
        },
        {
         "conv_a": 198,
         "no_conv_a": 23541,
         "conv_b": 184,
         "no_conv_b": 22404,
         "_deepnote_index_column": 88
        },
        {
         "conv_a": 198,
         "no_conv_a": 23541,
         "conv_b": 184,
         "no_conv_b": 22404,
         "_deepnote_index_column": 89
        },
        {
         "conv_a": 178,
         "no_conv_a": 23561,
         "conv_b": 204,
         "no_conv_b": 22384,
         "_deepnote_index_column": 90
        },
        {
         "conv_a": 204,
         "no_conv_a": 23535,
         "conv_b": 178,
         "no_conv_b": 22410,
         "_deepnote_index_column": 91
        },
        {
         "conv_a": 198,
         "no_conv_a": 23541,
         "conv_b": 184,
         "no_conv_b": 22404,
         "_deepnote_index_column": 92
        },
        {
         "conv_a": 181,
         "no_conv_a": 23558,
         "conv_b": 201,
         "no_conv_b": 22387,
         "_deepnote_index_column": 93
        },
        {
         "conv_a": 214,
         "no_conv_a": 23525,
         "conv_b": 168,
         "no_conv_b": 22420,
         "_deepnote_index_column": 94
        },
        {
         "conv_a": 189,
         "no_conv_a": 23550,
         "conv_b": 193,
         "no_conv_b": 22395,
         "_deepnote_index_column": 95
        },
        {
         "conv_a": 195,
         "no_conv_a": 23544,
         "conv_b": 187,
         "no_conv_b": 22401,
         "_deepnote_index_column": 96
        },
        {
         "conv_a": 191,
         "no_conv_a": 23548,
         "conv_b": 191,
         "no_conv_b": 22397,
         "_deepnote_index_column": 97
        },
        {
         "conv_a": 201,
         "no_conv_a": 23538,
         "conv_b": 181,
         "no_conv_b": 22407,
         "_deepnote_index_column": 98
        },
        {
         "conv_a": 193,
         "no_conv_a": 23546,
         "conv_b": 189,
         "no_conv_b": 22399,
         "_deepnote_index_column": 99
        },
        {
         "conv_a": 176,
         "no_conv_a": 23563,
         "conv_b": 206,
         "no_conv_b": 22382,
         "_deepnote_index_column": 100
        },
        {
         "conv_a": 189,
         "no_conv_a": 23550,
         "conv_b": 193,
         "no_conv_b": 22395,
         "_deepnote_index_column": 101
        },
        {
         "conv_a": 200,
         "no_conv_a": 23539,
         "conv_b": 182,
         "no_conv_b": 22406,
         "_deepnote_index_column": 102
        },
        {
         "conv_a": 188,
         "no_conv_a": 23551,
         "conv_b": 194,
         "no_conv_b": 22394,
         "_deepnote_index_column": 103
        },
        {
         "conv_a": 205,
         "no_conv_a": 23534,
         "conv_b": 177,
         "no_conv_b": 22411,
         "_deepnote_index_column": 104
        },
        {
         "conv_a": 198,
         "no_conv_a": 23541,
         "conv_b": 184,
         "no_conv_b": 22404,
         "_deepnote_index_column": 105
        },
        {
         "conv_a": 203,
         "no_conv_a": 23536,
         "conv_b": 179,
         "no_conv_b": 22409,
         "_deepnote_index_column": 106
        },
        {
         "conv_a": 193,
         "no_conv_a": 23546,
         "conv_b": 189,
         "no_conv_b": 22399,
         "_deepnote_index_column": 107
        },
        {
         "conv_a": 194,
         "no_conv_a": 23545,
         "conv_b": 188,
         "no_conv_b": 22400,
         "_deepnote_index_column": 108
        },
        {
         "conv_a": 203,
         "no_conv_a": 23536,
         "conv_b": 179,
         "no_conv_b": 22409,
         "_deepnote_index_column": 109
        },
        {
         "conv_a": 190,
         "no_conv_a": 23549,
         "conv_b": 192,
         "no_conv_b": 22396,
         "_deepnote_index_column": 110
        },
        {
         "conv_a": 207,
         "no_conv_a": 23532,
         "conv_b": 175,
         "no_conv_b": 22413,
         "_deepnote_index_column": 111
        },
        {
         "conv_a": 206,
         "no_conv_a": 23533,
         "conv_b": 176,
         "no_conv_b": 22412,
         "_deepnote_index_column": 112
        },
        {
         "conv_a": 181,
         "no_conv_a": 23558,
         "conv_b": 201,
         "no_conv_b": 22387,
         "_deepnote_index_column": 113
        },
        {
         "conv_a": 187,
         "no_conv_a": 23552,
         "conv_b": 195,
         "no_conv_b": 22393,
         "_deepnote_index_column": 114
        },
        {
         "conv_a": 196,
         "no_conv_a": 23543,
         "conv_b": 186,
         "no_conv_b": 22402,
         "_deepnote_index_column": 115
        },
        {
         "conv_a": 205,
         "no_conv_a": 23534,
         "conv_b": 177,
         "no_conv_b": 22411,
         "_deepnote_index_column": 116
        },
        {
         "conv_a": 210,
         "no_conv_a": 23529,
         "conv_b": 172,
         "no_conv_b": 22416,
         "_deepnote_index_column": 117
        },
        {
         "conv_a": 183,
         "no_conv_a": 23556,
         "conv_b": 199,
         "no_conv_b": 22389,
         "_deepnote_index_column": 118
        },
        {
         "conv_a": 187,
         "no_conv_a": 23552,
         "conv_b": 195,
         "no_conv_b": 22393,
         "_deepnote_index_column": 119
        },
        {
         "conv_a": 198,
         "no_conv_a": 23541,
         "conv_b": 184,
         "no_conv_b": 22404,
         "_deepnote_index_column": 120
        },
        {
         "conv_a": 197,
         "no_conv_a": 23542,
         "conv_b": 185,
         "no_conv_b": 22403,
         "_deepnote_index_column": 121
        },
        {
         "conv_a": 199,
         "no_conv_a": 23540,
         "conv_b": 183,
         "no_conv_b": 22405,
         "_deepnote_index_column": 122
        },
        {
         "conv_a": 193,
         "no_conv_a": 23546,
         "conv_b": 189,
         "no_conv_b": 22399,
         "_deepnote_index_column": 123
        },
        {
         "conv_a": 194,
         "no_conv_a": 23545,
         "conv_b": 188,
         "no_conv_b": 22400,
         "_deepnote_index_column": 124
        }
       ],
       "rows_bottom": [
        {
         "conv_a": 198,
         "no_conv_a": 23541,
         "conv_b": 184,
         "no_conv_b": 22404,
         "_deepnote_index_column": 875
        },
        {
         "conv_a": 187,
         "no_conv_a": 23552,
         "conv_b": 195,
         "no_conv_b": 22393,
         "_deepnote_index_column": 876
        },
        {
         "conv_a": 186,
         "no_conv_a": 23553,
         "conv_b": 196,
         "no_conv_b": 22392,
         "_deepnote_index_column": 877
        },
        {
         "conv_a": 194,
         "no_conv_a": 23545,
         "conv_b": 188,
         "no_conv_b": 22400,
         "_deepnote_index_column": 878
        },
        {
         "conv_a": 195,
         "no_conv_a": 23544,
         "conv_b": 187,
         "no_conv_b": 22401,
         "_deepnote_index_column": 879
        },
        {
         "conv_a": 190,
         "no_conv_a": 23549,
         "conv_b": 192,
         "no_conv_b": 22396,
         "_deepnote_index_column": 880
        },
        {
         "conv_a": 184,
         "no_conv_a": 23555,
         "conv_b": 198,
         "no_conv_b": 22390,
         "_deepnote_index_column": 881
        },
        {
         "conv_a": 186,
         "no_conv_a": 23553,
         "conv_b": 196,
         "no_conv_b": 22392,
         "_deepnote_index_column": 882
        },
        {
         "conv_a": 205,
         "no_conv_a": 23534,
         "conv_b": 177,
         "no_conv_b": 22411,
         "_deepnote_index_column": 883
        },
        {
         "conv_a": 202,
         "no_conv_a": 23537,
         "conv_b": 180,
         "no_conv_b": 22408,
         "_deepnote_index_column": 884
        },
        {
         "conv_a": 187,
         "no_conv_a": 23552,
         "conv_b": 195,
         "no_conv_b": 22393,
         "_deepnote_index_column": 885
        },
        {
         "conv_a": 200,
         "no_conv_a": 23539,
         "conv_b": 182,
         "no_conv_b": 22406,
         "_deepnote_index_column": 886
        },
        {
         "conv_a": 197,
         "no_conv_a": 23542,
         "conv_b": 185,
         "no_conv_b": 22403,
         "_deepnote_index_column": 887
        },
        {
         "conv_a": 187,
         "no_conv_a": 23552,
         "conv_b": 195,
         "no_conv_b": 22393,
         "_deepnote_index_column": 888
        },
        {
         "conv_a": 196,
         "no_conv_a": 23543,
         "conv_b": 186,
         "no_conv_b": 22402,
         "_deepnote_index_column": 889
        },
        {
         "conv_a": 187,
         "no_conv_a": 23552,
         "conv_b": 195,
         "no_conv_b": 22393,
         "_deepnote_index_column": 890
        },
        {
         "conv_a": 196,
         "no_conv_a": 23543,
         "conv_b": 186,
         "no_conv_b": 22402,
         "_deepnote_index_column": 891
        },
        {
         "conv_a": 194,
         "no_conv_a": 23545,
         "conv_b": 188,
         "no_conv_b": 22400,
         "_deepnote_index_column": 892
        },
        {
         "conv_a": 206,
         "no_conv_a": 23533,
         "conv_b": 176,
         "no_conv_b": 22412,
         "_deepnote_index_column": 893
        },
        {
         "conv_a": 171,
         "no_conv_a": 23568,
         "conv_b": 211,
         "no_conv_b": 22377,
         "_deepnote_index_column": 894
        },
        {
         "conv_a": 179,
         "no_conv_a": 23560,
         "conv_b": 203,
         "no_conv_b": 22385,
         "_deepnote_index_column": 895
        },
        {
         "conv_a": 180,
         "no_conv_a": 23559,
         "conv_b": 202,
         "no_conv_b": 22386,
         "_deepnote_index_column": 896
        },
        {
         "conv_a": 201,
         "no_conv_a": 23538,
         "conv_b": 181,
         "no_conv_b": 22407,
         "_deepnote_index_column": 897
        },
        {
         "conv_a": 182,
         "no_conv_a": 23557,
         "conv_b": 200,
         "no_conv_b": 22388,
         "_deepnote_index_column": 898
        },
        {
         "conv_a": 199,
         "no_conv_a": 23540,
         "conv_b": 183,
         "no_conv_b": 22405,
         "_deepnote_index_column": 899
        },
        {
         "conv_a": 198,
         "no_conv_a": 23541,
         "conv_b": 184,
         "no_conv_b": 22404,
         "_deepnote_index_column": 900
        },
        {
         "conv_a": 192,
         "no_conv_a": 23547,
         "conv_b": 190,
         "no_conv_b": 22398,
         "_deepnote_index_column": 901
        },
        {
         "conv_a": 200,
         "no_conv_a": 23539,
         "conv_b": 182,
         "no_conv_b": 22406,
         "_deepnote_index_column": 902
        },
        {
         "conv_a": 196,
         "no_conv_a": 23543,
         "conv_b": 186,
         "no_conv_b": 22402,
         "_deepnote_index_column": 903
        },
        {
         "conv_a": 182,
         "no_conv_a": 23557,
         "conv_b": 200,
         "no_conv_b": 22388,
         "_deepnote_index_column": 904
        },
        {
         "conv_a": 196,
         "no_conv_a": 23543,
         "conv_b": 186,
         "no_conv_b": 22402,
         "_deepnote_index_column": 905
        },
        {
         "conv_a": 199,
         "no_conv_a": 23540,
         "conv_b": 183,
         "no_conv_b": 22405,
         "_deepnote_index_column": 906
        },
        {
         "conv_a": 206,
         "no_conv_a": 23533,
         "conv_b": 176,
         "no_conv_b": 22412,
         "_deepnote_index_column": 907
        },
        {
         "conv_a": 183,
         "no_conv_a": 23556,
         "conv_b": 199,
         "no_conv_b": 22389,
         "_deepnote_index_column": 908
        },
        {
         "conv_a": 190,
         "no_conv_a": 23549,
         "conv_b": 192,
         "no_conv_b": 22396,
         "_deepnote_index_column": 909
        },
        {
         "conv_a": 186,
         "no_conv_a": 23553,
         "conv_b": 196,
         "no_conv_b": 22392,
         "_deepnote_index_column": 910
        },
        {
         "conv_a": 191,
         "no_conv_a": 23548,
         "conv_b": 191,
         "no_conv_b": 22397,
         "_deepnote_index_column": 911
        },
        {
         "conv_a": 184,
         "no_conv_a": 23555,
         "conv_b": 198,
         "no_conv_b": 22390,
         "_deepnote_index_column": 912
        },
        {
         "conv_a": 182,
         "no_conv_a": 23557,
         "conv_b": 200,
         "no_conv_b": 22388,
         "_deepnote_index_column": 913
        },
        {
         "conv_a": 208,
         "no_conv_a": 23531,
         "conv_b": 174,
         "no_conv_b": 22414,
         "_deepnote_index_column": 914
        },
        {
         "conv_a": 193,
         "no_conv_a": 23546,
         "conv_b": 189,
         "no_conv_b": 22399,
         "_deepnote_index_column": 915
        },
        {
         "conv_a": 203,
         "no_conv_a": 23536,
         "conv_b": 179,
         "no_conv_b": 22409,
         "_deepnote_index_column": 916
        },
        {
         "conv_a": 183,
         "no_conv_a": 23556,
         "conv_b": 199,
         "no_conv_b": 22389,
         "_deepnote_index_column": 917
        },
        {
         "conv_a": 198,
         "no_conv_a": 23541,
         "conv_b": 184,
         "no_conv_b": 22404,
         "_deepnote_index_column": 918
        },
        {
         "conv_a": 198,
         "no_conv_a": 23541,
         "conv_b": 184,
         "no_conv_b": 22404,
         "_deepnote_index_column": 919
        },
        {
         "conv_a": 194,
         "no_conv_a": 23545,
         "conv_b": 188,
         "no_conv_b": 22400,
         "_deepnote_index_column": 920
        },
        {
         "conv_a": 186,
         "no_conv_a": 23553,
         "conv_b": 196,
         "no_conv_b": 22392,
         "_deepnote_index_column": 921
        },
        {
         "conv_a": 187,
         "no_conv_a": 23552,
         "conv_b": 195,
         "no_conv_b": 22393,
         "_deepnote_index_column": 922
        },
        {
         "conv_a": 193,
         "no_conv_a": 23546,
         "conv_b": 189,
         "no_conv_b": 22399,
         "_deepnote_index_column": 923
        },
        {
         "conv_a": 200,
         "no_conv_a": 23539,
         "conv_b": 182,
         "no_conv_b": 22406,
         "_deepnote_index_column": 924
        },
        {
         "conv_a": 221,
         "no_conv_a": 23518,
         "conv_b": 161,
         "no_conv_b": 22427,
         "_deepnote_index_column": 925
        },
        {
         "conv_a": 190,
         "no_conv_a": 23549,
         "conv_b": 192,
         "no_conv_b": 22396,
         "_deepnote_index_column": 926
        },
        {
         "conv_a": 187,
         "no_conv_a": 23552,
         "conv_b": 195,
         "no_conv_b": 22393,
         "_deepnote_index_column": 927
        },
        {
         "conv_a": 190,
         "no_conv_a": 23549,
         "conv_b": 192,
         "no_conv_b": 22396,
         "_deepnote_index_column": 928
        },
        {
         "conv_a": 202,
         "no_conv_a": 23537,
         "conv_b": 180,
         "no_conv_b": 22408,
         "_deepnote_index_column": 929
        },
        {
         "conv_a": 201,
         "no_conv_a": 23538,
         "conv_b": 181,
         "no_conv_b": 22407,
         "_deepnote_index_column": 930
        },
        {
         "conv_a": 202,
         "no_conv_a": 23537,
         "conv_b": 180,
         "no_conv_b": 22408,
         "_deepnote_index_column": 931
        },
        {
         "conv_a": 192,
         "no_conv_a": 23547,
         "conv_b": 190,
         "no_conv_b": 22398,
         "_deepnote_index_column": 932
        },
        {
         "conv_a": 168,
         "no_conv_a": 23571,
         "conv_b": 214,
         "no_conv_b": 22374,
         "_deepnote_index_column": 933
        },
        {
         "conv_a": 203,
         "no_conv_a": 23536,
         "conv_b": 179,
         "no_conv_b": 22409,
         "_deepnote_index_column": 934
        },
        {
         "conv_a": 202,
         "no_conv_a": 23537,
         "conv_b": 180,
         "no_conv_b": 22408,
         "_deepnote_index_column": 935
        },
        {
         "conv_a": 205,
         "no_conv_a": 23534,
         "conv_b": 177,
         "no_conv_b": 22411,
         "_deepnote_index_column": 936
        },
        {
         "conv_a": 188,
         "no_conv_a": 23551,
         "conv_b": 194,
         "no_conv_b": 22394,
         "_deepnote_index_column": 937
        },
        {
         "conv_a": 196,
         "no_conv_a": 23543,
         "conv_b": 186,
         "no_conv_b": 22402,
         "_deepnote_index_column": 938
        },
        {
         "conv_a": 190,
         "no_conv_a": 23549,
         "conv_b": 192,
         "no_conv_b": 22396,
         "_deepnote_index_column": 939
        },
        {
         "conv_a": 201,
         "no_conv_a": 23538,
         "conv_b": 181,
         "no_conv_b": 22407,
         "_deepnote_index_column": 940
        },
        {
         "conv_a": 200,
         "no_conv_a": 23539,
         "conv_b": 182,
         "no_conv_b": 22406,
         "_deepnote_index_column": 941
        },
        {
         "conv_a": 204,
         "no_conv_a": 23535,
         "conv_b": 178,
         "no_conv_b": 22410,
         "_deepnote_index_column": 942
        },
        {
         "conv_a": 197,
         "no_conv_a": 23542,
         "conv_b": 185,
         "no_conv_b": 22403,
         "_deepnote_index_column": 943
        },
        {
         "conv_a": 192,
         "no_conv_a": 23547,
         "conv_b": 190,
         "no_conv_b": 22398,
         "_deepnote_index_column": 944
        },
        {
         "conv_a": 197,
         "no_conv_a": 23542,
         "conv_b": 185,
         "no_conv_b": 22403,
         "_deepnote_index_column": 945
        },
        {
         "conv_a": 211,
         "no_conv_a": 23528,
         "conv_b": 171,
         "no_conv_b": 22417,
         "_deepnote_index_column": 946
        },
        {
         "conv_a": 194,
         "no_conv_a": 23545,
         "conv_b": 188,
         "no_conv_b": 22400,
         "_deepnote_index_column": 947
        },
        {
         "conv_a": 179,
         "no_conv_a": 23560,
         "conv_b": 203,
         "no_conv_b": 22385,
         "_deepnote_index_column": 948
        },
        {
         "conv_a": 189,
         "no_conv_a": 23550,
         "conv_b": 193,
         "no_conv_b": 22395,
         "_deepnote_index_column": 949
        },
        {
         "conv_a": 206,
         "no_conv_a": 23533,
         "conv_b": 176,
         "no_conv_b": 22412,
         "_deepnote_index_column": 950
        },
        {
         "conv_a": 200,
         "no_conv_a": 23539,
         "conv_b": 182,
         "no_conv_b": 22406,
         "_deepnote_index_column": 951
        },
        {
         "conv_a": 204,
         "no_conv_a": 23535,
         "conv_b": 178,
         "no_conv_b": 22410,
         "_deepnote_index_column": 952
        },
        {
         "conv_a": 189,
         "no_conv_a": 23550,
         "conv_b": 193,
         "no_conv_b": 22395,
         "_deepnote_index_column": 953
        },
        {
         "conv_a": 182,
         "no_conv_a": 23557,
         "conv_b": 200,
         "no_conv_b": 22388,
         "_deepnote_index_column": 954
        },
        {
         "conv_a": 180,
         "no_conv_a": 23559,
         "conv_b": 202,
         "no_conv_b": 22386,
         "_deepnote_index_column": 955
        },
        {
         "conv_a": 197,
         "no_conv_a": 23542,
         "conv_b": 185,
         "no_conv_b": 22403,
         "_deepnote_index_column": 956
        },
        {
         "conv_a": 191,
         "no_conv_a": 23548,
         "conv_b": 191,
         "no_conv_b": 22397,
         "_deepnote_index_column": 957
        },
        {
         "conv_a": 201,
         "no_conv_a": 23538,
         "conv_b": 181,
         "no_conv_b": 22407,
         "_deepnote_index_column": 958
        },
        {
         "conv_a": 203,
         "no_conv_a": 23536,
         "conv_b": 179,
         "no_conv_b": 22409,
         "_deepnote_index_column": 959
        },
        {
         "conv_a": 188,
         "no_conv_a": 23551,
         "conv_b": 194,
         "no_conv_b": 22394,
         "_deepnote_index_column": 960
        },
        {
         "conv_a": 203,
         "no_conv_a": 23536,
         "conv_b": 179,
         "no_conv_b": 22409,
         "_deepnote_index_column": 961
        },
        {
         "conv_a": 203,
         "no_conv_a": 23536,
         "conv_b": 179,
         "no_conv_b": 22409,
         "_deepnote_index_column": 962
        },
        {
         "conv_a": 212,
         "no_conv_a": 23527,
         "conv_b": 170,
         "no_conv_b": 22418,
         "_deepnote_index_column": 963
        },
        {
         "conv_a": 195,
         "no_conv_a": 23544,
         "conv_b": 187,
         "no_conv_b": 22401,
         "_deepnote_index_column": 964
        },
        {
         "conv_a": 191,
         "no_conv_a": 23548,
         "conv_b": 191,
         "no_conv_b": 22397,
         "_deepnote_index_column": 965
        },
        {
         "conv_a": 170,
         "no_conv_a": 23569,
         "conv_b": 212,
         "no_conv_b": 22376,
         "_deepnote_index_column": 966
        },
        {
         "conv_a": 183,
         "no_conv_a": 23556,
         "conv_b": 199,
         "no_conv_b": 22389,
         "_deepnote_index_column": 967
        },
        {
         "conv_a": 197,
         "no_conv_a": 23542,
         "conv_b": 185,
         "no_conv_b": 22403,
         "_deepnote_index_column": 968
        },
        {
         "conv_a": 213,
         "no_conv_a": 23526,
         "conv_b": 169,
         "no_conv_b": 22419,
         "_deepnote_index_column": 969
        },
        {
         "conv_a": 173,
         "no_conv_a": 23566,
         "conv_b": 209,
         "no_conv_b": 22379,
         "_deepnote_index_column": 970
        },
        {
         "conv_a": 200,
         "no_conv_a": 23539,
         "conv_b": 182,
         "no_conv_b": 22406,
         "_deepnote_index_column": 971
        },
        {
         "conv_a": 174,
         "no_conv_a": 23565,
         "conv_b": 208,
         "no_conv_b": 22380,
         "_deepnote_index_column": 972
        },
        {
         "conv_a": 177,
         "no_conv_a": 23562,
         "conv_b": 205,
         "no_conv_b": 22383,
         "_deepnote_index_column": 973
        },
        {
         "conv_a": 217,
         "no_conv_a": 23522,
         "conv_b": 165,
         "no_conv_b": 22423,
         "_deepnote_index_column": 974
        },
        {
         "conv_a": 190,
         "no_conv_a": 23549,
         "conv_b": 192,
         "no_conv_b": 22396,
         "_deepnote_index_column": 975
        },
        {
         "conv_a": 182,
         "no_conv_a": 23557,
         "conv_b": 200,
         "no_conv_b": 22388,
         "_deepnote_index_column": 976
        },
        {
         "conv_a": 207,
         "no_conv_a": 23532,
         "conv_b": 175,
         "no_conv_b": 22413,
         "_deepnote_index_column": 977
        },
        {
         "conv_a": 200,
         "no_conv_a": 23539,
         "conv_b": 182,
         "no_conv_b": 22406,
         "_deepnote_index_column": 978
        },
        {
         "conv_a": 197,
         "no_conv_a": 23542,
         "conv_b": 185,
         "no_conv_b": 22403,
         "_deepnote_index_column": 979
        },
        {
         "conv_a": 207,
         "no_conv_a": 23532,
         "conv_b": 175,
         "no_conv_b": 22413,
         "_deepnote_index_column": 980
        },
        {
         "conv_a": 202,
         "no_conv_a": 23537,
         "conv_b": 180,
         "no_conv_b": 22408,
         "_deepnote_index_column": 981
        },
        {
         "conv_a": 202,
         "no_conv_a": 23537,
         "conv_b": 180,
         "no_conv_b": 22408,
         "_deepnote_index_column": 982
        },
        {
         "conv_a": 177,
         "no_conv_a": 23562,
         "conv_b": 205,
         "no_conv_b": 22383,
         "_deepnote_index_column": 983
        },
        {
         "conv_a": 199,
         "no_conv_a": 23540,
         "conv_b": 183,
         "no_conv_b": 22405,
         "_deepnote_index_column": 984
        },
        {
         "conv_a": 195,
         "no_conv_a": 23544,
         "conv_b": 187,
         "no_conv_b": 22401,
         "_deepnote_index_column": 985
        },
        {
         "conv_a": 200,
         "no_conv_a": 23539,
         "conv_b": 182,
         "no_conv_b": 22406,
         "_deepnote_index_column": 986
        },
        {
         "conv_a": 196,
         "no_conv_a": 23543,
         "conv_b": 186,
         "no_conv_b": 22402,
         "_deepnote_index_column": 987
        },
        {
         "conv_a": 185,
         "no_conv_a": 23554,
         "conv_b": 197,
         "no_conv_b": 22391,
         "_deepnote_index_column": 988
        },
        {
         "conv_a": 188,
         "no_conv_a": 23551,
         "conv_b": 194,
         "no_conv_b": 22394,
         "_deepnote_index_column": 989
        },
        {
         "conv_a": 190,
         "no_conv_a": 23549,
         "conv_b": 192,
         "no_conv_b": 22396,
         "_deepnote_index_column": 990
        },
        {
         "conv_a": 182,
         "no_conv_a": 23557,
         "conv_b": 200,
         "no_conv_b": 22388,
         "_deepnote_index_column": 991
        },
        {
         "conv_a": 208,
         "no_conv_a": 23531,
         "conv_b": 174,
         "no_conv_b": 22414,
         "_deepnote_index_column": 992
        },
        {
         "conv_a": 170,
         "no_conv_a": 23569,
         "conv_b": 212,
         "no_conv_b": 22376,
         "_deepnote_index_column": 993
        },
        {
         "conv_a": 193,
         "no_conv_a": 23546,
         "conv_b": 189,
         "no_conv_b": 22399,
         "_deepnote_index_column": 994
        },
        {
         "conv_a": 199,
         "no_conv_a": 23540,
         "conv_b": 183,
         "no_conv_b": 22405,
         "_deepnote_index_column": 995
        },
        {
         "conv_a": 200,
         "no_conv_a": 23539,
         "conv_b": 182,
         "no_conv_b": 22406,
         "_deepnote_index_column": 996
        },
        {
         "conv_a": 191,
         "no_conv_a": 23548,
         "conv_b": 191,
         "no_conv_b": 22397,
         "_deepnote_index_column": 997
        },
        {
         "conv_a": 204,
         "no_conv_a": 23535,
         "conv_b": 178,
         "no_conv_b": 22410,
         "_deepnote_index_column": 998
        },
        {
         "conv_a": 188,
         "no_conv_a": 23551,
         "conv_b": 194,
         "no_conv_b": 22394,
         "_deepnote_index_column": 999
        }
       ]
      },
      "text/plain": "     conv_a  no_conv_a  conv_b  no_conv_b\n0       209      23530     173      22415\n1       194      23545     188      22400\n2       195      23544     187      22401\n3       168      23571     214      22374\n4       199      23540     183      22405\n..      ...        ...     ...        ...\n995     199      23540     183      22405\n996     200      23539     182      22406\n997     191      23548     191      22397\n998     204      23535     178      22410\n999     188      23551     194      22394\n\n[1000 rows x 4 columns]",
      "text/html": "<div>\n<style scoped>\n    .dataframe tbody tr th:only-of-type {\n        vertical-align: middle;\n    }\n\n    .dataframe tbody tr th {\n        vertical-align: top;\n    }\n\n    .dataframe thead th {\n        text-align: right;\n    }\n</style>\n<table border=\"1\" class=\"dataframe\">\n  <thead>\n    <tr style=\"text-align: right;\">\n      <th></th>\n      <th>conv_a</th>\n      <th>no_conv_a</th>\n      <th>conv_b</th>\n      <th>no_conv_b</th>\n    </tr>\n  </thead>\n  <tbody>\n    <tr>\n      <th>0</th>\n      <td>209</td>\n      <td>23530</td>\n      <td>173</td>\n      <td>22415</td>\n    </tr>\n    <tr>\n      <th>1</th>\n      <td>194</td>\n      <td>23545</td>\n      <td>188</td>\n      <td>22400</td>\n    </tr>\n    <tr>\n      <th>2</th>\n      <td>195</td>\n      <td>23544</td>\n      <td>187</td>\n      <td>22401</td>\n    </tr>\n    <tr>\n      <th>3</th>\n      <td>168</td>\n      <td>23571</td>\n      <td>214</td>\n      <td>22374</td>\n    </tr>\n    <tr>\n      <th>4</th>\n      <td>199</td>\n      <td>23540</td>\n      <td>183</td>\n      <td>22405</td>\n    </tr>\n    <tr>\n      <th>...</th>\n      <td>...</td>\n      <td>...</td>\n      <td>...</td>\n      <td>...</td>\n    </tr>\n    <tr>\n      <th>995</th>\n      <td>199</td>\n      <td>23540</td>\n      <td>183</td>\n      <td>22405</td>\n    </tr>\n    <tr>\n      <th>996</th>\n      <td>200</td>\n      <td>23539</td>\n      <td>182</td>\n      <td>22406</td>\n    </tr>\n    <tr>\n      <th>997</th>\n      <td>191</td>\n      <td>23548</td>\n      <td>191</td>\n      <td>22397</td>\n    </tr>\n    <tr>\n      <th>998</th>\n      <td>204</td>\n      <td>23535</td>\n      <td>178</td>\n      <td>22410</td>\n    </tr>\n    <tr>\n      <th>999</th>\n      <td>188</td>\n      <td>23551</td>\n      <td>194</td>\n      <td>22394</td>\n    </tr>\n  </tbody>\n</table>\n<p>1000 rows × 4 columns</p>\n</div>"
     },
     "metadata": {}
    }
   ]
  },
  {
   "cell_type": "code",
   "metadata": {
    "tags": [],
    "cell_id": "00008-2cc36d42-71dd-4f0f-99b7-ee6b5a032855",
    "deepnote_to_be_reexecuted": false,
    "source_hash": "2d215055",
    "execution_start": 1632273197725,
    "execution_millis": 50,
    "deepnote_cell_type": "code"
   },
   "source": "results['a_conv_rate'] = results['conv_a'] / (results['conv_a'] +results['no_conv_a'])\nresults['b_conv_rate'] = results['conv_b'] / (results['conv_b'] +results['no_conv_b'])\n\nresults['diff'] = 1 -(results['a_conv_rate']/results['b_conv_rate'])\nresults",
   "execution_count": null,
   "outputs": [
    {
     "output_type": "execute_result",
     "execution_count": 12,
     "data": {
      "application/vnd.deepnote.dataframe.v2+json": {
       "row_count": 1000,
       "column_count": 7,
       "columns": [
        {
         "name": "conv_a",
         "dtype": "int64",
         "stats": {
          "unique_count": 55,
          "nan_count": 0,
          "min": "167",
          "max": "224",
          "histogram": [
           {
            "bin_start": 167,
            "bin_end": 172.7,
            "count": 9
           },
           {
            "bin_start": 172.7,
            "bin_end": 178.4,
            "count": 33
           },
           {
            "bin_start": 178.4,
            "bin_end": 184.1,
            "count": 84
           },
           {
            "bin_start": 184.1,
            "bin_end": 189.8,
            "count": 148
           },
           {
            "bin_start": 189.8,
            "bin_end": 195.5,
            "count": 219
           },
           {
            "bin_start": 195.5,
            "bin_end": 201.2,
            "count": 254
           },
           {
            "bin_start": 201.2,
            "bin_end": 206.9,
            "count": 134
           },
           {
            "bin_start": 206.9,
            "bin_end": 212.6,
            "count": 79
           },
           {
            "bin_start": 212.6,
            "bin_end": 218.3,
            "count": 32
           },
           {
            "bin_start": 218.3,
            "bin_end": 224,
            "count": 8
           }
          ]
         }
        },
        {
         "name": "no_conv_a",
         "dtype": "int64",
         "stats": {
          "unique_count": 55,
          "nan_count": 0,
          "min": "23515",
          "max": "23572",
          "histogram": [
           {
            "bin_start": 23515,
            "bin_end": 23520.7,
            "count": 8
           },
           {
            "bin_start": 23520.7,
            "bin_end": 23526.4,
            "count": 32
           },
           {
            "bin_start": 23526.4,
            "bin_end": 23532.1,
            "count": 79
           },
           {
            "bin_start": 23532.1,
            "bin_end": 23537.8,
            "count": 134
           },
           {
            "bin_start": 23537.8,
            "bin_end": 23543.5,
            "count": 254
           },
           {
            "bin_start": 23543.5,
            "bin_end": 23549.2,
            "count": 219
           },
           {
            "bin_start": 23549.2,
            "bin_end": 23554.9,
            "count": 148
           },
           {
            "bin_start": 23554.9,
            "bin_end": 23560.6,
            "count": 84
           },
           {
            "bin_start": 23560.6,
            "bin_end": 23566.3,
            "count": 33
           },
           {
            "bin_start": 23566.3,
            "bin_end": 23572,
            "count": 9
           }
          ]
         }
        },
        {
         "name": "conv_b",
         "dtype": "int64",
         "stats": {
          "unique_count": 55,
          "nan_count": 0,
          "min": "158",
          "max": "215",
          "histogram": [
           {
            "bin_start": 158,
            "bin_end": 163.7,
            "count": 8
           },
           {
            "bin_start": 163.7,
            "bin_end": 169.4,
            "count": 32
           },
           {
            "bin_start": 169.4,
            "bin_end": 175.1,
            "count": 79
           },
           {
            "bin_start": 175.1,
            "bin_end": 180.8,
            "count": 134
           },
           {
            "bin_start": 180.8,
            "bin_end": 186.5,
            "count": 254
           },
           {
            "bin_start": 186.5,
            "bin_end": 192.2,
            "count": 219
           },
           {
            "bin_start": 192.2,
            "bin_end": 197.9,
            "count": 148
           },
           {
            "bin_start": 197.9,
            "bin_end": 203.6,
            "count": 84
           },
           {
            "bin_start": 203.6,
            "bin_end": 209.3,
            "count": 33
           },
           {
            "bin_start": 209.3,
            "bin_end": 215,
            "count": 9
           }
          ]
         }
        },
        {
         "name": "no_conv_b",
         "dtype": "int64",
         "stats": {
          "unique_count": 55,
          "nan_count": 0,
          "min": "22373",
          "max": "22430",
          "histogram": [
           {
            "bin_start": 22373,
            "bin_end": 22378.7,
            "count": 9
           },
           {
            "bin_start": 22378.7,
            "bin_end": 22384.4,
            "count": 33
           },
           {
            "bin_start": 22384.4,
            "bin_end": 22390.1,
            "count": 84
           },
           {
            "bin_start": 22390.1,
            "bin_end": 22395.8,
            "count": 148
           },
           {
            "bin_start": 22395.8,
            "bin_end": 22401.5,
            "count": 219
           },
           {
            "bin_start": 22401.5,
            "bin_end": 22407.2,
            "count": 254
           },
           {
            "bin_start": 22407.2,
            "bin_end": 22412.9,
            "count": 134
           },
           {
            "bin_start": 22412.9,
            "bin_end": 22418.6,
            "count": 79
           },
           {
            "bin_start": 22418.6,
            "bin_end": 22424.3,
            "count": 32
           },
           {
            "bin_start": 22424.3,
            "bin_end": 22430,
            "count": 8
           }
          ]
         }
        },
        {
         "name": "a_conv_rate",
         "dtype": "float64",
         "stats": {
          "unique_count": 55,
          "nan_count": 0,
          "min": "0.007034837187750116",
          "max": "0.009435949281772611",
          "histogram": [
           {
            "bin_start": 0.007034837187750116,
            "bin_end": 0.0072749483971523655,
            "count": 9
           },
           {
            "bin_start": 0.0072749483971523655,
            "bin_end": 0.007515059606554615,
            "count": 33
           },
           {
            "bin_start": 0.007515059606554615,
            "bin_end": 0.007755170815956865,
            "count": 84
           },
           {
            "bin_start": 0.007755170815956865,
            "bin_end": 0.007995282025359114,
            "count": 148
           },
           {
            "bin_start": 0.007995282025359114,
            "bin_end": 0.008235393234761364,
            "count": 219
           },
           {
            "bin_start": 0.008235393234761364,
            "bin_end": 0.008475504444163614,
            "count": 254
           },
           {
            "bin_start": 0.008475504444163614,
            "bin_end": 0.008715615653565862,
            "count": 134
           },
           {
            "bin_start": 0.008715615653565862,
            "bin_end": 0.008955726862968113,
            "count": 79
           },
           {
            "bin_start": 0.008955726862968113,
            "bin_end": 0.009195838072370361,
            "count": 32
           },
           {
            "bin_start": 0.009195838072370361,
            "bin_end": 0.009435949281772611,
            "count": 8
           }
          ]
         }
        },
        {
         "name": "b_conv_rate",
         "dtype": "float64",
         "stats": {
          "unique_count": 55,
          "nan_count": 0,
          "min": "0.006994864529838852",
          "max": "0.009518328315919958",
          "histogram": [
           {
            "bin_start": 0.006994864529838852,
            "bin_end": 0.007247210908446963,
            "count": 8
           },
           {
            "bin_start": 0.007247210908446963,
            "bin_end": 0.007499557287055074,
            "count": 32
           },
           {
            "bin_start": 0.007499557287055074,
            "bin_end": 0.007751903665663184,
            "count": 79
           },
           {
            "bin_start": 0.007751903665663184,
            "bin_end": 0.008004250044271294,
            "count": 134
           },
           {
            "bin_start": 0.008004250044271294,
            "bin_end": 0.008256596422879405,
            "count": 254
           },
           {
            "bin_start": 0.008256596422879405,
            "bin_end": 0.008508942801487515,
            "count": 219
           },
           {
            "bin_start": 0.008508942801487515,
            "bin_end": 0.008761289180095626,
            "count": 148
           },
           {
            "bin_start": 0.008761289180095626,
            "bin_end": 0.009013635558703737,
            "count": 84
           },
           {
            "bin_start": 0.009013635558703737,
            "bin_end": 0.009265981937311847,
            "count": 33
           },
           {
            "bin_start": 0.009265981937311847,
            "bin_end": 0.009518328315919958,
            "count": 9
           }
          ]
         }
        },
        {
         "name": "diff",
         "dtype": "float64",
         "stats": {
          "unique_count": 55,
          "nan_count": 0,
          "min": "-0.348982420105568",
          "max": "0.26091673303767626",
          "histogram": [
           {
            "bin_start": -0.348982420105568,
            "bin_end": -0.2879925047912436,
            "count": 5
           },
           {
            "bin_start": -0.2879925047912436,
            "bin_end": -0.22700258947691915,
            "count": 12
           },
           {
            "bin_start": -0.22700258947691915,
            "bin_end": -0.16601267416259474,
            "count": 44
           },
           {
            "bin_start": -0.16601267416259474,
            "bin_end": -0.10502275884827031,
            "count": 85
           },
           {
            "bin_start": -0.10502275884827031,
            "bin_end": -0.044032843533945876,
            "count": 190
           },
           {
            "bin_start": -0.044032843533945876,
            "bin_end": 0.01695707178037853,
            "count": 202
           },
           {
            "bin_start": 0.01695707178037853,
            "bin_end": 0.07794698709470299,
            "count": 261
           },
           {
            "bin_start": 0.07794698709470299,
            "bin_end": 0.1389369024090274,
            "count": 126
           },
           {
            "bin_start": 0.1389369024090274,
            "bin_end": 0.19992681772335186,
            "count": 56
           },
           {
            "bin_start": 0.19992681772335186,
            "bin_end": 0.26091673303767626,
            "count": 19
           }
          ]
         }
        },
        {
         "name": "_deepnote_index_column",
         "dtype": "int64"
        }
       ],
       "rows_top": [
        {
         "conv_a": 209,
         "no_conv_a": 23530,
         "conv_b": 173,
         "no_conv_b": 22415,
         "a_conv_rate": 0.00880407767808248,
         "b_conv_rate": 0.007658933947228617,
         "diff": -0.14951737914755503,
         "_deepnote_index_column": 0
        },
        {
         "conv_a": 194,
         "no_conv_a": 23545,
         "conv_b": 188,
         "no_conv_b": 22400,
         "a_conv_rate": 0.00817220607439235,
         "b_conv_rate": 0.008323003364618381,
         "diff": 0.018118133998008545,
         "_deepnote_index_column": 1
        },
        {
         "conv_a": 195,
         "no_conv_a": 23544,
         "conv_b": 187,
         "no_conv_b": 22401,
         "a_conv_rate": 0.008214330847971692,
         "b_conv_rate": 0.00827873207012573,
         "diff": 0.007779116609708203,
         "_deepnote_index_column": 2
        },
        {
         "conv_a": 168,
         "no_conv_a": 23571,
         "conv_b": 214,
         "no_conv_b": 22374,
         "a_conv_rate": 0.0070769619613294575,
         "b_conv_rate": 0.009474057021427307,
         "diff": 0.2530167440069636,
         "_deepnote_index_column": 3
        },
        {
         "conv_a": 199,
         "no_conv_a": 23540,
         "conv_b": 183,
         "no_conv_b": 22405,
         "a_conv_rate": 0.00838282994228906,
         "b_conv_rate": 0.008101646892155126,
         "diff": -0.03470690019904543,
         "_deepnote_index_column": 4
        },
        {
         "conv_a": 190,
         "no_conv_a": 23549,
         "conv_b": 192,
         "no_conv_b": 22396,
         "a_conv_rate": 0.008003706980074982,
         "b_conv_rate": 0.008500088542588985,
         "diff": 0.058397222573261964,
         "_deepnote_index_column": 5
        },
        {
         "conv_a": 210,
         "no_conv_a": 23529,
         "conv_b": 172,
         "no_conv_b": 22416,
         "a_conv_rate": 0.008846202451661822,
         "b_conv_rate": 0.007614662652735966,
         "diff": -0.16173268010544906,
         "_deepnote_index_column": 6
        },
        {
         "conv_a": 183,
         "no_conv_a": 23556,
         "conv_b": 199,
         "no_conv_b": 22389,
         "a_conv_rate": 0.007708833565019588,
         "b_conv_rate": 0.008809987604037542,
         "diff": 0.12498928358461081,
         "_deepnote_index_column": 7
        },
        {
         "conv_a": 193,
         "no_conv_a": 23546,
         "conv_b": 189,
         "no_conv_b": 22399,
         "a_conv_rate": 0.008130081300813009,
         "b_conv_rate": 0.008367274659111032,
         "diff": 0.028347743794898128,
         "_deepnote_index_column": 8
        },
        {
         "conv_a": 186,
         "no_conv_a": 23553,
         "conv_b": 196,
         "no_conv_b": 22392,
         "a_conv_rate": 0.007835207885757613,
         "b_conv_rate": 0.00867717372055959,
         "diff": 0.0970322667168726,
         "_deepnote_index_column": 9
        },
        {
         "conv_a": 200,
         "no_conv_a": 23539,
         "conv_b": 182,
         "no_conv_b": 22406,
         "a_conv_rate": 0.008424954715868403,
         "b_conv_rate": 0.008057375597662475,
         "diff": -0.04562020396722799,
         "_deepnote_index_column": 10
        },
        {
         "conv_a": 199,
         "no_conv_a": 23540,
         "conv_b": 183,
         "no_conv_b": 22405,
         "a_conv_rate": 0.00838282994228906,
         "b_conv_rate": 0.008101646892155126,
         "diff": -0.03470690019904543,
         "_deepnote_index_column": 11
        },
        {
         "conv_a": 207,
         "no_conv_a": 23532,
         "conv_b": 175,
         "no_conv_b": 22413,
         "a_conv_rate": 0.008719828130923797,
         "b_conv_rate": 0.007747476536213919,
         "diff": -0.12550558755032415,
         "_deepnote_index_column": 12
        },
        {
         "conv_a": 199,
         "no_conv_a": 23540,
         "conv_b": 183,
         "no_conv_b": 22405,
         "a_conv_rate": 0.00838282994228906,
         "b_conv_rate": 0.008101646892155126,
         "diff": -0.03470690019904543,
         "_deepnote_index_column": 13
        },
        {
         "conv_a": 186,
         "no_conv_a": 23553,
         "conv_b": 196,
         "no_conv_b": 22392,
         "a_conv_rate": 0.007835207885757613,
         "b_conv_rate": 0.00867717372055959,
         "diff": 0.0970322667168726,
         "_deepnote_index_column": 14
        },
        {
         "conv_a": 176,
         "no_conv_a": 23563,
         "conv_b": 206,
         "no_conv_b": 22382,
         "a_conv_rate": 0.007413960149964194,
         "b_conv_rate": 0.0091198866654861,
         "diff": 0.18705567054664463,
         "_deepnote_index_column": 15
        },
        {
         "conv_a": 198,
         "no_conv_a": 23541,
         "conv_b": 184,
         "no_conv_b": 22404,
         "a_conv_rate": 0.008340705168709718,
         "b_conv_rate": 0.008145918186647777,
         "diff": -0.02391221929790821,
         "_deepnote_index_column": 16
        },
        {
         "conv_a": 189,
         "no_conv_a": 23550,
         "conv_b": 193,
         "no_conv_b": 22395,
         "a_conv_rate": 0.00796158220649564,
         "b_conv_rate": 0.008544359837081636,
         "diff": 0.06820611979106983,
         "_deepnote_index_column": 17
        },
        {
         "conv_a": 198,
         "no_conv_a": 23541,
         "conv_b": 184,
         "no_conv_b": 22404,
         "a_conv_rate": 0.008340705168709718,
         "b_conv_rate": 0.008145918186647777,
         "diff": -0.02391221929790821,
         "_deepnote_index_column": 18
        },
        {
         "conv_a": 197,
         "no_conv_a": 23542,
         "conv_b": 185,
         "no_conv_b": 22403,
         "a_conv_rate": 0.008298580395130376,
         "b_conv_rate": 0.008190189481140428,
         "diff": -0.013234237649756508,
         "_deepnote_index_column": 19
        },
        {
         "conv_a": 192,
         "no_conv_a": 23547,
         "conv_b": 190,
         "no_conv_b": 22398,
         "a_conv_rate": 0.008087956527233667,
         "b_conv_rate": 0.008411545953603683,
         "diff": 0.038469673488662814,
         "_deepnote_index_column": 20
        },
        {
         "conv_a": 198,
         "no_conv_a": 23541,
         "conv_b": 184,
         "no_conv_b": 22404,
         "a_conv_rate": 0.008340705168709718,
         "b_conv_rate": 0.008145918186647777,
         "diff": -0.02391221929790821,
         "_deepnote_index_column": 21
        },
        {
         "conv_a": 190,
         "no_conv_a": 23549,
         "conv_b": 192,
         "no_conv_b": 22396,
         "a_conv_rate": 0.008003706980074982,
         "b_conv_rate": 0.008500088542588985,
         "diff": 0.058397222573261964,
         "_deepnote_index_column": 22
        },
        {
         "conv_a": 184,
         "no_conv_a": 23555,
         "conv_b": 198,
         "no_conv_b": 22390,
         "a_conv_rate": 0.00775095833859893,
         "b_conv_rate": 0.008765716309544891,
         "diff": 0.11576440933195642,
         "_deepnote_index_column": 23
        },
        {
         "conv_a": 192,
         "no_conv_a": 23547,
         "conv_b": 190,
         "no_conv_b": 22398,
         "a_conv_rate": 0.008087956527233667,
         "b_conv_rate": 0.008411545953603683,
         "diff": 0.038469673488662814,
         "_deepnote_index_column": 24
        },
        {
         "conv_a": 201,
         "no_conv_a": 23538,
         "conv_b": 181,
         "no_conv_b": 22407,
         "a_conv_rate": 0.008467079489447743,
         "b_conv_rate": 0.008013104303169824,
         "diff": -0.05665409672732391,
         "_deepnote_index_column": 25
        },
        {
         "conv_a": 199,
         "no_conv_a": 23540,
         "conv_b": 183,
         "no_conv_b": 22405,
         "a_conv_rate": 0.00838282994228906,
         "b_conv_rate": 0.008101646892155126,
         "diff": -0.03470690019904543,
         "_deepnote_index_column": 26
        },
        {
         "conv_a": 184,
         "no_conv_a": 23555,
         "conv_b": 198,
         "no_conv_b": 22390,
         "a_conv_rate": 0.00775095833859893,
         "b_conv_rate": 0.008765716309544891,
         "diff": 0.11576440933195642,
         "_deepnote_index_column": 27
        },
        {
         "conv_a": 203,
         "no_conv_a": 23536,
         "conv_b": 179,
         "no_conv_b": 22409,
         "a_conv_rate": 0.008551329036606428,
         "b_conv_rate": 0.007924561714184522,
         "diff": -0.07909173340148601,
         "_deepnote_index_column": 28
        },
        {
         "conv_a": 203,
         "no_conv_a": 23536,
         "conv_b": 179,
         "no_conv_b": 22409,
         "a_conv_rate": 0.008551329036606428,
         "b_conv_rate": 0.007924561714184522,
         "diff": -0.07909173340148601,
         "_deepnote_index_column": 29
        },
        {
         "conv_a": 191,
         "no_conv_a": 23548,
         "conv_b": 191,
         "no_conv_b": 22397,
         "a_conv_rate": 0.008045831753654325,
         "b_conv_rate": 0.008455817248096334,
         "diff": 0.04848561438982257,
         "_deepnote_index_column": 30
        },
        {
         "conv_a": 213,
         "no_conv_a": 23526,
         "conv_b": 169,
         "no_conv_b": 22419,
         "a_conv_rate": 0.008972576772399848,
         "b_conv_rate": 0.007481848769258013,
         "diff": -0.19924594162702824,
         "_deepnote_index_column": 31
        },
        {
         "conv_a": 215,
         "no_conv_a": 23524,
         "conv_b": 167,
         "no_conv_b": 22421,
         "a_conv_rate": 0.009056826319558533,
         "b_conv_rate": 0.007393306180272711,
         "diff": -0.2250035503364558,
         "_deepnote_index_column": 32
        },
        {
         "conv_a": 203,
         "no_conv_a": 23536,
         "conv_b": 179,
         "no_conv_b": 22409,
         "a_conv_rate": 0.008551329036606428,
         "b_conv_rate": 0.007924561714184522,
         "diff": -0.07909173340148601,
         "_deepnote_index_column": 33
        },
        {
         "conv_a": 199,
         "no_conv_a": 23540,
         "conv_b": 183,
         "no_conv_b": 22405,
         "a_conv_rate": 0.00838282994228906,
         "b_conv_rate": 0.008101646892155126,
         "diff": -0.03470690019904543,
         "_deepnote_index_column": 34
        },
        {
         "conv_a": 191,
         "no_conv_a": 23548,
         "conv_b": 191,
         "no_conv_b": 22397,
         "a_conv_rate": 0.008045831753654325,
         "b_conv_rate": 0.008455817248096334,
         "diff": 0.04848561438982257,
         "_deepnote_index_column": 35
        },
        {
         "conv_a": 193,
         "no_conv_a": 23546,
         "conv_b": 189,
         "no_conv_b": 22399,
         "a_conv_rate": 0.008130081300813009,
         "b_conv_rate": 0.008367274659111032,
         "diff": 0.028347743794898128,
         "_deepnote_index_column": 36
        },
        {
         "conv_a": 213,
         "no_conv_a": 23526,
         "conv_b": 169,
         "no_conv_b": 22419,
         "a_conv_rate": 0.008972576772399848,
         "b_conv_rate": 0.007481848769258013,
         "diff": -0.19924594162702824,
         "_deepnote_index_column": 37
        },
        {
         "conv_a": 209,
         "no_conv_a": 23530,
         "conv_b": 173,
         "no_conv_b": 22415,
         "a_conv_rate": 0.00880407767808248,
         "b_conv_rate": 0.007658933947228617,
         "diff": -0.14951737914755503,
         "_deepnote_index_column": 38
        },
        {
         "conv_a": 200,
         "no_conv_a": 23539,
         "conv_b": 182,
         "no_conv_b": 22406,
         "a_conv_rate": 0.008424954715868403,
         "b_conv_rate": 0.008057375597662475,
         "diff": -0.04562020396722799,
         "_deepnote_index_column": 39
        },
        {
         "conv_a": 178,
         "no_conv_a": 23561,
         "conv_b": 204,
         "no_conv_b": 22384,
         "a_conv_rate": 0.007498209697122878,
         "b_conv_rate": 0.009031344076500797,
         "diff": 0.16975705569308053,
         "_deepnote_index_column": 40
        },
        {
         "conv_a": 206,
         "no_conv_a": 23533,
         "conv_b": 176,
         "no_conv_b": 22412,
         "a_conv_rate": 0.008677703357344455,
         "b_conv_rate": 0.00779174783070657,
         "diff": -0.11370433770282129,
         "_deepnote_index_column": 41
        },
        {
         "conv_a": 197,
         "no_conv_a": 23542,
         "conv_b": 185,
         "no_conv_b": 22403,
         "a_conv_rate": 0.008298580395130376,
         "b_conv_rate": 0.008190189481140428,
         "diff": -0.013234237649756508,
         "_deepnote_index_column": 42
        },
        {
         "conv_a": 208,
         "no_conv_a": 23531,
         "conv_b": 174,
         "no_conv_b": 22414,
         "a_conv_rate": 0.008761952904503139,
         "b_conv_rate": 0.007703205241721268,
         "diff": -0.13744248394779834,
         "_deepnote_index_column": 43
        },
        {
         "conv_a": 191,
         "no_conv_a": 23548,
         "conv_b": 191,
         "no_conv_b": 22397,
         "a_conv_rate": 0.008045831753654325,
         "b_conv_rate": 0.008455817248096334,
         "diff": 0.04848561438982257,
         "_deepnote_index_column": 44
        },
        {
         "conv_a": 189,
         "no_conv_a": 23550,
         "conv_b": 193,
         "no_conv_b": 22395,
         "a_conv_rate": 0.00796158220649564,
         "b_conv_rate": 0.008544359837081636,
         "diff": 0.06820611979106983,
         "_deepnote_index_column": 45
        },
        {
         "conv_a": 209,
         "no_conv_a": 23530,
         "conv_b": 173,
         "no_conv_b": 22415,
         "a_conv_rate": 0.00880407767808248,
         "b_conv_rate": 0.007658933947228617,
         "diff": -0.14951737914755503,
         "_deepnote_index_column": 46
        },
        {
         "conv_a": 190,
         "no_conv_a": 23549,
         "conv_b": 192,
         "no_conv_b": 22396,
         "a_conv_rate": 0.008003706980074982,
         "b_conv_rate": 0.008500088542588985,
         "diff": 0.058397222573261964,
         "_deepnote_index_column": 47
        },
        {
         "conv_a": 187,
         "no_conv_a": 23552,
         "conv_b": 195,
         "no_conv_b": 22393,
         "a_conv_rate": 0.007877332659336956,
         "b_conv_rate": 0.008632902426066938,
         "diff": 0.0875221020045992,
         "_deepnote_index_column": 48
        },
        {
         "conv_a": 187,
         "no_conv_a": 23552,
         "conv_b": 195,
         "no_conv_b": 22393,
         "a_conv_rate": 0.007877332659336956,
         "b_conv_rate": 0.008632902426066938,
         "diff": 0.0875221020045992,
         "_deepnote_index_column": 49
        },
        {
         "conv_a": 196,
         "no_conv_a": 23543,
         "conv_b": 186,
         "no_conv_b": 22402,
         "a_conv_rate": 0.008256455621551034,
         "b_conv_rate": 0.00823446077563308,
         "diff": -0.002671073008573943,
         "_deepnote_index_column": 50
        },
        {
         "conv_a": 204,
         "no_conv_a": 23535,
         "conv_b": 178,
         "no_conv_b": 22410,
         "a_conv_rate": 0.00859345381018577,
         "b_conv_rate": 0.007880290419691871,
         "diff": -0.09049963294649532,
         "_deepnote_index_column": 51
        },
        {
         "conv_a": 190,
         "no_conv_a": 23549,
         "conv_b": 192,
         "no_conv_b": 22396,
         "a_conv_rate": 0.008003706980074982,
         "b_conv_rate": 0.008500088542588985,
         "diff": 0.058397222573261964,
         "_deepnote_index_column": 52
        },
        {
         "conv_a": 186,
         "no_conv_a": 23553,
         "conv_b": 196,
         "no_conv_b": 22392,
         "a_conv_rate": 0.007835207885757613,
         "b_conv_rate": 0.00867717372055959,
         "diff": 0.0970322667168726,
         "_deepnote_index_column": 53
        },
        {
         "conv_a": 182,
         "no_conv_a": 23557,
         "conv_b": 200,
         "no_conv_b": 22388,
         "a_conv_rate": 0.007666708791440246,
         "b_conv_rate": 0.008854258898530193,
         "diff": 0.13412190909473864,
         "_deepnote_index_column": 54
        },
        {
         "conv_a": 197,
         "no_conv_a": 23542,
         "conv_b": 185,
         "no_conv_b": 22403,
         "a_conv_rate": 0.008298580395130376,
         "b_conv_rate": 0.008190189481140428,
         "diff": -0.013234237649756508,
         "_deepnote_index_column": 55
        },
        {
         "conv_a": 197,
         "no_conv_a": 23542,
         "conv_b": 185,
         "no_conv_b": 22403,
         "a_conv_rate": 0.008298580395130376,
         "b_conv_rate": 0.008190189481140428,
         "diff": -0.013234237649756508,
         "_deepnote_index_column": 56
        },
        {
         "conv_a": 204,
         "no_conv_a": 23535,
         "conv_b": 178,
         "no_conv_b": 22410,
         "a_conv_rate": 0.00859345381018577,
         "b_conv_rate": 0.007880290419691871,
         "diff": -0.09049963294649532,
         "_deepnote_index_column": 57
        },
        {
         "conv_a": 176,
         "no_conv_a": 23563,
         "conv_b": 206,
         "no_conv_b": 22382,
         "a_conv_rate": 0.007413960149964194,
         "b_conv_rate": 0.0091198866654861,
         "diff": 0.18705567054664463,
         "_deepnote_index_column": 58
        },
        {
         "conv_a": 197,
         "no_conv_a": 23542,
         "conv_b": 185,
         "no_conv_b": 22403,
         "a_conv_rate": 0.008298580395130376,
         "b_conv_rate": 0.008190189481140428,
         "diff": -0.013234237649756508,
         "_deepnote_index_column": 59
        },
        {
         "conv_a": 192,
         "no_conv_a": 23547,
         "conv_b": 190,
         "no_conv_b": 22398,
         "a_conv_rate": 0.008087956527233667,
         "b_conv_rate": 0.008411545953603683,
         "diff": 0.038469673488662814,
         "_deepnote_index_column": 60
        },
        {
         "conv_a": 201,
         "no_conv_a": 23538,
         "conv_b": 181,
         "no_conv_b": 22407,
         "a_conv_rate": 0.008467079489447743,
         "b_conv_rate": 0.008013104303169824,
         "diff": -0.05665409672732391,
         "_deepnote_index_column": 61
        },
        {
         "conv_a": 189,
         "no_conv_a": 23550,
         "conv_b": 193,
         "no_conv_b": 22395,
         "a_conv_rate": 0.00796158220649564,
         "b_conv_rate": 0.008544359837081636,
         "diff": 0.06820611979106983,
         "_deepnote_index_column": 62
        },
        {
         "conv_a": 210,
         "no_conv_a": 23529,
         "conv_b": 172,
         "no_conv_b": 22416,
         "a_conv_rate": 0.008846202451661822,
         "b_conv_rate": 0.007614662652735966,
         "diff": -0.16173268010544906,
         "_deepnote_index_column": 63
        },
        {
         "conv_a": 207,
         "no_conv_a": 23532,
         "conv_b": 175,
         "no_conv_b": 22413,
         "a_conv_rate": 0.008719828130923797,
         "b_conv_rate": 0.007747476536213919,
         "diff": -0.12550558755032415,
         "_deepnote_index_column": 64
        },
        {
         "conv_a": 186,
         "no_conv_a": 23553,
         "conv_b": 196,
         "no_conv_b": 22392,
         "a_conv_rate": 0.007835207885757613,
         "b_conv_rate": 0.00867717372055959,
         "diff": 0.0970322667168726,
         "_deepnote_index_column": 65
        },
        {
         "conv_a": 192,
         "no_conv_a": 23547,
         "conv_b": 190,
         "no_conv_b": 22398,
         "a_conv_rate": 0.008087956527233667,
         "b_conv_rate": 0.008411545953603683,
         "diff": 0.038469673488662814,
         "_deepnote_index_column": 66
        },
        {
         "conv_a": 197,
         "no_conv_a": 23542,
         "conv_b": 185,
         "no_conv_b": 22403,
         "a_conv_rate": 0.008298580395130376,
         "b_conv_rate": 0.008190189481140428,
         "diff": -0.013234237649756508,
         "_deepnote_index_column": 67
        },
        {
         "conv_a": 204,
         "no_conv_a": 23535,
         "conv_b": 178,
         "no_conv_b": 22410,
         "a_conv_rate": 0.00859345381018577,
         "b_conv_rate": 0.007880290419691871,
         "diff": -0.09049963294649532,
         "_deepnote_index_column": 68
        },
        {
         "conv_a": 187,
         "no_conv_a": 23552,
         "conv_b": 195,
         "no_conv_b": 22393,
         "a_conv_rate": 0.007877332659336956,
         "b_conv_rate": 0.008632902426066938,
         "diff": 0.0875221020045992,
         "_deepnote_index_column": 69
        },
        {
         "conv_a": 202,
         "no_conv_a": 23537,
         "conv_b": 180,
         "no_conv_b": 22408,
         "a_conv_rate": 0.008509204263027086,
         "b_conv_rate": 0.007968833008677173,
         "diff": -0.06781058829586573,
         "_deepnote_index_column": 70
        }
       ],
       "rows_bottom": [
        {
         "conv_a": 202,
         "no_conv_a": 23537,
         "conv_b": 180,
         "no_conv_b": 22408,
         "a_conv_rate": 0.008509204263027086,
         "b_conv_rate": 0.007968833008677173,
         "diff": -0.06781058829586573,
         "_deepnote_index_column": 929
        },
        {
         "conv_a": 201,
         "no_conv_a": 23538,
         "conv_b": 181,
         "no_conv_b": 22407,
         "a_conv_rate": 0.008467079489447743,
         "b_conv_rate": 0.008013104303169824,
         "diff": -0.05665409672732391,
         "_deepnote_index_column": 930
        },
        {
         "conv_a": 202,
         "no_conv_a": 23537,
         "conv_b": 180,
         "no_conv_b": 22408,
         "a_conv_rate": 0.008509204263027086,
         "b_conv_rate": 0.007968833008677173,
         "diff": -0.06781058829586573,
         "_deepnote_index_column": 931
        },
        {
         "conv_a": 192,
         "no_conv_a": 23547,
         "conv_b": 190,
         "no_conv_b": 22398,
         "a_conv_rate": 0.008087956527233667,
         "b_conv_rate": 0.008411545953603683,
         "diff": 0.038469673488662814,
         "_deepnote_index_column": 932
        },
        {
         "conv_a": 168,
         "no_conv_a": 23571,
         "conv_b": 214,
         "no_conv_b": 22374,
         "a_conv_rate": 0.0070769619613294575,
         "b_conv_rate": 0.009474057021427307,
         "diff": 0.2530167440069636,
         "_deepnote_index_column": 933
        },
        {
         "conv_a": 203,
         "no_conv_a": 23536,
         "conv_b": 179,
         "no_conv_b": 22409,
         "a_conv_rate": 0.008551329036606428,
         "b_conv_rate": 0.007924561714184522,
         "diff": -0.07909173340148601,
         "_deepnote_index_column": 934
        },
        {
         "conv_a": 202,
         "no_conv_a": 23537,
         "conv_b": 180,
         "no_conv_b": 22408,
         "a_conv_rate": 0.008509204263027086,
         "b_conv_rate": 0.007968833008677173,
         "diff": -0.06781058829586573,
         "_deepnote_index_column": 935
        },
        {
         "conv_a": 205,
         "no_conv_a": 23534,
         "conv_b": 177,
         "no_conv_b": 22411,
         "a_conv_rate": 0.008635578583765112,
         "b_conv_rate": 0.00783601912519922,
         "diff": -0.10203643531122242,
         "_deepnote_index_column": 936
        },
        {
         "conv_a": 188,
         "no_conv_a": 23551,
         "conv_b": 194,
         "no_conv_b": 22394,
         "a_conv_rate": 0.007919457432916298,
         "b_conv_rate": 0.008588631131574287,
         "diff": 0.0779138943571478,
         "_deepnote_index_column": 937
        },
        {
         "conv_a": 196,
         "no_conv_a": 23543,
         "conv_b": 186,
         "no_conv_b": 22402,
         "a_conv_rate": 0.008256455621551034,
         "b_conv_rate": 0.00823446077563308,
         "diff": -0.002671073008573943,
         "_deepnote_index_column": 938
        },
        {
         "conv_a": 190,
         "no_conv_a": 23549,
         "conv_b": 192,
         "no_conv_b": 22396,
         "a_conv_rate": 0.008003706980074982,
         "b_conv_rate": 0.008500088542588985,
         "diff": 0.058397222573261964,
         "_deepnote_index_column": 939
        },
        {
         "conv_a": 201,
         "no_conv_a": 23538,
         "conv_b": 181,
         "no_conv_b": 22407,
         "a_conv_rate": 0.008467079489447743,
         "b_conv_rate": 0.008013104303169824,
         "diff": -0.05665409672732391,
         "_deepnote_index_column": 940
        },
        {
         "conv_a": 200,
         "no_conv_a": 23539,
         "conv_b": 182,
         "no_conv_b": 22406,
         "a_conv_rate": 0.008424954715868403,
         "b_conv_rate": 0.008057375597662475,
         "diff": -0.04562020396722799,
         "_deepnote_index_column": 941
        },
        {
         "conv_a": 204,
         "no_conv_a": 23535,
         "conv_b": 178,
         "no_conv_b": 22410,
         "a_conv_rate": 0.00859345381018577,
         "b_conv_rate": 0.007880290419691871,
         "diff": -0.09049963294649532,
         "_deepnote_index_column": 942
        },
        {
         "conv_a": 197,
         "no_conv_a": 23542,
         "conv_b": 185,
         "no_conv_b": 22403,
         "a_conv_rate": 0.008298580395130376,
         "b_conv_rate": 0.008190189481140428,
         "diff": -0.013234237649756508,
         "_deepnote_index_column": 943
        },
        {
         "conv_a": 192,
         "no_conv_a": 23547,
         "conv_b": 190,
         "no_conv_b": 22398,
         "a_conv_rate": 0.008087956527233667,
         "b_conv_rate": 0.008411545953603683,
         "diff": 0.038469673488662814,
         "_deepnote_index_column": 944
        },
        {
         "conv_a": 197,
         "no_conv_a": 23542,
         "conv_b": 185,
         "no_conv_b": 22403,
         "a_conv_rate": 0.008298580395130376,
         "b_conv_rate": 0.008190189481140428,
         "diff": -0.013234237649756508,
         "_deepnote_index_column": 945
        },
        {
         "conv_a": 211,
         "no_conv_a": 23528,
         "conv_b": 171,
         "no_conv_b": 22417,
         "a_conv_rate": 0.008888327225241164,
         "b_conv_rate": 0.007570391358243315,
         "diff": -0.17409085008039415,
         "_deepnote_index_column": 946
        },
        {
         "conv_a": 194,
         "no_conv_a": 23545,
         "conv_b": 188,
         "no_conv_b": 22400,
         "a_conv_rate": 0.00817220607439235,
         "b_conv_rate": 0.008323003364618381,
         "diff": 0.018118133998008545,
         "_deepnote_index_column": 947
        },
        {
         "conv_a": 179,
         "no_conv_a": 23560,
         "conv_b": 203,
         "no_conv_b": 22385,
         "a_conv_rate": 0.00754033447070222,
         "b_conv_rate": 0.008987072782008146,
         "diff": 0.16097992598905542,
         "_deepnote_index_column": 948
        },
        {
         "conv_a": 189,
         "no_conv_a": 23550,
         "conv_b": 193,
         "no_conv_b": 22395,
         "a_conv_rate": 0.00796158220649564,
         "b_conv_rate": 0.008544359837081636,
         "diff": 0.06820611979106983,
         "_deepnote_index_column": 949
        },
        {
         "conv_a": 206,
         "no_conv_a": 23533,
         "conv_b": 176,
         "no_conv_b": 22412,
         "a_conv_rate": 0.008677703357344455,
         "b_conv_rate": 0.00779174783070657,
         "diff": -0.11370433770282129,
         "_deepnote_index_column": 950
        },
        {
         "conv_a": 200,
         "no_conv_a": 23539,
         "conv_b": 182,
         "no_conv_b": 22406,
         "a_conv_rate": 0.008424954715868403,
         "b_conv_rate": 0.008057375597662475,
         "diff": -0.04562020396722799,
         "_deepnote_index_column": 951
        },
        {
         "conv_a": 204,
         "no_conv_a": 23535,
         "conv_b": 178,
         "no_conv_b": 22410,
         "a_conv_rate": 0.00859345381018577,
         "b_conv_rate": 0.007880290419691871,
         "diff": -0.09049963294649532,
         "_deepnote_index_column": 952
        },
        {
         "conv_a": 189,
         "no_conv_a": 23550,
         "conv_b": 193,
         "no_conv_b": 22395,
         "a_conv_rate": 0.00796158220649564,
         "b_conv_rate": 0.008544359837081636,
         "diff": 0.06820611979106983,
         "_deepnote_index_column": 953
        },
        {
         "conv_a": 182,
         "no_conv_a": 23557,
         "conv_b": 200,
         "no_conv_b": 22388,
         "a_conv_rate": 0.007666708791440246,
         "b_conv_rate": 0.008854258898530193,
         "diff": 0.13412190909473864,
         "_deepnote_index_column": 954
        },
        {
         "conv_a": 180,
         "no_conv_a": 23559,
         "conv_b": 202,
         "no_conv_b": 22386,
         "a_conv_rate": 0.007582459244281562,
         "b_conv_rate": 0.008942801487515495,
         "diff": 0.1521158940107331,
         "_deepnote_index_column": 955
        },
        {
         "conv_a": 197,
         "no_conv_a": 23542,
         "conv_b": 185,
         "no_conv_b": 22403,
         "a_conv_rate": 0.008298580395130376,
         "b_conv_rate": 0.008190189481140428,
         "diff": -0.013234237649756508,
         "_deepnote_index_column": 956
        },
        {
         "conv_a": 191,
         "no_conv_a": 23548,
         "conv_b": 191,
         "no_conv_b": 22397,
         "a_conv_rate": 0.008045831753654325,
         "b_conv_rate": 0.008455817248096334,
         "diff": 0.04848561438982257,
         "_deepnote_index_column": 957
        },
        {
         "conv_a": 201,
         "no_conv_a": 23538,
         "conv_b": 181,
         "no_conv_b": 22407,
         "a_conv_rate": 0.008467079489447743,
         "b_conv_rate": 0.008013104303169824,
         "diff": -0.05665409672732391,
         "_deepnote_index_column": 958
        },
        {
         "conv_a": 203,
         "no_conv_a": 23536,
         "conv_b": 179,
         "no_conv_b": 22409,
         "a_conv_rate": 0.008551329036606428,
         "b_conv_rate": 0.007924561714184522,
         "diff": -0.07909173340148601,
         "_deepnote_index_column": 959
        },
        {
         "conv_a": 188,
         "no_conv_a": 23551,
         "conv_b": 194,
         "no_conv_b": 22394,
         "a_conv_rate": 0.007919457432916298,
         "b_conv_rate": 0.008588631131574287,
         "diff": 0.0779138943571478,
         "_deepnote_index_column": 960
        },
        {
         "conv_a": 203,
         "no_conv_a": 23536,
         "conv_b": 179,
         "no_conv_b": 22409,
         "a_conv_rate": 0.008551329036606428,
         "b_conv_rate": 0.007924561714184522,
         "diff": -0.07909173340148601,
         "_deepnote_index_column": 961
        },
        {
         "conv_a": 203,
         "no_conv_a": 23536,
         "conv_b": 179,
         "no_conv_b": 22409,
         "a_conv_rate": 0.008551329036606428,
         "b_conv_rate": 0.007924561714184522,
         "diff": -0.07909173340148601,
         "_deepnote_index_column": 962
        },
        {
         "conv_a": 212,
         "no_conv_a": 23527,
         "conv_b": 170,
         "no_conv_b": 22418,
         "a_conv_rate": 0.008930451998820506,
         "b_conv_rate": 0.007526120063750664,
         "diff": -0.18659441029033874,
         "_deepnote_index_column": 963
        },
        {
         "conv_a": 195,
         "no_conv_a": 23544,
         "conv_b": 187,
         "no_conv_b": 22401,
         "a_conv_rate": 0.008214330847971692,
         "b_conv_rate": 0.00827873207012573,
         "diff": 0.007779116609708203,
         "_deepnote_index_column": 964
        },
        {
         "conv_a": 191,
         "no_conv_a": 23548,
         "conv_b": 191,
         "no_conv_b": 22397,
         "a_conv_rate": 0.008045831753654325,
         "b_conv_rate": 0.008455817248096334,
         "diff": 0.04848561438982257,
         "_deepnote_index_column": 965
        },
        {
         "conv_a": 170,
         "no_conv_a": 23569,
         "conv_b": 212,
         "no_conv_b": 22376,
         "a_conv_rate": 0.007161211508488142,
         "b_conv_rate": 0.009385514432442005,
         "diff": 0.23699318135032954,
         "_deepnote_index_column": 966
        },
        {
         "conv_a": 183,
         "no_conv_a": 23556,
         "conv_b": 199,
         "no_conv_b": 22389,
         "a_conv_rate": 0.007708833565019588,
         "b_conv_rate": 0.008809987604037542,
         "diff": 0.12498928358461081,
         "_deepnote_index_column": 967
        },
        {
         "conv_a": 197,
         "no_conv_a": 23542,
         "conv_b": 185,
         "no_conv_b": 22403,
         "a_conv_rate": 0.008298580395130376,
         "b_conv_rate": 0.008190189481140428,
         "diff": -0.013234237649756508,
         "_deepnote_index_column": 968
        },
        {
         "conv_a": 213,
         "no_conv_a": 23526,
         "conv_b": 169,
         "no_conv_b": 22419,
         "a_conv_rate": 0.008972576772399848,
         "b_conv_rate": 0.007481848769258013,
         "diff": -0.19924594162702824,
         "_deepnote_index_column": 969
        },
        {
         "conv_a": 173,
         "no_conv_a": 23566,
         "conv_b": 209,
         "no_conv_b": 22379,
         "a_conv_rate": 0.007287585829226168,
         "b_conv_rate": 0.009252700548964052,
         "diff": 0.21238282913607331,
         "_deepnote_index_column": 970
        },
        {
         "conv_a": 200,
         "no_conv_a": 23539,
         "conv_b": 182,
         "no_conv_b": 22406,
         "a_conv_rate": 0.008424954715868403,
         "b_conv_rate": 0.008057375597662475,
         "diff": -0.04562020396722799,
         "_deepnote_index_column": 971
        },
        {
         "conv_a": 174,
         "no_conv_a": 23565,
         "conv_b": 208,
         "no_conv_b": 22380,
         "a_conv_rate": 0.00732971060280551,
         "b_conv_rate": 0.009208429254471401,
         "diff": 0.2040216197299478,
         "_deepnote_index_column": 972
        },
        {
         "conv_a": 177,
         "no_conv_a": 23562,
         "conv_b": 205,
         "no_conv_b": 22383,
         "a_conv_rate": 0.007456084923543536,
         "b_conv_rate": 0.009075615370993448,
         "diff": 0.17844855486340794,
         "_deepnote_index_column": 973
        },
        {
         "conv_a": 217,
         "no_conv_a": 23522,
         "conv_b": 165,
         "no_conv_b": 22423,
         "a_conv_rate": 0.009141075866717216,
         "b_conv_rate": 0.007304763591287409,
         "diff": -0.25138558592368776,
         "_deepnote_index_column": 974
        },
        {
         "conv_a": 190,
         "no_conv_a": 23549,
         "conv_b": 192,
         "no_conv_b": 22396,
         "a_conv_rate": 0.008003706980074982,
         "b_conv_rate": 0.008500088542588985,
         "diff": 0.058397222573261964,
         "_deepnote_index_column": 975
        },
        {
         "conv_a": 182,
         "no_conv_a": 23557,
         "conv_b": 200,
         "no_conv_b": 22388,
         "a_conv_rate": 0.007666708791440246,
         "b_conv_rate": 0.008854258898530193,
         "diff": 0.13412190909473864,
         "_deepnote_index_column": 976
        },
        {
         "conv_a": 207,
         "no_conv_a": 23532,
         "conv_b": 175,
         "no_conv_b": 22413,
         "a_conv_rate": 0.008719828130923797,
         "b_conv_rate": 0.007747476536213919,
         "diff": -0.12550558755032415,
         "_deepnote_index_column": 977
        },
        {
         "conv_a": 200,
         "no_conv_a": 23539,
         "conv_b": 182,
         "no_conv_b": 22406,
         "a_conv_rate": 0.008424954715868403,
         "b_conv_rate": 0.008057375597662475,
         "diff": -0.04562020396722799,
         "_deepnote_index_column": 978
        },
        {
         "conv_a": 197,
         "no_conv_a": 23542,
         "conv_b": 185,
         "no_conv_b": 22403,
         "a_conv_rate": 0.008298580395130376,
         "b_conv_rate": 0.008190189481140428,
         "diff": -0.013234237649756508,
         "_deepnote_index_column": 979
        },
        {
         "conv_a": 207,
         "no_conv_a": 23532,
         "conv_b": 175,
         "no_conv_b": 22413,
         "a_conv_rate": 0.008719828130923797,
         "b_conv_rate": 0.007747476536213919,
         "diff": -0.12550558755032415,
         "_deepnote_index_column": 980
        },
        {
         "conv_a": 202,
         "no_conv_a": 23537,
         "conv_b": 180,
         "no_conv_b": 22408,
         "a_conv_rate": 0.008509204263027086,
         "b_conv_rate": 0.007968833008677173,
         "diff": -0.06781058829586573,
         "_deepnote_index_column": 981
        },
        {
         "conv_a": 202,
         "no_conv_a": 23537,
         "conv_b": 180,
         "no_conv_b": 22408,
         "a_conv_rate": 0.008509204263027086,
         "b_conv_rate": 0.007968833008677173,
         "diff": -0.06781058829586573,
         "_deepnote_index_column": 982
        },
        {
         "conv_a": 177,
         "no_conv_a": 23562,
         "conv_b": 205,
         "no_conv_b": 22383,
         "a_conv_rate": 0.007456084923543536,
         "b_conv_rate": 0.009075615370993448,
         "diff": 0.17844855486340794,
         "_deepnote_index_column": 983
        },
        {
         "conv_a": 199,
         "no_conv_a": 23540,
         "conv_b": 183,
         "no_conv_b": 22405,
         "a_conv_rate": 0.00838282994228906,
         "b_conv_rate": 0.008101646892155126,
         "diff": -0.03470690019904543,
         "_deepnote_index_column": 984
        },
        {
         "conv_a": 195,
         "no_conv_a": 23544,
         "conv_b": 187,
         "no_conv_b": 22401,
         "a_conv_rate": 0.008214330847971692,
         "b_conv_rate": 0.00827873207012573,
         "diff": 0.007779116609708203,
         "_deepnote_index_column": 985
        },
        {
         "conv_a": 200,
         "no_conv_a": 23539,
         "conv_b": 182,
         "no_conv_b": 22406,
         "a_conv_rate": 0.008424954715868403,
         "b_conv_rate": 0.008057375597662475,
         "diff": -0.04562020396722799,
         "_deepnote_index_column": 986
        },
        {
         "conv_a": 196,
         "no_conv_a": 23543,
         "conv_b": 186,
         "no_conv_b": 22402,
         "a_conv_rate": 0.008256455621551034,
         "b_conv_rate": 0.00823446077563308,
         "diff": -0.002671073008573943,
         "_deepnote_index_column": 987
        },
        {
         "conv_a": 185,
         "no_conv_a": 23554,
         "conv_b": 197,
         "no_conv_b": 22391,
         "a_conv_rate": 0.007793083112178272,
         "b_conv_rate": 0.00872144501505224,
         "diff": 0.1064458815335898,
         "_deepnote_index_column": 988
        },
        {
         "conv_a": 188,
         "no_conv_a": 23551,
         "conv_b": 194,
         "no_conv_b": 22394,
         "a_conv_rate": 0.007919457432916298,
         "b_conv_rate": 0.008588631131574287,
         "diff": 0.0779138943571478,
         "_deepnote_index_column": 989
        },
        {
         "conv_a": 190,
         "no_conv_a": 23549,
         "conv_b": 192,
         "no_conv_b": 22396,
         "a_conv_rate": 0.008003706980074982,
         "b_conv_rate": 0.008500088542588985,
         "diff": 0.058397222573261964,
         "_deepnote_index_column": 990
        },
        {
         "conv_a": 182,
         "no_conv_a": 23557,
         "conv_b": 200,
         "no_conv_b": 22388,
         "a_conv_rate": 0.007666708791440246,
         "b_conv_rate": 0.008854258898530193,
         "diff": 0.13412190909473864,
         "_deepnote_index_column": 991
        },
        {
         "conv_a": 208,
         "no_conv_a": 23531,
         "conv_b": 174,
         "no_conv_b": 22414,
         "a_conv_rate": 0.008761952904503139,
         "b_conv_rate": 0.007703205241721268,
         "diff": -0.13744248394779834,
         "_deepnote_index_column": 992
        },
        {
         "conv_a": 170,
         "no_conv_a": 23569,
         "conv_b": 212,
         "no_conv_b": 22376,
         "a_conv_rate": 0.007161211508488142,
         "b_conv_rate": 0.009385514432442005,
         "diff": 0.23699318135032954,
         "_deepnote_index_column": 993
        },
        {
         "conv_a": 193,
         "no_conv_a": 23546,
         "conv_b": 189,
         "no_conv_b": 22399,
         "a_conv_rate": 0.008130081300813009,
         "b_conv_rate": 0.008367274659111032,
         "diff": 0.028347743794898128,
         "_deepnote_index_column": 994
        },
        {
         "conv_a": 199,
         "no_conv_a": 23540,
         "conv_b": 183,
         "no_conv_b": 22405,
         "a_conv_rate": 0.00838282994228906,
         "b_conv_rate": 0.008101646892155126,
         "diff": -0.03470690019904543,
         "_deepnote_index_column": 995
        },
        {
         "conv_a": 200,
         "no_conv_a": 23539,
         "conv_b": 182,
         "no_conv_b": 22406,
         "a_conv_rate": 0.008424954715868403,
         "b_conv_rate": 0.008057375597662475,
         "diff": -0.04562020396722799,
         "_deepnote_index_column": 996
        },
        {
         "conv_a": 191,
         "no_conv_a": 23548,
         "conv_b": 191,
         "no_conv_b": 22397,
         "a_conv_rate": 0.008045831753654325,
         "b_conv_rate": 0.008455817248096334,
         "diff": 0.04848561438982257,
         "_deepnote_index_column": 997
        },
        {
         "conv_a": 204,
         "no_conv_a": 23535,
         "conv_b": 178,
         "no_conv_b": 22410,
         "a_conv_rate": 0.00859345381018577,
         "b_conv_rate": 0.007880290419691871,
         "diff": -0.09049963294649532,
         "_deepnote_index_column": 998
        },
        {
         "conv_a": 188,
         "no_conv_a": 23551,
         "conv_b": 194,
         "no_conv_b": 22394,
         "a_conv_rate": 0.007919457432916298,
         "b_conv_rate": 0.008588631131574287,
         "diff": 0.0779138943571478,
         "_deepnote_index_column": 999
        }
       ]
      },
      "text/plain": "     conv_a  no_conv_a  conv_b  no_conv_b  a_conv_rate  b_conv_rate      diff\n0       209      23530     173      22415     0.008804     0.007659 -0.149517\n1       194      23545     188      22400     0.008172     0.008323  0.018118\n2       195      23544     187      22401     0.008214     0.008279  0.007779\n3       168      23571     214      22374     0.007077     0.009474  0.253017\n4       199      23540     183      22405     0.008383     0.008102 -0.034707\n..      ...        ...     ...        ...          ...          ...       ...\n995     199      23540     183      22405     0.008383     0.008102 -0.034707\n996     200      23539     182      22406     0.008425     0.008057 -0.045620\n997     191      23548     191      22397     0.008046     0.008456  0.048486\n998     204      23535     178      22410     0.008593     0.007880 -0.090500\n999     188      23551     194      22394     0.007919     0.008589  0.077914\n\n[1000 rows x 7 columns]",
      "text/html": "<div>\n<style scoped>\n    .dataframe tbody tr th:only-of-type {\n        vertical-align: middle;\n    }\n\n    .dataframe tbody tr th {\n        vertical-align: top;\n    }\n\n    .dataframe thead th {\n        text-align: right;\n    }\n</style>\n<table border=\"1\" class=\"dataframe\">\n  <thead>\n    <tr style=\"text-align: right;\">\n      <th></th>\n      <th>conv_a</th>\n      <th>no_conv_a</th>\n      <th>conv_b</th>\n      <th>no_conv_b</th>\n      <th>a_conv_rate</th>\n      <th>b_conv_rate</th>\n      <th>diff</th>\n    </tr>\n  </thead>\n  <tbody>\n    <tr>\n      <th>0</th>\n      <td>209</td>\n      <td>23530</td>\n      <td>173</td>\n      <td>22415</td>\n      <td>0.008804</td>\n      <td>0.007659</td>\n      <td>-0.149517</td>\n    </tr>\n    <tr>\n      <th>1</th>\n      <td>194</td>\n      <td>23545</td>\n      <td>188</td>\n      <td>22400</td>\n      <td>0.008172</td>\n      <td>0.008323</td>\n      <td>0.018118</td>\n    </tr>\n    <tr>\n      <th>2</th>\n      <td>195</td>\n      <td>23544</td>\n      <td>187</td>\n      <td>22401</td>\n      <td>0.008214</td>\n      <td>0.008279</td>\n      <td>0.007779</td>\n    </tr>\n    <tr>\n      <th>3</th>\n      <td>168</td>\n      <td>23571</td>\n      <td>214</td>\n      <td>22374</td>\n      <td>0.007077</td>\n      <td>0.009474</td>\n      <td>0.253017</td>\n    </tr>\n    <tr>\n      <th>4</th>\n      <td>199</td>\n      <td>23540</td>\n      <td>183</td>\n      <td>22405</td>\n      <td>0.008383</td>\n      <td>0.008102</td>\n      <td>-0.034707</td>\n    </tr>\n    <tr>\n      <th>...</th>\n      <td>...</td>\n      <td>...</td>\n      <td>...</td>\n      <td>...</td>\n      <td>...</td>\n      <td>...</td>\n      <td>...</td>\n    </tr>\n    <tr>\n      <th>995</th>\n      <td>199</td>\n      <td>23540</td>\n      <td>183</td>\n      <td>22405</td>\n      <td>0.008383</td>\n      <td>0.008102</td>\n      <td>-0.034707</td>\n    </tr>\n    <tr>\n      <th>996</th>\n      <td>200</td>\n      <td>23539</td>\n      <td>182</td>\n      <td>22406</td>\n      <td>0.008425</td>\n      <td>0.008057</td>\n      <td>-0.045620</td>\n    </tr>\n    <tr>\n      <th>997</th>\n      <td>191</td>\n      <td>23548</td>\n      <td>191</td>\n      <td>22397</td>\n      <td>0.008046</td>\n      <td>0.008456</td>\n      <td>0.048486</td>\n    </tr>\n    <tr>\n      <th>998</th>\n      <td>204</td>\n      <td>23535</td>\n      <td>178</td>\n      <td>22410</td>\n      <td>0.008593</td>\n      <td>0.007880</td>\n      <td>-0.090500</td>\n    </tr>\n    <tr>\n      <th>999</th>\n      <td>188</td>\n      <td>23551</td>\n      <td>194</td>\n      <td>22394</td>\n      <td>0.007919</td>\n      <td>0.008589</td>\n      <td>0.077914</td>\n    </tr>\n  </tbody>\n</table>\n<p>1000 rows × 7 columns</p>\n</div>"
     },
     "metadata": {}
    }
   ]
  },
  {
   "cell_type": "code",
   "metadata": {
    "tags": [],
    "cell_id": "00009-3f5279ab-71c6-4e0c-b8b8-648fb263482c",
    "deepnote_to_be_reexecuted": false,
    "source_hash": "24a7a406",
    "execution_start": 1632273335944,
    "execution_millis": 923,
    "deepnote_cell_type": "code"
   },
   "source": "sns.displot(results['diff'])\nplt.axvline(diferencia_en_proporcion)",
   "execution_count": null,
   "outputs": [
    {
     "output_type": "execute_result",
     "execution_count": 14,
     "data": {
      "text/plain": "<matplotlib.lines.Line2D at 0x7f79a35ce390>"
     },
     "metadata": {}
    },
    {
     "data": {
      "text/plain": "<Figure size 360x360 with 1 Axes>",
      "image/png": "[encoded data removed]"
     },
     "metadata": {
      "needs_background": "light",
      "image/png": {
       "width": 352,
       "height": 352
      }
     },
     "output_type": "display_data"
    }
   ]
  },
  {
   "cell_type": "code",
   "metadata": {
    "tags": [],
    "cell_id": "00010-2f107288-81b7-44d8-b1d2-b15db947d86c",
    "deepnote_to_be_reexecuted": false,
    "source_hash": "cc62aeae",
    "execution_start": 1632273958884,
    "execution_millis": 8,
    "deepnote_cell_type": "code"
   },
   "source": "(results['diff'] >= diferencia_en_proporcion).sum() / results.shape[0] * 100",
   "execution_count": null,
   "outputs": [
    {
     "output_type": "execute_result",
     "execution_count": 17,
     "data": {
      "text/plain": "42.8"
     },
     "metadata": {}
    }
   ]
  },
  {
   "cell_type": "markdown",
   "source": "## Lenguaje Natural",
   "metadata": {
    "tags": [],
    "cell_id": "00011-99ea5080-0a49-45da-8e84-3c317629dc86",
    "deepnote_cell_type": "markdown"
   }
  },
  {
   "cell_type": "code",
   "metadata": {
    "tags": [],
    "cell_id": "00011-5387610d-a51d-400c-89e3-7a294c6d37a0",
    "deepnote_to_be_reexecuted": false,
    "source_hash": "8fbbf1a2",
    "execution_start": 1632524011558,
    "execution_millis": 1,
    "deepnote_cell_type": "code"
   },
   "source": "import pandas as pd\nimport re",
   "execution_count": null,
   "outputs": []
  },
  {
   "cell_type": "code",
   "metadata": {
    "tags": [],
    "cell_id": "00013-5c413c7a-bc27-4baf-8097-d95dccd45227",
    "deepnote_to_be_reexecuted": false,
    "source_hash": "2c436d78",
    "execution_start": 1632524011963,
    "execution_millis": 65,
    "deepnote_cell_type": "code"
   },
   "source": "df = pd.read_json('/work/B2-Analisis-de-Datos-con-Python-2020-2021-Santander/Datasets/new_york_times_bestsellers-clean.json')\ndf.head()",
   "execution_count": null,
   "outputs": [
    {
     "output_type": "execute_result",
     "execution_count": 5,
     "data": {
      "application/vnd.deepnote.dataframe.v2+json": {
       "row_count": 5,
       "column_count": 12,
       "columns": [
        {
         "name": "amazon_product_url",
         "dtype": "object",
         "stats": {
          "unique_count": 5,
          "nan_count": 0,
          "categories": [
           {
            "name": "http://www.amazon.com/The-Host-Novel-Stephenie-Meyer/dp/0316218502?tag=NYTBS-20",
            "count": 1
           },
           {
            "name": "http://www.amazon.com/Love-Youre-With-Emily-Giffin/dp/0312348665?tag=NYTBS-20",
            "count": 1
           },
           {
            "name": "3 others",
            "count": 3
           }
          ]
         }
        },
        {
         "name": "author",
         "dtype": "object",
         "stats": {
          "unique_count": 5,
          "nan_count": 0,
          "categories": [
           {
            "name": "Stephenie Meyer",
            "count": 1
           },
           {
            "name": "Emily Giffin",
            "count": 1
           },
           {
            "name": "3 others",
            "count": 3
           }
          ]
         }
        },
        {
         "name": "description",
         "dtype": "object",
         "stats": {
          "unique_count": 5,
          "nan_count": 0,
          "categories": [
           {
            "name": "Aliens have taken control of the minds and bodies of most humans, but one woman won’t surrender.",
            "count": 1
           },
           {
            "name": "A woman's happy marriage is shaken when she encounters an old boyfriend.",
            "count": 1
           },
           {
            "name": "3 others",
            "count": 3
           }
          ]
         }
        },
        {
         "name": "publisher",
         "dtype": "object",
         "stats": {
          "unique_count": 4,
          "nan_count": 0,
          "categories": [
           {
            "name": "Little, Brown",
            "count": 2
           },
           {
            "name": "St. Martin's",
            "count": 1
           },
           {
            "name": "2 others",
            "count": 2
           }
          ]
         }
        },
        {
         "name": "title",
         "dtype": "object",
         "stats": {
          "unique_count": 5,
          "nan_count": 0,
          "categories": [
           {
            "name": "THE HOST",
            "count": 1
           },
           {
            "name": "LOVE THE ONE YOU'RE WITH",
            "count": 1
           },
           {
            "name": "3 others",
            "count": 3
           }
          ]
         }
        },
        {
         "name": "oid",
         "dtype": "object",
         "stats": {
          "unique_count": 5,
          "nan_count": 0,
          "categories": [
           {
            "name": "5b4aa4ead3089013507db18c",
            "count": 1
           },
           {
            "name": "5b4aa4ead3089013507db18d",
            "count": 1
           },
           {
            "name": "3 others",
            "count": 3
           }
          ]
         }
        },
        {
         "name": "bestsellers_date.numberLong",
         "dtype": "int64",
         "stats": {
          "unique_count": 1,
          "nan_count": 0,
          "min": "1211587200000",
          "max": "1211587200000",
          "histogram": [
           {
            "bin_start": 1211587199999.5,
            "bin_end": 1211587199999.6,
            "count": 0
           },
           {
            "bin_start": 1211587199999.6,
            "bin_end": 1211587199999.7,
            "count": 0
           },
           {
            "bin_start": 1211587199999.7,
            "bin_end": 1211587199999.8,
            "count": 0
           },
           {
            "bin_start": 1211587199999.8,
            "bin_end": 1211587199999.9,
            "count": 0
           },
           {
            "bin_start": 1211587199999.9,
            "bin_end": 1211587200000,
            "count": 0
           },
           {
            "bin_start": 1211587200000,
            "bin_end": 1211587200000.1,
            "count": 5
           },
           {
            "bin_start": 1211587200000.1,
            "bin_end": 1211587200000.2,
            "count": 0
           },
           {
            "bin_start": 1211587200000.2,
            "bin_end": 1211587200000.3,
            "count": 0
           },
           {
            "bin_start": 1211587200000.3,
            "bin_end": 1211587200000.4,
            "count": 0
           },
           {
            "bin_start": 1211587200000.4,
            "bin_end": 1211587200000.5,
            "count": 0
           }
          ]
         }
        },
        {
         "name": "published_date.numberLong",
         "dtype": "int64",
         "stats": {
          "unique_count": 1,
          "nan_count": 0,
          "min": "1212883200000",
          "max": "1212883200000",
          "histogram": [
           {
            "bin_start": 1212883199999.5,
            "bin_end": 1212883199999.6,
            "count": 0
           },
           {
            "bin_start": 1212883199999.6,
            "bin_end": 1212883199999.7,
            "count": 0
           },
           {
            "bin_start": 1212883199999.7,
            "bin_end": 1212883199999.8,
            "count": 0
           },
           {
            "bin_start": 1212883199999.8,
            "bin_end": 1212883199999.9,
            "count": 0
           },
           {
            "bin_start": 1212883199999.9,
            "bin_end": 1212883200000,
            "count": 0
           },
           {
            "bin_start": 1212883200000,
            "bin_end": 1212883200000.1,
            "count": 5
           },
           {
            "bin_start": 1212883200000.1,
            "bin_end": 1212883200000.2,
            "count": 0
           },
           {
            "bin_start": 1212883200000.2,
            "bin_end": 1212883200000.3,
            "count": 0
           },
           {
            "bin_start": 1212883200000.3,
            "bin_end": 1212883200000.4,
            "count": 0
           },
           {
            "bin_start": 1212883200000.4,
            "bin_end": 1212883200000.5,
            "count": 0
           }
          ]
         }
        },
        {
         "name": "rank.numberInt",
         "dtype": "int64",
         "stats": {
          "unique_count": 5,
          "nan_count": 0,
          "min": "2",
          "max": "6",
          "histogram": [
           {
            "bin_start": 2,
            "bin_end": 2.4,
            "count": 1
           },
           {
            "bin_start": 2.4,
            "bin_end": 2.8,
            "count": 0
           },
           {
            "bin_start": 2.8,
            "bin_end": 3.2,
            "count": 1
           },
           {
            "bin_start": 3.2,
            "bin_end": 3.6,
            "count": 0
           },
           {
            "bin_start": 3.6,
            "bin_end": 4,
            "count": 0
           },
           {
            "bin_start": 4,
            "bin_end": 4.4,
            "count": 1
           },
           {
            "bin_start": 4.4,
            "bin_end": 4.800000000000001,
            "count": 0
           },
           {
            "bin_start": 4.800000000000001,
            "bin_end": 5.2,
            "count": 1
           },
           {
            "bin_start": 5.2,
            "bin_end": 5.6,
            "count": 0
           },
           {
            "bin_start": 5.6,
            "bin_end": 6,
            "count": 1
           }
          ]
         }
        },
        {
         "name": "rank_last_week.numberInt",
         "dtype": "int64",
         "stats": {
          "unique_count": 4,
          "nan_count": 0,
          "min": "0",
          "max": "3",
          "histogram": [
           {
            "bin_start": 0,
            "bin_end": 0.3,
            "count": 2
           },
           {
            "bin_start": 0.3,
            "bin_end": 0.6,
            "count": 0
           },
           {
            "bin_start": 0.6,
            "bin_end": 0.8999999999999999,
            "count": 0
           },
           {
            "bin_start": 0.8999999999999999,
            "bin_end": 1.2,
            "count": 1
           },
           {
            "bin_start": 1.2,
            "bin_end": 1.5,
            "count": 0
           },
           {
            "bin_start": 1.5,
            "bin_end": 1.7999999999999998,
            "count": 0
           },
           {
            "bin_start": 1.7999999999999998,
            "bin_end": 2.1,
            "count": 1
           },
           {
            "bin_start": 2.1,
            "bin_end": 2.4,
            "count": 0
           },
           {
            "bin_start": 2.4,
            "bin_end": 2.6999999999999997,
            "count": 0
           },
           {
            "bin_start": 2.6999999999999997,
            "bin_end": 3,
            "count": 1
           }
          ]
         }
        },
        {
         "name": "weeks_on_list.numberInt",
         "dtype": "int64",
         "stats": {
          "unique_count": 4,
          "nan_count": 0,
          "min": "1",
          "max": "4",
          "histogram": [
           {
            "bin_start": 1,
            "bin_end": 1.3,
            "count": 2
           },
           {
            "bin_start": 1.3,
            "bin_end": 1.6,
            "count": 0
           },
           {
            "bin_start": 1.6,
            "bin_end": 1.9,
            "count": 0
           },
           {
            "bin_start": 1.9,
            "bin_end": 2.2,
            "count": 1
           },
           {
            "bin_start": 2.2,
            "bin_end": 2.5,
            "count": 0
           },
           {
            "bin_start": 2.5,
            "bin_end": 2.8,
            "count": 0
           },
           {
            "bin_start": 2.8,
            "bin_end": 3.1,
            "count": 1
           },
           {
            "bin_start": 3.1,
            "bin_end": 3.4,
            "count": 0
           },
           {
            "bin_start": 3.4,
            "bin_end": 3.6999999999999997,
            "count": 0
           },
           {
            "bin_start": 3.6999999999999997,
            "bin_end": 4,
            "count": 1
           }
          ]
         }
        },
        {
         "name": "price.numberDouble",
         "dtype": "float64",
         "stats": {
          "unique_count": 4,
          "nan_count": 0,
          "min": "22.95",
          "max": "25.99",
          "histogram": [
           {
            "bin_start": 22.95,
            "bin_end": 23.253999999999998,
            "count": 1
           },
           {
            "bin_start": 23.253999999999998,
            "bin_end": 23.558,
            "count": 0
           },
           {
            "bin_start": 23.558,
            "bin_end": 23.862,
            "count": 0
           },
           {
            "bin_start": 23.862,
            "bin_end": 24.166,
            "count": 0
           },
           {
            "bin_start": 24.166,
            "bin_end": 24.47,
            "count": 0
           },
           {
            "bin_start": 24.47,
            "bin_end": 24.773999999999997,
            "count": 0
           },
           {
            "bin_start": 24.773999999999997,
            "bin_end": 25.078,
            "count": 3
           },
           {
            "bin_start": 25.078,
            "bin_end": 25.381999999999998,
            "count": 0
           },
           {
            "bin_start": 25.381999999999998,
            "bin_end": 25.686,
            "count": 0
           },
           {
            "bin_start": 25.686,
            "bin_end": 25.99,
            "count": 1
           }
          ]
         }
        },
        {
         "name": "_deepnote_index_column",
         "dtype": "int64"
        }
       ],
       "rows_top": [
        {
         "amazon_product_url": "http://www.amazon.com/The-Host-Novel-Stephenie-Meyer/dp/0316218502?tag=NYTBS-20",
         "author": "Stephenie Meyer",
         "description": "Aliens have taken control of the minds and bodies of most humans, but one woman won’t surrender.",
         "publisher": "Little, Brown",
         "title": "THE HOST",
         "oid": "5b4aa4ead3089013507db18c",
         "bestsellers_date.numberLong": 1211587200000,
         "published_date.numberLong": 1212883200000,
         "rank.numberInt": 2,
         "rank_last_week.numberInt": 1,
         "weeks_on_list.numberInt": 3,
         "price.numberDouble": 25.99,
         "_deepnote_index_column": 0
        },
        {
         "amazon_product_url": "http://www.amazon.com/Love-Youre-With-Emily-Giffin/dp/0312348665?tag=NYTBS-20",
         "author": "Emily Giffin",
         "description": "A woman's happy marriage is shaken when she encounters an old boyfriend.",
         "publisher": "St. Martin's",
         "title": "LOVE THE ONE YOU'RE WITH",
         "oid": "5b4aa4ead3089013507db18d",
         "bestsellers_date.numberLong": 1211587200000,
         "published_date.numberLong": 1212883200000,
         "rank.numberInt": 3,
         "rank_last_week.numberInt": 2,
         "weeks_on_list.numberInt": 2,
         "price.numberDouble": 24.95,
         "_deepnote_index_column": 1
        },
        {
         "amazon_product_url": "http://www.amazon.com/The-Front-Garano-Patricia-Cornwell-ebook/dp/B0017T0C9M?tag=NYTBS-20",
         "author": "Patricia Cornwell",
         "description": "A Massachusetts state investigator and his team from \"At Risk\" confront a rogue association of muni…",
         "publisher": "Putnam",
         "title": "THE FRONT",
         "oid": "5b4aa4ead3089013507db18e",
         "bestsellers_date.numberLong": 1211587200000,
         "published_date.numberLong": 1212883200000,
         "rank.numberInt": 4,
         "rank_last_week.numberInt": 0,
         "weeks_on_list.numberInt": 1,
         "price.numberDouble": 22.95,
         "_deepnote_index_column": 2
        },
        {
         "amazon_product_url": "http://www.amazon.com/Snuff-Chuck-Palahniuk/dp/0385517882?tag=NYTBS-20",
         "author": "Chuck Palahniuk",
         "description": "An aging porn queens aims to cap her career by having sex on film with 600 men in one day.",
         "publisher": "Doubleday",
         "title": "SNUFF",
         "oid": "5b4aa4ead3089013507db18f",
         "bestsellers_date.numberLong": 1211587200000,
         "published_date.numberLong": 1212883200000,
         "rank.numberInt": 5,
         "rank_last_week.numberInt": 0,
         "weeks_on_list.numberInt": 1,
         "price.numberDouble": 24.95,
         "_deepnote_index_column": 3
        },
        {
         "amazon_product_url": "http://www.amazon.com/Sundays-at-Tiffanys-James-Patterson/dp/0446199443?tag=NYTBS-20",
         "author": "James Patterson and Gabrielle Charbonnet",
         "description": "A woman finds an unexpected love",
         "publisher": "Little, Brown",
         "title": "SUNDAYS AT TIFFANY’S",
         "oid": "5b4aa4ead3089013507db190",
         "bestsellers_date.numberLong": 1211587200000,
         "published_date.numberLong": 1212883200000,
         "rank.numberInt": 6,
         "rank_last_week.numberInt": 3,
         "weeks_on_list.numberInt": 4,
         "price.numberDouble": 24.99,
         "_deepnote_index_column": 4
        }
       ],
       "rows_bottom": null
      },
      "text/plain": "                                  amazon_product_url  \\\n0  http://www.amazon.com/The-Host-Novel-Stephenie...   \n1  http://www.amazon.com/Love-Youre-With-Emily-Gi...   \n2  http://www.amazon.com/The-Front-Garano-Patrici...   \n3  http://www.amazon.com/Snuff-Chuck-Palahniuk/dp...   \n4  http://www.amazon.com/Sundays-at-Tiffanys-Jame...   \n\n                                     author  \\\n0                           Stephenie Meyer   \n1                              Emily Giffin   \n2                         Patricia Cornwell   \n3                           Chuck Palahniuk   \n4  James Patterson and Gabrielle Charbonnet   \n\n                                         description      publisher  \\\n0  Aliens have taken control of the minds and bod...  Little, Brown   \n1  A woman's happy marriage is shaken when she en...   St. Martin's   \n2  A Massachusetts state investigator and his tea...         Putnam   \n3  An aging porn queens aims to cap her career by...      Doubleday   \n4                   A woman finds an unexpected love  Little, Brown   \n\n                      title                       oid  \\\n0                  THE HOST  5b4aa4ead3089013507db18c   \n1  LOVE THE ONE YOU'RE WITH  5b4aa4ead3089013507db18d   \n2                 THE FRONT  5b4aa4ead3089013507db18e   \n3                     SNUFF  5b4aa4ead3089013507db18f   \n4      SUNDAYS AT TIFFANY’S  5b4aa4ead3089013507db190   \n\n   bestsellers_date.numberLong  published_date.numberLong  rank.numberInt  \\\n0                1211587200000              1212883200000               2   \n1                1211587200000              1212883200000               3   \n2                1211587200000              1212883200000               4   \n3                1211587200000              1212883200000               5   \n4                1211587200000              1212883200000               6   \n\n   rank_last_week.numberInt  weeks_on_list.numberInt  price.numberDouble  \n0                         1                        3               25.99  \n1                         2                        2               24.95  \n2                         0                        1               22.95  \n3                         0                        1               24.95  \n4                         3                        4               24.99  ",
      "text/html": "<div>\n<style scoped>\n    .dataframe tbody tr th:only-of-type {\n        vertical-align: middle;\n    }\n\n    .dataframe tbody tr th {\n        vertical-align: top;\n    }\n\n    .dataframe thead th {\n        text-align: right;\n    }\n</style>\n<table border=\"1\" class=\"dataframe\">\n  <thead>\n    <tr style=\"text-align: right;\">\n      <th></th>\n      <th>amazon_product_url</th>\n      <th>author</th>\n      <th>description</th>\n      <th>publisher</th>\n      <th>title</th>\n      <th>oid</th>\n      <th>bestsellers_date.numberLong</th>\n      <th>published_date.numberLong</th>\n      <th>rank.numberInt</th>\n      <th>rank_last_week.numberInt</th>\n      <th>weeks_on_list.numberInt</th>\n      <th>price.numberDouble</th>\n    </tr>\n  </thead>\n  <tbody>\n    <tr>\n      <th>0</th>\n      <td>http://www.amazon.com/The-Host-Novel-Stephenie...</td>\n      <td>Stephenie Meyer</td>\n      <td>Aliens have taken control of the minds and bod...</td>\n      <td>Little, Brown</td>\n      <td>THE HOST</td>\n      <td>5b4aa4ead3089013507db18c</td>\n      <td>1211587200000</td>\n      <td>1212883200000</td>\n      <td>2</td>\n      <td>1</td>\n      <td>3</td>\n      <td>25.99</td>\n    </tr>\n    <tr>\n      <th>1</th>\n      <td>http://www.amazon.com/Love-Youre-With-Emily-Gi...</td>\n      <td>Emily Giffin</td>\n      <td>A woman's happy marriage is shaken when she en...</td>\n      <td>St. Martin's</td>\n      <td>LOVE THE ONE YOU'RE WITH</td>\n      <td>5b4aa4ead3089013507db18d</td>\n      <td>1211587200000</td>\n      <td>1212883200000</td>\n      <td>3</td>\n      <td>2</td>\n      <td>2</td>\n      <td>24.95</td>\n    </tr>\n    <tr>\n      <th>2</th>\n      <td>http://www.amazon.com/The-Front-Garano-Patrici...</td>\n      <td>Patricia Cornwell</td>\n      <td>A Massachusetts state investigator and his tea...</td>\n      <td>Putnam</td>\n      <td>THE FRONT</td>\n      <td>5b4aa4ead3089013507db18e</td>\n      <td>1211587200000</td>\n      <td>1212883200000</td>\n      <td>4</td>\n      <td>0</td>\n      <td>1</td>\n      <td>22.95</td>\n    </tr>\n    <tr>\n      <th>3</th>\n      <td>http://www.amazon.com/Snuff-Chuck-Palahniuk/dp...</td>\n      <td>Chuck Palahniuk</td>\n      <td>An aging porn queens aims to cap her career by...</td>\n      <td>Doubleday</td>\n      <td>SNUFF</td>\n      <td>5b4aa4ead3089013507db18f</td>\n      <td>1211587200000</td>\n      <td>1212883200000</td>\n      <td>5</td>\n      <td>0</td>\n      <td>1</td>\n      <td>24.95</td>\n    </tr>\n    <tr>\n      <th>4</th>\n      <td>http://www.amazon.com/Sundays-at-Tiffanys-Jame...</td>\n      <td>James Patterson and Gabrielle Charbonnet</td>\n      <td>A woman finds an unexpected love</td>\n      <td>Little, Brown</td>\n      <td>SUNDAYS AT TIFFANY’S</td>\n      <td>5b4aa4ead3089013507db190</td>\n      <td>1211587200000</td>\n      <td>1212883200000</td>\n      <td>6</td>\n      <td>3</td>\n      <td>4</td>\n      <td>24.99</td>\n    </tr>\n  </tbody>\n</table>\n</div>"
     },
     "metadata": {}
    }
   ]
  },
  {
   "cell_type": "code",
   "metadata": {
    "tags": [],
    "cell_id": "00014-91f6a3f7-3d7c-425b-82d5-71751943f865",
    "deepnote_to_be_reexecuted": false,
    "source_hash": "74b7268c",
    "execution_start": 1632524013811,
    "execution_millis": 68,
    "deepnote_cell_type": "code"
   },
   "source": "#grouped_by_title = df.groupby('title')['description'].max()\n\ngrouped_by_title = df.groupby('title')['description'].max()",
   "execution_count": null,
   "outputs": []
  },
  {
   "cell_type": "code",
   "metadata": {
    "tags": [],
    "cell_id": "00014-3d9f82e6-d8f3-4cb9-822d-2c7a9221e358",
    "deepnote_to_be_reexecuted": false,
    "source_hash": "465d6f66",
    "execution_start": 1632524023657,
    "execution_millis": 5,
    "deepnote_cell_type": "code"
   },
   "source": "grouped_by_title[grouped_by_title.str.contains('[0-9]', case=False)]",
   "execution_count": null,
   "outputs": [
    {
     "output_type": "execute_result",
     "execution_count": 7,
     "data": {
      "text/plain": "title\n1Q84                          In 1980s Tokyo, a woman who punishes perpetrat...\n2030                          In 2030, the young resent the elderly for drai...\nA LESSON IN SECRETS           In the summer of 1932, Maisie Dobbs’s first as...\nA MEMORY OF LIGHT             The 14th and final novel in the Wheel of Time ...\nA MERCY                       In 17th-­century America, a slave mother urges...\n                                                    ...                        \nWAKING THE WITCH                 Book 11 of the Women of the Otherworld series.\nWHERE WE BELONG               A woman’s successful life is disrupted by the ...\nWHERE'D YOU GO, BERNADETTE    A renowned and reclusive Seattle architect dis...\nWHITE WITCH, BLACK CURSE      A witch who is also a bounty hunter avenges he...\nWORST CASE                    A New York detective raising 10 children alone...\nName: description, Length: 123, dtype: object"
     },
     "metadata": {}
    }
   ]
  },
  {
   "cell_type": "code",
   "metadata": {
    "tags": [],
    "cell_id": "00015-2c52493c-079e-4970-b52b-ccd69de90a3c",
    "deepnote_to_be_reexecuted": false,
    "source_hash": "aea3f426",
    "execution_start": 1632524055476,
    "execution_millis": 2,
    "deepnote_cell_type": "code"
   },
   "source": "grouped_by_title = [grouped_by_title.str.contains('woman',case=False)]\n",
   "execution_count": null,
   "outputs": []
  },
  {
   "cell_type": "code",
   "metadata": {
    "tags": [],
    "cell_id": "00017-c058ed1b-3b43-4b20-8107-8ebb41f95194",
    "deepnote_to_be_reexecuted": false,
    "source_hash": "5600ace6",
    "execution_start": 1632524065707,
    "execution_millis": 771,
    "deepnote_cell_type": "code"
   },
   "source": "import nltk",
   "execution_count": null,
   "outputs": []
  },
  {
   "cell_type": "markdown",
   "source": "NLTK",
   "metadata": {
    "tags": [],
    "cell_id": "00018-98ca380d-4e47-44d6-b11f-bac909b3378b",
    "deepnote_cell_type": "markdown"
   }
  },
  {
   "cell_type": "code",
   "metadata": {
    "tags": [],
    "cell_id": "00020-d8ad2615-324f-4d2c-9e6a-3be66a1bc440",
    "deepnote_to_be_reexecuted": false,
    "source_hash": "997399cc",
    "execution_start": 1632524068906,
    "execution_millis": 400,
    "deepnote_cell_type": "code"
   },
   "source": "nltk.download('punkt')",
   "execution_count": null,
   "outputs": [
    {
     "name": "stderr",
     "text": "[nltk_data] Downloading package punkt to /root/nltk_data...\n[nltk_data]   Unzipping tokenizers/punkt.zip.\n",
     "output_type": "stream"
    },
    {
     "output_type": "execute_result",
     "execution_count": 13,
     "data": {
      "text/plain": "True"
     },
     "metadata": {}
    }
   ]
  },
  {
   "cell_type": "code",
   "metadata": {
    "tags": [],
    "cell_id": "00020-9cbe56fc-9af3-4850-a7cb-23365ab96da3",
    "deepnote_to_be_reexecuted": false,
    "source_hash": "f60836c3",
    "execution_start": 1632524071859,
    "execution_millis": 8,
    "deepnote_cell_type": "code"
   },
   "source": "grouped_by_title = grouped_by_title.str.lower()\ngrouped_by_title = grouped_by_title.str.strip()\ngrouped_by_title = grouped_by_title.str.replace([^\\w\\s])",
   "execution_count": null,
   "outputs": [
    {
     "output_type": "error",
     "ename": "SyntaxError",
     "evalue": "invalid syntax (4084018623.py, line 3)",
     "traceback": [
      "\u001b[0;36m  File \u001b[0;32m\"/tmp/ipykernel_81/4084018623.py\"\u001b[0;36m, line \u001b[0;32m3\u001b[0m\n\u001b[0;31m    grouped_by_title = grouped_by_title.str.replace([^\\w\\s])\u001b[0m\n\u001b[0m                                                     ^\u001b[0m\n\u001b[0;31mSyntaxError\u001b[0m\u001b[0;31m:\u001b[0m invalid syntax\n"
     ]
    }
   ]
  },
  {
   "cell_type": "code",
   "metadata": {
    "tags": [],
    "cell_id": "00022-b239e45e-69ba-4fa9-a498-9539e52d2fc4",
    "deepnote_to_be_reexecuted": false,
    "source_hash": "63d82518",
    "execution_start": 1632277594016,
    "execution_millis": 136,
    "deepnote_cell_type": "code"
   },
   "source": "tokenized = grouped_by_title.apply(nltk.word_tokenize)",
   "execution_count": null,
   "outputs": []
  },
  {
   "cell_type": "code",
   "metadata": {
    "tags": [],
    "cell_id": "00023-c999e06a-2235-4fe8-b883-c155e7e8b0fa",
    "deepnote_to_be_reexecuted": false,
    "source_hash": "6468104",
    "execution_start": 1632277662638,
    "execution_millis": 20,
    "deepnote_cell_type": "code"
   },
   "source": "all_words = tokenized.sum()\ntext = nltk.Text(all_words)\ntext",
   "execution_count": null,
   "outputs": [
    {
     "output_type": "execute_result",
     "execution_count": 36,
     "data": {
      "text/plain": "<Text: Detective Lindsay Boxer and the Women ’ s...>"
     },
     "metadata": {}
    }
   ]
  },
  {
   "cell_type": "code",
   "metadata": {
    "tags": [],
    "cell_id": "00024-b2824eba-f6f0-42be-9098-5db9e8b9ed29",
    "deepnote_to_be_reexecuted": false,
    "source_hash": "c054a648",
    "execution_start": 1632277681988,
    "execution_millis": 12,
    "deepnote_cell_type": "code"
   },
   "source": "text.similar('woman')",
   "execution_count": null,
   "outputs": [
    {
     "name": "stdout",
     "text": "man widow detective killer series war family case doctor friend boy\ntarget yacht sheriff murder accident dog nanny group secret\n",
     "output_type": "stream"
    }
   ]
  },
  {
   "cell_type": "code",
   "metadata": {
    "tags": [],
    "cell_id": "00025-49ae8c4d-ed46-4038-aa61-dc152da45a53",
    "deepnote_to_be_reexecuted": false,
    "source_hash": "2dd9cc5a",
    "execution_start": 1632277707423,
    "execution_millis": 20,
    "deepnote_cell_type": "code"
   },
   "source": "text.concordance('man',lines=20)",
   "execution_count": null,
   "outputs": [
    {
     "name": "stdout",
     "text": "Displaying 20 of 36 matches:\n. A woman in her late 30s marries the man of her dreams and reaches out to his \nr hides his male lover . A former hit man for the mob who has become a doctor i\ny the betrayals of her mother and the man she loves . Intrigue on the planet Sa\n85 . Two agents are tracking the same man , a human trafficker who is now deali\nlorida for a missing girl and the con man who seduced her . A runaway girl and \ndeployed to Iraq . A distraught young man discovers that he has grown horns . A\nmpire of Charis fights to survive . A man who kidnapped a 15-year-old girl cont\nI.A . stand in his way . When a young man finds a bag of diamonds , he gets the\nstigator Maisie Dobbs helps an Indian man whose sister ’ s murder has been igno\nttacks . A woman , her daughter and a man accused of murder evade the authoriti\nooper becomes involved when a wealthy man assaults a maid in a Manhattan hotel \nAs Christmas nears , a terminally ill man is preparing his family for his death\n Air Force base ; meanwhile , a young man ’ s mysterious death causes trouble a\ned — before the F.B.I . can . After a man stumbles in front of the reporter Mel\ner the woman he loved married another man , Jake Fisher discovers that neither \neats on his wives , sends an innocent man to jail and tries to cash in on anoth\nce Brennan investigates the case of a man who seems to have died twice . Jesse \ntor Eve Duncan undertakes a job for a man with dark secrets ; the first book in\nder at a remote abbey . A middle-aged man mourning his wife ’ s death is comfor\nr their high school romance ended , a man and woman who have gone their separat\n",
     "output_type": "stream"
    }
   ]
  },
  {
   "cell_type": "code",
   "metadata": {
    "tags": [],
    "cell_id": "00026-fb3a3ec4-d305-4120-87e1-98cf94b42732",
    "deepnote_to_be_reexecuted": false,
    "source_hash": "7d056581",
    "execution_start": 1632277737714,
    "execution_millis": 5,
    "deepnote_cell_type": "code"
   },
   "source": "text.similar('man')\n",
   "execution_count": null,
   "outputs": [
    {
     "name": "stdout",
     "text": "woman killer widow murder war mystery case vampire disappearance boy\ntarget murderer yacht shooting priest detective the women baby series\n",
     "output_type": "stream"
    }
   ]
  },
  {
   "cell_type": "code",
   "metadata": {
    "tags": [],
    "cell_id": "00027-6f14ef33-3030-45f8-ae1a-0a665dfc68be",
    "deepnote_to_be_reexecuted": false,
    "source_hash": "d0b6a58d",
    "execution_start": 1632277757143,
    "execution_millis": 7,
    "deepnote_cell_type": "code"
   },
   "source": "text.common_contexts(['woman','man'])",
   "execution_count": null,
   "outputs": [
    {
     "name": "stdout",
     "text": "a_in a_with a_who young_s\n",
     "output_type": "stream"
    }
   ]
  },
  {
   "cell_type": "code",
   "metadata": {
    "tags": [],
    "cell_id": "00028-585af47f-6ac7-4a5c-9b07-c3f830bf1282",
    "deepnote_to_be_reexecuted": false,
    "source_hash": "b6a5d0f9",
    "execution_start": 1632277793626,
    "execution_millis": 80,
    "deepnote_cell_type": "code"
   },
   "source": "len(text)",
   "execution_count": null,
   "outputs": [
    {
     "output_type": "execute_result",
     "execution_count": 42,
     "data": {
      "text/plain": "14545"
     },
     "metadata": {}
    }
   ]
  },
  {
   "cell_type": "code",
   "metadata": {
    "tags": [],
    "cell_id": "00029-cdad4c9d-f522-4224-9dec-dfe1598fbb87",
    "deepnote_to_be_reexecuted": false,
    "source_hash": "a13369af",
    "execution_start": 1632277919570,
    "execution_millis": 4,
    "deepnote_cell_type": "code"
   },
   "source": "len(set(text))\n",
   "execution_count": null,
   "outputs": [
    {
     "output_type": "execute_result",
     "execution_count": 43,
     "data": {
      "text/plain": "3401"
     },
     "metadata": {}
    }
   ]
  },
  {
   "cell_type": "code",
   "metadata": {
    "tags": [],
    "cell_id": "00030-3d9138fd-be43-4f6c-86f7-2aae24863b37",
    "deepnote_to_be_reexecuted": false,
    "source_hash": "517c9ed2",
    "execution_start": 1632277969034,
    "execution_millis": 4,
    "deepnote_cell_type": "code"
   },
   "source": "#cuantifica riqueza léxica\nlen(set(text)) / len(text)\n",
   "execution_count": null,
   "outputs": [
    {
     "output_type": "execute_result",
     "execution_count": 44,
     "data": {
      "text/plain": "0.23382605706428325"
     },
     "metadata": {}
    }
   ]
  },
  {
   "cell_type": "code",
   "metadata": {
    "tags": [],
    "cell_id": "00031-e93ad209-c39a-436e-a5ef-91e59200b1cc",
    "deepnote_to_be_reexecuted": false,
    "source_hash": "22fa07fa",
    "execution_start": 1632278042126,
    "execution_millis": 29,
    "deepnote_cell_type": "code"
   },
   "source": "nltk.download('stopwords')",
   "execution_count": null,
   "outputs": [
    {
     "name": "stderr",
     "text": "[nltk_data] Downloading package stopwords to /root/nltk_data...\n[nltk_data]   Unzipping corpora/stopwords.zip.\n",
     "output_type": "stream"
    },
    {
     "output_type": "execute_result",
     "execution_count": 48,
     "data": {
      "text/plain": "True"
     },
     "metadata": {}
    }
   ]
  },
  {
   "cell_type": "code",
   "metadata": {
    "tags": [],
    "cell_id": "00031-d6f6cff1-1c70-4555-9296-91cefd159bc0",
    "deepnote_to_be_reexecuted": false,
    "source_hash": "8484c4d8",
    "execution_start": 1632278043536,
    "execution_millis": 65,
    "deepnote_cell_type": "code"
   },
   "source": "text.collocations()",
   "execution_count": null,
   "outputs": [
    {
     "name": "stdout",
     "text": "New York; serial killer; Stone Barrington; Los Angeles; writing\npseudonymously; Nora Roberts; Eve Dallas; Lt. Eve; Sookie Stackhouse;\nAnita Blake; North Carolina; Alex Cross; Eve Duncan; Dagger\nBrotherhood; Doc Ford; Jason Bourne; Lacey Sherlock; Mitch Rapp;\nTemperance Brennan; forensic sculptor\n",
     "output_type": "stream"
    }
   ]
  },
  {
   "cell_type": "code",
   "metadata": {
    "tags": [],
    "cell_id": "00032-cfda351c-a1a1-4c31-8f98-98ae8d177bf3",
    "deepnote_to_be_reexecuted": false,
    "source_hash": "cbfb3231",
    "execution_start": 1632279527213,
    "execution_millis": 78,
    "deepnote_cell_type": "code"
   },
   "source": "nltk.download(text)",
   "execution_count": null,
   "outputs": [
    {
     "output_type": "error",
     "ename": "AttributeError",
     "evalue": "'Text' object has no attribute 'id'",
     "traceback": [
      "\u001b[0;31m---------------------------------------------------------------------------\u001b[0m",
      "\u001b[0;31mAttributeError\u001b[0m                            Traceback (most recent call last)",
      "\u001b[0;32m/tmp/ipykernel_77/3748661191.py\u001b[0m in \u001b[0;36m<module>\u001b[0;34m\u001b[0m\n\u001b[0;32m----> 1\u001b[0;31m \u001b[0mnltk\u001b[0m\u001b[0;34m.\u001b[0m\u001b[0mdownload\u001b[0m\u001b[0;34m(\u001b[0m\u001b[0mtext\u001b[0m\u001b[0;34m)\u001b[0m\u001b[0;34m\u001b[0m\u001b[0;34m\u001b[0m\u001b[0m\n\u001b[0m",
      "\u001b[0;32m/shared-libs/python3.7/py/lib/python3.7/site-packages/nltk/downloader.py\u001b[0m in \u001b[0;36mdownload\u001b[0;34m(self, info_or_id, download_dir, quiet, force, prefix, halt_on_error, raise_on_error, print_error_to)\u001b[0m\n\u001b[1;32m    822\u001b[0m                         show(\n\u001b[1;32m    823\u001b[0m                             \u001b[0;34m\"Downloading package %s to %s...\"\u001b[0m\u001b[0;34m\u001b[0m\u001b[0;34m\u001b[0m\u001b[0m\n\u001b[0;32m--> 824\u001b[0;31m                             \u001b[0;34m%\u001b[0m \u001b[0;34m(\u001b[0m\u001b[0mmsg\u001b[0m\u001b[0;34m.\u001b[0m\u001b[0mpackage\u001b[0m\u001b[0;34m.\u001b[0m\u001b[0mid\u001b[0m\u001b[0;34m,\u001b[0m \u001b[0mdownload_dir\u001b[0m\u001b[0;34m)\u001b[0m\u001b[0;34m\u001b[0m\u001b[0;34m\u001b[0m\u001b[0m\n\u001b[0m\u001b[1;32m    825\u001b[0m                         )\n\u001b[1;32m    826\u001b[0m                     \u001b[0;32melif\u001b[0m \u001b[0misinstance\u001b[0m\u001b[0;34m(\u001b[0m\u001b[0mmsg\u001b[0m\u001b[0;34m,\u001b[0m \u001b[0mUpToDateMessage\u001b[0m\u001b[0;34m)\u001b[0m\u001b[0;34m:\u001b[0m\u001b[0;34m\u001b[0m\u001b[0;34m\u001b[0m\u001b[0m\n",
      "\u001b[0;31mAttributeError\u001b[0m: 'Text' object has no attribute 'id'"
     ]
    }
   ]
  },
  {
   "cell_type": "code",
   "metadata": {
    "tags": [],
    "cell_id": "00034-7547b253-b10d-41ff-9470-e128863e0cbb",
    "deepnote_to_be_reexecuted": false,
    "source_hash": "eda6afc5",
    "execution_start": 1632279535696,
    "execution_millis": 42,
    "deepnote_cell_type": "code"
   },
   "source": "freq_dist = nltk.FreqDist(all_words)\nfreq_dist.most_common()",
   "execution_count": null,
   "outputs": [
    {
     "output_type": "execute_result",
     "execution_count": 52,
     "data": {
      "text/plain": "[('.', 816),\n ('a', 686),\n ('the', 628),\n (',', 487),\n ('of', 417),\n ('in', 303),\n ('to', 281),\n ('and', 279),\n ('A', 230),\n ('’', 187),\n ('s', 170),\n ('The', 150),\n ('her', 136),\n ('is', 126),\n ('his', 123),\n ('an', 112),\n ('who', 109),\n ('for', 102),\n ('with', 92),\n (';', 80),\n ('woman', 73),\n ('from', 70),\n ('on', 69),\n ('by', 68),\n ('series', 61),\n ('In', 61),\n ('that', 60),\n ('novel', 49),\n ('“', 48),\n ('”', 47),\n ('murder', 47),\n ('killer', 42),\n ('as', 40),\n ('detective', 40),\n ('at', 39),\n ('must', 39),\n ('has', 38),\n ('investigates', 38),\n ('An', 37),\n ('young', 35),\n ('New', 35),\n ('man', 35),\n ('when', 34),\n ('life', 33),\n ('she', 33),\n ('family', 32),\n ('former', 31),\n ('book', 30),\n ('about', 30),\n ('their', 29),\n ('are', 28),\n ('Book', 27),\n ('York', 27),\n ('new', 26),\n ('death', 25),\n ('mother', 24),\n ('he', 24),\n ('into', 23),\n ('agent', 23),\n ('wife', 22),\n ('C.I.A', 21),\n ('love', 21),\n ('discovers', 21),\n ('lawyer', 21),\n ('this', 20),\n ('murdered', 20),\n ('finds', 20),\n ('secret', 19),\n ('daughter', 19),\n ('case', 19),\n ('him', 19),\n ('after', 19),\n ('serial', 18),\n ('Eve', 18),\n ('world', 18),\n ('pursues', 18),\n ('two', 18),\n ('investigator', 18),\n ('operative', 18),\n ('missing', 17),\n ('first', 17),\n ('search', 17),\n ('searches', 17),\n ('help', 17),\n ('Stone', 17),\n ('women', 17),\n ('investigate', 16),\n ('secrets', 16),\n ('one', 16),\n ('F.B.I', 16),\n ('years', 16),\n ('girl', 16),\n ('town', 16),\n ('returns', 16),\n ('up', 15),\n ('deadly', 15),\n ('war', 15),\n ('—', 15),\n ('vampire', 15),\n ('private', 15),\n ('becomes', 14),\n ('fantasy', 14),\n ('have', 14),\n ('out', 14),\n ('against', 14),\n ('friends', 14),\n ('forensic', 14),\n ('been', 14),\n ('Detective', 13),\n ('takes', 13),\n ('British', 13),\n ('back', 13),\n ('involved', 13),\n ('home', 13),\n ('they', 13),\n ('terrorist', 12),\n ('author', 12),\n ('When', 12),\n ('father', 12),\n ('past', 12),\n ('but', 12),\n ('War', 12),\n ('Barrington', 12),\n ('crime', 12),\n ('story', 12),\n ('during', 12),\n ('find', 11),\n ('sister', 11),\n ('helps', 11),\n ('group', 11),\n ('drawn', 11),\n ('hunter', 11),\n ('trilogy', 11),\n ('Carolina', 11),\n ('police', 11),\n ('son', 11),\n ('husband', 11),\n ('between', 11),\n ('found', 11),\n ('off', 10),\n ('Los', 10),\n ('Angeles', 10),\n ('sequel', 10),\n ('London', 10),\n ('cop', 10),\n ('final', 10),\n ('America', 10),\n ('tries', 10),\n ('it', 10),\n ('died', 10),\n ('become', 10),\n ('both', 10),\n ('dangerous', 10),\n ('Dallas', 10),\n ('writing', 10),\n ('pseudonymously', 10),\n ('friend', 10),\n ('lives', 10),\n ('was', 10),\n ('whose', 10),\n ('dead', 10),\n ('three', 10),\n ('team', 10),\n ('Black', 10),\n ('John', 10),\n ('ancient', 9),\n ('sent', 9),\n ('faces', 9),\n ('protect', 9),\n ('mystery', 9),\n ('stories', 9),\n ('paranormal', 9),\n ('agents', 9),\n ('star', 9),\n ('disappearance', 9),\n ('set', 9),\n ('Lt.', 9),\n ('Nora', 9),\n ('Roberts', 9),\n ('reporter', 9),\n ('Harry', 9),\n ('old', 9),\n ('be', 9),\n ('American', 9),\n ('character', 9),\n ('Russian', 8),\n ('Dillon', 8),\n ('human', 8),\n ('take', 8),\n ('attack', 8),\n ('World', 8),\n ('joins', 8),\n ('Alex', 8),\n ('Washington', 8),\n ('makes', 8),\n ('Manhattan', 8),\n ('England', 8),\n ('them', 8),\n ('mysterious', 8),\n ('investigation', 8),\n ('Duncan', 8),\n ('volume', 8),\n ('chief', 8),\n ('together', 8),\n ('small', 8),\n ('characters', 8),\n ('Florida', 8),\n ('seeks', 8),\n ('down', 8),\n ('assassin', 8),\n ('medical', 8),\n ('had', 8),\n ('make', 8),\n ('stop', 8),\n ('After', 8),\n ('North', 8),\n ('goes', 7),\n ('plot', 7),\n ('can', 7),\n ('Sookie', 7),\n ('Stackhouse', 7),\n ('where', 7),\n ('works', 7),\n ('power', 7),\n ('officer', 7),\n ('battle', 7),\n ('beautiful', 7),\n ('art', 7),\n ('save', 7),\n ('German', 7),\n ('conspiracy', 7),\n ('falls', 7),\n ('widow', 7),\n ('wealthy', 7),\n ('teenage', 7),\n ('pursue', 7),\n ('involving', 7),\n ('second', 7),\n ('Joe', 7),\n (\"''\", 7),\n ('wants', 7),\n ('murders', 7),\n ('kidnapped', 7),\n ('Texas', 7),\n ('boy', 7),\n ('Boston', 7),\n ('four', 7),\n ('well', 7),\n ('Chicago', 7),\n ('partner', 7),\n ('psychic', 7),\n ('house', 7),\n ('whether', 7),\n ('Two', 7),\n ('what', 7),\n ('intelligence', 7),\n ('trouble', 7),\n ('another', 7),\n ('other', 7),\n ('criminal', 7),\n ('Scarpetta', 7),\n ('Women', 6),\n ('president', 6),\n ('accused', 6),\n ('Christmas', 6),\n ('couple', 6),\n ('trying', 6),\n ('its', 6),\n ('own', 6),\n ('San', 6),\n ('attorney', 6),\n ('over', 6),\n ('killed', 6),\n ('complicated', 6),\n ('time', 6),\n ('Cross', 6),\n ('?', 6),\n ('Virgil', 6),\n ('doctor', 6),\n ('school', 6),\n ('South', 6),\n ('discover', 6),\n ('sculptor', 6),\n ('Anita', 6),\n ('Blake', 6),\n ('Force', 6),\n ('learns', 6),\n ('intrigue', 6),\n ('body', 6),\n ('Lucas', 6),\n ('wedding', 6),\n ('Three', 6),\n ('tracks', 6),\n ('hunts', 6),\n ('t', 6),\n ('crew', 6),\n ('Afghanistan', 6),\n ('prison', 6),\n ('herself', 6),\n ('truth', 6),\n ('long', 6),\n ('crimes', 6),\n ('track', 6),\n ('now', 6),\n ('victims', 6),\n ('himself', 6),\n ('sheriff', 6),\n ('return', 6),\n ('hotel', 6),\n ('Paul', 6),\n ('journalist', 6),\n ('generations', 6),\n ('children', 6),\n ('drug', 6),\n ('turned', 6),\n ('disappears', 6),\n ('retired', 6),\n ('members', 6),\n ('Robert', 6),\n ('race', 5),\n ('possible', 5),\n ('devastating', 5),\n ('Temperance', 5),\n ('Brennan', 5),\n ('sets', 5),\n ('job', 5),\n ('summer', 5),\n ('assignment', 5),\n ('service', 5),\n ('try', 5),\n ('witch', 5),\n ('Morgan', 5),\n ('10', 5),\n ('Francisco', 5),\n ('defense', 5),\n ('Inspector', 5),\n ('Victorian', 5),\n ('12', 5),\n ('Lincoln', 5),\n ('terrorists', 5),\n ('Thomas', 5),\n ('(', 5),\n ('or', 5),\n (')', 5),\n ('struggles', 5),\n ('Mitch', 5),\n ('Rapp', 5),\n ('professional', 5),\n ('I', 5),\n ('spies', 5),\n ('Savich', 5),\n ('Lacey', 5),\n ('Sherlock', 5),\n ('Flowers', 5),\n ('threatened', 5),\n ('hunt', 5),\n ('later', 5),\n ('Seattle', 5),\n ('counterterrorism', 5),\n ('bounty', 5),\n ('earlier', 5),\n ('vacation', 5),\n ('warrior', 5),\n ('fight', 5),\n ('battles', 5),\n ('``', 5),\n ('Dublin', 5),\n ('Davenport', 5),\n ('were', 5),\n ('Service', 5),\n ('novels', 5),\n ('refuge', 5),\n ('parents', 5),\n ('unit', 5),\n ('being', 5),\n ('Dresden', 5),\n ('Files', 5),\n ('wizard', 5),\n ('Doc', 5),\n ('Ford', 5),\n ('island', 5),\n ('Oregon', 5),\n ('murderer', 5),\n ('Ladies', 5),\n ('City', 5),\n ('sisters', 5),\n ('not', 5),\n ('nuclear', 5),\n ('Carpathian', 5),\n ('fights', 5),\n ('treasure', 5),\n ('do', 5),\n ('King', 5),\n ('California', 5),\n ('assistant', 5),\n ('colleague', 5),\n ('caught', 5),\n ('among', 5),\n ('city', 5),\n ('married', 5),\n ('identity', 5),\n ('relationship', 5),\n ('while', 5),\n ('Dagger', 5),\n ('Brotherhood', 5),\n ('confront', 5),\n ('evil', 5),\n ('Mass.', 5),\n ('Spenser', 5),\n ('Kay', 5),\n ('firm', 5),\n ('1', 5),\n ('history', 5),\n ('Nantucket', 5),\n ('connected', 5),\n ('Agency', 5),\n ('Ludlum', 5),\n ('Jason', 5),\n ('Bourne', 5),\n ('Swedish', 5),\n ('Lindsay', 4),\n ('Boxer', 4),\n ('Club', 4),\n ('ex-husband', 4),\n ('fourth', 4),\n ('French', 4),\n ('elderly', 4),\n ('accident', 4),\n ('lost', 4),\n ('college', 4),\n ('virus', 4),\n ('Maisie', 4),\n ('Dobbs', 4),\n ('through', 4),\n ('Safehold', 4),\n ('which', 4),\n ('Rachel', 4),\n ('Hollows', 4),\n ('head', 4),\n ('homicide', 4),\n ('encounters', 4),\n ('Dark-Hunter', 4),\n ('Louisiana', 4),\n ('bombing', 4),\n ('order', 4),\n ('scientists', 4),\n ('threatens', 4),\n ('struggle', 4),\n ('daughters', 4),\n ('destroy', 4),\n ('adventure', 4),\n ('global', 4),\n ('hides', 4),\n ('lover', 4),\n ('mob', 4),\n ('Hollywood', 4),\n ('movie', 4),\n ('high', 4),\n ('Harvath', 4),\n ('targeted', 4),\n ('prevent', 4),\n ('Army', 4),\n ('special', 4),\n ('whom', 4),\n ('plan', 4),\n ('scandal', 4),\n ('rescue', 4),\n ('mission', 4),\n ('Sigma', 4),\n ('Cole', 4),\n ('Parker', 4),\n ('behind', 4),\n ('show', 4),\n ('more', 4),\n ('‘', 4),\n ('National', 4),\n ('work', 4),\n ('third', 4),\n ('Arcane', 4),\n ('Society', 4),\n ('Indian', 4),\n ('brings', 4),\n ('called', 4),\n ('some', 4),\n ('days', 4),\n ('community', 4),\n ('Aloysius', 4),\n ('Pendergast', 4),\n ('Saga', 4),\n ('Drizzt', 4),\n ('target', 4),\n ('Juan', 4),\n ('Cabrillo', 4),\n ('Chinese', 4),\n ('attempts', 4),\n (\"'s\", 4),\n ('Brady', 4),\n ('Israeli', 4),\n ('expert', 4),\n ('pack', 4),\n ('Edilean', 4),\n ('travel', 4),\n ('part', 4),\n ('Arizona', 4),\n ('collection', 4),\n ('Honor', 4),\n ('Elizabeth', 4),\n ('marry', 4),\n ('near', 4),\n ('decide', 4),\n ('This', 4),\n ('continuation', 4),\n ('amid', 4),\n ('painting', 4),\n ('O.S.S', 4),\n ('latest', 4),\n ('come', 4),\n ('turns', 4),\n ('Stephanie', 4),\n ('Plum', 4),\n ('leads', 4),\n ('child', 4),\n ('abducted', 4),\n ('military', 4),\n ('attacks', 4),\n ('spy', 4),\n ('danger', 4),\n ('werewolf', 4),\n ('N.Y.P.D', 4),\n ('United', 4),\n ('States', 4),\n ('contractor', 4),\n ('White', 4),\n ('Madriani', 4),\n ('each', 4),\n ('uncovers', 4),\n ('Iraq', 4),\n ('solve', 4),\n ('all', 4),\n ('brother', 4),\n ('stolen', 4),\n ('law', 4),\n ('Jack', 4),\n ('Jesse', 4),\n ('Paradise', 4),\n ('Bosch', 4),\n ('Dune', 4),\n ('string', 4),\n ('international', 4),\n ('Qaeda', 4),\n ('killings', 4),\n ('Minnesota', 4),\n ('Philadelphia', 4),\n ('disappeared', 4),\n ('once', 4),\n ('No', 4),\n ('Gabriel', 4),\n ('Allon', 4),\n ('restorer', 4),\n ('hacker', 4),\n ('Wells', 4),\n ('Isaac', 4),\n ('Bell', 4),\n ('Murder', 3),\n ('baby', 3),\n ('face', 3),\n ('novelist', 3),\n ('project', 3),\n ('country', 3),\n ('room', 3),\n ('counterspy', 3),\n ('Sean', 3),\n ('student', 3),\n ('undercover', 3),\n ('Cambridge', 3),\n ('Wheel', 3),\n ('Time', 3),\n ('slave', 3),\n ('buy', 3),\n ('Prize-winning', 3),\n ('4', 3),\n ('future', 3),\n ('planet', 3),\n ('client', 3),\n ('clan', 3),\n ('seems', 3),\n ('coast', 3),\n ('business', 3),\n ('expose', 3),\n ('famous', 3),\n ('veteran', 3),\n ('success', 3),\n ('animals', 3),\n ('reaches', 3),\n ('determined', 3),\n ('20th', 3),\n ('Dirk', 3),\n ('Pitt', 3),\n ('East', 3),\n ('struggling', 3),\n ('mentor', 3),\n ('Italy', 3),\n ('related', 3),\n ('newly', 3),\n ('control', 3),\n ('represents', 3),\n ('Lynley', 3),\n ('reunite', 3),\n ('childhood', 3),\n ('Scot', 3),\n ('eighth', 3),\n ('bring', 3),\n ('Decker', 3),\n ('Lazarus', 3),\n ('tale', 3),\n ('dark', 3),\n ('master', 3),\n ('violent', 3),\n ('clinic', 3),\n ('probes', 3),\n ('shapeshifter', 3),\n ('menaced', 3),\n ('anthropologist', 3),\n ('corruption', 3),\n ('Park', 3),\n ('Anna', 3),\n ('Pigeon', 3),\n ('13th', 3),\n ('Pickett', 3),\n ('Wyoming', 3),\n ('game', 3),\n ('warden', 3),\n ('loves', 3),\n ('disturbing', 3),\n ('there', 3),\n ('Mother', 3),\n ('All', 3),\n ('girls', 3),\n ('moves', 3),\n ('changed', 3),\n ('successful', 3),\n ('robbery', 3),\n ('James', 3),\n ('Bond', 3),\n ('security', 3),\n ('kill', 3),\n ('suburban', 3),\n ('actress', 3),\n ('based', 3),\n ('cases', 3),\n ('Times', 3),\n ('Neverwinter', 3),\n ('revenge', 3),\n ('eye', 3),\n ('Elvis', 3),\n ('responsible', 3),\n ('investigative', 3),\n ('only', 3),\n ('Queen', 3),\n ('murdering', 3),\n ('fifth', 3),\n ('pursuing', 3),\n ('rare', 3),\n ('state', 3),\n ('men', 3),\n ('Dave', 3),\n ('Robicheaux', 3),\n ('chases', 3),\n ('leader', 3),\n ('gang', 3),\n ('soldier', 3),\n ('Street', 3),\n ('examiner', 3),\n ('appears', 3),\n ('Joanna', 3),\n ('Iran', 3),\n ('travels', 3),\n ('mate', 3),\n ('18th', 3),\n ('gold', 3),\n ('waitress', 3),\n ('searching', 3),\n ('Ali', 3),\n ('Reynolds', 3),\n ('Argentina', 3),\n ('Bound', 3),\n ('Six', 3),\n ('shaken', 3),\n ('yacht', 3),\n ('including', 3),\n ('dealing', 3),\n ('arms', 3),\n ('executive', 3),\n ('NUMA', 3),\n ('Kurt', 3),\n ('uncover', 3),\n ('reveals', 3),\n ('returning', 3),\n ('reclusive', 3),\n ('Ender', 3),\n ('federal', 3),\n ('adopted', 3),\n ('force', 3),\n ('vigilante', 3),\n ('Serge', 3),\n ('Storms', 3),\n ('national', 3),\n ('reach', 3),\n ('7', 3),\n ('science', 3),\n ('fiction', 3),\n ('unlikely', 3),\n ('ally', 3),\n ('Alpha', 3),\n ('entrepreneur', 3),\n ('online', 3),\n ('thought', 3),\n ('pursuit', 3),\n ('believes', 3),\n ('Alera', 3),\n ('disaster', 3),\n ('covert', 3),\n ('Rome', 3),\n ('students', 3),\n ('Mercy', 3),\n ('Thompson', 3),\n ('Adam', 3),\n ('Four', 3),\n ('sidekick', 3),\n ('pair', 3),\n ('could', 3),\n ('Gideon', 3),\n ('birth', 3),\n ('nurse', 3),\n ('surgeon', 3),\n ('linked', 3),\n ('Alexandra', 3),\n ('Cooper', 3),\n ('sex', 3),\n ('twin', 3),\n ('consequences', 3),\n ('priest', 3),\n ('discovery', 3),\n ('biblical', 3),\n ('scholar', 3),\n ('prosecutor', 3),\n ('gets', 3),\n ('brutal', 3),\n ('Kinsey', 3),\n ('Millhone', 3),\n ('romance', 3),\n ('Hawke', 3),\n ('Investigating', 3),\n ('teenager', 3),\n ('Richard', 3),\n ('questions', 3),\n ('threat', 3),\n ('West', 3),\n ('may', 3),\n ('around', 3),\n ('Sam', 3),\n ('Remi', 3),\n ('Fargo', 3),\n ('treasure-hunting', 3),\n ('11', 3),\n ('discoveries', 3),\n ('encounter', 3),\n ('guilt', 3),\n ('confronts', 3),\n ('graduate', 3),\n ('before', 3),\n ('deal', 3),\n ('crises', 3),\n ('rogue', 3),\n ('freedom', 3),\n ('escaped', 3),\n ('forces', 3),\n ('changes', 3),\n ('Hong', 3),\n ('Kong', 3),\n ('ago', 3),\n ('cross', 3),\n ('hedge', 3),\n ('ill', 3),\n ('Clifton', 3),\n ('clear', 3),\n ('Frank', 3),\n ('Herbert', 3),\n ('Minneapolis', 3),\n ('causes', 3),\n ('network', 3),\n ('friendship', 3),\n ('car', 3),\n ('satire', 3),\n ('attempt', 3),\n ('aliens', 3),\n ('gambling', 3),\n ('written', 3),\n ('information', 3),\n ('2010', 3),\n ('raising', 3),\n ('powerful', 3),\n ('luxury', 3),\n ('2', 3),\n ('innocent', 3),\n ('Edinburgh', 3),\n ('people', 3),\n ('unexpected', 3),\n ('working', 3),\n ('Pike', 3),\n ('killing', 3),\n ('Isabel', 3),\n ('Dalhousie', 3),\n ('occasional', 3),\n ('Roses', 3),\n ('grandmother', 3),\n ('Elm', 3),\n ('Creek', 3),\n ('large', 2),\n ('installment', 2),\n ('Cedar', 2),\n ('Cove', 2),\n ('English', 2),\n ('perpetrators', 2),\n ('violence', 2),\n ('ties', 2),\n ('unusual', 2),\n ('administration', 2),\n ('autopsy', 2),\n ('defector', 2),\n ('Winter', 2),\n ('foil', 2),\n ('manuscript', 2),\n ('Oxford', 2),\n ('fantastical', 2),\n ('dog', 2),\n ('destiny', 2),\n ('Midwestern', 2),\n ('State', 2),\n ('address', 2),\n ('1932', 2),\n ('seen', 2),\n ('Wicked', 2),\n ('massacre', 2),\n ('Russians', 2),\n ('better', 2),\n ('religious', 2),\n ('17th-century', 2),\n ('Europe', 2),\n ('create', 2),\n ('1910', 2),\n ('Amelia', 2),\n ('Peabody', 2),\n ('Parisian', 2),\n ('architect', 2),\n ('Chief', 2),\n ('Armand', 2),\n ('Gamache', 2),\n ('trip', 2),\n ('mother-in-law', 2),\n ('Ireland', 2),\n ('cast', 2),\n ('correspondent', 2),\n ('highest', 2),\n ('levels', 2),\n ('colleagues', 2),\n ('bomb', 2),\n ('Pakistan', 2),\n ('End', 2),\n ('crisis', 2),\n ('journey', 2),\n ('space', 2),\n ('forgiveness', 2),\n ('killers', 2),\n ('someone', 2),\n ('writes', 2),\n ('career', 2),\n ('veterinarian', 2),\n ('wrecked', 2),\n ('Lockerbie', 2),\n ('ambitious', 2),\n ('catastrophe', 2),\n ('humans', 2),\n ('beings', 2),\n ('previous', 2),\n ('marriage', 2),\n ('will', 2),\n ('warming', 2),\n ('hunting', 2),\n ('brink', 2),\n ('judge', 2),\n ('monstrous', 2),\n ('hit', 2),\n ('patient', 2),\n ('figure', 2),\n ('artifacts', 2),\n ('possibly', 2),\n ('end', 2),\n ('memories', 2),\n ('disappear', 2),\n ('25-year-old', 2),\n ('corporate', 2),\n ('empire', 2),\n ('Childhood', 2),\n ('estranged', 2),\n ('popular', 2),\n ('needs', 2),\n ('Beaumont', 2),\n ('governor', 2),\n ('Dakota', 2),\n ('biologist', 2),\n ('ex-cop', 2),\n ('sweethearts', 2),\n ('also', 2),\n ('embroiled', 2),\n ('baseball', 2),\n ('circa', 2),\n ('reveal', 2),\n ('Appaloosa', 2),\n ('V.', 2),\n ('I.', 2),\n ('Warshawski', 2),\n ('club', 2),\n ('15th', 2),\n ('Bones', 2),\n ('duty', 2),\n ('rescues', 2),\n ('survive', 2),\n ('League', 2),\n ('regain', 2),\n ('uncle', 2),\n ('stole', 2),\n ('Italian-American', 2),\n ('shoemaker', 2),\n ('featuring', 2),\n ('Little', 2),\n ('Darkness', 2),\n ('1985', 2),\n ('leave', 2),\n ('Orleans', 2),\n ('lord', 2),\n ('fears', 2),\n ('ancestral', 2),\n ('curse', 2),\n ('Southern', 2),\n ('forever', 2),\n ('Intrigue', 2),\n ('pitcher', 2),\n ('promising', 2),\n ('ending', 2),\n ('mayor', 2),\n ('department', 2),\n ('store', 2),\n ('recover', 2),\n ('citizens', 2),\n ('asks', 2),\n ('social', 2),\n ('drowns', 2),\n ('opening', 2),\n ('party', 2),\n ('3', 2),\n ('release', 2),\n ('season', 2),\n ('Montana', 2),\n ('loss', 2),\n ('glamorous', 2),\n ('change', 2),\n ('taken', 2),\n ('skills', 2),\n ('ex-lover', 2),\n ('asked', 2),\n ('Special', 2),\n ('Agent', 2),\n ('But', 2),\n ('guilty', 2),\n ('Holly', 2),\n ('Barker', 2),\n ('books', 2),\n ('blackmailer', 2),\n ('plane', 2),\n ('shot', 2),\n ('Charley', 2),\n ('Castillo', 2),\n ('Caribbean', 2),\n ('nation', 2),\n ('singer', 2),\n ('connection', 2),\n ('explosions', 2),\n ('Tracking', 2),\n ('scene', 2),\n ('explosive', 2),\n ('God', 2),\n ('injured', 2),\n ('trainer', 2),\n ('identify', 2),\n ('caterer', 2),\n ('sleuth', 2),\n ('Goldy', 2),\n ('Schulz', 2),\n ('destroyed', 2),\n ...]"
     },
     "metadata": {}
    }
   ]
  },
  {
   "cell_type": "code",
   "metadata": {
    "tags": [],
    "cell_id": "00035-100f9181-d327-445b-9d96-0f3002aa5293",
    "deepnote_cell_type": "code"
   },
   "source": "english_stop_words = stopwords.words('english')\n\nall_words_except_stop_words = [word for word in all_words if word not in english_stop_words]\n\nfreq_dist_no_stop_words = nltk.FreqDist(all_words_except_stop_words)\n\nfreq_dist_no_stop_words.most_common(10)",
   "execution_count": null,
   "outputs": []
  },
  {
   "cell_type": "markdown",
   "source": "#### Repaso",
   "metadata": {
    "tags": [],
    "cell_id": "00036-b80041d8-68f6-4540-9794-cd7aa9f7fa1c",
    "deepnote_cell_type": "markdown"
   }
  },
  {
   "cell_type": "code",
   "metadata": {
    "tags": [],
    "cell_id": "00038-5dc20235-cba3-46a0-9c3f-43f28034e502",
    "deepnote_to_be_reexecuted": false,
    "source_hash": "3b194",
    "execution_start": 1632445479800,
    "execution_millis": 1428,
    "deepnote_cell_type": "code"
   },
   "source": "import pandas as pd\nimport seaborn as sns\nimport matplotlib.pyplot as plt\nimport nltk\nfrom nltk.corpus import stopwords",
   "execution_count": null,
   "outputs": []
  },
  {
   "cell_type": "code",
   "metadata": {
    "tags": [],
    "cell_id": "00038-cc1998c0-279b-4169-8281-7fdf9828a09b",
    "deepnote_to_be_reexecuted": false,
    "source_hash": "2c436d78",
    "execution_start": 1632445482181,
    "execution_millis": 101,
    "deepnote_cell_type": "code"
   },
   "source": "df = pd.read_json('/work/B2-Analisis-de-Datos-con-Python-2020-2021-Santander/Datasets/new_york_times_bestsellers-clean.json')\ndf.head()",
   "execution_count": null,
   "outputs": [
    {
     "output_type": "execute_result",
     "execution_count": 7,
     "data": {
      "application/vnd.deepnote.dataframe.v2+json": {
       "row_count": 5,
       "column_count": 12,
       "columns": [
        {
         "name": "amazon_product_url",
         "dtype": "object",
         "stats": {
          "unique_count": 5,
          "nan_count": 0,
          "categories": [
           {
            "name": "http://www.amazon.com/The-Host-Novel-Stephenie-Meyer/dp/0316218502?tag=NYTBS-20",
            "count": 1
           },
           {
            "name": "http://www.amazon.com/Love-Youre-With-Emily-Giffin/dp/0312348665?tag=NYTBS-20",
            "count": 1
           },
           {
            "name": "3 others",
            "count": 3
           }
          ]
         }
        },
        {
         "name": "author",
         "dtype": "object",
         "stats": {
          "unique_count": 5,
          "nan_count": 0,
          "categories": [
           {
            "name": "Stephenie Meyer",
            "count": 1
           },
           {
            "name": "Emily Giffin",
            "count": 1
           },
           {
            "name": "3 others",
            "count": 3
           }
          ]
         }
        },
        {
         "name": "description",
         "dtype": "object",
         "stats": {
          "unique_count": 5,
          "nan_count": 0,
          "categories": [
           {
            "name": "Aliens have taken control of the minds and bodies of most humans, but one woman won’t surrender.",
            "count": 1
           },
           {
            "name": "A woman's happy marriage is shaken when she encounters an old boyfriend.",
            "count": 1
           },
           {
            "name": "3 others",
            "count": 3
           }
          ]
         }
        },
        {
         "name": "publisher",
         "dtype": "object",
         "stats": {
          "unique_count": 4,
          "nan_count": 0,
          "categories": [
           {
            "name": "Little, Brown",
            "count": 2
           },
           {
            "name": "St. Martin's",
            "count": 1
           },
           {
            "name": "2 others",
            "count": 2
           }
          ]
         }
        },
        {
         "name": "title",
         "dtype": "object",
         "stats": {
          "unique_count": 5,
          "nan_count": 0,
          "categories": [
           {
            "name": "THE HOST",
            "count": 1
           },
           {
            "name": "LOVE THE ONE YOU'RE WITH",
            "count": 1
           },
           {
            "name": "3 others",
            "count": 3
           }
          ]
         }
        },
        {
         "name": "oid",
         "dtype": "object",
         "stats": {
          "unique_count": 5,
          "nan_count": 0,
          "categories": [
           {
            "name": "5b4aa4ead3089013507db18c",
            "count": 1
           },
           {
            "name": "5b4aa4ead3089013507db18d",
            "count": 1
           },
           {
            "name": "3 others",
            "count": 3
           }
          ]
         }
        },
        {
         "name": "bestsellers_date.numberLong",
         "dtype": "int64",
         "stats": {
          "unique_count": 1,
          "nan_count": 0,
          "min": "1211587200000",
          "max": "1211587200000",
          "histogram": [
           {
            "bin_start": 1211587199999.5,
            "bin_end": 1211587199999.6,
            "count": 0
           },
           {
            "bin_start": 1211587199999.6,
            "bin_end": 1211587199999.7,
            "count": 0
           },
           {
            "bin_start": 1211587199999.7,
            "bin_end": 1211587199999.8,
            "count": 0
           },
           {
            "bin_start": 1211587199999.8,
            "bin_end": 1211587199999.9,
            "count": 0
           },
           {
            "bin_start": 1211587199999.9,
            "bin_end": 1211587200000,
            "count": 0
           },
           {
            "bin_start": 1211587200000,
            "bin_end": 1211587200000.1,
            "count": 5
           },
           {
            "bin_start": 1211587200000.1,
            "bin_end": 1211587200000.2,
            "count": 0
           },
           {
            "bin_start": 1211587200000.2,
            "bin_end": 1211587200000.3,
            "count": 0
           },
           {
            "bin_start": 1211587200000.3,
            "bin_end": 1211587200000.4,
            "count": 0
           },
           {
            "bin_start": 1211587200000.4,
            "bin_end": 1211587200000.5,
            "count": 0
           }
          ]
         }
        },
        {
         "name": "published_date.numberLong",
         "dtype": "int64",
         "stats": {
          "unique_count": 1,
          "nan_count": 0,
          "min": "1212883200000",
          "max": "1212883200000",
          "histogram": [
           {
            "bin_start": 1212883199999.5,
            "bin_end": 1212883199999.6,
            "count": 0
           },
           {
            "bin_start": 1212883199999.6,
            "bin_end": 1212883199999.7,
            "count": 0
           },
           {
            "bin_start": 1212883199999.7,
            "bin_end": 1212883199999.8,
            "count": 0
           },
           {
            "bin_start": 1212883199999.8,
            "bin_end": 1212883199999.9,
            "count": 0
           },
           {
            "bin_start": 1212883199999.9,
            "bin_end": 1212883200000,
            "count": 0
           },
           {
            "bin_start": 1212883200000,
            "bin_end": 1212883200000.1,
            "count": 5
           },
           {
            "bin_start": 1212883200000.1,
            "bin_end": 1212883200000.2,
            "count": 0
           },
           {
            "bin_start": 1212883200000.2,
            "bin_end": 1212883200000.3,
            "count": 0
           },
           {
            "bin_start": 1212883200000.3,
            "bin_end": 1212883200000.4,
            "count": 0
           },
           {
            "bin_start": 1212883200000.4,
            "bin_end": 1212883200000.5,
            "count": 0
           }
          ]
         }
        },
        {
         "name": "rank.numberInt",
         "dtype": "int64",
         "stats": {
          "unique_count": 5,
          "nan_count": 0,
          "min": "2",
          "max": "6",
          "histogram": [
           {
            "bin_start": 2,
            "bin_end": 2.4,
            "count": 1
           },
           {
            "bin_start": 2.4,
            "bin_end": 2.8,
            "count": 0
           },
           {
            "bin_start": 2.8,
            "bin_end": 3.2,
            "count": 1
           },
           {
            "bin_start": 3.2,
            "bin_end": 3.6,
            "count": 0
           },
           {
            "bin_start": 3.6,
            "bin_end": 4,
            "count": 0
           },
           {
            "bin_start": 4,
            "bin_end": 4.4,
            "count": 1
           },
           {
            "bin_start": 4.4,
            "bin_end": 4.800000000000001,
            "count": 0
           },
           {
            "bin_start": 4.800000000000001,
            "bin_end": 5.2,
            "count": 1
           },
           {
            "bin_start": 5.2,
            "bin_end": 5.6,
            "count": 0
           },
           {
            "bin_start": 5.6,
            "bin_end": 6,
            "count": 1
           }
          ]
         }
        },
        {
         "name": "rank_last_week.numberInt",
         "dtype": "int64",
         "stats": {
          "unique_count": 4,
          "nan_count": 0,
          "min": "0",
          "max": "3",
          "histogram": [
           {
            "bin_start": 0,
            "bin_end": 0.3,
            "count": 2
           },
           {
            "bin_start": 0.3,
            "bin_end": 0.6,
            "count": 0
           },
           {
            "bin_start": 0.6,
            "bin_end": 0.8999999999999999,
            "count": 0
           },
           {
            "bin_start": 0.8999999999999999,
            "bin_end": 1.2,
            "count": 1
           },
           {
            "bin_start": 1.2,
            "bin_end": 1.5,
            "count": 0
           },
           {
            "bin_start": 1.5,
            "bin_end": 1.7999999999999998,
            "count": 0
           },
           {
            "bin_start": 1.7999999999999998,
            "bin_end": 2.1,
            "count": 1
           },
           {
            "bin_start": 2.1,
            "bin_end": 2.4,
            "count": 0
           },
           {
            "bin_start": 2.4,
            "bin_end": 2.6999999999999997,
            "count": 0
           },
           {
            "bin_start": 2.6999999999999997,
            "bin_end": 3,
            "count": 1
           }
          ]
         }
        },
        {
         "name": "weeks_on_list.numberInt",
         "dtype": "int64",
         "stats": {
          "unique_count": 4,
          "nan_count": 0,
          "min": "1",
          "max": "4",
          "histogram": [
           {
            "bin_start": 1,
            "bin_end": 1.3,
            "count": 2
           },
           {
            "bin_start": 1.3,
            "bin_end": 1.6,
            "count": 0
           },
           {
            "bin_start": 1.6,
            "bin_end": 1.9,
            "count": 0
           },
           {
            "bin_start": 1.9,
            "bin_end": 2.2,
            "count": 1
           },
           {
            "bin_start": 2.2,
            "bin_end": 2.5,
            "count": 0
           },
           {
            "bin_start": 2.5,
            "bin_end": 2.8,
            "count": 0
           },
           {
            "bin_start": 2.8,
            "bin_end": 3.1,
            "count": 1
           },
           {
            "bin_start": 3.1,
            "bin_end": 3.4,
            "count": 0
           },
           {
            "bin_start": 3.4,
            "bin_end": 3.6999999999999997,
            "count": 0
           },
           {
            "bin_start": 3.6999999999999997,
            "bin_end": 4,
            "count": 1
           }
          ]
         }
        },
        {
         "name": "price.numberDouble",
         "dtype": "float64",
         "stats": {
          "unique_count": 4,
          "nan_count": 0,
          "min": "22.95",
          "max": "25.99",
          "histogram": [
           {
            "bin_start": 22.95,
            "bin_end": 23.253999999999998,
            "count": 1
           },
           {
            "bin_start": 23.253999999999998,
            "bin_end": 23.558,
            "count": 0
           },
           {
            "bin_start": 23.558,
            "bin_end": 23.862,
            "count": 0
           },
           {
            "bin_start": 23.862,
            "bin_end": 24.166,
            "count": 0
           },
           {
            "bin_start": 24.166,
            "bin_end": 24.47,
            "count": 0
           },
           {
            "bin_start": 24.47,
            "bin_end": 24.773999999999997,
            "count": 0
           },
           {
            "bin_start": 24.773999999999997,
            "bin_end": 25.078,
            "count": 3
           },
           {
            "bin_start": 25.078,
            "bin_end": 25.381999999999998,
            "count": 0
           },
           {
            "bin_start": 25.381999999999998,
            "bin_end": 25.686,
            "count": 0
           },
           {
            "bin_start": 25.686,
            "bin_end": 25.99,
            "count": 1
           }
          ]
         }
        },
        {
         "name": "_deepnote_index_column",
         "dtype": "int64"
        }
       ],
       "rows_top": [
        {
         "amazon_product_url": "http://www.amazon.com/The-Host-Novel-Stephenie-Meyer/dp/0316218502?tag=NYTBS-20",
         "author": "Stephenie Meyer",
         "description": "Aliens have taken control of the minds and bodies of most humans, but one woman won’t surrender.",
         "publisher": "Little, Brown",
         "title": "THE HOST",
         "oid": "5b4aa4ead3089013507db18c",
         "bestsellers_date.numberLong": 1211587200000,
         "published_date.numberLong": 1212883200000,
         "rank.numberInt": 2,
         "rank_last_week.numberInt": 1,
         "weeks_on_list.numberInt": 3,
         "price.numberDouble": 25.99,
         "_deepnote_index_column": 0
        },
        {
         "amazon_product_url": "http://www.amazon.com/Love-Youre-With-Emily-Giffin/dp/0312348665?tag=NYTBS-20",
         "author": "Emily Giffin",
         "description": "A woman's happy marriage is shaken when she encounters an old boyfriend.",
         "publisher": "St. Martin's",
         "title": "LOVE THE ONE YOU'RE WITH",
         "oid": "5b4aa4ead3089013507db18d",
         "bestsellers_date.numberLong": 1211587200000,
         "published_date.numberLong": 1212883200000,
         "rank.numberInt": 3,
         "rank_last_week.numberInt": 2,
         "weeks_on_list.numberInt": 2,
         "price.numberDouble": 24.95,
         "_deepnote_index_column": 1
        },
        {
         "amazon_product_url": "http://www.amazon.com/The-Front-Garano-Patricia-Cornwell-ebook/dp/B0017T0C9M?tag=NYTBS-20",
         "author": "Patricia Cornwell",
         "description": "A Massachusetts state investigator and his team from \"At Risk\" confront a rogue association of muni…",
         "publisher": "Putnam",
         "title": "THE FRONT",
         "oid": "5b4aa4ead3089013507db18e",
         "bestsellers_date.numberLong": 1211587200000,
         "published_date.numberLong": 1212883200000,
         "rank.numberInt": 4,
         "rank_last_week.numberInt": 0,
         "weeks_on_list.numberInt": 1,
         "price.numberDouble": 22.95,
         "_deepnote_index_column": 2
        },
        {
         "amazon_product_url": "http://www.amazon.com/Snuff-Chuck-Palahniuk/dp/0385517882?tag=NYTBS-20",
         "author": "Chuck Palahniuk",
         "description": "An aging porn queens aims to cap her career by having sex on film with 600 men in one day.",
         "publisher": "Doubleday",
         "title": "SNUFF",
         "oid": "5b4aa4ead3089013507db18f",
         "bestsellers_date.numberLong": 1211587200000,
         "published_date.numberLong": 1212883200000,
         "rank.numberInt": 5,
         "rank_last_week.numberInt": 0,
         "weeks_on_list.numberInt": 1,
         "price.numberDouble": 24.95,
         "_deepnote_index_column": 3
        },
        {
         "amazon_product_url": "http://www.amazon.com/Sundays-at-Tiffanys-James-Patterson/dp/0446199443?tag=NYTBS-20",
         "author": "James Patterson and Gabrielle Charbonnet",
         "description": "A woman finds an unexpected love",
         "publisher": "Little, Brown",
         "title": "SUNDAYS AT TIFFANY’S",
         "oid": "5b4aa4ead3089013507db190",
         "bestsellers_date.numberLong": 1211587200000,
         "published_date.numberLong": 1212883200000,
         "rank.numberInt": 6,
         "rank_last_week.numberInt": 3,
         "weeks_on_list.numberInt": 4,
         "price.numberDouble": 24.99,
         "_deepnote_index_column": 4
        }
       ],
       "rows_bottom": null
      },
      "text/plain": "                                  amazon_product_url  \\\n0  http://www.amazon.com/The-Host-Novel-Stephenie...   \n1  http://www.amazon.com/Love-Youre-With-Emily-Gi...   \n2  http://www.amazon.com/The-Front-Garano-Patrici...   \n3  http://www.amazon.com/Snuff-Chuck-Palahniuk/dp...   \n4  http://www.amazon.com/Sundays-at-Tiffanys-Jame...   \n\n                                     author  \\\n0                           Stephenie Meyer   \n1                              Emily Giffin   \n2                         Patricia Cornwell   \n3                           Chuck Palahniuk   \n4  James Patterson and Gabrielle Charbonnet   \n\n                                         description      publisher  \\\n0  Aliens have taken control of the minds and bod...  Little, Brown   \n1  A woman's happy marriage is shaken when she en...   St. Martin's   \n2  A Massachusetts state investigator and his tea...         Putnam   \n3  An aging porn queens aims to cap her career by...      Doubleday   \n4                   A woman finds an unexpected love  Little, Brown   \n\n                      title                       oid  \\\n0                  THE HOST  5b4aa4ead3089013507db18c   \n1  LOVE THE ONE YOU'RE WITH  5b4aa4ead3089013507db18d   \n2                 THE FRONT  5b4aa4ead3089013507db18e   \n3                     SNUFF  5b4aa4ead3089013507db18f   \n4      SUNDAYS AT TIFFANY’S  5b4aa4ead3089013507db190   \n\n   bestsellers_date.numberLong  published_date.numberLong  rank.numberInt  \\\n0                1211587200000              1212883200000               2   \n1                1211587200000              1212883200000               3   \n2                1211587200000              1212883200000               4   \n3                1211587200000              1212883200000               5   \n4                1211587200000              1212883200000               6   \n\n   rank_last_week.numberInt  weeks_on_list.numberInt  price.numberDouble  \n0                         1                        3               25.99  \n1                         2                        2               24.95  \n2                         0                        1               22.95  \n3                         0                        1               24.95  \n4                         3                        4               24.99  ",
      "text/html": "<div>\n<style scoped>\n    .dataframe tbody tr th:only-of-type {\n        vertical-align: middle;\n    }\n\n    .dataframe tbody tr th {\n        vertical-align: top;\n    }\n\n    .dataframe thead th {\n        text-align: right;\n    }\n</style>\n<table border=\"1\" class=\"dataframe\">\n  <thead>\n    <tr style=\"text-align: right;\">\n      <th></th>\n      <th>amazon_product_url</th>\n      <th>author</th>\n      <th>description</th>\n      <th>publisher</th>\n      <th>title</th>\n      <th>oid</th>\n      <th>bestsellers_date.numberLong</th>\n      <th>published_date.numberLong</th>\n      <th>rank.numberInt</th>\n      <th>rank_last_week.numberInt</th>\n      <th>weeks_on_list.numberInt</th>\n      <th>price.numberDouble</th>\n    </tr>\n  </thead>\n  <tbody>\n    <tr>\n      <th>0</th>\n      <td>http://www.amazon.com/The-Host-Novel-Stephenie...</td>\n      <td>Stephenie Meyer</td>\n      <td>Aliens have taken control of the minds and bod...</td>\n      <td>Little, Brown</td>\n      <td>THE HOST</td>\n      <td>5b4aa4ead3089013507db18c</td>\n      <td>1211587200000</td>\n      <td>1212883200000</td>\n      <td>2</td>\n      <td>1</td>\n      <td>3</td>\n      <td>25.99</td>\n    </tr>\n    <tr>\n      <th>1</th>\n      <td>http://www.amazon.com/Love-Youre-With-Emily-Gi...</td>\n      <td>Emily Giffin</td>\n      <td>A woman's happy marriage is shaken when she en...</td>\n      <td>St. Martin's</td>\n      <td>LOVE THE ONE YOU'RE WITH</td>\n      <td>5b4aa4ead3089013507db18d</td>\n      <td>1211587200000</td>\n      <td>1212883200000</td>\n      <td>3</td>\n      <td>2</td>\n      <td>2</td>\n      <td>24.95</td>\n    </tr>\n    <tr>\n      <th>2</th>\n      <td>http://www.amazon.com/The-Front-Garano-Patrici...</td>\n      <td>Patricia Cornwell</td>\n      <td>A Massachusetts state investigator and his tea...</td>\n      <td>Putnam</td>\n      <td>THE FRONT</td>\n      <td>5b4aa4ead3089013507db18e</td>\n      <td>1211587200000</td>\n      <td>1212883200000</td>\n      <td>4</td>\n      <td>0</td>\n      <td>1</td>\n      <td>22.95</td>\n    </tr>\n    <tr>\n      <th>3</th>\n      <td>http://www.amazon.com/Snuff-Chuck-Palahniuk/dp...</td>\n      <td>Chuck Palahniuk</td>\n      <td>An aging porn queens aims to cap her career by...</td>\n      <td>Doubleday</td>\n      <td>SNUFF</td>\n      <td>5b4aa4ead3089013507db18f</td>\n      <td>1211587200000</td>\n      <td>1212883200000</td>\n      <td>5</td>\n      <td>0</td>\n      <td>1</td>\n      <td>24.95</td>\n    </tr>\n    <tr>\n      <th>4</th>\n      <td>http://www.amazon.com/Sundays-at-Tiffanys-Jame...</td>\n      <td>James Patterson and Gabrielle Charbonnet</td>\n      <td>A woman finds an unexpected love</td>\n      <td>Little, Brown</td>\n      <td>SUNDAYS AT TIFFANY’S</td>\n      <td>5b4aa4ead3089013507db190</td>\n      <td>1211587200000</td>\n      <td>1212883200000</td>\n      <td>6</td>\n      <td>3</td>\n      <td>4</td>\n      <td>24.99</td>\n    </tr>\n  </tbody>\n</table>\n</div>"
     },
     "metadata": {}
    }
   ]
  },
  {
   "cell_type": "code",
   "metadata": {
    "tags": [],
    "cell_id": "00039-f0b5cfce-564f-49ee-ab2c-e2ca68a1555c",
    "deepnote_to_be_reexecuted": false,
    "source_hash": "e429053d",
    "execution_start": 1632445485673,
    "execution_millis": 4,
    "deepnote_cell_type": "code"
   },
   "source": "grouped_by_title = df.groupby('title')['description'].last()",
   "execution_count": null,
   "outputs": []
  },
  {
   "cell_type": "code",
   "metadata": {
    "tags": [],
    "cell_id": "00040-0cdad8df-0503-4590-aea0-bb29e4a70ef8",
    "deepnote_to_be_reexecuted": false,
    "source_hash": "a6d607b8",
    "execution_start": 1632445543175,
    "execution_millis": 437,
    "deepnote_cell_type": "code"
   },
   "source": "nltk.download('punkt')\nnltk.download('stopwords')",
   "execution_count": null,
   "outputs": [
    {
     "name": "stderr",
     "text": "[nltk_data] Downloading package punkt to /root/nltk_data...\n[nltk_data]   Unzipping tokenizers/punkt.zip.\n[nltk_data] Downloading package stopwords to /root/nltk_data...\n[nltk_data]   Unzipping corpora/stopwords.zip.\n",
     "output_type": "stream"
    },
    {
     "output_type": "execute_result",
     "execution_count": 9,
     "data": {
      "text/plain": "True"
     },
     "metadata": {}
    }
   ]
  },
  {
   "cell_type": "code",
   "metadata": {
    "tags": [],
    "cell_id": "00040-3fc2c886-b680-4673-b6eb-11882342121b",
    "deepnote_to_be_reexecuted": false,
    "source_hash": "e56dfeee",
    "execution_start": 1632445548984,
    "execution_millis": 126,
    "deepnote_cell_type": "code"
   },
   "source": "grouped_by_title = grouped_by_title.str.lower()\ngrouped_by_title = grouped_by_title.str.strip()\ngrouped_by_title = grouped_by_title.dropna()\ngrouped_by_title = grouped_by_title.str.replace('\\\\n','') #remplaza enters por nada\ngrouped_by_title = grouped_by_title.str.replace('\\d','') #remplaza signos de puntuación\ngrouped_by_title = grouped_by_title.str.replace('[^\\w\\s]','') #remplaza enters por nada\n\ntokenized = grouped_by_title.apply(nltk.word_tokenize)\nall_words = tokenized.sum()\n",
   "execution_count": null,
   "outputs": [
    {
     "name": "stderr",
     "text": "/shared-libs/python3.7/py-core/lib/python3.7/site-packages/ipykernel_launcher.py:4: FutureWarning: The default value of regex will change from True to False in a future version.\n  after removing the cwd from sys.path.\n/shared-libs/python3.7/py-core/lib/python3.7/site-packages/ipykernel_launcher.py:5: FutureWarning: The default value of regex will change from True to False in a future version.\n  \"\"\"\n/shared-libs/python3.7/py-core/lib/python3.7/site-packages/ipykernel_launcher.py:6: FutureWarning: The default value of regex will change from True to False in a future version.\n  \n",
     "output_type": "stream"
    }
   ]
  },
  {
   "cell_type": "code",
   "metadata": {
    "tags": [],
    "cell_id": "00041-894c2fa1-2487-4326-9973-8d8e8fb05f8f",
    "deepnote_to_be_reexecuted": false,
    "source_hash": "683693a",
    "execution_start": 1632445556737,
    "execution_millis": 32,
    "deepnote_cell_type": "code"
   },
   "source": "stop_words = stopwords.words('english')\nall_words_stop = [word for word in all_words if word not in stop_words]\nfreq_dist = nltk.FreqDist(all_words_stop)",
   "execution_count": null,
   "outputs": []
  },
  {
   "cell_type": "code",
   "metadata": {
    "tags": [],
    "cell_id": "00043-cd7defb3-a4c9-41ac-a111-aa9677e9ea18",
    "deepnote_to_be_reexecuted": false,
    "source_hash": "209c8773",
    "execution_start": 1632445561571,
    "execution_millis": 8,
    "deepnote_cell_type": "code"
   },
   "source": "freq_dist.most_common(10)",
   "execution_count": null,
   "outputs": [
    {
     "output_type": "execute_result",
     "execution_count": 12,
     "data": {
      "text/plain": "[('woman', 62),\n ('series', 58),\n ('new', 58),\n ('detective', 53),\n ('book', 53),\n ('murder', 49),\n ('novel', 48),\n ('killer', 40),\n ('investigates', 40),\n ('must', 39)]"
     },
     "metadata": {}
    }
   ]
  },
  {
   "cell_type": "code",
   "metadata": {
    "tags": [],
    "cell_id": "00044-c195604a-631c-42b2-b02d-74490ebcd8d5",
    "deepnote_to_be_reexecuted": false,
    "source_hash": "5507b3fe",
    "execution_start": 1632445566078,
    "execution_millis": 413,
    "deepnote_cell_type": "code"
   },
   "source": "most_common_20 = pd.DataFrame(freq_dist.most_common(20),columns=['word','count'])\n\nfig = plt.figure()\nax = fig.add_subplot()\nsns.barplot(data=most_common_20,x='word',y='count',ax=ax)\nax.tick_params(axis='x',rotation=80)",
   "execution_count": null,
   "outputs": [
    {
     "data": {
      "text/plain": "<Figure size 432x288 with 1 Axes>",
      "image/png": "[encoded data removed]"
     },
     "metadata": {
      "needs_background": "light",
      "image/png": {
       "width": 382,
       "height": 314
      }
     },
     "output_type": "display_data"
    }
   ]
  },
  {
   "cell_type": "code",
   "metadata": {
    "tags": [],
    "cell_id": "00045-5e4f0918-3196-47b1-b2bd-9eaf02f90a32",
    "deepnote_to_be_reexecuted": false,
    "source_hash": "4cc24589",
    "execution_start": 1632445576506,
    "execution_millis": 277,
    "deepnote_cell_type": "code"
   },
   "source": "world_lengths = [len(word) for word in all_words_stop]\nsns.histplot(world_lengths,binwidth=1)",
   "execution_count": null,
   "outputs": [
    {
     "output_type": "execute_result",
     "execution_count": 14,
     "data": {
      "text/plain": "<AxesSubplot:ylabel='Count'>"
     },
     "metadata": {}
    },
    {
     "data": {
      "text/plain": "<Figure size 432x288 with 1 Axes>",
      "image/png": "[encoded data removed]"
     },
     "metadata": {
      "needs_background": "light",
      "image/png": {
       "width": 395,
       "height": 248
      }
     },
     "output_type": "display_data"
    }
   ]
  },
  {
   "cell_type": "markdown",
   "source": "Bigramas: Palabras utilizadas en conjunto",
   "metadata": {
    "tags": [],
    "cell_id": "00046-a839918e-c040-4e9f-88c9-2bfa31f88d9a",
    "deepnote_cell_type": "markdown"
   }
  },
  {
   "cell_type": "code",
   "metadata": {
    "tags": [],
    "cell_id": "00046-d9fd4cfa-3519-458c-bf2c-6dbb04708449",
    "deepnote_to_be_reexecuted": false,
    "source_hash": "149e5116",
    "execution_start": 1632445582694,
    "execution_millis": 427,
    "deepnote_cell_type": "code"
   },
   "source": "text = nltk.Text(all_words_stop)\nfreq_dist_bigrams = nltk.FreqDist(list(nltk.bigrams(text)))\ncommon_20 = pd.DataFrame(freq_dist_bigrams.most_common(20),columns=['words','counts'])\nsns.barplot(data=common_20,x='counts',y='words')",
   "execution_count": null,
   "outputs": [
    {
     "output_type": "execute_result",
     "execution_count": 15,
     "data": {
      "text/plain": "<AxesSubplot:xlabel='counts', ylabel='words'>"
     },
     "metadata": {}
    },
    {
     "data": {
      "text/plain": "<Figure size 432x288 with 1 Axes>",
      "image/png": "[encoded data removed]"
     },
     "metadata": {
      "needs_background": "light",
      "image/png": {
       "width": 514,
       "height": 262
      }
     },
     "output_type": "display_data"
    }
   ]
  },
  {
   "cell_type": "markdown",
   "source": "### wordClouds",
   "metadata": {
    "tags": [],
    "cell_id": "00048-90f15dcf-81ac-4442-8026-41599c08bff1",
    "deepnote_cell_type": "markdown"
   }
  },
  {
   "cell_type": "code",
   "metadata": {
    "tags": [],
    "cell_id": "00049-c64e1fb1-a0d3-4e8a-a2dd-2af8aed66efe",
    "deepnote_to_be_reexecuted": false,
    "source_hash": "991ca7f6",
    "execution_start": 1632445587467,
    "execution_millis": 3117,
    "deepnote_cell_type": "code"
   },
   "source": "!pip install WordCloud",
   "execution_count": null,
   "outputs": [
    {
     "name": "stdout",
     "text": "Requirement already satisfied: WordCloud in /root/venv/lib/python3.7/site-packages (1.8.1)\nRequirement already satisfied: matplotlib in /shared-libs/python3.7/py/lib/python3.7/site-packages (from WordCloud) (3.4.3)\nRequirement already satisfied: numpy>=1.6.1 in /shared-libs/python3.7/py/lib/python3.7/site-packages (from WordCloud) (1.19.5)\nRequirement already satisfied: pillow in /shared-libs/python3.7/py/lib/python3.7/site-packages (from WordCloud) (8.3.2)\nRequirement already satisfied: kiwisolver>=1.0.1 in /shared-libs/python3.7/py/lib/python3.7/site-packages (from matplotlib->WordCloud) (1.3.2)\nRequirement already satisfied: pyparsing>=2.2.1 in /shared-libs/python3.7/py-core/lib/python3.7/site-packages (from matplotlib->WordCloud) (2.4.7)\nRequirement already satisfied: python-dateutil>=2.7 in /shared-libs/python3.7/py-core/lib/python3.7/site-packages (from matplotlib->WordCloud) (2.8.2)\nRequirement already satisfied: cycler>=0.10 in /shared-libs/python3.7/py/lib/python3.7/site-packages (from matplotlib->WordCloud) (0.10.0)\nRequirement already satisfied: six in /shared-libs/python3.7/py-core/lib/python3.7/site-packages (from cycler>=0.10->matplotlib->WordCloud) (1.16.0)\n",
     "output_type": "stream"
    }
   ]
  },
  {
   "cell_type": "code",
   "metadata": {
    "tags": [],
    "cell_id": "00048-1f9f8132-19b8-4187-9044-281194a9cd20",
    "deepnote_to_be_reexecuted": false,
    "source_hash": "23da0659",
    "execution_start": 1632445590586,
    "execution_millis": 53,
    "deepnote_cell_type": "code"
   },
   "source": "from wordcloud import WordCloud",
   "execution_count": null,
   "outputs": []
  },
  {
   "cell_type": "code",
   "metadata": {
    "tags": [],
    "cell_id": "00050-17e673ec-755d-4390-94a3-e95eaedb0b64",
    "deepnote_to_be_reexecuted": false,
    "source_hash": "a52116f0",
    "execution_start": 1632445594929,
    "execution_millis": 24754,
    "deepnote_cell_type": "code"
   },
   "source": "wordcloud = WordCloud(max_font_size=100,background_color='white').generate(''.join(all_words_stop))\n\nplt.figure(figsize=(15,15))\nplt.imshow(wordcloud,interpolation='bilinear')\nplt.axis('off')\nplt.show()",
   "execution_count": null,
   "outputs": [
    {
     "data": {
      "text/plain": "<Figure size 1080x1080 with 1 Axes>",
      "image/png": "[encoded data removed]"
     },
     "metadata": {
      "needs_background": "light",
      "image/png": {
       "width": 851,
       "height": 432
      }
     },
     "output_type": "display_data"
    }
   ]
  },
  {
   "cell_type": "code",
   "metadata": {
    "tags": [],
    "cell_id": "00052-e0185dfb-8771-4a12-ad7f-cf023e6a9528",
    "deepnote_to_be_reexecuted": false,
    "source_hash": "ab8b4862",
    "execution_start": 1632447039869,
    "execution_millis": 10,
    "deepnote_cell_type": "code"
   },
   "source": "#parte de reto 4\n#Obtén una lista de las palabras que tengan 10 o más caracteres que aparezcan por lo menos 7 veces en el dataset.\n\npalabras_10 = [word for word in all_words_stop if len(word) >= 10]\nfreq_dist_10 = nltk.FreqDist(palabras_10)\nfreq_dist_10_7 = [(key,freq_dist_10[key]) for key in freq_dist_10 if freq_dist_10[key] >=7]\n\ndataframe = pd.DataFrame(freq_dist_10_7,columns=['word','count'])\ndataframe\n",
   "execution_count": null,
   "outputs": [
    {
     "output_type": "execute_result",
     "execution_count": 23,
     "data": {
      "application/vnd.deepnote.dataframe.v2+json": {
       "row_count": 12,
       "column_count": 2,
       "columns": [
        {
         "name": "word",
         "dtype": "object",
         "stats": {
          "unique_count": 12,
          "nan_count": 0,
          "categories": [
           {
            "name": "investigates",
            "count": 1
           },
           {
            "name": "investigator",
            "count": 1
           },
           {
            "name": "10 others",
            "count": 10
           }
          ]
         }
        },
        {
         "name": "count",
         "dtype": "int64",
         "stats": {
          "unique_count": 7,
          "nan_count": 0,
          "min": "7",
          "max": "40",
          "histogram": [
           {
            "bin_start": 7,
            "bin_end": 10.3,
            "count": 8
           },
           {
            "bin_start": 10.3,
            "bin_end": 13.6,
            "count": 1
           },
           {
            "bin_start": 13.6,
            "bin_end": 16.9,
            "count": 1
           },
           {
            "bin_start": 16.9,
            "bin_end": 20.2,
            "count": 1
           },
           {
            "bin_start": 20.2,
            "bin_end": 23.5,
            "count": 0
           },
           {
            "bin_start": 23.5,
            "bin_end": 26.799999999999997,
            "count": 0
           },
           {
            "bin_start": 26.799999999999997,
            "bin_end": 30.099999999999998,
            "count": 0
           },
           {
            "bin_start": 30.099999999999998,
            "bin_end": 33.4,
            "count": 0
           },
           {
            "bin_start": 33.4,
            "bin_end": 36.7,
            "count": 0
           },
           {
            "bin_start": 36.7,
            "bin_end": 40,
            "count": 1
           }
          ]
         }
        },
        {
         "name": "_deepnote_index_column",
         "dtype": "int64"
        }
       ],
       "rows_top": [
        {
         "word": "investigates",
         "count": 40,
         "_deepnote_index_column": 0
        },
        {
         "word": "investigator",
         "count": 19,
         "_deepnote_index_column": 1
        },
        {
         "word": "investigate",
         "count": 14,
         "_deepnote_index_column": 2
        },
        {
         "word": "barrington",
         "count": 12,
         "_deepnote_index_column": 3
        },
        {
         "word": "paranormal",
         "count": 9,
         "_deepnote_index_column": 4
        },
        {
         "word": "investigation",
         "count": 9,
         "_deepnote_index_column": 5
        },
        {
         "word": "disappearance",
         "count": 9,
         "_deepnote_index_column": 6
        },
        {
         "word": "pseudonymously",
         "count": 9,
         "_deepnote_index_column": 7
        },
        {
         "word": "characters",
         "count": 9,
         "_deepnote_index_column": 8
        },
        {
         "word": "washington",
         "count": 8,
         "_deepnote_index_column": 9
        },
        {
         "word": "stackhouse",
         "count": 7,
         "_deepnote_index_column": 10
        },
        {
         "word": "intelligence",
         "count": 7,
         "_deepnote_index_column": 11
        }
       ],
       "rows_bottom": null
      },
      "text/plain": "              word  count\n0     investigates     40\n1     investigator     19\n2      investigate     14\n3       barrington     12\n4       paranormal      9\n5    investigation      9\n6    disappearance      9\n7   pseudonymously      9\n8       characters      9\n9       washington      8\n10      stackhouse      7\n11    intelligence      7",
      "text/html": "<div>\n<style scoped>\n    .dataframe tbody tr th:only-of-type {\n        vertical-align: middle;\n    }\n\n    .dataframe tbody tr th {\n        vertical-align: top;\n    }\n\n    .dataframe thead th {\n        text-align: right;\n    }\n</style>\n<table border=\"1\" class=\"dataframe\">\n  <thead>\n    <tr style=\"text-align: right;\">\n      <th></th>\n      <th>word</th>\n      <th>count</th>\n    </tr>\n  </thead>\n  <tbody>\n    <tr>\n      <th>0</th>\n      <td>investigates</td>\n      <td>40</td>\n    </tr>\n    <tr>\n      <th>1</th>\n      <td>investigator</td>\n      <td>19</td>\n    </tr>\n    <tr>\n      <th>2</th>\n      <td>investigate</td>\n      <td>14</td>\n    </tr>\n    <tr>\n      <th>3</th>\n      <td>barrington</td>\n      <td>12</td>\n    </tr>\n    <tr>\n      <th>4</th>\n      <td>paranormal</td>\n      <td>9</td>\n    </tr>\n    <tr>\n      <th>5</th>\n      <td>investigation</td>\n      <td>9</td>\n    </tr>\n    <tr>\n      <th>6</th>\n      <td>disappearance</td>\n      <td>9</td>\n    </tr>\n    <tr>\n      <th>7</th>\n      <td>pseudonymously</td>\n      <td>9</td>\n    </tr>\n    <tr>\n      <th>8</th>\n      <td>characters</td>\n      <td>9</td>\n    </tr>\n    <tr>\n      <th>9</th>\n      <td>washington</td>\n      <td>8</td>\n    </tr>\n    <tr>\n      <th>10</th>\n      <td>stackhouse</td>\n      <td>7</td>\n    </tr>\n    <tr>\n      <th>11</th>\n      <td>intelligence</td>\n      <td>7</td>\n    </tr>\n  </tbody>\n</table>\n</div>"
     },
     "metadata": {}
    }
   ]
  },
  {
   "cell_type": "code",
   "metadata": {
    "tags": [],
    "cell_id": "00053-783622f2-c31e-4e08-8446-e4976eda0b7f",
    "deepnote_cell_type": "code"
   },
   "source": "",
   "execution_count": null,
   "outputs": []
  },
  {
   "cell_type": "markdown",
   "source": "<a style='text-decoration:none;line-height:16px;display:flex;color:#5B5B62;padding:10px;justify-content:end;' href='https://deepnote.com?utm_source=created-in-deepnote-cell&projectId=f8149d1c-e6b1-497a-9109-f01641a8231a' target=\"_blank\">\n<img alt='Created in deepnote.com' style='display:inline;max-height:16px;margin:0px;margin-right:7.5px;' src='data:image/svg+xml;base64,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' > </img>\nCreated in <span style='font-weight:600;margin-left:4px;'>Deepnote</span></a>",
   "metadata": {
    "tags": [],
    "created_in_deepnote_cell": true,
    "deepnote_cell_type": "markdown"
   }
  }
 ],
 "nbformat": 4,
 "nbformat_minor": 2,
 "metadata": {
  "orig_nbformat": 2,
  "deepnote": {
   "is_reactive": false
  },
  "deepnote_notebook_id": "9896d540-fe6b-4dee-b488-7875d80b1bbf",
  "deepnote_execution_queue": []
 }
}