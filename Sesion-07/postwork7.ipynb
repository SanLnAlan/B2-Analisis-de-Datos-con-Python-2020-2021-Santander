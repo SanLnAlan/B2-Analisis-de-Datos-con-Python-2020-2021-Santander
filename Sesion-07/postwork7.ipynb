{
 "cells": [
  {
   "cell_type": "markdown",
   "source": "# Postwork 8",
   "metadata": {
    "tags": [],
    "cell_id": "00000-1cafca0a-711f-443a-b60e-20349999cf31",
    "deepnote_cell_type": "markdown"
   }
  },
  {
   "cell_type": "markdown",
   "source": " ## Nombre del Postwork: Procesamiento de Lenguaje Natural\n\n### OBJETIVO \n\n- Aplicar los conceptos de Procesamiento de Lenguaje Natural aprendidos en esta sesión a nuestro proyecto\n\n#### REQUISITOS \n\n- Tener un dataset limpio que contenga una columna con datos no estructurados.\n\n> En caso de que tu dataset no contenga datos no estructurados, date una vuelta por [Kaggle](https://kaggle.com) y busca algún dataset apropiado. Lo que nos interesa en que practiques estas herramientas durante la clase para que puedas expresarle tus dudas a la experta.\n\n#### DESARROLLO\n\nRealiza los siguientes procedimientos en caso de que apliquen a tu dataset:\n\n1. Utiliza patrones Regex para limpiar tus datos estructurados\n2. Dado que debes de conocer bien tu dataset (excepto si es un nuevo dataset que buscaste para este Postwork), es probable que tengas una idea de las palabras que son relevantes para tu tema. Genera un objeto Text con la librería nltk y explora los contextos de las palabras que elegiste. Utiliza el método `similar` para obtener palabras que tengan contextos similares a las palabras originales. Puede que descubras nuevas palabras que tengan relevancia para tu proyecto.\n3. Utiliza el objeto FreqDist de nltk para hacer análisis estadístico de tu dataset. Explora las palabras y los bigramas más comunes de tu dataset.\n4. Realiza visualizaciones de tus conteos de frecuencias utilizando gráficas de barras.\n5. Realiza visualizaciones de las distribuciones de frecuencias de las longitudes de las palabras o de las oraciones.\n6. Realiza nubes de palabras para detectar los temas más importantes de tu conjunto de datos.\n7. Haz un análisis de sentimientos de tu conjunto de datos, de preferencia utilizando una variable categórica para segmentar tus datos y poder comparar las distribuciones de polaridades entre cada segmento.\n\n¡Mucha suerte!",
   "metadata": {
    "tags": [],
    "cell_id": "00000-8cae1cdb-8321-4ebc-bd3f-998c0dad3e0c",
    "deepnote_cell_type": "markdown"
   }
  },
  {
   "cell_type": "code",
   "source": "!pip install WordCloud",
   "metadata": {
    "tags": [],
    "cell_id": "00002-1c79ff10-2d72-4af5-afde-b82fdd8ef5a7",
    "deepnote_to_be_reexecuted": false,
    "source_hash": "991ca7f6",
    "execution_start": 1632604511563,
    "execution_millis": 4208,
    "deepnote_cell_type": "code"
   },
   "outputs": [
    {
     "name": "stdout",
     "text": "Collecting WordCloud\n  Downloading wordcloud-1.8.1-cp37-cp37m-manylinux1_x86_64.whl (366 kB)\n\u001b[K     |████████████████████████████████| 366 kB 24.1 MB/s \n\u001b[?25hRequirement already satisfied: pillow in /shared-libs/python3.7/py/lib/python3.7/site-packages (from WordCloud) (8.3.2)\nRequirement already satisfied: numpy>=1.6.1 in /shared-libs/python3.7/py/lib/python3.7/site-packages (from WordCloud) (1.19.5)\nRequirement already satisfied: matplotlib in /shared-libs/python3.7/py/lib/python3.7/site-packages (from WordCloud) (3.4.3)\nRequirement already satisfied: python-dateutil>=2.7 in /shared-libs/python3.7/py-core/lib/python3.7/site-packages (from matplotlib->WordCloud) (2.8.2)\nRequirement already satisfied: pyparsing>=2.2.1 in /shared-libs/python3.7/py-core/lib/python3.7/site-packages (from matplotlib->WordCloud) (2.4.7)\nRequirement already satisfied: kiwisolver>=1.0.1 in /shared-libs/python3.7/py/lib/python3.7/site-packages (from matplotlib->WordCloud) (1.3.2)\nRequirement already satisfied: cycler>=0.10 in /shared-libs/python3.7/py/lib/python3.7/site-packages (from matplotlib->WordCloud) (0.10.0)\nRequirement already satisfied: six in /shared-libs/python3.7/py-core/lib/python3.7/site-packages (from cycler>=0.10->matplotlib->WordCloud) (1.16.0)\nInstalling collected packages: WordCloud\nSuccessfully installed WordCloud-1.8.1\n",
     "output_type": "stream"
    }
   ],
   "execution_count": 99
  },
  {
   "cell_type": "code",
   "metadata": {
    "tags": [],
    "cell_id": "00000-d529212c-86ba-420d-adaa-8e10109fcd9e",
    "deepnote_to_be_reexecuted": false,
    "source_hash": "6aceb35d",
    "execution_start": 1632604520177,
    "execution_millis": 100,
    "deepnote_cell_type": "code"
   },
   "source": "import pandas as pd\nimport matplotlib.pyplot as plt\nimport seaborn as sns\nimport numpy as np\nimport nltk\nfrom nltk.corpus import stopwords\nfrom wordcloud import WordCloud\nnltk.download('punkt');\nnltk.download('stopwords');\n",
   "execution_count": 100,
   "outputs": [
    {
     "name": "stderr",
     "text": "[nltk_data] Downloading package punkt to /root/nltk_data...\n[nltk_data]   Package punkt is already up-to-date!\n[nltk_data] Downloading package stopwords to /root/nltk_data...\n[nltk_data]   Package stopwords is already up-to-date!\n",
     "output_type": "stream"
    }
   ]
  },
  {
   "cell_type": "code",
   "metadata": {
    "tags": [],
    "cell_id": "00002-0bc9560d-1739-4356-9db3-76f348ce0aab",
    "deepnote_to_be_reexecuted": false,
    "source_hash": "c6f2096d",
    "execution_start": 1632598506707,
    "execution_millis": 63,
    "deepnote_cell_type": "code"
   },
   "source": "df = pd.read_csv('/work/B2-Analisis-de-Datos-con-Python-2020-2021-Santander/Sesion-07/Top 500 Songs.csv')\ndf.head()",
   "execution_count": 2,
   "outputs": [
    {
     "output_type": "execute_result",
     "execution_count": 2,
     "data": {
      "application/vnd.deepnote.dataframe.v2+json": {
       "row_count": 5,
       "column_count": 9,
       "columns": [
        {
         "name": "title",
         "dtype": "object",
         "stats": {
          "unique_count": 5,
          "nan_count": 0,
          "categories": [
           {
            "name": "Like a Rolling Stone",
            "count": 1
           },
           {
            "name": "(I Can't Get No) Satisfaction'",
            "count": 1
           },
           {
            "name": "3 others",
            "count": 3
           }
          ]
         }
        },
        {
         "name": "description",
         "dtype": "object",
         "stats": {
          "unique_count": 5,
          "nan_count": 0,
          "categories": [
           {
            "name": "\"I wrote it. I didn't fail. It was straight,\"�Bob Dylan�said of his greatest song shortly after he recorded it in June 1965. There is no better description of \"Like a Rolling Stone\" � of its revolutionary design and execution � or of the young man, just turned 24, who created it.",
            "count": 1
           },
           {
            "name": "\"It's the riff heard round the world,\" says Steve Van Zandt, guitarist for the E Street Band. \"And it's one of the earliest examples of�Dylan�influencing the Stones and�the Beatles�� the degree of cynicism, and the idea of bringing more personal lyrics from the folk and blues tradition into popular music.\"",
            "count": 1
           },
           {
            "name": "3 others",
            "count": 3
           }
          ]
         }
        },
        {
         "name": "appears on",
         "dtype": "object",
         "stats": {
          "unique_count": 5,
          "nan_count": 0,
          "categories": [
           {
            "name": "Highway 61 Revisited (Columbia)",
            "count": 1
           },
           {
            "name": "Out of Our Heads�(ABKCO)",
            "count": 1
           },
           {
            "name": "3 others",
            "count": 3
           }
          ]
         }
        },
        {
         "name": "artist",
         "dtype": "object",
         "stats": {
          "unique_count": 5,
          "nan_count": 0,
          "categories": [
           {
            "name": "Bob Dylan",
            "count": 1
           },
           {
            "name": "The Rolling Stones",
            "count": 1
           },
           {
            "name": "3 others",
            "count": 3
           }
          ]
         }
        },
        {
         "name": "writers",
         "dtype": "object",
         "stats": {
          "unique_count": 5,
          "nan_count": 0,
          "categories": [
           {
            "name": "Dylan",
            "count": 1
           },
           {
            "name": "Mick Jagger, Keith Richards",
            "count": 1
           },
           {
            "name": "3 others",
            "count": 3
           }
          ]
         }
        },
        {
         "name": "producer",
         "dtype": "object",
         "stats": {
          "unique_count": 5,
          "nan_count": 0,
          "categories": [
           {
            "name": "Tom Wilson ",
            "count": 1
           },
           {
            "name": "Andrew Loog Oldham",
            "count": 1
           },
           {
            "name": "3 others",
            "count": 3
           }
          ]
         }
        },
        {
         "name": "released",
         "dtype": "object",
         "stats": {
          "unique_count": 5,
          "nan_count": 0,
          "categories": [
           {
            "name": "July, 1965",
            "count": 1
           },
           {
            "name": "May, 1965",
            "count": 1
           },
           {
            "name": "3 others",
            "count": 3
           }
          ]
         }
        },
        {
         "name": "streak",
         "dtype": "object",
         "stats": {
          "unique_count": 4,
          "nan_count": 0,
          "categories": [
           {
            "name": "12 weeks",
            "count": 2
           },
           {
            "name": "14 weeks",
            "count": 1
           },
           {
            "name": "2 others",
            "count": 2
           }
          ]
         }
        },
        {
         "name": "position",
         "dtype": "object",
         "stats": {
          "unique_count": 3,
          "nan_count": 0,
          "categories": [
           {
            "name": "No. 2",
            "count": 2
           },
           {
            "name": "No. 1",
            "count": 2
           },
           {
            "name": "No. 3",
            "count": 1
           }
          ]
         }
        },
        {
         "name": "_deepnote_index_column",
         "dtype": "int64"
        }
       ],
       "rows_top": [
        {
         "title": "Like a Rolling Stone",
         "description": "\"I wrote it. I didn't fail. It was straight,\"�Bob Dylan�said of his greatest song shortly after he …",
         "appears on": "Highway 61 Revisited (Columbia)",
         "artist": "Bob Dylan",
         "writers": "Dylan",
         "producer": "Tom Wilson ",
         "released": "July, 1965",
         "streak": "12 weeks",
         "position": "No. 2",
         "_deepnote_index_column": 0
        },
        {
         "title": "(I Can't Get No) Satisfaction'",
         "description": "\"It's the riff heard round the world,\" says Steve Van Zandt, guitarist for the E Street Band. \"And …",
         "appears on": "Out of Our Heads�(ABKCO)",
         "artist": "The Rolling Stones",
         "writers": "Mick Jagger, Keith Richards",
         "producer": "Andrew Loog Oldham",
         "released": "May, 1965",
         "streak": "14 weeks",
         "position": "No. 1",
         "_deepnote_index_column": 1
        },
        {
         "title": "Imagine",
         "description": "John Lennon wrote \"Imagine,\" his greatest musical gift to the world, one morning early in 1971 in h…",
         "appears on": "Imagine�(Capitol/Apple)",
         "artist": "John Lennon",
         "writers": "John Lennon",
         "producer": "Lennon, Phil Spector, Yoko Ono",
         "released": "October, 1971",
         "streak": "9 weeks",
         "position": "No. 3",
         "_deepnote_index_column": 2
        },
        {
         "title": "What's Going On",
         "description": "\"What's Going On\" is an exquisite plea for peace on Earth, sung by a man at the height of crisis. I…",
         "appears on": "What's Going On�(Tamla)",
         "artist": "Marvin Gaye",
         "writers": "Gaye, Renaldo Benson, Al Cleveland",
         "producer": "Gaye�",
         "released": "Feb, 1971",
         "streak": "13 weeks",
         "position": "No. 2",
         "_deepnote_index_column": 3
        },
        {
         "title": "Respect",
         "description": "Otis Redding wrote \"Respect\" and recorded it first, for the Volt label in 1965. But Aretha Franklin…",
         "appears on": "I Never Loved a Man the Way I Love You�(Atlantic)",
         "artist": "Aretha Franklin",
         "writers": "Otis Redding",
         "producer": "Jerry Wexler",
         "released": "April, 1967",
         "streak": "12 weeks",
         "position": "No. 1",
         "_deepnote_index_column": 4
        }
       ],
       "rows_bottom": null
      },
      "text/plain": "                            title  \\\n0            Like a Rolling Stone   \n1  (I Can't Get No) Satisfaction'   \n2                         Imagine   \n3                 What's Going On   \n4                         Respect   \n\n                                         description  \\\n0  \"I wrote it. I didn't fail. It was straight,\"�...   \n1  \"It's the riff heard round the world,\" says St...   \n2  John Lennon wrote \"Imagine,\" his greatest musi...   \n3  \"What's Going On\" is an exquisite plea for pea...   \n4  Otis Redding wrote \"Respect\" and recorded it f...   \n\n                                          appears on              artist  \\\n0                    Highway 61 Revisited (Columbia)           Bob Dylan   \n1                           Out of Our Heads�(ABKCO)  The Rolling Stones   \n2                            Imagine�(Capitol/Apple)         John Lennon   \n3                            What's Going On�(Tamla)         Marvin Gaye   \n4  I Never Loved a Man the Way I Love You�(Atlantic)     Aretha Franklin   \n\n                              writers                        producer  \\\n0                               Dylan                     Tom Wilson    \n1         Mick Jagger, Keith Richards              Andrew Loog Oldham   \n2                         John Lennon  Lennon, Phil Spector, Yoko Ono   \n3  Gaye, Renaldo Benson, Al Cleveland                           Gaye�   \n4                        Otis Redding                    Jerry Wexler   \n\n        released    streak position  \n0     July, 1965  12 weeks    No. 2  \n1      May, 1965  14 weeks    No. 1  \n2  October, 1971   9 weeks    No. 3  \n3      Feb, 1971  13 weeks    No. 2  \n4    April, 1967  12 weeks    No. 1  ",
      "text/html": "<div>\n<style scoped>\n    .dataframe tbody tr th:only-of-type {\n        vertical-align: middle;\n    }\n\n    .dataframe tbody tr th {\n        vertical-align: top;\n    }\n\n    .dataframe thead th {\n        text-align: right;\n    }\n</style>\n<table border=\"1\" class=\"dataframe\">\n  <thead>\n    <tr style=\"text-align: right;\">\n      <th></th>\n      <th>title</th>\n      <th>description</th>\n      <th>appears on</th>\n      <th>artist</th>\n      <th>writers</th>\n      <th>producer</th>\n      <th>released</th>\n      <th>streak</th>\n      <th>position</th>\n    </tr>\n  </thead>\n  <tbody>\n    <tr>\n      <th>0</th>\n      <td>Like a Rolling Stone</td>\n      <td>\"I wrote it. I didn't fail. It was straight,\"�...</td>\n      <td>Highway 61 Revisited (Columbia)</td>\n      <td>Bob Dylan</td>\n      <td>Dylan</td>\n      <td>Tom Wilson</td>\n      <td>July, 1965</td>\n      <td>12 weeks</td>\n      <td>No. 2</td>\n    </tr>\n    <tr>\n      <th>1</th>\n      <td>(I Can't Get No) Satisfaction'</td>\n      <td>\"It's the riff heard round the world,\" says St...</td>\n      <td>Out of Our Heads�(ABKCO)</td>\n      <td>The Rolling Stones</td>\n      <td>Mick Jagger, Keith Richards</td>\n      <td>Andrew Loog Oldham</td>\n      <td>May, 1965</td>\n      <td>14 weeks</td>\n      <td>No. 1</td>\n    </tr>\n    <tr>\n      <th>2</th>\n      <td>Imagine</td>\n      <td>John Lennon wrote \"Imagine,\" his greatest musi...</td>\n      <td>Imagine�(Capitol/Apple)</td>\n      <td>John Lennon</td>\n      <td>John Lennon</td>\n      <td>Lennon, Phil Spector, Yoko Ono</td>\n      <td>October, 1971</td>\n      <td>9 weeks</td>\n      <td>No. 3</td>\n    </tr>\n    <tr>\n      <th>3</th>\n      <td>What's Going On</td>\n      <td>\"What's Going On\" is an exquisite plea for pea...</td>\n      <td>What's Going On�(Tamla)</td>\n      <td>Marvin Gaye</td>\n      <td>Gaye, Renaldo Benson, Al Cleveland</td>\n      <td>Gaye�</td>\n      <td>Feb, 1971</td>\n      <td>13 weeks</td>\n      <td>No. 2</td>\n    </tr>\n    <tr>\n      <th>4</th>\n      <td>Respect</td>\n      <td>Otis Redding wrote \"Respect\" and recorded it f...</td>\n      <td>I Never Loved a Man the Way I Love You�(Atlantic)</td>\n      <td>Aretha Franklin</td>\n      <td>Otis Redding</td>\n      <td>Jerry Wexler</td>\n      <td>April, 1967</td>\n      <td>12 weeks</td>\n      <td>No. 1</td>\n    </tr>\n  </tbody>\n</table>\n</div>"
     },
     "metadata": {}
    }
   ]
  },
  {
   "cell_type": "code",
   "metadata": {
    "tags": [],
    "cell_id": "00005-a554a452-4719-44f5-8402-026c259c84c8",
    "deepnote_to_be_reexecuted": false,
    "source_hash": "bf7a7fa1",
    "execution_start": 1632598506784,
    "execution_millis": 48,
    "deepnote_cell_type": "code"
   },
   "source": "grouped_by_title = df.groupby('title')['description'].last()\ngrouped_by_title[3]",
   "execution_count": 4,
   "outputs": [
    {
     "output_type": "execute_result",
     "execution_count": 4,
     "data": {
      "text/plain": "'Haley began his career as a country yodeler before converting to rock & roll. \"Clock\" was a modest hit until it played during the opening credits of The Blackboard Jungle and shot to Number One.'"
     },
     "metadata": {}
    }
   ]
  },
  {
   "cell_type": "code",
   "metadata": {
    "tags": [],
    "cell_id": "00005-83d6110b-0eb4-4973-a601-fca1aec4306d",
    "deepnote_to_be_reexecuted": false,
    "source_hash": "a2ba946d",
    "execution_start": 1632598506816,
    "execution_millis": 16,
    "deepnote_cell_type": "code"
   },
   "source": "grouped_by_title = grouped_by_title.str.lower()\ngrouped_by_title = grouped_by_title.str.strip()\ngrouped_by_title = df.dropna()\ngrouped_by_title = grouped_by_title.str.replace('[^\\w\\s]', '')  \ngrouped_by_title = grouped_by_title.str.replace('\\d|\\\\n', '')\n#grouped_by_title = grouped_by_title.str.replace('\\d', '')\n#grouped_by_title = grouped_by_title.str.replace('\\\\n', '')\ngrouped_by_title",
   "execution_count": 5,
   "outputs": [
    {
     "name": "stderr",
     "text": "/shared-libs/python3.7/py-core/lib/python3.7/site-packages/ipykernel_launcher.py:3: FutureWarning: The default value of regex will change from True to False in a future version.\n  This is separate from the ipykernel package so we can avoid doing imports until\n/shared-libs/python3.7/py-core/lib/python3.7/site-packages/ipykernel_launcher.py:4: FutureWarning: The default value of regex will change from True to False in a future version.\n  after removing the cwd from sys.path.\n",
     "output_type": "stream"
    },
    {
     "output_type": "execute_result",
     "execution_count": 5,
     "data": {
      "text/plain": "title\n(Dont Fear) the Reaper                            this long island bands death trip was picked b...\n(I Can't Get No) Satisfaction'                    its the riff heard round the world says steve ...\n(Sittin' on) the Dock of the Bay                  a few days after his starmaking set at the mon...\n(Were Gonna) Rock Around the Clock                haley began his career as a country yodeler be...\n(Your Love Keeps Lifting Me) Higher and Higher    at first he sang it like a ballad but wilson h...\n                                                                        ...                        \nYou Keep Me Hanging On                            the stuttering guitar sounds like an sos and t...\nYou Really Got Me                                 convinced that the bands previous two singles ...\nYou've Lost That Lovin' Feelin''                  spectorwas conducting the musicians for aronet...\nYoung Americans                                   in  bowie traded his glammedout ziggy stardust...\nYoung Blood                                       the coasters were named after the west coast h...\nName: description, Length: 352, dtype: object"
     },
     "metadata": {}
    }
   ]
  },
  {
   "cell_type": "code",
   "metadata": {
    "tags": [],
    "cell_id": "00008-71e57a57-d963-4745-95af-c6f7219e4994",
    "deepnote_to_be_reexecuted": false,
    "source_hash": "30033675",
    "execution_start": 1632598506817,
    "execution_millis": 18,
    "deepnote_cell_type": "code"
   },
   "source": "grouped_by_title[3]",
   "execution_count": 6,
   "outputs": [
    {
     "output_type": "execute_result",
     "execution_count": 6,
     "data": {
      "text/plain": "'haley began his career as a country yodeler before converting to rock  roll clock was a modest hit until it played during the opening credits of the blackboard jungle and shot to number one'"
     },
     "metadata": {}
    }
   ]
  },
  {
   "cell_type": "code",
   "metadata": {
    "tags": [],
    "cell_id": "00007-a48a8c7f-9b10-4584-976a-4327407a8260",
    "deepnote_to_be_reexecuted": false,
    "source_hash": "63d82518",
    "execution_start": 1632598506822,
    "execution_millis": 113,
    "deepnote_cell_type": "code"
   },
   "source": "tokenized = grouped_by_title.apply(nltk.word_tokenize)",
   "execution_count": 7,
   "outputs": []
  },
  {
   "cell_type": "code",
   "metadata": {
    "tags": [],
    "cell_id": "00008-f866c36d-d3a1-4a7e-ae32-66b6315d9772",
    "deepnote_to_be_reexecuted": false,
    "source_hash": "390a7eff",
    "execution_start": 1632598506998,
    "execution_millis": 0,
    "deepnote_cell_type": "code"
   },
   "source": "all_words = tokenized.sum()\ntext = nltk.Text(all_words)",
   "execution_count": 8,
   "outputs": []
  },
  {
   "cell_type": "code",
   "metadata": {
    "tags": [],
    "cell_id": "00009-d1e1c5cc-fafa-4194-8cd2-835d37cb37a2",
    "deepnote_to_be_reexecuted": false,
    "source_hash": "62b7dd47",
    "execution_start": 1632598506999,
    "execution_millis": 7,
    "deepnote_cell_type": "code"
   },
   "source": "text.concordance('world', lines=20)",
   "execution_count": 9,
   "outputs": [
    {
     "name": "stdout",
     "text": "Displaying 15 of 15 matches:\nternity its the riff heard round the world says steve van zandt guitarist for t\n england on the six hour tv show our world a satellite broadcast seen by millio\ne message they wanted to send to the world it was for love and bloody peace rin\n like a gunshot reeves reinvents the world as a giant block party franklin disa\ns also the song in which he told the world like it or not rock roll is here to \nine his greatest musical gift to the world one morning early in in his bedroom \nite grand piano now known around the world from films and photographs of the se\n plainspoken faith in the power of a world united in purpose to repair and chan\ns saying that his room was his whole world said usher who wrote the lyrics base\nbel owner george goldner but now the world knows better maybe im amazed first a\nram frustrated with the state of the world told house songwriter rice that blac\nhe first take unheard of in spectors world bennett and spector were married two\n classicalrock boomlet that gave the world the moody blues the members of led z\n even in its own dumbness way of the world was the title song of a littleseen m\neys greatest ballad holds a guinness world record as the most recorded song of \n",
     "output_type": "stream"
    }
   ]
  },
  {
   "cell_type": "code",
   "metadata": {
    "tags": [],
    "cell_id": "00010-f897e26a-f374-458c-a5ee-6321126c5330",
    "deepnote_to_be_reexecuted": false,
    "source_hash": "62ad9179",
    "execution_start": 1632598507041,
    "execution_millis": 242,
    "deepnote_cell_type": "code"
   },
   "source": "text.similar('hate',num=30)",
   "execution_count": 10,
   "outputs": [
    {
     "name": "stdout",
     "text": "\n",
     "output_type": "stream"
    }
   ]
  },
  {
   "cell_type": "code",
   "metadata": {
    "tags": [],
    "cell_id": "00011-9d82be4e-5202-4755-b365-353c1fc53da2",
    "deepnote_to_be_reexecuted": false,
    "source_hash": "1e622ab0",
    "execution_start": 1632598507300,
    "execution_millis": 10,
    "deepnote_cell_type": "code"
   },
   "source": "text.similar('love',num=30)",
   "execution_count": 11,
   "outputs": [
    {
     "name": "stdout",
     "text": "rock it drug day degree cynicism on houseboat california producer new\nreal suggested soul mccartney bed piano session summer pepsi show us\ndrummer did people her studio elvis sound version\n",
     "output_type": "stream"
    }
   ]
  },
  {
   "cell_type": "code",
   "metadata": {
    "tags": [],
    "cell_id": "00012-2fc4e55e-6785-41a7-b269-9b21f2e3ae18",
    "deepnote_to_be_reexecuted": false,
    "source_hash": "169f7bd7",
    "execution_start": 1632598507307,
    "execution_millis": 24,
    "deepnote_cell_type": "code"
   },
   "source": "text.similar('drug',num=30)\n",
   "execution_count": 12,
   "outputs": [
    {
     "name": "stdout",
     "text": "rock love cynicism california producer new bed summer pepsi elvis\nsound debt seven campaign perfect plastic alias tuttifrutti arranging\nhurt brandnew\n",
     "output_type": "stream"
    }
   ]
  },
  {
   "cell_type": "code",
   "metadata": {
    "tags": [],
    "cell_id": "00013-beed8413-c370-419d-8fb8-f63a6f63a54f",
    "deepnote_to_be_reexecuted": false,
    "source_hash": "d6479bdc",
    "execution_start": 1632598730198,
    "execution_millis": 5,
    "deepnote_cell_type": "code"
   },
   "source": "text.common_contexts(['love', 'man'])",
   "execution_count": 33,
   "outputs": [
    {
     "name": "stdout",
     "text": "a_in\n",
     "output_type": "stream"
    }
   ]
  },
  {
   "cell_type": "code",
   "metadata": {
    "tags": [],
    "cell_id": "00014-bdfdebeb-642c-47b4-b703-05e2bd0e6c53",
    "deepnote_to_be_reexecuted": false,
    "source_hash": "8a5687fc",
    "execution_start": 1632598507347,
    "execution_millis": 32,
    "deepnote_cell_type": "code"
   },
   "source": "len(set(text))",
   "execution_count": 14,
   "outputs": [
    {
     "output_type": "execute_result",
     "execution_count": 14,
     "data": {
      "text/plain": "5178"
     },
     "metadata": {}
    }
   ]
  },
  {
   "cell_type": "code",
   "metadata": {
    "tags": [],
    "cell_id": "00015-19ee22a8-87ea-4dd6-9f06-7b111e65dfe2",
    "deepnote_to_be_reexecuted": false,
    "source_hash": "b6a5d0f9",
    "execution_start": 1632598507359,
    "execution_millis": 20,
    "deepnote_cell_type": "code"
   },
   "source": "len(text)",
   "execution_count": 15,
   "outputs": [
    {
     "output_type": "execute_result",
     "execution_count": 15,
     "data": {
      "text/plain": "24319"
     },
     "metadata": {}
    }
   ]
  },
  {
   "cell_type": "code",
   "metadata": {
    "tags": [],
    "cell_id": "00016-dc10fc84-d625-4242-b328-4d102789d714",
    "deepnote_to_be_reexecuted": false,
    "source_hash": "8484c4d8",
    "execution_start": 1632598507366,
    "execution_millis": 63,
    "deepnote_cell_type": "code"
   },
   "source": "text.collocations()",
   "execution_count": 16,
   "outputs": [
    {
     "name": "stdout",
     "text": "number one; rolling stone; new york; rock roll; told rolling; muscle\nshoals; san francisco; high school; years later; los angeles; beach\nboys; hound dog; million copies; biggest hit; new jersey; backing\nvocals; bass line; purple haze; ringo starr; whole lotta\n",
     "output_type": "stream"
    }
   ]
  },
  {
   "cell_type": "markdown",
   "source": "3 .",
   "metadata": {
    "tags": [],
    "cell_id": "00019-fe2cc11f-7475-41d5-9530-adced97d2ca2",
    "deepnote_cell_type": "markdown"
   }
  },
  {
   "cell_type": "code",
   "metadata": {
    "tags": [],
    "cell_id": "00017-65e8bc1a-b8e1-40ed-94a8-5c75ce6f2330",
    "deepnote_to_be_reexecuted": false,
    "source_hash": "c06561a9",
    "execution_start": 1632598507446,
    "execution_millis": 8,
    "deepnote_cell_type": "code"
   },
   "source": "freq_dist = nltk.FreqDist(all_words)\nfreq_dist.most_common(20)",
   "execution_count": 17,
   "outputs": [
    {
     "output_type": "execute_result",
     "execution_count": 17,
     "data": {
      "text/plain": "[('the', 1587),\n ('a', 714),\n ('to', 510),\n ('of', 509),\n ('and', 482),\n ('in', 469),\n ('was', 395),\n ('it', 346),\n ('on', 281),\n ('for', 254),\n ('he', 244),\n ('song', 241),\n ('his', 233),\n ('with', 221),\n ('that', 196),\n ('said', 196),\n ('i', 181),\n ('by', 142),\n ('but', 142),\n ('this', 140)]"
     },
     "metadata": {}
    }
   ]
  },
  {
   "cell_type": "code",
   "metadata": {
    "tags": [],
    "cell_id": "00018-120f3f50-2db6-45c4-be66-f3d6aa9e9301",
    "deepnote_to_be_reexecuted": false,
    "source_hash": "c437174e",
    "execution_start": 1632598507493,
    "execution_millis": 43,
    "deepnote_cell_type": "code"
   },
   "source": "english_stop_words = stopwords.words('english')\n\nall_words_except_stop_words = [word for word in all_words if word not in english_stop_words]\n\nfreq_dist_no_stop_words = nltk.FreqDist(all_words_except_stop_words)",
   "execution_count": 18,
   "outputs": []
  },
  {
   "cell_type": "code",
   "metadata": {
    "tags": [],
    "cell_id": "00022-e9864712-692a-40e1-8100-4296bf010765",
    "deepnote_to_be_reexecuted": false,
    "source_hash": "5b0919b8",
    "execution_start": 1632598507536,
    "execution_millis": 16,
    "deepnote_cell_type": "code"
   },
   "source": "freq_dist_no_stop_words.most_common(50)",
   "execution_count": 19,
   "outputs": [
    {
     "output_type": "execute_result",
     "execution_count": 19,
     "data": {
      "text/plain": "[('song', 241),\n ('said', 196),\n ('one', 111),\n ('first', 102),\n ('hit', 84),\n ('wrote', 73),\n ('new', 66),\n ('like', 61),\n ('single', 53),\n ('band', 52),\n ('guitar', 52),\n ('recorded', 48),\n ('record', 48),\n ('got', 46),\n ('later', 45),\n ('number', 44),\n ('came', 44),\n ('songs', 44),\n ('lyrics', 43),\n ('rock', 42),\n ('became', 41),\n ('love', 40),\n ('time', 37),\n ('would', 36),\n ('cut', 36),\n ('called', 36),\n ('studio', 36),\n ('version', 36),\n ('told', 34),\n ('top', 33),\n ('made', 32),\n ('track', 32),\n ('years', 32),\n ('played', 31),\n ('pop', 30),\n ('album', 30),\n ('written', 30),\n ('inspired', 29),\n ('went', 29),\n ('heard', 28),\n ('music', 28),\n ('singer', 28),\n ('recording', 28),\n ('group', 28),\n ('around', 28),\n ('riff', 27),\n ('ballad', 27),\n ('didnt', 27),\n ('lennon', 27),\n ('rolling', 26)]"
     },
     "metadata": {}
    }
   ]
  },
  {
   "cell_type": "code",
   "metadata": {
    "tags": [],
    "cell_id": "00023-e1ef209a-228b-40ae-b890-005e4cb00049",
    "deepnote_to_be_reexecuted": false,
    "source_hash": "3bc79a7b",
    "execution_start": 1632598793893,
    "execution_millis": 10,
    "deepnote_cell_type": "code"
   },
   "source": "print(f'{(100 * freq_dist_no_stop_words[\"said\"] / len(all_words_except_stop_words)):.3f}%')\n\n",
   "execution_count": 35,
   "outputs": [
    {
     "name": "stdout",
     "text": "1.384%\n",
     "output_type": "stream"
    }
   ]
  },
  {
   "cell_type": "code",
   "metadata": {
    "tags": [],
    "cell_id": "00024-12fe49df-e783-42cc-b85c-4597c0b864c5",
    "deepnote_to_be_reexecuted": false,
    "source_hash": "1c995657",
    "execution_start": 1632598507545,
    "execution_millis": 612,
    "deepnote_cell_type": "code"
   },
   "source": "freq_dist_no_stop_words.plot(50, cumulative=True);\n",
   "execution_count": 21,
   "outputs": [
    {
     "data": {
      "text/plain": "<Figure size 432x288 with 1 Axes>",
      "image/png": "[encoded data removed]"
     },
     "metadata": {
      "needs_background": "light",
      "image/png": {
       "width": 395,
       "height": 300
      }
     },
     "output_type": "display_data"
    }
   ]
  },
  {
   "cell_type": "code",
   "metadata": {
    "tags": [],
    "cell_id": "00025-702fa8b7-9106-4da3-9b1b-99fc7ebfc833",
    "deepnote_to_be_reexecuted": false,
    "source_hash": "3ec478cb",
    "execution_start": 1632598508154,
    "execution_millis": 25,
    "deepnote_cell_type": "code"
   },
   "source": "# Palabras que sólo aparecen una sola vez\n\nfreq_dist_no_stop_words.hapaxes()[:20]",
   "execution_count": 22,
   "outputs": [
    {
     "output_type": "execute_result",
     "execution_count": 22,
     "data": {
      "text/plain": "['island',\n 'ghostly',\n 'cowbell',\n 'reaper',\n 'chills',\n 'halloween',\n 'bonus',\n 'points',\n 'crackpot',\n 'theology',\n 'romeo',\n 'juliet',\n 'eternity',\n 'round',\n 'zandt',\n 'examples',\n 'ofdylaninfluencing',\n 'andthe',\n 'tradition',\n 'starmaking']"
     },
     "metadata": {}
    }
   ]
  },
  {
   "cell_type": "markdown",
   "source": "4 .",
   "metadata": {
    "tags": [],
    "cell_id": "00026-3d8dcf50-c6ec-48e5-b265-65bf4e909c91",
    "deepnote_cell_type": "markdown"
   }
  },
  {
   "cell_type": "code",
   "source": "freq_dist_no_stop_words.plot(20)",
   "metadata": {
    "tags": [],
    "cell_id": "00027-1675ef2e-3a41-46b0-95a4-a1c649d5d1c1",
    "deepnote_to_be_reexecuted": false,
    "source_hash": "eb0df652",
    "execution_start": 1632602237201,
    "execution_millis": 275,
    "deepnote_cell_type": "code"
   },
   "outputs": [
    {
     "data": {
      "text/plain": "<Figure size 432x288 with 1 Axes>",
      "image/png": "[encoded data removed]"
     },
     "metadata": {
      "needs_background": "light",
      "image/png": {
       "width": 389,
       "height": 300
      }
     },
     "output_type": "display_data"
    },
    {
     "output_type": "execute_result",
     "execution_count": 95,
     "data": {
      "text/plain": "<AxesSubplot:xlabel='Samples', ylabel='Counts'>"
     },
     "metadata": {}
    }
   ],
   "execution_count": 95
  },
  {
   "cell_type": "code",
   "metadata": {
    "tags": [],
    "cell_id": "00026-98432e34-a92b-43a2-a344-2f0433f54cac",
    "deepnote_to_be_reexecuted": false,
    "source_hash": "e1078744",
    "execution_start": 1632598508169,
    "execution_millis": 374,
    "deepnote_cell_type": "code"
   },
   "source": "most_common_20 = np.array(list(map(lambda x: list(x), freq_dist_no_stop_words.most_common(20))))\n\n# conversión a tipo númerico\nmost_common_20_cant = []\nfor i,j in most_common_20:\n    most_common_20_cant.append(int(j))\n\nfig = plt.figure()\nax = fig.add_subplot()\n\nsns.barplot(most_common_20[:, 0], most_common_20_cant, ax=ax, palette='flare');\nax.set_title('Frecuencia de las 20 palabras más comunes', pad=10)\nax.set_ylabel('Cantidad')\nax.tick_params(axis='x', rotation=75)",
   "execution_count": 23,
   "outputs": [
    {
     "name": "stderr",
     "text": "/shared-libs/python3.7/py/lib/python3.7/site-packages/seaborn/_decorators.py:43: FutureWarning: Pass the following variables as keyword args: x, y. From version 0.12, the only valid positional argument will be `data`, and passing other arguments without an explicit keyword will result in an error or misinterpretation.\n  FutureWarning\n",
     "output_type": "stream"
    },
    {
     "data": {
      "text/plain": "<Figure size 432x288 with 1 Axes>",
      "image/png": "[encoded data removed]"
     },
     "metadata": {
      "needs_background": "light",
      "image/png": {
       "width": 389,
       "height": 304
      }
     },
     "output_type": "display_data"
    }
   ]
  },
  {
   "cell_type": "markdown",
   "source": "5 .",
   "metadata": {
    "tags": [],
    "cell_id": "00028-3ce3f970-1153-49d3-a836-07e46e8c7074",
    "deepnote_cell_type": "markdown"
   }
  },
  {
   "cell_type": "code",
   "source": "len_words = [len(n) for n in all_words_except_stop_words]\n\nsns.displot(len_words, binwidth=1,kde=False, color='r')\nplt.title('Longitud de palabras');\nplt.xlabel('cantidad de letras por palabra');\nplt.ylabel('frecuencia');",
   "metadata": {
    "tags": [],
    "cell_id": "00032-eb770904-eb9f-4d19-a4f4-e8914d24305e",
    "deepnote_to_be_reexecuted": false,
    "source_hash": "5fc42e17",
    "execution_start": 1632602075774,
    "execution_millis": 690,
    "deepnote_cell_type": "code"
   },
   "outputs": [
    {
     "data": {
      "text/plain": "<Figure size 360x360 with 1 Axes>",
      "image/png": "[encoded data removed]"
     },
     "metadata": {
      "needs_background": "light",
      "image/png": {
       "width": 353,
       "height": 382
      }
     },
     "output_type": "display_data"
    }
   ],
   "execution_count": 92
  },
  {
   "cell_type": "markdown",
   "source": "6 .",
   "metadata": {
    "tags": [],
    "cell_id": "00030-2e8f81b1-57fe-44c7-9c18-7612df61d992",
    "deepnote_cell_type": "markdown"
   }
  },
  {
   "cell_type": "code",
   "source": "#most_common_20 = np.array(list(map(lambda x: list(x), freq_dist_no_stop_words.most_common(20))))\n\nwordcloud = WordCloud(max_font_size=100,background_color='white').generate(''.join(all_words_except_stop_words))\nplt.figure(figsize=(15,15))\nplt.imshow(wordcloud,interpolation='bilinear')\nplt.axis('off')",
   "metadata": {
    "tags": [],
    "cell_id": "00033-efd05baf-cc99-448f-a3be-6fca8945da74",
    "deepnote_to_be_reexecuted": false,
    "source_hash": "30755008",
    "execution_start": 1632604680782,
    "execution_millis": 44256,
    "deepnote_cell_type": "code"
   },
   "outputs": [
    {
     "output_type": "execute_result",
     "execution_count": 101,
     "data": {
      "text/plain": "(-0.5, 399.5, 199.5, -0.5)"
     },
     "metadata": {}
    },
    {
     "data": {
      "text/plain": "<Figure size 1080x1080 with 1 Axes>",
      "image/png": "[encoded data removed]"
     },
     "metadata": {
      "needs_background": "light",
      "image/png": {
       "width": 851,
       "height": 432
      }
     },
     "output_type": "display_data"
    }
   ],
   "execution_count": 101
  },
  {
   "cell_type": "code",
   "source": "",
   "metadata": {
    "tags": [],
    "cell_id": "00032-6ffd3fd5-94d1-46a4-80d4-87aa906b159f",
    "deepnote_cell_type": "code"
   },
   "outputs": [],
   "execution_count": null
  },
  {
   "cell_type": "markdown",
   "source": "<a style='text-decoration:none;line-height:16px;display:flex;color:#5B5B62;padding:10px;justify-content:end;' href='https://deepnote.com?utm_source=created-in-deepnote-cell&projectId=f8149d1c-e6b1-497a-9109-f01641a8231a' target=\"_blank\">\n<img alt='Created in deepnote.com' style='display:inline;max-height:16px;margin:0px;margin-right:7.5px;' src='data:image/svg+xml;base64,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' > </img>\nCreated in <span style='font-weight:600;margin-left:4px;'>Deepnote</span></a>",
   "metadata": {
    "tags": [],
    "created_in_deepnote_cell": true,
    "deepnote_cell_type": "markdown"
   }
  }
 ],
 "nbformat": 4,
 "nbformat_minor": 2,
 "metadata": {
  "orig_nbformat": 2,
  "deepnote": {
   "is_reactive": false
  },
  "deepnote_notebook_id": "f1543ac0-e829-4718-ae97-932413ef3746",
  "deepnote_execution_queue": []
 }
}