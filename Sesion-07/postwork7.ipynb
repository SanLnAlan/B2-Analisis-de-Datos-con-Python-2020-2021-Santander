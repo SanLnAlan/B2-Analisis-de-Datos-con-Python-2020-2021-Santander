{
 "cells": [
  {
   "cell_type": "markdown",
   "source": [
    "# Postwork 7"
   ],
   "metadata": {
    "tags": [],
    "cell_id": "00000-1cafca0a-711f-443a-b60e-20349999cf31",
    "deepnote_cell_type": "markdown"
   }
  },
  {
   "cell_type": "markdown",
   "source": [
    " ## Nombre del Postwork: Procesamiento de Lenguaje Natural\n",
    "\n",
    "### OBJETIVO \n",
    "\n",
    "- Aplicar los conceptos de Procesamiento de Lenguaje Natural aprendidos en esta sesión a nuestro proyecto\n",
    "\n",
    "#### REQUISITOS \n",
    "\n",
    "- Tener un dataset limpio que contenga una columna con datos no estructurados.\n",
    "\n",
    "> En caso de que tu dataset no contenga datos no estructurados, date una vuelta por [Kaggle](https://kaggle.com) y busca algún dataset apropiado. Lo que nos interesa en que practiques estas herramientas durante la clase para que puedas expresarle tus dudas a la experta.\n",
    "\n",
    "#### DESARROLLO\n",
    "\n",
    "Realiza los siguientes procedimientos en caso de que apliquen a tu dataset:\n",
    "\n",
    "1. Utiliza patrones Regex para limpiar tus datos estructurados\n",
    "2. Dado que debes de conocer bien tu dataset (excepto si es un nuevo dataset que buscaste para este Postwork), es probable que tengas una idea de las palabras que son relevantes para tu tema. Genera un objeto Text con la librería nltk y explora los contextos de las palabras que elegiste. Utiliza el método `similar` para obtener palabras que tengan contextos similares a las palabras originales. Puede que descubras nuevas palabras que tengan relevancia para tu proyecto.\n",
    "3. Utiliza el objeto FreqDist de nltk para hacer análisis estadístico de tu dataset. Explora las palabras y los bigramas más comunes de tu dataset.\n",
    "4. Realiza visualizaciones de tus conteos de frecuencias utilizando gráficas de barras.\n",
    "5. Realiza visualizaciones de las distribuciones de frecuencias de las longitudes de las palabras o de las oraciones.\n",
    "6. Realiza nubes de palabras para detectar los temas más importantes de tu conjunto de datos.\n",
    "7. Haz un análisis de sentimientos de tu conjunto de datos, de preferencia utilizando una variable categórica para segmentar tus datos y poder comparar las distribuciones de polaridades entre cada segmento.\n",
    "\n",
    "¡Mucha suerte!"
   ],
   "metadata": {
    "tags": [],
    "cell_id": "00000-8cae1cdb-8321-4ebc-bd3f-998c0dad3e0c",
    "deepnote_cell_type": "markdown"
   }
  },
  {
   "cell_type": "code",
   "execution_count": 96,
   "source": [
    "import pandas as pd\n",
    "import matplotlib.pyplot as plt\n",
    "import seaborn as sns\n",
    "import numpy as np\n",
    "import nltk\n",
    "from nltk.corpus import stopwords\n",
    "from wordcloud import WordCloud\n",
    "nltk.download('punkt');\n",
    "nltk.download('stopwords');\n"
   ],
   "outputs": [
    {
     "output_type": "stream",
     "name": "stderr",
     "text": [
      "[nltk_data] Downloading package punkt to /home/alan/nltk_data...\n",
      "[nltk_data]   Package punkt is already up-to-date!\n",
      "[nltk_data] Downloading package stopwords to /home/alan/nltk_data...\n",
      "[nltk_data]   Package stopwords is already up-to-date!\n"
     ]
    }
   ],
   "metadata": {
    "tags": [],
    "cell_id": "00000-d529212c-86ba-420d-adaa-8e10109fcd9e",
    "deepnote_to_be_reexecuted": false,
    "source_hash": "6aceb35d",
    "execution_start": 1632604520177,
    "execution_millis": 100,
    "deepnote_cell_type": "code"
   }
  },
  {
   "cell_type": "code",
   "execution_count": 97,
   "source": [
    "df = pd.read_csv('https://raw.githubusercontent.com/LIZZETHGOMEZ/Data-Science-Fase-3-BEDU-Santander/Postwork-7/Data/Top_500_Songs.csv',encoding='latin-1')\n",
    "df.head()"
   ],
   "outputs": [
    {
     "output_type": "execute_result",
     "data": {
      "text/html": [
       "<div>\n",
       "<style scoped>\n",
       "    .dataframe tbody tr th:only-of-type {\n",
       "        vertical-align: middle;\n",
       "    }\n",
       "\n",
       "    .dataframe tbody tr th {\n",
       "        vertical-align: top;\n",
       "    }\n",
       "\n",
       "    .dataframe thead th {\n",
       "        text-align: right;\n",
       "    }\n",
       "</style>\n",
       "<table border=\"1\" class=\"dataframe\">\n",
       "  <thead>\n",
       "    <tr style=\"text-align: right;\">\n",
       "      <th></th>\n",
       "      <th>title</th>\n",
       "      <th>description</th>\n",
       "      <th>appears on</th>\n",
       "      <th>artist</th>\n",
       "      <th>writers</th>\n",
       "      <th>producer</th>\n",
       "      <th>released</th>\n",
       "      <th>streak</th>\n",
       "      <th>position</th>\n",
       "    </tr>\n",
       "  </thead>\n",
       "  <tbody>\n",
       "    <tr>\n",
       "      <th>0</th>\n",
       "      <td>Like a Rolling Stone</td>\n",
       "      <td>\"I wrote it. I didn't fail. It was straight,\" ...</td>\n",
       "      <td>Highway 61 Revisited (Columbia)</td>\n",
       "      <td>Bob Dylan</td>\n",
       "      <td>Dylan</td>\n",
       "      <td>Tom Wilson</td>\n",
       "      <td>July, 1965</td>\n",
       "      <td>12 weeks</td>\n",
       "      <td>No. 2</td>\n",
       "    </tr>\n",
       "    <tr>\n",
       "      <th>1</th>\n",
       "      <td>(I Can't Get No) Satisfaction'</td>\n",
       "      <td>\"It's the riff heard round the world,\" says St...</td>\n",
       "      <td>Out of Our Heads (ABKCO)</td>\n",
       "      <td>The Rolling Stones</td>\n",
       "      <td>Mick Jagger, Keith Richards</td>\n",
       "      <td>Andrew Loog Oldham</td>\n",
       "      <td>May, 1965</td>\n",
       "      <td>14 weeks</td>\n",
       "      <td>No. 1</td>\n",
       "    </tr>\n",
       "    <tr>\n",
       "      <th>2</th>\n",
       "      <td>Imagine</td>\n",
       "      <td>John Lennon wrote \"Imagine,\" his greatest musi...</td>\n",
       "      <td>Imagine (Capitol/Apple)</td>\n",
       "      <td>John Lennon</td>\n",
       "      <td>John Lennon</td>\n",
       "      <td>Lennon, Phil Spector, Yoko Ono</td>\n",
       "      <td>October, 1971</td>\n",
       "      <td>9 weeks</td>\n",
       "      <td>No. 3</td>\n",
       "    </tr>\n",
       "    <tr>\n",
       "      <th>3</th>\n",
       "      <td>What's Going On</td>\n",
       "      <td>\"What's Going On\" is an exquisite plea for pea...</td>\n",
       "      <td>What's Going On (Tamla)</td>\n",
       "      <td>Marvin Gaye</td>\n",
       "      <td>Gaye, Renaldo Benson, Al Cleveland</td>\n",
       "      <td>Gaye</td>\n",
       "      <td>Feb, 1971</td>\n",
       "      <td>13 weeks</td>\n",
       "      <td>No. 2</td>\n",
       "    </tr>\n",
       "    <tr>\n",
       "      <th>4</th>\n",
       "      <td>Respect</td>\n",
       "      <td>Otis Redding wrote \"Respect\" and recorded it f...</td>\n",
       "      <td>I Never Loved a Man the Way I Love You (Atlantic)</td>\n",
       "      <td>Aretha Franklin</td>\n",
       "      <td>Otis Redding</td>\n",
       "      <td>Jerry Wexler</td>\n",
       "      <td>April, 1967</td>\n",
       "      <td>12 weeks</td>\n",
       "      <td>No. 1</td>\n",
       "    </tr>\n",
       "  </tbody>\n",
       "</table>\n",
       "</div>"
      ],
      "text/plain": [
       "                            title  \\\n",
       "0            Like a Rolling Stone   \n",
       "1  (I Can't Get No) Satisfaction'   \n",
       "2                         Imagine   \n",
       "3                 What's Going On   \n",
       "4                         Respect   \n",
       "\n",
       "                                         description  \\\n",
       "0  \"I wrote it. I didn't fail. It was straight,\" ...   \n",
       "1  \"It's the riff heard round the world,\" says St...   \n",
       "2  John Lennon wrote \"Imagine,\" his greatest musi...   \n",
       "3  \"What's Going On\" is an exquisite plea for pea...   \n",
       "4  Otis Redding wrote \"Respect\" and recorded it f...   \n",
       "\n",
       "                                          appears on              artist  \\\n",
       "0                    Highway 61 Revisited (Columbia)           Bob Dylan   \n",
       "1                           Out of Our Heads (ABKCO)  The Rolling Stones   \n",
       "2                            Imagine (Capitol/Apple)         John Lennon   \n",
       "3                            What's Going On (Tamla)         Marvin Gaye   \n",
       "4  I Never Loved a Man the Way I Love You (Atlantic)     Aretha Franklin   \n",
       "\n",
       "                              writers                        producer  \\\n",
       "0                               Dylan                     Tom Wilson    \n",
       "1         Mick Jagger, Keith Richards              Andrew Loog Oldham   \n",
       "2                         John Lennon  Lennon, Phil Spector, Yoko Ono   \n",
       "3  Gaye, Renaldo Benson, Al Cleveland                           Gaye    \n",
       "4                        Otis Redding                    Jerry Wexler   \n",
       "\n",
       "        released    streak position  \n",
       "0     July, 1965  12 weeks    No. 2  \n",
       "1      May, 1965  14 weeks    No. 1  \n",
       "2  October, 1971   9 weeks    No. 3  \n",
       "3      Feb, 1971  13 weeks    No. 2  \n",
       "4    April, 1967  12 weeks    No. 1  "
      ]
     },
     "metadata": {},
     "execution_count": 97
    }
   ],
   "metadata": {}
  },
  {
   "cell_type": "markdown",
   "source": [
    "Agrupamos por titulo y obtenemos solamente la columna de descripción de la canción"
   ],
   "metadata": {}
  },
  {
   "cell_type": "code",
   "execution_count": null,
   "source": [
    "grouped_by_title = df.groupby('title')['description'].last()"
   ],
   "outputs": [],
   "metadata": {}
  },
  {
   "cell_type": "markdown",
   "source": [
    "Se procede con una limpieza del texto:"
   ],
   "metadata": {}
  },
  {
   "cell_type": "code",
   "execution_count": null,
   "source": [
    "grouped_by_title = grouped_by_title.str.lower()\n",
    "grouped_by_title = grouped_by_title.str.strip()\n",
    "grouped_by_title = grouped_by_title.str.replace('[^\\w\\s]', '')  \n",
    "grouped_by_title = grouped_by_title.str.replace('\\\\n', '')\n",
    "grouped_by_title = grouped_by_title.str.replace('\\d', '')\n",
    "grouped_by_title = grouped_by_title.dropna()\n",
    "grouped_by_title"
   ],
   "outputs": [],
   "metadata": {}
  },
  {
   "cell_type": "markdown",
   "source": [
    "Realizamos la tokenización y almacenamos las palabras en un objeto de texto"
   ],
   "metadata": {}
  },
  {
   "cell_type": "code",
   "execution_count": null,
   "source": [
    "tokenized = grouped_by_title.apply(nltk.word_tokenize)\n",
    "all_words = tokenized.sum()\n",
    "text = nltk.Text(all_words)"
   ],
   "outputs": [],
   "metadata": {}
  },
  {
   "cell_type": "code",
   "execution_count": null,
   "source": [
    "text.concordance('world', lines=10)"
   ],
   "outputs": [],
   "metadata": {}
  },
  {
   "cell_type": "code",
   "execution_count": null,
   "source": [
    "text.similar('world',num=30)"
   ],
   "outputs": [],
   "metadata": {
    "tags": [],
    "cell_id": "00010-f897e26a-f374-458c-a5ee-6321126c5330",
    "deepnote_to_be_reexecuted": false,
    "source_hash": "62ad9179",
    "execution_start": 1632598507041,
    "execution_millis": 242,
    "deepnote_cell_type": "code"
   }
  },
  {
   "cell_type": "code",
   "execution_count": null,
   "source": [
    "text.similar('love',num=30)"
   ],
   "outputs": [],
   "metadata": {
    "tags": [],
    "cell_id": "00011-9d82be4e-5202-4755-b365-353c1fc53da2",
    "deepnote_to_be_reexecuted": false,
    "source_hash": "1e622ab0",
    "execution_start": 1632598507300,
    "execution_millis": 10,
    "deepnote_cell_type": "code"
   }
  },
  {
   "cell_type": "code",
   "execution_count": null,
   "source": [
    "text.similar('said',num=30)\n"
   ],
   "outputs": [],
   "metadata": {
    "tags": [],
    "cell_id": "00012-2fc4e55e-6785-41a7-b269-9b21f2e3ae18",
    "deepnote_to_be_reexecuted": false,
    "source_hash": "169f7bd7",
    "execution_start": 1632598507307,
    "execution_millis": 24,
    "deepnote_cell_type": "code"
   }
  },
  {
   "cell_type": "code",
   "execution_count": null,
   "source": [
    "text.common_contexts(['told', 'was'])"
   ],
   "outputs": [],
   "metadata": {
    "tags": [],
    "cell_id": "00013-beed8413-c370-419d-8fb8-f63a6f63a54f",
    "deepnote_to_be_reexecuted": false,
    "source_hash": "d6479bdc",
    "execution_start": 1632598730198,
    "execution_millis": 5,
    "deepnote_cell_type": "code"
   }
  },
  {
   "cell_type": "code",
   "execution_count": null,
   "source": [
    "text.collocations()"
   ],
   "outputs": [],
   "metadata": {
    "tags": [],
    "cell_id": "00016-dc10fc84-d625-4242-b328-4d102789d714",
    "deepnote_to_be_reexecuted": false,
    "source_hash": "8484c4d8",
    "execution_start": 1632598507366,
    "execution_millis": 63,
    "deepnote_cell_type": "code"
   }
  },
  {
   "cell_type": "code",
   "execution_count": null,
   "source": [
    "print(f'Cantidad de palabras: {len(text)}')\n",
    "print(f'Cantidad de palabras únicas: {len(set(text))}')\n",
    "print(f'Riqueza léxica: {len(set(text)) / len(text):.3f}')\n"
   ],
   "outputs": [],
   "metadata": {
    "tags": [],
    "cell_id": "00014-bdfdebeb-642c-47b4-b703-05e2bd0e6c53",
    "deepnote_to_be_reexecuted": false,
    "source_hash": "8a5687fc",
    "execution_start": 1632598507347,
    "execution_millis": 32,
    "deepnote_cell_type": "code"
   }
  },
  {
   "cell_type": "markdown",
   "source": [
    "3 ."
   ],
   "metadata": {
    "tags": [],
    "cell_id": "00019-fe2cc11f-7475-41d5-9530-adced97d2ca2",
    "deepnote_cell_type": "markdown"
   }
  },
  {
   "cell_type": "code",
   "execution_count": null,
   "source": [
    "freq_dist = nltk.FreqDist(all_words)\n",
    "freq_dist.most_common(20)"
   ],
   "outputs": [],
   "metadata": {
    "tags": [],
    "cell_id": "00017-65e8bc1a-b8e1-40ed-94a8-5c75ce6f2330",
    "deepnote_to_be_reexecuted": false,
    "source_hash": "c06561a9",
    "execution_start": 1632598507446,
    "execution_millis": 8,
    "deepnote_cell_type": "code"
   }
  },
  {
   "cell_type": "code",
   "execution_count": null,
   "source": [
    "english_stop_words = stopwords.words('english')\n",
    "\n",
    "all_words_except_stop_words = [word for word in all_words if word not in english_stop_words]\n",
    "\n",
    "freq_dist_no_stop_words = nltk.FreqDist(all_words_except_stop_words)"
   ],
   "outputs": [],
   "metadata": {
    "tags": [],
    "cell_id": "00018-120f3f50-2db6-45c4-be66-f3d6aa9e9301",
    "deepnote_to_be_reexecuted": false,
    "source_hash": "c437174e",
    "execution_start": 1632598507493,
    "execution_millis": 43,
    "deepnote_cell_type": "code"
   }
  },
  {
   "cell_type": "code",
   "execution_count": null,
   "source": [
    "freq_dist_no_stop_words.most_common(20)"
   ],
   "outputs": [],
   "metadata": {
    "tags": [],
    "cell_id": "00022-e9864712-692a-40e1-8100-4296bf010765",
    "deepnote_to_be_reexecuted": false,
    "source_hash": "5b0919b8",
    "execution_start": 1632598507536,
    "execution_millis": 16,
    "deepnote_cell_type": "code"
   }
  },
  {
   "cell_type": "code",
   "execution_count": null,
   "source": [
    "print(f'{(100 * freq_dist_no_stop_words[\"said\"] / len(all_words_except_stop_words)):.3f}%')"
   ],
   "outputs": [],
   "metadata": {
    "tags": [],
    "cell_id": "00023-e1ef209a-228b-40ae-b890-005e4cb00049",
    "deepnote_to_be_reexecuted": false,
    "source_hash": "3bc79a7b",
    "execution_start": 1632598793893,
    "execution_millis": 10,
    "deepnote_cell_type": "code"
   }
  },
  {
   "cell_type": "code",
   "execution_count": null,
   "source": [
    "freq_dist_no_stop_words.plot(50, cumulative=True);\n"
   ],
   "outputs": [],
   "metadata": {
    "tags": [],
    "cell_id": "00024-12fe49df-e783-42cc-b85c-4597c0b864c5",
    "deepnote_to_be_reexecuted": false,
    "source_hash": "1c995657",
    "execution_start": 1632598507545,
    "execution_millis": 612,
    "deepnote_cell_type": "code"
   }
  },
  {
   "cell_type": "code",
   "execution_count": null,
   "source": [
    "# Palabras que sólo aparecen una sola vez\n",
    "freq_dist_no_stop_words.hapaxes()[:20]"
   ],
   "outputs": [],
   "metadata": {
    "tags": [],
    "cell_id": "00025-702fa8b7-9106-4da3-9b1b-99fc7ebfc833",
    "deepnote_to_be_reexecuted": false,
    "source_hash": "3ec478cb",
    "execution_start": 1632598508154,
    "execution_millis": 25,
    "deepnote_cell_type": "code"
   }
  },
  {
   "cell_type": "markdown",
   "source": [
    "4 ."
   ],
   "metadata": {
    "tags": [],
    "cell_id": "00026-3d8dcf50-c6ec-48e5-b265-65bf4e909c91",
    "deepnote_cell_type": "markdown"
   }
  },
  {
   "cell_type": "code",
   "execution_count": null,
   "source": [
    "freq_dist_no_stop_words.plot(20)"
   ],
   "outputs": [],
   "metadata": {
    "tags": [],
    "cell_id": "00027-1675ef2e-3a41-46b0-95a4-a1c649d5d1c1",
    "deepnote_to_be_reexecuted": false,
    "source_hash": "eb0df652",
    "execution_start": 1632602237201,
    "execution_millis": 275,
    "deepnote_cell_type": "code"
   }
  },
  {
   "cell_type": "code",
   "execution_count": null,
   "source": [
    "freq_dist_bigrams = nltk.FreqDist(list(nltk.bigrams(text)))\n",
    "bigrams_most_common = np.array(list(map(lambda x: list(x), freq_dist_bigrams.most_common(20))))\n",
    "\n",
    "fig = plt.figure(figsize=(10, 6))\n",
    "ax = fig.add_subplot()\n",
    "\n",
    "sns.barplot(x=bigrams_most_common[:, 1], y=bigrams_most_common[:, 0], ax=ax, palette='RdYlBu');\n",
    "ax.set_title('Frecuencia de las 20 bigramas más comunes', pad=10)\n",
    "ax.set_xlabel('Frecuencia')"
   ],
   "outputs": [],
   "metadata": {}
  },
  {
   "cell_type": "code",
   "execution_count": null,
   "source": [
    "most_common_20 = np.array(list(map(lambda x: list(x), freq_dist_no_stop_words.most_common(20))))\n",
    "\n",
    "# conversión a tipo númerico\n",
    "most_common_20_cant = [int(word) for word in most_common_20[:,1]]\n",
    "\n",
    "fig = plt.figure()\n",
    "ax = fig.add_subplot()\n",
    "\n",
    "sns.barplot(most_common_20[:, 0], most_common_20_cant, ax=ax, palette='flare');\n",
    "ax.set_title('Frecuencia de las 20 palabras más comunes', pad=10)\n",
    "ax.set_ylabel('Cantidad')\n",
    "ax.tick_params(axis='x', rotation=75)"
   ],
   "outputs": [],
   "metadata": {
    "tags": [],
    "cell_id": "00026-98432e34-a92b-43a2-a344-2f0433f54cac",
    "deepnote_to_be_reexecuted": false,
    "source_hash": "e1078744",
    "execution_start": 1632598508169,
    "execution_millis": 374,
    "deepnote_cell_type": "code"
   }
  },
  {
   "cell_type": "markdown",
   "source": [
    "5 ."
   ],
   "metadata": {
    "tags": [],
    "cell_id": "00028-3ce3f970-1153-49d3-a836-07e46e8c7074",
    "deepnote_cell_type": "markdown"
   }
  },
  {
   "cell_type": "code",
   "execution_count": null,
   "source": [
    "len_words = [len(n) for n in all_words_except_stop_words]\n",
    "\n",
    "sns.displot(len_words, binwidth=1,kde=False, color='r')\n",
    "plt.title('Longitud de palabras');\n",
    "plt.xlabel('cantidad de letras por palabra');\n",
    "plt.ylabel('frecuencia');"
   ],
   "outputs": [],
   "metadata": {
    "tags": [],
    "cell_id": "00032-eb770904-eb9f-4d19-a4f4-e8914d24305e",
    "deepnote_to_be_reexecuted": false,
    "source_hash": "5fc42e17",
    "execution_start": 1632602075774,
    "execution_millis": 690,
    "deepnote_cell_type": "code"
   }
  },
  {
   "cell_type": "markdown",
   "source": [
    "6 ."
   ],
   "metadata": {
    "tags": [],
    "cell_id": "00030-2e8f81b1-57fe-44c7-9c18-7612df61d992",
    "deepnote_cell_type": "markdown"
   }
  },
  {
   "cell_type": "code",
   "execution_count": null,
   "source": [
    "most_common_100 = np.array(list(map(lambda x: list(x), freq_dist_no_stop_words.most_common(100))))\n",
    "most_common_100_word =[word for word in most_common_100[:,0]]\n",
    "\n",
    "wordcloud = WordCloud(max_font_size=100,background_color='white').generate(' '.join(most_common_100_word))\n",
    "plt.figure(figsize=(15,15))\n",
    "plt.imshow(wordcloud,interpolation='bilinear')\n",
    "plt.axis('off')"
   ],
   "outputs": [],
   "metadata": {
    "tags": [],
    "cell_id": "00033-efd05baf-cc99-448f-a3be-6fca8945da74",
    "deepnote_to_be_reexecuted": false,
    "source_hash": "30755008",
    "execution_start": 1632604680782,
    "execution_millis": 44256,
    "deepnote_cell_type": "code"
   }
  },
  {
   "cell_type": "markdown",
   "source": [
    "7 . Haz un análisis de sentimientos de tu conjunto de datos, de preferencia utilizando una variable categórica para segmentar tus datos y poder comparar las distribuciones de polaridades entre cada segmento"
   ],
   "metadata": {}
  },
  {
   "cell_type": "code",
   "execution_count": 98,
   "source": [
    "from nltk.sentiment.vader import SentimentIntensityAnalyzer\n",
    "from nltk import sentiment\n",
    "from nltk import word_tokenize\n",
    "nltk.download('vader_lexicon')\n",
    "nltk.download('punkt')"
   ],
   "outputs": [
    {
     "output_type": "stream",
     "name": "stderr",
     "text": [
      "[nltk_data] Downloading package vader_lexicon to\n",
      "[nltk_data]     /home/alan/nltk_data...\n",
      "[nltk_data]   Package vader_lexicon is already up-to-date!\n",
      "[nltk_data] Downloading package punkt to /home/alan/nltk_data...\n",
      "[nltk_data]   Package punkt is already up-to-date!\n"
     ]
    },
    {
     "output_type": "execute_result",
     "data": {
      "text/plain": [
       "True"
      ]
     },
     "metadata": {},
     "execution_count": 98
    }
   ],
   "metadata": {}
  },
  {
   "cell_type": "code",
   "execution_count": 99,
   "source": [
    "analizador = SentimentIntensityAnalyzer()"
   ],
   "outputs": [],
   "metadata": {}
  },
  {
   "cell_type": "code",
   "execution_count": 133,
   "source": [
    "df1 = df.copy()\n",
    "\n",
    "df1['description'] = df1['description'].str.lower()\n",
    "df1['description'] = df1['description'].str.strip()\n",
    "df1['description'] = df1['description'].str.replace('[^\\w\\s]', '')  \n",
    "df1['description'] = df1['description'].str.replace('\\\\n', '')\n",
    "df1['description'] = df1['description'].str.replace('\\d', '')\n",
    "df1['description'] = df1['description'].dropna()"
   ],
   "outputs": [
    {
     "output_type": "stream",
     "name": "stderr",
     "text": [
      "/tmp/ipykernel_2533/2262152972.py:5: FutureWarning: The default value of regex will change from True to False in a future version.\n",
      "  df1['description'] = df1['description'].str.replace('[^\\w\\s]', '')\n",
      "/tmp/ipykernel_2533/2262152972.py:6: FutureWarning: The default value of regex will change from True to False in a future version.\n",
      "  df1['description'] = df1['description'].str.replace('\\\\n', '')\n",
      "/tmp/ipykernel_2533/2262152972.py:7: FutureWarning: The default value of regex will change from True to False in a future version.\n",
      "  df1['description'] = df1['description'].str.replace('\\d', '')\n"
     ]
    }
   ],
   "metadata": {}
  },
  {
   "cell_type": "markdown",
   "source": [
    "Obteniendo el score sentimental por descripción:"
   ],
   "metadata": {}
  },
  {
   "cell_type": "code",
   "execution_count": 117,
   "source": [
    "def get_sentiment(x):\n",
    "    scores = analizador.polarity_scores(x)\n",
    "    return scores['compound']\n",
    "\n",
    "df1['sentiment_score'] = df1.description.apply(get_sentiment)\n",
    "df1['positive'] = df1.sentiment_score.apply(lambda x:x>= 0)\n"
   ],
   "outputs": [],
   "metadata": {}
  },
  {
   "cell_type": "code",
   "execution_count": 103,
   "source": [
    "#Position column\n",
    "# Eliminano texto, NaN y ''\n",
    "df1['position'] = df1['position'].str.replace('\\D','')\n",
    "df1 = df1.dropna()\n",
    "df1.drop(df1[df1['position'] == '']['position'].index, inplace=True)\n",
    "\n",
    "#Convirtiendo a número\n",
    "df1['position'] = df1['position'].astype(int)\n"
   ],
   "outputs": [
    {
     "output_type": "stream",
     "name": "stderr",
     "text": [
      "/tmp/ipykernel_2533/2997727100.py:4: FutureWarning: The default value of regex will change from True to False in a future version.\n",
      "  df1['position'] = df1['position'].str.replace('\\D','')\n"
     ]
    }
   ],
   "metadata": {}
  },
  {
   "cell_type": "code",
   "execution_count": 122,
   "source": [
    "sns.scatterplot(data=df1,x='sentiment_score',y='position')"
   ],
   "outputs": [
    {
     "output_type": "execute_result",
     "data": {
      "text/plain": [
       "<AxesSubplot:xlabel='sentiment_score', ylabel='position'>"
      ]
     },
     "metadata": {},
     "execution_count": 122
    },
    {
     "output_type": "display_data",
     "data": {
      "image/png": "[encoded data removed]",
      "text/plain": [
       "<Figure size 432x288 with 1 Axes>"
      ]
     },
     "metadata": {
      "needs_background": "light"
     }
    }
   ],
   "metadata": {}
  },
  {
   "cell_type": "code",
   "execution_count": 132,
   "source": [
    "df1['count'] = 1\n",
    "#Seleccionamos solo canciones que estuvieron dentro de las primeras 10 posiciones\n",
    "df1_top10 = df1[df1['position'] <= 10]\n",
    "\n",
    "#Graficamos\n",
    "count = df1_top10.groupby('positive')['count'].sum()\n",
    "sns.set_theme(style ='darkgrid');\n",
    "sns.barplot(data=df1_top10, y = count , x = count.index)\n",
    "plt.xticks([0,1], labels = ('canciones negativas', 'canciones positivas'));\n",
    "plt.xlabel('')\n",
    "plt.ylabel('Cantidad');\n",
    "plt.title('Segmentación de canciones rankeadas \\ndentro de las primeras 10 posiciones', size = 14, family = 'serif');"
   ],
   "outputs": [
    {
     "output_type": "display_data",
     "data": {
      "image/png": "[encoded data removed]",
      "text/plain": [
       "<Figure size 432x288 with 1 Axes>"
      ]
     },
     "metadata": {}
    }
   ],
   "metadata": {}
  },
  {
   "cell_type": "code",
   "execution_count": null,
   "source": [],
   "outputs": [],
   "metadata": {}
  }
 ],
 "nbformat": 4,
 "nbformat_minor": 2,
 "metadata": {
  "orig_nbformat": 2,
  "deepnote": {
   "is_reactive": false
  },
  "deepnote_notebook_id": "f1543ac0-e829-4718-ae97-932413ef3746",
  "deepnote_execution_queue": [],
  "language_info": {
   "name": "python",
   "version": "3.8.10",
   "mimetype": "text/x-python",
   "codemirror_mode": {
    "name": "ipython",
    "version": 3
   },
   "pygments_lexer": "ipython3",
   "nbconvert_exporter": "python",
   "file_extension": ".py"
  },
  "kernelspec": {
   "name": "python3",
   "display_name": "Python 3.8.10 64-bit"
  },
  "interpreter": {
   "hash": "31f2aee4e71d21fbe5cf8b01ff0e069b9275f58929596ceb00d14d90e3e16cd6"
  }
 }
}