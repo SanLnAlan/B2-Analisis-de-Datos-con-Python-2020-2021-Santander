{
 "cells": [
  {
   "cell_type": "markdown",
   "source": "## Ejemplo 2: Regex\n\n### 1. Objetivos:\n    - Repasar algunas reglas básicas de las Expresiones Regulares y su aplicación usando pandas\n \n---\n    \n### 2. Desarrollo:",
   "metadata": {
    "cell_id": "00000-1fdd17bd-dfe4-4134-a7e9-69ea3e9e8e2c",
    "deepnote_cell_type": "markdown"
   }
  },
  {
   "cell_type": "markdown",
   "source": "Ya conoces seguramente las Expresiones Regulares. Las expresiones regulares o regex son secuencias de caracteres que definen un patrón de búsqueda. Son una manera de describirle a nuestros programas qué patrones estamos buscando en nuestros datos.\n\nLas expresiones regulares resultan sumamente útiles para trabajar con lenguaje natural. Vamos a repasar algunas de las reglas de las regex y a aprender a aplicarlas usando pandas.\n\nPara esto utilizaremos el dataset 'new_york_times_bestsellers-clean.json' que contiene datos acerca de libros que han sido seleccionados como bestsellers del New York Times.",
   "metadata": {
    "cell_id": "00001-00c6afdf-d7a5-4bb0-85ad-24e384d320fe",
    "deepnote_cell_type": "markdown"
   }
  },
  {
   "cell_type": "code",
   "metadata": {
    "cell_id": "00002-28f7d6cd-e6cc-473e-a222-720fa00df440",
    "deepnote_to_be_reexecuted": false,
    "source_hash": "8fbbf1a2",
    "execution_start": 1632524128423,
    "execution_millis": 11,
    "deepnote_cell_type": "code"
   },
   "source": "import pandas as pd\nimport re",
   "outputs": [],
   "execution_count": null
  },
  {
   "cell_type": "code",
   "metadata": {
    "cell_id": "00003-b36cfde1-37e0-47ce-9f2f-c087ac45ed9b",
    "deepnote_to_be_reexecuted": false,
    "source_hash": "6b5a446a",
    "execution_start": 1632524129318,
    "execution_millis": 128,
    "deepnote_cell_type": "code"
   },
   "source": "df = pd.read_json('../../Datasets/new_york_times_bestsellers-clean.json')\n\ndf.head()",
   "outputs": [
    {
     "output_type": "execute_result",
     "execution_count": 2,
     "data": {
      "application/vnd.deepnote.dataframe.v2+json": {
       "row_count": 5,
       "column_count": 12,
       "columns": [
        {
         "name": "amazon_product_url",
         "dtype": "object",
         "stats": {
          "unique_count": 5,
          "nan_count": 0,
          "categories": [
           {
            "name": "http://www.amazon.com/The-Host-Novel-Stephenie-Meyer/dp/0316218502?tag=NYTBS-20",
            "count": 1
           },
           {
            "name": "http://www.amazon.com/Love-Youre-With-Emily-Giffin/dp/0312348665?tag=NYTBS-20",
            "count": 1
           },
           {
            "name": "3 others",
            "count": 3
           }
          ]
         }
        },
        {
         "name": "author",
         "dtype": "object",
         "stats": {
          "unique_count": 5,
          "nan_count": 0,
          "categories": [
           {
            "name": "Stephenie Meyer",
            "count": 1
           },
           {
            "name": "Emily Giffin",
            "count": 1
           },
           {
            "name": "3 others",
            "count": 3
           }
          ]
         }
        },
        {
         "name": "description",
         "dtype": "object",
         "stats": {
          "unique_count": 5,
          "nan_count": 0,
          "categories": [
           {
            "name": "Aliens have taken control of the minds and bodies of most humans, but one woman won’t surrender.",
            "count": 1
           },
           {
            "name": "A woman's happy marriage is shaken when she encounters an old boyfriend.",
            "count": 1
           },
           {
            "name": "3 others",
            "count": 3
           }
          ]
         }
        },
        {
         "name": "publisher",
         "dtype": "object",
         "stats": {
          "unique_count": 4,
          "nan_count": 0,
          "categories": [
           {
            "name": "Little, Brown",
            "count": 2
           },
           {
            "name": "St. Martin's",
            "count": 1
           },
           {
            "name": "2 others",
            "count": 2
           }
          ]
         }
        },
        {
         "name": "title",
         "dtype": "object",
         "stats": {
          "unique_count": 5,
          "nan_count": 0,
          "categories": [
           {
            "name": "THE HOST",
            "count": 1
           },
           {
            "name": "LOVE THE ONE YOU'RE WITH",
            "count": 1
           },
           {
            "name": "3 others",
            "count": 3
           }
          ]
         }
        },
        {
         "name": "oid",
         "dtype": "object",
         "stats": {
          "unique_count": 5,
          "nan_count": 0,
          "categories": [
           {
            "name": "5b4aa4ead3089013507db18c",
            "count": 1
           },
           {
            "name": "5b4aa4ead3089013507db18d",
            "count": 1
           },
           {
            "name": "3 others",
            "count": 3
           }
          ]
         }
        },
        {
         "name": "bestsellers_date.numberLong",
         "dtype": "int64",
         "stats": {
          "unique_count": 1,
          "nan_count": 0,
          "min": "1211587200000",
          "max": "1211587200000",
          "histogram": [
           {
            "bin_start": 1211587199999.5,
            "bin_end": 1211587199999.6,
            "count": 0
           },
           {
            "bin_start": 1211587199999.6,
            "bin_end": 1211587199999.7,
            "count": 0
           },
           {
            "bin_start": 1211587199999.7,
            "bin_end": 1211587199999.8,
            "count": 0
           },
           {
            "bin_start": 1211587199999.8,
            "bin_end": 1211587199999.9,
            "count": 0
           },
           {
            "bin_start": 1211587199999.9,
            "bin_end": 1211587200000,
            "count": 0
           },
           {
            "bin_start": 1211587200000,
            "bin_end": 1211587200000.1,
            "count": 5
           },
           {
            "bin_start": 1211587200000.1,
            "bin_end": 1211587200000.2,
            "count": 0
           },
           {
            "bin_start": 1211587200000.2,
            "bin_end": 1211587200000.3,
            "count": 0
           },
           {
            "bin_start": 1211587200000.3,
            "bin_end": 1211587200000.4,
            "count": 0
           },
           {
            "bin_start": 1211587200000.4,
            "bin_end": 1211587200000.5,
            "count": 0
           }
          ]
         }
        },
        {
         "name": "published_date.numberLong",
         "dtype": "int64",
         "stats": {
          "unique_count": 1,
          "nan_count": 0,
          "min": "1212883200000",
          "max": "1212883200000",
          "histogram": [
           {
            "bin_start": 1212883199999.5,
            "bin_end": 1212883199999.6,
            "count": 0
           },
           {
            "bin_start": 1212883199999.6,
            "bin_end": 1212883199999.7,
            "count": 0
           },
           {
            "bin_start": 1212883199999.7,
            "bin_end": 1212883199999.8,
            "count": 0
           },
           {
            "bin_start": 1212883199999.8,
            "bin_end": 1212883199999.9,
            "count": 0
           },
           {
            "bin_start": 1212883199999.9,
            "bin_end": 1212883200000,
            "count": 0
           },
           {
            "bin_start": 1212883200000,
            "bin_end": 1212883200000.1,
            "count": 5
           },
           {
            "bin_start": 1212883200000.1,
            "bin_end": 1212883200000.2,
            "count": 0
           },
           {
            "bin_start": 1212883200000.2,
            "bin_end": 1212883200000.3,
            "count": 0
           },
           {
            "bin_start": 1212883200000.3,
            "bin_end": 1212883200000.4,
            "count": 0
           },
           {
            "bin_start": 1212883200000.4,
            "bin_end": 1212883200000.5,
            "count": 0
           }
          ]
         }
        },
        {
         "name": "rank.numberInt",
         "dtype": "int64",
         "stats": {
          "unique_count": 5,
          "nan_count": 0,
          "min": "2",
          "max": "6",
          "histogram": [
           {
            "bin_start": 2,
            "bin_end": 2.4,
            "count": 1
           },
           {
            "bin_start": 2.4,
            "bin_end": 2.8,
            "count": 0
           },
           {
            "bin_start": 2.8,
            "bin_end": 3.2,
            "count": 1
           },
           {
            "bin_start": 3.2,
            "bin_end": 3.6,
            "count": 0
           },
           {
            "bin_start": 3.6,
            "bin_end": 4,
            "count": 0
           },
           {
            "bin_start": 4,
            "bin_end": 4.4,
            "count": 1
           },
           {
            "bin_start": 4.4,
            "bin_end": 4.800000000000001,
            "count": 0
           },
           {
            "bin_start": 4.800000000000001,
            "bin_end": 5.2,
            "count": 1
           },
           {
            "bin_start": 5.2,
            "bin_end": 5.6,
            "count": 0
           },
           {
            "bin_start": 5.6,
            "bin_end": 6,
            "count": 1
           }
          ]
         }
        },
        {
         "name": "rank_last_week.numberInt",
         "dtype": "int64",
         "stats": {
          "unique_count": 4,
          "nan_count": 0,
          "min": "0",
          "max": "3",
          "histogram": [
           {
            "bin_start": 0,
            "bin_end": 0.3,
            "count": 2
           },
           {
            "bin_start": 0.3,
            "bin_end": 0.6,
            "count": 0
           },
           {
            "bin_start": 0.6,
            "bin_end": 0.8999999999999999,
            "count": 0
           },
           {
            "bin_start": 0.8999999999999999,
            "bin_end": 1.2,
            "count": 1
           },
           {
            "bin_start": 1.2,
            "bin_end": 1.5,
            "count": 0
           },
           {
            "bin_start": 1.5,
            "bin_end": 1.7999999999999998,
            "count": 0
           },
           {
            "bin_start": 1.7999999999999998,
            "bin_end": 2.1,
            "count": 1
           },
           {
            "bin_start": 2.1,
            "bin_end": 2.4,
            "count": 0
           },
           {
            "bin_start": 2.4,
            "bin_end": 2.6999999999999997,
            "count": 0
           },
           {
            "bin_start": 2.6999999999999997,
            "bin_end": 3,
            "count": 1
           }
          ]
         }
        },
        {
         "name": "weeks_on_list.numberInt",
         "dtype": "int64",
         "stats": {
          "unique_count": 4,
          "nan_count": 0,
          "min": "1",
          "max": "4",
          "histogram": [
           {
            "bin_start": 1,
            "bin_end": 1.3,
            "count": 2
           },
           {
            "bin_start": 1.3,
            "bin_end": 1.6,
            "count": 0
           },
           {
            "bin_start": 1.6,
            "bin_end": 1.9,
            "count": 0
           },
           {
            "bin_start": 1.9,
            "bin_end": 2.2,
            "count": 1
           },
           {
            "bin_start": 2.2,
            "bin_end": 2.5,
            "count": 0
           },
           {
            "bin_start": 2.5,
            "bin_end": 2.8,
            "count": 0
           },
           {
            "bin_start": 2.8,
            "bin_end": 3.1,
            "count": 1
           },
           {
            "bin_start": 3.1,
            "bin_end": 3.4,
            "count": 0
           },
           {
            "bin_start": 3.4,
            "bin_end": 3.6999999999999997,
            "count": 0
           },
           {
            "bin_start": 3.6999999999999997,
            "bin_end": 4,
            "count": 1
           }
          ]
         }
        },
        {
         "name": "price.numberDouble",
         "dtype": "float64",
         "stats": {
          "unique_count": 4,
          "nan_count": 0,
          "min": "22.95",
          "max": "25.99",
          "histogram": [
           {
            "bin_start": 22.95,
            "bin_end": 23.253999999999998,
            "count": 1
           },
           {
            "bin_start": 23.253999999999998,
            "bin_end": 23.558,
            "count": 0
           },
           {
            "bin_start": 23.558,
            "bin_end": 23.862,
            "count": 0
           },
           {
            "bin_start": 23.862,
            "bin_end": 24.166,
            "count": 0
           },
           {
            "bin_start": 24.166,
            "bin_end": 24.47,
            "count": 0
           },
           {
            "bin_start": 24.47,
            "bin_end": 24.773999999999997,
            "count": 0
           },
           {
            "bin_start": 24.773999999999997,
            "bin_end": 25.078,
            "count": 3
           },
           {
            "bin_start": 25.078,
            "bin_end": 25.381999999999998,
            "count": 0
           },
           {
            "bin_start": 25.381999999999998,
            "bin_end": 25.686,
            "count": 0
           },
           {
            "bin_start": 25.686,
            "bin_end": 25.99,
            "count": 1
           }
          ]
         }
        },
        {
         "name": "_deepnote_index_column",
         "dtype": "int64"
        }
       ],
       "rows_top": [
        {
         "amazon_product_url": "http://www.amazon.com/The-Host-Novel-Stephenie-Meyer/dp/0316218502?tag=NYTBS-20",
         "author": "Stephenie Meyer",
         "description": "Aliens have taken control of the minds and bodies of most humans, but one woman won’t surrender.",
         "publisher": "Little, Brown",
         "title": "THE HOST",
         "oid": "5b4aa4ead3089013507db18c",
         "bestsellers_date.numberLong": 1211587200000,
         "published_date.numberLong": 1212883200000,
         "rank.numberInt": 2,
         "rank_last_week.numberInt": 1,
         "weeks_on_list.numberInt": 3,
         "price.numberDouble": 25.99,
         "_deepnote_index_column": 0
        },
        {
         "amazon_product_url": "http://www.amazon.com/Love-Youre-With-Emily-Giffin/dp/0312348665?tag=NYTBS-20",
         "author": "Emily Giffin",
         "description": "A woman's happy marriage is shaken when she encounters an old boyfriend.",
         "publisher": "St. Martin's",
         "title": "LOVE THE ONE YOU'RE WITH",
         "oid": "5b4aa4ead3089013507db18d",
         "bestsellers_date.numberLong": 1211587200000,
         "published_date.numberLong": 1212883200000,
         "rank.numberInt": 3,
         "rank_last_week.numberInt": 2,
         "weeks_on_list.numberInt": 2,
         "price.numberDouble": 24.95,
         "_deepnote_index_column": 1
        },
        {
         "amazon_product_url": "http://www.amazon.com/The-Front-Garano-Patricia-Cornwell-ebook/dp/B0017T0C9M?tag=NYTBS-20",
         "author": "Patricia Cornwell",
         "description": "A Massachusetts state investigator and his team from \"At Risk\" confront a rogue association of muni…",
         "publisher": "Putnam",
         "title": "THE FRONT",
         "oid": "5b4aa4ead3089013507db18e",
         "bestsellers_date.numberLong": 1211587200000,
         "published_date.numberLong": 1212883200000,
         "rank.numberInt": 4,
         "rank_last_week.numberInt": 0,
         "weeks_on_list.numberInt": 1,
         "price.numberDouble": 22.95,
         "_deepnote_index_column": 2
        },
        {
         "amazon_product_url": "http://www.amazon.com/Snuff-Chuck-Palahniuk/dp/0385517882?tag=NYTBS-20",
         "author": "Chuck Palahniuk",
         "description": "An aging porn queens aims to cap her career by having sex on film with 600 men in one day.",
         "publisher": "Doubleday",
         "title": "SNUFF",
         "oid": "5b4aa4ead3089013507db18f",
         "bestsellers_date.numberLong": 1211587200000,
         "published_date.numberLong": 1212883200000,
         "rank.numberInt": 5,
         "rank_last_week.numberInt": 0,
         "weeks_on_list.numberInt": 1,
         "price.numberDouble": 24.95,
         "_deepnote_index_column": 3
        },
        {
         "amazon_product_url": "http://www.amazon.com/Sundays-at-Tiffanys-James-Patterson/dp/0446199443?tag=NYTBS-20",
         "author": "James Patterson and Gabrielle Charbonnet",
         "description": "A woman finds an unexpected love",
         "publisher": "Little, Brown",
         "title": "SUNDAYS AT TIFFANY’S",
         "oid": "5b4aa4ead3089013507db190",
         "bestsellers_date.numberLong": 1211587200000,
         "published_date.numberLong": 1212883200000,
         "rank.numberInt": 6,
         "rank_last_week.numberInt": 3,
         "weeks_on_list.numberInt": 4,
         "price.numberDouble": 24.99,
         "_deepnote_index_column": 4
        }
       ],
       "rows_bottom": null
      },
      "text/plain": "                                  amazon_product_url  \\\n0  http://www.amazon.com/The-Host-Novel-Stephenie...   \n1  http://www.amazon.com/Love-Youre-With-Emily-Gi...   \n2  http://www.amazon.com/The-Front-Garano-Patrici...   \n3  http://www.amazon.com/Snuff-Chuck-Palahniuk/dp...   \n4  http://www.amazon.com/Sundays-at-Tiffanys-Jame...   \n\n                                     author  \\\n0                           Stephenie Meyer   \n1                              Emily Giffin   \n2                         Patricia Cornwell   \n3                           Chuck Palahniuk   \n4  James Patterson and Gabrielle Charbonnet   \n\n                                         description      publisher  \\\n0  Aliens have taken control of the minds and bod...  Little, Brown   \n1  A woman's happy marriage is shaken when she en...   St. Martin's   \n2  A Massachusetts state investigator and his tea...         Putnam   \n3  An aging porn queens aims to cap her career by...      Doubleday   \n4                   A woman finds an unexpected love  Little, Brown   \n\n                      title                       oid  \\\n0                  THE HOST  5b4aa4ead3089013507db18c   \n1  LOVE THE ONE YOU'RE WITH  5b4aa4ead3089013507db18d   \n2                 THE FRONT  5b4aa4ead3089013507db18e   \n3                     SNUFF  5b4aa4ead3089013507db18f   \n4      SUNDAYS AT TIFFANY’S  5b4aa4ead3089013507db190   \n\n   bestsellers_date.numberLong  published_date.numberLong  rank.numberInt  \\\n0                1211587200000              1212883200000               2   \n1                1211587200000              1212883200000               3   \n2                1211587200000              1212883200000               4   \n3                1211587200000              1212883200000               5   \n4                1211587200000              1212883200000               6   \n\n   rank_last_week.numberInt  weeks_on_list.numberInt  price.numberDouble  \n0                         1                        3               25.99  \n1                         2                        2               24.95  \n2                         0                        1               22.95  \n3                         0                        1               24.95  \n4                         3                        4               24.99  ",
      "text/html": "<div>\n<style scoped>\n    .dataframe tbody tr th:only-of-type {\n        vertical-align: middle;\n    }\n\n    .dataframe tbody tr th {\n        vertical-align: top;\n    }\n\n    .dataframe thead th {\n        text-align: right;\n    }\n</style>\n<table border=\"1\" class=\"dataframe\">\n  <thead>\n    <tr style=\"text-align: right;\">\n      <th></th>\n      <th>amazon_product_url</th>\n      <th>author</th>\n      <th>description</th>\n      <th>publisher</th>\n      <th>title</th>\n      <th>oid</th>\n      <th>bestsellers_date.numberLong</th>\n      <th>published_date.numberLong</th>\n      <th>rank.numberInt</th>\n      <th>rank_last_week.numberInt</th>\n      <th>weeks_on_list.numberInt</th>\n      <th>price.numberDouble</th>\n    </tr>\n  </thead>\n  <tbody>\n    <tr>\n      <th>0</th>\n      <td>http://www.amazon.com/The-Host-Novel-Stephenie...</td>\n      <td>Stephenie Meyer</td>\n      <td>Aliens have taken control of the minds and bod...</td>\n      <td>Little, Brown</td>\n      <td>THE HOST</td>\n      <td>5b4aa4ead3089013507db18c</td>\n      <td>1211587200000</td>\n      <td>1212883200000</td>\n      <td>2</td>\n      <td>1</td>\n      <td>3</td>\n      <td>25.99</td>\n    </tr>\n    <tr>\n      <th>1</th>\n      <td>http://www.amazon.com/Love-Youre-With-Emily-Gi...</td>\n      <td>Emily Giffin</td>\n      <td>A woman's happy marriage is shaken when she en...</td>\n      <td>St. Martin's</td>\n      <td>LOVE THE ONE YOU'RE WITH</td>\n      <td>5b4aa4ead3089013507db18d</td>\n      <td>1211587200000</td>\n      <td>1212883200000</td>\n      <td>3</td>\n      <td>2</td>\n      <td>2</td>\n      <td>24.95</td>\n    </tr>\n    <tr>\n      <th>2</th>\n      <td>http://www.amazon.com/The-Front-Garano-Patrici...</td>\n      <td>Patricia Cornwell</td>\n      <td>A Massachusetts state investigator and his tea...</td>\n      <td>Putnam</td>\n      <td>THE FRONT</td>\n      <td>5b4aa4ead3089013507db18e</td>\n      <td>1211587200000</td>\n      <td>1212883200000</td>\n      <td>4</td>\n      <td>0</td>\n      <td>1</td>\n      <td>22.95</td>\n    </tr>\n    <tr>\n      <th>3</th>\n      <td>http://www.amazon.com/Snuff-Chuck-Palahniuk/dp...</td>\n      <td>Chuck Palahniuk</td>\n      <td>An aging porn queens aims to cap her career by...</td>\n      <td>Doubleday</td>\n      <td>SNUFF</td>\n      <td>5b4aa4ead3089013507db18f</td>\n      <td>1211587200000</td>\n      <td>1212883200000</td>\n      <td>5</td>\n      <td>0</td>\n      <td>1</td>\n      <td>24.95</td>\n    </tr>\n    <tr>\n      <th>4</th>\n      <td>http://www.amazon.com/Sundays-at-Tiffanys-Jame...</td>\n      <td>James Patterson and Gabrielle Charbonnet</td>\n      <td>A woman finds an unexpected love</td>\n      <td>Little, Brown</td>\n      <td>SUNDAYS AT TIFFANY’S</td>\n      <td>5b4aa4ead3089013507db190</td>\n      <td>1211587200000</td>\n      <td>1212883200000</td>\n      <td>6</td>\n      <td>3</td>\n      <td>4</td>\n      <td>24.99</td>\n    </tr>\n  </tbody>\n</table>\n</div>"
     },
     "metadata": {}
    }
   ],
   "execution_count": null
  },
  {
   "cell_type": "code",
   "metadata": {
    "cell_id": "00004-9b2e84ce-c3e0-43dd-b5f1-a9da0523620a",
    "deepnote_to_be_reexecuted": false,
    "source_hash": "dddaa795",
    "execution_start": 1632524132896,
    "execution_millis": 75,
    "deepnote_cell_type": "code"
   },
   "source": "grouped_by_title = df.groupby('title')['description'].max()\n\ngrouped_by_title",
   "outputs": [
    {
     "output_type": "execute_result",
     "execution_count": 3,
     "data": {
      "text/plain": "title\n10TH ANNIVERSARY            Detective Lindsay Boxer and the Women’s Murder...\n11TH HOUR                   Detective Lindsay Boxer and the Women’s Murder...\n1225 CHRISTMAS TREE LANE    Puppies and an ex-husband loom large in the la...\n1356                        In the fourth book of the Grail Quest series, ...\n1Q84                        In 1980s Tokyo, a woman who punishes perpetrat...\n                                                  ...                        \nZ                           A novel based on the lives of Zelda and F. Sco...\nZERO DAY                       A military investigator uncovers a conspiracy.\nZERO HISTORY                Several characters from “Spook Country” return...\nZONE ONE                      Fighting zombies in post-apocalyptic Manhattan.\nZOO                         A young biologist warns world leaders about th...\nName: description, Length: 754, dtype: object"
     },
     "metadata": {}
    }
   ],
   "execution_count": null
  },
  {
   "cell_type": "markdown",
   "source": "Hay varias entradas para los mismos libros, así que los he agrupado por título. En la columna 'description' tenemos descripciones de los libros en nuestro dataset. Resulta un conjunto de datos interesante, puesto que podemos entender qué tipo de libros son los que se convierten en bestsellers del New York Times.",
   "metadata": {
    "cell_id": "00005-aeb724ae-3361-4f2e-8e92-77a45733e979",
    "deepnote_cell_type": "markdown"
   }
  },
  {
   "cell_type": "markdown",
   "source": "### Patrones de Regex\n\nVamos a utilizar este dataset para repasar algunas maneras de definir patrones usando regex.",
   "metadata": {
    "cell_id": "00006-49613b2c-505b-4a6f-bd72-f9be8d5aed8b",
    "deepnote_cell_type": "markdown"
   }
  },
  {
   "cell_type": "code",
   "metadata": {
    "cell_id": "00007-801d51c4-fa0d-4093-9bf9-d2206e6f47a6",
    "deepnote_to_be_reexecuted": false,
    "source_hash": "ef151b0b",
    "execution_start": 1632277123574,
    "execution_millis": 107,
    "deepnote_cell_type": "code"
   },
   "source": "# Buscar una palabra en un texto\n\ngrouped_by_title[grouped_by_title.str.contains('woman', case=False)]",
   "execution_count": null,
   "outputs": [
    {
     "output_type": "execute_result",
     "execution_count": 5,
     "data": {
      "text/plain": "title\n1Q84                      In 1980s Tokyo, a woman who punishes perpetrat...\nA CEDAR COVE CHRISTMAS    A pregnant woman shows up in Cedar Cove on Chr...\nA CHANGE IN ALTITUDE      A young woman’s life is transformed by a mount...\nA TURN IN THE ROAD        A middle-age woman takes a cross-country road ...\nAN OBJECT OF BEAUTY       A young, beautiful and ambitious woman ruthles...\n                                                ...                        \nTHIS BODY OF DEATH        Detective Thomas Lynley becomes involved when ...\nTHOSE IN PERIL            A private security agent battles pirates who h...\nWHAT DOESN'T KILL YOU     A Hong Kong woman who works for the C.I.A. sea...\nWHERE WE BELONG           A woman’s successful life is disrupted by the ...\nWHILE MY SISTER SLEEPS    A woman makes discoveries about her sister and...\nName: description, Length: 74, dtype: object"
     },
     "metadata": {}
    }
   ]
  },
  {
   "cell_type": "code",
   "metadata": {
    "cell_id": "00008-2c921fa9-efbb-4073-90ae-90196f5d0492",
    "deepnote_cell_type": "code"
   },
   "source": "# Buscar la aparición de números del 0 al 9\n\ngrouped_by_title[grouped_by_title.str.contains('[0-9]')]",
   "execution_count": null,
   "outputs": [
    {
     "data": {
      "text/plain": "title\n1Q84                          In 1980s Tokyo, a woman who punishes perpetrat...\n2030                          In 2030, the young resent the elderly for drai...\nA LESSON IN SECRETS           In the summer of 1932, Maisie Dobbs’s first as...\nA MEMORY OF LIGHT             The 14th and final novel in the Wheel of Time ...\nA MERCY                       In 17th-­century America, a slave mother urges...\n                                                    ...                        \nWAKING THE WITCH                 Book 11 of the Women of the Otherworld series.\nWHERE WE BELONG               A woman’s successful life is disrupted by the ...\nWHERE'D YOU GO, BERNADETTE    A renowned and reclusive Seattle architect dis...\nWHITE WITCH, BLACK CURSE      A witch who is also a bounty hunter avenges he...\nWORST CASE                    A New York detective raising 10 children alone...\nName: description, Length: 123, dtype: object"
     },
     "execution_count": 57,
     "metadata": {},
     "output_type": "execute_result"
    }
   ]
  },
  {
   "cell_type": "code",
   "metadata": {
    "cell_id": "00009-0de8af7c-b4cc-4dae-8e5b-62babc0e026b",
    "deepnote_cell_type": "code"
   },
   "source": "# Uno o más números seguidos por una o más letras\n\ngrouped_by_title[grouped_by_title.str.contains('[0-9]+[a-z]+', case=False)]",
   "execution_count": null,
   "outputs": [
    {
     "data": {
      "text/plain": "title\n1Q84                                        In 1980s Tokyo, a woman who punishes perpetrat...\nA MEMORY OF LIGHT                           The 14th and final novel in the Wheel of Time ...\nA MERCY                                     In 17th-­century America, a slave mother urges...\nA MIGHTY FORTRESS                           Book 4 of the Safehold series, which translate...\nANGEL TIME                                  \\nA contract killer goes back to 13th-century ...\nANOTHER PIECE OF MY HEART                   A woman in her late 30s marries the man of her...\nARCTIC DRIFT                                In his 20th adventure, Dirk Pitt searches for ...\nBONES ARE FOREVER                           The forensic anthropologist Temperance Brennan...\nBREAKING POINT                              The 13th novel featuring Joe Pickett, a Wyomin...\nDAMAGE CONTROL                              An elderly couple’s suicide-by-accident in the...\nDARK STORM                                  In the 23rd book in the Dark series, the Carpa...\nDAYS OF GOLD                                In the 18th century, Edilean and a Scottish la...\nDOWN THE DARKEST ROAD                       The residents of a California town in the mid-...\nFLIRT                                       Anita Blake, vampire hunter, and the males in ...\nHARDBALL                                    Searching for an old woman’s missing son, V. I...\nISLAND BENEATH THE SEA                      The story of a mulatto slave in late-18th-cent...\nPIRATE LATITUDES                            In the 17th-century Caribbean, a British pirat...\nPORT MORTUARY                               In the 18th Kay Scarpetta novel, the forensic ...\nPRAYERS FOR SALE                            A friendship between two women in a Colorado m...\nRED MIST                                    The chief medical examiner Kay Scarpetta, dire...\nRULES OF CIVILITY                           A chance encounter and its consequences provid...\nSACRÉ BLEU                                  Vincent van Gogh’s friends in the 19th-century...\nSOUTH OF BROAD                              An unlikely group’s friendship from the ’60s t...\nSTORM PREY                                  Lucas Davenport’s wife is a witness to a botch...\nSTRATEGIC MOVES                             In the 19th Stone Barrington novel, the New Yo...\nSUMMER RENTAL                               Three friends in their mid-30s spend a month o...\nTEA TIME FOR THE TRADITIONALLY BUILT        The 10th novel in the No. 1 Ladies’ Detective ...\nTHE BONE BED                                A paleontologist’s disappearance in Canada tur...\nTHE DOUBLE COMFORT SAFARI CLUB              The 11th novel in the No. 1 Ladies’ Detective ...\nTHE HOUSE I LOVED                           A widow defends her house, which is slated to ...\nTHE INTERESTINGS                            Six friends meet in the 1970s at a summer arts...\nTHE LIMPOPO ACADEMY OF PRIVATE DETECTION    The 13th novel in the No. 1 Ladies’ Detective ...\nTHE PIANO TEACHER                           An Englishwoman in 1950s Hong Kong discovers d...\nTHE POSTMISTRESS                            \\n\\nOrdinary life in a Massachusetts small tow...\nTHE PRISONER OF HEAVEN                      In 1950s Barcelona, two friends pursue a  secr...\nTHE ROPE                                    In the 17th Anna Pigeon mystery, Barr returns ...\nTHE SATURDAY BIG TENT WEDDING PARTY         The 12th novel in the No. 1 Ladies’ Detective ...\nTHE SENSE OF AN ENDING                      In this Man Booker Prize-winning novel, an une...\nTHE SHOEMAKER’S WIFE                        Childhood sweethearts in turn-of-the-20th-cent...\nTHE SOUND OF BROKEN GLASS                   Detectives Gemma Jones and her husband, Duncan...\nTHE STORM                                                          The 10th NUMA Files novel.\nName: description, dtype: object"
     },
     "execution_count": 63,
     "metadata": {},
     "output_type": "execute_result"
    }
   ]
  },
  {
   "cell_type": "code",
   "metadata": {
    "cell_id": "00010-86f6913d-f031-4a35-b870-cec10ac94b0f",
    "deepnote_cell_type": "code"
   },
   "source": "# Uno o más números seguidos por las letras 'th'\n\ngrouped_by_title[grouped_by_title.str.contains('[0-9]th', case=False)]",
   "execution_count": null,
   "outputs": [
    {
     "data": {
      "text/plain": "title\nA MEMORY OF LIGHT                           The 14th and final novel in the Wheel of Time ...\nA MERCY                                     In 17th-­century America, a slave mother urges...\nA MIGHTY FORTRESS                           Book 4 of the Safehold series, which translate...\nANGEL TIME                                  \\nA contract killer goes back to 13th-century ...\nARCTIC DRIFT                                In his 20th adventure, Dirk Pitt searches for ...\nBONES ARE FOREVER                           The forensic anthropologist Temperance Brennan...\nBREAKING POINT                              The 13th novel featuring Joe Pickett, a Wyomin...\nDAMAGE CONTROL                              An elderly couple’s suicide-by-accident in the...\nDAYS OF GOLD                                In the 18th century, Edilean and a Scottish la...\nFLIRT                                       Anita Blake, vampire hunter, and the males in ...\nISLAND BENEATH THE SEA                      The story of a mulatto slave in late-18th-cent...\nPIRATE LATITUDES                            In the 17th-century Caribbean, a British pirat...\nPORT MORTUARY                               In the 18th Kay Scarpetta novel, the forensic ...\nRED MIST                                    The chief medical examiner Kay Scarpetta, dire...\nSACRÉ BLEU                                  Vincent van Gogh’s friends in the 19th-century...\nSTORM PREY                                  Lucas Davenport’s wife is a witness to a botch...\nSTRATEGIC MOVES                             In the 19th Stone Barrington novel, the New Yo...\nTEA TIME FOR THE TRADITIONALLY BUILT        The 10th novel in the No. 1 Ladies’ Detective ...\nTHE BONE BED                                A paleontologist’s disappearance in Canada tur...\nTHE DOUBLE COMFORT SAFARI CLUB              The 11th novel in the No. 1 Ladies’ Detective ...\nTHE LIMPOPO ACADEMY OF PRIVATE DETECTION    The 13th novel in the No. 1 Ladies’ Detective ...\nTHE ROPE                                    In the 17th Anna Pigeon mystery, Barr returns ...\nTHE SATURDAY BIG TENT WEDDING PARTY         The 12th novel in the No. 1 Ladies’ Detective ...\nTHE SHOEMAKER’S WIFE                        Childhood sweethearts in turn-of-the-20th-cent...\nTHE SOUND OF BROKEN GLASS                   Detectives Gemma Jones and her husband, Duncan...\nTHE STORM                                                          The 10th NUMA Files novel.\nName: description, dtype: object"
     },
     "execution_count": 66,
     "metadata": {},
     "output_type": "execute_result"
    }
   ]
  },
  {
   "cell_type": "code",
   "metadata": {
    "cell_id": "00011-50a25eaa-2563-412d-8e1b-bebb31ef1b08",
    "deepnote_cell_type": "code"
   },
   "source": "# Textos que comiencen con la palabra 'After'\n\ngrouped_by_title[grouped_by_title.str.contains('^After', case=False)]",
   "execution_count": null,
   "outputs": [
    {
     "data": {
      "text/plain": "title\nDON’T BLINK                        After a gruesome murder in a New York steak ho...\nFATAL ERROR                        After the murder of a cyber-sociopath, Ali Rey...\nFOUNDERS                           After society collapses, America’s fate is in ...\nRAPTURE                            After a man stumbles in front of the reporter ...\nSTANDING IN ANOTHER MAN'S GRAVE    After retiring from the Edinburgh police force...\nTHE DOG STARS                      After a flu pandemic kills most of the populat...\nTHE MAGICIANS                      After sorcery college, a young man lives the h...\nWINTER GARDEN                      After their father’s death, two sisters must c...\nName: description, dtype: object"
     },
     "execution_count": 70,
     "metadata": {},
     "output_type": "execute_result"
    }
   ]
  },
  {
   "cell_type": "code",
   "metadata": {
    "cell_id": "00012-91a0cfef-8856-43fd-8a46-d0694f240810",
    "deepnote_cell_type": "code"
   },
   "source": "# Textos que terminen con la palabra 'London' y un punto (.)\n\ngrouped_by_title[grouped_by_title.str.contains('London.$', case=False)]",
   "execution_count": null,
   "outputs": [
    {
     "data": {
      "text/plain": "title\nA DEVIL IS WAITING        Sean Dillon helps to foil a plot to assassinat...\nA WALLFLOWER CHRISTMAS                     Matchmaking in Victorian London.\nHER FEARFUL SYMMETRY      A woman haunts the flat she’s left to her twin...\nName: description, dtype: object"
     },
     "execution_count": 102,
     "metadata": {},
     "output_type": "execute_result"
    }
   ]
  },
  {
   "cell_type": "code",
   "metadata": {
    "cell_id": "00013-17ae4794-48aa-4be5-bf02-4ca1052f57f5",
    "deepnote_cell_type": "code"
   },
   "source": "# Textos que contengan la palabra 'cat' o 'dog'\n\ngrouped_by_title[grouped_by_title.str.contains('\\scat\\s|\\sdog\\s', case=False)]",
   "execution_count": null,
   "outputs": [
    {
     "data": {
      "text/plain": "title\nA DOG’S JOURNEY    In a sequel to “A Dog’s Purpose,” Buddy the do...\nDARK SUMMER        A veterinarian cares for an injured dog with a...\nName: description, dtype: object"
     },
     "execution_count": 107,
     "metadata": {},
     "output_type": "execute_result"
    }
   ]
  },
  {
   "cell_type": "code",
   "metadata": {
    "cell_id": "00014-ea9149c5-6750-41cc-aade-686cb172b192",
    "deepnote_cell_type": "code"
   },
   "source": "# Textos que contengan las palabras 'man' y/o 'woman' en singular y plural\n\ngrouped_by_title[grouped_by_title.str.contains('wom[ae]n|m[ae]n', case=False)]",
   "execution_count": null,
   "outputs": [
    {
     "data": {
      "text/plain": "title\n10TH ANNIVERSARY            Detective Lindsay Boxer and the Women’s Murder...\n11TH HOUR                   Detective Lindsay Boxer and the Women’s Murder...\n1225 CHRISTMAS TREE LANE    Puppies and an ex-husband loom large in the la...\n1Q84                        In 1980s Tokyo, a woman who punishes perpetrat...\nA CEDAR COVE CHRISTMAS      A pregnant woman shows up in Cedar Cove on Chr...\n                                                  ...                        \nWHERE WE BELONG             A woman’s successful life is disrupted by the ...\nWHILE MY SISTER SLEEPS      A woman makes discoveries about her sister and...\nWICKED APPETITE             A dangerous man needs Elizabeth Tucker’s help ...\nZERO HISTORY                Several characters from “Spook Country” return...\nZONE ONE                      Fighting zombies in post-apocalyptic Manhattan.\nName: description, Length: 197, dtype: object"
     },
     "execution_count": 117,
     "metadata": {},
     "output_type": "execute_result"
    }
   ]
  },
  {
   "cell_type": "code",
   "metadata": {
    "cell_id": "00015-bface644-d210-4770-ac4d-93e7d6937840",
    "deepnote_cell_type": "code"
   },
   "source": "# Podemos también reemplazar todos los caracteres que no sean ni alfanuméricos ni espacios o tabs por espacios vacíos\n# Esto nos va a ser muy útil más adelante\n\ngrouped_by_title.str.replace('[^\\w\\s]', '')",
   "execution_count": null,
   "outputs": [
    {
     "data": {
      "text/plain": "title\n10TH ANNIVERSARY            Detective Lindsay Boxer and the Womens Murder ...\n11TH HOUR                   Detective Lindsay Boxer and the Womens Murder ...\n1225 CHRISTMAS TREE LANE    Puppies and an exhusband loom large in the las...\n1356                        In the fourth book of the Grail Quest series t...\n1Q84                        In 1980s Tokyo a woman who punishes perpetrato...\n                                                  ...                        \nZ                           A novel based on the lives of Zelda and F Scot...\nZERO DAY                        A military investigator uncovers a conspiracy\nZERO HISTORY                Several characters from Spook Country return t...\nZONE ONE                        Fighting zombies in postapocalyptic Manhattan\nZOO                         A young biologist warns world leaders about th...\nName: description, Length: 754, dtype: object"
     },
     "execution_count": 126,
     "metadata": {},
     "output_type": "execute_result"
    }
   ]
  },
  {
   "cell_type": "code",
   "metadata": {
    "cell_id": "00016-2ec149dc-128c-4e5d-9b1a-93190a28b592",
    "deepnote_cell_type": "code"
   },
   "source": "# Podemos también reemplazar todos los caracteres numéricos por espacios vacíos\n\ngrouped_by_title.str.replace('\\d','')",
   "execution_count": null,
   "outputs": [
    {
     "data": {
      "text/plain": "title\n10TH ANNIVERSARY            Detective Lindsay Boxer and the Women’s Murder...\n11TH HOUR                   Detective Lindsay Boxer and the Women’s Murder...\n1225 CHRISTMAS TREE LANE    Puppies and an ex-husband loom large in the la...\n1356                        In the fourth book of the Grail Quest series, ...\n1Q84                        In s Tokyo, a woman who punishes perpetrators ...\n                                                  ...                        \nZ                           A novel based on the lives of Zelda and F. Sco...\nZERO DAY                       A military investigator uncovers a conspiracy.\nZERO HISTORY                Several characters from “Spook Country” return...\nZONE ONE                      Fighting zombies in post-apocalyptic Manhattan.\nZOO                         A young biologist warns world leaders about th...\nName: description, Length: 754, dtype: object"
     },
     "execution_count": 127,
     "metadata": {},
     "output_type": "execute_result"
    }
   ]
  },
  {
   "cell_type": "code",
   "metadata": {
    "cell_id": "00017-74145738-879c-4873-8c8c-0b624f88bd75",
    "deepnote_cell_type": "code"
   },
   "source": "",
   "execution_count": null,
   "outputs": []
  },
  {
   "cell_type": "markdown",
   "source": "<a style='text-decoration:none;line-height:16px;display:flex;color:#5B5B62;padding:10px;justify-content:end;' href='https://deepnote.com?utm_source=created-in-deepnote-cell&projectId=f8149d1c-e6b1-497a-9109-f01641a8231a' target=\"_blank\">\n<img alt='Created in deepnote.com' style='display:inline;max-height:16px;margin:0px;margin-right:7.5px;' src='data:image/svg+xml;base64,PD94bWwgdmVyc2lvbj0iMS4wIiBlbmNvZGluZz0iVVRGLTgiPz4KPHN2ZyB3aWR0aD0iODBweCIgaGVpZ2h0PSI4MHB4IiB2aWV3Qm94PSIwIDAgODAgODAiIHZlcnNpb249IjEuMSIgeG1sbnM9Imh0dHA6Ly93d3cudzMub3JnLzIwMDAvc3ZnIiB4bWxuczp4bGluaz0iaHR0cDovL3d3dy53My5vcmcvMTk5OS94bGluayI+CiAgICA8IS0tIEdlbmVyYXRvcjogU2tldGNoIDU0LjEgKDc2NDkwKSAtIGh0dHBzOi8vc2tldGNoYXBwLmNvbSAtLT4KICAgIDx0aXRsZT5Hcm91cCAzPC90aXRsZT4KICAgIDxkZXNjPkNyZWF0ZWQgd2l0aCBTa2V0Y2guPC9kZXNjPgogICAgPGcgaWQ9IkxhbmRpbmciIHN0cm9rZT0ibm9uZSIgc3Ryb2tlLXdpZHRoPSIxIiBmaWxsPSJub25lIiBmaWxsLXJ1bGU9ImV2ZW5vZGQiPgogICAgICAgIDxnIGlkPSJBcnRib2FyZCIgdHJhbnNmb3JtPSJ0cmFuc2xhdGUoLTEyMzUuMDAwMDAwLCAtNzkuMDAwMDAwKSI+CiAgICAgICAgICAgIDxnIGlkPSJHcm91cC0zIiB0cmFuc2Zvcm09InRyYW5zbGF0ZSgxMjM1LjAwMDAwMCwgNzkuMDAwMDAwKSI+CiAgICAgICAgICAgICAgICA8cG9seWdvbiBpZD0iUGF0aC0yMCIgZmlsbD0iIzAyNjVCNCIgcG9pbnRzPSIyLjM3NjIzNzYyIDgwIDM4LjA0NzY2NjcgODAgNTcuODIxNzgyMiA3My44MDU3NTkyIDU3LjgyMTc4MjIgMzIuNzU5MjczOSAzOS4xNDAyMjc4IDMxLjY4MzE2ODMiPjwvcG9seWdvbj4KICAgICAgICAgICAgICAgIDxwYXRoIGQ9Ik0zNS4wMDc3MTgsODAgQzQyLjkwNjIwMDcsNzYuNDU0OTM1OCA0Ny41NjQ5MTY3LDcxLjU0MjI2NzEgNDguOTgzODY2LDY1LjI2MTk5MzkgQzUxLjExMjI4OTksNTUuODQxNTg0MiA0MS42NzcxNzk1LDQ5LjIxMjIyODQgMjUuNjIzOTg0Niw0OS4yMTIyMjg0IEMyNS40ODQ5Mjg5LDQ5LjEyNjg0NDggMjkuODI2MTI5Niw0My4yODM4MjQ4IDM4LjY0NzU4NjksMzEuNjgzMTY4MyBMNzIuODcxMjg3MSwzMi41NTQ0MjUgTDY1LjI4MDk3Myw2Ny42NzYzNDIxIEw1MS4xMTIyODk5LDc3LjM3NjE0NCBMMzUuMDA3NzE4LDgwIFoiIGlkPSJQYXRoLTIyIiBmaWxsPSIjMDAyODY4Ij48L3BhdGg+CiAgICAgICAgICAgICAgICA8cGF0aCBkPSJNMCwzNy43MzA0NDA1IEwyNy4xMTQ1MzcsMC4yNTcxMTE0MzYgQzYyLjM3MTUxMjMsLTEuOTkwNzE3MDEgODAsMTAuNTAwMzkyNyA4MCwzNy43MzA0NDA1IEM4MCw2NC45NjA0ODgyIDY0Ljc3NjUwMzgsNzkuMDUwMzQxNCAzNC4zMjk1MTEzLDgwIEM0Ny4wNTUzNDg5LDc3LjU2NzA4MDggNTMuNDE4MjY3Nyw3MC4zMTM2MTAzIDUzLjQxODI2NzcsNTguMjM5NTg4NSBDNTMuNDE4MjY3Nyw0MC4xMjg1NTU3IDM2LjMwMzk1NDQsMzcuNzMwNDQwNSAyNS4yMjc0MTcsMzcuNzMwNDQwNSBDMTcuODQzMDU4NiwzNy43MzA0NDA1IDkuNDMzOTE5NjYsMzcuNzMwNDQwNSAwLDM3LjczMDQ0MDUgWiIgaWQ9IlBhdGgtMTkiIGZpbGw9IiMzNzkzRUYiPjwvcGF0aD4KICAgICAgICAgICAgPC9nPgogICAgICAgIDwvZz4KICAgIDwvZz4KPC9zdmc+' > </img>\nCreated in <span style='font-weight:600;margin-left:4px;'>Deepnote</span></a>",
   "metadata": {
    "tags": [],
    "created_in_deepnote_cell": true,
    "deepnote_cell_type": "markdown"
   }
  }
 ],
 "nbformat": 4,
 "nbformat_minor": 4,
 "metadata": {
  "kernelspec": {
   "display_name": "Python (data_science)",
   "language": "python",
   "name": "data_science"
  },
  "language_info": {
   "codemirror_mode": {
    "name": "ipython",
    "version": 3
   },
   "file_extension": ".py",
   "mimetype": "text/x-python",
   "name": "python",
   "nbconvert_exporter": "python",
   "pygments_lexer": "ipython3",
   "version": "3.8.5"
  },
  "deepnote_notebook_id": "a9c10859-4c76-4001-bc51-cd82f8224976",
  "deepnote": {},
  "deepnote_execution_queue": []
 }
}