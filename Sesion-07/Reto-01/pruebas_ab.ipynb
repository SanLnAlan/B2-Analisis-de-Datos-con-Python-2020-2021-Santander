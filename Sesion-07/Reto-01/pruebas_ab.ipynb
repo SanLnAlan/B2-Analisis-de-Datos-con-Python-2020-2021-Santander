{
 "cells": [
  {
   "cell_type": "markdown",
   "source": "## Reto 1: Pruebas A/B\n\n### 1. Objetivos:\n    - Practicar evaluar los resultados de una Prueba A/B\n \n---\n    \n### 2. Desarrollo:",
   "metadata": {
    "cell_id": "00000-a88ccc22-c2b9-456e-8063-0f1db637c91a",
    "deepnote_cell_type": "markdown"
   }
  },
  {
   "cell_type": "markdown",
   "source": "### a) Evaluando una prueba A/B de flujo de ventas\n\nEl archivo 'ab_test-sales_pipeline-2' tiene datos muy similares a los que vimos en el último ejemplo. Estamos evaluando dos flujos de ventas distintos: A y B. Cada vez que alguien compró el producto gracias a uno de los dos flujos, se registró como un `1` en la columna `conversion` y un `0` en la columna `no conversion`.\n\nEvalúa la prueba A/B para saber si los resultados obtenidos son estadísticamente significativos. El Reto consiste en los siguientes pasos:\n\n1. Primero cuantifica cuál de los flujos de ventas fue más efectivo y en qué proporción.\n2. Después aplica el test de permutación:\n    1. Combina los resultados de ambos grupos en un mismo conjunto de datos\n    2. Revuelve los datos\n    3. Usando muestreo aleatorio sin reposición, construye un nuevo grupo A del mismo tamaño que el original.\n    4. El resto de los datos conforman nuestro nuevo grupo B.\n    5. Cuantifica la métrica o estadística que calculaste con los grupos originales y guarda el resultado.\n    6. Repite los pasos 1-5 `R` veces para obtener una distribución de la estadística de interés.\n3. Grafica tus resultados en un histograma y grafica una línea vertical que marque el resultado del experimento.\n4. Cuantifica el Valor P y evalúa la significación estadística con un Alfa de 0.05 (5%).\n5. Comenta tus hallazgos con tus compañeros y la experta.",
   "metadata": {
    "cell_id": "00001-a3e053f5-09bc-40b0-a741-ea8494ca59f6",
    "deepnote_cell_type": "markdown"
   }
  },
  {
   "cell_type": "code",
   "metadata": {
    "cell_id": "00002-2fbb1b15-4a49-4c95-8f52-870d70adc948",
    "deepnote_to_be_reexecuted": false,
    "source_hash": "45496f01",
    "execution_start": 1632274027405,
    "execution_millis": 1204,
    "deepnote_cell_type": "code"
   },
   "source": "import pandas as pd\nimport seaborn as sns\nimport numpy as np\nimport matplotlib.pyplot as plt\n",
   "outputs": [],
   "execution_count": null
  },
  {
   "cell_type": "code",
   "source": "df = pd.read_csv('/work/B2-Analisis-de-Datos-con-Python-2020-2021-Santander/Datasets/ab_test-sales_pipeline-2.csv')\ndf.head()",
   "metadata": {
    "tags": [],
    "cell_id": "00003-23daca82-39f2-4cb4-9070-696cd211d2cb",
    "deepnote_to_be_reexecuted": false,
    "source_hash": "ad3dc37d",
    "execution_start": 1632274050641,
    "execution_millis": 52,
    "deepnote_cell_type": "code"
   },
   "outputs": [
    {
     "output_type": "execute_result",
     "execution_count": 2,
     "data": {
      "application/vnd.deepnote.dataframe.v2+json": {
       "row_count": 5,
       "column_count": 3,
       "columns": [
        {
         "name": "test",
         "dtype": "object",
         "stats": {
          "unique_count": 2,
          "nan_count": 0,
          "categories": [
           {
            "name": "A",
            "count": 3
           },
           {
            "name": "B",
            "count": 2
           }
          ]
         }
        },
        {
         "name": "conversion",
         "dtype": "int64",
         "stats": {
          "unique_count": 1,
          "nan_count": 0,
          "min": "0",
          "max": "0",
          "histogram": [
           {
            "bin_start": -0.5,
            "bin_end": -0.4,
            "count": 0
           },
           {
            "bin_start": -0.4,
            "bin_end": -0.3,
            "count": 0
           },
           {
            "bin_start": -0.3,
            "bin_end": -0.19999999999999996,
            "count": 0
           },
           {
            "bin_start": -0.19999999999999996,
            "bin_end": -0.09999999999999998,
            "count": 0
           },
           {
            "bin_start": -0.09999999999999998,
            "bin_end": 0,
            "count": 0
           },
           {
            "bin_start": 0,
            "bin_end": 0.10000000000000009,
            "count": 5
           },
           {
            "bin_start": 0.10000000000000009,
            "bin_end": 0.20000000000000007,
            "count": 0
           },
           {
            "bin_start": 0.20000000000000007,
            "bin_end": 0.30000000000000004,
            "count": 0
           },
           {
            "bin_start": 0.30000000000000004,
            "bin_end": 0.4,
            "count": 0
           },
           {
            "bin_start": 0.4,
            "bin_end": 0.5,
            "count": 0
           }
          ]
         }
        },
        {
         "name": "no conversion",
         "dtype": "int64",
         "stats": {
          "unique_count": 1,
          "nan_count": 0,
          "min": "1",
          "max": "1",
          "histogram": [
           {
            "bin_start": 0.5,
            "bin_end": 0.6,
            "count": 0
           },
           {
            "bin_start": 0.6,
            "bin_end": 0.7,
            "count": 0
           },
           {
            "bin_start": 0.7,
            "bin_end": 0.8,
            "count": 0
           },
           {
            "bin_start": 0.8,
            "bin_end": 0.9,
            "count": 0
           },
           {
            "bin_start": 0.9,
            "bin_end": 1,
            "count": 0
           },
           {
            "bin_start": 1,
            "bin_end": 1.1,
            "count": 5
           },
           {
            "bin_start": 1.1,
            "bin_end": 1.2000000000000002,
            "count": 0
           },
           {
            "bin_start": 1.2000000000000002,
            "bin_end": 1.3,
            "count": 0
           },
           {
            "bin_start": 1.3,
            "bin_end": 1.4,
            "count": 0
           },
           {
            "bin_start": 1.4,
            "bin_end": 1.5,
            "count": 0
           }
          ]
         }
        },
        {
         "name": "_deepnote_index_column",
         "dtype": "int64"
        }
       ],
       "rows_top": [
        {
         "test": "A",
         "conversion": 0,
         "no conversion": 1,
         "_deepnote_index_column": 0
        },
        {
         "test": "B",
         "conversion": 0,
         "no conversion": 1,
         "_deepnote_index_column": 1
        },
        {
         "test": "A",
         "conversion": 0,
         "no conversion": 1,
         "_deepnote_index_column": 2
        },
        {
         "test": "A",
         "conversion": 0,
         "no conversion": 1,
         "_deepnote_index_column": 3
        },
        {
         "test": "B",
         "conversion": 0,
         "no conversion": 1,
         "_deepnote_index_column": 4
        }
       ],
       "rows_bottom": null
      },
      "text/plain": "  test  conversion  no conversion\n0    A           0              1\n1    B           0              1\n2    A           0              1\n3    A           0              1\n4    B           0              1",
      "text/html": "<div>\n<style scoped>\n    .dataframe tbody tr th:only-of-type {\n        vertical-align: middle;\n    }\n\n    .dataframe tbody tr th {\n        vertical-align: top;\n    }\n\n    .dataframe thead th {\n        text-align: right;\n    }\n</style>\n<table border=\"1\" class=\"dataframe\">\n  <thead>\n    <tr style=\"text-align: right;\">\n      <th></th>\n      <th>test</th>\n      <th>conversion</th>\n      <th>no conversion</th>\n    </tr>\n  </thead>\n  <tbody>\n    <tr>\n      <th>0</th>\n      <td>A</td>\n      <td>0</td>\n      <td>1</td>\n    </tr>\n    <tr>\n      <th>1</th>\n      <td>B</td>\n      <td>0</td>\n      <td>1</td>\n    </tr>\n    <tr>\n      <th>2</th>\n      <td>A</td>\n      <td>0</td>\n      <td>1</td>\n    </tr>\n    <tr>\n      <th>3</th>\n      <td>A</td>\n      <td>0</td>\n      <td>1</td>\n    </tr>\n    <tr>\n      <th>4</th>\n      <td>B</td>\n      <td>0</td>\n      <td>1</td>\n    </tr>\n  </tbody>\n</table>\n</div>"
     },
     "metadata": {}
    }
   ],
   "execution_count": null
  },
  {
   "cell_type": "markdown",
   "source": "",
   "metadata": {
    "tags": [],
    "cell_id": "00004-9f4833df-f755-49c6-8be3-58a654729bed",
    "deepnote_cell_type": "markdown"
   }
  },
  {
   "cell_type": "code",
   "source": "total_count = df.groupby('test')[['conversion','no conversion']].sum()\ntotal_count['success_rate'] = total_count['conversion']/ (total_count['conversion'] + total_count['no conversion'])\ntotal_count",
   "metadata": {
    "tags": [],
    "cell_id": "00004-245a2af8-a69d-4ef1-852f-74406d5f01aa",
    "deepnote_to_be_reexecuted": false,
    "source_hash": "e2a8f676",
    "execution_start": 1632274289227,
    "execution_millis": 30,
    "deepnote_cell_type": "code"
   },
   "outputs": [
    {
     "output_type": "execute_result",
     "execution_count": 5,
     "data": {
      "application/vnd.deepnote.dataframe.v2+json": {
       "row_count": 2,
       "column_count": 3,
       "columns": [
        {
         "name": "conversion",
         "dtype": "int64",
         "stats": {
          "unique_count": 2,
          "nan_count": 0,
          "min": "4163",
          "max": "4841",
          "histogram": [
           {
            "bin_start": 4163,
            "bin_end": 4230.8,
            "count": 1
           },
           {
            "bin_start": 4230.8,
            "bin_end": 4298.6,
            "count": 0
           },
           {
            "bin_start": 4298.6,
            "bin_end": 4366.4,
            "count": 0
           },
           {
            "bin_start": 4366.4,
            "bin_end": 4434.2,
            "count": 0
           },
           {
            "bin_start": 4434.2,
            "bin_end": 4502,
            "count": 0
           },
           {
            "bin_start": 4502,
            "bin_end": 4569.8,
            "count": 0
           },
           {
            "bin_start": 4569.8,
            "bin_end": 4637.6,
            "count": 0
           },
           {
            "bin_start": 4637.6,
            "bin_end": 4705.4,
            "count": 0
           },
           {
            "bin_start": 4705.4,
            "bin_end": 4773.2,
            "count": 0
           },
           {
            "bin_start": 4773.2,
            "bin_end": 4841,
            "count": 1
           }
          ]
         }
        },
        {
         "name": "no conversion",
         "dtype": "int64",
         "stats": {
          "unique_count": 2,
          "nan_count": 0,
          "min": "30576",
          "max": "36747",
          "histogram": [
           {
            "bin_start": 30576,
            "bin_end": 31193.1,
            "count": 1
           },
           {
            "bin_start": 31193.1,
            "bin_end": 31810.2,
            "count": 0
           },
           {
            "bin_start": 31810.2,
            "bin_end": 32427.3,
            "count": 0
           },
           {
            "bin_start": 32427.3,
            "bin_end": 33044.4,
            "count": 0
           },
           {
            "bin_start": 33044.4,
            "bin_end": 33661.5,
            "count": 0
           },
           {
            "bin_start": 33661.5,
            "bin_end": 34278.6,
            "count": 0
           },
           {
            "bin_start": 34278.6,
            "bin_end": 34895.7,
            "count": 0
           },
           {
            "bin_start": 34895.7,
            "bin_end": 35512.8,
            "count": 0
           },
           {
            "bin_start": 35512.8,
            "bin_end": 36129.9,
            "count": 0
           },
           {
            "bin_start": 36129.9,
            "bin_end": 36747,
            "count": 1
           }
          ]
         }
        },
        {
         "name": "success_rate",
         "dtype": "float64",
         "stats": {
          "unique_count": 2,
          "nan_count": 0,
          "min": "0.11640377031836106",
          "max": "0.11983649500561329",
          "histogram": [
           {
            "bin_start": 0.11640377031836106,
            "bin_end": 0.11674704278708628,
            "count": 1
           },
           {
            "bin_start": 0.11674704278708628,
            "bin_end": 0.11709031525581151,
            "count": 0
           },
           {
            "bin_start": 0.11709031525581151,
            "bin_end": 0.11743358772453673,
            "count": 0
           },
           {
            "bin_start": 0.11743358772453673,
            "bin_end": 0.11777686019326196,
            "count": 0
           },
           {
            "bin_start": 0.11777686019326196,
            "bin_end": 0.11812013266198718,
            "count": 0
           },
           {
            "bin_start": 0.11812013266198718,
            "bin_end": 0.1184634051307124,
            "count": 0
           },
           {
            "bin_start": 0.1184634051307124,
            "bin_end": 0.11880667759943762,
            "count": 0
           },
           {
            "bin_start": 0.11880667759943762,
            "bin_end": 0.11914995006816284,
            "count": 0
           },
           {
            "bin_start": 0.11914995006816284,
            "bin_end": 0.11949322253688807,
            "count": 0
           },
           {
            "bin_start": 0.11949322253688807,
            "bin_end": 0.11983649500561329,
            "count": 1
           }
          ]
         }
        },
        {
         "name": "_deepnote_index_column",
         "dtype": "object"
        }
       ],
       "rows_top": [
        {
         "conversion": 4163,
         "no conversion": 30576,
         "success_rate": 0.11983649500561329,
         "_deepnote_index_column": "A"
        },
        {
         "conversion": 4841,
         "no conversion": 36747,
         "success_rate": 0.11640377031836106,
         "_deepnote_index_column": "B"
        }
       ],
       "rows_bottom": null
      },
      "text/plain": "      conversion  no conversion  success_rate\ntest                                         \nA           4163          30576      0.119836\nB           4841          36747      0.116404",
      "text/html": "<div>\n<style scoped>\n    .dataframe tbody tr th:only-of-type {\n        vertical-align: middle;\n    }\n\n    .dataframe tbody tr th {\n        vertical-align: top;\n    }\n\n    .dataframe thead th {\n        text-align: right;\n    }\n</style>\n<table border=\"1\" class=\"dataframe\">\n  <thead>\n    <tr style=\"text-align: right;\">\n      <th></th>\n      <th>conversion</th>\n      <th>no conversion</th>\n      <th>success_rate</th>\n    </tr>\n    <tr>\n      <th>test</th>\n      <th></th>\n      <th></th>\n      <th></th>\n    </tr>\n  </thead>\n  <tbody>\n    <tr>\n      <th>A</th>\n      <td>4163</td>\n      <td>30576</td>\n      <td>0.119836</td>\n    </tr>\n    <tr>\n      <th>B</th>\n      <td>4841</td>\n      <td>36747</td>\n      <td>0.116404</td>\n    </tr>\n  </tbody>\n</table>\n</div>"
     },
     "metadata": {}
    }
   ],
   "execution_count": null
  },
  {
   "cell_type": "markdown",
   "source": "Combina los resultados de ambos grupos en un mismo conjunto de datos",
   "metadata": {
    "tags": [],
    "cell_id": "00006-91a41093-f0c6-4f99-9c82-6e5e608eda25",
    "deepnote_cell_type": "markdown"
   }
  },
  {
   "cell_type": "markdown",
   "source": "Revuelve los datos",
   "metadata": {
    "tags": [],
    "cell_id": "00007-5cfeddde-454d-4eb8-8fae-fcad001f63d4",
    "deepnote_cell_type": "markdown"
   }
  },
  {
   "cell_type": "markdown",
   "source": "Usando muestreo aleatorio sin reposición, construye un nuevo grupo A del mismo tamaño que el original.",
   "metadata": {
    "tags": [],
    "cell_id": "00008-9760f0dd-5d60-4225-aae8-03117b3313ce",
    "deepnote_cell_type": "markdown"
   }
  },
  {
   "cell_type": "code",
   "source": "## Prueba de permutacion\n\nconv_a = []\nno_conv_a = []\nconv_b = []\nno_conv_b = []\n\nvalue_counts = df['test'].value_counts()\nfor i in range(1000):\n    a = df.sample(value_counts.loc['A'],replace=False)\n    conv_a.append(a['conversion'].sum())\n    no_conv_a.append(a['no conversion'].sum())\n\n    b = df.loc[~df.index.isin(a.index)]\n    conv_b.append(b['conversion'].sum())\n    no_conv_b.append(b['no conversion'].sum())",
   "metadata": {
    "tags": [],
    "cell_id": "00005-1bfa9591-f619-4f16-b7d7-8fb83e373544",
    "deepnote_to_be_reexecuted": false,
    "source_hash": "c6ca8e92",
    "execution_start": 1632274583121,
    "execution_millis": 6303,
    "deepnote_cell_type": "code"
   },
   "outputs": [],
   "execution_count": null
  },
  {
   "cell_type": "markdown",
   "source": "Cuantifica la métrica o estadística que calculaste con los grupos originales y guarda el resultado.",
   "metadata": {
    "tags": [],
    "cell_id": "00010-60c36dcf-9b56-488f-92b7-3afb096872ec",
    "deepnote_cell_type": "markdown"
   }
  },
  {
   "cell_type": "code",
   "source": "results = pd.DataFrame({\n    'conv_a':conv_a,\n    'no_conv_a':no_conv_a,\n    'conv_b':conv_b,\n    'no_conv_b':no_conv_b,\n})\n\nresults",
   "metadata": {
    "tags": [],
    "cell_id": "00007-e3622866-9d06-4bb4-9c21-af23789afd17",
    "deepnote_to_be_reexecuted": false,
    "source_hash": "6e5d8a04",
    "execution_start": 1632274817134,
    "execution_millis": 60,
    "deepnote_cell_type": "code"
   },
   "outputs": [
    {
     "output_type": "execute_result",
     "execution_count": 7,
     "data": {
      "application/vnd.deepnote.dataframe.v2+json": {
       "row_count": 1000,
       "column_count": 4,
       "columns": [
        {
         "name": "conv_a",
         "dtype": "int64",
         "stats": {
          "unique_count": 210,
          "nan_count": 0,
          "min": "3940",
          "max": "4247",
          "histogram": [
           {
            "bin_start": 3940,
            "bin_end": 3970.7,
            "count": 4
           },
           {
            "bin_start": 3970.7,
            "bin_end": 4001.4,
            "count": 13
           },
           {
            "bin_start": 4001.4,
            "bin_end": 4032.1,
            "count": 55
           },
           {
            "bin_start": 4032.1,
            "bin_end": 4062.8,
            "count": 140
           },
           {
            "bin_start": 4062.8,
            "bin_end": 4093.5,
            "count": 250
           },
           {
            "bin_start": 4093.5,
            "bin_end": 4124.2,
            "count": 236
           },
           {
            "bin_start": 4124.2,
            "bin_end": 4154.9,
            "count": 187
           },
           {
            "bin_start": 4154.9,
            "bin_end": 4185.6,
            "count": 85
           },
           {
            "bin_start": 4185.6,
            "bin_end": 4216.3,
            "count": 27
           },
           {
            "bin_start": 4216.3,
            "bin_end": 4247,
            "count": 3
           }
          ]
         }
        },
        {
         "name": "no_conv_a",
         "dtype": "int64",
         "stats": {
          "unique_count": 210,
          "nan_count": 0,
          "min": "30492",
          "max": "30799",
          "histogram": [
           {
            "bin_start": 30492,
            "bin_end": 30522.7,
            "count": 3
           },
           {
            "bin_start": 30522.7,
            "bin_end": 30553.4,
            "count": 27
           },
           {
            "bin_start": 30553.4,
            "bin_end": 30584.1,
            "count": 85
           },
           {
            "bin_start": 30584.1,
            "bin_end": 30614.8,
            "count": 187
           },
           {
            "bin_start": 30614.8,
            "bin_end": 30645.5,
            "count": 236
           },
           {
            "bin_start": 30645.5,
            "bin_end": 30676.2,
            "count": 250
           },
           {
            "bin_start": 30676.2,
            "bin_end": 30706.9,
            "count": 140
           },
           {
            "bin_start": 30706.9,
            "bin_end": 30737.6,
            "count": 55
           },
           {
            "bin_start": 30737.6,
            "bin_end": 30768.3,
            "count": 13
           },
           {
            "bin_start": 30768.3,
            "bin_end": 30799,
            "count": 4
           }
          ]
         }
        },
        {
         "name": "conv_b",
         "dtype": "int64",
         "stats": {
          "unique_count": 210,
          "nan_count": 0,
          "min": "4757",
          "max": "5064",
          "histogram": [
           {
            "bin_start": 4757,
            "bin_end": 4787.7,
            "count": 3
           },
           {
            "bin_start": 4787.7,
            "bin_end": 4818.4,
            "count": 27
           },
           {
            "bin_start": 4818.4,
            "bin_end": 4849.1,
            "count": 85
           },
           {
            "bin_start": 4849.1,
            "bin_end": 4879.8,
            "count": 187
           },
           {
            "bin_start": 4879.8,
            "bin_end": 4910.5,
            "count": 236
           },
           {
            "bin_start": 4910.5,
            "bin_end": 4941.2,
            "count": 250
           },
           {
            "bin_start": 4941.2,
            "bin_end": 4971.9,
            "count": 140
           },
           {
            "bin_start": 4971.9,
            "bin_end": 5002.6,
            "count": 55
           },
           {
            "bin_start": 5002.6,
            "bin_end": 5033.3,
            "count": 13
           },
           {
            "bin_start": 5033.3,
            "bin_end": 5064,
            "count": 4
           }
          ]
         }
        },
        {
         "name": "no_conv_b",
         "dtype": "int64",
         "stats": {
          "unique_count": 210,
          "nan_count": 0,
          "min": "36524",
          "max": "36831",
          "histogram": [
           {
            "bin_start": 36524,
            "bin_end": 36554.7,
            "count": 4
           },
           {
            "bin_start": 36554.7,
            "bin_end": 36585.4,
            "count": 13
           },
           {
            "bin_start": 36585.4,
            "bin_end": 36616.1,
            "count": 55
           },
           {
            "bin_start": 36616.1,
            "bin_end": 36646.8,
            "count": 140
           },
           {
            "bin_start": 36646.8,
            "bin_end": 36677.5,
            "count": 250
           },
           {
            "bin_start": 36677.5,
            "bin_end": 36708.2,
            "count": 236
           },
           {
            "bin_start": 36708.2,
            "bin_end": 36738.9,
            "count": 187
           },
           {
            "bin_start": 36738.9,
            "bin_end": 36769.6,
            "count": 85
           },
           {
            "bin_start": 36769.6,
            "bin_end": 36800.3,
            "count": 27
           },
           {
            "bin_start": 36800.3,
            "bin_end": 36831,
            "count": 3
           }
          ]
         }
        },
        {
         "name": "_deepnote_index_column",
         "dtype": "int64"
        }
       ],
       "rows_top": [
        {
         "conv_a": 4130,
         "no_conv_a": 30609,
         "conv_b": 4874,
         "no_conv_b": 36714,
         "_deepnote_index_column": 0
        },
        {
         "conv_a": 4145,
         "no_conv_a": 30594,
         "conv_b": 4859,
         "no_conv_b": 36729,
         "_deepnote_index_column": 1
        },
        {
         "conv_a": 4114,
         "no_conv_a": 30625,
         "conv_b": 4890,
         "no_conv_b": 36698,
         "_deepnote_index_column": 2
        },
        {
         "conv_a": 4134,
         "no_conv_a": 30605,
         "conv_b": 4870,
         "no_conv_b": 36718,
         "_deepnote_index_column": 3
        },
        {
         "conv_a": 4110,
         "no_conv_a": 30629,
         "conv_b": 4894,
         "no_conv_b": 36694,
         "_deepnote_index_column": 4
        },
        {
         "conv_a": 4129,
         "no_conv_a": 30610,
         "conv_b": 4875,
         "no_conv_b": 36713,
         "_deepnote_index_column": 5
        },
        {
         "conv_a": 4041,
         "no_conv_a": 30698,
         "conv_b": 4963,
         "no_conv_b": 36625,
         "_deepnote_index_column": 6
        },
        {
         "conv_a": 4104,
         "no_conv_a": 30635,
         "conv_b": 4900,
         "no_conv_b": 36688,
         "_deepnote_index_column": 7
        },
        {
         "conv_a": 4086,
         "no_conv_a": 30653,
         "conv_b": 4918,
         "no_conv_b": 36670,
         "_deepnote_index_column": 8
        },
        {
         "conv_a": 4140,
         "no_conv_a": 30599,
         "conv_b": 4864,
         "no_conv_b": 36724,
         "_deepnote_index_column": 9
        },
        {
         "conv_a": 4092,
         "no_conv_a": 30647,
         "conv_b": 4912,
         "no_conv_b": 36676,
         "_deepnote_index_column": 10
        },
        {
         "conv_a": 4067,
         "no_conv_a": 30672,
         "conv_b": 4937,
         "no_conv_b": 36651,
         "_deepnote_index_column": 11
        },
        {
         "conv_a": 4191,
         "no_conv_a": 30548,
         "conv_b": 4813,
         "no_conv_b": 36775,
         "_deepnote_index_column": 12
        },
        {
         "conv_a": 4048,
         "no_conv_a": 30691,
         "conv_b": 4956,
         "no_conv_b": 36632,
         "_deepnote_index_column": 13
        },
        {
         "conv_a": 4037,
         "no_conv_a": 30702,
         "conv_b": 4967,
         "no_conv_b": 36621,
         "_deepnote_index_column": 14
        },
        {
         "conv_a": 4141,
         "no_conv_a": 30598,
         "conv_b": 4863,
         "no_conv_b": 36725,
         "_deepnote_index_column": 15
        },
        {
         "conv_a": 4148,
         "no_conv_a": 30591,
         "conv_b": 4856,
         "no_conv_b": 36732,
         "_deepnote_index_column": 16
        },
        {
         "conv_a": 4112,
         "no_conv_a": 30627,
         "conv_b": 4892,
         "no_conv_b": 36696,
         "_deepnote_index_column": 17
        },
        {
         "conv_a": 4166,
         "no_conv_a": 30573,
         "conv_b": 4838,
         "no_conv_b": 36750,
         "_deepnote_index_column": 18
        },
        {
         "conv_a": 4054,
         "no_conv_a": 30685,
         "conv_b": 4950,
         "no_conv_b": 36638,
         "_deepnote_index_column": 19
        },
        {
         "conv_a": 4096,
         "no_conv_a": 30643,
         "conv_b": 4908,
         "no_conv_b": 36680,
         "_deepnote_index_column": 20
        },
        {
         "conv_a": 4105,
         "no_conv_a": 30634,
         "conv_b": 4899,
         "no_conv_b": 36689,
         "_deepnote_index_column": 21
        },
        {
         "conv_a": 4086,
         "no_conv_a": 30653,
         "conv_b": 4918,
         "no_conv_b": 36670,
         "_deepnote_index_column": 22
        },
        {
         "conv_a": 4145,
         "no_conv_a": 30594,
         "conv_b": 4859,
         "no_conv_b": 36729,
         "_deepnote_index_column": 23
        },
        {
         "conv_a": 4096,
         "no_conv_a": 30643,
         "conv_b": 4908,
         "no_conv_b": 36680,
         "_deepnote_index_column": 24
        },
        {
         "conv_a": 4140,
         "no_conv_a": 30599,
         "conv_b": 4864,
         "no_conv_b": 36724,
         "_deepnote_index_column": 25
        },
        {
         "conv_a": 4000,
         "no_conv_a": 30739,
         "conv_b": 5004,
         "no_conv_b": 36584,
         "_deepnote_index_column": 26
        },
        {
         "conv_a": 3997,
         "no_conv_a": 30742,
         "conv_b": 5007,
         "no_conv_b": 36581,
         "_deepnote_index_column": 27
        },
        {
         "conv_a": 4079,
         "no_conv_a": 30660,
         "conv_b": 4925,
         "no_conv_b": 36663,
         "_deepnote_index_column": 28
        },
        {
         "conv_a": 4133,
         "no_conv_a": 30606,
         "conv_b": 4871,
         "no_conv_b": 36717,
         "_deepnote_index_column": 29
        },
        {
         "conv_a": 4121,
         "no_conv_a": 30618,
         "conv_b": 4883,
         "no_conv_b": 36705,
         "_deepnote_index_column": 30
        },
        {
         "conv_a": 4079,
         "no_conv_a": 30660,
         "conv_b": 4925,
         "no_conv_b": 36663,
         "_deepnote_index_column": 31
        },
        {
         "conv_a": 4076,
         "no_conv_a": 30663,
         "conv_b": 4928,
         "no_conv_b": 36660,
         "_deepnote_index_column": 32
        },
        {
         "conv_a": 4084,
         "no_conv_a": 30655,
         "conv_b": 4920,
         "no_conv_b": 36668,
         "_deepnote_index_column": 33
        },
        {
         "conv_a": 4146,
         "no_conv_a": 30593,
         "conv_b": 4858,
         "no_conv_b": 36730,
         "_deepnote_index_column": 34
        },
        {
         "conv_a": 4087,
         "no_conv_a": 30652,
         "conv_b": 4917,
         "no_conv_b": 36671,
         "_deepnote_index_column": 35
        },
        {
         "conv_a": 4070,
         "no_conv_a": 30669,
         "conv_b": 4934,
         "no_conv_b": 36654,
         "_deepnote_index_column": 36
        },
        {
         "conv_a": 4052,
         "no_conv_a": 30687,
         "conv_b": 4952,
         "no_conv_b": 36636,
         "_deepnote_index_column": 37
        },
        {
         "conv_a": 4061,
         "no_conv_a": 30678,
         "conv_b": 4943,
         "no_conv_b": 36645,
         "_deepnote_index_column": 38
        },
        {
         "conv_a": 4095,
         "no_conv_a": 30644,
         "conv_b": 4909,
         "no_conv_b": 36679,
         "_deepnote_index_column": 39
        },
        {
         "conv_a": 4061,
         "no_conv_a": 30678,
         "conv_b": 4943,
         "no_conv_b": 36645,
         "_deepnote_index_column": 40
        },
        {
         "conv_a": 4103,
         "no_conv_a": 30636,
         "conv_b": 4901,
         "no_conv_b": 36687,
         "_deepnote_index_column": 41
        },
        {
         "conv_a": 4071,
         "no_conv_a": 30668,
         "conv_b": 4933,
         "no_conv_b": 36655,
         "_deepnote_index_column": 42
        },
        {
         "conv_a": 4161,
         "no_conv_a": 30578,
         "conv_b": 4843,
         "no_conv_b": 36745,
         "_deepnote_index_column": 43
        },
        {
         "conv_a": 4091,
         "no_conv_a": 30648,
         "conv_b": 4913,
         "no_conv_b": 36675,
         "_deepnote_index_column": 44
        },
        {
         "conv_a": 4084,
         "no_conv_a": 30655,
         "conv_b": 4920,
         "no_conv_b": 36668,
         "_deepnote_index_column": 45
        },
        {
         "conv_a": 4106,
         "no_conv_a": 30633,
         "conv_b": 4898,
         "no_conv_b": 36690,
         "_deepnote_index_column": 46
        },
        {
         "conv_a": 4102,
         "no_conv_a": 30637,
         "conv_b": 4902,
         "no_conv_b": 36686,
         "_deepnote_index_column": 47
        },
        {
         "conv_a": 4075,
         "no_conv_a": 30664,
         "conv_b": 4929,
         "no_conv_b": 36659,
         "_deepnote_index_column": 48
        },
        {
         "conv_a": 4179,
         "no_conv_a": 30560,
         "conv_b": 4825,
         "no_conv_b": 36763,
         "_deepnote_index_column": 49
        },
        {
         "conv_a": 4153,
         "no_conv_a": 30586,
         "conv_b": 4851,
         "no_conv_b": 36737,
         "_deepnote_index_column": 50
        },
        {
         "conv_a": 4049,
         "no_conv_a": 30690,
         "conv_b": 4955,
         "no_conv_b": 36633,
         "_deepnote_index_column": 51
        },
        {
         "conv_a": 4088,
         "no_conv_a": 30651,
         "conv_b": 4916,
         "no_conv_b": 36672,
         "_deepnote_index_column": 52
        },
        {
         "conv_a": 4112,
         "no_conv_a": 30627,
         "conv_b": 4892,
         "no_conv_b": 36696,
         "_deepnote_index_column": 53
        },
        {
         "conv_a": 4116,
         "no_conv_a": 30623,
         "conv_b": 4888,
         "no_conv_b": 36700,
         "_deepnote_index_column": 54
        },
        {
         "conv_a": 4070,
         "no_conv_a": 30669,
         "conv_b": 4934,
         "no_conv_b": 36654,
         "_deepnote_index_column": 55
        },
        {
         "conv_a": 4152,
         "no_conv_a": 30587,
         "conv_b": 4852,
         "no_conv_b": 36736,
         "_deepnote_index_column": 56
        },
        {
         "conv_a": 4098,
         "no_conv_a": 30641,
         "conv_b": 4906,
         "no_conv_b": 36682,
         "_deepnote_index_column": 57
        },
        {
         "conv_a": 4005,
         "no_conv_a": 30734,
         "conv_b": 4999,
         "no_conv_b": 36589,
         "_deepnote_index_column": 58
        },
        {
         "conv_a": 4040,
         "no_conv_a": 30699,
         "conv_b": 4964,
         "no_conv_b": 36624,
         "_deepnote_index_column": 59
        },
        {
         "conv_a": 4084,
         "no_conv_a": 30655,
         "conv_b": 4920,
         "no_conv_b": 36668,
         "_deepnote_index_column": 60
        },
        {
         "conv_a": 4047,
         "no_conv_a": 30692,
         "conv_b": 4957,
         "no_conv_b": 36631,
         "_deepnote_index_column": 61
        },
        {
         "conv_a": 4136,
         "no_conv_a": 30603,
         "conv_b": 4868,
         "no_conv_b": 36720,
         "_deepnote_index_column": 62
        },
        {
         "conv_a": 4038,
         "no_conv_a": 30701,
         "conv_b": 4966,
         "no_conv_b": 36622,
         "_deepnote_index_column": 63
        },
        {
         "conv_a": 4122,
         "no_conv_a": 30617,
         "conv_b": 4882,
         "no_conv_b": 36706,
         "_deepnote_index_column": 64
        },
        {
         "conv_a": 4146,
         "no_conv_a": 30593,
         "conv_b": 4858,
         "no_conv_b": 36730,
         "_deepnote_index_column": 65
        },
        {
         "conv_a": 4138,
         "no_conv_a": 30601,
         "conv_b": 4866,
         "no_conv_b": 36722,
         "_deepnote_index_column": 66
        },
        {
         "conv_a": 4106,
         "no_conv_a": 30633,
         "conv_b": 4898,
         "no_conv_b": 36690,
         "_deepnote_index_column": 67
        },
        {
         "conv_a": 4138,
         "no_conv_a": 30601,
         "conv_b": 4866,
         "no_conv_b": 36722,
         "_deepnote_index_column": 68
        },
        {
         "conv_a": 4100,
         "no_conv_a": 30639,
         "conv_b": 4904,
         "no_conv_b": 36684,
         "_deepnote_index_column": 69
        },
        {
         "conv_a": 4036,
         "no_conv_a": 30703,
         "conv_b": 4968,
         "no_conv_b": 36620,
         "_deepnote_index_column": 70
        },
        {
         "conv_a": 4172,
         "no_conv_a": 30567,
         "conv_b": 4832,
         "no_conv_b": 36756,
         "_deepnote_index_column": 71
        },
        {
         "conv_a": 4109,
         "no_conv_a": 30630,
         "conv_b": 4895,
         "no_conv_b": 36693,
         "_deepnote_index_column": 72
        },
        {
         "conv_a": 4037,
         "no_conv_a": 30702,
         "conv_b": 4967,
         "no_conv_b": 36621,
         "_deepnote_index_column": 73
        },
        {
         "conv_a": 4109,
         "no_conv_a": 30630,
         "conv_b": 4895,
         "no_conv_b": 36693,
         "_deepnote_index_column": 74
        },
        {
         "conv_a": 4038,
         "no_conv_a": 30701,
         "conv_b": 4966,
         "no_conv_b": 36622,
         "_deepnote_index_column": 75
        },
        {
         "conv_a": 4199,
         "no_conv_a": 30540,
         "conv_b": 4805,
         "no_conv_b": 36783,
         "_deepnote_index_column": 76
        },
        {
         "conv_a": 4025,
         "no_conv_a": 30714,
         "conv_b": 4979,
         "no_conv_b": 36609,
         "_deepnote_index_column": 77
        },
        {
         "conv_a": 4141,
         "no_conv_a": 30598,
         "conv_b": 4863,
         "no_conv_b": 36725,
         "_deepnote_index_column": 78
        },
        {
         "conv_a": 4126,
         "no_conv_a": 30613,
         "conv_b": 4878,
         "no_conv_b": 36710,
         "_deepnote_index_column": 79
        },
        {
         "conv_a": 4107,
         "no_conv_a": 30632,
         "conv_b": 4897,
         "no_conv_b": 36691,
         "_deepnote_index_column": 80
        },
        {
         "conv_a": 4088,
         "no_conv_a": 30651,
         "conv_b": 4916,
         "no_conv_b": 36672,
         "_deepnote_index_column": 81
        },
        {
         "conv_a": 4153,
         "no_conv_a": 30586,
         "conv_b": 4851,
         "no_conv_b": 36737,
         "_deepnote_index_column": 82
        },
        {
         "conv_a": 3993,
         "no_conv_a": 30746,
         "conv_b": 5011,
         "no_conv_b": 36577,
         "_deepnote_index_column": 83
        },
        {
         "conv_a": 4070,
         "no_conv_a": 30669,
         "conv_b": 4934,
         "no_conv_b": 36654,
         "_deepnote_index_column": 84
        },
        {
         "conv_a": 4156,
         "no_conv_a": 30583,
         "conv_b": 4848,
         "no_conv_b": 36740,
         "_deepnote_index_column": 85
        },
        {
         "conv_a": 4083,
         "no_conv_a": 30656,
         "conv_b": 4921,
         "no_conv_b": 36667,
         "_deepnote_index_column": 86
        },
        {
         "conv_a": 4207,
         "no_conv_a": 30532,
         "conv_b": 4797,
         "no_conv_b": 36791,
         "_deepnote_index_column": 87
        },
        {
         "conv_a": 4178,
         "no_conv_a": 30561,
         "conv_b": 4826,
         "no_conv_b": 36762,
         "_deepnote_index_column": 88
        },
        {
         "conv_a": 4148,
         "no_conv_a": 30591,
         "conv_b": 4856,
         "no_conv_b": 36732,
         "_deepnote_index_column": 89
        },
        {
         "conv_a": 4082,
         "no_conv_a": 30657,
         "conv_b": 4922,
         "no_conv_b": 36666,
         "_deepnote_index_column": 90
        },
        {
         "conv_a": 4164,
         "no_conv_a": 30575,
         "conv_b": 4840,
         "no_conv_b": 36748,
         "_deepnote_index_column": 91
        },
        {
         "conv_a": 4020,
         "no_conv_a": 30719,
         "conv_b": 4984,
         "no_conv_b": 36604,
         "_deepnote_index_column": 92
        },
        {
         "conv_a": 4067,
         "no_conv_a": 30672,
         "conv_b": 4937,
         "no_conv_b": 36651,
         "_deepnote_index_column": 93
        },
        {
         "conv_a": 4120,
         "no_conv_a": 30619,
         "conv_b": 4884,
         "no_conv_b": 36704,
         "_deepnote_index_column": 94
        },
        {
         "conv_a": 4063,
         "no_conv_a": 30676,
         "conv_b": 4941,
         "no_conv_b": 36647,
         "_deepnote_index_column": 95
        },
        {
         "conv_a": 4033,
         "no_conv_a": 30706,
         "conv_b": 4971,
         "no_conv_b": 36617,
         "_deepnote_index_column": 96
        },
        {
         "conv_a": 4163,
         "no_conv_a": 30576,
         "conv_b": 4841,
         "no_conv_b": 36747,
         "_deepnote_index_column": 97
        },
        {
         "conv_a": 4112,
         "no_conv_a": 30627,
         "conv_b": 4892,
         "no_conv_b": 36696,
         "_deepnote_index_column": 98
        },
        {
         "conv_a": 4134,
         "no_conv_a": 30605,
         "conv_b": 4870,
         "no_conv_b": 36718,
         "_deepnote_index_column": 99
        },
        {
         "conv_a": 4186,
         "no_conv_a": 30553,
         "conv_b": 4818,
         "no_conv_b": 36770,
         "_deepnote_index_column": 100
        },
        {
         "conv_a": 4121,
         "no_conv_a": 30618,
         "conv_b": 4883,
         "no_conv_b": 36705,
         "_deepnote_index_column": 101
        },
        {
         "conv_a": 4061,
         "no_conv_a": 30678,
         "conv_b": 4943,
         "no_conv_b": 36645,
         "_deepnote_index_column": 102
        },
        {
         "conv_a": 4138,
         "no_conv_a": 30601,
         "conv_b": 4866,
         "no_conv_b": 36722,
         "_deepnote_index_column": 103
        },
        {
         "conv_a": 4064,
         "no_conv_a": 30675,
         "conv_b": 4940,
         "no_conv_b": 36648,
         "_deepnote_index_column": 104
        },
        {
         "conv_a": 4117,
         "no_conv_a": 30622,
         "conv_b": 4887,
         "no_conv_b": 36701,
         "_deepnote_index_column": 105
        },
        {
         "conv_a": 4100,
         "no_conv_a": 30639,
         "conv_b": 4904,
         "no_conv_b": 36684,
         "_deepnote_index_column": 106
        },
        {
         "conv_a": 4130,
         "no_conv_a": 30609,
         "conv_b": 4874,
         "no_conv_b": 36714,
         "_deepnote_index_column": 107
        },
        {
         "conv_a": 4084,
         "no_conv_a": 30655,
         "conv_b": 4920,
         "no_conv_b": 36668,
         "_deepnote_index_column": 108
        },
        {
         "conv_a": 4123,
         "no_conv_a": 30616,
         "conv_b": 4881,
         "no_conv_b": 36707,
         "_deepnote_index_column": 109
        },
        {
         "conv_a": 4171,
         "no_conv_a": 30568,
         "conv_b": 4833,
         "no_conv_b": 36755,
         "_deepnote_index_column": 110
        },
        {
         "conv_a": 4054,
         "no_conv_a": 30685,
         "conv_b": 4950,
         "no_conv_b": 36638,
         "_deepnote_index_column": 111
        },
        {
         "conv_a": 4075,
         "no_conv_a": 30664,
         "conv_b": 4929,
         "no_conv_b": 36659,
         "_deepnote_index_column": 112
        },
        {
         "conv_a": 4121,
         "no_conv_a": 30618,
         "conv_b": 4883,
         "no_conv_b": 36705,
         "_deepnote_index_column": 113
        },
        {
         "conv_a": 4120,
         "no_conv_a": 30619,
         "conv_b": 4884,
         "no_conv_b": 36704,
         "_deepnote_index_column": 114
        },
        {
         "conv_a": 4057,
         "no_conv_a": 30682,
         "conv_b": 4947,
         "no_conv_b": 36641,
         "_deepnote_index_column": 115
        },
        {
         "conv_a": 4092,
         "no_conv_a": 30647,
         "conv_b": 4912,
         "no_conv_b": 36676,
         "_deepnote_index_column": 116
        },
        {
         "conv_a": 4083,
         "no_conv_a": 30656,
         "conv_b": 4921,
         "no_conv_b": 36667,
         "_deepnote_index_column": 117
        },
        {
         "conv_a": 4041,
         "no_conv_a": 30698,
         "conv_b": 4963,
         "no_conv_b": 36625,
         "_deepnote_index_column": 118
        },
        {
         "conv_a": 4060,
         "no_conv_a": 30679,
         "conv_b": 4944,
         "no_conv_b": 36644,
         "_deepnote_index_column": 119
        },
        {
         "conv_a": 4204,
         "no_conv_a": 30535,
         "conv_b": 4800,
         "no_conv_b": 36788,
         "_deepnote_index_column": 120
        },
        {
         "conv_a": 4115,
         "no_conv_a": 30624,
         "conv_b": 4889,
         "no_conv_b": 36699,
         "_deepnote_index_column": 121
        },
        {
         "conv_a": 4038,
         "no_conv_a": 30701,
         "conv_b": 4966,
         "no_conv_b": 36622,
         "_deepnote_index_column": 122
        },
        {
         "conv_a": 4082,
         "no_conv_a": 30657,
         "conv_b": 4922,
         "no_conv_b": 36666,
         "_deepnote_index_column": 123
        },
        {
         "conv_a": 4092,
         "no_conv_a": 30647,
         "conv_b": 4912,
         "no_conv_b": 36676,
         "_deepnote_index_column": 124
        }
       ],
       "rows_bottom": [
        {
         "conv_a": 4134,
         "no_conv_a": 30605,
         "conv_b": 4870,
         "no_conv_b": 36718,
         "_deepnote_index_column": 875
        },
        {
         "conv_a": 4105,
         "no_conv_a": 30634,
         "conv_b": 4899,
         "no_conv_b": 36689,
         "_deepnote_index_column": 876
        },
        {
         "conv_a": 4179,
         "no_conv_a": 30560,
         "conv_b": 4825,
         "no_conv_b": 36763,
         "_deepnote_index_column": 877
        },
        {
         "conv_a": 4124,
         "no_conv_a": 30615,
         "conv_b": 4880,
         "no_conv_b": 36708,
         "_deepnote_index_column": 878
        },
        {
         "conv_a": 4130,
         "no_conv_a": 30609,
         "conv_b": 4874,
         "no_conv_b": 36714,
         "_deepnote_index_column": 879
        },
        {
         "conv_a": 4102,
         "no_conv_a": 30637,
         "conv_b": 4902,
         "no_conv_b": 36686,
         "_deepnote_index_column": 880
        },
        {
         "conv_a": 4123,
         "no_conv_a": 30616,
         "conv_b": 4881,
         "no_conv_b": 36707,
         "_deepnote_index_column": 881
        },
        {
         "conv_a": 4062,
         "no_conv_a": 30677,
         "conv_b": 4942,
         "no_conv_b": 36646,
         "_deepnote_index_column": 882
        },
        {
         "conv_a": 4105,
         "no_conv_a": 30634,
         "conv_b": 4899,
         "no_conv_b": 36689,
         "_deepnote_index_column": 883
        },
        {
         "conv_a": 4092,
         "no_conv_a": 30647,
         "conv_b": 4912,
         "no_conv_b": 36676,
         "_deepnote_index_column": 884
        },
        {
         "conv_a": 4097,
         "no_conv_a": 30642,
         "conv_b": 4907,
         "no_conv_b": 36681,
         "_deepnote_index_column": 885
        },
        {
         "conv_a": 4107,
         "no_conv_a": 30632,
         "conv_b": 4897,
         "no_conv_b": 36691,
         "_deepnote_index_column": 886
        },
        {
         "conv_a": 4138,
         "no_conv_a": 30601,
         "conv_b": 4866,
         "no_conv_b": 36722,
         "_deepnote_index_column": 887
        },
        {
         "conv_a": 4155,
         "no_conv_a": 30584,
         "conv_b": 4849,
         "no_conv_b": 36739,
         "_deepnote_index_column": 888
        },
        {
         "conv_a": 4058,
         "no_conv_a": 30681,
         "conv_b": 4946,
         "no_conv_b": 36642,
         "_deepnote_index_column": 889
        },
        {
         "conv_a": 4085,
         "no_conv_a": 30654,
         "conv_b": 4919,
         "no_conv_b": 36669,
         "_deepnote_index_column": 890
        },
        {
         "conv_a": 4101,
         "no_conv_a": 30638,
         "conv_b": 4903,
         "no_conv_b": 36685,
         "_deepnote_index_column": 891
        },
        {
         "conv_a": 4190,
         "no_conv_a": 30549,
         "conv_b": 4814,
         "no_conv_b": 36774,
         "_deepnote_index_column": 892
        },
        {
         "conv_a": 4087,
         "no_conv_a": 30652,
         "conv_b": 4917,
         "no_conv_b": 36671,
         "_deepnote_index_column": 893
        },
        {
         "conv_a": 4076,
         "no_conv_a": 30663,
         "conv_b": 4928,
         "no_conv_b": 36660,
         "_deepnote_index_column": 894
        },
        {
         "conv_a": 4131,
         "no_conv_a": 30608,
         "conv_b": 4873,
         "no_conv_b": 36715,
         "_deepnote_index_column": 895
        },
        {
         "conv_a": 4139,
         "no_conv_a": 30600,
         "conv_b": 4865,
         "no_conv_b": 36723,
         "_deepnote_index_column": 896
        },
        {
         "conv_a": 4074,
         "no_conv_a": 30665,
         "conv_b": 4930,
         "no_conv_b": 36658,
         "_deepnote_index_column": 897
        },
        {
         "conv_a": 4103,
         "no_conv_a": 30636,
         "conv_b": 4901,
         "no_conv_b": 36687,
         "_deepnote_index_column": 898
        },
        {
         "conv_a": 4167,
         "no_conv_a": 30572,
         "conv_b": 4837,
         "no_conv_b": 36751,
         "_deepnote_index_column": 899
        },
        {
         "conv_a": 4066,
         "no_conv_a": 30673,
         "conv_b": 4938,
         "no_conv_b": 36650,
         "_deepnote_index_column": 900
        },
        {
         "conv_a": 4009,
         "no_conv_a": 30730,
         "conv_b": 4995,
         "no_conv_b": 36593,
         "_deepnote_index_column": 901
        },
        {
         "conv_a": 4116,
         "no_conv_a": 30623,
         "conv_b": 4888,
         "no_conv_b": 36700,
         "_deepnote_index_column": 902
        },
        {
         "conv_a": 4133,
         "no_conv_a": 30606,
         "conv_b": 4871,
         "no_conv_b": 36717,
         "_deepnote_index_column": 903
        },
        {
         "conv_a": 4052,
         "no_conv_a": 30687,
         "conv_b": 4952,
         "no_conv_b": 36636,
         "_deepnote_index_column": 904
        },
        {
         "conv_a": 4082,
         "no_conv_a": 30657,
         "conv_b": 4922,
         "no_conv_b": 36666,
         "_deepnote_index_column": 905
        },
        {
         "conv_a": 4134,
         "no_conv_a": 30605,
         "conv_b": 4870,
         "no_conv_b": 36718,
         "_deepnote_index_column": 906
        },
        {
         "conv_a": 4059,
         "no_conv_a": 30680,
         "conv_b": 4945,
         "no_conv_b": 36643,
         "_deepnote_index_column": 907
        },
        {
         "conv_a": 4125,
         "no_conv_a": 30614,
         "conv_b": 4879,
         "no_conv_b": 36709,
         "_deepnote_index_column": 908
        },
        {
         "conv_a": 4127,
         "no_conv_a": 30612,
         "conv_b": 4877,
         "no_conv_b": 36711,
         "_deepnote_index_column": 909
        },
        {
         "conv_a": 4137,
         "no_conv_a": 30602,
         "conv_b": 4867,
         "no_conv_b": 36721,
         "_deepnote_index_column": 910
        },
        {
         "conv_a": 4148,
         "no_conv_a": 30591,
         "conv_b": 4856,
         "no_conv_b": 36732,
         "_deepnote_index_column": 911
        },
        {
         "conv_a": 4074,
         "no_conv_a": 30665,
         "conv_b": 4930,
         "no_conv_b": 36658,
         "_deepnote_index_column": 912
        },
        {
         "conv_a": 4062,
         "no_conv_a": 30677,
         "conv_b": 4942,
         "no_conv_b": 36646,
         "_deepnote_index_column": 913
        },
        {
         "conv_a": 4060,
         "no_conv_a": 30679,
         "conv_b": 4944,
         "no_conv_b": 36644,
         "_deepnote_index_column": 914
        },
        {
         "conv_a": 4102,
         "no_conv_a": 30637,
         "conv_b": 4902,
         "no_conv_b": 36686,
         "_deepnote_index_column": 915
        },
        {
         "conv_a": 4054,
         "no_conv_a": 30685,
         "conv_b": 4950,
         "no_conv_b": 36638,
         "_deepnote_index_column": 916
        },
        {
         "conv_a": 4067,
         "no_conv_a": 30672,
         "conv_b": 4937,
         "no_conv_b": 36651,
         "_deepnote_index_column": 917
        },
        {
         "conv_a": 4093,
         "no_conv_a": 30646,
         "conv_b": 4911,
         "no_conv_b": 36677,
         "_deepnote_index_column": 918
        },
        {
         "conv_a": 4087,
         "no_conv_a": 30652,
         "conv_b": 4917,
         "no_conv_b": 36671,
         "_deepnote_index_column": 919
        },
        {
         "conv_a": 4155,
         "no_conv_a": 30584,
         "conv_b": 4849,
         "no_conv_b": 36739,
         "_deepnote_index_column": 920
        },
        {
         "conv_a": 4024,
         "no_conv_a": 30715,
         "conv_b": 4980,
         "no_conv_b": 36608,
         "_deepnote_index_column": 921
        },
        {
         "conv_a": 4104,
         "no_conv_a": 30635,
         "conv_b": 4900,
         "no_conv_b": 36688,
         "_deepnote_index_column": 922
        },
        {
         "conv_a": 4073,
         "no_conv_a": 30666,
         "conv_b": 4931,
         "no_conv_b": 36657,
         "_deepnote_index_column": 923
        },
        {
         "conv_a": 4076,
         "no_conv_a": 30663,
         "conv_b": 4928,
         "no_conv_b": 36660,
         "_deepnote_index_column": 924
        },
        {
         "conv_a": 4076,
         "no_conv_a": 30663,
         "conv_b": 4928,
         "no_conv_b": 36660,
         "_deepnote_index_column": 925
        },
        {
         "conv_a": 4108,
         "no_conv_a": 30631,
         "conv_b": 4896,
         "no_conv_b": 36692,
         "_deepnote_index_column": 926
        },
        {
         "conv_a": 4091,
         "no_conv_a": 30648,
         "conv_b": 4913,
         "no_conv_b": 36675,
         "_deepnote_index_column": 927
        },
        {
         "conv_a": 4055,
         "no_conv_a": 30684,
         "conv_b": 4949,
         "no_conv_b": 36639,
         "_deepnote_index_column": 928
        },
        {
         "conv_a": 4126,
         "no_conv_a": 30613,
         "conv_b": 4878,
         "no_conv_b": 36710,
         "_deepnote_index_column": 929
        },
        {
         "conv_a": 4183,
         "no_conv_a": 30556,
         "conv_b": 4821,
         "no_conv_b": 36767,
         "_deepnote_index_column": 930
        },
        {
         "conv_a": 4081,
         "no_conv_a": 30658,
         "conv_b": 4923,
         "no_conv_b": 36665,
         "_deepnote_index_column": 931
        },
        {
         "conv_a": 4157,
         "no_conv_a": 30582,
         "conv_b": 4847,
         "no_conv_b": 36741,
         "_deepnote_index_column": 932
        },
        {
         "conv_a": 4106,
         "no_conv_a": 30633,
         "conv_b": 4898,
         "no_conv_b": 36690,
         "_deepnote_index_column": 933
        },
        {
         "conv_a": 4160,
         "no_conv_a": 30579,
         "conv_b": 4844,
         "no_conv_b": 36744,
         "_deepnote_index_column": 934
        },
        {
         "conv_a": 4195,
         "no_conv_a": 30544,
         "conv_b": 4809,
         "no_conv_b": 36779,
         "_deepnote_index_column": 935
        },
        {
         "conv_a": 4133,
         "no_conv_a": 30606,
         "conv_b": 4871,
         "no_conv_b": 36717,
         "_deepnote_index_column": 936
        },
        {
         "conv_a": 4049,
         "no_conv_a": 30690,
         "conv_b": 4955,
         "no_conv_b": 36633,
         "_deepnote_index_column": 937
        },
        {
         "conv_a": 4062,
         "no_conv_a": 30677,
         "conv_b": 4942,
         "no_conv_b": 36646,
         "_deepnote_index_column": 938
        },
        {
         "conv_a": 4108,
         "no_conv_a": 30631,
         "conv_b": 4896,
         "no_conv_b": 36692,
         "_deepnote_index_column": 939
        },
        {
         "conv_a": 4163,
         "no_conv_a": 30576,
         "conv_b": 4841,
         "no_conv_b": 36747,
         "_deepnote_index_column": 940
        },
        {
         "conv_a": 4005,
         "no_conv_a": 30734,
         "conv_b": 4999,
         "no_conv_b": 36589,
         "_deepnote_index_column": 941
        },
        {
         "conv_a": 4247,
         "no_conv_a": 30492,
         "conv_b": 4757,
         "no_conv_b": 36831,
         "_deepnote_index_column": 942
        },
        {
         "conv_a": 4026,
         "no_conv_a": 30713,
         "conv_b": 4978,
         "no_conv_b": 36610,
         "_deepnote_index_column": 943
        },
        {
         "conv_a": 4071,
         "no_conv_a": 30668,
         "conv_b": 4933,
         "no_conv_b": 36655,
         "_deepnote_index_column": 944
        },
        {
         "conv_a": 4029,
         "no_conv_a": 30710,
         "conv_b": 4975,
         "no_conv_b": 36613,
         "_deepnote_index_column": 945
        },
        {
         "conv_a": 4113,
         "no_conv_a": 30626,
         "conv_b": 4891,
         "no_conv_b": 36697,
         "_deepnote_index_column": 946
        },
        {
         "conv_a": 4121,
         "no_conv_a": 30618,
         "conv_b": 4883,
         "no_conv_b": 36705,
         "_deepnote_index_column": 947
        },
        {
         "conv_a": 4102,
         "no_conv_a": 30637,
         "conv_b": 4902,
         "no_conv_b": 36686,
         "_deepnote_index_column": 948
        },
        {
         "conv_a": 4171,
         "no_conv_a": 30568,
         "conv_b": 4833,
         "no_conv_b": 36755,
         "_deepnote_index_column": 949
        },
        {
         "conv_a": 4123,
         "no_conv_a": 30616,
         "conv_b": 4881,
         "no_conv_b": 36707,
         "_deepnote_index_column": 950
        },
        {
         "conv_a": 4084,
         "no_conv_a": 30655,
         "conv_b": 4920,
         "no_conv_b": 36668,
         "_deepnote_index_column": 951
        },
        {
         "conv_a": 4131,
         "no_conv_a": 30608,
         "conv_b": 4873,
         "no_conv_b": 36715,
         "_deepnote_index_column": 952
        },
        {
         "conv_a": 4100,
         "no_conv_a": 30639,
         "conv_b": 4904,
         "no_conv_b": 36684,
         "_deepnote_index_column": 953
        },
        {
         "conv_a": 4187,
         "no_conv_a": 30552,
         "conv_b": 4817,
         "no_conv_b": 36771,
         "_deepnote_index_column": 954
        },
        {
         "conv_a": 4022,
         "no_conv_a": 30717,
         "conv_b": 4982,
         "no_conv_b": 36606,
         "_deepnote_index_column": 955
        },
        {
         "conv_a": 4119,
         "no_conv_a": 30620,
         "conv_b": 4885,
         "no_conv_b": 36703,
         "_deepnote_index_column": 956
        },
        {
         "conv_a": 4066,
         "no_conv_a": 30673,
         "conv_b": 4938,
         "no_conv_b": 36650,
         "_deepnote_index_column": 957
        },
        {
         "conv_a": 4088,
         "no_conv_a": 30651,
         "conv_b": 4916,
         "no_conv_b": 36672,
         "_deepnote_index_column": 958
        },
        {
         "conv_a": 4053,
         "no_conv_a": 30686,
         "conv_b": 4951,
         "no_conv_b": 36637,
         "_deepnote_index_column": 959
        },
        {
         "conv_a": 4101,
         "no_conv_a": 30638,
         "conv_b": 4903,
         "no_conv_b": 36685,
         "_deepnote_index_column": 960
        },
        {
         "conv_a": 4045,
         "no_conv_a": 30694,
         "conv_b": 4959,
         "no_conv_b": 36629,
         "_deepnote_index_column": 961
        },
        {
         "conv_a": 4079,
         "no_conv_a": 30660,
         "conv_b": 4925,
         "no_conv_b": 36663,
         "_deepnote_index_column": 962
        },
        {
         "conv_a": 4118,
         "no_conv_a": 30621,
         "conv_b": 4886,
         "no_conv_b": 36702,
         "_deepnote_index_column": 963
        },
        {
         "conv_a": 4112,
         "no_conv_a": 30627,
         "conv_b": 4892,
         "no_conv_b": 36696,
         "_deepnote_index_column": 964
        },
        {
         "conv_a": 4118,
         "no_conv_a": 30621,
         "conv_b": 4886,
         "no_conv_b": 36702,
         "_deepnote_index_column": 965
        },
        {
         "conv_a": 4071,
         "no_conv_a": 30668,
         "conv_b": 4933,
         "no_conv_b": 36655,
         "_deepnote_index_column": 966
        },
        {
         "conv_a": 4002,
         "no_conv_a": 30737,
         "conv_b": 5002,
         "no_conv_b": 36586,
         "_deepnote_index_column": 967
        },
        {
         "conv_a": 4097,
         "no_conv_a": 30642,
         "conv_b": 4907,
         "no_conv_b": 36681,
         "_deepnote_index_column": 968
        },
        {
         "conv_a": 4166,
         "no_conv_a": 30573,
         "conv_b": 4838,
         "no_conv_b": 36750,
         "_deepnote_index_column": 969
        },
        {
         "conv_a": 4101,
         "no_conv_a": 30638,
         "conv_b": 4903,
         "no_conv_b": 36685,
         "_deepnote_index_column": 970
        },
        {
         "conv_a": 4065,
         "no_conv_a": 30674,
         "conv_b": 4939,
         "no_conv_b": 36649,
         "_deepnote_index_column": 971
        },
        {
         "conv_a": 4081,
         "no_conv_a": 30658,
         "conv_b": 4923,
         "no_conv_b": 36665,
         "_deepnote_index_column": 972
        },
        {
         "conv_a": 4122,
         "no_conv_a": 30617,
         "conv_b": 4882,
         "no_conv_b": 36706,
         "_deepnote_index_column": 973
        },
        {
         "conv_a": 4168,
         "no_conv_a": 30571,
         "conv_b": 4836,
         "no_conv_b": 36752,
         "_deepnote_index_column": 974
        },
        {
         "conv_a": 4118,
         "no_conv_a": 30621,
         "conv_b": 4886,
         "no_conv_b": 36702,
         "_deepnote_index_column": 975
        },
        {
         "conv_a": 4169,
         "no_conv_a": 30570,
         "conv_b": 4835,
         "no_conv_b": 36753,
         "_deepnote_index_column": 976
        },
        {
         "conv_a": 4208,
         "no_conv_a": 30531,
         "conv_b": 4796,
         "no_conv_b": 36792,
         "_deepnote_index_column": 977
        },
        {
         "conv_a": 4153,
         "no_conv_a": 30586,
         "conv_b": 4851,
         "no_conv_b": 36737,
         "_deepnote_index_column": 978
        },
        {
         "conv_a": 4147,
         "no_conv_a": 30592,
         "conv_b": 4857,
         "no_conv_b": 36731,
         "_deepnote_index_column": 979
        },
        {
         "conv_a": 4145,
         "no_conv_a": 30594,
         "conv_b": 4859,
         "no_conv_b": 36729,
         "_deepnote_index_column": 980
        },
        {
         "conv_a": 4077,
         "no_conv_a": 30662,
         "conv_b": 4927,
         "no_conv_b": 36661,
         "_deepnote_index_column": 981
        },
        {
         "conv_a": 4127,
         "no_conv_a": 30612,
         "conv_b": 4877,
         "no_conv_b": 36711,
         "_deepnote_index_column": 982
        },
        {
         "conv_a": 4169,
         "no_conv_a": 30570,
         "conv_b": 4835,
         "no_conv_b": 36753,
         "_deepnote_index_column": 983
        },
        {
         "conv_a": 4098,
         "no_conv_a": 30641,
         "conv_b": 4906,
         "no_conv_b": 36682,
         "_deepnote_index_column": 984
        },
        {
         "conv_a": 4150,
         "no_conv_a": 30589,
         "conv_b": 4854,
         "no_conv_b": 36734,
         "_deepnote_index_column": 985
        },
        {
         "conv_a": 4070,
         "no_conv_a": 30669,
         "conv_b": 4934,
         "no_conv_b": 36654,
         "_deepnote_index_column": 986
        },
        {
         "conv_a": 4118,
         "no_conv_a": 30621,
         "conv_b": 4886,
         "no_conv_b": 36702,
         "_deepnote_index_column": 987
        },
        {
         "conv_a": 4086,
         "no_conv_a": 30653,
         "conv_b": 4918,
         "no_conv_b": 36670,
         "_deepnote_index_column": 988
        },
        {
         "conv_a": 4111,
         "no_conv_a": 30628,
         "conv_b": 4893,
         "no_conv_b": 36695,
         "_deepnote_index_column": 989
        },
        {
         "conv_a": 4125,
         "no_conv_a": 30614,
         "conv_b": 4879,
         "no_conv_b": 36709,
         "_deepnote_index_column": 990
        },
        {
         "conv_a": 4139,
         "no_conv_a": 30600,
         "conv_b": 4865,
         "no_conv_b": 36723,
         "_deepnote_index_column": 991
        },
        {
         "conv_a": 4018,
         "no_conv_a": 30721,
         "conv_b": 4986,
         "no_conv_b": 36602,
         "_deepnote_index_column": 992
        },
        {
         "conv_a": 4049,
         "no_conv_a": 30690,
         "conv_b": 4955,
         "no_conv_b": 36633,
         "_deepnote_index_column": 993
        },
        {
         "conv_a": 4176,
         "no_conv_a": 30563,
         "conv_b": 4828,
         "no_conv_b": 36760,
         "_deepnote_index_column": 994
        },
        {
         "conv_a": 4029,
         "no_conv_a": 30710,
         "conv_b": 4975,
         "no_conv_b": 36613,
         "_deepnote_index_column": 995
        },
        {
         "conv_a": 4085,
         "no_conv_a": 30654,
         "conv_b": 4919,
         "no_conv_b": 36669,
         "_deepnote_index_column": 996
        },
        {
         "conv_a": 4125,
         "no_conv_a": 30614,
         "conv_b": 4879,
         "no_conv_b": 36709,
         "_deepnote_index_column": 997
        },
        {
         "conv_a": 4055,
         "no_conv_a": 30684,
         "conv_b": 4949,
         "no_conv_b": 36639,
         "_deepnote_index_column": 998
        },
        {
         "conv_a": 4125,
         "no_conv_a": 30614,
         "conv_b": 4879,
         "no_conv_b": 36709,
         "_deepnote_index_column": 999
        }
       ]
      },
      "text/plain": "     conv_a  no_conv_a  conv_b  no_conv_b\n0      4130      30609    4874      36714\n1      4145      30594    4859      36729\n2      4114      30625    4890      36698\n3      4134      30605    4870      36718\n4      4110      30629    4894      36694\n..      ...        ...     ...        ...\n995    4029      30710    4975      36613\n996    4085      30654    4919      36669\n997    4125      30614    4879      36709\n998    4055      30684    4949      36639\n999    4125      30614    4879      36709\n\n[1000 rows x 4 columns]",
      "text/html": "<div>\n<style scoped>\n    .dataframe tbody tr th:only-of-type {\n        vertical-align: middle;\n    }\n\n    .dataframe tbody tr th {\n        vertical-align: top;\n    }\n\n    .dataframe thead th {\n        text-align: right;\n    }\n</style>\n<table border=\"1\" class=\"dataframe\">\n  <thead>\n    <tr style=\"text-align: right;\">\n      <th></th>\n      <th>conv_a</th>\n      <th>no_conv_a</th>\n      <th>conv_b</th>\n      <th>no_conv_b</th>\n    </tr>\n  </thead>\n  <tbody>\n    <tr>\n      <th>0</th>\n      <td>4130</td>\n      <td>30609</td>\n      <td>4874</td>\n      <td>36714</td>\n    </tr>\n    <tr>\n      <th>1</th>\n      <td>4145</td>\n      <td>30594</td>\n      <td>4859</td>\n      <td>36729</td>\n    </tr>\n    <tr>\n      <th>2</th>\n      <td>4114</td>\n      <td>30625</td>\n      <td>4890</td>\n      <td>36698</td>\n    </tr>\n    <tr>\n      <th>3</th>\n      <td>4134</td>\n      <td>30605</td>\n      <td>4870</td>\n      <td>36718</td>\n    </tr>\n    <tr>\n      <th>4</th>\n      <td>4110</td>\n      <td>30629</td>\n      <td>4894</td>\n      <td>36694</td>\n    </tr>\n    <tr>\n      <th>...</th>\n      <td>...</td>\n      <td>...</td>\n      <td>...</td>\n      <td>...</td>\n    </tr>\n    <tr>\n      <th>995</th>\n      <td>4029</td>\n      <td>30710</td>\n      <td>4975</td>\n      <td>36613</td>\n    </tr>\n    <tr>\n      <th>996</th>\n      <td>4085</td>\n      <td>30654</td>\n      <td>4919</td>\n      <td>36669</td>\n    </tr>\n    <tr>\n      <th>997</th>\n      <td>4125</td>\n      <td>30614</td>\n      <td>4879</td>\n      <td>36709</td>\n    </tr>\n    <tr>\n      <th>998</th>\n      <td>4055</td>\n      <td>30684</td>\n      <td>4949</td>\n      <td>36639</td>\n    </tr>\n    <tr>\n      <th>999</th>\n      <td>4125</td>\n      <td>30614</td>\n      <td>4879</td>\n      <td>36709</td>\n    </tr>\n  </tbody>\n</table>\n<p>1000 rows × 4 columns</p>\n</div>"
     },
     "metadata": {}
    }
   ],
   "execution_count": null
  },
  {
   "cell_type": "code",
   "source": "results['a_conv_rate'] = results['conv_a'] / (results['conv_a'] +results['no_conv_a'])\nresults['b_conv_rate'] = results['conv_b'] / (results['conv_b'] +results['no_conv_b'])\n\nresults['diff'] = 1 -(results['a_conv_rate']/results['b_conv_rate'])\nresults",
   "metadata": {
    "tags": [],
    "cell_id": "00012-099da270-197d-4f9b-9af8-83228d00a82f",
    "deepnote_to_be_reexecuted": false,
    "source_hash": "2d215055",
    "execution_start": 1632275043336,
    "execution_millis": 48,
    "deepnote_cell_type": "code"
   },
   "outputs": [
    {
     "output_type": "execute_result",
     "execution_count": 8,
     "data": {
      "application/vnd.deepnote.dataframe.v2+json": {
       "row_count": 1000,
       "column_count": 7,
       "columns": [
        {
         "name": "conv_a",
         "dtype": "int64",
         "stats": {
          "unique_count": 210,
          "nan_count": 0,
          "min": "3940",
          "max": "4247",
          "histogram": [
           {
            "bin_start": 3940,
            "bin_end": 3970.7,
            "count": 4
           },
           {
            "bin_start": 3970.7,
            "bin_end": 4001.4,
            "count": 13
           },
           {
            "bin_start": 4001.4,
            "bin_end": 4032.1,
            "count": 55
           },
           {
            "bin_start": 4032.1,
            "bin_end": 4062.8,
            "count": 140
           },
           {
            "bin_start": 4062.8,
            "bin_end": 4093.5,
            "count": 250
           },
           {
            "bin_start": 4093.5,
            "bin_end": 4124.2,
            "count": 236
           },
           {
            "bin_start": 4124.2,
            "bin_end": 4154.9,
            "count": 187
           },
           {
            "bin_start": 4154.9,
            "bin_end": 4185.6,
            "count": 85
           },
           {
            "bin_start": 4185.6,
            "bin_end": 4216.3,
            "count": 27
           },
           {
            "bin_start": 4216.3,
            "bin_end": 4247,
            "count": 3
           }
          ]
         }
        },
        {
         "name": "no_conv_a",
         "dtype": "int64",
         "stats": {
          "unique_count": 210,
          "nan_count": 0,
          "min": "30492",
          "max": "30799",
          "histogram": [
           {
            "bin_start": 30492,
            "bin_end": 30522.7,
            "count": 3
           },
           {
            "bin_start": 30522.7,
            "bin_end": 30553.4,
            "count": 27
           },
           {
            "bin_start": 30553.4,
            "bin_end": 30584.1,
            "count": 85
           },
           {
            "bin_start": 30584.1,
            "bin_end": 30614.8,
            "count": 187
           },
           {
            "bin_start": 30614.8,
            "bin_end": 30645.5,
            "count": 236
           },
           {
            "bin_start": 30645.5,
            "bin_end": 30676.2,
            "count": 250
           },
           {
            "bin_start": 30676.2,
            "bin_end": 30706.9,
            "count": 140
           },
           {
            "bin_start": 30706.9,
            "bin_end": 30737.6,
            "count": 55
           },
           {
            "bin_start": 30737.6,
            "bin_end": 30768.3,
            "count": 13
           },
           {
            "bin_start": 30768.3,
            "bin_end": 30799,
            "count": 4
           }
          ]
         }
        },
        {
         "name": "conv_b",
         "dtype": "int64",
         "stats": {
          "unique_count": 210,
          "nan_count": 0,
          "min": "4757",
          "max": "5064",
          "histogram": [
           {
            "bin_start": 4757,
            "bin_end": 4787.7,
            "count": 3
           },
           {
            "bin_start": 4787.7,
            "bin_end": 4818.4,
            "count": 27
           },
           {
            "bin_start": 4818.4,
            "bin_end": 4849.1,
            "count": 85
           },
           {
            "bin_start": 4849.1,
            "bin_end": 4879.8,
            "count": 187
           },
           {
            "bin_start": 4879.8,
            "bin_end": 4910.5,
            "count": 236
           },
           {
            "bin_start": 4910.5,
            "bin_end": 4941.2,
            "count": 250
           },
           {
            "bin_start": 4941.2,
            "bin_end": 4971.9,
            "count": 140
           },
           {
            "bin_start": 4971.9,
            "bin_end": 5002.6,
            "count": 55
           },
           {
            "bin_start": 5002.6,
            "bin_end": 5033.3,
            "count": 13
           },
           {
            "bin_start": 5033.3,
            "bin_end": 5064,
            "count": 4
           }
          ]
         }
        },
        {
         "name": "no_conv_b",
         "dtype": "int64",
         "stats": {
          "unique_count": 210,
          "nan_count": 0,
          "min": "36524",
          "max": "36831",
          "histogram": [
           {
            "bin_start": 36524,
            "bin_end": 36554.7,
            "count": 4
           },
           {
            "bin_start": 36554.7,
            "bin_end": 36585.4,
            "count": 13
           },
           {
            "bin_start": 36585.4,
            "bin_end": 36616.1,
            "count": 55
           },
           {
            "bin_start": 36616.1,
            "bin_end": 36646.8,
            "count": 140
           },
           {
            "bin_start": 36646.8,
            "bin_end": 36677.5,
            "count": 250
           },
           {
            "bin_start": 36677.5,
            "bin_end": 36708.2,
            "count": 236
           },
           {
            "bin_start": 36708.2,
            "bin_end": 36738.9,
            "count": 187
           },
           {
            "bin_start": 36738.9,
            "bin_end": 36769.6,
            "count": 85
           },
           {
            "bin_start": 36769.6,
            "bin_end": 36800.3,
            "count": 27
           },
           {
            "bin_start": 36800.3,
            "bin_end": 36831,
            "count": 3
           }
          ]
         }
        },
        {
         "name": "a_conv_rate",
         "dtype": "float64",
         "stats": {
          "unique_count": 210,
          "nan_count": 0,
          "min": "0.11341719681050116",
          "max": "0.12225452661274072",
          "histogram": [
           {
            "bin_start": 0.11341719681050116,
            "bin_end": 0.11430092979072512,
            "count": 4
           },
           {
            "bin_start": 0.11430092979072512,
            "bin_end": 0.11518466277094908,
            "count": 13
           },
           {
            "bin_start": 0.11518466277094908,
            "bin_end": 0.11606839575117303,
            "count": 55
           },
           {
            "bin_start": 0.11606839575117303,
            "bin_end": 0.11695212873139699,
            "count": 140
           },
           {
            "bin_start": 0.11695212873139699,
            "bin_end": 0.11783586171162094,
            "count": 250
           },
           {
            "bin_start": 0.11783586171162094,
            "bin_end": 0.1187195946918449,
            "count": 236
           },
           {
            "bin_start": 0.1187195946918449,
            "bin_end": 0.11960332767206885,
            "count": 187
           },
           {
            "bin_start": 0.11960332767206885,
            "bin_end": 0.12048706065229281,
            "count": 85
           },
           {
            "bin_start": 0.12048706065229281,
            "bin_end": 0.12137079363251677,
            "count": 27
           },
           {
            "bin_start": 0.12137079363251677,
            "bin_end": 0.12225452661274072,
            "count": 3
           }
          ]
         }
        },
        {
         "name": "b_conv_rate",
         "dtype": "float64",
         "stats": {
          "unique_count": 210,
          "nan_count": 0,
          "min": "0.1143839569106473",
          "max": "0.12176589400788689",
          "histogram": [
           {
            "bin_start": 0.1143839569106473,
            "bin_end": 0.11512215062037126,
            "count": 3
           },
           {
            "bin_start": 0.11512215062037126,
            "bin_end": 0.11586034433009522,
            "count": 27
           },
           {
            "bin_start": 0.11586034433009522,
            "bin_end": 0.11659853803981918,
            "count": 85
           },
           {
            "bin_start": 0.11659853803981918,
            "bin_end": 0.11733673174954314,
            "count": 187
           },
           {
            "bin_start": 0.11733673174954314,
            "bin_end": 0.1180749254592671,
            "count": 236
           },
           {
            "bin_start": 0.1180749254592671,
            "bin_end": 0.11881311916899105,
            "count": 250
           },
           {
            "bin_start": 0.11881311916899105,
            "bin_end": 0.11955131287871501,
            "count": 140
           },
           {
            "bin_start": 0.11955131287871501,
            "bin_end": 0.12028950658843897,
            "count": 55
           },
           {
            "bin_start": 0.12028950658843897,
            "bin_end": 0.12102770029816293,
            "count": 13
           },
           {
            "bin_start": 0.12102770029816293,
            "bin_end": 0.12176589400788689,
            "count": 4
           }
          ]
         }
        },
        {
         "name": "diff",
         "dtype": "float64",
         "stats": {
          "unique_count": 210,
          "nan_count": 0,
          "min": "-0.06880833566757638",
          "max": "0.06856351086984147",
          "histogram": [
           {
            "bin_start": -0.06880833566757638,
            "bin_end": -0.0550711510138346,
            "count": 3
           },
           {
            "bin_start": -0.0550711510138346,
            "bin_end": -0.04133396636009281,
            "count": 22
           },
           {
            "bin_start": -0.04133396636009281,
            "bin_end": -0.02759678170635102,
            "count": 71
           },
           {
            "bin_start": -0.02759678170635102,
            "bin_end": -0.013859597052609238,
            "count": 172
           },
           {
            "bin_start": -0.013859597052609238,
            "bin_end": -0.00012241239886745525,
            "count": 237
           },
           {
            "bin_start": -0.00012241239886745525,
            "bin_end": 0.013614772254874341,
            "count": 248
           },
           {
            "bin_start": 0.013614772254874341,
            "bin_end": 0.027351956908616123,
            "count": 158
           },
           {
            "bin_start": 0.027351956908616123,
            "bin_end": 0.041089141562357906,
            "count": 69
           },
           {
            "bin_start": 0.041089141562357906,
            "bin_end": 0.05482632621609969,
            "count": 16
           },
           {
            "bin_start": 0.05482632621609969,
            "bin_end": 0.06856351086984147,
            "count": 4
           }
          ]
         }
        },
        {
         "name": "_deepnote_index_column",
         "dtype": "int64"
        }
       ],
       "rows_top": [
        {
         "conv_a": 4130,
         "no_conv_a": 30609,
         "conv_b": 4874,
         "no_conv_b": 36714,
         "a_conv_rate": 0.11888655401709894,
         "b_conv_rate": 0.11719726844282004,
         "diff": -0.014414035384306745,
         "_deepnote_index_column": 0
        },
        {
         "conv_a": 4145,
         "no_conv_a": 30594,
         "conv_b": 4859,
         "no_conv_b": 36729,
         "a_conv_rate": 0.11931834537551456,
         "b_conv_rate": 0.11683658747715688,
         "diff": -0.021241273405412375,
         "_deepnote_index_column": 1
        },
        {
         "conv_a": 4114,
         "no_conv_a": 30625,
         "conv_b": 4890,
         "no_conv_b": 36698,
         "a_conv_rate": 0.11842597656812229,
         "b_conv_rate": 0.11758199480619409,
         "diff": -0.007177814624758749,
         "_deepnote_index_column": 2
        },
        {
         "conv_a": 4134,
         "no_conv_a": 30605,
         "conv_b": 4870,
         "no_conv_b": 36718,
         "a_conv_rate": 0.1190016983793431,
         "b_conv_rate": 0.11710108685197654,
         "diff": -0.016230519958956968,
         "_deepnote_index_column": 3
        },
        {
         "conv_a": 4110,
         "no_conv_a": 30629,
         "conv_b": 4894,
         "no_conv_b": 36694,
         "a_conv_rate": 0.11831083220587812,
         "b_conv_rate": 0.1176781763970376,
         "diff": -0.005376152386199262,
         "_deepnote_index_column": 4
        },
        {
         "conv_a": 4129,
         "no_conv_a": 30610,
         "conv_b": 4875,
         "no_conv_b": 36713,
         "a_conv_rate": 0.11885776792653789,
         "b_conv_rate": 0.11722131384053092,
         "diff": -0.013960380005919593,
         "_deepnote_index_column": 5
        },
        {
         "conv_a": 4041,
         "no_conv_a": 30698,
         "conv_b": 4963,
         "no_conv_b": 36625,
         "a_conv_rate": 0.1163245919571663,
         "b_conv_rate": 0.1193373088390882,
         "diff": 0.025245389821754616,
         "_deepnote_index_column": 6
        },
        {
         "conv_a": 4104,
         "no_conv_a": 30635,
         "conv_b": 4900,
         "no_conv_b": 36688,
         "a_conv_rate": 0.11813811566251188,
         "b_conv_rate": 0.11782244878330288,
         "diff": -0.0026791743209273466,
         "_deepnote_index_column": 7
        },
        {
         "conv_a": 4086,
         "no_conv_a": 30653,
         "conv_b": 4918,
         "no_conv_b": 36670,
         "a_conv_rate": 0.11761996603241313,
         "b_conv_rate": 0.11825526594209869,
         "diff": 0.0053722758527862124,
         "_deepnote_index_column": 8
        },
        {
         "conv_a": 4140,
         "no_conv_a": 30599,
         "conv_b": 4864,
         "no_conv_b": 36724,
         "a_conv_rate": 0.11917441492270935,
         "b_conv_rate": 0.11695681446571127,
         "diff": -0.01896084864425074,
         "_deepnote_index_column": 9
        },
        {
         "conv_a": 4092,
         "no_conv_a": 30647,
         "conv_b": 4912,
         "no_conv_b": 36676,
         "a_conv_rate": 0.11779268257577938,
         "b_conv_rate": 0.11811099355583342,
         "diff": 0.0026950156837312056,
         "_deepnote_index_column": 10
        },
        {
         "conv_a": 4067,
         "no_conv_a": 30672,
         "conv_b": 4937,
         "no_conv_b": 36651,
         "a_conv_rate": 0.11707303031175335,
         "b_conv_rate": 0.11871212849860537,
         "diff": 0.013807335506340168,
         "_deepnote_index_column": 11
        },
        {
         "conv_a": 4191,
         "no_conv_a": 30548,
         "conv_b": 4813,
         "no_conv_b": 36775,
         "a_conv_rate": 0.12064250554132243,
         "b_conv_rate": 0.11573049918245648,
         "diff": -0.042443490640456494,
         "_deepnote_index_column": 12
        },
        {
         "conv_a": 4048,
         "no_conv_a": 30691,
         "conv_b": 4956,
         "no_conv_b": 36632,
         "a_conv_rate": 0.11652609459109359,
         "b_conv_rate": 0.11916899105511206,
         "diff": 0.022177719561259135,
         "_deepnote_index_column": 13
        },
        {
         "conv_a": 4037,
         "no_conv_a": 30702,
         "conv_b": 4967,
         "no_conv_b": 36621,
         "a_conv_rate": 0.11620944759492213,
         "b_conv_rate": 0.1194334904299317,
         "diff": 0.02699446213456369,
         "_deepnote_index_column": 14
        },
        {
         "conv_a": 4141,
         "no_conv_a": 30598,
         "conv_b": 4863,
         "no_conv_b": 36725,
         "a_conv_rate": 0.1192032010132704,
         "b_conv_rate": 0.11693276906800039,
         "diff": -0.01941655844949386,
         "_deepnote_index_column": 15
        },
        {
         "conv_a": 4148,
         "no_conv_a": 30591,
         "conv_b": 4856,
         "no_conv_b": 36732,
         "a_conv_rate": 0.11940470364719767,
         "b_conv_rate": 0.11676445128402424,
         "diff": -0.02261178238872663,
         "_deepnote_index_column": 16
        },
        {
         "conv_a": 4112,
         "no_conv_a": 30627,
         "conv_b": 4892,
         "no_conv_b": 36696,
         "a_conv_rate": 0.1183684043870002,
         "b_conv_rate": 0.11763008560161585,
         "diff": -0.006276615218022252,
         "_deepnote_index_column": 17
        },
        {
         "conv_a": 4166,
         "no_conv_a": 30573,
         "conv_b": 4838,
         "no_conv_b": 36750,
         "a_conv_rate": 0.1199228532772964,
         "b_conv_rate": 0.11633163412522843,
         "diff": -0.03087052957755332,
         "_deepnote_index_column": 18
        },
        {
         "conv_a": 4054,
         "no_conv_a": 30685,
         "conv_b": 4950,
         "no_conv_b": 36638,
         "a_conv_rate": 0.11669881113445983,
         "b_conv_rate": 0.11902471866884679,
         "diff": 0.01954138233133018,
         "_deepnote_index_column": 19
        },
        {
         "conv_a": 4096,
         "no_conv_a": 30643,
         "conv_b": 4908,
         "no_conv_b": 36680,
         "a_conv_rate": 0.11790782693802354,
         "b_conv_rate": 0.1180148119649899,
         "diff": 0.0009065389774810528,
         "_deepnote_index_column": 20
        },
        {
         "conv_a": 4105,
         "no_conv_a": 30634,
         "conv_b": 4899,
         "no_conv_b": 36689,
         "a_conv_rate": 0.11816690175307291,
         "b_conv_rate": 0.117798403385592,
         "diff": -0.0031282119017750354,
         "_deepnote_index_column": 21
        },
        {
         "conv_a": 4086,
         "no_conv_a": 30653,
         "conv_b": 4918,
         "no_conv_b": 36670,
         "a_conv_rate": 0.11761996603241313,
         "b_conv_rate": 0.11825526594209869,
         "diff": 0.0053722758527862124,
         "_deepnote_index_column": 22
        },
        {
         "conv_a": 4145,
         "no_conv_a": 30594,
         "conv_b": 4859,
         "no_conv_b": 36729,
         "a_conv_rate": 0.11931834537551456,
         "b_conv_rate": 0.11683658747715688,
         "diff": -0.021241273405412375,
         "_deepnote_index_column": 23
        },
        {
         "conv_a": 4096,
         "no_conv_a": 30643,
         "conv_b": 4908,
         "no_conv_b": 36680,
         "a_conv_rate": 0.11790782693802354,
         "b_conv_rate": 0.1180148119649899,
         "diff": 0.0009065389774810528,
         "_deepnote_index_column": 24
        },
        {
         "conv_a": 4140,
         "no_conv_a": 30599,
         "conv_b": 4864,
         "no_conv_b": 36724,
         "a_conv_rate": 0.11917441492270935,
         "b_conv_rate": 0.11695681446571127,
         "diff": -0.01896084864425074,
         "_deepnote_index_column": 25
        },
        {
         "conv_a": 4000,
         "no_conv_a": 30739,
         "conv_b": 5004,
         "no_conv_b": 36584,
         "a_conv_rate": 0.11514436224416362,
         "b_conv_rate": 0.1203231701452342,
         "diff": 0.04304081994199116,
         "_deepnote_index_column": 26
        },
        {
         "conv_a": 3997,
         "no_conv_a": 30742,
         "conv_b": 5007,
         "no_conv_b": 36581,
         "a_conv_rate": 0.11505800397248049,
         "b_conv_rate": 0.12039530633836684,
         "diff": 0.04433148208357929,
         "_deepnote_index_column": 27
        },
        {
         "conv_a": 4079,
         "no_conv_a": 30660,
         "conv_b": 4925,
         "no_conv_b": 36663,
         "a_conv_rate": 0.11741846339848586,
         "b_conv_rate": 0.11842358372607482,
         "diff": 0.008487501357110627,
         "_deepnote_index_column": 28
        },
        {
         "conv_a": 4133,
         "no_conv_a": 30606,
         "conv_b": 4871,
         "no_conv_b": 36717,
         "a_conv_rate": 0.11897291228878205,
         "b_conv_rate": 0.11712513224968742,
         "diff": -0.015776119126640786,
         "_deepnote_index_column": 29
        },
        {
         "conv_a": 4121,
         "no_conv_a": 30618,
         "conv_b": 4883,
         "no_conv_b": 36705,
         "a_conv_rate": 0.11862747920204957,
         "b_conv_rate": 0.11741367702221794,
         "diff": -0.01033782614270673,
         "_deepnote_index_column": 30
        },
        {
         "conv_a": 4079,
         "no_conv_a": 30660,
         "conv_b": 4925,
         "no_conv_b": 36663,
         "a_conv_rate": 0.11741846339848586,
         "b_conv_rate": 0.11842358372607482,
         "diff": 0.008487501357110627,
         "_deepnote_index_column": 31
        },
        {
         "conv_a": 4076,
         "no_conv_a": 30663,
         "conv_b": 4928,
         "no_conv_b": 36660,
         "a_conv_rate": 0.11733210512680273,
         "b_conv_rate": 0.11849571991920746,
         "diff": 0.009819888795967513,
         "_deepnote_index_column": 32
        },
        {
         "conv_a": 4084,
         "no_conv_a": 30655,
         "conv_b": 4920,
         "no_conv_b": 36668,
         "a_conv_rate": 0.11756239385129105,
         "b_conv_rate": 0.11830335673752043,
         "diff": 0.006263244819615377,
         "_deepnote_index_column": 33
        },
        {
         "conv_a": 4146,
         "no_conv_a": 30593,
         "conv_b": 4858,
         "no_conv_b": 36730,
         "a_conv_rate": 0.11934713146607559,
         "b_conv_rate": 0.116812542079446,
         "diff": -0.021697921657297448,
         "_deepnote_index_column": 34
        },
        {
         "conv_a": 4087,
         "no_conv_a": 30652,
         "conv_b": 4917,
         "no_conv_b": 36671,
         "a_conv_rate": 0.11764875212297418,
         "b_conv_rate": 0.11823122054438781,
         "diff": 0.0049265195667581585,
         "_deepnote_index_column": 35
        },
        {
         "conv_a": 4070,
         "no_conv_a": 30669,
         "conv_b": 4934,
         "no_conv_b": 36654,
         "a_conv_rate": 0.11715938858343648,
         "b_conv_rate": 0.11863999230547273,
         "diff": 0.012479802916911975,
         "_deepnote_index_column": 36
        },
        {
         "conv_a": 4052,
         "no_conv_a": 30687,
         "conv_b": 4952,
         "no_conv_b": 36636,
         "a_conv_rate": 0.11664123895333775,
         "b_conv_rate": 0.11907280946426854,
         "diff": 0.020420871245676486,
         "_deepnote_index_column": 37
        },
        {
         "conv_a": 4061,
         "no_conv_a": 30678,
         "conv_b": 4943,
         "no_conv_b": 36645,
         "a_conv_rate": 0.11690031376838711,
         "b_conv_rate": 0.11885640088487064,
         "diff": 0.016457566457680928,
         "_deepnote_index_column": 38
        },
        {
         "conv_a": 4095,
         "no_conv_a": 30644,
         "conv_b": 4909,
         "no_conv_b": 36679,
         "a_conv_rate": 0.11787904084746251,
         "b_conv_rate": 0.11803885736270078,
         "diff": 0.0013539313986004053,
         "_deepnote_index_column": 39
        },
        {
         "conv_a": 4061,
         "no_conv_a": 30678,
         "conv_b": 4943,
         "no_conv_b": 36645,
         "a_conv_rate": 0.11690031376838711,
         "b_conv_rate": 0.11885640088487064,
         "diff": 0.016457566457680928,
         "_deepnote_index_column": 40
        },
        {
         "conv_a": 4103,
         "no_conv_a": 30636,
         "conv_b": 4901,
         "no_conv_b": 36687,
         "a_conv_rate": 0.11810932957195083,
         "b_conv_rate": 0.11784649418101376,
         "diff": -0.0022303199833282328,
         "_deepnote_index_column": 41
        },
        {
         "conv_a": 4071,
         "no_conv_a": 30668,
         "conv_b": 4933,
         "no_conv_b": 36655,
         "a_conv_rate": 0.11718817467399753,
         "b_conv_rate": 0.11861594690776185,
         "diff": 0.012036933236933,
         "_deepnote_index_column": 42
        },
        {
         "conv_a": 4161,
         "no_conv_a": 30578,
         "conv_b": 4843,
         "no_conv_b": 36745,
         "a_conv_rate": 0.11977892282449121,
         "b_conv_rate": 0.11645186111378282,
         "diff": -0.028570275123877886,
         "_deepnote_index_column": 43
        },
        {
         "conv_a": 4091,
         "no_conv_a": 30648,
         "conv_b": 4913,
         "no_conv_b": 36675,
         "a_conv_rate": 0.11776389648521834,
         "b_conv_rate": 0.1181350389535443,
         "diff": 0.003141679823476462,
         "_deepnote_index_column": 44
        },
        {
         "conv_a": 4084,
         "no_conv_a": 30655,
         "conv_b": 4920,
         "no_conv_b": 36668,
         "a_conv_rate": 0.11756239385129105,
         "b_conv_rate": 0.11830335673752043,
         "diff": 0.006263244819615377,
         "_deepnote_index_column": 45
        },
        {
         "conv_a": 4106,
         "no_conv_a": 30633,
         "conv_b": 4898,
         "no_conv_b": 36690,
         "a_conv_rate": 0.11819568784363396,
         "b_conv_rate": 0.11777435798788112,
         "diff": -0.0035774328381072973,
         "_deepnote_index_column": 46
        },
        {
         "conv_a": 4102,
         "no_conv_a": 30637,
         "conv_b": 4902,
         "no_conv_b": 36686,
         "a_conv_rate": 0.1180805434813898,
         "b_conv_rate": 0.11787053957872463,
         "diff": -0.001781648776833622,
         "_deepnote_index_column": 47
        },
        {
         "conv_a": 4075,
         "no_conv_a": 30664,
         "conv_b": 4929,
         "no_conv_b": 36659,
         "a_conv_rate": 0.1173033190362417,
         "b_conv_rate": 0.11851976531691834,
         "diff": 0.010263657520953595,
         "_deepnote_index_column": 48
        },
        {
         "conv_a": 4179,
         "no_conv_a": 30560,
         "conv_b": 4825,
         "no_conv_b": 36763,
         "a_conv_rate": 0.12029707245458994,
         "b_conv_rate": 0.11601904395498702,
         "diff": -0.03687350243346854,
         "_deepnote_index_column": 49
        },
        {
         "conv_a": 4153,
         "no_conv_a": 30586,
         "conv_b": 4851,
         "no_conv_b": 36737,
         "a_conv_rate": 0.11954863410000288,
         "b_conv_rate": 0.11664422429546985,
         "diff": -0.024899730973184875,
         "_deepnote_index_column": 50
        },
        {
         "conv_a": 4049,
         "no_conv_a": 30690,
         "conv_b": 4955,
         "no_conv_b": 36633,
         "a_conv_rate": 0.11655488068165462,
         "b_conv_rate": 0.11914494565740118,
         "diff": 0.02173877340289565,
         "_deepnote_index_column": 51
        },
        {
         "conv_a": 4088,
         "no_conv_a": 30651,
         "conv_b": 4916,
         "no_conv_b": 36672,
         "a_conv_rate": 0.11767753821353522,
         "b_conv_rate": 0.11820717514667693,
         "diff": 0.004480581931549543,
         "_deepnote_index_column": 52
        },
        {
         "conv_a": 4112,
         "no_conv_a": 30627,
         "conv_b": 4892,
         "no_conv_b": 36696,
         "a_conv_rate": 0.1183684043870002,
         "b_conv_rate": 0.11763008560161585,
         "diff": -0.006276615218022252,
         "_deepnote_index_column": 53
        },
        {
         "conv_a": 4116,
         "no_conv_a": 30623,
         "conv_b": 4888,
         "no_conv_b": 36700,
         "a_conv_rate": 0.11848354874924437,
         "b_conv_rate": 0.11753390401077234,
         "diff": -0.008079751510551292,
         "_deepnote_index_column": 54
        },
        {
         "conv_a": 4070,
         "no_conv_a": 30669,
         "conv_b": 4934,
         "no_conv_b": 36654,
         "a_conv_rate": 0.11715938858343648,
         "b_conv_rate": 0.11863999230547273,
         "diff": 0.012479802916911975,
         "_deepnote_index_column": 55
        },
        {
         "conv_a": 4152,
         "no_conv_a": 30587,
         "conv_b": 4852,
         "no_conv_b": 36736,
         "a_conv_rate": 0.11951984800944183,
         "b_conv_rate": 0.11666826969318073,
         "diff": -0.02444176401827436,
         "_deepnote_index_column": 56
        },
        {
         "conv_a": 4098,
         "no_conv_a": 30641,
         "conv_b": 4906,
         "no_conv_b": 36682,
         "a_conv_rate": 0.11796539911914562,
         "b_conv_rate": 0.11796672116956815,
         "diff": 0.000011206977776567761,
         "_deepnote_index_column": 57
        },
        {
         "conv_a": 4005,
         "no_conv_a": 30734,
         "conv_b": 4999,
         "no_conv_b": 36589,
         "a_conv_rate": 0.11528829269696883,
         "b_conv_rate": 0.12020294315667981,
         "diff": 0.04088627391847577,
         "_deepnote_index_column": 58
        },
        {
         "conv_a": 4040,
         "no_conv_a": 30699,
         "conv_b": 4964,
         "no_conv_b": 36624,
         "a_conv_rate": 0.11629580586660526,
         "b_conv_rate": 0.11936135423679908,
         "diff": 0.02568292216350132,
         "_deepnote_index_column": 59
        },
        {
         "conv_a": 4084,
         "no_conv_a": 30655,
         "conv_b": 4920,
         "no_conv_b": 36668,
         "a_conv_rate": 0.11756239385129105,
         "b_conv_rate": 0.11830335673752043,
         "diff": 0.006263244819615377,
         "_deepnote_index_column": 60
        },
        {
         "conv_a": 4047,
         "no_conv_a": 30692,
         "conv_b": 4957,
         "no_conv_b": 36631,
         "a_conv_rate": 0.11649730850053254,
         "b_conv_rate": 0.11919303645282293,
         "diff": 0.022616488618086072,
         "_deepnote_index_column": 61
        },
        {
         "conv_a": 4136,
         "no_conv_a": 30603,
         "conv_b": 4868,
         "no_conv_b": 36720,
         "a_conv_rate": 0.11905927056046518,
         "b_conv_rate": 0.11705299605655478,
         "diff": -0.0171398816903503,
         "_deepnote_index_column": 62
        },
        {
         "conv_a": 4038,
         "no_conv_a": 30701,
         "conv_b": 4966,
         "no_conv_b": 36622,
         "a_conv_rate": 0.11623823368548318,
         "b_conv_rate": 0.11940944503222083,
         "diff": 0.02655745821347666,
         "_deepnote_index_column": 63
        },
        {
         "conv_a": 4122,
         "no_conv_a": 30617,
         "conv_b": 4882,
         "no_conv_b": 36706,
         "a_conv_rate": 0.11865626529261061,
         "b_conv_rate": 0.11738963162450707,
         "diff": -0.010789996105917687,
         "_deepnote_index_column": 64
        },
        {
         "conv_a": 4146,
         "no_conv_a": 30593,
         "conv_b": 4858,
         "no_conv_b": 36730,
         "a_conv_rate": 0.11934713146607559,
         "b_conv_rate": 0.116812542079446,
         "diff": -0.021697921657297448,
         "_deepnote_index_column": 65
        },
        {
         "conv_a": 4138,
         "no_conv_a": 30601,
         "conv_b": 4866,
         "no_conv_b": 36722,
         "a_conv_rate": 0.11911684274158726,
         "b_conv_rate": 0.11700490526113302,
         "diff": -0.018049990944745353,
         "_deepnote_index_column": 66
        },
        {
         "conv_a": 4106,
         "no_conv_a": 30633,
         "conv_b": 4898,
         "no_conv_b": 36690,
         "a_conv_rate": 0.11819568784363396,
         "b_conv_rate": 0.11777435798788112,
         "diff": -0.0035774328381072973,
         "_deepnote_index_column": 67
        },
        {
         "conv_a": 4138,
         "no_conv_a": 30601,
         "conv_b": 4866,
         "no_conv_b": 36722,
         "a_conv_rate": 0.11911684274158726,
         "b_conv_rate": 0.11700490526113302,
         "diff": -0.018049990944745353,
         "_deepnote_index_column": 68
        },
        {
         "conv_a": 4100,
         "no_conv_a": 30639,
         "conv_b": 4904,
         "no_conv_b": 36684,
         "a_conv_rate": 0.1180229713002677,
         "b_conv_rate": 0.11791863037414639,
         "diff": -0.0008848553090401445,
         "_deepnote_index_column": 69
        },
        {
         "conv_a": 4036,
         "no_conv_a": 30703,
         "conv_b": 4968,
         "no_conv_b": 36620,
         "a_conv_rate": 0.1161806615043611,
         "b_conv_rate": 0.11945753582764258,
         "diff": 0.027431290128146157,
         "_deepnote_index_column": 70
        }
       ],
       "rows_bottom": [
        {
         "conv_a": 4126,
         "no_conv_a": 30613,
         "conv_b": 4878,
         "no_conv_b": 36710,
         "a_conv_rate": 0.11877140965485478,
         "b_conv_rate": 0.11729345003366355,
         "diff": -0.012600529874149391,
         "_deepnote_index_column": 929
        },
        {
         "conv_a": 4183,
         "no_conv_a": 30556,
         "conv_b": 4821,
         "no_conv_b": 36767,
         "a_conv_rate": 0.1204122168168341,
         "b_conv_rate": 0.11592286236414351,
         "diff": -0.038727084210432805,
         "_deepnote_index_column": 930
        },
        {
         "conv_a": 4081,
         "no_conv_a": 30658,
         "conv_b": 4923,
         "no_conv_b": 36665,
         "a_conv_rate": 0.11747603557960794,
         "b_conv_rate": 0.11837549293065307,
         "diff": 0.007598340913114954,
         "_deepnote_index_column": 931
        },
        {
         "conv_a": 4157,
         "no_conv_a": 30582,
         "conv_b": 4847,
         "no_conv_b": 36741,
         "a_conv_rate": 0.11966377846224704,
         "b_conv_rate": 0.11654804270462633,
         "diff": -0.026733488485234158,
         "_deepnote_index_column": 932
        },
        {
         "conv_a": 4106,
         "no_conv_a": 30633,
         "conv_b": 4898,
         "no_conv_b": 36690,
         "a_conv_rate": 0.11819568784363396,
         "b_conv_rate": 0.11777435798788112,
         "diff": -0.0035774328381072973,
         "_deepnote_index_column": 933
        },
        {
         "conv_a": 4160,
         "no_conv_a": 30579,
         "conv_b": 4844,
         "no_conv_b": 36744,
         "a_conv_rate": 0.11975013673393016,
         "b_conv_rate": 0.1164759065114937,
         "diff": -0.028110794073222145,
         "_deepnote_index_column": 934
        },
        {
         "conv_a": 4195,
         "no_conv_a": 30544,
         "conv_b": 4809,
         "no_conv_b": 36779,
         "a_conv_rate": 0.12075764990356659,
         "b_conv_rate": 0.11563431759161297,
         "diff": -0.04430633066947953,
         "_deepnote_index_column": 935
        },
        {
         "conv_a": 4133,
         "no_conv_a": 30606,
         "conv_b": 4871,
         "no_conv_b": 36717,
         "a_conv_rate": 0.11897291228878205,
         "b_conv_rate": 0.11712513224968742,
         "diff": -0.015776119126640786,
         "_deepnote_index_column": 936
        },
        {
         "conv_a": 4049,
         "no_conv_a": 30690,
         "conv_b": 4955,
         "no_conv_b": 36633,
         "a_conv_rate": 0.11655488068165462,
         "b_conv_rate": 0.11914494565740118,
         "diff": 0.02173877340289565,
         "_deepnote_index_column": 937
        },
        {
         "conv_a": 4062,
         "no_conv_a": 30677,
         "conv_b": 4942,
         "no_conv_b": 36646,
         "a_conv_rate": 0.11692909985894816,
         "b_conv_rate": 0.11883235548715976,
         "diff": 0.016016308188195882,
         "_deepnote_index_column": 938
        },
        {
         "conv_a": 4108,
         "no_conv_a": 30631,
         "conv_b": 4896,
         "no_conv_b": 36692,
         "a_conv_rate": 0.11825326002475604,
         "b_conv_rate": 0.11772626719245936,
         "diff": -0.004476425226624725,
         "_deepnote_index_column": 939
        },
        {
         "conv_a": 4163,
         "no_conv_a": 30576,
         "conv_b": 4841,
         "no_conv_b": 36747,
         "a_conv_rate": 0.11983649500561329,
         "b_conv_rate": 0.11640377031836106,
         "diff": -0.02948980671213497,
         "_deepnote_index_column": 940
        },
        {
         "conv_a": 4005,
         "no_conv_a": 30734,
         "conv_b": 4999,
         "no_conv_b": 36589,
         "a_conv_rate": 0.11528829269696883,
         "b_conv_rate": 0.12020294315667981,
         "diff": 0.04088627391847577,
         "_deepnote_index_column": 941
        },
        {
         "conv_a": 4247,
         "no_conv_a": 30492,
         "conv_b": 4757,
         "no_conv_b": 36831,
         "a_conv_rate": 0.12225452661274072,
         "b_conv_rate": 0.1143839569106473,
         "diff": -0.06880833566757638,
         "_deepnote_index_column": 942
        },
        {
         "conv_a": 4026,
         "no_conv_a": 30713,
         "conv_b": 4978,
         "no_conv_b": 36610,
         "a_conv_rate": 0.11589280059875068,
         "b_conv_rate": 0.11969798980475137,
         "diff": 0.031789917376287,
         "_deepnote_index_column": 943
        },
        {
         "conv_a": 4071,
         "no_conv_a": 30668,
         "conv_b": 4933,
         "no_conv_b": 36655,
         "a_conv_rate": 0.11718817467399753,
         "b_conv_rate": 0.11861594690776185,
         "diff": 0.012036933236933,
         "_deepnote_index_column": 944
        },
        {
         "conv_a": 4029,
         "no_conv_a": 30710,
         "conv_b": 4975,
         "no_conv_b": 36613,
         "a_conv_rate": 0.11597915887043381,
         "b_conv_rate": 0.11962585361161873,
         "diff": 0.030484169024401764,
         "_deepnote_index_column": 945
        },
        {
         "conv_a": 4113,
         "no_conv_a": 30626,
         "conv_b": 4891,
         "no_conv_b": 36697,
         "a_conv_rate": 0.11839719047756124,
         "b_conv_rate": 0.11760604020390497,
         "diff": -0.006727122793051876,
         "_deepnote_index_column": 946
        },
        {
         "conv_a": 4121,
         "no_conv_a": 30618,
         "conv_b": 4883,
         "no_conv_b": 36705,
         "a_conv_rate": 0.11862747920204957,
         "b_conv_rate": 0.11741367702221794,
         "diff": -0.01033782614270673,
         "_deepnote_index_column": 947
        },
        {
         "conv_a": 4102,
         "no_conv_a": 30637,
         "conv_b": 4902,
         "no_conv_b": 36686,
         "a_conv_rate": 0.1180805434813898,
         "b_conv_rate": 0.11787053957872463,
         "diff": -0.001781648776833622,
         "_deepnote_index_column": 948
        },
        {
         "conv_a": 4171,
         "no_conv_a": 30568,
         "conv_b": 4833,
         "no_conv_b": 36755,
         "a_conv_rate": 0.12006678373010161,
         "b_conv_rate": 0.11621140713667404,
         "diff": -0.033175543506614114,
         "_deepnote_index_column": 949
        },
        {
         "conv_a": 4123,
         "no_conv_a": 30616,
         "conv_b": 4881,
         "no_conv_b": 36707,
         "a_conv_rate": 0.11868505138317165,
         "b_conv_rate": 0.11736558622679619,
         "diff": -0.01124235134672058,
         "_deepnote_index_column": 950
        },
        {
         "conv_a": 4084,
         "no_conv_a": 30655,
         "conv_b": 4920,
         "no_conv_b": 36668,
         "a_conv_rate": 0.11756239385129105,
         "b_conv_rate": 0.11830335673752043,
         "diff": 0.006263244819615377,
         "_deepnote_index_column": 951
        },
        {
         "conv_a": 4131,
         "no_conv_a": 30608,
         "conv_b": 4873,
         "no_conv_b": 36715,
         "a_conv_rate": 0.11891534010765997,
         "b_conv_rate": 0.11717322304510916,
         "diff": -0.014867876954106851,
         "_deepnote_index_column": 952
        },
        {
         "conv_a": 4100,
         "no_conv_a": 30639,
         "conv_b": 4904,
         "no_conv_b": 36684,
         "a_conv_rate": 0.1180229713002677,
         "b_conv_rate": 0.11791863037414639,
         "diff": -0.0008848553090401445,
         "_deepnote_index_column": 953
        },
        {
         "conv_a": 4187,
         "no_conv_a": 30552,
         "conv_b": 4817,
         "no_conv_b": 36771,
         "a_conv_rate": 0.12052736117907827,
         "b_conv_rate": 0.1158266807733,
         "diff": -0.04058374438769086,
         "_deepnote_index_column": 954
        },
        {
         "conv_a": 4022,
         "no_conv_a": 30717,
         "conv_b": 4982,
         "no_conv_b": 36606,
         "a_conv_rate": 0.11577765623650652,
         "b_conv_rate": 0.11979417139559488,
         "diff": 0.0335284689755454,
         "_deepnote_index_column": 955
        },
        {
         "conv_a": 4119,
         "no_conv_a": 30620,
         "conv_b": 4885,
         "no_conv_b": 36703,
         "a_conv_rate": 0.11856990702092748,
         "b_conv_rate": 0.1174617678176397,
         "diff": -0.00943404159392669,
         "_deepnote_index_column": 956
        },
        {
         "conv_a": 4066,
         "no_conv_a": 30673,
         "conv_b": 4938,
         "no_conv_b": 36650,
         "a_conv_rate": 0.11704424422119232,
         "b_conv_rate": 0.11873617389631624,
         "diff": 0.014249487915968806,
         "_deepnote_index_column": 957
        },
        {
         "conv_a": 4088,
         "no_conv_a": 30651,
         "conv_b": 4916,
         "no_conv_b": 36672,
         "a_conv_rate": 0.11767753821353522,
         "b_conv_rate": 0.11820717514667693,
         "diff": 0.004480581931549543,
         "_deepnote_index_column": 958
        },
        {
         "conv_a": 4053,
         "no_conv_a": 30686,
         "conv_b": 4951,
         "no_conv_b": 36637,
         "a_conv_rate": 0.11667002504389878,
         "b_conv_rate": 0.11904876406655766,
         "diff": 0.019981215607824176,
         "_deepnote_index_column": 959
        },
        {
         "conv_a": 4101,
         "no_conv_a": 30638,
         "conv_b": 4903,
         "no_conv_b": 36685,
         "a_conv_rate": 0.11805175739082875,
         "b_conv_rate": 0.11789458497643551,
         "diff": -0.001333160589391369,
         "_deepnote_index_column": 960
        },
        {
         "conv_a": 4045,
         "no_conv_a": 30694,
         "conv_b": 4959,
         "no_conv_b": 36629,
         "a_conv_rate": 0.11643973631941046,
         "b_conv_rate": 0.11924112724824469,
         "diff": 0.023493495855688273,
         "_deepnote_index_column": 961
        },
        {
         "conv_a": 4079,
         "no_conv_a": 30660,
         "conv_b": 4925,
         "no_conv_b": 36663,
         "a_conv_rate": 0.11741846339848586,
         "b_conv_rate": 0.11842358372607482,
         "diff": 0.008487501357110627,
         "_deepnote_index_column": 962
        },
        {
         "conv_a": 4118,
         "no_conv_a": 30621,
         "conv_b": 4886,
         "no_conv_b": 36702,
         "a_conv_rate": 0.11854112093036645,
         "b_conv_rate": 0.11748581321535058,
         "diff": -0.008982426781023234,
         "_deepnote_index_column": 963
        },
        {
         "conv_a": 4112,
         "no_conv_a": 30627,
         "conv_b": 4892,
         "no_conv_b": 36696,
         "a_conv_rate": 0.1183684043870002,
         "b_conv_rate": 0.11763008560161585,
         "diff": -0.006276615218022252,
         "_deepnote_index_column": 964
        },
        {
         "conv_a": 4118,
         "no_conv_a": 30621,
         "conv_b": 4886,
         "no_conv_b": 36702,
         "a_conv_rate": 0.11854112093036645,
         "b_conv_rate": 0.11748581321535058,
         "diff": -0.008982426781023234,
         "_deepnote_index_column": 965
        },
        {
         "conv_a": 4071,
         "no_conv_a": 30668,
         "conv_b": 4933,
         "no_conv_b": 36655,
         "a_conv_rate": 0.11718817467399753,
         "b_conv_rate": 0.11861594690776185,
         "diff": 0.012036933236933,
         "_deepnote_index_column": 966
        },
        {
         "conv_a": 4002,
         "no_conv_a": 30737,
         "conv_b": 5002,
         "no_conv_b": 36586,
         "a_conv_rate": 0.1152019344252857,
         "b_conv_rate": 0.12027507934981245,
         "diff": 0.04217951841687695,
         "_deepnote_index_column": 967
        },
        {
         "conv_a": 4097,
         "no_conv_a": 30642,
         "conv_b": 4907,
         "no_conv_b": 36681,
         "a_conv_rate": 0.11793661302858459,
         "b_conv_rate": 0.11799076656727903,
         "diff": 0.00045896420770819013,
         "_deepnote_index_column": 968
        },
        {
         "conv_a": 4166,
         "no_conv_a": 30573,
         "conv_b": 4838,
         "no_conv_b": 36750,
         "a_conv_rate": 0.1199228532772964,
         "b_conv_rate": 0.11633163412522843,
         "diff": -0.03087052957755332,
         "_deepnote_index_column": 969
        },
        {
         "conv_a": 4101,
         "no_conv_a": 30638,
         "conv_b": 4903,
         "no_conv_b": 36685,
         "a_conv_rate": 0.11805175739082875,
         "b_conv_rate": 0.11789458497643551,
         "diff": -0.001333160589391369,
         "_deepnote_index_column": 970
        },
        {
         "conv_a": 4065,
         "no_conv_a": 30674,
         "conv_b": 4939,
         "no_conv_b": 36649,
         "a_conv_rate": 0.11701545813063127,
         "b_conv_rate": 0.11876021929402712,
         "diff": 0.01469146128028076,
         "_deepnote_index_column": 971
        },
        {
         "conv_a": 4081,
         "no_conv_a": 30658,
         "conv_b": 4923,
         "no_conv_b": 36665,
         "a_conv_rate": 0.11747603557960794,
         "b_conv_rate": 0.11837549293065307,
         "diff": 0.007598340913114954,
         "_deepnote_index_column": 972
        },
        {
         "conv_a": 4122,
         "no_conv_a": 30617,
         "conv_b": 4882,
         "no_conv_b": 36706,
         "a_conv_rate": 0.11865626529261061,
         "b_conv_rate": 0.11738963162450707,
         "diff": -0.010789996105917687,
         "_deepnote_index_column": 973
        },
        {
         "conv_a": 4168,
         "no_conv_a": 30571,
         "conv_b": 4836,
         "no_conv_b": 36752,
         "a_conv_rate": 0.11998042545841849,
         "b_conv_rate": 0.11628354332980667,
         "diff": -0.031791963185423544,
         "_deepnote_index_column": 974
        },
        {
         "conv_a": 4118,
         "no_conv_a": 30621,
         "conv_b": 4886,
         "no_conv_b": 36702,
         "a_conv_rate": 0.11854112093036645,
         "b_conv_rate": 0.11748581321535058,
         "diff": -0.008982426781023234,
         "_deepnote_index_column": 975
        },
        {
         "conv_a": 4169,
         "no_conv_a": 30570,
         "conv_b": 4835,
         "no_conv_b": 36753,
         "a_conv_rate": 0.12000921154897953,
         "b_conv_rate": 0.11625949793209579,
         "diff": -0.03225296585293913,
         "_deepnote_index_column": 976
        },
        {
         "conv_a": 4208,
         "no_conv_a": 30531,
         "conv_b": 4796,
         "no_conv_b": 36792,
         "a_conv_rate": 0.12113186908086013,
         "b_conv_rate": 0.11532172742137155,
         "diff": -0.050382020712012254,
         "_deepnote_index_column": 977
        },
        {
         "conv_a": 4153,
         "no_conv_a": 30586,
         "conv_b": 4851,
         "no_conv_b": 36737,
         "a_conv_rate": 0.11954863410000288,
         "b_conv_rate": 0.11664422429546985,
         "diff": -0.024899730973184875,
         "_deepnote_index_column": 978
        },
        {
         "conv_a": 4147,
         "no_conv_a": 30592,
         "conv_b": 4857,
         "no_conv_b": 36731,
         "a_conv_rate": 0.11937591755663664,
         "b_conv_rate": 0.11678849668173512,
         "diff": -0.02215475794634636,
         "_deepnote_index_column": 979
        },
        {
         "conv_a": 4145,
         "no_conv_a": 30594,
         "conv_b": 4859,
         "no_conv_b": 36729,
         "a_conv_rate": 0.11931834537551456,
         "b_conv_rate": 0.11683658747715688,
         "diff": -0.021241273405412375,
         "_deepnote_index_column": 980
        },
        {
         "conv_a": 4077,
         "no_conv_a": 30662,
         "conv_b": 4927,
         "no_conv_b": 36661,
         "a_conv_rate": 0.11736089121736377,
         "b_conv_rate": 0.11847167452149658,
         "diff": 0.009375939933483846,
         "_deepnote_index_column": 981
        },
        {
         "conv_a": 4127,
         "no_conv_a": 30612,
         "conv_b": 4877,
         "no_conv_b": 36711,
         "a_conv_rate": 0.11880019574541581,
         "b_conv_rate": 0.11726940463595267,
         "diff": -0.013053627365255949,
         "_deepnote_index_column": 982
        },
        {
         "conv_a": 4169,
         "no_conv_a": 30570,
         "conv_b": 4835,
         "no_conv_b": 36753,
         "a_conv_rate": 0.12000921154897953,
         "b_conv_rate": 0.11625949793209579,
         "diff": -0.03225296585293913,
         "_deepnote_index_column": 983
        },
        {
         "conv_a": 4098,
         "no_conv_a": 30641,
         "conv_b": 4906,
         "no_conv_b": 36682,
         "a_conv_rate": 0.11796539911914562,
         "b_conv_rate": 0.11796672116956815,
         "diff": 0.000011206977776567761,
         "_deepnote_index_column": 984
        },
        {
         "conv_a": 4150,
         "no_conv_a": 30589,
         "conv_b": 4854,
         "no_conv_b": 36734,
         "a_conv_rate": 0.11946227582831975,
         "b_conv_rate": 0.11671636048860248,
         "diff": -0.023526396198632504,
         "_deepnote_index_column": 985
        },
        {
         "conv_a": 4070,
         "no_conv_a": 30669,
         "conv_b": 4934,
         "no_conv_b": 36654,
         "a_conv_rate": 0.11715938858343648,
         "b_conv_rate": 0.11863999230547273,
         "diff": 0.012479802916911975,
         "_deepnote_index_column": 986
        },
        {
         "conv_a": 4118,
         "no_conv_a": 30621,
         "conv_b": 4886,
         "no_conv_b": 36702,
         "a_conv_rate": 0.11854112093036645,
         "b_conv_rate": 0.11748581321535058,
         "diff": -0.008982426781023234,
         "_deepnote_index_column": 987
        },
        {
         "conv_a": 4086,
         "no_conv_a": 30653,
         "conv_b": 4918,
         "no_conv_b": 36670,
         "a_conv_rate": 0.11761996603241313,
         "b_conv_rate": 0.11825526594209869,
         "diff": 0.0053722758527862124,
         "_deepnote_index_column": 988
        },
        {
         "conv_a": 4111,
         "no_conv_a": 30628,
         "conv_b": 4893,
         "no_conv_b": 36695,
         "a_conv_rate": 0.11833961829643916,
         "b_conv_rate": 0.11765413099932673,
         "diff": -0.005826291786697579,
         "_deepnote_index_column": 989
        },
        {
         "conv_a": 4125,
         "no_conv_a": 30614,
         "conv_b": 4879,
         "no_conv_b": 36709,
         "a_conv_rate": 0.11874262356429373,
         "b_conv_rate": 0.11731749543137443,
         "diff": -0.0121476181167961,
         "_deepnote_index_column": 990
        },
        {
         "conv_a": 4139,
         "no_conv_a": 30600,
         "conv_b": 4865,
         "no_conv_b": 36723,
         "a_conv_rate": 0.11914562883214831,
         "b_conv_rate": 0.11698085986342215,
         "diff": -0.01850532618116829,
         "_deepnote_index_column": 991
        },
        {
         "conv_a": 4018,
         "no_conv_a": 30721,
         "conv_b": 4986,
         "no_conv_b": 36602,
         "a_conv_rate": 0.11566251187426235,
         "b_conv_rate": 0.1198903529864384,
         "diff": 0.0352642310816641,
         "_deepnote_index_column": 992
        },
        {
         "conv_a": 4049,
         "no_conv_a": 30690,
         "conv_b": 4955,
         "no_conv_b": 36633,
         "a_conv_rate": 0.11655488068165462,
         "b_conv_rate": 0.11914494565740118,
         "diff": 0.02173877340289565,
         "_deepnote_index_column": 993
        },
        {
         "conv_a": 4176,
         "no_conv_a": 30563,
         "conv_b": 4828,
         "no_conv_b": 36760,
         "a_conv_rate": 0.12021071418290682,
         "b_conv_rate": 0.11609118014811964,
         "diff": -0.0354853316981627,
         "_deepnote_index_column": 994
        },
        {
         "conv_a": 4029,
         "no_conv_a": 30710,
         "conv_b": 4975,
         "no_conv_b": 36613,
         "a_conv_rate": 0.11597915887043381,
         "b_conv_rate": 0.11962585361161873,
         "diff": 0.030484169024401764,
         "_deepnote_index_column": 995
        },
        {
         "conv_a": 4085,
         "no_conv_a": 30654,
         "conv_b": 4919,
         "no_conv_b": 36669,
         "a_conv_rate": 0.1175911799418521,
         "b_conv_rate": 0.11827931133980955,
         "diff": 0.005817850900234678,
         "_deepnote_index_column": 996
        },
        {
         "conv_a": 4125,
         "no_conv_a": 30614,
         "conv_b": 4879,
         "no_conv_b": 36709,
         "a_conv_rate": 0.11874262356429373,
         "b_conv_rate": 0.11731749543137443,
         "diff": -0.0121476181167961,
         "_deepnote_index_column": 997
        },
        {
         "conv_a": 4055,
         "no_conv_a": 30684,
         "conv_b": 4949,
         "no_conv_b": 36639,
         "a_conv_rate": 0.11672759722502087,
         "b_conv_rate": 0.1190006732711359,
         "diff": 0.019101371308513304,
         "_deepnote_index_column": 998
        },
        {
         "conv_a": 4125,
         "no_conv_a": 30614,
         "conv_b": 4879,
         "no_conv_b": 36709,
         "a_conv_rate": 0.11874262356429373,
         "b_conv_rate": 0.11731749543137443,
         "diff": -0.0121476181167961,
         "_deepnote_index_column": 999
        }
       ]
      },
      "text/plain": "     conv_a  no_conv_a  conv_b  no_conv_b  a_conv_rate  b_conv_rate      diff\n0      4130      30609    4874      36714     0.118887     0.117197 -0.014414\n1      4145      30594    4859      36729     0.119318     0.116837 -0.021241\n2      4114      30625    4890      36698     0.118426     0.117582 -0.007178\n3      4134      30605    4870      36718     0.119002     0.117101 -0.016231\n4      4110      30629    4894      36694     0.118311     0.117678 -0.005376\n..      ...        ...     ...        ...          ...          ...       ...\n995    4029      30710    4975      36613     0.115979     0.119626  0.030484\n996    4085      30654    4919      36669     0.117591     0.118279  0.005818\n997    4125      30614    4879      36709     0.118743     0.117317 -0.012148\n998    4055      30684    4949      36639     0.116728     0.119001  0.019101\n999    4125      30614    4879      36709     0.118743     0.117317 -0.012148\n\n[1000 rows x 7 columns]",
      "text/html": "<div>\n<style scoped>\n    .dataframe tbody tr th:only-of-type {\n        vertical-align: middle;\n    }\n\n    .dataframe tbody tr th {\n        vertical-align: top;\n    }\n\n    .dataframe thead th {\n        text-align: right;\n    }\n</style>\n<table border=\"1\" class=\"dataframe\">\n  <thead>\n    <tr style=\"text-align: right;\">\n      <th></th>\n      <th>conv_a</th>\n      <th>no_conv_a</th>\n      <th>conv_b</th>\n      <th>no_conv_b</th>\n      <th>a_conv_rate</th>\n      <th>b_conv_rate</th>\n      <th>diff</th>\n    </tr>\n  </thead>\n  <tbody>\n    <tr>\n      <th>0</th>\n      <td>4130</td>\n      <td>30609</td>\n      <td>4874</td>\n      <td>36714</td>\n      <td>0.118887</td>\n      <td>0.117197</td>\n      <td>-0.014414</td>\n    </tr>\n    <tr>\n      <th>1</th>\n      <td>4145</td>\n      <td>30594</td>\n      <td>4859</td>\n      <td>36729</td>\n      <td>0.119318</td>\n      <td>0.116837</td>\n      <td>-0.021241</td>\n    </tr>\n    <tr>\n      <th>2</th>\n      <td>4114</td>\n      <td>30625</td>\n      <td>4890</td>\n      <td>36698</td>\n      <td>0.118426</td>\n      <td>0.117582</td>\n      <td>-0.007178</td>\n    </tr>\n    <tr>\n      <th>3</th>\n      <td>4134</td>\n      <td>30605</td>\n      <td>4870</td>\n      <td>36718</td>\n      <td>0.119002</td>\n      <td>0.117101</td>\n      <td>-0.016231</td>\n    </tr>\n    <tr>\n      <th>4</th>\n      <td>4110</td>\n      <td>30629</td>\n      <td>4894</td>\n      <td>36694</td>\n      <td>0.118311</td>\n      <td>0.117678</td>\n      <td>-0.005376</td>\n    </tr>\n    <tr>\n      <th>...</th>\n      <td>...</td>\n      <td>...</td>\n      <td>...</td>\n      <td>...</td>\n      <td>...</td>\n      <td>...</td>\n      <td>...</td>\n    </tr>\n    <tr>\n      <th>995</th>\n      <td>4029</td>\n      <td>30710</td>\n      <td>4975</td>\n      <td>36613</td>\n      <td>0.115979</td>\n      <td>0.119626</td>\n      <td>0.030484</td>\n    </tr>\n    <tr>\n      <th>996</th>\n      <td>4085</td>\n      <td>30654</td>\n      <td>4919</td>\n      <td>36669</td>\n      <td>0.117591</td>\n      <td>0.118279</td>\n      <td>0.005818</td>\n    </tr>\n    <tr>\n      <th>997</th>\n      <td>4125</td>\n      <td>30614</td>\n      <td>4879</td>\n      <td>36709</td>\n      <td>0.118743</td>\n      <td>0.117317</td>\n      <td>-0.012148</td>\n    </tr>\n    <tr>\n      <th>998</th>\n      <td>4055</td>\n      <td>30684</td>\n      <td>4949</td>\n      <td>36639</td>\n      <td>0.116728</td>\n      <td>0.119001</td>\n      <td>0.019101</td>\n    </tr>\n    <tr>\n      <th>999</th>\n      <td>4125</td>\n      <td>30614</td>\n      <td>4879</td>\n      <td>36709</td>\n      <td>0.118743</td>\n      <td>0.117317</td>\n      <td>-0.012148</td>\n    </tr>\n  </tbody>\n</table>\n<p>1000 rows × 7 columns</p>\n</div>"
     },
     "metadata": {}
    }
   ],
   "execution_count": null
  },
  {
   "cell_type": "markdown",
   "source": "Grafica tus resultados en un histograma y grafica una línea vertical que marque el resultado del experimento.",
   "metadata": {
    "tags": [],
    "cell_id": "00012-0c7a5080-12e0-496d-9257-02fa3feb2c01",
    "deepnote_cell_type": "markdown"
   }
  },
  {
   "cell_type": "code",
   "source": "diferencia_en_proporcion = 1 - (total_count.loc['B']['success_rate']/total_count.loc['A']['success_rate'])\nf'El test A fue {diferencia_en_proporcion*100:.4f}% mejor que B'",
   "metadata": {
    "tags": [],
    "cell_id": "00012-7b95402c-97be-4fc0-9de9-10a911edaf08",
    "deepnote_to_be_reexecuted": false,
    "source_hash": "c267f3d0",
    "execution_start": 1632275077854,
    "execution_millis": 7,
    "deepnote_cell_type": "code"
   },
   "outputs": [
    {
     "output_type": "execute_result",
     "execution_count": 9,
     "data": {
      "text/plain": "'El test A fue 2.8645% mejor que B'"
     },
     "metadata": {}
    }
   ],
   "execution_count": null
  },
  {
   "cell_type": "code",
   "source": "sns.distplot(results['diff'])\nplt.axvline(diferencia_en_proporcion)",
   "metadata": {
    "tags": [],
    "cell_id": "00015-f0e9055f-6607-4fd0-ad66-8a68706812e5",
    "deepnote_to_be_reexecuted": false,
    "source_hash": "a23fe012",
    "execution_start": 1632275296817,
    "execution_millis": 308,
    "deepnote_cell_type": "code"
   },
   "outputs": [
    {
     "output_type": "execute_result",
     "execution_count": 16,
     "data": {
      "text/plain": "<matplotlib.lines.Line2D at 0x7f9743e5f310>"
     },
     "metadata": {}
    },
    {
     "data": {
      "text/plain": "<Figure size 432x288 with 1 Axes>",
      "image/png": "[encoded data removed]"
     },
     "metadata": {
      "needs_background": "light",
      "image/png": {
       "width": 392,
       "height": 262
      }
     },
     "output_type": "display_data"
    }
   ],
   "execution_count": null
  },
  {
   "cell_type": "code",
   "source": "# Valor P\n(results['diff'] >= diferencia_en_proporcion).sum() / results.shape[0] * 100",
   "metadata": {
    "tags": [],
    "cell_id": "00016-f9e58caf-b0ea-48d8-b082-30340b73786d",
    "deepnote_to_be_reexecuted": false,
    "source_hash": "5f0a51d3",
    "execution_start": 1632275472300,
    "execution_millis": 15,
    "deepnote_cell_type": "code"
   },
   "outputs": [
    {
     "output_type": "execute_result",
     "execution_count": 18,
     "data": {
      "text/plain": "7.7"
     },
     "metadata": {}
    }
   ],
   "execution_count": null
  },
  {
   "cell_type": "code",
   "source": "",
   "metadata": {
    "tags": [],
    "cell_id": "00017-1c4d9c53-e160-49bf-b5dd-e82975fdfa4e",
    "deepnote_cell_type": "code"
   },
   "outputs": [],
   "execution_count": null
  },
  {
   "cell_type": "markdown",
   "source": "<a style='text-decoration:none;line-height:16px;display:flex;color:#5B5B62;padding:10px;justify-content:end;' href='https://deepnote.com?utm_source=created-in-deepnote-cell&projectId=f8149d1c-e6b1-497a-9109-f01641a8231a' target=\"_blank\">\n<img alt='Created in deepnote.com' style='display:inline;max-height:16px;margin:0px;margin-right:7.5px;' src='data:image/svg+xml;base64,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' > </img>\nCreated in <span style='font-weight:600;margin-left:4px;'>Deepnote</span></a>",
   "metadata": {
    "tags": [],
    "created_in_deepnote_cell": true,
    "deepnote_cell_type": "markdown"
   }
  }
 ],
 "nbformat": 4,
 "nbformat_minor": 4,
 "metadata": {
  "kernelspec": {
   "display_name": "Python (data_science)",
   "language": "python",
   "name": "data_science"
  },
  "language_info": {
   "codemirror_mode": {
    "name": "ipython",
    "version": 3
   },
   "file_extension": ".py",
   "mimetype": "text/x-python",
   "name": "python",
   "nbconvert_exporter": "python",
   "pygments_lexer": "ipython3",
   "version": "3.7.6"
  },
  "deepnote_notebook_id": "939f4c61-c968-4651-8f43-395948386d19",
  "deepnote": {},
  "deepnote_execution_queue": []
 }
}