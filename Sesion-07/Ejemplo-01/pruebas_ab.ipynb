{
 "cells": [
  {
   "cell_type": "markdown",
   "source": "## Ejemplo 1: Pruebas A/B\n\n### 1. Objetivos:\n    - Aprender a evaluar los resultados de una Prueba A/B\n \n---\n    \n### 2. Desarrollo:",
   "metadata": {
    "cell_id": "00000-d2e3c831-ac89-4328-ac25-1fa2f8f2507c",
    "deepnote_cell_type": "markdown"
   }
  },
  {
   "cell_type": "markdown",
   "source": "El siguiente es un dataset obtenido con los resultados de una Prueba A/B. Se probaron dos flujos de venta distintos y se registró si cada uno de ellos resultó en una conversión (venta) o no. El test A es la hipótesis alternativa (la aplicada al grupo experimental), mientras que el test B es la hipótesis nula (la aplicada al grupo control).",
   "metadata": {
    "cell_id": "00001-269380ce-0d4c-46cc-a1ab-3f3df56f693d",
    "deepnote_cell_type": "markdown"
   }
  },
  {
   "cell_type": "code",
   "metadata": {
    "cell_id": "00002-62f84212-6cb9-4c7f-8692-805921ee5975",
    "deepnote_cell_type": "code"
   },
   "source": "import pandas as pd\nimport seaborn as sns\nimport matplotlib.pyplot as plt",
   "outputs": [],
   "execution_count": null
  },
  {
   "cell_type": "code",
   "metadata": {
    "cell_id": "00003-1c0d5563-e798-4ab8-a98b-0e8a5744df92",
    "deepnote_cell_type": "code"
   },
   "source": "df = pd.read_csv('../../Datasets/ab_test-sales_pipeline.csv')\n\ndf",
   "outputs": [
    {
     "data": {
      "text/html": "<div>\n<style scoped>\n    .dataframe tbody tr th:only-of-type {\n        vertical-align: middle;\n    }\n\n    .dataframe tbody tr th {\n        vertical-align: top;\n    }\n\n    .dataframe thead th {\n        text-align: right;\n    }\n</style>\n<table border=\"1\" class=\"dataframe\">\n  <thead>\n    <tr style=\"text-align: right;\">\n      <th></th>\n      <th>test</th>\n      <th>conversion</th>\n      <th>no conversion</th>\n    </tr>\n  </thead>\n  <tbody>\n    <tr>\n      <th>0</th>\n      <td>B</td>\n      <td>0</td>\n      <td>1</td>\n    </tr>\n    <tr>\n      <th>1</th>\n      <td>A</td>\n      <td>0</td>\n      <td>1</td>\n    </tr>\n    <tr>\n      <th>2</th>\n      <td>A</td>\n      <td>0</td>\n      <td>1</td>\n    </tr>\n    <tr>\n      <th>3</th>\n      <td>A</td>\n      <td>0</td>\n      <td>1</td>\n    </tr>\n    <tr>\n      <th>4</th>\n      <td>A</td>\n      <td>0</td>\n      <td>1</td>\n    </tr>\n    <tr>\n      <th>...</th>\n      <td>...</td>\n      <td>...</td>\n      <td>...</td>\n    </tr>\n    <tr>\n      <th>46322</th>\n      <td>B</td>\n      <td>0</td>\n      <td>1</td>\n    </tr>\n    <tr>\n      <th>46323</th>\n      <td>B</td>\n      <td>0</td>\n      <td>1</td>\n    </tr>\n    <tr>\n      <th>46324</th>\n      <td>B</td>\n      <td>0</td>\n      <td>1</td>\n    </tr>\n    <tr>\n      <th>46325</th>\n      <td>A</td>\n      <td>0</td>\n      <td>1</td>\n    </tr>\n    <tr>\n      <th>46326</th>\n      <td>A</td>\n      <td>0</td>\n      <td>1</td>\n    </tr>\n  </tbody>\n</table>\n<p>46327 rows × 3 columns</p>\n</div>",
      "text/plain": "      test  conversion  no conversion\n0        B           0              1\n1        A           0              1\n2        A           0              1\n3        A           0              1\n4        A           0              1\n...    ...         ...            ...\n46322    B           0              1\n46323    B           0              1\n46324    B           0              1\n46325    A           0              1\n46326    A           0              1\n\n[46327 rows x 3 columns]"
     },
     "execution_count": 2,
     "metadata": {},
     "output_type": "execute_result"
    }
   ],
   "execution_count": null
  },
  {
   "cell_type": "markdown",
   "source": "Lo primero que podemos hacer es agrupar nuestros resultados por 'test', para realizar un conteo de cuántas conversiones hubo con cada flujo de ventas:",
   "metadata": {
    "cell_id": "00004-1609fef8-24ed-4d4a-aea6-5c1902ecf4ea",
    "deepnote_cell_type": "markdown"
   }
  },
  {
   "cell_type": "code",
   "metadata": {
    "cell_id": "00005-ca566519-bc9e-4451-b51b-99c94fb77db3",
    "deepnote_cell_type": "code"
   },
   "source": "total_count = df.groupby('test')[['conversion', 'no conversion']].sum()\n\ntotal_count",
   "outputs": [
    {
     "data": {
      "text/html": "<div>\n<style scoped>\n    .dataframe tbody tr th:only-of-type {\n        vertical-align: middle;\n    }\n\n    .dataframe tbody tr th {\n        vertical-align: top;\n    }\n\n    .dataframe thead th {\n        text-align: right;\n    }\n</style>\n<table border=\"1\" class=\"dataframe\">\n  <thead>\n    <tr style=\"text-align: right;\">\n      <th></th>\n      <th>conversion</th>\n      <th>no conversion</th>\n    </tr>\n    <tr>\n      <th>test</th>\n      <th></th>\n      <th></th>\n    </tr>\n  </thead>\n  <tbody>\n    <tr>\n      <th>A</th>\n      <td>198</td>\n      <td>23541</td>\n    </tr>\n    <tr>\n      <th>B</th>\n      <td>184</td>\n      <td>22404</td>\n    </tr>\n  </tbody>\n</table>\n</div>",
      "text/plain": "      conversion  no conversion\ntest                           \nA            198          23541\nB            184          22404"
     },
     "execution_count": 3,
     "metadata": {},
     "output_type": "execute_result"
    }
   ],
   "execution_count": null
  },
  {
   "cell_type": "markdown",
   "source": "Saquemos la proporción de conversiones que hubo comparadas con el total de pruebas que se realizaron:",
   "metadata": {
    "cell_id": "00006-1da3118a-94d0-4894-8804-9b7856c8c002",
    "deepnote_cell_type": "markdown"
   }
  },
  {
   "cell_type": "code",
   "metadata": {
    "cell_id": "00007-d8b25c58-f4a0-4a47-b142-a6c4c53e4aed",
    "deepnote_cell_type": "code"
   },
   "source": "total_count['success rate'] = total_count['conversion'] / (total_count['conversion'] + total_count['no conversion'])\n\ntotal_count",
   "outputs": [
    {
     "data": {
      "text/html": "<div>\n<style scoped>\n    .dataframe tbody tr th:only-of-type {\n        vertical-align: middle;\n    }\n\n    .dataframe tbody tr th {\n        vertical-align: top;\n    }\n\n    .dataframe thead th {\n        text-align: right;\n    }\n</style>\n<table border=\"1\" class=\"dataframe\">\n  <thead>\n    <tr style=\"text-align: right;\">\n      <th></th>\n      <th>conversion</th>\n      <th>no conversion</th>\n      <th>success rate</th>\n    </tr>\n    <tr>\n      <th>test</th>\n      <th></th>\n      <th></th>\n      <th></th>\n    </tr>\n  </thead>\n  <tbody>\n    <tr>\n      <th>A</th>\n      <td>198</td>\n      <td>23541</td>\n      <td>0.008341</td>\n    </tr>\n    <tr>\n      <th>B</th>\n      <td>184</td>\n      <td>22404</td>\n      <td>0.008146</td>\n    </tr>\n  </tbody>\n</table>\n</div>",
      "text/plain": "      conversion  no conversion  success rate\ntest                                         \nA            198          23541      0.008341\nB            184          22404      0.008146"
     },
     "execution_count": 4,
     "metadata": {},
     "output_type": "execute_result"
    }
   ],
   "execution_count": null
  },
  {
   "cell_type": "markdown",
   "source": "Con estos datos parecería que el flujo A (la hipótesis alternativa) es superior al flujo B. Veamos qué tan superior:",
   "metadata": {
    "cell_id": "00008-35d225e3-085b-41c2-ac68-7cc40c96f752",
    "deepnote_cell_type": "markdown"
   }
  },
  {
   "cell_type": "code",
   "metadata": {
    "cell_id": "00009-9ae73bbb-751f-491b-ba4d-90a2e1afe96f",
    "deepnote_cell_type": "code"
   },
   "source": "diferencia_en_proporcion = 1 - (total_count.loc['B']['success rate'] / total_count.loc['A']['success rate'])\ndiferencia_en_porcentaje = diferencia_en_proporcion * 100",
   "outputs": [],
   "execution_count": null
  },
  {
   "cell_type": "code",
   "metadata": {
    "cell_id": "00010-24ab1e70-ac0a-4b94-b427-2adc0c139108",
    "deepnote_cell_type": "code"
   },
   "source": "print(f'El test A fue {diferencia_en_porcentaje:.2f}% más `efectivo que el test B para generar ventas.')",
   "outputs": [
    {
     "name": "stdout",
     "output_type": "stream",
     "text": "El test A fue 2.34% más efectivo que el test B para generar ventas.\n"
    }
   ],
   "execution_count": null
  },
  {
   "cell_type": "markdown",
   "source": "¿Ahora, podemos entonces concluir que el flujo de ventas A es mejor que el B? No tan rápido. Vamos a aplicar un test de permutación para saber si nuestro hallazgo es estadísticamente significativo.\n\nPrimero tenemos que mezclar las mediciones del test A y el B en el mismo DataFrame. Esto ya está hecho, entonces solamente vamos a eliminar la columna 'test' para que no haya manera de diferenciarlos:",
   "metadata": {
    "cell_id": "00011-a2ff03d2-9678-487a-a479-e4b0b3f3e5cb",
    "deepnote_cell_type": "markdown"
   }
  },
  {
   "cell_type": "code",
   "metadata": {
    "cell_id": "00012-182cfb5e-1a53-41c3-b75b-84e43ea41586",
    "deepnote_cell_type": "code"
   },
   "source": "all_measurements = df[['conversion', 'no conversion']]",
   "outputs": [],
   "execution_count": null
  },
  {
   "cell_type": "markdown",
   "source": "Ahora necesitamos saber cuántos tests con el flujo A hubieron para poder generar muestras del mismo tamaño exactamente:",
   "metadata": {
    "cell_id": "00013-67cee3ff-8b31-44ee-97fc-5b2e6a74eed9",
    "deepnote_cell_type": "markdown"
   }
  },
  {
   "cell_type": "code",
   "metadata": {
    "cell_id": "00014-88268567-6d7a-47a8-962c-13be7b78f2b6",
    "deepnote_cell_type": "code"
   },
   "source": "value_counts = df['test'].value_counts()\n\nvalue_counts",
   "outputs": [
    {
     "data": {
      "text/plain": "A    23739\nB    22588\nName: test, dtype: int64"
     },
     "execution_count": 8,
     "metadata": {},
     "output_type": "execute_result"
    }
   ],
   "execution_count": null
  },
  {
   "cell_type": "markdown",
   "source": "Ahora vamos a aplicar el resto del algoritmo del test de permutación:\n\n1. Usando muestreo aleatorio sin reposición, construye un nuevo grupo A del mismo tamaño que el original.\n2. El resto de los datos conforman nuestro nuevo grupo B.\n3. Cuantifica la métrica o estadística que calculaste con los grupos originales y guarda el resultado.\n4. Repite los pasos 1-5 `R` veces para obtener una distribución de la estadística de interés.",
   "metadata": {
    "cell_id": "00015-c50250a9-d3be-4f26-bdf9-8bd8ee658d36",
    "deepnote_cell_type": "markdown"
   }
  },
  {
   "cell_type": "code",
   "metadata": {
    "cell_id": "00016-8c250c24-ae8e-42c2-8ce7-716e98ff4970",
    "deepnote_cell_type": "code"
   },
   "source": "conv_a = []\nno_conv_a = []\nconv_b = []\nno_conv_b = []\n\nfor _ in range(1000):\n    a = df.sample(value_counts.loc['A'], replace=False)\n    conv_a.append(a['conversion'].sum())\n    no_conv_a.append(a['no conversion'].sum())\n    \n    b = df.loc[~df.index.isin(a.index)]\n    conv_b.append(b['conversion'].sum())\n    no_conv_b.append(b['no conversion'].sum())",
   "outputs": [],
   "execution_count": null
  },
  {
   "cell_type": "code",
   "metadata": {
    "cell_id": "00017-d08f6d86-12d6-451c-bf33-fdb9bae38ed1",
    "deepnote_cell_type": "code"
   },
   "source": "perm_results = pd.DataFrame({\n    'conv_a': conv_a,\n    'no_conv_a': no_conv_a,\n    'conv_b': conv_b,\n    'no_conv_b': no_conv_b\n})\n\nperm_results",
   "outputs": [
    {
     "data": {
      "text/html": "<div>\n<style scoped>\n    .dataframe tbody tr th:only-of-type {\n        vertical-align: middle;\n    }\n\n    .dataframe tbody tr th {\n        vertical-align: top;\n    }\n\n    .dataframe thead th {\n        text-align: right;\n    }\n</style>\n<table border=\"1\" class=\"dataframe\">\n  <thead>\n    <tr style=\"text-align: right;\">\n      <th></th>\n      <th>conv_a</th>\n      <th>no_conv_a</th>\n      <th>conv_b</th>\n      <th>no_conv_b</th>\n    </tr>\n  </thead>\n  <tbody>\n    <tr>\n      <th>0</th>\n      <td>192</td>\n      <td>23547</td>\n      <td>190</td>\n      <td>22398</td>\n    </tr>\n    <tr>\n      <th>1</th>\n      <td>188</td>\n      <td>23551</td>\n      <td>194</td>\n      <td>22394</td>\n    </tr>\n    <tr>\n      <th>2</th>\n      <td>189</td>\n      <td>23550</td>\n      <td>193</td>\n      <td>22395</td>\n    </tr>\n    <tr>\n      <th>3</th>\n      <td>201</td>\n      <td>23538</td>\n      <td>181</td>\n      <td>22407</td>\n    </tr>\n    <tr>\n      <th>4</th>\n      <td>188</td>\n      <td>23551</td>\n      <td>194</td>\n      <td>22394</td>\n    </tr>\n    <tr>\n      <th>...</th>\n      <td>...</td>\n      <td>...</td>\n      <td>...</td>\n      <td>...</td>\n    </tr>\n    <tr>\n      <th>995</th>\n      <td>195</td>\n      <td>23544</td>\n      <td>187</td>\n      <td>22401</td>\n    </tr>\n    <tr>\n      <th>996</th>\n      <td>200</td>\n      <td>23539</td>\n      <td>182</td>\n      <td>22406</td>\n    </tr>\n    <tr>\n      <th>997</th>\n      <td>205</td>\n      <td>23534</td>\n      <td>177</td>\n      <td>22411</td>\n    </tr>\n    <tr>\n      <th>998</th>\n      <td>189</td>\n      <td>23550</td>\n      <td>193</td>\n      <td>22395</td>\n    </tr>\n    <tr>\n      <th>999</th>\n      <td>197</td>\n      <td>23542</td>\n      <td>185</td>\n      <td>22403</td>\n    </tr>\n  </tbody>\n</table>\n<p>1000 rows × 4 columns</p>\n</div>",
      "text/plain": "     conv_a  no_conv_a  conv_b  no_conv_b\n0       192      23547     190      22398\n1       188      23551     194      22394\n2       189      23550     193      22395\n3       201      23538     181      22407\n4       188      23551     194      22394\n..      ...        ...     ...        ...\n995     195      23544     187      22401\n996     200      23539     182      22406\n997     205      23534     177      22411\n998     189      23550     193      22395\n999     197      23542     185      22403\n\n[1000 rows x 4 columns]"
     },
     "execution_count": 10,
     "metadata": {},
     "output_type": "execute_result"
    }
   ],
   "execution_count": null
  },
  {
   "cell_type": "code",
   "metadata": {
    "cell_id": "00018-0b97c27a-22ef-48ef-beab-f1925f618c22",
    "deepnote_cell_type": "code"
   },
   "source": "perm_results['a_conv_rate'] = perm_results['conv_a'] / (perm_results['conv_a'] + perm_results['no_conv_a'])\nperm_results['b_conv_rate'] = perm_results['conv_b'] / (perm_results['conv_b'] + perm_results['no_conv_b'])",
   "outputs": [],
   "execution_count": null
  },
  {
   "cell_type": "code",
   "metadata": {
    "cell_id": "00019-41966a52-af44-41a2-a148-f79a90177f37",
    "deepnote_cell_type": "code"
   },
   "source": "perm_results",
   "outputs": [
    {
     "data": {
      "text/html": "<div>\n<style scoped>\n    .dataframe tbody tr th:only-of-type {\n        vertical-align: middle;\n    }\n\n    .dataframe tbody tr th {\n        vertical-align: top;\n    }\n\n    .dataframe thead th {\n        text-align: right;\n    }\n</style>\n<table border=\"1\" class=\"dataframe\">\n  <thead>\n    <tr style=\"text-align: right;\">\n      <th></th>\n      <th>conv_a</th>\n      <th>no_conv_a</th>\n      <th>conv_b</th>\n      <th>no_conv_b</th>\n      <th>a_conv_rate</th>\n      <th>b_conv_rate</th>\n    </tr>\n  </thead>\n  <tbody>\n    <tr>\n      <th>0</th>\n      <td>192</td>\n      <td>23547</td>\n      <td>190</td>\n      <td>22398</td>\n      <td>0.008088</td>\n      <td>0.008412</td>\n    </tr>\n    <tr>\n      <th>1</th>\n      <td>188</td>\n      <td>23551</td>\n      <td>194</td>\n      <td>22394</td>\n      <td>0.007919</td>\n      <td>0.008589</td>\n    </tr>\n    <tr>\n      <th>2</th>\n      <td>189</td>\n      <td>23550</td>\n      <td>193</td>\n      <td>22395</td>\n      <td>0.007962</td>\n      <td>0.008544</td>\n    </tr>\n    <tr>\n      <th>3</th>\n      <td>201</td>\n      <td>23538</td>\n      <td>181</td>\n      <td>22407</td>\n      <td>0.008467</td>\n      <td>0.008013</td>\n    </tr>\n    <tr>\n      <th>4</th>\n      <td>188</td>\n      <td>23551</td>\n      <td>194</td>\n      <td>22394</td>\n      <td>0.007919</td>\n      <td>0.008589</td>\n    </tr>\n    <tr>\n      <th>...</th>\n      <td>...</td>\n      <td>...</td>\n      <td>...</td>\n      <td>...</td>\n      <td>...</td>\n      <td>...</td>\n    </tr>\n    <tr>\n      <th>995</th>\n      <td>195</td>\n      <td>23544</td>\n      <td>187</td>\n      <td>22401</td>\n      <td>0.008214</td>\n      <td>0.008279</td>\n    </tr>\n    <tr>\n      <th>996</th>\n      <td>200</td>\n      <td>23539</td>\n      <td>182</td>\n      <td>22406</td>\n      <td>0.008425</td>\n      <td>0.008057</td>\n    </tr>\n    <tr>\n      <th>997</th>\n      <td>205</td>\n      <td>23534</td>\n      <td>177</td>\n      <td>22411</td>\n      <td>0.008636</td>\n      <td>0.007836</td>\n    </tr>\n    <tr>\n      <th>998</th>\n      <td>189</td>\n      <td>23550</td>\n      <td>193</td>\n      <td>22395</td>\n      <td>0.007962</td>\n      <td>0.008544</td>\n    </tr>\n    <tr>\n      <th>999</th>\n      <td>197</td>\n      <td>23542</td>\n      <td>185</td>\n      <td>22403</td>\n      <td>0.008299</td>\n      <td>0.008190</td>\n    </tr>\n  </tbody>\n</table>\n<p>1000 rows × 6 columns</p>\n</div>",
      "text/plain": "     conv_a  no_conv_a  conv_b  no_conv_b  a_conv_rate  b_conv_rate\n0       192      23547     190      22398     0.008088     0.008412\n1       188      23551     194      22394     0.007919     0.008589\n2       189      23550     193      22395     0.007962     0.008544\n3       201      23538     181      22407     0.008467     0.008013\n4       188      23551     194      22394     0.007919     0.008589\n..      ...        ...     ...        ...          ...          ...\n995     195      23544     187      22401     0.008214     0.008279\n996     200      23539     182      22406     0.008425     0.008057\n997     205      23534     177      22411     0.008636     0.007836\n998     189      23550     193      22395     0.007962     0.008544\n999     197      23542     185      22403     0.008299     0.008190\n\n[1000 rows x 6 columns]"
     },
     "execution_count": 12,
     "metadata": {},
     "output_type": "execute_result"
    }
   ],
   "execution_count": null
  },
  {
   "cell_type": "code",
   "metadata": {
    "cell_id": "00020-04d000fd-f2b9-47a9-ad46-f0f12a4dc66b",
    "deepnote_cell_type": "code"
   },
   "source": "perm_results['diff'] = 1 - (perm_results['b_conv_rate'] / perm_results['a_conv_rate'])\n\nperm_results",
   "outputs": [
    {
     "data": {
      "text/html": "<div>\n<style scoped>\n    .dataframe tbody tr th:only-of-type {\n        vertical-align: middle;\n    }\n\n    .dataframe tbody tr th {\n        vertical-align: top;\n    }\n\n    .dataframe thead th {\n        text-align: right;\n    }\n</style>\n<table border=\"1\" class=\"dataframe\">\n  <thead>\n    <tr style=\"text-align: right;\">\n      <th></th>\n      <th>conv_a</th>\n      <th>no_conv_a</th>\n      <th>conv_b</th>\n      <th>no_conv_b</th>\n      <th>a_conv_rate</th>\n      <th>b_conv_rate</th>\n      <th>diff</th>\n    </tr>\n  </thead>\n  <tbody>\n    <tr>\n      <th>0</th>\n      <td>192</td>\n      <td>23547</td>\n      <td>190</td>\n      <td>22398</td>\n      <td>0.008088</td>\n      <td>0.008412</td>\n      <td>-0.040009</td>\n    </tr>\n    <tr>\n      <th>1</th>\n      <td>188</td>\n      <td>23551</td>\n      <td>194</td>\n      <td>22394</td>\n      <td>0.007919</td>\n      <td>0.008589</td>\n      <td>-0.084497</td>\n    </tr>\n    <tr>\n      <th>2</th>\n      <td>189</td>\n      <td>23550</td>\n      <td>193</td>\n      <td>22395</td>\n      <td>0.007962</td>\n      <td>0.008544</td>\n      <td>-0.073199</td>\n    </tr>\n    <tr>\n      <th>3</th>\n      <td>201</td>\n      <td>23538</td>\n      <td>181</td>\n      <td>22407</td>\n      <td>0.008467</td>\n      <td>0.008013</td>\n      <td>0.053617</td>\n    </tr>\n    <tr>\n      <th>4</th>\n      <td>188</td>\n      <td>23551</td>\n      <td>194</td>\n      <td>22394</td>\n      <td>0.007919</td>\n      <td>0.008589</td>\n      <td>-0.084497</td>\n    </tr>\n    <tr>\n      <th>...</th>\n      <td>...</td>\n      <td>...</td>\n      <td>...</td>\n      <td>...</td>\n      <td>...</td>\n      <td>...</td>\n      <td>...</td>\n    </tr>\n    <tr>\n      <th>995</th>\n      <td>195</td>\n      <td>23544</td>\n      <td>187</td>\n      <td>22401</td>\n      <td>0.008214</td>\n      <td>0.008279</td>\n      <td>-0.007840</td>\n    </tr>\n    <tr>\n      <th>996</th>\n      <td>200</td>\n      <td>23539</td>\n      <td>182</td>\n      <td>22406</td>\n      <td>0.008425</td>\n      <td>0.008057</td>\n      <td>0.043630</td>\n    </tr>\n    <tr>\n      <th>997</th>\n      <td>205</td>\n      <td>23534</td>\n      <td>177</td>\n      <td>22411</td>\n      <td>0.008636</td>\n      <td>0.007836</td>\n      <td>0.092589</td>\n    </tr>\n    <tr>\n      <th>998</th>\n      <td>189</td>\n      <td>23550</td>\n      <td>193</td>\n      <td>22395</td>\n      <td>0.007962</td>\n      <td>0.008544</td>\n      <td>-0.073199</td>\n    </tr>\n    <tr>\n      <th>999</th>\n      <td>197</td>\n      <td>23542</td>\n      <td>185</td>\n      <td>22403</td>\n      <td>0.008299</td>\n      <td>0.008190</td>\n      <td>0.013061</td>\n    </tr>\n  </tbody>\n</table>\n<p>1000 rows × 7 columns</p>\n</div>",
      "text/plain": "     conv_a  no_conv_a  conv_b  no_conv_b  a_conv_rate  b_conv_rate      diff\n0       192      23547     190      22398     0.008088     0.008412 -0.040009\n1       188      23551     194      22394     0.007919     0.008589 -0.084497\n2       189      23550     193      22395     0.007962     0.008544 -0.073199\n3       201      23538     181      22407     0.008467     0.008013  0.053617\n4       188      23551     194      22394     0.007919     0.008589 -0.084497\n..      ...        ...     ...        ...          ...          ...       ...\n995     195      23544     187      22401     0.008214     0.008279 -0.007840\n996     200      23539     182      22406     0.008425     0.008057  0.043630\n997     205      23534     177      22411     0.008636     0.007836  0.092589\n998     189      23550     193      22395     0.007962     0.008544 -0.073199\n999     197      23542     185      22403     0.008299     0.008190  0.013061\n\n[1000 rows x 7 columns]"
     },
     "execution_count": 13,
     "metadata": {},
     "output_type": "execute_result"
    }
   ],
   "execution_count": null
  },
  {
   "cell_type": "markdown",
   "source": "Ya tenemos nuestros resultados, vamos a ver dónde cae en nuestra distribución el resultado que obtuvimos en nuestro experimento:",
   "metadata": {
    "cell_id": "00021-ebd174c1-2e43-48fc-8742-70d9ddab4d93",
    "deepnote_cell_type": "markdown"
   }
  },
  {
   "cell_type": "code",
   "metadata": {
    "cell_id": "00022-044be1cf-d694-4fad-8a37-e2d4141e3fe7",
    "deepnote_cell_type": "code"
   },
   "source": "sns.distplot(perm_results['diff'], kde=False, norm_hist=False)\n\nplt.axvline(diferencia_en_proporcion);",
   "outputs": [
    {
     "name": "stderr",
     "output_type": "stream",
     "text": "/Users/ramon/Env/data_science/lib/python3.8/site-packages/seaborn/distributions.py:2551: FutureWarning: `distplot` is a deprecated function and will be removed in a future version. Please adapt your code to use either `displot` (a figure-level function with similar flexibility) or `histplot` (an axes-level function for histograms).\n  warnings.warn(msg, FutureWarning)\n"
    },
    {
     "data": {
      "image/png": "[encoded data removed]",
      "text/plain": "<Figure size 432x288 with 1 Axes>"
     },
     "metadata": {
      "needs_background": "light",
      "image/png": {
       "width": 379,
       "height": 262
      }
     },
     "output_type": "display_data"
    }
   ],
   "execution_count": null
  },
  {
   "cell_type": "markdown",
   "source": "Solamente de ver la histograma podemos concluir que nuestro resultado es de hecho bastante típico. Un gran número de modelos realizados totalmente al azar tuvieron valores iguales o más extremos que el que obtuvimos en nuestro experimento.\n\nVamos ahora a obtener el Valor P para cuantificar numéricamente nuestro resultado:",
   "metadata": {
    "cell_id": "00023-2c0bb6ee-b89b-444f-bb3e-e1fef1865647",
    "deepnote_cell_type": "markdown"
   }
  },
  {
   "cell_type": "code",
   "metadata": {
    "cell_id": "00024-96d76af7-19a5-4099-a5c8-53897c70bd1c",
    "deepnote_cell_type": "code"
   },
   "source": "(perm_results['diff'] >= diferencia_en_proporcion).sum() / perm_results.shape[0]",
   "outputs": [
    {
     "data": {
      "text/plain": "0.433"
     },
     "execution_count": 15,
     "metadata": {},
     "output_type": "execute_result"
    }
   ],
   "execution_count": null
  },
  {
   "cell_type": "markdown",
   "source": "Este valor quiere decir que el 41.6% de los test que hicimos obtuvieron un valor igual o más extremo que el obtenido en el experimento. Esto está extremadamente alejado de un Alfa de 5%, y por lo tanto definitivamente nuestro resultado **no es estadísticamente significativo**.",
   "metadata": {
    "cell_id": "00025-06faec3e-c1ee-4524-8e3c-931d2f7e6362",
    "deepnote_cell_type": "markdown"
   }
  },
  {
   "cell_type": "code",
   "metadata": {
    "cell_id": "00026-4e3940ba-c66d-406f-bfb4-c80b92748c0c",
    "deepnote_cell_type": "code"
   },
   "source": "",
   "execution_count": null,
   "outputs": []
  },
  {
   "cell_type": "markdown",
   "source": "<a style='text-decoration:none;line-height:16px;display:flex;color:#5B5B62;padding:10px;justify-content:end;' href='https://deepnote.com?utm_source=created-in-deepnote-cell&projectId=f8149d1c-e6b1-497a-9109-f01641a8231a' target=\"_blank\">\n<img alt='Created in deepnote.com' style='display:inline;max-height:16px;margin:0px;margin-right:7.5px;' src='data:image/svg+xml;base64,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' > </img>\nCreated in <span style='font-weight:600;margin-left:4px;'>Deepnote</span></a>",
   "metadata": {
    "tags": [],
    "created_in_deepnote_cell": true,
    "deepnote_cell_type": "markdown"
   }
  }
 ],
 "nbformat": 4,
 "nbformat_minor": 4,
 "metadata": {
  "kernelspec": {
   "display_name": "Python (data_science)",
   "language": "python",
   "name": "data_science"
  },
  "language_info": {
   "codemirror_mode": {
    "name": "ipython",
    "version": 3
   },
   "file_extension": ".py",
   "mimetype": "text/x-python",
   "name": "python",
   "nbconvert_exporter": "python",
   "pygments_lexer": "ipython3",
   "version": "3.8.5"
  },
  "deepnote_notebook_id": "7950edd7-076d-41b8-9b97-973b4e58b1da",
  "deepnote": {},
  "deepnote_execution_queue": []
 }
}