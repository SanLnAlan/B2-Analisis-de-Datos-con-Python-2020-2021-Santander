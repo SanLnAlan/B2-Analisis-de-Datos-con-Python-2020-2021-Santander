{
 "cells": [
  {
   "cell_type": "markdown",
   "source": "## Ejemplo 3: Nltk Text\n\n### 1. Objetivos:\n    - Aprender a usar el objeto Text de la librería Nltk\n \n---\n    \n### 2. Desarrollo:",
   "metadata": {
    "cell_id": "00000-cb93fbb4-b01a-42da-be1e-6ec9de16b8e0",
    "deepnote_cell_type": "markdown"
   }
  },
  {
   "cell_type": "markdown",
   "source": "Vamos a utilizar la librería Nltk para explorar algunas técnicas básicas de procesamiento de lenguaje natural. Muchos de estos procedimientos normalmente sirven para preparar nuestros datos para entrenar un modelo o para realizar una visualización.",
   "metadata": {
    "cell_id": "00001-79045fba-68e3-4c18-ab27-231147eb58fd",
    "deepnote_cell_type": "markdown"
   }
  },
  {
   "cell_type": "code",
   "metadata": {
    "cell_id": "00002-d97f84fb-5ed8-4969-b071-5c2f23367541",
    "deepnote_cell_type": "code"
   },
   "source": "import pandas as pd\nimport nltk\nimport seaborn as sns\nimport matplotlib.pyplot as plt\nimport numpy as np",
   "execution_count": null,
   "outputs": []
  },
  {
   "cell_type": "code",
   "metadata": {
    "cell_id": "00003-6669f744-76f3-4f65-8810-b1427c84d7a7",
    "deepnote_cell_type": "code"
   },
   "source": "df = pd.read_json('../../Datasets/new_york_times_bestsellers-clean.json')\n\ndf.head()",
   "execution_count": null,
   "outputs": [
    {
     "data": {
      "text/html": "<div>\n<style scoped>\n    .dataframe tbody tr th:only-of-type {\n        vertical-align: middle;\n    }\n\n    .dataframe tbody tr th {\n        vertical-align: top;\n    }\n\n    .dataframe thead th {\n        text-align: right;\n    }\n</style>\n<table border=\"1\" class=\"dataframe\">\n  <thead>\n    <tr style=\"text-align: right;\">\n      <th></th>\n      <th>amazon_product_url</th>\n      <th>author</th>\n      <th>description</th>\n      <th>publisher</th>\n      <th>title</th>\n      <th>oid</th>\n      <th>bestsellers_date.numberLong</th>\n      <th>published_date.numberLong</th>\n      <th>rank.numberInt</th>\n      <th>rank_last_week.numberInt</th>\n      <th>weeks_on_list.numberInt</th>\n      <th>price.numberDouble</th>\n    </tr>\n  </thead>\n  <tbody>\n    <tr>\n      <th>0</th>\n      <td>http://www.amazon.com/The-Host-Novel-Stephenie...</td>\n      <td>Stephenie Meyer</td>\n      <td>Aliens have taken control of the minds and bod...</td>\n      <td>Little, Brown</td>\n      <td>THE HOST</td>\n      <td>5b4aa4ead3089013507db18c</td>\n      <td>1211587200000</td>\n      <td>1212883200000</td>\n      <td>2</td>\n      <td>1</td>\n      <td>3</td>\n      <td>25.99</td>\n    </tr>\n    <tr>\n      <th>1</th>\n      <td>http://www.amazon.com/Love-Youre-With-Emily-Gi...</td>\n      <td>Emily Giffin</td>\n      <td>A woman's happy marriage is shaken when she en...</td>\n      <td>St. Martin's</td>\n      <td>LOVE THE ONE YOU'RE WITH</td>\n      <td>5b4aa4ead3089013507db18d</td>\n      <td>1211587200000</td>\n      <td>1212883200000</td>\n      <td>3</td>\n      <td>2</td>\n      <td>2</td>\n      <td>24.95</td>\n    </tr>\n    <tr>\n      <th>2</th>\n      <td>http://www.amazon.com/The-Front-Garano-Patrici...</td>\n      <td>Patricia Cornwell</td>\n      <td>A Massachusetts state investigator and his tea...</td>\n      <td>Putnam</td>\n      <td>THE FRONT</td>\n      <td>5b4aa4ead3089013507db18e</td>\n      <td>1211587200000</td>\n      <td>1212883200000</td>\n      <td>4</td>\n      <td>0</td>\n      <td>1</td>\n      <td>22.95</td>\n    </tr>\n    <tr>\n      <th>3</th>\n      <td>http://www.amazon.com/Snuff-Chuck-Palahniuk/dp...</td>\n      <td>Chuck Palahniuk</td>\n      <td>An aging porn queens aims to cap her career by...</td>\n      <td>Doubleday</td>\n      <td>SNUFF</td>\n      <td>5b4aa4ead3089013507db18f</td>\n      <td>1211587200000</td>\n      <td>1212883200000</td>\n      <td>5</td>\n      <td>0</td>\n      <td>1</td>\n      <td>24.95</td>\n    </tr>\n    <tr>\n      <th>4</th>\n      <td>http://www.amazon.com/Sundays-at-Tiffanys-Jame...</td>\n      <td>James Patterson and Gabrielle Charbonnet</td>\n      <td>A woman finds an unexpected love</td>\n      <td>Little, Brown</td>\n      <td>SUNDAYS AT TIFFANY’S</td>\n      <td>5b4aa4ead3089013507db190</td>\n      <td>1211587200000</td>\n      <td>1212883200000</td>\n      <td>6</td>\n      <td>3</td>\n      <td>4</td>\n      <td>24.99</td>\n    </tr>\n  </tbody>\n</table>\n</div>",
      "text/plain": "                                  amazon_product_url  \\\n0  http://www.amazon.com/The-Host-Novel-Stephenie...   \n1  http://www.amazon.com/Love-Youre-With-Emily-Gi...   \n2  http://www.amazon.com/The-Front-Garano-Patrici...   \n3  http://www.amazon.com/Snuff-Chuck-Palahniuk/dp...   \n4  http://www.amazon.com/Sundays-at-Tiffanys-Jame...   \n\n                                     author  \\\n0                           Stephenie Meyer   \n1                              Emily Giffin   \n2                         Patricia Cornwell   \n3                           Chuck Palahniuk   \n4  James Patterson and Gabrielle Charbonnet   \n\n                                         description      publisher  \\\n0  Aliens have taken control of the minds and bod...  Little, Brown   \n1  A woman's happy marriage is shaken when she en...   St. Martin's   \n2  A Massachusetts state investigator and his tea...         Putnam   \n3  An aging porn queens aims to cap her career by...      Doubleday   \n4                   A woman finds an unexpected love  Little, Brown   \n\n                      title                       oid  \\\n0                  THE HOST  5b4aa4ead3089013507db18c   \n1  LOVE THE ONE YOU'RE WITH  5b4aa4ead3089013507db18d   \n2                 THE FRONT  5b4aa4ead3089013507db18e   \n3                     SNUFF  5b4aa4ead3089013507db18f   \n4      SUNDAYS AT TIFFANY’S  5b4aa4ead3089013507db190   \n\n   bestsellers_date.numberLong  published_date.numberLong  rank.numberInt  \\\n0                1211587200000              1212883200000               2   \n1                1211587200000              1212883200000               3   \n2                1211587200000              1212883200000               4   \n3                1211587200000              1212883200000               5   \n4                1211587200000              1212883200000               6   \n\n   rank_last_week.numberInt  weeks_on_list.numberInt  price.numberDouble  \n0                         1                        3               25.99  \n1                         2                        2               24.95  \n2                         0                        1               22.95  \n3                         0                        1               24.95  \n4                         3                        4               24.99  "
     },
     "execution_count": 2,
     "metadata": {},
     "output_type": "execute_result"
    }
   ]
  },
  {
   "cell_type": "code",
   "metadata": {
    "cell_id": "00004-1e01b588-c64a-4669-92e5-8b88542258f9",
    "deepnote_cell_type": "code"
   },
   "source": "grouped_by_title = df.groupby('title')['description'].max()\n\ngrouped_by_title",
   "execution_count": null,
   "outputs": [
    {
     "data": {
      "text/plain": "title\n10TH ANNIVERSARY            Detective Lindsay Boxer and the Women’s Murder...\n11TH HOUR                   Detective Lindsay Boxer and the Women’s Murder...\n1225 CHRISTMAS TREE LANE    Puppies and an ex-husband loom large in the la...\n1356                        In the fourth book of the Grail Quest series, ...\n1Q84                        In 1980s Tokyo, a woman who punishes perpetrat...\n                                                  ...                        \nZ                           A novel based on the lives of Zelda and F. Sco...\nZERO DAY                       A military investigator uncovers a conspiracy.\nZERO HISTORY                Several characters from “Spook Country” return...\nZONE ONE                      Fighting zombies in post-apocalyptic Manhattan.\nZOO                         A young biologist warns world leaders about th...\nName: description, Length: 754, dtype: object"
     },
     "execution_count": 3,
     "metadata": {},
     "output_type": "execute_result"
    }
   ]
  },
  {
   "cell_type": "markdown",
   "source": "Primero hay que limpiar un poco nuestros textos:",
   "metadata": {
    "cell_id": "00005-b2354967-cbf9-41ec-81ef-bc202a2d9737",
    "deepnote_cell_type": "markdown"
   }
  },
  {
   "cell_type": "code",
   "metadata": {
    "cell_id": "00006-70f804d0-5ab2-4de1-9d9e-50c1227fc406",
    "deepnote_to_be_reexecuted": false,
    "source_hash": "c1bf80bc",
    "execution_start": 1632526031221,
    "execution_millis": 558,
    "deepnote_cell_type": "code"
   },
   "source": "grouped_by_title = grouped_by_title.str.lower()\ngrouped_by_title = grouped_by_title.str.strip()\ngrouped_by_title = grouped_by_title.str.replace('[^\\w\\s]', '')\ngrouped_by_title = grouped_by_title.str.replace('\\d', '')\ngrouped_by_title = grouped_by_title.str.replace('\\\\n', '')\ngrouped_by_title = grouped_by_title.dropna()\n\ngrouped_by_title",
   "outputs": [
    {
     "output_type": "error",
     "ename": "NameError",
     "evalue": "name 'grouped_by_title' is not defined",
     "traceback": [
      "\u001b[0;31m---------------------------------------------------------------------------\u001b[0m",
      "\u001b[0;31mNameError\u001b[0m                                 Traceback (most recent call last)",
      "\u001b[0;32m/tmp/ipykernel_403/2918385739.py\u001b[0m in \u001b[0;36m<module>\u001b[0;34m\u001b[0m\n\u001b[0;32m----> 1\u001b[0;31m \u001b[0mgrouped_by_title\u001b[0m \u001b[0;34m=\u001b[0m \u001b[0mgrouped_by_title\u001b[0m\u001b[0;34m.\u001b[0m\u001b[0mstr\u001b[0m\u001b[0;34m.\u001b[0m\u001b[0mlower\u001b[0m\u001b[0;34m(\u001b[0m\u001b[0;34m)\u001b[0m\u001b[0;34m\u001b[0m\u001b[0;34m\u001b[0m\u001b[0m\n\u001b[0m\u001b[1;32m      2\u001b[0m \u001b[0mgrouped_by_title\u001b[0m \u001b[0;34m=\u001b[0m \u001b[0mgrouped_by_title\u001b[0m\u001b[0;34m.\u001b[0m\u001b[0mstr\u001b[0m\u001b[0;34m.\u001b[0m\u001b[0mstrip\u001b[0m\u001b[0;34m(\u001b[0m\u001b[0;34m)\u001b[0m\u001b[0;34m\u001b[0m\u001b[0;34m\u001b[0m\u001b[0m\n\u001b[1;32m      3\u001b[0m \u001b[0mgrouped_by_title\u001b[0m \u001b[0;34m=\u001b[0m \u001b[0mgrouped_by_title\u001b[0m\u001b[0;34m.\u001b[0m\u001b[0mstr\u001b[0m\u001b[0;34m.\u001b[0m\u001b[0mreplace\u001b[0m\u001b[0;34m(\u001b[0m\u001b[0;34m'[^\\w\\s]'\u001b[0m\u001b[0;34m,\u001b[0m \u001b[0;34m''\u001b[0m\u001b[0;34m)\u001b[0m\u001b[0;34m\u001b[0m\u001b[0;34m\u001b[0m\u001b[0m\n\u001b[1;32m      4\u001b[0m \u001b[0mgrouped_by_title\u001b[0m \u001b[0;34m=\u001b[0m \u001b[0mgrouped_by_title\u001b[0m\u001b[0;34m.\u001b[0m\u001b[0mstr\u001b[0m\u001b[0;34m.\u001b[0m\u001b[0mreplace\u001b[0m\u001b[0;34m(\u001b[0m\u001b[0;34m'\\d|\\\\n'\u001b[0m\u001b[0;34m,\u001b[0m \u001b[0;34m''\u001b[0m\u001b[0;34m)\u001b[0m\u001b[0;34m\u001b[0m\u001b[0;34m\u001b[0m\u001b[0m\n\u001b[1;32m      5\u001b[0m \u001b[0;31m#grouped_by_title = grouped_by_title.str.replace('\\d', '')\u001b[0m\u001b[0;34m\u001b[0m\u001b[0;34m\u001b[0m\u001b[0;34m\u001b[0m\u001b[0m\n",
      "\u001b[0;31mNameError\u001b[0m: name 'grouped_by_title' is not defined"
     ]
    }
   ],
   "execution_count": null
  },
  {
   "cell_type": "markdown",
   "source": "Ahora, vamos a construir un objeto Text con nuestros datos. Primero que nada necesitamos descargar algunas librerías que requiere `nltk` para funcionar. Ve a tu terminal, abre python, importa nltk y usa el siguiente comando:\n\n`nltk.download('punkt')`\n\nAhora sí, estamos listos:",
   "metadata": {
    "cell_id": "00007-10893f63-f995-490e-b388-3ecdc671eeb3",
    "deepnote_cell_type": "markdown"
   }
  },
  {
   "cell_type": "code",
   "metadata": {
    "cell_id": "00008-42f0c373-b21d-45fc-86a5-6cf2d936571d",
    "deepnote_cell_type": "code"
   },
   "source": "# Separamos cada oración en palabras\n\ntokenized = grouped_by_title.apply(nltk.word_tokenize)",
   "execution_count": null,
   "outputs": []
  },
  {
   "cell_type": "code",
   "metadata": {
    "cell_id": "00009-b48652ac-a4ec-4da7-8a59-a4061b3d1ebe",
    "deepnote_cell_type": "code"
   },
   "source": "tokenized",
   "execution_count": null,
   "outputs": [
    {
     "data": {
      "text/plain": "title\n10TH ANNIVERSARY            [detective, lindsay, boxer, and, the, womens, ...\n11TH HOUR                   [detective, lindsay, boxer, and, the, womens, ...\n1225 CHRISTMAS TREE LANE    [puppies, and, an, exhusband, loom, large, in,...\n1356                        [in, the, fourth, book, of, the, grail, quest,...\n1Q84                        [in, s, tokyo, a, woman, who, punishes, perpet...\n                                                  ...                        \nZ                           [a, novel, based, on, the, lives, of, zelda, a...\nZERO DAY                    [a, military, investigator, uncovers, a, consp...\nZERO HISTORY                [several, characters, from, spook, country, re...\nZONE ONE                    [fighting, zombies, in, postapocalyptic, manha...\nZOO                         [a, young, biologist, warns, world, leaders, a...\nName: description, Length: 754, dtype: object"
     },
     "execution_count": 6,
     "metadata": {},
     "output_type": "execute_result"
    }
   ]
  },
  {
   "cell_type": "code",
   "metadata": {
    "cell_id": "00010-003870fc-f0b3-449f-8cd8-00da4e9bf676",
    "deepnote_cell_type": "code"
   },
   "source": "# Sumamos todas las listas para obtener una lista con todas las palabras en nuestro conjunto de datos\n# Creamos un objeto Text\n\nall_words = tokenized.sum()\ntext = nltk.Text(all_words)\n\ntext",
   "execution_count": null,
   "outputs": [
    {
     "data": {
      "text/plain": "<Text: detective lindsay boxer and the womens murder club...>"
     },
     "execution_count": 7,
     "metadata": {},
     "output_type": "execute_result"
    }
   ]
  },
  {
   "cell_type": "code",
   "metadata": {
    "cell_id": "00011-ea7aa692-e7c8-412e-a3c2-4eb962a907b2",
    "deepnote_cell_type": "code"
   },
   "source": "text.concordance('woman', lines=20)",
   "execution_count": null,
   "outputs": [
    {
     "name": "stdout",
     "output_type": "stream",
     "text": "Displaying 20 of 60 matches:\n the battle of poitiers in s tokyo a woman who punishes perpetrators of domesti\nof mishandling an autopsy a pregnant woman shows up in cedar cove on christmas \ne nothing is as it seems a middleage woman takes a crosscountry road trip with \nment a young beautiful and ambitious woman ruthlessly ascends the heights of th\nring of humans and heavenly beings a woman in her late s marries the man of her\ne ichidian universe a smuggler and a woman warrior must fight together to survi\npaloosa trilogy two lawmen protect a woman one of them loves in frenchs fourth \ne an arcane society novel a southern woman is forever changed by the betrayals \nillipss earlier novels reappear as a woman persuades a friend to call off her w\nplot to kill thousands of citizens a woman asks the boston detective dd warren \narker in pursuing a dangerous case a woman joins with her estranged former step\ntexas fbi agent falls in love with a woman with a past lara callandine an exper\n wealthy connecticut town a divorced woman takes a job as an assistant to a fam\neings twentytwo years after a dublin woman stood up her intended groom her aban\nikki heat investigates the case of a woman whose body is found in a freezer the\n crime book of the forerunner saga a woman whose daughter has a dangerous birth\nthe conclusion to her mothers hope a woman haunts the flat shes left to her twi\nees with her master to new orleans a woman haunted by the disappearance of her \n high school principal is murdered a woman looking for a change begins a relati\nfrom her exploitive criminal uncle a woman is challenged when her musician husb\n"
    }
   ]
  },
  {
   "cell_type": "code",
   "metadata": {
    "cell_id": "00012-8fff7a55-fe12-49ff-b900-9fe81e82328a",
    "deepnote_cell_type": "code"
   },
   "source": "# similar te regresa las palabras que aparecen en contextos similares al argumento\n\ntext.similar('woman')",
   "execution_count": null,
   "outputs": [
    {
     "name": "stdout",
     "output_type": "stream",
     "text": "man widow killer series war case doctor yearold friend boy target\nyacht murder nanny group secret witch massacre mystery family\n"
    }
   ]
  },
  {
   "cell_type": "code",
   "metadata": {
    "cell_id": "00013-f1fc0fd2-058d-426e-9b34-6b39e89476fb",
    "deepnote_cell_type": "code"
   },
   "source": "text.similar('women')",
   "execution_count": null,
   "outputs": [
    {
     "name": "stdout",
     "output_type": "stream",
     "text": "murder war love crimes killer battle resent administration eve life\nrecovery night state summer eyes wheel mother daughter author secrets\n"
    }
   ]
  },
  {
   "cell_type": "code",
   "metadata": {
    "cell_id": "00014-63cb5818-5d8f-4514-be25-f1638b4d9a91",
    "deepnote_cell_type": "code"
   },
   "source": "text.concordance('man', lines=20)",
   "execution_count": null,
   "outputs": [
    {
     "name": "stdout",
     "output_type": "stream",
     "text": "Displaying 20 of 35 matches:\nngs a woman in her late s marries the man of her dreams and reaches out to his \ntar hides his male lover a former hit man for the mob who has become a doctor i\ny the betrayals of her mother and the man she loves intrigue on the planet safe\na in two agents are tracking the same man a human trafficker who is now dealing\nlorida for a missing girl and the con man who seduced her a runaway girl and th\ns deployed to iraq a distraught young man discovers that he has grown horns a s\n empire of charis fights to survive a man who kidnapped a yearold girl contacts\nand cia stand in his way when a young man finds a bag of diamonds he gets the a\nstigator maisie dobbs helps an indian man whose sisters murder has been ignored\nal attacks a woman her daughter and a man accused of murder evade the authoriti\nooper becomes involved when a wealthy man assaults a maid in a manhattan hotel \nd as christmas nears a terminally ill man is preparing his family for his death\nn involved before the fbi can after a man stumbles in front of the reporter mel\ner the woman he loved married another man jake fisher discovers that neither sh\ncheats on his wives sends an innocent man to jail and tries to cash in on anoth\nce brennan investigates the case of a man who seems to have died twice jesse st\ntor eve duncan undertakes a job for a man with dark secrets the first book in a\nmurder at a remote abbey a middleaged man mourning his wifes death is comforted\nter their high school romance ended a man and woman who have gone their separat\ns to see whether they can find love a man changes his life after he reads his o\n"
    }
   ]
  },
  {
   "cell_type": "code",
   "metadata": {
    "cell_id": "00015-c31694b8-ea32-4138-b44a-65c6691d4c09",
    "deepnote_cell_type": "code"
   },
   "source": "text.similar('man')",
   "execution_count": null,
   "outputs": [
    {
     "name": "stdout",
     "output_type": "stream",
     "text": "killer woman widow murder war mystery case yearold vampire\ndisappearance target murderer yacht priest detective baby series\nbattle administration eve\n"
    }
   ]
  },
  {
   "cell_type": "code",
   "metadata": {
    "cell_id": "00016-2ede824c-6587-4502-8eab-0ad4ff5d2d17",
    "deepnote_cell_type": "code"
   },
   "source": "text.similar('men')",
   "execution_count": null,
   "outputs": [
    {
     "name": "stdout",
     "output_type": "stream",
     "text": "s french president west truth culprit males governor\n"
    }
   ]
  },
  {
   "cell_type": "code",
   "metadata": {
    "cell_id": "00017-1feb8b55-dbab-40a2-bb2c-20f1293df1d5",
    "deepnote_cell_type": "code"
   },
   "source": "# common_contexts regresa los contextos que comparten dos o más palabras\n\ntext.common_contexts(['woman', 'man'])",
   "execution_count": null,
   "outputs": [
    {
     "name": "stdout",
     "output_type": "stream",
     "text": "a_in a_with a_who\n"
    }
   ]
  },
  {
   "cell_type": "code",
   "metadata": {
    "cell_id": "00018-08dd0ccc-cebe-4e79-b645-c154ec1084d0",
    "deepnote_cell_type": "code"
   },
   "source": "# Total de palabras\n\nlen(text)",
   "execution_count": null,
   "outputs": [
    {
     "ename": "NameError",
     "evalue": "name 'text' is not defined",
     "output_type": "error",
     "traceback": [
      "\u001b[0;31m---------------------------------------------------------------------------\u001b[0m",
      "\u001b[0;31mNameError\u001b[0m                                 Traceback (most recent call last)",
      "\u001b[0;32m<ipython-input-1-33979c5d309f>\u001b[0m in \u001b[0;36m<module>\u001b[0;34m\u001b[0m\n\u001b[1;32m      1\u001b[0m \u001b[0;31m# Total de palabras\u001b[0m\u001b[0;34m\u001b[0m\u001b[0;34m\u001b[0m\u001b[0;34m\u001b[0m\u001b[0m\n\u001b[1;32m      2\u001b[0m \u001b[0;34m\u001b[0m\u001b[0m\n\u001b[0;32m----> 3\u001b[0;31m \u001b[0mlen\u001b[0m\u001b[0;34m(\u001b[0m\u001b[0mtext\u001b[0m\u001b[0;34m)\u001b[0m\u001b[0;34m\u001b[0m\u001b[0;34m\u001b[0m\u001b[0m\n\u001b[0m",
      "\u001b[0;31mNameError\u001b[0m: name 'text' is not defined"
     ]
    }
   ]
  },
  {
   "cell_type": "code",
   "metadata": {
    "cell_id": "00019-ad49fd20-5b57-4991-ae40-220d0b251bf5",
    "deepnote_cell_type": "code"
   },
   "source": "# Total de palabras distintas\n\nlen(set(text))",
   "execution_count": null,
   "outputs": [
    {
     "data": {
      "text/plain": "3161"
     },
     "execution_count": 18,
     "metadata": {},
     "output_type": "execute_result"
    }
   ]
  },
  {
   "cell_type": "code",
   "metadata": {
    "cell_id": "00020-7b214735-7b62-4699-b873-84b026806176",
    "deepnote_cell_type": "code"
   },
   "source": "# Cuantificando la riqueza léxica\n\nlen(set(text)) / len(text)",
   "execution_count": null,
   "outputs": [
    {
     "data": {
      "text/plain": "0.2514917654546901"
     },
     "execution_count": 19,
     "metadata": {},
     "output_type": "execute_result"
    }
   ]
  },
  {
   "cell_type": "code",
   "metadata": {
    "cell_id": "00021-1e105681-fdc8-459f-840f-db02f0ac8854",
    "deepnote_cell_type": "code"
   },
   "source": "# Las colocaciones son pares de palabras (bigramas) que son inusualmente comunes en nuestro conjunto de datos\n\ntext.collocations()",
   "execution_count": null,
   "outputs": [
    {
     "name": "stdout",
     "output_type": "stream",
     "text": "new york; serial killer; stone barrington; los angeles; writing\npseudonymously; nora roberts; roberts writing; eve dallas; sookie\nstackhouse; anita blake; dagger brotherhood; doc ford; jason bourne;\nlacey sherlock; mitch rapp; temperance brennan; forensic sculptor;\nalex cross; robert ludlums; san francisco\n"
    }
   ]
  },
  {
   "cell_type": "markdown",
   "source": "<a style='text-decoration:none;line-height:16px;display:flex;color:#5B5B62;padding:10px;justify-content:end;' href='https://deepnote.com?utm_source=created-in-deepnote-cell&projectId=f8149d1c-e6b1-497a-9109-f01641a8231a' target=\"_blank\">\n<img alt='Created in deepnote.com' style='display:inline;max-height:16px;margin:0px;margin-right:7.5px;' src='data:image/svg+xml;base64,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' > </img>\nCreated in <span style='font-weight:600;margin-left:4px;'>Deepnote</span></a>",
   "metadata": {
    "tags": [],
    "created_in_deepnote_cell": true,
    "deepnote_cell_type": "markdown"
   }
  }
 ],
 "nbformat": 4,
 "nbformat_minor": 4,
 "metadata": {
  "kernelspec": {
   "display_name": "Python (data_science)",
   "language": "python",
   "name": "data_science"
  },
  "language_info": {
   "codemirror_mode": {
    "name": "ipython",
    "version": 3
   },
   "file_extension": ".py",
   "mimetype": "text/x-python",
   "name": "python",
   "nbconvert_exporter": "python",
   "pygments_lexer": "ipython3",
   "version": "3.8.5"
  },
  "deepnote_notebook_id": "981a1830-4824-43d5-9d06-384b1e595c98",
  "deepnote": {},
  "deepnote_execution_queue": []
 }
}