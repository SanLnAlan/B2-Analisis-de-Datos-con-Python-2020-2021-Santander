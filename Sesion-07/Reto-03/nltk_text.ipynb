{
 "cells": [
  {
   "cell_type": "markdown",
   "source": "## Reto 3: Nltk Text\n\n### 1. Objetivos:\n    - Practicar el uso del objeto Text de la librería Nltk\n \n---\n    \n### 2. Desarrollo:",
   "metadata": {
    "cell_id": "00000-350a24a5-f08a-464a-a55b-1b6d2a33628f",
    "deepnote_cell_type": "markdown"
   }
  },
  {
   "cell_type": "markdown",
   "source": "Vamos a practicar utilizar el objeto Text de la librería Nltk. Para practicar utilizaremos el conjunto de datos que limpiaste en el Reto anterior. Este conjunto de datos debería de contener todas las evaluaciones registradas en el dataset 'amazon_fine_food_reviews-clean.csv' ya limpias y listas para el análisis.\n\nTu Reto consiste en lo siguiente:\n\n1. Aplica el método 'word_tokenize' de nltk para separar todas las evaluaciones por palabras (esto puede tardar un ratito).\n2. Genera una sola lista con todas las listas que obtuviste en el paso 1 y úsala para crear un objeto `nltk.Text` (esto también puede tardar un ratito, sé paciente).\n3. Busca las concordancias de las palabras 'boy' y 'girl'.\n4. Busca las palabras que tengan contextos similares a las palabras 'boy' y 'girl'.\n5. Busca los contextos que tengan en común las palabras 'boy' y 'girl'.\n6. Cuantifica la riqueza léxica de tu conjunto de datos\n7. Sigue tu curiosidad y realiza algunas otras exploraciones por tu cuenta.\n8. Comenta tus hallazgos con tus compañeros y la experta.",
   "metadata": {
    "cell_id": "00001-85a7438a-63fc-462f-9a45-97f936dd01dc",
    "deepnote_cell_type": "markdown"
   }
  },
  {
   "cell_type": "code",
   "metadata": {
    "cell_id": "00002-c446aeee-2218-4662-a2cf-3968703936cc",
    "deepnote_to_be_reexecuted": false,
    "source_hash": "3c592c5a",
    "execution_start": 1632278373898,
    "execution_millis": 2032,
    "deepnote_cell_type": "code"
   },
   "source": "import pandas as pd\nimport nltk\nimport seaborn as sns\nimport matplotlib.pyplot as plt\nimport numpy as np",
   "execution_count": null,
   "outputs": []
  },
  {
   "cell_type": "code",
   "metadata": {
    "tags": [],
    "cell_id": "00003-a0a9437c-566f-4103-8ffe-57e5f37b4f40",
    "deepnote_to_be_reexecuted": false,
    "source_hash": "fa7e7411",
    "execution_start": 1632278502330,
    "execution_millis": 137,
    "deepnote_cell_type": "code"
   },
   "source": "df = pd.read_csv('/work/B2-Analisis-de-Datos-con-Python-2020-2021-Santander/Datasets/amazon_fine_food_reviews-clean.csv')\ndf.head()",
   "execution_count": null,
   "outputs": [
    {
     "output_type": "execute_result",
     "execution_count": 2,
     "data": {
      "application/vnd.deepnote.dataframe.v2+json": {
       "row_count": 5,
       "column_count": 10,
       "columns": [
        {
         "name": "id",
         "dtype": "int64",
         "stats": {
          "unique_count": 5,
          "nan_count": 0,
          "min": "178178",
          "max": "522649",
          "histogram": [
           {
            "bin_start": 178178,
            "bin_end": 212625.1,
            "count": 2
           },
           {
            "bin_start": 212625.1,
            "bin_end": 247072.2,
            "count": 0
           },
           {
            "bin_start": 247072.2,
            "bin_end": 281519.3,
            "count": 1
           },
           {
            "bin_start": 281519.3,
            "bin_end": 315966.4,
            "count": 0
           },
           {
            "bin_start": 315966.4,
            "bin_end": 350413.5,
            "count": 0
           },
           {
            "bin_start": 350413.5,
            "bin_end": 384860.6,
            "count": 0
           },
           {
            "bin_start": 384860.6,
            "bin_end": 419307.69999999995,
            "count": 1
           },
           {
            "bin_start": 419307.69999999995,
            "bin_end": 453754.8,
            "count": 0
           },
           {
            "bin_start": 453754.8,
            "bin_end": 488201.89999999997,
            "count": 0
           },
           {
            "bin_start": 488201.89999999997,
            "bin_end": 522649,
            "count": 1
           }
          ]
         }
        },
        {
         "name": "product_id",
         "dtype": "object",
         "stats": {
          "unique_count": 5,
          "nan_count": 0,
          "categories": [
           {
            "name": "B00168V34W",
            "count": 1
           },
           {
            "name": "B000CQID2Y",
            "count": 1
           },
           {
            "name": "3 others",
            "count": 3
           }
          ]
         }
        },
        {
         "name": "user_id",
         "dtype": "object",
         "stats": {
          "unique_count": 5,
          "nan_count": 0,
          "categories": [
           {
            "name": "A1672LH9S1XO70",
            "count": 1
           },
           {
            "name": "A42CJC66XO0H7",
            "count": 1
           },
           {
            "name": "3 others",
            "count": 3
           }
          ]
         }
        },
        {
         "name": "profile_name",
         "dtype": "object",
         "stats": {
          "unique_count": 5,
          "nan_count": 0,
          "categories": [
           {
            "name": "Lorna J. Loomis \"Canadian Dog Fancier\"",
            "count": 1
           },
           {
            "name": "Scott Schimmel \"A Butterfly Dreaming\"",
            "count": 1
           },
           {
            "name": "3 others",
            "count": 3
           }
          ]
         }
        },
        {
         "name": "helpfulness_numerator",
         "dtype": "int64",
         "stats": {
          "unique_count": 4,
          "nan_count": 0,
          "min": "0",
          "max": "13",
          "histogram": [
           {
            "bin_start": 0,
            "bin_end": 1.3,
            "count": 2
           },
           {
            "bin_start": 1.3,
            "bin_end": 2.6,
            "count": 2
           },
           {
            "bin_start": 2.6,
            "bin_end": 3.9000000000000004,
            "count": 0
           },
           {
            "bin_start": 3.9000000000000004,
            "bin_end": 5.2,
            "count": 0
           },
           {
            "bin_start": 5.2,
            "bin_end": 6.5,
            "count": 0
           },
           {
            "bin_start": 6.5,
            "bin_end": 7.800000000000001,
            "count": 0
           },
           {
            "bin_start": 7.800000000000001,
            "bin_end": 9.1,
            "count": 0
           },
           {
            "bin_start": 9.1,
            "bin_end": 10.4,
            "count": 0
           },
           {
            "bin_start": 10.4,
            "bin_end": 11.700000000000001,
            "count": 0
           },
           {
            "bin_start": 11.700000000000001,
            "bin_end": 13,
            "count": 1
           }
          ]
         }
        },
        {
         "name": "helpfulness_denominator",
         "dtype": "int64",
         "stats": {
          "unique_count": 4,
          "nan_count": 0,
          "min": "0",
          "max": "14",
          "histogram": [
           {
            "bin_start": 0,
            "bin_end": 1.4,
            "count": 1
           },
           {
            "bin_start": 1.4,
            "bin_end": 2.8,
            "count": 2
           },
           {
            "bin_start": 2.8,
            "bin_end": 4.199999999999999,
            "count": 0
           },
           {
            "bin_start": 4.199999999999999,
            "bin_end": 5.6,
            "count": 0
           },
           {
            "bin_start": 5.6,
            "bin_end": 7,
            "count": 1
           },
           {
            "bin_start": 7,
            "bin_end": 8.399999999999999,
            "count": 0
           },
           {
            "bin_start": 8.399999999999999,
            "bin_end": 9.799999999999999,
            "count": 0
           },
           {
            "bin_start": 9.799999999999999,
            "bin_end": 11.2,
            "count": 0
           },
           {
            "bin_start": 11.2,
            "bin_end": 12.6,
            "count": 0
           },
           {
            "bin_start": 12.6,
            "bin_end": 14,
            "count": 1
           }
          ]
         }
        },
        {
         "name": "score",
         "dtype": "int64",
         "stats": {
          "unique_count": 3,
          "nan_count": 0,
          "min": "1",
          "max": "5",
          "histogram": [
           {
            "bin_start": 1,
            "bin_end": 1.4,
            "count": 1
           },
           {
            "bin_start": 1.4,
            "bin_end": 1.8,
            "count": 0
           },
           {
            "bin_start": 1.8,
            "bin_end": 2.2,
            "count": 0
           },
           {
            "bin_start": 2.2,
            "bin_end": 2.6,
            "count": 0
           },
           {
            "bin_start": 2.6,
            "bin_end": 3,
            "count": 0
           },
           {
            "bin_start": 3,
            "bin_end": 3.4000000000000004,
            "count": 1
           },
           {
            "bin_start": 3.4000000000000004,
            "bin_end": 3.8000000000000003,
            "count": 0
           },
           {
            "bin_start": 3.8000000000000003,
            "bin_end": 4.2,
            "count": 0
           },
           {
            "bin_start": 4.2,
            "bin_end": 4.6,
            "count": 0
           },
           {
            "bin_start": 4.6,
            "bin_end": 5,
            "count": 3
           }
          ]
         }
        },
        {
         "name": "time",
         "dtype": "int64",
         "stats": {
          "unique_count": 5,
          "nan_count": 0,
          "min": "1265673600",
          "max": "1335830400",
          "histogram": [
           {
            "bin_start": 1265673600,
            "bin_end": 1272689280,
            "count": 2
           },
           {
            "bin_start": 1272689280,
            "bin_end": 1279704960,
            "count": 1
           },
           {
            "bin_start": 1279704960,
            "bin_end": 1286720640,
            "count": 0
           },
           {
            "bin_start": 1286720640,
            "bin_end": 1293736320,
            "count": 0
           },
           {
            "bin_start": 1293736320,
            "bin_end": 1300752000,
            "count": 0
           },
           {
            "bin_start": 1300752000,
            "bin_end": 1307767680,
            "count": 1
           },
           {
            "bin_start": 1307767680,
            "bin_end": 1314783360,
            "count": 0
           },
           {
            "bin_start": 1314783360,
            "bin_end": 1321799040,
            "count": 0
           },
           {
            "bin_start": 1321799040,
            "bin_end": 1328814720,
            "count": 0
           },
           {
            "bin_start": 1328814720,
            "bin_end": 1335830400,
            "count": 1
           }
          ]
         }
        },
        {
         "name": "summary",
         "dtype": "object",
         "stats": {
          "unique_count": 5,
          "nan_count": 0,
          "categories": [
           {
            "name": "Misleading to refer to \"PODS\"",
            "count": 1
           },
           {
            "name": "Delicious",
            "count": 1
           },
           {
            "name": "3 others",
            "count": 3
           }
          ]
         }
        },
        {
         "name": "text",
         "dtype": "object",
         "stats": {
          "unique_count": 5,
          "nan_count": 0,
          "categories": [
           {
            "name": "This coffee does NOT come in individual \"PODS\" or \"K cups\". Rather, it comes in a box of individual foil envelopes, which packaging is NOT suitable for the Keurig coffee maker. It is not what I expected to receive, based upon information provided on this website.",
            "count": 1
           },
           {
            "name": "I was a little skeptical after looking at the list of ingredients, but I decided to give this tea a try anyway.  I'm glad I did.  It's a delicious, sweet-tasting blend that's good both hot and iced.  I went through about a box a week; everyone I've served it to has enjoyed it.",
            "count": 1
           },
           {
            "name": "3 others",
            "count": 3
           }
          ]
         }
        },
        {
         "name": "_deepnote_index_column",
         "dtype": "int64"
        }
       ],
       "rows_top": [
        {
         "id": 258510,
         "product_id": "B00168V34W",
         "user_id": "A1672LH9S1XO70",
         "profile_name": "Lorna J. Loomis \"Canadian Dog Fancier\"",
         "helpfulness_numerator": 13,
         "helpfulness_denominator": 14,
         "score": 3,
         "time": 1266796800,
         "summary": "Misleading to refer to \"PODS\"",
         "text": "This coffee does NOT come in individual \"PODS\" or \"K cups\". Rather, it comes in a box of individual…",
         "_deepnote_index_column": 0
        },
        {
         "id": 207915,
         "product_id": "B000CQID2Y",
         "user_id": "A42CJC66XO0H7",
         "profile_name": "Scott Schimmel \"A Butterfly Dreaming\"",
         "helpfulness_numerator": 2,
         "helpfulness_denominator": 2,
         "score": 5,
         "time": 1279497600,
         "summary": "Delicious",
         "text": "I was a little skeptical after looking at the list of ingredients, but I decided to give this tea a…",
         "_deepnote_index_column": 1
        },
        {
         "id": 522649,
         "product_id": "B007TJGZ0Y",
         "user_id": "A16QZBG2UN6Z3X",
         "profile_name": "Toology \"Toology\"",
         "helpfulness_numerator": 0,
         "helpfulness_denominator": 0,
         "score": 5,
         "time": 1335830400,
         "summary": "One of my favs",
         "text": "Gloia Jeans Butter Toffee is one of my favorite k-cups, and I've tried almost all of them, has a sw…",
         "_deepnote_index_column": 2
        },
        {
         "id": 393368,
         "product_id": "B000W7PUOW",
         "user_id": "A3J21CQZG60K35",
         "profile_name": "Hsieh Pei Hsuan",
         "helpfulness_numerator": 2,
         "helpfulness_denominator": 2,
         "score": 5,
         "time": 1265673600,
         "summary": "Tasty!!",
         "text": "My families and friends love Planters peanuts I bought for them.<br />It's a good bargain to buy th…",
         "_deepnote_index_column": 3
        },
        {
         "id": 178178,
         "product_id": "B002FX2IOQ",
         "user_id": "A1Z7XV6JU0EV8M",
         "profile_name": "Barbara \"Barbara\"",
         "helpfulness_numerator": 1,
         "helpfulness_denominator": 6,
         "score": 1,
         "time": 1301788800,
         "summary": "Organic Valley White 1 % Milkfat Lowfat Milk, 8-Ounce Pack of 12",
         "text": "Organic Valley White 1 % Milkfat Lowfat Milk, 8-Ounce Carton (Pack of 12)<br /><br />Not that good.…",
         "_deepnote_index_column": 4
        }
       ],
       "rows_bottom": null
      },
      "text/plain": "       id  product_id         user_id                            profile_name  \\\n0  258510  B00168V34W  A1672LH9S1XO70  Lorna J. Loomis \"Canadian Dog Fancier\"   \n1  207915  B000CQID2Y   A42CJC66XO0H7   Scott Schimmel \"A Butterfly Dreaming\"   \n2  522649  B007TJGZ0Y  A16QZBG2UN6Z3X                       Toology \"Toology\"   \n3  393368  B000W7PUOW  A3J21CQZG60K35                         Hsieh Pei Hsuan   \n4  178178  B002FX2IOQ  A1Z7XV6JU0EV8M                       Barbara \"Barbara\"   \n\n   helpfulness_numerator  helpfulness_denominator  score        time  \\\n0                     13                       14      3  1266796800   \n1                      2                        2      5  1279497600   \n2                      0                        0      5  1335830400   \n3                      2                        2      5  1265673600   \n4                      1                        6      1  1301788800   \n\n                                             summary  \\\n0                      Misleading to refer to \"PODS\"   \n1                                          Delicious   \n2                                     One of my favs   \n3                                            Tasty!!   \n4  Organic Valley White 1 % Milkfat Lowfat Milk, ...   \n\n                                                text  \n0  This coffee does NOT come in individual \"PODS\"...  \n1  I was a little skeptical after looking at the ...  \n2  Gloia Jeans Butter Toffee is one of my favorit...  \n3  My families and friends love Planters peanuts ...  \n4  Organic Valley White 1 % Milkfat Lowfat Milk, ...  ",
      "text/html": "<div>\n<style scoped>\n    .dataframe tbody tr th:only-of-type {\n        vertical-align: middle;\n    }\n\n    .dataframe tbody tr th {\n        vertical-align: top;\n    }\n\n    .dataframe thead th {\n        text-align: right;\n    }\n</style>\n<table border=\"1\" class=\"dataframe\">\n  <thead>\n    <tr style=\"text-align: right;\">\n      <th></th>\n      <th>id</th>\n      <th>product_id</th>\n      <th>user_id</th>\n      <th>profile_name</th>\n      <th>helpfulness_numerator</th>\n      <th>helpfulness_denominator</th>\n      <th>score</th>\n      <th>time</th>\n      <th>summary</th>\n      <th>text</th>\n    </tr>\n  </thead>\n  <tbody>\n    <tr>\n      <th>0</th>\n      <td>258510</td>\n      <td>B00168V34W</td>\n      <td>A1672LH9S1XO70</td>\n      <td>Lorna J. Loomis \"Canadian Dog Fancier\"</td>\n      <td>13</td>\n      <td>14</td>\n      <td>3</td>\n      <td>1266796800</td>\n      <td>Misleading to refer to \"PODS\"</td>\n      <td>This coffee does NOT come in individual \"PODS\"...</td>\n    </tr>\n    <tr>\n      <th>1</th>\n      <td>207915</td>\n      <td>B000CQID2Y</td>\n      <td>A42CJC66XO0H7</td>\n      <td>Scott Schimmel \"A Butterfly Dreaming\"</td>\n      <td>2</td>\n      <td>2</td>\n      <td>5</td>\n      <td>1279497600</td>\n      <td>Delicious</td>\n      <td>I was a little skeptical after looking at the ...</td>\n    </tr>\n    <tr>\n      <th>2</th>\n      <td>522649</td>\n      <td>B007TJGZ0Y</td>\n      <td>A16QZBG2UN6Z3X</td>\n      <td>Toology \"Toology\"</td>\n      <td>0</td>\n      <td>0</td>\n      <td>5</td>\n      <td>1335830400</td>\n      <td>One of my favs</td>\n      <td>Gloia Jeans Butter Toffee is one of my favorit...</td>\n    </tr>\n    <tr>\n      <th>3</th>\n      <td>393368</td>\n      <td>B000W7PUOW</td>\n      <td>A3J21CQZG60K35</td>\n      <td>Hsieh Pei Hsuan</td>\n      <td>2</td>\n      <td>2</td>\n      <td>5</td>\n      <td>1265673600</td>\n      <td>Tasty!!</td>\n      <td>My families and friends love Planters peanuts ...</td>\n    </tr>\n    <tr>\n      <th>4</th>\n      <td>178178</td>\n      <td>B002FX2IOQ</td>\n      <td>A1Z7XV6JU0EV8M</td>\n      <td>Barbara \"Barbara\"</td>\n      <td>1</td>\n      <td>6</td>\n      <td>1</td>\n      <td>1301788800</td>\n      <td>Organic Valley White 1 % Milkfat Lowfat Milk, ...</td>\n      <td>Organic Valley White 1 % Milkfat Lowfat Milk, ...</td>\n    </tr>\n  </tbody>\n</table>\n</div>"
     },
     "metadata": {}
    }
   ]
  },
  {
   "cell_type": "code",
   "metadata": {
    "tags": [],
    "cell_id": "00004-bb493c9c-53ff-44fb-b3bc-f445b8c242ee",
    "deepnote_to_be_reexecuted": false,
    "source_hash": "616b92aa",
    "execution_start": 1632278669971,
    "execution_millis": 1151,
    "deepnote_cell_type": "code"
   },
   "source": "grouped_by_title = df.groupby('id')['text'].max()",
   "execution_count": null,
   "outputs": []
  },
  {
   "cell_type": "code",
   "metadata": {
    "tags": [],
    "cell_id": "00004-d824f281-35f8-4ffa-ac2d-2c504b249fe4",
    "deepnote_to_be_reexecuted": false,
    "source_hash": "65d8245d",
    "execution_start": 1632278675143,
    "execution_millis": 260,
    "deepnote_cell_type": "code"
   },
   "source": "grouped_by_title = grouped_by_title.str.lower()\ngrouped_by_title = grouped_by_title.str.strip()\ngrouped_by_title = grouped_by_title.str.replace('[^\\w\\s]', '')\ngrouped_by_title = grouped_by_title.str.replace('\\d', '')\ngrouped_by_title = grouped_by_title.str.replace('\\\\n', '')\ngrouped_by_title = grouped_by_title.dropna()\n\ngrouped_by_title",
   "execution_count": null,
   "outputs": [
    {
     "name": "stderr",
     "text": "/shared-libs/python3.7/py-core/lib/python3.7/site-packages/ipykernel_launcher.py:3: FutureWarning: The default value of regex will change from True to False in a future version.\n  This is separate from the ipykernel package so we can avoid doing imports until\n/shared-libs/python3.7/py-core/lib/python3.7/site-packages/ipykernel_launcher.py:4: FutureWarning: The default value of regex will change from True to False in a future version.\n  after removing the cwd from sys.path.\n/shared-libs/python3.7/py-core/lib/python3.7/site-packages/ipykernel_launcher.py:5: FutureWarning: The default value of regex will change from True to False in a future version.\n  \"\"\"\n",
     "output_type": "stream"
    },
    {
     "output_type": "execute_result",
     "execution_count": 6,
     "data": {
      "text/plain": "id\n58        it is chocolate what can i say  great variety ...\n61        watch your prices with this  while the assortm...\n73        i ordered two of these and two of raspberry la...\n86        we have three dogs and all of them love this f...\n94        my golden retriever is one of the most picky d...\n                                ...                        \n568303    these little nuggets are so good i cry because...\n568334    wonderful alternative to the candies with all ...\n568372    one of the very few if not the only mix that h...\n568400    these are straws filled with lemon flavored ho...\n568448    hoping there is no msg in this this tastes ext...\nName: text, Length: 14211, dtype: object"
     },
     "metadata": {}
    }
   ]
  },
  {
   "cell_type": "code",
   "metadata": {
    "tags": [],
    "cell_id": "00005-b11ec814-a6ce-4b77-96a3-3e8fc4b337af",
    "deepnote_to_be_reexecuted": false,
    "source_hash": "246b37b7",
    "execution_start": 1632278736369,
    "execution_millis": 5106,
    "deepnote_cell_type": "code"
   },
   "source": "# Separamos cada oración en palabras\n\ntokenized = grouped_by_title.apply(nltk.word_tokenize)",
   "execution_count": null,
   "outputs": []
  },
  {
   "cell_type": "code",
   "metadata": {
    "tags": [],
    "cell_id": "00007-242735da-abc3-4340-8d94-bbeea747b930",
    "deepnote_to_be_reexecuted": false,
    "source_hash": "9c4ba013",
    "execution_start": 1632278886203,
    "execution_millis": 96188,
    "deepnote_cell_type": "code"
   },
   "source": "all_words = tokenized.sum()\ntext = nltk.Text(all_words)\n\ntext",
   "execution_count": null,
   "outputs": [
    {
     "output_type": "execute_result",
     "execution_count": 9,
     "data": {
      "text/plain": "<Text: it is chocolate what can i say great...>"
     },
     "metadata": {}
    }
   ]
  },
  {
   "cell_type": "code",
   "metadata": {
    "tags": [],
    "cell_id": "00008-c4e979bd-2a1c-4b3d-b558-c2cebd2c8edd",
    "deepnote_to_be_reexecuted": false,
    "source_hash": "eda6afc5",
    "execution_start": 1632279449849,
    "execution_millis": 668,
    "deepnote_cell_type": "code"
   },
   "source": "freq_dist = nltk.FreqDist(all_words)\nfreq_dist.most_common()",
   "execution_count": null,
   "outputs": [
    {
     "output_type": "execute_result",
     "execution_count": 20,
     "data": {
      "text/plain": "[('the', 46617),\n ('i', 37922),\n ('and', 32132),\n ('a', 30779),\n ('to', 25390),\n ('it', 22921),\n ('of', 20256),\n ('is', 18411),\n ('this', 16886),\n ('for', 13760),\n ('in', 13760),\n ('my', 11564),\n ('that', 10998),\n ('but', 9367),\n ('with', 8846),\n ('have', 8772),\n ('not', 8644),\n ('you', 8121),\n ('was', 8047),\n ('are', 7890),\n ('they', 7086),\n ('as', 6978),\n ('br', 6921),\n ('on', 6865),\n ('so', 6334),\n ('like', 6238),\n ('these', 5739),\n ('them', 5024),\n ('good', 5021),\n ('be', 4635),\n ('or', 4466),\n ('at', 4412),\n ('its', 4285),\n ('just', 4235),\n ('taste', 4217),\n ('one', 4201),\n ('coffee', 4162),\n ('if', 4120),\n ('very', 4070),\n ('great', 4039),\n ('all', 3917),\n ('can', 3715),\n ('from', 3690),\n ('product', 3658),\n ('tea', 3533),\n ('flavor', 3495),\n ('when', 3396),\n ('more', 3386),\n ('has', 3295),\n ('we', 3281),\n ('had', 3226),\n ('love', 3208),\n ('me', 3200),\n ('will', 3181),\n ('would', 3087),\n ('food', 3083),\n ('out', 2862),\n ('than', 2818),\n ('get', 2729),\n ('no', 2634),\n ('other', 2632),\n ('about', 2603),\n ('really', 2546),\n ('some', 2501),\n ('only', 2443),\n ('up', 2435),\n ('much', 2400),\n ('dont', 2375),\n ('too', 2310),\n ('an', 2248),\n ('your', 2218),\n ('because', 2140),\n ('also', 2137),\n ('little', 2128),\n ('were', 2124),\n ('time', 2045),\n ('what', 2033),\n ('use', 2023),\n ('which', 2007),\n ('been', 1995),\n ('tried', 1987),\n ('there', 1982),\n ('amazon', 1966),\n ('do', 1963),\n ('am', 1941),\n ('im', 1916),\n ('best', 1913),\n ('even', 1888),\n ('buy', 1885),\n ('ive', 1838),\n ('find', 1822),\n ('by', 1822),\n ('he', 1822),\n ('price', 1807),\n ('now', 1778),\n ('better', 1759),\n ('she', 1758),\n ('well', 1752),\n ('make', 1741),\n ('after', 1719),\n ('try', 1709),\n ('any', 1694),\n ('eat', 1647),\n ('dog', 1632),\n ('their', 1518),\n ('first', 1488),\n ('our', 1465),\n ('chocolate', 1460),\n ('her', 1431),\n ('bag', 1410),\n ('sugar', 1402),\n ('water', 1351),\n ('then', 1350),\n ('found', 1336),\n ('used', 1321),\n ('cup', 1270),\n ('again', 1268),\n ('sweet', 1260),\n ('made', 1242),\n ('bought', 1227),\n ('drink', 1226),\n ('think', 1222),\n ('two', 1219),\n ('way', 1194),\n ('box', 1189),\n ('day', 1188),\n ('tastes', 1179),\n ('still', 1179),\n ('since', 1167),\n ('most', 1138),\n ('could', 1132),\n ('order', 1129),\n ('go', 1128),\n ('who', 1125),\n ('over', 1125),\n ('did', 1119),\n ('many', 1109),\n ('got', 1105),\n ('recommend', 1089),\n ('bit', 1069),\n ('store', 1066),\n ('dogs', 1057),\n ('know', 1057),\n ('nice', 1055),\n ('into', 1049),\n ('give', 1036),\n ('does', 1020),\n ('before', 1002),\n ('favorite', 996),\n ('cant', 994),\n ('want', 989),\n ('every', 986),\n ('how', 979),\n ('never', 965),\n ('delicious', 963),\n ('years', 962),\n ('few', 958),\n ('mix', 955),\n ('without', 955),\n ('hot', 944),\n ('while', 942),\n ('flavors', 938),\n ('something', 935),\n ('free', 926),\n ('stuff', 925),\n ('same', 914),\n ('didnt', 914),\n ('say', 905),\n ('loves', 902),\n ('always', 897),\n ('quality', 891),\n ('makes', 886),\n ('lot', 884),\n ('doesnt', 876),\n ('however', 872),\n ('brand', 869),\n ('less', 865),\n ('right', 865),\n ('snack', 856),\n ('small', 853),\n ('add', 850),\n ('different', 849),\n ('ingredients', 849),\n ('healthy', 844),\n ('enough', 843),\n ('cat', 840),\n ('strong', 838),\n ('perfect', 828),\n ('back', 811),\n ('keep', 810),\n ('milk', 807),\n ('using', 801),\n ('green', 801),\n ('ever', 796),\n ('his', 793),\n ('treats', 793),\n ('need', 788),\n ('ordered', 786),\n ('though', 781),\n ('chips', 781),\n ('eating', 779),\n ('put', 774),\n ('sure', 771),\n ('fresh', 769),\n ('long', 767),\n ('enjoy', 766),\n ('off', 764),\n ('see', 756),\n ('those', 751),\n ('bad', 751),\n ('high', 748),\n ('organic', 747),\n ('here', 744),\n ('definitely', 744),\n ('easy', 744),\n ('thought', 735),\n ('pack', 734),\n ('old', 729),\n ('whole', 714),\n ('salt', 714),\n ('oil', 712),\n ('thing', 711),\n ('pretty', 704),\n ('regular', 702),\n ('local', 702),\n ('bags', 694),\n ('being', 693),\n ('hard', 693),\n ('actually', 691),\n ('looking', 688),\n ('far', 687),\n ('treat', 686),\n ('natural', 684),\n ('happy', 684),\n ('both', 682),\n ('going', 681),\n ('products', 677),\n ('another', 677),\n ('take', 675),\n ('each', 674),\n ('cookies', 674),\n ('new', 671),\n ('chicken', 669),\n ('through', 665),\n ('buying', 662),\n ('big', 659),\n ('people', 659),\n ('down', 654),\n ('work', 654),\n ('cats', 650),\n ('him', 646),\n ('last', 644),\n ('almost', 643),\n ('wonderful', 640),\n ('size', 639),\n ('quite', 635),\n ('butter', 624),\n ('foods', 623),\n ('shipping', 607),\n ('tasty', 607),\n ('may', 607),\n ('around', 605),\n ('package', 604),\n ('highly', 602),\n ('diet', 592),\n ('feel', 591),\n ('should', 589),\n ('per', 589),\n ('real', 587),\n ('purchased', 583),\n ('purchase', 580),\n ('coconut', 573),\n ('trying', 571),\n ('tasted', 567),\n ('expensive', 562),\n ('dark', 561),\n ('oz', 560),\n ('worth', 558),\n ('calories', 558),\n ('having', 553),\n ('tasting', 553),\n ('bars', 547),\n ('dry', 545),\n ('texture', 545),\n ('morning', 545),\n ('sauce', 542),\n ('excellent', 542),\n ('said', 535),\n ('several', 535),\n ('own', 532),\n ('anything', 532),\n ('thats', 532),\n ('cereal', 530),\n ('grocery', 528),\n ('low', 528),\n ('probably', 525),\n ('amount', 524),\n ('smell', 522),\n ('come', 520),\n ('us', 513),\n ('half', 512),\n ('vanilla', 512),\n ('added', 510),\n ('year', 509),\n ('protein', 509),\n ('bottle', 508),\n ('id', 507),\n ('getting', 506),\n ('received', 504),\n ('rice', 504),\n ('kind', 504),\n ('full', 503),\n ('stores', 501),\n ('might', 496),\n ('things', 493),\n ('days', 493),\n ('fruit', 493),\n ('health', 493),\n ('case', 489),\n ('theyre', 486),\n ('fat', 485),\n ('brands', 484),\n ('isnt', 483),\n ('drinking', 481),\n ('came', 478),\n ('away', 474),\n ('wont', 472),\n ('home', 471),\n ('once', 471),\n ('black', 466),\n ('variety', 464),\n ('usually', 464),\n ('reviews', 461),\n ('months', 461),\n ('look', 461),\n ('loved', 460),\n ('comes', 459),\n ('where', 459),\n ('blend', 457),\n ('why', 456),\n ('light', 456),\n ('family', 455),\n ('seems', 454),\n ('beans', 454),\n ('bar', 451),\n ('money', 450),\n ('popcorn', 448),\n ('peanut', 443),\n ('company', 440),\n ('problem', 440),\n ('ill', 439),\n ('nothing', 439),\n ('started', 438),\n ('three', 437),\n ('youre', 435),\n ('making', 433),\n ('available', 432),\n ('kcups', 432),\n ('arrived', 428),\n ('candy', 424),\n ('stars', 421),\n ('until', 420),\n ('ones', 419),\n ('flavored', 418),\n ('top', 418),\n ('instead', 417),\n ('save', 415),\n ('gluten', 414),\n ('review', 413),\n ('honey', 411),\n ('kids', 411),\n ('packaging', 411),\n ('able', 410),\n ('teas', 407),\n ('item', 405),\n ('such', 404),\n ('disappointed', 404),\n ('corn', 404),\n ('extra', 404),\n ('others', 403),\n ('times', 399),\n ('house', 399),\n ('works', 398),\n ('maybe', 397),\n ('large', 397),\n ('gave', 395),\n ('next', 393),\n ('bitter', 391),\n ('husband', 390),\n ('decided', 390),\n ('went', 387),\n ('energy', 387),\n ('least', 386),\n ('read', 384),\n ('fine', 384),\n ('especially', 384),\n ('ago', 383),\n ('prefer', 382),\n ('either', 379),\n ('cream', 378),\n ('wish', 376),\n ('syrup', 375),\n ('roast', 372),\n ('cheese', 372),\n ('boxes', 367),\n ('took', 363),\n ('wasnt', 363),\n ('seem', 363),\n ('smooth', 362),\n ('liked', 362),\n ('fact', 361),\n ('cost', 361),\n ('minutes', 360),\n ('meal', 359),\n ('couple', 356),\n ('must', 356),\n ('although', 355),\n ('absolutely', 355),\n ('red', 353),\n ('yet', 352),\n ('cups', 351),\n ('cheaper', 349),\n ('wanted', 349),\n ('serving', 348),\n ('let', 347),\n ('deal', 346),\n ('amazing', 345),\n ('breakfast', 343),\n ('bold', 341),\n ('weight', 340),\n ('longer', 340),\n ('recommended', 339),\n ('help', 338),\n ('powder', 338),\n ('open', 338),\n ('quickly', 335),\n ('plus', 334),\n ('juice', 334),\n ('ounce', 332),\n ('bread', 331),\n ('else', 330),\n ('anyone', 327),\n ('cans', 326),\n ('baby', 326),\n ('rich', 326),\n ('keurig', 325),\n ('fan', 324),\n ('white', 322),\n ('rather', 322),\n ('cookie', 321),\n ('spicy', 316),\n ('meat', 314),\n ('everything', 313),\n ('month', 311),\n ('ordering', 310),\n ('brew', 310),\n ('pieces', 309),\n ('week', 304),\n ('mixed', 303),\n ('couldnt', 301),\n ('hair', 300),\n ('kcup', 299),\n ('youll', 295),\n ('goes', 291),\n ('believe', 291),\n ('gets', 291),\n ('mouth', 291),\n ('fast', 290),\n ('glad', 290),\n ('friends', 287),\n ('problems', 286),\n ('starbucks', 286),\n ('life', 286),\n ('soy', 286),\n ('soup', 286),\n ('crunchy', 285),\n ('aftertaste', 285),\n ('type', 284),\n ('myself', 284),\n ('often', 284),\n ('value', 282),\n ('tell', 282),\n ('difference', 282),\n ('plastic', 282),\n ('everyone', 281),\n ('sometimes', 281),\n ('soft', 278),\n ('havent', 278),\n ('quick', 278),\n ('snacks', 277),\n ('nuts', 277),\n ('super', 276),\n ('wheat', 276),\n ('cinnamon', 276),\n ('thank', 276),\n ('second', 275),\n ('online', 275),\n ('version', 275),\n ('likes', 274),\n ('side', 271),\n ('cold', 271),\n ('ginger', 271),\n ('etc', 269),\n ('slightly', 268),\n ('fiber', 268),\n ('gift', 267),\n ('part', 266),\n ('wouldnt', 265),\n ('artificial', 264),\n ('weeks', 263),\n ('formula', 262),\n ('easily', 261),\n ('chew', 261),\n ('pet', 261),\n ('feed', 260),\n ('market', 260),\n ('brown', 259),\n ('end', 259),\n ('opened', 259),\n ('smaller', 258),\n ('ice', 257),\n ('potato', 257),\n ('itbr', 257),\n ('reason', 256),\n ('cooking', 256),\n ('single', 255),\n ('enjoyed', 255),\n ('beef', 254),\n ('jerky', 254),\n ('salty', 253),\n ('start', 253),\n ('huge', 253),\n ('between', 252),\n ('special', 252),\n ('similar', 252),\n ('overall', 252),\n ('vet', 251),\n ('thanks', 251),\n ('crackers', 251),\n ('course', 250),\n ('simply', 250),\n ('says', 250),\n ('son', 249),\n ('subscribe', 248),\n ('four', 246),\n ('contains', 245),\n ('teeth', 244),\n ('pasta', 244),\n ('g', 244),\n ('awesome', 242),\n ('heat', 241),\n ('ingredient', 241),\n ('french', 241),\n ('left', 240),\n ('giving', 239),\n ('body', 239),\n ('pods', 239),\n ('blue', 239),\n ('recently', 237),\n ('cocoa', 236),\n ('daily', 236),\n ('guess', 236),\n ('care', 235),\n ('wife', 235),\n ('lemon', 235),\n ('plain', 235),\n ('machine', 235),\n ('caffeine', 234),\n ('cut', 234),\n ('alternative', 234),\n ('coffees', 234),\n ('decaf', 234),\n ('canned', 232),\n ('choice', 232),\n ('granola', 232),\n ('ate', 231),\n ('itself', 231),\n ('during', 231),\n ('container', 231),\n ('dried', 231),\n ('almonds', 231),\n ('bowl', 230),\n ('night', 230),\n ('wrong', 229),\n ('exactly', 229),\n ('clean', 229),\n ('list', 229),\n ('hope', 229),\n ('iced', 228),\n ('unfortunately', 227),\n ('jar', 227),\n ('rest', 227),\n ('someone', 227),\n ('yummy', 226),\n ('oatmeal', 226),\n ('color', 225),\n ('chip', 225),\n ('place', 225),\n ('drinks', 225),\n ('sodium', 224),\n ('due', 223),\n ('done', 223),\n ('pay', 223),\n ('run', 223),\n ('spice', 222),\n ('change', 221),\n ('please', 221),\n ('original', 221),\n ('surprised', 220),\n ('espresso', 220),\n ('friend', 220),\n ('aroma', 219),\n ('daughter', 219),\n ('compared', 218),\n ('finally', 218),\n ('fish', 217),\n ('continue', 216),\n ('ok', 216),\n ('lots', 215),\n ('smells', 215),\n ('pleased', 214),\n ('grams', 214),\n ('cook', 213),\n ('looks', 212),\n ('medium', 212),\n ('bulk', 210),\n ('looked', 210),\n ('bottles', 210),\n ('saw', 210),\n ('picky', 209),\n ('service', 209),\n ('eaten', 208),\n ('mine', 208),\n ('cake', 208),\n ('line', 207),\n ('theres', 207),\n ('raw', 206),\n ('past', 206),\n ('instant', 206),\n ('already', 206),\n ('along', 206),\n ('packs', 205),\n ('stop', 204),\n ('yes', 204),\n ('cheap', 203),\n ('noticed', 203),\n ('flour', 203),\n ('flavorful', 202),\n ('stomach', 202),\n ('true', 202),\n ('inside', 201),\n ('close', 201),\n ('ground', 201),\n ('apple', 201),\n ('hand', 200),\n ('items', 200),\n ('larger', 200),\n ('star', 200),\n ('orange', 200),\n ('taking', 200),\n ('stock', 199),\n ('skin', 199),\n ('packets', 199),\n ('feeding', 199),\n ('given', 198),\n ('bite', 198),\n ('pepper', 197),\n ('convenient', 197),\n ('leaves', 197),\n ('leave', 197),\n ('recipe', 197),\n ('idea', 196),\n ('grain', 196),\n ('experience', 196),\n ('adding', 196),\n ('arent', 195),\n ('healthier', 195),\n ('takes', 195),\n ('later', 194),\n ('stick', 194),\n ('carry', 194),\n ('gives', 194),\n ('helps', 194),\n ('keeps', 192),\n ('needed', 192),\n ('mild', 192),\n ('completely', 192),\n ('gone', 191),\n ('expected', 191),\n ('almond', 191),\n ('delivery', 191),\n ('hours', 191),\n ('seemed', 191),\n ('packaged', 190),\n ('pound', 190),\n ('point', 189),\n ('pot', 188),\n ('soon', 187),\n ('waste', 187),\n ('packages', 185),\n ('calorie', 184),\n ('within', 184),\n ('hint', 183),\n ('world', 183),\n ('date', 182),\n ('fantastic', 182),\n ('told', 182),\n ('excited', 182),\n ('needs', 182),\n ('expect', 181),\n ('contain', 181),\n ('seen', 180),\n ('extremely', 180),\n ('together', 180),\n ('glass', 180),\n ('note', 179),\n ('wait', 179),\n ('five', 178),\n ('content', 178),\n ('soda', 178),\n ('weak', 178),\n ('vitamin', 178),\n ('live', 178),\n ('sold', 178),\n ('label', 177),\n ('doing', 177),\n ('crunch', 176),\n ('bottom', 176),\n ('shipped', 176),\n ('gum', 176),\n ('noodles', 176),\n ('seeds', 175),\n ('opinion', 175),\n ('anyway', 175),\n ('wellness', 175),\n ('break', 174),\n ('normally', 174),\n ('benefits', 174),\n ('twice', 173),\n ('chewy', 173),\n ('count', 172),\n ('maker', 172),\n ('salmon', 172),\n ('unless', 171),\n ('sent', 171),\n ('today', 171),\n ('name', 171),\n ('varieties', 170),\n ('called', 170),\n ('thick', 170),\n ('wet', 169),\n ('issues', 169),\n ('normal', 168),\n ('sour', 168),\n ('k', 168),\n ('pod', 168),\n ('pop', 167),\n ('weve', 166),\n ('mountain', 166),\n ('bean', 166),\n ('shop', 165),\n ('sweetness', 165),\n ('loose', 165),\n ('chai', 165),\n ('sweetener', 164),\n ('creamy', 164),\n ('certainly', 164),\n ('filling', 164),\n ('felt', 163),\n ('yourself', 163),\n ('check', 162),\n ('particular', 161),\n ('reading', 160),\n ('based', 160),\n ('olive', 160),\n ('remember', 160),\n ('research', 160),\n ('worked', 160),\n ('oh', 160),\n ('stopped', 159),\n ('discovered', 159),\n ('hit', 159),\n ('easier', 159),\n ('hour', 159),\n ('chili', 159),\n ('decent', 158),\n ('difficult', 158),\n ('pure', 158),\n ('liquid', 157),\n ('consistency', 157),\n ('none', 156),\n ('mind', 156),\n ('control', 156),\n ('allergies', 155),\n ('results', 155),\n ('locally', 155),\n ('eats', 155),\n ('notice', 154),\n ('truly', 154),\n ('packet', 154),\n ('double', 153),\n ('lower', 153),\n ('under', 153),\n ('purchasing', 152),\n ('set', 152),\n ('okay', 152),\n ('tiny', 152),\n ('simple', 152),\n ('changed', 151),\n ('yogurt', 151),\n ('sale', 151),\n ('customer', 151),\n ('microwave', 151),\n ('whatever', 151),\n ('entire', 150),\n ('means', 149),\n ('issue', 148),\n ('pleasant', 148),\n ('dinner', 147),\n ('baking', 147),\n ('higher', 147),\n ('plan', 147),\n ('hoping', 147),\n ('nut', 147),\n ('otherwise', 147),\n ('perhaps', 147),\n ('finding', 147),\n ('delivered', 146),\n ('feeling', 146),\n ('addition', 146),\n ('substitute', 146),\n ('stay', 145),\n ('mostly', 145),\n ('piece', 145),\n ('stash', 145),\n ('refreshing', 144),\n ('thin', 144),\n ('fun', 144),\n ('website', 143),\n ('door', 143),\n ('immediately', 143),\n ('throw', 142),\n ('satisfying', 141),\n ('seller', 141),\n ('spices', 141),\n ('become', 140),\n ('pick', 140),\n ('stronger', 140),\n ('lime', 140),\n ('nutrition', 140),\n ('lunch', 139),\n ('anymore', 139),\n ('seasoning', 139),\n ('brewed', 139),\n ('reviewers', 139),\n ('somewhat', 138),\n ('packed', 138),\n ('drinker', 138),\n ('cherry', 138),\n ('blood', 137),\n ('crazy', 137),\n ('tuna', 137),\n ('baked', 136),\n ('shes', 136),\n ('lb', 136),\n ('sort', 136),\n ('matter', 136),\n ('combination', 136),\n ('brewing', 136),\n ('supermarket', 136),\n ('source', 136),\n ('unlike', 135),\n ('supposed', 135),\n ('shipment', 135),\n ('batch', 135),\n ('thinking', 134),\n ('acid', 134),\n ('licorice', 134),\n ('christmas', 134),\n ('turn', 133),\n ('description', 133),\n ('cooked', 133),\n ('condition', 133),\n ('perfectly', 133),\n ('totally', 133),\n ('total', 133),\n ('horrible', 132),\n ('paid', 132),\n ('bland', 132),\n ('sell', 132),\n ('nearly', 131),\n ('person', 131),\n ('amazoncom', 130),\n ('china', 130),\n ('grains', 130),\n ('sick', 129),\n ('salad', 129),\n ('heavy', 129),\n ('puppy', 129),\n ('serve', 129),\n ('training', 129),\n ('newmans', 129),\n ('office', 129),\n ('reviewer', 127),\n ('option', 127),\n ('pumpkin', 127),\n ('glutenfree', 127),\n ('clear', 127),\n ('ready', 127),\n ('matcha', 127),\n ('warm', 127),\n ('hes', 127),\n ('homemade', 126),\n ('coming', 126),\n ('expecting', 126),\n ('bring', 126),\n ('except', 126),\n ('figured', 125),\n ('prices', 124),\n ('balance', 124),\n ('hate', 124),\n ('reasonable', 124),\n ('forward', 124),\n ('turned', 124),\n ('moist', 124),\n ('including', 124),\n ('consider', 124),\n ('sticks', 124),\n ('agree', 123),\n ('sitting', 123),\n ('short', 123),\n ('near', 123),\n ('stuck', 123),\n ('recipes', 123),\n ('mint', 123),\n ('dish', 123),\n ('broken', 122),\n ('extract', 122),\n ('avoid', 122),\n ('vinegar', 122),\n ('worst', 121),\n ('call', 121),\n ('important', 121),\n ('ended', 121),\n ('usual', 121),\n ('oats', 120),\n ('replacement', 120),\n ('fill', 120),\n ('understand', 120),\n ('number', 120),\n ('mixes', 120),\n ('area', 119),\n ('knew', 119),\n ('roasted', 119),\n ('garlic', 119),\n ('amazons', 118),\n ('premium', 118),\n ('stevia', 118),\n ('caramel', 118),\n ('tend', 117),\n ('cause', 117),\n ('listed', 117),\n ('return', 117),\n ('offered', 117),\n ('wow', 117),\n ('six', 116),\n ('hooked', 116),\n ('finish', 116),\n ('uses', 116),\n ('subscription', 116),\n ('gourmet', 116),\n ('hazelnut', 116),\n ('pour', 116),\n ('hands', 116),\n ('types', 115),\n ('offer', 115),\n ('priced', 115),\n ('pill', 115),\n ('nutritional', 115),\n ('supply', 115),\n ('system', 115),\n ('stale', 115),\n ('test', 115),\n ('mango', 115),\n ('various', 114),\n ('afternoon', 114),\n ('touch', 114),\n ('satisfied', 114),\n ('berry', 114),\n ('sample', 114),\n ('anywhere', 114),\n ('switched', 113),\n ('spread', 113),\n ('yum', 113),\n ('provide', 113),\n ('fair', 112),\n ('individual', 112),\n ('peanuts', 112),\n ('level', 112),\n ('kitchen', 112),\n ...]"
     },
     "metadata": {}
    }
   ]
  },
  {
   "cell_type": "code",
   "metadata": {
    "tags": [],
    "cell_id": "00009-a6591080-20ad-4ddb-a405-13739aa20fec",
    "deepnote_cell_type": "code"
   },
   "source": "",
   "execution_count": null,
   "outputs": []
  },
  {
   "cell_type": "code",
   "metadata": {
    "tags": [],
    "cell_id": "00008-83e44448-f7e9-4184-a535-68d63ed7eabf",
    "deepnote_to_be_reexecuted": false,
    "source_hash": "5fdca95c",
    "execution_start": 1632278990918,
    "execution_millis": 709,
    "deepnote_cell_type": "code"
   },
   "source": "# Busca las concordancias de las palabras 'boy' y 'girl'.\ntext.concordance('boy', lines=20)",
   "execution_count": null,
   "outputs": [
    {
     "name": "stdout",
     "text": "Displaying 20 of 78 matches:\nre like box since it was a packbr but boy was i wrong this is my very favorite \nl but i thought i would give it a try boy was i amazed by the refreshing flavor\nhoney and peanuts going for thembr br boy was i disappointed i thought this cer\nree and gluten eaters in our home and boy am i glad we ordered of these from am\ned down version of real coconut water boy was i wrong what i got was a very swe\n making of one down to the letter and boy oh boy not only was my husband thrill\n of one down to the letter and boy oh boy not only was my husband thrilled i no\nup its calorie free and carb free and boy can you tell i tried this twice wante\ne natural food chips are super greasy boy was i wrong this time madhouse munchi\nouse and arriving via the brown truck boy was i wrong they were just like the o\nd wouldnt be destroyed within minutes boy did this fit the bill he has had it f\nof almost six months ago for our baby boy and we still have one left after givi\nave ordered a bonsai tree from bonsai boy it arrived within a week the tree was\norward from ordering more from bonsai boy i am a vegetarian and i wanted so bad\nker quadratini lemon wafer cookies oh boy are these good they disappear real fa\nthe past with store bought brands and boy did i regret it haha if you dont have\ncenter yes theyre chewy and gooey and boy are they sweet a bit too sweet for my\nout giving them to him my super picky boy practically snatches these out of my \nckers dont they well our threeyearold boy certainly does so my wife picked up a\ne are just as much for her as for the boy well what can you do we already have \n",
     "output_type": "stream"
    }
   ]
  },
  {
   "cell_type": "code",
   "metadata": {
    "tags": [],
    "cell_id": "00009-1e572ccb-d3ae-47f9-9330-c6331dbd4540",
    "deepnote_to_be_reexecuted": false,
    "source_hash": "d5aba0b7",
    "execution_start": 1632279001440,
    "execution_millis": 12,
    "deepnote_cell_type": "code"
   },
   "source": "text.concordance('girl', lines=20)\n",
   "execution_count": null,
   "outputs": [
    {
     "name": "stdout",
     "text": "Displaying 20 of 71 matches:\nough it was a good value purchase my girl has loved these for two years when t\n this is one of the few treats wilhi girl enjoys the pods arrived fresh and qu\nate reminds me of the chocolate mint girl scout cookies with less sugarbr br n\nfetti cake for a bridal shower for a girl whose colors were hot pink and black\nn dogs as they age i want my special girl to stay healthy pain free and happy \n bagmy tiny little italian greyhound girl gets a greenie at bedtime and someti\nike im usually doing for this little girl then go with the fancy feast version\nine from lindas diet delites my baby girl choked on this she had been eating f\nhearing about this product on hungry girl i love peanut butter but not all tha\ncorn making sweet love to my tonguea girl unicorn of courseit is the cure for \ns food to be a lifesaver for her old girl i got them all none broken i wish th\ntle something extra when shes a good girl and not have to worry if she will ge\nut the taste of the food and even my girl who we used to have to push to finis\n were much cheaper at target my baby girl loves this flavor apples have always\nts that we have ever seen our little girl literery goes nuts when we take thes\nmale shih tzu and he ate them but my girl wasnt impressed i am still searching\nlly i am a made from scratch kind of girl but wanted to try these flavors and \nate reminds me of the chocolate mint girl scout cookies with less sugarbr br n\n i am a starbucks extra bold kind of girl so remember that when you read my re\nes ive ever had we recently got some girl scout cookies i dont care for the mi\n",
     "output_type": "stream"
    }
   ]
  },
  {
   "cell_type": "code",
   "metadata": {
    "tags": [],
    "cell_id": "00010-4f849edd-5989-4529-9c2c-5ea5babaabd0",
    "deepnote_to_be_reexecuted": false,
    "source_hash": "1691d59",
    "execution_start": 1632279005142,
    "execution_millis": 9400,
    "deepnote_cell_type": "code"
   },
   "source": "# Busca las palabras que tengan contextos similares a las palabras 'boy' y 'girl'.\ntext.similar('boy')\n",
   "execution_count": null,
   "outputs": [
    {
     "name": "stdout",
     "text": "i it and this that flavor there taste he one she so dog what price\nshipping product amazon cat but\n",
     "output_type": "stream"
    }
   ]
  },
  {
   "cell_type": "code",
   "metadata": {
    "tags": [],
    "cell_id": "00011-072393af-d3a1-411a-9eb6-9ab26dcd4e25",
    "deepnote_to_be_reexecuted": false,
    "source_hash": "8a0207c7",
    "execution_start": 1632279028774,
    "execution_millis": 452,
    "deepnote_cell_type": "code"
   },
   "source": "text.similar('girl')",
   "execution_count": null,
   "outputs": [
    {
     "name": "stdout",
     "text": "food dog cat tea taste one flavor coffee and time dogs door stuff\nproduct mouth price but wife packaging sister\n",
     "output_type": "stream"
    }
   ]
  },
  {
   "cell_type": "code",
   "metadata": {
    "tags": [],
    "cell_id": "00012-9c193fb7-d1ce-442f-890e-7153702895fe",
    "deepnote_to_be_reexecuted": false,
    "source_hash": "cb1fa4aa",
    "execution_start": 1632279049167,
    "execution_millis": 1,
    "deepnote_cell_type": "code"
   },
   "source": "#Busca los contextos que tengan en común las palabras 'boy' y 'girl'.\ntext.common_contexts(['girl', 'boy'])",
   "execution_count": null,
   "outputs": [
    {
     "name": "stdout",
     "text": "little_i\n",
     "output_type": "stream"
    }
   ]
  },
  {
   "cell_type": "code",
   "metadata": {
    "tags": [],
    "cell_id": "00013-018cf478-2bd7-41a7-9174-eff9d30c4263",
    "deepnote_to_be_reexecuted": false,
    "source_hash": "3ebbaf7",
    "execution_start": 1632279165669,
    "execution_millis": 198,
    "deepnote_cell_type": "code"
   },
   "source": "#Cuantifica la riqueza léxica de tu conjunto de datos\nlen(set(text)) / len(text)",
   "execution_count": null,
   "outputs": [
    {
     "output_type": "execute_result",
     "execution_count": 18,
     "data": {
      "text/plain": "0.02792816678597626"
     },
     "metadata": {}
    }
   ]
  },
  {
   "cell_type": "code",
   "metadata": {
    "tags": [],
    "cell_id": "00014-24d2066e-dd5e-4112-ae0f-6e91baeac544",
    "deepnote_to_be_reexecuted": false,
    "source_hash": "bd3d6046",
    "execution_start": 1632279287021,
    "execution_millis": 3065,
    "deepnote_cell_type": "code"
   },
   "source": "text.collocations()\n",
   "execution_count": null,
   "outputs": [
    {
     "name": "stdout",
     "text": "peanut butter; highly recommend; grocery store; gluten free; green\ntea; year old; ive tried; dog food; dont know; much better; years ago;\ncat food; dark chocolate; green mountain; local grocery; long time;\ncoconut oil; olive oil; earl grey; high quality\n",
     "output_type": "stream"
    }
   ]
  },
  {
   "cell_type": "code",
   "metadata": {
    "tags": [],
    "cell_id": "00015-3d70186d-1e2d-4921-99be-395095228415",
    "deepnote_cell_type": "code"
   },
   "source": "",
   "execution_count": null,
   "outputs": []
  },
  {
   "cell_type": "markdown",
   "source": "<a style='text-decoration:none;line-height:16px;display:flex;color:#5B5B62;padding:10px;justify-content:end;' href='https://deepnote.com?utm_source=created-in-deepnote-cell&projectId=f8149d1c-e6b1-497a-9109-f01641a8231a' target=\"_blank\">\n<img alt='Created in deepnote.com' style='display:inline;max-height:16px;margin:0px;margin-right:7.5px;' src='data:image/svg+xml;base64,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' > </img>\nCreated in <span style='font-weight:600;margin-left:4px;'>Deepnote</span></a>",
   "metadata": {
    "tags": [],
    "created_in_deepnote_cell": true,
    "deepnote_cell_type": "markdown"
   }
  }
 ],
 "nbformat": 4,
 "nbformat_minor": 4,
 "metadata": {
  "kernelspec": {
   "display_name": "Python (data_science)",
   "language": "python",
   "name": "data_science"
  },
  "language_info": {
   "codemirror_mode": {
    "name": "ipython",
    "version": 3
   },
   "file_extension": ".py",
   "mimetype": "text/x-python",
   "name": "python",
   "nbconvert_exporter": "python",
   "pygments_lexer": "ipython3",
   "version": "3.8.5"
  },
  "deepnote_notebook_id": "37631b3f-e7a1-43be-a1fe-f9bc2e9d9cec",
  "deepnote": {},
  "deepnote_execution_queue": []
 }
}