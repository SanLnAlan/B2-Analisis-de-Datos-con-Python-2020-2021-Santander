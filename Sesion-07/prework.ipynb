{
 "cells": [
  {
   "cell_type": "code",
   "metadata": {
    "cell_id": "00000-5e27f0e4-e9e8-400e-9bd9-1683cefac989",
    "deepnote_cell_type": "code"
   },
   "source": "import numpy as np\nimport pandas as pd",
   "outputs": [],
   "execution_count": null
  },
  {
   "cell_type": "code",
   "metadata": {
    "cell_id": "00001-de35e52b-0b26-4e09-a3c4-9addc708d196",
    "deepnote_cell_type": "code"
   },
   "source": "test_a_conversion = []\ntest_a_no_conversion = []\n\nfor _ in range(23739):\n    conv = 1 if np.random.rand() > 0.8425 else 0\n    no_conv = 1 if conv == 0 else 0\n    \n    test_a_conversion.append(conv)\n    test_a_no_conversion.append(no_conv)\n    \ndf = pd.DataFrame(\n    {'conversion': test_a_conversion,\n    'no conversion': test_a_no_conversion}\n)\n\ndf['test'] = 'A'",
   "outputs": [],
   "execution_count": null
  },
  {
   "cell_type": "code",
   "metadata": {
    "cell_id": "00002-ec52bdb8-325e-4fd0-bdce-9462274eb29f",
    "deepnote_cell_type": "code"
   },
   "source": "df['test'] = 'A'",
   "outputs": [],
   "execution_count": null
  },
  {
   "cell_type": "code",
   "metadata": {
    "cell_id": "00003-5ec4b1b2-79c7-4919-a8fb-3a67b163ac7b",
    "deepnote_cell_type": "code"
   },
   "source": "df",
   "outputs": [
    {
     "data": {
      "text/html": "<div>\n<style scoped>\n    .dataframe tbody tr th:only-of-type {\n        vertical-align: middle;\n    }\n\n    .dataframe tbody tr th {\n        vertical-align: top;\n    }\n\n    .dataframe thead th {\n        text-align: right;\n    }\n</style>\n<table border=\"1\" class=\"dataframe\">\n  <thead>\n    <tr style=\"text-align: right;\">\n      <th></th>\n      <th>conversion</th>\n      <th>no conversion</th>\n      <th>test</th>\n    </tr>\n  </thead>\n  <tbody>\n    <tr>\n      <th>0</th>\n      <td>0</td>\n      <td>1</td>\n      <td>A</td>\n    </tr>\n    <tr>\n      <th>1</th>\n      <td>0</td>\n      <td>1</td>\n      <td>A</td>\n    </tr>\n    <tr>\n      <th>2</th>\n      <td>0</td>\n      <td>1</td>\n      <td>A</td>\n    </tr>\n    <tr>\n      <th>3</th>\n      <td>1</td>\n      <td>0</td>\n      <td>A</td>\n    </tr>\n    <tr>\n      <th>4</th>\n      <td>0</td>\n      <td>1</td>\n      <td>A</td>\n    </tr>\n    <tr>\n      <th>...</th>\n      <td>...</td>\n      <td>...</td>\n      <td>...</td>\n    </tr>\n    <tr>\n      <th>23734</th>\n      <td>0</td>\n      <td>1</td>\n      <td>A</td>\n    </tr>\n    <tr>\n      <th>23735</th>\n      <td>0</td>\n      <td>1</td>\n      <td>A</td>\n    </tr>\n    <tr>\n      <th>23736</th>\n      <td>0</td>\n      <td>1</td>\n      <td>A</td>\n    </tr>\n    <tr>\n      <th>23737</th>\n      <td>0</td>\n      <td>1</td>\n      <td>A</td>\n    </tr>\n    <tr>\n      <th>23738</th>\n      <td>0</td>\n      <td>1</td>\n      <td>A</td>\n    </tr>\n  </tbody>\n</table>\n<p>23739 rows × 3 columns</p>\n</div>",
      "text/plain": "       conversion  no conversion test\n0               0              1    A\n1               0              1    A\n2               0              1    A\n3               1              0    A\n4               0              1    A\n...           ...            ...  ...\n23734           0              1    A\n23735           0              1    A\n23736           0              1    A\n23737           0              1    A\n23738           0              1    A\n\n[23739 rows x 3 columns]"
     },
     "execution_count": 6,
     "metadata": {},
     "output_type": "execute_result"
    }
   ],
   "execution_count": null
  },
  {
   "cell_type": "code",
   "metadata": {
    "cell_id": "00004-bcf33ce2-b31b-4ae7-84d5-18e9f3d86d35",
    "deepnote_cell_type": "code"
   },
   "source": "test_b_conversion = []\ntest_b_no_conversion = []\n\nfor _ in range(22588):\n    conv = 1 if np.random.rand() > 0.8057 else 0\n    no_conv = 1 if conv == 0 else 0\n    \n    test_b_conversion.append(conv)\n    test_b_no_conversion.append(no_conv)\n    \ndf_2 = pd.DataFrame(\n    {'conversion': test_b_conversion,\n    'no conversion': test_b_no_conversion}\n)\n\ndf_2['test'] = 'B'",
   "outputs": [],
   "execution_count": null
  },
  {
   "cell_type": "code",
   "metadata": {
    "cell_id": "00005-98bf086b-878b-49b6-aad5-d9ee8d9f8962",
    "deepnote_cell_type": "code"
   },
   "source": "df_2",
   "outputs": [
    {
     "data": {
      "text/html": "<div>\n<style scoped>\n    .dataframe tbody tr th:only-of-type {\n        vertical-align: middle;\n    }\n\n    .dataframe tbody tr th {\n        vertical-align: top;\n    }\n\n    .dataframe thead th {\n        text-align: right;\n    }\n</style>\n<table border=\"1\" class=\"dataframe\">\n  <thead>\n    <tr style=\"text-align: right;\">\n      <th></th>\n      <th>conversion</th>\n      <th>no conversion</th>\n      <th>test</th>\n    </tr>\n  </thead>\n  <tbody>\n    <tr>\n      <th>0</th>\n      <td>0</td>\n      <td>1</td>\n      <td>B</td>\n    </tr>\n    <tr>\n      <th>1</th>\n      <td>0</td>\n      <td>1</td>\n      <td>B</td>\n    </tr>\n    <tr>\n      <th>2</th>\n      <td>0</td>\n      <td>1</td>\n      <td>B</td>\n    </tr>\n    <tr>\n      <th>3</th>\n      <td>0</td>\n      <td>1</td>\n      <td>B</td>\n    </tr>\n    <tr>\n      <th>4</th>\n      <td>0</td>\n      <td>1</td>\n      <td>B</td>\n    </tr>\n    <tr>\n      <th>...</th>\n      <td>...</td>\n      <td>...</td>\n      <td>...</td>\n    </tr>\n    <tr>\n      <th>22583</th>\n      <td>0</td>\n      <td>1</td>\n      <td>B</td>\n    </tr>\n    <tr>\n      <th>22584</th>\n      <td>1</td>\n      <td>0</td>\n      <td>B</td>\n    </tr>\n    <tr>\n      <th>22585</th>\n      <td>0</td>\n      <td>1</td>\n      <td>B</td>\n    </tr>\n    <tr>\n      <th>22586</th>\n      <td>0</td>\n      <td>1</td>\n      <td>B</td>\n    </tr>\n    <tr>\n      <th>22587</th>\n      <td>0</td>\n      <td>1</td>\n      <td>B</td>\n    </tr>\n  </tbody>\n</table>\n<p>22588 rows × 3 columns</p>\n</div>",
      "text/plain": "       conversion  no conversion test\n0               0              1    B\n1               0              1    B\n2               0              1    B\n3               0              1    B\n4               0              1    B\n...           ...            ...  ...\n22583           0              1    B\n22584           1              0    B\n22585           0              1    B\n22586           0              1    B\n22587           0              1    B\n\n[22588 rows x 3 columns]"
     },
     "execution_count": 8,
     "metadata": {},
     "output_type": "execute_result"
    }
   ],
   "execution_count": null
  },
  {
   "cell_type": "code",
   "metadata": {
    "cell_id": "00006-abc04450-7cc0-4585-8208-a436a63f4177",
    "deepnote_cell_type": "code"
   },
   "source": "df_full = pd.concat([df, df_2], axis=0)",
   "outputs": [],
   "execution_count": null
  },
  {
   "cell_type": "code",
   "metadata": {
    "cell_id": "00007-bfc875ba-d905-4e18-9143-30ce3d029576",
    "deepnote_cell_type": "code"
   },
   "source": "df_full = df_full.sample(frac=1).reset_index(drop=True)",
   "outputs": [],
   "execution_count": null
  },
  {
   "cell_type": "code",
   "metadata": {
    "cell_id": "00008-aa86e091-6d8e-4778-9c80-774912484b32",
    "deepnote_cell_type": "code"
   },
   "source": "df_full",
   "outputs": [
    {
     "data": {
      "text/html": "<div>\n<style scoped>\n    .dataframe tbody tr th:only-of-type {\n        vertical-align: middle;\n    }\n\n    .dataframe tbody tr th {\n        vertical-align: top;\n    }\n\n    .dataframe thead th {\n        text-align: right;\n    }\n</style>\n<table border=\"1\" class=\"dataframe\">\n  <thead>\n    <tr style=\"text-align: right;\">\n      <th></th>\n      <th>conversion</th>\n      <th>no conversion</th>\n      <th>test</th>\n    </tr>\n  </thead>\n  <tbody>\n    <tr>\n      <th>0</th>\n      <td>1</td>\n      <td>0</td>\n      <td>B</td>\n    </tr>\n    <tr>\n      <th>1</th>\n      <td>0</td>\n      <td>1</td>\n      <td>B</td>\n    </tr>\n    <tr>\n      <th>2</th>\n      <td>0</td>\n      <td>1</td>\n      <td>A</td>\n    </tr>\n    <tr>\n      <th>3</th>\n      <td>1</td>\n      <td>0</td>\n      <td>B</td>\n    </tr>\n    <tr>\n      <th>4</th>\n      <td>0</td>\n      <td>1</td>\n      <td>B</td>\n    </tr>\n    <tr>\n      <th>...</th>\n      <td>...</td>\n      <td>...</td>\n      <td>...</td>\n    </tr>\n    <tr>\n      <th>46322</th>\n      <td>0</td>\n      <td>1</td>\n      <td>B</td>\n    </tr>\n    <tr>\n      <th>46323</th>\n      <td>0</td>\n      <td>1</td>\n      <td>B</td>\n    </tr>\n    <tr>\n      <th>46324</th>\n      <td>0</td>\n      <td>1</td>\n      <td>A</td>\n    </tr>\n    <tr>\n      <th>46325</th>\n      <td>0</td>\n      <td>1</td>\n      <td>A</td>\n    </tr>\n    <tr>\n      <th>46326</th>\n      <td>0</td>\n      <td>1</td>\n      <td>B</td>\n    </tr>\n  </tbody>\n</table>\n<p>46327 rows × 3 columns</p>\n</div>",
      "text/plain": "       conversion  no conversion test\n0               1              0    B\n1               0              1    B\n2               0              1    A\n3               1              0    B\n4               0              1    B\n...           ...            ...  ...\n46322           0              1    B\n46323           0              1    B\n46324           0              1    A\n46325           0              1    A\n46326           0              1    B\n\n[46327 rows x 3 columns]"
     },
     "execution_count": 15,
     "metadata": {},
     "output_type": "execute_result"
    }
   ],
   "execution_count": null
  },
  {
   "cell_type": "code",
   "metadata": {
    "cell_id": "00009-a94e4a49-5b4e-40f9-b535-769a986bb473",
    "deepnote_cell_type": "code"
   },
   "source": "df_full.to_csv('../Datasets/ab_test-sales_pipeline.csv', index=False)",
   "outputs": [],
   "execution_count": null
  },
  {
   "cell_type": "code",
   "metadata": {
    "cell_id": "00010-60c3b981-1f6d-4911-8582-cbb943aa875f",
    "deepnote_cell_type": "code"
   },
   "source": "df_full = df_full[['test', 'conversion', 'no conversion']]",
   "outputs": [],
   "execution_count": null
  },
  {
   "cell_type": "code",
   "metadata": {
    "cell_id": "00011-48977ea4-747a-4fb4-9713-4f85a4a3cecf",
    "deepnote_cell_type": "code"
   },
   "source": "pd.read_csv('../Datasets/ab_test-sales_pipeline.csv')",
   "outputs": [
    {
     "data": {
      "text/html": "<div>\n<style scoped>\n    .dataframe tbody tr th:only-of-type {\n        vertical-align: middle;\n    }\n\n    .dataframe tbody tr th {\n        vertical-align: top;\n    }\n\n    .dataframe thead th {\n        text-align: right;\n    }\n</style>\n<table border=\"1\" class=\"dataframe\">\n  <thead>\n    <tr style=\"text-align: right;\">\n      <th></th>\n      <th>conversion</th>\n      <th>no conversion</th>\n      <th>test</th>\n    </tr>\n  </thead>\n  <tbody>\n    <tr>\n      <th>0</th>\n      <td>1</td>\n      <td>0</td>\n      <td>B</td>\n    </tr>\n    <tr>\n      <th>1</th>\n      <td>0</td>\n      <td>1</td>\n      <td>B</td>\n    </tr>\n    <tr>\n      <th>2</th>\n      <td>0</td>\n      <td>1</td>\n      <td>A</td>\n    </tr>\n    <tr>\n      <th>3</th>\n      <td>1</td>\n      <td>0</td>\n      <td>B</td>\n    </tr>\n    <tr>\n      <th>4</th>\n      <td>0</td>\n      <td>1</td>\n      <td>B</td>\n    </tr>\n    <tr>\n      <th>...</th>\n      <td>...</td>\n      <td>...</td>\n      <td>...</td>\n    </tr>\n    <tr>\n      <th>46322</th>\n      <td>0</td>\n      <td>1</td>\n      <td>B</td>\n    </tr>\n    <tr>\n      <th>46323</th>\n      <td>0</td>\n      <td>1</td>\n      <td>B</td>\n    </tr>\n    <tr>\n      <th>46324</th>\n      <td>0</td>\n      <td>1</td>\n      <td>A</td>\n    </tr>\n    <tr>\n      <th>46325</th>\n      <td>0</td>\n      <td>1</td>\n      <td>A</td>\n    </tr>\n    <tr>\n      <th>46326</th>\n      <td>0</td>\n      <td>1</td>\n      <td>B</td>\n    </tr>\n  </tbody>\n</table>\n<p>46327 rows × 3 columns</p>\n</div>",
      "text/plain": "       conversion  no conversion test\n0               1              0    B\n1               0              1    B\n2               0              1    A\n3               1              0    B\n4               0              1    B\n...           ...            ...  ...\n46322           0              1    B\n46323           0              1    B\n46324           0              1    A\n46325           0              1    A\n46326           0              1    B\n\n[46327 rows x 3 columns]"
     },
     "execution_count": 17,
     "metadata": {},
     "output_type": "execute_result"
    }
   ],
   "execution_count": null
  },
  {
   "cell_type": "code",
   "metadata": {
    "cell_id": "00012-48544d8d-1d8f-404d-9bcc-12fe91d77ea8",
    "deepnote_cell_type": "code"
   },
   "source": "",
   "execution_count": null,
   "outputs": []
  },
  {
   "cell_type": "markdown",
   "source": "<a style='text-decoration:none;line-height:16px;display:flex;color:#5B5B62;padding:10px;justify-content:end;' href='https://deepnote.com?utm_source=created-in-deepnote-cell&projectId=f8149d1c-e6b1-497a-9109-f01641a8231a' target=\"_blank\">\n<img alt='Created in deepnote.com' style='display:inline;max-height:16px;margin:0px;margin-right:7.5px;' src='data:image/svg+xml;base64,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' > </img>\nCreated in <span style='font-weight:600;margin-left:4px;'>Deepnote</span></a>",
   "metadata": {
    "tags": [],
    "created_in_deepnote_cell": true,
    "deepnote_cell_type": "markdown"
   }
  }
 ],
 "nbformat": 4,
 "nbformat_minor": 4,
 "metadata": {
  "kernelspec": {
   "display_name": "Python (data_science)",
   "language": "python",
   "name": "data_science"
  },
  "language_info": {
   "codemirror_mode": {
    "name": "ipython",
    "version": 3
   },
   "file_extension": ".py",
   "mimetype": "text/x-python",
   "name": "python",
   "nbconvert_exporter": "python",
   "pygments_lexer": "ipython3",
   "version": "3.8.5"
  },
  "deepnote_notebook_id": "4791f27b-a71a-46b1-97e1-94328bd84583",
  "deepnote": {},
  "deepnote_execution_queue": []
 }
}