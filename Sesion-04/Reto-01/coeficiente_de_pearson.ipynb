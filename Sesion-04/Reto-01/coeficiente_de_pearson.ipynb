{
 "cells": [
  {
   "cell_type": "markdown",
   "source": "## Reto 1: Coeficiente de correlación de Pearson\n\n### 1. Objetivos:\n    - Practicar la interpretación de gráficas de dispersión\n \n---\n    \n### 2. Desarrollo:",
   "metadata": {
    "cell_id": "00000-80652d0e-f726-4e1f-9509-8f0c7ce6b8cb",
    "deepnote_cell_type": "markdown"
   }
  },
  {
   "cell_type": "markdown",
   "source": "### a) Practicando la interpretación de gráficas\n\nA continuación te presentamos varias gráficas hechas con algunos de los datasets de este módulo. El Reto es interpretar las gráficas con las herramientas que tenemos hasta el momento. Haz lo siguiente:\n\n1. Cambia las rutas de cada dataset para que `pandas` pueda leerlas desde el Drive.\n2. Corre el Notebook para producir las gráficas que han sido predefinidas.\n3. Viendo las gráficas solamente, sin realizar ningún cálculo de correlación, intenta discernir:\n\n  a) Si hay una correlación entre ambas variables\n  \n  b) Si sí hay, ¿qué dirección tiene? (positiva o negativa)\n  \n  c) Si sí hay, ¿qué fuerza tiene? (valor de -1 a 1)\n  \nRecuerda que el coeficiente de correlación es muy sensible a valores atípicos. Por lo tanto, no olvides tomar en cuenta eso.\n  \n4. Después, usa el método `corr` para comprobar tus hipótesis.\n5. Sabiendo la naturaleza de su correlación (o su inexistencia), comparte con tus compañeros y la experta por qué crees que existe o no esa relación. ¿Hubieras pensado de antemano que esas variables estaban correlacionadas (o no)? ¿Qué información obtenemos a partir de estos análisis?",
   "metadata": {
    "cell_id": "00001-7b3d24fb-8a3a-45ef-a75b-6b92b64ab54e",
    "deepnote_cell_type": "markdown"
   }
  },
  {
   "cell_type": "code",
   "metadata": {
    "cell_id": "00002-1aa65a28-d4a9-4134-805b-e4b6387afc87",
    "deepnote_to_be_reexecuted": false,
    "source_hash": "3bc44cd8",
    "execution_start": 1630629804492,
    "execution_millis": 766,
    "deepnote_cell_type": "code"
   },
   "source": "import pandas as pd\nimport matplotlib.pyplot as plt\nimport seaborn as sns",
   "outputs": [],
   "execution_count": null
  },
  {
   "cell_type": "code",
   "metadata": {
    "cell_id": "00003-710a5671-5a38-41dc-86d0-66e390432ae2",
    "deepnote_to_be_reexecuted": false,
    "source_hash": "9e88e37",
    "execution_start": 1630629805566,
    "execution_millis": 3,
    "deepnote_cell_type": "code"
   },
   "source": "ruta_1 = '../../Datasets/near_earth_objects-jan_feb_1995-clean.csv'\nruta_2 = '../../Datasets/athlete_olympic_events-clean-no_repetition.csv'\nruta_3 = '../../Datasets/videogame_sales-raw.csv'",
   "outputs": [],
   "execution_count": null
  },
  {
   "cell_type": "markdown",
   "source": "### a) Ruta 1: Near Earth Objects\n\nEl dataset 'near_earth_objects-jan_feb_1995-clean.csv' contiene datos acerca de objetos espaciales que orbitan cerca de la Tierra. Vamos a explorar las relaciones entre los tamaños y las velocidades de estos objetos.",
   "metadata": {
    "cell_id": "00004-f2d85bdd-8a60-405f-8db9-dc43c49c4ebb",
    "deepnote_cell_type": "markdown"
   }
  },
  {
   "cell_type": "code",
   "metadata": {
    "cell_id": "00005-4f5499bf-b23a-486f-aba4-a71c2524c9d3",
    "deepnote_to_be_reexecuted": false,
    "source_hash": "3e3e1db6",
    "execution_start": 1630629820566,
    "execution_millis": 51,
    "deepnote_cell_type": "code"
   },
   "source": "df_1 = pd.read_csv(ruta_1, index_col=0)\n\ndf_1.head()",
   "outputs": [
    {
     "output_type": "execute_result",
     "execution_count": 3,
     "data": {
      "application/vnd.deepnote.dataframe.v2+json": {
       "row_count": 5,
       "column_count": 10,
       "columns": [
        {
         "name": "id",
         "dtype": "int64",
         "stats": {
          "unique_count": 5,
          "nan_count": 0,
          "min": "2154652",
          "max": "3843493",
          "histogram": [
           {
            "bin_start": 2154652,
            "bin_end": 2323536.1,
            "count": 1
           },
           {
            "bin_start": 2323536.1,
            "bin_end": 2492420.2,
            "count": 0
           },
           {
            "bin_start": 2492420.2,
            "bin_end": 2661304.3,
            "count": 0
           },
           {
            "bin_start": 2661304.3,
            "bin_end": 2830188.4,
            "count": 0
           },
           {
            "bin_start": 2830188.4,
            "bin_end": 2999072.5,
            "count": 0
           },
           {
            "bin_start": 2999072.5,
            "bin_end": 3167956.6,
            "count": 1
           },
           {
            "bin_start": 3167956.6,
            "bin_end": 3336840.7,
            "count": 0
           },
           {
            "bin_start": 3336840.7,
            "bin_end": 3505724.8,
            "count": 0
           },
           {
            "bin_start": 3505724.8,
            "bin_end": 3674608.9000000004,
            "count": 1
           },
           {
            "bin_start": 3674608.9000000004,
            "bin_end": 3843493,
            "count": 2
           }
          ]
         }
        },
        {
         "name": "name",
         "dtype": "object",
         "stats": {
          "unique_count": 5,
          "nan_count": 0,
          "categories": [
           {
            "name": "154652 (2004 EP20)",
            "count": 1
           },
           {
            "name": "(2003 HM)",
            "count": 1
           },
           {
            "name": "3 others",
            "count": 3
           }
          ]
         }
        },
        {
         "name": "is_potentially_hazardous_asteroid",
         "dtype": "bool",
         "stats": {
          "unique_count": 2,
          "nan_count": 0,
          "categories": [
           {
            "name": "False",
            "count": 4
           },
           {
            "name": "True",
            "count": 1
           }
          ]
         }
        },
        {
         "name": "estimated_diameter.meters.estimated_diameter_min",
         "dtype": "float64",
         "stats": {
          "unique_count": 5,
          "nan_count": 0,
          "min": "22.1082810359",
          "max": "483.6764882185",
          "histogram": [
           {
            "bin_start": 22.1082810359,
            "bin_end": 68.26510175416,
            "count": 3
           },
           {
            "bin_start": 68.26510175416,
            "bin_end": 114.42192247242,
            "count": 1
           },
           {
            "bin_start": 114.42192247242,
            "bin_end": 160.57874319068,
            "count": 0
           },
           {
            "bin_start": 160.57874319068,
            "bin_end": 206.73556390894,
            "count": 0
           },
           {
            "bin_start": 206.73556390894,
            "bin_end": 252.89238462720002,
            "count": 0
           },
           {
            "bin_start": 252.89238462720002,
            "bin_end": 299.04920534546,
            "count": 0
           },
           {
            "bin_start": 299.04920534546,
            "bin_end": 345.20602606372,
            "count": 0
           },
           {
            "bin_start": 345.20602606372,
            "bin_end": 391.36284678198,
            "count": 0
           },
           {
            "bin_start": 391.36284678198,
            "bin_end": 437.51966750024,
            "count": 0
           },
           {
            "bin_start": 437.51966750024,
            "bin_end": 483.6764882185,
            "count": 1
           }
          ]
         }
        },
        {
         "name": "estimated_diameter.meters.estimated_diameter_max",
         "dtype": "float64",
         "stats": {
          "unique_count": 5,
          "nan_count": 0,
          "min": "49.435619262",
          "max": "1081.533506775",
          "histogram": [
           {
            "bin_start": 49.435619262,
            "bin_end": 152.6454080133,
            "count": 3
           },
           {
            "bin_start": 152.6454080133,
            "bin_end": 255.8551967646,
            "count": 1
           },
           {
            "bin_start": 255.8551967646,
            "bin_end": 359.0649855159,
            "count": 0
           },
           {
            "bin_start": 359.0649855159,
            "bin_end": 462.2747742672,
            "count": 0
           },
           {
            "bin_start": 462.2747742672,
            "bin_end": 565.4845630185,
            "count": 0
           },
           {
            "bin_start": 565.4845630185,
            "bin_end": 668.6943517698,
            "count": 0
           },
           {
            "bin_start": 668.6943517698,
            "bin_end": 771.9041405211,
            "count": 0
           },
           {
            "bin_start": 771.9041405211,
            "bin_end": 875.1139292724,
            "count": 0
           },
           {
            "bin_start": 875.1139292724,
            "bin_end": 978.3237180237,
            "count": 0
           },
           {
            "bin_start": 978.3237180237,
            "bin_end": 1081.533506775,
            "count": 1
           }
          ]
         }
        },
        {
         "name": "close_approach_date",
         "dtype": "object",
         "stats": {
          "unique_count": 1,
          "nan_count": 0,
          "categories": [
           {
            "name": "1995-01-07",
            "count": 5
           }
          ]
         }
        },
        {
         "name": "epoch_date_close_approach",
         "dtype": "int64",
         "stats": {
          "unique_count": 5,
          "nan_count": 0,
          "min": "789446700000",
          "max": "789513900000",
          "histogram": [
           {
            "bin_start": 789446700000,
            "bin_end": 789453420000,
            "count": 2
           },
           {
            "bin_start": 789453420000,
            "bin_end": 789460140000,
            "count": 0
           },
           {
            "bin_start": 789460140000,
            "bin_end": 789466860000,
            "count": 0
           },
           {
            "bin_start": 789466860000,
            "bin_end": 789473580000,
            "count": 1
           },
           {
            "bin_start": 789473580000,
            "bin_end": 789480300000,
            "count": 0
           },
           {
            "bin_start": 789480300000,
            "bin_end": 789487020000,
            "count": 0
           },
           {
            "bin_start": 789487020000,
            "bin_end": 789493740000,
            "count": 1
           },
           {
            "bin_start": 789493740000,
            "bin_end": 789500460000,
            "count": 0
           },
           {
            "bin_start": 789500460000,
            "bin_end": 789507180000,
            "count": 0
           },
           {
            "bin_start": 789507180000,
            "bin_end": 789513900000,
            "count": 1
           }
          ]
         }
        },
        {
         "name": "orbiting_body",
         "dtype": "object",
         "stats": {
          "unique_count": 1,
          "nan_count": 0,
          "categories": [
           {
            "name": "Earth",
            "count": 5
           }
          ]
         }
        },
        {
         "name": "relative_velocity.kilometers_per_second",
         "dtype": "float64",
         "stats": {
          "unique_count": 5,
          "nan_count": 0,
          "min": "4.9986912098",
          "max": "22.4786152837",
          "histogram": [
           {
            "bin_start": 4.9986912098,
            "bin_end": 6.7466836171899995,
            "count": 2
           },
           {
            "bin_start": 6.7466836171899995,
            "bin_end": 8.49467602458,
            "count": 0
           },
           {
            "bin_start": 8.49467602458,
            "bin_end": 10.24266843197,
            "count": 0
           },
           {
            "bin_start": 10.24266843197,
            "bin_end": 11.99066083936,
            "count": 0
           },
           {
            "bin_start": 11.99066083936,
            "bin_end": 13.738653246750001,
            "count": 1
           },
           {
            "bin_start": 13.738653246750001,
            "bin_end": 15.486645654140002,
            "count": 0
           },
           {
            "bin_start": 15.486645654140002,
            "bin_end": 17.23463806153,
            "count": 1
           },
           {
            "bin_start": 17.23463806153,
            "bin_end": 18.98263046892,
            "count": 0
           },
           {
            "bin_start": 18.98263046892,
            "bin_end": 20.73062287631,
            "count": 0
           },
           {
            "bin_start": 20.73062287631,
            "bin_end": 22.4786152837,
            "count": 1
           }
          ]
         }
        },
        {
         "name": "relative_velocity.kilometers_per_hour",
         "dtype": "float64",
         "stats": {
          "unique_count": 5,
          "nan_count": 0,
          "min": "17995.2883553078",
          "max": "80923.0150213416",
          "histogram": [
           {
            "bin_start": 17995.2883553078,
            "bin_end": 24288.06102191118,
            "count": 2
           },
           {
            "bin_start": 24288.06102191118,
            "bin_end": 30580.83368851456,
            "count": 0
           },
           {
            "bin_start": 30580.83368851456,
            "bin_end": 36873.60635511794,
            "count": 0
           },
           {
            "bin_start": 36873.60635511794,
            "bin_end": 43166.379021721325,
            "count": 0
           },
           {
            "bin_start": 43166.379021721325,
            "bin_end": 49459.1516883247,
            "count": 1
           },
           {
            "bin_start": 49459.1516883247,
            "bin_end": 55751.92435492808,
            "count": 0
           },
           {
            "bin_start": 55751.92435492808,
            "bin_end": 62044.697021531465,
            "count": 1
           },
           {
            "bin_start": 62044.697021531465,
            "bin_end": 68337.46968813485,
            "count": 0
           },
           {
            "bin_start": 68337.46968813485,
            "bin_end": 74630.24235473822,
            "count": 0
           },
           {
            "bin_start": 74630.24235473822,
            "bin_end": 80923.0150213416,
            "count": 1
           }
          ]
         }
        },
        {
         "name": "_deepnote_index_column",
         "dtype": "int64"
        }
       ],
       "rows_top": [
        {
         "id": 2154652,
         "name": "154652 (2004 EP20)",
         "is_potentially_hazardous_asteroid": "False",
         "estimated_diameter.meters.estimated_diameter_min": 483.6764882185,
         "estimated_diameter.meters.estimated_diameter_max": 1081.533506775,
         "close_approach_date": "1995-01-07",
         "epoch_date_close_approach": 789467580000,
         "orbiting_body": "Earth",
         "relative_velocity.kilometers_per_second": 16.1428635186,
         "relative_velocity.kilometers_per_hour": 58114.3086669449,
         "_deepnote_index_column": 0
        },
        {
         "id": 3153509,
         "name": "(2003 HM)",
         "is_potentially_hazardous_asteroid": "True",
         "estimated_diameter.meters.estimated_diameter_min": 96.5061469579,
         "estimated_diameter.meters.estimated_diameter_max": 215.7943048444,
         "close_approach_date": "1995-01-07",
         "epoch_date_close_approach": 789491340000,
         "orbiting_body": "Earth",
         "relative_velocity.kilometers_per_second": 12.3510438151,
         "relative_velocity.kilometers_per_hour": 44463.7577343496,
         "_deepnote_index_column": 1
        },
        {
         "id": 3516633,
         "name": "(2010 HA)",
         "is_potentially_hazardous_asteroid": "False",
         "estimated_diameter.meters.estimated_diameter_min": 44.1118199997,
         "estimated_diameter.meters.estimated_diameter_max": 98.6370281305,
         "close_approach_date": "1995-01-07",
         "epoch_date_close_approach": 789446820000,
         "orbiting_body": "Earth",
         "relative_velocity.kilometers_per_second": 6.2204353548,
         "relative_velocity.kilometers_per_hour": 22393.5672772916,
         "_deepnote_index_column": 2
        },
        {
         "id": 3837644,
         "name": "(2019 AY3)",
         "is_potentially_hazardous_asteroid": "False",
         "estimated_diameter.meters.estimated_diameter_min": 46.1907460282,
         "estimated_diameter.meters.estimated_diameter_max": 103.2856480504,
         "close_approach_date": "1995-01-07",
         "epoch_date_close_approach": 789513900000,
         "orbiting_body": "Earth",
         "relative_velocity.kilometers_per_second": 22.4786152837,
         "relative_velocity.kilometers_per_hour": 80923.0150213416,
         "_deepnote_index_column": 3
        },
        {
         "id": 3843493,
         "name": "(2019 PY)",
         "is_potentially_hazardous_asteroid": "False",
         "estimated_diameter.meters.estimated_diameter_min": 22.1082810359,
         "estimated_diameter.meters.estimated_diameter_max": 49.435619262,
         "close_approach_date": "1995-01-07",
         "epoch_date_close_approach": 789446700000,
         "orbiting_body": "Earth",
         "relative_velocity.kilometers_per_second": 4.9986912098,
         "relative_velocity.kilometers_per_hour": 17995.2883553078,
         "_deepnote_index_column": 4
        }
       ],
       "rows_bottom": null
      },
      "text/plain": "        id                name  is_potentially_hazardous_asteroid  \\\n0  2154652  154652 (2004 EP20)                              False   \n1  3153509           (2003 HM)                               True   \n2  3516633           (2010 HA)                              False   \n3  3837644          (2019 AY3)                              False   \n4  3843493           (2019 PY)                              False   \n\n   estimated_diameter.meters.estimated_diameter_min  \\\n0                                        483.676488   \n1                                         96.506147   \n2                                         44.111820   \n3                                         46.190746   \n4                                         22.108281   \n\n   estimated_diameter.meters.estimated_diameter_max close_approach_date  \\\n0                                       1081.533507          1995-01-07   \n1                                        215.794305          1995-01-07   \n2                                         98.637028          1995-01-07   \n3                                        103.285648          1995-01-07   \n4                                         49.435619          1995-01-07   \n\n   epoch_date_close_approach orbiting_body  \\\n0               789467580000         Earth   \n1               789491340000         Earth   \n2               789446820000         Earth   \n3               789513900000         Earth   \n4               789446700000         Earth   \n\n   relative_velocity.kilometers_per_second  \\\n0                                16.142864   \n1                                12.351044   \n2                                 6.220435   \n3                                22.478615   \n4                                 4.998691   \n\n   relative_velocity.kilometers_per_hour  \n0                           58114.308667  \n1                           44463.757734  \n2                           22393.567277  \n3                           80923.015021  \n4                           17995.288355  ",
      "text/html": "<div>\n<style scoped>\n    .dataframe tbody tr th:only-of-type {\n        vertical-align: middle;\n    }\n\n    .dataframe tbody tr th {\n        vertical-align: top;\n    }\n\n    .dataframe thead th {\n        text-align: right;\n    }\n</style>\n<table border=\"1\" class=\"dataframe\">\n  <thead>\n    <tr style=\"text-align: right;\">\n      <th></th>\n      <th>id</th>\n      <th>name</th>\n      <th>is_potentially_hazardous_asteroid</th>\n      <th>estimated_diameter.meters.estimated_diameter_min</th>\n      <th>estimated_diameter.meters.estimated_diameter_max</th>\n      <th>close_approach_date</th>\n      <th>epoch_date_close_approach</th>\n      <th>orbiting_body</th>\n      <th>relative_velocity.kilometers_per_second</th>\n      <th>relative_velocity.kilometers_per_hour</th>\n    </tr>\n  </thead>\n  <tbody>\n    <tr>\n      <th>0</th>\n      <td>2154652</td>\n      <td>154652 (2004 EP20)</td>\n      <td>False</td>\n      <td>483.676488</td>\n      <td>1081.533507</td>\n      <td>1995-01-07</td>\n      <td>789467580000</td>\n      <td>Earth</td>\n      <td>16.142864</td>\n      <td>58114.308667</td>\n    </tr>\n    <tr>\n      <th>1</th>\n      <td>3153509</td>\n      <td>(2003 HM)</td>\n      <td>True</td>\n      <td>96.506147</td>\n      <td>215.794305</td>\n      <td>1995-01-07</td>\n      <td>789491340000</td>\n      <td>Earth</td>\n      <td>12.351044</td>\n      <td>44463.757734</td>\n    </tr>\n    <tr>\n      <th>2</th>\n      <td>3516633</td>\n      <td>(2010 HA)</td>\n      <td>False</td>\n      <td>44.111820</td>\n      <td>98.637028</td>\n      <td>1995-01-07</td>\n      <td>789446820000</td>\n      <td>Earth</td>\n      <td>6.220435</td>\n      <td>22393.567277</td>\n    </tr>\n    <tr>\n      <th>3</th>\n      <td>3837644</td>\n      <td>(2019 AY3)</td>\n      <td>False</td>\n      <td>46.190746</td>\n      <td>103.285648</td>\n      <td>1995-01-07</td>\n      <td>789513900000</td>\n      <td>Earth</td>\n      <td>22.478615</td>\n      <td>80923.015021</td>\n    </tr>\n    <tr>\n      <th>4</th>\n      <td>3843493</td>\n      <td>(2019 PY)</td>\n      <td>False</td>\n      <td>22.108281</td>\n      <td>49.435619</td>\n      <td>1995-01-07</td>\n      <td>789446700000</td>\n      <td>Earth</td>\n      <td>4.998691</td>\n      <td>17995.288355</td>\n    </tr>\n  </tbody>\n</table>\n</div>"
     },
     "metadata": {}
    }
   ],
   "execution_count": null
  },
  {
   "cell_type": "code",
   "metadata": {
    "cell_id": "00006-dbb14a73-3de8-4f89-825a-bf5a4be0362d",
    "deepnote_cell_type": "code"
   },
   "source": "sns.scatterplot(df_1['estimated_diameter.meters.estimated_diameter_min'], df_1['estimated_diameter.meters.estimated_diameter_max']);\n",
   "outputs": [
    {
     "data": {
      "image/png": "[encoded data removed]",
      "text/plain": "<Figure size 432x288 with 1 Axes>"
     },
     "metadata": {
      "needs_background": "light",
      "image/png": {
       "width": 402,
       "height": 289
      }
     },
     "output_type": "display_data"
    }
   ],
   "execution_count": null
  },
  {
   "cell_type": "code",
   "source": "df_1['estimated_diameter.meters.estimated_diameter_min'].corr(df_1['estimated_diameter.meters.estimated_diameter_max'])\n ",
   "metadata": {
    "tags": [],
    "cell_id": "00007-0b3c81bc-f0bf-4d83-b539-9ba930bffdb8",
    "deepnote_to_be_reexecuted": false,
    "source_hash": "9037b840",
    "execution_start": 1630630062583,
    "execution_millis": 26,
    "deepnote_cell_type": "code"
   },
   "outputs": [
    {
     "output_type": "execute_result",
     "execution_count": 6,
     "data": {
      "text/plain": "1.0"
     },
     "metadata": {}
    }
   ],
   "execution_count": null
  },
  {
   "cell_type": "code",
   "metadata": {
    "cell_id": "00007-390ceb76-e381-4887-a8da-b1ad50cec0a1",
    "deepnote_to_be_reexecuted": false,
    "source_hash": "3230cf3d",
    "execution_start": 1630630104211,
    "execution_millis": 169,
    "deepnote_cell_type": "code"
   },
   "source": "sns.scatterplot(df_1['estimated_diameter.meters.estimated_diameter_max'], df_1['relative_velocity.kilometers_per_second']);\ndf_1['estimated_diameter.meters.estimated_diameter_max'].corr(df_1['relative_velocity.kilometers_per_second'])",
   "outputs": [
    {
     "name": "stderr",
     "text": "/shared-libs/python3.7/py/lib/python3.7/site-packages/seaborn/_decorators.py:43: FutureWarning: Pass the following variables as keyword args: x, y. From version 0.12, the only valid positional argument will be `data`, and passing other arguments without an explicit keyword will result in an error or misinterpretation.\n  FutureWarning\n",
     "output_type": "stream"
    },
    {
     "output_type": "execute_result",
     "execution_count": 7,
     "data": {
      "text/plain": "0.2101091968360083"
     },
     "metadata": {}
    },
    {
     "data": {
      "text/plain": "<Figure size 432x288 with 1 Axes>",
      "image/png": "[encoded data removed]"
     },
     "metadata": {
      "needs_background": "light",
      "image/png": {
       "width": 383,
       "height": 263
      }
     },
     "output_type": "display_data"
    }
   ],
   "execution_count": null
  },
  {
   "cell_type": "markdown",
   "source": "### b) Ruta 2: Athlete Olympic Events\n\nEste dataset contiene datos sobre eventos Olímpicos. La fuente original tiene información sobre el atleta que participó, las fechas y premios. Esta versión del dataset incluye solamente datos sobre la edad, peso y altura de los atletas. Comparemos edades, pesos y alturas.\n\nDebido al elevado número de muestras en este dataset, utilizar gráficas de dispersión convencionales no resulta muy efectivo. Por esta razón, estas relaciones están hechas con una gráfica llamada *binning hexagonal*. Lo que hacen los binnings hexagonales es dividir todo el plano en pequeños hexágonos. Cada hexágono representa un rango de valores de `x` y `y`. Después, se cuenta el número de muestras que hay sobre cada hexágono y eso se asigna como la 'densidad' del hexágono. Cada hexágono se colorea dependiendo de la densidad: entre más obscuro, más puntos cayeron sobre ese hexágono.",
   "metadata": {
    "cell_id": "00008-f1f702fe-ce7f-405c-bb2d-933426fc82d8",
    "deepnote_cell_type": "markdown"
   }
  },
  {
   "cell_type": "code",
   "metadata": {
    "cell_id": "00009-c5e9e97e-d541-4ba4-b658-2eee26bea486",
    "deepnote_to_be_reexecuted": false,
    "source_hash": "1840988d",
    "execution_start": 1630629891244,
    "execution_millis": 51,
    "deepnote_cell_type": "code"
   },
   "source": "df_2 = pd.read_csv(ruta_2, index_col=0)\n\ndf_2.head()",
   "outputs": [
    {
     "output_type": "execute_result",
     "execution_count": 4,
     "data": {
      "application/vnd.deepnote.dataframe.v2+json": {
       "row_count": 5,
       "column_count": 4,
       "columns": [
        {
         "name": "age",
         "dtype": "float64",
         "stats": {
          "unique_count": 4,
          "nan_count": 0,
          "min": "23.0",
          "max": "32.0",
          "histogram": [
           {
            "bin_start": 23,
            "bin_end": 23.9,
            "count": 1
           },
           {
            "bin_start": 23.9,
            "bin_end": 24.8,
            "count": 2
           },
           {
            "bin_start": 24.8,
            "bin_end": 25.7,
            "count": 0
           },
           {
            "bin_start": 25.7,
            "bin_end": 26.6,
            "count": 0
           },
           {
            "bin_start": 26.6,
            "bin_end": 27.5,
            "count": 0
           },
           {
            "bin_start": 27.5,
            "bin_end": 28.4,
            "count": 0
           },
           {
            "bin_start": 28.4,
            "bin_end": 29.3,
            "count": 0
           },
           {
            "bin_start": 29.3,
            "bin_end": 30.2,
            "count": 0
           },
           {
            "bin_start": 30.2,
            "bin_end": 31.1,
            "count": 0
           },
           {
            "bin_start": 31.1,
            "bin_end": 32,
            "count": 2
           }
          ]
         }
        },
        {
         "name": "height",
         "dtype": "float64",
         "stats": {
          "unique_count": 5,
          "nan_count": 0,
          "min": "170.0",
          "max": "188.0",
          "histogram": [
           {
            "bin_start": 170,
            "bin_end": 171.8,
            "count": 1
           },
           {
            "bin_start": 171.8,
            "bin_end": 173.6,
            "count": 0
           },
           {
            "bin_start": 173.6,
            "bin_end": 175.4,
            "count": 0
           },
           {
            "bin_start": 175.4,
            "bin_end": 177.2,
            "count": 0
           },
           {
            "bin_start": 177.2,
            "bin_end": 179,
            "count": 0
           },
           {
            "bin_start": 179,
            "bin_end": 180.8,
            "count": 1
           },
           {
            "bin_start": 180.8,
            "bin_end": 182.6,
            "count": 0
           },
           {
            "bin_start": 182.6,
            "bin_end": 184.4,
            "count": 1
           },
           {
            "bin_start": 184.4,
            "bin_end": 186.2,
            "count": 1
           },
           {
            "bin_start": 186.2,
            "bin_end": 188,
            "count": 1
           }
          ]
         }
        },
        {
         "name": "weight",
         "dtype": "float64",
         "stats": {
          "unique_count": 5,
          "nan_count": 0,
          "min": "60.0",
          "max": "82.0",
          "histogram": [
           {
            "bin_start": 60,
            "bin_end": 62.2,
            "count": 1
           },
           {
            "bin_start": 62.2,
            "bin_end": 64.4,
            "count": 0
           },
           {
            "bin_start": 64.4,
            "bin_end": 66.6,
            "count": 0
           },
           {
            "bin_start": 66.6,
            "bin_end": 68.8,
            "count": 0
           },
           {
            "bin_start": 68.8,
            "bin_end": 71,
            "count": 0
           },
           {
            "bin_start": 71,
            "bin_end": 73.2,
            "count": 1
           },
           {
            "bin_start": 73.2,
            "bin_end": 75.4,
            "count": 1
           },
           {
            "bin_start": 75.4,
            "bin_end": 77.6,
            "count": 0
           },
           {
            "bin_start": 77.6,
            "bin_end": 79.8,
            "count": 0
           },
           {
            "bin_start": 79.8,
            "bin_end": 82,
            "count": 2
           }
          ]
         }
        },
        {
         "name": "sex",
         "dtype": "object",
         "stats": {
          "unique_count": 2,
          "nan_count": 0,
          "categories": [
           {
            "name": "M",
            "count": 4
           },
           {
            "name": "F",
            "count": 1
           }
          ]
         }
        },
        {
         "name": "_deepnote_index_column",
         "dtype": "int64"
        }
       ],
       "rows_top": [
        {
         "age": 24,
         "height": 180,
         "weight": 80,
         "sex": "M",
         "_deepnote_index_column": 1
        },
        {
         "age": 23,
         "height": 170,
         "weight": 60,
         "sex": "M",
         "_deepnote_index_column": 2
        },
        {
         "age": 24.33333333333333,
         "height": 185,
         "weight": 82,
         "sex": "F",
         "_deepnote_index_column": 5
        },
        {
         "age": 32,
         "height": 188,
         "weight": 75,
         "sex": "M",
         "_deepnote_index_column": 6
        },
        {
         "age": 32,
         "height": 183,
         "weight": 72,
         "sex": "M",
         "_deepnote_index_column": 7
        }
       ],
       "rows_bottom": null
      },
      "text/plain": "                  age  height  weight sex\nathlete_id                               \n1           24.000000   180.0    80.0   M\n2           23.000000   170.0    60.0   M\n5           24.333333   185.0    82.0   F\n6           32.000000   188.0    75.0   M\n7           32.000000   183.0    72.0   M",
      "text/html": "<div>\n<style scoped>\n    .dataframe tbody tr th:only-of-type {\n        vertical-align: middle;\n    }\n\n    .dataframe tbody tr th {\n        vertical-align: top;\n    }\n\n    .dataframe thead th {\n        text-align: right;\n    }\n</style>\n<table border=\"1\" class=\"dataframe\">\n  <thead>\n    <tr style=\"text-align: right;\">\n      <th></th>\n      <th>age</th>\n      <th>height</th>\n      <th>weight</th>\n      <th>sex</th>\n    </tr>\n    <tr>\n      <th>athlete_id</th>\n      <th></th>\n      <th></th>\n      <th></th>\n      <th></th>\n    </tr>\n  </thead>\n  <tbody>\n    <tr>\n      <th>1</th>\n      <td>24.000000</td>\n      <td>180.0</td>\n      <td>80.0</td>\n      <td>M</td>\n    </tr>\n    <tr>\n      <th>2</th>\n      <td>23.000000</td>\n      <td>170.0</td>\n      <td>60.0</td>\n      <td>M</td>\n    </tr>\n    <tr>\n      <th>5</th>\n      <td>24.333333</td>\n      <td>185.0</td>\n      <td>82.0</td>\n      <td>F</td>\n    </tr>\n    <tr>\n      <th>6</th>\n      <td>32.000000</td>\n      <td>188.0</td>\n      <td>75.0</td>\n      <td>M</td>\n    </tr>\n    <tr>\n      <th>7</th>\n      <td>32.000000</td>\n      <td>183.0</td>\n      <td>72.0</td>\n      <td>M</td>\n    </tr>\n  </tbody>\n</table>\n</div>"
     },
     "metadata": {}
    }
   ],
   "execution_count": null
  },
  {
   "cell_type": "code",
   "metadata": {
    "cell_id": "00010-ed137171-88b2-4bc5-be55-113e6dc42a4b",
    "deepnote_to_be_reexecuted": false,
    "source_hash": "a4d4e5de",
    "execution_start": 1630630129933,
    "execution_millis": 1394,
    "deepnote_cell_type": "code"
   },
   "source": "sns.jointplot(df_2['age'], df_2['weight'], kind='hex');\ndf_2['age'].corr(df_2['weight'])",
   "outputs": [
    {
     "name": "stderr",
     "text": "/shared-libs/python3.7/py/lib/python3.7/site-packages/seaborn/_decorators.py:43: FutureWarning: Pass the following variables as keyword args: x, y. From version 0.12, the only valid positional argument will be `data`, and passing other arguments without an explicit keyword will result in an error or misinterpretation.\n  FutureWarning\n",
     "output_type": "stream"
    },
    {
     "output_type": "execute_result",
     "execution_count": 8,
     "data": {
      "text/plain": "0.19207157244306308"
     },
     "metadata": {}
    },
    {
     "data": {
      "text/plain": "<Figure size 432x432 with 3 Axes>",
      "image/png": "[encoded data removed]"
     },
     "metadata": {
      "needs_background": "light",
      "image/png": {
       "width": 428,
       "height": 424
      }
     },
     "output_type": "display_data"
    }
   ],
   "execution_count": null
  },
  {
   "cell_type": "code",
   "metadata": {
    "cell_id": "00011-36fdc4f3-1b9d-4f95-9d41-1b7b50fd40f2",
    "deepnote_to_be_reexecuted": false,
    "source_hash": "e56db21",
    "execution_start": 1630630171362,
    "execution_millis": 1280,
    "deepnote_cell_type": "code"
   },
   "source": "sns.jointplot(df_2['height'], df_2['weight'], kind='hex');\ndf_2['height'].corr(df_2['weight'])",
   "outputs": [
    {
     "name": "stderr",
     "text": "/shared-libs/python3.7/py/lib/python3.7/site-packages/seaborn/_decorators.py:43: FutureWarning: Pass the following variables as keyword args: x, y. From version 0.12, the only valid positional argument will be `data`, and passing other arguments without an explicit keyword will result in an error or misinterpretation.\n  FutureWarning\n",
     "output_type": "stream"
    },
    {
     "output_type": "execute_result",
     "execution_count": 9,
     "data": {
      "text/plain": "0.7756933060520278"
     },
     "metadata": {}
    },
    {
     "data": {
      "text/plain": "<Figure size 432x432 with 3 Axes>",
      "image/png": "[encoded data removed]"
     },
     "metadata": {
      "needs_background": "light",
      "image/png": {
       "width": 428,
       "height": 424
      }
     },
     "output_type": "display_data"
    }
   ],
   "execution_count": null
  },
  {
   "cell_type": "markdown",
   "source": "### c) Ruta 4: Ventas de videojuegos a través del mundo.\n\nEste dataset contiene datos sobre ventas de videojuegos en todo el mundo. Vamos a ver las relaciones que existen entre las ventas en diferentes lugares del mundo.",
   "metadata": {
    "cell_id": "00012-952cbdd5-5d23-41e7-aeb3-c7e66c701982",
    "deepnote_cell_type": "markdown"
   }
  },
  {
   "cell_type": "code",
   "metadata": {
    "cell_id": "00013-a7221d37-f679-44e0-a9ce-5e23c3b8f49b",
    "deepnote_to_be_reexecuted": false,
    "source_hash": "97fd799f",
    "execution_start": 1630630185006,
    "execution_millis": 34,
    "deepnote_cell_type": "code"
   },
   "source": "df_4 = pd.read_csv(ruta_3)\n\ndf_4.head()",
   "outputs": [
    {
     "output_type": "execute_result",
     "execution_count": 10,
     "data": {
      "application/vnd.deepnote.dataframe.v2+json": {
       "row_count": 5,
       "column_count": 11,
       "columns": [
        {
         "name": "Rank",
         "dtype": "int64",
         "stats": {
          "unique_count": 5,
          "nan_count": 0,
          "min": "1",
          "max": "5",
          "histogram": [
           {
            "bin_start": 1,
            "bin_end": 1.4,
            "count": 1
           },
           {
            "bin_start": 1.4,
            "bin_end": 1.8,
            "count": 0
           },
           {
            "bin_start": 1.8,
            "bin_end": 2.2,
            "count": 1
           },
           {
            "bin_start": 2.2,
            "bin_end": 2.6,
            "count": 0
           },
           {
            "bin_start": 2.6,
            "bin_end": 3,
            "count": 0
           },
           {
            "bin_start": 3,
            "bin_end": 3.4000000000000004,
            "count": 1
           },
           {
            "bin_start": 3.4000000000000004,
            "bin_end": 3.8000000000000003,
            "count": 0
           },
           {
            "bin_start": 3.8000000000000003,
            "bin_end": 4.2,
            "count": 1
           },
           {
            "bin_start": 4.2,
            "bin_end": 4.6,
            "count": 0
           },
           {
            "bin_start": 4.6,
            "bin_end": 5,
            "count": 1
           }
          ]
         }
        },
        {
         "name": "Name",
         "dtype": "object",
         "stats": {
          "unique_count": 5,
          "nan_count": 0,
          "categories": [
           {
            "name": "Wii Sports",
            "count": 1
           },
           {
            "name": "Super Mario Bros.",
            "count": 1
           },
           {
            "name": "3 others",
            "count": 3
           }
          ]
         }
        },
        {
         "name": "Platform",
         "dtype": "object",
         "stats": {
          "unique_count": 3,
          "nan_count": 0,
          "categories": [
           {
            "name": "Wii",
            "count": 3
           },
           {
            "name": "NES",
            "count": 1
           },
           {
            "name": "GB",
            "count": 1
           }
          ]
         }
        },
        {
         "name": "Year",
         "dtype": "float64",
         "stats": {
          "unique_count": 5,
          "nan_count": 0,
          "min": "1985.0",
          "max": "2009.0",
          "histogram": [
           {
            "bin_start": 1985,
            "bin_end": 1987.4,
            "count": 1
           },
           {
            "bin_start": 1987.4,
            "bin_end": 1989.8,
            "count": 0
           },
           {
            "bin_start": 1989.8,
            "bin_end": 1992.2,
            "count": 0
           },
           {
            "bin_start": 1992.2,
            "bin_end": 1994.6,
            "count": 0
           },
           {
            "bin_start": 1994.6,
            "bin_end": 1997,
            "count": 1
           },
           {
            "bin_start": 1997,
            "bin_end": 1999.4,
            "count": 0
           },
           {
            "bin_start": 1999.4,
            "bin_end": 2001.8,
            "count": 0
           },
           {
            "bin_start": 2001.8,
            "bin_end": 2004.2,
            "count": 0
           },
           {
            "bin_start": 2004.2,
            "bin_end": 2006.6,
            "count": 1
           },
           {
            "bin_start": 2006.6,
            "bin_end": 2009,
            "count": 2
           }
          ]
         }
        },
        {
         "name": "Genre",
         "dtype": "object",
         "stats": {
          "unique_count": 4,
          "nan_count": 0,
          "categories": [
           {
            "name": "Sports",
            "count": 2
           },
           {
            "name": "Platform",
            "count": 1
           },
           {
            "name": "2 others",
            "count": 2
           }
          ]
         }
        },
        {
         "name": "Publisher",
         "dtype": "object",
         "stats": {
          "unique_count": 1,
          "nan_count": 0,
          "categories": [
           {
            "name": "Nintendo",
            "count": 5
           }
          ]
         }
        },
        {
         "name": "NA_Sales",
         "dtype": "float64",
         "stats": {
          "unique_count": 5,
          "nan_count": 0,
          "min": "11.27",
          "max": "41.49",
          "histogram": [
           {
            "bin_start": 11.27,
            "bin_end": 14.292,
            "count": 1
           },
           {
            "bin_start": 14.292,
            "bin_end": 17.314,
            "count": 2
           },
           {
            "bin_start": 17.314,
            "bin_end": 20.336,
            "count": 0
           },
           {
            "bin_start": 20.336,
            "bin_end": 23.358,
            "count": 0
           },
           {
            "bin_start": 23.358,
            "bin_end": 26.380000000000003,
            "count": 0
           },
           {
            "bin_start": 26.380000000000003,
            "bin_end": 29.402,
            "count": 1
           },
           {
            "bin_start": 29.402,
            "bin_end": 32.42400000000001,
            "count": 0
           },
           {
            "bin_start": 32.42400000000001,
            "bin_end": 35.446,
            "count": 0
           },
           {
            "bin_start": 35.446,
            "bin_end": 38.468,
            "count": 0
           },
           {
            "bin_start": 38.468,
            "bin_end": 41.49,
            "count": 1
           }
          ]
         }
        },
        {
         "name": "EU_Sales",
         "dtype": "float64",
         "stats": {
          "unique_count": 5,
          "nan_count": 0,
          "min": "3.58",
          "max": "29.02",
          "histogram": [
           {
            "bin_start": 3.58,
            "bin_end": 6.124,
            "count": 1
           },
           {
            "bin_start": 6.124,
            "bin_end": 8.668,
            "count": 0
           },
           {
            "bin_start": 8.668,
            "bin_end": 11.212,
            "count": 2
           },
           {
            "bin_start": 11.212,
            "bin_end": 13.755999999999998,
            "count": 1
           },
           {
            "bin_start": 13.755999999999998,
            "bin_end": 16.299999999999997,
            "count": 0
           },
           {
            "bin_start": 16.299999999999997,
            "bin_end": 18.843999999999998,
            "count": 0
           },
           {
            "bin_start": 18.843999999999998,
            "bin_end": 21.387999999999998,
            "count": 0
           },
           {
            "bin_start": 21.387999999999998,
            "bin_end": 23.931999999999995,
            "count": 0
           },
           {
            "bin_start": 23.931999999999995,
            "bin_end": 26.476,
            "count": 0
           },
           {
            "bin_start": 26.476,
            "bin_end": 29.02,
            "count": 1
           }
          ]
         }
        },
        {
         "name": "JP_Sales",
         "dtype": "float64",
         "stats": {
          "unique_count": 5,
          "nan_count": 0,
          "min": "3.28",
          "max": "10.22",
          "histogram": [
           {
            "bin_start": 3.28,
            "bin_end": 3.974,
            "count": 3
           },
           {
            "bin_start": 3.974,
            "bin_end": 4.668,
            "count": 0
           },
           {
            "bin_start": 4.668,
            "bin_end": 5.362,
            "count": 0
           },
           {
            "bin_start": 5.362,
            "bin_end": 6.056000000000001,
            "count": 0
           },
           {
            "bin_start": 6.056000000000001,
            "bin_end": 6.75,
            "count": 0
           },
           {
            "bin_start": 6.75,
            "bin_end": 7.444000000000001,
            "count": 1
           },
           {
            "bin_start": 7.444000000000001,
            "bin_end": 8.138000000000002,
            "count": 0
           },
           {
            "bin_start": 8.138000000000002,
            "bin_end": 8.832,
            "count": 0
           },
           {
            "bin_start": 8.832,
            "bin_end": 9.526000000000002,
            "count": 0
           },
           {
            "bin_start": 9.526000000000002,
            "bin_end": 10.22,
            "count": 1
           }
          ]
         }
        },
        {
         "name": "Other_Sales",
         "dtype": "float64",
         "stats": {
          "unique_count": 5,
          "nan_count": 0,
          "min": "0.77",
          "max": "8.46",
          "histogram": [
           {
            "bin_start": 0.77,
            "bin_end": 1.5390000000000001,
            "count": 2
           },
           {
            "bin_start": 1.5390000000000001,
            "bin_end": 2.3080000000000003,
            "count": 0
           },
           {
            "bin_start": 2.3080000000000003,
            "bin_end": 3.0770000000000004,
            "count": 1
           },
           {
            "bin_start": 3.0770000000000004,
            "bin_end": 3.8460000000000005,
            "count": 1
           },
           {
            "bin_start": 3.8460000000000005,
            "bin_end": 4.615,
            "count": 0
           },
           {
            "bin_start": 4.615,
            "bin_end": 5.384,
            "count": 0
           },
           {
            "bin_start": 5.384,
            "bin_end": 6.1530000000000005,
            "count": 0
           },
           {
            "bin_start": 6.1530000000000005,
            "bin_end": 6.922000000000001,
            "count": 0
           },
           {
            "bin_start": 6.922000000000001,
            "bin_end": 7.691000000000001,
            "count": 0
           },
           {
            "bin_start": 7.691000000000001,
            "bin_end": 8.46,
            "count": 1
           }
          ]
         }
        },
        {
         "name": "Global_Sales",
         "dtype": "float64",
         "stats": {
          "unique_count": 5,
          "nan_count": 0,
          "min": "31.37",
          "max": "82.74",
          "histogram": [
           {
            "bin_start": 31.37,
            "bin_end": 36.507,
            "count": 3
           },
           {
            "bin_start": 36.507,
            "bin_end": 41.644,
            "count": 1
           },
           {
            "bin_start": 41.644,
            "bin_end": 46.781,
            "count": 0
           },
           {
            "bin_start": 46.781,
            "bin_end": 51.91799999999999,
            "count": 0
           },
           {
            "bin_start": 51.91799999999999,
            "bin_end": 57.05499999999999,
            "count": 0
           },
           {
            "bin_start": 57.05499999999999,
            "bin_end": 62.19199999999999,
            "count": 0
           },
           {
            "bin_start": 62.19199999999999,
            "bin_end": 67.329,
            "count": 0
           },
           {
            "bin_start": 67.329,
            "bin_end": 72.466,
            "count": 0
           },
           {
            "bin_start": 72.466,
            "bin_end": 77.603,
            "count": 0
           },
           {
            "bin_start": 77.603,
            "bin_end": 82.74,
            "count": 1
           }
          ]
         }
        },
        {
         "name": "_deepnote_index_column",
         "dtype": "int64"
        }
       ],
       "rows_top": [
        {
         "Rank": 1,
         "Name": "Wii Sports",
         "Platform": "Wii",
         "Year": 2006,
         "Genre": "Sports",
         "Publisher": "Nintendo",
         "NA_Sales": 41.49,
         "EU_Sales": 29.02,
         "JP_Sales": 3.77,
         "Other_Sales": 8.46,
         "Global_Sales": 82.74,
         "_deepnote_index_column": 0
        },
        {
         "Rank": 2,
         "Name": "Super Mario Bros.",
         "Platform": "NES",
         "Year": 1985,
         "Genre": "Platform",
         "Publisher": "Nintendo",
         "NA_Sales": 29.08,
         "EU_Sales": 3.58,
         "JP_Sales": 6.81,
         "Other_Sales": 0.77,
         "Global_Sales": 40.24,
         "_deepnote_index_column": 1
        },
        {
         "Rank": 3,
         "Name": "Mario Kart Wii",
         "Platform": "Wii",
         "Year": 2008,
         "Genre": "Racing",
         "Publisher": "Nintendo",
         "NA_Sales": 15.85,
         "EU_Sales": 12.88,
         "JP_Sales": 3.79,
         "Other_Sales": 3.31,
         "Global_Sales": 35.82,
         "_deepnote_index_column": 2
        },
        {
         "Rank": 4,
         "Name": "Wii Sports Resort",
         "Platform": "Wii",
         "Year": 2009,
         "Genre": "Sports",
         "Publisher": "Nintendo",
         "NA_Sales": 15.75,
         "EU_Sales": 11.01,
         "JP_Sales": 3.28,
         "Other_Sales": 2.96,
         "Global_Sales": 33,
         "_deepnote_index_column": 3
        },
        {
         "Rank": 5,
         "Name": "Pokemon Red/Pokemon Blue",
         "Platform": "GB",
         "Year": 1996,
         "Genre": "Role-Playing",
         "Publisher": "Nintendo",
         "NA_Sales": 11.27,
         "EU_Sales": 8.89,
         "JP_Sales": 10.22,
         "Other_Sales": 1,
         "Global_Sales": 31.37,
         "_deepnote_index_column": 4
        }
       ],
       "rows_bottom": null
      },
      "text/plain": "   Rank                      Name Platform    Year         Genre Publisher  \\\n0     1                Wii Sports      Wii  2006.0        Sports  Nintendo   \n1     2         Super Mario Bros.      NES  1985.0      Platform  Nintendo   \n2     3            Mario Kart Wii      Wii  2008.0        Racing  Nintendo   \n3     4         Wii Sports Resort      Wii  2009.0        Sports  Nintendo   \n4     5  Pokemon Red/Pokemon Blue       GB  1996.0  Role-Playing  Nintendo   \n\n   NA_Sales  EU_Sales  JP_Sales  Other_Sales  Global_Sales  \n0     41.49     29.02      3.77         8.46         82.74  \n1     29.08      3.58      6.81         0.77         40.24  \n2     15.85     12.88      3.79         3.31         35.82  \n3     15.75     11.01      3.28         2.96         33.00  \n4     11.27      8.89     10.22         1.00         31.37  ",
      "text/html": "<div>\n<style scoped>\n    .dataframe tbody tr th:only-of-type {\n        vertical-align: middle;\n    }\n\n    .dataframe tbody tr th {\n        vertical-align: top;\n    }\n\n    .dataframe thead th {\n        text-align: right;\n    }\n</style>\n<table border=\"1\" class=\"dataframe\">\n  <thead>\n    <tr style=\"text-align: right;\">\n      <th></th>\n      <th>Rank</th>\n      <th>Name</th>\n      <th>Platform</th>\n      <th>Year</th>\n      <th>Genre</th>\n      <th>Publisher</th>\n      <th>NA_Sales</th>\n      <th>EU_Sales</th>\n      <th>JP_Sales</th>\n      <th>Other_Sales</th>\n      <th>Global_Sales</th>\n    </tr>\n  </thead>\n  <tbody>\n    <tr>\n      <th>0</th>\n      <td>1</td>\n      <td>Wii Sports</td>\n      <td>Wii</td>\n      <td>2006.0</td>\n      <td>Sports</td>\n      <td>Nintendo</td>\n      <td>41.49</td>\n      <td>29.02</td>\n      <td>3.77</td>\n      <td>8.46</td>\n      <td>82.74</td>\n    </tr>\n    <tr>\n      <th>1</th>\n      <td>2</td>\n      <td>Super Mario Bros.</td>\n      <td>NES</td>\n      <td>1985.0</td>\n      <td>Platform</td>\n      <td>Nintendo</td>\n      <td>29.08</td>\n      <td>3.58</td>\n      <td>6.81</td>\n      <td>0.77</td>\n      <td>40.24</td>\n    </tr>\n    <tr>\n      <th>2</th>\n      <td>3</td>\n      <td>Mario Kart Wii</td>\n      <td>Wii</td>\n      <td>2008.0</td>\n      <td>Racing</td>\n      <td>Nintendo</td>\n      <td>15.85</td>\n      <td>12.88</td>\n      <td>3.79</td>\n      <td>3.31</td>\n      <td>35.82</td>\n    </tr>\n    <tr>\n      <th>3</th>\n      <td>4</td>\n      <td>Wii Sports Resort</td>\n      <td>Wii</td>\n      <td>2009.0</td>\n      <td>Sports</td>\n      <td>Nintendo</td>\n      <td>15.75</td>\n      <td>11.01</td>\n      <td>3.28</td>\n      <td>2.96</td>\n      <td>33.00</td>\n    </tr>\n    <tr>\n      <th>4</th>\n      <td>5</td>\n      <td>Pokemon Red/Pokemon Blue</td>\n      <td>GB</td>\n      <td>1996.0</td>\n      <td>Role-Playing</td>\n      <td>Nintendo</td>\n      <td>11.27</td>\n      <td>8.89</td>\n      <td>10.22</td>\n      <td>1.00</td>\n      <td>31.37</td>\n    </tr>\n  </tbody>\n</table>\n</div>"
     },
     "metadata": {}
    }
   ],
   "execution_count": null
  },
  {
   "cell_type": "code",
   "metadata": {
    "cell_id": "00014-cb2f4530-9ed9-4997-abc9-2e9c82e84506",
    "deepnote_cell_type": "code"
   },
   "source": "df_4 = df_4[['NA_Sales', 'EU_Sales', 'JP_Sales', 'Other_Sales', 'Global_Sales']]",
   "outputs": [],
   "execution_count": null
  },
  {
   "cell_type": "code",
   "metadata": {
    "cell_id": "00015-7f0a7202-ef35-4555-b0c2-e6f33e00228b",
    "deepnote_to_be_reexecuted": false,
    "source_hash": "a957fd5f",
    "execution_start": 1630630240645,
    "execution_millis": 7,
    "deepnote_cell_type": "code"
   },
   "source": "#df_4 = df_4[df_4 > 0]\ndf_4 = df_4[df_4['NA_Sales'] < 20]\ndf_4 = df_4[df_4['JP_Sales'] < 10]",
   "outputs": [],
   "execution_count": null
  },
  {
   "cell_type": "code",
   "metadata": {
    "cell_id": "00016-153217cd-e613-48c0-b555-c07031603eef",
    "deepnote_to_be_reexecuted": false,
    "source_hash": "dbc675e3",
    "execution_start": 1630630244836,
    "execution_millis": 257,
    "deepnote_cell_type": "code"
   },
   "source": "sns.scatterplot(df_4['NA_Sales'], df_4['JP_Sales']);",
   "outputs": [
    {
     "name": "stderr",
     "text": "/shared-libs/python3.7/py/lib/python3.7/site-packages/seaborn/_decorators.py:43: FutureWarning: Pass the following variables as keyword args: x, y. From version 0.12, the only valid positional argument will be `data`, and passing other arguments without an explicit keyword will result in an error or misinterpretation.\n  FutureWarning\n",
     "output_type": "stream"
    },
    {
     "data": {
      "text/plain": "<Figure size 432x288 with 1 Axes>",
      "image/png": "[encoded data removed]"
     },
     "metadata": {
      "needs_background": "light",
      "image/png": {
       "width": 377,
       "height": 263
      }
     },
     "output_type": "display_data"
    }
   ],
   "execution_count": null
  },
  {
   "cell_type": "code",
   "metadata": {
    "cell_id": "00017-6824ab54-951e-41be-84ad-de7c62f80835",
    "deepnote_to_be_reexecuted": false,
    "source_hash": "10a166c0",
    "execution_start": 1630630298745,
    "execution_millis": 179,
    "deepnote_cell_type": "code"
   },
   "source": "sns.scatterplot(df_4['Other_Sales'], df_4['Global_Sales']);\ndf_4['Other_Sales'].corr(df_4['Global_Sales'])",
   "outputs": [
    {
     "name": "stderr",
     "text": "/shared-libs/python3.7/py/lib/python3.7/site-packages/seaborn/_decorators.py:43: FutureWarning: Pass the following variables as keyword args: x, y. From version 0.12, the only valid positional argument will be `data`, and passing other arguments without an explicit keyword will result in an error or misinterpretation.\n  FutureWarning\n",
     "output_type": "stream"
    },
    {
     "output_type": "execute_result",
     "execution_count": 14,
     "data": {
      "text/plain": "0.7370683149251044"
     },
     "metadata": {}
    },
    {
     "data": {
      "text/plain": "<Figure size 432x288 with 1 Axes>",
      "image/png": "[encoded data removed]"
     },
     "metadata": {
      "needs_background": "light",
      "image/png": {
       "width": 383,
       "height": 263
      }
     },
     "output_type": "display_data"
    }
   ],
   "execution_count": null
  },
  {
   "cell_type": "code",
   "metadata": {
    "cell_id": "00018-5bb293e8-ce32-45ba-bb7c-f242d6710605",
    "deepnote_to_be_reexecuted": false,
    "source_hash": "5975936b",
    "execution_start": 1630630314286,
    "execution_millis": 160,
    "deepnote_cell_type": "code"
   },
   "source": "sns.scatterplot(df_4['NA_Sales'], df_4['Global_Sales']);\ndf_4['NA_Sales'].corr(df_4['Global_Sales'])",
   "outputs": [
    {
     "name": "stderr",
     "text": "/shared-libs/python3.7/py/lib/python3.7/site-packages/seaborn/_decorators.py:43: FutureWarning: Pass the following variables as keyword args: x, y. From version 0.12, the only valid positional argument will be `data`, and passing other arguments without an explicit keyword will result in an error or misinterpretation.\n  FutureWarning\n",
     "output_type": "stream"
    },
    {
     "output_type": "execute_result",
     "execution_count": 15,
     "data": {
      "text/plain": "0.9351291046028471"
     },
     "metadata": {}
    },
    {
     "data": {
      "text/plain": "<Figure size 432x288 with 1 Axes>",
      "image/png": "[encoded data removed]"
     },
     "metadata": {
      "needs_background": "light",
      "image/png": {
       "width": 383,
       "height": 263
      }
     },
     "output_type": "display_data"
    }
   ],
   "execution_count": null
  },
  {
   "cell_type": "code",
   "source": "df_pd.rad_",
   "metadata": {
    "tags": [],
    "cell_id": "00020-2443c133-a220-4ef4-84a2-b81ab6a408d6",
    "deepnote_cell_type": "code"
   },
   "outputs": [],
   "execution_count": null
  },
  {
   "cell_type": "markdown",
   "source": "<a style='text-decoration:none;line-height:16px;display:flex;color:#5B5B62;padding:10px;justify-content:end;' href='https://deepnote.com?utm_source=created-in-deepnote-cell&projectId=f8149d1c-e6b1-497a-9109-f01641a8231a' target=\"_blank\">\n<img alt='Created in deepnote.com' style='display:inline;max-height:16px;margin:0px;margin-right:7.5px;' src='data:image/svg+xml;base64,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' > </img>\nCreated in <span style='font-weight:600;margin-left:4px;'>Deepnote</span></a>",
   "metadata": {
    "tags": [],
    "created_in_deepnote_cell": true,
    "deepnote_cell_type": "markdown"
   }
  }
 ],
 "nbformat": 4,
 "nbformat_minor": 4,
 "metadata": {
  "kernelspec": {
   "display_name": "Python (data_science)",
   "language": "python",
   "name": "data_science"
  },
  "language_info": {
   "codemirror_mode": {
    "name": "ipython",
    "version": 3
   },
   "file_extension": ".py",
   "mimetype": "text/x-python",
   "name": "python",
   "nbconvert_exporter": "python",
   "pygments_lexer": "ipython3",
   "version": "3.8.5"
  },
  "deepnote_notebook_id": "8b2be59c-2f12-4b51-9965-9eeaf404d7ef",
  "deepnote": {},
  "deepnote_execution_queue": []
 }
}