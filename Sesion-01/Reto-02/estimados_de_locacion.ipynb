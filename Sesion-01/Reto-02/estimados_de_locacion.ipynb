{
 "cells": [
  {
   "cell_type": "markdown",
   "source": "## Reto 2: Estimados de locación\n\n### 1. Objetivos:\n    - Implementar los algoritmos para obtener estimados de locación sin utilizar los métodos builtin de pandas\n \n---\n    \n### 2. Desarrollo:",
   "metadata": {
    "cell_id": "00000-ceeaa8db-fe40-4823-bb6d-2a344594783b",
    "deepnote_cell_type": "markdown"
   }
  },
  {
   "cell_type": "markdown",
   "source": "#### a) Implementando estimados de locación\n\nEste Reto va a consistir en implementar el promedio y la mediana sin utilizar los métodos `mean` y `median` que vienen incluidos en `pandas`. Implementar algoritmos desde 0 es una excelente práctica que nos ayuda a entenderlos mejor y recordarlos con más precisión.\n\nPuedes utilizar `pandas` y otras funciones vectorizadas o de reducción. Las únicas funciones que no están permitidas son `mean` y `median`. Las dos funciones que vas a crear deben recibir una serie de `pandas` y regresar un solo número.",
   "metadata": {
    "cell_id": "00001-bcb496a8-6253-4bad-a96b-e09179acaed5",
    "deepnote_cell_type": "markdown"
   }
  },
  {
   "cell_type": "code",
   "metadata": {
    "tags": [],
    "cell_id": "00003-edf5cc86-253a-496b-bc17-0005d06c49bf",
    "deepnote_to_be_reexecuted": false,
    "source_hash": "d90b3818",
    "execution_start": 1629422872781,
    "execution_millis": 1,
    "deepnote_cell_type": "code"
   },
   "source": "import numpy as np\nimport pandas as pd\n\n#s = pd.",
   "execution_count": null,
   "outputs": []
  },
  {
   "cell_type": "code",
   "metadata": {
    "cell_id": "00003-bb43706c-975e-4b13-a7b6-a6d65306780b",
    "deepnote_to_be_reexecuted": false,
    "source_hash": "aafddb20",
    "execution_start": 1629424750895,
    "execution_millis": 3,
    "deepnote_cell_type": "code"
   },
   "source": "# Creación de funciones\n\ndef promedio_custom(serie):\n    return serie.sum()/serie.count()\n\ndef mediana_custom(serie):\n    serie = serie.sort_values()\n    n = serie.count()\n    if n % 2:\n        # par\n        return (serie.iloc[int(n/2)] + serie.iloc[int(n/2 + 1)]) / 2\n    else:\n        #impar\n        return serie.iloc[int((n+1)/2)]\n\n    ",
   "execution_count": null,
   "outputs": []
  },
  {
   "cell_type": "markdown",
   "source": "#### b) Estimados de locación de diámetros de meteoritos\n\nAhora vamos a utilizar nuestras funciones custom para obtener estimados de locación de un conjunto de datos que contiene información acerca de objetos que orbitaron cerca de la Tierra durante el periodo de enero y febrero de 1995.\n\nEl dataset se llama 'near_earth_objects-jan_feb_1995-clean.csv' y la columna que vamos a analizar se llama 'estimated_diameter.meters.estimated_diameter_max'. Esta columna contiene el diámetro máximo estimado de cada objeto.\n\nEl reto es el siguiente:\n\n1. Lee el dataset usando `pandas`.\n2. Obtén el promedio y la mediana usando tus funciones custom y asígnalas a `promedio_diametro` y `mediana_diametro`.\n3. Corre la celda que contiene el código para verificar tus resultados.\n4. Responde la pregunta que te regresa la función de verificación.",
   "metadata": {
    "cell_id": "00004-707b1b94-404f-445e-a742-f550dad48fb2",
    "deepnote_cell_type": "markdown"
   }
  },
  {
   "cell_type": "code",
   "metadata": {
    "cell_id": "00005-2a833954-ee33-43ef-bbd4-d4f82f0ad111",
    "deepnote_to_be_reexecuted": false,
    "source_hash": "cec1aa15",
    "execution_start": 1629424730720,
    "execution_millis": 0,
    "deepnote_cell_type": "code"
   },
   "source": "# Lee el dataset y asígnalo a esta variable\n\ndf_meteoritos = pd.read_csv(\"/work/B2-Analisis-de-Datos-con-Python-2020-2021-Santander/Datasets/near_earth_objects-jan_feb_1995-clean.csv\")",
   "execution_count": null,
   "outputs": []
  },
  {
   "cell_type": "code",
   "metadata": {
    "cell_id": "00006-abddb900-7566-48bf-894b-165221eb526c",
    "deepnote_to_be_reexecuted": false,
    "source_hash": "bbac9c3b",
    "execution_start": 1629424755138,
    "execution_millis": 29,
    "deepnote_cell_type": "code"
   },
   "source": "promedio_diametro = promedio_custom(df_meteoritos['estimated_diameter.meters.estimated_diameter_max'])\npromedio_diametro",
   "execution_count": null,
   "outputs": [
    {
     "output_type": "execute_result",
     "execution_count": 10,
     "data": {
      "text/plain": "410.08604223976545"
     },
     "metadata": {}
    }
   ]
  },
  {
   "cell_type": "code",
   "metadata": {
    "cell_id": "00007-a8a96dcd-9507-4112-abc4-f6c7e8047cb8",
    "deepnote_to_be_reexecuted": false,
    "source_hash": "59a6869f",
    "execution_start": 1629424764945,
    "execution_millis": 12,
    "deepnote_cell_type": "code"
   },
   "source": "mediana_diametro = mediana_custom(df_meteoritos['estimated_diameter.meters.estimated_diameter_max'])\nmediana_diametro",
   "execution_count": null,
   "outputs": [
    {
     "output_type": "execute_result",
     "execution_count": 12,
     "data": {
      "text/plain": "215.7943048444"
     },
     "metadata": {}
    }
   ]
  },
  {
   "cell_type": "code",
   "metadata": {
    "cell_id": "00008-f9e52ad8-35fd-4b17-bad8-64998e3517cf",
    "deepnote_to_be_reexecuted": false,
    "source_hash": "94f5a7b1",
    "execution_start": 1629424778582,
    "execution_millis": 23,
    "deepnote_cell_type": "code"
   },
   "source": "# Pídele al experto la función `verificar_resultados` para que puedas correr la siguiente verificación\nimport helpers\nhelpers.verificar_resultados(df_meteoritos, promedio_diametro, mediana_diametro)",
   "execution_count": null,
   "outputs": [
    {
     "name": "stdout",
     "text": "Los estimados fueron calcualados correctamente.\n\nEl promedio calculado fue de 410.08604223976545 mientras que la mediana fue de 215.7943048444.\n¿A qué le atribuyes tú la diferencia?\n",
     "output_type": "stream"
    }
   ]
  },
  {
   "cell_type": "markdown",
   "source": "<details><summary>Solución</summary>\n\n```python\ndef promedio_custom(serie):\n    return serie.sum() / serie.count()\n    \ndef mediana_custom(serie):\n    import numpy as np\n    \n    serie_ordenada = serie.sort_values(ascending=True)\n    length_of_series = serie.count()\n    \n    if length_of_series % 2 == 0:\n        bottom =int(length_of_series / 2)\n        top = int(bottom + 1)\n        return (serie_ordenada.iloc[bottom] + serie_ordenada.iloc[top]) / 2\n    else:\n        index = int(np.ceil(length_of_series / 2))\n        return serie_ordenada.iloc[index]\n    \nimport pandas as pd\ndf_meteoritos = pd.read_csv('../../Datasets/near_earth_objects-jan_feb_1995-clean.csv', index_col=0)\npromedio_diametro = promedio_custom(df_meteoritos['estimated_diameter.meters.estimated_diameter_max'])\nmediana_diametro = mediana_custom(df_meteoritos['estimated_diameter.meters.estimated_diameter_max'])\n```\n    \n</details>",
   "metadata": {
    "cell_id": "00009-d7bb1ec9-23ea-4072-8d50-2de1b95cdad2",
    "deepnote_cell_type": "markdown"
   }
  },
  {
   "cell_type": "markdown",
   "source": "<a style='text-decoration:none;line-height:16px;display:flex;color:#5B5B62;padding:10px;justify-content:end;' href='https://deepnote.com?utm_source=created-in-deepnote-cell&projectId=f8149d1c-e6b1-497a-9109-f01641a8231a' target=\"_blank\">\n<img alt='Created in deepnote.com' style='display:inline;max-height:16px;margin:0px;margin-right:7.5px;' src='data:image/svg+xml;base64,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' > </img>\nCreated in <span style='font-weight:600;margin-left:4px;'>Deepnote</span></a>",
   "metadata": {
    "tags": [],
    "created_in_deepnote_cell": true,
    "deepnote_cell_type": "markdown"
   }
  }
 ],
 "nbformat": 4,
 "nbformat_minor": 4,
 "metadata": {
  "kernelspec": {
   "display_name": "Python (data_science)",
   "language": "python",
   "name": "data_science"
  },
  "language_info": {
   "codemirror_mode": {
    "name": "ipython",
    "version": 3
   },
   "file_extension": ".py",
   "mimetype": "text/x-python",
   "name": "python",
   "nbconvert_exporter": "python",
   "pygments_lexer": "ipython3",
   "version": "3.7.6"
  },
  "deepnote_notebook_id": "e0edcd4f-8cc5-424f-ad49-57d50c167e13",
  "deepnote": {},
  "deepnote_execution_queue": []
 }
}