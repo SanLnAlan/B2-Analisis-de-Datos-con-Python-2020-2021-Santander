{
 "cells": [
  {
   "cell_type": "markdown",
   "source": "## Reto 3: Desviación estándar\n\n### 1. Objetivos:\n    - Utilizar la desviación estándar para realizar un análisis de dispersión de nuestros datos\n \n---\n    \n### 2. Desarrollo:",
   "metadata": {
    "cell_id": "00000-a16627cd-3678-400c-a3a4-9a0a9c603adc",
    "deepnote_cell_type": "markdown"
   }
  },
  {
   "cell_type": "markdown",
   "source": "#### a) Desviación estándar y distribución de los datos\n\nComo ya vimos, la desviación estándar es la medida que nos da la \"desviación típica\" (o esperada) de nuestros datos a comparación del promedio. Eso quiere decir que normalmente vamos a esperar que una gran parte de nuestros datos se encuentren a 1 desviación estándar de distancia del promedio. Entre más nos alejamos, menos muestras deberíamos de encontrar.\n\nVamos a comprobar esto usando nuestro dataset de meteoritos que orbitan cerca de la Tierra. Tu Reto consiste en los siguientes pasos:\n\n1. Crea un DataFrame con el dataset 'near_earth_objects-jan_feb_1995-clean.csv'.\n2. Obtén la cantidad total de muestras en tu DataFrame.\n3. Obtén la desviación estándar de la columna 'estimated_diameter.meters.estimated_diameter_max'. Los siguientes pasos realízalos todos utilizando esta columna.\n4. Obtén el porcentaje de muestras que están a una distancia de 1 desviación estándar del promedio.\n5. Obtén el porcentaje de muestras que están a una distancia de 2 desviaciones estándares del promedio.\n6. Obtén el porcentaje de muestras que están a una distancia de 3 desviaciones estándares del promedio.\n7. Compara los porcentajes obtenidos y comenta con tus compañeros y la experta tus hallazgos. ¿Qué significa esto? ¿La definición de desviación estándar tiene sentido? ¿Qué puedo inferir acerca de la dispersión de mis datos a partir de los valores obtenidos?\n\n> Nota: Para obtener los porcentajes de los subconjuntos primero necesitas filtrar el DataFrame original para que sólo permanezcan las muestras que cumplan con los requisitos.\n\n> Nota: Este Reto está diseñado para tener una dificultad media. No te frustres si al principio parece demasiado difícil. Comienza poco a poco, resolviendo el problema en pedazos pequeños, y si no tienes la menor idea de cómo proceder recuerda que la experta está ahí para ayudarte.",
   "metadata": {
    "cell_id": "00001-b8ff4685-ce94-4fa4-9cd2-02ee5e396469",
    "deepnote_cell_type": "markdown"
   }
  },
  {
   "cell_type": "code",
   "metadata": {
    "cell_id": "00002-9972b73b-f0cf-4f57-a8cf-6684a7b4aa37",
    "deepnote_to_be_reexecuted": false,
    "source_hash": "9b82ee11",
    "execution_start": 1630369019141,
    "execution_millis": 28,
    "deepnote_cell_type": "code"
   },
   "source": "import pandas as pd",
   "execution_count": 1,
   "outputs": []
  },
  {
   "cell_type": "code",
   "source": "df = pd.read_csv('../../Datasets/near_earth_objects-jan_feb_1995-clean.csv')",
   "metadata": {
    "tags": [],
    "cell_id": "00003-6adebb13-8729-41f1-845f-7ba0527ddcdd",
    "deepnote_to_be_reexecuted": false,
    "source_hash": "32780bd8",
    "execution_start": 1630369044445,
    "execution_millis": 13,
    "deepnote_cell_type": "code"
   },
   "outputs": [],
   "execution_count": 3
  },
  {
   "cell_type": "code",
   "source": "#2\ndf.shape[0]",
   "metadata": {
    "tags": [],
    "cell_id": "00004-28ec051a-df50-46c9-a495-4b455b20765f",
    "deepnote_to_be_reexecuted": false,
    "source_hash": "da970009",
    "execution_start": 1630369080474,
    "execution_millis": 6,
    "deepnote_cell_type": "code"
   },
   "outputs": [
    {
     "output_type": "execute_result",
     "execution_count": 5,
     "data": {
      "text/plain": "333"
     },
     "metadata": {}
    }
   ],
   "execution_count": 5
  },
  {
   "cell_type": "code",
   "source": "#3\ncol = 'estimated_diameter.meters.estimated_diameter_max'\ndf[col].std()",
   "metadata": {
    "tags": [],
    "cell_id": "00005-ec3f9841-f33e-4726-80bb-e429599519b0",
    "deepnote_to_be_reexecuted": false,
    "source_hash": "8553dbda",
    "execution_start": 1630369186639,
    "execution_millis": 6,
    "deepnote_cell_type": "code"
   },
   "outputs": [
    {
     "output_type": "execute_result",
     "execution_count": 7,
     "data": {
      "text/plain": "614.6915918552232"
     },
     "metadata": {}
    }
   ],
   "execution_count": 7
  },
  {
   "cell_type": "code",
   "source": "#4\nprom = df[col].mean()\ndes = df[col].std() \n#stdx1_max = df[col].mean() + df[col].std() \nstd = []\nfor i in [1,2,3]:\n    #np.insert(arr=std,obj=0,values=len(df[(df[col] > prom - i*des) & (df[col] < prom + i*des)]))\n    std.append(len(df[(df[col] > (prom - i*des)) & (df[col] < (prom + i*des))]))\n\n#df[df[col].isin([stdx1_min, stdx1_max])]",
   "metadata": {
    "tags": [],
    "cell_id": "00006-119f4661-b217-4cac-b4bd-198e443a2c29",
    "deepnote_to_be_reexecuted": false,
    "source_hash": "c2a07513",
    "execution_start": 1630370874124,
    "execution_millis": 0,
    "deepnote_cell_type": "code"
   },
   "outputs": [],
   "execution_count": 40
  },
  {
   "cell_type": "code",
   "source": "std_porcentaje = list(map(lambda i:f'{i/331*100:.2f}%',std))\nstd_porcentaje",
   "metadata": {
    "tags": [],
    "cell_id": "00007-ae71f14a-8eb5-4546-99ff-1b69f4cee25d",
    "deepnote_to_be_reexecuted": false,
    "source_hash": "4753611c",
    "execution_start": 1630370877171,
    "execution_millis": 7,
    "deepnote_cell_type": "code"
   },
   "outputs": [
    {
     "output_type": "execute_result",
     "execution_count": 41,
     "data": {
      "text/plain": "['90.94%', '96.98%', '98.49%']"
     },
     "metadata": {}
    }
   ],
   "execution_count": 41
  },
  {
   "cell_type": "code",
   "source": "df[col]",
   "metadata": {
    "tags": [],
    "cell_id": "00007-b035670f-a4e1-4a00-adf8-a224ef46108a",
    "deepnote_to_be_reexecuted": false,
    "source_hash": "74688aca",
    "execution_start": 1630369761918,
    "execution_millis": 6,
    "deepnote_cell_type": "code"
   },
   "outputs": [
    {
     "output_type": "execute_result",
     "execution_count": 16,
     "data": {
      "text/plain": "0      1081.533507\n1       215.794305\n2        98.637028\n3       103.285648\n4        49.435619\n          ...     \n328     986.370281\n329     986.370281\n330     358.129403\n331     941.976306\n332      48.132673\nName: estimated_diameter.meters.estimated_diameter_max, Length: 333, dtype: float64"
     },
     "metadata": {}
    }
   ],
   "execution_count": 16
  },
  {
   "cell_type": "markdown",
   "source": "<details><summary>Solución</summary>\n\n```python\nimport pandas as pd\n\ndf = pd.read_csv('../../Datasets/near_earth_objects-jan_feb_1995-clean.csv', index_col=0)\ndiameter_column = 'estimated_diameter.meters.estimated_diameter_max'\ntotal_count = df.shape[0]\nmean = df[diameter_column].mean()\nstd = df[diameter_column].std()\n\nwithin_one_std_filter_bottom = df[diameter_column] >= (mean - std)\nwithin_one_std_filter_top = df[diameter_column] <= (mean + std)\nwithin_one_std = df[within_one_std_filter_bottom & within_one_std_filter_top]\npercentage_of_data_within_one_std = within_one_std.shape[0] * 100 / total_count\n\nwithin_two_std_filter_bottom = df[diameter_column] >= (mean - 2 * std)\nwithin_two_std_filter_top = df[diameter_column] <= (mean + 2 * std)\nwithin_two_std = df[within_two_std_filter_bottom & within_two_std_filter_top]\npercentage_of_data_within_two_std = within_two_std.shape[0] * 100 / total_count\n\nwithin_three_std_filter_bottom = df[diameter_column] >= (mean - 3 * std)\nwithin_three_std_filter_top = df[diameter_column] <= (mean + 3 * std)\nwithin_three_std = df[within_three_std_filter_bottom & within_three_std_filter_top]\npercentage_of_data_within_three_std = within_three_std.shape[0] * 100 / total_count\n```\n    \n</details>",
   "metadata": {
    "cell_id": "00003-9707d987-c22a-41f9-b7c3-9b18298df614",
    "deepnote_cell_type": "markdown"
   }
  },
  {
   "cell_type": "code",
   "metadata": {
    "cell_id": "00004-c066f94e-c5f3-4b77-801b-3407f8ce4d89",
    "deepnote_cell_type": "code"
   },
   "source": "",
   "execution_count": null,
   "outputs": []
  },
  {
   "cell_type": "markdown",
   "source": "<a style='text-decoration:none;line-height:16px;display:flex;color:#5B5B62;padding:10px;justify-content:end;' href='https://deepnote.com?utm_source=created-in-deepnote-cell&projectId=f8149d1c-e6b1-497a-9109-f01641a8231a' target=\"_blank\">\n<img alt='Created in deepnote.com' style='display:inline;max-height:16px;margin:0px;margin-right:7.5px;' src='data:image/svg+xml;base64,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' > </img>\nCreated in <span style='font-weight:600;margin-left:4px;'>Deepnote</span></a>",
   "metadata": {
    "tags": [],
    "created_in_deepnote_cell": true,
    "deepnote_cell_type": "markdown"
   }
  }
 ],
 "nbformat": 4,
 "nbformat_minor": 4,
 "metadata": {
  "kernelspec": {
   "display_name": "Python (data_science)",
   "language": "python",
   "name": "data_science"
  },
  "language_info": {
   "codemirror_mode": {
    "name": "ipython",
    "version": 3
   },
   "file_extension": ".py",
   "mimetype": "text/x-python",
   "name": "python",
   "nbconvert_exporter": "python",
   "pygments_lexer": "ipython3",
   "version": "3.8.5"
  },
  "deepnote_notebook_id": "089714b5-4792-4b5a-a5e8-305a5597bfe5",
  "deepnote": {},
  "deepnote_execution_queue": []
 }
}