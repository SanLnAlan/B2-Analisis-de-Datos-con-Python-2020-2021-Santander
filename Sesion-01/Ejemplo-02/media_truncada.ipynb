{
 "cells": [
  {
   "cell_type": "markdown",
   "source": "## Ejemplo 2: Media Truncada\n\n### 1. Objetivos:\n    - Aprender a estimar la media truncada usando scipy.\n \n---\n    \n### 2. Desarrollo:",
   "metadata": {
    "cell_id": "00000-58b291c5-cb26-4b00-abef-19bb5cc97035",
    "deepnote_cell_type": "markdown"
   }
  },
  {
   "cell_type": "markdown",
   "source": "La media truncada es un estimado de locación más *robusto* que el promedio y la mediana. Esto significa que es menos sensible a valores atípicos. La media truncada se obtiene de la siguiente manera:\n\n1. Primero ordenamos nuestro conjunto de manera ascendente.\n2. Después decidimos qué porcentaje de nuestros datos vamos a truncar. Los valores más comunes suelen variar entre 5% y 25%.\n3. Divide el porcentaje acordado entre dos y elimina esa fracción de tus datos del inicio y del final de tu secuencia. Por ejemplo, si decides truncar un 5%, elimina el 2.5% de tus datos del inicio de tu secuencia y el otro 2.5% del final de tu secuencia.\n4. Obtén el promedio de los valores restantes.\n\nAfortunadamente, no tenemos que hacer esto manualmente. La librería `scipy` ya ofrece un método para obtener la media truncada fácilmente:",
   "metadata": {
    "cell_id": "00001-5a7946e0-2386-425c-bcc7-5678bd1a1abf",
    "deepnote_cell_type": "markdown"
   }
  },
  {
   "cell_type": "code",
   "metadata": {
    "cell_id": "00002-8129ad11-990d-422a-8941-91fad6f5c519",
    "deepnote_to_be_reexecuted": false,
    "source_hash": "8324623b",
    "execution_start": 1629424987324,
    "execution_millis": 792,
    "deepnote_cell_type": "code"
   },
   "source": "from scipy import stats\nimport pandas as pd",
   "execution_count": null,
   "outputs": []
  },
  {
   "cell_type": "code",
   "metadata": {
    "cell_id": "00003-548f7e7e-da07-442c-a608-6b6478c736b2",
    "deepnote_to_be_reexecuted": false,
    "source_hash": "7dbb2dee",
    "execution_start": 1629424990444,
    "execution_millis": 64,
    "deepnote_cell_type": "code"
   },
   "source": "df = pd.read_csv('../../Datasets/melbourne_housing-clean.csv', index_col=0)",
   "execution_count": null,
   "outputs": []
  },
  {
   "cell_type": "code",
   "metadata": {
    "cell_id": "00004-ab6bc6bb-372a-43f6-9f1c-f1da4fe2fdd7",
    "deepnote_to_be_reexecuted": false,
    "source_hash": "c085b6ba",
    "execution_start": 1629424993228,
    "execution_millis": 50,
    "deepnote_cell_type": "code"
   },
   "source": "df.head()",
   "execution_count": null,
   "outputs": [
    {
     "output_type": "execute_result",
     "execution_count": 3,
     "data": {
      "application/vnd.deepnote.dataframe.v2+json": {
       "row_count": 5,
       "column_count": 19,
       "columns": [
        {
         "name": "suburb",
         "dtype": "object",
         "stats": {
          "unique_count": 1,
          "nan_count": 0,
          "categories": [
           {
            "name": "Abbotsford",
            "count": 5
           }
          ]
         }
        },
        {
         "name": "address",
         "dtype": "object",
         "stats": {
          "unique_count": 5,
          "nan_count": 0,
          "categories": [
           {
            "name": "85 Turner St",
            "count": 1
           },
           {
            "name": "25 Bloomburg St",
            "count": 1
           },
           {
            "name": "3 others",
            "count": 3
           }
          ]
         }
        },
        {
         "name": "rooms",
         "dtype": "int64",
         "stats": {
          "unique_count": 3,
          "nan_count": 0,
          "min": "2",
          "max": "4",
          "histogram": [
           {
            "bin_start": 2,
            "bin_end": 2.2,
            "count": 2
           },
           {
            "bin_start": 2.2,
            "bin_end": 2.4,
            "count": 0
           },
           {
            "bin_start": 2.4,
            "bin_end": 2.6,
            "count": 0
           },
           {
            "bin_start": 2.6,
            "bin_end": 2.8,
            "count": 0
           },
           {
            "bin_start": 2.8,
            "bin_end": 3,
            "count": 0
           },
           {
            "bin_start": 3,
            "bin_end": 3.2,
            "count": 2
           },
           {
            "bin_start": 3.2,
            "bin_end": 3.4000000000000004,
            "count": 0
           },
           {
            "bin_start": 3.4000000000000004,
            "bin_end": 3.6,
            "count": 0
           },
           {
            "bin_start": 3.6,
            "bin_end": 3.8,
            "count": 0
           },
           {
            "bin_start": 3.8,
            "bin_end": 4,
            "count": 1
           }
          ]
         }
        },
        {
         "name": "type",
         "dtype": "object",
         "stats": {
          "unique_count": 1,
          "nan_count": 0,
          "categories": [
           {
            "name": "h",
            "count": 5
           }
          ]
         }
        },
        {
         "name": "price",
         "dtype": "float64",
         "stats": {
          "unique_count": 5,
          "nan_count": 0,
          "min": "850000.0",
          "max": "1600000.0",
          "histogram": [
           {
            "bin_start": 850000,
            "bin_end": 925000,
            "count": 1
           },
           {
            "bin_start": 925000,
            "bin_end": 1000000,
            "count": 0
           },
           {
            "bin_start": 1000000,
            "bin_end": 1075000,
            "count": 1
           },
           {
            "bin_start": 1075000,
            "bin_end": 1150000,
            "count": 0
           },
           {
            "bin_start": 1150000,
            "bin_end": 1225000,
            "count": 0
           },
           {
            "bin_start": 1225000,
            "bin_end": 1300000,
            "count": 0
           },
           {
            "bin_start": 1300000,
            "bin_end": 1375000,
            "count": 0
           },
           {
            "bin_start": 1375000,
            "bin_end": 1450000,
            "count": 0
           },
           {
            "bin_start": 1450000,
            "bin_end": 1525000,
            "count": 2
           },
           {
            "bin_start": 1525000,
            "bin_end": 1600000,
            "count": 1
           }
          ]
         }
        },
        {
         "name": "method",
         "dtype": "object",
         "stats": {
          "unique_count": 4,
          "nan_count": 0,
          "categories": [
           {
            "name": "S",
            "count": 2
           },
           {
            "name": "SP",
            "count": 1
           },
           {
            "name": "2 others",
            "count": 2
           }
          ]
         }
        },
        {
         "name": "seller_g",
         "dtype": "object",
         "stats": {
          "unique_count": 2,
          "nan_count": 0,
          "categories": [
           {
            "name": "Biggin",
            "count": 4
           },
           {
            "name": "Nelson",
            "count": 1
           }
          ]
         }
        },
        {
         "name": "date",
         "dtype": "object",
         "stats": {
          "unique_count": 4,
          "nan_count": 0,
          "categories": [
           {
            "name": "4/03/2017",
            "count": 2
           },
           {
            "name": "3/12/2016",
            "count": 1
           },
           {
            "name": "2 others",
            "count": 2
           }
          ]
         }
        },
        {
         "name": "distance",
         "dtype": "float64",
         "stats": {
          "unique_count": 1,
          "nan_count": 0,
          "min": "2.5",
          "max": "2.5",
          "histogram": [
           {
            "bin_start": 2,
            "bin_end": 2.1,
            "count": 0
           },
           {
            "bin_start": 2.1,
            "bin_end": 2.2,
            "count": 0
           },
           {
            "bin_start": 2.2,
            "bin_end": 2.3,
            "count": 0
           },
           {
            "bin_start": 2.3,
            "bin_end": 2.4,
            "count": 0
           },
           {
            "bin_start": 2.4,
            "bin_end": 2.5,
            "count": 0
           },
           {
            "bin_start": 2.5,
            "bin_end": 2.6,
            "count": 5
           },
           {
            "bin_start": 2.6,
            "bin_end": 2.7,
            "count": 0
           },
           {
            "bin_start": 2.7,
            "bin_end": 2.8,
            "count": 0
           },
           {
            "bin_start": 2.8,
            "bin_end": 2.9,
            "count": 0
           },
           {
            "bin_start": 2.9,
            "bin_end": 3,
            "count": 0
           }
          ]
         }
        },
        {
         "name": "postcode",
         "dtype": "float64",
         "stats": {
          "unique_count": 1,
          "nan_count": 0,
          "min": "3067.0",
          "max": "3067.0",
          "histogram": [
           {
            "bin_start": 3066.5,
            "bin_end": 3066.6,
            "count": 0
           },
           {
            "bin_start": 3066.6,
            "bin_end": 3066.7,
            "count": 0
           },
           {
            "bin_start": 3066.7,
            "bin_end": 3066.8,
            "count": 0
           },
           {
            "bin_start": 3066.8,
            "bin_end": 3066.9,
            "count": 0
           },
           {
            "bin_start": 3066.9,
            "bin_end": 3067,
            "count": 0
           },
           {
            "bin_start": 3067,
            "bin_end": 3067.1,
            "count": 5
           },
           {
            "bin_start": 3067.1,
            "bin_end": 3067.2,
            "count": 0
           },
           {
            "bin_start": 3067.2,
            "bin_end": 3067.3,
            "count": 0
           },
           {
            "bin_start": 3067.3,
            "bin_end": 3067.4,
            "count": 0
           },
           {
            "bin_start": 3067.4,
            "bin_end": 3067.5,
            "count": 0
           }
          ]
         }
        },
        {
         "name": "bedroom_2",
         "dtype": "float64",
         "stats": {
          "unique_count": 2,
          "nan_count": 0,
          "min": "2.0",
          "max": "3.0",
          "histogram": [
           {
            "bin_start": 2,
            "bin_end": 2.1,
            "count": 2
           },
           {
            "bin_start": 2.1,
            "bin_end": 2.2,
            "count": 0
           },
           {
            "bin_start": 2.2,
            "bin_end": 2.3,
            "count": 0
           },
           {
            "bin_start": 2.3,
            "bin_end": 2.4,
            "count": 0
           },
           {
            "bin_start": 2.4,
            "bin_end": 2.5,
            "count": 0
           },
           {
            "bin_start": 2.5,
            "bin_end": 2.6,
            "count": 0
           },
           {
            "bin_start": 2.6,
            "bin_end": 2.7,
            "count": 0
           },
           {
            "bin_start": 2.7,
            "bin_end": 2.8,
            "count": 0
           },
           {
            "bin_start": 2.8,
            "bin_end": 2.9,
            "count": 0
           },
           {
            "bin_start": 2.9,
            "bin_end": 3,
            "count": 3
           }
          ]
         }
        },
        {
         "name": "bathroom",
         "dtype": "float64",
         "stats": {
          "unique_count": 2,
          "nan_count": 0,
          "min": "1.0",
          "max": "2.0",
          "histogram": [
           {
            "bin_start": 1,
            "bin_end": 1.1,
            "count": 3
           },
           {
            "bin_start": 1.1,
            "bin_end": 1.2,
            "count": 0
           },
           {
            "bin_start": 1.2,
            "bin_end": 1.3,
            "count": 0
           },
           {
            "bin_start": 1.3,
            "bin_end": 1.4,
            "count": 0
           },
           {
            "bin_start": 1.4,
            "bin_end": 1.5,
            "count": 0
           },
           {
            "bin_start": 1.5,
            "bin_end": 1.6,
            "count": 0
           },
           {
            "bin_start": 1.6,
            "bin_end": 1.7000000000000002,
            "count": 0
           },
           {
            "bin_start": 1.7000000000000002,
            "bin_end": 1.8,
            "count": 0
           },
           {
            "bin_start": 1.8,
            "bin_end": 1.9,
            "count": 0
           },
           {
            "bin_start": 1.9,
            "bin_end": 2,
            "count": 2
           }
          ]
         }
        },
        {
         "name": "car",
         "dtype": "float64",
         "stats": {
          "unique_count": 3,
          "nan_count": 0,
          "min": "0.0",
          "max": "2.0",
          "histogram": [
           {
            "bin_start": 0,
            "bin_end": 0.2,
            "count": 2
           },
           {
            "bin_start": 0.2,
            "bin_end": 0.4,
            "count": 0
           },
           {
            "bin_start": 0.4,
            "bin_end": 0.6000000000000001,
            "count": 0
           },
           {
            "bin_start": 0.6000000000000001,
            "bin_end": 0.8,
            "count": 0
           },
           {
            "bin_start": 0.8,
            "bin_end": 1,
            "count": 0
           },
           {
            "bin_start": 1,
            "bin_end": 1.2000000000000002,
            "count": 2
           },
           {
            "bin_start": 1.2000000000000002,
            "bin_end": 1.4000000000000001,
            "count": 0
           },
           {
            "bin_start": 1.4000000000000001,
            "bin_end": 1.6,
            "count": 0
           },
           {
            "bin_start": 1.6,
            "bin_end": 1.8,
            "count": 0
           },
           {
            "bin_start": 1.8,
            "bin_end": 2,
            "count": 1
           }
          ]
         }
        },
        {
         "name": "land_size",
         "dtype": "float64",
         "stats": {
          "unique_count": 5,
          "nan_count": 0,
          "min": "94.0",
          "max": "202.0",
          "histogram": [
           {
            "bin_start": 94,
            "bin_end": 104.8,
            "count": 1
           },
           {
            "bin_start": 104.8,
            "bin_end": 115.6,
            "count": 0
           },
           {
            "bin_start": 115.6,
            "bin_end": 126.4,
            "count": 1
           },
           {
            "bin_start": 126.4,
            "bin_end": 137.2,
            "count": 1
           },
           {
            "bin_start": 137.2,
            "bin_end": 148,
            "count": 0
           },
           {
            "bin_start": 148,
            "bin_end": 158.8,
            "count": 1
           },
           {
            "bin_start": 158.8,
            "bin_end": 169.60000000000002,
            "count": 0
           },
           {
            "bin_start": 169.60000000000002,
            "bin_end": 180.4,
            "count": 0
           },
           {
            "bin_start": 180.4,
            "bin_end": 191.2,
            "count": 0
           },
           {
            "bin_start": 191.2,
            "bin_end": 202,
            "count": 1
           }
          ]
         }
        },
        {
         "name": "council_area",
         "dtype": "object",
         "stats": {
          "unique_count": 1,
          "nan_count": 0,
          "categories": [
           {
            "name": "Yarra",
            "count": 5
           }
          ]
         }
        },
        {
         "name": "latitude",
         "dtype": "float64",
         "stats": {
          "unique_count": 5,
          "nan_count": 0,
          "min": "-37.8093",
          "max": "-37.7969",
          "histogram": [
           {
            "bin_start": -37.8093,
            "bin_end": -37.80806,
            "count": 1
           },
           {
            "bin_start": -37.80806,
            "bin_end": -37.80682,
            "count": 2
           },
           {
            "bin_start": -37.80682,
            "bin_end": -37.80558,
            "count": 0
           },
           {
            "bin_start": -37.80558,
            "bin_end": -37.80434,
            "count": 0
           },
           {
            "bin_start": -37.80434,
            "bin_end": -37.8031,
            "count": 0
           },
           {
            "bin_start": -37.8031,
            "bin_end": -37.80186,
            "count": 0
           },
           {
            "bin_start": -37.80186,
            "bin_end": -37.80062,
            "count": 0
           },
           {
            "bin_start": -37.80062,
            "bin_end": -37.79938,
            "count": 1
           },
           {
            "bin_start": -37.79938,
            "bin_end": -37.798140000000004,
            "count": 0
           },
           {
            "bin_start": -37.798140000000004,
            "bin_end": -37.7969,
            "count": 1
           }
          ]
         }
        },
        {
         "name": "longitude",
         "dtype": "float64",
         "stats": {
          "unique_count": 5,
          "nan_count": 0,
          "min": "144.9934",
          "max": "144.9984",
          "histogram": [
           {
            "bin_start": 144.9934,
            "bin_end": 144.9939,
            "count": 1
           },
           {
            "bin_start": 144.9939,
            "bin_end": 144.9944,
            "count": 1
           },
           {
            "bin_start": 144.9944,
            "bin_end": 144.9949,
            "count": 1
           },
           {
            "bin_start": 144.9949,
            "bin_end": 144.99540000000002,
            "count": 0
           },
           {
            "bin_start": 144.99540000000002,
            "bin_end": 144.9959,
            "count": 0
           },
           {
            "bin_start": 144.9959,
            "bin_end": 144.9964,
            "count": 0
           },
           {
            "bin_start": 144.9964,
            "bin_end": 144.9969,
            "count": 0
           },
           {
            "bin_start": 144.9969,
            "bin_end": 144.9974,
            "count": 1
           },
           {
            "bin_start": 144.9974,
            "bin_end": 144.99790000000002,
            "count": 0
           },
           {
            "bin_start": 144.99790000000002,
            "bin_end": 144.9984,
            "count": 1
           }
          ]
         }
        },
        {
         "name": "region_name",
         "dtype": "object",
         "stats": {
          "unique_count": 1,
          "nan_count": 0,
          "categories": [
           {
            "name": "Northern Metropolitan",
            "count": 5
           }
          ]
         }
        },
        {
         "name": "property_count",
         "dtype": "float64",
         "stats": {
          "unique_count": 1,
          "nan_count": 0,
          "min": "4019.0",
          "max": "4019.0",
          "histogram": [
           {
            "bin_start": 4018.5,
            "bin_end": 4018.6,
            "count": 0
           },
           {
            "bin_start": 4018.6,
            "bin_end": 4018.7,
            "count": 0
           },
           {
            "bin_start": 4018.7,
            "bin_end": 4018.8,
            "count": 0
           },
           {
            "bin_start": 4018.8,
            "bin_end": 4018.9,
            "count": 0
           },
           {
            "bin_start": 4018.9,
            "bin_end": 4019,
            "count": 0
           },
           {
            "bin_start": 4019,
            "bin_end": 4019.1,
            "count": 5
           },
           {
            "bin_start": 4019.1,
            "bin_end": 4019.2,
            "count": 0
           },
           {
            "bin_start": 4019.2,
            "bin_end": 4019.3,
            "count": 0
           },
           {
            "bin_start": 4019.3,
            "bin_end": 4019.4,
            "count": 0
           },
           {
            "bin_start": 4019.4,
            "bin_end": 4019.5,
            "count": 0
           }
          ]
         }
        },
        {
         "name": "_deepnote_index_column",
         "dtype": "int64"
        }
       ],
       "rows_top": [
        {
         "suburb": "Abbotsford",
         "address": "85 Turner St",
         "rooms": 2,
         "type": "h",
         "price": 1480000,
         "method": "S",
         "seller_g": "Biggin",
         "date": "3/12/2016",
         "distance": 2.5,
         "postcode": 3067,
         "bedroom_2": 2,
         "bathroom": 1,
         "car": 1,
         "land_size": 202,
         "council_area": "Yarra",
         "latitude": -37.7996,
         "longitude": 144.9984,
         "region_name": "Northern Metropolitan",
         "property_count": 4019,
         "_deepnote_index_column": 0
        },
        {
         "suburb": "Abbotsford",
         "address": "25 Bloomburg St",
         "rooms": 2,
         "type": "h",
         "price": 1035000,
         "method": "S",
         "seller_g": "Biggin",
         "date": "4/02/2016",
         "distance": 2.5,
         "postcode": 3067,
         "bedroom_2": 2,
         "bathroom": 1,
         "car": 0,
         "land_size": 156,
         "council_area": "Yarra",
         "latitude": -37.8079,
         "longitude": 144.9934,
         "region_name": "Northern Metropolitan",
         "property_count": 4019,
         "_deepnote_index_column": 1
        },
        {
         "suburb": "Abbotsford",
         "address": "5 Charles St",
         "rooms": 3,
         "type": "h",
         "price": 1465000,
         "method": "SP",
         "seller_g": "Biggin",
         "date": "4/03/2017",
         "distance": 2.5,
         "postcode": 3067,
         "bedroom_2": 3,
         "bathroom": 2,
         "car": 0,
         "land_size": 134,
         "council_area": "Yarra",
         "latitude": -37.8093,
         "longitude": 144.9944,
         "region_name": "Northern Metropolitan",
         "property_count": 4019,
         "_deepnote_index_column": 2
        },
        {
         "suburb": "Abbotsford",
         "address": "40 Federation La",
         "rooms": 3,
         "type": "h",
         "price": 850000,
         "method": "PI",
         "seller_g": "Biggin",
         "date": "4/03/2017",
         "distance": 2.5,
         "postcode": 3067,
         "bedroom_2": 3,
         "bathroom": 2,
         "car": 1,
         "land_size": 94,
         "council_area": "Yarra",
         "latitude": -37.7969,
         "longitude": 144.9969,
         "region_name": "Northern Metropolitan",
         "property_count": 4019,
         "_deepnote_index_column": 3
        },
        {
         "suburb": "Abbotsford",
         "address": "55a Park St",
         "rooms": 4,
         "type": "h",
         "price": 1600000,
         "method": "VB",
         "seller_g": "Nelson",
         "date": "4/06/2016",
         "distance": 2.5,
         "postcode": 3067,
         "bedroom_2": 3,
         "bathroom": 1,
         "car": 2,
         "land_size": 120,
         "council_area": "Yarra",
         "latitude": -37.8072,
         "longitude": 144.9941,
         "region_name": "Northern Metropolitan",
         "property_count": 4019,
         "_deepnote_index_column": 4
        }
       ],
       "rows_bottom": null
      },
      "text/plain": "       suburb           address  rooms type      price method seller_g  \\\n0  Abbotsford      85 Turner St      2    h  1480000.0      S   Biggin   \n1  Abbotsford   25 Bloomburg St      2    h  1035000.0      S   Biggin   \n2  Abbotsford      5 Charles St      3    h  1465000.0     SP   Biggin   \n3  Abbotsford  40 Federation La      3    h   850000.0     PI   Biggin   \n4  Abbotsford       55a Park St      4    h  1600000.0     VB   Nelson   \n\n        date  distance  postcode  bedroom_2  bathroom  car  land_size  \\\n0  3/12/2016       2.5    3067.0        2.0       1.0  1.0      202.0   \n1  4/02/2016       2.5    3067.0        2.0       1.0  0.0      156.0   \n2  4/03/2017       2.5    3067.0        3.0       2.0  0.0      134.0   \n3  4/03/2017       2.5    3067.0        3.0       2.0  1.0       94.0   \n4  4/06/2016       2.5    3067.0        3.0       1.0  2.0      120.0   \n\n  council_area  latitude  longitude            region_name  property_count  \n0        Yarra  -37.7996   144.9984  Northern Metropolitan          4019.0  \n1        Yarra  -37.8079   144.9934  Northern Metropolitan          4019.0  \n2        Yarra  -37.8093   144.9944  Northern Metropolitan          4019.0  \n3        Yarra  -37.7969   144.9969  Northern Metropolitan          4019.0  \n4        Yarra  -37.8072   144.9941  Northern Metropolitan          4019.0  ",
      "text/html": "<div>\n<style scoped>\n    .dataframe tbody tr th:only-of-type {\n        vertical-align: middle;\n    }\n\n    .dataframe tbody tr th {\n        vertical-align: top;\n    }\n\n    .dataframe thead th {\n        text-align: right;\n    }\n</style>\n<table border=\"1\" class=\"dataframe\">\n  <thead>\n    <tr style=\"text-align: right;\">\n      <th></th>\n      <th>suburb</th>\n      <th>address</th>\n      <th>rooms</th>\n      <th>type</th>\n      <th>price</th>\n      <th>method</th>\n      <th>seller_g</th>\n      <th>date</th>\n      <th>distance</th>\n      <th>postcode</th>\n      <th>bedroom_2</th>\n      <th>bathroom</th>\n      <th>car</th>\n      <th>land_size</th>\n      <th>council_area</th>\n      <th>latitude</th>\n      <th>longitude</th>\n      <th>region_name</th>\n      <th>property_count</th>\n    </tr>\n  </thead>\n  <tbody>\n    <tr>\n      <th>0</th>\n      <td>Abbotsford</td>\n      <td>85 Turner St</td>\n      <td>2</td>\n      <td>h</td>\n      <td>1480000.0</td>\n      <td>S</td>\n      <td>Biggin</td>\n      <td>3/12/2016</td>\n      <td>2.5</td>\n      <td>3067.0</td>\n      <td>2.0</td>\n      <td>1.0</td>\n      <td>1.0</td>\n      <td>202.0</td>\n      <td>Yarra</td>\n      <td>-37.7996</td>\n      <td>144.9984</td>\n      <td>Northern Metropolitan</td>\n      <td>4019.0</td>\n    </tr>\n    <tr>\n      <th>1</th>\n      <td>Abbotsford</td>\n      <td>25 Bloomburg St</td>\n      <td>2</td>\n      <td>h</td>\n      <td>1035000.0</td>\n      <td>S</td>\n      <td>Biggin</td>\n      <td>4/02/2016</td>\n      <td>2.5</td>\n      <td>3067.0</td>\n      <td>2.0</td>\n      <td>1.0</td>\n      <td>0.0</td>\n      <td>156.0</td>\n      <td>Yarra</td>\n      <td>-37.8079</td>\n      <td>144.9934</td>\n      <td>Northern Metropolitan</td>\n      <td>4019.0</td>\n    </tr>\n    <tr>\n      <th>2</th>\n      <td>Abbotsford</td>\n      <td>5 Charles St</td>\n      <td>3</td>\n      <td>h</td>\n      <td>1465000.0</td>\n      <td>SP</td>\n      <td>Biggin</td>\n      <td>4/03/2017</td>\n      <td>2.5</td>\n      <td>3067.0</td>\n      <td>3.0</td>\n      <td>2.0</td>\n      <td>0.0</td>\n      <td>134.0</td>\n      <td>Yarra</td>\n      <td>-37.8093</td>\n      <td>144.9944</td>\n      <td>Northern Metropolitan</td>\n      <td>4019.0</td>\n    </tr>\n    <tr>\n      <th>3</th>\n      <td>Abbotsford</td>\n      <td>40 Federation La</td>\n      <td>3</td>\n      <td>h</td>\n      <td>850000.0</td>\n      <td>PI</td>\n      <td>Biggin</td>\n      <td>4/03/2017</td>\n      <td>2.5</td>\n      <td>3067.0</td>\n      <td>3.0</td>\n      <td>2.0</td>\n      <td>1.0</td>\n      <td>94.0</td>\n      <td>Yarra</td>\n      <td>-37.7969</td>\n      <td>144.9969</td>\n      <td>Northern Metropolitan</td>\n      <td>4019.0</td>\n    </tr>\n    <tr>\n      <th>4</th>\n      <td>Abbotsford</td>\n      <td>55a Park St</td>\n      <td>4</td>\n      <td>h</td>\n      <td>1600000.0</td>\n      <td>VB</td>\n      <td>Nelson</td>\n      <td>4/06/2016</td>\n      <td>2.5</td>\n      <td>3067.0</td>\n      <td>3.0</td>\n      <td>1.0</td>\n      <td>2.0</td>\n      <td>120.0</td>\n      <td>Yarra</td>\n      <td>-37.8072</td>\n      <td>144.9941</td>\n      <td>Northern Metropolitan</td>\n      <td>4019.0</td>\n    </tr>\n  </tbody>\n</table>\n</div>"
     },
     "metadata": {}
    }
   ]
  },
  {
   "cell_type": "code",
   "metadata": {
    "cell_id": "00005-4185e70e-c686-47bb-9531-65bea267c4db",
    "deepnote_cell_type": "code"
   },
   "source": "stats.trim_mean(df['price'], 0.1)",
   "execution_count": null,
   "outputs": [
    {
     "data": {
      "text/plain": "973653.7960935823"
     },
     "execution_count": 18,
     "metadata": {},
     "output_type": "execute_result"
    }
   ]
  },
  {
   "cell_type": "markdown",
   "source": "Si obtenemos el promedio y la mediana podemos observar que la distancia entre la media truncada y la mediana es menor que la distancia entre el promedio y la mediana. Esto podría ser indicador de que tenemos valores atípicos en nuestro conjunto. Ya aprendemos después cómo determinar si esto es cierto o no.",
   "metadata": {
    "cell_id": "00006-c873150d-eeb4-4eee-9f8f-3786a81d7132",
    "deepnote_cell_type": "markdown"
   }
  },
  {
   "cell_type": "code",
   "metadata": {
    "cell_id": "00007-899ea03c-c7ba-4ff1-af16-868db833fa1e",
    "deepnote_cell_type": "code"
   },
   "source": "df['price'].mean()",
   "execution_count": null,
   "outputs": [
    {
     "data": {
      "text/plain": "1068141.895071269"
     },
     "execution_count": 13,
     "metadata": {},
     "output_type": "execute_result"
    }
   ]
  },
  {
   "cell_type": "code",
   "metadata": {
    "cell_id": "00008-8be32373-f613-42da-9922-40b83beddd49",
    "deepnote_cell_type": "code"
   },
   "source": "df['price'].median()",
   "execution_count": null,
   "outputs": [
    {
     "data": {
      "text/plain": "895500.0"
     },
     "execution_count": 10,
     "metadata": {},
     "output_type": "execute_result"
    }
   ]
  },
  {
   "cell_type": "markdown",
   "source": "<a style='text-decoration:none;line-height:16px;display:flex;color:#5B5B62;padding:10px;justify-content:end;' href='https://deepnote.com?utm_source=created-in-deepnote-cell&projectId=f8149d1c-e6b1-497a-9109-f01641a8231a' target=\"_blank\">\n<img alt='Created in deepnote.com' style='display:inline;max-height:16px;margin:0px;margin-right:7.5px;' src='data:image/svg+xml;base64,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' > </img>\nCreated in <span style='font-weight:600;margin-left:4px;'>Deepnote</span></a>",
   "metadata": {
    "tags": [],
    "created_in_deepnote_cell": true,
    "deepnote_cell_type": "markdown"
   }
  }
 ],
 "nbformat": 4,
 "nbformat_minor": 4,
 "metadata": {
  "kernelspec": {
   "display_name": "Python (data_science)",
   "language": "python",
   "name": "data_science"
  },
  "language_info": {
   "codemirror_mode": {
    "name": "ipython",
    "version": 3
   },
   "file_extension": ".py",
   "mimetype": "text/x-python",
   "name": "python",
   "nbconvert_exporter": "python",
   "pygments_lexer": "ipython3",
   "version": "3.8.1"
  },
  "deepnote_notebook_id": "b4c9ec15-70ea-4ef0-ac2b-29a7d1cc4077",
  "deepnote": {},
  "deepnote_execution_queue": []
 }
}