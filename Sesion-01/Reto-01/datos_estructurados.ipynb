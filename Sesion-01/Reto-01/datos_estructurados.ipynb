{
 "cells": [
  {
   "cell_type": "markdown",
   "source": "## Reto 1: Datos estructurados\n\n### 1. Objetivos:\n    - Aprender a diferenciar los diferentes tipos de datos estructurados que existen.\n \n---\n    \n### 2. Desarrollo:",
   "metadata": {
    "cell_id": "00000-22844e21-a376-4e6a-aa8e-e75c735c53c1",
    "deepnote_cell_type": "markdown"
   }
  },
  {
   "cell_type": "code",
   "metadata": {
    "cell_id": "00001-1c891720-8d52-4ad8-9622-616e86cb8072",
    "deepnote_to_be_reexecuted": false,
    "source_hash": "9b82ee11",
    "execution_start": 1629422756001,
    "execution_millis": 80085455,
    "deepnote_cell_type": "code"
   },
   "source": "import pandas as pd",
   "outputs": [],
   "execution_count": null
  },
  {
   "cell_type": "markdown",
   "source": "### a) Identificando datos estructurados\n\nA continuación verás varias muestras de datos y sus descripciones. Asígnales una de las categorías de datos estructurados que acabas de aprender. Después, comparte tus hipótesis con la experta y con tus compañeros.\n\nEs muy importante saber identificar tipos de datos estructurados, porque las técnicas y estrategias que aprenderás durante este módulo suelen estar dirigidas hacia un tipo de dato específico. La elección de las mejores herramientas viene después de entender a qué tipo de dato nos estamos enfrentando.",
   "metadata": {
    "cell_id": "00002-7b40707b-3c80-4db2-8e10-f719a0fd18e0",
    "deepnote_cell_type": "markdown"
   }
  },
  {
   "cell_type": "markdown",
   "source": "#### - Muestra 1: Extraída de un conjunto de datos que contiene edades de personas",
   "metadata": {
    "cell_id": "00003-5323e052-c08e-4a3d-9c47-e85d2f5484f2",
    "deepnote_cell_type": "markdown"
   }
  },
  {
   "cell_type": "code",
   "metadata": {
    "cell_id": "00004-578ea8ba-6088-46cc-b3c6-a4752fbe1731",
    "deepnote_cell_type": "code"
   },
   "source": "edades = pd.Series([23, 34, 4, 45, 52, 59, 23, 48, 50, 49, 3, 4, 6, 8, 79, 6, 40, 17, 34, 4, 67, 97, 87, 65, 24, 4, 46])",
   "execution_count": null,
   "outputs": []
  },
  {
   "cell_type": "markdown",
   "source": "¿Qué tipo de dato estructurado tenemos en la serie `edades`?",
   "metadata": {
    "cell_id": "00005-b003d6e4-3451-47b9-b6d7-cc4e92c7b8db",
    "deepnote_cell_type": "markdown"
   }
  },
  {
   "cell_type": "markdown",
   "source": "#### - Muestra 2: Extraída de un conjunto de datos que contiene evaluaciones de restaurantes hechas por usuarios de una app",
   "metadata": {
    "cell_id": "00006-a8d142cf-88b4-45bf-8a8f-883dd1f90bb6",
    "deepnote_cell_type": "markdown"
   }
  },
  {
   "cell_type": "code",
   "metadata": {
    "cell_id": "00007-8df62baa-43c3-42af-867e-6b8ce01c6053",
    "deepnote_cell_type": "code"
   },
   "source": "evaluaciones = pd.Series([1, 4, 2, 2, 3, 5, 4, 4, 4, 5, 1, 2, 2, 3, 5, 2, 4, 3, 3, 1, 5, 5, 2, 4, 3, 3, 4, 4, 5, 1, 2])",
   "execution_count": null,
   "outputs": []
  },
  {
   "cell_type": "markdown",
   "source": "¿Qué tipo de dato estructurado tenemos en la serie `evaluaciones`?",
   "metadata": {
    "cell_id": "00008-9c4a090e-fd61-45d9-b29a-eac264518cc0",
    "deepnote_cell_type": "markdown"
   }
  },
  {
   "cell_type": "markdown",
   "source": "#### - Muestra 3: Extraída de un conjunto de datos que contiene códigos de respuesta HTTP obtenidos al realizar llamadas constantes a una API",
   "metadata": {
    "cell_id": "00009-03d55b7c-3c62-448a-9fcc-ba237117ec05",
    "deepnote_cell_type": "markdown"
   }
  },
  {
   "cell_type": "code",
   "metadata": {
    "cell_id": "00010-0aa00f6d-ebad-42f0-b151-a940dcf2419c",
    "deepnote_cell_type": "code"
   },
   "source": "codigos = pd.Series([400, 400, 200, 200, 201, 200, 201, 400, 201, 404, 400, 200, 200, 201, 200, 201, 201, 500, 400, 200])",
   "execution_count": null,
   "outputs": []
  },
  {
   "cell_type": "markdown",
   "source": "¿Qué tipo de dato estructurado tenemos en la serie `codigos`?",
   "metadata": {
    "cell_id": "00011-9f3cb74f-2d15-4dee-af2d-79b3eda2cf95",
    "deepnote_cell_type": "markdown"
   }
  },
  {
   "cell_type": "markdown",
   "source": "#### - Muestra 4: Extraída de un conjunto de datos que contiene mediciones precisas de temperaturas ambientales hechas durante un verano de la CDMX",
   "metadata": {
    "cell_id": "00012-8e476269-7159-4333-812b-ab1ecf47d92a",
    "deepnote_cell_type": "markdown"
   }
  },
  {
   "cell_type": "code",
   "metadata": {
    "cell_id": "00013-e2b8f2c6-82dd-40d8-a2d3-52f285790bc0",
    "deepnote_cell_type": "code"
   },
   "source": "temperaturas = pd.Series([22.45, 21.34, 20.23, 20.34, 25.54, 24.34, 18.23, 19.35, 18.24, 25.5, 24.33, 20.19, 21.45, 22.45])",
   "execution_count": null,
   "outputs": []
  },
  {
   "cell_type": "markdown",
   "source": "¿Qué tipo de dato estructurado tenemos en la serie `temperaturas`?",
   "metadata": {
    "cell_id": "00014-8193a89a-4369-48b6-a176-784c7bcd2434",
    "deepnote_cell_type": "markdown"
   }
  },
  {
   "cell_type": "markdown",
   "source": "#### - Muestra 5: Extraída de un conjunto de datos que contiene resultados de una encuesta cuyas únicas posibles respuestas eran \"sí\" y \"no\"",
   "metadata": {
    "cell_id": "00015-525ea4d2-918c-4108-9a19-d1472a056b5e",
    "deepnote_cell_type": "markdown"
   }
  },
  {
   "cell_type": "code",
   "metadata": {
    "cell_id": "00016-285982e9-b3b7-4e81-8ad5-2306f3c5cfd3",
    "deepnote_cell_type": "code"
   },
   "source": "encuesta = pd.Series([0, 0, 1, 1, 1, 0, 1, 0, 0, 0, 1, 1, 1, 0, 0, 0, 1, 0, 1, 1, 1, 1, 0, 0, 0, 1, 0, 1, 0, 1, 0, 0])",
   "execution_count": null,
   "outputs": []
  },
  {
   "cell_type": "markdown",
   "source": "¿Qué tipo de dato estructurado tenemos en la serie `encuesta`?",
   "metadata": {
    "cell_id": "00017-3c24d489-922e-43c1-ab6d-25e643a51022",
    "deepnote_cell_type": "markdown"
   }
  },
  {
   "cell_type": "markdown",
   "source": "<a style='text-decoration:none;line-height:16px;display:flex;color:#5B5B62;padding:10px;justify-content:end;' href='https://deepnote.com?utm_source=created-in-deepnote-cell&projectId=f8149d1c-e6b1-497a-9109-f01641a8231a' target=\"_blank\">\n<img alt='Created in deepnote.com' style='display:inline;max-height:16px;margin:0px;margin-right:7.5px;' src='data:image/svg+xml;base64,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' > </img>\nCreated in <span style='font-weight:600;margin-left:4px;'>Deepnote</span></a>",
   "metadata": {
    "tags": [],
    "created_in_deepnote_cell": true,
    "deepnote_cell_type": "markdown"
   }
  }
 ],
 "nbformat": 4,
 "nbformat_minor": 4,
 "metadata": {
  "kernelspec": {
   "display_name": "Python (data_science)",
   "language": "python",
   "name": "data_science"
  },
  "language_info": {
   "codemirror_mode": {
    "name": "ipython",
    "version": 3
   },
   "file_extension": ".py",
   "mimetype": "text/x-python",
   "name": "python",
   "nbconvert_exporter": "python",
   "pygments_lexer": "ipython3",
   "version": "3.8.5"
  },
  "deepnote_notebook_id": "ecb3b9ca-67fd-4bf6-9cc9-e81019ada87e",
  "deepnote": {},
  "deepnote_execution_queue": []
 }
}