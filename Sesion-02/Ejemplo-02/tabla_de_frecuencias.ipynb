{
 "cells": [
  {
   "cell_type": "markdown",
   "source": "## Ejemplo 2: Tabla de frecuencias\n\n### 1. Objetivos:\n    - Aprender a generar una tabla de frecuencias usando pd.cut\n \n---\n    \n### 2. Desarrollo:",
   "metadata": {
    "cell_id": "00000-ee78c0dd-6290-4fdc-ab7c-9287c6993334",
    "deepnote_cell_type": "markdown"
   }
  },
  {
   "cell_type": "markdown",
   "source": "Como ya dijimos, las tablas de frecuencias dividen nuestro conjunto en segmentos de igual tamaño que contiene un número variable de muestras.\n\nPara generar una tabla de frecuencias, lo primero que hay que hacer es decidir en cuántos segmentos vamos a dividir nuestros datos.",
   "metadata": {
    "cell_id": "00001-f545a29c-3715-48cd-903a-1d39e60111df",
    "deepnote_cell_type": "markdown"
   }
  },
  {
   "cell_type": "code",
   "metadata": {
    "cell_id": "00002-7714351b-2f61-43ac-a22d-7e539f9b98a0",
    "deepnote_to_be_reexecuted": false,
    "source_hash": "9b82ee11",
    "execution_start": 1630028304443,
    "execution_millis": 0,
    "deepnote_cell_type": "code"
   },
   "source": "import pandas as pd",
   "outputs": [],
   "execution_count": null
  },
  {
   "cell_type": "code",
   "metadata": {
    "cell_id": "00003-89a59d2f-d036-497a-a552-80a4aabe2219",
    "deepnote_to_be_reexecuted": false,
    "source_hash": "20a96ace",
    "execution_start": 1630028306309,
    "execution_millis": 108,
    "deepnote_cell_type": "code"
   },
   "source": "df = pd.read_csv('../../Datasets/melbourne_housing-clean.csv', index_col=0)\ndf.head()",
   "outputs": [
    {
     "output_type": "execute_result",
     "execution_count": 5,
     "data": {
      "application/vnd.deepnote.dataframe.v2+json": {
       "row_count": 5,
       "column_count": 19,
       "columns": [
        {
         "name": "suburb",
         "dtype": "object",
         "stats": {
          "unique_count": 1,
          "nan_count": 0,
          "categories": [
           {
            "name": "Abbotsford",
            "count": 5
           }
          ]
         }
        },
        {
         "name": "address",
         "dtype": "object",
         "stats": {
          "unique_count": 5,
          "nan_count": 0,
          "categories": [
           {
            "name": "85 Turner St",
            "count": 1
           },
           {
            "name": "25 Bloomburg St",
            "count": 1
           },
           {
            "name": "3 others",
            "count": 3
           }
          ]
         }
        },
        {
         "name": "rooms",
         "dtype": "int64",
         "stats": {
          "unique_count": 3,
          "nan_count": 0,
          "min": "2",
          "max": "4",
          "histogram": [
           {
            "bin_start": 2,
            "bin_end": 2.2,
            "count": 2
           },
           {
            "bin_start": 2.2,
            "bin_end": 2.4,
            "count": 0
           },
           {
            "bin_start": 2.4,
            "bin_end": 2.6,
            "count": 0
           },
           {
            "bin_start": 2.6,
            "bin_end": 2.8,
            "count": 0
           },
           {
            "bin_start": 2.8,
            "bin_end": 3,
            "count": 0
           },
           {
            "bin_start": 3,
            "bin_end": 3.2,
            "count": 2
           },
           {
            "bin_start": 3.2,
            "bin_end": 3.4000000000000004,
            "count": 0
           },
           {
            "bin_start": 3.4000000000000004,
            "bin_end": 3.6,
            "count": 0
           },
           {
            "bin_start": 3.6,
            "bin_end": 3.8,
            "count": 0
           },
           {
            "bin_start": 3.8,
            "bin_end": 4,
            "count": 1
           }
          ]
         }
        },
        {
         "name": "type",
         "dtype": "object",
         "stats": {
          "unique_count": 1,
          "nan_count": 0,
          "categories": [
           {
            "name": "h",
            "count": 5
           }
          ]
         }
        },
        {
         "name": "price",
         "dtype": "float64",
         "stats": {
          "unique_count": 5,
          "nan_count": 0,
          "min": "850000.0",
          "max": "1600000.0",
          "histogram": [
           {
            "bin_start": 850000,
            "bin_end": 925000,
            "count": 1
           },
           {
            "bin_start": 925000,
            "bin_end": 1000000,
            "count": 0
           },
           {
            "bin_start": 1000000,
            "bin_end": 1075000,
            "count": 1
           },
           {
            "bin_start": 1075000,
            "bin_end": 1150000,
            "count": 0
           },
           {
            "bin_start": 1150000,
            "bin_end": 1225000,
            "count": 0
           },
           {
            "bin_start": 1225000,
            "bin_end": 1300000,
            "count": 0
           },
           {
            "bin_start": 1300000,
            "bin_end": 1375000,
            "count": 0
           },
           {
            "bin_start": 1375000,
            "bin_end": 1450000,
            "count": 0
           },
           {
            "bin_start": 1450000,
            "bin_end": 1525000,
            "count": 2
           },
           {
            "bin_start": 1525000,
            "bin_end": 1600000,
            "count": 1
           }
          ]
         }
        },
        {
         "name": "method",
         "dtype": "object",
         "stats": {
          "unique_count": 4,
          "nan_count": 0,
          "categories": [
           {
            "name": "S",
            "count": 2
           },
           {
            "name": "SP",
            "count": 1
           },
           {
            "name": "2 others",
            "count": 2
           }
          ]
         }
        },
        {
         "name": "seller_g",
         "dtype": "object",
         "stats": {
          "unique_count": 2,
          "nan_count": 0,
          "categories": [
           {
            "name": "Biggin",
            "count": 4
           },
           {
            "name": "Nelson",
            "count": 1
           }
          ]
         }
        },
        {
         "name": "date",
         "dtype": "object",
         "stats": {
          "unique_count": 4,
          "nan_count": 0,
          "categories": [
           {
            "name": "4/03/2017",
            "count": 2
           },
           {
            "name": "3/12/2016",
            "count": 1
           },
           {
            "name": "2 others",
            "count": 2
           }
          ]
         }
        },
        {
         "name": "distance",
         "dtype": "float64",
         "stats": {
          "unique_count": 1,
          "nan_count": 0,
          "min": "2.5",
          "max": "2.5",
          "histogram": [
           {
            "bin_start": 2,
            "bin_end": 2.1,
            "count": 0
           },
           {
            "bin_start": 2.1,
            "bin_end": 2.2,
            "count": 0
           },
           {
            "bin_start": 2.2,
            "bin_end": 2.3,
            "count": 0
           },
           {
            "bin_start": 2.3,
            "bin_end": 2.4,
            "count": 0
           },
           {
            "bin_start": 2.4,
            "bin_end": 2.5,
            "count": 0
           },
           {
            "bin_start": 2.5,
            "bin_end": 2.6,
            "count": 5
           },
           {
            "bin_start": 2.6,
            "bin_end": 2.7,
            "count": 0
           },
           {
            "bin_start": 2.7,
            "bin_end": 2.8,
            "count": 0
           },
           {
            "bin_start": 2.8,
            "bin_end": 2.9,
            "count": 0
           },
           {
            "bin_start": 2.9,
            "bin_end": 3,
            "count": 0
           }
          ]
         }
        },
        {
         "name": "postcode",
         "dtype": "float64",
         "stats": {
          "unique_count": 1,
          "nan_count": 0,
          "min": "3067.0",
          "max": "3067.0",
          "histogram": [
           {
            "bin_start": 3066.5,
            "bin_end": 3066.6,
            "count": 0
           },
           {
            "bin_start": 3066.6,
            "bin_end": 3066.7,
            "count": 0
           },
           {
            "bin_start": 3066.7,
            "bin_end": 3066.8,
            "count": 0
           },
           {
            "bin_start": 3066.8,
            "bin_end": 3066.9,
            "count": 0
           },
           {
            "bin_start": 3066.9,
            "bin_end": 3067,
            "count": 0
           },
           {
            "bin_start": 3067,
            "bin_end": 3067.1,
            "count": 5
           },
           {
            "bin_start": 3067.1,
            "bin_end": 3067.2,
            "count": 0
           },
           {
            "bin_start": 3067.2,
            "bin_end": 3067.3,
            "count": 0
           },
           {
            "bin_start": 3067.3,
            "bin_end": 3067.4,
            "count": 0
           },
           {
            "bin_start": 3067.4,
            "bin_end": 3067.5,
            "count": 0
           }
          ]
         }
        },
        {
         "name": "bedroom_2",
         "dtype": "float64",
         "stats": {
          "unique_count": 2,
          "nan_count": 0,
          "min": "2.0",
          "max": "3.0",
          "histogram": [
           {
            "bin_start": 2,
            "bin_end": 2.1,
            "count": 2
           },
           {
            "bin_start": 2.1,
            "bin_end": 2.2,
            "count": 0
           },
           {
            "bin_start": 2.2,
            "bin_end": 2.3,
            "count": 0
           },
           {
            "bin_start": 2.3,
            "bin_end": 2.4,
            "count": 0
           },
           {
            "bin_start": 2.4,
            "bin_end": 2.5,
            "count": 0
           },
           {
            "bin_start": 2.5,
            "bin_end": 2.6,
            "count": 0
           },
           {
            "bin_start": 2.6,
            "bin_end": 2.7,
            "count": 0
           },
           {
            "bin_start": 2.7,
            "bin_end": 2.8,
            "count": 0
           },
           {
            "bin_start": 2.8,
            "bin_end": 2.9,
            "count": 0
           },
           {
            "bin_start": 2.9,
            "bin_end": 3,
            "count": 3
           }
          ]
         }
        },
        {
         "name": "bathroom",
         "dtype": "float64",
         "stats": {
          "unique_count": 2,
          "nan_count": 0,
          "min": "1.0",
          "max": "2.0",
          "histogram": [
           {
            "bin_start": 1,
            "bin_end": 1.1,
            "count": 3
           },
           {
            "bin_start": 1.1,
            "bin_end": 1.2,
            "count": 0
           },
           {
            "bin_start": 1.2,
            "bin_end": 1.3,
            "count": 0
           },
           {
            "bin_start": 1.3,
            "bin_end": 1.4,
            "count": 0
           },
           {
            "bin_start": 1.4,
            "bin_end": 1.5,
            "count": 0
           },
           {
            "bin_start": 1.5,
            "bin_end": 1.6,
            "count": 0
           },
           {
            "bin_start": 1.6,
            "bin_end": 1.7000000000000002,
            "count": 0
           },
           {
            "bin_start": 1.7000000000000002,
            "bin_end": 1.8,
            "count": 0
           },
           {
            "bin_start": 1.8,
            "bin_end": 1.9,
            "count": 0
           },
           {
            "bin_start": 1.9,
            "bin_end": 2,
            "count": 2
           }
          ]
         }
        },
        {
         "name": "car",
         "dtype": "float64",
         "stats": {
          "unique_count": 3,
          "nan_count": 0,
          "min": "0.0",
          "max": "2.0",
          "histogram": [
           {
            "bin_start": 0,
            "bin_end": 0.2,
            "count": 2
           },
           {
            "bin_start": 0.2,
            "bin_end": 0.4,
            "count": 0
           },
           {
            "bin_start": 0.4,
            "bin_end": 0.6000000000000001,
            "count": 0
           },
           {
            "bin_start": 0.6000000000000001,
            "bin_end": 0.8,
            "count": 0
           },
           {
            "bin_start": 0.8,
            "bin_end": 1,
            "count": 0
           },
           {
            "bin_start": 1,
            "bin_end": 1.2000000000000002,
            "count": 2
           },
           {
            "bin_start": 1.2000000000000002,
            "bin_end": 1.4000000000000001,
            "count": 0
           },
           {
            "bin_start": 1.4000000000000001,
            "bin_end": 1.6,
            "count": 0
           },
           {
            "bin_start": 1.6,
            "bin_end": 1.8,
            "count": 0
           },
           {
            "bin_start": 1.8,
            "bin_end": 2,
            "count": 1
           }
          ]
         }
        },
        {
         "name": "land_size",
         "dtype": "float64",
         "stats": {
          "unique_count": 5,
          "nan_count": 0,
          "min": "94.0",
          "max": "202.0",
          "histogram": [
           {
            "bin_start": 94,
            "bin_end": 104.8,
            "count": 1
           },
           {
            "bin_start": 104.8,
            "bin_end": 115.6,
            "count": 0
           },
           {
            "bin_start": 115.6,
            "bin_end": 126.4,
            "count": 1
           },
           {
            "bin_start": 126.4,
            "bin_end": 137.2,
            "count": 1
           },
           {
            "bin_start": 137.2,
            "bin_end": 148,
            "count": 0
           },
           {
            "bin_start": 148,
            "bin_end": 158.8,
            "count": 1
           },
           {
            "bin_start": 158.8,
            "bin_end": 169.60000000000002,
            "count": 0
           },
           {
            "bin_start": 169.60000000000002,
            "bin_end": 180.4,
            "count": 0
           },
           {
            "bin_start": 180.4,
            "bin_end": 191.2,
            "count": 0
           },
           {
            "bin_start": 191.2,
            "bin_end": 202,
            "count": 1
           }
          ]
         }
        },
        {
         "name": "council_area",
         "dtype": "object",
         "stats": {
          "unique_count": 1,
          "nan_count": 0,
          "categories": [
           {
            "name": "Yarra",
            "count": 5
           }
          ]
         }
        },
        {
         "name": "latitude",
         "dtype": "float64",
         "stats": {
          "unique_count": 5,
          "nan_count": 0,
          "min": "-37.8093",
          "max": "-37.7969",
          "histogram": [
           {
            "bin_start": -37.8093,
            "bin_end": -37.80806,
            "count": 1
           },
           {
            "bin_start": -37.80806,
            "bin_end": -37.80682,
            "count": 2
           },
           {
            "bin_start": -37.80682,
            "bin_end": -37.80558,
            "count": 0
           },
           {
            "bin_start": -37.80558,
            "bin_end": -37.80434,
            "count": 0
           },
           {
            "bin_start": -37.80434,
            "bin_end": -37.8031,
            "count": 0
           },
           {
            "bin_start": -37.8031,
            "bin_end": -37.80186,
            "count": 0
           },
           {
            "bin_start": -37.80186,
            "bin_end": -37.80062,
            "count": 0
           },
           {
            "bin_start": -37.80062,
            "bin_end": -37.79938,
            "count": 1
           },
           {
            "bin_start": -37.79938,
            "bin_end": -37.798140000000004,
            "count": 0
           },
           {
            "bin_start": -37.798140000000004,
            "bin_end": -37.7969,
            "count": 1
           }
          ]
         }
        },
        {
         "name": "longitude",
         "dtype": "float64",
         "stats": {
          "unique_count": 5,
          "nan_count": 0,
          "min": "144.9934",
          "max": "144.9984",
          "histogram": [
           {
            "bin_start": 144.9934,
            "bin_end": 144.9939,
            "count": 1
           },
           {
            "bin_start": 144.9939,
            "bin_end": 144.9944,
            "count": 1
           },
           {
            "bin_start": 144.9944,
            "bin_end": 144.9949,
            "count": 1
           },
           {
            "bin_start": 144.9949,
            "bin_end": 144.99540000000002,
            "count": 0
           },
           {
            "bin_start": 144.99540000000002,
            "bin_end": 144.9959,
            "count": 0
           },
           {
            "bin_start": 144.9959,
            "bin_end": 144.9964,
            "count": 0
           },
           {
            "bin_start": 144.9964,
            "bin_end": 144.9969,
            "count": 0
           },
           {
            "bin_start": 144.9969,
            "bin_end": 144.9974,
            "count": 1
           },
           {
            "bin_start": 144.9974,
            "bin_end": 144.99790000000002,
            "count": 0
           },
           {
            "bin_start": 144.99790000000002,
            "bin_end": 144.9984,
            "count": 1
           }
          ]
         }
        },
        {
         "name": "region_name",
         "dtype": "object",
         "stats": {
          "unique_count": 1,
          "nan_count": 0,
          "categories": [
           {
            "name": "Northern Metropolitan",
            "count": 5
           }
          ]
         }
        },
        {
         "name": "property_count",
         "dtype": "float64",
         "stats": {
          "unique_count": 1,
          "nan_count": 0,
          "min": "4019.0",
          "max": "4019.0",
          "histogram": [
           {
            "bin_start": 4018.5,
            "bin_end": 4018.6,
            "count": 0
           },
           {
            "bin_start": 4018.6,
            "bin_end": 4018.7,
            "count": 0
           },
           {
            "bin_start": 4018.7,
            "bin_end": 4018.8,
            "count": 0
           },
           {
            "bin_start": 4018.8,
            "bin_end": 4018.9,
            "count": 0
           },
           {
            "bin_start": 4018.9,
            "bin_end": 4019,
            "count": 0
           },
           {
            "bin_start": 4019,
            "bin_end": 4019.1,
            "count": 5
           },
           {
            "bin_start": 4019.1,
            "bin_end": 4019.2,
            "count": 0
           },
           {
            "bin_start": 4019.2,
            "bin_end": 4019.3,
            "count": 0
           },
           {
            "bin_start": 4019.3,
            "bin_end": 4019.4,
            "count": 0
           },
           {
            "bin_start": 4019.4,
            "bin_end": 4019.5,
            "count": 0
           }
          ]
         }
        },
        {
         "name": "_deepnote_index_column",
         "dtype": "int64"
        }
       ],
       "rows_top": [
        {
         "suburb": "Abbotsford",
         "address": "85 Turner St",
         "rooms": 2,
         "type": "h",
         "price": 1480000,
         "method": "S",
         "seller_g": "Biggin",
         "date": "3/12/2016",
         "distance": 2.5,
         "postcode": 3067,
         "bedroom_2": 2,
         "bathroom": 1,
         "car": 1,
         "land_size": 202,
         "council_area": "Yarra",
         "latitude": -37.7996,
         "longitude": 144.9984,
         "region_name": "Northern Metropolitan",
         "property_count": 4019,
         "_deepnote_index_column": 0
        },
        {
         "suburb": "Abbotsford",
         "address": "25 Bloomburg St",
         "rooms": 2,
         "type": "h",
         "price": 1035000,
         "method": "S",
         "seller_g": "Biggin",
         "date": "4/02/2016",
         "distance": 2.5,
         "postcode": 3067,
         "bedroom_2": 2,
         "bathroom": 1,
         "car": 0,
         "land_size": 156,
         "council_area": "Yarra",
         "latitude": -37.8079,
         "longitude": 144.9934,
         "region_name": "Northern Metropolitan",
         "property_count": 4019,
         "_deepnote_index_column": 1
        },
        {
         "suburb": "Abbotsford",
         "address": "5 Charles St",
         "rooms": 3,
         "type": "h",
         "price": 1465000,
         "method": "SP",
         "seller_g": "Biggin",
         "date": "4/03/2017",
         "distance": 2.5,
         "postcode": 3067,
         "bedroom_2": 3,
         "bathroom": 2,
         "car": 0,
         "land_size": 134,
         "council_area": "Yarra",
         "latitude": -37.8093,
         "longitude": 144.9944,
         "region_name": "Northern Metropolitan",
         "property_count": 4019,
         "_deepnote_index_column": 2
        },
        {
         "suburb": "Abbotsford",
         "address": "40 Federation La",
         "rooms": 3,
         "type": "h",
         "price": 850000,
         "method": "PI",
         "seller_g": "Biggin",
         "date": "4/03/2017",
         "distance": 2.5,
         "postcode": 3067,
         "bedroom_2": 3,
         "bathroom": 2,
         "car": 1,
         "land_size": 94,
         "council_area": "Yarra",
         "latitude": -37.7969,
         "longitude": 144.9969,
         "region_name": "Northern Metropolitan",
         "property_count": 4019,
         "_deepnote_index_column": 3
        },
        {
         "suburb": "Abbotsford",
         "address": "55a Park St",
         "rooms": 4,
         "type": "h",
         "price": 1600000,
         "method": "VB",
         "seller_g": "Nelson",
         "date": "4/06/2016",
         "distance": 2.5,
         "postcode": 3067,
         "bedroom_2": 3,
         "bathroom": 1,
         "car": 2,
         "land_size": 120,
         "council_area": "Yarra",
         "latitude": -37.8072,
         "longitude": 144.9941,
         "region_name": "Northern Metropolitan",
         "property_count": 4019,
         "_deepnote_index_column": 4
        }
       ],
       "rows_bottom": null
      },
      "text/plain": "       suburb           address  rooms type      price method seller_g  \\\n0  Abbotsford      85 Turner St      2    h  1480000.0      S   Biggin   \n1  Abbotsford   25 Bloomburg St      2    h  1035000.0      S   Biggin   \n2  Abbotsford      5 Charles St      3    h  1465000.0     SP   Biggin   \n3  Abbotsford  40 Federation La      3    h   850000.0     PI   Biggin   \n4  Abbotsford       55a Park St      4    h  1600000.0     VB   Nelson   \n\n        date  distance  postcode  bedroom_2  bathroom  car  land_size  \\\n0  3/12/2016       2.5    3067.0        2.0       1.0  1.0      202.0   \n1  4/02/2016       2.5    3067.0        2.0       1.0  0.0      156.0   \n2  4/03/2017       2.5    3067.0        3.0       2.0  0.0      134.0   \n3  4/03/2017       2.5    3067.0        3.0       2.0  1.0       94.0   \n4  4/06/2016       2.5    3067.0        3.0       1.0  2.0      120.0   \n\n  council_area  latitude  longitude            region_name  property_count  \n0        Yarra  -37.7996   144.9984  Northern Metropolitan          4019.0  \n1        Yarra  -37.8079   144.9934  Northern Metropolitan          4019.0  \n2        Yarra  -37.8093   144.9944  Northern Metropolitan          4019.0  \n3        Yarra  -37.7969   144.9969  Northern Metropolitan          4019.0  \n4        Yarra  -37.8072   144.9941  Northern Metropolitan          4019.0  ",
      "text/html": "<div>\n<style scoped>\n    .dataframe tbody tr th:only-of-type {\n        vertical-align: middle;\n    }\n\n    .dataframe tbody tr th {\n        vertical-align: top;\n    }\n\n    .dataframe thead th {\n        text-align: right;\n    }\n</style>\n<table border=\"1\" class=\"dataframe\">\n  <thead>\n    <tr style=\"text-align: right;\">\n      <th></th>\n      <th>suburb</th>\n      <th>address</th>\n      <th>rooms</th>\n      <th>type</th>\n      <th>price</th>\n      <th>method</th>\n      <th>seller_g</th>\n      <th>date</th>\n      <th>distance</th>\n      <th>postcode</th>\n      <th>bedroom_2</th>\n      <th>bathroom</th>\n      <th>car</th>\n      <th>land_size</th>\n      <th>council_area</th>\n      <th>latitude</th>\n      <th>longitude</th>\n      <th>region_name</th>\n      <th>property_count</th>\n    </tr>\n  </thead>\n  <tbody>\n    <tr>\n      <th>0</th>\n      <td>Abbotsford</td>\n      <td>85 Turner St</td>\n      <td>2</td>\n      <td>h</td>\n      <td>1480000.0</td>\n      <td>S</td>\n      <td>Biggin</td>\n      <td>3/12/2016</td>\n      <td>2.5</td>\n      <td>3067.0</td>\n      <td>2.0</td>\n      <td>1.0</td>\n      <td>1.0</td>\n      <td>202.0</td>\n      <td>Yarra</td>\n      <td>-37.7996</td>\n      <td>144.9984</td>\n      <td>Northern Metropolitan</td>\n      <td>4019.0</td>\n    </tr>\n    <tr>\n      <th>1</th>\n      <td>Abbotsford</td>\n      <td>25 Bloomburg St</td>\n      <td>2</td>\n      <td>h</td>\n      <td>1035000.0</td>\n      <td>S</td>\n      <td>Biggin</td>\n      <td>4/02/2016</td>\n      <td>2.5</td>\n      <td>3067.0</td>\n      <td>2.0</td>\n      <td>1.0</td>\n      <td>0.0</td>\n      <td>156.0</td>\n      <td>Yarra</td>\n      <td>-37.8079</td>\n      <td>144.9934</td>\n      <td>Northern Metropolitan</td>\n      <td>4019.0</td>\n    </tr>\n    <tr>\n      <th>2</th>\n      <td>Abbotsford</td>\n      <td>5 Charles St</td>\n      <td>3</td>\n      <td>h</td>\n      <td>1465000.0</td>\n      <td>SP</td>\n      <td>Biggin</td>\n      <td>4/03/2017</td>\n      <td>2.5</td>\n      <td>3067.0</td>\n      <td>3.0</td>\n      <td>2.0</td>\n      <td>0.0</td>\n      <td>134.0</td>\n      <td>Yarra</td>\n      <td>-37.8093</td>\n      <td>144.9944</td>\n      <td>Northern Metropolitan</td>\n      <td>4019.0</td>\n    </tr>\n    <tr>\n      <th>3</th>\n      <td>Abbotsford</td>\n      <td>40 Federation La</td>\n      <td>3</td>\n      <td>h</td>\n      <td>850000.0</td>\n      <td>PI</td>\n      <td>Biggin</td>\n      <td>4/03/2017</td>\n      <td>2.5</td>\n      <td>3067.0</td>\n      <td>3.0</td>\n      <td>2.0</td>\n      <td>1.0</td>\n      <td>94.0</td>\n      <td>Yarra</td>\n      <td>-37.7969</td>\n      <td>144.9969</td>\n      <td>Northern Metropolitan</td>\n      <td>4019.0</td>\n    </tr>\n    <tr>\n      <th>4</th>\n      <td>Abbotsford</td>\n      <td>55a Park St</td>\n      <td>4</td>\n      <td>h</td>\n      <td>1600000.0</td>\n      <td>VB</td>\n      <td>Nelson</td>\n      <td>4/06/2016</td>\n      <td>2.5</td>\n      <td>3067.0</td>\n      <td>3.0</td>\n      <td>1.0</td>\n      <td>2.0</td>\n      <td>120.0</td>\n      <td>Yarra</td>\n      <td>-37.8072</td>\n      <td>144.9941</td>\n      <td>Northern Metropolitan</td>\n      <td>4019.0</td>\n    </tr>\n  </tbody>\n</table>\n</div>"
     },
     "metadata": {}
    }
   ],
   "execution_count": null
  },
  {
   "cell_type": "code",
   "metadata": {
    "cell_id": "00004-69e9f07b-a2fc-4f05-9b93-2dff0ea2f995",
    "deepnote_to_be_reexecuted": false,
    "source_hash": "e3a1395a",
    "execution_start": 1630028198654,
    "execution_millis": 8,
    "deepnote_cell_type": "code"
   },
   "source": "prices = df['price']\nprices.max() - prices.min()",
   "outputs": [
    {
     "output_type": "execute_result",
     "execution_count": 3,
     "data": {
      "text/plain": "8915000.0"
     },
     "metadata": {}
    }
   ],
   "execution_count": null
  },
  {
   "cell_type": "markdown",
   "source": "Tomando en cuenta nuestro rango, vamos a decidir dividir nuestro conjunto en 20 segmentos. Usemos ahora nuestro método `cut` para segmentar nuestros datos.",
   "metadata": {
    "cell_id": "00005-313f9210-2fd3-41db-8d3e-ebf9b6aa6b44",
    "deepnote_cell_type": "markdown"
   }
  },
  {
   "cell_type": "code",
   "metadata": {
    "cell_id": "00006-544f778b-ed27-4618-b21a-f3f18586c0f5",
    "deepnote_to_be_reexecuted": false,
    "source_hash": "ae904ee2",
    "execution_start": 1630028312786,
    "execution_millis": 16,
    "deepnote_cell_type": "code"
   },
   "source": "pd.cut(prices, 20)",
   "outputs": [
    {
     "output_type": "execute_result",
     "execution_count": 6,
     "data": {
      "text/plain": "0        (1422250.0, 1868000.0]\n1         (976500.0, 1422250.0]\n2        (1422250.0, 1868000.0]\n3          (530750.0, 976500.0]\n4        (1422250.0, 1868000.0]\n                  ...          \n11641      (530750.0, 976500.0]\n11642     (976500.0, 1422250.0]\n11643      (530750.0, 976500.0]\n11644    (2313750.0, 2759500.0]\n11645      (530750.0, 976500.0]\nName: price, Length: 11646, dtype: category\nCategories (20, interval[float64]): [(76085.0, 530750.0] < (530750.0, 976500.0] < (976500.0, 1422250.0] < (1422250.0, 1868000.0] ... (7217000.0, 7662750.0] < (7662750.0, 8108500.0] < (8108500.0, 8554250.0] < (8554250.0, 9000000.0]]"
     },
     "metadata": {}
    }
   ],
   "execution_count": null
  },
  {
   "cell_type": "markdown",
   "source": "Ok... ¿Qué acaba de suceder? `pd.cut` toma el rango completo de nuestros datos, y luego crea 20 segmentos de igual tamaño. Después, revisa uno por uno nuestros datos, los ubica en uno de los segmentos y nos regresa una `Serie` donde tenemos cada índice clasificado en el segmento que lo toca.\n\nAhora, para dividir nuestro dataset por segmentos, podemos utilizar `pd.groupby` y pasarle la `Serie` que obtuvimos. Lo que hace `groupby` en este caso es leer la clasificación de cada índice y agruparlos de manera que todas las muestras que pertencen a la misma clasificación queden juntas.\n\nDespués de agruparlos, podemos usar un `count` para saber cuántas muestras hay en cada grupo:",
   "metadata": {
    "cell_id": "00007-2454dc4b-95a3-44ee-9c11-99562bf868e6",
    "deepnote_cell_type": "markdown"
   }
  },
  {
   "cell_type": "code",
   "metadata": {
    "cell_id": "00008-327f48bf-b990-4fe7-9464-cedaaf93ff23",
    "deepnote_to_be_reexecuted": false,
    "source_hash": "ac847a6d",
    "execution_start": 1630028401133,
    "execution_millis": 17,
    "deepnote_cell_type": "code"
   },
   "source": "segmentos = pd.cut(prices, 20)\n\ndf['price'].groupby(segmentos).count()",
   "outputs": [
    {
     "output_type": "execute_result",
     "execution_count": 13,
     "data": {
      "text/plain": "price\n(76085.0, 530750.0]       1747\n(530750.0, 976500.0]      4835\n(976500.0, 1422250.0]     2664\n(1422250.0, 1868000.0]    1278\n(1868000.0, 2313750.0]     570\n(2313750.0, 2759500.0]     261\n(2759500.0, 3205250.0]     141\n(3205250.0, 3651000.0]      67\n(3651000.0, 4096750.0]      40\n(4096750.0, 4542500.0]      16\n(4542500.0, 4988250.0]      10\n(4988250.0, 5434000.0]       5\n(5434000.0, 5879750.0]       7\n(5879750.0, 6325500.0]       1\n(6325500.0, 6771250.0]       1\n(6771250.0, 7217000.0]       0\n(7217000.0, 7662750.0]       1\n(7662750.0, 8108500.0]       1\n(8108500.0, 8554250.0]       0\n(8554250.0, 9000000.0]       1\nName: price, dtype: int64"
     },
     "metadata": {}
    }
   ],
   "execution_count": null
  },
  {
   "cell_type": "markdown",
   "source": "¡Y Listo! Tenemos una tabla donde los índices son los 20 rangos en los que se dividió nuestro dataset y los valores de la tabla son los conteos de cada agrupación. De esta manera quedan aún en más evidencia los valores atípicos, ya que podemos ver varios segmentos donde la cantidad de muestras es muy baja.\n\nÉsta podría ser aún otra manera de eliminar valores atípicos, ya que podríamos, por ejemplo, decidir eliminar todos los datos que se encuentran en segmentos con menos de 50 muestras.",
   "metadata": {
    "cell_id": "00009-b8eb563c-1129-4366-95d4-7c316fd82ebd",
    "deepnote_cell_type": "markdown"
   }
  },
  {
   "cell_type": "markdown",
   "source": "<a style='text-decoration:none;line-height:16px;display:flex;color:#5B5B62;padding:10px;justify-content:end;' href='https://deepnote.com?utm_source=created-in-deepnote-cell&projectId=f8149d1c-e6b1-497a-9109-f01641a8231a' target=\"_blank\">\n<img alt='Created in deepnote.com' style='display:inline;max-height:16px;margin:0px;margin-right:7.5px;' src='data:image/svg+xml;base64,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' > </img>\nCreated in <span style='font-weight:600;margin-left:4px;'>Deepnote</span></a>",
   "metadata": {
    "tags": [],
    "created_in_deepnote_cell": true,
    "deepnote_cell_type": "markdown"
   }
  }
 ],
 "nbformat": 4,
 "nbformat_minor": 4,
 "metadata": {
  "kernelspec": {
   "display_name": "Python (data_science)",
   "language": "python",
   "name": "data_science"
  },
  "language_info": {
   "codemirror_mode": {
    "name": "ipython",
    "version": 3
   },
   "file_extension": ".py",
   "mimetype": "text/x-python",
   "name": "python",
   "nbconvert_exporter": "python",
   "pygments_lexer": "ipython3",
   "version": "3.8.1"
  },
  "deepnote_notebook_id": "e7011ae4-b8c4-48b5-a9b0-0b4017eb03c9",
  "deepnote": {},
  "deepnote_execution_queue": []
 }
}