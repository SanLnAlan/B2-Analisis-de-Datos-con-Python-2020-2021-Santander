{
 "cells": [
  {
   "cell_type": "markdown",
   "source": "## Ejemplo 4: Describiendo histogramas\n\n### 1. Objetivos:\n    - Aprender algunos términos importantes para describir nuestros histogramas\n \n---\n    \n### 2. Desarrollo:",
   "metadata": {
    "cell_id": "00000-2e819828-a54d-41b3-94a0-0093631caf75",
    "deepnote_cell_type": "markdown"
   }
  },
  {
   "cell_type": "code",
   "metadata": {
    "cell_id": "00001-77c77fdb-7a8a-4902-b9d8-ac7f32ff377f",
    "deepnote_to_be_reexecuted": false,
    "source_hash": "a27742fa",
    "execution_start": 1630032605195,
    "execution_millis": 1211,
    "deepnote_cell_type": "code"
   },
   "source": "import numpy as np\nimport seaborn as sns\nfrom scipy.stats import skew, kurtosis\n\nsns.set(style='white')",
   "outputs": [],
   "execution_count": null
  },
  {
   "cell_type": "markdown",
   "source": "Vamos a ver algunas formas comunes que pueden tener nuestros histogramas. Normalmente las gráficas que obtengamos con datos provenientes del mundo real no encajan a la perfección con estas formas, pero ayuda tener referencias para poder describir nuestras gráficas.\n\nSolemos describir nuestros datos utilizando dos parámetros: asimetría y curtosis.",
   "metadata": {
    "cell_id": "00002-f2779126-eb05-4f14-838c-c34258473d64",
    "deepnote_cell_type": "markdown"
   }
  },
  {
   "cell_type": "markdown",
   "source": "#### a) Asimetría (skewness)\n\nLa asimetría nos da una medida de la falta de simetría en una distribución (duh). Una distribución es simétrica si se ve igual a la izquierda y derecha del punto central.\n\n- Una asimetría de 0 indica que la simetría de la distribución es perfecta.\n\n- Números positivos indican que hay una asimetría positiva, es decir que la cola de la derecha es más larga que la cola de la izquierda.\n\n- Números negativos indican que hay una asimetría negativa, es decir que la cola de la izquierda es más larga que la cola de la derecha.",
   "metadata": {
    "cell_id": "00003-f6c02ae2-8c61-4a1c-a3c3-6a9ca34ff2b5",
    "deepnote_cell_type": "markdown"
   }
  },
  {
   "cell_type": "markdown",
   "source": "#### b) Curtosis (kurtosis)\n\nLa curtosis es una medida de la dispersión de nuestros datos. La curtosis nos dice qué tan escarpada o achatada está nuestra distribución.\n\n- Curtosis de 0 indica que la dispersión de nuestros datos es normal (más adelante aprenderemos exactamente qué significa esto).\n\n- Curtosis positiva indica que nuestra distribución está achatada. Esto implica que hay más dispersión de nuestros datos, que están más lejanos de nuestro punto central y que por lo tanto tenemos colas largas (comparadas con la cola normal).\n\n- Curtosis negativa indica que nuestra distribución está escarpada. Esto implica que hay menos dispersión de nuestros datos, que están más cercanos a nuestro punto central y que por lo tanto tenemos colas cortas (comparadas con la cola normal).\n\nNo todas las técnicas para medida curtosis establecen la normalidad en 0, pero nosotros vamos a utilizar la default en `scipy` y `pandas`.",
   "metadata": {
    "cell_id": "00004-b0d2637e-74ab-4590-9b44-a03472a4a023",
    "deepnote_cell_type": "markdown"
   }
  },
  {
   "cell_type": "markdown",
   "source": "---\n\nPara calcular las medidas de curtosis y asimetría usaremos los métodos `kurtosis` y `skew` de la librería `scipy.stats`.\n\nUsando estas definiciones estamos listos para visualizar algunas distribuciones con características distintas:",
   "metadata": {
    "cell_id": "00005-a7864b1d-06ce-48e8-8c5e-eda2ecffd0e3",
    "deepnote_cell_type": "markdown"
   }
  },
  {
   "cell_type": "markdown",
   "source": "### Distribución Normal (Standard Normal)",
   "metadata": {
    "cell_id": "00006-a43b36d3-4075-4cea-ba19-99d4789a3ecf",
    "deepnote_cell_type": "markdown"
   }
  },
  {
   "cell_type": "markdown",
   "source": "La distribución normal es una de las más famosas y más utilizadas. Muchos de los análisis estadísticos que hacemos toman a la distribución normal como un \"estándar\". Hay algunas medidas que incluso requieren que la distribución sea normal para funcionar. A través de este módulo nos toparemos varias veces con esta distribución y la exploraremos más a profundidad. Por el momento basta saber que la distribución normal tiene una asimetría de 0 y una curtosis de 0 (usando el método default de `scipy` y `pandas`.\n\nOtra cosa interesante es que la distribución normal estándar tiene un promedio de 0, una mediana de 0, una moda de 0 y una desviación estándar de 1. Esto implica que el 68% de los datos están a 1 desviación estándar de la media y el 95% de los datos están a 2 desviaciones estándares de la media.\n\nEsta distribución se ve así:",
   "metadata": {
    "cell_id": "00007-6ccfd69f-fed5-465c-94e7-3b29ebfb6c76",
    "deepnote_cell_type": "markdown"
   }
  },
  {
   "cell_type": "code",
   "metadata": {
    "cell_id": "00008-a43839ee-b957-49ad-89a4-8f2e66141b0d",
    "deepnote_to_be_reexecuted": false,
    "source_hash": "2945e76c",
    "execution_start": 1630032653294,
    "execution_millis": 1,
    "deepnote_cell_type": "code"
   },
   "source": "normal = np.random.normal(loc=0, scale=5, size=10000)",
   "outputs": [],
   "execution_count": null
  },
  {
   "cell_type": "code",
   "metadata": {
    "cell_id": "00009-e46309de-8b3d-4fc8-9836-28aff28a52c1",
    "deepnote_to_be_reexecuted": false,
    "source_hash": "9ca66e5b",
    "execution_start": 1630032655562,
    "execution_millis": 291,
    "deepnote_cell_type": "code"
   },
   "source": "sns.distplot(normal, kde=False, norm_hist=False);",
   "outputs": [
    {
     "name": "stderr",
     "text": "/shared-libs/python3.7/py/lib/python3.7/site-packages/seaborn/distributions.py:2557: FutureWarning: `distplot` is a deprecated function and will be removed in a future version. Please adapt your code to use either `displot` (a figure-level function with similar flexibility) or `histplot` (an axes-level function for histograms).\n  warnings.warn(msg, FutureWarning)\n",
     "output_type": "stream"
    },
    {
     "data": {
      "text/plain": "<Figure size 432x288 with 1 Axes>",
      "image/png": "[encoded data removed]"
     },
     "metadata": {
      "image/png": {
       "width": 379,
       "height": 251
      }
     },
     "output_type": "display_data"
    }
   ],
   "execution_count": null
  },
  {
   "cell_type": "code",
   "metadata": {
    "cell_id": "00010-258271b8-cd79-4b51-925b-689248408787",
    "deepnote_cell_type": "code"
   },
   "source": "print(f'Curtosis: {kurtosis(normal)}')\nprint(f'Asimetría: {skew(normal)}')",
   "outputs": [
    {
     "name": "stdout",
     "output_type": "stream",
     "text": "Curtosis: 0.009871615401046974\nAsimetría: 0.050261163752796455\n"
    }
   ],
   "execution_count": null
  },
  {
   "cell_type": "markdown",
   "source": "#### Distribuciones de cola corta (short-tailed)\n\nLas distribuciones de cola corta se concentran mucho en el punto central y casi no se extienden hacia los lados. Es raro en realidad encontrar distribuciones de cola corta, pero así se vería una:",
   "metadata": {
    "cell_id": "00011-a926b0e0-bd2f-4338-bc97-e407113f5072",
    "deepnote_cell_type": "markdown"
   }
  },
  {
   "cell_type": "code",
   "metadata": {
    "cell_id": "00012-f7b4471e-8f82-467f-98d2-8f5e7325dcd9",
    "deepnote_to_be_reexecuted": false,
    "source_hash": "f1bc9970",
    "execution_start": 1630032666111,
    "execution_millis": 1,
    "deepnote_cell_type": "code"
   },
   "source": "cola_corta = np.array([2, 2, 3, 3, 3, 3, 3, 3, 4, 4, 4, 4, 4, 4, 4, 4, 5, 5, 5, 5, 5, 5, 5, 5, 6, 6, 6, 6, 6, 6, 6, 7, 7, 7, 7, 7, 8, 8, 8])",
   "outputs": [],
   "execution_count": null
  },
  {
   "cell_type": "code",
   "metadata": {
    "cell_id": "00013-57437ca3-e363-4342-a467-2224b278304a",
    "deepnote_to_be_reexecuted": false,
    "source_hash": "deb7d62a",
    "execution_start": 1630032679236,
    "execution_millis": 234,
    "deepnote_cell_type": "code"
   },
   "source": "sns.distplot(cola_corta, kde=False, norm_hist=False, bins=7);",
   "outputs": [
    {
     "data": {
      "text/plain": "<Figure size 432x288 with 1 Axes>",
      "image/png": "[encoded data removed]"
     },
     "metadata": {
      "image/png": {
       "width": 365,
       "height": 251
      }
     },
     "output_type": "display_data"
    }
   ],
   "execution_count": null
  },
  {
   "cell_type": "code",
   "metadata": {
    "cell_id": "00014-31a60d23-d677-464d-ad1d-672907a308f6",
    "deepnote_cell_type": "code"
   },
   "source": "print(f'Curtosis: {kurtosis(cola_corta)}')\nprint(f'Asimetría: {skew(cola_corta)}')",
   "outputs": [
    {
     "name": "stdout",
     "output_type": "stream",
     "text": "Curtosis: -0.8177383847138642\nAsimetría: 0.08996251301661412\n"
    }
   ],
   "execution_count": null
  },
  {
   "cell_type": "markdown",
   "source": "### Distribuciones de cola larga (fat-tailed)\n\nEstas distribuciones se extienden mucho hacia los lados (o hacia uno de los dos lados) a partir del punto central. Muchos fenómenos naturales y sociales tienen distribuciones de cola larga.",
   "metadata": {
    "cell_id": "00015-af8185b6-4683-414c-bec7-9e6f9f181483",
    "deepnote_cell_type": "markdown"
   }
  },
  {
   "cell_type": "code",
   "metadata": {
    "cell_id": "00016-194b63d0-7617-4143-95c8-411d88968491",
    "deepnote_to_be_reexecuted": false,
    "source_hash": "b99ece02",
    "execution_start": 1630033971059,
    "execution_millis": 0,
    "deepnote_cell_type": "code"
   },
   "source": "cola_larga = np.random.laplace(loc=0.0, scale=1, size=10000)\n#otra_cola = np.sin(np.random.laplace(loc=0.0, scale=1, size=10000))",
   "outputs": [],
   "execution_count": null
  },
  {
   "cell_type": "code",
   "metadata": {
    "cell_id": "00017-f4adae08-6ab5-4e9e-9aa1-264908fc9689",
    "deepnote_to_be_reexecuted": false,
    "source_hash": "ed156bf",
    "execution_start": 1630033976818,
    "execution_millis": 244,
    "deepnote_cell_type": "code"
   },
   "source": "sns.distplot(cola_larga, kde=False, norm_hist=False);\n#sns.distplot(otra_cola, kde=False, norm_hist=False);",
   "outputs": [
    {
     "data": {
      "text/plain": "<Figure size 432x288 with 1 Axes>",
      "image/png": "[encoded data removed]"
     },
     "metadata": {
      "image/png": {
       "width": 386,
       "height": 251
      }
     },
     "output_type": "display_data"
    }
   ],
   "execution_count": null
  },
  {
   "cell_type": "code",
   "metadata": {
    "cell_id": "00018-da041da0-2e5c-4fd6-bec8-ece66543f562",
    "deepnote_to_be_reexecuted": false,
    "source_hash": "2472f020",
    "execution_start": 1630034317895,
    "execution_millis": 10,
    "deepnote_cell_type": "code"
   },
   "source": "print(f'Curtosis: {kurtosis(cola_larga)}')\nprint(f'Asimetría: {skew(cola_larga)}')\n\n#print(f'Curtosis: {kurtosis(otra_cola)}')\n#print(f'Asimetría: {skew(otra_cola)}')",
   "outputs": [
    {
     "name": "stdout",
     "text": "Curtosis: 2.508033949523238\nAsimetría: 0.04336816857463595\n",
     "output_type": "stream"
    }
   ],
   "execution_count": null
  },
  {
   "cell_type": "markdown",
   "source": "### Asimetría Positiva (right-skewed)\n\nLas distribuciones con asimetría positiva tienen colas más largas hacia el lado derecho del punto central.",
   "metadata": {
    "cell_id": "00019-4edb3602-2ade-4b76-a28c-9b28be767d2e",
    "deepnote_cell_type": "markdown"
   }
  },
  {
   "cell_type": "code",
   "source": "asas = np.random.laplace(scale=1.0,size=1000)\nsns.histplot(asas)",
   "metadata": {
    "tags": [],
    "cell_id": "00020-74afc8f8-0c7a-4ed2-a55a-406f02ae8f8e",
    "deepnote_to_be_reexecuted": false,
    "source_hash": "314ad9e3",
    "execution_start": 1630032858447,
    "execution_millis": 248,
    "deepnote_cell_type": "code"
   },
   "outputs": [
    {
     "output_type": "execute_result",
     "execution_count": 15,
     "data": {
      "text/plain": "<AxesSubplot:ylabel='Count'>"
     },
     "metadata": {}
    },
    {
     "data": {
      "text/plain": "<Figure size 432x288 with 1 Axes>",
      "image/png": "[encoded data removed]"
     },
     "metadata": {
      "image/png": {
       "width": 396,
       "height": 251
      }
     },
     "output_type": "display_data"
    }
   ],
   "execution_count": null
  },
  {
   "cell_type": "code",
   "metadata": {
    "cell_id": "00020-74f3ee1a-7522-490c-91fe-7e284adfe2bd",
    "deepnote_to_be_reexecuted": false,
    "source_hash": "63ef6f6b",
    "execution_start": 1630032746201,
    "execution_millis": 6,
    "deepnote_cell_type": "code"
   },
   "source": "asimetria_positiva = np.random.exponential(scale=1.0, size=10000)",
   "outputs": [],
   "execution_count": null
  },
  {
   "cell_type": "code",
   "metadata": {
    "cell_id": "00021-c9e9d24c-1a17-402e-a9b3-4435098f3d1f",
    "deepnote_to_be_reexecuted": false,
    "source_hash": "fcc992c9",
    "execution_start": 1630032749794,
    "execution_millis": 238,
    "deepnote_cell_type": "code"
   },
   "source": "sns.distplot(asimetria_positiva, kde=False, norm_hist=False);",
   "outputs": [
    {
     "data": {
      "text/plain": "<Figure size 432x288 with 1 Axes>",
      "image/png": "[encoded data removed]"
     },
     "metadata": {
      "image/png": {
       "width": 386,
       "height": 254
      }
     },
     "output_type": "display_data"
    }
   ],
   "execution_count": null
  },
  {
   "cell_type": "code",
   "metadata": {
    "cell_id": "00022-f79abef6-d7ee-48c2-acea-2de895d78fc1",
    "deepnote_cell_type": "code"
   },
   "source": "print(f'Curtosis: {kurtosis(asimetria_positiva)}')\nprint(f'Asimetría: {skew(asimetria_positiva)}')",
   "outputs": [
    {
     "name": "stdout",
     "output_type": "stream",
     "text": "Curtosis: 5.666699174234578\nAsimetría: 1.9575083636239965\n"
    }
   ],
   "execution_count": null
  },
  {
   "cell_type": "markdown",
   "source": "### Asimetría negativa (left-skewed)\n\nLas distribuciones con asimetría negativa tienen colas más largas hacia el lado izquierdo del punto central.",
   "metadata": {
    "cell_id": "00023-eb237c69-fa20-4e06-9bff-e41dae385c12",
    "deepnote_cell_type": "markdown"
   }
  },
  {
   "cell_type": "code",
   "metadata": {
    "cell_id": "00024-4113f6e5-dfbb-44ae-82df-956d0d439054",
    "deepnote_cell_type": "code"
   },
   "source": "asimetria_negativa = np.random.chisquare(4, size=10000) * -1",
   "outputs": [],
   "execution_count": null
  },
  {
   "cell_type": "code",
   "metadata": {
    "cell_id": "00025-13a33b81-9d45-40b4-91f3-48f2d5595718",
    "deepnote_cell_type": "code"
   },
   "source": "sns.distplot(asimetria_negativa, kde=False, norm_hist=False);",
   "outputs": [
    {
     "data": {
      "image/png": "[encoded data removed]",
      "text/plain": "<Figure size 432x288 with 1 Axes>"
     },
     "metadata": {
      "image/png": {
       "width": 383,
       "height": 251
      }
     },
     "output_type": "display_data"
    }
   ],
   "execution_count": null
  },
  {
   "cell_type": "code",
   "metadata": {
    "cell_id": "00026-bbd36545-dd9e-44ea-8a5d-97905dae3c5a",
    "deepnote_cell_type": "code"
   },
   "source": "print(f'Curtosis: {kurtosis(asimetria_negativa)}')\nprint(f'Asimetría: {skew(asimetria_negativa)}')",
   "outputs": [
    {
     "name": "stdout",
     "output_type": "stream",
     "text": "Curtosis: 2.718646192442418\nAsimetría: -1.3728255438523662\n"
    }
   ],
   "execution_count": null
  },
  {
   "cell_type": "markdown",
   "source": "Hay algunas distribuciones que tienen valores muy extremos tanto de curtosis como de asimetría:",
   "metadata": {
    "cell_id": "00027-45c80230-1be7-4836-b06d-390ac8336707",
    "deepnote_cell_type": "markdown"
   }
  },
  {
   "cell_type": "markdown",
   "source": "cauchy = np.random.standard_cauchy(size=10000)",
   "metadata": {
    "cell_id": "00028-1bd01942-3a25-4054-b109-dd05ce959f3b",
    "deepnote_cell_type": "markdown"
   }
  },
  {
   "cell_type": "code",
   "metadata": {
    "cell_id": "00029-84284fb5-e086-4d4e-96f7-4b878c27bc58",
    "deepnote_cell_type": "code"
   },
   "source": "sns.distplot(cauchy, kde=False, norm_hist=False);",
   "outputs": [
    {
     "data": {
      "image/png": "[encoded data removed]",
      "text/plain": "<Figure size 432x288 with 1 Axes>"
     },
     "metadata": {
      "image/png": {
       "width": 389,
       "height": 251
      }
     },
     "output_type": "display_data"
    }
   ],
   "execution_count": null
  },
  {
   "cell_type": "code",
   "metadata": {
    "cell_id": "00030-db5d83ff-87e8-4e53-8e4d-5361dd64c4f5",
    "deepnote_cell_type": "code"
   },
   "source": "print(f'Curtosis: {kurtosis(cauchy)}')\nprint(f'Asimetría: {skew(cauchy)}')",
   "outputs": [
    {
     "name": "stdout",
     "output_type": "stream",
     "text": "Curtosis: 6652.132900400833\nAsimetría: 74.79155778864231\n"
    }
   ],
   "execution_count": null
  },
  {
   "cell_type": "markdown",
   "source": "### Distribución uniforme (uniform distribution)\n\nUna distribución uniforme se genera cuando todos los valores tienen la misma probabilidad (o casi) de suceder. Esto genera una gráfica bastante plana en la parte superior que además tiene una curtosis negativa (porque tiene \"colas\" muy gruesas):",
   "metadata": {
    "cell_id": "00031-b97aa836-f840-407d-862c-2271d6fbbb5d",
    "deepnote_cell_type": "markdown"
   }
  },
  {
   "cell_type": "code",
   "metadata": {
    "cell_id": "00032-422c8f11-602b-4910-b65c-96d93cb8bbb7",
    "deepnote_cell_type": "code"
   },
   "source": "uniform = np.random.uniform(low=-1, high=0, size=10000)",
   "outputs": [],
   "execution_count": null
  },
  {
   "cell_type": "code",
   "metadata": {
    "cell_id": "00033-aaefc6d3-e5ad-440b-9270-69ad50af3f3b",
    "deepnote_cell_type": "code"
   },
   "source": "sns.distplot(uniform, bins=15, kde=False, norm_hist=False);",
   "outputs": [
    {
     "data": {
      "image/png": "[encoded data removed]",
      "text/plain": "<Figure size 432x288 with 1 Axes>"
     },
     "metadata": {
      "image/png": {
       "width": 377,
       "height": 251
      }
     },
     "output_type": "display_data"
    }
   ],
   "execution_count": null
  },
  {
   "cell_type": "code",
   "metadata": {
    "cell_id": "00034-8d72abd0-6fbb-40c9-9058-233c2ca2d10d",
    "deepnote_cell_type": "code"
   },
   "source": "print(f'Curtosis: {kurtosis(uniform)}')\nprint(f'Asimetría: {skew(uniform)}')",
   "outputs": [
    {
     "name": "stdout",
     "output_type": "stream",
     "text": "Curtosis: -1.2142333869700233\nAsimetría: -0.00917386559168348\n"
    }
   ],
   "execution_count": null
  },
  {
   "cell_type": "markdown",
   "source": "### Distribución bimodal y multimodal\n\nHay veces que no tenemos un solo pico en nuestros datos. Puede suceder que haya dos o más concentraciones de valores en nuestros datos. A esto le llamamos distribuciones bimodales (cuando hay 2 concentraciones) y multimodales (cuando hay más de 2).\n\nDebemos de ser muy cuidadosos al usar las medidas de curtosis y asimetría con este tipo de distribuciones, ya que pueden darnos ideas erróneas de lo que realmente está sucediendo.",
   "metadata": {
    "cell_id": "00035-dc920868-095b-43c6-abce-64d1ea795765",
    "deepnote_cell_type": "markdown"
   }
  },
  {
   "cell_type": "code",
   "metadata": {
    "cell_id": "00036-37ed0218-38af-4b5b-b480-d6d4b8ebe6fd",
    "deepnote_to_be_reexecuted": false,
    "source_hash": "a9821f15",
    "execution_start": 1630034134901,
    "execution_millis": 0,
    "deepnote_cell_type": "code"
   },
   "source": "normal_left = np.random.normal(loc=-2.5, scale=1, size=10000)\nnormal_right = np.random.normal(loc=2.5, scale=1, size=10000)\nbimodal = np.concatenate([normal_left, normal_right])",
   "outputs": [],
   "execution_count": null
  },
  {
   "cell_type": "code",
   "metadata": {
    "cell_id": "00037-74447955-3520-42e5-ae79-8ec229dadc74",
    "deepnote_to_be_reexecuted": false,
    "source_hash": "c2b92908",
    "execution_start": 1630034137747,
    "execution_millis": 228,
    "deepnote_cell_type": "code"
   },
   "source": "sns.distplot(bimodal, kde=False, norm_hist=False);",
   "outputs": [
    {
     "data": {
      "text/plain": "<Figure size 432x288 with 1 Axes>",
      "image/png": "[encoded data removed]"
     },
     "metadata": {
      "image/png": {
       "width": 386,
       "height": 251
      }
     },
     "output_type": "display_data"
    }
   ],
   "execution_count": null
  },
  {
   "cell_type": "code",
   "metadata": {
    "cell_id": "00038-69137610-dd27-4967-987f-78e68611648b",
    "deepnote_to_be_reexecuted": false,
    "source_hash": "dea51b5b",
    "execution_start": 1630034150092,
    "execution_millis": 7,
    "deepnote_cell_type": "code"
   },
   "source": "print(f'Curtosis: {kurtosis(bimodal)}')\nprint(f'Asimetría: {skew(bimodal)}')",
   "outputs": [
    {
     "name": "stdout",
     "text": "Curtosis: -1.4833675111178655\nAsimetría: 0.0014749603704422192\n",
     "output_type": "stream"
    }
   ],
   "execution_count": null
  },
  {
   "cell_type": "code",
   "source": "",
   "metadata": {
    "tags": [],
    "cell_id": "00040-21c02906-f300-4db0-a01f-bccb7304505c",
    "deepnote_cell_type": "code"
   },
   "outputs": [],
   "execution_count": null
  },
  {
   "cell_type": "markdown",
   "source": "<a style='text-decoration:none;line-height:16px;display:flex;color:#5B5B62;padding:10px;justify-content:end;' href='https://deepnote.com?utm_source=created-in-deepnote-cell&projectId=f8149d1c-e6b1-497a-9109-f01641a8231a' target=\"_blank\">\n<img alt='Created in deepnote.com' style='display:inline;max-height:16px;margin:0px;margin-right:7.5px;' src='data:image/svg+xml;base64,PD94bWwgdmVyc2lvbj0iMS4wIiBlbmNvZGluZz0iVVRGLTgiPz4KPHN2ZyB3aWR0aD0iODBweCIgaGVpZ2h0PSI4MHB4IiB2aWV3Qm94PSIwIDAgODAgODAiIHZlcnNpb249IjEuMSIgeG1sbnM9Imh0dHA6Ly93d3cudzMub3JnLzIwMDAvc3ZnIiB4bWxuczp4bGluaz0iaHR0cDovL3d3dy53My5vcmcvMTk5OS94bGluayI+CiAgICA8IS0tIEdlbmVyYXRvcjogU2tldGNoIDU0LjEgKDc2NDkwKSAtIGh0dHBzOi8vc2tldGNoYXBwLmNvbSAtLT4KICAgIDx0aXRsZT5Hcm91cCAzPC90aXRsZT4KICAgIDxkZXNjPkNyZWF0ZWQgd2l0aCBTa2V0Y2guPC9kZXNjPgogICAgPGcgaWQ9IkxhbmRpbmciIHN0cm9rZT0ibm9uZSIgc3Ryb2tlLXdpZHRoPSIxIiBmaWxsPSJub25lIiBmaWxsLXJ1bGU9ImV2ZW5vZGQiPgogICAgICAgIDxnIGlkPSJBcnRib2FyZCIgdHJhbnNmb3JtPSJ0cmFuc2xhdGUoLTEyMzUuMDAwMDAwLCAtNzkuMDAwMDAwKSI+CiAgICAgICAgICAgIDxnIGlkPSJHcm91cC0zIiB0cmFuc2Zvcm09InRyYW5zbGF0ZSgxMjM1LjAwMDAwMCwgNzkuMDAwMDAwKSI+CiAgICAgICAgICAgICAgICA8cG9seWdvbiBpZD0iUGF0aC0yMCIgZmlsbD0iIzAyNjVCNCIgcG9pbnRzPSIyLjM3NjIzNzYyIDgwIDM4LjA0NzY2NjcgODAgNTcuODIxNzgyMiA3My44MDU3NTkyIDU3LjgyMTc4MjIgMzIuNzU5MjczOSAzOS4xNDAyMjc4IDMxLjY4MzE2ODMiPjwvcG9seWdvbj4KICAgICAgICAgICAgICAgIDxwYXRoIGQ9Ik0zNS4wMDc3MTgsODAgQzQyLjkwNjIwMDcsNzYuNDU0OTM1OCA0Ny41NjQ5MTY3LDcxLjU0MjI2NzEgNDguOTgzODY2LDY1LjI2MTk5MzkgQzUxLjExMjI4OTksNTUuODQxNTg0MiA0MS42NzcxNzk1LDQ5LjIxMjIyODQgMjUuNjIzOTg0Niw0OS4yMTIyMjg0IEMyNS40ODQ5Mjg5LDQ5LjEyNjg0NDggMjkuODI2MTI5Niw0My4yODM4MjQ4IDM4LjY0NzU4NjksMzEuNjgzMTY4MyBMNzIuODcxMjg3MSwzMi41NTQ0MjUgTDY1LjI4MDk3Myw2Ny42NzYzNDIxIEw1MS4xMTIyODk5LDc3LjM3NjE0NCBMMzUuMDA3NzE4LDgwIFoiIGlkPSJQYXRoLTIyIiBmaWxsPSIjMDAyODY4Ij48L3BhdGg+CiAgICAgICAgICAgICAgICA8cGF0aCBkPSJNMCwzNy43MzA0NDA1IEwyNy4xMTQ1MzcsMC4yNTcxMTE0MzYgQzYyLjM3MTUxMjMsLTEuOTkwNzE3MDEgODAsMTAuNTAwMzkyNyA4MCwzNy43MzA0NDA1IEM4MCw2NC45NjA0ODgyIDY0Ljc3NjUwMzgsNzkuMDUwMzQxNCAzNC4zMjk1MTEzLDgwIEM0Ny4wNTUzNDg5LDc3LjU2NzA4MDggNTMuNDE4MjY3Nyw3MC4zMTM2MTAzIDUzLjQxODI2NzcsNTguMjM5NTg4NSBDNTMuNDE4MjY3Nyw0MC4xMjg1NTU3IDM2LjMwMzk1NDQsMzcuNzMwNDQwNSAyNS4yMjc0MTcsMzcuNzMwNDQwNSBDMTcuODQzMDU4NiwzNy43MzA0NDA1IDkuNDMzOTE5NjYsMzcuNzMwNDQwNSAwLDM3LjczMDQ0MDUgWiIgaWQ9IlBhdGgtMTkiIGZpbGw9IiMzNzkzRUYiPjwvcGF0aD4KICAgICAgICAgICAgPC9nPgogICAgICAgIDwvZz4KICAgIDwvZz4KPC9zdmc+' > </img>\nCreated in <span style='font-weight:600;margin-left:4px;'>Deepnote</span></a>",
   "metadata": {
    "tags": [],
    "created_in_deepnote_cell": true,
    "deepnote_cell_type": "markdown"
   }
  }
 ],
 "nbformat": 4,
 "nbformat_minor": 4,
 "metadata": {
  "kernelspec": {
   "display_name": "Python (data_science)",
   "language": "python",
   "name": "data_science"
  },
  "language_info": {
   "codemirror_mode": {
    "name": "ipython",
    "version": 3
   },
   "file_extension": ".py",
   "mimetype": "text/x-python",
   "name": "python",
   "nbconvert_exporter": "python",
   "pygments_lexer": "ipython3",
   "version": "3.8.1"
  },
  "deepnote_notebook_id": "8d49539b-e498-4ca9-a4fd-dfc7d8181d8f",
  "deepnote": {},
  "deepnote_execution_queue": []
 }
}