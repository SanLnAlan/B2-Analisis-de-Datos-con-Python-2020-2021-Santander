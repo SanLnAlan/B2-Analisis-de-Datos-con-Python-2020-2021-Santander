{
 "cells": [
  {
   "cell_type": "markdown",
   "source": "## Reto 1: Boxplots\n\n### 1. Objetivos:\n    - Aprender a graficar e interpretar boxplots utilizando Seaborn\n    - Aprender a lidiar con valores atípicos usando IQR-Score\n \n---\n    \n### 2. Desarrollo:",
   "metadata": {
    "cell_id": "00000-02a5b3c1-90e7-4dfc-af33-b633e05fdacd",
    "deepnote_cell_type": "markdown"
   }
  },
  {
   "cell_type": "markdown",
   "source": "#### a) Usando boxplots para analizar la distribución de nuestros datos\n\nVamos a hacer algunas gráficas de boxplot y describirlas en equipo. Usa Seaborn para generar gráficas boxplot de los siguientes datasets y columnas:\n\n1. Dataset: 'near_earth_objects-jan_feb_1995-clean.csv'\n    - Columnas a graficar: 'estimated_diameter.meters.estimated_diameter_max' y 'relative_velocity.kilometers_per_second'\n2. Dataset: 'new_york_times_bestsellers-clean.json'\n    - Columnas a graficar: 'price.numberDouble'\n3. Dataset: 'melbourne_housing-clean.csv'\n    - Columnas a graficar: 'land_size'\n    \n> Para conocer más detalles acerca de estos datasets, ve a Datasets/Readme.md y visita los links de las fuentes de donde provienen. Es una gran idea hacer esto para que entiendas el contexto alrededor de los análisis que vamos a estar realizando.\n    \nRealiza estas 4 visualizaciones y comenta con la experta y tus compañeros qué conclusiones o hipótesis podemos hacer sobre nuestros datos. Para profundizar en el análisis puedes obtener también el rango, la mediana, el valor mínimo y máximo, el percentil 25 y el percentil 75. De esta manera tendrás valores concretos con los que realizar tu análisis.",
   "metadata": {
    "cell_id": "00001-3257b577-9513-4d52-8acb-0e2e4ee584dd",
    "deepnote_cell_type": "markdown"
   }
  },
  {
   "cell_type": "code",
   "metadata": {
    "tags": [],
    "cell_id": "00002-9f6801a1-9960-47d3-8b45-5989a1bf8fa6",
    "deepnote_to_be_reexecuted": false,
    "source_hash": "2398260e",
    "execution_start": 1630027812850,
    "execution_millis": 2,
    "deepnote_cell_type": "code"
   },
   "source": "import pandas as pd\nimport seaborn as sns\nimport matplotlib.pyplot as plt\n\n",
   "execution_count": null,
   "outputs": []
  },
  {
   "cell_type": "code",
   "metadata": {
    "tags": [],
    "cell_id": "00003-602473b9-6716-4af3-b6d5-6abe41463629",
    "deepnote_to_be_reexecuted": false,
    "source_hash": "f6d52b76",
    "execution_start": 1630026180994,
    "execution_millis": 70,
    "deepnote_cell_type": "code"
   },
   "source": "ne = pd.read_csv(\"/work/B2-Analisis-de-Datos-con-Python-2020-2021-Santander/Datasets/near_earth_objects-jan_feb_1995-clean.csv\")\nbs = pd.read_json(\"/work/B2-Analisis-de-Datos-con-Python-2020-2021-Santander/Datasets/new_york_times_bestsellers-clean.json\")\nm = pd.read_csv(\"/work/B2-Analisis-de-Datos-con-Python-2020-2021-Santander/Datasets/melbourne_housing-clean.csv\")\n",
   "execution_count": null,
   "outputs": []
  },
  {
   "cell_type": "code",
   "metadata": {
    "cell_id": "00002-9e34236f-0343-4678-8f7d-f5be30ad4736",
    "deepnote_to_be_reexecuted": false,
    "source_hash": "a12057c2",
    "execution_start": 1630026130364,
    "execution_millis": 155,
    "deepnote_cell_type": "code"
   },
   "source": "sns.boxplot(x = ne['estimated_diameter.meters.estimated_diameter_max'],showmeans=True)\n#sns.boxplot(x=, showmeans=True)",
   "execution_count": null,
   "outputs": [
    {
     "output_type": "execute_result",
     "execution_count": 9,
     "data": {
      "text/plain": "<AxesSubplot:xlabel='estimated_diameter.meters.estimated_diameter_max'>"
     },
     "metadata": {}
    },
    {
     "data": {
      "text/plain": "<Figure size 432x288 with 1 Axes>",
      "image/png": "[encoded data removed]"
     },
     "metadata": {
      "needs_background": "light",
      "image/png": {
       "width": 352,
       "height": 263
      }
     },
     "output_type": "display_data"
    }
   ]
  },
  {
   "cell_type": "code",
   "metadata": {
    "tags": [],
    "cell_id": "00004-25485b46-6263-44cb-81d7-d790f47a4c85",
    "deepnote_to_be_reexecuted": false,
    "source_hash": "d66ad101",
    "execution_start": 1630026029776,
    "execution_millis": 130,
    "deepnote_cell_type": "code"
   },
   "source": "sns.boxplot(x = ne['relative_velocity.kilometers_per_second'])\n",
   "execution_count": null,
   "outputs": [
    {
     "output_type": "execute_result",
     "execution_count": 7,
     "data": {
      "text/plain": "<AxesSubplot:xlabel='relative_velocity.kilometers_per_second'>"
     },
     "metadata": {}
    },
    {
     "data": {
      "text/plain": "<Figure size 432x288 with 1 Axes>",
      "image/png": "[encoded data removed]"
     },
     "metadata": {
      "needs_background": "light",
      "image/png": {
       "width": 352,
       "height": 263
      }
     },
     "output_type": "display_data"
    }
   ]
  },
  {
   "cell_type": "code",
   "metadata": {
    "tags": [],
    "cell_id": "00006-5c70d307-332f-4bd0-a21e-583dd180d5ad",
    "deepnote_to_be_reexecuted": false,
    "source_hash": "5e21b693",
    "execution_start": 1630027851671,
    "execution_millis": 136,
    "deepnote_cell_type": "code"
   },
   "source": "sns.boxplot(x=bs[\"price.numberDouble\"])\nplt.title(\"hay juan\")\n#price.numberDouble'",
   "execution_count": null,
   "outputs": [
    {
     "output_type": "execute_result",
     "execution_count": 45,
     "data": {
      "text/plain": "Text(0.5, 1.0, 'hay juan')"
     },
     "metadata": {}
    },
    {
     "data": {
      "text/plain": "<Figure size 432x288 with 1 Axes>",
      "image/png": "[encoded data removed]"
     },
     "metadata": {
      "needs_background": "light",
      "image/png": {
       "width": 352,
       "height": 278
      }
     },
     "output_type": "display_data"
    }
   ]
  },
  {
   "cell_type": "code",
   "metadata": {
    "tags": [],
    "cell_id": "00007-0a0e9fff-8e94-4b4d-ad8b-3e89a0f553c8",
    "deepnote_to_be_reexecuted": false,
    "source_hash": "8377a5bf",
    "execution_start": 1630026315139,
    "execution_millis": 120,
    "deepnote_cell_type": "code"
   },
   "source": "sns.boxplot(m['land_size'])",
   "execution_count": null,
   "outputs": [
    {
     "name": "stderr",
     "text": "/shared-libs/python3.7/py/lib/python3.7/site-packages/seaborn/_decorators.py:43: FutureWarning: Pass the following variable as a keyword arg: x. From version 0.12, the only valid positional argument will be `data`, and passing other arguments without an explicit keyword will result in an error or misinterpretation.\n  FutureWarning\n",
     "output_type": "stream"
    },
    {
     "output_type": "execute_result",
     "execution_count": 15,
     "data": {
      "text/plain": "<AxesSubplot:xlabel='land_size'>"
     },
     "metadata": {}
    },
    {
     "data": {
      "text/plain": "<Figure size 432x288 with 1 Axes>",
      "image/png": "[encoded data removed]"
     },
     "metadata": {
      "needs_background": "light",
      "image/png": {
       "width": 352,
       "height": 263
      }
     },
     "output_type": "display_data"
    }
   ]
  },
  {
   "cell_type": "markdown",
   "source": "#### b) Eliminando valores atípicos\n\nA partir de las visualizaciones que realizaste en el punto anterior, decide en cuáles columnas tenemos valores atípicos que pueden estorbarnos en nuestro análisis. Elimina dichos valores atípicos usando el Score de Rango Intercuartílico. Puedes probar variando un poco la medida del Score (1.5 * IQR) para eliminar solamente los valores que tú consideras como extremos.\n\nPara observar los cambios a detalle, obtén la mediana, la media y la desviación estándar de tus datos *antes* y *después* de eliminar los valores atípicos. Compara estos valores y explica qué es lo que está pasando.\n\nGrafica de nuevo tus datos sin valores atípicos para compararlos con las gráficas anteriores.\n\nComenta con la experta y tus compañeros tus hallazgos.",
   "metadata": {
    "cell_id": "00003-25ec5266-3e92-461a-8c4f-aefef859e4f4",
    "deepnote_cell_type": "markdown"
   }
  },
  {
   "cell_type": "code",
   "metadata": {
    "cell_id": "00004-a191d99b-f5bb-4aa4-b869-4492164e062b",
    "deepnote_to_be_reexecuted": false,
    "source_hash": "18e87678",
    "execution_start": 1630028083499,
    "execution_millis": 0,
    "deepnote_cell_type": "code"
   },
   "source": "def boxplotear(df,col):\n\n#col = 'estimated_diameter.meters.estimated_diameter_max'\n    q25 = df[col].quantile(0.25)\n    q75 = df[col].quantile(0.75)\n    iqr = q75 - q25\n    lim_sup = df[col] < q75 + 1.5 * iqr\n    lim_inf = df[col] > q25 - 1.5 * iqr\n\n    df_iqr = df[lim_sup & lim_inf]\n    sns.boxplot(x = df_iqr[col],showmeans=True)\n    print(f\"mediana 1 = {df[col].median():.2f} || mediana 2 = {df_iqr[col].median():.2f}\")\n    print(f\"media 1 = {df[col].mean():.2f} || mediana 2 = {df_iqr[col].mean():.2f}\")\n    print(f\"std 1 = {df[col].std():.2f} || mediana 2 = {df_iqr[col].std():.2f}\")\n\n\n",
   "execution_count": null,
   "outputs": []
  },
  {
   "cell_type": "code",
   "metadata": {
    "tags": [],
    "cell_id": "00010-61d03652-ad28-405c-9e63-d431d6174d2c",
    "deepnote_to_be_reexecuted": false,
    "source_hash": "330d46ed",
    "execution_start": 1630028087853,
    "execution_millis": 202,
    "deepnote_cell_type": "code"
   },
   "source": "boxplotear(ne,\"estimated_diameter.meters.estimated_diameter_max\")",
   "execution_count": null,
   "outputs": [
    {
     "name": "stdout",
     "text": "mediana 1 = 215.79 || mediana 2 = 196.81\nmedia 1 = 410.09 || mediana 2 = 297.20\nstd 1 = 614.69 || mediana 2 = 292.32\n",
     "output_type": "stream"
    },
    {
     "data": {
      "text/plain": "<Figure size 432x288 with 1 Axes>",
      "image/png": "[encoded data removed]"
     },
     "metadata": {
      "needs_background": "light",
      "image/png": {
       "width": 353,
       "height": 263
      }
     },
     "output_type": "display_data"
    }
   ]
  },
  {
   "cell_type": "code",
   "metadata": {
    "tags": [],
    "cell_id": "00011-d660b4bb-95d3-48e7-afa5-40aa8563556c",
    "deepnote_to_be_reexecuted": false,
    "source_hash": "f616a87",
    "execution_start": 1630027960270,
    "execution_millis": 76,
    "deepnote_cell_type": "code"
   },
   "source": "boxplotear(bs,\"price.numberDouble\")\n",
   "execution_count": null,
   "outputs": [
    {
     "name": "stdout",
     "text": "mediana 1 = 26.95 || mediana 2 = 26.99\nmedia 1 = 26.82 || mediana 2 = 26.95\nstd 1 = 26.82 || mediana 2 = 26.95\n",
     "output_type": "stream"
    },
    {
     "data": {
      "text/plain": "<Figure size 432x288 with 1 Axes>",
      "image/png": "[encoded data removed]"
     },
     "metadata": {
      "needs_background": "light",
      "image/png": {
       "width": 352,
       "height": 262
      }
     },
     "output_type": "display_data"
    }
   ]
  },
  {
   "cell_type": "code",
   "metadata": {
    "tags": [],
    "cell_id": "00012-dfdaaab4-c0f2-4daa-bde7-2144dfed619b",
    "deepnote_to_be_reexecuted": false,
    "source_hash": "69933d88",
    "execution_start": 1630028103951,
    "execution_millis": 146,
    "deepnote_cell_type": "code"
   },
   "source": "boxplotear(m,\"land_size\")",
   "execution_count": null,
   "outputs": [
    {
     "name": "stdout",
     "text": "mediana 1 = 412.00 || mediana 2 = 368.00\nmedia 1 = 554.46 || mediana 2 = 393.32\nstd 1 = 1460.43 || mediana 2 = 290.90\n",
     "output_type": "stream"
    },
    {
     "data": {
      "text/plain": "<Figure size 432x288 with 1 Axes>",
      "image/png": "[encoded data removed]"
     },
     "metadata": {
      "needs_background": "light",
      "image/png": {
       "width": 352,
       "height": 263
      }
     },
     "output_type": "display_data"
    }
   ]
  },
  {
   "cell_type": "code",
   "metadata": {
    "tags": [],
    "cell_id": "00013-f54aad99-7dcf-48d3-9c66-cc47221cd788",
    "deepnote_cell_type": "code"
   },
   "source": "",
   "execution_count": null,
   "outputs": []
  },
  {
   "cell_type": "markdown",
   "source": "<a style='text-decoration:none;line-height:16px;display:flex;color:#5B5B62;padding:10px;justify-content:end;' href='https://deepnote.com?utm_source=created-in-deepnote-cell&projectId=f8149d1c-e6b1-497a-9109-f01641a8231a' target=\"_blank\">\n<img alt='Created in deepnote.com' style='display:inline;max-height:16px;margin:0px;margin-right:7.5px;' src='data:image/svg+xml;base64,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' > </img>\nCreated in <span style='font-weight:600;margin-left:4px;'>Deepnote</span></a>",
   "metadata": {
    "tags": [],
    "created_in_deepnote_cell": true,
    "deepnote_cell_type": "markdown"
   }
  }
 ],
 "nbformat": 4,
 "nbformat_minor": 4,
 "metadata": {
  "kernelspec": {
   "display_name": "Python (data_science)",
   "language": "python",
   "name": "data_science"
  },
  "language_info": {
   "codemirror_mode": {
    "name": "ipython",
    "version": 3
   },
   "file_extension": ".py",
   "mimetype": "text/x-python",
   "name": "python",
   "nbconvert_exporter": "python",
   "pygments_lexer": "ipython3",
   "version": "3.8.5"
  },
  "deepnote_notebook_id": "c267b609-6113-43e8-8a45-23bdc0f5b102",
  "deepnote": {},
  "deepnote_execution_queue": []
 }
}