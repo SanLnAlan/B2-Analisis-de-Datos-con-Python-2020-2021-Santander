{
 "cells": [
  {
   "cell_type": "markdown",
   "source": "## Reto 2: Tablas de frecuencias\n\n### 1. Objetivos:\n    - Aprender a generar tablas de frecuencias segmentando nuestros datos\n \n---\n    \n### 2. Desarrollo:",
   "metadata": {
    "cell_id": "00000-37ed6715-9ab7-4439-9a01-8dc351deedd3",
    "deepnote_cell_type": "markdown"
   }
  },
  {
   "cell_type": "markdown",
   "source": "#### a) Analizando distribución con tablas de frecuencias\n\nVamos a generar tablas de frecuencias de los siguientes datasets y columnas:\n\n1. Dataset: 'near_earth_objects-jan_feb_1995-clean.csv'\n    - Columnas a graficar: 'estimated_diameter.meters.estimated_diameter_max' y 'relative_velocity.kilometers_per_second'\n2. Dataset: 'new_york_times_bestsellers-clean.json'\n    - Columnas a graficar: 'price.numberDouble'\n3. Dataset: 'melbourne_housing-clean.csv'\n    - Columnas a graficar: 'land_size'\n    \nEstos conjuntos de datos son los mismos que graficamos en el Reto anterior. Antes de generar las tablas de frecuencias, revisa el rango de tus conjuntos de datos y decide el número de segmentos adecuado para cada uno.\n\nDespués, genera las tablas de frecuencias para cada uno de estos conjuntos de datos y compáralos con las gráficas de caja que realizaste en el Reto anterior. ¿Hay información nueva? ¿Qué ventajas o desventajas nos da esta nueva perspectiva?\n\nPiensa cuál de las dos aproximaciones (boxplots y tablas de frecuencia) resulta más útil para detectar valores atípicos. ¿O simplemente son útiles en diferentes contextos?",
   "metadata": {
    "cell_id": "00001-bc00b158-40b6-46ab-b223-a58538d89008",
    "deepnote_cell_type": "markdown"
   }
  },
  {
   "cell_type": "code",
   "source": "import pandas as pd\nimport seaborn as sns\nimport matplotlib.pyplot as plt\nimport numpy as np",
   "metadata": {
    "tags": [],
    "cell_id": "00002-b35970bf-89f7-4d7f-b276-cd58acbbb26e",
    "deepnote_to_be_reexecuted": false,
    "source_hash": "f473f26c",
    "execution_start": 1630030492269,
    "execution_millis": 2,
    "deepnote_cell_type": "code"
   },
   "outputs": [],
   "execution_count": null
  },
  {
   "cell_type": "code",
   "source": "ne = pd.read_csv(\"/work/B2-Analisis-de-Datos-con-Python-2020-2021-Santander/Datasets/near_earth_objects-jan_feb_1995-clean.csv\")\nbs = pd.read_json(\"/work/B2-Analisis-de-Datos-con-Python-2020-2021-Santander/Datasets/new_york_times_bestsellers-clean.json\")\nm = pd.read_csv(\"/work/B2-Analisis-de-Datos-con-Python-2020-2021-Santander/Datasets/melbourne_housing-clean.csv\")\n\nne_col1 = 'estimated_diameter.meters.estimated_diameter_max'\nne_col2 = 'relative_velocity.kilometers_per_second'\nbs_col = 'price.numberDouble'\nm_col = 'land_size'\n",
   "metadata": {
    "tags": [],
    "cell_id": "00003-0eabd8b4-aaf2-43a4-8799-ba3dbd24ce4c",
    "deepnote_to_be_reexecuted": false,
    "source_hash": "7cd45cd7",
    "execution_start": 1630029228171,
    "execution_millis": 59,
    "deepnote_cell_type": "code"
   },
   "outputs": [],
   "execution_count": null
  },
  {
   "cell_type": "markdown",
   "source": "Para obtener la cantidad de segmentos($k$):\n\n$$n = 2^k$$\n\ndespejando $k$ con ley de logáritmos:\n\n$$k = log_2n$$\n",
   "metadata": {
    "tags": [],
    "cell_id": "00004-37adb015-80a4-4143-8674-bf791722c018",
    "deepnote_cell_type": "markdown"
   }
  },
  {
   "cell_type": "code",
   "source": "def rango(df,col):\n    r = df[col].max() - df[col].min()\n    n = np.log2(r).round()\n    return tablear(df,col,int(n))\n\ndef tablear(df,col,n):\n    segmento = pd.cut(df[col],n,include_lowest)\n    return df[col].groupby(segmento).count()",
   "metadata": {
    "tags": [],
    "cell_id": "00004-8004c0b8-356a-4136-a71e-c5417862b853",
    "deepnote_to_be_reexecuted": false,
    "source_hash": "be49efa9",
    "execution_start": 1630030665604,
    "execution_millis": 4,
    "deepnote_cell_type": "code"
   },
   "outputs": [],
   "execution_count": null
  },
  {
   "cell_type": "code",
   "source": "rango(ne,col1)",
   "metadata": {
    "tags": [],
    "cell_id": "00005-ae331f5d-b091-4fa4-a6e3-5dac60cae990",
    "deepnote_to_be_reexecuted": false,
    "source_hash": "56d82582",
    "execution_start": 1630030667413,
    "execution_millis": 6,
    "deepnote_cell_type": "code"
   },
   "outputs": [
    {
     "output_type": "execute_result",
     "execution_count": 32,
     "data": {
      "text/plain": "estimated_diameter.meters.estimated_diameter_max\n(-3.535, 504.048]       246\n(504.048, 1005.118]      55\n(1005.118, 1506.188]     18\n(1506.188, 2007.257]      7\n(2007.257, 2508.327]      1\n(2508.327, 3009.396]      2\n(3009.396, 3510.466]      2\n(3510.466, 4011.536]      1\n(4011.536, 4512.605]      0\n(4512.605, 5013.675]      0\n(5013.675, 5514.745]      0\n(5514.745, 6015.814]      0\n(6015.814, 6516.884]      1\nName: estimated_diameter.meters.estimated_diameter_max, dtype: int64"
     },
     "metadata": {}
    }
   ],
   "execution_count": null
  },
  {
   "cell_type": "code",
   "source": "rango(ne,col1)",
   "metadata": {
    "tags": [],
    "cell_id": "00005-8eadce61-e44b-4164-8dd7-fbdcc8feb28d",
    "deepnote_to_be_reexecuted": false,
    "source_hash": "56d82582",
    "execution_start": 1630030878718,
    "execution_millis": 9,
    "deepnote_cell_type": "code"
   },
   "outputs": [
    {
     "output_type": "execute_result",
     "execution_count": 36,
     "data": {
      "text/plain": "estimated_diameter.meters.estimated_diameter_max\n(-3.535, 504.048]       246\n(504.048, 1005.118]      55\n(1005.118, 1506.188]     18\n(1506.188, 2007.257]      7\n(2007.257, 2508.327]      1\n(2508.327, 3009.396]      2\n(3009.396, 3510.466]      2\n(3510.466, 4011.536]      1\n(4011.536, 4512.605]      0\n(4512.605, 5013.675]      0\n(5013.675, 5514.745]      0\n(5514.745, 6015.814]      0\n(6015.814, 6516.884]      1\nName: estimated_diameter.meters.estimated_diameter_max, dtype: int64"
     },
     "metadata": {}
    }
   ],
   "execution_count": null
  },
  {
   "cell_type": "code",
   "source": "rango(ne,col2)",
   "metadata": {
    "tags": [],
    "cell_id": "00006-59c09c31-faf6-4919-a13c-2e0e7c659ba9",
    "deepnote_to_be_reexecuted": false,
    "source_hash": "d9068b0f",
    "execution_start": 1630030898747,
    "execution_millis": 14,
    "deepnote_cell_type": "code"
   },
   "outputs": [
    {
     "output_type": "execute_result",
     "execution_count": 39,
     "data": {
      "text/plain": "relative_velocity.kilometers_per_second\n(0.642, 8.651]       85\n(8.651, 16.62]      126\n(16.62, 24.589]      79\n(24.589, 32.558]     33\n(32.558, 40.527]     10\nName: relative_velocity.kilometers_per_second, dtype: int64"
     },
     "metadata": {}
    }
   ],
   "execution_count": null
  },
  {
   "cell_type": "code",
   "source": "rango(bs,bs_col)",
   "metadata": {
    "tags": [],
    "cell_id": "00007-0d420b7e-cc18-404a-a3cd-e6fa815e60b6",
    "deepnote_to_be_reexecuted": false,
    "source_hash": "ef928b6d",
    "execution_start": 1630030889110,
    "execution_millis": 13,
    "deepnote_cell_type": "code"
   },
   "outputs": [
    {
     "output_type": "execute_result",
     "execution_count": 38,
     "data": {
      "text/plain": "price.numberDouble\n(14.97, 19.99]      47\n(19.99, 24.99]     479\n(24.99, 29.99]    2486\n(29.99, 34.99]      21\nName: price.numberDouble, dtype: int64"
     },
     "metadata": {}
    }
   ],
   "execution_count": null
  },
  {
   "cell_type": "code",
   "source": "rango(m,m_col)",
   "metadata": {
    "tags": [],
    "cell_id": "00008-8ecf3885-b63b-48fb-9185-8f2c1d2a2f67",
    "deepnote_to_be_reexecuted": false,
    "source_hash": "df2a85ba",
    "execution_start": 1630030907257,
    "execution_millis": 19,
    "deepnote_cell_type": "code"
   },
   "outputs": [
    {
     "output_type": "execute_result",
     "execution_count": 40,
     "data": {
      "text/plain": "land_size\n(-76.0, 4750.0]       11594\n(4750.0, 9500.0]         32\n(9500.0, 14250.0]         3\n(14250.0, 19000.0]        9\n(19000.0, 23750.0]        2\n(23750.0, 28500.0]        0\n(28500.0, 33250.0]        0\n(33250.0, 38000.0]        2\n(38000.0, 42750.0]        2\n(42750.0, 47500.0]        0\n(47500.0, 52250.0]        0\n(52250.0, 57000.0]        0\n(57000.0, 61750.0]        0\n(61750.0, 66500.0]        0\n(66500.0, 71250.0]        0\n(71250.0, 76000.0]        2\nName: land_size, dtype: int64"
     },
     "metadata": {}
    }
   ],
   "execution_count": null
  },
  {
   "cell_type": "code",
   "source": "",
   "metadata": {
    "tags": [],
    "cell_id": "00009-82d5a419-ea75-4ce1-a95d-838b000f48c5",
    "deepnote_cell_type": "code"
   },
   "outputs": [],
   "execution_count": null
  },
  {
   "cell_type": "markdown",
   "source": "<a style='text-decoration:none;line-height:16px;display:flex;color:#5B5B62;padding:10px;justify-content:end;' href='https://deepnote.com?utm_source=created-in-deepnote-cell&projectId=f8149d1c-e6b1-497a-9109-f01641a8231a' target=\"_blank\">\n<img alt='Created in deepnote.com' style='display:inline;max-height:16px;margin:0px;margin-right:7.5px;' src='data:image/svg+xml;base64,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' > </img>\nCreated in <span style='font-weight:600;margin-left:4px;'>Deepnote</span></a>",
   "metadata": {
    "tags": [],
    "created_in_deepnote_cell": true,
    "deepnote_cell_type": "markdown"
   }
  }
 ],
 "nbformat": 4,
 "nbformat_minor": 4,
 "metadata": {
  "kernelspec": {
   "display_name": "Python (data_science)",
   "language": "python",
   "name": "data_science"
  },
  "language_info": {
   "codemirror_mode": {
    "name": "ipython",
    "version": 3
   },
   "file_extension": ".py",
   "mimetype": "text/x-python",
   "name": "python",
   "nbconvert_exporter": "python",
   "pygments_lexer": "ipython3",
   "version": "3.8.5"
  },
  "deepnote_notebook_id": "994caf88-4c1e-47d2-ba64-0b46546fd381",
  "deepnote": {},
  "deepnote_execution_queue": []
 }
}