{
 "cells": [
  {
   "cell_type": "markdown",
   "source": "## Ejemplo 1: Boxplots\n\n### 1. Objetivos:\n    - Aprender a graficar e interpretar boxplots utilizando Seaborn\n    - Aprender a lidiar con valores atípicos usando IQR-Score\n \n---\n    \n### 2. Desarrollo:",
   "metadata": {
    "cell_id": "00000-31fb77e8-9db3-4fae-b9fd-85e27798bc22",
    "deepnote_cell_type": "markdown"
   }
  },
  {
   "cell_type": "markdown",
   "source": "Los boxplots son una manera de visualizar la distribución de nuestros datos usando percentiles. Vamos a utilizar una librería de visualización de datos llamada Seaborn que hace muy sencilla la creación de boxplots.",
   "metadata": {
    "cell_id": "00001-8c253290-1aaf-4619-89c9-bfe400fab225",
    "deepnote_cell_type": "markdown"
   }
  },
  {
   "cell_type": "code",
   "metadata": {
    "cell_id": "00002-7e1d4bdb-06fd-4440-8f24-ccfdade0e402",
    "deepnote_to_be_reexecuted": false,
    "source_hash": "46cb16f6",
    "execution_start": 1630024373729,
    "execution_millis": 2480,
    "deepnote_cell_type": "code"
   },
   "source": "import seaborn as sns\nimport matplotlib.pyplot as plt\nimport pandas as pd",
   "outputs": [],
   "execution_count": null
  },
  {
   "cell_type": "code",
   "metadata": {
    "cell_id": "00003-4311d22d-6115-447a-925f-26bac30f2fac",
    "deepnote_to_be_reexecuted": false,
    "source_hash": "7dbb2dee",
    "execution_start": 1630024378077,
    "execution_millis": 72,
    "deepnote_cell_type": "code"
   },
   "source": "df = pd.read_csv('../../Datasets/melbourne_housing-clean.csv', index_col=0)",
   "outputs": [],
   "execution_count": null
  },
  {
   "cell_type": "code",
   "metadata": {
    "cell_id": "00004-294b0d1c-ff3f-4d3f-b385-0eead0d07ba4",
    "deepnote_to_be_reexecuted": false,
    "source_hash": "c085b6ba",
    "execution_start": 1630024382102,
    "execution_millis": 58,
    "deepnote_cell_type": "code"
   },
   "source": "df.head()",
   "outputs": [
    {
     "output_type": "execute_result",
     "execution_count": 3,
     "data": {
      "application/vnd.deepnote.dataframe.v2+json": {
       "row_count": 5,
       "column_count": 19,
       "columns": [
        {
         "name": "suburb",
         "dtype": "object",
         "stats": {
          "unique_count": 1,
          "nan_count": 0,
          "categories": [
           {
            "name": "Abbotsford",
            "count": 5
           }
          ]
         }
        },
        {
         "name": "address",
         "dtype": "object",
         "stats": {
          "unique_count": 5,
          "nan_count": 0,
          "categories": [
           {
            "name": "85 Turner St",
            "count": 1
           },
           {
            "name": "25 Bloomburg St",
            "count": 1
           },
           {
            "name": "3 others",
            "count": 3
           }
          ]
         }
        },
        {
         "name": "rooms",
         "dtype": "int64",
         "stats": {
          "unique_count": 3,
          "nan_count": 0,
          "min": "2",
          "max": "4",
          "histogram": [
           {
            "bin_start": 2,
            "bin_end": 2.2,
            "count": 2
           },
           {
            "bin_start": 2.2,
            "bin_end": 2.4,
            "count": 0
           },
           {
            "bin_start": 2.4,
            "bin_end": 2.6,
            "count": 0
           },
           {
            "bin_start": 2.6,
            "bin_end": 2.8,
            "count": 0
           },
           {
            "bin_start": 2.8,
            "bin_end": 3,
            "count": 0
           },
           {
            "bin_start": 3,
            "bin_end": 3.2,
            "count": 2
           },
           {
            "bin_start": 3.2,
            "bin_end": 3.4000000000000004,
            "count": 0
           },
           {
            "bin_start": 3.4000000000000004,
            "bin_end": 3.6,
            "count": 0
           },
           {
            "bin_start": 3.6,
            "bin_end": 3.8,
            "count": 0
           },
           {
            "bin_start": 3.8,
            "bin_end": 4,
            "count": 1
           }
          ]
         }
        },
        {
         "name": "type",
         "dtype": "object",
         "stats": {
          "unique_count": 1,
          "nan_count": 0,
          "categories": [
           {
            "name": "h",
            "count": 5
           }
          ]
         }
        },
        {
         "name": "price",
         "dtype": "float64",
         "stats": {
          "unique_count": 5,
          "nan_count": 0,
          "min": "850000.0",
          "max": "1600000.0",
          "histogram": [
           {
            "bin_start": 850000,
            "bin_end": 925000,
            "count": 1
           },
           {
            "bin_start": 925000,
            "bin_end": 1000000,
            "count": 0
           },
           {
            "bin_start": 1000000,
            "bin_end": 1075000,
            "count": 1
           },
           {
            "bin_start": 1075000,
            "bin_end": 1150000,
            "count": 0
           },
           {
            "bin_start": 1150000,
            "bin_end": 1225000,
            "count": 0
           },
           {
            "bin_start": 1225000,
            "bin_end": 1300000,
            "count": 0
           },
           {
            "bin_start": 1300000,
            "bin_end": 1375000,
            "count": 0
           },
           {
            "bin_start": 1375000,
            "bin_end": 1450000,
            "count": 0
           },
           {
            "bin_start": 1450000,
            "bin_end": 1525000,
            "count": 2
           },
           {
            "bin_start": 1525000,
            "bin_end": 1600000,
            "count": 1
           }
          ]
         }
        },
        {
         "name": "method",
         "dtype": "object",
         "stats": {
          "unique_count": 4,
          "nan_count": 0,
          "categories": [
           {
            "name": "S",
            "count": 2
           },
           {
            "name": "SP",
            "count": 1
           },
           {
            "name": "2 others",
            "count": 2
           }
          ]
         }
        },
        {
         "name": "seller_g",
         "dtype": "object",
         "stats": {
          "unique_count": 2,
          "nan_count": 0,
          "categories": [
           {
            "name": "Biggin",
            "count": 4
           },
           {
            "name": "Nelson",
            "count": 1
           }
          ]
         }
        },
        {
         "name": "date",
         "dtype": "object",
         "stats": {
          "unique_count": 4,
          "nan_count": 0,
          "categories": [
           {
            "name": "4/03/2017",
            "count": 2
           },
           {
            "name": "3/12/2016",
            "count": 1
           },
           {
            "name": "2 others",
            "count": 2
           }
          ]
         }
        },
        {
         "name": "distance",
         "dtype": "float64",
         "stats": {
          "unique_count": 1,
          "nan_count": 0,
          "min": "2.5",
          "max": "2.5",
          "histogram": [
           {
            "bin_start": 2,
            "bin_end": 2.1,
            "count": 0
           },
           {
            "bin_start": 2.1,
            "bin_end": 2.2,
            "count": 0
           },
           {
            "bin_start": 2.2,
            "bin_end": 2.3,
            "count": 0
           },
           {
            "bin_start": 2.3,
            "bin_end": 2.4,
            "count": 0
           },
           {
            "bin_start": 2.4,
            "bin_end": 2.5,
            "count": 0
           },
           {
            "bin_start": 2.5,
            "bin_end": 2.6,
            "count": 5
           },
           {
            "bin_start": 2.6,
            "bin_end": 2.7,
            "count": 0
           },
           {
            "bin_start": 2.7,
            "bin_end": 2.8,
            "count": 0
           },
           {
            "bin_start": 2.8,
            "bin_end": 2.9,
            "count": 0
           },
           {
            "bin_start": 2.9,
            "bin_end": 3,
            "count": 0
           }
          ]
         }
        },
        {
         "name": "postcode",
         "dtype": "float64",
         "stats": {
          "unique_count": 1,
          "nan_count": 0,
          "min": "3067.0",
          "max": "3067.0",
          "histogram": [
           {
            "bin_start": 3066.5,
            "bin_end": 3066.6,
            "count": 0
           },
           {
            "bin_start": 3066.6,
            "bin_end": 3066.7,
            "count": 0
           },
           {
            "bin_start": 3066.7,
            "bin_end": 3066.8,
            "count": 0
           },
           {
            "bin_start": 3066.8,
            "bin_end": 3066.9,
            "count": 0
           },
           {
            "bin_start": 3066.9,
            "bin_end": 3067,
            "count": 0
           },
           {
            "bin_start": 3067,
            "bin_end": 3067.1,
            "count": 5
           },
           {
            "bin_start": 3067.1,
            "bin_end": 3067.2,
            "count": 0
           },
           {
            "bin_start": 3067.2,
            "bin_end": 3067.3,
            "count": 0
           },
           {
            "bin_start": 3067.3,
            "bin_end": 3067.4,
            "count": 0
           },
           {
            "bin_start": 3067.4,
            "bin_end": 3067.5,
            "count": 0
           }
          ]
         }
        },
        {
         "name": "bedroom_2",
         "dtype": "float64",
         "stats": {
          "unique_count": 2,
          "nan_count": 0,
          "min": "2.0",
          "max": "3.0",
          "histogram": [
           {
            "bin_start": 2,
            "bin_end": 2.1,
            "count": 2
           },
           {
            "bin_start": 2.1,
            "bin_end": 2.2,
            "count": 0
           },
           {
            "bin_start": 2.2,
            "bin_end": 2.3,
            "count": 0
           },
           {
            "bin_start": 2.3,
            "bin_end": 2.4,
            "count": 0
           },
           {
            "bin_start": 2.4,
            "bin_end": 2.5,
            "count": 0
           },
           {
            "bin_start": 2.5,
            "bin_end": 2.6,
            "count": 0
           },
           {
            "bin_start": 2.6,
            "bin_end": 2.7,
            "count": 0
           },
           {
            "bin_start": 2.7,
            "bin_end": 2.8,
            "count": 0
           },
           {
            "bin_start": 2.8,
            "bin_end": 2.9,
            "count": 0
           },
           {
            "bin_start": 2.9,
            "bin_end": 3,
            "count": 3
           }
          ]
         }
        },
        {
         "name": "bathroom",
         "dtype": "float64",
         "stats": {
          "unique_count": 2,
          "nan_count": 0,
          "min": "1.0",
          "max": "2.0",
          "histogram": [
           {
            "bin_start": 1,
            "bin_end": 1.1,
            "count": 3
           },
           {
            "bin_start": 1.1,
            "bin_end": 1.2,
            "count": 0
           },
           {
            "bin_start": 1.2,
            "bin_end": 1.3,
            "count": 0
           },
           {
            "bin_start": 1.3,
            "bin_end": 1.4,
            "count": 0
           },
           {
            "bin_start": 1.4,
            "bin_end": 1.5,
            "count": 0
           },
           {
            "bin_start": 1.5,
            "bin_end": 1.6,
            "count": 0
           },
           {
            "bin_start": 1.6,
            "bin_end": 1.7000000000000002,
            "count": 0
           },
           {
            "bin_start": 1.7000000000000002,
            "bin_end": 1.8,
            "count": 0
           },
           {
            "bin_start": 1.8,
            "bin_end": 1.9,
            "count": 0
           },
           {
            "bin_start": 1.9,
            "bin_end": 2,
            "count": 2
           }
          ]
         }
        },
        {
         "name": "car",
         "dtype": "float64",
         "stats": {
          "unique_count": 3,
          "nan_count": 0,
          "min": "0.0",
          "max": "2.0",
          "histogram": [
           {
            "bin_start": 0,
            "bin_end": 0.2,
            "count": 2
           },
           {
            "bin_start": 0.2,
            "bin_end": 0.4,
            "count": 0
           },
           {
            "bin_start": 0.4,
            "bin_end": 0.6000000000000001,
            "count": 0
           },
           {
            "bin_start": 0.6000000000000001,
            "bin_end": 0.8,
            "count": 0
           },
           {
            "bin_start": 0.8,
            "bin_end": 1,
            "count": 0
           },
           {
            "bin_start": 1,
            "bin_end": 1.2000000000000002,
            "count": 2
           },
           {
            "bin_start": 1.2000000000000002,
            "bin_end": 1.4000000000000001,
            "count": 0
           },
           {
            "bin_start": 1.4000000000000001,
            "bin_end": 1.6,
            "count": 0
           },
           {
            "bin_start": 1.6,
            "bin_end": 1.8,
            "count": 0
           },
           {
            "bin_start": 1.8,
            "bin_end": 2,
            "count": 1
           }
          ]
         }
        },
        {
         "name": "land_size",
         "dtype": "float64",
         "stats": {
          "unique_count": 5,
          "nan_count": 0,
          "min": "94.0",
          "max": "202.0",
          "histogram": [
           {
            "bin_start": 94,
            "bin_end": 104.8,
            "count": 1
           },
           {
            "bin_start": 104.8,
            "bin_end": 115.6,
            "count": 0
           },
           {
            "bin_start": 115.6,
            "bin_end": 126.4,
            "count": 1
           },
           {
            "bin_start": 126.4,
            "bin_end": 137.2,
            "count": 1
           },
           {
            "bin_start": 137.2,
            "bin_end": 148,
            "count": 0
           },
           {
            "bin_start": 148,
            "bin_end": 158.8,
            "count": 1
           },
           {
            "bin_start": 158.8,
            "bin_end": 169.60000000000002,
            "count": 0
           },
           {
            "bin_start": 169.60000000000002,
            "bin_end": 180.4,
            "count": 0
           },
           {
            "bin_start": 180.4,
            "bin_end": 191.2,
            "count": 0
           },
           {
            "bin_start": 191.2,
            "bin_end": 202,
            "count": 1
           }
          ]
         }
        },
        {
         "name": "council_area",
         "dtype": "object",
         "stats": {
          "unique_count": 1,
          "nan_count": 0,
          "categories": [
           {
            "name": "Yarra",
            "count": 5
           }
          ]
         }
        },
        {
         "name": "latitude",
         "dtype": "float64",
         "stats": {
          "unique_count": 5,
          "nan_count": 0,
          "min": "-37.8093",
          "max": "-37.7969",
          "histogram": [
           {
            "bin_start": -37.8093,
            "bin_end": -37.80806,
            "count": 1
           },
           {
            "bin_start": -37.80806,
            "bin_end": -37.80682,
            "count": 2
           },
           {
            "bin_start": -37.80682,
            "bin_end": -37.80558,
            "count": 0
           },
           {
            "bin_start": -37.80558,
            "bin_end": -37.80434,
            "count": 0
           },
           {
            "bin_start": -37.80434,
            "bin_end": -37.8031,
            "count": 0
           },
           {
            "bin_start": -37.8031,
            "bin_end": -37.80186,
            "count": 0
           },
           {
            "bin_start": -37.80186,
            "bin_end": -37.80062,
            "count": 0
           },
           {
            "bin_start": -37.80062,
            "bin_end": -37.79938,
            "count": 1
           },
           {
            "bin_start": -37.79938,
            "bin_end": -37.798140000000004,
            "count": 0
           },
           {
            "bin_start": -37.798140000000004,
            "bin_end": -37.7969,
            "count": 1
           }
          ]
         }
        },
        {
         "name": "longitude",
         "dtype": "float64",
         "stats": {
          "unique_count": 5,
          "nan_count": 0,
          "min": "144.9934",
          "max": "144.9984",
          "histogram": [
           {
            "bin_start": 144.9934,
            "bin_end": 144.9939,
            "count": 1
           },
           {
            "bin_start": 144.9939,
            "bin_end": 144.9944,
            "count": 1
           },
           {
            "bin_start": 144.9944,
            "bin_end": 144.9949,
            "count": 1
           },
           {
            "bin_start": 144.9949,
            "bin_end": 144.99540000000002,
            "count": 0
           },
           {
            "bin_start": 144.99540000000002,
            "bin_end": 144.9959,
            "count": 0
           },
           {
            "bin_start": 144.9959,
            "bin_end": 144.9964,
            "count": 0
           },
           {
            "bin_start": 144.9964,
            "bin_end": 144.9969,
            "count": 0
           },
           {
            "bin_start": 144.9969,
            "bin_end": 144.9974,
            "count": 1
           },
           {
            "bin_start": 144.9974,
            "bin_end": 144.99790000000002,
            "count": 0
           },
           {
            "bin_start": 144.99790000000002,
            "bin_end": 144.9984,
            "count": 1
           }
          ]
         }
        },
        {
         "name": "region_name",
         "dtype": "object",
         "stats": {
          "unique_count": 1,
          "nan_count": 0,
          "categories": [
           {
            "name": "Northern Metropolitan",
            "count": 5
           }
          ]
         }
        },
        {
         "name": "property_count",
         "dtype": "float64",
         "stats": {
          "unique_count": 1,
          "nan_count": 0,
          "min": "4019.0",
          "max": "4019.0",
          "histogram": [
           {
            "bin_start": 4018.5,
            "bin_end": 4018.6,
            "count": 0
           },
           {
            "bin_start": 4018.6,
            "bin_end": 4018.7,
            "count": 0
           },
           {
            "bin_start": 4018.7,
            "bin_end": 4018.8,
            "count": 0
           },
           {
            "bin_start": 4018.8,
            "bin_end": 4018.9,
            "count": 0
           },
           {
            "bin_start": 4018.9,
            "bin_end": 4019,
            "count": 0
           },
           {
            "bin_start": 4019,
            "bin_end": 4019.1,
            "count": 5
           },
           {
            "bin_start": 4019.1,
            "bin_end": 4019.2,
            "count": 0
           },
           {
            "bin_start": 4019.2,
            "bin_end": 4019.3,
            "count": 0
           },
           {
            "bin_start": 4019.3,
            "bin_end": 4019.4,
            "count": 0
           },
           {
            "bin_start": 4019.4,
            "bin_end": 4019.5,
            "count": 0
           }
          ]
         }
        },
        {
         "name": "_deepnote_index_column",
         "dtype": "int64"
        }
       ],
       "rows_top": [
        {
         "suburb": "Abbotsford",
         "address": "85 Turner St",
         "rooms": 2,
         "type": "h",
         "price": 1480000,
         "method": "S",
         "seller_g": "Biggin",
         "date": "3/12/2016",
         "distance": 2.5,
         "postcode": 3067,
         "bedroom_2": 2,
         "bathroom": 1,
         "car": 1,
         "land_size": 202,
         "council_area": "Yarra",
         "latitude": -37.7996,
         "longitude": 144.9984,
         "region_name": "Northern Metropolitan",
         "property_count": 4019,
         "_deepnote_index_column": 0
        },
        {
         "suburb": "Abbotsford",
         "address": "25 Bloomburg St",
         "rooms": 2,
         "type": "h",
         "price": 1035000,
         "method": "S",
         "seller_g": "Biggin",
         "date": "4/02/2016",
         "distance": 2.5,
         "postcode": 3067,
         "bedroom_2": 2,
         "bathroom": 1,
         "car": 0,
         "land_size": 156,
         "council_area": "Yarra",
         "latitude": -37.8079,
         "longitude": 144.9934,
         "region_name": "Northern Metropolitan",
         "property_count": 4019,
         "_deepnote_index_column": 1
        },
        {
         "suburb": "Abbotsford",
         "address": "5 Charles St",
         "rooms": 3,
         "type": "h",
         "price": 1465000,
         "method": "SP",
         "seller_g": "Biggin",
         "date": "4/03/2017",
         "distance": 2.5,
         "postcode": 3067,
         "bedroom_2": 3,
         "bathroom": 2,
         "car": 0,
         "land_size": 134,
         "council_area": "Yarra",
         "latitude": -37.8093,
         "longitude": 144.9944,
         "region_name": "Northern Metropolitan",
         "property_count": 4019,
         "_deepnote_index_column": 2
        },
        {
         "suburb": "Abbotsford",
         "address": "40 Federation La",
         "rooms": 3,
         "type": "h",
         "price": 850000,
         "method": "PI",
         "seller_g": "Biggin",
         "date": "4/03/2017",
         "distance": 2.5,
         "postcode": 3067,
         "bedroom_2": 3,
         "bathroom": 2,
         "car": 1,
         "land_size": 94,
         "council_area": "Yarra",
         "latitude": -37.7969,
         "longitude": 144.9969,
         "region_name": "Northern Metropolitan",
         "property_count": 4019,
         "_deepnote_index_column": 3
        },
        {
         "suburb": "Abbotsford",
         "address": "55a Park St",
         "rooms": 4,
         "type": "h",
         "price": 1600000,
         "method": "VB",
         "seller_g": "Nelson",
         "date": "4/06/2016",
         "distance": 2.5,
         "postcode": 3067,
         "bedroom_2": 3,
         "bathroom": 1,
         "car": 2,
         "land_size": 120,
         "council_area": "Yarra",
         "latitude": -37.8072,
         "longitude": 144.9941,
         "region_name": "Northern Metropolitan",
         "property_count": 4019,
         "_deepnote_index_column": 4
        }
       ],
       "rows_bottom": null
      },
      "text/plain": "       suburb           address  rooms type      price method seller_g  \\\n0  Abbotsford      85 Turner St      2    h  1480000.0      S   Biggin   \n1  Abbotsford   25 Bloomburg St      2    h  1035000.0      S   Biggin   \n2  Abbotsford      5 Charles St      3    h  1465000.0     SP   Biggin   \n3  Abbotsford  40 Federation La      3    h   850000.0     PI   Biggin   \n4  Abbotsford       55a Park St      4    h  1600000.0     VB   Nelson   \n\n        date  distance  postcode  bedroom_2  bathroom  car  land_size  \\\n0  3/12/2016       2.5    3067.0        2.0       1.0  1.0      202.0   \n1  4/02/2016       2.5    3067.0        2.0       1.0  0.0      156.0   \n2  4/03/2017       2.5    3067.0        3.0       2.0  0.0      134.0   \n3  4/03/2017       2.5    3067.0        3.0       2.0  1.0       94.0   \n4  4/06/2016       2.5    3067.0        3.0       1.0  2.0      120.0   \n\n  council_area  latitude  longitude            region_name  property_count  \n0        Yarra  -37.7996   144.9984  Northern Metropolitan          4019.0  \n1        Yarra  -37.8079   144.9934  Northern Metropolitan          4019.0  \n2        Yarra  -37.8093   144.9944  Northern Metropolitan          4019.0  \n3        Yarra  -37.7969   144.9969  Northern Metropolitan          4019.0  \n4        Yarra  -37.8072   144.9941  Northern Metropolitan          4019.0  ",
      "text/html": "<div>\n<style scoped>\n    .dataframe tbody tr th:only-of-type {\n        vertical-align: middle;\n    }\n\n    .dataframe tbody tr th {\n        vertical-align: top;\n    }\n\n    .dataframe thead th {\n        text-align: right;\n    }\n</style>\n<table border=\"1\" class=\"dataframe\">\n  <thead>\n    <tr style=\"text-align: right;\">\n      <th></th>\n      <th>suburb</th>\n      <th>address</th>\n      <th>rooms</th>\n      <th>type</th>\n      <th>price</th>\n      <th>method</th>\n      <th>seller_g</th>\n      <th>date</th>\n      <th>distance</th>\n      <th>postcode</th>\n      <th>bedroom_2</th>\n      <th>bathroom</th>\n      <th>car</th>\n      <th>land_size</th>\n      <th>council_area</th>\n      <th>latitude</th>\n      <th>longitude</th>\n      <th>region_name</th>\n      <th>property_count</th>\n    </tr>\n  </thead>\n  <tbody>\n    <tr>\n      <th>0</th>\n      <td>Abbotsford</td>\n      <td>85 Turner St</td>\n      <td>2</td>\n      <td>h</td>\n      <td>1480000.0</td>\n      <td>S</td>\n      <td>Biggin</td>\n      <td>3/12/2016</td>\n      <td>2.5</td>\n      <td>3067.0</td>\n      <td>2.0</td>\n      <td>1.0</td>\n      <td>1.0</td>\n      <td>202.0</td>\n      <td>Yarra</td>\n      <td>-37.7996</td>\n      <td>144.9984</td>\n      <td>Northern Metropolitan</td>\n      <td>4019.0</td>\n    </tr>\n    <tr>\n      <th>1</th>\n      <td>Abbotsford</td>\n      <td>25 Bloomburg St</td>\n      <td>2</td>\n      <td>h</td>\n      <td>1035000.0</td>\n      <td>S</td>\n      <td>Biggin</td>\n      <td>4/02/2016</td>\n      <td>2.5</td>\n      <td>3067.0</td>\n      <td>2.0</td>\n      <td>1.0</td>\n      <td>0.0</td>\n      <td>156.0</td>\n      <td>Yarra</td>\n      <td>-37.8079</td>\n      <td>144.9934</td>\n      <td>Northern Metropolitan</td>\n      <td>4019.0</td>\n    </tr>\n    <tr>\n      <th>2</th>\n      <td>Abbotsford</td>\n      <td>5 Charles St</td>\n      <td>3</td>\n      <td>h</td>\n      <td>1465000.0</td>\n      <td>SP</td>\n      <td>Biggin</td>\n      <td>4/03/2017</td>\n      <td>2.5</td>\n      <td>3067.0</td>\n      <td>3.0</td>\n      <td>2.0</td>\n      <td>0.0</td>\n      <td>134.0</td>\n      <td>Yarra</td>\n      <td>-37.8093</td>\n      <td>144.9944</td>\n      <td>Northern Metropolitan</td>\n      <td>4019.0</td>\n    </tr>\n    <tr>\n      <th>3</th>\n      <td>Abbotsford</td>\n      <td>40 Federation La</td>\n      <td>3</td>\n      <td>h</td>\n      <td>850000.0</td>\n      <td>PI</td>\n      <td>Biggin</td>\n      <td>4/03/2017</td>\n      <td>2.5</td>\n      <td>3067.0</td>\n      <td>3.0</td>\n      <td>2.0</td>\n      <td>1.0</td>\n      <td>94.0</td>\n      <td>Yarra</td>\n      <td>-37.7969</td>\n      <td>144.9969</td>\n      <td>Northern Metropolitan</td>\n      <td>4019.0</td>\n    </tr>\n    <tr>\n      <th>4</th>\n      <td>Abbotsford</td>\n      <td>55a Park St</td>\n      <td>4</td>\n      <td>h</td>\n      <td>1600000.0</td>\n      <td>VB</td>\n      <td>Nelson</td>\n      <td>4/06/2016</td>\n      <td>2.5</td>\n      <td>3067.0</td>\n      <td>3.0</td>\n      <td>1.0</td>\n      <td>2.0</td>\n      <td>120.0</td>\n      <td>Yarra</td>\n      <td>-37.8072</td>\n      <td>144.9941</td>\n      <td>Northern Metropolitan</td>\n      <td>4019.0</td>\n    </tr>\n  </tbody>\n</table>\n</div>"
     },
     "metadata": {}
    }
   ],
   "execution_count": null
  },
  {
   "cell_type": "code",
   "metadata": {
    "cell_id": "00005-6a2466aa-0226-4827-a9ba-266abcd73ce7",
    "deepnote_to_be_reexecuted": false,
    "source_hash": "efeba4f5",
    "execution_start": 1630024754796,
    "execution_millis": 136,
    "deepnote_cell_type": "code"
   },
   "source": "#Contextos: Fuente, tamaño, etc.\n#sns.set(style=\"whitegrid\")\nsns.set(context=\"poster\", style=\"darkgrid\")\nsns.boxplot(x=df['price']);",
   "outputs": [
    {
     "data": {
      "text/plain": "<Figure size 432x288 with 1 Axes>",
      "image/png": "[encoded data removed]"
     },
     "metadata": {
      "image/png": {
       "width": 349,
       "height": 295
      }
     },
     "output_type": "display_data"
    }
   ],
   "execution_count": null
  },
  {
   "cell_type": "markdown",
   "source": "¿Qué significa todo esto?\n\n- La caja está delimitada por 2 valores: El percentil 25 y el percentil 75.\n- La línea vertical dentro de la caja indica el percentil 50 (o sea, la mediana).\n- Los \"bigotes\" intentan abarcar el resto de los datos a la izquierda y derecha de la caja, PERO no se extienden más allá de una distancia equivalente a 1.5 * Rango Intercuartílico. Como bien recordarás, el rango intercuartílico es la diferencia entre el percentil 75 y el percentil 25. Si multiplicamos 1.5 por ese Rango Intercuartílico obtenemos el tamaño máximo de los bigotes.\n- Los puntos individuales que están fuera de los bigotes son, obviamente, las muestras cuyo valor excede el tamaño máximo de los bigotes. No podemos tomar esto como una \"Regla Absoluta\", pero en general se considera que estos valores son los valores atípicos de nuestro conjunto.\n\nComo puedes ver, esta gráfica nos da muchísima información muy útil.\n\n- Ahora sabemos que la mayoría de nuestros datos están concentrados en valores menores a 2 000 000 y que los precios muy altos son anomalías en nuestro conjunto.\n- Sabemos que, dentro del rango total de los datos, tenemos una distribución que tiende hacia los valores más pequeños.\n- También sabemos que nuestros datos en general están muy concentrados (o sea, poco dispersos), pero que hay una \"colita\" de datos hacia la derecha que se extiende bastante lejos.\n\nVamos a ver qué pasa si graficamos una línea vertical justo donde está el promedio de nuestros datos. Para esto vamos a usar matplotlib, otra librería de visualizaciones de datos que aprenderemos a detalle más adelante:",
   "metadata": {
    "cell_id": "00006-8dfefecb-7952-4f89-adae-66102961be03",
    "deepnote_cell_type": "markdown"
   }
  },
  {
   "cell_type": "code",
   "metadata": {
    "cell_id": "00007-dd7334d1-30db-4371-b43e-1cc63275a8dc",
    "deepnote_cell_type": "code"
   },
   "source": "sns.set(style=\"whitegrid\")\nsns.boxplot(x=df['price'])\nplt.axvline(df['price'].mean(), c='y')",
   "outputs": [
    {
     "data": {
      "text/plain": "<matplotlib.lines.Line2D at 0x7fd0371d7fd0>"
     },
     "execution_count": 25,
     "metadata": {},
     "output_type": "execute_result"
    },
    {
     "data": {
      "image/png": "[encoded data removed]",
      "text/plain": "<Figure size 432x288 with 1 Axes>"
     },
     "metadata": {
      "image/png": {
       "width": 349,
       "height": 265
      }
     },
     "output_type": "display_data"
    }
   ],
   "execution_count": null
  },
  {
   "cell_type": "markdown",
   "source": "Como puedes ver, a pesar de los valores atípicos tan extremos, tenemos tantos valores en el rango menor de nuestros datos que el promedio queda bastante cercano a la mediana.\n\nLos valores atípicos pueden significar múltiples cosas:\n\n- A veces son errores de medición\n- A veces son errores humanos de transcripción\n- Podrían ser simplemente anomalías naturales causadas por fenómenos aleatorios\n- O podrían tener un significado más profundo: por ejemplo, la riqueza de alguien como Carlos Slim es una anomalía en este país, pero que es un indicador de desigualdad muy fuerte que nos da información útil acerca de la distribución de la riqueza\n\nDecidir cómo lidiar con estos valores atípicos (si eliminarlos o dejarlos) depende totalmente del contexto.\n\nDado que nuestro análisis de este conjunto aún no es muy profundo, por el momento vamos a asumir la posición de eliminar estos datos, solamente para ver cómo se haría este proceso.",
   "metadata": {
    "cell_id": "00008-efdd6f4d-c59b-4813-b351-c3b1e2d533f4",
    "deepnote_cell_type": "markdown"
   }
  },
  {
   "cell_type": "markdown",
   "source": "### Rango Intercuartílico y valores atípicos\n\nPodemos utilizar la medida que utiliza el boxplot para limitar el tamaño de los bigotes y filtrar todos los datos que excedan ese límite. A esta medida se le suele llamar el **Score de Rango Intercuartílico (IQR-Score)**. De esa manera estamos filtrando los valores atípicos (al menos lo que se considera valores atípicos bajo este esquema).",
   "metadata": {
    "cell_id": "00009-a88b5eb8-64a0-4656-a2ce-eba81d07dd58",
    "deepnote_cell_type": "markdown"
   }
  },
  {
   "cell_type": "code",
   "metadata": {
    "cell_id": "00010-e84b28ac-2fd9-49b6-b398-457e0d885364",
    "deepnote_to_be_reexecuted": false,
    "source_hash": "459ac631",
    "execution_start": 1630025747474,
    "execution_millis": 26,
    "deepnote_cell_type": "code"
   },
   "source": "iqr = df['price'].quantile(0.75) - df['price'].quantile(0.25)\nfiltro_inferior = df['price'] > df['price'].quantile(0.25) - (iqr * 1.5)\nfiltro_superior = df['price'] < df['price'].quantile(0.75) + (iqr * 1.5)\n\ndf_filtrado = df[filtro_inferior & filtro_superior]",
   "outputs": [],
   "execution_count": null
  },
  {
   "cell_type": "code",
   "metadata": {
    "cell_id": "00011-45283d7d-e1f8-4494-8388-a50b2b9e55b6",
    "deepnote_cell_type": "code"
   },
   "source": "sns.boxplot(df_filtrado['price'])",
   "outputs": [
    {
     "data": {
      "text/plain": "<matplotlib.axes._subplots.AxesSubplot at 0x7fd0380f1b80>"
     },
     "execution_count": 29,
     "metadata": {},
     "output_type": "execute_result"
    },
    {
     "data": {
      "image/png": "[encoded data removed]",
      "text/plain": "<Figure size 432x288 with 1 Axes>"
     },
     "metadata": {
      "image/png": {
       "width": 349,
       "height": 265
      }
     },
     "output_type": "display_data"
    }
   ],
   "execution_count": null
  },
  {
   "cell_type": "markdown",
   "source": "Como ves, el algoritmo de Seaborn debe de ser ligeramente distinto al nuestro, pero el resultado fue prácticamente lo que queríamos. Ahora tenemos un conjunto de datos sin valores atípicos.",
   "metadata": {
    "cell_id": "00012-7f2be3a7-e913-4098-9f4b-0922a144aaf5",
    "deepnote_cell_type": "markdown"
   }
  },
  {
   "cell_type": "code",
   "source": "",
   "metadata": {
    "tags": [],
    "cell_id": "00013-c8cd225f-8712-4163-bcc5-516eb905e261",
    "deepnote_to_be_reexecuted": false,
    "source_hash": "831135d4",
    "execution_start": 1630025681838,
    "execution_millis": 55,
    "deepnote_cell_type": "code"
   },
   "outputs": [
    {
     "output_type": "error",
     "ename": "KeyError",
     "evalue": "'prices'",
     "traceback": [
      "\u001b[0;31m---------------------------------------------------------------------------\u001b[0m",
      "\u001b[0;31mKeyError\u001b[0m                                  Traceback (most recent call last)",
      "\u001b[0;32m/shared-libs/python3.7/py/lib/python3.7/site-packages/pandas/core/indexes/base.py\u001b[0m in \u001b[0;36mget_loc\u001b[0;34m(self, key, method, tolerance)\u001b[0m\n\u001b[1;32m   3080\u001b[0m             \u001b[0;32mtry\u001b[0m\u001b[0;34m:\u001b[0m\u001b[0;34m\u001b[0m\u001b[0;34m\u001b[0m\u001b[0m\n\u001b[0;32m-> 3081\u001b[0;31m                 \u001b[0;32mreturn\u001b[0m \u001b[0mself\u001b[0m\u001b[0;34m.\u001b[0m\u001b[0m_engine\u001b[0m\u001b[0;34m.\u001b[0m\u001b[0mget_loc\u001b[0m\u001b[0;34m(\u001b[0m\u001b[0mcasted_key\u001b[0m\u001b[0;34m)\u001b[0m\u001b[0;34m\u001b[0m\u001b[0;34m\u001b[0m\u001b[0m\n\u001b[0m\u001b[1;32m   3082\u001b[0m             \u001b[0;32mexcept\u001b[0m \u001b[0mKeyError\u001b[0m \u001b[0;32mas\u001b[0m \u001b[0merr\u001b[0m\u001b[0;34m:\u001b[0m\u001b[0;34m\u001b[0m\u001b[0;34m\u001b[0m\u001b[0m\n",
      "\u001b[0;32mpandas/_libs/index.pyx\u001b[0m in \u001b[0;36mpandas._libs.index.IndexEngine.get_loc\u001b[0;34m()\u001b[0m\n",
      "\u001b[0;32mpandas/_libs/index.pyx\u001b[0m in \u001b[0;36mpandas._libs.index.IndexEngine.get_loc\u001b[0;34m()\u001b[0m\n",
      "\u001b[0;32mpandas/_libs/hashtable_class_helper.pxi\u001b[0m in \u001b[0;36mpandas._libs.hashtable.PyObjectHashTable.get_item\u001b[0;34m()\u001b[0m\n",
      "\u001b[0;32mpandas/_libs/hashtable_class_helper.pxi\u001b[0m in \u001b[0;36mpandas._libs.hashtable.PyObjectHashTable.get_item\u001b[0;34m()\u001b[0m\n",
      "\u001b[0;31mKeyError\u001b[0m: 'prices'",
      "\nThe above exception was the direct cause of the following exception:\n",
      "\u001b[0;31mKeyError\u001b[0m                                  Traceback (most recent call last)",
      "\u001b[0;32m/tmp/ipykernel_75/4249298118.py\u001b[0m in \u001b[0;36m<module>\u001b[0;34m\u001b[0m\n\u001b[0;32m----> 1\u001b[0;31m \u001b[0miqr\u001b[0m \u001b[0;34m=\u001b[0m \u001b[0mdf\u001b[0m\u001b[0;34m[\u001b[0m\u001b[0;34m\"prices\"\u001b[0m\u001b[0;34m]\u001b[0m\u001b[0;34m\u001b[0m\u001b[0;34m\u001b[0m\u001b[0m\n\u001b[0m\u001b[1;32m      2\u001b[0m \u001b[0miqr\u001b[0m\u001b[0;34m\u001b[0m\u001b[0;34m\u001b[0m\u001b[0m\n",
      "\u001b[0;32m/shared-libs/python3.7/py/lib/python3.7/site-packages/pandas/core/frame.py\u001b[0m in \u001b[0;36m__getitem__\u001b[0;34m(self, key)\u001b[0m\n\u001b[1;32m   3022\u001b[0m             \u001b[0;32mif\u001b[0m \u001b[0mself\u001b[0m\u001b[0;34m.\u001b[0m\u001b[0mcolumns\u001b[0m\u001b[0;34m.\u001b[0m\u001b[0mnlevels\u001b[0m \u001b[0;34m>\u001b[0m \u001b[0;36m1\u001b[0m\u001b[0;34m:\u001b[0m\u001b[0;34m\u001b[0m\u001b[0;34m\u001b[0m\u001b[0m\n\u001b[1;32m   3023\u001b[0m                 \u001b[0;32mreturn\u001b[0m \u001b[0mself\u001b[0m\u001b[0;34m.\u001b[0m\u001b[0m_getitem_multilevel\u001b[0m\u001b[0;34m(\u001b[0m\u001b[0mkey\u001b[0m\u001b[0;34m)\u001b[0m\u001b[0;34m\u001b[0m\u001b[0;34m\u001b[0m\u001b[0m\n\u001b[0;32m-> 3024\u001b[0;31m             \u001b[0mindexer\u001b[0m \u001b[0;34m=\u001b[0m \u001b[0mself\u001b[0m\u001b[0;34m.\u001b[0m\u001b[0mcolumns\u001b[0m\u001b[0;34m.\u001b[0m\u001b[0mget_loc\u001b[0m\u001b[0;34m(\u001b[0m\u001b[0mkey\u001b[0m\u001b[0;34m)\u001b[0m\u001b[0;34m\u001b[0m\u001b[0;34m\u001b[0m\u001b[0m\n\u001b[0m\u001b[1;32m   3025\u001b[0m             \u001b[0;32mif\u001b[0m \u001b[0mis_integer\u001b[0m\u001b[0;34m(\u001b[0m\u001b[0mindexer\u001b[0m\u001b[0;34m)\u001b[0m\u001b[0;34m:\u001b[0m\u001b[0;34m\u001b[0m\u001b[0;34m\u001b[0m\u001b[0m\n\u001b[1;32m   3026\u001b[0m                 \u001b[0mindexer\u001b[0m \u001b[0;34m=\u001b[0m \u001b[0;34m[\u001b[0m\u001b[0mindexer\u001b[0m\u001b[0;34m]\u001b[0m\u001b[0;34m\u001b[0m\u001b[0;34m\u001b[0m\u001b[0m\n",
      "\u001b[0;32m/shared-libs/python3.7/py/lib/python3.7/site-packages/pandas/core/indexes/base.py\u001b[0m in \u001b[0;36mget_loc\u001b[0;34m(self, key, method, tolerance)\u001b[0m\n\u001b[1;32m   3081\u001b[0m                 \u001b[0;32mreturn\u001b[0m \u001b[0mself\u001b[0m\u001b[0;34m.\u001b[0m\u001b[0m_engine\u001b[0m\u001b[0;34m.\u001b[0m\u001b[0mget_loc\u001b[0m\u001b[0;34m(\u001b[0m\u001b[0mcasted_key\u001b[0m\u001b[0;34m)\u001b[0m\u001b[0;34m\u001b[0m\u001b[0;34m\u001b[0m\u001b[0m\n\u001b[1;32m   3082\u001b[0m             \u001b[0;32mexcept\u001b[0m \u001b[0mKeyError\u001b[0m \u001b[0;32mas\u001b[0m \u001b[0merr\u001b[0m\u001b[0;34m:\u001b[0m\u001b[0;34m\u001b[0m\u001b[0;34m\u001b[0m\u001b[0m\n\u001b[0;32m-> 3083\u001b[0;31m                 \u001b[0;32mraise\u001b[0m \u001b[0mKeyError\u001b[0m\u001b[0;34m(\u001b[0m\u001b[0mkey\u001b[0m\u001b[0;34m)\u001b[0m \u001b[0;32mfrom\u001b[0m \u001b[0merr\u001b[0m\u001b[0;34m\u001b[0m\u001b[0;34m\u001b[0m\u001b[0m\n\u001b[0m\u001b[1;32m   3084\u001b[0m \u001b[0;34m\u001b[0m\u001b[0m\n\u001b[1;32m   3085\u001b[0m         \u001b[0;32mif\u001b[0m \u001b[0mtolerance\u001b[0m \u001b[0;32mis\u001b[0m \u001b[0;32mnot\u001b[0m \u001b[0;32mNone\u001b[0m\u001b[0;34m:\u001b[0m\u001b[0;34m\u001b[0m\u001b[0;34m\u001b[0m\u001b[0m\n",
      "\u001b[0;31mKeyError\u001b[0m: 'prices'"
     ]
    }
   ],
   "execution_count": null
  },
  {
   "cell_type": "code",
   "source": "",
   "metadata": {
    "tags": [],
    "cell_id": "00014-d14d6890-fbf7-4f36-ab87-59ed5f071888",
    "deepnote_cell_type": "code"
   },
   "outputs": [],
   "execution_count": null
  },
  {
   "cell_type": "markdown",
   "source": "<a style='text-decoration:none;line-height:16px;display:flex;color:#5B5B62;padding:10px;justify-content:end;' href='https://deepnote.com?utm_source=created-in-deepnote-cell&projectId=f8149d1c-e6b1-497a-9109-f01641a8231a' target=\"_blank\">\n<img alt='Created in deepnote.com' style='display:inline;max-height:16px;margin:0px;margin-right:7.5px;' src='data:image/svg+xml;base64,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' > </img>\nCreated in <span style='font-weight:600;margin-left:4px;'>Deepnote</span></a>",
   "metadata": {
    "tags": [],
    "created_in_deepnote_cell": true,
    "deepnote_cell_type": "markdown"
   }
  }
 ],
 "nbformat": 4,
 "nbformat_minor": 4,
 "metadata": {
  "kernelspec": {
   "display_name": "Python (data_science)",
   "language": "python",
   "name": "data_science"
  },
  "language_info": {
   "codemirror_mode": {
    "name": "ipython",
    "version": 3
   },
   "file_extension": ".py",
   "mimetype": "text/x-python",
   "name": "python",
   "nbconvert_exporter": "python",
   "pygments_lexer": "ipython3",
   "version": "3.8.1"
  },
  "deepnote_notebook_id": "cc090517-4b81-4a0f-b33c-b93631c4db22",
  "deepnote": {},
  "deepnote_execution_queue": []
 }
}