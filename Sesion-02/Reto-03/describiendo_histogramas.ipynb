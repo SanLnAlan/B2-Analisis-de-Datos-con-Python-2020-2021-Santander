{
 "cells": [
  {
   "cell_type": "markdown",
   "source": "## Reto 3: Describiendo histogramas\n\n### 1. Objetivos:\n    - Generar histogramas y caracterizarlos utilizando las herramientas que hemos aprendido hasta el momento\n \n---\n    \n### 2. Desarrollo:",
   "metadata": {
    "cell_id": "00000-a084e608-b087-4532-881f-a55ece674b80",
    "deepnote_cell_type": "markdown"
   }
  },
  {
   "cell_type": "markdown",
   "source": "#### a) Pima Indians Diabetes Database\n\nVamos a analizar un conjunto de datos que contiene datos acerca del estado de salud de mujeres menores de 21 años de ascendencia [pima](https://es.wikipedia.org/wiki/Pueblo_pima). El conjunto también tiene una columna 'outcome' que indica si las pacientes fueron diagnosticadas con diabetes o no. Puedes ver la descripción completa [aquí](https://www.kaggle.com/uciml/pima-indians-diabetes-database).  El dataset está guardado con el nombre de `diabetes-clean.csv`.\n\n- Todas las variables independientes en este dataset son numéricas. Genera histogramas de todas las variables independientes para observar la distribución de estas variables. Un valor aceptable para el número de `bins` es `50`. Después de generar el histograma, caracterízalo con una descripción utilizando los términos que has aprendido en esta sesión.\n\n- Intenta también discernir a simple vista la asimetría y curtosis de tus histogramas, y después confirma tus hipótesis utilizando las funciones `kurtosis` y `skew` del módulo `scipy.stats`.\n\n- Ve si te es posible identificar la cantidad y magnitud de los valores atípicos usando histogramas. ¿Cuál ha sido la técnica que te ha facilitado más la identificación de valores atípicos? ¿Boxplots, tablas de frecuencias o histogramas?\n\nComenta con la experta y con tus compañeros por qué crees que esas variables tengan la distribución que tienen.",
   "metadata": {
    "cell_id": "00001-267deca5-f2aa-4136-96a6-6973c2176b8a",
    "deepnote_cell_type": "markdown"
   }
  },
  {
   "cell_type": "code",
   "metadata": {
    "tags": [],
    "cell_id": "00002-5856baea-11c6-4430-9c3f-3a633d2cd7f0",
    "deepnote_to_be_reexecuted": false,
    "source_hash": "b8636d57",
    "execution_start": 1630553741539,
    "execution_millis": 0,
    "deepnote_cell_type": "code"
   },
   "source": "import pandas as pd\nimport seaborn as sns\nimport matplotlib.pyplot as plt\nimport scipy.stats as sc",
   "outputs": [],
   "execution_count": null
  },
  {
   "cell_type": "code",
   "metadata": {
    "tags": [],
    "cell_id": "00003-a64468de-e55b-462b-b273-f4a75f85b571",
    "deepnote_to_be_reexecuted": false,
    "source_hash": "c145148c",
    "execution_start": 1630546252701,
    "execution_millis": 9,
    "deepnote_cell_type": "code"
   },
   "source": "df = pd.read_csv(\"../../Datasets/diabetes-clean.csv\")",
   "outputs": [],
   "execution_count": null
  },
  {
   "cell_type": "code",
   "metadata": {
    "tags": [],
    "cell_id": "00004-f3625214-69af-4f7d-b82d-f4e6298c3ca1",
    "deepnote_to_be_reexecuted": false,
    "source_hash": "537064cb",
    "execution_start": 1630548974050,
    "execution_millis": 4,
    "deepnote_cell_type": "code"
   },
   "source": "columns_names = df.columns.values",
   "outputs": [],
   "execution_count": null
  },
  {
   "cell_type": "code",
   "source": "def func(data):\n    sns.histplot(data,bins=50)\n    print(f'kurtosis:{sc.kurtosis(data)} \\n skew:{sc.skew(data)}')\n",
   "metadata": {
    "tags": [],
    "cell_id": "00005-b0ea94c0-3acd-4c1a-bb76-ce13d7360abb",
    "deepnote_to_be_reexecuted": false,
    "source_hash": "4884a322",
    "execution_start": 1630553832958,
    "execution_millis": 0,
    "deepnote_cell_type": "code"
   },
   "outputs": [],
   "execution_count": null
  },
  {
   "cell_type": "code",
   "metadata": {
    "tags": [],
    "cell_id": "00005-9137b147-9ece-4130-9ae3-dfcdde56fb93",
    "deepnote_to_be_reexecuted": false,
    "source_hash": "426d48d4",
    "execution_start": 1630553857045,
    "execution_millis": 255,
    "deepnote_cell_type": "code"
   },
   "source": "#plt.subplots(3,3)\n#fig, axs = plt.subplots(2, 2)\n\n#sns.histplot(df[columns_names[0]], bins=50)\nfunc(df[columns_names[0]])\n\n#sns.displot(data=df,x='values',hue='user_rating', multiple='dodge',col='price_range',col_wrap=2)\n\n#fig, axes = plt.subplots(1, 3, figsize=(15, 5), sharey=True)\n#fig.suptitle('trying')\n\n#sns.histplot(ax=axes[0], df[columns_names[0]])\n#sns.histplot(ax=axes[1], df[columns_names[1]])\n#sns.histplot(ax=axes[2], df[columns_names[2]])\n\n#axes[0].set_title(bulbasaur.name)\n\n#sns.histplot(df[columns_names[0]])\n#for i in columns_names:\n#    #print(i)\n#    sns.histplot(df[i])\n",
   "outputs": [
    {
     "name": "stdout",
     "text": "kurtosis:-1.200004069017315 \n skew:0.0\n",
     "output_type": "stream"
    },
    {
     "data": {
      "text/plain": "<Figure size 432x288 with 1 Axes>",
      "image/png": "[encoded data removed]"
     },
     "metadata": {
      "needs_background": "light",
      "image/png": {
       "width": 390,
       "height": 262
      }
     },
     "output_type": "display_data"
    }
   ],
   "execution_count": null
  },
  {
   "cell_type": "code",
   "metadata": {
    "tags": [],
    "cell_id": "00006-2938bf4e-5825-4e29-8a0f-2fdb836ca044",
    "deepnote_to_be_reexecuted": false,
    "source_hash": "419a4238",
    "execution_start": 1630553876214,
    "execution_millis": 244,
    "deepnote_cell_type": "code"
   },
   "source": "\nfunc(df[columns_names[1]])\n\n",
   "outputs": [
    {
     "name": "stdout",
     "text": "kurtosis:0.15038273760948462 \n skew:0.8999119408414357\n",
     "output_type": "stream"
    },
    {
     "data": {
      "text/plain": "<Figure size 432x288 with 1 Axes>",
      "image/png": "[encoded data removed]"
     },
     "metadata": {
      "needs_background": "light",
      "image/png": {
       "width": 394,
       "height": 264
      }
     },
     "output_type": "display_data"
    }
   ],
   "execution_count": null
  },
  {
   "cell_type": "code",
   "source": "func(df[columns_names[2]])\n\n",
   "metadata": {
    "tags": [],
    "cell_id": "00007-3b69e904-9652-437f-b295-b3e2b43a8c43",
    "deepnote_to_be_reexecuted": false,
    "source_hash": "a18b6049",
    "execution_start": 1630553890548,
    "execution_millis": 267,
    "deepnote_cell_type": "code"
   },
   "outputs": [
    {
     "name": "stdout",
     "text": "kurtosis:0.6288133337300685 \n skew:0.17341395519987735\n",
     "output_type": "stream"
    },
    {
     "data": {
      "text/plain": "<Figure size 432x288 with 1 Axes>",
      "image/png": "[encoded data removed]"
     },
     "metadata": {
      "needs_background": "light",
      "image/png": {
       "width": 382,
       "height": 265
      }
     },
     "output_type": "display_data"
    }
   ],
   "execution_count": null
  },
  {
   "cell_type": "code",
   "source": "",
   "metadata": {
    "tags": [],
    "cell_id": "00008-e8006120-4635-44ed-ac67-195ad10d606e",
    "deepnote_cell_type": "code"
   },
   "outputs": [],
   "execution_count": null
  },
  {
   "cell_type": "markdown",
   "source": "<a style='text-decoration:none;line-height:16px;display:flex;color:#5B5B62;padding:10px;justify-content:end;' href='https://deepnote.com?utm_source=created-in-deepnote-cell&projectId=f8149d1c-e6b1-497a-9109-f01641a8231a' target=\"_blank\">\n<img alt='Created in deepnote.com' style='display:inline;max-height:16px;margin:0px;margin-right:7.5px;' src='data:image/svg+xml;base64,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' > </img>\nCreated in <span style='font-weight:600;margin-left:4px;'>Deepnote</span></a>",
   "metadata": {
    "tags": [],
    "created_in_deepnote_cell": true,
    "deepnote_cell_type": "markdown"
   }
  }
 ],
 "nbformat": 4,
 "nbformat_minor": 4,
 "metadata": {
  "kernelspec": {
   "display_name": "Python (data_science)",
   "language": "python",
   "name": "data_science"
  },
  "language_info": {
   "codemirror_mode": {
    "name": "ipython",
    "version": 3
   },
   "file_extension": ".py",
   "mimetype": "text/x-python",
   "name": "python",
   "nbconvert_exporter": "python",
   "pygments_lexer": "ipython3",
   "version": "3.8.5"
  },
  "deepnote_notebook_id": "085ecc25-aa3b-49ce-82f2-36b7bb06695c",
  "deepnote": {},
  "deepnote_execution_queue": []
 }
}