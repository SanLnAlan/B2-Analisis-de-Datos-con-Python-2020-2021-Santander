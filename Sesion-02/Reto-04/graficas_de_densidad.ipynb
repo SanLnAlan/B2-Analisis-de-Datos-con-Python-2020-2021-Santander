{
 "cells": [
  {
   "cell_type": "markdown",
   "source": "## Reto 4: Gráficas de densidad\n\n### 1. Objetivos:\n    - Utilizar gráficas de densidad para realizar comparaciones entre conjuntos de datos.\n \n---\n    \n### 2. Desarrollo:",
   "metadata": {
    "cell_id": "00000-0addb1fa-3d13-416d-9f67-b2e24f3360e2",
    "deepnote_cell_type": "markdown"
   }
  },
  {
   "cell_type": "markdown",
   "source": "#### a) Comparando histogramas de diferentes categorías\n\nDijimos que las gráficas de densidad nos pueden ser útiles para comparar dos o más distribuciones. ¿En qué contexto podríamos utilizar esto? Para practicar este tipo de comparaciones vamos a utilizar un dataset llamado `athlete_olympic_events-clean.csv`. Este dataset contiene datos sobre participaciones de atletas en las Olimpiadas. Cada fila es la participación de un atleta una Olimpiada. Los atletas, obviamente, pueden repetirse, ya que es posible que hayan participado varias veces en una Olimpiada o que hayan asistido a múltiples Olimpiadas.\n\nLa columna 'sex' clasifica a los atletas en dos categorías: 'M' (male) y 'F' (female). En las columnas 'age', 'height' y 'weight' tenemos datos numéricos. Lo que queremos es comparar las edades, alturas y pesos de hombres y mujeres atletas usando gráficas de densidad. Para lograr esto, realiza los siguientes pasos:\n\n1. Lee el dataset athlete_olympic_events-clean.csv\n2. Recuerda que hay filas en las que los atletas se repiten. Afortunadamente, el índice es un id único para cada atleta. Hay varias formas de agrupar nuestros datos para que sólo haya una sola entrada por atleta. Vamos a usar una que utiliza varias herramientas que ya conocemos:\n    - Primero agrupa tus datos usando el índice (esto se puede lograr con el método `groupby(level=0)`, indexa solamente las columnas 'age', 'height' y 'weight' y aplica la función `mean`. Esto nos va a dar un `DataFrame` con el promedio de edad, peso y altura de cada atleta a través de todas sus participaciones en Olimpiadas\n    - Después tenemos que agregar la columna 'sex' para poder separar nuestros datos en categorías (no pudimos pedirla también en el paso anterior por que no es posible sacar un promedio de las letras 'M' y 'F'). Para eso, primero extrae tu columna 'sex' y realiza de nuevo una agrupación por índice aplicando la agregación 'last'. Esto te dará una `Serie` de la columna 'sex' agrupada por atleta.\n    - Ahora, usando el método `pd.merge` agrega la información de 'sex' a la agrupación de promedios que realizamos anteriormente.\n    - Listo ahora tenemos un `DataFrame` con nuestra columnas 'sex', 'age', 'height' y 'weight' donde los atletas no se repiten.\n3. Ahora usa filtros para separar tus datos en atletas hombre y mujeres.\n4. Finalmente usa gráficas de densidad para graficar las columnas 'age', 'height' y 'weight' (cada una en una gráfica distinta) y comparar las distribuciones de ambos sexos en diferentes variables. Por ejemplo, en una gráfica tendrás la distribución de las edades de los atletas hombres al lado de la distribución de las edades de las atletas mujeres.",
   "metadata": {
    "cell_id": "00001-700b58cf-c904-43d5-ac24-d93e631747d9",
    "deepnote_cell_type": "markdown"
   }
  },
  {
   "cell_type": "code",
   "source": "import pandas as pd\nimport matplotlib.pyplot as plt\nimport seaborn as sns\n\ndf = pd.read_csv(\"../../Datasets/athlete_olympic_events-clean.csv\")",
   "metadata": {
    "tags": [],
    "cell_id": "00002-e50b244e-d7a3-44d9-91a4-62cf173cf540",
    "deepnote_to_be_reexecuted": false,
    "source_hash": "c28c357",
    "execution_start": 1630554072550,
    "execution_millis": 471,
    "deepnote_cell_type": "code"
   },
   "outputs": [],
   "execution_count": null
  },
  {
   "cell_type": "code",
   "source": "por_atleta = df.groupby(level=0)[\"age\",\"height\",\"weight\"].mean()\npor_atleta",
   "metadata": {
    "tags": [],
    "cell_id": "00003-f5c7db5d-571a-4f6c-9a4e-48609751f707",
    "deepnote_to_be_reexecuted": false,
    "source_hash": "11fddb82",
    "execution_start": 1630554284615,
    "execution_millis": 52,
    "deepnote_cell_type": "code"
   },
   "outputs": [
    {
     "name": "stderr",
     "text": "/shared-libs/python3.7/py-core/lib/python3.7/site-packages/ipykernel_launcher.py:1: FutureWarning: Indexing with multiple keys (implicitly converted to a tuple of keys) will be deprecated, use a list instead.\n  \"\"\"Entry point for launching an IPython kernel.\n",
     "output_type": "stream"
    },
    {
     "output_type": "execute_result",
     "execution_count": 10,
     "data": {
      "application/vnd.deepnote.dataframe.v2+json": {
       "row_count": 206165,
       "column_count": 3,
       "columns": [
        {
         "name": "age",
         "dtype": "float64"
        },
        {
         "name": "height",
         "dtype": "float64"
        },
        {
         "name": "weight",
         "dtype": "float64"
        },
        {
         "name": "_deepnote_index_column",
         "dtype": "int64"
        }
       ],
       "rows_top": [
        {
         "age": 24,
         "height": 180,
         "weight": 80,
         "_deepnote_index_column": 0
        },
        {
         "age": 23,
         "height": 170,
         "weight": 60,
         "_deepnote_index_column": 1
        },
        {
         "age": 21,
         "height": 185,
         "weight": 82,
         "_deepnote_index_column": 2
        },
        {
         "age": 21,
         "height": 185,
         "weight": 82,
         "_deepnote_index_column": 3
        },
        {
         "age": 25,
         "height": 185,
         "weight": 82,
         "_deepnote_index_column": 4
        },
        {
         "age": 25,
         "height": 185,
         "weight": 82,
         "_deepnote_index_column": 5
        },
        {
         "age": 27,
         "height": 185,
         "weight": 82,
         "_deepnote_index_column": 6
        },
        {
         "age": 27,
         "height": 185,
         "weight": 82,
         "_deepnote_index_column": 7
        },
        {
         "age": 31,
         "height": 188,
         "weight": 75,
         "_deepnote_index_column": 8
        },
        {
         "age": 31,
         "height": 188,
         "weight": 75,
         "_deepnote_index_column": 9
        },
        {
         "age": 31,
         "height": 188,
         "weight": 75,
         "_deepnote_index_column": 10
        },
        {
         "age": 31,
         "height": 188,
         "weight": 75,
         "_deepnote_index_column": 11
        },
        {
         "age": 33,
         "height": 188,
         "weight": 75,
         "_deepnote_index_column": 12
        },
        {
         "age": 33,
         "height": 188,
         "weight": 75,
         "_deepnote_index_column": 13
        },
        {
         "age": 33,
         "height": 188,
         "weight": 75,
         "_deepnote_index_column": 14
        },
        {
         "age": 33,
         "height": 188,
         "weight": 75,
         "_deepnote_index_column": 15
        },
        {
         "age": 31,
         "height": 183,
         "weight": 72,
         "_deepnote_index_column": 16
        },
        {
         "age": 31,
         "height": 183,
         "weight": 72,
         "_deepnote_index_column": 17
        },
        {
         "age": 31,
         "height": 183,
         "weight": 72,
         "_deepnote_index_column": 18
        },
        {
         "age": 31,
         "height": 183,
         "weight": 72,
         "_deepnote_index_column": 19
        },
        {
         "age": 33,
         "height": 183,
         "weight": 72,
         "_deepnote_index_column": 20
        },
        {
         "age": 33,
         "height": 183,
         "weight": 72,
         "_deepnote_index_column": 21
        },
        {
         "age": 33,
         "height": 183,
         "weight": 72,
         "_deepnote_index_column": 22
        },
        {
         "age": 33,
         "height": 183,
         "weight": 72,
         "_deepnote_index_column": 23
        },
        {
         "age": 26,
         "height": 186,
         "weight": 96,
         "_deepnote_index_column": 24
        },
        {
         "age": 22,
         "height": 182,
         "weight": 76.5,
         "_deepnote_index_column": 25
        },
        {
         "age": 31,
         "height": 172,
         "weight": 70,
         "_deepnote_index_column": 26
        },
        {
         "age": 30,
         "height": 159,
         "weight": 55.5,
         "_deepnote_index_column": 27
        },
        {
         "age": 34,
         "height": 159,
         "weight": 55.5,
         "_deepnote_index_column": 28
        },
        {
         "age": 32,
         "height": 171,
         "weight": 65,
         "_deepnote_index_column": 29
        },
        {
         "age": 28,
         "height": 184,
         "weight": 85,
         "_deepnote_index_column": 30
        },
        {
         "age": 28,
         "height": 175,
         "weight": 64,
         "_deepnote_index_column": 31
        },
        {
         "age": 28,
         "height": 175,
         "weight": 64,
         "_deepnote_index_column": 32
        },
        {
         "age": 28,
         "height": 175,
         "weight": 64,
         "_deepnote_index_column": 33
        },
        {
         "age": 28,
         "height": 175,
         "weight": 64,
         "_deepnote_index_column": 34
        },
        {
         "age": 28,
         "height": 175,
         "weight": 64,
         "_deepnote_index_column": 35
        },
        {
         "age": 28,
         "height": 175,
         "weight": 64,
         "_deepnote_index_column": 36
        },
        {
         "age": 28,
         "height": 175,
         "weight": 64,
         "_deepnote_index_column": 37
        },
        {
         "age": 28,
         "height": 175,
         "weight": 64,
         "_deepnote_index_column": 38
        },
        {
         "age": 32,
         "height": 175,
         "weight": 64,
         "_deepnote_index_column": 39
        },
        {
         "age": 32,
         "height": 175,
         "weight": 64,
         "_deepnote_index_column": 40
        },
        {
         "age": 32,
         "height": 175,
         "weight": 64,
         "_deepnote_index_column": 41
        },
        {
         "age": 32,
         "height": 175,
         "weight": 64,
         "_deepnote_index_column": 42
        },
        {
         "age": 32,
         "height": 175,
         "weight": 64,
         "_deepnote_index_column": 43
        },
        {
         "age": 32,
         "height": 175,
         "weight": 64,
         "_deepnote_index_column": 44
        },
        {
         "age": 32,
         "height": 175,
         "weight": 64,
         "_deepnote_index_column": 45
        },
        {
         "age": 32,
         "height": 175,
         "weight": 64,
         "_deepnote_index_column": 46
        },
        {
         "age": 31,
         "height": 189,
         "weight": 130,
         "_deepnote_index_column": 47
        },
        {
         "age": 20,
         "height": 176,
         "weight": 85,
         "_deepnote_index_column": 48
        },
        {
         "age": 20,
         "height": 176,
         "weight": 85,
         "_deepnote_index_column": 49
        },
        {
         "age": 20,
         "height": 176,
         "weight": 85,
         "_deepnote_index_column": 50
        },
        {
         "age": 20,
         "height": 176,
         "weight": 85,
         "_deepnote_index_column": 51
        },
        {
         "age": 22,
         "height": 176,
         "weight": 85,
         "_deepnote_index_column": 52
        },
        {
         "age": 22,
         "height": 176,
         "weight": 85,
         "_deepnote_index_column": 53
        },
        {
         "age": 22,
         "height": 176,
         "weight": 85,
         "_deepnote_index_column": 54
        },
        {
         "age": 22,
         "height": 176,
         "weight": 85,
         "_deepnote_index_column": 55
        },
        {
         "age": 22,
         "height": 176,
         "weight": 85,
         "_deepnote_index_column": 56
        },
        {
         "age": 26,
         "height": 176,
         "weight": 85,
         "_deepnote_index_column": 57
        },
        {
         "age": 26,
         "height": 176,
         "weight": 85,
         "_deepnote_index_column": 58
        },
        {
         "age": 26,
         "height": 176,
         "weight": 85,
         "_deepnote_index_column": 59
        },
        {
         "age": 26,
         "height": 176,
         "weight": 85,
         "_deepnote_index_column": 60
        },
        {
         "age": 30,
         "height": 176,
         "weight": 85,
         "_deepnote_index_column": 61
        },
        {
         "age": 30,
         "height": 176,
         "weight": 85,
         "_deepnote_index_column": 62
        },
        {
         "age": 30,
         "height": 176,
         "weight": 85,
         "_deepnote_index_column": 63
        },
        {
         "age": 30,
         "height": 176,
         "weight": 85,
         "_deepnote_index_column": 64
        },
        {
         "age": 30,
         "height": 176,
         "weight": 85,
         "_deepnote_index_column": 65
        },
        {
         "age": 34,
         "height": 176,
         "weight": 85,
         "_deepnote_index_column": 66
        },
        {
         "age": 34,
         "height": 176,
         "weight": 85,
         "_deepnote_index_column": 67
        },
        {
         "age": 22,
         "height": 170,
         "weight": 125,
         "_deepnote_index_column": 68
        },
        {
         "age": 22,
         "height": 187,
         "weight": 89,
         "_deepnote_index_column": 69
        },
        {
         "age": 26,
         "height": 187,
         "weight": 89,
         "_deepnote_index_column": 70
        },
        {
         "age": 17,
         "height": 169,
         "weight": 65,
         "_deepnote_index_column": 71
        },
        {
         "age": 43,
         "height": 170,
         "weight": 77,
         "_deepnote_index_column": 72
        },
        {
         "age": 47,
         "height": 170,
         "weight": 77,
         "_deepnote_index_column": 73
        },
        {
         "age": 26,
         "height": 189,
         "weight": 72,
         "_deepnote_index_column": 74
        },
        {
         "age": 30,
         "height": 189,
         "weight": 72,
         "_deepnote_index_column": 75
        },
        {
         "age": 24,
         "height": 174,
         "weight": 70,
         "_deepnote_index_column": 76
        },
        {
         "age": 24,
         "height": 187,
         "weight": 76,
         "_deepnote_index_column": 77
        },
        {
         "age": 28,
         "height": 187,
         "weight": 76,
         "_deepnote_index_column": 78
        },
        {
         "age": 30,
         "height": 187,
         "weight": 76,
         "_deepnote_index_column": 79
        },
        {
         "age": 24,
         "height": 190,
         "weight": 98,
         "_deepnote_index_column": 80
        },
        {
         "age": 21,
         "height": 194,
         "weight": 78,
         "_deepnote_index_column": 81
        },
        {
         "age": 21,
         "height": 194,
         "weight": 78,
         "_deepnote_index_column": 82
        },
        {
         "age": 21,
         "height": 194,
         "weight": 78,
         "_deepnote_index_column": 83
        },
        {
         "age": 25,
         "height": 194,
         "weight": 78,
         "_deepnote_index_column": 84
        },
        {
         "age": 25,
         "height": 194,
         "weight": 78,
         "_deepnote_index_column": 85
        },
        {
         "age": 23,
         "height": 182,
         "weight": 64,
         "_deepnote_index_column": 86
        },
        {
         "age": 34,
         "height": 185,
         "weight": 75,
         "_deepnote_index_column": 87
        },
        {
         "age": 25,
         "height": 182,
         "weight": 73,
         "_deepnote_index_column": 88
        },
        {
         "age": 25,
         "height": 182,
         "weight": 73,
         "_deepnote_index_column": 89
        },
        {
         "age": 29,
         "height": 182,
         "weight": 73,
         "_deepnote_index_column": 90
        },
        {
         "age": 29,
         "height": 182,
         "weight": 73,
         "_deepnote_index_column": 91
        },
        {
         "age": 29,
         "height": 182,
         "weight": 73,
         "_deepnote_index_column": 92
        },
        {
         "age": 33,
         "height": 194,
         "weight": 93,
         "_deepnote_index_column": 93
        },
        {
         "age": 45,
         "height": 194,
         "weight": 93,
         "_deepnote_index_column": 94
        },
        {
         "age": 49,
         "height": 194,
         "weight": 93,
         "_deepnote_index_column": 95
        },
        {
         "age": 53,
         "height": 194,
         "weight": 93,
         "_deepnote_index_column": 96
        },
        {
         "age": 57,
         "height": 194,
         "weight": 93,
         "_deepnote_index_column": 97
        },
        {
         "age": 22,
         "height": 177,
         "weight": 74,
         "_deepnote_index_column": 98
        },
        {
         "age": 22,
         "height": 177,
         "weight": 74,
         "_deepnote_index_column": 99
        },
        {
         "age": 26,
         "height": 177,
         "weight": 74,
         "_deepnote_index_column": 100
        },
        {
         "age": 30,
         "height": 177,
         "weight": 74,
         "_deepnote_index_column": 101
        },
        {
         "age": 24,
         "height": 168,
         "weight": 65,
         "_deepnote_index_column": 102
        },
        {
         "age": 28,
         "height": 168,
         "weight": 65,
         "_deepnote_index_column": 103
        },
        {
         "age": 22,
         "height": 185,
         "weight": 106,
         "_deepnote_index_column": 104
        },
        {
         "age": 26,
         "height": 185,
         "weight": 106,
         "_deepnote_index_column": 105
        },
        {
         "age": 23,
         "height": 167,
         "weight": 64,
         "_deepnote_index_column": 106
        },
        {
         "age": 23,
         "height": 167,
         "weight": 64,
         "_deepnote_index_column": 107
        },
        {
         "age": 23,
         "height": 167,
         "weight": 64,
         "_deepnote_index_column": 108
        },
        {
         "age": 23,
         "height": 167,
         "weight": 64,
         "_deepnote_index_column": 109
        },
        {
         "age": 23,
         "height": 167,
         "weight": 64,
         "_deepnote_index_column": 110
        },
        {
         "age": 23,
         "height": 167,
         "weight": 64,
         "_deepnote_index_column": 111
        },
        {
         "age": 22,
         "height": 189,
         "weight": 80,
         "_deepnote_index_column": 112
        },
        {
         "age": 24,
         "height": 172,
         "weight": 58,
         "_deepnote_index_column": 113
        },
        {
         "age": 26,
         "height": 170,
         "weight": 65,
         "_deepnote_index_column": 114
        },
        {
         "age": 24,
         "height": 176,
         "weight": 66,
         "_deepnote_index_column": 115
        },
        {
         "age": 24,
         "height": 164,
         "weight": 71,
         "_deepnote_index_column": 116
        },
        {
         "age": 28,
         "height": 164,
         "weight": 71,
         "_deepnote_index_column": 117
        },
        {
         "age": 24,
         "height": 172,
         "weight": 75,
         "_deepnote_index_column": 118
        },
        {
         "age": 26,
         "height": 175,
         "weight": 72,
         "_deepnote_index_column": 119
        },
        {
         "age": 21,
         "height": 198,
         "weight": 90,
         "_deepnote_index_column": 120
        },
        {
         "age": 30,
         "height": 194,
         "weight": 87,
         "_deepnote_index_column": 121
        },
        {
         "age": 21,
         "height": 165,
         "weight": 49,
         "_deepnote_index_column": 122
        },
        {
         "age": 22,
         "height": 179,
         "weight": 80,
         "_deepnote_index_column": 123
        },
        {
         "age": 26,
         "height": 179,
         "weight": 80,
         "_deepnote_index_column": 124
        },
        {
         "age": 23,
         "height": 178,
         "weight": 76,
         "_deepnote_index_column": 125
        },
        {
         "age": 23,
         "height": 178,
         "weight": 76,
         "_deepnote_index_column": 126
        },
        {
         "age": 19,
         "height": 185,
         "weight": 72,
         "_deepnote_index_column": 127
        },
        {
         "age": 26,
         "height": 167,
         "weight": 65,
         "_deepnote_index_column": 128
        },
        {
         "age": 27,
         "height": 172,
         "weight": 82,
         "_deepnote_index_column": 129
        },
        {
         "age": 27,
         "height": 172,
         "weight": 82,
         "_deepnote_index_column": 130
        },
        {
         "age": 24,
         "height": 180,
         "weight": 83,
         "_deepnote_index_column": 131
        },
        {
         "age": 28,
         "height": 180,
         "weight": 83,
         "_deepnote_index_column": 132
        },
        {
         "age": 23,
         "height": 182,
         "weight": 86,
         "_deepnote_index_column": 133
        },
        {
         "age": 27,
         "height": 182,
         "weight": 86,
         "_deepnote_index_column": 134
        },
        {
         "age": 31,
         "height": 182,
         "weight": 86,
         "_deepnote_index_column": 135
        },
        {
         "age": 30,
         "height": 182,
         "weight": 73,
         "_deepnote_index_column": 136
        },
        {
         "age": 22,
         "height": 178,
         "weight": 70,
         "_deepnote_index_column": 137
        },
        {
         "age": 22,
         "height": 185,
         "weight": 82,
         "_deepnote_index_column": 138
        },
        {
         "age": 27,
         "height": 166,
         "weight": 75,
         "_deepnote_index_column": 139
        },
        {
         "age": 22,
         "height": 186,
         "weight": 83,
         "_deepnote_index_column": 140
        },
        {
         "age": 22,
         "height": 190,
         "weight": 77,
         "_deepnote_index_column": 141
        },
        {
         "age": 26,
         "height": 183,
         "weight": 75,
         "_deepnote_index_column": 142
        },
        {
         "age": 26,
         "height": 165,
         "weight": 55,
         "_deepnote_index_column": 143
        },
        {
         "age": 24,
         "height": 181,
         "weight": 82,
         "_deepnote_index_column": 144
        },
        {
         "age": 28,
         "height": 181,
         "weight": 82,
         "_deepnote_index_column": 145
        },
        {
         "age": 32,
         "height": 181,
         "weight": 82,
         "_deepnote_index_column": 146
        },
        {
         "age": 22,
         "height": 182,
         "weight": 67,
         "_deepnote_index_column": 147
        },
        {
         "age": 26,
         "height": 182,
         "weight": 67,
         "_deepnote_index_column": 148
        },
        {
         "age": 29,
         "height": 188,
         "weight": 97,
         "_deepnote_index_column": 149
        },
        {
         "age": 25,
         "height": 168,
         "weight": 105,
         "_deepnote_index_column": 150
        },
        {
         "age": 21,
         "height": 163,
         "weight": 60,
         "_deepnote_index_column": 151
        },
        {
         "age": 21,
         "height": 163,
         "weight": 60,
         "_deepnote_index_column": 152
        },
        {
         "age": 27,
         "height": 190,
         "weight": 80,
         "_deepnote_index_column": 153
        },
        {
         "age": 21,
         "height": 180,
         "weight": 73,
         "_deepnote_index_column": 154
        },
        {
         "age": 34,
         "height": 190,
         "weight": 85,
         "_deepnote_index_column": 155
        },
        {
         "age": 38,
         "height": 190,
         "weight": 85,
         "_deepnote_index_column": 156
        },
        {
         "age": 35,
         "height": 155,
         "weight": 43,
         "_deepnote_index_column": 157
        },
        {
         "age": 18,
         "height": 168,
         "weight": 60,
         "_deepnote_index_column": 158
        },
        {
         "age": 16,
         "height": 180,
         "weight": 70,
         "_deepnote_index_column": 159
        },
        {
         "age": 30,
         "height": 169,
         "weight": 75,
         "_deepnote_index_column": 160
        },
        {
         "age": 30,
         "height": 169,
         "weight": 75,
         "_deepnote_index_column": 161
        },
        {
         "age": 30,
         "height": 169,
         "weight": 75,
         "_deepnote_index_column": 162
        },
        {
         "age": 30,
         "height": 181,
         "weight": 79,
         "_deepnote_index_column": 163
        },
        {
         "age": 25,
         "height": 170,
         "weight": 51,
         "_deepnote_index_column": 164
        },
        {
         "age": 19,
         "height": 175,
         "weight": 75,
         "_deepnote_index_column": 165
        }
       ],
       "rows_bottom": [
        {
         "age": 21,
         "height": 189,
         "weight": 90,
         "_deepnote_index_column": 205998
        },
        {
         "age": 21,
         "height": 189,
         "weight": 90,
         "_deepnote_index_column": 205999
        },
        {
         "age": 21,
         "height": 189,
         "weight": 90,
         "_deepnote_index_column": 206000
        },
        {
         "age": 21,
         "height": 189,
         "weight": 90,
         "_deepnote_index_column": 206001
        },
        {
         "age": 21,
         "height": 189,
         "weight": 90,
         "_deepnote_index_column": 206002
        },
        {
         "age": 25,
         "height": 189,
         "weight": 90,
         "_deepnote_index_column": 206003
        },
        {
         "age": 25,
         "height": 189,
         "weight": 90,
         "_deepnote_index_column": 206004
        },
        {
         "age": 25,
         "height": 189,
         "weight": 90,
         "_deepnote_index_column": 206005
        },
        {
         "age": 21,
         "height": 188,
         "weight": 91,
         "_deepnote_index_column": 206006
        },
        {
         "age": 25,
         "height": 188,
         "weight": 91,
         "_deepnote_index_column": 206007
        },
        {
         "age": 19,
         "height": 176,
         "weight": 62,
         "_deepnote_index_column": 206008
        },
        {
         "age": 18,
         "height": 182,
         "weight": 71,
         "_deepnote_index_column": 206009
        },
        {
         "age": 18,
         "height": 182,
         "weight": 71,
         "_deepnote_index_column": 206010
        },
        {
         "age": 18,
         "height": 182,
         "weight": 71,
         "_deepnote_index_column": 206011
        },
        {
         "age": 22,
         "height": 182,
         "weight": 71,
         "_deepnote_index_column": 206012
        },
        {
         "age": 22,
         "height": 182,
         "weight": 71,
         "_deepnote_index_column": 206013
        },
        {
         "age": 22,
         "height": 182,
         "weight": 71,
         "_deepnote_index_column": 206014
        },
        {
         "age": 26,
         "height": 182,
         "weight": 71,
         "_deepnote_index_column": 206015
        },
        {
         "age": 26,
         "height": 182,
         "weight": 71,
         "_deepnote_index_column": 206016
        },
        {
         "age": 26,
         "height": 182,
         "weight": 71,
         "_deepnote_index_column": 206017
        },
        {
         "age": 22,
         "height": 186,
         "weight": 93,
         "_deepnote_index_column": 206018
        },
        {
         "age": 26,
         "height": 186,
         "weight": 93,
         "_deepnote_index_column": 206019
        },
        {
         "age": 17,
         "height": 172,
         "weight": 72,
         "_deepnote_index_column": 206020
        },
        {
         "age": 17,
         "height": 172,
         "weight": 72,
         "_deepnote_index_column": 206021
        },
        {
         "age": 21,
         "height": 172,
         "weight": 72,
         "_deepnote_index_column": 206022
        },
        {
         "age": 21,
         "height": 172,
         "weight": 72,
         "_deepnote_index_column": 206023
        },
        {
         "age": 25,
         "height": 172,
         "weight": 72,
         "_deepnote_index_column": 206024
        },
        {
         "age": 25,
         "height": 172,
         "weight": 72,
         "_deepnote_index_column": 206025
        },
        {
         "age": 27,
         "height": 165,
         "weight": 73,
         "_deepnote_index_column": 206026
        },
        {
         "age": 21,
         "height": 172,
         "weight": 78,
         "_deepnote_index_column": 206027
        },
        {
         "age": 21,
         "height": 172,
         "weight": 78,
         "_deepnote_index_column": 206028
        },
        {
         "age": 21,
         "height": 176,
         "weight": 62,
         "_deepnote_index_column": 206029
        },
        {
         "age": 23,
         "height": 190,
         "weight": 80,
         "_deepnote_index_column": 206030
        },
        {
         "age": 17,
         "height": 185,
         "weight": 87,
         "_deepnote_index_column": 206031
        },
        {
         "age": 17,
         "height": 185,
         "weight": 87,
         "_deepnote_index_column": 206032
        },
        {
         "age": 21,
         "height": 185,
         "weight": 87,
         "_deepnote_index_column": 206033
        },
        {
         "age": 21,
         "height": 185,
         "weight": 87,
         "_deepnote_index_column": 206034
        },
        {
         "age": 27,
         "height": 183,
         "weight": 100,
         "_deepnote_index_column": 206035
        },
        {
         "age": 35,
         "height": 183,
         "weight": 100,
         "_deepnote_index_column": 206036
        },
        {
         "age": 39,
         "height": 183,
         "weight": 100,
         "_deepnote_index_column": 206037
        },
        {
         "age": 43,
         "height": 183,
         "weight": 100,
         "_deepnote_index_column": 206038
        },
        {
         "age": 47,
         "height": 183,
         "weight": 100,
         "_deepnote_index_column": 206039
        },
        {
         "age": 17,
         "height": 172,
         "weight": 60,
         "_deepnote_index_column": 206040
        },
        {
         "age": 17,
         "height": 172,
         "weight": 60,
         "_deepnote_index_column": 206041
        },
        {
         "age": 21,
         "height": 172,
         "weight": 60,
         "_deepnote_index_column": 206042
        },
        {
         "age": 21,
         "height": 172,
         "weight": 60,
         "_deepnote_index_column": 206043
        },
        {
         "age": 25,
         "height": 172,
         "weight": 60,
         "_deepnote_index_column": 206044
        },
        {
         "age": 25,
         "height": 172,
         "weight": 60,
         "_deepnote_index_column": 206045
        },
        {
         "age": 29,
         "height": 172,
         "weight": 60,
         "_deepnote_index_column": 206046
        },
        {
         "age": 29,
         "height": 172,
         "weight": 60,
         "_deepnote_index_column": 206047
        },
        {
         "age": 23,
         "height": 182,
         "weight": 90,
         "_deepnote_index_column": 206048
        },
        {
         "age": 25,
         "height": 178,
         "weight": 79,
         "_deepnote_index_column": 206049
        },
        {
         "age": 24,
         "height": 177,
         "weight": 84,
         "_deepnote_index_column": 206050
        },
        {
         "age": 23,
         "height": 185,
         "weight": 90,
         "_deepnote_index_column": 206051
        },
        {
         "age": 23,
         "height": 172,
         "weight": 59,
         "_deepnote_index_column": 206052
        },
        {
         "age": 23,
         "height": 172,
         "weight": 59,
         "_deepnote_index_column": 206053
        },
        {
         "age": 27,
         "height": 172,
         "weight": 59,
         "_deepnote_index_column": 206054
        },
        {
         "age": 26,
         "height": 187,
         "weight": 84,
         "_deepnote_index_column": 206055
        },
        {
         "age": 26,
         "height": 187,
         "weight": 84,
         "_deepnote_index_column": 206056
        },
        {
         "age": 24,
         "height": 186,
         "weight": 73,
         "_deepnote_index_column": 206057
        },
        {
         "age": 24,
         "height": 186,
         "weight": 73,
         "_deepnote_index_column": 206058
        },
        {
         "age": 24,
         "height": 186,
         "weight": 73,
         "_deepnote_index_column": 206059
        },
        {
         "age": 24,
         "height": 186,
         "weight": 73,
         "_deepnote_index_column": 206060
        },
        {
         "age": 17,
         "height": 167,
         "weight": 57,
         "_deepnote_index_column": 206061
        },
        {
         "age": 17,
         "height": 167,
         "weight": 57,
         "_deepnote_index_column": 206062
        },
        {
         "age": 21,
         "height": 170,
         "weight": 77,
         "_deepnote_index_column": 206063
        },
        {
         "age": 21,
         "height": 186,
         "weight": 84,
         "_deepnote_index_column": 206064
        },
        {
         "age": 27,
         "height": 183,
         "weight": 80,
         "_deepnote_index_column": 206065
        },
        {
         "age": 24,
         "height": 167,
         "weight": 60,
         "_deepnote_index_column": 206066
        },
        {
         "age": 28,
         "height": 167,
         "weight": 60,
         "_deepnote_index_column": 206067
        },
        {
         "age": 19,
         "height": 189,
         "weight": 80,
         "_deepnote_index_column": 206068
        },
        {
         "age": 19,
         "height": 189,
         "weight": 80,
         "_deepnote_index_column": 206069
        },
        {
         "age": 23,
         "height": 189,
         "weight": 80,
         "_deepnote_index_column": 206070
        },
        {
         "age": 21,
         "height": 200,
         "weight": 93,
         "_deepnote_index_column": 206071
        },
        {
         "age": 25,
         "height": 200,
         "weight": 93,
         "_deepnote_index_column": 206072
        },
        {
         "age": 29,
         "height": 200,
         "weight": 93,
         "_deepnote_index_column": 206073
        },
        {
         "age": 31,
         "height": 181,
         "weight": 70,
         "_deepnote_index_column": 206074
        },
        {
         "age": 35,
         "height": 181,
         "weight": 70,
         "_deepnote_index_column": 206075
        },
        {
         "age": 29,
         "height": 175,
         "weight": 64,
         "_deepnote_index_column": 206076
        },
        {
         "age": 27,
         "height": 178,
         "weight": 71,
         "_deepnote_index_column": 206077
        },
        {
         "age": 26,
         "height": 175,
         "weight": 70,
         "_deepnote_index_column": 206078
        },
        {
         "age": 24,
         "height": 181,
         "weight": 75,
         "_deepnote_index_column": 206079
        },
        {
         "age": 28,
         "height": 181,
         "weight": 75,
         "_deepnote_index_column": 206080
        },
        {
         "age": 32,
         "height": 181,
         "weight": 75,
         "_deepnote_index_column": 206081
        },
        {
         "age": 27,
         "height": 170,
         "weight": 63,
         "_deepnote_index_column": 206082
        },
        {
         "age": 23,
         "height": 202,
         "weight": 98,
         "_deepnote_index_column": 206083
        },
        {
         "age": 24,
         "height": 172,
         "weight": 52,
         "_deepnote_index_column": 206084
        },
        {
         "age": 26,
         "height": 176,
         "weight": 75,
         "_deepnote_index_column": 206085
        },
        {
         "age": 23,
         "height": 174,
         "weight": 70,
         "_deepnote_index_column": 206086
        },
        {
         "age": 22,
         "height": 181,
         "weight": 78,
         "_deepnote_index_column": 206087
        },
        {
         "age": 30,
         "height": 181,
         "weight": 78,
         "_deepnote_index_column": 206088
        },
        {
         "age": 25,
         "height": 175,
         "weight": 72,
         "_deepnote_index_column": 206089
        },
        {
         "age": 22,
         "height": 183,
         "weight": 84,
         "_deepnote_index_column": 206090
        },
        {
         "age": 26,
         "height": 183,
         "weight": 84,
         "_deepnote_index_column": 206091
        },
        {
         "age": 22,
         "height": 174,
         "weight": 68,
         "_deepnote_index_column": 206092
        },
        {
         "age": 22,
         "height": 174,
         "weight": 68,
         "_deepnote_index_column": 206093
        },
        {
         "age": 24,
         "height": 182,
         "weight": 80,
         "_deepnote_index_column": 206094
        },
        {
         "age": 25,
         "height": 175,
         "weight": 64,
         "_deepnote_index_column": 206095
        },
        {
         "age": 21,
         "height": 175,
         "weight": 70,
         "_deepnote_index_column": 206096
        },
        {
         "age": 21,
         "height": 175,
         "weight": 70,
         "_deepnote_index_column": 206097
        },
        {
         "age": 23,
         "height": 197,
         "weight": 93,
         "_deepnote_index_column": 206098
        },
        {
         "age": 27,
         "height": 197,
         "weight": 93,
         "_deepnote_index_column": 206099
        },
        {
         "age": 31,
         "height": 197,
         "weight": 93,
         "_deepnote_index_column": 206100
        },
        {
         "age": 26,
         "height": 174,
         "weight": 65,
         "_deepnote_index_column": 206101
        },
        {
         "age": 26,
         "height": 174,
         "weight": 65,
         "_deepnote_index_column": 206102
        },
        {
         "age": 19,
         "height": 174,
         "weight": 62,
         "_deepnote_index_column": 206103
        },
        {
         "age": 23,
         "height": 174,
         "weight": 62,
         "_deepnote_index_column": 206104
        },
        {
         "age": 23,
         "height": 174,
         "weight": 62,
         "_deepnote_index_column": 206105
        },
        {
         "age": 23,
         "height": 174,
         "weight": 62,
         "_deepnote_index_column": 206106
        },
        {
         "age": 25,
         "height": 174,
         "weight": 62,
         "_deepnote_index_column": 206107
        },
        {
         "age": 27,
         "height": 162,
         "weight": 53,
         "_deepnote_index_column": 206108
        },
        {
         "age": 27,
         "height": 162,
         "weight": 53,
         "_deepnote_index_column": 206109
        },
        {
         "age": 27,
         "height": 162,
         "weight": 53,
         "_deepnote_index_column": 206110
        },
        {
         "age": 27,
         "height": 162,
         "weight": 53,
         "_deepnote_index_column": 206111
        },
        {
         "age": 27,
         "height": 162,
         "weight": 53,
         "_deepnote_index_column": 206112
        },
        {
         "age": 27,
         "height": 161,
         "weight": 53,
         "_deepnote_index_column": 206113
        },
        {
         "age": 27,
         "height": 161,
         "weight": 53,
         "_deepnote_index_column": 206114
        },
        {
         "age": 27,
         "height": 161,
         "weight": 53,
         "_deepnote_index_column": 206115
        },
        {
         "age": 27,
         "height": 161,
         "weight": 53,
         "_deepnote_index_column": 206116
        },
        {
         "age": 23,
         "height": 178,
         "weight": 75,
         "_deepnote_index_column": 206117
        },
        {
         "age": 23,
         "height": 178,
         "weight": 75,
         "_deepnote_index_column": 206118
        },
        {
         "age": 23,
         "height": 178,
         "weight": 75,
         "_deepnote_index_column": 206119
        },
        {
         "age": 23,
         "height": 178,
         "weight": 75,
         "_deepnote_index_column": 206120
        },
        {
         "age": 27,
         "height": 178,
         "weight": 75,
         "_deepnote_index_column": 206121
        },
        {
         "age": 27,
         "height": 178,
         "weight": 75,
         "_deepnote_index_column": 206122
        },
        {
         "age": 27,
         "height": 178,
         "weight": 75,
         "_deepnote_index_column": 206123
        },
        {
         "age": 27,
         "height": 178,
         "weight": 75,
         "_deepnote_index_column": 206124
        },
        {
         "age": 27,
         "height": 178,
         "weight": 75,
         "_deepnote_index_column": 206125
        },
        {
         "age": 21,
         "height": 168,
         "weight": 80,
         "_deepnote_index_column": 206126
        },
        {
         "age": 21,
         "height": 168,
         "weight": 80,
         "_deepnote_index_column": 206127
        },
        {
         "age": 25,
         "height": 168,
         "weight": 80,
         "_deepnote_index_column": 206128
        },
        {
         "age": 29,
         "height": 168,
         "weight": 80,
         "_deepnote_index_column": 206129
        },
        {
         "age": 33,
         "height": 168,
         "weight": 80,
         "_deepnote_index_column": 206130
        },
        {
         "age": 28,
         "height": 182,
         "weight": 82,
         "_deepnote_index_column": 206131
        },
        {
         "age": 28,
         "height": 182,
         "weight": 82,
         "_deepnote_index_column": 206132
        },
        {
         "age": 36,
         "height": 182,
         "weight": 82,
         "_deepnote_index_column": 206133
        },
        {
         "age": 36,
         "height": 182,
         "weight": 82,
         "_deepnote_index_column": 206134
        },
        {
         "age": 36,
         "height": 182,
         "weight": 82,
         "_deepnote_index_column": 206135
        },
        {
         "age": 23,
         "height": 177,
         "weight": 68,
         "_deepnote_index_column": 206136
        },
        {
         "age": 19,
         "height": 189,
         "weight": 80,
         "_deepnote_index_column": 206137
        },
        {
         "age": 19,
         "height": 189,
         "weight": 80,
         "_deepnote_index_column": 206138
        },
        {
         "age": 34,
         "height": 192,
         "weight": 95,
         "_deepnote_index_column": 206139
        },
        {
         "age": 38,
         "height": 192,
         "weight": 95,
         "_deepnote_index_column": 206140
        },
        {
         "age": 32,
         "height": 200,
         "weight": 89,
         "_deepnote_index_column": 206141
        },
        {
         "age": 21,
         "height": 182,
         "weight": 79,
         "_deepnote_index_column": 206142
        },
        {
         "age": 21,
         "height": 182,
         "weight": 79,
         "_deepnote_index_column": 206143
        },
        {
         "age": 25,
         "height": 182,
         "weight": 79,
         "_deepnote_index_column": 206144
        },
        {
         "age": 25,
         "height": 182,
         "weight": 79,
         "_deepnote_index_column": 206145
        },
        {
         "age": 29,
         "height": 182,
         "weight": 79,
         "_deepnote_index_column": 206146
        },
        {
         "age": 29,
         "height": 182,
         "weight": 79,
         "_deepnote_index_column": 206147
        },
        {
         "age": 33,
         "height": 182,
         "weight": 79,
         "_deepnote_index_column": 206148
        },
        {
         "age": 36,
         "height": 171,
         "weight": 63,
         "_deepnote_index_column": 206149
        },
        {
         "age": 24,
         "height": 173,
         "weight": 68,
         "_deepnote_index_column": 206150
        },
        {
         "age": 19,
         "height": 171,
         "weight": 64,
         "_deepnote_index_column": 206151
        },
        {
         "age": 23,
         "height": 171,
         "weight": 64,
         "_deepnote_index_column": 206152
        },
        {
         "age": 22,
         "height": 172,
         "weight": 65,
         "_deepnote_index_column": 206153
        },
        {
         "age": 23,
         "height": 168,
         "weight": 76,
         "_deepnote_index_column": 206154
        },
        {
         "age": 27,
         "height": 168,
         "weight": 76,
         "_deepnote_index_column": 206155
        },
        {
         "age": 21,
         "height": 175,
         "weight": 75,
         "_deepnote_index_column": 206156
        },
        {
         "age": 24,
         "height": 183,
         "weight": 72,
         "_deepnote_index_column": 206157
        },
        {
         "age": 28,
         "height": 183,
         "weight": 72,
         "_deepnote_index_column": 206158
        },
        {
         "age": 33,
         "height": 171,
         "weight": 69,
         "_deepnote_index_column": 206159
        },
        {
         "age": 29,
         "height": 179,
         "weight": 89,
         "_deepnote_index_column": 206160
        },
        {
         "age": 27,
         "height": 176,
         "weight": 59,
         "_deepnote_index_column": 206161
        },
        {
         "age": 27,
         "height": 176,
         "weight": 59,
         "_deepnote_index_column": 206162
        },
        {
         "age": 30,
         "height": 185,
         "weight": 96,
         "_deepnote_index_column": 206163
        },
        {
         "age": 34,
         "height": 185,
         "weight": 96,
         "_deepnote_index_column": 206164
        }
       ]
      },
      "text/plain": "         age  height  weight\n0       24.0   180.0    80.0\n1       23.0   170.0    60.0\n2       21.0   185.0    82.0\n3       21.0   185.0    82.0\n4       25.0   185.0    82.0\n...      ...     ...     ...\n206160  29.0   179.0    89.0\n206161  27.0   176.0    59.0\n206162  27.0   176.0    59.0\n206163  30.0   185.0    96.0\n206164  34.0   185.0    96.0\n\n[206165 rows x 3 columns]",
      "text/html": "<div>\n<style scoped>\n    .dataframe tbody tr th:only-of-type {\n        vertical-align: middle;\n    }\n\n    .dataframe tbody tr th {\n        vertical-align: top;\n    }\n\n    .dataframe thead th {\n        text-align: right;\n    }\n</style>\n<table border=\"1\" class=\"dataframe\">\n  <thead>\n    <tr style=\"text-align: right;\">\n      <th></th>\n      <th>age</th>\n      <th>height</th>\n      <th>weight</th>\n    </tr>\n  </thead>\n  <tbody>\n    <tr>\n      <th>0</th>\n      <td>24.0</td>\n      <td>180.0</td>\n      <td>80.0</td>\n    </tr>\n    <tr>\n      <th>1</th>\n      <td>23.0</td>\n      <td>170.0</td>\n      <td>60.0</td>\n    </tr>\n    <tr>\n      <th>2</th>\n      <td>21.0</td>\n      <td>185.0</td>\n      <td>82.0</td>\n    </tr>\n    <tr>\n      <th>3</th>\n      <td>21.0</td>\n      <td>185.0</td>\n      <td>82.0</td>\n    </tr>\n    <tr>\n      <th>4</th>\n      <td>25.0</td>\n      <td>185.0</td>\n      <td>82.0</td>\n    </tr>\n    <tr>\n      <th>...</th>\n      <td>...</td>\n      <td>...</td>\n      <td>...</td>\n    </tr>\n    <tr>\n      <th>206160</th>\n      <td>29.0</td>\n      <td>179.0</td>\n      <td>89.0</td>\n    </tr>\n    <tr>\n      <th>206161</th>\n      <td>27.0</td>\n      <td>176.0</td>\n      <td>59.0</td>\n    </tr>\n    <tr>\n      <th>206162</th>\n      <td>27.0</td>\n      <td>176.0</td>\n      <td>59.0</td>\n    </tr>\n    <tr>\n      <th>206163</th>\n      <td>30.0</td>\n      <td>185.0</td>\n      <td>96.0</td>\n    </tr>\n    <tr>\n      <th>206164</th>\n      <td>34.0</td>\n      <td>185.0</td>\n      <td>96.0</td>\n    </tr>\n  </tbody>\n</table>\n<p>206165 rows × 3 columns</p>\n</div>"
     },
     "metadata": {}
    }
   ],
   "execution_count": null
  },
  {
   "cell_type": "code",
   "source": "sex = df.groupby(level=0)['sex'].last()\nsex",
   "metadata": {
    "tags": [],
    "cell_id": "00004-a811d9a6-d685-438c-a609-21d43e859c2a",
    "deepnote_to_be_reexecuted": false,
    "source_hash": "4c0e910a",
    "execution_start": 1630554330627,
    "execution_millis": 5,
    "deepnote_cell_type": "code"
   },
   "outputs": [
    {
     "output_type": "execute_result",
     "execution_count": 11,
     "data": {
      "text/plain": "0         M\n1         M\n2         F\n3         F\n4         F\n         ..\n206160    M\n206161    M\n206162    M\n206163    M\n206164    M\nName: sex, Length: 206165, dtype: object"
     },
     "metadata": {}
    }
   ],
   "execution_count": null
  },
  {
   "cell_type": "code",
   "source": "merged = por_atleta.merge(sex,left_index=True,right_index=True)\nmerged",
   "metadata": {
    "tags": [],
    "cell_id": "00005-76f74939-2cb1-4aad-ac77-024d4bc0d946",
    "deepnote_to_be_reexecuted": false,
    "source_hash": "8c0133e",
    "execution_start": 1630554455067,
    "execution_millis": 41,
    "deepnote_cell_type": "code"
   },
   "outputs": [
    {
     "output_type": "execute_result",
     "execution_count": 13,
     "data": {
      "application/vnd.deepnote.dataframe.v2+json": {
       "row_count": 206165,
       "column_count": 4,
       "columns": [
        {
         "name": "age",
         "dtype": "float64"
        },
        {
         "name": "height",
         "dtype": "float64"
        },
        {
         "name": "weight",
         "dtype": "float64"
        },
        {
         "name": "sex",
         "dtype": "object"
        },
        {
         "name": "_deepnote_index_column",
         "dtype": "int64"
        }
       ],
       "rows_top": [
        {
         "age": 24,
         "height": 180,
         "weight": 80,
         "sex": "M",
         "_deepnote_index_column": 0
        },
        {
         "age": 23,
         "height": 170,
         "weight": 60,
         "sex": "M",
         "_deepnote_index_column": 1
        },
        {
         "age": 21,
         "height": 185,
         "weight": 82,
         "sex": "F",
         "_deepnote_index_column": 2
        },
        {
         "age": 21,
         "height": 185,
         "weight": 82,
         "sex": "F",
         "_deepnote_index_column": 3
        },
        {
         "age": 25,
         "height": 185,
         "weight": 82,
         "sex": "F",
         "_deepnote_index_column": 4
        },
        {
         "age": 25,
         "height": 185,
         "weight": 82,
         "sex": "F",
         "_deepnote_index_column": 5
        },
        {
         "age": 27,
         "height": 185,
         "weight": 82,
         "sex": "F",
         "_deepnote_index_column": 6
        },
        {
         "age": 27,
         "height": 185,
         "weight": 82,
         "sex": "F",
         "_deepnote_index_column": 7
        },
        {
         "age": 31,
         "height": 188,
         "weight": 75,
         "sex": "M",
         "_deepnote_index_column": 8
        },
        {
         "age": 31,
         "height": 188,
         "weight": 75,
         "sex": "M",
         "_deepnote_index_column": 9
        },
        {
         "age": 31,
         "height": 188,
         "weight": 75,
         "sex": "M",
         "_deepnote_index_column": 10
        },
        {
         "age": 31,
         "height": 188,
         "weight": 75,
         "sex": "M",
         "_deepnote_index_column": 11
        },
        {
         "age": 33,
         "height": 188,
         "weight": 75,
         "sex": "M",
         "_deepnote_index_column": 12
        },
        {
         "age": 33,
         "height": 188,
         "weight": 75,
         "sex": "M",
         "_deepnote_index_column": 13
        },
        {
         "age": 33,
         "height": 188,
         "weight": 75,
         "sex": "M",
         "_deepnote_index_column": 14
        },
        {
         "age": 33,
         "height": 188,
         "weight": 75,
         "sex": "M",
         "_deepnote_index_column": 15
        },
        {
         "age": 31,
         "height": 183,
         "weight": 72,
         "sex": "M",
         "_deepnote_index_column": 16
        },
        {
         "age": 31,
         "height": 183,
         "weight": 72,
         "sex": "M",
         "_deepnote_index_column": 17
        },
        {
         "age": 31,
         "height": 183,
         "weight": 72,
         "sex": "M",
         "_deepnote_index_column": 18
        },
        {
         "age": 31,
         "height": 183,
         "weight": 72,
         "sex": "M",
         "_deepnote_index_column": 19
        },
        {
         "age": 33,
         "height": 183,
         "weight": 72,
         "sex": "M",
         "_deepnote_index_column": 20
        },
        {
         "age": 33,
         "height": 183,
         "weight": 72,
         "sex": "M",
         "_deepnote_index_column": 21
        },
        {
         "age": 33,
         "height": 183,
         "weight": 72,
         "sex": "M",
         "_deepnote_index_column": 22
        },
        {
         "age": 33,
         "height": 183,
         "weight": 72,
         "sex": "M",
         "_deepnote_index_column": 23
        },
        {
         "age": 26,
         "height": 186,
         "weight": 96,
         "sex": "M",
         "_deepnote_index_column": 24
        },
        {
         "age": 22,
         "height": 182,
         "weight": 76.5,
         "sex": "M",
         "_deepnote_index_column": 25
        },
        {
         "age": 31,
         "height": 172,
         "weight": 70,
         "sex": "M",
         "_deepnote_index_column": 26
        },
        {
         "age": 30,
         "height": 159,
         "weight": 55.5,
         "sex": "F",
         "_deepnote_index_column": 27
        },
        {
         "age": 34,
         "height": 159,
         "weight": 55.5,
         "sex": "F",
         "_deepnote_index_column": 28
        },
        {
         "age": 32,
         "height": 171,
         "weight": 65,
         "sex": "F",
         "_deepnote_index_column": 29
        },
        {
         "age": 28,
         "height": 184,
         "weight": 85,
         "sex": "M",
         "_deepnote_index_column": 30
        },
        {
         "age": 28,
         "height": 175,
         "weight": 64,
         "sex": "M",
         "_deepnote_index_column": 31
        },
        {
         "age": 28,
         "height": 175,
         "weight": 64,
         "sex": "M",
         "_deepnote_index_column": 32
        },
        {
         "age": 28,
         "height": 175,
         "weight": 64,
         "sex": "M",
         "_deepnote_index_column": 33
        },
        {
         "age": 28,
         "height": 175,
         "weight": 64,
         "sex": "M",
         "_deepnote_index_column": 34
        },
        {
         "age": 28,
         "height": 175,
         "weight": 64,
         "sex": "M",
         "_deepnote_index_column": 35
        },
        {
         "age": 28,
         "height": 175,
         "weight": 64,
         "sex": "M",
         "_deepnote_index_column": 36
        },
        {
         "age": 28,
         "height": 175,
         "weight": 64,
         "sex": "M",
         "_deepnote_index_column": 37
        },
        {
         "age": 28,
         "height": 175,
         "weight": 64,
         "sex": "M",
         "_deepnote_index_column": 38
        },
        {
         "age": 32,
         "height": 175,
         "weight": 64,
         "sex": "M",
         "_deepnote_index_column": 39
        },
        {
         "age": 32,
         "height": 175,
         "weight": 64,
         "sex": "M",
         "_deepnote_index_column": 40
        },
        {
         "age": 32,
         "height": 175,
         "weight": 64,
         "sex": "M",
         "_deepnote_index_column": 41
        },
        {
         "age": 32,
         "height": 175,
         "weight": 64,
         "sex": "M",
         "_deepnote_index_column": 42
        },
        {
         "age": 32,
         "height": 175,
         "weight": 64,
         "sex": "M",
         "_deepnote_index_column": 43
        },
        {
         "age": 32,
         "height": 175,
         "weight": 64,
         "sex": "M",
         "_deepnote_index_column": 44
        },
        {
         "age": 32,
         "height": 175,
         "weight": 64,
         "sex": "M",
         "_deepnote_index_column": 45
        },
        {
         "age": 32,
         "height": 175,
         "weight": 64,
         "sex": "M",
         "_deepnote_index_column": 46
        },
        {
         "age": 31,
         "height": 189,
         "weight": 130,
         "sex": "M",
         "_deepnote_index_column": 47
        },
        {
         "age": 20,
         "height": 176,
         "weight": 85,
         "sex": "M",
         "_deepnote_index_column": 48
        },
        {
         "age": 20,
         "height": 176,
         "weight": 85,
         "sex": "M",
         "_deepnote_index_column": 49
        },
        {
         "age": 20,
         "height": 176,
         "weight": 85,
         "sex": "M",
         "_deepnote_index_column": 50
        },
        {
         "age": 20,
         "height": 176,
         "weight": 85,
         "sex": "M",
         "_deepnote_index_column": 51
        },
        {
         "age": 22,
         "height": 176,
         "weight": 85,
         "sex": "M",
         "_deepnote_index_column": 52
        },
        {
         "age": 22,
         "height": 176,
         "weight": 85,
         "sex": "M",
         "_deepnote_index_column": 53
        },
        {
         "age": 22,
         "height": 176,
         "weight": 85,
         "sex": "M",
         "_deepnote_index_column": 54
        },
        {
         "age": 22,
         "height": 176,
         "weight": 85,
         "sex": "M",
         "_deepnote_index_column": 55
        },
        {
         "age": 22,
         "height": 176,
         "weight": 85,
         "sex": "M",
         "_deepnote_index_column": 56
        },
        {
         "age": 26,
         "height": 176,
         "weight": 85,
         "sex": "M",
         "_deepnote_index_column": 57
        },
        {
         "age": 26,
         "height": 176,
         "weight": 85,
         "sex": "M",
         "_deepnote_index_column": 58
        },
        {
         "age": 26,
         "height": 176,
         "weight": 85,
         "sex": "M",
         "_deepnote_index_column": 59
        },
        {
         "age": 26,
         "height": 176,
         "weight": 85,
         "sex": "M",
         "_deepnote_index_column": 60
        },
        {
         "age": 30,
         "height": 176,
         "weight": 85,
         "sex": "M",
         "_deepnote_index_column": 61
        },
        {
         "age": 30,
         "height": 176,
         "weight": 85,
         "sex": "M",
         "_deepnote_index_column": 62
        },
        {
         "age": 30,
         "height": 176,
         "weight": 85,
         "sex": "M",
         "_deepnote_index_column": 63
        },
        {
         "age": 30,
         "height": 176,
         "weight": 85,
         "sex": "M",
         "_deepnote_index_column": 64
        },
        {
         "age": 30,
         "height": 176,
         "weight": 85,
         "sex": "M",
         "_deepnote_index_column": 65
        },
        {
         "age": 34,
         "height": 176,
         "weight": 85,
         "sex": "M",
         "_deepnote_index_column": 66
        },
        {
         "age": 34,
         "height": 176,
         "weight": 85,
         "sex": "M",
         "_deepnote_index_column": 67
        },
        {
         "age": 22,
         "height": 170,
         "weight": 125,
         "sex": "F",
         "_deepnote_index_column": 68
        },
        {
         "age": 22,
         "height": 187,
         "weight": 89,
         "sex": "M",
         "_deepnote_index_column": 69
        },
        {
         "age": 26,
         "height": 187,
         "weight": 89,
         "sex": "M",
         "_deepnote_index_column": 70
        },
        {
         "age": 17,
         "height": 169,
         "weight": 65,
         "sex": "F",
         "_deepnote_index_column": 71
        },
        {
         "age": 43,
         "height": 170,
         "weight": 77,
         "sex": "M",
         "_deepnote_index_column": 72
        },
        {
         "age": 47,
         "height": 170,
         "weight": 77,
         "sex": "M",
         "_deepnote_index_column": 73
        },
        {
         "age": 26,
         "height": 189,
         "weight": 72,
         "sex": "M",
         "_deepnote_index_column": 74
        },
        {
         "age": 30,
         "height": 189,
         "weight": 72,
         "sex": "M",
         "_deepnote_index_column": 75
        },
        {
         "age": 24,
         "height": 174,
         "weight": 70,
         "sex": "M",
         "_deepnote_index_column": 76
        },
        {
         "age": 24,
         "height": 187,
         "weight": 76,
         "sex": "M",
         "_deepnote_index_column": 77
        },
        {
         "age": 28,
         "height": 187,
         "weight": 76,
         "sex": "M",
         "_deepnote_index_column": 78
        },
        {
         "age": 30,
         "height": 187,
         "weight": 76,
         "sex": "M",
         "_deepnote_index_column": 79
        },
        {
         "age": 24,
         "height": 190,
         "weight": 98,
         "sex": "M",
         "_deepnote_index_column": 80
        },
        {
         "age": 21,
         "height": 194,
         "weight": 78,
         "sex": "M",
         "_deepnote_index_column": 81
        },
        {
         "age": 21,
         "height": 194,
         "weight": 78,
         "sex": "M",
         "_deepnote_index_column": 82
        },
        {
         "age": 21,
         "height": 194,
         "weight": 78,
         "sex": "M",
         "_deepnote_index_column": 83
        },
        {
         "age": 25,
         "height": 194,
         "weight": 78,
         "sex": "M",
         "_deepnote_index_column": 84
        },
        {
         "age": 25,
         "height": 194,
         "weight": 78,
         "sex": "M",
         "_deepnote_index_column": 85
        },
        {
         "age": 23,
         "height": 182,
         "weight": 64,
         "sex": "F",
         "_deepnote_index_column": 86
        },
        {
         "age": 34,
         "height": 185,
         "weight": 75,
         "sex": "M",
         "_deepnote_index_column": 87
        },
        {
         "age": 25,
         "height": 182,
         "weight": 73,
         "sex": "M",
         "_deepnote_index_column": 88
        },
        {
         "age": 25,
         "height": 182,
         "weight": 73,
         "sex": "M",
         "_deepnote_index_column": 89
        },
        {
         "age": 29,
         "height": 182,
         "weight": 73,
         "sex": "M",
         "_deepnote_index_column": 90
        },
        {
         "age": 29,
         "height": 182,
         "weight": 73,
         "sex": "M",
         "_deepnote_index_column": 91
        },
        {
         "age": 29,
         "height": 182,
         "weight": 73,
         "sex": "M",
         "_deepnote_index_column": 92
        },
        {
         "age": 33,
         "height": 194,
         "weight": 93,
         "sex": "M",
         "_deepnote_index_column": 93
        },
        {
         "age": 45,
         "height": 194,
         "weight": 93,
         "sex": "M",
         "_deepnote_index_column": 94
        },
        {
         "age": 49,
         "height": 194,
         "weight": 93,
         "sex": "M",
         "_deepnote_index_column": 95
        },
        {
         "age": 53,
         "height": 194,
         "weight": 93,
         "sex": "M",
         "_deepnote_index_column": 96
        },
        {
         "age": 57,
         "height": 194,
         "weight": 93,
         "sex": "M",
         "_deepnote_index_column": 97
        },
        {
         "age": 22,
         "height": 177,
         "weight": 74,
         "sex": "M",
         "_deepnote_index_column": 98
        },
        {
         "age": 22,
         "height": 177,
         "weight": 74,
         "sex": "M",
         "_deepnote_index_column": 99
        },
        {
         "age": 26,
         "height": 177,
         "weight": 74,
         "sex": "M",
         "_deepnote_index_column": 100
        },
        {
         "age": 30,
         "height": 177,
         "weight": 74,
         "sex": "M",
         "_deepnote_index_column": 101
        },
        {
         "age": 24,
         "height": 168,
         "weight": 65,
         "sex": "F",
         "_deepnote_index_column": 102
        },
        {
         "age": 28,
         "height": 168,
         "weight": 65,
         "sex": "F",
         "_deepnote_index_column": 103
        },
        {
         "age": 22,
         "height": 185,
         "weight": 106,
         "sex": "M",
         "_deepnote_index_column": 104
        },
        {
         "age": 26,
         "height": 185,
         "weight": 106,
         "sex": "M",
         "_deepnote_index_column": 105
        },
        {
         "age": 23,
         "height": 167,
         "weight": 64,
         "sex": "M",
         "_deepnote_index_column": 106
        },
        {
         "age": 23,
         "height": 167,
         "weight": 64,
         "sex": "M",
         "_deepnote_index_column": 107
        },
        {
         "age": 23,
         "height": 167,
         "weight": 64,
         "sex": "M",
         "_deepnote_index_column": 108
        },
        {
         "age": 23,
         "height": 167,
         "weight": 64,
         "sex": "M",
         "_deepnote_index_column": 109
        },
        {
         "age": 23,
         "height": 167,
         "weight": 64,
         "sex": "M",
         "_deepnote_index_column": 110
        },
        {
         "age": 23,
         "height": 167,
         "weight": 64,
         "sex": "M",
         "_deepnote_index_column": 111
        },
        {
         "age": 22,
         "height": 189,
         "weight": 80,
         "sex": "M",
         "_deepnote_index_column": 112
        },
        {
         "age": 24,
         "height": 172,
         "weight": 58,
         "sex": "M",
         "_deepnote_index_column": 113
        },
        {
         "age": 26,
         "height": 170,
         "weight": 65,
         "sex": "M",
         "_deepnote_index_column": 114
        },
        {
         "age": 24,
         "height": 176,
         "weight": 66,
         "sex": "M",
         "_deepnote_index_column": 115
        },
        {
         "age": 24,
         "height": 164,
         "weight": 71,
         "sex": "M",
         "_deepnote_index_column": 116
        },
        {
         "age": 28,
         "height": 164,
         "weight": 71,
         "sex": "M",
         "_deepnote_index_column": 117
        },
        {
         "age": 24,
         "height": 172,
         "weight": 75,
         "sex": "M",
         "_deepnote_index_column": 118
        },
        {
         "age": 26,
         "height": 175,
         "weight": 72,
         "sex": "M",
         "_deepnote_index_column": 119
        },
        {
         "age": 21,
         "height": 198,
         "weight": 90,
         "sex": "M",
         "_deepnote_index_column": 120
        },
        {
         "age": 30,
         "height": 194,
         "weight": 87,
         "sex": "M",
         "_deepnote_index_column": 121
        },
        {
         "age": 21,
         "height": 165,
         "weight": 49,
         "sex": "F",
         "_deepnote_index_column": 122
        },
        {
         "age": 22,
         "height": 179,
         "weight": 80,
         "sex": "F",
         "_deepnote_index_column": 123
        },
        {
         "age": 26,
         "height": 179,
         "weight": 80,
         "sex": "F",
         "_deepnote_index_column": 124
        }
       ],
       "rows_bottom": [
        {
         "age": 17,
         "height": 172,
         "weight": 60,
         "sex": "F",
         "_deepnote_index_column": 206040
        },
        {
         "age": 17,
         "height": 172,
         "weight": 60,
         "sex": "F",
         "_deepnote_index_column": 206041
        },
        {
         "age": 21,
         "height": 172,
         "weight": 60,
         "sex": "F",
         "_deepnote_index_column": 206042
        },
        {
         "age": 21,
         "height": 172,
         "weight": 60,
         "sex": "F",
         "_deepnote_index_column": 206043
        },
        {
         "age": 25,
         "height": 172,
         "weight": 60,
         "sex": "F",
         "_deepnote_index_column": 206044
        },
        {
         "age": 25,
         "height": 172,
         "weight": 60,
         "sex": "F",
         "_deepnote_index_column": 206045
        },
        {
         "age": 29,
         "height": 172,
         "weight": 60,
         "sex": "F",
         "_deepnote_index_column": 206046
        },
        {
         "age": 29,
         "height": 172,
         "weight": 60,
         "sex": "F",
         "_deepnote_index_column": 206047
        },
        {
         "age": 23,
         "height": 182,
         "weight": 90,
         "sex": "M",
         "_deepnote_index_column": 206048
        },
        {
         "age": 25,
         "height": 178,
         "weight": 79,
         "sex": "M",
         "_deepnote_index_column": 206049
        },
        {
         "age": 24,
         "height": 177,
         "weight": 84,
         "sex": "M",
         "_deepnote_index_column": 206050
        },
        {
         "age": 23,
         "height": 185,
         "weight": 90,
         "sex": "M",
         "_deepnote_index_column": 206051
        },
        {
         "age": 23,
         "height": 172,
         "weight": 59,
         "sex": "F",
         "_deepnote_index_column": 206052
        },
        {
         "age": 23,
         "height": 172,
         "weight": 59,
         "sex": "F",
         "_deepnote_index_column": 206053
        },
        {
         "age": 27,
         "height": 172,
         "weight": 59,
         "sex": "F",
         "_deepnote_index_column": 206054
        },
        {
         "age": 26,
         "height": 187,
         "weight": 84,
         "sex": "M",
         "_deepnote_index_column": 206055
        },
        {
         "age": 26,
         "height": 187,
         "weight": 84,
         "sex": "M",
         "_deepnote_index_column": 206056
        },
        {
         "age": 24,
         "height": 186,
         "weight": 73,
         "sex": "M",
         "_deepnote_index_column": 206057
        },
        {
         "age": 24,
         "height": 186,
         "weight": 73,
         "sex": "M",
         "_deepnote_index_column": 206058
        },
        {
         "age": 24,
         "height": 186,
         "weight": 73,
         "sex": "M",
         "_deepnote_index_column": 206059
        },
        {
         "age": 24,
         "height": 186,
         "weight": 73,
         "sex": "M",
         "_deepnote_index_column": 206060
        },
        {
         "age": 17,
         "height": 167,
         "weight": 57,
         "sex": "F",
         "_deepnote_index_column": 206061
        },
        {
         "age": 17,
         "height": 167,
         "weight": 57,
         "sex": "F",
         "_deepnote_index_column": 206062
        },
        {
         "age": 21,
         "height": 170,
         "weight": 77,
         "sex": "M",
         "_deepnote_index_column": 206063
        },
        {
         "age": 21,
         "height": 186,
         "weight": 84,
         "sex": "M",
         "_deepnote_index_column": 206064
        },
        {
         "age": 27,
         "height": 183,
         "weight": 80,
         "sex": "M",
         "_deepnote_index_column": 206065
        },
        {
         "age": 24,
         "height": 167,
         "weight": 60,
         "sex": "F",
         "_deepnote_index_column": 206066
        },
        {
         "age": 28,
         "height": 167,
         "weight": 60,
         "sex": "F",
         "_deepnote_index_column": 206067
        },
        {
         "age": 19,
         "height": 189,
         "weight": 80,
         "sex": "M",
         "_deepnote_index_column": 206068
        },
        {
         "age": 19,
         "height": 189,
         "weight": 80,
         "sex": "M",
         "_deepnote_index_column": 206069
        },
        {
         "age": 23,
         "height": 189,
         "weight": 80,
         "sex": "M",
         "_deepnote_index_column": 206070
        },
        {
         "age": 21,
         "height": 200,
         "weight": 93,
         "sex": "M",
         "_deepnote_index_column": 206071
        },
        {
         "age": 25,
         "height": 200,
         "weight": 93,
         "sex": "M",
         "_deepnote_index_column": 206072
        },
        {
         "age": 29,
         "height": 200,
         "weight": 93,
         "sex": "M",
         "_deepnote_index_column": 206073
        },
        {
         "age": 31,
         "height": 181,
         "weight": 70,
         "sex": "M",
         "_deepnote_index_column": 206074
        },
        {
         "age": 35,
         "height": 181,
         "weight": 70,
         "sex": "M",
         "_deepnote_index_column": 206075
        },
        {
         "age": 29,
         "height": 175,
         "weight": 64,
         "sex": "M",
         "_deepnote_index_column": 206076
        },
        {
         "age": 27,
         "height": 178,
         "weight": 71,
         "sex": "M",
         "_deepnote_index_column": 206077
        },
        {
         "age": 26,
         "height": 175,
         "weight": 70,
         "sex": "M",
         "_deepnote_index_column": 206078
        },
        {
         "age": 24,
         "height": 181,
         "weight": 75,
         "sex": "M",
         "_deepnote_index_column": 206079
        },
        {
         "age": 28,
         "height": 181,
         "weight": 75,
         "sex": "M",
         "_deepnote_index_column": 206080
        },
        {
         "age": 32,
         "height": 181,
         "weight": 75,
         "sex": "M",
         "_deepnote_index_column": 206081
        },
        {
         "age": 27,
         "height": 170,
         "weight": 63,
         "sex": "M",
         "_deepnote_index_column": 206082
        },
        {
         "age": 23,
         "height": 202,
         "weight": 98,
         "sex": "M",
         "_deepnote_index_column": 206083
        },
        {
         "age": 24,
         "height": 172,
         "weight": 52,
         "sex": "F",
         "_deepnote_index_column": 206084
        },
        {
         "age": 26,
         "height": 176,
         "weight": 75,
         "sex": "M",
         "_deepnote_index_column": 206085
        },
        {
         "age": 23,
         "height": 174,
         "weight": 70,
         "sex": "F",
         "_deepnote_index_column": 206086
        },
        {
         "age": 22,
         "height": 181,
         "weight": 78,
         "sex": "F",
         "_deepnote_index_column": 206087
        },
        {
         "age": 30,
         "height": 181,
         "weight": 78,
         "sex": "F",
         "_deepnote_index_column": 206088
        },
        {
         "age": 25,
         "height": 175,
         "weight": 72,
         "sex": "M",
         "_deepnote_index_column": 206089
        },
        {
         "age": 22,
         "height": 183,
         "weight": 84,
         "sex": "M",
         "_deepnote_index_column": 206090
        },
        {
         "age": 26,
         "height": 183,
         "weight": 84,
         "sex": "M",
         "_deepnote_index_column": 206091
        },
        {
         "age": 22,
         "height": 174,
         "weight": 68,
         "sex": "M",
         "_deepnote_index_column": 206092
        },
        {
         "age": 22,
         "height": 174,
         "weight": 68,
         "sex": "M",
         "_deepnote_index_column": 206093
        },
        {
         "age": 24,
         "height": 182,
         "weight": 80,
         "sex": "M",
         "_deepnote_index_column": 206094
        },
        {
         "age": 25,
         "height": 175,
         "weight": 64,
         "sex": "M",
         "_deepnote_index_column": 206095
        },
        {
         "age": 21,
         "height": 175,
         "weight": 70,
         "sex": "M",
         "_deepnote_index_column": 206096
        },
        {
         "age": 21,
         "height": 175,
         "weight": 70,
         "sex": "M",
         "_deepnote_index_column": 206097
        },
        {
         "age": 23,
         "height": 197,
         "weight": 93,
         "sex": "M",
         "_deepnote_index_column": 206098
        },
        {
         "age": 27,
         "height": 197,
         "weight": 93,
         "sex": "M",
         "_deepnote_index_column": 206099
        },
        {
         "age": 31,
         "height": 197,
         "weight": 93,
         "sex": "M",
         "_deepnote_index_column": 206100
        },
        {
         "age": 26,
         "height": 174,
         "weight": 65,
         "sex": "F",
         "_deepnote_index_column": 206101
        },
        {
         "age": 26,
         "height": 174,
         "weight": 65,
         "sex": "F",
         "_deepnote_index_column": 206102
        },
        {
         "age": 19,
         "height": 174,
         "weight": 62,
         "sex": "F",
         "_deepnote_index_column": 206103
        },
        {
         "age": 23,
         "height": 174,
         "weight": 62,
         "sex": "F",
         "_deepnote_index_column": 206104
        },
        {
         "age": 23,
         "height": 174,
         "weight": 62,
         "sex": "F",
         "_deepnote_index_column": 206105
        },
        {
         "age": 23,
         "height": 174,
         "weight": 62,
         "sex": "F",
         "_deepnote_index_column": 206106
        },
        {
         "age": 25,
         "height": 174,
         "weight": 62,
         "sex": "M",
         "_deepnote_index_column": 206107
        },
        {
         "age": 27,
         "height": 162,
         "weight": 53,
         "sex": "F",
         "_deepnote_index_column": 206108
        },
        {
         "age": 27,
         "height": 162,
         "weight": 53,
         "sex": "F",
         "_deepnote_index_column": 206109
        },
        {
         "age": 27,
         "height": 162,
         "weight": 53,
         "sex": "F",
         "_deepnote_index_column": 206110
        },
        {
         "age": 27,
         "height": 162,
         "weight": 53,
         "sex": "F",
         "_deepnote_index_column": 206111
        },
        {
         "age": 27,
         "height": 162,
         "weight": 53,
         "sex": "F",
         "_deepnote_index_column": 206112
        },
        {
         "age": 27,
         "height": 161,
         "weight": 53,
         "sex": "F",
         "_deepnote_index_column": 206113
        },
        {
         "age": 27,
         "height": 161,
         "weight": 53,
         "sex": "F",
         "_deepnote_index_column": 206114
        },
        {
         "age": 27,
         "height": 161,
         "weight": 53,
         "sex": "F",
         "_deepnote_index_column": 206115
        },
        {
         "age": 27,
         "height": 161,
         "weight": 53,
         "sex": "F",
         "_deepnote_index_column": 206116
        },
        {
         "age": 23,
         "height": 178,
         "weight": 75,
         "sex": "M",
         "_deepnote_index_column": 206117
        },
        {
         "age": 23,
         "height": 178,
         "weight": 75,
         "sex": "M",
         "_deepnote_index_column": 206118
        },
        {
         "age": 23,
         "height": 178,
         "weight": 75,
         "sex": "M",
         "_deepnote_index_column": 206119
        },
        {
         "age": 23,
         "height": 178,
         "weight": 75,
         "sex": "M",
         "_deepnote_index_column": 206120
        },
        {
         "age": 27,
         "height": 178,
         "weight": 75,
         "sex": "M",
         "_deepnote_index_column": 206121
        },
        {
         "age": 27,
         "height": 178,
         "weight": 75,
         "sex": "M",
         "_deepnote_index_column": 206122
        },
        {
         "age": 27,
         "height": 178,
         "weight": 75,
         "sex": "M",
         "_deepnote_index_column": 206123
        },
        {
         "age": 27,
         "height": 178,
         "weight": 75,
         "sex": "M",
         "_deepnote_index_column": 206124
        },
        {
         "age": 27,
         "height": 178,
         "weight": 75,
         "sex": "M",
         "_deepnote_index_column": 206125
        },
        {
         "age": 21,
         "height": 168,
         "weight": 80,
         "sex": "F",
         "_deepnote_index_column": 206126
        },
        {
         "age": 21,
         "height": 168,
         "weight": 80,
         "sex": "F",
         "_deepnote_index_column": 206127
        },
        {
         "age": 25,
         "height": 168,
         "weight": 80,
         "sex": "F",
         "_deepnote_index_column": 206128
        },
        {
         "age": 29,
         "height": 168,
         "weight": 80,
         "sex": "F",
         "_deepnote_index_column": 206129
        },
        {
         "age": 33,
         "height": 168,
         "weight": 80,
         "sex": "F",
         "_deepnote_index_column": 206130
        },
        {
         "age": 28,
         "height": 182,
         "weight": 82,
         "sex": "M",
         "_deepnote_index_column": 206131
        },
        {
         "age": 28,
         "height": 182,
         "weight": 82,
         "sex": "M",
         "_deepnote_index_column": 206132
        },
        {
         "age": 36,
         "height": 182,
         "weight": 82,
         "sex": "M",
         "_deepnote_index_column": 206133
        },
        {
         "age": 36,
         "height": 182,
         "weight": 82,
         "sex": "M",
         "_deepnote_index_column": 206134
        },
        {
         "age": 36,
         "height": 182,
         "weight": 82,
         "sex": "M",
         "_deepnote_index_column": 206135
        },
        {
         "age": 23,
         "height": 177,
         "weight": 68,
         "sex": "M",
         "_deepnote_index_column": 206136
        },
        {
         "age": 19,
         "height": 189,
         "weight": 80,
         "sex": "M",
         "_deepnote_index_column": 206137
        },
        {
         "age": 19,
         "height": 189,
         "weight": 80,
         "sex": "M",
         "_deepnote_index_column": 206138
        },
        {
         "age": 34,
         "height": 192,
         "weight": 95,
         "sex": "M",
         "_deepnote_index_column": 206139
        },
        {
         "age": 38,
         "height": 192,
         "weight": 95,
         "sex": "M",
         "_deepnote_index_column": 206140
        },
        {
         "age": 32,
         "height": 200,
         "weight": 89,
         "sex": "M",
         "_deepnote_index_column": 206141
        },
        {
         "age": 21,
         "height": 182,
         "weight": 79,
         "sex": "M",
         "_deepnote_index_column": 206142
        },
        {
         "age": 21,
         "height": 182,
         "weight": 79,
         "sex": "M",
         "_deepnote_index_column": 206143
        },
        {
         "age": 25,
         "height": 182,
         "weight": 79,
         "sex": "M",
         "_deepnote_index_column": 206144
        },
        {
         "age": 25,
         "height": 182,
         "weight": 79,
         "sex": "M",
         "_deepnote_index_column": 206145
        },
        {
         "age": 29,
         "height": 182,
         "weight": 79,
         "sex": "M",
         "_deepnote_index_column": 206146
        },
        {
         "age": 29,
         "height": 182,
         "weight": 79,
         "sex": "M",
         "_deepnote_index_column": 206147
        },
        {
         "age": 33,
         "height": 182,
         "weight": 79,
         "sex": "M",
         "_deepnote_index_column": 206148
        },
        {
         "age": 36,
         "height": 171,
         "weight": 63,
         "sex": "F",
         "_deepnote_index_column": 206149
        },
        {
         "age": 24,
         "height": 173,
         "weight": 68,
         "sex": "M",
         "_deepnote_index_column": 206150
        },
        {
         "age": 19,
         "height": 171,
         "weight": 64,
         "sex": "F",
         "_deepnote_index_column": 206151
        },
        {
         "age": 23,
         "height": 171,
         "weight": 64,
         "sex": "F",
         "_deepnote_index_column": 206152
        },
        {
         "age": 22,
         "height": 172,
         "weight": 65,
         "sex": "M",
         "_deepnote_index_column": 206153
        },
        {
         "age": 23,
         "height": 168,
         "weight": 76,
         "sex": "M",
         "_deepnote_index_column": 206154
        },
        {
         "age": 27,
         "height": 168,
         "weight": 76,
         "sex": "M",
         "_deepnote_index_column": 206155
        },
        {
         "age": 21,
         "height": 175,
         "weight": 75,
         "sex": "M",
         "_deepnote_index_column": 206156
        },
        {
         "age": 24,
         "height": 183,
         "weight": 72,
         "sex": "M",
         "_deepnote_index_column": 206157
        },
        {
         "age": 28,
         "height": 183,
         "weight": 72,
         "sex": "M",
         "_deepnote_index_column": 206158
        },
        {
         "age": 33,
         "height": 171,
         "weight": 69,
         "sex": "F",
         "_deepnote_index_column": 206159
        },
        {
         "age": 29,
         "height": 179,
         "weight": 89,
         "sex": "M",
         "_deepnote_index_column": 206160
        },
        {
         "age": 27,
         "height": 176,
         "weight": 59,
         "sex": "M",
         "_deepnote_index_column": 206161
        },
        {
         "age": 27,
         "height": 176,
         "weight": 59,
         "sex": "M",
         "_deepnote_index_column": 206162
        },
        {
         "age": 30,
         "height": 185,
         "weight": 96,
         "sex": "M",
         "_deepnote_index_column": 206163
        },
        {
         "age": 34,
         "height": 185,
         "weight": 96,
         "sex": "M",
         "_deepnote_index_column": 206164
        }
       ]
      },
      "text/plain": "         age  height  weight sex\n0       24.0   180.0    80.0   M\n1       23.0   170.0    60.0   M\n2       21.0   185.0    82.0   F\n3       21.0   185.0    82.0   F\n4       25.0   185.0    82.0   F\n...      ...     ...     ...  ..\n206160  29.0   179.0    89.0   M\n206161  27.0   176.0    59.0   M\n206162  27.0   176.0    59.0   M\n206163  30.0   185.0    96.0   M\n206164  34.0   185.0    96.0   M\n\n[206165 rows x 4 columns]",
      "text/html": "<div>\n<style scoped>\n    .dataframe tbody tr th:only-of-type {\n        vertical-align: middle;\n    }\n\n    .dataframe tbody tr th {\n        vertical-align: top;\n    }\n\n    .dataframe thead th {\n        text-align: right;\n    }\n</style>\n<table border=\"1\" class=\"dataframe\">\n  <thead>\n    <tr style=\"text-align: right;\">\n      <th></th>\n      <th>age</th>\n      <th>height</th>\n      <th>weight</th>\n      <th>sex</th>\n    </tr>\n  </thead>\n  <tbody>\n    <tr>\n      <th>0</th>\n      <td>24.0</td>\n      <td>180.0</td>\n      <td>80.0</td>\n      <td>M</td>\n    </tr>\n    <tr>\n      <th>1</th>\n      <td>23.0</td>\n      <td>170.0</td>\n      <td>60.0</td>\n      <td>M</td>\n    </tr>\n    <tr>\n      <th>2</th>\n      <td>21.0</td>\n      <td>185.0</td>\n      <td>82.0</td>\n      <td>F</td>\n    </tr>\n    <tr>\n      <th>3</th>\n      <td>21.0</td>\n      <td>185.0</td>\n      <td>82.0</td>\n      <td>F</td>\n    </tr>\n    <tr>\n      <th>4</th>\n      <td>25.0</td>\n      <td>185.0</td>\n      <td>82.0</td>\n      <td>F</td>\n    </tr>\n    <tr>\n      <th>...</th>\n      <td>...</td>\n      <td>...</td>\n      <td>...</td>\n      <td>...</td>\n    </tr>\n    <tr>\n      <th>206160</th>\n      <td>29.0</td>\n      <td>179.0</td>\n      <td>89.0</td>\n      <td>M</td>\n    </tr>\n    <tr>\n      <th>206161</th>\n      <td>27.0</td>\n      <td>176.0</td>\n      <td>59.0</td>\n      <td>M</td>\n    </tr>\n    <tr>\n      <th>206162</th>\n      <td>27.0</td>\n      <td>176.0</td>\n      <td>59.0</td>\n      <td>M</td>\n    </tr>\n    <tr>\n      <th>206163</th>\n      <td>30.0</td>\n      <td>185.0</td>\n      <td>96.0</td>\n      <td>M</td>\n    </tr>\n    <tr>\n      <th>206164</th>\n      <td>34.0</td>\n      <td>185.0</td>\n      <td>96.0</td>\n      <td>M</td>\n    </tr>\n  </tbody>\n</table>\n<p>206165 rows × 4 columns</p>\n</div>"
     },
     "metadata": {}
    }
   ],
   "execution_count": null
  },
  {
   "cell_type": "code",
   "source": "males = por_atleta[merged['sex']=='M']\nmales",
   "metadata": {
    "tags": [],
    "cell_id": "00006-f59c2f75-14b2-4fb3-b52a-35549b7dd415",
    "deepnote_to_be_reexecuted": false,
    "source_hash": "90223fa5",
    "execution_start": 1630554531148,
    "execution_millis": 52,
    "deepnote_cell_type": "code"
   },
   "outputs": [
    {
     "output_type": "execute_result",
     "execution_count": 15,
     "data": {
      "application/vnd.deepnote.dataframe.v2+json": {
       "row_count": 139454,
       "column_count": 3,
       "columns": [
        {
         "name": "age",
         "dtype": "float64"
        },
        {
         "name": "height",
         "dtype": "float64"
        },
        {
         "name": "weight",
         "dtype": "float64"
        },
        {
         "name": "_deepnote_index_column",
         "dtype": "int64"
        }
       ],
       "rows_top": [
        {
         "age": 24,
         "height": 180,
         "weight": 80,
         "_deepnote_index_column": 0
        },
        {
         "age": 23,
         "height": 170,
         "weight": 60,
         "_deepnote_index_column": 1
        },
        {
         "age": 31,
         "height": 188,
         "weight": 75,
         "_deepnote_index_column": 8
        },
        {
         "age": 31,
         "height": 188,
         "weight": 75,
         "_deepnote_index_column": 9
        },
        {
         "age": 31,
         "height": 188,
         "weight": 75,
         "_deepnote_index_column": 10
        },
        {
         "age": 31,
         "height": 188,
         "weight": 75,
         "_deepnote_index_column": 11
        },
        {
         "age": 33,
         "height": 188,
         "weight": 75,
         "_deepnote_index_column": 12
        },
        {
         "age": 33,
         "height": 188,
         "weight": 75,
         "_deepnote_index_column": 13
        },
        {
         "age": 33,
         "height": 188,
         "weight": 75,
         "_deepnote_index_column": 14
        },
        {
         "age": 33,
         "height": 188,
         "weight": 75,
         "_deepnote_index_column": 15
        },
        {
         "age": 31,
         "height": 183,
         "weight": 72,
         "_deepnote_index_column": 16
        },
        {
         "age": 31,
         "height": 183,
         "weight": 72,
         "_deepnote_index_column": 17
        },
        {
         "age": 31,
         "height": 183,
         "weight": 72,
         "_deepnote_index_column": 18
        },
        {
         "age": 31,
         "height": 183,
         "weight": 72,
         "_deepnote_index_column": 19
        },
        {
         "age": 33,
         "height": 183,
         "weight": 72,
         "_deepnote_index_column": 20
        },
        {
         "age": 33,
         "height": 183,
         "weight": 72,
         "_deepnote_index_column": 21
        },
        {
         "age": 33,
         "height": 183,
         "weight": 72,
         "_deepnote_index_column": 22
        },
        {
         "age": 33,
         "height": 183,
         "weight": 72,
         "_deepnote_index_column": 23
        },
        {
         "age": 26,
         "height": 186,
         "weight": 96,
         "_deepnote_index_column": 24
        },
        {
         "age": 22,
         "height": 182,
         "weight": 76.5,
         "_deepnote_index_column": 25
        },
        {
         "age": 31,
         "height": 172,
         "weight": 70,
         "_deepnote_index_column": 26
        },
        {
         "age": 28,
         "height": 184,
         "weight": 85,
         "_deepnote_index_column": 30
        },
        {
         "age": 28,
         "height": 175,
         "weight": 64,
         "_deepnote_index_column": 31
        },
        {
         "age": 28,
         "height": 175,
         "weight": 64,
         "_deepnote_index_column": 32
        },
        {
         "age": 28,
         "height": 175,
         "weight": 64,
         "_deepnote_index_column": 33
        },
        {
         "age": 28,
         "height": 175,
         "weight": 64,
         "_deepnote_index_column": 34
        },
        {
         "age": 28,
         "height": 175,
         "weight": 64,
         "_deepnote_index_column": 35
        },
        {
         "age": 28,
         "height": 175,
         "weight": 64,
         "_deepnote_index_column": 36
        },
        {
         "age": 28,
         "height": 175,
         "weight": 64,
         "_deepnote_index_column": 37
        },
        {
         "age": 28,
         "height": 175,
         "weight": 64,
         "_deepnote_index_column": 38
        },
        {
         "age": 32,
         "height": 175,
         "weight": 64,
         "_deepnote_index_column": 39
        },
        {
         "age": 32,
         "height": 175,
         "weight": 64,
         "_deepnote_index_column": 40
        },
        {
         "age": 32,
         "height": 175,
         "weight": 64,
         "_deepnote_index_column": 41
        },
        {
         "age": 32,
         "height": 175,
         "weight": 64,
         "_deepnote_index_column": 42
        },
        {
         "age": 32,
         "height": 175,
         "weight": 64,
         "_deepnote_index_column": 43
        },
        {
         "age": 32,
         "height": 175,
         "weight": 64,
         "_deepnote_index_column": 44
        },
        {
         "age": 32,
         "height": 175,
         "weight": 64,
         "_deepnote_index_column": 45
        },
        {
         "age": 32,
         "height": 175,
         "weight": 64,
         "_deepnote_index_column": 46
        },
        {
         "age": 31,
         "height": 189,
         "weight": 130,
         "_deepnote_index_column": 47
        },
        {
         "age": 20,
         "height": 176,
         "weight": 85,
         "_deepnote_index_column": 48
        },
        {
         "age": 20,
         "height": 176,
         "weight": 85,
         "_deepnote_index_column": 49
        },
        {
         "age": 20,
         "height": 176,
         "weight": 85,
         "_deepnote_index_column": 50
        },
        {
         "age": 20,
         "height": 176,
         "weight": 85,
         "_deepnote_index_column": 51
        },
        {
         "age": 22,
         "height": 176,
         "weight": 85,
         "_deepnote_index_column": 52
        },
        {
         "age": 22,
         "height": 176,
         "weight": 85,
         "_deepnote_index_column": 53
        },
        {
         "age": 22,
         "height": 176,
         "weight": 85,
         "_deepnote_index_column": 54
        },
        {
         "age": 22,
         "height": 176,
         "weight": 85,
         "_deepnote_index_column": 55
        },
        {
         "age": 22,
         "height": 176,
         "weight": 85,
         "_deepnote_index_column": 56
        },
        {
         "age": 26,
         "height": 176,
         "weight": 85,
         "_deepnote_index_column": 57
        },
        {
         "age": 26,
         "height": 176,
         "weight": 85,
         "_deepnote_index_column": 58
        },
        {
         "age": 26,
         "height": 176,
         "weight": 85,
         "_deepnote_index_column": 59
        },
        {
         "age": 26,
         "height": 176,
         "weight": 85,
         "_deepnote_index_column": 60
        },
        {
         "age": 30,
         "height": 176,
         "weight": 85,
         "_deepnote_index_column": 61
        },
        {
         "age": 30,
         "height": 176,
         "weight": 85,
         "_deepnote_index_column": 62
        },
        {
         "age": 30,
         "height": 176,
         "weight": 85,
         "_deepnote_index_column": 63
        },
        {
         "age": 30,
         "height": 176,
         "weight": 85,
         "_deepnote_index_column": 64
        },
        {
         "age": 30,
         "height": 176,
         "weight": 85,
         "_deepnote_index_column": 65
        },
        {
         "age": 34,
         "height": 176,
         "weight": 85,
         "_deepnote_index_column": 66
        },
        {
         "age": 34,
         "height": 176,
         "weight": 85,
         "_deepnote_index_column": 67
        },
        {
         "age": 22,
         "height": 187,
         "weight": 89,
         "_deepnote_index_column": 69
        },
        {
         "age": 26,
         "height": 187,
         "weight": 89,
         "_deepnote_index_column": 70
        },
        {
         "age": 43,
         "height": 170,
         "weight": 77,
         "_deepnote_index_column": 72
        },
        {
         "age": 47,
         "height": 170,
         "weight": 77,
         "_deepnote_index_column": 73
        },
        {
         "age": 26,
         "height": 189,
         "weight": 72,
         "_deepnote_index_column": 74
        },
        {
         "age": 30,
         "height": 189,
         "weight": 72,
         "_deepnote_index_column": 75
        },
        {
         "age": 24,
         "height": 174,
         "weight": 70,
         "_deepnote_index_column": 76
        },
        {
         "age": 24,
         "height": 187,
         "weight": 76,
         "_deepnote_index_column": 77
        },
        {
         "age": 28,
         "height": 187,
         "weight": 76,
         "_deepnote_index_column": 78
        },
        {
         "age": 30,
         "height": 187,
         "weight": 76,
         "_deepnote_index_column": 79
        },
        {
         "age": 24,
         "height": 190,
         "weight": 98,
         "_deepnote_index_column": 80
        },
        {
         "age": 21,
         "height": 194,
         "weight": 78,
         "_deepnote_index_column": 81
        },
        {
         "age": 21,
         "height": 194,
         "weight": 78,
         "_deepnote_index_column": 82
        },
        {
         "age": 21,
         "height": 194,
         "weight": 78,
         "_deepnote_index_column": 83
        },
        {
         "age": 25,
         "height": 194,
         "weight": 78,
         "_deepnote_index_column": 84
        },
        {
         "age": 25,
         "height": 194,
         "weight": 78,
         "_deepnote_index_column": 85
        },
        {
         "age": 34,
         "height": 185,
         "weight": 75,
         "_deepnote_index_column": 87
        },
        {
         "age": 25,
         "height": 182,
         "weight": 73,
         "_deepnote_index_column": 88
        },
        {
         "age": 25,
         "height": 182,
         "weight": 73,
         "_deepnote_index_column": 89
        },
        {
         "age": 29,
         "height": 182,
         "weight": 73,
         "_deepnote_index_column": 90
        },
        {
         "age": 29,
         "height": 182,
         "weight": 73,
         "_deepnote_index_column": 91
        },
        {
         "age": 29,
         "height": 182,
         "weight": 73,
         "_deepnote_index_column": 92
        },
        {
         "age": 33,
         "height": 194,
         "weight": 93,
         "_deepnote_index_column": 93
        },
        {
         "age": 45,
         "height": 194,
         "weight": 93,
         "_deepnote_index_column": 94
        },
        {
         "age": 49,
         "height": 194,
         "weight": 93,
         "_deepnote_index_column": 95
        },
        {
         "age": 53,
         "height": 194,
         "weight": 93,
         "_deepnote_index_column": 96
        },
        {
         "age": 57,
         "height": 194,
         "weight": 93,
         "_deepnote_index_column": 97
        },
        {
         "age": 22,
         "height": 177,
         "weight": 74,
         "_deepnote_index_column": 98
        },
        {
         "age": 22,
         "height": 177,
         "weight": 74,
         "_deepnote_index_column": 99
        },
        {
         "age": 26,
         "height": 177,
         "weight": 74,
         "_deepnote_index_column": 100
        },
        {
         "age": 30,
         "height": 177,
         "weight": 74,
         "_deepnote_index_column": 101
        },
        {
         "age": 22,
         "height": 185,
         "weight": 106,
         "_deepnote_index_column": 104
        },
        {
         "age": 26,
         "height": 185,
         "weight": 106,
         "_deepnote_index_column": 105
        },
        {
         "age": 23,
         "height": 167,
         "weight": 64,
         "_deepnote_index_column": 106
        },
        {
         "age": 23,
         "height": 167,
         "weight": 64,
         "_deepnote_index_column": 107
        },
        {
         "age": 23,
         "height": 167,
         "weight": 64,
         "_deepnote_index_column": 108
        },
        {
         "age": 23,
         "height": 167,
         "weight": 64,
         "_deepnote_index_column": 109
        },
        {
         "age": 23,
         "height": 167,
         "weight": 64,
         "_deepnote_index_column": 110
        },
        {
         "age": 23,
         "height": 167,
         "weight": 64,
         "_deepnote_index_column": 111
        },
        {
         "age": 22,
         "height": 189,
         "weight": 80,
         "_deepnote_index_column": 112
        },
        {
         "age": 24,
         "height": 172,
         "weight": 58,
         "_deepnote_index_column": 113
        },
        {
         "age": 26,
         "height": 170,
         "weight": 65,
         "_deepnote_index_column": 114
        },
        {
         "age": 24,
         "height": 176,
         "weight": 66,
         "_deepnote_index_column": 115
        },
        {
         "age": 24,
         "height": 164,
         "weight": 71,
         "_deepnote_index_column": 116
        },
        {
         "age": 28,
         "height": 164,
         "weight": 71,
         "_deepnote_index_column": 117
        },
        {
         "age": 24,
         "height": 172,
         "weight": 75,
         "_deepnote_index_column": 118
        },
        {
         "age": 26,
         "height": 175,
         "weight": 72,
         "_deepnote_index_column": 119
        },
        {
         "age": 21,
         "height": 198,
         "weight": 90,
         "_deepnote_index_column": 120
        },
        {
         "age": 30,
         "height": 194,
         "weight": 87,
         "_deepnote_index_column": 121
        },
        {
         "age": 23,
         "height": 178,
         "weight": 76,
         "_deepnote_index_column": 125
        },
        {
         "age": 23,
         "height": 178,
         "weight": 76,
         "_deepnote_index_column": 126
        },
        {
         "age": 26,
         "height": 167,
         "weight": 65,
         "_deepnote_index_column": 128
        },
        {
         "age": 27,
         "height": 172,
         "weight": 82,
         "_deepnote_index_column": 129
        },
        {
         "age": 27,
         "height": 172,
         "weight": 82,
         "_deepnote_index_column": 130
        },
        {
         "age": 24,
         "height": 180,
         "weight": 83,
         "_deepnote_index_column": 131
        },
        {
         "age": 28,
         "height": 180,
         "weight": 83,
         "_deepnote_index_column": 132
        },
        {
         "age": 23,
         "height": 182,
         "weight": 86,
         "_deepnote_index_column": 133
        },
        {
         "age": 27,
         "height": 182,
         "weight": 86,
         "_deepnote_index_column": 134
        },
        {
         "age": 31,
         "height": 182,
         "weight": 86,
         "_deepnote_index_column": 135
        },
        {
         "age": 22,
         "height": 178,
         "weight": 70,
         "_deepnote_index_column": 137
        },
        {
         "age": 22,
         "height": 185,
         "weight": 82,
         "_deepnote_index_column": 138
        },
        {
         "age": 27,
         "height": 166,
         "weight": 75,
         "_deepnote_index_column": 139
        },
        {
         "age": 22,
         "height": 186,
         "weight": 83,
         "_deepnote_index_column": 140
        },
        {
         "age": 22,
         "height": 190,
         "weight": 77,
         "_deepnote_index_column": 141
        },
        {
         "age": 26,
         "height": 183,
         "weight": 75,
         "_deepnote_index_column": 142
        },
        {
         "age": 26,
         "height": 165,
         "weight": 55,
         "_deepnote_index_column": 143
        },
        {
         "age": 24,
         "height": 181,
         "weight": 82,
         "_deepnote_index_column": 144
        },
        {
         "age": 28,
         "height": 181,
         "weight": 82,
         "_deepnote_index_column": 145
        },
        {
         "age": 32,
         "height": 181,
         "weight": 82,
         "_deepnote_index_column": 146
        },
        {
         "age": 22,
         "height": 182,
         "weight": 67,
         "_deepnote_index_column": 147
        },
        {
         "age": 26,
         "height": 182,
         "weight": 67,
         "_deepnote_index_column": 148
        },
        {
         "age": 29,
         "height": 188,
         "weight": 97,
         "_deepnote_index_column": 149
        },
        {
         "age": 27,
         "height": 190,
         "weight": 80,
         "_deepnote_index_column": 153
        },
        {
         "age": 21,
         "height": 180,
         "weight": 73,
         "_deepnote_index_column": 154
        },
        {
         "age": 34,
         "height": 190,
         "weight": 85,
         "_deepnote_index_column": 155
        },
        {
         "age": 38,
         "height": 190,
         "weight": 85,
         "_deepnote_index_column": 156
        },
        {
         "age": 18,
         "height": 168,
         "weight": 60,
         "_deepnote_index_column": 158
        },
        {
         "age": 16,
         "height": 180,
         "weight": 70,
         "_deepnote_index_column": 159
        },
        {
         "age": 30,
         "height": 169,
         "weight": 75,
         "_deepnote_index_column": 160
        },
        {
         "age": 30,
         "height": 169,
         "weight": 75,
         "_deepnote_index_column": 161
        },
        {
         "age": 30,
         "height": 169,
         "weight": 75,
         "_deepnote_index_column": 162
        },
        {
         "age": 30,
         "height": 181,
         "weight": 79,
         "_deepnote_index_column": 163
        },
        {
         "age": 25,
         "height": 170,
         "weight": 51,
         "_deepnote_index_column": 164
        },
        {
         "age": 19,
         "height": 175,
         "weight": 75,
         "_deepnote_index_column": 165
        },
        {
         "age": 23,
         "height": 175,
         "weight": 75,
         "_deepnote_index_column": 166
        },
        {
         "age": 22,
         "height": 188,
         "weight": 96,
         "_deepnote_index_column": 167
        },
        {
         "age": 29,
         "height": 188,
         "weight": 96,
         "_deepnote_index_column": 168
        },
        {
         "age": 34,
         "height": 188,
         "weight": 96,
         "_deepnote_index_column": 169
        },
        {
         "age": 22,
         "height": 182,
         "weight": 90,
         "_deepnote_index_column": 170
        },
        {
         "age": 26,
         "height": 182,
         "weight": 90,
         "_deepnote_index_column": 171
        },
        {
         "age": 30,
         "height": 182,
         "weight": 90,
         "_deepnote_index_column": 172
        },
        {
         "age": 34,
         "height": 182,
         "weight": 90,
         "_deepnote_index_column": 173
        },
        {
         "age": 20,
         "height": 187,
         "weight": 97,
         "_deepnote_index_column": 174
        },
        {
         "age": 25,
         "height": 187,
         "weight": 97,
         "_deepnote_index_column": 175
        },
        {
         "age": 29,
         "height": 187,
         "weight": 97,
         "_deepnote_index_column": 176
        },
        {
         "age": 33,
         "height": 187,
         "weight": 97,
         "_deepnote_index_column": 177
        },
        {
         "age": 23,
         "height": 176,
         "weight": 64,
         "_deepnote_index_column": 178
        },
        {
         "age": 23,
         "height": 176,
         "weight": 64,
         "_deepnote_index_column": 179
        },
        {
         "age": 27,
         "height": 176,
         "weight": 64,
         "_deepnote_index_column": 180
        },
        {
         "age": 20,
         "height": 175,
         "weight": 66,
         "_deepnote_index_column": 181
        },
        {
         "age": 22,
         "height": 190,
         "weight": 88,
         "_deepnote_index_column": 182
        },
        {
         "age": 21,
         "height": 169,
         "weight": 67,
         "_deepnote_index_column": 183
        },
        {
         "age": 22,
         "height": 175,
         "weight": 80,
         "_deepnote_index_column": 184
        },
        {
         "age": 20,
         "height": 160,
         "weight": 65,
         "_deepnote_index_column": 185
        },
        {
         "age": 24,
         "height": 181,
         "weight": 74,
         "_deepnote_index_column": 186
        },
        {
         "age": 22,
         "height": 178,
         "weight": 78,
         "_deepnote_index_column": 187
        },
        {
         "age": 22,
         "height": 178,
         "weight": 78,
         "_deepnote_index_column": 188
        }
       ],
       "rows_bottom": [
        {
         "age": 26,
         "height": 173,
         "weight": 66,
         "_deepnote_index_column": 205899
        },
        {
         "age": 26,
         "height": 173,
         "weight": 66,
         "_deepnote_index_column": 205900
        },
        {
         "age": 23,
         "height": 194,
         "weight": 98,
         "_deepnote_index_column": 205903
        },
        {
         "age": 31,
         "height": 175,
         "weight": 69,
         "_deepnote_index_column": 205904
        },
        {
         "age": 22,
         "height": 172,
         "weight": 64,
         "_deepnote_index_column": 205905
        },
        {
         "age": 22,
         "height": 172,
         "weight": 64,
         "_deepnote_index_column": 205906
        },
        {
         "age": 22,
         "height": 172,
         "weight": 64,
         "_deepnote_index_column": 205907
        },
        {
         "age": 25,
         "height": 193,
         "weight": 134,
         "_deepnote_index_column": 205910
        },
        {
         "age": 24,
         "height": 163,
         "weight": 66,
         "_deepnote_index_column": 205911
        },
        {
         "age": 28,
         "height": 165,
         "weight": 62,
         "_deepnote_index_column": 205912
        },
        {
         "age": 25,
         "height": 167,
         "weight": 60,
         "_deepnote_index_column": 205913
        },
        {
         "age": 20,
         "height": 172,
         "weight": 69,
         "_deepnote_index_column": 205917
        },
        {
         "age": 27,
         "height": 179,
         "weight": 70,
         "_deepnote_index_column": 205918
        },
        {
         "age": 27,
         "height": 179,
         "weight": 70,
         "_deepnote_index_column": 205919
        },
        {
         "age": 28,
         "height": 177,
         "weight": 69,
         "_deepnote_index_column": 205920
        },
        {
         "age": 21,
         "height": 173,
         "weight": 57,
         "_deepnote_index_column": 205921
        },
        {
         "age": 22,
         "height": 168,
         "weight": 60,
         "_deepnote_index_column": 205922
        },
        {
         "age": 26,
         "height": 168,
         "weight": 60,
         "_deepnote_index_column": 205923
        },
        {
         "age": 26,
         "height": 168,
         "weight": 60,
         "_deepnote_index_column": 205924
        },
        {
         "age": 26,
         "height": 168,
         "weight": 60,
         "_deepnote_index_column": 205925
        },
        {
         "age": 24,
         "height": 177,
         "weight": 70,
         "_deepnote_index_column": 205926
        },
        {
         "age": 28,
         "height": 177,
         "weight": 70,
         "_deepnote_index_column": 205927
        },
        {
         "age": 21,
         "height": 192,
         "weight": 88,
         "_deepnote_index_column": 205928
        },
        {
         "age": 19,
         "height": 179,
         "weight": 60,
         "_deepnote_index_column": 205929
        },
        {
         "age": 19,
         "height": 179,
         "weight": 60,
         "_deepnote_index_column": 205930
        },
        {
         "age": 19,
         "height": 179,
         "weight": 60,
         "_deepnote_index_column": 205931
        },
        {
         "age": 23,
         "height": 179,
         "weight": 60,
         "_deepnote_index_column": 205932
        },
        {
         "age": 23,
         "height": 179,
         "weight": 60,
         "_deepnote_index_column": 205933
        },
        {
         "age": 23,
         "height": 179,
         "weight": 60,
         "_deepnote_index_column": 205934
        },
        {
         "age": 25,
         "height": 179,
         "weight": 60,
         "_deepnote_index_column": 205935
        },
        {
         "age": 25,
         "height": 179,
         "weight": 60,
         "_deepnote_index_column": 205936
        },
        {
         "age": 21,
         "height": 179,
         "weight": 84,
         "_deepnote_index_column": 205940
        },
        {
         "age": 22,
         "height": 184,
         "weight": 90,
         "_deepnote_index_column": 205941
        },
        {
         "age": 24,
         "height": 186,
         "weight": 87,
         "_deepnote_index_column": 205944
        },
        {
         "age": 28,
         "height": 186,
         "weight": 87,
         "_deepnote_index_column": 205945
        },
        {
         "age": 23,
         "height": 175,
         "weight": 77,
         "_deepnote_index_column": 205946
        },
        {
         "age": 23,
         "height": 175,
         "weight": 77,
         "_deepnote_index_column": 205947
        },
        {
         "age": 27,
         "height": 175,
         "weight": 77,
         "_deepnote_index_column": 205948
        },
        {
         "age": 27,
         "height": 175,
         "weight": 77,
         "_deepnote_index_column": 205949
        },
        {
         "age": 31,
         "height": 175,
         "weight": 77,
         "_deepnote_index_column": 205950
        },
        {
         "age": 31,
         "height": 175,
         "weight": 77,
         "_deepnote_index_column": 205951
        },
        {
         "age": 19,
         "height": 172,
         "weight": 64,
         "_deepnote_index_column": 205952
        },
        {
         "age": 23,
         "height": 176,
         "weight": 75,
         "_deepnote_index_column": 205953
        },
        {
         "age": 28,
         "height": 164,
         "weight": 66,
         "_deepnote_index_column": 205954
        },
        {
         "age": 21,
         "height": 183,
         "weight": 83,
         "_deepnote_index_column": 205971
        },
        {
         "age": 21,
         "height": 183,
         "weight": 83,
         "_deepnote_index_column": 205972
        },
        {
         "age": 21,
         "height": 183,
         "weight": 83,
         "_deepnote_index_column": 205973
        },
        {
         "age": 25,
         "height": 183,
         "weight": 83,
         "_deepnote_index_column": 205974
        },
        {
         "age": 25,
         "height": 183,
         "weight": 83,
         "_deepnote_index_column": 205975
        },
        {
         "age": 25,
         "height": 183,
         "weight": 83,
         "_deepnote_index_column": 205976
        },
        {
         "age": 25,
         "height": 183,
         "weight": 83,
         "_deepnote_index_column": 205977
        },
        {
         "age": 25,
         "height": 183,
         "weight": 83,
         "_deepnote_index_column": 205978
        },
        {
         "age": 24,
         "height": 185,
         "weight": 94,
         "_deepnote_index_column": 205979
        },
        {
         "age": 24,
         "height": 185,
         "weight": 94,
         "_deepnote_index_column": 205980
        },
        {
         "age": 28,
         "height": 185,
         "weight": 94,
         "_deepnote_index_column": 205981
        },
        {
         "age": 28,
         "height": 185,
         "weight": 94,
         "_deepnote_index_column": 205982
        },
        {
         "age": 27,
         "height": 177,
         "weight": 76,
         "_deepnote_index_column": 205983
        },
        {
         "age": 22,
         "height": 162,
         "weight": 52,
         "_deepnote_index_column": 205986
        },
        {
         "age": 26,
         "height": 162,
         "weight": 52,
         "_deepnote_index_column": 205987
        },
        {
         "age": 24,
         "height": 162,
         "weight": 54,
         "_deepnote_index_column": 205988
        },
        {
         "age": 22,
         "height": 192,
         "weight": 96,
         "_deepnote_index_column": 205991
        },
        {
         "age": 27,
         "height": 184,
         "weight": 93,
         "_deepnote_index_column": 205994
        },
        {
         "age": 29,
         "height": 180,
         "weight": 83,
         "_deepnote_index_column": 205995
        },
        {
         "age": 29,
         "height": 180,
         "weight": 83,
         "_deepnote_index_column": 205996
        },
        {
         "age": 37,
         "height": 180,
         "weight": 83,
         "_deepnote_index_column": 205997
        },
        {
         "age": 21,
         "height": 189,
         "weight": 90,
         "_deepnote_index_column": 205998
        },
        {
         "age": 21,
         "height": 189,
         "weight": 90,
         "_deepnote_index_column": 205999
        },
        {
         "age": 21,
         "height": 189,
         "weight": 90,
         "_deepnote_index_column": 206000
        },
        {
         "age": 21,
         "height": 189,
         "weight": 90,
         "_deepnote_index_column": 206001
        },
        {
         "age": 21,
         "height": 189,
         "weight": 90,
         "_deepnote_index_column": 206002
        },
        {
         "age": 25,
         "height": 189,
         "weight": 90,
         "_deepnote_index_column": 206003
        },
        {
         "age": 25,
         "height": 189,
         "weight": 90,
         "_deepnote_index_column": 206004
        },
        {
         "age": 25,
         "height": 189,
         "weight": 90,
         "_deepnote_index_column": 206005
        },
        {
         "age": 21,
         "height": 188,
         "weight": 91,
         "_deepnote_index_column": 206006
        },
        {
         "age": 25,
         "height": 188,
         "weight": 91,
         "_deepnote_index_column": 206007
        },
        {
         "age": 22,
         "height": 186,
         "weight": 93,
         "_deepnote_index_column": 206018
        },
        {
         "age": 26,
         "height": 186,
         "weight": 93,
         "_deepnote_index_column": 206019
        },
        {
         "age": 27,
         "height": 165,
         "weight": 73,
         "_deepnote_index_column": 206026
        },
        {
         "age": 21,
         "height": 172,
         "weight": 78,
         "_deepnote_index_column": 206027
        },
        {
         "age": 21,
         "height": 172,
         "weight": 78,
         "_deepnote_index_column": 206028
        },
        {
         "age": 23,
         "height": 190,
         "weight": 80,
         "_deepnote_index_column": 206030
        },
        {
         "age": 17,
         "height": 185,
         "weight": 87,
         "_deepnote_index_column": 206031
        },
        {
         "age": 17,
         "height": 185,
         "weight": 87,
         "_deepnote_index_column": 206032
        },
        {
         "age": 21,
         "height": 185,
         "weight": 87,
         "_deepnote_index_column": 206033
        },
        {
         "age": 21,
         "height": 185,
         "weight": 87,
         "_deepnote_index_column": 206034
        },
        {
         "age": 23,
         "height": 182,
         "weight": 90,
         "_deepnote_index_column": 206048
        },
        {
         "age": 25,
         "height": 178,
         "weight": 79,
         "_deepnote_index_column": 206049
        },
        {
         "age": 24,
         "height": 177,
         "weight": 84,
         "_deepnote_index_column": 206050
        },
        {
         "age": 23,
         "height": 185,
         "weight": 90,
         "_deepnote_index_column": 206051
        },
        {
         "age": 26,
         "height": 187,
         "weight": 84,
         "_deepnote_index_column": 206055
        },
        {
         "age": 26,
         "height": 187,
         "weight": 84,
         "_deepnote_index_column": 206056
        },
        {
         "age": 24,
         "height": 186,
         "weight": 73,
         "_deepnote_index_column": 206057
        },
        {
         "age": 24,
         "height": 186,
         "weight": 73,
         "_deepnote_index_column": 206058
        },
        {
         "age": 24,
         "height": 186,
         "weight": 73,
         "_deepnote_index_column": 206059
        },
        {
         "age": 24,
         "height": 186,
         "weight": 73,
         "_deepnote_index_column": 206060
        },
        {
         "age": 21,
         "height": 170,
         "weight": 77,
         "_deepnote_index_column": 206063
        },
        {
         "age": 21,
         "height": 186,
         "weight": 84,
         "_deepnote_index_column": 206064
        },
        {
         "age": 27,
         "height": 183,
         "weight": 80,
         "_deepnote_index_column": 206065
        },
        {
         "age": 19,
         "height": 189,
         "weight": 80,
         "_deepnote_index_column": 206068
        },
        {
         "age": 19,
         "height": 189,
         "weight": 80,
         "_deepnote_index_column": 206069
        },
        {
         "age": 23,
         "height": 189,
         "weight": 80,
         "_deepnote_index_column": 206070
        },
        {
         "age": 21,
         "height": 200,
         "weight": 93,
         "_deepnote_index_column": 206071
        },
        {
         "age": 25,
         "height": 200,
         "weight": 93,
         "_deepnote_index_column": 206072
        },
        {
         "age": 29,
         "height": 200,
         "weight": 93,
         "_deepnote_index_column": 206073
        },
        {
         "age": 31,
         "height": 181,
         "weight": 70,
         "_deepnote_index_column": 206074
        },
        {
         "age": 35,
         "height": 181,
         "weight": 70,
         "_deepnote_index_column": 206075
        },
        {
         "age": 29,
         "height": 175,
         "weight": 64,
         "_deepnote_index_column": 206076
        },
        {
         "age": 27,
         "height": 178,
         "weight": 71,
         "_deepnote_index_column": 206077
        },
        {
         "age": 26,
         "height": 175,
         "weight": 70,
         "_deepnote_index_column": 206078
        },
        {
         "age": 24,
         "height": 181,
         "weight": 75,
         "_deepnote_index_column": 206079
        },
        {
         "age": 28,
         "height": 181,
         "weight": 75,
         "_deepnote_index_column": 206080
        },
        {
         "age": 32,
         "height": 181,
         "weight": 75,
         "_deepnote_index_column": 206081
        },
        {
         "age": 27,
         "height": 170,
         "weight": 63,
         "_deepnote_index_column": 206082
        },
        {
         "age": 23,
         "height": 202,
         "weight": 98,
         "_deepnote_index_column": 206083
        },
        {
         "age": 26,
         "height": 176,
         "weight": 75,
         "_deepnote_index_column": 206085
        },
        {
         "age": 25,
         "height": 175,
         "weight": 72,
         "_deepnote_index_column": 206089
        },
        {
         "age": 22,
         "height": 183,
         "weight": 84,
         "_deepnote_index_column": 206090
        },
        {
         "age": 26,
         "height": 183,
         "weight": 84,
         "_deepnote_index_column": 206091
        },
        {
         "age": 22,
         "height": 174,
         "weight": 68,
         "_deepnote_index_column": 206092
        },
        {
         "age": 22,
         "height": 174,
         "weight": 68,
         "_deepnote_index_column": 206093
        },
        {
         "age": 24,
         "height": 182,
         "weight": 80,
         "_deepnote_index_column": 206094
        },
        {
         "age": 25,
         "height": 175,
         "weight": 64,
         "_deepnote_index_column": 206095
        },
        {
         "age": 21,
         "height": 175,
         "weight": 70,
         "_deepnote_index_column": 206096
        },
        {
         "age": 21,
         "height": 175,
         "weight": 70,
         "_deepnote_index_column": 206097
        },
        {
         "age": 23,
         "height": 197,
         "weight": 93,
         "_deepnote_index_column": 206098
        },
        {
         "age": 27,
         "height": 197,
         "weight": 93,
         "_deepnote_index_column": 206099
        },
        {
         "age": 31,
         "height": 197,
         "weight": 93,
         "_deepnote_index_column": 206100
        },
        {
         "age": 25,
         "height": 174,
         "weight": 62,
         "_deepnote_index_column": 206107
        },
        {
         "age": 23,
         "height": 178,
         "weight": 75,
         "_deepnote_index_column": 206117
        },
        {
         "age": 23,
         "height": 178,
         "weight": 75,
         "_deepnote_index_column": 206118
        },
        {
         "age": 23,
         "height": 178,
         "weight": 75,
         "_deepnote_index_column": 206119
        },
        {
         "age": 23,
         "height": 178,
         "weight": 75,
         "_deepnote_index_column": 206120
        },
        {
         "age": 27,
         "height": 178,
         "weight": 75,
         "_deepnote_index_column": 206121
        },
        {
         "age": 27,
         "height": 178,
         "weight": 75,
         "_deepnote_index_column": 206122
        },
        {
         "age": 27,
         "height": 178,
         "weight": 75,
         "_deepnote_index_column": 206123
        },
        {
         "age": 27,
         "height": 178,
         "weight": 75,
         "_deepnote_index_column": 206124
        },
        {
         "age": 27,
         "height": 178,
         "weight": 75,
         "_deepnote_index_column": 206125
        },
        {
         "age": 28,
         "height": 182,
         "weight": 82,
         "_deepnote_index_column": 206131
        },
        {
         "age": 28,
         "height": 182,
         "weight": 82,
         "_deepnote_index_column": 206132
        },
        {
         "age": 36,
         "height": 182,
         "weight": 82,
         "_deepnote_index_column": 206133
        },
        {
         "age": 36,
         "height": 182,
         "weight": 82,
         "_deepnote_index_column": 206134
        },
        {
         "age": 36,
         "height": 182,
         "weight": 82,
         "_deepnote_index_column": 206135
        },
        {
         "age": 23,
         "height": 177,
         "weight": 68,
         "_deepnote_index_column": 206136
        },
        {
         "age": 19,
         "height": 189,
         "weight": 80,
         "_deepnote_index_column": 206137
        },
        {
         "age": 19,
         "height": 189,
         "weight": 80,
         "_deepnote_index_column": 206138
        },
        {
         "age": 34,
         "height": 192,
         "weight": 95,
         "_deepnote_index_column": 206139
        },
        {
         "age": 38,
         "height": 192,
         "weight": 95,
         "_deepnote_index_column": 206140
        },
        {
         "age": 32,
         "height": 200,
         "weight": 89,
         "_deepnote_index_column": 206141
        },
        {
         "age": 21,
         "height": 182,
         "weight": 79,
         "_deepnote_index_column": 206142
        },
        {
         "age": 21,
         "height": 182,
         "weight": 79,
         "_deepnote_index_column": 206143
        },
        {
         "age": 25,
         "height": 182,
         "weight": 79,
         "_deepnote_index_column": 206144
        },
        {
         "age": 25,
         "height": 182,
         "weight": 79,
         "_deepnote_index_column": 206145
        },
        {
         "age": 29,
         "height": 182,
         "weight": 79,
         "_deepnote_index_column": 206146
        },
        {
         "age": 29,
         "height": 182,
         "weight": 79,
         "_deepnote_index_column": 206147
        },
        {
         "age": 33,
         "height": 182,
         "weight": 79,
         "_deepnote_index_column": 206148
        },
        {
         "age": 24,
         "height": 173,
         "weight": 68,
         "_deepnote_index_column": 206150
        },
        {
         "age": 22,
         "height": 172,
         "weight": 65,
         "_deepnote_index_column": 206153
        },
        {
         "age": 23,
         "height": 168,
         "weight": 76,
         "_deepnote_index_column": 206154
        },
        {
         "age": 27,
         "height": 168,
         "weight": 76,
         "_deepnote_index_column": 206155
        },
        {
         "age": 21,
         "height": 175,
         "weight": 75,
         "_deepnote_index_column": 206156
        },
        {
         "age": 24,
         "height": 183,
         "weight": 72,
         "_deepnote_index_column": 206157
        },
        {
         "age": 28,
         "height": 183,
         "weight": 72,
         "_deepnote_index_column": 206158
        },
        {
         "age": 29,
         "height": 179,
         "weight": 89,
         "_deepnote_index_column": 206160
        },
        {
         "age": 27,
         "height": 176,
         "weight": 59,
         "_deepnote_index_column": 206161
        },
        {
         "age": 27,
         "height": 176,
         "weight": 59,
         "_deepnote_index_column": 206162
        },
        {
         "age": 30,
         "height": 185,
         "weight": 96,
         "_deepnote_index_column": 206163
        },
        {
         "age": 34,
         "height": 185,
         "weight": 96,
         "_deepnote_index_column": 206164
        }
       ]
      },
      "text/plain": "         age  height  weight\n0       24.0   180.0    80.0\n1       23.0   170.0    60.0\n8       31.0   188.0    75.0\n9       31.0   188.0    75.0\n10      31.0   188.0    75.0\n...      ...     ...     ...\n206160  29.0   179.0    89.0\n206161  27.0   176.0    59.0\n206162  27.0   176.0    59.0\n206163  30.0   185.0    96.0\n206164  34.0   185.0    96.0\n\n[139454 rows x 3 columns]",
      "text/html": "<div>\n<style scoped>\n    .dataframe tbody tr th:only-of-type {\n        vertical-align: middle;\n    }\n\n    .dataframe tbody tr th {\n        vertical-align: top;\n    }\n\n    .dataframe thead th {\n        text-align: right;\n    }\n</style>\n<table border=\"1\" class=\"dataframe\">\n  <thead>\n    <tr style=\"text-align: right;\">\n      <th></th>\n      <th>age</th>\n      <th>height</th>\n      <th>weight</th>\n    </tr>\n  </thead>\n  <tbody>\n    <tr>\n      <th>0</th>\n      <td>24.0</td>\n      <td>180.0</td>\n      <td>80.0</td>\n    </tr>\n    <tr>\n      <th>1</th>\n      <td>23.0</td>\n      <td>170.0</td>\n      <td>60.0</td>\n    </tr>\n    <tr>\n      <th>8</th>\n      <td>31.0</td>\n      <td>188.0</td>\n      <td>75.0</td>\n    </tr>\n    <tr>\n      <th>9</th>\n      <td>31.0</td>\n      <td>188.0</td>\n      <td>75.0</td>\n    </tr>\n    <tr>\n      <th>10</th>\n      <td>31.0</td>\n      <td>188.0</td>\n      <td>75.0</td>\n    </tr>\n    <tr>\n      <th>...</th>\n      <td>...</td>\n      <td>...</td>\n      <td>...</td>\n    </tr>\n    <tr>\n      <th>206160</th>\n      <td>29.0</td>\n      <td>179.0</td>\n      <td>89.0</td>\n    </tr>\n    <tr>\n      <th>206161</th>\n      <td>27.0</td>\n      <td>176.0</td>\n      <td>59.0</td>\n    </tr>\n    <tr>\n      <th>206162</th>\n      <td>27.0</td>\n      <td>176.0</td>\n      <td>59.0</td>\n    </tr>\n    <tr>\n      <th>206163</th>\n      <td>30.0</td>\n      <td>185.0</td>\n      <td>96.0</td>\n    </tr>\n    <tr>\n      <th>206164</th>\n      <td>34.0</td>\n      <td>185.0</td>\n      <td>96.0</td>\n    </tr>\n  </tbody>\n</table>\n<p>139454 rows × 3 columns</p>\n</div>"
     },
     "metadata": {}
    }
   ],
   "execution_count": null
  },
  {
   "cell_type": "code",
   "source": "female = por_atleta[merged['sex']=='F']\nfemale",
   "metadata": {
    "tags": [],
    "cell_id": "00007-8a46eb5a-5852-449c-89f9-dbd7e77a4ac5",
    "deepnote_to_be_reexecuted": false,
    "source_hash": "b01c3007",
    "execution_start": 1630554587171,
    "execution_millis": 51,
    "deepnote_cell_type": "code"
   },
   "outputs": [
    {
     "output_type": "execute_result",
     "execution_count": 16,
     "data": {
      "application/vnd.deepnote.dataframe.v2+json": {
       "row_count": 66711,
       "column_count": 3,
       "columns": [
        {
         "name": "age",
         "dtype": "float64",
         "stats": {
          "unique_count": 55,
          "nan_count": 0,
          "min": "11.0",
          "max": "69.0",
          "histogram": [
           {
            "bin_start": 11,
            "bin_end": 16.8,
            "count": 5096
           },
           {
            "bin_start": 16.8,
            "bin_end": 22.6,
            "count": 24422
           },
           {
            "bin_start": 22.6,
            "bin_end": 28.4,
            "count": 25223
           },
           {
            "bin_start": 28.4,
            "bin_end": 34.2,
            "count": 9563
           },
           {
            "bin_start": 34.2,
            "bin_end": 40,
            "count": 1671
           },
           {
            "bin_start": 40,
            "bin_end": 45.8,
            "count": 503
           },
           {
            "bin_start": 45.8,
            "bin_end": 51.6,
            "count": 168
           },
           {
            "bin_start": 51.6,
            "bin_end": 57.4,
            "count": 49
           },
           {
            "bin_start": 57.4,
            "bin_end": 63.199999999999996,
            "count": 11
           },
           {
            "bin_start": 63.199999999999996,
            "bin_end": 69,
            "count": 5
           }
          ]
         }
        },
        {
         "name": "height",
         "dtype": "float64"
        },
        {
         "name": "weight",
         "dtype": "float64"
        },
        {
         "name": "_deepnote_index_column",
         "dtype": "int64"
        }
       ],
       "rows_top": [
        {
         "age": 21,
         "height": 185,
         "weight": 82,
         "_deepnote_index_column": 2
        },
        {
         "age": 21,
         "height": 185,
         "weight": 82,
         "_deepnote_index_column": 3
        },
        {
         "age": 25,
         "height": 185,
         "weight": 82,
         "_deepnote_index_column": 4
        },
        {
         "age": 25,
         "height": 185,
         "weight": 82,
         "_deepnote_index_column": 5
        },
        {
         "age": 27,
         "height": 185,
         "weight": 82,
         "_deepnote_index_column": 6
        },
        {
         "age": 27,
         "height": 185,
         "weight": 82,
         "_deepnote_index_column": 7
        },
        {
         "age": 30,
         "height": 159,
         "weight": 55.5,
         "_deepnote_index_column": 27
        },
        {
         "age": 34,
         "height": 159,
         "weight": 55.5,
         "_deepnote_index_column": 28
        },
        {
         "age": 32,
         "height": 171,
         "weight": 65,
         "_deepnote_index_column": 29
        },
        {
         "age": 22,
         "height": 170,
         "weight": 125,
         "_deepnote_index_column": 68
        },
        {
         "age": 17,
         "height": 169,
         "weight": 65,
         "_deepnote_index_column": 71
        },
        {
         "age": 23,
         "height": 182,
         "weight": 64,
         "_deepnote_index_column": 86
        },
        {
         "age": 24,
         "height": 168,
         "weight": 65,
         "_deepnote_index_column": 102
        },
        {
         "age": 28,
         "height": 168,
         "weight": 65,
         "_deepnote_index_column": 103
        },
        {
         "age": 21,
         "height": 165,
         "weight": 49,
         "_deepnote_index_column": 122
        },
        {
         "age": 22,
         "height": 179,
         "weight": 80,
         "_deepnote_index_column": 123
        },
        {
         "age": 26,
         "height": 179,
         "weight": 80,
         "_deepnote_index_column": 124
        },
        {
         "age": 19,
         "height": 185,
         "weight": 72,
         "_deepnote_index_column": 127
        },
        {
         "age": 30,
         "height": 182,
         "weight": 73,
         "_deepnote_index_column": 136
        },
        {
         "age": 25,
         "height": 168,
         "weight": 105,
         "_deepnote_index_column": 150
        },
        {
         "age": 21,
         "height": 163,
         "weight": 60,
         "_deepnote_index_column": 151
        },
        {
         "age": 21,
         "height": 163,
         "weight": 60,
         "_deepnote_index_column": 152
        },
        {
         "age": 35,
         "height": 155,
         "weight": 43,
         "_deepnote_index_column": 157
        },
        {
         "age": 20,
         "height": 164,
         "weight": 58,
         "_deepnote_index_column": 197
        },
        {
         "age": 28,
         "height": 173,
         "weight": 60,
         "_deepnote_index_column": 201
        },
        {
         "age": 33,
         "height": 159,
         "weight": 53,
         "_deepnote_index_column": 204
        },
        {
         "age": 28,
         "height": 171,
         "weight": 64,
         "_deepnote_index_column": 205
        },
        {
         "age": 23,
         "height": 178,
         "weight": 72,
         "_deepnote_index_column": 207
        },
        {
         "age": 30,
         "height": 167,
         "weight": 58,
         "_deepnote_index_column": 214
        },
        {
         "age": 30,
         "height": 167,
         "weight": 58,
         "_deepnote_index_column": 215
        },
        {
         "age": 41,
         "height": 160,
         "weight": 57,
         "_deepnote_index_column": 223
        },
        {
         "age": 21,
         "height": 164,
         "weight": 63,
         "_deepnote_index_column": 224
        },
        {
         "age": 30,
         "height": 163,
         "weight": 52,
         "_deepnote_index_column": 225
        },
        {
         "age": 23,
         "height": 191,
         "weight": 88,
         "_deepnote_index_column": 227
        },
        {
         "age": 40,
         "height": 165,
         "weight": 57,
         "_deepnote_index_column": 228
        },
        {
         "age": 15,
         "height": 167,
         "weight": 60,
         "_deepnote_index_column": 235
        },
        {
         "age": 15,
         "height": 167,
         "weight": 60,
         "_deepnote_index_column": 236
        },
        {
         "age": 19,
         "height": 167,
         "weight": 60,
         "_deepnote_index_column": 237
        },
        {
         "age": 20,
         "height": 175,
         "weight": 56,
         "_deepnote_index_column": 240
        },
        {
         "age": 19,
         "height": 158,
         "weight": 49,
         "_deepnote_index_column": 244
        },
        {
         "age": 18,
         "height": 172,
         "weight": 61,
         "_deepnote_index_column": 245
        },
        {
         "age": 18,
         "height": 154,
         "weight": 48,
         "_deepnote_index_column": 251
        },
        {
         "age": 22,
         "height": 154,
         "weight": 48,
         "_deepnote_index_column": 252
        },
        {
         "age": 18,
         "height": 153,
         "weight": 46,
         "_deepnote_index_column": 253
        },
        {
         "age": 23,
         "height": 165,
         "weight": 57,
         "_deepnote_index_column": 278
        },
        {
         "age": 27,
         "height": 165,
         "weight": 57,
         "_deepnote_index_column": 279
        },
        {
         "age": 35,
         "height": 165,
         "weight": 57,
         "_deepnote_index_column": 280
        },
        {
         "age": 17,
         "height": 159,
         "weight": 51,
         "_deepnote_index_column": 286
        },
        {
         "age": 19,
         "height": 160,
         "weight": 46,
         "_deepnote_index_column": 293
        },
        {
         "age": 22,
         "height": 173,
         "weight": 60,
         "_deepnote_index_column": 306
        },
        {
         "age": 26,
         "height": 173,
         "weight": 60,
         "_deepnote_index_column": 307
        },
        {
         "age": 21,
         "height": 173,
         "weight": 59,
         "_deepnote_index_column": 325
        },
        {
         "age": 21,
         "height": 173,
         "weight": 59,
         "_deepnote_index_column": 326
        },
        {
         "age": 21,
         "height": 173,
         "weight": 59,
         "_deepnote_index_column": 327
        },
        {
         "age": 27,
         "height": 180,
         "weight": 67,
         "_deepnote_index_column": 337
        },
        {
         "age": 17,
         "height": 147,
         "weight": 50,
         "_deepnote_index_column": 340
        },
        {
         "age": 19,
         "height": 160,
         "weight": 53,
         "_deepnote_index_column": 345
        },
        {
         "age": 19,
         "height": 160,
         "weight": 53,
         "_deepnote_index_column": 346
        },
        {
         "age": 27,
         "height": 160,
         "weight": 53,
         "_deepnote_index_column": 347
        },
        {
         "age": 22,
         "height": 163,
         "weight": 56,
         "_deepnote_index_column": 366
        },
        {
         "age": 26,
         "height": 163,
         "weight": 56,
         "_deepnote_index_column": 367
        },
        {
         "age": 32,
         "height": 158,
         "weight": 58,
         "_deepnote_index_column": 369
        },
        {
         "age": 22,
         "height": 180,
         "weight": 59,
         "_deepnote_index_column": 376
        },
        {
         "age": 26,
         "height": 166,
         "weight": 61,
         "_deepnote_index_column": 377
        },
        {
         "age": 21,
         "height": 170,
         "weight": 47,
         "_deepnote_index_column": 401
        },
        {
         "age": 16,
         "height": 162,
         "weight": 72,
         "_deepnote_index_column": 403
        },
        {
         "age": 20,
         "height": 162,
         "weight": 72,
         "_deepnote_index_column": 404
        },
        {
         "age": 15,
         "height": 170,
         "weight": 59,
         "_deepnote_index_column": 407
        },
        {
         "age": 19,
         "height": 170,
         "weight": 59,
         "_deepnote_index_column": 408
        },
        {
         "age": 19,
         "height": 170,
         "weight": 59,
         "_deepnote_index_column": 409
        },
        {
         "age": 18,
         "height": 168,
         "weight": 60,
         "_deepnote_index_column": 455
        },
        {
         "age": 19,
         "height": 169,
         "weight": 48,
         "_deepnote_index_column": 467
        },
        {
         "age": 20,
         "height": 163,
         "weight": 52,
         "_deepnote_index_column": 469
        },
        {
         "age": 19,
         "height": 160,
         "weight": 48,
         "_deepnote_index_column": 473
        },
        {
         "age": 19,
         "height": 160,
         "weight": 48,
         "_deepnote_index_column": 474
        },
        {
         "age": 19,
         "height": 160,
         "weight": 48,
         "_deepnote_index_column": 475
        },
        {
         "age": 19,
         "height": 160,
         "weight": 48,
         "_deepnote_index_column": 476
        },
        {
         "age": 19,
         "height": 160,
         "weight": 48,
         "_deepnote_index_column": 477
        },
        {
         "age": 19,
         "height": 160,
         "weight": 48,
         "_deepnote_index_column": 478
        },
        {
         "age": 16,
         "height": 160,
         "weight": 62,
         "_deepnote_index_column": 479
        },
        {
         "age": 20,
         "height": 160,
         "weight": 62,
         "_deepnote_index_column": 480
        },
        {
         "age": 20,
         "height": 160,
         "weight": 62,
         "_deepnote_index_column": 481
        },
        {
         "age": 24,
         "height": 160,
         "weight": 62,
         "_deepnote_index_column": 482
        },
        {
         "age": 24,
         "height": 160,
         "weight": 62,
         "_deepnote_index_column": 483
        },
        {
         "age": 25,
         "height": 165,
         "weight": 55,
         "_deepnote_index_column": 484
        },
        {
         "age": 25,
         "height": 165,
         "weight": 55,
         "_deepnote_index_column": 485
        },
        {
         "age": 25,
         "height": 165,
         "weight": 55,
         "_deepnote_index_column": 486
        },
        {
         "age": 25,
         "height": 165,
         "weight": 55,
         "_deepnote_index_column": 487
        },
        {
         "age": 25,
         "height": 165,
         "weight": 55,
         "_deepnote_index_column": 488
        },
        {
         "age": 25,
         "height": 163,
         "weight": 46,
         "_deepnote_index_column": 489
        },
        {
         "age": 29,
         "height": 163,
         "weight": 46,
         "_deepnote_index_column": 490
        },
        {
         "age": 18,
         "height": 153,
         "weight": 48,
         "_deepnote_index_column": 493
        },
        {
         "age": 18,
         "height": 153,
         "weight": 48,
         "_deepnote_index_column": 494
        },
        {
         "age": 18,
         "height": 153,
         "weight": 48,
         "_deepnote_index_column": 495
        },
        {
         "age": 18,
         "height": 153,
         "weight": 48,
         "_deepnote_index_column": 496
        },
        {
         "age": 18,
         "height": 153,
         "weight": 48,
         "_deepnote_index_column": 497
        },
        {
         "age": 23,
         "height": 173,
         "weight": 61,
         "_deepnote_index_column": 500
        },
        {
         "age": 17,
         "height": 190,
         "weight": 73,
         "_deepnote_index_column": 509
        },
        {
         "age": 30,
         "height": 170,
         "weight": 60,
         "_deepnote_index_column": 510
        },
        {
         "age": 34,
         "height": 165,
         "weight": 75,
         "_deepnote_index_column": 513
        },
        {
         "age": 38,
         "height": 165,
         "weight": 75,
         "_deepnote_index_column": 514
        },
        {
         "age": 40,
         "height": 165,
         "weight": 75,
         "_deepnote_index_column": 515
        },
        {
         "age": 44,
         "height": 165,
         "weight": 75,
         "_deepnote_index_column": 516
        },
        {
         "age": 48,
         "height": 165,
         "weight": 75,
         "_deepnote_index_column": 517
        },
        {
         "age": 21,
         "height": 159,
         "weight": 40,
         "_deepnote_index_column": 520
        },
        {
         "age": 21,
         "height": 159,
         "weight": 40,
         "_deepnote_index_column": 521
        },
        {
         "age": 25,
         "height": 159,
         "weight": 40,
         "_deepnote_index_column": 522
        },
        {
         "age": 25,
         "height": 159,
         "weight": 40,
         "_deepnote_index_column": 523
        },
        {
         "age": 30,
         "height": 160,
         "weight": 53,
         "_deepnote_index_column": 524
        },
        {
         "age": 30,
         "height": 160,
         "weight": 53,
         "_deepnote_index_column": 525
        },
        {
         "age": 19,
         "height": 156,
         "weight": 46,
         "_deepnote_index_column": 536
        },
        {
         "age": 27,
         "height": 160,
         "weight": 78,
         "_deepnote_index_column": 538
        },
        {
         "age": 24,
         "height": 173,
         "weight": 53,
         "_deepnote_index_column": 540
        },
        {
         "age": 27,
         "height": 162,
         "weight": 56,
         "_deepnote_index_column": 541
        },
        {
         "age": 27,
         "height": 168,
         "weight": 60,
         "_deepnote_index_column": 544
        },
        {
         "age": 31,
         "height": 168,
         "weight": 60,
         "_deepnote_index_column": 545
        },
        {
         "age": 24,
         "height": 159,
         "weight": 54,
         "_deepnote_index_column": 546
        },
        {
         "age": 22,
         "height": 150,
         "weight": 43,
         "_deepnote_index_column": 550
        },
        {
         "age": 26,
         "height": 164,
         "weight": 58,
         "_deepnote_index_column": 551
        },
        {
         "age": 21,
         "height": 175,
         "weight": 75,
         "_deepnote_index_column": 553
        },
        {
         "age": 24,
         "height": 174,
         "weight": 62,
         "_deepnote_index_column": 568
        },
        {
         "age": 23,
         "height": 182,
         "weight": 78,
         "_deepnote_index_column": 569
        },
        {
         "age": 17,
         "height": 170,
         "weight": 53,
         "_deepnote_index_column": 571
        },
        {
         "age": 19,
         "height": 169,
         "weight": 60,
         "_deepnote_index_column": 578
        },
        {
         "age": 17,
         "height": 166,
         "weight": 60,
         "_deepnote_index_column": 579
        },
        {
         "age": 17,
         "height": 166,
         "weight": 60,
         "_deepnote_index_column": 580
        },
        {
         "age": 17,
         "height": 166,
         "weight": 60,
         "_deepnote_index_column": 581
        },
        {
         "age": 24,
         "height": 174,
         "weight": 68,
         "_deepnote_index_column": 619
        },
        {
         "age": 19,
         "height": 170,
         "weight": 62,
         "_deepnote_index_column": 629
        },
        {
         "age": 19,
         "height": 167,
         "weight": 53,
         "_deepnote_index_column": 631
        },
        {
         "age": 19,
         "height": 167,
         "weight": 53,
         "_deepnote_index_column": 632
        },
        {
         "age": 23,
         "height": 167,
         "weight": 53,
         "_deepnote_index_column": 633
        },
        {
         "age": 23,
         "height": 167,
         "weight": 53,
         "_deepnote_index_column": 634
        },
        {
         "age": 27,
         "height": 167,
         "weight": 53,
         "_deepnote_index_column": 635
        },
        {
         "age": 31,
         "height": 167,
         "weight": 53,
         "_deepnote_index_column": 636
        },
        {
         "age": 21,
         "height": 180,
         "weight": 70,
         "_deepnote_index_column": 637
        },
        {
         "age": 28,
         "height": 182,
         "weight": 95,
         "_deepnote_index_column": 673
        },
        {
         "age": 16,
         "height": 167,
         "weight": 43,
         "_deepnote_index_column": 686
        },
        {
         "age": 21,
         "height": 172,
         "weight": 63,
         "_deepnote_index_column": 697
        },
        {
         "age": 21,
         "height": 172,
         "weight": 63,
         "_deepnote_index_column": 698
        },
        {
         "age": 24,
         "height": 171,
         "weight": 60,
         "_deepnote_index_column": 699
        },
        {
         "age": 23,
         "height": 167,
         "weight": 65,
         "_deepnote_index_column": 700
        },
        {
         "age": 23,
         "height": 167,
         "weight": 65,
         "_deepnote_index_column": 701
        },
        {
         "age": 23,
         "height": 167,
         "weight": 65,
         "_deepnote_index_column": 702
        },
        {
         "age": 27,
         "height": 167,
         "weight": 65,
         "_deepnote_index_column": 703
        },
        {
         "age": 19,
         "height": 163,
         "weight": 53,
         "_deepnote_index_column": 708
        },
        {
         "age": 34,
         "height": 164,
         "weight": 52,
         "_deepnote_index_column": 748
        },
        {
         "age": 38,
         "height": 164,
         "weight": 52,
         "_deepnote_index_column": 749
        },
        {
         "age": 22,
         "height": 162,
         "weight": 50,
         "_deepnote_index_column": 750
        },
        {
         "age": 26,
         "height": 164,
         "weight": 51,
         "_deepnote_index_column": 753
        },
        {
         "age": 20,
         "height": 188,
         "weight": 77,
         "_deepnote_index_column": 754
        },
        {
         "age": 28,
         "height": 188,
         "weight": 77,
         "_deepnote_index_column": 755
        },
        {
         "age": 26,
         "height": 178,
         "weight": 61,
         "_deepnote_index_column": 764
        },
        {
         "age": 26,
         "height": 178,
         "weight": 61,
         "_deepnote_index_column": 765
        },
        {
         "age": 25,
         "height": 160,
         "weight": 57,
         "_deepnote_index_column": 767
        },
        {
         "age": 19,
         "height": 157,
         "weight": 52,
         "_deepnote_index_column": 779
        },
        {
         "age": 17,
         "height": 150,
         "weight": 64,
         "_deepnote_index_column": 782
        },
        {
         "age": 17,
         "height": 150,
         "weight": 64,
         "_deepnote_index_column": 783
        },
        {
         "age": 18,
         "height": 170,
         "weight": 58,
         "_deepnote_index_column": 788
        },
        {
         "age": 22,
         "height": 148,
         "weight": 46,
         "_deepnote_index_column": 789
        },
        {
         "age": 22,
         "height": 148,
         "weight": 46,
         "_deepnote_index_column": 790
        },
        {
         "age": 22,
         "height": 148,
         "weight": 46,
         "_deepnote_index_column": 791
        },
        {
         "age": 22,
         "height": 148,
         "weight": 46,
         "_deepnote_index_column": 792
        },
        {
         "age": 22,
         "height": 148,
         "weight": 46,
         "_deepnote_index_column": 793
        },
        {
         "age": 22,
         "height": 148,
         "weight": 46,
         "_deepnote_index_column": 794
        },
        {
         "age": 26,
         "height": 148,
         "weight": 46,
         "_deepnote_index_column": 795
        }
       ],
       "rows_bottom": [
        {
         "age": 17,
         "height": 174,
         "weight": 55,
         "_deepnote_index_column": 205688
        },
        {
         "age": 17,
         "height": 174,
         "weight": 55,
         "_deepnote_index_column": 205689
        },
        {
         "age": 17,
         "height": 174,
         "weight": 55,
         "_deepnote_index_column": 205690
        },
        {
         "age": 28,
         "height": 172,
         "weight": 68,
         "_deepnote_index_column": 205691
        },
        {
         "age": 23,
         "height": 170,
         "weight": 60,
         "_deepnote_index_column": 205704
        },
        {
         "age": 27,
         "height": 170,
         "weight": 60,
         "_deepnote_index_column": 205705
        },
        {
         "age": 31,
         "height": 170,
         "weight": 60,
         "_deepnote_index_column": 205706
        },
        {
         "age": 35,
         "height": 188,
         "weight": 71,
         "_deepnote_index_column": 205716
        },
        {
         "age": 33,
         "height": 176,
         "weight": 85,
         "_deepnote_index_column": 205717
        },
        {
         "age": 33,
         "height": 176,
         "weight": 85,
         "_deepnote_index_column": 205718
        },
        {
         "age": 37,
         "height": 176,
         "weight": 85,
         "_deepnote_index_column": 205719
        },
        {
         "age": 37,
         "height": 176,
         "weight": 85,
         "_deepnote_index_column": 205720
        },
        {
         "age": 22,
         "height": 182,
         "weight": 90,
         "_deepnote_index_column": 205732
        },
        {
         "age": 19,
         "height": 170,
         "weight": 50,
         "_deepnote_index_column": 205736
        },
        {
         "age": 19,
         "height": 173,
         "weight": 55,
         "_deepnote_index_column": 205738
        },
        {
         "age": 23,
         "height": 183,
         "weight": 75,
         "_deepnote_index_column": 205745
        },
        {
         "age": 24,
         "height": 173,
         "weight": 66,
         "_deepnote_index_column": 205760
        },
        {
         "age": 24,
         "height": 171,
         "weight": 65,
         "_deepnote_index_column": 205761
        },
        {
         "age": 16,
         "height": 172,
         "weight": 62,
         "_deepnote_index_column": 205762
        },
        {
         "age": 16,
         "height": 172,
         "weight": 62,
         "_deepnote_index_column": 205763
        },
        {
         "age": 20,
         "height": 172,
         "weight": 62,
         "_deepnote_index_column": 205764
        },
        {
         "age": 20,
         "height": 172,
         "weight": 62,
         "_deepnote_index_column": 205765
        },
        {
         "age": 20,
         "height": 172,
         "weight": 62,
         "_deepnote_index_column": 205766
        },
        {
         "age": 20,
         "height": 172,
         "weight": 62,
         "_deepnote_index_column": 205767
        },
        {
         "age": 23,
         "height": 165,
         "weight": 55,
         "_deepnote_index_column": 205768
        },
        {
         "age": 23,
         "height": 165,
         "weight": 55,
         "_deepnote_index_column": 205769
        },
        {
         "age": 27,
         "height": 165,
         "weight": 55,
         "_deepnote_index_column": 205770
        },
        {
         "age": 27,
         "height": 165,
         "weight": 55,
         "_deepnote_index_column": 205771
        },
        {
         "age": 22,
         "height": 170,
         "weight": 63,
         "_deepnote_index_column": 205772
        },
        {
         "age": 20,
         "height": 161,
         "weight": 52,
         "_deepnote_index_column": 205792
        },
        {
         "age": 20,
         "height": 161,
         "weight": 52,
         "_deepnote_index_column": 205793
        },
        {
         "age": 20,
         "height": 161,
         "weight": 52,
         "_deepnote_index_column": 205794
        },
        {
         "age": 24,
         "height": 161,
         "weight": 52,
         "_deepnote_index_column": 205795
        },
        {
         "age": 24,
         "height": 161,
         "weight": 52,
         "_deepnote_index_column": 205796
        },
        {
         "age": 28,
         "height": 161,
         "weight": 52,
         "_deepnote_index_column": 205797
        },
        {
         "age": 28,
         "height": 161,
         "weight": 52,
         "_deepnote_index_column": 205798
        },
        {
         "age": 28,
         "height": 161,
         "weight": 52,
         "_deepnote_index_column": 205799
        },
        {
         "age": 32,
         "height": 161,
         "weight": 52,
         "_deepnote_index_column": 205800
        },
        {
         "age": 32,
         "height": 161,
         "weight": 52,
         "_deepnote_index_column": 205801
        },
        {
         "age": 32,
         "height": 161,
         "weight": 52,
         "_deepnote_index_column": 205802
        },
        {
         "age": 32,
         "height": 161,
         "weight": 52,
         "_deepnote_index_column": 205803
        },
        {
         "age": 32,
         "height": 161,
         "weight": 52,
         "_deepnote_index_column": 205804
        },
        {
         "age": 21,
         "height": 158,
         "weight": 48,
         "_deepnote_index_column": 205827
        },
        {
         "age": 21,
         "height": 158,
         "weight": 48,
         "_deepnote_index_column": 205828
        },
        {
         "age": 21,
         "height": 158,
         "weight": 48,
         "_deepnote_index_column": 205829
        },
        {
         "age": 21,
         "height": 158,
         "weight": 48,
         "_deepnote_index_column": 205830
        },
        {
         "age": 21,
         "height": 158,
         "weight": 48,
         "_deepnote_index_column": 205831
        },
        {
         "age": 21,
         "height": 158,
         "weight": 48,
         "_deepnote_index_column": 205832
        },
        {
         "age": 25,
         "height": 158,
         "weight": 48,
         "_deepnote_index_column": 205833
        },
        {
         "age": 25,
         "height": 158,
         "weight": 48,
         "_deepnote_index_column": 205834
        },
        {
         "age": 25,
         "height": 158,
         "weight": 48,
         "_deepnote_index_column": 205835
        },
        {
         "age": 25,
         "height": 158,
         "weight": 48,
         "_deepnote_index_column": 205836
        },
        {
         "age": 25,
         "height": 158,
         "weight": 48,
         "_deepnote_index_column": 205837
        },
        {
         "age": 25,
         "height": 158,
         "weight": 48,
         "_deepnote_index_column": 205838
        },
        {
         "age": 26,
         "height": 175,
         "weight": 65,
         "_deepnote_index_column": 205840
        },
        {
         "age": 26,
         "height": 175,
         "weight": 65,
         "_deepnote_index_column": 205841
        },
        {
         "age": 28,
         "height": 175,
         "weight": 65,
         "_deepnote_index_column": 205842
        },
        {
         "age": 28,
         "height": 175,
         "weight": 65,
         "_deepnote_index_column": 205843
        },
        {
         "age": 32,
         "height": 170,
         "weight": 55,
         "_deepnote_index_column": 205851
        },
        {
         "age": 16,
         "height": 168,
         "weight": 60,
         "_deepnote_index_column": 205863
        },
        {
         "age": 20,
         "height": 168,
         "weight": 60,
         "_deepnote_index_column": 205864
        },
        {
         "age": 22,
         "height": 156,
         "weight": 40,
         "_deepnote_index_column": 205876
        },
        {
         "age": 28,
         "height": 175,
         "weight": 70,
         "_deepnote_index_column": 205882
        },
        {
         "age": 21,
         "height": 171,
         "weight": 65,
         "_deepnote_index_column": 205887
        },
        {
         "age": 21,
         "height": 171,
         "weight": 65,
         "_deepnote_index_column": 205888
        },
        {
         "age": 25,
         "height": 171,
         "weight": 65,
         "_deepnote_index_column": 205889
        },
        {
         "age": 25,
         "height": 171,
         "weight": 65,
         "_deepnote_index_column": 205890
        },
        {
         "age": 19,
         "height": 165,
         "weight": 65,
         "_deepnote_index_column": 205894
        },
        {
         "age": 27,
         "height": 172,
         "weight": 64,
         "_deepnote_index_column": 205901
        },
        {
         "age": 31,
         "height": 172,
         "weight": 64,
         "_deepnote_index_column": 205902
        },
        {
         "age": 26,
         "height": 168,
         "weight": 55,
         "_deepnote_index_column": 205908
        },
        {
         "age": 30,
         "height": 168,
         "weight": 55,
         "_deepnote_index_column": 205909
        },
        {
         "age": 23,
         "height": 167,
         "weight": 55,
         "_deepnote_index_column": 205914
        },
        {
         "age": 27,
         "height": 167,
         "weight": 55,
         "_deepnote_index_column": 205915
        },
        {
         "age": 31,
         "height": 167,
         "weight": 55,
         "_deepnote_index_column": 205916
        },
        {
         "age": 21,
         "height": 176,
         "weight": 63,
         "_deepnote_index_column": 205937
        },
        {
         "age": 25,
         "height": 174,
         "weight": 67,
         "_deepnote_index_column": 205938
        },
        {
         "age": 17,
         "height": 168,
         "weight": 60,
         "_deepnote_index_column": 205939
        },
        {
         "age": 22,
         "height": 169,
         "weight": 70,
         "_deepnote_index_column": 205942
        },
        {
         "age": 26,
         "height": 169,
         "weight": 70,
         "_deepnote_index_column": 205943
        },
        {
         "age": 15,
         "height": 173,
         "weight": 66,
         "_deepnote_index_column": 205955
        },
        {
         "age": 15,
         "height": 173,
         "weight": 66,
         "_deepnote_index_column": 205956
        },
        {
         "age": 15,
         "height": 173,
         "weight": 66,
         "_deepnote_index_column": 205957
        },
        {
         "age": 19,
         "height": 173,
         "weight": 66,
         "_deepnote_index_column": 205958
        },
        {
         "age": 19,
         "height": 173,
         "weight": 66,
         "_deepnote_index_column": 205959
        },
        {
         "age": 19,
         "height": 173,
         "weight": 66,
         "_deepnote_index_column": 205960
        },
        {
         "age": 23,
         "height": 173,
         "weight": 66,
         "_deepnote_index_column": 205961
        },
        {
         "age": 24,
         "height": 167,
         "weight": 64,
         "_deepnote_index_column": 205962
        },
        {
         "age": 24,
         "height": 167,
         "weight": 64,
         "_deepnote_index_column": 205963
        },
        {
         "age": 24,
         "height": 167,
         "weight": 64,
         "_deepnote_index_column": 205964
        },
        {
         "age": 24,
         "height": 167,
         "weight": 64,
         "_deepnote_index_column": 205965
        },
        {
         "age": 26,
         "height": 167,
         "weight": 64,
         "_deepnote_index_column": 205966
        },
        {
         "age": 26,
         "height": 167,
         "weight": 64,
         "_deepnote_index_column": 205967
        },
        {
         "age": 30,
         "height": 167,
         "weight": 64,
         "_deepnote_index_column": 205968
        },
        {
         "age": 30,
         "height": 167,
         "weight": 64,
         "_deepnote_index_column": 205969
        },
        {
         "age": 30,
         "height": 167,
         "weight": 64,
         "_deepnote_index_column": 205970
        },
        {
         "age": 19,
         "height": 157,
         "weight": 55,
         "_deepnote_index_column": 205984
        },
        {
         "age": 23,
         "height": 157,
         "weight": 55,
         "_deepnote_index_column": 205985
        },
        {
         "age": 21,
         "height": 179,
         "weight": 69,
         "_deepnote_index_column": 205989
        },
        {
         "age": 28,
         "height": 167,
         "weight": 50,
         "_deepnote_index_column": 205990
        },
        {
         "age": 23,
         "height": 167,
         "weight": 51,
         "_deepnote_index_column": 205992
        },
        {
         "age": 27,
         "height": 167,
         "weight": 51,
         "_deepnote_index_column": 205993
        },
        {
         "age": 19,
         "height": 176,
         "weight": 62,
         "_deepnote_index_column": 206008
        },
        {
         "age": 18,
         "height": 182,
         "weight": 71,
         "_deepnote_index_column": 206009
        },
        {
         "age": 18,
         "height": 182,
         "weight": 71,
         "_deepnote_index_column": 206010
        },
        {
         "age": 18,
         "height": 182,
         "weight": 71,
         "_deepnote_index_column": 206011
        },
        {
         "age": 22,
         "height": 182,
         "weight": 71,
         "_deepnote_index_column": 206012
        },
        {
         "age": 22,
         "height": 182,
         "weight": 71,
         "_deepnote_index_column": 206013
        },
        {
         "age": 22,
         "height": 182,
         "weight": 71,
         "_deepnote_index_column": 206014
        },
        {
         "age": 26,
         "height": 182,
         "weight": 71,
         "_deepnote_index_column": 206015
        },
        {
         "age": 26,
         "height": 182,
         "weight": 71,
         "_deepnote_index_column": 206016
        },
        {
         "age": 26,
         "height": 182,
         "weight": 71,
         "_deepnote_index_column": 206017
        },
        {
         "age": 17,
         "height": 172,
         "weight": 72,
         "_deepnote_index_column": 206020
        },
        {
         "age": 17,
         "height": 172,
         "weight": 72,
         "_deepnote_index_column": 206021
        },
        {
         "age": 21,
         "height": 172,
         "weight": 72,
         "_deepnote_index_column": 206022
        },
        {
         "age": 21,
         "height": 172,
         "weight": 72,
         "_deepnote_index_column": 206023
        },
        {
         "age": 25,
         "height": 172,
         "weight": 72,
         "_deepnote_index_column": 206024
        },
        {
         "age": 25,
         "height": 172,
         "weight": 72,
         "_deepnote_index_column": 206025
        },
        {
         "age": 21,
         "height": 176,
         "weight": 62,
         "_deepnote_index_column": 206029
        },
        {
         "age": 27,
         "height": 183,
         "weight": 100,
         "_deepnote_index_column": 206035
        },
        {
         "age": 35,
         "height": 183,
         "weight": 100,
         "_deepnote_index_column": 206036
        },
        {
         "age": 39,
         "height": 183,
         "weight": 100,
         "_deepnote_index_column": 206037
        },
        {
         "age": 43,
         "height": 183,
         "weight": 100,
         "_deepnote_index_column": 206038
        },
        {
         "age": 47,
         "height": 183,
         "weight": 100,
         "_deepnote_index_column": 206039
        },
        {
         "age": 17,
         "height": 172,
         "weight": 60,
         "_deepnote_index_column": 206040
        },
        {
         "age": 17,
         "height": 172,
         "weight": 60,
         "_deepnote_index_column": 206041
        },
        {
         "age": 21,
         "height": 172,
         "weight": 60,
         "_deepnote_index_column": 206042
        },
        {
         "age": 21,
         "height": 172,
         "weight": 60,
         "_deepnote_index_column": 206043
        },
        {
         "age": 25,
         "height": 172,
         "weight": 60,
         "_deepnote_index_column": 206044
        },
        {
         "age": 25,
         "height": 172,
         "weight": 60,
         "_deepnote_index_column": 206045
        },
        {
         "age": 29,
         "height": 172,
         "weight": 60,
         "_deepnote_index_column": 206046
        },
        {
         "age": 29,
         "height": 172,
         "weight": 60,
         "_deepnote_index_column": 206047
        },
        {
         "age": 23,
         "height": 172,
         "weight": 59,
         "_deepnote_index_column": 206052
        },
        {
         "age": 23,
         "height": 172,
         "weight": 59,
         "_deepnote_index_column": 206053
        },
        {
         "age": 27,
         "height": 172,
         "weight": 59,
         "_deepnote_index_column": 206054
        },
        {
         "age": 17,
         "height": 167,
         "weight": 57,
         "_deepnote_index_column": 206061
        },
        {
         "age": 17,
         "height": 167,
         "weight": 57,
         "_deepnote_index_column": 206062
        },
        {
         "age": 24,
         "height": 167,
         "weight": 60,
         "_deepnote_index_column": 206066
        },
        {
         "age": 28,
         "height": 167,
         "weight": 60,
         "_deepnote_index_column": 206067
        },
        {
         "age": 24,
         "height": 172,
         "weight": 52,
         "_deepnote_index_column": 206084
        },
        {
         "age": 23,
         "height": 174,
         "weight": 70,
         "_deepnote_index_column": 206086
        },
        {
         "age": 22,
         "height": 181,
         "weight": 78,
         "_deepnote_index_column": 206087
        },
        {
         "age": 30,
         "height": 181,
         "weight": 78,
         "_deepnote_index_column": 206088
        },
        {
         "age": 26,
         "height": 174,
         "weight": 65,
         "_deepnote_index_column": 206101
        },
        {
         "age": 26,
         "height": 174,
         "weight": 65,
         "_deepnote_index_column": 206102
        },
        {
         "age": 19,
         "height": 174,
         "weight": 62,
         "_deepnote_index_column": 206103
        },
        {
         "age": 23,
         "height": 174,
         "weight": 62,
         "_deepnote_index_column": 206104
        },
        {
         "age": 23,
         "height": 174,
         "weight": 62,
         "_deepnote_index_column": 206105
        },
        {
         "age": 23,
         "height": 174,
         "weight": 62,
         "_deepnote_index_column": 206106
        },
        {
         "age": 27,
         "height": 162,
         "weight": 53,
         "_deepnote_index_column": 206108
        },
        {
         "age": 27,
         "height": 162,
         "weight": 53,
         "_deepnote_index_column": 206109
        },
        {
         "age": 27,
         "height": 162,
         "weight": 53,
         "_deepnote_index_column": 206110
        },
        {
         "age": 27,
         "height": 162,
         "weight": 53,
         "_deepnote_index_column": 206111
        },
        {
         "age": 27,
         "height": 162,
         "weight": 53,
         "_deepnote_index_column": 206112
        },
        {
         "age": 27,
         "height": 161,
         "weight": 53,
         "_deepnote_index_column": 206113
        },
        {
         "age": 27,
         "height": 161,
         "weight": 53,
         "_deepnote_index_column": 206114
        },
        {
         "age": 27,
         "height": 161,
         "weight": 53,
         "_deepnote_index_column": 206115
        },
        {
         "age": 27,
         "height": 161,
         "weight": 53,
         "_deepnote_index_column": 206116
        },
        {
         "age": 21,
         "height": 168,
         "weight": 80,
         "_deepnote_index_column": 206126
        },
        {
         "age": 21,
         "height": 168,
         "weight": 80,
         "_deepnote_index_column": 206127
        },
        {
         "age": 25,
         "height": 168,
         "weight": 80,
         "_deepnote_index_column": 206128
        },
        {
         "age": 29,
         "height": 168,
         "weight": 80,
         "_deepnote_index_column": 206129
        },
        {
         "age": 33,
         "height": 168,
         "weight": 80,
         "_deepnote_index_column": 206130
        },
        {
         "age": 36,
         "height": 171,
         "weight": 63,
         "_deepnote_index_column": 206149
        },
        {
         "age": 19,
         "height": 171,
         "weight": 64,
         "_deepnote_index_column": 206151
        },
        {
         "age": 23,
         "height": 171,
         "weight": 64,
         "_deepnote_index_column": 206152
        },
        {
         "age": 33,
         "height": 171,
         "weight": 69,
         "_deepnote_index_column": 206159
        }
       ]
      },
      "text/plain": "         age  height  weight\n2       21.0   185.0    82.0\n3       21.0   185.0    82.0\n4       25.0   185.0    82.0\n5       25.0   185.0    82.0\n6       27.0   185.0    82.0\n...      ...     ...     ...\n206130  33.0   168.0    80.0\n206149  36.0   171.0    63.0\n206151  19.0   171.0    64.0\n206152  23.0   171.0    64.0\n206159  33.0   171.0    69.0\n\n[66711 rows x 3 columns]",
      "text/html": "<div>\n<style scoped>\n    .dataframe tbody tr th:only-of-type {\n        vertical-align: middle;\n    }\n\n    .dataframe tbody tr th {\n        vertical-align: top;\n    }\n\n    .dataframe thead th {\n        text-align: right;\n    }\n</style>\n<table border=\"1\" class=\"dataframe\">\n  <thead>\n    <tr style=\"text-align: right;\">\n      <th></th>\n      <th>age</th>\n      <th>height</th>\n      <th>weight</th>\n    </tr>\n  </thead>\n  <tbody>\n    <tr>\n      <th>2</th>\n      <td>21.0</td>\n      <td>185.0</td>\n      <td>82.0</td>\n    </tr>\n    <tr>\n      <th>3</th>\n      <td>21.0</td>\n      <td>185.0</td>\n      <td>82.0</td>\n    </tr>\n    <tr>\n      <th>4</th>\n      <td>25.0</td>\n      <td>185.0</td>\n      <td>82.0</td>\n    </tr>\n    <tr>\n      <th>5</th>\n      <td>25.0</td>\n      <td>185.0</td>\n      <td>82.0</td>\n    </tr>\n    <tr>\n      <th>6</th>\n      <td>27.0</td>\n      <td>185.0</td>\n      <td>82.0</td>\n    </tr>\n    <tr>\n      <th>...</th>\n      <td>...</td>\n      <td>...</td>\n      <td>...</td>\n    </tr>\n    <tr>\n      <th>206130</th>\n      <td>33.0</td>\n      <td>168.0</td>\n      <td>80.0</td>\n    </tr>\n    <tr>\n      <th>206149</th>\n      <td>36.0</td>\n      <td>171.0</td>\n      <td>63.0</td>\n    </tr>\n    <tr>\n      <th>206151</th>\n      <td>19.0</td>\n      <td>171.0</td>\n      <td>64.0</td>\n    </tr>\n    <tr>\n      <th>206152</th>\n      <td>23.0</td>\n      <td>171.0</td>\n      <td>64.0</td>\n    </tr>\n    <tr>\n      <th>206159</th>\n      <td>33.0</td>\n      <td>171.0</td>\n      <td>69.0</td>\n    </tr>\n  </tbody>\n</table>\n<p>66711 rows × 3 columns</p>\n</div>"
     },
     "metadata": {}
    }
   ],
   "execution_count": null
  },
  {
   "cell_type": "code",
   "source": "sns.distplot(males['age'],hist=False,kde_kws={'shade':True})\nsns.distplot(female['age'],hist=False,kde_kws={'shade':True})",
   "metadata": {
    "tags": [],
    "cell_id": "00008-6964926f-8ac2-427b-8ace-2a38db8c488b",
    "deepnote_to_be_reexecuted": false,
    "source_hash": "6d01b8e6",
    "execution_start": 1630554765750,
    "execution_millis": 1038,
    "deepnote_cell_type": "code"
   },
   "outputs": [
    {
     "name": "stderr",
     "text": "/shared-libs/python3.7/py/lib/python3.7/site-packages/seaborn/distributions.py:2557: FutureWarning: `distplot` is a deprecated function and will be removed in a future version. Please adapt your code to use either `displot` (a figure-level function with similar flexibility) or `kdeplot` (an axes-level function for kernel density plots).\n  warnings.warn(msg, FutureWarning)\n/shared-libs/python3.7/py/lib/python3.7/site-packages/seaborn/distributions.py:2557: FutureWarning: `distplot` is a deprecated function and will be removed in a future version. Please adapt your code to use either `displot` (a figure-level function with similar flexibility) or `kdeplot` (an axes-level function for kernel density plots).\n  warnings.warn(msg, FutureWarning)\n",
     "output_type": "stream"
    },
    {
     "output_type": "execute_result",
     "execution_count": 22,
     "data": {
      "text/plain": "<AxesSubplot:xlabel='age', ylabel='Density'>"
     },
     "metadata": {}
    },
    {
     "data": {
      "text/plain": "<Figure size 432x288 with 1 Axes>",
      "image/png": "[encoded data removed]"
     },
     "metadata": {
      "needs_background": "light",
      "image/png": {
       "width": 392,
       "height": 262
      }
     },
     "output_type": "display_data"
    }
   ],
   "execution_count": null
  },
  {
   "cell_type": "code",
   "source": "sns.distplot(males['height'],hist=False,kde_kws={'shade':True})\nsns.distplot(female['height'],hist=False,kde_kws={'shade':True})\n",
   "metadata": {
    "tags": [],
    "cell_id": "00009-918ea6be-13a6-4907-9a5d-3e7610af729d",
    "deepnote_to_be_reexecuted": false,
    "source_hash": "e4e03ff0",
    "execution_start": 1630554787181,
    "execution_millis": 1111,
    "deepnote_cell_type": "code"
   },
   "outputs": [
    {
     "name": "stderr",
     "text": "/shared-libs/python3.7/py/lib/python3.7/site-packages/seaborn/distributions.py:2557: FutureWarning: `distplot` is a deprecated function and will be removed in a future version. Please adapt your code to use either `displot` (a figure-level function with similar flexibility) or `kdeplot` (an axes-level function for kernel density plots).\n  warnings.warn(msg, FutureWarning)\n/shared-libs/python3.7/py/lib/python3.7/site-packages/seaborn/distributions.py:2557: FutureWarning: `distplot` is a deprecated function and will be removed in a future version. Please adapt your code to use either `displot` (a figure-level function with similar flexibility) or `kdeplot` (an axes-level function for kernel density plots).\n  warnings.warn(msg, FutureWarning)\n",
     "output_type": "stream"
    },
    {
     "output_type": "execute_result",
     "execution_count": 23,
     "data": {
      "text/plain": "<AxesSubplot:xlabel='height', ylabel='Density'>"
     },
     "metadata": {}
    },
    {
     "data": {
      "text/plain": "<Figure size 432x288 with 1 Axes>",
      "image/png": "[encoded data removed]"
     },
     "metadata": {
      "needs_background": "light",
      "image/png": {
       "width": 392,
       "height": 262
      }
     },
     "output_type": "display_data"
    }
   ],
   "execution_count": null
  },
  {
   "cell_type": "code",
   "source": "sns.distplot(males['weight'],hist=False,kde_kws={'shade':True})\nsns.distplot(female['weight'],hist=False,kde_kws={'shade':True})\n",
   "metadata": {
    "tags": [],
    "cell_id": "00010-5331fbf3-52e0-4312-94b4-d404b9e2bcc6",
    "deepnote_to_be_reexecuted": false,
    "source_hash": "c2f746ee",
    "execution_start": 1630554837518,
    "execution_millis": 1059,
    "deepnote_cell_type": "code"
   },
   "outputs": [
    {
     "name": "stderr",
     "text": "/shared-libs/python3.7/py/lib/python3.7/site-packages/seaborn/distributions.py:2557: FutureWarning: `distplot` is a deprecated function and will be removed in a future version. Please adapt your code to use either `displot` (a figure-level function with similar flexibility) or `kdeplot` (an axes-level function for kernel density plots).\n  warnings.warn(msg, FutureWarning)\n/shared-libs/python3.7/py/lib/python3.7/site-packages/seaborn/distributions.py:2557: FutureWarning: `distplot` is a deprecated function and will be removed in a future version. Please adapt your code to use either `displot` (a figure-level function with similar flexibility) or `kdeplot` (an axes-level function for kernel density plots).\n  warnings.warn(msg, FutureWarning)\n",
     "output_type": "stream"
    },
    {
     "output_type": "execute_result",
     "execution_count": 24,
     "data": {
      "text/plain": "<AxesSubplot:xlabel='weight', ylabel='Density'>"
     },
     "metadata": {}
    },
    {
     "data": {
      "text/plain": "<Figure size 432x288 with 1 Axes>",
      "image/png": "[encoded data removed]"
     },
     "metadata": {
      "needs_background": "light",
      "image/png": {
       "width": 398,
       "height": 263
      }
     },
     "output_type": "display_data"
    }
   ],
   "execution_count": null
  },
  {
   "cell_type": "markdown",
   "source": "<details><summary>Solución</summary>\n\n```python\ndf = pd.read_csv('../../Datasets/athlete_olympic_events-clean.csv', index_col=0)\nby_athlete = df.groupby(level=0)[['age', 'height', 'weight']].mean()\nsex = df.groupby(level=0)['sex'].last()\nmerged = by_athlete.merge(sex, left_index=True, right_index=True)\nmales = by_athlete[merged['sex'] == 'M']\nfemales = by_athlete[merged['sex'] == 'F']\nsns.distplot(males['age'], hist=False, kde_kws = {'shade': True})\nsns.distplot(females['age'], hist=False, kde_kws = {'shade': True})\n```\n    \n</details>",
   "metadata": {
    "cell_id": "00002-fc4cf9e9-76c7-437d-a1d7-a3200fbf94e1",
    "deepnote_cell_type": "markdown"
   }
  },
  {
   "cell_type": "code",
   "source": "",
   "metadata": {
    "tags": [],
    "cell_id": "00006-1dcb082b-92c1-4931-bdec-721c321c460a",
    "deepnote_cell_type": "code"
   },
   "outputs": [],
   "execution_count": null
  },
  {
   "cell_type": "code",
   "metadata": {
    "cell_id": "00003-9c3d37ec-ddf1-4a64-b647-310619dd2c43",
    "deepnote_cell_type": "code"
   },
   "source": "",
   "execution_count": null,
   "outputs": []
  },
  {
   "cell_type": "markdown",
   "source": "<a style='text-decoration:none;line-height:16px;display:flex;color:#5B5B62;padding:10px;justify-content:end;' href='https://deepnote.com?utm_source=created-in-deepnote-cell&projectId=f8149d1c-e6b1-497a-9109-f01641a8231a' target=\"_blank\">\n<img alt='Created in deepnote.com' style='display:inline;max-height:16px;margin:0px;margin-right:7.5px;' src='data:image/svg+xml;base64,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' > </img>\nCreated in <span style='font-weight:600;margin-left:4px;'>Deepnote</span></a>",
   "metadata": {
    "tags": [],
    "created_in_deepnote_cell": true,
    "deepnote_cell_type": "markdown"
   }
  }
 ],
 "nbformat": 4,
 "nbformat_minor": 4,
 "metadata": {
  "kernelspec": {
   "display_name": "Python (data_science)",
   "language": "python",
   "name": "data_science"
  },
  "language_info": {
   "codemirror_mode": {
    "name": "ipython",
    "version": 3
   },
   "file_extension": ".py",
   "mimetype": "text/x-python",
   "name": "python",
   "nbconvert_exporter": "python",
   "pygments_lexer": "ipython3",
   "version": "3.8.5"
  },
  "deepnote_notebook_id": "ac235363-0b2e-43b4-8e1d-462c459f9adc",
  "deepnote": {},
  "deepnote_execution_queue": []
 }
}