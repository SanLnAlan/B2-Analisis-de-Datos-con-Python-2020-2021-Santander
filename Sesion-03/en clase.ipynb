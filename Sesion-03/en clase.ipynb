{
 "cells": [
  {
   "cell_type": "markdown",
   "source": "# En clase Sesión 3",
   "metadata": {
    "tags": [],
    "cell_id": "00000-74af804b-1a50-454b-bd6f-6eeeebaed4e9",
    "deepnote_cell_type": "markdown"
   }
  },
  {
   "cell_type": "code",
   "metadata": {
    "tags": [],
    "cell_id": "00000-a8e65595-a8e0-4071-9459-958c49292af2",
    "deepnote_to_be_reexecuted": false,
    "source_hash": "9e1ae3e3",
    "execution_start": 1630627647641,
    "execution_millis": 3097,
    "deepnote_cell_type": "code"
   },
   "source": "import pandas as pd\nimport matplotlib.pyplot as plt\nimport seaborn as sns\nsns.set(style='white')",
   "execution_count": null,
   "outputs": []
  },
  {
   "cell_type": "code",
   "metadata": {
    "tags": [],
    "cell_id": "00001-f56b6bd4-efe1-4271-8102-57bca32aff6f",
    "deepnote_cell_type": "code"
   },
   "source": "#Agregar celdas del archivo ejemplo 1",
   "execution_count": null,
   "outputs": []
  },
  {
   "cell_type": "code",
   "metadata": {
    "tags": [],
    "cell_id": "00001-cdd0cd34-dd06-43cf-aef1-27b5f820c0a4",
    "deepnote_to_be_reexecuted": false,
    "source_hash": "dde817e2",
    "execution_start": 1630627854638,
    "execution_millis": 45,
    "deepnote_cell_type": "code"
   },
   "source": "df = pd.read_json('/work/B2-Analisis-de-Datos-con-Python-2020-2021-Santander/Datasets/zomato_reviews-clean.json')\ndf.head()",
   "execution_count": null,
   "outputs": [
    {
     "output_type": "execute_result",
     "execution_count": 3,
     "data": {
      "application/vnd.deepnote.dataframe.v2+json": {
       "row_count": 5,
       "column_count": 8,
       "columns": [
        {
         "name": "has_online_delivery",
         "dtype": "int64",
         "stats": {
          "unique_count": 2,
          "nan_count": 0,
          "min": "0",
          "max": "1",
          "histogram": [
           {
            "bin_start": 0,
            "bin_end": 0.1,
            "count": 3
           },
           {
            "bin_start": 0.1,
            "bin_end": 0.2,
            "count": 0
           },
           {
            "bin_start": 0.2,
            "bin_end": 0.30000000000000004,
            "count": 0
           },
           {
            "bin_start": 0.30000000000000004,
            "bin_end": 0.4,
            "count": 0
           },
           {
            "bin_start": 0.4,
            "bin_end": 0.5,
            "count": 0
           },
           {
            "bin_start": 0.5,
            "bin_end": 0.6000000000000001,
            "count": 0
           },
           {
            "bin_start": 0.6000000000000001,
            "bin_end": 0.7000000000000001,
            "count": 0
           },
           {
            "bin_start": 0.7000000000000001,
            "bin_end": 0.8,
            "count": 0
           },
           {
            "bin_start": 0.8,
            "bin_end": 0.9,
            "count": 0
           },
           {
            "bin_start": 0.9,
            "bin_end": 1,
            "count": 2
           }
          ]
         }
        },
        {
         "name": "price_range",
         "dtype": "int64",
         "stats": {
          "unique_count": 2,
          "nan_count": 0,
          "min": "2",
          "max": "3",
          "histogram": [
           {
            "bin_start": 2,
            "bin_end": 2.1,
            "count": 1
           },
           {
            "bin_start": 2.1,
            "bin_end": 2.2,
            "count": 0
           },
           {
            "bin_start": 2.2,
            "bin_end": 2.3,
            "count": 0
           },
           {
            "bin_start": 2.3,
            "bin_end": 2.4,
            "count": 0
           },
           {
            "bin_start": 2.4,
            "bin_end": 2.5,
            "count": 0
           },
           {
            "bin_start": 2.5,
            "bin_end": 2.6,
            "count": 0
           },
           {
            "bin_start": 2.6,
            "bin_end": 2.7,
            "count": 0
           },
           {
            "bin_start": 2.7,
            "bin_end": 2.8,
            "count": 0
           },
           {
            "bin_start": 2.8,
            "bin_end": 2.9,
            "count": 0
           },
           {
            "bin_start": 2.9,
            "bin_end": 3,
            "count": 4
           }
          ]
         }
        },
        {
         "name": "currency",
         "dtype": "object",
         "stats": {
          "unique_count": 1,
          "nan_count": 0,
          "categories": [
           {
            "name": "Rs.",
            "count": 5
           }
          ]
         }
        },
        {
         "name": "name",
         "dtype": "object",
         "stats": {
          "unique_count": 5,
          "nan_count": 0,
          "categories": [
           {
            "name": "Hauz Khas Social",
            "count": 1
           },
           {
            "name": "Qubitos - The Terrace Cafe",
            "count": 1
           },
           {
            "name": "3 others",
            "count": 3
           }
          ]
         }
        },
        {
         "name": "cuisines",
         "dtype": "object",
         "stats": {
          "unique_count": 5,
          "nan_count": 0,
          "categories": [
           {
            "name": "Continental, American, Asian, North Indian",
            "count": 1
           },
           {
            "name": "Thai, European, Mexican, North Indian, Chinese, Cafe",
            "count": 1
           },
           {
            "name": "3 others",
            "count": 3
           }
          ]
         }
        },
        {
         "name": "location.address",
         "dtype": "object",
         "stats": {
          "unique_count": 5,
          "nan_count": 0,
          "categories": [
           {
            "name": "9-A & 12, Hauz Khas Village, New Delhi",
            "count": 1
           },
           {
            "name": "C-7, Vishal Enclave, Opposite Metro Pillar 417, Rajouri Garden, New Delhi",
            "count": 1
           },
           {
            "name": "3 others",
            "count": 3
           }
          ]
         }
        },
        {
         "name": "location.city",
         "dtype": "object",
         "stats": {
          "unique_count": 1,
          "nan_count": 0,
          "categories": [
           {
            "name": "New Delhi",
            "count": 5
           }
          ]
         }
        },
        {
         "name": "user_rating",
         "dtype": "object",
         "stats": {
          "unique_count": 2,
          "nan_count": 0,
          "categories": [
           {
            "name": "Very Good",
            "count": 4
           },
           {
            "name": "Excellent",
            "count": 1
           }
          ]
         }
        },
        {
         "name": "_deepnote_index_column",
         "dtype": "int64"
        }
       ],
       "rows_top": [
        {
         "has_online_delivery": 1,
         "price_range": 3,
         "currency": "Rs.",
         "name": "Hauz Khas Social",
         "cuisines": "Continental, American, Asian, North Indian",
         "location.address": "9-A & 12, Hauz Khas Village, New Delhi",
         "location.city": "New Delhi",
         "user_rating": "Very Good",
         "_deepnote_index_column": 0
        },
        {
         "has_online_delivery": 0,
         "price_range": 3,
         "currency": "Rs.",
         "name": "Qubitos - The Terrace Cafe",
         "cuisines": "Thai, European, Mexican, North Indian, Chinese, Cafe",
         "location.address": "C-7, Vishal Enclave, Opposite Metro Pillar 417, Rajouri Garden, New Delhi",
         "location.city": "New Delhi",
         "user_rating": "Excellent",
         "_deepnote_index_column": 1
        },
        {
         "has_online_delivery": 1,
         "price_range": 2,
         "currency": "Rs.",
         "name": "The Hudson Cafe",
         "cuisines": "Cafe, Italian, Continental, Chinese",
         "location.address": "2524, 1st Floor, Hudson Lane, Delhi University-GTB Nagar, New Delhi",
         "location.city": "New Delhi",
         "user_rating": "Very Good",
         "_deepnote_index_column": 2
        },
        {
         "has_online_delivery": 0,
         "price_range": 3,
         "currency": "Rs.",
         "name": "Summer House Cafe",
         "cuisines": "Italian, Continental",
         "location.address": "1st Floor, DDA Shopping Complex, Aurobindo Place, Hauz Khas, New Delhi",
         "location.city": "New Delhi",
         "user_rating": "Very Good",
         "_deepnote_index_column": 3
        },
        {
         "has_online_delivery": 0,
         "price_range": 3,
         "currency": "Rs.",
         "name": "38 Barracks",
         "cuisines": "North Indian, Italian, Asian, American",
         "location.address": "M-38, Outer Circle, Connaught Place, New Delhi",
         "location.city": "New Delhi",
         "user_rating": "Very Good",
         "_deepnote_index_column": 4
        }
       ],
       "rows_bottom": null
      },
      "text/plain": "   has_online_delivery  price_range currency                        name  \\\n0                    1            3      Rs.            Hauz Khas Social   \n1                    0            3      Rs.  Qubitos - The Terrace Cafe   \n2                    1            2      Rs.             The Hudson Cafe   \n3                    0            3      Rs.           Summer House Cafe   \n4                    0            3      Rs.                 38 Barracks   \n\n                                            cuisines  \\\n0         Continental, American, Asian, North Indian   \n1  Thai, European, Mexican, North Indian, Chinese...   \n2                Cafe, Italian, Continental, Chinese   \n3                               Italian, Continental   \n4             North Indian, Italian, Asian, American   \n\n                                    location.address location.city user_rating  \n0             9-A & 12, Hauz Khas Village, New Delhi     New Delhi   Very Good  \n1  C-7, Vishal Enclave, Opposite Metro Pillar 417...     New Delhi   Excellent  \n2  2524, 1st Floor, Hudson Lane, Delhi University...     New Delhi   Very Good  \n3  1st Floor, DDA Shopping Complex, Aurobindo Pla...     New Delhi   Very Good  \n4     M-38, Outer Circle, Connaught Place, New Delhi     New Delhi   Very Good  ",
      "text/html": "<div>\n<style scoped>\n    .dataframe tbody tr th:only-of-type {\n        vertical-align: middle;\n    }\n\n    .dataframe tbody tr th {\n        vertical-align: top;\n    }\n\n    .dataframe thead th {\n        text-align: right;\n    }\n</style>\n<table border=\"1\" class=\"dataframe\">\n  <thead>\n    <tr style=\"text-align: right;\">\n      <th></th>\n      <th>has_online_delivery</th>\n      <th>price_range</th>\n      <th>currency</th>\n      <th>name</th>\n      <th>cuisines</th>\n      <th>location.address</th>\n      <th>location.city</th>\n      <th>user_rating</th>\n    </tr>\n  </thead>\n  <tbody>\n    <tr>\n      <th>0</th>\n      <td>1</td>\n      <td>3</td>\n      <td>Rs.</td>\n      <td>Hauz Khas Social</td>\n      <td>Continental, American, Asian, North Indian</td>\n      <td>9-A &amp; 12, Hauz Khas Village, New Delhi</td>\n      <td>New Delhi</td>\n      <td>Very Good</td>\n    </tr>\n    <tr>\n      <th>1</th>\n      <td>0</td>\n      <td>3</td>\n      <td>Rs.</td>\n      <td>Qubitos - The Terrace Cafe</td>\n      <td>Thai, European, Mexican, North Indian, Chinese...</td>\n      <td>C-7, Vishal Enclave, Opposite Metro Pillar 417...</td>\n      <td>New Delhi</td>\n      <td>Excellent</td>\n    </tr>\n    <tr>\n      <th>2</th>\n      <td>1</td>\n      <td>2</td>\n      <td>Rs.</td>\n      <td>The Hudson Cafe</td>\n      <td>Cafe, Italian, Continental, Chinese</td>\n      <td>2524, 1st Floor, Hudson Lane, Delhi University...</td>\n      <td>New Delhi</td>\n      <td>Very Good</td>\n    </tr>\n    <tr>\n      <th>3</th>\n      <td>0</td>\n      <td>3</td>\n      <td>Rs.</td>\n      <td>Summer House Cafe</td>\n      <td>Italian, Continental</td>\n      <td>1st Floor, DDA Shopping Complex, Aurobindo Pla...</td>\n      <td>New Delhi</td>\n      <td>Very Good</td>\n    </tr>\n    <tr>\n      <th>4</th>\n      <td>0</td>\n      <td>3</td>\n      <td>Rs.</td>\n      <td>38 Barracks</td>\n      <td>North Indian, Italian, Asian, American</td>\n      <td>M-38, Outer Circle, Connaught Place, New Delhi</td>\n      <td>New Delhi</td>\n      <td>Very Good</td>\n    </tr>\n  </tbody>\n</table>\n</div>"
     },
     "metadata": {}
    }
   ]
  },
  {
   "cell_type": "code",
   "metadata": {
    "tags": [],
    "cell_id": "00002-33e6b3bb-cd47-48c3-99fd-f680b76aa54d",
    "deepnote_to_be_reexecuted": false,
    "source_hash": "1f205a1",
    "execution_start": 1630546656425,
    "execution_millis": 17,
    "deepnote_cell_type": "code"
   },
   "source": "df['user_rating'].astype('category')",
   "execution_count": null,
   "outputs": [
    {
     "output_type": "execute_result",
     "execution_count": 3,
     "data": {
      "text/plain": "0       Very Good\n1       Excellent\n2       Very Good\n3       Very Good\n4       Very Good\n          ...    \n1175    Very Good\n1176    Excellent\n1177    Excellent\n1178         Good\n1179         Good\nName: user_rating, Length: 1180, dtype: category\nCategories (6, object): ['Average', 'Excellent', 'Good', 'Not rated', 'Poor', 'Very Good']"
     },
     "metadata": {}
    }
   ]
  },
  {
   "cell_type": "code",
   "metadata": {
    "tags": [],
    "cell_id": "00004-af7d8d80-6904-4bda-ba41-650db86e6030",
    "deepnote_to_be_reexecuted": false,
    "source_hash": "a21258be",
    "execution_start": 1630546710267,
    "execution_millis": 33,
    "deepnote_cell_type": "code"
   },
   "source": "counts = df['user_rating'].value_counts()\ncounts",
   "execution_count": null,
   "outputs": [
    {
     "output_type": "execute_result",
     "execution_count": 5,
     "data": {
      "text/plain": "Very Good    490\nGood         346\nExcellent    194\nAverage      119\nNot rated     26\nPoor           5\nName: user_rating, dtype: int64"
     },
     "metadata": {}
    }
   ]
  },
  {
   "cell_type": "code",
   "metadata": {
    "tags": [],
    "cell_id": "00005-8927d2ab-245d-454f-a46c-037746c46b8f",
    "deepnote_to_be_reexecuted": false,
    "source_hash": "e6952d63",
    "execution_start": 1630460995026,
    "execution_millis": 208,
    "deepnote_cell_type": "code"
   },
   "source": "sns.barplot(x=counts.index, y=counts);",
   "execution_count": null,
   "outputs": [
    {
     "data": {
      "text/plain": "<Figure size 432x288 with 1 Axes>",
      "image/png": "[encoded data removed]"
     },
     "metadata": {
      "image/png": {
       "width": 396,
       "height": 251
      }
     },
     "output_type": "display_data"
    }
   ]
  },
  {
   "cell_type": "code",
   "metadata": {
    "tags": [],
    "cell_id": "00007-28751cdb-6ade-4b56-969f-84ac8e642488",
    "deepnote_to_be_reexecuted": false,
    "source_hash": "1c1f4226",
    "execution_start": 1630546743480,
    "execution_millis": 272,
    "deepnote_cell_type": "code"
   },
   "source": "import matplotlib.ticker #para agregar % en númoeros del eje y\n\npercentage = counts * 100 / counts.sum()\n#print(percentage)\n\nax = sns.barplot(x=percentage.index,y=percentage)\nax.set(title='Porcentaje de restaurantes según su rating',ylabel='porcentaje')\nax.yaxis.set_major_formatter(matplotlib.ticker.PercentFormatter())",
   "execution_count": null,
   "outputs": [
    {
     "data": {
      "text/plain": "<Figure size 432x288 with 1 Axes>",
      "image/png": "[encoded data removed]"
     },
     "metadata": {
      "image/png": {
       "width": 410,
       "height": 267
      }
     },
     "output_type": "display_data"
    }
   ]
  },
  {
   "cell_type": "markdown",
   "source": "Obteniendo la moda",
   "metadata": {
    "tags": [],
    "cell_id": "00009-26d4a1a5-0cb7-4255-8aa6-812001672c43",
    "deepnote_cell_type": "markdown"
   }
  },
  {
   "cell_type": "code",
   "metadata": {
    "tags": [],
    "cell_id": "00008-793f5722-16c0-498d-99f5-c94f403e7146",
    "deepnote_to_be_reexecuted": false,
    "source_hash": "f31d7f75",
    "execution_start": 1630461298152,
    "execution_millis": 2,
    "deepnote_cell_type": "code"
   },
   "source": "df['user_rating'].mode()",
   "execution_count": null,
   "outputs": [
    {
     "output_type": "execute_result",
     "execution_count": 24,
     "data": {
      "text/plain": "0    Very Good\ndtype: object"
     },
     "metadata": {}
    }
   ]
  },
  {
   "cell_type": "code",
   "metadata": {
    "tags": [],
    "cell_id": "00011-96f9a7ee-f928-41a9-9ee1-87f0178b7d33",
    "deepnote_to_be_reexecuted": false,
    "source_hash": "1821877a",
    "execution_start": 1630465480627,
    "execution_millis": 0,
    "deepnote_cell_type": "code"
   },
   "source": "df['values'] = 1\n",
   "execution_count": null,
   "outputs": []
  },
  {
   "cell_type": "code",
   "metadata": {
    "tags": [],
    "cell_id": "00011-8c4a3b15-9823-4bb1-be5e-25422dba7324",
    "deepnote_to_be_reexecuted": false,
    "source_hash": "9b298757",
    "execution_start": 1630465658390,
    "execution_millis": 1359,
    "deepnote_cell_type": "code"
   },
   "source": "sns.displot(data=df,x='values',hue='user_rating', multiple='dodge',col='price_range',col_wrap=2)",
   "execution_count": null,
   "outputs": [
    {
     "output_type": "execute_result",
     "execution_count": 29,
     "data": {
      "text/plain": "<seaborn.axisgrid.FacetGrid at 0x7ff9920e5750>"
     },
     "metadata": {}
    },
    {
     "data": {
      "text/plain": "<Figure size 816.725x720 with 4 Axes>",
      "image/png": "[encoded data removed]"
     },
     "metadata": {
      "image/png": {
       "width": 812,
       "height": 708
      }
     },
     "output_type": "display_data"
    }
   ]
  },
  {
   "cell_type": "code",
   "metadata": {
    "tags": [],
    "cell_id": "00013-f404ff6b-83fe-49ca-90a9-f084e8513601",
    "deepnote_cell_type": "code"
   },
   "source": "",
   "execution_count": null,
   "outputs": []
  },
  {
   "cell_type": "markdown",
   "source": "## tablas de contingencia",
   "metadata": {
    "tags": [],
    "cell_id": "00013-ba98f0d4-351f-4cb7-a434-fb8c4a23064d",
    "deepnote_cell_type": "markdown"
   }
  },
  {
   "cell_type": "markdown",
   "source": "",
   "metadata": {
    "tags": [],
    "cell_id": "00014-fac85283-01f4-453a-92e3-15d3deccd1c4",
    "deepnote_cell_type": "markdown"
   }
  },
  {
   "cell_type": "code",
   "metadata": {
    "tags": [],
    "cell_id": "00015-af72fc88-2b52-4189-ac14-5a2f1c2aed83",
    "deepnote_to_be_reexecuted": false,
    "source_hash": "a58a74a",
    "execution_start": 1630627907276,
    "execution_millis": 1,
    "deepnote_cell_type": "code"
   },
   "source": "df['user_rating'].unique()",
   "execution_count": null,
   "outputs": [
    {
     "output_type": "execute_result",
     "execution_count": 5,
     "data": {
      "text/plain": "array(['Very Good', 'Excellent', 'Poor', 'Good', 'Average', 'Not rated'],\n      dtype=object)"
     },
     "metadata": {}
    }
   ]
  },
  {
   "cell_type": "code",
   "metadata": {
    "tags": [],
    "cell_id": "00016-65a162d1-bf3d-47f6-a148-051439688b74",
    "deepnote_to_be_reexecuted": false,
    "source_hash": "4fd26bde",
    "execution_start": 1630627931952,
    "execution_millis": 42,
    "deepnote_cell_type": "code"
   },
   "source": "pd.crosstab(df['price_range'],df['user_rating'])",
   "execution_count": null,
   "outputs": [
    {
     "output_type": "execute_result",
     "execution_count": 6,
     "data": {
      "application/vnd.deepnote.dataframe.v2+json": {
       "row_count": 4,
       "column_count": 6,
       "columns": [
        {
         "name": "Average",
         "dtype": "int64",
         "stats": {
          "unique_count": 4,
          "nan_count": 0,
          "min": "12",
          "max": "47",
          "histogram": [
           {
            "bin_start": 12,
            "bin_end": 15.5,
            "count": 1
           },
           {
            "bin_start": 15.5,
            "bin_end": 19,
            "count": 0
           },
           {
            "bin_start": 19,
            "bin_end": 22.5,
            "count": 1
           },
           {
            "bin_start": 22.5,
            "bin_end": 26,
            "count": 0
           },
           {
            "bin_start": 26,
            "bin_end": 29.5,
            "count": 0
           },
           {
            "bin_start": 29.5,
            "bin_end": 33,
            "count": 0
           },
           {
            "bin_start": 33,
            "bin_end": 36.5,
            "count": 0
           },
           {
            "bin_start": 36.5,
            "bin_end": 40,
            "count": 0
           },
           {
            "bin_start": 40,
            "bin_end": 43.5,
            "count": 1
           },
           {
            "bin_start": 43.5,
            "bin_end": 47,
            "count": 1
           }
          ]
         }
        },
        {
         "name": "Excellent",
         "dtype": "int64",
         "stats": {
          "unique_count": 4,
          "nan_count": 0,
          "min": "9",
          "max": "84",
          "histogram": [
           {
            "bin_start": 9,
            "bin_end": 16.5,
            "count": 1
           },
           {
            "bin_start": 16.5,
            "bin_end": 24,
            "count": 0
           },
           {
            "bin_start": 24,
            "bin_end": 31.5,
            "count": 0
           },
           {
            "bin_start": 31.5,
            "bin_end": 39,
            "count": 1
           },
           {
            "bin_start": 39,
            "bin_end": 46.5,
            "count": 0
           },
           {
            "bin_start": 46.5,
            "bin_end": 54,
            "count": 0
           },
           {
            "bin_start": 54,
            "bin_end": 61.5,
            "count": 0
           },
           {
            "bin_start": 61.5,
            "bin_end": 69,
            "count": 1
           },
           {
            "bin_start": 69,
            "bin_end": 76.5,
            "count": 0
           },
           {
            "bin_start": 76.5,
            "bin_end": 84,
            "count": 1
           }
          ]
         }
        },
        {
         "name": "Good",
         "dtype": "int64",
         "stats": {
          "unique_count": 4,
          "nan_count": 0,
          "min": "33",
          "max": "141",
          "histogram": [
           {
            "bin_start": 33,
            "bin_end": 43.8,
            "count": 1
           },
           {
            "bin_start": 43.8,
            "bin_end": 54.6,
            "count": 0
           },
           {
            "bin_start": 54.6,
            "bin_end": 65.4,
            "count": 1
           },
           {
            "bin_start": 65.4,
            "bin_end": 76.2,
            "count": 0
           },
           {
            "bin_start": 76.2,
            "bin_end": 87,
            "count": 0
           },
           {
            "bin_start": 87,
            "bin_end": 97.80000000000001,
            "count": 0
           },
           {
            "bin_start": 97.80000000000001,
            "bin_end": 108.60000000000001,
            "count": 0
           },
           {
            "bin_start": 108.60000000000001,
            "bin_end": 119.4,
            "count": 1
           },
           {
            "bin_start": 119.4,
            "bin_end": 130.2,
            "count": 0
           },
           {
            "bin_start": 130.2,
            "bin_end": 141,
            "count": 1
           }
          ]
         }
        },
        {
         "name": "Not rated",
         "dtype": "int64",
         "stats": {
          "unique_count": 3,
          "nan_count": 0,
          "min": "1",
          "max": "19",
          "histogram": [
           {
            "bin_start": 1,
            "bin_end": 2.8,
            "count": 1
           },
           {
            "bin_start": 2.8,
            "bin_end": 4.6,
            "count": 2
           },
           {
            "bin_start": 4.6,
            "bin_end": 6.4,
            "count": 0
           },
           {
            "bin_start": 6.4,
            "bin_end": 8.2,
            "count": 0
           },
           {
            "bin_start": 8.2,
            "bin_end": 10,
            "count": 0
           },
           {
            "bin_start": 10,
            "bin_end": 11.8,
            "count": 0
           },
           {
            "bin_start": 11.8,
            "bin_end": 13.6,
            "count": 0
           },
           {
            "bin_start": 13.6,
            "bin_end": 15.4,
            "count": 0
           },
           {
            "bin_start": 15.4,
            "bin_end": 17.2,
            "count": 0
           },
           {
            "bin_start": 17.2,
            "bin_end": 19,
            "count": 1
           }
          ]
         }
        },
        {
         "name": "Poor",
         "dtype": "int64",
         "stats": {
          "unique_count": 3,
          "nan_count": 0,
          "min": "0",
          "max": "2",
          "histogram": [
           {
            "bin_start": 0,
            "bin_end": 0.2,
            "count": 1
           },
           {
            "bin_start": 0.2,
            "bin_end": 0.4,
            "count": 0
           },
           {
            "bin_start": 0.4,
            "bin_end": 0.6000000000000001,
            "count": 0
           },
           {
            "bin_start": 0.6000000000000001,
            "bin_end": 0.8,
            "count": 0
           },
           {
            "bin_start": 0.8,
            "bin_end": 1,
            "count": 0
           },
           {
            "bin_start": 1,
            "bin_end": 1.2000000000000002,
            "count": 1
           },
           {
            "bin_start": 1.2000000000000002,
            "bin_end": 1.4000000000000001,
            "count": 0
           },
           {
            "bin_start": 1.4000000000000001,
            "bin_end": 1.6,
            "count": 0
           },
           {
            "bin_start": 1.6,
            "bin_end": 1.8,
            "count": 0
           },
           {
            "bin_start": 1.8,
            "bin_end": 2,
            "count": 2
           }
          ]
         }
        },
        {
         "name": "Very Good",
         "dtype": "int64",
         "stats": {
          "unique_count": 4,
          "nan_count": 0,
          "min": "19",
          "max": "218",
          "histogram": [
           {
            "bin_start": 19,
            "bin_end": 38.9,
            "count": 1
           },
           {
            "bin_start": 38.9,
            "bin_end": 58.8,
            "count": 0
           },
           {
            "bin_start": 58.8,
            "bin_end": 78.69999999999999,
            "count": 0
           },
           {
            "bin_start": 78.69999999999999,
            "bin_end": 98.6,
            "count": 0
           },
           {
            "bin_start": 98.6,
            "bin_end": 118.5,
            "count": 0
           },
           {
            "bin_start": 118.5,
            "bin_end": 138.39999999999998,
            "count": 2
           },
           {
            "bin_start": 138.39999999999998,
            "bin_end": 158.29999999999998,
            "count": 0
           },
           {
            "bin_start": 158.29999999999998,
            "bin_end": 178.2,
            "count": 0
           },
           {
            "bin_start": 178.2,
            "bin_end": 198.1,
            "count": 0
           },
           {
            "bin_start": 198.1,
            "bin_end": 218,
            "count": 1
           }
          ]
         }
        },
        {
         "name": "_deepnote_index_column",
         "dtype": "int64"
        }
       ],
       "rows_top": [
        {
         "Average": 12,
         "Excellent": 9,
         "Good": 33,
         "Not rated": 1,
         "Poor": 0,
         "Very Good": 19,
         "_deepnote_index_column": 1
        },
        {
         "Average": 47,
         "Excellent": 37,
         "Good": 116,
         "Not rated": 3,
         "Poor": 2,
         "Very Good": 132,
         "_deepnote_index_column": 2
        },
        {
         "Average": 41,
         "Excellent": 84,
         "Good": 141,
         "Not rated": 3,
         "Poor": 1,
         "Very Good": 218,
         "_deepnote_index_column": 3
        },
        {
         "Average": 19,
         "Excellent": 64,
         "Good": 56,
         "Not rated": 19,
         "Poor": 2,
         "Very Good": 121,
         "_deepnote_index_column": 4
        }
       ],
       "rows_bottom": null
      },
      "text/plain": "user_rating  Average  Excellent  Good  Not rated  Poor  Very Good\nprice_range                                                      \n1                 12          9    33          1     0         19\n2                 47         37   116          3     2        132\n3                 41         84   141          3     1        218\n4                 19         64    56         19     2        121",
      "text/html": "<div>\n<style scoped>\n    .dataframe tbody tr th:only-of-type {\n        vertical-align: middle;\n    }\n\n    .dataframe tbody tr th {\n        vertical-align: top;\n    }\n\n    .dataframe thead th {\n        text-align: right;\n    }\n</style>\n<table border=\"1\" class=\"dataframe\">\n  <thead>\n    <tr style=\"text-align: right;\">\n      <th>user_rating</th>\n      <th>Average</th>\n      <th>Excellent</th>\n      <th>Good</th>\n      <th>Not rated</th>\n      <th>Poor</th>\n      <th>Very Good</th>\n    </tr>\n    <tr>\n      <th>price_range</th>\n      <th></th>\n      <th></th>\n      <th></th>\n      <th></th>\n      <th></th>\n      <th></th>\n    </tr>\n  </thead>\n  <tbody>\n    <tr>\n      <th>1</th>\n      <td>12</td>\n      <td>9</td>\n      <td>33</td>\n      <td>1</td>\n      <td>0</td>\n      <td>19</td>\n    </tr>\n    <tr>\n      <th>2</th>\n      <td>47</td>\n      <td>37</td>\n      <td>116</td>\n      <td>3</td>\n      <td>2</td>\n      <td>132</td>\n    </tr>\n    <tr>\n      <th>3</th>\n      <td>41</td>\n      <td>84</td>\n      <td>141</td>\n      <td>3</td>\n      <td>1</td>\n      <td>218</td>\n    </tr>\n    <tr>\n      <th>4</th>\n      <td>19</td>\n      <td>64</td>\n      <td>56</td>\n      <td>19</td>\n      <td>2</td>\n      <td>121</td>\n    </tr>\n  </tbody>\n</table>\n</div>"
     },
     "metadata": {}
    }
   ]
  },
  {
   "cell_type": "code",
   "metadata": {
    "tags": [],
    "cell_id": "00017-1eaebbf4-d424-4835-9857-854ac3a6611f",
    "deepnote_to_be_reexecuted": false,
    "source_hash": "63534a68",
    "execution_start": 1630628000959,
    "execution_millis": 63,
    "deepnote_cell_type": "code"
   },
   "source": "pd.crosstab(df['price_range'],df['user_rating'], margins=True,margins_name=\"total\")\n",
   "execution_count": null,
   "outputs": [
    {
     "output_type": "execute_result",
     "execution_count": 7,
     "data": {
      "application/vnd.deepnote.dataframe.v2+json": {
       "row_count": 5,
       "column_count": 7,
       "columns": [
        {
         "name": "Average",
         "dtype": "int64",
         "stats": {
          "unique_count": 5,
          "nan_count": 0,
          "min": "12",
          "max": "119",
          "histogram": [
           {
            "bin_start": 12,
            "bin_end": 22.7,
            "count": 2
           },
           {
            "bin_start": 22.7,
            "bin_end": 33.4,
            "count": 0
           },
           {
            "bin_start": 33.4,
            "bin_end": 44.099999999999994,
            "count": 1
           },
           {
            "bin_start": 44.099999999999994,
            "bin_end": 54.8,
            "count": 1
           },
           {
            "bin_start": 54.8,
            "bin_end": 65.5,
            "count": 0
           },
           {
            "bin_start": 65.5,
            "bin_end": 76.19999999999999,
            "count": 0
           },
           {
            "bin_start": 76.19999999999999,
            "bin_end": 86.89999999999999,
            "count": 0
           },
           {
            "bin_start": 86.89999999999999,
            "bin_end": 97.6,
            "count": 0
           },
           {
            "bin_start": 97.6,
            "bin_end": 108.3,
            "count": 0
           },
           {
            "bin_start": 108.3,
            "bin_end": 119,
            "count": 1
           }
          ]
         }
        },
        {
         "name": "Excellent",
         "dtype": "int64",
         "stats": {
          "unique_count": 5,
          "nan_count": 0,
          "min": "9",
          "max": "194",
          "histogram": [
           {
            "bin_start": 9,
            "bin_end": 27.5,
            "count": 1
           },
           {
            "bin_start": 27.5,
            "bin_end": 46,
            "count": 1
           },
           {
            "bin_start": 46,
            "bin_end": 64.5,
            "count": 1
           },
           {
            "bin_start": 64.5,
            "bin_end": 83,
            "count": 0
           },
           {
            "bin_start": 83,
            "bin_end": 101.5,
            "count": 1
           },
           {
            "bin_start": 101.5,
            "bin_end": 120,
            "count": 0
           },
           {
            "bin_start": 120,
            "bin_end": 138.5,
            "count": 0
           },
           {
            "bin_start": 138.5,
            "bin_end": 157,
            "count": 0
           },
           {
            "bin_start": 157,
            "bin_end": 175.5,
            "count": 0
           },
           {
            "bin_start": 175.5,
            "bin_end": 194,
            "count": 1
           }
          ]
         }
        },
        {
         "name": "Good",
         "dtype": "int64",
         "stats": {
          "unique_count": 5,
          "nan_count": 0,
          "min": "33",
          "max": "346",
          "histogram": [
           {
            "bin_start": 33,
            "bin_end": 64.3,
            "count": 2
           },
           {
            "bin_start": 64.3,
            "bin_end": 95.6,
            "count": 0
           },
           {
            "bin_start": 95.6,
            "bin_end": 126.9,
            "count": 1
           },
           {
            "bin_start": 126.9,
            "bin_end": 158.2,
            "count": 1
           },
           {
            "bin_start": 158.2,
            "bin_end": 189.5,
            "count": 0
           },
           {
            "bin_start": 189.5,
            "bin_end": 220.8,
            "count": 0
           },
           {
            "bin_start": 220.8,
            "bin_end": 252.1,
            "count": 0
           },
           {
            "bin_start": 252.1,
            "bin_end": 283.4,
            "count": 0
           },
           {
            "bin_start": 283.4,
            "bin_end": 314.7,
            "count": 0
           },
           {
            "bin_start": 314.7,
            "bin_end": 346,
            "count": 1
           }
          ]
         }
        },
        {
         "name": "Not rated",
         "dtype": "int64",
         "stats": {
          "unique_count": 4,
          "nan_count": 0,
          "min": "1",
          "max": "26",
          "histogram": [
           {
            "bin_start": 1,
            "bin_end": 3.5,
            "count": 3
           },
           {
            "bin_start": 3.5,
            "bin_end": 6,
            "count": 0
           },
           {
            "bin_start": 6,
            "bin_end": 8.5,
            "count": 0
           },
           {
            "bin_start": 8.5,
            "bin_end": 11,
            "count": 0
           },
           {
            "bin_start": 11,
            "bin_end": 13.5,
            "count": 0
           },
           {
            "bin_start": 13.5,
            "bin_end": 16,
            "count": 0
           },
           {
            "bin_start": 16,
            "bin_end": 18.5,
            "count": 0
           },
           {
            "bin_start": 18.5,
            "bin_end": 21,
            "count": 1
           },
           {
            "bin_start": 21,
            "bin_end": 23.5,
            "count": 0
           },
           {
            "bin_start": 23.5,
            "bin_end": 26,
            "count": 1
           }
          ]
         }
        },
        {
         "name": "Poor",
         "dtype": "int64",
         "stats": {
          "unique_count": 4,
          "nan_count": 0,
          "min": "0",
          "max": "5",
          "histogram": [
           {
            "bin_start": 0,
            "bin_end": 0.5,
            "count": 1
           },
           {
            "bin_start": 0.5,
            "bin_end": 1,
            "count": 0
           },
           {
            "bin_start": 1,
            "bin_end": 1.5,
            "count": 1
           },
           {
            "bin_start": 1.5,
            "bin_end": 2,
            "count": 0
           },
           {
            "bin_start": 2,
            "bin_end": 2.5,
            "count": 2
           },
           {
            "bin_start": 2.5,
            "bin_end": 3,
            "count": 0
           },
           {
            "bin_start": 3,
            "bin_end": 3.5,
            "count": 0
           },
           {
            "bin_start": 3.5,
            "bin_end": 4,
            "count": 0
           },
           {
            "bin_start": 4,
            "bin_end": 4.5,
            "count": 0
           },
           {
            "bin_start": 4.5,
            "bin_end": 5,
            "count": 1
           }
          ]
         }
        },
        {
         "name": "Very Good",
         "dtype": "int64",
         "stats": {
          "unique_count": 5,
          "nan_count": 0,
          "min": "19",
          "max": "490",
          "histogram": [
           {
            "bin_start": 19,
            "bin_end": 66.1,
            "count": 1
           },
           {
            "bin_start": 66.1,
            "bin_end": 113.2,
            "count": 0
           },
           {
            "bin_start": 113.2,
            "bin_end": 160.3,
            "count": 2
           },
           {
            "bin_start": 160.3,
            "bin_end": 207.4,
            "count": 0
           },
           {
            "bin_start": 207.4,
            "bin_end": 254.5,
            "count": 1
           },
           {
            "bin_start": 254.5,
            "bin_end": 301.6,
            "count": 0
           },
           {
            "bin_start": 301.6,
            "bin_end": 348.7,
            "count": 0
           },
           {
            "bin_start": 348.7,
            "bin_end": 395.8,
            "count": 0
           },
           {
            "bin_start": 395.8,
            "bin_end": 442.90000000000003,
            "count": 0
           },
           {
            "bin_start": 442.90000000000003,
            "bin_end": 490,
            "count": 1
           }
          ]
         }
        },
        {
         "name": "total",
         "dtype": "int64",
         "stats": {
          "unique_count": 5,
          "nan_count": 0,
          "min": "74",
          "max": "1180",
          "histogram": [
           {
            "bin_start": 74,
            "bin_end": 184.6,
            "count": 1
           },
           {
            "bin_start": 184.6,
            "bin_end": 295.2,
            "count": 1
           },
           {
            "bin_start": 295.2,
            "bin_end": 405.79999999999995,
            "count": 1
           },
           {
            "bin_start": 405.79999999999995,
            "bin_end": 516.4,
            "count": 1
           },
           {
            "bin_start": 516.4,
            "bin_end": 627,
            "count": 0
           },
           {
            "bin_start": 627,
            "bin_end": 737.5999999999999,
            "count": 0
           },
           {
            "bin_start": 737.5999999999999,
            "bin_end": 848.1999999999999,
            "count": 0
           },
           {
            "bin_start": 848.1999999999999,
            "bin_end": 958.8,
            "count": 0
           },
           {
            "bin_start": 958.8,
            "bin_end": 1069.4,
            "count": 0
           },
           {
            "bin_start": 1069.4,
            "bin_end": 1180,
            "count": 1
           }
          ]
         }
        },
        {
         "name": "_deepnote_index_column",
         "dtype": "object"
        }
       ],
       "rows_top": [
        {
         "Average": 12,
         "Excellent": 9,
         "Good": 33,
         "Not rated": 1,
         "Poor": 0,
         "Very Good": 19,
         "total": 74,
         "_deepnote_index_column": "1"
        },
        {
         "Average": 47,
         "Excellent": 37,
         "Good": 116,
         "Not rated": 3,
         "Poor": 2,
         "Very Good": 132,
         "total": 337,
         "_deepnote_index_column": "2"
        },
        {
         "Average": 41,
         "Excellent": 84,
         "Good": 141,
         "Not rated": 3,
         "Poor": 1,
         "Very Good": 218,
         "total": 488,
         "_deepnote_index_column": "3"
        },
        {
         "Average": 19,
         "Excellent": 64,
         "Good": 56,
         "Not rated": 19,
         "Poor": 2,
         "Very Good": 121,
         "total": 281,
         "_deepnote_index_column": "4"
        },
        {
         "Average": 119,
         "Excellent": 194,
         "Good": 346,
         "Not rated": 26,
         "Poor": 5,
         "Very Good": 490,
         "total": 1180,
         "_deepnote_index_column": "total"
        }
       ],
       "rows_bottom": null
      },
      "text/plain": "user_rating  Average  Excellent  Good  Not rated  Poor  Very Good  total\nprice_range                                                             \n1                 12          9    33          1     0         19     74\n2                 47         37   116          3     2        132    337\n3                 41         84   141          3     1        218    488\n4                 19         64    56         19     2        121    281\ntotal            119        194   346         26     5        490   1180",
      "text/html": "<div>\n<style scoped>\n    .dataframe tbody tr th:only-of-type {\n        vertical-align: middle;\n    }\n\n    .dataframe tbody tr th {\n        vertical-align: top;\n    }\n\n    .dataframe thead th {\n        text-align: right;\n    }\n</style>\n<table border=\"1\" class=\"dataframe\">\n  <thead>\n    <tr style=\"text-align: right;\">\n      <th>user_rating</th>\n      <th>Average</th>\n      <th>Excellent</th>\n      <th>Good</th>\n      <th>Not rated</th>\n      <th>Poor</th>\n      <th>Very Good</th>\n      <th>total</th>\n    </tr>\n    <tr>\n      <th>price_range</th>\n      <th></th>\n      <th></th>\n      <th></th>\n      <th></th>\n      <th></th>\n      <th></th>\n      <th></th>\n    </tr>\n  </thead>\n  <tbody>\n    <tr>\n      <th>1</th>\n      <td>12</td>\n      <td>9</td>\n      <td>33</td>\n      <td>1</td>\n      <td>0</td>\n      <td>19</td>\n      <td>74</td>\n    </tr>\n    <tr>\n      <th>2</th>\n      <td>47</td>\n      <td>37</td>\n      <td>116</td>\n      <td>3</td>\n      <td>2</td>\n      <td>132</td>\n      <td>337</td>\n    </tr>\n    <tr>\n      <th>3</th>\n      <td>41</td>\n      <td>84</td>\n      <td>141</td>\n      <td>3</td>\n      <td>1</td>\n      <td>218</td>\n      <td>488</td>\n    </tr>\n    <tr>\n      <th>4</th>\n      <td>19</td>\n      <td>64</td>\n      <td>56</td>\n      <td>19</td>\n      <td>2</td>\n      <td>121</td>\n      <td>281</td>\n    </tr>\n    <tr>\n      <th>total</th>\n      <td>119</td>\n      <td>194</td>\n      <td>346</td>\n      <td>26</td>\n      <td>5</td>\n      <td>490</td>\n      <td>1180</td>\n    </tr>\n  </tbody>\n</table>\n</div>"
     },
     "metadata": {}
    }
   ]
  },
  {
   "cell_type": "code",
   "metadata": {
    "tags": [],
    "cell_id": "00018-5e9b1a9f-014f-4715-b630-e84acb9a5ef0",
    "deepnote_to_be_reexecuted": false,
    "source_hash": "e13a5306",
    "execution_start": 1630628513933,
    "execution_millis": 74,
    "deepnote_cell_type": "code"
   },
   "source": "#Multivariable\nc = pd.crosstab(df['price_range'],[df['has_online_delivery'],df['user_rating']], margins=True,margins_name=\"Total\")\npd.crosstab(df['price_range'], [df['has_online_delivery'], df['user_rating']], margins=True, margins_name='total')\nc.stack(1)",
   "execution_count": null,
   "outputs": [
    {
     "output_type": "execute_result",
     "execution_count": 15,
     "data": {
      "application/vnd.deepnote.dataframe.v2+json": {
       "row_count": 35,
       "column_count": 3,
       "columns": [
        {
         "name": 0,
         "dtype": "float64",
         "stats": {
          "unique_count": 26,
          "nan_count": 5,
          "min": "0.0",
          "max": "410.0",
          "histogram": [
           {
            "bin_start": 0,
            "bin_end": 41,
            "count": 17
           },
           {
            "bin_start": 41,
            "bin_end": 82,
            "count": 4
           },
           {
            "bin_start": 82,
            "bin_end": 123,
            "count": 4
           },
           {
            "bin_start": 123,
            "bin_end": 164,
            "count": 1
           },
           {
            "bin_start": 164,
            "bin_end": 205,
            "count": 2
           },
           {
            "bin_start": 205,
            "bin_end": 246,
            "count": 0
           },
           {
            "bin_start": 246,
            "bin_end": 287,
            "count": 0
           },
           {
            "bin_start": 287,
            "bin_end": 328,
            "count": 1
           },
           {
            "bin_start": 328,
            "bin_end": 369,
            "count": 0
           },
           {
            "bin_start": 369,
            "bin_end": 410,
            "count": 1
           }
          ]
         }
        },
        {
         "name": 1,
         "dtype": "float64",
         "stats": {
          "unique_count": 14,
          "nan_count": 10,
          "min": "0.0",
          "max": "80.0",
          "histogram": [
           {
            "bin_start": 0,
            "bin_end": 8,
            "count": 16
           },
           {
            "bin_start": 8,
            "bin_end": 16,
            "count": 4
           },
           {
            "bin_start": 16,
            "bin_end": 24,
            "count": 0
           },
           {
            "bin_start": 24,
            "bin_end": 32,
            "count": 2
           },
           {
            "bin_start": 32,
            "bin_end": 40,
            "count": 2
           },
           {
            "bin_start": 40,
            "bin_end": 48,
            "count": 0
           },
           {
            "bin_start": 48,
            "bin_end": 56,
            "count": 0
           },
           {
            "bin_start": 56,
            "bin_end": 64,
            "count": 0
           },
           {
            "bin_start": 64,
            "bin_end": 72,
            "count": 0
           },
           {
            "bin_start": 72,
            "bin_end": 80,
            "count": 1
           }
          ]
         }
        },
        {
         "name": "Total",
         "dtype": "float64",
         "stats": {
          "unique_count": 5,
          "nan_count": 30,
          "min": "74.0",
          "max": "1180.0",
          "histogram": [
           {
            "bin_start": 74,
            "bin_end": 184.6,
            "count": 1
           },
           {
            "bin_start": 184.6,
            "bin_end": 295.2,
            "count": 1
           },
           {
            "bin_start": 295.2,
            "bin_end": 405.79999999999995,
            "count": 1
           },
           {
            "bin_start": 405.79999999999995,
            "bin_end": 516.4,
            "count": 1
           },
           {
            "bin_start": 516.4,
            "bin_end": 627,
            "count": 0
           },
           {
            "bin_start": 627,
            "bin_end": 737.5999999999999,
            "count": 0
           },
           {
            "bin_start": 737.5999999999999,
            "bin_end": 848.1999999999999,
            "count": 0
           },
           {
            "bin_start": 848.1999999999999,
            "bin_end": 958.8,
            "count": 0
           },
           {
            "bin_start": 958.8,
            "bin_end": 1069.4,
            "count": 0
           },
           {
            "bin_start": 1069.4,
            "bin_end": 1180,
            "count": 1
           }
          ]
         }
        },
        {
         "name": "_deepnote_index_column",
         "dtype": "object"
        }
       ],
       "rows_top": [
        {
         "0": "nan",
         "1": "nan",
         "Total": 74,
         "_deepnote_index_column": "(1, '')"
        },
        {
         "0": 12,
         "1": 0,
         "Total": "nan",
         "_deepnote_index_column": "(1, 'Average')"
        },
        {
         "0": 8,
         "1": 1,
         "Total": "nan",
         "_deepnote_index_column": "(1, 'Excellent')"
        },
        {
         "0": 32,
         "1": 1,
         "Total": "nan",
         "_deepnote_index_column": "(1, 'Good')"
        },
        {
         "0": 1,
         "1": "nan",
         "Total": "nan",
         "_deepnote_index_column": "(1, 'Not rated')"
        },
        {
         "0": 0,
         "1": 0,
         "Total": "nan",
         "_deepnote_index_column": "(1, 'Poor')"
        },
        {
         "0": 15,
         "1": 4,
         "Total": "nan",
         "_deepnote_index_column": "(1, 'Very Good')"
        },
        {
         "0": "nan",
         "1": "nan",
         "Total": 337,
         "_deepnote_index_column": "(2, '')"
        },
        {
         "0": 47,
         "1": 0,
         "Total": "nan",
         "_deepnote_index_column": "(2, 'Average')"
        },
        {
         "0": 30,
         "1": 7,
         "Total": "nan",
         "_deepnote_index_column": "(2, 'Excellent')"
        },
        {
         "0": 104,
         "1": 12,
         "Total": "nan",
         "_deepnote_index_column": "(2, 'Good')"
        },
        {
         "0": 3,
         "1": "nan",
         "Total": "nan",
         "_deepnote_index_column": "(2, 'Not rated')"
        },
        {
         "0": 1,
         "1": 1,
         "Total": "nan",
         "_deepnote_index_column": "(2, 'Poor')"
        },
        {
         "0": 99,
         "1": 33,
         "Total": "nan",
         "_deepnote_index_column": "(2, 'Very Good')"
        },
        {
         "0": "nan",
         "1": "nan",
         "Total": 488,
         "_deepnote_index_column": "(3, '')"
        },
        {
         "0": 40,
         "1": 1,
         "Total": "nan",
         "_deepnote_index_column": "(3, 'Average')"
        },
        {
         "0": 70,
         "1": 14,
         "Total": "nan",
         "_deepnote_index_column": "(3, 'Excellent')"
        },
        {
         "0": 132,
         "1": 9,
         "Total": "nan",
         "_deepnote_index_column": "(3, 'Good')"
        },
        {
         "0": 3,
         "1": "nan",
         "Total": "nan",
         "_deepnote_index_column": "(3, 'Not rated')"
        },
        {
         "0": 1,
         "1": 0,
         "Total": "nan",
         "_deepnote_index_column": "(3, 'Poor')"
        },
        {
         "0": 183,
         "1": 35,
         "Total": "nan",
         "_deepnote_index_column": "(3, 'Very Good')"
        },
        {
         "0": "nan",
         "1": "nan",
         "Total": 281,
         "_deepnote_index_column": "(4, '')"
        },
        {
         "0": 19,
         "1": 0,
         "Total": "nan",
         "_deepnote_index_column": "(4, 'Average')"
        },
        {
         "0": 61,
         "1": 3,
         "Total": "nan",
         "_deepnote_index_column": "(4, 'Excellent')"
        },
        {
         "0": 52,
         "1": 4,
         "Total": "nan",
         "_deepnote_index_column": "(4, 'Good')"
        },
        {
         "0": 19,
         "1": "nan",
         "Total": "nan",
         "_deepnote_index_column": "(4, 'Not rated')"
        },
        {
         "0": 2,
         "1": 0,
         "Total": "nan",
         "_deepnote_index_column": "(4, 'Poor')"
        },
        {
         "0": 113,
         "1": 8,
         "Total": "nan",
         "_deepnote_index_column": "(4, 'Very Good')"
        },
        {
         "0": "nan",
         "1": "nan",
         "Total": 1180,
         "_deepnote_index_column": "('Total', '')"
        },
        {
         "0": 118,
         "1": 1,
         "Total": "nan",
         "_deepnote_index_column": "('Total', 'Average')"
        },
        {
         "0": 169,
         "1": 25,
         "Total": "nan",
         "_deepnote_index_column": "('Total', 'Excellent')"
        },
        {
         "0": 320,
         "1": 26,
         "Total": "nan",
         "_deepnote_index_column": "('Total', 'Good')"
        },
        {
         "0": 26,
         "1": "nan",
         "Total": "nan",
         "_deepnote_index_column": "('Total', 'Not rated')"
        },
        {
         "0": 4,
         "1": 1,
         "Total": "nan",
         "_deepnote_index_column": "('Total', 'Poor')"
        },
        {
         "0": 410,
         "1": 80,
         "Total": "nan",
         "_deepnote_index_column": "('Total', 'Very Good')"
        }
       ],
       "rows_bottom": null
      },
      "text/plain": "has_online_delivery          0     1   Total\nprice_range user_rating                     \n1                          NaN   NaN    74.0\n            Average       12.0   0.0     NaN\n            Excellent      8.0   1.0     NaN\n            Good          32.0   1.0     NaN\n            Not rated      1.0   NaN     NaN\n            Poor           0.0   0.0     NaN\n            Very Good     15.0   4.0     NaN\n2                          NaN   NaN   337.0\n            Average       47.0   0.0     NaN\n            Excellent     30.0   7.0     NaN\n            Good         104.0  12.0     NaN\n            Not rated      3.0   NaN     NaN\n            Poor           1.0   1.0     NaN\n            Very Good     99.0  33.0     NaN\n3                          NaN   NaN   488.0\n            Average       40.0   1.0     NaN\n            Excellent     70.0  14.0     NaN\n            Good         132.0   9.0     NaN\n            Not rated      3.0   NaN     NaN\n            Poor           1.0   0.0     NaN\n            Very Good    183.0  35.0     NaN\n4                          NaN   NaN   281.0\n            Average       19.0   0.0     NaN\n            Excellent     61.0   3.0     NaN\n            Good          52.0   4.0     NaN\n            Not rated     19.0   NaN     NaN\n            Poor           2.0   0.0     NaN\n            Very Good    113.0   8.0     NaN\nTotal                      NaN   NaN  1180.0\n            Average      118.0   1.0     NaN\n            Excellent    169.0  25.0     NaN\n            Good         320.0  26.0     NaN\n            Not rated     26.0   NaN     NaN\n            Poor           4.0   1.0     NaN\n            Very Good    410.0  80.0     NaN",
      "text/html": "<div>\n<style scoped>\n    .dataframe tbody tr th:only-of-type {\n        vertical-align: middle;\n    }\n\n    .dataframe tbody tr th {\n        vertical-align: top;\n    }\n\n    .dataframe thead th {\n        text-align: right;\n    }\n</style>\n<table border=\"1\" class=\"dataframe\">\n  <thead>\n    <tr style=\"text-align: right;\">\n      <th></th>\n      <th>has_online_delivery</th>\n      <th>0</th>\n      <th>1</th>\n      <th>Total</th>\n    </tr>\n    <tr>\n      <th>price_range</th>\n      <th>user_rating</th>\n      <th></th>\n      <th></th>\n      <th></th>\n    </tr>\n  </thead>\n  <tbody>\n    <tr>\n      <th rowspan=\"7\" valign=\"top\">1</th>\n      <th></th>\n      <td>NaN</td>\n      <td>NaN</td>\n      <td>74.0</td>\n    </tr>\n    <tr>\n      <th>Average</th>\n      <td>12.0</td>\n      <td>0.0</td>\n      <td>NaN</td>\n    </tr>\n    <tr>\n      <th>Excellent</th>\n      <td>8.0</td>\n      <td>1.0</td>\n      <td>NaN</td>\n    </tr>\n    <tr>\n      <th>Good</th>\n      <td>32.0</td>\n      <td>1.0</td>\n      <td>NaN</td>\n    </tr>\n    <tr>\n      <th>Not rated</th>\n      <td>1.0</td>\n      <td>NaN</td>\n      <td>NaN</td>\n    </tr>\n    <tr>\n      <th>Poor</th>\n      <td>0.0</td>\n      <td>0.0</td>\n      <td>NaN</td>\n    </tr>\n    <tr>\n      <th>Very Good</th>\n      <td>15.0</td>\n      <td>4.0</td>\n      <td>NaN</td>\n    </tr>\n    <tr>\n      <th rowspan=\"7\" valign=\"top\">2</th>\n      <th></th>\n      <td>NaN</td>\n      <td>NaN</td>\n      <td>337.0</td>\n    </tr>\n    <tr>\n      <th>Average</th>\n      <td>47.0</td>\n      <td>0.0</td>\n      <td>NaN</td>\n    </tr>\n    <tr>\n      <th>Excellent</th>\n      <td>30.0</td>\n      <td>7.0</td>\n      <td>NaN</td>\n    </tr>\n    <tr>\n      <th>Good</th>\n      <td>104.0</td>\n      <td>12.0</td>\n      <td>NaN</td>\n    </tr>\n    <tr>\n      <th>Not rated</th>\n      <td>3.0</td>\n      <td>NaN</td>\n      <td>NaN</td>\n    </tr>\n    <tr>\n      <th>Poor</th>\n      <td>1.0</td>\n      <td>1.0</td>\n      <td>NaN</td>\n    </tr>\n    <tr>\n      <th>Very Good</th>\n      <td>99.0</td>\n      <td>33.0</td>\n      <td>NaN</td>\n    </tr>\n    <tr>\n      <th rowspan=\"7\" valign=\"top\">3</th>\n      <th></th>\n      <td>NaN</td>\n      <td>NaN</td>\n      <td>488.0</td>\n    </tr>\n    <tr>\n      <th>Average</th>\n      <td>40.0</td>\n      <td>1.0</td>\n      <td>NaN</td>\n    </tr>\n    <tr>\n      <th>Excellent</th>\n      <td>70.0</td>\n      <td>14.0</td>\n      <td>NaN</td>\n    </tr>\n    <tr>\n      <th>Good</th>\n      <td>132.0</td>\n      <td>9.0</td>\n      <td>NaN</td>\n    </tr>\n    <tr>\n      <th>Not rated</th>\n      <td>3.0</td>\n      <td>NaN</td>\n      <td>NaN</td>\n    </tr>\n    <tr>\n      <th>Poor</th>\n      <td>1.0</td>\n      <td>0.0</td>\n      <td>NaN</td>\n    </tr>\n    <tr>\n      <th>Very Good</th>\n      <td>183.0</td>\n      <td>35.0</td>\n      <td>NaN</td>\n    </tr>\n    <tr>\n      <th rowspan=\"7\" valign=\"top\">4</th>\n      <th></th>\n      <td>NaN</td>\n      <td>NaN</td>\n      <td>281.0</td>\n    </tr>\n    <tr>\n      <th>Average</th>\n      <td>19.0</td>\n      <td>0.0</td>\n      <td>NaN</td>\n    </tr>\n    <tr>\n      <th>Excellent</th>\n      <td>61.0</td>\n      <td>3.0</td>\n      <td>NaN</td>\n    </tr>\n    <tr>\n      <th>Good</th>\n      <td>52.0</td>\n      <td>4.0</td>\n      <td>NaN</td>\n    </tr>\n    <tr>\n      <th>Not rated</th>\n      <td>19.0</td>\n      <td>NaN</td>\n      <td>NaN</td>\n    </tr>\n    <tr>\n      <th>Poor</th>\n      <td>2.0</td>\n      <td>0.0</td>\n      <td>NaN</td>\n    </tr>\n    <tr>\n      <th>Very Good</th>\n      <td>113.0</td>\n      <td>8.0</td>\n      <td>NaN</td>\n    </tr>\n    <tr>\n      <th rowspan=\"7\" valign=\"top\">Total</th>\n      <th></th>\n      <td>NaN</td>\n      <td>NaN</td>\n      <td>1180.0</td>\n    </tr>\n    <tr>\n      <th>Average</th>\n      <td>118.0</td>\n      <td>1.0</td>\n      <td>NaN</td>\n    </tr>\n    <tr>\n      <th>Excellent</th>\n      <td>169.0</td>\n      <td>25.0</td>\n      <td>NaN</td>\n    </tr>\n    <tr>\n      <th>Good</th>\n      <td>320.0</td>\n      <td>26.0</td>\n      <td>NaN</td>\n    </tr>\n    <tr>\n      <th>Not rated</th>\n      <td>26.0</td>\n      <td>NaN</td>\n      <td>NaN</td>\n    </tr>\n    <tr>\n      <th>Poor</th>\n      <td>4.0</td>\n      <td>1.0</td>\n      <td>NaN</td>\n    </tr>\n    <tr>\n      <th>Very Good</th>\n      <td>410.0</td>\n      <td>80.0</td>\n      <td>NaN</td>\n    </tr>\n  </tbody>\n</table>\n</div>"
     },
     "metadata": {}
    }
   ]
  },
  {
   "cell_type": "code",
   "metadata": {
    "tags": [],
    "cell_id": "00019-2a9c377f-27d7-45d3-8d43-f4fa837c5e0f",
    "deepnote_to_be_reexecuted": false,
    "source_hash": "505af8a0",
    "execution_start": 1630628580917,
    "execution_millis": 71,
    "deepnote_cell_type": "code"
   },
   "source": "ca = pd.crosstab(df['price_range'],[df['has_online_delivery'],df['user_rating']])\nca.stack(0)",
   "execution_count": null,
   "outputs": [
    {
     "output_type": "execute_result",
     "execution_count": 17,
     "data": {
      "application/vnd.deepnote.dataframe.v2+json": {
       "row_count": 8,
       "column_count": 6,
       "columns": [
        {
         "name": "Average",
         "dtype": "int64",
         "stats": {
          "unique_count": 6,
          "nan_count": 0,
          "min": "0",
          "max": "47",
          "histogram": [
           {
            "bin_start": 0,
            "bin_end": 4.7,
            "count": 4
           },
           {
            "bin_start": 4.7,
            "bin_end": 9.4,
            "count": 0
           },
           {
            "bin_start": 9.4,
            "bin_end": 14.100000000000001,
            "count": 1
           },
           {
            "bin_start": 14.100000000000001,
            "bin_end": 18.8,
            "count": 0
           },
           {
            "bin_start": 18.8,
            "bin_end": 23.5,
            "count": 1
           },
           {
            "bin_start": 23.5,
            "bin_end": 28.200000000000003,
            "count": 0
           },
           {
            "bin_start": 28.200000000000003,
            "bin_end": 32.9,
            "count": 0
           },
           {
            "bin_start": 32.9,
            "bin_end": 37.6,
            "count": 0
           },
           {
            "bin_start": 37.6,
            "bin_end": 42.300000000000004,
            "count": 1
           },
           {
            "bin_start": 42.300000000000004,
            "bin_end": 47,
            "count": 1
           }
          ]
         }
        },
        {
         "name": "Excellent",
         "dtype": "int64",
         "stats": {
          "unique_count": 8,
          "nan_count": 0,
          "min": "1",
          "max": "70",
          "histogram": [
           {
            "bin_start": 1,
            "bin_end": 7.9,
            "count": 3
           },
           {
            "bin_start": 7.9,
            "bin_end": 14.8,
            "count": 2
           },
           {
            "bin_start": 14.8,
            "bin_end": 21.700000000000003,
            "count": 0
           },
           {
            "bin_start": 21.700000000000003,
            "bin_end": 28.6,
            "count": 0
           },
           {
            "bin_start": 28.6,
            "bin_end": 35.5,
            "count": 1
           },
           {
            "bin_start": 35.5,
            "bin_end": 42.400000000000006,
            "count": 0
           },
           {
            "bin_start": 42.400000000000006,
            "bin_end": 49.300000000000004,
            "count": 0
           },
           {
            "bin_start": 49.300000000000004,
            "bin_end": 56.2,
            "count": 0
           },
           {
            "bin_start": 56.2,
            "bin_end": 63.1,
            "count": 1
           },
           {
            "bin_start": 63.1,
            "bin_end": 70,
            "count": 1
           }
          ]
         }
        },
        {
         "name": "Good",
         "dtype": "int64",
         "stats": {
          "unique_count": 8,
          "nan_count": 0,
          "min": "1",
          "max": "132",
          "histogram": [
           {
            "bin_start": 1,
            "bin_end": 14.1,
            "count": 4
           },
           {
            "bin_start": 14.1,
            "bin_end": 27.2,
            "count": 0
           },
           {
            "bin_start": 27.2,
            "bin_end": 40.3,
            "count": 1
           },
           {
            "bin_start": 40.3,
            "bin_end": 53.4,
            "count": 1
           },
           {
            "bin_start": 53.4,
            "bin_end": 66.5,
            "count": 0
           },
           {
            "bin_start": 66.5,
            "bin_end": 79.6,
            "count": 0
           },
           {
            "bin_start": 79.6,
            "bin_end": 92.7,
            "count": 0
           },
           {
            "bin_start": 92.7,
            "bin_end": 105.8,
            "count": 1
           },
           {
            "bin_start": 105.8,
            "bin_end": 118.89999999999999,
            "count": 0
           },
           {
            "bin_start": 118.89999999999999,
            "bin_end": 132,
            "count": 1
           }
          ]
         }
        },
        {
         "name": "Not rated",
         "dtype": "float64",
         "stats": {
          "unique_count": 3,
          "nan_count": 4,
          "min": "1.0",
          "max": "19.0",
          "histogram": [
           {
            "bin_start": 1,
            "bin_end": 2.8,
            "count": 1
           },
           {
            "bin_start": 2.8,
            "bin_end": 4.6,
            "count": 2
           },
           {
            "bin_start": 4.6,
            "bin_end": 6.4,
            "count": 0
           },
           {
            "bin_start": 6.4,
            "bin_end": 8.2,
            "count": 0
           },
           {
            "bin_start": 8.2,
            "bin_end": 10,
            "count": 0
           },
           {
            "bin_start": 10,
            "bin_end": 11.8,
            "count": 0
           },
           {
            "bin_start": 11.8,
            "bin_end": 13.6,
            "count": 0
           },
           {
            "bin_start": 13.6,
            "bin_end": 15.4,
            "count": 0
           },
           {
            "bin_start": 15.4,
            "bin_end": 17.2,
            "count": 0
           },
           {
            "bin_start": 17.2,
            "bin_end": 19,
            "count": 1
           }
          ]
         }
        },
        {
         "name": "Poor",
         "dtype": "int64",
         "stats": {
          "unique_count": 3,
          "nan_count": 0,
          "min": "0",
          "max": "2",
          "histogram": [
           {
            "bin_start": 0,
            "bin_end": 0.2,
            "count": 4
           },
           {
            "bin_start": 0.2,
            "bin_end": 0.4,
            "count": 0
           },
           {
            "bin_start": 0.4,
            "bin_end": 0.6000000000000001,
            "count": 0
           },
           {
            "bin_start": 0.6000000000000001,
            "bin_end": 0.8,
            "count": 0
           },
           {
            "bin_start": 0.8,
            "bin_end": 1,
            "count": 0
           },
           {
            "bin_start": 1,
            "bin_end": 1.2000000000000002,
            "count": 3
           },
           {
            "bin_start": 1.2000000000000002,
            "bin_end": 1.4000000000000001,
            "count": 0
           },
           {
            "bin_start": 1.4000000000000001,
            "bin_end": 1.6,
            "count": 0
           },
           {
            "bin_start": 1.6,
            "bin_end": 1.8,
            "count": 0
           },
           {
            "bin_start": 1.8,
            "bin_end": 2,
            "count": 1
           }
          ]
         }
        },
        {
         "name": "Very Good",
         "dtype": "int64",
         "stats": {
          "unique_count": 8,
          "nan_count": 0,
          "min": "4",
          "max": "183",
          "histogram": [
           {
            "bin_start": 4,
            "bin_end": 21.9,
            "count": 3
           },
           {
            "bin_start": 21.9,
            "bin_end": 39.8,
            "count": 2
           },
           {
            "bin_start": 39.8,
            "bin_end": 57.699999999999996,
            "count": 0
           },
           {
            "bin_start": 57.699999999999996,
            "bin_end": 75.6,
            "count": 0
           },
           {
            "bin_start": 75.6,
            "bin_end": 93.5,
            "count": 0
           },
           {
            "bin_start": 93.5,
            "bin_end": 111.39999999999999,
            "count": 1
           },
           {
            "bin_start": 111.39999999999999,
            "bin_end": 129.29999999999998,
            "count": 1
           },
           {
            "bin_start": 129.29999999999998,
            "bin_end": 147.2,
            "count": 0
           },
           {
            "bin_start": 147.2,
            "bin_end": 165.1,
            "count": 0
           },
           {
            "bin_start": 165.1,
            "bin_end": 183,
            "count": 1
           }
          ]
         }
        },
        {
         "name": "_deepnote_index_column",
         "dtype": "object"
        }
       ],
       "rows_top": [
        {
         "Average": 12,
         "Excellent": 8,
         "Good": 32,
         "Not rated": 1,
         "Poor": 0,
         "Very Good": 15,
         "_deepnote_index_column": "(1, 0)"
        },
        {
         "Average": 0,
         "Excellent": 1,
         "Good": 1,
         "Not rated": "nan",
         "Poor": 0,
         "Very Good": 4,
         "_deepnote_index_column": "(1, 1)"
        },
        {
         "Average": 47,
         "Excellent": 30,
         "Good": 104,
         "Not rated": 3,
         "Poor": 1,
         "Very Good": 99,
         "_deepnote_index_column": "(2, 0)"
        },
        {
         "Average": 0,
         "Excellent": 7,
         "Good": 12,
         "Not rated": "nan",
         "Poor": 1,
         "Very Good": 33,
         "_deepnote_index_column": "(2, 1)"
        },
        {
         "Average": 40,
         "Excellent": 70,
         "Good": 132,
         "Not rated": 3,
         "Poor": 1,
         "Very Good": 183,
         "_deepnote_index_column": "(3, 0)"
        },
        {
         "Average": 1,
         "Excellent": 14,
         "Good": 9,
         "Not rated": "nan",
         "Poor": 0,
         "Very Good": 35,
         "_deepnote_index_column": "(3, 1)"
        },
        {
         "Average": 19,
         "Excellent": 61,
         "Good": 52,
         "Not rated": 19,
         "Poor": 2,
         "Very Good": 113,
         "_deepnote_index_column": "(4, 0)"
        },
        {
         "Average": 0,
         "Excellent": 3,
         "Good": 4,
         "Not rated": "nan",
         "Poor": 0,
         "Very Good": 8,
         "_deepnote_index_column": "(4, 1)"
        }
       ],
       "rows_bottom": null
      },
      "text/plain": "user_rating                      Average  Excellent  Good  Not rated  Poor  \\\nprice_range has_online_delivery                                              \n1           0                         12          8    32        1.0     0   \n            1                          0          1     1        NaN     0   \n2           0                         47         30   104        3.0     1   \n            1                          0          7    12        NaN     1   \n3           0                         40         70   132        3.0     1   \n            1                          1         14     9        NaN     0   \n4           0                         19         61    52       19.0     2   \n            1                          0          3     4        NaN     0   \n\nuser_rating                      Very Good  \nprice_range has_online_delivery             \n1           0                           15  \n            1                            4  \n2           0                           99  \n            1                           33  \n3           0                          183  \n            1                           35  \n4           0                          113  \n            1                            8  ",
      "text/html": "<div>\n<style scoped>\n    .dataframe tbody tr th:only-of-type {\n        vertical-align: middle;\n    }\n\n    .dataframe tbody tr th {\n        vertical-align: top;\n    }\n\n    .dataframe thead th {\n        text-align: right;\n    }\n</style>\n<table border=\"1\" class=\"dataframe\">\n  <thead>\n    <tr style=\"text-align: right;\">\n      <th></th>\n      <th>user_rating</th>\n      <th>Average</th>\n      <th>Excellent</th>\n      <th>Good</th>\n      <th>Not rated</th>\n      <th>Poor</th>\n      <th>Very Good</th>\n    </tr>\n    <tr>\n      <th>price_range</th>\n      <th>has_online_delivery</th>\n      <th></th>\n      <th></th>\n      <th></th>\n      <th></th>\n      <th></th>\n      <th></th>\n    </tr>\n  </thead>\n  <tbody>\n    <tr>\n      <th rowspan=\"2\" valign=\"top\">1</th>\n      <th>0</th>\n      <td>12</td>\n      <td>8</td>\n      <td>32</td>\n      <td>1.0</td>\n      <td>0</td>\n      <td>15</td>\n    </tr>\n    <tr>\n      <th>1</th>\n      <td>0</td>\n      <td>1</td>\n      <td>1</td>\n      <td>NaN</td>\n      <td>0</td>\n      <td>4</td>\n    </tr>\n    <tr>\n      <th rowspan=\"2\" valign=\"top\">2</th>\n      <th>0</th>\n      <td>47</td>\n      <td>30</td>\n      <td>104</td>\n      <td>3.0</td>\n      <td>1</td>\n      <td>99</td>\n    </tr>\n    <tr>\n      <th>1</th>\n      <td>0</td>\n      <td>7</td>\n      <td>12</td>\n      <td>NaN</td>\n      <td>1</td>\n      <td>33</td>\n    </tr>\n    <tr>\n      <th rowspan=\"2\" valign=\"top\">3</th>\n      <th>0</th>\n      <td>40</td>\n      <td>70</td>\n      <td>132</td>\n      <td>3.0</td>\n      <td>1</td>\n      <td>183</td>\n    </tr>\n    <tr>\n      <th>1</th>\n      <td>1</td>\n      <td>14</td>\n      <td>9</td>\n      <td>NaN</td>\n      <td>0</td>\n      <td>35</td>\n    </tr>\n    <tr>\n      <th rowspan=\"2\" valign=\"top\">4</th>\n      <th>0</th>\n      <td>19</td>\n      <td>61</td>\n      <td>52</td>\n      <td>19.0</td>\n      <td>2</td>\n      <td>113</td>\n    </tr>\n    <tr>\n      <th>1</th>\n      <td>0</td>\n      <td>3</td>\n      <td>4</td>\n      <td>NaN</td>\n      <td>0</td>\n      <td>8</td>\n    </tr>\n  </tbody>\n</table>\n</div>"
     },
     "metadata": {}
    }
   ]
  },
  {
   "cell_type": "code",
   "metadata": {
    "tags": [],
    "cell_id": "00019-cae6eb88-9fdd-4ca4-92d9-98bd7d6d5cb8",
    "deepnote_cell_type": "code"
   },
   "source": "",
   "execution_count": null,
   "outputs": []
  },
  {
   "cell_type": "markdown",
   "source": "<a style='text-decoration:none;line-height:16px;display:flex;color:#5B5B62;padding:10px;justify-content:end;' href='https://deepnote.com?utm_source=created-in-deepnote-cell&projectId=f8149d1c-e6b1-497a-9109-f01641a8231a' target=\"_blank\">\n<img alt='Created in deepnote.com' style='display:inline;max-height:16px;margin:0px;margin-right:7.5px;' src='data:image/svg+xml;base64,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' > </img>\nCreated in <span style='font-weight:600;margin-left:4px;'>Deepnote</span></a>",
   "metadata": {
    "tags": [],
    "created_in_deepnote_cell": true,
    "deepnote_cell_type": "markdown"
   }
  }
 ],
 "nbformat": 4,
 "nbformat_minor": 2,
 "metadata": {
  "orig_nbformat": 2,
  "deepnote": {
   "is_reactive": false
  },
  "deepnote_notebook_id": "d24a380b-0ea9-4006-ad54-ab3e35ce31a0",
  "deepnote_execution_queue": []
 }
}