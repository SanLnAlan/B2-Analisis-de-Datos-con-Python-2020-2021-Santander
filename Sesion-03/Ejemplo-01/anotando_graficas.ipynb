{
 "cells": [
  {
   "cell_type": "markdown",
   "source": "## Ejemplo 1: Anotando gráficas\n\n### 1. Objetivos:\n    - Aprender a añadir títulos, anotaciones y leyendas a nuestras gráficas\n    - Aprender a cambiar los tamaños de nuestras gráficas y modificar la dirección de nuestros tics\n \n---\n    \n### 2. Desarrollo:",
   "metadata": {
    "cell_id": "00000-3314241a-1a29-433c-bb4d-3a4852cf1ffc",
    "deepnote_cell_type": "markdown"
   }
  },
  {
   "cell_type": "markdown",
   "source": "Vamos a aprender a añadir anotaciones a nuestras gráficas para que sean mucho más comprensibles.",
   "metadata": {
    "cell_id": "00001-18babc49-48f7-458e-a033-4597f3bc26b8",
    "deepnote_cell_type": "markdown"
   }
  },
  {
   "cell_type": "code",
   "metadata": {
    "cell_id": "00002-416b4cb3-c3d4-43d4-bcd6-19e2ea8d16f4",
    "deepnote_to_be_reexecuted": false,
    "source_hash": "9e1ae3e3",
    "execution_start": 1630456181969,
    "execution_millis": 1130,
    "deepnote_cell_type": "code"
   },
   "source": "import pandas as pd\nimport matplotlib.pyplot as plt\nimport seaborn as sns\nsns.set(style='white')",
   "execution_count": null,
   "outputs": []
  },
  {
   "cell_type": "code",
   "metadata": {
    "cell_id": "00003-a9d0f0fe-a8be-463b-9c9c-e078d83137b7",
    "deepnote_to_be_reexecuted": false,
    "source_hash": "5411eeed",
    "execution_start": 1630456213966,
    "execution_millis": 510,
    "deepnote_cell_type": "code"
   },
   "source": "df = pd.read_csv('../../Datasets/athlete_olympic_events-clean.csv', index_col=0)\ndf.head()",
   "execution_count": null,
   "outputs": [
    {
     "output_type": "execute_result",
     "execution_count": 3,
     "data": {
      "application/vnd.deepnote.dataframe.v2+json": {
       "row_count": 5,
       "column_count": 14,
       "columns": [
        {
         "name": "name",
         "dtype": "object",
         "stats": {
          "unique_count": 3,
          "nan_count": 0,
          "categories": [
           {
            "name": "Christine Jacoba Aaftink",
            "count": 3
           },
           {
            "name": "A Dijiang",
            "count": 1
           },
           {
            "name": "A Lamusi",
            "count": 1
           }
          ]
         }
        },
        {
         "name": "sex",
         "dtype": "object",
         "stats": {
          "unique_count": 2,
          "nan_count": 0,
          "categories": [
           {
            "name": "F",
            "count": 3
           },
           {
            "name": "M",
            "count": 2
           }
          ]
         }
        },
        {
         "name": "age",
         "dtype": "float64",
         "stats": {
          "unique_count": 4,
          "nan_count": 0,
          "min": "21.0",
          "max": "25.0",
          "histogram": [
           {
            "bin_start": 21,
            "bin_end": 21.4,
            "count": 2
           },
           {
            "bin_start": 21.4,
            "bin_end": 21.8,
            "count": 0
           },
           {
            "bin_start": 21.8,
            "bin_end": 22.2,
            "count": 0
           },
           {
            "bin_start": 22.2,
            "bin_end": 22.6,
            "count": 0
           },
           {
            "bin_start": 22.6,
            "bin_end": 23,
            "count": 0
           },
           {
            "bin_start": 23,
            "bin_end": 23.4,
            "count": 1
           },
           {
            "bin_start": 23.4,
            "bin_end": 23.8,
            "count": 0
           },
           {
            "bin_start": 23.8,
            "bin_end": 24.2,
            "count": 1
           },
           {
            "bin_start": 24.2,
            "bin_end": 24.6,
            "count": 0
           },
           {
            "bin_start": 24.6,
            "bin_end": 25,
            "count": 1
           }
          ]
         }
        },
        {
         "name": "height",
         "dtype": "float64",
         "stats": {
          "unique_count": 3,
          "nan_count": 0,
          "min": "170.0",
          "max": "185.0",
          "histogram": [
           {
            "bin_start": 170,
            "bin_end": 171.5,
            "count": 1
           },
           {
            "bin_start": 171.5,
            "bin_end": 173,
            "count": 0
           },
           {
            "bin_start": 173,
            "bin_end": 174.5,
            "count": 0
           },
           {
            "bin_start": 174.5,
            "bin_end": 176,
            "count": 0
           },
           {
            "bin_start": 176,
            "bin_end": 177.5,
            "count": 0
           },
           {
            "bin_start": 177.5,
            "bin_end": 179,
            "count": 0
           },
           {
            "bin_start": 179,
            "bin_end": 180.5,
            "count": 1
           },
           {
            "bin_start": 180.5,
            "bin_end": 182,
            "count": 0
           },
           {
            "bin_start": 182,
            "bin_end": 183.5,
            "count": 0
           },
           {
            "bin_start": 183.5,
            "bin_end": 185,
            "count": 3
           }
          ]
         }
        },
        {
         "name": "weight",
         "dtype": "float64",
         "stats": {
          "unique_count": 3,
          "nan_count": 0,
          "min": "60.0",
          "max": "82.0",
          "histogram": [
           {
            "bin_start": 60,
            "bin_end": 62.2,
            "count": 1
           },
           {
            "bin_start": 62.2,
            "bin_end": 64.4,
            "count": 0
           },
           {
            "bin_start": 64.4,
            "bin_end": 66.6,
            "count": 0
           },
           {
            "bin_start": 66.6,
            "bin_end": 68.8,
            "count": 0
           },
           {
            "bin_start": 68.8,
            "bin_end": 71,
            "count": 0
           },
           {
            "bin_start": 71,
            "bin_end": 73.2,
            "count": 0
           },
           {
            "bin_start": 73.2,
            "bin_end": 75.4,
            "count": 0
           },
           {
            "bin_start": 75.4,
            "bin_end": 77.6,
            "count": 0
           },
           {
            "bin_start": 77.6,
            "bin_end": 79.8,
            "count": 0
           },
           {
            "bin_start": 79.8,
            "bin_end": 82,
            "count": 4
           }
          ]
         }
        },
        {
         "name": "team",
         "dtype": "object",
         "stats": {
          "unique_count": 2,
          "nan_count": 0,
          "categories": [
           {
            "name": "Netherlands",
            "count": 3
           },
           {
            "name": "China",
            "count": 2
           }
          ]
         }
        },
        {
         "name": "noc",
         "dtype": "object",
         "stats": {
          "unique_count": 2,
          "nan_count": 0,
          "categories": [
           {
            "name": "NED",
            "count": 3
           },
           {
            "name": "CHN",
            "count": 2
           }
          ]
         }
        },
        {
         "name": "games",
         "dtype": "object",
         "stats": {
          "unique_count": 4,
          "nan_count": 0,
          "categories": [
           {
            "name": "1988 Winter",
            "count": 2
           },
           {
            "name": "1992 Summer",
            "count": 1
           },
           {
            "name": "2 others",
            "count": 2
           }
          ]
         }
        },
        {
         "name": "year",
         "dtype": "int64",
         "stats": {
          "unique_count": 3,
          "nan_count": 0,
          "min": "1988",
          "max": "2012",
          "histogram": [
           {
            "bin_start": 1988,
            "bin_end": 1990.4,
            "count": 2
           },
           {
            "bin_start": 1990.4,
            "bin_end": 1992.8,
            "count": 2
           },
           {
            "bin_start": 1992.8,
            "bin_end": 1995.2,
            "count": 0
           },
           {
            "bin_start": 1995.2,
            "bin_end": 1997.6,
            "count": 0
           },
           {
            "bin_start": 1997.6,
            "bin_end": 2000,
            "count": 0
           },
           {
            "bin_start": 2000,
            "bin_end": 2002.4,
            "count": 0
           },
           {
            "bin_start": 2002.4,
            "bin_end": 2004.8,
            "count": 0
           },
           {
            "bin_start": 2004.8,
            "bin_end": 2007.2,
            "count": 0
           },
           {
            "bin_start": 2007.2,
            "bin_end": 2009.6,
            "count": 0
           },
           {
            "bin_start": 2009.6,
            "bin_end": 2012,
            "count": 1
           }
          ]
         }
        },
        {
         "name": "season",
         "dtype": "object",
         "stats": {
          "unique_count": 2,
          "nan_count": 0,
          "categories": [
           {
            "name": "Winter",
            "count": 3
           },
           {
            "name": "Summer",
            "count": 2
           }
          ]
         }
        },
        {
         "name": "city",
         "dtype": "object",
         "stats": {
          "unique_count": 4,
          "nan_count": 0,
          "categories": [
           {
            "name": "Calgary",
            "count": 2
           },
           {
            "name": "Barcelona",
            "count": 1
           },
           {
            "name": "2 others",
            "count": 2
           }
          ]
         }
        },
        {
         "name": "sport",
         "dtype": "object",
         "stats": {
          "unique_count": 3,
          "nan_count": 0,
          "categories": [
           {
            "name": "Speed Skating",
            "count": 3
           },
           {
            "name": "Basketball",
            "count": 1
           },
           {
            "name": "Judo",
            "count": 1
           }
          ]
         }
        },
        {
         "name": "event",
         "dtype": "object",
         "stats": {
          "unique_count": 4,
          "nan_count": 0,
          "categories": [
           {
            "name": "Speed Skating Women's 500 metres",
            "count": 2
           },
           {
            "name": "Basketball Men's Basketball",
            "count": 1
           },
           {
            "name": "2 others",
            "count": 2
           }
          ]
         }
        },
        {
         "name": "medal",
         "dtype": "object",
         "stats": {
          "unique_count": 1,
          "nan_count": 0,
          "categories": [
           {
            "name": "None",
            "count": 5
           }
          ]
         }
        },
        {
         "name": "_deepnote_index_column",
         "dtype": "int64"
        }
       ],
       "rows_top": [
        {
         "name": "A Dijiang",
         "sex": "M",
         "age": 24,
         "height": 180,
         "weight": 80,
         "team": "China",
         "noc": "CHN",
         "games": "1992 Summer",
         "year": 1992,
         "season": "Summer",
         "city": "Barcelona",
         "sport": "Basketball",
         "event": "Basketball Men's Basketball",
         "medal": "None",
         "_deepnote_index_column": 1
        },
        {
         "name": "A Lamusi",
         "sex": "M",
         "age": 23,
         "height": 170,
         "weight": 60,
         "team": "China",
         "noc": "CHN",
         "games": "2012 Summer",
         "year": 2012,
         "season": "Summer",
         "city": "London",
         "sport": "Judo",
         "event": "Judo Men's Extra-Lightweight",
         "medal": "None",
         "_deepnote_index_column": 2
        },
        {
         "name": "Christine Jacoba Aaftink",
         "sex": "F",
         "age": 21,
         "height": 185,
         "weight": 82,
         "team": "Netherlands",
         "noc": "NED",
         "games": "1988 Winter",
         "year": 1988,
         "season": "Winter",
         "city": "Calgary",
         "sport": "Speed Skating",
         "event": "Speed Skating Women's 500 metres",
         "medal": "None",
         "_deepnote_index_column": 5
        },
        {
         "name": "Christine Jacoba Aaftink",
         "sex": "F",
         "age": 21,
         "height": 185,
         "weight": 82,
         "team": "Netherlands",
         "noc": "NED",
         "games": "1988 Winter",
         "year": 1988,
         "season": "Winter",
         "city": "Calgary",
         "sport": "Speed Skating",
         "event": "Speed Skating Women's 1,000 metres",
         "medal": "None",
         "_deepnote_index_column": 5
        },
        {
         "name": "Christine Jacoba Aaftink",
         "sex": "F",
         "age": 25,
         "height": 185,
         "weight": 82,
         "team": "Netherlands",
         "noc": "NED",
         "games": "1992 Winter",
         "year": 1992,
         "season": "Winter",
         "city": "Albertville",
         "sport": "Speed Skating",
         "event": "Speed Skating Women's 500 metres",
         "medal": "None",
         "_deepnote_index_column": 5
        }
       ],
       "rows_bottom": null
      },
      "text/plain": "                                name sex   age  height  weight         team  \\\nathlete_id                                                                    \n1                          A Dijiang   M  24.0   180.0    80.0        China   \n2                           A Lamusi   M  23.0   170.0    60.0        China   \n5           Christine Jacoba Aaftink   F  21.0   185.0    82.0  Netherlands   \n5           Christine Jacoba Aaftink   F  21.0   185.0    82.0  Netherlands   \n5           Christine Jacoba Aaftink   F  25.0   185.0    82.0  Netherlands   \n\n            noc        games  year  season         city          sport  \\\nathlete_id                                                               \n1           CHN  1992 Summer  1992  Summer    Barcelona     Basketball   \n2           CHN  2012 Summer  2012  Summer       London           Judo   \n5           NED  1988 Winter  1988  Winter      Calgary  Speed Skating   \n5           NED  1988 Winter  1988  Winter      Calgary  Speed Skating   \n5           NED  1992 Winter  1992  Winter  Albertville  Speed Skating   \n\n                                         event medal  \nathlete_id                                            \n1                  Basketball Men's Basketball  None  \n2                 Judo Men's Extra-Lightweight  None  \n5             Speed Skating Women's 500 metres  None  \n5           Speed Skating Women's 1,000 metres  None  \n5             Speed Skating Women's 500 metres  None  ",
      "text/html": "<div>\n<style scoped>\n    .dataframe tbody tr th:only-of-type {\n        vertical-align: middle;\n    }\n\n    .dataframe tbody tr th {\n        vertical-align: top;\n    }\n\n    .dataframe thead th {\n        text-align: right;\n    }\n</style>\n<table border=\"1\" class=\"dataframe\">\n  <thead>\n    <tr style=\"text-align: right;\">\n      <th></th>\n      <th>name</th>\n      <th>sex</th>\n      <th>age</th>\n      <th>height</th>\n      <th>weight</th>\n      <th>team</th>\n      <th>noc</th>\n      <th>games</th>\n      <th>year</th>\n      <th>season</th>\n      <th>city</th>\n      <th>sport</th>\n      <th>event</th>\n      <th>medal</th>\n    </tr>\n    <tr>\n      <th>athlete_id</th>\n      <th></th>\n      <th></th>\n      <th></th>\n      <th></th>\n      <th></th>\n      <th></th>\n      <th></th>\n      <th></th>\n      <th></th>\n      <th></th>\n      <th></th>\n      <th></th>\n      <th></th>\n      <th></th>\n    </tr>\n  </thead>\n  <tbody>\n    <tr>\n      <th>1</th>\n      <td>A Dijiang</td>\n      <td>M</td>\n      <td>24.0</td>\n      <td>180.0</td>\n      <td>80.0</td>\n      <td>China</td>\n      <td>CHN</td>\n      <td>1992 Summer</td>\n      <td>1992</td>\n      <td>Summer</td>\n      <td>Barcelona</td>\n      <td>Basketball</td>\n      <td>Basketball Men's Basketball</td>\n      <td>None</td>\n    </tr>\n    <tr>\n      <th>2</th>\n      <td>A Lamusi</td>\n      <td>M</td>\n      <td>23.0</td>\n      <td>170.0</td>\n      <td>60.0</td>\n      <td>China</td>\n      <td>CHN</td>\n      <td>2012 Summer</td>\n      <td>2012</td>\n      <td>Summer</td>\n      <td>London</td>\n      <td>Judo</td>\n      <td>Judo Men's Extra-Lightweight</td>\n      <td>None</td>\n    </tr>\n    <tr>\n      <th>5</th>\n      <td>Christine Jacoba Aaftink</td>\n      <td>F</td>\n      <td>21.0</td>\n      <td>185.0</td>\n      <td>82.0</td>\n      <td>Netherlands</td>\n      <td>NED</td>\n      <td>1988 Winter</td>\n      <td>1988</td>\n      <td>Winter</td>\n      <td>Calgary</td>\n      <td>Speed Skating</td>\n      <td>Speed Skating Women's 500 metres</td>\n      <td>None</td>\n    </tr>\n    <tr>\n      <th>5</th>\n      <td>Christine Jacoba Aaftink</td>\n      <td>F</td>\n      <td>21.0</td>\n      <td>185.0</td>\n      <td>82.0</td>\n      <td>Netherlands</td>\n      <td>NED</td>\n      <td>1988 Winter</td>\n      <td>1988</td>\n      <td>Winter</td>\n      <td>Calgary</td>\n      <td>Speed Skating</td>\n      <td>Speed Skating Women's 1,000 metres</td>\n      <td>None</td>\n    </tr>\n    <tr>\n      <th>5</th>\n      <td>Christine Jacoba Aaftink</td>\n      <td>F</td>\n      <td>25.0</td>\n      <td>185.0</td>\n      <td>82.0</td>\n      <td>Netherlands</td>\n      <td>NED</td>\n      <td>1992 Winter</td>\n      <td>1992</td>\n      <td>Winter</td>\n      <td>Albertville</td>\n      <td>Speed Skating</td>\n      <td>Speed Skating Women's 500 metres</td>\n      <td>None</td>\n    </tr>\n  </tbody>\n</table>\n</div>"
     },
     "metadata": {}
    }
   ]
  },
  {
   "cell_type": "markdown",
   "source": "Añadir títulos y nombres para nuestros ejes es tan fácil como llamar el método `set`. Anteriormente habíamos estado llamando nuestros métodos de Seaborn sin asignar los resultados a ninguna variable. Si asignamos nuestro resultado a la variable `ax`, podemos ahora llamar el método `set` de esa variable para anotar nuestra gráfica:",
   "metadata": {
    "cell_id": "00004-1d044eb5-7bb8-445c-b1d9-8a130dded5fe",
    "deepnote_cell_type": "markdown"
   }
  },
  {
   "cell_type": "code",
   "metadata": {
    "cell_id": "00005-f4aabada-2d16-4bb4-92ab-e089dbcd5563",
    "deepnote_to_be_reexecuted": false,
    "source_hash": "63821eb0",
    "execution_start": 1630456581878,
    "execution_millis": 292,
    "deepnote_cell_type": "code"
   },
   "source": "ax = sns.distplot(df['age'], kde=False, norm_hist=False)\nax.set(title='Edades de atletas que participaron en los Juegos Olímpicos', xlabel='edad', ylabel='conteo');",
   "execution_count": null,
   "outputs": [
    {
     "name": "stderr",
     "text": "/shared-libs/python3.7/py/lib/python3.7/site-packages/seaborn/distributions.py:2557: FutureWarning: `distplot` is a deprecated function and will be removed in a future version. Please adapt your code to use either `displot` (a figure-level function with similar flexibility) or `histplot` (an axes-level function for histograms).\n  warnings.warn(msg, FutureWarning)\n",
     "output_type": "stream"
    },
    {
     "data": {
      "text/plain": "<Figure size 432x288 with 1 Axes>",
      "image/png": "[encoded data removed]"
     },
     "metadata": {
      "image/png": {
       "width": 422,
       "height": 284
      }
     },
     "output_type": "display_data"
    }
   ]
  },
  {
   "cell_type": "markdown",
   "source": "Observa que he colocado un punto y coma al final de la última línea. Esto se hace para que Jupyter Notebooks no me muestre el output de la última línea, ya que esto ensuciaría un poco mi visualización.",
   "metadata": {
    "cell_id": "00006-ee5c1107-a97d-41f9-bec8-3890a4b7cfe8",
    "deepnote_cell_type": "markdown"
   }
  },
  {
   "cell_type": "markdown",
   "source": "En el caso de que tengamos dos o más gráficas (o categorías) al mismo tiempo, podemos añadir una leyenda a nuestra gráfica para poder diferenciar nuestros datos:",
   "metadata": {
    "cell_id": "00007-c7e9bf59-2003-4fb6-9c55-2d5c46e055c3",
    "deepnote_cell_type": "markdown"
   }
  },
  {
   "cell_type": "code",
   "metadata": {
    "cell_id": "00008-d4df48de-616a-4a77-b662-18d952e3b211",
    "deepnote_cell_type": "code"
   },
   "source": "by_athlete = df.groupby(level=0)[['age', 'height', 'weight']].mean()\nsex = df.groupby(level=0)['sex'].last()\nmerged = by_athlete.merge(sex, left_index=True, right_index=True)\nmales = by_athlete[merged['sex'] == 'M']\nfemales = by_athlete[merged['sex'] == 'F']",
   "execution_count": null,
   "outputs": []
  },
  {
   "cell_type": "code",
   "metadata": {
    "cell_id": "00009-7bec1eeb-49cb-4678-a27c-97b611c2dafe",
    "deepnote_cell_type": "code"
   },
   "source": "ax = sns.distplot(males['height'], hist=False, kde_kws = {'shade': True}, label='hombres')\nsns.distplot(females['height'], hist=False, kde_kws = {'shade': True}, ax=ax, label='mujeres')\nax.set_title('Distribuciones de alturas de atletas masculinos y femeninos', fontsize=13, pad=15);\nax.set(xlabel='altura');\nax.legend(loc='upper right');",
   "execution_count": null,
   "outputs": [
    {
     "data": {
      "image/png": "[encoded data removed]",
      "text/plain": "<Figure size 432x288 with 1 Axes>"
     },
     "metadata": {
      "image/png": {
       "width": 385,
       "height": 289
      }
     },
     "output_type": "display_data"
    }
   ]
  },
  {
   "cell_type": "markdown",
   "source": "En la gráfica anterior usamos el método `set_title` en vez del genérico `set` para poder agregar el tamaño de la letra (`fontsize`) y el tamaño de la separación entre el título y la gráfica (`pad`).",
   "metadata": {
    "cell_id": "00010-daf1a60b-0471-4c62-b395-1c966eb54ff6",
    "deepnote_cell_type": "markdown"
   }
  },
  {
   "cell_type": "markdown",
   "source": "---\n\nTambién podemos cambiar el tamaño de nuestras gráficas. Para eso tendremos que echar mano de la librería sobre la cual está construida `seaborn`: `matplotlib`. `matplotlib` es la librería de visualizaciones en Python más conocida y utilizada. Algunas de las nuevas librerías que son muy famosas, como `seaborn` están construidas sobre `matplotlib`. Esto quiere decir que para poder acceder a todo el poder de las visualizaciones en Python es importante saber cómo funcionan ambas.\n\nPor ahora sólo vamos a ver lo siguiente:\n\nCada vez que creas una nueva gráfica con `seaborn`, esta gráfica está contenida dentro de algo que llamamos `figures` en `matplotlib`. Una `figure` puede contener múltiples gráficas. Cada que generas una gráfica con `seaborn`, una nueva `figure` se genera automáticamente. Podemos generar manualmente la `figure` para después utilizarla para personalizar nuestra gráfica. Para determinar el tamaño de nuestra gráfica podemos hacer lo siguiente:",
   "metadata": {
    "cell_id": "00011-9bb2af77-53c0-469e-a11b-422cfdd5eb5c",
    "deepnote_cell_type": "markdown"
   }
  },
  {
   "cell_type": "code",
   "metadata": {
    "cell_id": "00012-419fb52d-5762-479f-9ab2-e803f9a56a99",
    "deepnote_cell_type": "code"
   },
   "source": "fig = plt.figure(figsize=(10, 10))\nax = sns.distplot(df['age'], kde=False, norm_hist=False)\nax.set_title('Edades de atletas que participaron en los Juegos Olímpicos', fontsize=20, pad=15)\nax.set(xlabel='edad', ylabel='conteo');",
   "execution_count": null,
   "outputs": [
    {
     "data": {
      "image/png": "[encoded data removed]",
      "text/plain": "<Figure size 720x720 with 1 Axes>"
     },
     "metadata": {
      "image/png": {
       "width": 626,
       "height": 621
      }
     },
     "output_type": "display_data"
    }
   ]
  },
  {
   "cell_type": "markdown",
   "source": "A través de todo el módulo, iremos poco a poco viendo cómo modificar nuestras gráficas para que se vean bien y sean más comprensibles.",
   "metadata": {
    "cell_id": "00013-2070588a-54b9-4af0-aaab-18e0c00132bf",
    "deepnote_cell_type": "markdown"
   }
  },
  {
   "cell_type": "markdown",
   "source": "# EN clase",
   "metadata": {
    "tags": [],
    "cell_id": "00014-ae705e2d-1885-4b9c-8e82-290f0863e553",
    "deepnote_cell_type": "markdown"
   }
  },
  {
   "cell_type": "markdown",
   "source": "",
   "metadata": {
    "tags": [],
    "cell_id": "00015-3148507a-4656-4918-9362-c67dcee19cb1",
    "deepnote_cell_type": "markdown"
   }
  },
  {
   "cell_type": "code",
   "metadata": {
    "tags": [],
    "cell_id": "00016-478939db-eff4-4bd9-b438-19f8f37e07f4",
    "deepnote_to_be_reexecuted": false,
    "source_hash": "52430027",
    "execution_start": 1630456713071,
    "execution_millis": 4,
    "deepnote_cell_type": "code"
   },
   "source": "df.dtypes",
   "execution_count": null,
   "outputs": [
    {
     "output_type": "execute_result",
     "execution_count": 5,
     "data": {
      "text/plain": "name       object\nsex        object\nage       float64\nheight    float64\nweight    float64\nteam       object\nnoc        object\ngames      object\nyear        int64\nseason     object\ncity       object\nsport      object\nevent      object\nmedal      object\ndtype: object"
     },
     "metadata": {}
    }
   ]
  },
  {
   "cell_type": "code",
   "metadata": {
    "tags": [],
    "cell_id": "00016-cde0b567-dc55-4054-ac02-4f4bd860b21b",
    "deepnote_to_be_reexecuted": false,
    "source_hash": "c1357b98",
    "execution_start": 1630456735898,
    "execution_millis": 296,
    "deepnote_cell_type": "code"
   },
   "source": "sns.distplot(df['age'], kde=False)",
   "execution_count": null,
   "outputs": [
    {
     "name": "stderr",
     "text": "/shared-libs/python3.7/py/lib/python3.7/site-packages/seaborn/distributions.py:2557: FutureWarning: `distplot` is a deprecated function and will be removed in a future version. Please adapt your code to use either `displot` (a figure-level function with similar flexibility) or `histplot` (an axes-level function for histograms).\n  warnings.warn(msg, FutureWarning)\n",
     "output_type": "stream"
    },
    {
     "output_type": "execute_result",
     "execution_count": 7,
     "data": {
      "text/plain": "<AxesSubplot:xlabel='age'>"
     },
     "metadata": {}
    },
    {
     "data": {
      "text/plain": "<Figure size 432x288 with 1 Axes>",
      "image/png": "[encoded data removed]"
     },
     "metadata": {
      "image/png": {
       "width": 393,
       "height": 268
      }
     },
     "output_type": "display_data"
    }
   ]
  },
  {
   "cell_type": "code",
   "metadata": {
    "tags": [],
    "cell_id": "00018-30c4a358-9526-4a0f-8f69-85d300b56e86",
    "deepnote_to_be_reexecuted": false,
    "source_hash": "cf44f5fe",
    "execution_start": 1630457048511,
    "execution_millis": 374,
    "deepnote_cell_type": "code"
   },
   "source": "ax = sns.histplot(df['age'], kde=False, binwidth=1)\nax.set(title=\"Edades de atletas\")\n\n#Para mostrarla en .py\nplt.show()\n#and save it\nplt.savefig(\"jjoo_edades.png\")",
   "execution_count": null,
   "outputs": [
    {
     "data": {
      "text/plain": "<Figure size 432x288 with 1 Axes>",
      "image/png": "[encoded data removed]"
     },
     "metadata": {
      "image/png": {
       "width": 410,
       "height": 284
      }
     },
     "output_type": "display_data"
    },
    {
     "data": {
      "text/plain": "<Figure size 432x288 with 0 Axes>"
     },
     "metadata": {},
     "output_type": "display_data"
    }
   ]
  },
  {
   "cell_type": "markdown",
   "source": "## Empezando con categorías",
   "metadata": {
    "tags": [],
    "cell_id": "00019-22ebd2aa-086e-4a8e-844f-5eda0671c6d4",
    "deepnote_cell_type": "markdown"
   }
  },
  {
   "cell_type": "code",
   "metadata": {
    "tags": [],
    "cell_id": "00019-e1588a74-7654-437a-a1fb-00addd9ca6fa",
    "deepnote_to_be_reexecuted": false,
    "source_hash": "cfba808b",
    "execution_start": 1630457260846,
    "execution_millis": 8384,
    "deepnote_cell_type": "code"
   },
   "source": "por_atleta = df.groupby(level=0)[['age','height','weight','sex']].max()\npor_atleta.head()",
   "execution_count": null,
   "outputs": [
    {
     "output_type": "execute_result",
     "execution_count": 15,
     "data": {
      "application/vnd.deepnote.dataframe.v2+json": {
       "row_count": 5,
       "column_count": 4,
       "columns": [
        {
         "name": "age",
         "dtype": "float64",
         "stats": {
          "unique_count": 4,
          "nan_count": 0,
          "min": "23.0",
          "max": "33.0",
          "histogram": [
           {
            "bin_start": 23,
            "bin_end": 24,
            "count": 1
           },
           {
            "bin_start": 24,
            "bin_end": 25,
            "count": 1
           },
           {
            "bin_start": 25,
            "bin_end": 26,
            "count": 0
           },
           {
            "bin_start": 26,
            "bin_end": 27,
            "count": 0
           },
           {
            "bin_start": 27,
            "bin_end": 28,
            "count": 1
           },
           {
            "bin_start": 28,
            "bin_end": 29,
            "count": 0
           },
           {
            "bin_start": 29,
            "bin_end": 30,
            "count": 0
           },
           {
            "bin_start": 30,
            "bin_end": 31,
            "count": 0
           },
           {
            "bin_start": 31,
            "bin_end": 32,
            "count": 0
           },
           {
            "bin_start": 32,
            "bin_end": 33,
            "count": 2
           }
          ]
         }
        },
        {
         "name": "height",
         "dtype": "float64",
         "stats": {
          "unique_count": 5,
          "nan_count": 0,
          "min": "170.0",
          "max": "188.0",
          "histogram": [
           {
            "bin_start": 170,
            "bin_end": 171.8,
            "count": 1
           },
           {
            "bin_start": 171.8,
            "bin_end": 173.6,
            "count": 0
           },
           {
            "bin_start": 173.6,
            "bin_end": 175.4,
            "count": 0
           },
           {
            "bin_start": 175.4,
            "bin_end": 177.2,
            "count": 0
           },
           {
            "bin_start": 177.2,
            "bin_end": 179,
            "count": 0
           },
           {
            "bin_start": 179,
            "bin_end": 180.8,
            "count": 1
           },
           {
            "bin_start": 180.8,
            "bin_end": 182.6,
            "count": 0
           },
           {
            "bin_start": 182.6,
            "bin_end": 184.4,
            "count": 1
           },
           {
            "bin_start": 184.4,
            "bin_end": 186.2,
            "count": 1
           },
           {
            "bin_start": 186.2,
            "bin_end": 188,
            "count": 1
           }
          ]
         }
        },
        {
         "name": "weight",
         "dtype": "float64",
         "stats": {
          "unique_count": 5,
          "nan_count": 0,
          "min": "60.0",
          "max": "82.0",
          "histogram": [
           {
            "bin_start": 60,
            "bin_end": 62.2,
            "count": 1
           },
           {
            "bin_start": 62.2,
            "bin_end": 64.4,
            "count": 0
           },
           {
            "bin_start": 64.4,
            "bin_end": 66.6,
            "count": 0
           },
           {
            "bin_start": 66.6,
            "bin_end": 68.8,
            "count": 0
           },
           {
            "bin_start": 68.8,
            "bin_end": 71,
            "count": 0
           },
           {
            "bin_start": 71,
            "bin_end": 73.2,
            "count": 1
           },
           {
            "bin_start": 73.2,
            "bin_end": 75.4,
            "count": 1
           },
           {
            "bin_start": 75.4,
            "bin_end": 77.6,
            "count": 0
           },
           {
            "bin_start": 77.6,
            "bin_end": 79.8,
            "count": 0
           },
           {
            "bin_start": 79.8,
            "bin_end": 82,
            "count": 2
           }
          ]
         }
        },
        {
         "name": "sex",
         "dtype": "object",
         "stats": {
          "unique_count": 2,
          "nan_count": 0,
          "categories": [
           {
            "name": "M",
            "count": 4
           },
           {
            "name": "F",
            "count": 1
           }
          ]
         }
        },
        {
         "name": "_deepnote_index_column",
         "dtype": "int64"
        }
       ],
       "rows_top": [
        {
         "age": 24,
         "height": 180,
         "weight": 80,
         "sex": "M",
         "_deepnote_index_column": 1
        },
        {
         "age": 23,
         "height": 170,
         "weight": 60,
         "sex": "M",
         "_deepnote_index_column": 2
        },
        {
         "age": 27,
         "height": 185,
         "weight": 82,
         "sex": "F",
         "_deepnote_index_column": 5
        },
        {
         "age": 33,
         "height": 188,
         "weight": 75,
         "sex": "M",
         "_deepnote_index_column": 6
        },
        {
         "age": 33,
         "height": 183,
         "weight": 72,
         "sex": "M",
         "_deepnote_index_column": 7
        }
       ],
       "rows_bottom": null
      },
      "text/plain": "             age  height  weight sex\nathlete_id                          \n1           24.0   180.0    80.0   M\n2           23.0   170.0    60.0   M\n5           27.0   185.0    82.0   F\n6           33.0   188.0    75.0   M\n7           33.0   183.0    72.0   M",
      "text/html": "<div>\n<style scoped>\n    .dataframe tbody tr th:only-of-type {\n        vertical-align: middle;\n    }\n\n    .dataframe tbody tr th {\n        vertical-align: top;\n    }\n\n    .dataframe thead th {\n        text-align: right;\n    }\n</style>\n<table border=\"1\" class=\"dataframe\">\n  <thead>\n    <tr style=\"text-align: right;\">\n      <th></th>\n      <th>age</th>\n      <th>height</th>\n      <th>weight</th>\n      <th>sex</th>\n    </tr>\n    <tr>\n      <th>athlete_id</th>\n      <th></th>\n      <th></th>\n      <th></th>\n      <th></th>\n    </tr>\n  </thead>\n  <tbody>\n    <tr>\n      <th>1</th>\n      <td>24.0</td>\n      <td>180.0</td>\n      <td>80.0</td>\n      <td>M</td>\n    </tr>\n    <tr>\n      <th>2</th>\n      <td>23.0</td>\n      <td>170.0</td>\n      <td>60.0</td>\n      <td>M</td>\n    </tr>\n    <tr>\n      <th>5</th>\n      <td>27.0</td>\n      <td>185.0</td>\n      <td>82.0</td>\n      <td>F</td>\n    </tr>\n    <tr>\n      <th>6</th>\n      <td>33.0</td>\n      <td>188.0</td>\n      <td>75.0</td>\n      <td>M</td>\n    </tr>\n    <tr>\n      <th>7</th>\n      <td>33.0</td>\n      <td>183.0</td>\n      <td>72.0</td>\n      <td>M</td>\n    </tr>\n  </tbody>\n</table>\n</div>"
     },
     "metadata": {}
    }
   ]
  },
  {
   "cell_type": "markdown",
   "source": "Recordemos que el hue es para segmentar los datos por alguna categoria\n\ncol vs hue: con col nos grficara un plot por cada categoria de col\n",
   "metadata": {
    "tags": [],
    "cell_id": "00021-01dd24b0-ab3e-4e0e-a7ac-bd00379178db",
    "deepnote_cell_type": "markdown"
   }
  },
  {
   "cell_type": "code",
   "metadata": {
    "tags": [],
    "cell_id": "00021-6fb50e8d-2de2-4d8b-bcde-5ee0534a6745",
    "deepnote_to_be_reexecuted": false,
    "source_hash": "ae87fdf2",
    "execution_start": 1630457748163,
    "execution_millis": 2167,
    "deepnote_cell_type": "code"
   },
   "source": "#sns.displot(por_atleta)\n\nsns.displot(data = por_atleta, x='age', hue='sex', kind='kde')\n",
   "execution_count": null,
   "outputs": [
    {
     "output_type": "execute_result",
     "execution_count": 25,
     "data": {
      "text/plain": "<seaborn.axisgrid.FacetGrid at 0x7f12c49a3f10>"
     },
     "metadata": {}
    },
    {
     "data": {
      "text/plain": "<Figure size 409.1x360 with 1 Axes>",
      "image/png": "[encoded data removed]"
     },
     "metadata": {
      "image/png": {
       "width": 405,
       "height": 348
      }
     },
     "output_type": "display_data"
    },
    {
     "data": {
      "text/plain": "<Figure size 409.1x360 with 1 Axes>",
      "image/png": "[encoded data removed]"
     },
     "metadata": {
      "image/png": {
       "width": 405,
       "height": 348
      }
     },
     "output_type": "display_data"
    }
   ]
  },
  {
   "cell_type": "markdown",
   "source": "*common_norm: True* normaliza el maximo de las categorias para todas\n*common_norm: False* Cada categoria tiene su valor máximo\n",
   "metadata": {
    "tags": [],
    "cell_id": "00023-7204285b-6132-43e1-81ba-e647714544ec",
    "deepnote_cell_type": "markdown"
   }
  },
  {
   "cell_type": "code",
   "metadata": {
    "tags": [],
    "cell_id": "00022-5ac208a0-b203-44c1-8970-cc65d49805db",
    "deepnote_to_be_reexecuted": false,
    "source_hash": "86a1e0e",
    "execution_start": 1630457921474,
    "execution_millis": 2280,
    "deepnote_cell_type": "code"
   },
   "source": "sns.displot(data = por_atleta, x='age', hue='sex', kind='kde', common_norm=False, fill=True)\n\nsns.displot(data = por_atleta, x='age', col='sex', kind='kde', common_norm=False, fill=True);\n",
   "execution_count": null,
   "outputs": [
    {
     "data": {
      "text/plain": "<Figure size 409.1x360 with 1 Axes>",
      "image/png": "[encoded data removed]"
     },
     "metadata": {
      "image/png": {
       "width": 405,
       "height": 348
      }
     },
     "output_type": "display_data"
    },
    {
     "data": {
      "text/plain": "<Figure size 720x360 with 2 Axes>",
      "image/png": "[encoded data removed]"
     },
     "metadata": {
      "image/png": {
       "width": 708,
       "height": 348
      }
     },
     "output_type": "display_data"
    }
   ]
  },
  {
   "cell_type": "code",
   "metadata": {
    "tags": [],
    "cell_id": "00023-8dbf92d4-b8fe-4fdb-bb7a-64eaf0b314dc",
    "deepnote_cell_type": "code"
   },
   "source": "",
   "execution_count": null,
   "outputs": []
  },
  {
   "cell_type": "markdown",
   "source": "<a style='text-decoration:none;line-height:16px;display:flex;color:#5B5B62;padding:10px;justify-content:end;' href='https://deepnote.com?utm_source=created-in-deepnote-cell&projectId=f8149d1c-e6b1-497a-9109-f01641a8231a' target=\"_blank\">\n<img alt='Created in deepnote.com' style='display:inline;max-height:16px;margin:0px;margin-right:7.5px;' src='data:image/svg+xml;base64,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' > </img>\nCreated in <span style='font-weight:600;margin-left:4px;'>Deepnote</span></a>",
   "metadata": {
    "tags": [],
    "created_in_deepnote_cell": true,
    "deepnote_cell_type": "markdown"
   }
  }
 ],
 "nbformat": 4,
 "nbformat_minor": 4,
 "metadata": {
  "kernelspec": {
   "display_name": "Python (data_science)",
   "language": "python",
   "name": "data_science"
  },
  "language_info": {
   "codemirror_mode": {
    "name": "ipython",
    "version": 3
   },
   "file_extension": ".py",
   "mimetype": "text/x-python",
   "name": "python",
   "nbconvert_exporter": "python",
   "pygments_lexer": "ipython3",
   "version": "3.8.5"
  },
  "deepnote_notebook_id": "fc9d5366-1af8-4270-9105-061134c5103b",
  "deepnote": {},
  "deepnote_execution_queue": []
 }
}