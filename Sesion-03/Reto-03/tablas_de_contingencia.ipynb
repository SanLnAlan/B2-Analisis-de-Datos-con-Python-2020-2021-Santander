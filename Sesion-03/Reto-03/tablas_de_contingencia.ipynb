{
 "cells": [
  {
   "cell_type": "markdown",
   "source": "## Reto 3: Tablas de contingencia\n\n### 1. Objetivos:\n    - Aprender a generar tablas de contingencia utilizando múltiples variables categóricas.\n \n---\n    \n### 2. Desarrollo:",
   "metadata": {
    "cell_id": "00000-9228a568-f88d-4d18-92b1-dfd4b2e45de2",
    "deepnote_cell_type": "markdown"
   }
  },
  {
   "cell_type": "markdown",
   "source": "En este Reto vamos a volver a utilizar el dataset 'melbourne_housing-clean.csv'. Nuestro objetivo será segmentar nuestros datos usando 2 o 3 variables categóricas y luego realizar algunas visualizaciones. Elige el Reto a) o b) y sigue las instrucciones.\n\n### a) Segmentando por tipo y número de cuartos\n\nLa primera parte consiste en lo siguiente:\n\n1. Crea una tabla de contingencia usando como índice la variable 'type' y para las columnas la variable 'rooms'.\n2. Crea una gráfica de barras para cada uno de los índices ('h', 't', 'u') donde el eje x sean las columnas de la tabla de contingencia.\n3. Agrega los títulos y anotaciones necesarias.\n4. Describe las similitudes y las diferencias de las distribuciones de las 3 gráficas.",
   "metadata": {
    "cell_id": "00001-a7205f9e-a442-4c99-a235-464e6ddc25fb",
    "deepnote_cell_type": "markdown"
   }
  },
  {
   "cell_type": "code",
   "metadata": {
    "cell_id": "00002-85be4e42-d743-45b1-994d-9a5d14e323eb",
    "deepnote_cell_type": "code"
   },
   "source": "# Tu código va aquí\n#\n# ...\n# ...",
   "outputs": [],
   "execution_count": null
  },
  {
   "cell_type": "markdown",
   "source": "### b) Segmentando por región, tipo y número de cuartos\n\nAhora vamos a hacer una triple segmentación. Realiza los siguientes pasos:\n\n1. Crea una tabla de contingencia donde el índice sea la variable 'region_name' y las columnas tengan un doble nivel con las variables 'type' y 'rooms'.\n2. Usa el método `stack` para convertir el nivel de columnas 'type' en un segundo nivel para el índice.\n3. Genera 4 gráficas donde compares las distribuciones de cantidad de cuartos para el tipo de propiedad 'h' ('house') en las regiones 'Eastern Metropolitan', 'Northern Metropolitan', 'Southern Metropolitan' y 'Western Metropolitan'. Tendrás que acceder a cada `Serie` usando una tupla para indicar los valores de los dos niveles del índice.\n4. Anota tus gráficas adecuadamente.\n5. Describe las similitudes y diferencias entre las 4 gráficas.",
   "metadata": {
    "cell_id": "00003-4e4c8d17-1724-4179-9ccb-767fe0c6e430",
    "deepnote_cell_type": "markdown"
   }
  },
  {
   "cell_type": "code",
   "metadata": {
    "cell_id": "00004-80b7b17d-8bbd-4b60-9a0a-a34b76abd961",
    "deepnote_cell_type": "code"
   },
   "source": "# Tu código va aquí\n#\n# ...\n# ...",
   "outputs": [],
   "execution_count": null
  },
  {
   "cell_type": "markdown",
   "source": "<details><summary>Solución</summary>\n\n```python\ndf = pd.read_csv('../../Datasets/melbourne_housing-clean.csv', index_col=0)\n    \ntype_rooms = pd.crosstab(df['type'], df['rooms'])\nsns.barplot(type_rooms.loc['h'].index, type_rooms.loc['h'])\nsns.barplot(type_rooms.loc['t'].index, type_rooms.loc['t'])\nsns.barplot(type_rooms.loc['u'].index, type_rooms.loc['u'])\n    \nregionname_type_rooms = pd.crosstab(df['region_name'], [df['type'], df['rooms']])\nregionname_type_rooms_stacked = regionname_type_rooms.stack(level=0)\nsns.barplot(regionname_type_rooms_stacked.loc[('Eastern Metropolitan', 'h')].index,\n            regionname_type_rooms_stacked.loc[('Eastern Metropolitan', 'h')])\nsns.barplot(regionname_type_rooms_stacked.loc[('Western Metropolitan', 'h')].index,\n            regionname_type_rooms_stacked.loc[('Western Metropolitan', 'h')])\nsns.barplot(regionname_type_rooms_stacked.loc[('Northern Metropolitan', 'h')].index,\n            regionname_type_rooms_stacked.loc[('Northern Metropolitan', 'h')])\nsns.barplot(regionname_type_rooms_stacked.loc[('Southern Metropolitan', 'h')].index,\n            regionname_type_rooms_stacked.loc[('Southern Metropolitan', 'h')])\n```\n    \n</details>",
   "metadata": {
    "cell_id": "00005-d34c3150-f137-4cc0-81dc-e182073adb9f",
    "deepnote_cell_type": "markdown"
   }
  },
  {
   "cell_type": "markdown",
   "source": "<a style='text-decoration:none;line-height:16px;display:flex;color:#5B5B62;padding:10px;justify-content:end;' href='https://deepnote.com?utm_source=created-in-deepnote-cell&projectId=f8149d1c-e6b1-497a-9109-f01641a8231a' target=\"_blank\">\n<img alt='Created in deepnote.com' style='display:inline;max-height:16px;margin:0px;margin-right:7.5px;' src='data:image/svg+xml;base64,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' > </img>\nCreated in <span style='font-weight:600;margin-left:4px;'>Deepnote</span></a>",
   "metadata": {
    "tags": [],
    "created_in_deepnote_cell": true,
    "deepnote_cell_type": "markdown"
   }
  }
 ],
 "nbformat": 4,
 "nbformat_minor": 4,
 "metadata": {
  "kernelspec": {
   "display_name": "Python (data_science)",
   "language": "python",
   "name": "data_science"
  },
  "language_info": {
   "codemirror_mode": {
    "name": "ipython",
    "version": 3
   },
   "file_extension": ".py",
   "mimetype": "text/x-python",
   "name": "python",
   "nbconvert_exporter": "python",
   "pygments_lexer": "ipython3",
   "version": "3.8.1"
  },
  "deepnote_notebook_id": "9241fabe-352c-483b-8ce3-d3a22d8ff31b",
  "deepnote": {},
  "deepnote_execution_queue": []
 }
}