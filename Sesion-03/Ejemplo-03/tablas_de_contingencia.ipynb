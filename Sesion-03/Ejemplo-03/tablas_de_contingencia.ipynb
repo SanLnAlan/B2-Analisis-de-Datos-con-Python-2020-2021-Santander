{
 "cells": [
  {
   "cell_type": "markdown",
   "source": "## Ejemplo 3: Tablas de contingencia\n\n### 1. Objetivos:\n    - Aprender a generar tablas de contingencia usando el método `crosstab`\n \n---\n    \n### 2. Desarrollo:",
   "metadata": {
    "cell_id": "00000-d41fbb00-e731-40f5-8c69-42f3374e648c",
    "deepnote_cell_type": "markdown"
   }
  },
  {
   "cell_type": "code",
   "metadata": {
    "cell_id": "00001-39d2ee4e-b9a0-4eb9-a62e-2e836b5fed6d",
    "deepnote_to_be_reexecuted": false,
    "source_hash": "9b82ee11",
    "execution_start": 1630628337439,
    "execution_millis": 0,
    "deepnote_cell_type": "code"
   },
   "source": "import pandas as pd",
   "execution_count": null,
   "outputs": []
  },
  {
   "cell_type": "code",
   "metadata": {
    "cell_id": "00002-de149ed3-0fd5-4eb0-8ad6-7d5d2bb6c4e5",
    "deepnote_to_be_reexecuted": false,
    "source_hash": "8e10af96",
    "execution_start": 1630628339735,
    "execution_millis": 63,
    "deepnote_cell_type": "code"
   },
   "source": "df = pd.read_json('../../Datasets/zomato_reviews-clean.json')\n\ndf.head()",
   "execution_count": null,
   "outputs": [
    {
     "output_type": "execute_result",
     "execution_count": 2,
     "data": {
      "application/vnd.deepnote.dataframe.v2+json": {
       "row_count": 5,
       "column_count": 8,
       "columns": [
        {
         "name": "has_online_delivery",
         "dtype": "int64",
         "stats": {
          "unique_count": 2,
          "nan_count": 0,
          "min": "0",
          "max": "1",
          "histogram": [
           {
            "bin_start": 0,
            "bin_end": 0.1,
            "count": 3
           },
           {
            "bin_start": 0.1,
            "bin_end": 0.2,
            "count": 0
           },
           {
            "bin_start": 0.2,
            "bin_end": 0.30000000000000004,
            "count": 0
           },
           {
            "bin_start": 0.30000000000000004,
            "bin_end": 0.4,
            "count": 0
           },
           {
            "bin_start": 0.4,
            "bin_end": 0.5,
            "count": 0
           },
           {
            "bin_start": 0.5,
            "bin_end": 0.6000000000000001,
            "count": 0
           },
           {
            "bin_start": 0.6000000000000001,
            "bin_end": 0.7000000000000001,
            "count": 0
           },
           {
            "bin_start": 0.7000000000000001,
            "bin_end": 0.8,
            "count": 0
           },
           {
            "bin_start": 0.8,
            "bin_end": 0.9,
            "count": 0
           },
           {
            "bin_start": 0.9,
            "bin_end": 1,
            "count": 2
           }
          ]
         }
        },
        {
         "name": "price_range",
         "dtype": "int64",
         "stats": {
          "unique_count": 2,
          "nan_count": 0,
          "min": "2",
          "max": "3",
          "histogram": [
           {
            "bin_start": 2,
            "bin_end": 2.1,
            "count": 1
           },
           {
            "bin_start": 2.1,
            "bin_end": 2.2,
            "count": 0
           },
           {
            "bin_start": 2.2,
            "bin_end": 2.3,
            "count": 0
           },
           {
            "bin_start": 2.3,
            "bin_end": 2.4,
            "count": 0
           },
           {
            "bin_start": 2.4,
            "bin_end": 2.5,
            "count": 0
           },
           {
            "bin_start": 2.5,
            "bin_end": 2.6,
            "count": 0
           },
           {
            "bin_start": 2.6,
            "bin_end": 2.7,
            "count": 0
           },
           {
            "bin_start": 2.7,
            "bin_end": 2.8,
            "count": 0
           },
           {
            "bin_start": 2.8,
            "bin_end": 2.9,
            "count": 0
           },
           {
            "bin_start": 2.9,
            "bin_end": 3,
            "count": 4
           }
          ]
         }
        },
        {
         "name": "currency",
         "dtype": "object",
         "stats": {
          "unique_count": 1,
          "nan_count": 0,
          "categories": [
           {
            "name": "Rs.",
            "count": 5
           }
          ]
         }
        },
        {
         "name": "name",
         "dtype": "object",
         "stats": {
          "unique_count": 5,
          "nan_count": 0,
          "categories": [
           {
            "name": "Hauz Khas Social",
            "count": 1
           },
           {
            "name": "Qubitos - The Terrace Cafe",
            "count": 1
           },
           {
            "name": "3 others",
            "count": 3
           }
          ]
         }
        },
        {
         "name": "cuisines",
         "dtype": "object",
         "stats": {
          "unique_count": 5,
          "nan_count": 0,
          "categories": [
           {
            "name": "Continental, American, Asian, North Indian",
            "count": 1
           },
           {
            "name": "Thai, European, Mexican, North Indian, Chinese, Cafe",
            "count": 1
           },
           {
            "name": "3 others",
            "count": 3
           }
          ]
         }
        },
        {
         "name": "location.address",
         "dtype": "object",
         "stats": {
          "unique_count": 5,
          "nan_count": 0,
          "categories": [
           {
            "name": "9-A & 12, Hauz Khas Village, New Delhi",
            "count": 1
           },
           {
            "name": "C-7, Vishal Enclave, Opposite Metro Pillar 417, Rajouri Garden, New Delhi",
            "count": 1
           },
           {
            "name": "3 others",
            "count": 3
           }
          ]
         }
        },
        {
         "name": "location.city",
         "dtype": "object",
         "stats": {
          "unique_count": 1,
          "nan_count": 0,
          "categories": [
           {
            "name": "New Delhi",
            "count": 5
           }
          ]
         }
        },
        {
         "name": "user_rating",
         "dtype": "object",
         "stats": {
          "unique_count": 2,
          "nan_count": 0,
          "categories": [
           {
            "name": "Very Good",
            "count": 4
           },
           {
            "name": "Excellent",
            "count": 1
           }
          ]
         }
        },
        {
         "name": "_deepnote_index_column",
         "dtype": "int64"
        }
       ],
       "rows_top": [
        {
         "has_online_delivery": 1,
         "price_range": 3,
         "currency": "Rs.",
         "name": "Hauz Khas Social",
         "cuisines": "Continental, American, Asian, North Indian",
         "location.address": "9-A & 12, Hauz Khas Village, New Delhi",
         "location.city": "New Delhi",
         "user_rating": "Very Good",
         "_deepnote_index_column": 0
        },
        {
         "has_online_delivery": 0,
         "price_range": 3,
         "currency": "Rs.",
         "name": "Qubitos - The Terrace Cafe",
         "cuisines": "Thai, European, Mexican, North Indian, Chinese, Cafe",
         "location.address": "C-7, Vishal Enclave, Opposite Metro Pillar 417, Rajouri Garden, New Delhi",
         "location.city": "New Delhi",
         "user_rating": "Excellent",
         "_deepnote_index_column": 1
        },
        {
         "has_online_delivery": 1,
         "price_range": 2,
         "currency": "Rs.",
         "name": "The Hudson Cafe",
         "cuisines": "Cafe, Italian, Continental, Chinese",
         "location.address": "2524, 1st Floor, Hudson Lane, Delhi University-GTB Nagar, New Delhi",
         "location.city": "New Delhi",
         "user_rating": "Very Good",
         "_deepnote_index_column": 2
        },
        {
         "has_online_delivery": 0,
         "price_range": 3,
         "currency": "Rs.",
         "name": "Summer House Cafe",
         "cuisines": "Italian, Continental",
         "location.address": "1st Floor, DDA Shopping Complex, Aurobindo Place, Hauz Khas, New Delhi",
         "location.city": "New Delhi",
         "user_rating": "Very Good",
         "_deepnote_index_column": 3
        },
        {
         "has_online_delivery": 0,
         "price_range": 3,
         "currency": "Rs.",
         "name": "38 Barracks",
         "cuisines": "North Indian, Italian, Asian, American",
         "location.address": "M-38, Outer Circle, Connaught Place, New Delhi",
         "location.city": "New Delhi",
         "user_rating": "Very Good",
         "_deepnote_index_column": 4
        }
       ],
       "rows_bottom": null
      },
      "text/plain": "   has_online_delivery  price_range currency                        name  \\\n0                    1            3      Rs.            Hauz Khas Social   \n1                    0            3      Rs.  Qubitos - The Terrace Cafe   \n2                    1            2      Rs.             The Hudson Cafe   \n3                    0            3      Rs.           Summer House Cafe   \n4                    0            3      Rs.                 38 Barracks   \n\n                                            cuisines  \\\n0         Continental, American, Asian, North Indian   \n1  Thai, European, Mexican, North Indian, Chinese...   \n2                Cafe, Italian, Continental, Chinese   \n3                               Italian, Continental   \n4             North Indian, Italian, Asian, American   \n\n                                    location.address location.city user_rating  \n0             9-A & 12, Hauz Khas Village, New Delhi     New Delhi   Very Good  \n1  C-7, Vishal Enclave, Opposite Metro Pillar 417...     New Delhi   Excellent  \n2  2524, 1st Floor, Hudson Lane, Delhi University...     New Delhi   Very Good  \n3  1st Floor, DDA Shopping Complex, Aurobindo Pla...     New Delhi   Very Good  \n4     M-38, Outer Circle, Connaught Place, New Delhi     New Delhi   Very Good  ",
      "text/html": "<div>\n<style scoped>\n    .dataframe tbody tr th:only-of-type {\n        vertical-align: middle;\n    }\n\n    .dataframe tbody tr th {\n        vertical-align: top;\n    }\n\n    .dataframe thead th {\n        text-align: right;\n    }\n</style>\n<table border=\"1\" class=\"dataframe\">\n  <thead>\n    <tr style=\"text-align: right;\">\n      <th></th>\n      <th>has_online_delivery</th>\n      <th>price_range</th>\n      <th>currency</th>\n      <th>name</th>\n      <th>cuisines</th>\n      <th>location.address</th>\n      <th>location.city</th>\n      <th>user_rating</th>\n    </tr>\n  </thead>\n  <tbody>\n    <tr>\n      <th>0</th>\n      <td>1</td>\n      <td>3</td>\n      <td>Rs.</td>\n      <td>Hauz Khas Social</td>\n      <td>Continental, American, Asian, North Indian</td>\n      <td>9-A &amp; 12, Hauz Khas Village, New Delhi</td>\n      <td>New Delhi</td>\n      <td>Very Good</td>\n    </tr>\n    <tr>\n      <th>1</th>\n      <td>0</td>\n      <td>3</td>\n      <td>Rs.</td>\n      <td>Qubitos - The Terrace Cafe</td>\n      <td>Thai, European, Mexican, North Indian, Chinese...</td>\n      <td>C-7, Vishal Enclave, Opposite Metro Pillar 417...</td>\n      <td>New Delhi</td>\n      <td>Excellent</td>\n    </tr>\n    <tr>\n      <th>2</th>\n      <td>1</td>\n      <td>2</td>\n      <td>Rs.</td>\n      <td>The Hudson Cafe</td>\n      <td>Cafe, Italian, Continental, Chinese</td>\n      <td>2524, 1st Floor, Hudson Lane, Delhi University...</td>\n      <td>New Delhi</td>\n      <td>Very Good</td>\n    </tr>\n    <tr>\n      <th>3</th>\n      <td>0</td>\n      <td>3</td>\n      <td>Rs.</td>\n      <td>Summer House Cafe</td>\n      <td>Italian, Continental</td>\n      <td>1st Floor, DDA Shopping Complex, Aurobindo Pla...</td>\n      <td>New Delhi</td>\n      <td>Very Good</td>\n    </tr>\n    <tr>\n      <th>4</th>\n      <td>0</td>\n      <td>3</td>\n      <td>Rs.</td>\n      <td>38 Barracks</td>\n      <td>North Indian, Italian, Asian, American</td>\n      <td>M-38, Outer Circle, Connaught Place, New Delhi</td>\n      <td>New Delhi</td>\n      <td>Very Good</td>\n    </tr>\n  </tbody>\n</table>\n</div>"
     },
     "metadata": {}
    }
   ]
  },
  {
   "cell_type": "markdown",
   "source": "Podemos usar el método `crosstab` para generar tablas de contingencia usando dos de nuestras variables categóricas:",
   "metadata": {
    "cell_id": "00003-765a2b85-4584-4865-87dc-dbf938d105c1",
    "deepnote_cell_type": "markdown"
   }
  },
  {
   "cell_type": "code",
   "metadata": {
    "cell_id": "00004-3cf2f3d8-2028-40a7-84bb-f803a47d0ee9",
    "deepnote_to_be_reexecuted": false,
    "source_hash": "872cc059",
    "execution_start": 1630553013063,
    "execution_millis": 70,
    "deepnote_cell_type": "code"
   },
   "source": "pd.crosstab(df['price_range'], df['user_rating'])",
   "execution_count": null,
   "outputs": [
    {
     "output_type": "execute_result",
     "execution_count": 3,
     "data": {
      "application/vnd.deepnote.dataframe.v2+json": {
       "row_count": 4,
       "column_count": 6,
       "columns": [
        {
         "name": "Average",
         "dtype": "int64",
         "stats": {
          "unique_count": 4,
          "nan_count": 0,
          "min": "12",
          "max": "47",
          "histogram": [
           {
            "bin_start": 12,
            "bin_end": 15.5,
            "count": 1
           },
           {
            "bin_start": 15.5,
            "bin_end": 19,
            "count": 0
           },
           {
            "bin_start": 19,
            "bin_end": 22.5,
            "count": 1
           },
           {
            "bin_start": 22.5,
            "bin_end": 26,
            "count": 0
           },
           {
            "bin_start": 26,
            "bin_end": 29.5,
            "count": 0
           },
           {
            "bin_start": 29.5,
            "bin_end": 33,
            "count": 0
           },
           {
            "bin_start": 33,
            "bin_end": 36.5,
            "count": 0
           },
           {
            "bin_start": 36.5,
            "bin_end": 40,
            "count": 0
           },
           {
            "bin_start": 40,
            "bin_end": 43.5,
            "count": 1
           },
           {
            "bin_start": 43.5,
            "bin_end": 47,
            "count": 1
           }
          ]
         }
        },
        {
         "name": "Excellent",
         "dtype": "int64",
         "stats": {
          "unique_count": 4,
          "nan_count": 0,
          "min": "9",
          "max": "84",
          "histogram": [
           {
            "bin_start": 9,
            "bin_end": 16.5,
            "count": 1
           },
           {
            "bin_start": 16.5,
            "bin_end": 24,
            "count": 0
           },
           {
            "bin_start": 24,
            "bin_end": 31.5,
            "count": 0
           },
           {
            "bin_start": 31.5,
            "bin_end": 39,
            "count": 1
           },
           {
            "bin_start": 39,
            "bin_end": 46.5,
            "count": 0
           },
           {
            "bin_start": 46.5,
            "bin_end": 54,
            "count": 0
           },
           {
            "bin_start": 54,
            "bin_end": 61.5,
            "count": 0
           },
           {
            "bin_start": 61.5,
            "bin_end": 69,
            "count": 1
           },
           {
            "bin_start": 69,
            "bin_end": 76.5,
            "count": 0
           },
           {
            "bin_start": 76.5,
            "bin_end": 84,
            "count": 1
           }
          ]
         }
        },
        {
         "name": "Good",
         "dtype": "int64",
         "stats": {
          "unique_count": 4,
          "nan_count": 0,
          "min": "33",
          "max": "141",
          "histogram": [
           {
            "bin_start": 33,
            "bin_end": 43.8,
            "count": 1
           },
           {
            "bin_start": 43.8,
            "bin_end": 54.6,
            "count": 0
           },
           {
            "bin_start": 54.6,
            "bin_end": 65.4,
            "count": 1
           },
           {
            "bin_start": 65.4,
            "bin_end": 76.2,
            "count": 0
           },
           {
            "bin_start": 76.2,
            "bin_end": 87,
            "count": 0
           },
           {
            "bin_start": 87,
            "bin_end": 97.80000000000001,
            "count": 0
           },
           {
            "bin_start": 97.80000000000001,
            "bin_end": 108.60000000000001,
            "count": 0
           },
           {
            "bin_start": 108.60000000000001,
            "bin_end": 119.4,
            "count": 1
           },
           {
            "bin_start": 119.4,
            "bin_end": 130.2,
            "count": 0
           },
           {
            "bin_start": 130.2,
            "bin_end": 141,
            "count": 1
           }
          ]
         }
        },
        {
         "name": "Not rated",
         "dtype": "int64",
         "stats": {
          "unique_count": 3,
          "nan_count": 0,
          "min": "1",
          "max": "19",
          "histogram": [
           {
            "bin_start": 1,
            "bin_end": 2.8,
            "count": 1
           },
           {
            "bin_start": 2.8,
            "bin_end": 4.6,
            "count": 2
           },
           {
            "bin_start": 4.6,
            "bin_end": 6.4,
            "count": 0
           },
           {
            "bin_start": 6.4,
            "bin_end": 8.2,
            "count": 0
           },
           {
            "bin_start": 8.2,
            "bin_end": 10,
            "count": 0
           },
           {
            "bin_start": 10,
            "bin_end": 11.8,
            "count": 0
           },
           {
            "bin_start": 11.8,
            "bin_end": 13.6,
            "count": 0
           },
           {
            "bin_start": 13.6,
            "bin_end": 15.4,
            "count": 0
           },
           {
            "bin_start": 15.4,
            "bin_end": 17.2,
            "count": 0
           },
           {
            "bin_start": 17.2,
            "bin_end": 19,
            "count": 1
           }
          ]
         }
        },
        {
         "name": "Poor",
         "dtype": "int64",
         "stats": {
          "unique_count": 3,
          "nan_count": 0,
          "min": "0",
          "max": "2",
          "histogram": [
           {
            "bin_start": 0,
            "bin_end": 0.2,
            "count": 1
           },
           {
            "bin_start": 0.2,
            "bin_end": 0.4,
            "count": 0
           },
           {
            "bin_start": 0.4,
            "bin_end": 0.6000000000000001,
            "count": 0
           },
           {
            "bin_start": 0.6000000000000001,
            "bin_end": 0.8,
            "count": 0
           },
           {
            "bin_start": 0.8,
            "bin_end": 1,
            "count": 0
           },
           {
            "bin_start": 1,
            "bin_end": 1.2000000000000002,
            "count": 1
           },
           {
            "bin_start": 1.2000000000000002,
            "bin_end": 1.4000000000000001,
            "count": 0
           },
           {
            "bin_start": 1.4000000000000001,
            "bin_end": 1.6,
            "count": 0
           },
           {
            "bin_start": 1.6,
            "bin_end": 1.8,
            "count": 0
           },
           {
            "bin_start": 1.8,
            "bin_end": 2,
            "count": 2
           }
          ]
         }
        },
        {
         "name": "Very Good",
         "dtype": "int64",
         "stats": {
          "unique_count": 4,
          "nan_count": 0,
          "min": "19",
          "max": "218",
          "histogram": [
           {
            "bin_start": 19,
            "bin_end": 38.9,
            "count": 1
           },
           {
            "bin_start": 38.9,
            "bin_end": 58.8,
            "count": 0
           },
           {
            "bin_start": 58.8,
            "bin_end": 78.69999999999999,
            "count": 0
           },
           {
            "bin_start": 78.69999999999999,
            "bin_end": 98.6,
            "count": 0
           },
           {
            "bin_start": 98.6,
            "bin_end": 118.5,
            "count": 0
           },
           {
            "bin_start": 118.5,
            "bin_end": 138.39999999999998,
            "count": 2
           },
           {
            "bin_start": 138.39999999999998,
            "bin_end": 158.29999999999998,
            "count": 0
           },
           {
            "bin_start": 158.29999999999998,
            "bin_end": 178.2,
            "count": 0
           },
           {
            "bin_start": 178.2,
            "bin_end": 198.1,
            "count": 0
           },
           {
            "bin_start": 198.1,
            "bin_end": 218,
            "count": 1
           }
          ]
         }
        },
        {
         "name": "_deepnote_index_column",
         "dtype": "int64"
        }
       ],
       "rows_top": [
        {
         "Average": 12,
         "Excellent": 9,
         "Good": 33,
         "Not rated": 1,
         "Poor": 0,
         "Very Good": 19,
         "_deepnote_index_column": 1
        },
        {
         "Average": 47,
         "Excellent": 37,
         "Good": 116,
         "Not rated": 3,
         "Poor": 2,
         "Very Good": 132,
         "_deepnote_index_column": 2
        },
        {
         "Average": 41,
         "Excellent": 84,
         "Good": 141,
         "Not rated": 3,
         "Poor": 1,
         "Very Good": 218,
         "_deepnote_index_column": 3
        },
        {
         "Average": 19,
         "Excellent": 64,
         "Good": 56,
         "Not rated": 19,
         "Poor": 2,
         "Very Good": 121,
         "_deepnote_index_column": 4
        }
       ],
       "rows_bottom": null
      },
      "text/plain": "user_rating  Average  Excellent  Good  Not rated  Poor  Very Good\nprice_range                                                      \n1                 12          9    33          1     0         19\n2                 47         37   116          3     2        132\n3                 41         84   141          3     1        218\n4                 19         64    56         19     2        121",
      "text/html": "<div>\n<style scoped>\n    .dataframe tbody tr th:only-of-type {\n        vertical-align: middle;\n    }\n\n    .dataframe tbody tr th {\n        vertical-align: top;\n    }\n\n    .dataframe thead th {\n        text-align: right;\n    }\n</style>\n<table border=\"1\" class=\"dataframe\">\n  <thead>\n    <tr style=\"text-align: right;\">\n      <th>user_rating</th>\n      <th>Average</th>\n      <th>Excellent</th>\n      <th>Good</th>\n      <th>Not rated</th>\n      <th>Poor</th>\n      <th>Very Good</th>\n    </tr>\n    <tr>\n      <th>price_range</th>\n      <th></th>\n      <th></th>\n      <th></th>\n      <th></th>\n      <th></th>\n      <th></th>\n    </tr>\n  </thead>\n  <tbody>\n    <tr>\n      <th>1</th>\n      <td>12</td>\n      <td>9</td>\n      <td>33</td>\n      <td>1</td>\n      <td>0</td>\n      <td>19</td>\n    </tr>\n    <tr>\n      <th>2</th>\n      <td>47</td>\n      <td>37</td>\n      <td>116</td>\n      <td>3</td>\n      <td>2</td>\n      <td>132</td>\n    </tr>\n    <tr>\n      <th>3</th>\n      <td>41</td>\n      <td>84</td>\n      <td>141</td>\n      <td>3</td>\n      <td>1</td>\n      <td>218</td>\n    </tr>\n    <tr>\n      <th>4</th>\n      <td>19</td>\n      <td>64</td>\n      <td>56</td>\n      <td>19</td>\n      <td>2</td>\n      <td>121</td>\n    </tr>\n  </tbody>\n</table>\n</div>"
     },
     "metadata": {}
    }
   ]
  },
  {
   "cell_type": "code",
   "metadata": {
    "tags": [],
    "cell_id": "00005-21351f26-6cae-4c82-af0c-ae442571072d",
    "deepnote_to_be_reexecuted": false,
    "source_hash": "872cc059",
    "execution_start": 1630553070307,
    "execution_millis": 95,
    "deepnote_cell_type": "code"
   },
   "source": "pd.crosstab(df['price_range'], df['user_rating'])",
   "execution_count": null,
   "outputs": [
    {
     "output_type": "execute_result",
     "execution_count": 7,
     "data": {
      "application/vnd.deepnote.dataframe.v2+json": {
       "row_count": 4,
       "column_count": 6,
       "columns": [
        {
         "name": "Average",
         "dtype": "int64",
         "stats": {
          "unique_count": 4,
          "nan_count": 0,
          "min": "12",
          "max": "47",
          "histogram": [
           {
            "bin_start": 12,
            "bin_end": 15.5,
            "count": 1
           },
           {
            "bin_start": 15.5,
            "bin_end": 19,
            "count": 0
           },
           {
            "bin_start": 19,
            "bin_end": 22.5,
            "count": 1
           },
           {
            "bin_start": 22.5,
            "bin_end": 26,
            "count": 0
           },
           {
            "bin_start": 26,
            "bin_end": 29.5,
            "count": 0
           },
           {
            "bin_start": 29.5,
            "bin_end": 33,
            "count": 0
           },
           {
            "bin_start": 33,
            "bin_end": 36.5,
            "count": 0
           },
           {
            "bin_start": 36.5,
            "bin_end": 40,
            "count": 0
           },
           {
            "bin_start": 40,
            "bin_end": 43.5,
            "count": 1
           },
           {
            "bin_start": 43.5,
            "bin_end": 47,
            "count": 1
           }
          ]
         }
        },
        {
         "name": "Excellent",
         "dtype": "int64",
         "stats": {
          "unique_count": 4,
          "nan_count": 0,
          "min": "9",
          "max": "84",
          "histogram": [
           {
            "bin_start": 9,
            "bin_end": 16.5,
            "count": 1
           },
           {
            "bin_start": 16.5,
            "bin_end": 24,
            "count": 0
           },
           {
            "bin_start": 24,
            "bin_end": 31.5,
            "count": 0
           },
           {
            "bin_start": 31.5,
            "bin_end": 39,
            "count": 1
           },
           {
            "bin_start": 39,
            "bin_end": 46.5,
            "count": 0
           },
           {
            "bin_start": 46.5,
            "bin_end": 54,
            "count": 0
           },
           {
            "bin_start": 54,
            "bin_end": 61.5,
            "count": 0
           },
           {
            "bin_start": 61.5,
            "bin_end": 69,
            "count": 1
           },
           {
            "bin_start": 69,
            "bin_end": 76.5,
            "count": 0
           },
           {
            "bin_start": 76.5,
            "bin_end": 84,
            "count": 1
           }
          ]
         }
        },
        {
         "name": "Good",
         "dtype": "int64",
         "stats": {
          "unique_count": 4,
          "nan_count": 0,
          "min": "33",
          "max": "141",
          "histogram": [
           {
            "bin_start": 33,
            "bin_end": 43.8,
            "count": 1
           },
           {
            "bin_start": 43.8,
            "bin_end": 54.6,
            "count": 0
           },
           {
            "bin_start": 54.6,
            "bin_end": 65.4,
            "count": 1
           },
           {
            "bin_start": 65.4,
            "bin_end": 76.2,
            "count": 0
           },
           {
            "bin_start": 76.2,
            "bin_end": 87,
            "count": 0
           },
           {
            "bin_start": 87,
            "bin_end": 97.80000000000001,
            "count": 0
           },
           {
            "bin_start": 97.80000000000001,
            "bin_end": 108.60000000000001,
            "count": 0
           },
           {
            "bin_start": 108.60000000000001,
            "bin_end": 119.4,
            "count": 1
           },
           {
            "bin_start": 119.4,
            "bin_end": 130.2,
            "count": 0
           },
           {
            "bin_start": 130.2,
            "bin_end": 141,
            "count": 1
           }
          ]
         }
        },
        {
         "name": "Not rated",
         "dtype": "int64",
         "stats": {
          "unique_count": 3,
          "nan_count": 0,
          "min": "1",
          "max": "19",
          "histogram": [
           {
            "bin_start": 1,
            "bin_end": 2.8,
            "count": 1
           },
           {
            "bin_start": 2.8,
            "bin_end": 4.6,
            "count": 2
           },
           {
            "bin_start": 4.6,
            "bin_end": 6.4,
            "count": 0
           },
           {
            "bin_start": 6.4,
            "bin_end": 8.2,
            "count": 0
           },
           {
            "bin_start": 8.2,
            "bin_end": 10,
            "count": 0
           },
           {
            "bin_start": 10,
            "bin_end": 11.8,
            "count": 0
           },
           {
            "bin_start": 11.8,
            "bin_end": 13.6,
            "count": 0
           },
           {
            "bin_start": 13.6,
            "bin_end": 15.4,
            "count": 0
           },
           {
            "bin_start": 15.4,
            "bin_end": 17.2,
            "count": 0
           },
           {
            "bin_start": 17.2,
            "bin_end": 19,
            "count": 1
           }
          ]
         }
        },
        {
         "name": "Poor",
         "dtype": "int64",
         "stats": {
          "unique_count": 3,
          "nan_count": 0,
          "min": "0",
          "max": "2",
          "histogram": [
           {
            "bin_start": 0,
            "bin_end": 0.2,
            "count": 1
           },
           {
            "bin_start": 0.2,
            "bin_end": 0.4,
            "count": 0
           },
           {
            "bin_start": 0.4,
            "bin_end": 0.6000000000000001,
            "count": 0
           },
           {
            "bin_start": 0.6000000000000001,
            "bin_end": 0.8,
            "count": 0
           },
           {
            "bin_start": 0.8,
            "bin_end": 1,
            "count": 0
           },
           {
            "bin_start": 1,
            "bin_end": 1.2000000000000002,
            "count": 1
           },
           {
            "bin_start": 1.2000000000000002,
            "bin_end": 1.4000000000000001,
            "count": 0
           },
           {
            "bin_start": 1.4000000000000001,
            "bin_end": 1.6,
            "count": 0
           },
           {
            "bin_start": 1.6,
            "bin_end": 1.8,
            "count": 0
           },
           {
            "bin_start": 1.8,
            "bin_end": 2,
            "count": 2
           }
          ]
         }
        },
        {
         "name": "Very Good",
         "dtype": "int64",
         "stats": {
          "unique_count": 4,
          "nan_count": 0,
          "min": "19",
          "max": "218",
          "histogram": [
           {
            "bin_start": 19,
            "bin_end": 38.9,
            "count": 1
           },
           {
            "bin_start": 38.9,
            "bin_end": 58.8,
            "count": 0
           },
           {
            "bin_start": 58.8,
            "bin_end": 78.69999999999999,
            "count": 0
           },
           {
            "bin_start": 78.69999999999999,
            "bin_end": 98.6,
            "count": 0
           },
           {
            "bin_start": 98.6,
            "bin_end": 118.5,
            "count": 0
           },
           {
            "bin_start": 118.5,
            "bin_end": 138.39999999999998,
            "count": 2
           },
           {
            "bin_start": 138.39999999999998,
            "bin_end": 158.29999999999998,
            "count": 0
           },
           {
            "bin_start": 158.29999999999998,
            "bin_end": 178.2,
            "count": 0
           },
           {
            "bin_start": 178.2,
            "bin_end": 198.1,
            "count": 0
           },
           {
            "bin_start": 198.1,
            "bin_end": 218,
            "count": 1
           }
          ]
         }
        },
        {
         "name": "_deepnote_index_column",
         "dtype": "int64"
        }
       ],
       "rows_top": [
        {
         "Average": 12,
         "Excellent": 9,
         "Good": 33,
         "Not rated": 1,
         "Poor": 0,
         "Very Good": 19,
         "_deepnote_index_column": 1
        },
        {
         "Average": 47,
         "Excellent": 37,
         "Good": 116,
         "Not rated": 3,
         "Poor": 2,
         "Very Good": 132,
         "_deepnote_index_column": 2
        },
        {
         "Average": 41,
         "Excellent": 84,
         "Good": 141,
         "Not rated": 3,
         "Poor": 1,
         "Very Good": 218,
         "_deepnote_index_column": 3
        },
        {
         "Average": 19,
         "Excellent": 64,
         "Good": 56,
         "Not rated": 19,
         "Poor": 2,
         "Very Good": 121,
         "_deepnote_index_column": 4
        }
       ],
       "rows_bottom": null
      },
      "text/plain": "user_rating  Average  Excellent  Good  Not rated  Poor  Very Good\nprice_range                                                      \n1                 12          9    33          1     0         19\n2                 47         37   116          3     2        132\n3                 41         84   141          3     1        218\n4                 19         64    56         19     2        121",
      "text/html": "<div>\n<style scoped>\n    .dataframe tbody tr th:only-of-type {\n        vertical-align: middle;\n    }\n\n    .dataframe tbody tr th {\n        vertical-align: top;\n    }\n\n    .dataframe thead th {\n        text-align: right;\n    }\n</style>\n<table border=\"1\" class=\"dataframe\">\n  <thead>\n    <tr style=\"text-align: right;\">\n      <th>user_rating</th>\n      <th>Average</th>\n      <th>Excellent</th>\n      <th>Good</th>\n      <th>Not rated</th>\n      <th>Poor</th>\n      <th>Very Good</th>\n    </tr>\n    <tr>\n      <th>price_range</th>\n      <th></th>\n      <th></th>\n      <th></th>\n      <th></th>\n      <th></th>\n      <th></th>\n    </tr>\n  </thead>\n  <tbody>\n    <tr>\n      <th>1</th>\n      <td>12</td>\n      <td>9</td>\n      <td>33</td>\n      <td>1</td>\n      <td>0</td>\n      <td>19</td>\n    </tr>\n    <tr>\n      <th>2</th>\n      <td>47</td>\n      <td>37</td>\n      <td>116</td>\n      <td>3</td>\n      <td>2</td>\n      <td>132</td>\n    </tr>\n    <tr>\n      <th>3</th>\n      <td>41</td>\n      <td>84</td>\n      <td>141</td>\n      <td>3</td>\n      <td>1</td>\n      <td>218</td>\n    </tr>\n    <tr>\n      <th>4</th>\n      <td>19</td>\n      <td>64</td>\n      <td>56</td>\n      <td>19</td>\n      <td>2</td>\n      <td>121</td>\n    </tr>\n  </tbody>\n</table>\n</div>"
     },
     "metadata": {}
    }
   ]
  },
  {
   "cell_type": "markdown",
   "source": "Podemos obtener una columna y una fila con los totales añadiendo la bandera `margins` y `margins_name`:",
   "metadata": {
    "cell_id": "00005-2410742d-b6eb-4a91-91a3-5b3384d3fad3",
    "deepnote_cell_type": "markdown"
   }
  },
  {
   "cell_type": "code",
   "metadata": {
    "cell_id": "00006-5ce6c81c-9d87-4321-b9c3-8965ab0b54d1",
    "deepnote_to_be_reexecuted": false,
    "source_hash": "3197902b",
    "execution_start": 1630553304402,
    "execution_millis": 59,
    "deepnote_cell_type": "code"
   },
   "source": "pd.crosstab(df['price_range'], df['user_rating'], margins=True, margins_name='total')",
   "execution_count": null,
   "outputs": [
    {
     "output_type": "execute_result",
     "execution_count": 8,
     "data": {
      "application/vnd.deepnote.dataframe.v2+json": {
       "row_count": 5,
       "column_count": 7,
       "columns": [
        {
         "name": "Average",
         "dtype": "int64",
         "stats": {
          "unique_count": 5,
          "nan_count": 0,
          "min": "12",
          "max": "119",
          "histogram": [
           {
            "bin_start": 12,
            "bin_end": 22.7,
            "count": 2
           },
           {
            "bin_start": 22.7,
            "bin_end": 33.4,
            "count": 0
           },
           {
            "bin_start": 33.4,
            "bin_end": 44.099999999999994,
            "count": 1
           },
           {
            "bin_start": 44.099999999999994,
            "bin_end": 54.8,
            "count": 1
           },
           {
            "bin_start": 54.8,
            "bin_end": 65.5,
            "count": 0
           },
           {
            "bin_start": 65.5,
            "bin_end": 76.19999999999999,
            "count": 0
           },
           {
            "bin_start": 76.19999999999999,
            "bin_end": 86.89999999999999,
            "count": 0
           },
           {
            "bin_start": 86.89999999999999,
            "bin_end": 97.6,
            "count": 0
           },
           {
            "bin_start": 97.6,
            "bin_end": 108.3,
            "count": 0
           },
           {
            "bin_start": 108.3,
            "bin_end": 119,
            "count": 1
           }
          ]
         }
        },
        {
         "name": "Excellent",
         "dtype": "int64",
         "stats": {
          "unique_count": 5,
          "nan_count": 0,
          "min": "9",
          "max": "194",
          "histogram": [
           {
            "bin_start": 9,
            "bin_end": 27.5,
            "count": 1
           },
           {
            "bin_start": 27.5,
            "bin_end": 46,
            "count": 1
           },
           {
            "bin_start": 46,
            "bin_end": 64.5,
            "count": 1
           },
           {
            "bin_start": 64.5,
            "bin_end": 83,
            "count": 0
           },
           {
            "bin_start": 83,
            "bin_end": 101.5,
            "count": 1
           },
           {
            "bin_start": 101.5,
            "bin_end": 120,
            "count": 0
           },
           {
            "bin_start": 120,
            "bin_end": 138.5,
            "count": 0
           },
           {
            "bin_start": 138.5,
            "bin_end": 157,
            "count": 0
           },
           {
            "bin_start": 157,
            "bin_end": 175.5,
            "count": 0
           },
           {
            "bin_start": 175.5,
            "bin_end": 194,
            "count": 1
           }
          ]
         }
        },
        {
         "name": "Good",
         "dtype": "int64",
         "stats": {
          "unique_count": 5,
          "nan_count": 0,
          "min": "33",
          "max": "346",
          "histogram": [
           {
            "bin_start": 33,
            "bin_end": 64.3,
            "count": 2
           },
           {
            "bin_start": 64.3,
            "bin_end": 95.6,
            "count": 0
           },
           {
            "bin_start": 95.6,
            "bin_end": 126.9,
            "count": 1
           },
           {
            "bin_start": 126.9,
            "bin_end": 158.2,
            "count": 1
           },
           {
            "bin_start": 158.2,
            "bin_end": 189.5,
            "count": 0
           },
           {
            "bin_start": 189.5,
            "bin_end": 220.8,
            "count": 0
           },
           {
            "bin_start": 220.8,
            "bin_end": 252.1,
            "count": 0
           },
           {
            "bin_start": 252.1,
            "bin_end": 283.4,
            "count": 0
           },
           {
            "bin_start": 283.4,
            "bin_end": 314.7,
            "count": 0
           },
           {
            "bin_start": 314.7,
            "bin_end": 346,
            "count": 1
           }
          ]
         }
        },
        {
         "name": "Not rated",
         "dtype": "int64",
         "stats": {
          "unique_count": 4,
          "nan_count": 0,
          "min": "1",
          "max": "26",
          "histogram": [
           {
            "bin_start": 1,
            "bin_end": 3.5,
            "count": 3
           },
           {
            "bin_start": 3.5,
            "bin_end": 6,
            "count": 0
           },
           {
            "bin_start": 6,
            "bin_end": 8.5,
            "count": 0
           },
           {
            "bin_start": 8.5,
            "bin_end": 11,
            "count": 0
           },
           {
            "bin_start": 11,
            "bin_end": 13.5,
            "count": 0
           },
           {
            "bin_start": 13.5,
            "bin_end": 16,
            "count": 0
           },
           {
            "bin_start": 16,
            "bin_end": 18.5,
            "count": 0
           },
           {
            "bin_start": 18.5,
            "bin_end": 21,
            "count": 1
           },
           {
            "bin_start": 21,
            "bin_end": 23.5,
            "count": 0
           },
           {
            "bin_start": 23.5,
            "bin_end": 26,
            "count": 1
           }
          ]
         }
        },
        {
         "name": "Poor",
         "dtype": "int64",
         "stats": {
          "unique_count": 4,
          "nan_count": 0,
          "min": "0",
          "max": "5",
          "histogram": [
           {
            "bin_start": 0,
            "bin_end": 0.5,
            "count": 1
           },
           {
            "bin_start": 0.5,
            "bin_end": 1,
            "count": 0
           },
           {
            "bin_start": 1,
            "bin_end": 1.5,
            "count": 1
           },
           {
            "bin_start": 1.5,
            "bin_end": 2,
            "count": 0
           },
           {
            "bin_start": 2,
            "bin_end": 2.5,
            "count": 2
           },
           {
            "bin_start": 2.5,
            "bin_end": 3,
            "count": 0
           },
           {
            "bin_start": 3,
            "bin_end": 3.5,
            "count": 0
           },
           {
            "bin_start": 3.5,
            "bin_end": 4,
            "count": 0
           },
           {
            "bin_start": 4,
            "bin_end": 4.5,
            "count": 0
           },
           {
            "bin_start": 4.5,
            "bin_end": 5,
            "count": 1
           }
          ]
         }
        },
        {
         "name": "Very Good",
         "dtype": "int64",
         "stats": {
          "unique_count": 5,
          "nan_count": 0,
          "min": "19",
          "max": "490",
          "histogram": [
           {
            "bin_start": 19,
            "bin_end": 66.1,
            "count": 1
           },
           {
            "bin_start": 66.1,
            "bin_end": 113.2,
            "count": 0
           },
           {
            "bin_start": 113.2,
            "bin_end": 160.3,
            "count": 2
           },
           {
            "bin_start": 160.3,
            "bin_end": 207.4,
            "count": 0
           },
           {
            "bin_start": 207.4,
            "bin_end": 254.5,
            "count": 1
           },
           {
            "bin_start": 254.5,
            "bin_end": 301.6,
            "count": 0
           },
           {
            "bin_start": 301.6,
            "bin_end": 348.7,
            "count": 0
           },
           {
            "bin_start": 348.7,
            "bin_end": 395.8,
            "count": 0
           },
           {
            "bin_start": 395.8,
            "bin_end": 442.90000000000003,
            "count": 0
           },
           {
            "bin_start": 442.90000000000003,
            "bin_end": 490,
            "count": 1
           }
          ]
         }
        },
        {
         "name": "total",
         "dtype": "int64",
         "stats": {
          "unique_count": 5,
          "nan_count": 0,
          "min": "74",
          "max": "1180",
          "histogram": [
           {
            "bin_start": 74,
            "bin_end": 184.6,
            "count": 1
           },
           {
            "bin_start": 184.6,
            "bin_end": 295.2,
            "count": 1
           },
           {
            "bin_start": 295.2,
            "bin_end": 405.79999999999995,
            "count": 1
           },
           {
            "bin_start": 405.79999999999995,
            "bin_end": 516.4,
            "count": 1
           },
           {
            "bin_start": 516.4,
            "bin_end": 627,
            "count": 0
           },
           {
            "bin_start": 627,
            "bin_end": 737.5999999999999,
            "count": 0
           },
           {
            "bin_start": 737.5999999999999,
            "bin_end": 848.1999999999999,
            "count": 0
           },
           {
            "bin_start": 848.1999999999999,
            "bin_end": 958.8,
            "count": 0
           },
           {
            "bin_start": 958.8,
            "bin_end": 1069.4,
            "count": 0
           },
           {
            "bin_start": 1069.4,
            "bin_end": 1180,
            "count": 1
           }
          ]
         }
        },
        {
         "name": "_deepnote_index_column",
         "dtype": "object"
        }
       ],
       "rows_top": [
        {
         "Average": 12,
         "Excellent": 9,
         "Good": 33,
         "Not rated": 1,
         "Poor": 0,
         "Very Good": 19,
         "total": 74,
         "_deepnote_index_column": "1"
        },
        {
         "Average": 47,
         "Excellent": 37,
         "Good": 116,
         "Not rated": 3,
         "Poor": 2,
         "Very Good": 132,
         "total": 337,
         "_deepnote_index_column": "2"
        },
        {
         "Average": 41,
         "Excellent": 84,
         "Good": 141,
         "Not rated": 3,
         "Poor": 1,
         "Very Good": 218,
         "total": 488,
         "_deepnote_index_column": "3"
        },
        {
         "Average": 19,
         "Excellent": 64,
         "Good": 56,
         "Not rated": 19,
         "Poor": 2,
         "Very Good": 121,
         "total": 281,
         "_deepnote_index_column": "4"
        },
        {
         "Average": 119,
         "Excellent": 194,
         "Good": 346,
         "Not rated": 26,
         "Poor": 5,
         "Very Good": 490,
         "total": 1180,
         "_deepnote_index_column": "total"
        }
       ],
       "rows_bottom": null
      },
      "text/plain": "user_rating  Average  Excellent  Good  Not rated  Poor  Very Good  total\nprice_range                                                             \n1                 12          9    33          1     0         19     74\n2                 47         37   116          3     2        132    337\n3                 41         84   141          3     1        218    488\n4                 19         64    56         19     2        121    281\ntotal            119        194   346         26     5        490   1180",
      "text/html": "<div>\n<style scoped>\n    .dataframe tbody tr th:only-of-type {\n        vertical-align: middle;\n    }\n\n    .dataframe tbody tr th {\n        vertical-align: top;\n    }\n\n    .dataframe thead th {\n        text-align: right;\n    }\n</style>\n<table border=\"1\" class=\"dataframe\">\n  <thead>\n    <tr style=\"text-align: right;\">\n      <th>user_rating</th>\n      <th>Average</th>\n      <th>Excellent</th>\n      <th>Good</th>\n      <th>Not rated</th>\n      <th>Poor</th>\n      <th>Very Good</th>\n      <th>total</th>\n    </tr>\n    <tr>\n      <th>price_range</th>\n      <th></th>\n      <th></th>\n      <th></th>\n      <th></th>\n      <th></th>\n      <th></th>\n      <th></th>\n    </tr>\n  </thead>\n  <tbody>\n    <tr>\n      <th>1</th>\n      <td>12</td>\n      <td>9</td>\n      <td>33</td>\n      <td>1</td>\n      <td>0</td>\n      <td>19</td>\n      <td>74</td>\n    </tr>\n    <tr>\n      <th>2</th>\n      <td>47</td>\n      <td>37</td>\n      <td>116</td>\n      <td>3</td>\n      <td>2</td>\n      <td>132</td>\n      <td>337</td>\n    </tr>\n    <tr>\n      <th>3</th>\n      <td>41</td>\n      <td>84</td>\n      <td>141</td>\n      <td>3</td>\n      <td>1</td>\n      <td>218</td>\n      <td>488</td>\n    </tr>\n    <tr>\n      <th>4</th>\n      <td>19</td>\n      <td>64</td>\n      <td>56</td>\n      <td>19</td>\n      <td>2</td>\n      <td>121</td>\n      <td>281</td>\n    </tr>\n    <tr>\n      <th>total</th>\n      <td>119</td>\n      <td>194</td>\n      <td>346</td>\n      <td>26</td>\n      <td>5</td>\n      <td>490</td>\n      <td>1180</td>\n    </tr>\n  </tbody>\n</table>\n</div>"
     },
     "metadata": {}
    }
   ]
  },
  {
   "cell_type": "markdown",
   "source": "Como puedes observar, el índice está indicando la primera agrupación de nuestros datos (la columna 'price_range'), mientras que las columnas indican la segunda agrupación (la columna 'user_rating').",
   "metadata": {
    "cell_id": "00007-92c162f1-7d9d-4c86-9202-3bfe0e450b8d",
    "deepnote_cell_type": "markdown"
   }
  },
  {
   "cell_type": "markdown",
   "source": "---\n\nTambién podemos añadir una variable categórica más para generar múltiples niveles en las columnas:",
   "metadata": {
    "cell_id": "00008-9162bdd8-72c9-43b3-902d-16b64f09fc9e",
    "deepnote_cell_type": "markdown"
   }
  },
  {
   "cell_type": "code",
   "metadata": {
    "cell_id": "00009-492a0d40-44cf-4194-9c4a-71e27ae68f1a",
    "deepnote_to_be_reexecuted": false,
    "source_hash": "14fec988",
    "execution_start": 1630628356569,
    "execution_millis": 92,
    "deepnote_cell_type": "code"
   },
   "source": "pd.crosstab(df['price_range'], [df['has_online_delivery'], df['user_rating']], margins=True, margins_name='total')",
   "execution_count": null,
   "outputs": [
    {
     "output_type": "execute_result",
     "execution_count": 3,
     "data": {
      "application/vnd.deepnote.dataframe.v2+json": {
       "row_count": 5,
       "column_count": 12,
       "columns": [
        {
         "name": [
          0,
          "Average"
         ],
         "dtype": "int64",
         "stats": {
          "unique_count": 5,
          "nan_count": 0,
          "min": "12",
          "max": "118",
          "histogram": [
           {
            "bin_start": 12,
            "bin_end": 22.6,
            "count": 2
           },
           {
            "bin_start": 22.6,
            "bin_end": 33.2,
            "count": 0
           },
           {
            "bin_start": 33.2,
            "bin_end": 43.8,
            "count": 1
           },
           {
            "bin_start": 43.8,
            "bin_end": 54.4,
            "count": 1
           },
           {
            "bin_start": 54.4,
            "bin_end": 65,
            "count": 0
           },
           {
            "bin_start": 65,
            "bin_end": 75.6,
            "count": 0
           },
           {
            "bin_start": 75.6,
            "bin_end": 86.2,
            "count": 0
           },
           {
            "bin_start": 86.2,
            "bin_end": 96.8,
            "count": 0
           },
           {
            "bin_start": 96.8,
            "bin_end": 107.39999999999999,
            "count": 0
           },
           {
            "bin_start": 107.39999999999999,
            "bin_end": 118,
            "count": 1
           }
          ]
         }
        },
        {
         "name": [
          0,
          "Excellent"
         ],
         "dtype": "int64",
         "stats": {
          "unique_count": 5,
          "nan_count": 0,
          "min": "8",
          "max": "169",
          "histogram": [
           {
            "bin_start": 8,
            "bin_end": 24.1,
            "count": 1
           },
           {
            "bin_start": 24.1,
            "bin_end": 40.2,
            "count": 1
           },
           {
            "bin_start": 40.2,
            "bin_end": 56.300000000000004,
            "count": 0
           },
           {
            "bin_start": 56.300000000000004,
            "bin_end": 72.4,
            "count": 2
           },
           {
            "bin_start": 72.4,
            "bin_end": 88.5,
            "count": 0
           },
           {
            "bin_start": 88.5,
            "bin_end": 104.60000000000001,
            "count": 0
           },
           {
            "bin_start": 104.60000000000001,
            "bin_end": 120.70000000000002,
            "count": 0
           },
           {
            "bin_start": 120.70000000000002,
            "bin_end": 136.8,
            "count": 0
           },
           {
            "bin_start": 136.8,
            "bin_end": 152.9,
            "count": 0
           },
           {
            "bin_start": 152.9,
            "bin_end": 169,
            "count": 1
           }
          ]
         }
        },
        {
         "name": [
          0,
          "Good"
         ],
         "dtype": "int64",
         "stats": {
          "unique_count": 5,
          "nan_count": 0,
          "min": "32",
          "max": "320",
          "histogram": [
           {
            "bin_start": 32,
            "bin_end": 60.8,
            "count": 2
           },
           {
            "bin_start": 60.8,
            "bin_end": 89.6,
            "count": 0
           },
           {
            "bin_start": 89.6,
            "bin_end": 118.4,
            "count": 1
           },
           {
            "bin_start": 118.4,
            "bin_end": 147.2,
            "count": 1
           },
           {
            "bin_start": 147.2,
            "bin_end": 176,
            "count": 0
           },
           {
            "bin_start": 176,
            "bin_end": 204.8,
            "count": 0
           },
           {
            "bin_start": 204.8,
            "bin_end": 233.6,
            "count": 0
           },
           {
            "bin_start": 233.6,
            "bin_end": 262.4,
            "count": 0
           },
           {
            "bin_start": 262.4,
            "bin_end": 291.2,
            "count": 0
           },
           {
            "bin_start": 291.2,
            "bin_end": 320,
            "count": 1
           }
          ]
         }
        },
        {
         "name": [
          0,
          "Not rated"
         ],
         "dtype": "int64",
         "stats": {
          "unique_count": 4,
          "nan_count": 0,
          "min": "1",
          "max": "26",
          "histogram": [
           {
            "bin_start": 1,
            "bin_end": 3.5,
            "count": 3
           },
           {
            "bin_start": 3.5,
            "bin_end": 6,
            "count": 0
           },
           {
            "bin_start": 6,
            "bin_end": 8.5,
            "count": 0
           },
           {
            "bin_start": 8.5,
            "bin_end": 11,
            "count": 0
           },
           {
            "bin_start": 11,
            "bin_end": 13.5,
            "count": 0
           },
           {
            "bin_start": 13.5,
            "bin_end": 16,
            "count": 0
           },
           {
            "bin_start": 16,
            "bin_end": 18.5,
            "count": 0
           },
           {
            "bin_start": 18.5,
            "bin_end": 21,
            "count": 1
           },
           {
            "bin_start": 21,
            "bin_end": 23.5,
            "count": 0
           },
           {
            "bin_start": 23.5,
            "bin_end": 26,
            "count": 1
           }
          ]
         }
        },
        {
         "name": [
          0,
          "Poor"
         ],
         "dtype": "int64",
         "stats": {
          "unique_count": 4,
          "nan_count": 0,
          "min": "0",
          "max": "4",
          "histogram": [
           {
            "bin_start": 0,
            "bin_end": 0.4,
            "count": 1
           },
           {
            "bin_start": 0.4,
            "bin_end": 0.8,
            "count": 0
           },
           {
            "bin_start": 0.8,
            "bin_end": 1.2000000000000002,
            "count": 2
           },
           {
            "bin_start": 1.2000000000000002,
            "bin_end": 1.6,
            "count": 0
           },
           {
            "bin_start": 1.6,
            "bin_end": 2,
            "count": 0
           },
           {
            "bin_start": 2,
            "bin_end": 2.4000000000000004,
            "count": 1
           },
           {
            "bin_start": 2.4000000000000004,
            "bin_end": 2.8000000000000003,
            "count": 0
           },
           {
            "bin_start": 2.8000000000000003,
            "bin_end": 3.2,
            "count": 0
           },
           {
            "bin_start": 3.2,
            "bin_end": 3.6,
            "count": 0
           },
           {
            "bin_start": 3.6,
            "bin_end": 4,
            "count": 1
           }
          ]
         }
        },
        {
         "name": [
          0,
          "Very Good"
         ],
         "dtype": "int64",
         "stats": {
          "unique_count": 5,
          "nan_count": 0,
          "min": "15",
          "max": "410",
          "histogram": [
           {
            "bin_start": 15,
            "bin_end": 54.5,
            "count": 1
           },
           {
            "bin_start": 54.5,
            "bin_end": 94,
            "count": 0
           },
           {
            "bin_start": 94,
            "bin_end": 133.5,
            "count": 2
           },
           {
            "bin_start": 133.5,
            "bin_end": 173,
            "count": 0
           },
           {
            "bin_start": 173,
            "bin_end": 212.5,
            "count": 1
           },
           {
            "bin_start": 212.5,
            "bin_end": 252,
            "count": 0
           },
           {
            "bin_start": 252,
            "bin_end": 291.5,
            "count": 0
           },
           {
            "bin_start": 291.5,
            "bin_end": 331,
            "count": 0
           },
           {
            "bin_start": 331,
            "bin_end": 370.5,
            "count": 0
           },
           {
            "bin_start": 370.5,
            "bin_end": 410,
            "count": 1
           }
          ]
         }
        },
        {
         "name": [
          1,
          "Average"
         ],
         "dtype": "int64",
         "stats": {
          "unique_count": 2,
          "nan_count": 0,
          "min": "0",
          "max": "1",
          "histogram": [
           {
            "bin_start": 0,
            "bin_end": 0.1,
            "count": 3
           },
           {
            "bin_start": 0.1,
            "bin_end": 0.2,
            "count": 0
           },
           {
            "bin_start": 0.2,
            "bin_end": 0.30000000000000004,
            "count": 0
           },
           {
            "bin_start": 0.30000000000000004,
            "bin_end": 0.4,
            "count": 0
           },
           {
            "bin_start": 0.4,
            "bin_end": 0.5,
            "count": 0
           },
           {
            "bin_start": 0.5,
            "bin_end": 0.6000000000000001,
            "count": 0
           },
           {
            "bin_start": 0.6000000000000001,
            "bin_end": 0.7000000000000001,
            "count": 0
           },
           {
            "bin_start": 0.7000000000000001,
            "bin_end": 0.8,
            "count": 0
           },
           {
            "bin_start": 0.8,
            "bin_end": 0.9,
            "count": 0
           },
           {
            "bin_start": 0.9,
            "bin_end": 1,
            "count": 2
           }
          ]
         }
        },
        {
         "name": [
          1,
          "Excellent"
         ],
         "dtype": "int64",
         "stats": {
          "unique_count": 5,
          "nan_count": 0,
          "min": "1",
          "max": "25",
          "histogram": [
           {
            "bin_start": 1,
            "bin_end": 3.4,
            "count": 2
           },
           {
            "bin_start": 3.4,
            "bin_end": 5.8,
            "count": 0
           },
           {
            "bin_start": 5.8,
            "bin_end": 8.2,
            "count": 1
           },
           {
            "bin_start": 8.2,
            "bin_end": 10.6,
            "count": 0
           },
           {
            "bin_start": 10.6,
            "bin_end": 13,
            "count": 0
           },
           {
            "bin_start": 13,
            "bin_end": 15.399999999999999,
            "count": 1
           },
           {
            "bin_start": 15.399999999999999,
            "bin_end": 17.8,
            "count": 0
           },
           {
            "bin_start": 17.8,
            "bin_end": 20.2,
            "count": 0
           },
           {
            "bin_start": 20.2,
            "bin_end": 22.599999999999998,
            "count": 0
           },
           {
            "bin_start": 22.599999999999998,
            "bin_end": 25,
            "count": 1
           }
          ]
         }
        },
        {
         "name": [
          1,
          "Good"
         ],
         "dtype": "int64",
         "stats": {
          "unique_count": 5,
          "nan_count": 0,
          "min": "1",
          "max": "26",
          "histogram": [
           {
            "bin_start": 1,
            "bin_end": 3.5,
            "count": 1
           },
           {
            "bin_start": 3.5,
            "bin_end": 6,
            "count": 1
           },
           {
            "bin_start": 6,
            "bin_end": 8.5,
            "count": 0
           },
           {
            "bin_start": 8.5,
            "bin_end": 11,
            "count": 1
           },
           {
            "bin_start": 11,
            "bin_end": 13.5,
            "count": 1
           },
           {
            "bin_start": 13.5,
            "bin_end": 16,
            "count": 0
           },
           {
            "bin_start": 16,
            "bin_end": 18.5,
            "count": 0
           },
           {
            "bin_start": 18.5,
            "bin_end": 21,
            "count": 0
           },
           {
            "bin_start": 21,
            "bin_end": 23.5,
            "count": 0
           },
           {
            "bin_start": 23.5,
            "bin_end": 26,
            "count": 1
           }
          ]
         }
        },
        {
         "name": [
          1,
          "Poor"
         ],
         "dtype": "int64",
         "stats": {
          "unique_count": 2,
          "nan_count": 0,
          "min": "0",
          "max": "1",
          "histogram": [
           {
            "bin_start": 0,
            "bin_end": 0.1,
            "count": 3
           },
           {
            "bin_start": 0.1,
            "bin_end": 0.2,
            "count": 0
           },
           {
            "bin_start": 0.2,
            "bin_end": 0.30000000000000004,
            "count": 0
           },
           {
            "bin_start": 0.30000000000000004,
            "bin_end": 0.4,
            "count": 0
           },
           {
            "bin_start": 0.4,
            "bin_end": 0.5,
            "count": 0
           },
           {
            "bin_start": 0.5,
            "bin_end": 0.6000000000000001,
            "count": 0
           },
           {
            "bin_start": 0.6000000000000001,
            "bin_end": 0.7000000000000001,
            "count": 0
           },
           {
            "bin_start": 0.7000000000000001,
            "bin_end": 0.8,
            "count": 0
           },
           {
            "bin_start": 0.8,
            "bin_end": 0.9,
            "count": 0
           },
           {
            "bin_start": 0.9,
            "bin_end": 1,
            "count": 2
           }
          ]
         }
        },
        {
         "name": [
          1,
          "Very Good"
         ],
         "dtype": "int64",
         "stats": {
          "unique_count": 5,
          "nan_count": 0,
          "min": "4",
          "max": "80",
          "histogram": [
           {
            "bin_start": 4,
            "bin_end": 11.6,
            "count": 2
           },
           {
            "bin_start": 11.6,
            "bin_end": 19.2,
            "count": 0
           },
           {
            "bin_start": 19.2,
            "bin_end": 26.799999999999997,
            "count": 0
           },
           {
            "bin_start": 26.799999999999997,
            "bin_end": 34.4,
            "count": 1
           },
           {
            "bin_start": 34.4,
            "bin_end": 42,
            "count": 1
           },
           {
            "bin_start": 42,
            "bin_end": 49.599999999999994,
            "count": 0
           },
           {
            "bin_start": 49.599999999999994,
            "bin_end": 57.199999999999996,
            "count": 0
           },
           {
            "bin_start": 57.199999999999996,
            "bin_end": 64.8,
            "count": 0
           },
           {
            "bin_start": 64.8,
            "bin_end": 72.39999999999999,
            "count": 0
           },
           {
            "bin_start": 72.39999999999999,
            "bin_end": 80,
            "count": 1
           }
          ]
         }
        },
        {
         "name": [
          "total",
          ""
         ],
         "dtype": "int64",
         "stats": {
          "unique_count": 5,
          "nan_count": 0,
          "min": "74",
          "max": "1180",
          "histogram": [
           {
            "bin_start": 74,
            "bin_end": 184.6,
            "count": 1
           },
           {
            "bin_start": 184.6,
            "bin_end": 295.2,
            "count": 1
           },
           {
            "bin_start": 295.2,
            "bin_end": 405.79999999999995,
            "count": 1
           },
           {
            "bin_start": 405.79999999999995,
            "bin_end": 516.4,
            "count": 1
           },
           {
            "bin_start": 516.4,
            "bin_end": 627,
            "count": 0
           },
           {
            "bin_start": 627,
            "bin_end": 737.5999999999999,
            "count": 0
           },
           {
            "bin_start": 737.5999999999999,
            "bin_end": 848.1999999999999,
            "count": 0
           },
           {
            "bin_start": 848.1999999999999,
            "bin_end": 958.8,
            "count": 0
           },
           {
            "bin_start": 958.8,
            "bin_end": 1069.4,
            "count": 0
           },
           {
            "bin_start": 1069.4,
            "bin_end": 1180,
            "count": 1
           }
          ]
         }
        },
        {
         "name": "_deepnote_index_column",
         "dtype": "object"
        }
       ],
       "rows_top": [
        {
         "(0, 'Average')": 12,
         "(0, 'Excellent')": 8,
         "(0, 'Good')": 32,
         "(0, 'Not rated')": 1,
         "(0, 'Poor')": 0,
         "(0, 'Very Good')": 15,
         "(1, 'Average')": 0,
         "(1, 'Excellent')": 1,
         "(1, 'Good')": 1,
         "(1, 'Poor')": 0,
         "(1, 'Very Good')": 4,
         "('total', '')": 74,
         "_deepnote_index_column": "1"
        },
        {
         "(0, 'Average')": 47,
         "(0, 'Excellent')": 30,
         "(0, 'Good')": 104,
         "(0, 'Not rated')": 3,
         "(0, 'Poor')": 1,
         "(0, 'Very Good')": 99,
         "(1, 'Average')": 0,
         "(1, 'Excellent')": 7,
         "(1, 'Good')": 12,
         "(1, 'Poor')": 1,
         "(1, 'Very Good')": 33,
         "('total', '')": 337,
         "_deepnote_index_column": "2"
        },
        {
         "(0, 'Average')": 40,
         "(0, 'Excellent')": 70,
         "(0, 'Good')": 132,
         "(0, 'Not rated')": 3,
         "(0, 'Poor')": 1,
         "(0, 'Very Good')": 183,
         "(1, 'Average')": 1,
         "(1, 'Excellent')": 14,
         "(1, 'Good')": 9,
         "(1, 'Poor')": 0,
         "(1, 'Very Good')": 35,
         "('total', '')": 488,
         "_deepnote_index_column": "3"
        },
        {
         "(0, 'Average')": 19,
         "(0, 'Excellent')": 61,
         "(0, 'Good')": 52,
         "(0, 'Not rated')": 19,
         "(0, 'Poor')": 2,
         "(0, 'Very Good')": 113,
         "(1, 'Average')": 0,
         "(1, 'Excellent')": 3,
         "(1, 'Good')": 4,
         "(1, 'Poor')": 0,
         "(1, 'Very Good')": 8,
         "('total', '')": 281,
         "_deepnote_index_column": "4"
        },
        {
         "(0, 'Average')": 118,
         "(0, 'Excellent')": 169,
         "(0, 'Good')": 320,
         "(0, 'Not rated')": 26,
         "(0, 'Poor')": 4,
         "(0, 'Very Good')": 410,
         "(1, 'Average')": 1,
         "(1, 'Excellent')": 25,
         "(1, 'Good')": 26,
         "(1, 'Poor')": 1,
         "(1, 'Very Good')": 80,
         "('total', '')": 1180,
         "_deepnote_index_column": "total"
        }
       ],
       "rows_bottom": null
      },
      "text/plain": "has_online_delivery       0                                               1  \\\nuser_rating         Average Excellent Good Not rated Poor Very Good Average   \nprice_range                                                                   \n1                        12         8   32         1    0        15       0   \n2                        47        30  104         3    1        99       0   \n3                        40        70  132         3    1       183       1   \n4                        19        61   52        19    2       113       0   \ntotal                   118       169  320        26    4       410       1   \n\nhas_online_delivery                               total  \nuser_rating         Excellent Good Poor Very Good        \nprice_range                                              \n1                           1    1    0         4    74  \n2                           7   12    1        33   337  \n3                          14    9    0        35   488  \n4                           3    4    0         8   281  \ntotal                      25   26    1        80  1180  ",
      "text/html": "<div>\n<style scoped>\n    .dataframe tbody tr th:only-of-type {\n        vertical-align: middle;\n    }\n\n    .dataframe tbody tr th {\n        vertical-align: top;\n    }\n\n    .dataframe thead tr th {\n        text-align: left;\n    }\n\n    .dataframe thead tr:last-of-type th {\n        text-align: right;\n    }\n</style>\n<table border=\"1\" class=\"dataframe\">\n  <thead>\n    <tr>\n      <th>has_online_delivery</th>\n      <th colspan=\"6\" halign=\"left\">0</th>\n      <th colspan=\"5\" halign=\"left\">1</th>\n      <th>total</th>\n    </tr>\n    <tr>\n      <th>user_rating</th>\n      <th>Average</th>\n      <th>Excellent</th>\n      <th>Good</th>\n      <th>Not rated</th>\n      <th>Poor</th>\n      <th>Very Good</th>\n      <th>Average</th>\n      <th>Excellent</th>\n      <th>Good</th>\n      <th>Poor</th>\n      <th>Very Good</th>\n      <th></th>\n    </tr>\n    <tr>\n      <th>price_range</th>\n      <th></th>\n      <th></th>\n      <th></th>\n      <th></th>\n      <th></th>\n      <th></th>\n      <th></th>\n      <th></th>\n      <th></th>\n      <th></th>\n      <th></th>\n      <th></th>\n    </tr>\n  </thead>\n  <tbody>\n    <tr>\n      <th>1</th>\n      <td>12</td>\n      <td>8</td>\n      <td>32</td>\n      <td>1</td>\n      <td>0</td>\n      <td>15</td>\n      <td>0</td>\n      <td>1</td>\n      <td>1</td>\n      <td>0</td>\n      <td>4</td>\n      <td>74</td>\n    </tr>\n    <tr>\n      <th>2</th>\n      <td>47</td>\n      <td>30</td>\n      <td>104</td>\n      <td>3</td>\n      <td>1</td>\n      <td>99</td>\n      <td>0</td>\n      <td>7</td>\n      <td>12</td>\n      <td>1</td>\n      <td>33</td>\n      <td>337</td>\n    </tr>\n    <tr>\n      <th>3</th>\n      <td>40</td>\n      <td>70</td>\n      <td>132</td>\n      <td>3</td>\n      <td>1</td>\n      <td>183</td>\n      <td>1</td>\n      <td>14</td>\n      <td>9</td>\n      <td>0</td>\n      <td>35</td>\n      <td>488</td>\n    </tr>\n    <tr>\n      <th>4</th>\n      <td>19</td>\n      <td>61</td>\n      <td>52</td>\n      <td>19</td>\n      <td>2</td>\n      <td>113</td>\n      <td>0</td>\n      <td>3</td>\n      <td>4</td>\n      <td>0</td>\n      <td>8</td>\n      <td>281</td>\n    </tr>\n    <tr>\n      <th>total</th>\n      <td>118</td>\n      <td>169</td>\n      <td>320</td>\n      <td>26</td>\n      <td>4</td>\n      <td>410</td>\n      <td>1</td>\n      <td>25</td>\n      <td>26</td>\n      <td>1</td>\n      <td>80</td>\n      <td>1180</td>\n    </tr>\n  </tbody>\n</table>\n</div>"
     },
     "metadata": {}
    }
   ]
  },
  {
   "cell_type": "markdown",
   "source": "### Múltiples niveles en columnas\n\nEs un buen momento para aprender a indexar múltiples niveles en columnas. Recordarás que los multiíndices en filas se indexan de la siguiente forma:\n\ndf.loc[(primer_indice, segundo_indice)]\n\nCuando tenemos múltiples niveles en las columnas, simplemente pasamos como primer valor nuestra indexación por filas, y después una tupla con la indexación por columnas:",
   "metadata": {
    "cell_id": "00010-5d61ab16-4ae1-45d2-9d40-024c4690f122",
    "deepnote_cell_type": "markdown"
   }
  },
  {
   "cell_type": "code",
   "metadata": {
    "cell_id": "00011-67cd78d8-249e-4910-bfe8-82a942cfe89d",
    "deepnote_cell_type": "code"
   },
   "source": "crosstab = pd.crosstab(df['price_range'], [df['has_online_delivery'], df['user_rating']])",
   "execution_count": null,
   "outputs": []
  },
  {
   "cell_type": "code",
   "metadata": {
    "cell_id": "00012-532b8bf4-8570-4fe3-aa80-d8db817b197a",
    "deepnote_cell_type": "code"
   },
   "source": "crosstab",
   "execution_count": null,
   "outputs": [
    {
     "data": {
      "text/html": "<div>\n<style scoped>\n    .dataframe tbody tr th:only-of-type {\n        vertical-align: middle;\n    }\n\n    .dataframe tbody tr th {\n        vertical-align: top;\n    }\n\n    .dataframe thead tr th {\n        text-align: left;\n    }\n\n    .dataframe thead tr:last-of-type th {\n        text-align: right;\n    }\n</style>\n<table border=\"1\" class=\"dataframe\">\n  <thead>\n    <tr>\n      <th>has_online_delivery</th>\n      <th colspan=\"6\" halign=\"left\">0</th>\n      <th colspan=\"5\" halign=\"left\">1</th>\n    </tr>\n    <tr>\n      <th>user_rating</th>\n      <th>Average</th>\n      <th>Excellent</th>\n      <th>Good</th>\n      <th>Not rated</th>\n      <th>Poor</th>\n      <th>Very Good</th>\n      <th>Average</th>\n      <th>Excellent</th>\n      <th>Good</th>\n      <th>Poor</th>\n      <th>Very Good</th>\n    </tr>\n    <tr>\n      <th>price_range</th>\n      <th></th>\n      <th></th>\n      <th></th>\n      <th></th>\n      <th></th>\n      <th></th>\n      <th></th>\n      <th></th>\n      <th></th>\n      <th></th>\n      <th></th>\n    </tr>\n  </thead>\n  <tbody>\n    <tr>\n      <th>1</th>\n      <td>12</td>\n      <td>8</td>\n      <td>32</td>\n      <td>1</td>\n      <td>0</td>\n      <td>15</td>\n      <td>0</td>\n      <td>1</td>\n      <td>1</td>\n      <td>0</td>\n      <td>4</td>\n    </tr>\n    <tr>\n      <th>2</th>\n      <td>47</td>\n      <td>30</td>\n      <td>104</td>\n      <td>3</td>\n      <td>1</td>\n      <td>99</td>\n      <td>0</td>\n      <td>7</td>\n      <td>12</td>\n      <td>1</td>\n      <td>33</td>\n    </tr>\n    <tr>\n      <th>3</th>\n      <td>40</td>\n      <td>70</td>\n      <td>132</td>\n      <td>3</td>\n      <td>1</td>\n      <td>183</td>\n      <td>1</td>\n      <td>14</td>\n      <td>9</td>\n      <td>0</td>\n      <td>35</td>\n    </tr>\n    <tr>\n      <th>4</th>\n      <td>19</td>\n      <td>61</td>\n      <td>52</td>\n      <td>19</td>\n      <td>2</td>\n      <td>113</td>\n      <td>0</td>\n      <td>3</td>\n      <td>4</td>\n      <td>0</td>\n      <td>8</td>\n    </tr>\n  </tbody>\n</table>\n</div>",
      "text/plain": "has_online_delivery       0                                               1  \\\nuser_rating         Average Excellent Good Not rated Poor Very Good Average   \nprice_range                                                                   \n1                        12         8   32         1    0        15       0   \n2                        47        30  104         3    1        99       0   \n3                        40        70  132         3    1       183       1   \n4                        19        61   52        19    2       113       0   \n\nhas_online_delivery                                \nuser_rating         Excellent Good Poor Very Good  \nprice_range                                        \n1                           1    1    0         4  \n2                           7   12    1        33  \n3                          14    9    0        35  \n4                           3    4    0         8  "
     },
     "execution_count": 27,
     "metadata": {},
     "output_type": "execute_result"
    }
   ]
  },
  {
   "cell_type": "code",
   "metadata": {
    "cell_id": "00013-b55f8b4c-42d9-4288-8864-15c6b9ee12f6",
    "deepnote_cell_type": "code"
   },
   "source": "crosstab.loc[:, (0)]",
   "execution_count": null,
   "outputs": [
    {
     "data": {
      "text/html": "<div>\n<style scoped>\n    .dataframe tbody tr th:only-of-type {\n        vertical-align: middle;\n    }\n\n    .dataframe tbody tr th {\n        vertical-align: top;\n    }\n\n    .dataframe thead th {\n        text-align: right;\n    }\n</style>\n<table border=\"1\" class=\"dataframe\">\n  <thead>\n    <tr style=\"text-align: right;\">\n      <th>user_rating</th>\n      <th>Average</th>\n      <th>Excellent</th>\n      <th>Good</th>\n      <th>Not rated</th>\n      <th>Poor</th>\n      <th>Very Good</th>\n    </tr>\n    <tr>\n      <th>price_range</th>\n      <th></th>\n      <th></th>\n      <th></th>\n      <th></th>\n      <th></th>\n      <th></th>\n    </tr>\n  </thead>\n  <tbody>\n    <tr>\n      <th>1</th>\n      <td>12</td>\n      <td>8</td>\n      <td>32</td>\n      <td>1</td>\n      <td>0</td>\n      <td>15</td>\n    </tr>\n    <tr>\n      <th>2</th>\n      <td>47</td>\n      <td>30</td>\n      <td>104</td>\n      <td>3</td>\n      <td>1</td>\n      <td>99</td>\n    </tr>\n    <tr>\n      <th>3</th>\n      <td>40</td>\n      <td>70</td>\n      <td>132</td>\n      <td>3</td>\n      <td>1</td>\n      <td>183</td>\n    </tr>\n    <tr>\n      <th>4</th>\n      <td>19</td>\n      <td>61</td>\n      <td>52</td>\n      <td>19</td>\n      <td>2</td>\n      <td>113</td>\n    </tr>\n  </tbody>\n</table>\n</div>",
      "text/plain": "user_rating  Average  Excellent  Good  Not rated  Poor  Very Good\nprice_range                                                      \n1                 12          8    32          1     0         15\n2                 47         30   104          3     1         99\n3                 40         70   132          3     1        183\n4                 19         61    52         19     2        113"
     },
     "execution_count": 32,
     "metadata": {},
     "output_type": "execute_result"
    }
   ]
  },
  {
   "cell_type": "code",
   "metadata": {
    "cell_id": "00014-2c792293-d744-419c-b568-437b0ee03207",
    "deepnote_cell_type": "code"
   },
   "source": "crosstab.loc[:, (1, 'Poor')]",
   "execution_count": null,
   "outputs": [
    {
     "data": {
      "text/plain": "price_range\n1    0\n2    1\n3    0\n4    0\nName: (1, Poor), dtype: int64"
     },
     "execution_count": 33,
     "metadata": {},
     "output_type": "execute_result"
    }
   ]
  },
  {
   "cell_type": "markdown",
   "source": "Aquí hemos obtenido la columna 'Poor' del grupo `has_online_delivery == 1`.",
   "metadata": {
    "cell_id": "00015-c44daced-bec9-475c-9b64-72834f9e29a6",
    "deepnote_cell_type": "markdown"
   }
  },
  {
   "cell_type": "markdown",
   "source": "---\n\nTambién otra cosa que podríamos hacer es usar el método `stack`. `stack` lo que hace es tomar una de nuestras columnas y convertirla en índice. Si le pedimos que haga el `stack` en el nivel 0, convertirá el nivel 'has_online_delivery' en índice:",
   "metadata": {
    "cell_id": "00016-9af177ee-adf0-4615-9b5a-7561fe39c228",
    "deepnote_cell_type": "markdown"
   }
  },
  {
   "cell_type": "code",
   "metadata": {
    "cell_id": "00017-e9876caf-d0c0-45d7-93d3-c6f528ef6a6f",
    "deepnote_cell_type": "code"
   },
   "source": "crosstab.stack(level=0)",
   "execution_count": null,
   "outputs": [
    {
     "data": {
      "text/html": "<div>\n<style scoped>\n    .dataframe tbody tr th:only-of-type {\n        vertical-align: middle;\n    }\n\n    .dataframe tbody tr th {\n        vertical-align: top;\n    }\n\n    .dataframe thead th {\n        text-align: right;\n    }\n</style>\n<table border=\"1\" class=\"dataframe\">\n  <thead>\n    <tr style=\"text-align: right;\">\n      <th></th>\n      <th>user_rating</th>\n      <th>Average</th>\n      <th>Excellent</th>\n      <th>Good</th>\n      <th>Not rated</th>\n      <th>Poor</th>\n      <th>Very Good</th>\n    </tr>\n    <tr>\n      <th>price_range</th>\n      <th>has_online_delivery</th>\n      <th></th>\n      <th></th>\n      <th></th>\n      <th></th>\n      <th></th>\n      <th></th>\n    </tr>\n  </thead>\n  <tbody>\n    <tr>\n      <th rowspan=\"2\" valign=\"top\">1</th>\n      <th>0</th>\n      <td>12</td>\n      <td>8</td>\n      <td>32</td>\n      <td>1.0</td>\n      <td>0</td>\n      <td>15</td>\n    </tr>\n    <tr>\n      <th>1</th>\n      <td>0</td>\n      <td>1</td>\n      <td>1</td>\n      <td>NaN</td>\n      <td>0</td>\n      <td>4</td>\n    </tr>\n    <tr>\n      <th rowspan=\"2\" valign=\"top\">2</th>\n      <th>0</th>\n      <td>47</td>\n      <td>30</td>\n      <td>104</td>\n      <td>3.0</td>\n      <td>1</td>\n      <td>99</td>\n    </tr>\n    <tr>\n      <th>1</th>\n      <td>0</td>\n      <td>7</td>\n      <td>12</td>\n      <td>NaN</td>\n      <td>1</td>\n      <td>33</td>\n    </tr>\n    <tr>\n      <th rowspan=\"2\" valign=\"top\">3</th>\n      <th>0</th>\n      <td>40</td>\n      <td>70</td>\n      <td>132</td>\n      <td>3.0</td>\n      <td>1</td>\n      <td>183</td>\n    </tr>\n    <tr>\n      <th>1</th>\n      <td>1</td>\n      <td>14</td>\n      <td>9</td>\n      <td>NaN</td>\n      <td>0</td>\n      <td>35</td>\n    </tr>\n    <tr>\n      <th rowspan=\"2\" valign=\"top\">4</th>\n      <th>0</th>\n      <td>19</td>\n      <td>61</td>\n      <td>52</td>\n      <td>19.0</td>\n      <td>2</td>\n      <td>113</td>\n    </tr>\n    <tr>\n      <th>1</th>\n      <td>0</td>\n      <td>3</td>\n      <td>4</td>\n      <td>NaN</td>\n      <td>0</td>\n      <td>8</td>\n    </tr>\n  </tbody>\n</table>\n</div>",
      "text/plain": "user_rating                      Average  Excellent  Good  Not rated  Poor  \\\nprice_range has_online_delivery                                              \n1           0                         12          8    32        1.0     0   \n            1                          0          1     1        NaN     0   \n2           0                         47         30   104        3.0     1   \n            1                          0          7    12        NaN     1   \n3           0                         40         70   132        3.0     1   \n            1                          1         14     9        NaN     0   \n4           0                         19         61    52       19.0     2   \n            1                          0          3     4        NaN     0   \n\nuser_rating                      Very Good  \nprice_range has_online_delivery             \n1           0                           15  \n            1                            4  \n2           0                           99  \n            1                           33  \n3           0                          183  \n            1                           35  \n4           0                          113  \n            1                            8  "
     },
     "execution_count": 34,
     "metadata": {},
     "output_type": "execute_result"
    }
   ]
  },
  {
   "cell_type": "code",
   "metadata": {
    "cell_id": "00018-9b85f3ce-153f-4638-b518-98bd9643a91e",
    "deepnote_cell_type": "code"
   },
   "source": "stack_level_0 = crosstab.stack(level=0)\n\nstack_level_0.loc[(2)]",
   "execution_count": null,
   "outputs": [
    {
     "data": {
      "text/html": "<div>\n<style scoped>\n    .dataframe tbody tr th:only-of-type {\n        vertical-align: middle;\n    }\n\n    .dataframe tbody tr th {\n        vertical-align: top;\n    }\n\n    .dataframe thead th {\n        text-align: right;\n    }\n</style>\n<table border=\"1\" class=\"dataframe\">\n  <thead>\n    <tr style=\"text-align: right;\">\n      <th>user_rating</th>\n      <th>Average</th>\n      <th>Excellent</th>\n      <th>Good</th>\n      <th>Not rated</th>\n      <th>Poor</th>\n      <th>Very Good</th>\n    </tr>\n    <tr>\n      <th>has_online_delivery</th>\n      <th></th>\n      <th></th>\n      <th></th>\n      <th></th>\n      <th></th>\n      <th></th>\n    </tr>\n  </thead>\n  <tbody>\n    <tr>\n      <th>0</th>\n      <td>47</td>\n      <td>30</td>\n      <td>104</td>\n      <td>3.0</td>\n      <td>1</td>\n      <td>99</td>\n    </tr>\n    <tr>\n      <th>1</th>\n      <td>0</td>\n      <td>7</td>\n      <td>12</td>\n      <td>NaN</td>\n      <td>1</td>\n      <td>33</td>\n    </tr>\n  </tbody>\n</table>\n</div>",
      "text/plain": "user_rating          Average  Excellent  Good  Not rated  Poor  Very Good\nhas_online_delivery                                                      \n0                         47         30   104        3.0     1         99\n1                          0          7    12        NaN     1         33"
     },
     "execution_count": 37,
     "metadata": {},
     "output_type": "execute_result"
    }
   ]
  },
  {
   "cell_type": "code",
   "metadata": {
    "cell_id": "00019-fdaa0dc2-4c67-4944-97ad-d5d959485d11",
    "deepnote_cell_type": "code"
   },
   "source": "stack_level_0.loc[(2, 1)]",
   "execution_count": null,
   "outputs": [
    {
     "data": {
      "text/plain": "user_rating\nAverage       0.0\nExcellent     7.0\nGood         12.0\nNot rated     NaN\nPoor          1.0\nVery Good    33.0\nName: (2, 1), dtype: float64"
     },
     "execution_count": 38,
     "metadata": {},
     "output_type": "execute_result"
    }
   ]
  },
  {
   "cell_type": "markdown",
   "source": "Si hacemos el stack por el nivel 1, obtenemos lo siguiente:",
   "metadata": {
    "cell_id": "00020-62b633eb-b5ae-44d8-b661-5188f4e522e7",
    "deepnote_cell_type": "markdown"
   }
  },
  {
   "cell_type": "code",
   "metadata": {
    "cell_id": "00021-c50bd4d6-42ec-4416-9795-645614442d30",
    "deepnote_cell_type": "code"
   },
   "source": "crosstab.stack(level=1)",
   "execution_count": null,
   "outputs": [
    {
     "data": {
      "text/html": "<div>\n<style scoped>\n    .dataframe tbody tr th:only-of-type {\n        vertical-align: middle;\n    }\n\n    .dataframe tbody tr th {\n        vertical-align: top;\n    }\n\n    .dataframe thead th {\n        text-align: right;\n    }\n</style>\n<table border=\"1\" class=\"dataframe\">\n  <thead>\n    <tr style=\"text-align: right;\">\n      <th></th>\n      <th>has_online_delivery</th>\n      <th>0</th>\n      <th>1</th>\n    </tr>\n    <tr>\n      <th>price_range</th>\n      <th>user_rating</th>\n      <th></th>\n      <th></th>\n    </tr>\n  </thead>\n  <tbody>\n    <tr>\n      <th rowspan=\"6\" valign=\"top\">1</th>\n      <th>Average</th>\n      <td>12</td>\n      <td>0.0</td>\n    </tr>\n    <tr>\n      <th>Excellent</th>\n      <td>8</td>\n      <td>1.0</td>\n    </tr>\n    <tr>\n      <th>Good</th>\n      <td>32</td>\n      <td>1.0</td>\n    </tr>\n    <tr>\n      <th>Not rated</th>\n      <td>1</td>\n      <td>NaN</td>\n    </tr>\n    <tr>\n      <th>Poor</th>\n      <td>0</td>\n      <td>0.0</td>\n    </tr>\n    <tr>\n      <th>Very Good</th>\n      <td>15</td>\n      <td>4.0</td>\n    </tr>\n    <tr>\n      <th rowspan=\"6\" valign=\"top\">2</th>\n      <th>Average</th>\n      <td>47</td>\n      <td>0.0</td>\n    </tr>\n    <tr>\n      <th>Excellent</th>\n      <td>30</td>\n      <td>7.0</td>\n    </tr>\n    <tr>\n      <th>Good</th>\n      <td>104</td>\n      <td>12.0</td>\n    </tr>\n    <tr>\n      <th>Not rated</th>\n      <td>3</td>\n      <td>NaN</td>\n    </tr>\n    <tr>\n      <th>Poor</th>\n      <td>1</td>\n      <td>1.0</td>\n    </tr>\n    <tr>\n      <th>Very Good</th>\n      <td>99</td>\n      <td>33.0</td>\n    </tr>\n    <tr>\n      <th rowspan=\"6\" valign=\"top\">3</th>\n      <th>Average</th>\n      <td>40</td>\n      <td>1.0</td>\n    </tr>\n    <tr>\n      <th>Excellent</th>\n      <td>70</td>\n      <td>14.0</td>\n    </tr>\n    <tr>\n      <th>Good</th>\n      <td>132</td>\n      <td>9.0</td>\n    </tr>\n    <tr>\n      <th>Not rated</th>\n      <td>3</td>\n      <td>NaN</td>\n    </tr>\n    <tr>\n      <th>Poor</th>\n      <td>1</td>\n      <td>0.0</td>\n    </tr>\n    <tr>\n      <th>Very Good</th>\n      <td>183</td>\n      <td>35.0</td>\n    </tr>\n    <tr>\n      <th rowspan=\"6\" valign=\"top\">4</th>\n      <th>Average</th>\n      <td>19</td>\n      <td>0.0</td>\n    </tr>\n    <tr>\n      <th>Excellent</th>\n      <td>61</td>\n      <td>3.0</td>\n    </tr>\n    <tr>\n      <th>Good</th>\n      <td>52</td>\n      <td>4.0</td>\n    </tr>\n    <tr>\n      <th>Not rated</th>\n      <td>19</td>\n      <td>NaN</td>\n    </tr>\n    <tr>\n      <th>Poor</th>\n      <td>2</td>\n      <td>0.0</td>\n    </tr>\n    <tr>\n      <th>Very Good</th>\n      <td>113</td>\n      <td>8.0</td>\n    </tr>\n  </tbody>\n</table>\n</div>",
      "text/plain": "has_online_delivery        0     1\nprice_range user_rating           \n1           Average       12   0.0\n            Excellent      8   1.0\n            Good          32   1.0\n            Not rated      1   NaN\n            Poor           0   0.0\n            Very Good     15   4.0\n2           Average       47   0.0\n            Excellent     30   7.0\n            Good         104  12.0\n            Not rated      3   NaN\n            Poor           1   1.0\n            Very Good     99  33.0\n3           Average       40   1.0\n            Excellent     70  14.0\n            Good         132   9.0\n            Not rated      3   NaN\n            Poor           1   0.0\n            Very Good    183  35.0\n4           Average       19   0.0\n            Excellent     61   3.0\n            Good          52   4.0\n            Not rated     19   NaN\n            Poor           2   0.0\n            Very Good    113   8.0"
     },
     "execution_count": 39,
     "metadata": {},
     "output_type": "execute_result"
    }
   ]
  },
  {
   "cell_type": "markdown",
   "source": "¡Esto es otro nivel de manipulaciónd de DataFrames!",
   "metadata": {
    "cell_id": "00022-f7edc633-1bdb-4251-a250-63e5fb415e70",
    "deepnote_cell_type": "markdown"
   }
  },
  {
   "cell_type": "markdown",
   "source": "<a style='text-decoration:none;line-height:16px;display:flex;color:#5B5B62;padding:10px;justify-content:end;' href='https://deepnote.com?utm_source=created-in-deepnote-cell&projectId=f8149d1c-e6b1-497a-9109-f01641a8231a' target=\"_blank\">\n<img alt='Created in deepnote.com' style='display:inline;max-height:16px;margin:0px;margin-right:7.5px;' src='data:image/svg+xml;base64,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' > </img>\nCreated in <span style='font-weight:600;margin-left:4px;'>Deepnote</span></a>",
   "metadata": {
    "tags": [],
    "created_in_deepnote_cell": true,
    "deepnote_cell_type": "markdown"
   }
  }
 ],
 "nbformat": 4,
 "nbformat_minor": 4,
 "metadata": {
  "kernelspec": {
   "display_name": "Python (data_science)",
   "language": "python",
   "name": "data_science"
  },
  "language_info": {
   "codemirror_mode": {
    "name": "ipython",
    "version": 3
   },
   "file_extension": ".py",
   "mimetype": "text/x-python",
   "name": "python",
   "nbconvert_exporter": "python",
   "pygments_lexer": "ipython3",
   "version": "3.8.1"
  },
  "deepnote_notebook_id": "13cf0111-59cd-4bfc-ab71-21a3235c9250",
  "deepnote": {},
  "deepnote_execution_queue": []
 }
}